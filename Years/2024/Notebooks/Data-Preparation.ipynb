{
 "cells": [
  {
   "cell_type": "markdown",
   "source": [
    "# Michelin Rated Restaurants"
   ],
   "metadata": {
    "collapsed": false
   }
  },
  {
   "cell_type": "code",
   "execution_count": 1,
   "metadata": {
    "collapsed": true,
    "ExecuteTime": {
     "end_time": "2024-04-24T20:12:07.125834Z",
     "start_time": "2024-04-24T20:12:06.008986Z"
    }
   },
   "outputs": [],
   "source": [
    "import pandas as pd"
   ]
  },
  {
   "cell_type": "markdown",
   "source": [
    "## Initial Exploration & Preparation of Data"
   ],
   "metadata": {
    "collapsed": false
   }
  },
  {
   "cell_type": "code",
   "execution_count": 2,
   "outputs": [
    {
     "data": {
      "text/plain": "                        Name  \\\n0                      Taian   \n1                     Hyotei   \n2                     HAJIME   \n3             Kikunoi Honten   \n4        Isshisoden Nakamura   \n5                      Mizai   \n6                Gion Sasaki   \n7  Kashiwaya Osaka Senriyama   \n8                    ES:SENZ   \n9          Waldhotel Sonnora   \n\n                                             Address          Location Price  \\\n0  1-21-2 Shimanouchi, Chuo-ku, Osaka, 542-0082, ...      Osaka, Japan   ¥¥¥   \n1  35 Nanzenji Kusagawacho, Sakyo-ku, Kyoto, 606-...      Kyoto, Japan  ¥¥¥¥   \n2   1-9-11 Edobori, Nishi-ku, Osaka, 550-0002, Japan      Osaka, Japan  ¥¥¥¥   \n3  459 Shimokawaracho, Higashiyama-ku, Kyoto, 605...      Kyoto, Japan  ¥¥¥¥   \n4  136 Matsushitacho, Nakagyo-ku, Kyoto, 604-8093...      Kyoto, Japan  ¥¥¥¥   \n5  613 Maruyamacho, Higashiyama-ku, Kyoto, 605-00...      Kyoto, Japan  ¥¥¥¥   \n6  566-27 Komatsucho, Higashiyama-ku, Kyoto, 605-...      Kyoto, Japan  ¥¥¥¥   \n7  2-5-18 Senriyamanishi, Suita, Osaka, 565-0851,...      Osaka, Japan   ¥¥¥   \n8     Mietenkamer Straße 65, Grassau, 83224, Germany  Grassau, Germany  €€€€   \n9          Auf'm Eichelfeld 1, Dreis, 54518, Germany    Dreis, Germany  €€€€   \n\n                    Cuisine   Longitude   Latitude   PhoneNumber  \\\n0                  Japanese         NaN        NaN  8.166120e+10   \n1                  Japanese  135.786742  35.011355  8.175771e+10   \n2                Innovative  135.496084  34.688612  8.166448e+10   \n3                  Japanese  135.782079  35.001535  8.175561e+10   \n4                  Japanese  135.765083  35.010397  8.175222e+10   \n5                  Japanese  135.782364  35.002993  8.175551e+10   \n6                  Japanese  135.775049  34.998881  8.175552e+10   \n7                  Japanese  135.501289  34.770287  8.166386e+10   \n8  Creative, Modern Cuisine   12.465618  47.785630  4.986414e+11   \n9            Classic French    6.810934  49.937732  4.965790e+10   \n\n                                                 Url  \\\n0  https://guide.michelin.com/en/osaka-region/osa...   \n1  https://guide.michelin.com/en/kyoto-region/kyo...   \n2  https://guide.michelin.com/en/osaka-region/osa...   \n3  https://guide.michelin.com/en/kyoto-region/kyo...   \n4  https://guide.michelin.com/en/kyoto-region/kyo...   \n5  https://guide.michelin.com/en/kyoto-region/kyo...   \n6  https://guide.michelin.com/en/kyoto-region/kyo...   \n7  https://guide.michelin.com/en/osaka-region/osa...   \n8  https://guide.michelin.com/en/bayern/grassau/r...   \n9  https://guide.michelin.com/en/rheinland-pfalz/...   \n\n                          WebsiteUrl    Award  \\\n0                                NaN  3 Stars   \n1               http://hyotei.co.jp/  3 Stars   \n2    http://www.hajime-artistes.com/  3 Stars   \n3                https://kikunoi.jp/  3 Stars   \n4  http://www.kyoryori-nakamura.com/  3 Stars   \n5                  https://mizai.jp/  3 Stars   \n6             http://gionsasaki.com/  3 Stars   \n7          https://jp-kashiwaya.com/  3 Stars   \n8      https://www.das-achental.com/  3 Stars   \n9      https://www.hotel-sonnora.de/  3 Stars   \n\n                               FacilitiesAndServices  \\\n0                    Air conditioning,Counter dining   \n1    Air conditioning,Car park,Shoes must be removed   \n2  Air conditioning,Interesting wine list,Restaur...   \n3    Air conditioning,Car park,Shoes must be removed   \n4             Air conditioning,Shoes must be removed   \n5  Air conditioning,Cash only,Counter dining,Nota...   \n6  Air conditioning,Counter dining,Shoes must be ...   \n7  Air conditioning,Interesting wine list,Notable...   \n8    Air conditioning,Car park,Interesting wine list   \n9      Car park,Garden or park,Interesting wine list   \n\n                                         Description  \n0  Cuisine that does not change does not improve....  \n1  This traditional restaurant began its 450-year...  \n2  An artwork resembling a planet dominates the d...  \n3  The elegant garden and well-appointed ceremoni...  \n4  Isshisoden Nakamura started out as a business ...  \n5  ‘Mizai’ means ‘not there yet’, the creed by wh...  \n6  Gion Sasaki is tackling new challenges, where ...  \n7  The interior, ceremonial space and dining-ware...  \n8  Here in the restaurant of Das Achental hotel, ...  \n9  This legendary fine dining establishment has a...  ",
      "text/html": "<div>\n<style scoped>\n    .dataframe tbody tr th:only-of-type {\n        vertical-align: middle;\n    }\n\n    .dataframe tbody tr th {\n        vertical-align: top;\n    }\n\n    .dataframe thead th {\n        text-align: right;\n    }\n</style>\n<table border=\"1\" class=\"dataframe\">\n  <thead>\n    <tr style=\"text-align: right;\">\n      <th></th>\n      <th>Name</th>\n      <th>Address</th>\n      <th>Location</th>\n      <th>Price</th>\n      <th>Cuisine</th>\n      <th>Longitude</th>\n      <th>Latitude</th>\n      <th>PhoneNumber</th>\n      <th>Url</th>\n      <th>WebsiteUrl</th>\n      <th>Award</th>\n      <th>FacilitiesAndServices</th>\n      <th>Description</th>\n    </tr>\n  </thead>\n  <tbody>\n    <tr>\n      <th>0</th>\n      <td>Taian</td>\n      <td>1-21-2 Shimanouchi, Chuo-ku, Osaka, 542-0082, ...</td>\n      <td>Osaka, Japan</td>\n      <td>¥¥¥</td>\n      <td>Japanese</td>\n      <td>NaN</td>\n      <td>NaN</td>\n      <td>8.166120e+10</td>\n      <td>https://guide.michelin.com/en/osaka-region/osa...</td>\n      <td>NaN</td>\n      <td>3 Stars</td>\n      <td>Air conditioning,Counter dining</td>\n      <td>Cuisine that does not change does not improve....</td>\n    </tr>\n    <tr>\n      <th>1</th>\n      <td>Hyotei</td>\n      <td>35 Nanzenji Kusagawacho, Sakyo-ku, Kyoto, 606-...</td>\n      <td>Kyoto, Japan</td>\n      <td>¥¥¥¥</td>\n      <td>Japanese</td>\n      <td>135.786742</td>\n      <td>35.011355</td>\n      <td>8.175771e+10</td>\n      <td>https://guide.michelin.com/en/kyoto-region/kyo...</td>\n      <td>http://hyotei.co.jp/</td>\n      <td>3 Stars</td>\n      <td>Air conditioning,Car park,Shoes must be removed</td>\n      <td>This traditional restaurant began its 450-year...</td>\n    </tr>\n    <tr>\n      <th>2</th>\n      <td>HAJIME</td>\n      <td>1-9-11 Edobori, Nishi-ku, Osaka, 550-0002, Japan</td>\n      <td>Osaka, Japan</td>\n      <td>¥¥¥¥</td>\n      <td>Innovative</td>\n      <td>135.496084</td>\n      <td>34.688612</td>\n      <td>8.166448e+10</td>\n      <td>https://guide.michelin.com/en/osaka-region/osa...</td>\n      <td>http://www.hajime-artistes.com/</td>\n      <td>3 Stars</td>\n      <td>Air conditioning,Interesting wine list,Restaur...</td>\n      <td>An artwork resembling a planet dominates the d...</td>\n    </tr>\n    <tr>\n      <th>3</th>\n      <td>Kikunoi Honten</td>\n      <td>459 Shimokawaracho, Higashiyama-ku, Kyoto, 605...</td>\n      <td>Kyoto, Japan</td>\n      <td>¥¥¥¥</td>\n      <td>Japanese</td>\n      <td>135.782079</td>\n      <td>35.001535</td>\n      <td>8.175561e+10</td>\n      <td>https://guide.michelin.com/en/kyoto-region/kyo...</td>\n      <td>https://kikunoi.jp/</td>\n      <td>3 Stars</td>\n      <td>Air conditioning,Car park,Shoes must be removed</td>\n      <td>The elegant garden and well-appointed ceremoni...</td>\n    </tr>\n    <tr>\n      <th>4</th>\n      <td>Isshisoden Nakamura</td>\n      <td>136 Matsushitacho, Nakagyo-ku, Kyoto, 604-8093...</td>\n      <td>Kyoto, Japan</td>\n      <td>¥¥¥¥</td>\n      <td>Japanese</td>\n      <td>135.765083</td>\n      <td>35.010397</td>\n      <td>8.175222e+10</td>\n      <td>https://guide.michelin.com/en/kyoto-region/kyo...</td>\n      <td>http://www.kyoryori-nakamura.com/</td>\n      <td>3 Stars</td>\n      <td>Air conditioning,Shoes must be removed</td>\n      <td>Isshisoden Nakamura started out as a business ...</td>\n    </tr>\n    <tr>\n      <th>5</th>\n      <td>Mizai</td>\n      <td>613 Maruyamacho, Higashiyama-ku, Kyoto, 605-00...</td>\n      <td>Kyoto, Japan</td>\n      <td>¥¥¥¥</td>\n      <td>Japanese</td>\n      <td>135.782364</td>\n      <td>35.002993</td>\n      <td>8.175551e+10</td>\n      <td>https://guide.michelin.com/en/kyoto-region/kyo...</td>\n      <td>https://mizai.jp/</td>\n      <td>3 Stars</td>\n      <td>Air conditioning,Cash only,Counter dining,Nota...</td>\n      <td>‘Mizai’ means ‘not there yet’, the creed by wh...</td>\n    </tr>\n    <tr>\n      <th>6</th>\n      <td>Gion Sasaki</td>\n      <td>566-27 Komatsucho, Higashiyama-ku, Kyoto, 605-...</td>\n      <td>Kyoto, Japan</td>\n      <td>¥¥¥¥</td>\n      <td>Japanese</td>\n      <td>135.775049</td>\n      <td>34.998881</td>\n      <td>8.175552e+10</td>\n      <td>https://guide.michelin.com/en/kyoto-region/kyo...</td>\n      <td>http://gionsasaki.com/</td>\n      <td>3 Stars</td>\n      <td>Air conditioning,Counter dining,Shoes must be ...</td>\n      <td>Gion Sasaki is tackling new challenges, where ...</td>\n    </tr>\n    <tr>\n      <th>7</th>\n      <td>Kashiwaya Osaka Senriyama</td>\n      <td>2-5-18 Senriyamanishi, Suita, Osaka, 565-0851,...</td>\n      <td>Osaka, Japan</td>\n      <td>¥¥¥</td>\n      <td>Japanese</td>\n      <td>135.501289</td>\n      <td>34.770287</td>\n      <td>8.166386e+10</td>\n      <td>https://guide.michelin.com/en/osaka-region/osa...</td>\n      <td>https://jp-kashiwaya.com/</td>\n      <td>3 Stars</td>\n      <td>Air conditioning,Interesting wine list,Notable...</td>\n      <td>The interior, ceremonial space and dining-ware...</td>\n    </tr>\n    <tr>\n      <th>8</th>\n      <td>ES:SENZ</td>\n      <td>Mietenkamer Straße 65, Grassau, 83224, Germany</td>\n      <td>Grassau, Germany</td>\n      <td>€€€€</td>\n      <td>Creative, Modern Cuisine</td>\n      <td>12.465618</td>\n      <td>47.785630</td>\n      <td>4.986414e+11</td>\n      <td>https://guide.michelin.com/en/bayern/grassau/r...</td>\n      <td>https://www.das-achental.com/</td>\n      <td>3 Stars</td>\n      <td>Air conditioning,Car park,Interesting wine list</td>\n      <td>Here in the restaurant of Das Achental hotel, ...</td>\n    </tr>\n    <tr>\n      <th>9</th>\n      <td>Waldhotel Sonnora</td>\n      <td>Auf'm Eichelfeld 1, Dreis, 54518, Germany</td>\n      <td>Dreis, Germany</td>\n      <td>€€€€</td>\n      <td>Classic French</td>\n      <td>6.810934</td>\n      <td>49.937732</td>\n      <td>4.965790e+10</td>\n      <td>https://guide.michelin.com/en/rheinland-pfalz/...</td>\n      <td>https://www.hotel-sonnora.de/</td>\n      <td>3 Stars</td>\n      <td>Car park,Garden or park,Interesting wine list</td>\n      <td>This legendary fine dining establishment has a...</td>\n    </tr>\n  </tbody>\n</table>\n</div>"
     },
     "execution_count": 2,
     "metadata": {},
     "output_type": "execute_result"
    }
   ],
   "source": [
    "michelin = pd.read_csv(\"../data/Michelin/michelin_data_2024.csv\")\n",
    "michelin.head(10)"
   ],
   "metadata": {
    "collapsed": false,
    "ExecuteTime": {
     "end_time": "2024-04-24T20:12:07.221513Z",
     "start_time": "2024-04-24T20:12:07.127351Z"
    }
   }
  },
  {
   "cell_type": "code",
   "execution_count": 3,
   "outputs": [
    {
     "name": "stdout",
     "output_type": "stream",
     "text": [
      "Columns:\n",
      "['Name', 'Address', 'Location', 'Price', 'Cuisine', 'Longitude', 'Latitude', 'PhoneNumber', 'Url', 'WebsiteUrl', 'Award', 'FacilitiesAndServices', 'Description']\n"
     ]
    }
   ],
   "source": [
    "print(f\"Columns:\\n{michelin.columns.to_list()}\")"
   ],
   "metadata": {
    "collapsed": false,
    "ExecuteTime": {
     "end_time": "2024-04-24T20:12:07.227281Z",
     "start_time": "2024-04-24T20:12:07.223199Z"
    }
   }
  },
  {
   "cell_type": "markdown",
   "source": [
    "We aim to plot the coordinates on a map and search for population density correlation and compare UK and France.\n",
    "\n",
    "We drop `Url`, `PhoneNumber` and `FacilitiesAndService`. `Url` could perhaps become useful"
   ],
   "metadata": {
    "collapsed": false
   }
  },
  {
   "cell_type": "code",
   "execution_count": 4,
   "outputs": [
    {
     "data": {
      "text/plain": "                  Name                                            Address  \\\n0                Taian  1-21-2 Shimanouchi, Chuo-ku, Osaka, 542-0082, ...   \n1               Hyotei  35 Nanzenji Kusagawacho, Sakyo-ku, Kyoto, 606-...   \n2               HAJIME   1-9-11 Edobori, Nishi-ku, Osaka, 550-0002, Japan   \n3       Kikunoi Honten  459 Shimokawaracho, Higashiyama-ku, Kyoto, 605...   \n4  Isshisoden Nakamura  136 Matsushitacho, Nakagyo-ku, Kyoto, 604-8093...   \n\n       Location Price     Cuisine                         WebsiteUrl    Award  \\\n0  Osaka, Japan   ¥¥¥    Japanese                                NaN  3 Stars   \n1  Kyoto, Japan  ¥¥¥¥    Japanese               http://hyotei.co.jp/  3 Stars   \n2  Osaka, Japan  ¥¥¥¥  Innovative    http://www.hajime-artistes.com/  3 Stars   \n3  Kyoto, Japan  ¥¥¥¥    Japanese                https://kikunoi.jp/  3 Stars   \n4  Kyoto, Japan  ¥¥¥¥    Japanese  http://www.kyoryori-nakamura.com/  3 Stars   \n\n    Longitude   Latitude  \n0         NaN        NaN  \n1  135.786742  35.011355  \n2  135.496084  34.688612  \n3  135.782079  35.001535  \n4  135.765083  35.010397  ",
      "text/html": "<div>\n<style scoped>\n    .dataframe tbody tr th:only-of-type {\n        vertical-align: middle;\n    }\n\n    .dataframe tbody tr th {\n        vertical-align: top;\n    }\n\n    .dataframe thead th {\n        text-align: right;\n    }\n</style>\n<table border=\"1\" class=\"dataframe\">\n  <thead>\n    <tr style=\"text-align: right;\">\n      <th></th>\n      <th>Name</th>\n      <th>Address</th>\n      <th>Location</th>\n      <th>Price</th>\n      <th>Cuisine</th>\n      <th>WebsiteUrl</th>\n      <th>Award</th>\n      <th>Longitude</th>\n      <th>Latitude</th>\n    </tr>\n  </thead>\n  <tbody>\n    <tr>\n      <th>0</th>\n      <td>Taian</td>\n      <td>1-21-2 Shimanouchi, Chuo-ku, Osaka, 542-0082, ...</td>\n      <td>Osaka, Japan</td>\n      <td>¥¥¥</td>\n      <td>Japanese</td>\n      <td>NaN</td>\n      <td>3 Stars</td>\n      <td>NaN</td>\n      <td>NaN</td>\n    </tr>\n    <tr>\n      <th>1</th>\n      <td>Hyotei</td>\n      <td>35 Nanzenji Kusagawacho, Sakyo-ku, Kyoto, 606-...</td>\n      <td>Kyoto, Japan</td>\n      <td>¥¥¥¥</td>\n      <td>Japanese</td>\n      <td>http://hyotei.co.jp/</td>\n      <td>3 Stars</td>\n      <td>135.786742</td>\n      <td>35.011355</td>\n    </tr>\n    <tr>\n      <th>2</th>\n      <td>HAJIME</td>\n      <td>1-9-11 Edobori, Nishi-ku, Osaka, 550-0002, Japan</td>\n      <td>Osaka, Japan</td>\n      <td>¥¥¥¥</td>\n      <td>Innovative</td>\n      <td>http://www.hajime-artistes.com/</td>\n      <td>3 Stars</td>\n      <td>135.496084</td>\n      <td>34.688612</td>\n    </tr>\n    <tr>\n      <th>3</th>\n      <td>Kikunoi Honten</td>\n      <td>459 Shimokawaracho, Higashiyama-ku, Kyoto, 605...</td>\n      <td>Kyoto, Japan</td>\n      <td>¥¥¥¥</td>\n      <td>Japanese</td>\n      <td>https://kikunoi.jp/</td>\n      <td>3 Stars</td>\n      <td>135.782079</td>\n      <td>35.001535</td>\n    </tr>\n    <tr>\n      <th>4</th>\n      <td>Isshisoden Nakamura</td>\n      <td>136 Matsushitacho, Nakagyo-ku, Kyoto, 604-8093...</td>\n      <td>Kyoto, Japan</td>\n      <td>¥¥¥¥</td>\n      <td>Japanese</td>\n      <td>http://www.kyoryori-nakamura.com/</td>\n      <td>3 Stars</td>\n      <td>135.765083</td>\n      <td>35.010397</td>\n    </tr>\n  </tbody>\n</table>\n</div>"
     },
     "execution_count": 4,
     "metadata": {},
     "output_type": "execute_result"
    }
   ],
   "source": [
    "michelin = michelin[['Name', 'Address', 'Location', 'Price', 'Cuisine', 'WebsiteUrl', 'Award', 'Longitude', 'Latitude']]\n",
    "michelin.head()"
   ],
   "metadata": {
    "collapsed": false,
    "ExecuteTime": {
     "end_time": "2024-04-24T20:12:07.241672Z",
     "start_time": "2024-04-24T20:12:07.234963Z"
    }
   }
  },
  {
   "cell_type": "code",
   "execution_count": 5,
   "outputs": [],
   "source": [
    "# Columns are converted to lowercase for convenience\n",
    "michelin.columns = michelin.columns.str.lower()"
   ],
   "metadata": {
    "collapsed": false,
    "ExecuteTime": {
     "end_time": "2024-04-24T20:12:07.254780Z",
     "start_time": "2024-04-24T20:12:07.240256Z"
    }
   }
  },
  {
   "cell_type": "code",
   "execution_count": 6,
   "outputs": [
    {
     "name": "stdout",
     "output_type": "stream",
     "text": [
      "Columns:\n",
      "['name', 'address', 'location', 'price', 'cuisine', 'url', 'award', 'longitude', 'latitude']\n"
     ]
    }
   ],
   "source": [
    "michelin.rename({'websiteurl': 'url'}, axis=1, inplace=True)\n",
    "print(f\"Columns:\\n{michelin.columns.tolist()}\")"
   ],
   "metadata": {
    "collapsed": false,
    "ExecuteTime": {
     "end_time": "2024-04-24T20:12:07.266944Z",
     "start_time": "2024-04-24T20:12:07.244797Z"
    }
   }
  },
  {
   "cell_type": "code",
   "execution_count": 7,
   "outputs": [
    {
     "name": "stdout",
     "output_type": "stream",
     "text": [
      "<class 'pandas.core.frame.DataFrame'>\n",
      "RangeIndex: 6700 entries, 0 to 6699\n",
      "Data columns (total 9 columns):\n",
      " #   Column     Non-Null Count  Dtype  \n",
      "---  ------     --------------  -----  \n",
      " 0   name       6700 non-null   object \n",
      " 1   address    6700 non-null   object \n",
      " 2   location   6700 non-null   object \n",
      " 3   price      6698 non-null   object \n",
      " 4   cuisine    6700 non-null   object \n",
      " 5   url        5515 non-null   object \n",
      " 6   award      6700 non-null   object \n",
      " 7   longitude  6363 non-null   float64\n",
      " 8   latitude   6363 non-null   float64\n",
      "dtypes: float64(2), object(7)\n",
      "memory usage: 471.2+ KB\n"
     ]
    }
   ],
   "source": [
    "michelin.info()"
   ],
   "metadata": {
    "collapsed": false,
    "ExecuteTime": {
     "end_time": "2024-04-24T20:12:07.309634Z",
     "start_time": "2024-04-24T20:12:07.254173Z"
    }
   }
  },
  {
   "cell_type": "markdown",
   "source": [
    "There exist missing values which will be dealt with once partitioned by location"
   ],
   "metadata": {
    "collapsed": false
   }
  },
  {
   "cell_type": "markdown",
   "source": [
    "Range of values for specific columns"
   ],
   "metadata": {
    "collapsed": false
   }
  },
  {
   "cell_type": "code",
   "execution_count": 8,
   "outputs": [
    {
     "name": "stdout",
     "output_type": "stream",
     "text": [
      "\n",
      "Unique names: ['Taian' 'Hyotei' 'HAJIME' ... 'A Casa do Porco' 'Bistrot de Paris'\n",
      " 'AE! Café & Cozinha']\n",
      "Total Unique: 6571 values\n",
      "\n",
      "Unique addresss: ['1-21-2 Shimanouchi, Chuo-ku, Osaka, 542-0082, Japan'\n",
      " '35 Nanzenji Kusagawacho, Sakyo-ku, Kyoto, 606-8437, Japan'\n",
      " '1-9-11 Edobori, Nishi-ku, Osaka, 550-0002, Japan' ...\n",
      " 'Rua Cotoxó 493, São Paulo, 05021-000, Brazil'\n",
      " 'Rua Araujo 124, São Paulo, 01220-020, Brazil'\n",
      " 'Rua Áurea 285, São Paulo, 04015-070, Brazil']\n",
      "Total Unique: 6587 values\n",
      "\n",
      "Unique locations: ['Osaka, Japan' 'Kyoto, Japan' 'Grassau, Germany' ... 'Velp, Netherlands'\n",
      " 'Veeningen, Netherlands' 'Meerssen, Netherlands']\n",
      "Total Unique: 2612 values\n",
      "\n",
      "Unique prices: ['¥¥¥' '¥¥¥¥' '€€€€' '$$$$' '$$$' '₩₩₩₩' '££££' '$$' '€€€' '฿฿฿฿' '¥¥'\n",
      " '₺₺₺₺' '€€' '₩₩' '₩₩₩' '£££' '££' '฿฿฿' '฿฿' '₺₺₺' '₺₺' '$' '₫₫' '₫₫₫₫'\n",
      " '¥' '€' '₩' '£' '฿' '₺' nan '₫']\n",
      "Total Unique: 32 values\n",
      "\n",
      "Unique awards: ['3 Stars' '2 Stars' '1 Star' 'Bib Gourmand']\n",
      "Total Unique: 4 values\n"
     ]
    }
   ],
   "source": [
    "ignore = ['longitude', 'latitude', 'url', 'cuisine']\n",
    "\n",
    "for column in michelin:\n",
    "    if column in ignore:\n",
    "        pass\n",
    "    else:\n",
    "        print(f\"\\nUnique {column}s: {michelin[column].unique()}\\nTotal Unique: {len(michelin[column].unique())} values\")"
   ],
   "metadata": {
    "collapsed": false,
    "ExecuteTime": {
     "end_time": "2024-04-24T20:12:07.337870Z",
     "start_time": "2024-04-24T20:12:07.265340Z"
    }
   }
  },
  {
   "cell_type": "markdown",
   "source": [
    "----\n",
    "&nbsp;\n",
    "## Separate `location` column\n",
    "\n",
    "- `country` column. eg, 'USA'\n",
    "- `city` column. eg, 'San Fransisco'\n",
    "\n",
    "`location` is comma separated \"country, city\""
   ],
   "metadata": {
    "collapsed": false
   }
  },
  {
   "cell_type": "code",
   "execution_count": 9,
   "outputs": [
    {
     "data": {
      "text/plain": "['Hong Kong', 'Macau', 'Singapore', 'Dubai', 'Luxembourg', 'Abu Dhabi']"
     },
     "execution_count": 9,
     "metadata": {},
     "output_type": "execute_result"
    }
   ],
   "source": [
    "# Are there non-comma separated entries in `location`?\n",
    "no_comma = michelin[~michelin['location'].str.contains(',')]\n",
    "no_comma['location'].unique().tolist()"
   ],
   "metadata": {
    "collapsed": false,
    "ExecuteTime": {
     "end_time": "2024-04-24T20:12:07.382608Z",
     "start_time": "2024-04-24T20:12:07.275224Z"
    }
   }
  },
  {
   "cell_type": "markdown",
   "source": [
    "These are all 'city states' or principalities."
   ],
   "metadata": {
    "collapsed": false
   }
  },
  {
   "cell_type": "code",
   "execution_count": 10,
   "outputs": [],
   "source": [
    "# Create a dictionary for special cases\n",
    "special_cases = {'Hong Kong': 'Hong Kong, Hong Kong SAR China',\n",
    "                 'Macau': 'Macau, Macau SAR China',\n",
    "                 'Singapore': 'Singapore, Singapore',\n",
    "                 'Dubai': 'Dubai, United Arab Emirates',\n",
    "                 'Luxembourg': 'Luxembourg, Luxembourg',\n",
    "                 'Abu Dhabi': 'Abu Dhabi, United Arab Emirates'}"
   ],
   "metadata": {
    "collapsed": false,
    "ExecuteTime": {
     "end_time": "2024-04-24T20:12:07.382797Z",
     "start_time": "2024-04-24T20:12:07.284474Z"
    }
   }
  },
  {
   "cell_type": "code",
   "execution_count": 11,
   "outputs": [],
   "source": [
    "# Apply special cases to the 'location' column\n",
    "michelin['location'] = michelin['location'].replace(special_cases)\n",
    "\n",
    "# Now split the 'location' column\n",
    "locations = michelin['location'].str.split(',', expand=True)\n",
    "locations.columns = ['city', 'country']\n",
    "\n",
    "# Remove leading or trailing whitespace from 'city' and 'country' columns\n",
    "locations['city'] = locations['city'].str.strip()\n",
    "locations['country'] = locations['country'].str.strip()\n",
    "\n",
    "# Replace the original 'location' column with the new 'country' and 'city' columns\n",
    "michelin = michelin.drop('location', axis=1).join(locations)"
   ],
   "metadata": {
    "collapsed": false,
    "ExecuteTime": {
     "end_time": "2024-04-24T20:12:07.382910Z",
     "start_time": "2024-04-24T20:12:07.289050Z"
    }
   }
  },
  {
   "cell_type": "code",
   "execution_count": 12,
   "outputs": [
    {
     "name": "stdout",
     "output_type": "stream",
     "text": [
      "New Columns: ['name', 'address', 'price', 'cuisine', 'url', 'award', 'longitude', 'latitude', 'city', 'country']\n"
     ]
    }
   ],
   "source": [
    "print(f\"New Columns: {michelin.columns.tolist()}\")"
   ],
   "metadata": {
    "collapsed": false,
    "ExecuteTime": {
     "end_time": "2024-04-24T20:12:07.383143Z",
     "start_time": "2024-04-24T20:12:07.306608Z"
    }
   }
  },
  {
   "cell_type": "code",
   "execution_count": 13,
   "outputs": [
    {
     "name": "stdout",
     "output_type": "stream",
     "text": [
      "Unique Countries: ['Japan' 'Germany' 'France' 'Hong Kong SAR China' 'Macau SAR China'\n",
      " 'Belgium' 'South Korea' 'United Kingdom' 'Spain' 'China Mainland' 'Italy'\n",
      " 'USA' 'Switzerland' 'Slovenia' 'Taiwan' 'Singapore' 'Denmark' 'Norway'\n",
      " 'Sweden' 'Netherlands' 'Austria' 'Malta' 'Portugal' 'Luxembourg'\n",
      " 'Ireland' 'Thailand' 'Argentina' 'Malaysia' 'Türkiye' 'Greece' 'Canada'\n",
      " 'Hungary' 'Finland' 'Estonia' 'United Arab Emirates' 'Poland' 'Brazil'\n",
      " 'Andorra' 'Latvia' 'Croatia' 'Iceland' 'Vietnam' 'Czech Republic'\n",
      " 'Serbia']\n",
      "Total Unique = 44 values\n"
     ]
    }
   ],
   "source": [
    "print(f\"Unique Countries: {michelin['country'].unique()}\"\n",
    "      f\"\\nTotal Unique = {len(michelin['country'].unique())} values\")"
   ],
   "metadata": {
    "collapsed": false,
    "ExecuteTime": {
     "end_time": "2024-04-24T20:12:07.384015Z",
     "start_time": "2024-04-24T20:12:07.310729Z"
    }
   }
  },
  {
   "cell_type": "code",
   "execution_count": 14,
   "outputs": [
    {
     "name": "stdout",
     "output_type": "stream",
     "text": [
      "Unique Cities: ['Osaka' 'Kyoto' 'Grassau' ... 'Velp' 'Veeningen' 'Meerssen']\n",
      "Total Unique = 2609 values\n"
     ]
    }
   ],
   "source": [
    "print(f\"Unique Cities: {michelin['city'].unique()}\"\n",
    "      f\"\\nTotal Unique = {len(michelin['city'].unique())} values\")"
   ],
   "metadata": {
    "collapsed": false,
    "ExecuteTime": {
     "end_time": "2024-04-24T20:12:07.384592Z",
     "start_time": "2024-04-24T20:12:07.317457Z"
    }
   }
  },
  {
   "cell_type": "code",
   "execution_count": 15,
   "outputs": [
    {
     "data": {
      "text/plain": "                  name                                            address  \\\n0                Taian  1-21-2 Shimanouchi, Chuo-ku, Osaka, 542-0082, ...   \n1               Hyotei  35 Nanzenji Kusagawacho, Sakyo-ku, Kyoto, 606-...   \n2               HAJIME   1-9-11 Edobori, Nishi-ku, Osaka, 550-0002, Japan   \n3       Kikunoi Honten  459 Shimokawaracho, Higashiyama-ku, Kyoto, 605...   \n4  Isshisoden Nakamura  136 Matsushitacho, Nakagyo-ku, Kyoto, 604-8093...   \n\n    city country price     cuisine                                url  \\\n0  Osaka   Japan   ¥¥¥    Japanese                                NaN   \n1  Kyoto   Japan  ¥¥¥¥    Japanese               http://hyotei.co.jp/   \n2  Osaka   Japan  ¥¥¥¥  Innovative    http://www.hajime-artistes.com/   \n3  Kyoto   Japan  ¥¥¥¥    Japanese                https://kikunoi.jp/   \n4  Kyoto   Japan  ¥¥¥¥    Japanese  http://www.kyoryori-nakamura.com/   \n\n     award   longitude   latitude  \n0  3 Stars         NaN        NaN  \n1  3 Stars  135.786742  35.011355  \n2  3 Stars  135.496084  34.688612  \n3  3 Stars  135.782079  35.001535  \n4  3 Stars  135.765083  35.010397  ",
      "text/html": "<div>\n<style scoped>\n    .dataframe tbody tr th:only-of-type {\n        vertical-align: middle;\n    }\n\n    .dataframe tbody tr th {\n        vertical-align: top;\n    }\n\n    .dataframe thead th {\n        text-align: right;\n    }\n</style>\n<table border=\"1\" class=\"dataframe\">\n  <thead>\n    <tr style=\"text-align: right;\">\n      <th></th>\n      <th>name</th>\n      <th>address</th>\n      <th>city</th>\n      <th>country</th>\n      <th>price</th>\n      <th>cuisine</th>\n      <th>url</th>\n      <th>award</th>\n      <th>longitude</th>\n      <th>latitude</th>\n    </tr>\n  </thead>\n  <tbody>\n    <tr>\n      <th>0</th>\n      <td>Taian</td>\n      <td>1-21-2 Shimanouchi, Chuo-ku, Osaka, 542-0082, ...</td>\n      <td>Osaka</td>\n      <td>Japan</td>\n      <td>¥¥¥</td>\n      <td>Japanese</td>\n      <td>NaN</td>\n      <td>3 Stars</td>\n      <td>NaN</td>\n      <td>NaN</td>\n    </tr>\n    <tr>\n      <th>1</th>\n      <td>Hyotei</td>\n      <td>35 Nanzenji Kusagawacho, Sakyo-ku, Kyoto, 606-...</td>\n      <td>Kyoto</td>\n      <td>Japan</td>\n      <td>¥¥¥¥</td>\n      <td>Japanese</td>\n      <td>http://hyotei.co.jp/</td>\n      <td>3 Stars</td>\n      <td>135.786742</td>\n      <td>35.011355</td>\n    </tr>\n    <tr>\n      <th>2</th>\n      <td>HAJIME</td>\n      <td>1-9-11 Edobori, Nishi-ku, Osaka, 550-0002, Japan</td>\n      <td>Osaka</td>\n      <td>Japan</td>\n      <td>¥¥¥¥</td>\n      <td>Innovative</td>\n      <td>http://www.hajime-artistes.com/</td>\n      <td>3 Stars</td>\n      <td>135.496084</td>\n      <td>34.688612</td>\n    </tr>\n    <tr>\n      <th>3</th>\n      <td>Kikunoi Honten</td>\n      <td>459 Shimokawaracho, Higashiyama-ku, Kyoto, 605...</td>\n      <td>Kyoto</td>\n      <td>Japan</td>\n      <td>¥¥¥¥</td>\n      <td>Japanese</td>\n      <td>https://kikunoi.jp/</td>\n      <td>3 Stars</td>\n      <td>135.782079</td>\n      <td>35.001535</td>\n    </tr>\n    <tr>\n      <th>4</th>\n      <td>Isshisoden Nakamura</td>\n      <td>136 Matsushitacho, Nakagyo-ku, Kyoto, 604-8093...</td>\n      <td>Kyoto</td>\n      <td>Japan</td>\n      <td>¥¥¥¥</td>\n      <td>Japanese</td>\n      <td>http://www.kyoryori-nakamura.com/</td>\n      <td>3 Stars</td>\n      <td>135.765083</td>\n      <td>35.010397</td>\n    </tr>\n  </tbody>\n</table>\n</div>"
     },
     "execution_count": 15,
     "metadata": {},
     "output_type": "execute_result"
    }
   ],
   "source": [
    "michelin = michelin[['name', 'address', 'city', 'country', 'price', 'cuisine', 'url', 'award', 'longitude', 'latitude']]\n",
    "michelin.head()"
   ],
   "metadata": {
    "collapsed": false,
    "ExecuteTime": {
     "end_time": "2024-04-24T20:12:07.384872Z",
     "start_time": "2024-04-24T20:12:07.322380Z"
    }
   }
  },
  {
   "cell_type": "markdown",
   "source": [
    "----\n",
    "\n",
    "## `awards` columns\n",
    "\n",
    "In the Michelin dataset, we have a column named 'awards' that designates the level of recognition a restaurant has achieved according to Michelin's rating system. These awards are '3 Stars', '2 Stars', '1 Star', and 'Bib Gourmand', which is a different award for good quality, good value restaurants.\n",
    "\n",
    "However, in order to make the analysis more tractable and to create a more uniform scale, we transform these awards into numerical values. This transformation will allow us to perform quantitative analysis and make mathematical computations with this data, which wouldn't be possible with the original textual data.\n",
    "\n",
    "The '3 MICHELIN Stars', '2 MICHELIN Stars', and '1 MICHELIN Star' awards are straightforwardly transformed into the numerical values 3, 2, and 1, respectively. However, the 'Bib Gourmand' award doesn't fit directly into this star system. In consideration of the prestige and value attached to this award, we've decided to map 'Bib Gourmand' to the value 0.5. It's important to note that this decision, while somewhat arbitrary, is made with the understanding that the 'Bib Gourmand' recognizes a different aspect of restaurant quality and is not strictly comparable to the star awards."
   ],
   "metadata": {
    "collapsed": false
   }
  },
  {
   "cell_type": "code",
   "execution_count": 16,
   "outputs": [],
   "source": [
    "award_dict = {'3 Stars': 3, '2 Stars': 2, '1 Star': 1, 'Bib Gourmand': 0.5}\n",
    "michelin['stars'] = michelin['award'].replace(award_dict)"
   ],
   "metadata": {
    "collapsed": false,
    "ExecuteTime": {
     "end_time": "2024-04-24T20:12:07.385309Z",
     "start_time": "2024-04-24T20:12:07.332031Z"
    }
   }
  },
  {
   "cell_type": "code",
   "execution_count": 17,
   "outputs": [],
   "source": [
    "cols = michelin.columns.tolist()\n",
    "\n",
    "cols.remove('stars')\n",
    "# insert 'stars' at the desired position next to 'award' which we retain\n",
    "cols.insert(-2, 'stars')\n",
    "\n",
    "# reindex the DataFrame\n",
    "michelin = michelin.reindex(columns=cols)"
   ],
   "metadata": {
    "collapsed": false,
    "ExecuteTime": {
     "end_time": "2024-04-24T20:12:07.385492Z",
     "start_time": "2024-04-24T20:12:07.340239Z"
    }
   }
  },
  {
   "cell_type": "code",
   "execution_count": 18,
   "outputs": [
    {
     "name": "stdout",
     "output_type": "stream",
     "text": [
      "<class 'pandas.core.frame.DataFrame'>\n",
      "RangeIndex: 6700 entries, 0 to 6699\n",
      "Data columns (total 11 columns):\n",
      " #   Column     Non-Null Count  Dtype  \n",
      "---  ------     --------------  -----  \n",
      " 0   name       6700 non-null   object \n",
      " 1   address    6700 non-null   object \n",
      " 2   city       6700 non-null   object \n",
      " 3   country    6700 non-null   object \n",
      " 4   price      6698 non-null   object \n",
      " 5   cuisine    6700 non-null   object \n",
      " 6   url        5515 non-null   object \n",
      " 7   award      6700 non-null   object \n",
      " 8   stars      6700 non-null   float64\n",
      " 9   longitude  6363 non-null   float64\n",
      " 10  latitude   6363 non-null   float64\n",
      "dtypes: float64(3), object(8)\n",
      "memory usage: 575.9+ KB\n"
     ]
    }
   ],
   "source": [
    "michelin.info()"
   ],
   "metadata": {
    "collapsed": false,
    "ExecuteTime": {
     "end_time": "2024-04-24T20:12:07.385754Z",
     "start_time": "2024-04-24T20:12:07.350837Z"
    }
   }
  },
  {
   "cell_type": "markdown",
   "source": [
    "----\n",
    "&nbsp;\n",
    "## `price` column\n",
    "\n",
    "There is also the price column to organise which lists a number of different currencies. It is unclear if, for example, $ refers to USD, HKD etc..\n",
    "\n",
    "This attribute is easier to deal with piecewise by country"
   ],
   "metadata": {
    "collapsed": false
   }
  },
  {
   "cell_type": "markdown",
   "source": [
    "----\n",
    "&nbsp;\n",
    "## Export `UK` and `France` datasets for further analysis"
   ],
   "metadata": {
    "collapsed": false
   }
  },
  {
   "cell_type": "code",
   "execution_count": 19,
   "outputs": [
    {
     "data": {
      "text/plain": "                                    name  \\\n60                             L'Enclume   \n61       Hélène Darroze at The Connaught   \n62       Alain Ducasse at The Dorchester   \n63                              Fat Duck   \n64  Sketch, The Lecture Room and Library   \n\n                                              address     city  \\\n60  Cavendish Street, Cartmel, LA11 6QA, United Ki...  Cartmel   \n61  Carlos Place, Mayfair, London, W1K 2AL, United...   London   \n62  Park Lane, Mayfair, London, W1K 1QA, United Ki...   London   \n63         High Street, Bray, SL6 2AQ, United Kingdom     Bray   \n64  9 Conduit Street, Mayfair, London, W1S 2XG, Un...   London   \n\n           country price           cuisine  \\\n60  United Kingdom  ££££  Creative British   \n61  United Kingdom  ££££    Modern Cuisine   \n62  United Kingdom  ££££            French   \n63  United Kingdom  ££££          Creative   \n64  United Kingdom  ££££     Modern French   \n\n                                                  url    award  stars  \\\n60                        https://www.lenclume.co.uk/  3 Stars    3.0   \n61  https://www.the-connaught.co.uk/restaurants-ba...  3 Stars    3.0   \n62           https://www.alainducasse-dorchester.com/  3 Stars    3.0   \n63                          https://thefatduck.co.uk/  3 Stars    3.0   \n64                             https://sketch.london/  3 Stars    3.0   \n\n    longitude   latitude  \n60        NaN        NaN  \n61  -0.149290  51.510188  \n62  -0.152575  51.507338  \n63  -0.701753  51.507858  \n64  -0.141537  51.512678  ",
      "text/html": "<div>\n<style scoped>\n    .dataframe tbody tr th:only-of-type {\n        vertical-align: middle;\n    }\n\n    .dataframe tbody tr th {\n        vertical-align: top;\n    }\n\n    .dataframe thead th {\n        text-align: right;\n    }\n</style>\n<table border=\"1\" class=\"dataframe\">\n  <thead>\n    <tr style=\"text-align: right;\">\n      <th></th>\n      <th>name</th>\n      <th>address</th>\n      <th>city</th>\n      <th>country</th>\n      <th>price</th>\n      <th>cuisine</th>\n      <th>url</th>\n      <th>award</th>\n      <th>stars</th>\n      <th>longitude</th>\n      <th>latitude</th>\n    </tr>\n  </thead>\n  <tbody>\n    <tr>\n      <th>60</th>\n      <td>L'Enclume</td>\n      <td>Cavendish Street, Cartmel, LA11 6QA, United Ki...</td>\n      <td>Cartmel</td>\n      <td>United Kingdom</td>\n      <td>££££</td>\n      <td>Creative British</td>\n      <td>https://www.lenclume.co.uk/</td>\n      <td>3 Stars</td>\n      <td>3.0</td>\n      <td>NaN</td>\n      <td>NaN</td>\n    </tr>\n    <tr>\n      <th>61</th>\n      <td>Hélène Darroze at The Connaught</td>\n      <td>Carlos Place, Mayfair, London, W1K 2AL, United...</td>\n      <td>London</td>\n      <td>United Kingdom</td>\n      <td>££££</td>\n      <td>Modern Cuisine</td>\n      <td>https://www.the-connaught.co.uk/restaurants-ba...</td>\n      <td>3 Stars</td>\n      <td>3.0</td>\n      <td>-0.149290</td>\n      <td>51.510188</td>\n    </tr>\n    <tr>\n      <th>62</th>\n      <td>Alain Ducasse at The Dorchester</td>\n      <td>Park Lane, Mayfair, London, W1K 1QA, United Ki...</td>\n      <td>London</td>\n      <td>United Kingdom</td>\n      <td>££££</td>\n      <td>French</td>\n      <td>https://www.alainducasse-dorchester.com/</td>\n      <td>3 Stars</td>\n      <td>3.0</td>\n      <td>-0.152575</td>\n      <td>51.507338</td>\n    </tr>\n    <tr>\n      <th>63</th>\n      <td>Fat Duck</td>\n      <td>High Street, Bray, SL6 2AQ, United Kingdom</td>\n      <td>Bray</td>\n      <td>United Kingdom</td>\n      <td>££££</td>\n      <td>Creative</td>\n      <td>https://thefatduck.co.uk/</td>\n      <td>3 Stars</td>\n      <td>3.0</td>\n      <td>-0.701753</td>\n      <td>51.507858</td>\n    </tr>\n    <tr>\n      <th>64</th>\n      <td>Sketch, The Lecture Room and Library</td>\n      <td>9 Conduit Street, Mayfair, London, W1S 2XG, Un...</td>\n      <td>London</td>\n      <td>United Kingdom</td>\n      <td>££££</td>\n      <td>Modern French</td>\n      <td>https://sketch.london/</td>\n      <td>3 Stars</td>\n      <td>3.0</td>\n      <td>-0.141537</td>\n      <td>51.512678</td>\n    </tr>\n  </tbody>\n</table>\n</div>"
     },
     "execution_count": 19,
     "metadata": {},
     "output_type": "execute_result"
    }
   ],
   "source": [
    "# Filter the DataFrame for records where country == 'UK'\n",
    "uk_data = michelin[michelin['country'] == 'United Kingdom']\n",
    "uk_data.head()"
   ],
   "metadata": {
    "collapsed": false,
    "ExecuteTime": {
     "end_time": "2024-04-24T20:12:07.386336Z",
     "start_time": "2024-04-24T20:12:07.365090Z"
    }
   }
  },
  {
   "cell_type": "code",
   "execution_count": 20,
   "outputs": [],
   "source": [
    "# Export the UK data to a csv file\n",
    "uk_data.to_csv('../data/UK/uk_data_2024.csv', index=False)"
   ],
   "metadata": {
    "collapsed": false,
    "ExecuteTime": {
     "end_time": "2024-04-24T20:12:15.446892Z",
     "start_time": "2024-04-24T20:12:15.423616Z"
    }
   }
  },
  {
   "cell_type": "code",
   "execution_count": 21,
   "outputs": [
    {
     "data": {
      "text/plain": "                              name  \\\n18           La Table du Castellet   \n19  Plénitude - Cheval Blanc Paris   \n20                   Le Petit Nice   \n21                         Mirazur   \n22         AM par Alexandre Mazzia   \n\n                                              address          city country  \\\n18  3001 route des Hauts-du-Camp, au Circuit Paul ...  Le Castellet  France   \n19             8 quai du Louvre, Paris, 75001, France         Paris  France   \n20         Anse de Maldormé, Marseille, 13007, France     Marseille  France   \n21   30 avenue Aristide-Briand, Menton, 06500, France        Menton  France   \n22     9 rue François-Rocca, Marseille, 13008, France     Marseille  France   \n\n   price   cuisine                                                url  \\\n18  €€€€  Creative  http://www.hotelducastellet.net/fr/restaurants...   \n19  €€€€  Creative       https://www.chevalblanc.com/fr/maison/paris/   \n20  €€€€   Seafood                            https://www.passedat.fr   \n21  €€€€  Creative                            https://www.mirazur.fr/   \n22  €€€€  Creative                  https://www.alexandre-mazzia.com/   \n\n      award  stars  longitude   latitude  \n18  3 Stars    3.0   5.783887  43.249929  \n19  3 Stars    3.0   2.342159  48.858815  \n20  3 Stars    3.0        NaN        NaN  \n21  3 Stars    3.0   7.528051  43.785930  \n22  3 Stars    3.0   5.386233  43.270110  ",
      "text/html": "<div>\n<style scoped>\n    .dataframe tbody tr th:only-of-type {\n        vertical-align: middle;\n    }\n\n    .dataframe tbody tr th {\n        vertical-align: top;\n    }\n\n    .dataframe thead th {\n        text-align: right;\n    }\n</style>\n<table border=\"1\" class=\"dataframe\">\n  <thead>\n    <tr style=\"text-align: right;\">\n      <th></th>\n      <th>name</th>\n      <th>address</th>\n      <th>city</th>\n      <th>country</th>\n      <th>price</th>\n      <th>cuisine</th>\n      <th>url</th>\n      <th>award</th>\n      <th>stars</th>\n      <th>longitude</th>\n      <th>latitude</th>\n    </tr>\n  </thead>\n  <tbody>\n    <tr>\n      <th>18</th>\n      <td>La Table du Castellet</td>\n      <td>3001 route des Hauts-du-Camp, au Circuit Paul ...</td>\n      <td>Le Castellet</td>\n      <td>France</td>\n      <td>€€€€</td>\n      <td>Creative</td>\n      <td>http://www.hotelducastellet.net/fr/restaurants...</td>\n      <td>3 Stars</td>\n      <td>3.0</td>\n      <td>5.783887</td>\n      <td>43.249929</td>\n    </tr>\n    <tr>\n      <th>19</th>\n      <td>Plénitude - Cheval Blanc Paris</td>\n      <td>8 quai du Louvre, Paris, 75001, France</td>\n      <td>Paris</td>\n      <td>France</td>\n      <td>€€€€</td>\n      <td>Creative</td>\n      <td>https://www.chevalblanc.com/fr/maison/paris/</td>\n      <td>3 Stars</td>\n      <td>3.0</td>\n      <td>2.342159</td>\n      <td>48.858815</td>\n    </tr>\n    <tr>\n      <th>20</th>\n      <td>Le Petit Nice</td>\n      <td>Anse de Maldormé, Marseille, 13007, France</td>\n      <td>Marseille</td>\n      <td>France</td>\n      <td>€€€€</td>\n      <td>Seafood</td>\n      <td>https://www.passedat.fr</td>\n      <td>3 Stars</td>\n      <td>3.0</td>\n      <td>NaN</td>\n      <td>NaN</td>\n    </tr>\n    <tr>\n      <th>21</th>\n      <td>Mirazur</td>\n      <td>30 avenue Aristide-Briand, Menton, 06500, France</td>\n      <td>Menton</td>\n      <td>France</td>\n      <td>€€€€</td>\n      <td>Creative</td>\n      <td>https://www.mirazur.fr/</td>\n      <td>3 Stars</td>\n      <td>3.0</td>\n      <td>7.528051</td>\n      <td>43.785930</td>\n    </tr>\n    <tr>\n      <th>22</th>\n      <td>AM par Alexandre Mazzia</td>\n      <td>9 rue François-Rocca, Marseille, 13008, France</td>\n      <td>Marseille</td>\n      <td>France</td>\n      <td>€€€€</td>\n      <td>Creative</td>\n      <td>https://www.alexandre-mazzia.com/</td>\n      <td>3 Stars</td>\n      <td>3.0</td>\n      <td>5.386233</td>\n      <td>43.270110</td>\n    </tr>\n  </tbody>\n</table>\n</div>"
     },
     "execution_count": 21,
     "metadata": {},
     "output_type": "execute_result"
    }
   ],
   "source": [
    "# Filter the DataFrame for records where country == 'France'\n",
    "france_data = michelin[michelin['country'] == 'France']\n",
    "france_data.head()"
   ],
   "metadata": {
    "collapsed": false,
    "ExecuteTime": {
     "end_time": "2024-04-24T20:12:19.320540Z",
     "start_time": "2024-04-24T20:12:19.297445Z"
    }
   }
  },
  {
   "cell_type": "code",
   "execution_count": 22,
   "outputs": [],
   "source": [
    "# Define and export Monaco\n",
    "monaco = france_data[france_data['city'] == 'Monaco']\n",
    "monaco.to_csv('../data/France/monaco_2024.csv', index=False)"
   ],
   "metadata": {
    "collapsed": false,
    "ExecuteTime": {
     "end_time": "2024-04-24T20:12:22.349780Z",
     "start_time": "2024-04-24T20:12:22.341453Z"
    }
   }
  },
  {
   "cell_type": "markdown",
   "source": [
    "We remove Monaco from metropolitan France"
   ],
   "metadata": {
    "collapsed": false
   }
  },
  {
   "cell_type": "code",
   "execution_count": 23,
   "outputs": [
    {
     "data": {
      "text/plain": "(1017, 11)"
     },
     "execution_count": 23,
     "metadata": {},
     "output_type": "execute_result"
    }
   ],
   "source": [
    "france_data = france_data[france_data['city'] != 'Monaco']\n",
    "france_data.shape"
   ],
   "metadata": {
    "collapsed": false,
    "ExecuteTime": {
     "end_time": "2024-04-24T20:12:24.871866Z",
     "start_time": "2024-04-24T20:12:24.862983Z"
    }
   }
  },
  {
   "cell_type": "code",
   "execution_count": 24,
   "outputs": [],
   "source": [
    "# Export the France data to a csv file\n",
    "france_data.to_csv('../data/France/france_master_2024.csv', index=False)"
   ],
   "metadata": {
    "collapsed": false,
    "ExecuteTime": {
     "end_time": "2024-04-24T20:12:27.654698Z",
     "start_time": "2024-04-24T20:12:27.630263Z"
    }
   }
  },
  {
   "cell_type": "markdown",
   "source": [
    "----\n",
    "&nbsp;\n",
    "## Restaurants could be further partitioned by country from this point"
   ],
   "metadata": {
    "collapsed": false
   }
  }
 ],
 "metadata": {
  "kernelspec": {
   "display_name": "Python 3",
   "language": "python",
   "name": "python3"
  },
  "language_info": {
   "codemirror_mode": {
    "name": "ipython",
    "version": 2
   },
   "file_extension": ".py",
   "mimetype": "text/x-python",
   "name": "python",
   "nbconvert_exporter": "python",
   "pygments_lexer": "ipython2",
   "version": "2.7.6"
  }
 },
 "nbformat": 4,
 "nbformat_minor": 0
}
