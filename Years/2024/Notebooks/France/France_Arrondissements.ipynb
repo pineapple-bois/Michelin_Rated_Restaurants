{
 "cells": [
  {
   "cell_type": "markdown",
   "source": [
    "# Michelin Restaurants in France - *Arrondissements*"
   ],
   "metadata": {
    "collapsed": false
   }
  },
  {
   "cell_type": "code",
   "execution_count": 1,
   "metadata": {
    "collapsed": true,
    "ExecuteTime": {
     "end_time": "2024-04-24T20:41:43.276973Z",
     "start_time": "2024-04-24T20:41:41.503426Z"
    }
   },
   "outputs": [],
   "source": [
    "import pandas as pd\n",
    "import geopandas as gpd\n",
    "from shapely.geometry import Point\n",
    "import matplotlib.pyplot as plt"
   ]
  },
  {
   "cell_type": "markdown",
   "source": [
    "Importing restaurant data"
   ],
   "metadata": {
    "collapsed": false
   }
  },
  {
   "cell_type": "code",
   "execution_count": 2,
   "outputs": [
    {
     "data": {
      "text/plain": "                             name  \\\n0           La Table du Castellet   \n1  Plénitude - Cheval Blanc Paris   \n2                   Le Petit Nice   \n3                         Mirazur   \n4         AM par Alexandre Mazzia   \n\n                                             address             location  \\\n0  3001 route des Hauts-du-Camp, au Circuit Paul ...  Le Castellet, 83330   \n1                                   8 quai du Louvre         Paris, 75001   \n2                                   Anse de Maldormé     Marseille, 13007   \n3                          30 avenue Aristide-Briand        Menton, 06500   \n4                               9 rue François-Rocca     Marseille, 13008   \n\n  department_num        department    capital                      region  \\\n0             83               Var     Toulon  Provence-Alpes-Côte d'Azur   \n1             75             Paris      Paris               Île-de-France   \n2             13  Bouches-du-Rhône  Marseille  Provence-Alpes-Côte d'Azur   \n3             06   Alpes-Maritimes       Nice  Provence-Alpes-Côte d'Azur   \n4             13  Bouches-du-Rhône  Marseille  Provence-Alpes-Côte d'Azur   \n\n  price   cuisine                                                url    award  \\\n0  €€€€  Creative  http://www.hotelducastellet.net/fr/restaurants...  3 Stars   \n1  €€€€  Creative       https://www.chevalblanc.com/fr/maison/paris/  3 Stars   \n2  €€€€   Seafood                            https://www.passedat.fr  3 Stars   \n3  €€€€  Creative                            https://www.mirazur.fr/  3 Stars   \n4  €€€€  Creative                  https://www.alexandre-mazzia.com/  3 Stars   \n\n   stars  longitude   latitude  \n0    3.0   5.783887  43.249929  \n1    3.0   2.342159  48.858815  \n2    3.0   5.352121  43.280086  \n3    3.0   7.528051  43.785930  \n4    3.0   5.386233  43.270110  ",
      "text/html": "<div>\n<style scoped>\n    .dataframe tbody tr th:only-of-type {\n        vertical-align: middle;\n    }\n\n    .dataframe tbody tr th {\n        vertical-align: top;\n    }\n\n    .dataframe thead th {\n        text-align: right;\n    }\n</style>\n<table border=\"1\" class=\"dataframe\">\n  <thead>\n    <tr style=\"text-align: right;\">\n      <th></th>\n      <th>name</th>\n      <th>address</th>\n      <th>location</th>\n      <th>department_num</th>\n      <th>department</th>\n      <th>capital</th>\n      <th>region</th>\n      <th>price</th>\n      <th>cuisine</th>\n      <th>url</th>\n      <th>award</th>\n      <th>stars</th>\n      <th>longitude</th>\n      <th>latitude</th>\n    </tr>\n  </thead>\n  <tbody>\n    <tr>\n      <th>0</th>\n      <td>La Table du Castellet</td>\n      <td>3001 route des Hauts-du-Camp, au Circuit Paul ...</td>\n      <td>Le Castellet, 83330</td>\n      <td>83</td>\n      <td>Var</td>\n      <td>Toulon</td>\n      <td>Provence-Alpes-Côte d'Azur</td>\n      <td>€€€€</td>\n      <td>Creative</td>\n      <td>http://www.hotelducastellet.net/fr/restaurants...</td>\n      <td>3 Stars</td>\n      <td>3.0</td>\n      <td>5.783887</td>\n      <td>43.249929</td>\n    </tr>\n    <tr>\n      <th>1</th>\n      <td>Plénitude - Cheval Blanc Paris</td>\n      <td>8 quai du Louvre</td>\n      <td>Paris, 75001</td>\n      <td>75</td>\n      <td>Paris</td>\n      <td>Paris</td>\n      <td>Île-de-France</td>\n      <td>€€€€</td>\n      <td>Creative</td>\n      <td>https://www.chevalblanc.com/fr/maison/paris/</td>\n      <td>3 Stars</td>\n      <td>3.0</td>\n      <td>2.342159</td>\n      <td>48.858815</td>\n    </tr>\n    <tr>\n      <th>2</th>\n      <td>Le Petit Nice</td>\n      <td>Anse de Maldormé</td>\n      <td>Marseille, 13007</td>\n      <td>13</td>\n      <td>Bouches-du-Rhône</td>\n      <td>Marseille</td>\n      <td>Provence-Alpes-Côte d'Azur</td>\n      <td>€€€€</td>\n      <td>Seafood</td>\n      <td>https://www.passedat.fr</td>\n      <td>3 Stars</td>\n      <td>3.0</td>\n      <td>5.352121</td>\n      <td>43.280086</td>\n    </tr>\n    <tr>\n      <th>3</th>\n      <td>Mirazur</td>\n      <td>30 avenue Aristide-Briand</td>\n      <td>Menton, 06500</td>\n      <td>06</td>\n      <td>Alpes-Maritimes</td>\n      <td>Nice</td>\n      <td>Provence-Alpes-Côte d'Azur</td>\n      <td>€€€€</td>\n      <td>Creative</td>\n      <td>https://www.mirazur.fr/</td>\n      <td>3 Stars</td>\n      <td>3.0</td>\n      <td>7.528051</td>\n      <td>43.785930</td>\n    </tr>\n    <tr>\n      <th>4</th>\n      <td>AM par Alexandre Mazzia</td>\n      <td>9 rue François-Rocca</td>\n      <td>Marseille, 13008</td>\n      <td>13</td>\n      <td>Bouches-du-Rhône</td>\n      <td>Marseille</td>\n      <td>Provence-Alpes-Côte d'Azur</td>\n      <td>€€€€</td>\n      <td>Creative</td>\n      <td>https://www.alexandre-mazzia.com/</td>\n      <td>3 Stars</td>\n      <td>3.0</td>\n      <td>5.386233</td>\n      <td>43.270110</td>\n    </tr>\n  </tbody>\n</table>\n</div>"
     },
     "execution_count": 2,
     "metadata": {},
     "output_type": "execute_result"
    }
   ],
   "source": [
    "france_data = pd.read_csv(\"../../data/France/all_restaurants.csv\")\n",
    "france_data.head()"
   ],
   "metadata": {
    "collapsed": false,
    "ExecuteTime": {
     "end_time": "2024-04-24T20:41:46.629448Z",
     "start_time": "2024-04-24T20:41:46.591563Z"
    }
   }
  },
  {
   "cell_type": "code",
   "execution_count": 3,
   "outputs": [
    {
     "name": "stdout",
     "output_type": "stream",
     "text": [
      "['name', 'address', 'location', 'department_num', 'department', 'capital', 'region', 'price', 'cuisine', 'url', 'award', 'stars', 'longitude', 'latitude']\n"
     ]
    }
   ],
   "source": [
    "print(france_data.columns.tolist())"
   ],
   "metadata": {
    "collapsed": false,
    "ExecuteTime": {
     "end_time": "2024-04-24T20:41:49.902102Z",
     "start_time": "2024-04-24T20:41:49.866376Z"
    }
   }
  },
  {
   "cell_type": "markdown",
   "source": [
    "----\n",
    "&nbsp;\n",
    "Demographics data from [INSEE](https://statistiques-locales.insee.fr/#c=indicator&view=map5)"
   ],
   "metadata": {
    "collapsed": false
   }
  },
  {
   "cell_type": "code",
   "execution_count": 4,
   "outputs": [
    {
     "name": "stdout",
     "output_type": "stream",
     "text": [
      "['Code', 'Libellé', 'Population municipale 2020', 'Taux de pauvreté 2020', 'Densité de population (historique depuis 1876) 2020', 'Salaire net horaire moyen 2021']\n"
     ]
    }
   ],
   "source": [
    "stats_locale = pd.read_csv(\"../../../../ExtraData/Demographics/arrondissements_data.csv\", sep=';')\n",
    "print(stats_locale.columns.tolist())"
   ],
   "metadata": {
    "collapsed": false,
    "ExecuteTime": {
     "end_time": "2024-04-24T20:42:29.137314Z",
     "start_time": "2024-04-24T20:42:29.107099Z"
    }
   }
  },
  {
   "cell_type": "code",
   "execution_count": 5,
   "outputs": [
    {
     "data": {
      "text/plain": "  code   arrondissement  municipal_population  \\\n0  011           Belley                123405   \n1  012  Bourg-en-Bresse                340382   \n2  013              Gex                100314   \n3  014           Nantua                 93755   \n4  021  Château-Thierry                 70094   \n\n   population_density(inhabitants/sq_km) poverty_rate(%)  \\\n0                                   77.9            10.2   \n1                                  118.4             8.8   \n2                                  247.8            12.4   \n3                                  104.2            15.5   \n4                                   62.9              14   \n\n  average_net_hourly_wage(€)  \n0                       15.3  \n1                      15.65  \n2                      15.32  \n3                      14.14  \n4                      14.36  ",
      "text/html": "<div>\n<style scoped>\n    .dataframe tbody tr th:only-of-type {\n        vertical-align: middle;\n    }\n\n    .dataframe tbody tr th {\n        vertical-align: top;\n    }\n\n    .dataframe thead th {\n        text-align: right;\n    }\n</style>\n<table border=\"1\" class=\"dataframe\">\n  <thead>\n    <tr style=\"text-align: right;\">\n      <th></th>\n      <th>code</th>\n      <th>arrondissement</th>\n      <th>municipal_population</th>\n      <th>population_density(inhabitants/sq_km)</th>\n      <th>poverty_rate(%)</th>\n      <th>average_net_hourly_wage(€)</th>\n    </tr>\n  </thead>\n  <tbody>\n    <tr>\n      <th>0</th>\n      <td>011</td>\n      <td>Belley</td>\n      <td>123405</td>\n      <td>77.9</td>\n      <td>10.2</td>\n      <td>15.3</td>\n    </tr>\n    <tr>\n      <th>1</th>\n      <td>012</td>\n      <td>Bourg-en-Bresse</td>\n      <td>340382</td>\n      <td>118.4</td>\n      <td>8.8</td>\n      <td>15.65</td>\n    </tr>\n    <tr>\n      <th>2</th>\n      <td>013</td>\n      <td>Gex</td>\n      <td>100314</td>\n      <td>247.8</td>\n      <td>12.4</td>\n      <td>15.32</td>\n    </tr>\n    <tr>\n      <th>3</th>\n      <td>014</td>\n      <td>Nantua</td>\n      <td>93755</td>\n      <td>104.2</td>\n      <td>15.5</td>\n      <td>14.14</td>\n    </tr>\n    <tr>\n      <th>4</th>\n      <td>021</td>\n      <td>Château-Thierry</td>\n      <td>70094</td>\n      <td>62.9</td>\n      <td>14</td>\n      <td>14.36</td>\n    </tr>\n  </tbody>\n</table>\n</div>"
     },
     "execution_count": 5,
     "metadata": {},
     "output_type": "execute_result"
    }
   ],
   "source": [
    "stats_locale = stats_locale.rename(columns={\n",
    "    'Code': 'code',\n",
    "    'Libellé': 'arrondissement',\n",
    "    'Taux de pauvreté 2020': 'poverty_rate(%)',\n",
    "    'Salaire net horaire moyen 2021': 'average_net_hourly_wage(€)',\n",
    "    'Population municipale 2020': 'municipal_population',\n",
    "    'Densité de population (historique depuis 1876) 2020': 'population_density(inhabitants/sq_km)',\n",
    "})\n",
    "stats_locale = stats_locale[['code', 'arrondissement', 'municipal_population', 'population_density(inhabitants/sq_km)',\n",
    "                             'poverty_rate(%)', 'average_net_hourly_wage(€)']]\n",
    "stats_locale.head()"
   ],
   "metadata": {
    "collapsed": false,
    "ExecuteTime": {
     "end_time": "2024-04-24T20:42:32.804488Z",
     "start_time": "2024-04-24T20:42:32.769556Z"
    }
   }
  },
  {
   "cell_type": "code",
   "execution_count": 6,
   "outputs": [
    {
     "name": "stdout",
     "output_type": "stream",
     "text": [
      "['code', 'arrondissement', 'municipal_population', 'population_density(inhabitants/sq_km)', 'poverty_rate(%)', 'average_net_hourly_wage(€)']\n"
     ]
    }
   ],
   "source": [
    "print(stats_locale.columns.tolist())"
   ],
   "metadata": {
    "collapsed": false,
    "ExecuteTime": {
     "end_time": "2024-04-24T20:42:38.758392Z",
     "start_time": "2024-04-24T20:42:38.721889Z"
    }
   }
  },
  {
   "cell_type": "markdown",
   "source": [
    "Loading in [GeoJSON data](https://github.com/gregoiredavid/france-geojson/blob/master/arrondissements-avec-outre-mer.geojson)"
   ],
   "metadata": {
    "collapsed": false
   }
  },
  {
   "cell_type": "code",
   "execution_count": 7,
   "outputs": [
    {
     "data": {
      "text/plain": "    code              nom                                           geometry\n0  01001           Belley  POLYGON ((5.12174 45.81118, 5.12665 45.81392, ...\n1  01002  Bourg-en-Bresse  POLYGON ((4.98022 46.51520, 4.98355 46.51539, ...\n2  01003              Gex  POLYGON ((6.06401 46.41623, 6.06730 46.41494, ...\n3  01004           Nantua  POLYGON ((5.63746 46.33644, 5.64007 46.33884, ...\n4  02001  Château-Thierry  POLYGON ((3.07188 49.11755, 3.07224 49.11832, ...",
      "text/html": "<div>\n<style scoped>\n    .dataframe tbody tr th:only-of-type {\n        vertical-align: middle;\n    }\n\n    .dataframe tbody tr th {\n        vertical-align: top;\n    }\n\n    .dataframe thead th {\n        text-align: right;\n    }\n</style>\n<table border=\"1\" class=\"dataframe\">\n  <thead>\n    <tr style=\"text-align: right;\">\n      <th></th>\n      <th>code</th>\n      <th>nom</th>\n      <th>geometry</th>\n    </tr>\n  </thead>\n  <tbody>\n    <tr>\n      <th>0</th>\n      <td>01001</td>\n      <td>Belley</td>\n      <td>POLYGON ((5.12174 45.81118, 5.12665 45.81392, ...</td>\n    </tr>\n    <tr>\n      <th>1</th>\n      <td>01002</td>\n      <td>Bourg-en-Bresse</td>\n      <td>POLYGON ((4.98022 46.51520, 4.98355 46.51539, ...</td>\n    </tr>\n    <tr>\n      <th>2</th>\n      <td>01003</td>\n      <td>Gex</td>\n      <td>POLYGON ((6.06401 46.41623, 6.06730 46.41494, ...</td>\n    </tr>\n    <tr>\n      <th>3</th>\n      <td>01004</td>\n      <td>Nantua</td>\n      <td>POLYGON ((5.63746 46.33644, 5.64007 46.33884, ...</td>\n    </tr>\n    <tr>\n      <th>4</th>\n      <td>02001</td>\n      <td>Château-Thierry</td>\n      <td>POLYGON ((3.07188 49.11755, 3.07224 49.11832, ...</td>\n    </tr>\n  </tbody>\n</table>\n</div>"
     },
     "execution_count": 7,
     "metadata": {},
     "output_type": "execute_result"
    }
   ],
   "source": [
    "# Load the GeoJSON file\n",
    "geoJSON_df = gpd.read_file('../../../../ExtraData/Geodata/arrondissements-avec-outre-mer.geojson')\n",
    "geoJSON_df.head()"
   ],
   "metadata": {
    "collapsed": false,
    "ExecuteTime": {
     "end_time": "2024-04-24T20:42:55.942360Z",
     "start_time": "2024-04-24T20:42:54.690054Z"
    }
   }
  },
  {
   "cell_type": "code",
   "execution_count": 8,
   "outputs": [
    {
     "name": "stdout",
     "output_type": "stream",
     "text": [
      "['code', 'nom', 'geometry']\n"
     ]
    }
   ],
   "source": [
    "print(geoJSON_df.columns.tolist())"
   ],
   "metadata": {
    "collapsed": false,
    "ExecuteTime": {
     "end_time": "2024-04-24T20:42:58.573127Z",
     "start_time": "2024-04-24T20:42:58.539040Z"
    }
   }
  },
  {
   "cell_type": "markdown",
   "source": [
    "----\n",
    "&nbsp;\n",
    "### Removing *outre-mers*"
   ],
   "metadata": {
    "collapsed": false
   }
  },
  {
   "cell_type": "code",
   "execution_count": 9,
   "outputs": [
    {
     "data": {
      "text/plain": "(320, 3)"
     },
     "execution_count": 9,
     "metadata": {},
     "output_type": "execute_result"
    }
   ],
   "source": [
    "# We leverage the format of the first two digits of the 'code' column\n",
    "# where 01 - 95 represents mainland france\n",
    "geoJSON_df = geoJSON_df.sort_values(by='code')\n",
    "geoJSON_df = geoJSON_df[~geoJSON_df['code'].str.startswith('97')]\n",
    "geoJSON_df = geoJSON_df.reset_index(drop=True)\n",
    "geoJSON_df.shape"
   ],
   "metadata": {
    "collapsed": false,
    "ExecuteTime": {
     "end_time": "2024-04-24T20:43:02.904225Z",
     "start_time": "2024-04-24T20:43:02.882915Z"
    }
   }
  },
  {
   "cell_type": "code",
   "execution_count": 10,
   "outputs": [
    {
     "data": {
      "text/plain": "(320, 6)"
     },
     "execution_count": 10,
     "metadata": {},
     "output_type": "execute_result"
    }
   ],
   "source": [
    "# We again remove '97' leveraging a pattern\n",
    "stats_locale = stats_locale.sort_values(by='code')\n",
    "stats_locale = stats_locale[~stats_locale['code'].str.startswith('97')]\n",
    "stats_locale = stats_locale.reset_index(drop=True)\n",
    "stats_locale.shape"
   ],
   "metadata": {
    "collapsed": false,
    "ExecuteTime": {
     "end_time": "2024-04-24T20:43:05.434692Z",
     "start_time": "2024-04-24T20:43:05.410610Z"
    }
   }
  },
  {
   "cell_type": "markdown",
   "source": [
    "It's good news the dataframes have the same length"
   ],
   "metadata": {
    "collapsed": false
   }
  },
  {
   "cell_type": "markdown",
   "source": [
    "----\n",
    "&nbsp;\n",
    "### Looking for discrepancies in the `nom`, `arrondissement` columns"
   ],
   "metadata": {
    "collapsed": false
   }
  },
  {
   "cell_type": "code",
   "execution_count": 11,
   "outputs": [
    {
     "name": "stdout",
     "output_type": "stream",
     "text": [
      "Sets equal? False\n"
     ]
    }
   ],
   "source": [
    "set1 = set(stats_locale['arrondissement'].unique())\n",
    "set2 = set(geoJSON_df['nom'].unique())\n",
    "print(f\"Sets equal? {set1 == set2}\")"
   ],
   "metadata": {
    "collapsed": false,
    "ExecuteTime": {
     "end_time": "2024-04-24T20:43:08.299887Z",
     "start_time": "2024-04-24T20:43:08.283214Z"
    }
   }
  },
  {
   "cell_type": "code",
   "execution_count": 12,
   "outputs": [
    {
     "name": "stdout",
     "output_type": "stream",
     "text": [
      "In set1 but not in set2:  {\"Les Sables-d'Olonne\", 'Le Puy-en-Velay', 'La Rochelle', 'La Châtre', 'La Tour-du-Pin', \"L'Haÿ-les-Roses\", 'Le Blanc', 'La Flèche', 'Les Andelys', 'Le Raincy', 'La Roche-sur-Yon', 'Le Havre', 'Le Mans', 'Le Vigan', 'Val-de-Briey'}\n",
      "\n",
      "In set2 but not in set1:  {'Briey', 'Roche-sur-Yon', 'Flèche', \"Sables-d'Olonne\", 'Raincy', 'Andelys', 'Blanc', 'Puy-en-Velay', 'Châtre', 'Haÿ-les-Roses', 'Mans', 'Havre', 'Tour-du-Pin', 'Vigan', 'Rochelle'}\n"
     ]
    }
   ],
   "source": [
    "print(\"In set1 but not in set2: \", set1 - set2)\n",
    "print(\"\\nIn set2 but not in set1: \", set2 - set1)"
   ],
   "metadata": {
    "collapsed": false,
    "ExecuteTime": {
     "end_time": "2024-04-24T20:43:10.384726Z",
     "start_time": "2024-04-24T20:43:10.366083Z"
    }
   }
  },
  {
   "cell_type": "markdown",
   "source": [
    "We will remove articles from the `stats_locale` DataFrame. This will not significantly affect the ability to differentiate between *arrondissements*"
   ],
   "metadata": {
    "collapsed": false
   }
  },
  {
   "cell_type": "code",
   "execution_count": 13,
   "outputs": [],
   "source": [
    "def clean_name(name):\n",
    "    # Remove common prefixes/articles\n",
    "    for prefix in ['Le ', 'La ', 'Les ', \"L'\"]:\n",
    "        if name.startswith(prefix):\n",
    "            name = name[len(prefix):]\n",
    "    return name.strip()"
   ],
   "metadata": {
    "collapsed": false,
    "ExecuteTime": {
     "end_time": "2024-04-24T20:43:13.344342Z",
     "start_time": "2024-04-24T20:43:13.317569Z"
    }
   }
  },
  {
   "cell_type": "code",
   "execution_count": 14,
   "outputs": [],
   "source": [
    "set1_clean = set(map(clean_name, stats_locale['arrondissement'].unique()))\n",
    "set2_clean = set(map(clean_name, geoJSON_df['nom'].unique()))\n",
    "\n",
    "# Update 'stats_locale' with the new names\n",
    "stats_locale['arrondissement'] = stats_locale['arrondissement'].apply(clean_name)"
   ],
   "metadata": {
    "collapsed": false,
    "ExecuteTime": {
     "end_time": "2024-04-24T20:43:15.856789Z",
     "start_time": "2024-04-24T20:43:15.836718Z"
    }
   }
  },
  {
   "cell_type": "code",
   "execution_count": 15,
   "outputs": [
    {
     "name": "stdout",
     "output_type": "stream",
     "text": [
      "In set1_clean but not in set2_clean:  {'Val-de-Briey'}\n",
      "\n",
      "In set2_clean but not in set1_clean:  {'Briey'}\n"
     ]
    }
   ],
   "source": [
    "# Check for discrepancies again\n",
    "print(\"In set1_clean but not in set2_clean: \", set1_clean - set2_clean)\n",
    "print(\"\\nIn set2_clean but not in set1_clean: \", set2_clean - set1_clean)"
   ],
   "metadata": {
    "collapsed": false,
    "ExecuteTime": {
     "end_time": "2024-04-24T20:43:17.905133Z",
     "start_time": "2024-04-24T20:43:17.872436Z"
    }
   }
  },
  {
   "cell_type": "code",
   "execution_count": 16,
   "outputs": [
    {
     "name": "stdout",
     "output_type": "stream",
     "text": [
      "In set1_clean but not in set2_clean:  set()\n",
      "\n",
      "In set2_clean but not in set1_clean:  set()\n"
     ]
    }
   ],
   "source": [
    "# Correct the discrepancy manually\n",
    "if 'Val-de-Briey' in set1_clean and 'Briey' in set2_clean:\n",
    "    geoJSON_df['nom'] = geoJSON_df['nom'].replace('Briey', 'Val-de-Briey')\n",
    "\n",
    "# Validating and recomparing the sets\n",
    "set1_clean = set(map(clean_name, stats_locale['arrondissement'].unique()))\n",
    "set2_clean = set(map(clean_name, geoJSON_df['nom'].unique()))\n",
    "\n",
    "print(\"In set1_clean but not in set2_clean: \", set1_clean - set2_clean)\n",
    "print(\"\\nIn set2_clean but not in set1_clean: \", set2_clean - set1_clean)"
   ],
   "metadata": {
    "collapsed": false,
    "ExecuteTime": {
     "end_time": "2024-04-24T20:43:20.983991Z",
     "start_time": "2024-04-24T20:43:20.955212Z"
    }
   }
  },
  {
   "cell_type": "markdown",
   "source": [
    "----\n",
    "&nbsp;\n",
    "### Mapping individual restaurants to *arrondissements* based on (latitude, longitude) Geospatial data"
   ],
   "metadata": {
    "collapsed": false
   }
  },
  {
   "cell_type": "code",
   "execution_count": 17,
   "outputs": [],
   "source": [
    "# Convert france_data to GeoDataFrame\n",
    "geometry = [Point(xy) for xy in zip(france_data.longitude, france_data.latitude)]\n",
    "france_geo = gpd.GeoDataFrame(france_data, geometry=geometry)"
   ],
   "metadata": {
    "collapsed": false,
    "ExecuteTime": {
     "end_time": "2024-04-24T20:43:25.663490Z",
     "start_time": "2024-04-24T20:43:25.624754Z"
    }
   }
  },
  {
   "cell_type": "code",
   "execution_count": 18,
   "outputs": [
    {
     "data": {
      "text/plain": "                             name  \\\n0           La Table du Castellet   \n1  Plénitude - Cheval Blanc Paris   \n2                   Le Petit Nice   \n3                         Mirazur   \n4         AM par Alexandre Mazzia   \n\n                                             address             location  \\\n0  3001 route des Hauts-du-Camp, au Circuit Paul ...  Le Castellet, 83330   \n1                                   8 quai du Louvre         Paris, 75001   \n2                                   Anse de Maldormé     Marseille, 13007   \n3                          30 avenue Aristide-Briand        Menton, 06500   \n4                               9 rue François-Rocca     Marseille, 13008   \n\n  department_num        department    capital                      region  \\\n0             83               Var     Toulon  Provence-Alpes-Côte d'Azur   \n1             75             Paris      Paris               Île-de-France   \n2             13  Bouches-du-Rhône  Marseille  Provence-Alpes-Côte d'Azur   \n3             06   Alpes-Maritimes       Nice  Provence-Alpes-Côte d'Azur   \n4             13  Bouches-du-Rhône  Marseille  Provence-Alpes-Côte d'Azur   \n\n  price   cuisine                                                url    award  \\\n0  €€€€  Creative  http://www.hotelducastellet.net/fr/restaurants...  3 Stars   \n1  €€€€  Creative       https://www.chevalblanc.com/fr/maison/paris/  3 Stars   \n2  €€€€   Seafood                            https://www.passedat.fr  3 Stars   \n3  €€€€  Creative                            https://www.mirazur.fr/  3 Stars   \n4  €€€€  Creative                  https://www.alexandre-mazzia.com/  3 Stars   \n\n   stars  longitude   latitude                  geometry  \n0    3.0   5.783887  43.249929  POINT (5.78389 43.24993)  \n1    3.0   2.342159  48.858815  POINT (2.34216 48.85881)  \n2    3.0   5.352121  43.280086  POINT (5.35212 43.28009)  \n3    3.0   7.528051  43.785930  POINT (7.52805 43.78593)  \n4    3.0   5.386233  43.270110  POINT (5.38623 43.27011)  ",
      "text/html": "<div>\n<style scoped>\n    .dataframe tbody tr th:only-of-type {\n        vertical-align: middle;\n    }\n\n    .dataframe tbody tr th {\n        vertical-align: top;\n    }\n\n    .dataframe thead th {\n        text-align: right;\n    }\n</style>\n<table border=\"1\" class=\"dataframe\">\n  <thead>\n    <tr style=\"text-align: right;\">\n      <th></th>\n      <th>name</th>\n      <th>address</th>\n      <th>location</th>\n      <th>department_num</th>\n      <th>department</th>\n      <th>capital</th>\n      <th>region</th>\n      <th>price</th>\n      <th>cuisine</th>\n      <th>url</th>\n      <th>award</th>\n      <th>stars</th>\n      <th>longitude</th>\n      <th>latitude</th>\n      <th>geometry</th>\n    </tr>\n  </thead>\n  <tbody>\n    <tr>\n      <th>0</th>\n      <td>La Table du Castellet</td>\n      <td>3001 route des Hauts-du-Camp, au Circuit Paul ...</td>\n      <td>Le Castellet, 83330</td>\n      <td>83</td>\n      <td>Var</td>\n      <td>Toulon</td>\n      <td>Provence-Alpes-Côte d'Azur</td>\n      <td>€€€€</td>\n      <td>Creative</td>\n      <td>http://www.hotelducastellet.net/fr/restaurants...</td>\n      <td>3 Stars</td>\n      <td>3.0</td>\n      <td>5.783887</td>\n      <td>43.249929</td>\n      <td>POINT (5.78389 43.24993)</td>\n    </tr>\n    <tr>\n      <th>1</th>\n      <td>Plénitude - Cheval Blanc Paris</td>\n      <td>8 quai du Louvre</td>\n      <td>Paris, 75001</td>\n      <td>75</td>\n      <td>Paris</td>\n      <td>Paris</td>\n      <td>Île-de-France</td>\n      <td>€€€€</td>\n      <td>Creative</td>\n      <td>https://www.chevalblanc.com/fr/maison/paris/</td>\n      <td>3 Stars</td>\n      <td>3.0</td>\n      <td>2.342159</td>\n      <td>48.858815</td>\n      <td>POINT (2.34216 48.85881)</td>\n    </tr>\n    <tr>\n      <th>2</th>\n      <td>Le Petit Nice</td>\n      <td>Anse de Maldormé</td>\n      <td>Marseille, 13007</td>\n      <td>13</td>\n      <td>Bouches-du-Rhône</td>\n      <td>Marseille</td>\n      <td>Provence-Alpes-Côte d'Azur</td>\n      <td>€€€€</td>\n      <td>Seafood</td>\n      <td>https://www.passedat.fr</td>\n      <td>3 Stars</td>\n      <td>3.0</td>\n      <td>5.352121</td>\n      <td>43.280086</td>\n      <td>POINT (5.35212 43.28009)</td>\n    </tr>\n    <tr>\n      <th>3</th>\n      <td>Mirazur</td>\n      <td>30 avenue Aristide-Briand</td>\n      <td>Menton, 06500</td>\n      <td>06</td>\n      <td>Alpes-Maritimes</td>\n      <td>Nice</td>\n      <td>Provence-Alpes-Côte d'Azur</td>\n      <td>€€€€</td>\n      <td>Creative</td>\n      <td>https://www.mirazur.fr/</td>\n      <td>3 Stars</td>\n      <td>3.0</td>\n      <td>7.528051</td>\n      <td>43.785930</td>\n      <td>POINT (7.52805 43.78593)</td>\n    </tr>\n    <tr>\n      <th>4</th>\n      <td>AM par Alexandre Mazzia</td>\n      <td>9 rue François-Rocca</td>\n      <td>Marseille, 13008</td>\n      <td>13</td>\n      <td>Bouches-du-Rhône</td>\n      <td>Marseille</td>\n      <td>Provence-Alpes-Côte d'Azur</td>\n      <td>€€€€</td>\n      <td>Creative</td>\n      <td>https://www.alexandre-mazzia.com/</td>\n      <td>3 Stars</td>\n      <td>3.0</td>\n      <td>5.386233</td>\n      <td>43.270110</td>\n      <td>POINT (5.38623 43.27011)</td>\n    </tr>\n  </tbody>\n</table>\n</div>"
     },
     "execution_count": 18,
     "metadata": {},
     "output_type": "execute_result"
    }
   ],
   "source": [
    "france_geo.head()"
   ],
   "metadata": {
    "collapsed": false,
    "ExecuteTime": {
     "end_time": "2024-04-24T20:43:27.693177Z",
     "start_time": "2024-04-24T20:43:27.666177Z"
    }
   }
  },
  {
   "cell_type": "code",
   "execution_count": 19,
   "outputs": [],
   "source": [
    "france_geo.crs = \"EPSG:4326\""
   ],
   "metadata": {
    "collapsed": false,
    "ExecuteTime": {
     "end_time": "2024-04-24T20:43:45.556317Z",
     "start_time": "2024-04-24T20:43:45.522578Z"
    }
   }
  },
  {
   "cell_type": "code",
   "execution_count": 20,
   "outputs": [],
   "source": [
    "joined_data = gpd.sjoin(france_geo, geoJSON_df[['nom', 'geometry']], predicate='within', how='left')\n",
    "joined_data.rename(columns={'nom': 'arrondissement'}, inplace=True)"
   ],
   "metadata": {
    "collapsed": false,
    "ExecuteTime": {
     "end_time": "2024-04-24T20:43:47.480145Z",
     "start_time": "2024-04-24T20:43:47.427902Z"
    }
   }
  },
  {
   "cell_type": "code",
   "execution_count": 21,
   "outputs": [
    {
     "name": "stdout",
     "output_type": "stream",
     "text": [
      "['name', 'address', 'location', 'department_num', 'department', 'capital', 'region', 'price', 'cuisine', 'url', 'award', 'stars', 'longitude', 'latitude', 'arrondissement']\n"
     ]
    }
   ],
   "source": [
    "# Convert the GeoDataFrame to a normal DataFrame\n",
    "france_df = pd.DataFrame(joined_data)\n",
    "\n",
    "# Drop the 'geometry' and 'index_right' columns\n",
    "france_df = france_df.drop(columns=['geometry', 'index_right'])\n",
    "print(france_df.columns.tolist())"
   ],
   "metadata": {
    "collapsed": false,
    "ExecuteTime": {
     "end_time": "2024-04-24T20:43:50.426191Z",
     "start_time": "2024-04-24T20:43:50.392921Z"
    }
   }
  },
  {
   "cell_type": "code",
   "execution_count": 22,
   "outputs": [
    {
     "data": {
      "text/plain": "                               name  \\\n0             La Table du Castellet   \n1    Plénitude - Cheval Blanc Paris   \n2                     Le Petit Nice   \n3                           Mirazur   \n4           AM par Alexandre Mazzia   \n5                               Pic   \n6                   Pierre Gagnaire   \n7                    Flocons de Sel   \n8  Alléno Paris au Pavillon Ledoyen   \n9                       L'Ambroisie   \n\n                                             address             location  \\\n0  3001 route des Hauts-du-Camp, au Circuit Paul ...  Le Castellet, 83330   \n1                                   8 quai du Louvre         Paris, 75001   \n2                                   Anse de Maldormé     Marseille, 13007   \n3                          30 avenue Aristide-Briand        Menton, 06500   \n4                               9 rue François-Rocca     Marseille, 13008   \n5                             285 avenue Victor-Hugo       Valence, 26000   \n6                                       6 rue Balzac         Paris, 75008   \n7                    1775 route du Leutaz, Le Leutaz        Megève, 74120   \n8                                    8 avenue Dutuit         Paris, 75008   \n9                                 9 place des Vosges         Paris, 75004   \n\n  arrondissement department_num        department    capital  \\\n0         Toulon             83               Var     Toulon   \n1          Paris             75             Paris      Paris   \n2      Marseille             13  Bouches-du-Rhône  Marseille   \n3           Nice             06   Alpes-Maritimes       Nice   \n4      Marseille             13  Bouches-du-Rhône  Marseille   \n5        Valence             26             Drôme    Valence   \n6          Paris             75             Paris      Paris   \n7     Bonneville             74      Haute-Savoie     Annecy   \n8          Paris             75             Paris      Paris   \n9          Paris             75             Paris      Paris   \n\n                       region price          cuisine  \\\n0  Provence-Alpes-Côte d'Azur  €€€€         Creative   \n1               Île-de-France  €€€€         Creative   \n2  Provence-Alpes-Côte d'Azur  €€€€          Seafood   \n3  Provence-Alpes-Côte d'Azur  €€€€         Creative   \n4  Provence-Alpes-Côte d'Azur  €€€€         Creative   \n5        Auvergne-Rhône-Alpes  €€€€         Creative   \n6               Île-de-France  €€€€         Creative   \n7        Auvergne-Rhône-Alpes  €€€€   Modern Cuisine   \n8               Île-de-France  €€€€         Creative   \n9               Île-de-France  €€€€  Classic Cuisine   \n\n                                                 url    award  stars  \\\n0  http://www.hotelducastellet.net/fr/restaurants...  3 Stars    3.0   \n1       https://www.chevalblanc.com/fr/maison/paris/  3 Stars    3.0   \n2                            https://www.passedat.fr  3 Stars    3.0   \n3                            https://www.mirazur.fr/  3 Stars    3.0   \n4                  https://www.alexandre-mazzia.com/  3 Stars    3.0   \n5                     http://www.anne-sophie-pic.com  3 Stars    3.0   \n6             http://pierregagnaire-lerestaurant.com  3 Stars    3.0   \n7                       https://www.floconsdesel.com  3 Stars    3.0   \n8                     https://www.yannick-alleno.com  3 Stars    3.0   \n9                   https://www.ambroisie-paris.com/  3 Stars    3.0   \n\n   longitude   latitude  \n0   5.783887  43.249929  \n1   2.342159  48.858815  \n2   5.352121  43.280086  \n3   7.528051  43.785930  \n4   5.386233  43.270110  \n5   4.885497  44.917785  \n6   2.300386  48.873251  \n7   6.596963  45.830240  \n8   2.316499  48.866093  \n9   2.364521  48.855494  ",
      "text/html": "<div>\n<style scoped>\n    .dataframe tbody tr th:only-of-type {\n        vertical-align: middle;\n    }\n\n    .dataframe tbody tr th {\n        vertical-align: top;\n    }\n\n    .dataframe thead th {\n        text-align: right;\n    }\n</style>\n<table border=\"1\" class=\"dataframe\">\n  <thead>\n    <tr style=\"text-align: right;\">\n      <th></th>\n      <th>name</th>\n      <th>address</th>\n      <th>location</th>\n      <th>arrondissement</th>\n      <th>department_num</th>\n      <th>department</th>\n      <th>capital</th>\n      <th>region</th>\n      <th>price</th>\n      <th>cuisine</th>\n      <th>url</th>\n      <th>award</th>\n      <th>stars</th>\n      <th>longitude</th>\n      <th>latitude</th>\n    </tr>\n  </thead>\n  <tbody>\n    <tr>\n      <th>0</th>\n      <td>La Table du Castellet</td>\n      <td>3001 route des Hauts-du-Camp, au Circuit Paul ...</td>\n      <td>Le Castellet, 83330</td>\n      <td>Toulon</td>\n      <td>83</td>\n      <td>Var</td>\n      <td>Toulon</td>\n      <td>Provence-Alpes-Côte d'Azur</td>\n      <td>€€€€</td>\n      <td>Creative</td>\n      <td>http://www.hotelducastellet.net/fr/restaurants...</td>\n      <td>3 Stars</td>\n      <td>3.0</td>\n      <td>5.783887</td>\n      <td>43.249929</td>\n    </tr>\n    <tr>\n      <th>1</th>\n      <td>Plénitude - Cheval Blanc Paris</td>\n      <td>8 quai du Louvre</td>\n      <td>Paris, 75001</td>\n      <td>Paris</td>\n      <td>75</td>\n      <td>Paris</td>\n      <td>Paris</td>\n      <td>Île-de-France</td>\n      <td>€€€€</td>\n      <td>Creative</td>\n      <td>https://www.chevalblanc.com/fr/maison/paris/</td>\n      <td>3 Stars</td>\n      <td>3.0</td>\n      <td>2.342159</td>\n      <td>48.858815</td>\n    </tr>\n    <tr>\n      <th>2</th>\n      <td>Le Petit Nice</td>\n      <td>Anse de Maldormé</td>\n      <td>Marseille, 13007</td>\n      <td>Marseille</td>\n      <td>13</td>\n      <td>Bouches-du-Rhône</td>\n      <td>Marseille</td>\n      <td>Provence-Alpes-Côte d'Azur</td>\n      <td>€€€€</td>\n      <td>Seafood</td>\n      <td>https://www.passedat.fr</td>\n      <td>3 Stars</td>\n      <td>3.0</td>\n      <td>5.352121</td>\n      <td>43.280086</td>\n    </tr>\n    <tr>\n      <th>3</th>\n      <td>Mirazur</td>\n      <td>30 avenue Aristide-Briand</td>\n      <td>Menton, 06500</td>\n      <td>Nice</td>\n      <td>06</td>\n      <td>Alpes-Maritimes</td>\n      <td>Nice</td>\n      <td>Provence-Alpes-Côte d'Azur</td>\n      <td>€€€€</td>\n      <td>Creative</td>\n      <td>https://www.mirazur.fr/</td>\n      <td>3 Stars</td>\n      <td>3.0</td>\n      <td>7.528051</td>\n      <td>43.785930</td>\n    </tr>\n    <tr>\n      <th>4</th>\n      <td>AM par Alexandre Mazzia</td>\n      <td>9 rue François-Rocca</td>\n      <td>Marseille, 13008</td>\n      <td>Marseille</td>\n      <td>13</td>\n      <td>Bouches-du-Rhône</td>\n      <td>Marseille</td>\n      <td>Provence-Alpes-Côte d'Azur</td>\n      <td>€€€€</td>\n      <td>Creative</td>\n      <td>https://www.alexandre-mazzia.com/</td>\n      <td>3 Stars</td>\n      <td>3.0</td>\n      <td>5.386233</td>\n      <td>43.270110</td>\n    </tr>\n    <tr>\n      <th>5</th>\n      <td>Pic</td>\n      <td>285 avenue Victor-Hugo</td>\n      <td>Valence, 26000</td>\n      <td>Valence</td>\n      <td>26</td>\n      <td>Drôme</td>\n      <td>Valence</td>\n      <td>Auvergne-Rhône-Alpes</td>\n      <td>€€€€</td>\n      <td>Creative</td>\n      <td>http://www.anne-sophie-pic.com</td>\n      <td>3 Stars</td>\n      <td>3.0</td>\n      <td>4.885497</td>\n      <td>44.917785</td>\n    </tr>\n    <tr>\n      <th>6</th>\n      <td>Pierre Gagnaire</td>\n      <td>6 rue Balzac</td>\n      <td>Paris, 75008</td>\n      <td>Paris</td>\n      <td>75</td>\n      <td>Paris</td>\n      <td>Paris</td>\n      <td>Île-de-France</td>\n      <td>€€€€</td>\n      <td>Creative</td>\n      <td>http://pierregagnaire-lerestaurant.com</td>\n      <td>3 Stars</td>\n      <td>3.0</td>\n      <td>2.300386</td>\n      <td>48.873251</td>\n    </tr>\n    <tr>\n      <th>7</th>\n      <td>Flocons de Sel</td>\n      <td>1775 route du Leutaz, Le Leutaz</td>\n      <td>Megève, 74120</td>\n      <td>Bonneville</td>\n      <td>74</td>\n      <td>Haute-Savoie</td>\n      <td>Annecy</td>\n      <td>Auvergne-Rhône-Alpes</td>\n      <td>€€€€</td>\n      <td>Modern Cuisine</td>\n      <td>https://www.floconsdesel.com</td>\n      <td>3 Stars</td>\n      <td>3.0</td>\n      <td>6.596963</td>\n      <td>45.830240</td>\n    </tr>\n    <tr>\n      <th>8</th>\n      <td>Alléno Paris au Pavillon Ledoyen</td>\n      <td>8 avenue Dutuit</td>\n      <td>Paris, 75008</td>\n      <td>Paris</td>\n      <td>75</td>\n      <td>Paris</td>\n      <td>Paris</td>\n      <td>Île-de-France</td>\n      <td>€€€€</td>\n      <td>Creative</td>\n      <td>https://www.yannick-alleno.com</td>\n      <td>3 Stars</td>\n      <td>3.0</td>\n      <td>2.316499</td>\n      <td>48.866093</td>\n    </tr>\n    <tr>\n      <th>9</th>\n      <td>L'Ambroisie</td>\n      <td>9 place des Vosges</td>\n      <td>Paris, 75004</td>\n      <td>Paris</td>\n      <td>75</td>\n      <td>Paris</td>\n      <td>Paris</td>\n      <td>Île-de-France</td>\n      <td>€€€€</td>\n      <td>Classic Cuisine</td>\n      <td>https://www.ambroisie-paris.com/</td>\n      <td>3 Stars</td>\n      <td>3.0</td>\n      <td>2.364521</td>\n      <td>48.855494</td>\n    </tr>\n  </tbody>\n</table>\n</div>"
     },
     "execution_count": 22,
     "metadata": {},
     "output_type": "execute_result"
    }
   ],
   "source": [
    "new_order = ['name', 'address', 'location', 'arrondissement', 'department_num',\n",
    "             'department', 'capital', 'region', 'price', 'cuisine', 'url',\n",
    "             'award', 'stars', 'longitude', 'latitude']\n",
    "france_df = france_df[new_order]\n",
    "france_df.head(10)"
   ],
   "metadata": {
    "collapsed": false,
    "ExecuteTime": {
     "end_time": "2024-04-24T20:43:54.647916Z",
     "start_time": "2024-04-24T20:43:54.624131Z"
    }
   }
  },
  {
   "cell_type": "code",
   "execution_count": 23,
   "outputs": [
    {
     "name": "stdout",
     "output_type": "stream",
     "text": [
      "<class 'pandas.core.frame.DataFrame'>\n",
      "Int64Index: 1017 entries, 0 to 1016\n",
      "Data columns (total 15 columns):\n",
      " #   Column          Non-Null Count  Dtype  \n",
      "---  ------          --------------  -----  \n",
      " 0   name            1017 non-null   object \n",
      " 1   address         1017 non-null   object \n",
      " 2   location        1017 non-null   object \n",
      " 3   arrondissement  1017 non-null   object \n",
      " 4   department_num  1017 non-null   object \n",
      " 5   department      1017 non-null   object \n",
      " 6   capital         1017 non-null   object \n",
      " 7   region          1017 non-null   object \n",
      " 8   price           1017 non-null   object \n",
      " 9   cuisine         1017 non-null   object \n",
      " 10  url             973 non-null    object \n",
      " 11  award           1017 non-null   object \n",
      " 12  stars           1017 non-null   float64\n",
      " 13  longitude       1017 non-null   float64\n",
      " 14  latitude        1017 non-null   float64\n",
      "dtypes: float64(3), object(12)\n",
      "memory usage: 127.1+ KB\n"
     ]
    }
   ],
   "source": [
    "france_df.info()"
   ],
   "metadata": {
    "collapsed": false,
    "ExecuteTime": {
     "end_time": "2024-04-24T20:44:03.063227Z",
     "start_time": "2024-04-24T20:44:03.035930Z"
    }
   }
  },
  {
   "cell_type": "code",
   "execution_count": 24,
   "outputs": [
    {
     "data": {
      "text/plain": "223"
     },
     "execution_count": 24,
     "metadata": {},
     "output_type": "execute_result"
    }
   ],
   "source": [
    "# Unique arrondissement in the dataset\n",
    "france_df.arrondissement.nunique()"
   ],
   "metadata": {
    "collapsed": false,
    "ExecuteTime": {
     "end_time": "2024-04-24T20:44:06.015136Z",
     "start_time": "2024-04-24T20:44:05.990969Z"
    }
   }
  },
  {
   "cell_type": "markdown",
   "source": [
    "----\n",
    "&nbsp;\n",
    "### Adding Parisien *arrondissement municipaux*"
   ],
   "metadata": {
    "collapsed": false
   }
  },
  {
   "cell_type": "code",
   "execution_count": 25,
   "outputs": [],
   "source": [
    "all_france = france_df.copy()"
   ],
   "metadata": {
    "collapsed": false,
    "ExecuteTime": {
     "end_time": "2024-04-24T20:44:10.200984Z",
     "start_time": "2024-04-24T20:44:10.174151Z"
    }
   }
  },
  {
   "cell_type": "code",
   "execution_count": 26,
   "outputs": [],
   "source": [
    "import certifi\n",
    "import ssl\n",
    "\n",
    "ssl._create_default_https_context = ssl._create_unverified_context\n",
    "\n",
    "url = 'https://en.wikipedia.org/wiki/Arrondissements_of_Paris'\n",
    "tables = pd.read_html(url)"
   ],
   "metadata": {
    "collapsed": false,
    "ExecuteTime": {
     "end_time": "2024-04-24T20:44:21.118811Z",
     "start_time": "2024-04-24T20:44:20.657758Z"
    }
   }
  },
  {
   "cell_type": "code",
   "execution_count": 27,
   "outputs": [
    {
     "data": {
      "text/plain": "   Coat of arms Arrondissement (R for Right Bank, L for Left Bank)  \\\n0           NaN   1st (Ier) RAdministratively part of Paris Centre   \n1           NaN   2nd (IIe) RAdministratively part of Paris Centre   \n2           NaN  3rd (IIIe) RAdministratively part of Paris Centre   \n3           NaN   4th (IVe) RAdministratively part of Paris Centre   \n4           NaN                                         5th (Ve) L   \n\n             Name               Area (km2)  Population(2017 estimate)  \\\n0          Louvre    5.59 km2 (2.16 sq mi)                     100196   \n1          Bourse    5.59 km2 (2.16 sq mi)                     100196   \n2          Temple    5.59 km2 (2.16 sq mi)                     100196   \n3  Hôtel-de-Ville    5.59 km2 (2.16 sq mi)                     100196   \n4        Panthéon  2.541 km2 (0.981 sq mi)                      59631   \n\n  Density (2017)(inhabitants per km2) Peak of population  \\\n0                               17924        before 1861   \n1                               17924        before 1861   \n2                               17924        before 1861   \n3                               17924        before 1861   \n4                               23477               1911   \n\n         Mayor (2020–2026)  \n0          Ariel Weil (PS)  \n1          Ariel Weil (PS)  \n2          Ariel Weil (PS)  \n3          Ariel Weil (PS)  \n4  Florence Berthout (DVD)  ",
      "text/html": "<div>\n<style scoped>\n    .dataframe tbody tr th:only-of-type {\n        vertical-align: middle;\n    }\n\n    .dataframe tbody tr th {\n        vertical-align: top;\n    }\n\n    .dataframe thead th {\n        text-align: right;\n    }\n</style>\n<table border=\"1\" class=\"dataframe\">\n  <thead>\n    <tr style=\"text-align: right;\">\n      <th></th>\n      <th>Coat of arms</th>\n      <th>Arrondissement (R for Right Bank, L for Left Bank)</th>\n      <th>Name</th>\n      <th>Area (km2)</th>\n      <th>Population(2017 estimate)</th>\n      <th>Density (2017)(inhabitants per km2)</th>\n      <th>Peak of population</th>\n      <th>Mayor (2020–2026)</th>\n    </tr>\n  </thead>\n  <tbody>\n    <tr>\n      <th>0</th>\n      <td>NaN</td>\n      <td>1st (Ier) RAdministratively part of Paris Centre</td>\n      <td>Louvre</td>\n      <td>5.59 km2 (2.16 sq mi)</td>\n      <td>100196</td>\n      <td>17924</td>\n      <td>before 1861</td>\n      <td>Ariel Weil (PS)</td>\n    </tr>\n    <tr>\n      <th>1</th>\n      <td>NaN</td>\n      <td>2nd (IIe) RAdministratively part of Paris Centre</td>\n      <td>Bourse</td>\n      <td>5.59 km2 (2.16 sq mi)</td>\n      <td>100196</td>\n      <td>17924</td>\n      <td>before 1861</td>\n      <td>Ariel Weil (PS)</td>\n    </tr>\n    <tr>\n      <th>2</th>\n      <td>NaN</td>\n      <td>3rd (IIIe) RAdministratively part of Paris Centre</td>\n      <td>Temple</td>\n      <td>5.59 km2 (2.16 sq mi)</td>\n      <td>100196</td>\n      <td>17924</td>\n      <td>before 1861</td>\n      <td>Ariel Weil (PS)</td>\n    </tr>\n    <tr>\n      <th>3</th>\n      <td>NaN</td>\n      <td>4th (IVe) RAdministratively part of Paris Centre</td>\n      <td>Hôtel-de-Ville</td>\n      <td>5.59 km2 (2.16 sq mi)</td>\n      <td>100196</td>\n      <td>17924</td>\n      <td>before 1861</td>\n      <td>Ariel Weil (PS)</td>\n    </tr>\n    <tr>\n      <th>4</th>\n      <td>NaN</td>\n      <td>5th (Ve) L</td>\n      <td>Panthéon</td>\n      <td>2.541 km2 (0.981 sq mi)</td>\n      <td>59631</td>\n      <td>23477</td>\n      <td>1911</td>\n      <td>Florence Berthout (DVD)</td>\n    </tr>\n  </tbody>\n</table>\n</div>"
     },
     "execution_count": 27,
     "metadata": {},
     "output_type": "execute_result"
    }
   ],
   "source": [
    "# The table of interest is found by inspection\n",
    "paris_arr = tables[1]\n",
    "paris_arr.head()"
   ],
   "metadata": {
    "collapsed": false,
    "ExecuteTime": {
     "end_time": "2024-04-24T20:44:24.141392Z",
     "start_time": "2024-04-24T20:44:24.115583Z"
    }
   }
  },
  {
   "cell_type": "code",
   "execution_count": 28,
   "outputs": [
    {
     "name": "stdout",
     "output_type": "stream",
     "text": [
      "['Coat of arms', 'Arrondissement (R for Right Bank, L for Left Bank)', 'Name', 'Area (km2)', 'Population(2017 estimate)', 'Density (2017)(inhabitants per km2)', 'Peak of population', 'Mayor (2020–2026)']\n"
     ]
    }
   ],
   "source": [
    "print(paris_arr.columns.tolist())"
   ],
   "metadata": {
    "collapsed": false,
    "ExecuteTime": {
     "end_time": "2024-04-24T20:44:33.840274Z",
     "start_time": "2024-04-24T20:44:33.805631Z"
    }
   }
  },
  {
   "cell_type": "code",
   "execution_count": 29,
   "outputs": [],
   "source": [
    "# Drop specified columns from the DataFrame\n",
    "paris_arr = paris_arr.drop(columns=['Coat of arms', 'Area (km2)', 'Population(2017 estimate)', 'Density (2017)(inhabitants per km2)', 'Peak of population', 'Mayor (2020–2026)'])\n",
    "\n",
    "paris_arr = paris_arr.rename(columns={'Arrondissement (R for Right Bank, L for Left Bank)': 'arrondissement', 'Name': 'name'})"
   ],
   "metadata": {
    "collapsed": false,
    "ExecuteTime": {
     "end_time": "2024-04-24T20:44:37.454391Z",
     "start_time": "2024-04-24T20:44:37.424263Z"
    }
   }
  },
  {
   "cell_type": "code",
   "execution_count": 30,
   "outputs": [
    {
     "data": {
      "text/plain": "  arrondissement            name\n0            1st          Louvre\n1            2nd          Bourse\n2            3rd          Temple\n3            4th  Hôtel-de-Ville\n4            5th        Panthéon",
      "text/html": "<div>\n<style scoped>\n    .dataframe tbody tr th:only-of-type {\n        vertical-align: middle;\n    }\n\n    .dataframe tbody tr th {\n        vertical-align: top;\n    }\n\n    .dataframe thead th {\n        text-align: right;\n    }\n</style>\n<table border=\"1\" class=\"dataframe\">\n  <thead>\n    <tr style=\"text-align: right;\">\n      <th></th>\n      <th>arrondissement</th>\n      <th>name</th>\n    </tr>\n  </thead>\n  <tbody>\n    <tr>\n      <th>0</th>\n      <td>1st</td>\n      <td>Louvre</td>\n    </tr>\n    <tr>\n      <th>1</th>\n      <td>2nd</td>\n      <td>Bourse</td>\n    </tr>\n    <tr>\n      <th>2</th>\n      <td>3rd</td>\n      <td>Temple</td>\n    </tr>\n    <tr>\n      <th>3</th>\n      <td>4th</td>\n      <td>Hôtel-de-Ville</td>\n    </tr>\n    <tr>\n      <th>4</th>\n      <td>5th</td>\n      <td>Panthéon</td>\n    </tr>\n  </tbody>\n</table>\n</div>"
     },
     "execution_count": 30,
     "metadata": {},
     "output_type": "execute_result"
    }
   ],
   "source": [
    "# Extract the first part of the 'arrondissement' using regex\n",
    "paris_arr['arrondissement'] = paris_arr['arrondissement'].str.extract(r'(\\d+\\w{2})')\n",
    "paris_arr.head()"
   ],
   "metadata": {
    "collapsed": false,
    "ExecuteTime": {
     "end_time": "2024-04-24T20:44:39.947989Z",
     "start_time": "2024-04-24T20:44:39.911436Z"
    }
   }
  },
  {
   "cell_type": "markdown",
   "source": [
    "Search `france_data` for 'Paris'"
   ],
   "metadata": {
    "collapsed": false
   }
  },
  {
   "cell_type": "code",
   "execution_count": 31,
   "outputs": [
    {
     "data": {
      "text/plain": "                                name                               address  \\\n1     Plénitude - Cheval Blanc Paris                      8 quai du Louvre   \n6                    Pierre Gagnaire                          6 rue Balzac   \n8   Alléno Paris au Pavillon Ledoyen                       8 avenue Dutuit   \n9                        L'Ambroisie                    9 place des Vosges   \n10                    Le Pré Catelan  Route de Suresnes - bois de Boulogne   \n\n        location arrondissement department_num department capital  \\\n1   Paris, 75001          Paris             75      Paris   Paris   \n6   Paris, 75008          Paris             75      Paris   Paris   \n8   Paris, 75008          Paris             75      Paris   Paris   \n9   Paris, 75004          Paris             75      Paris   Paris   \n10  Paris, 75016          Paris             75      Paris   Paris   \n\n           region price                 cuisine  \\\n1   Île-de-France  €€€€                Creative   \n6   Île-de-France  €€€€                Creative   \n8   Île-de-France  €€€€                Creative   \n9   Île-de-France  €€€€         Classic Cuisine   \n10  Île-de-France  €€€€  Creative, Contemporary   \n\n                                             url    award  stars  longitude  \\\n1   https://www.chevalblanc.com/fr/maison/paris/  3 Stars    3.0   2.342159   \n6         http://pierregagnaire-lerestaurant.com  3 Stars    3.0   2.300386   \n8                 https://www.yannick-alleno.com  3 Stars    3.0   2.316499   \n9               https://www.ambroisie-paris.com/  3 Stars    3.0   2.364521   \n10                 https://www.leprecatelan.com/  3 Stars    3.0   2.250718   \n\n     latitude  \n1   48.858815  \n6   48.873251  \n8   48.866093  \n9   48.855494  \n10  48.863937  ",
      "text/html": "<div>\n<style scoped>\n    .dataframe tbody tr th:only-of-type {\n        vertical-align: middle;\n    }\n\n    .dataframe tbody tr th {\n        vertical-align: top;\n    }\n\n    .dataframe thead th {\n        text-align: right;\n    }\n</style>\n<table border=\"1\" class=\"dataframe\">\n  <thead>\n    <tr style=\"text-align: right;\">\n      <th></th>\n      <th>name</th>\n      <th>address</th>\n      <th>location</th>\n      <th>arrondissement</th>\n      <th>department_num</th>\n      <th>department</th>\n      <th>capital</th>\n      <th>region</th>\n      <th>price</th>\n      <th>cuisine</th>\n      <th>url</th>\n      <th>award</th>\n      <th>stars</th>\n      <th>longitude</th>\n      <th>latitude</th>\n    </tr>\n  </thead>\n  <tbody>\n    <tr>\n      <th>1</th>\n      <td>Plénitude - Cheval Blanc Paris</td>\n      <td>8 quai du Louvre</td>\n      <td>Paris, 75001</td>\n      <td>Paris</td>\n      <td>75</td>\n      <td>Paris</td>\n      <td>Paris</td>\n      <td>Île-de-France</td>\n      <td>€€€€</td>\n      <td>Creative</td>\n      <td>https://www.chevalblanc.com/fr/maison/paris/</td>\n      <td>3 Stars</td>\n      <td>3.0</td>\n      <td>2.342159</td>\n      <td>48.858815</td>\n    </tr>\n    <tr>\n      <th>6</th>\n      <td>Pierre Gagnaire</td>\n      <td>6 rue Balzac</td>\n      <td>Paris, 75008</td>\n      <td>Paris</td>\n      <td>75</td>\n      <td>Paris</td>\n      <td>Paris</td>\n      <td>Île-de-France</td>\n      <td>€€€€</td>\n      <td>Creative</td>\n      <td>http://pierregagnaire-lerestaurant.com</td>\n      <td>3 Stars</td>\n      <td>3.0</td>\n      <td>2.300386</td>\n      <td>48.873251</td>\n    </tr>\n    <tr>\n      <th>8</th>\n      <td>Alléno Paris au Pavillon Ledoyen</td>\n      <td>8 avenue Dutuit</td>\n      <td>Paris, 75008</td>\n      <td>Paris</td>\n      <td>75</td>\n      <td>Paris</td>\n      <td>Paris</td>\n      <td>Île-de-France</td>\n      <td>€€€€</td>\n      <td>Creative</td>\n      <td>https://www.yannick-alleno.com</td>\n      <td>3 Stars</td>\n      <td>3.0</td>\n      <td>2.316499</td>\n      <td>48.866093</td>\n    </tr>\n    <tr>\n      <th>9</th>\n      <td>L'Ambroisie</td>\n      <td>9 place des Vosges</td>\n      <td>Paris, 75004</td>\n      <td>Paris</td>\n      <td>75</td>\n      <td>Paris</td>\n      <td>Paris</td>\n      <td>Île-de-France</td>\n      <td>€€€€</td>\n      <td>Classic Cuisine</td>\n      <td>https://www.ambroisie-paris.com/</td>\n      <td>3 Stars</td>\n      <td>3.0</td>\n      <td>2.364521</td>\n      <td>48.855494</td>\n    </tr>\n    <tr>\n      <th>10</th>\n      <td>Le Pré Catelan</td>\n      <td>Route de Suresnes - bois de Boulogne</td>\n      <td>Paris, 75016</td>\n      <td>Paris</td>\n      <td>75</td>\n      <td>Paris</td>\n      <td>Paris</td>\n      <td>Île-de-France</td>\n      <td>€€€€</td>\n      <td>Creative, Contemporary</td>\n      <td>https://www.leprecatelan.com/</td>\n      <td>3 Stars</td>\n      <td>3.0</td>\n      <td>2.250718</td>\n      <td>48.863937</td>\n    </tr>\n  </tbody>\n</table>\n</div>"
     },
     "execution_count": 31,
     "metadata": {},
     "output_type": "execute_result"
    }
   ],
   "source": [
    "paris_rows = all_france[all_france['location'].str.contains('Paris', case=False, na=False)]\n",
    "paris_rows.head()"
   ],
   "metadata": {
    "collapsed": false,
    "ExecuteTime": {
     "end_time": "2024-04-24T20:44:43.737571Z",
     "start_time": "2024-04-24T20:44:43.703499Z"
    }
   }
  },
  {
   "cell_type": "code",
   "execution_count": 32,
   "outputs": [],
   "source": [
    "# Mask to identify rows with 'arrondissement' == 'Paris'\n",
    "mask_paris = all_france['arrondissement'] == 'Paris'\n",
    "\n",
    "# Extract the last two digits from the postal code for the mask\n",
    "all_france.loc[mask_paris, 'postal_digits'] = all_france.loc[mask_paris, 'location'].str[-2:].astype(int)\n",
    "\n",
    "# Overwrite the 'arrondissement' column for the mask\n",
    "all_france.loc[mask_paris, 'arrondissement'] = all_france.loc[mask_paris, 'postal_digits']\n",
    "\n",
    "# Drop the temporary 'postal_digits' column\n",
    "all_france.drop(columns=['postal_digits'], inplace=True, errors='ignore')  # Using errors='ignore' to ensure code doesn't break if column doesn't exist"
   ],
   "metadata": {
    "collapsed": false,
    "ExecuteTime": {
     "end_time": "2024-04-24T20:44:51.044769Z",
     "start_time": "2024-04-24T20:44:51.015580Z"
    }
   }
  },
  {
   "cell_type": "code",
   "execution_count": 33,
   "outputs": [
    {
     "data": {
      "text/plain": "                             name  \\\n0           La Table du Castellet   \n1  Plénitude - Cheval Blanc Paris   \n2                   Le Petit Nice   \n3                         Mirazur   \n4         AM par Alexandre Mazzia   \n\n                                             address             location  \\\n0  3001 route des Hauts-du-Camp, au Circuit Paul ...  Le Castellet, 83330   \n1                                   8 quai du Louvre         Paris, 75001   \n2                                   Anse de Maldormé     Marseille, 13007   \n3                          30 avenue Aristide-Briand        Menton, 06500   \n4                               9 rue François-Rocca     Marseille, 13008   \n\n  arrondissement department_num        department    capital  \\\n0         Toulon             83               Var     Toulon   \n1            1.0             75             Paris      Paris   \n2      Marseille             13  Bouches-du-Rhône  Marseille   \n3           Nice             06   Alpes-Maritimes       Nice   \n4      Marseille             13  Bouches-du-Rhône  Marseille   \n\n                       region price   cuisine  \\\n0  Provence-Alpes-Côte d'Azur  €€€€  Creative   \n1               Île-de-France  €€€€  Creative   \n2  Provence-Alpes-Côte d'Azur  €€€€   Seafood   \n3  Provence-Alpes-Côte d'Azur  €€€€  Creative   \n4  Provence-Alpes-Côte d'Azur  €€€€  Creative   \n\n                                                 url    award  stars  \\\n0  http://www.hotelducastellet.net/fr/restaurants...  3 Stars    3.0   \n1       https://www.chevalblanc.com/fr/maison/paris/  3 Stars    3.0   \n2                            https://www.passedat.fr  3 Stars    3.0   \n3                            https://www.mirazur.fr/  3 Stars    3.0   \n4                  https://www.alexandre-mazzia.com/  3 Stars    3.0   \n\n   longitude   latitude  \n0   5.783887  43.249929  \n1   2.342159  48.858815  \n2   5.352121  43.280086  \n3   7.528051  43.785930  \n4   5.386233  43.270110  ",
      "text/html": "<div>\n<style scoped>\n    .dataframe tbody tr th:only-of-type {\n        vertical-align: middle;\n    }\n\n    .dataframe tbody tr th {\n        vertical-align: top;\n    }\n\n    .dataframe thead th {\n        text-align: right;\n    }\n</style>\n<table border=\"1\" class=\"dataframe\">\n  <thead>\n    <tr style=\"text-align: right;\">\n      <th></th>\n      <th>name</th>\n      <th>address</th>\n      <th>location</th>\n      <th>arrondissement</th>\n      <th>department_num</th>\n      <th>department</th>\n      <th>capital</th>\n      <th>region</th>\n      <th>price</th>\n      <th>cuisine</th>\n      <th>url</th>\n      <th>award</th>\n      <th>stars</th>\n      <th>longitude</th>\n      <th>latitude</th>\n    </tr>\n  </thead>\n  <tbody>\n    <tr>\n      <th>0</th>\n      <td>La Table du Castellet</td>\n      <td>3001 route des Hauts-du-Camp, au Circuit Paul ...</td>\n      <td>Le Castellet, 83330</td>\n      <td>Toulon</td>\n      <td>83</td>\n      <td>Var</td>\n      <td>Toulon</td>\n      <td>Provence-Alpes-Côte d'Azur</td>\n      <td>€€€€</td>\n      <td>Creative</td>\n      <td>http://www.hotelducastellet.net/fr/restaurants...</td>\n      <td>3 Stars</td>\n      <td>3.0</td>\n      <td>5.783887</td>\n      <td>43.249929</td>\n    </tr>\n    <tr>\n      <th>1</th>\n      <td>Plénitude - Cheval Blanc Paris</td>\n      <td>8 quai du Louvre</td>\n      <td>Paris, 75001</td>\n      <td>1.0</td>\n      <td>75</td>\n      <td>Paris</td>\n      <td>Paris</td>\n      <td>Île-de-France</td>\n      <td>€€€€</td>\n      <td>Creative</td>\n      <td>https://www.chevalblanc.com/fr/maison/paris/</td>\n      <td>3 Stars</td>\n      <td>3.0</td>\n      <td>2.342159</td>\n      <td>48.858815</td>\n    </tr>\n    <tr>\n      <th>2</th>\n      <td>Le Petit Nice</td>\n      <td>Anse de Maldormé</td>\n      <td>Marseille, 13007</td>\n      <td>Marseille</td>\n      <td>13</td>\n      <td>Bouches-du-Rhône</td>\n      <td>Marseille</td>\n      <td>Provence-Alpes-Côte d'Azur</td>\n      <td>€€€€</td>\n      <td>Seafood</td>\n      <td>https://www.passedat.fr</td>\n      <td>3 Stars</td>\n      <td>3.0</td>\n      <td>5.352121</td>\n      <td>43.280086</td>\n    </tr>\n    <tr>\n      <th>3</th>\n      <td>Mirazur</td>\n      <td>30 avenue Aristide-Briand</td>\n      <td>Menton, 06500</td>\n      <td>Nice</td>\n      <td>06</td>\n      <td>Alpes-Maritimes</td>\n      <td>Nice</td>\n      <td>Provence-Alpes-Côte d'Azur</td>\n      <td>€€€€</td>\n      <td>Creative</td>\n      <td>https://www.mirazur.fr/</td>\n      <td>3 Stars</td>\n      <td>3.0</td>\n      <td>7.528051</td>\n      <td>43.785930</td>\n    </tr>\n    <tr>\n      <th>4</th>\n      <td>AM par Alexandre Mazzia</td>\n      <td>9 rue François-Rocca</td>\n      <td>Marseille, 13008</td>\n      <td>Marseille</td>\n      <td>13</td>\n      <td>Bouches-du-Rhône</td>\n      <td>Marseille</td>\n      <td>Provence-Alpes-Côte d'Azur</td>\n      <td>€€€€</td>\n      <td>Creative</td>\n      <td>https://www.alexandre-mazzia.com/</td>\n      <td>3 Stars</td>\n      <td>3.0</td>\n      <td>5.386233</td>\n      <td>43.270110</td>\n    </tr>\n  </tbody>\n</table>\n</div>"
     },
     "execution_count": 33,
     "metadata": {},
     "output_type": "execute_result"
    }
   ],
   "source": [
    "all_france.head()"
   ],
   "metadata": {
    "collapsed": false,
    "ExecuteTime": {
     "end_time": "2024-04-24T20:44:52.988848Z",
     "start_time": "2024-04-24T20:44:52.948026Z"
    }
   }
  },
  {
   "cell_type": "code",
   "execution_count": 34,
   "outputs": [],
   "source": [
    "# Filter out Paris rows\n",
    "paris_rows = all_france[all_france['department'].str.contains('Paris', case=False, na=False)].copy()"
   ],
   "metadata": {
    "collapsed": false,
    "ExecuteTime": {
     "end_time": "2024-04-24T20:45:07.814556Z",
     "start_time": "2024-04-24T20:45:07.784985Z"
    }
   }
  },
  {
   "cell_type": "code",
   "execution_count": 35,
   "outputs": [],
   "source": [
    "# Extract numbers from \"1st\", \"2nd\", etc. in paris_arr to a new temporary column\n",
    "paris_arr['arr_num'] = paris_arr['arrondissement'].str.extract('(\\d+)').astype(float)\n",
    "\n",
    "# Create a dictionary that maps these numbers to the tuple (arrondissement, name)\n",
    "paris_tuple_dict = dict(zip(paris_arr['arr_num'], zip(paris_arr['arrondissement'], paris_arr['name'])))\n",
    "paris_tuple_dict = {k: f\"{v[0]} ({v[1]})\" for k, v in paris_tuple_dict.items()}"
   ],
   "metadata": {
    "collapsed": false,
    "ExecuteTime": {
     "end_time": "2024-04-24T20:45:10.284509Z",
     "start_time": "2024-04-24T20:45:10.256317Z"
    }
   }
  },
  {
   "cell_type": "code",
   "execution_count": 36,
   "outputs": [],
   "source": [
    "# Map the arrondissement values in all_france to the paris_tuple_dict\n",
    "new_arr_values = all_france['arrondissement'].map(paris_tuple_dict)\n",
    "\n",
    "# Fill NaN values with existing values from arrondissement column\n",
    "new_arr_values.fillna(all_france['arrondissement'], inplace=True)"
   ],
   "metadata": {
    "collapsed": false,
    "ExecuteTime": {
     "end_time": "2024-04-24T20:45:14.686784Z",
     "start_time": "2024-04-24T20:45:14.658124Z"
    }
   }
  },
  {
   "cell_type": "code",
   "execution_count": 37,
   "outputs": [
    {
     "data": {
      "text/plain": "                             name  \\\n0           La Table du Castellet   \n1  Plénitude - Cheval Blanc Paris   \n2                   Le Petit Nice   \n3                         Mirazur   \n4         AM par Alexandre Mazzia   \n\n                                             address             location  \\\n0  3001 route des Hauts-du-Camp, au Circuit Paul ...  Le Castellet, 83330   \n1                                   8 quai du Louvre         Paris, 75001   \n2                                   Anse de Maldormé     Marseille, 13007   \n3                          30 avenue Aristide-Briand        Menton, 06500   \n4                               9 rue François-Rocca     Marseille, 13008   \n\n  arrondissement department_num        department    capital  \\\n0         Toulon             83               Var     Toulon   \n1   1st (Louvre)             75             Paris      Paris   \n2      Marseille             13  Bouches-du-Rhône  Marseille   \n3           Nice             06   Alpes-Maritimes       Nice   \n4      Marseille             13  Bouches-du-Rhône  Marseille   \n\n                       region price   cuisine  \\\n0  Provence-Alpes-Côte d'Azur  €€€€  Creative   \n1               Île-de-France  €€€€  Creative   \n2  Provence-Alpes-Côte d'Azur  €€€€   Seafood   \n3  Provence-Alpes-Côte d'Azur  €€€€  Creative   \n4  Provence-Alpes-Côte d'Azur  €€€€  Creative   \n\n                                                 url    award  stars  \\\n0  http://www.hotelducastellet.net/fr/restaurants...  3 Stars    3.0   \n1       https://www.chevalblanc.com/fr/maison/paris/  3 Stars    3.0   \n2                            https://www.passedat.fr  3 Stars    3.0   \n3                            https://www.mirazur.fr/  3 Stars    3.0   \n4                  https://www.alexandre-mazzia.com/  3 Stars    3.0   \n\n   longitude   latitude  \n0   5.783887  43.249929  \n1   2.342159  48.858815  \n2   5.352121  43.280086  \n3   7.528051  43.785930  \n4   5.386233  43.270110  ",
      "text/html": "<div>\n<style scoped>\n    .dataframe tbody tr th:only-of-type {\n        vertical-align: middle;\n    }\n\n    .dataframe tbody tr th {\n        vertical-align: top;\n    }\n\n    .dataframe thead th {\n        text-align: right;\n    }\n</style>\n<table border=\"1\" class=\"dataframe\">\n  <thead>\n    <tr style=\"text-align: right;\">\n      <th></th>\n      <th>name</th>\n      <th>address</th>\n      <th>location</th>\n      <th>arrondissement</th>\n      <th>department_num</th>\n      <th>department</th>\n      <th>capital</th>\n      <th>region</th>\n      <th>price</th>\n      <th>cuisine</th>\n      <th>url</th>\n      <th>award</th>\n      <th>stars</th>\n      <th>longitude</th>\n      <th>latitude</th>\n    </tr>\n  </thead>\n  <tbody>\n    <tr>\n      <th>0</th>\n      <td>La Table du Castellet</td>\n      <td>3001 route des Hauts-du-Camp, au Circuit Paul ...</td>\n      <td>Le Castellet, 83330</td>\n      <td>Toulon</td>\n      <td>83</td>\n      <td>Var</td>\n      <td>Toulon</td>\n      <td>Provence-Alpes-Côte d'Azur</td>\n      <td>€€€€</td>\n      <td>Creative</td>\n      <td>http://www.hotelducastellet.net/fr/restaurants...</td>\n      <td>3 Stars</td>\n      <td>3.0</td>\n      <td>5.783887</td>\n      <td>43.249929</td>\n    </tr>\n    <tr>\n      <th>1</th>\n      <td>Plénitude - Cheval Blanc Paris</td>\n      <td>8 quai du Louvre</td>\n      <td>Paris, 75001</td>\n      <td>1st (Louvre)</td>\n      <td>75</td>\n      <td>Paris</td>\n      <td>Paris</td>\n      <td>Île-de-France</td>\n      <td>€€€€</td>\n      <td>Creative</td>\n      <td>https://www.chevalblanc.com/fr/maison/paris/</td>\n      <td>3 Stars</td>\n      <td>3.0</td>\n      <td>2.342159</td>\n      <td>48.858815</td>\n    </tr>\n    <tr>\n      <th>2</th>\n      <td>Le Petit Nice</td>\n      <td>Anse de Maldormé</td>\n      <td>Marseille, 13007</td>\n      <td>Marseille</td>\n      <td>13</td>\n      <td>Bouches-du-Rhône</td>\n      <td>Marseille</td>\n      <td>Provence-Alpes-Côte d'Azur</td>\n      <td>€€€€</td>\n      <td>Seafood</td>\n      <td>https://www.passedat.fr</td>\n      <td>3 Stars</td>\n      <td>3.0</td>\n      <td>5.352121</td>\n      <td>43.280086</td>\n    </tr>\n    <tr>\n      <th>3</th>\n      <td>Mirazur</td>\n      <td>30 avenue Aristide-Briand</td>\n      <td>Menton, 06500</td>\n      <td>Nice</td>\n      <td>06</td>\n      <td>Alpes-Maritimes</td>\n      <td>Nice</td>\n      <td>Provence-Alpes-Côte d'Azur</td>\n      <td>€€€€</td>\n      <td>Creative</td>\n      <td>https://www.mirazur.fr/</td>\n      <td>3 Stars</td>\n      <td>3.0</td>\n      <td>7.528051</td>\n      <td>43.785930</td>\n    </tr>\n    <tr>\n      <th>4</th>\n      <td>AM par Alexandre Mazzia</td>\n      <td>9 rue François-Rocca</td>\n      <td>Marseille, 13008</td>\n      <td>Marseille</td>\n      <td>13</td>\n      <td>Bouches-du-Rhône</td>\n      <td>Marseille</td>\n      <td>Provence-Alpes-Côte d'Azur</td>\n      <td>€€€€</td>\n      <td>Creative</td>\n      <td>https://www.alexandre-mazzia.com/</td>\n      <td>3 Stars</td>\n      <td>3.0</td>\n      <td>5.386233</td>\n      <td>43.270110</td>\n    </tr>\n  </tbody>\n</table>\n</div>"
     },
     "execution_count": 37,
     "metadata": {},
     "output_type": "execute_result"
    }
   ],
   "source": [
    "# Assign the new series to the arrondissement column\n",
    "all_france['arrondissement'] = new_arr_values\n",
    "all_france.head()"
   ],
   "metadata": {
    "collapsed": false,
    "ExecuteTime": {
     "end_time": "2024-04-24T20:45:16.748692Z",
     "start_time": "2024-04-24T20:45:16.716840Z"
    }
   }
  },
  {
   "cell_type": "code",
   "execution_count": 38,
   "outputs": [
    {
     "name": "stdout",
     "output_type": "stream",
     "text": [
      "Shape: (153, 15)\n"
     ]
    },
    {
     "data": {
      "text/plain": "                                name                               address  \\\n1     Plénitude - Cheval Blanc Paris                      8 quai du Louvre   \n6                    Pierre Gagnaire                          6 rue Balzac   \n8   Alléno Paris au Pavillon Ledoyen                       8 avenue Dutuit   \n9                        L'Ambroisie                    9 place des Vosges   \n10                    Le Pré Catelan  Route de Suresnes - bois de Boulogne   \n\n        location        arrondissement department_num department capital  \\\n1   Paris, 75001          1st (Louvre)             75      Paris   Paris   \n6   Paris, 75008          8th (Élysée)             75      Paris   Paris   \n8   Paris, 75008          8th (Élysée)             75      Paris   Paris   \n9   Paris, 75004  4th (Hôtel-de-Ville)             75      Paris   Paris   \n10  Paris, 75016          16th (Passy)             75      Paris   Paris   \n\n           region price                 cuisine  \\\n1   Île-de-France  €€€€                Creative   \n6   Île-de-France  €€€€                Creative   \n8   Île-de-France  €€€€                Creative   \n9   Île-de-France  €€€€         Classic Cuisine   \n10  Île-de-France  €€€€  Creative, Contemporary   \n\n                                             url    award  stars  longitude  \\\n1   https://www.chevalblanc.com/fr/maison/paris/  3 Stars    3.0   2.342159   \n6         http://pierregagnaire-lerestaurant.com  3 Stars    3.0   2.300386   \n8                 https://www.yannick-alleno.com  3 Stars    3.0   2.316499   \n9               https://www.ambroisie-paris.com/  3 Stars    3.0   2.364521   \n10                 https://www.leprecatelan.com/  3 Stars    3.0   2.250718   \n\n     latitude  \n1   48.858815  \n6   48.873251  \n8   48.866093  \n9   48.855494  \n10  48.863937  ",
      "text/html": "<div>\n<style scoped>\n    .dataframe tbody tr th:only-of-type {\n        vertical-align: middle;\n    }\n\n    .dataframe tbody tr th {\n        vertical-align: top;\n    }\n\n    .dataframe thead th {\n        text-align: right;\n    }\n</style>\n<table border=\"1\" class=\"dataframe\">\n  <thead>\n    <tr style=\"text-align: right;\">\n      <th></th>\n      <th>name</th>\n      <th>address</th>\n      <th>location</th>\n      <th>arrondissement</th>\n      <th>department_num</th>\n      <th>department</th>\n      <th>capital</th>\n      <th>region</th>\n      <th>price</th>\n      <th>cuisine</th>\n      <th>url</th>\n      <th>award</th>\n      <th>stars</th>\n      <th>longitude</th>\n      <th>latitude</th>\n    </tr>\n  </thead>\n  <tbody>\n    <tr>\n      <th>1</th>\n      <td>Plénitude - Cheval Blanc Paris</td>\n      <td>8 quai du Louvre</td>\n      <td>Paris, 75001</td>\n      <td>1st (Louvre)</td>\n      <td>75</td>\n      <td>Paris</td>\n      <td>Paris</td>\n      <td>Île-de-France</td>\n      <td>€€€€</td>\n      <td>Creative</td>\n      <td>https://www.chevalblanc.com/fr/maison/paris/</td>\n      <td>3 Stars</td>\n      <td>3.0</td>\n      <td>2.342159</td>\n      <td>48.858815</td>\n    </tr>\n    <tr>\n      <th>6</th>\n      <td>Pierre Gagnaire</td>\n      <td>6 rue Balzac</td>\n      <td>Paris, 75008</td>\n      <td>8th (Élysée)</td>\n      <td>75</td>\n      <td>Paris</td>\n      <td>Paris</td>\n      <td>Île-de-France</td>\n      <td>€€€€</td>\n      <td>Creative</td>\n      <td>http://pierregagnaire-lerestaurant.com</td>\n      <td>3 Stars</td>\n      <td>3.0</td>\n      <td>2.300386</td>\n      <td>48.873251</td>\n    </tr>\n    <tr>\n      <th>8</th>\n      <td>Alléno Paris au Pavillon Ledoyen</td>\n      <td>8 avenue Dutuit</td>\n      <td>Paris, 75008</td>\n      <td>8th (Élysée)</td>\n      <td>75</td>\n      <td>Paris</td>\n      <td>Paris</td>\n      <td>Île-de-France</td>\n      <td>€€€€</td>\n      <td>Creative</td>\n      <td>https://www.yannick-alleno.com</td>\n      <td>3 Stars</td>\n      <td>3.0</td>\n      <td>2.316499</td>\n      <td>48.866093</td>\n    </tr>\n    <tr>\n      <th>9</th>\n      <td>L'Ambroisie</td>\n      <td>9 place des Vosges</td>\n      <td>Paris, 75004</td>\n      <td>4th (Hôtel-de-Ville)</td>\n      <td>75</td>\n      <td>Paris</td>\n      <td>Paris</td>\n      <td>Île-de-France</td>\n      <td>€€€€</td>\n      <td>Classic Cuisine</td>\n      <td>https://www.ambroisie-paris.com/</td>\n      <td>3 Stars</td>\n      <td>3.0</td>\n      <td>2.364521</td>\n      <td>48.855494</td>\n    </tr>\n    <tr>\n      <th>10</th>\n      <td>Le Pré Catelan</td>\n      <td>Route de Suresnes - bois de Boulogne</td>\n      <td>Paris, 75016</td>\n      <td>16th (Passy)</td>\n      <td>75</td>\n      <td>Paris</td>\n      <td>Paris</td>\n      <td>Île-de-France</td>\n      <td>€€€€</td>\n      <td>Creative, Contemporary</td>\n      <td>https://www.leprecatelan.com/</td>\n      <td>3 Stars</td>\n      <td>3.0</td>\n      <td>2.250718</td>\n      <td>48.863937</td>\n    </tr>\n  </tbody>\n</table>\n</div>"
     },
     "execution_count": 38,
     "metadata": {},
     "output_type": "execute_result"
    }
   ],
   "source": [
    "paris = all_france[all_france['department'].str.contains('Paris', case=False, na=False)].copy()\n",
    "print(f\"Shape: {paris.shape}\")\n",
    "paris.head()"
   ],
   "metadata": {
    "collapsed": false,
    "ExecuteTime": {
     "end_time": "2024-04-24T20:45:19.822672Z",
     "start_time": "2024-04-24T20:45:19.776815Z"
    }
   }
  },
  {
   "cell_type": "markdown",
   "source": [
    "----\n",
    "&nbsp;\n",
    "### Exporting to .csv file"
   ],
   "metadata": {
    "collapsed": false
   }
  },
  {
   "cell_type": "code",
   "execution_count": 39,
   "outputs": [],
   "source": [
    "# Export the DataFrame to a .csv file\n",
    "all_france.to_csv('../../data/France/all_restaurants(arrondissements).csv', index=False)"
   ],
   "metadata": {
    "collapsed": false,
    "ExecuteTime": {
     "end_time": "2024-04-24T20:45:52.093289Z",
     "start_time": "2024-04-24T20:45:52.042310Z"
    }
   }
  },
  {
   "cell_type": "markdown",
   "source": [
    "----\n",
    "&nbsp;\n",
    "## Grouping by *arrondissement* based on number of Michelin stars"
   ],
   "metadata": {
    "collapsed": false,
    "ExecuteTime": {
     "end_time": "2023-08-11T16:02:54.610870Z",
     "start_time": "2023-08-11T16:02:54.516806Z"
    }
   }
  },
  {
   "cell_type": "code",
   "execution_count": 40,
   "outputs": [],
   "source": [
    "france_data_copy = france_df.copy()\n",
    "\n",
    "# Create dummy variables for each category of 'star'\n",
    "france_data_copy['bib_gourmand'] = france_data_copy['stars'].apply(lambda x: 1 if x == 0.5 else 0)\n",
    "france_data_copy['1_star'] = france_data_copy['stars'].apply(lambda x: 1 if x == 1.0 else 0)\n",
    "france_data_copy['2_star'] = france_data_copy['stars'].apply(lambda x: 1 if x == 2.0 else 0)\n",
    "france_data_copy['3_star'] = france_data_copy['stars'].apply(lambda x: 1 if x == 3.0 else 0)"
   ],
   "metadata": {
    "collapsed": false,
    "ExecuteTime": {
     "end_time": "2024-04-24T20:45:54.936838Z",
     "start_time": "2024-04-24T20:45:54.927360Z"
    }
   }
  },
  {
   "cell_type": "markdown",
   "source": [
    "#### By *`arrondissement`*\n",
    "We sort `france_data` by total number of awarded restaurants"
   ],
   "metadata": {
    "collapsed": false,
    "ExecuteTime": {
     "end_time": "2023-08-11T16:02:54.835671Z",
     "start_time": "2023-08-11T16:02:54.827622Z"
    }
   }
  },
  {
   "cell_type": "code",
   "execution_count": 41,
   "outputs": [],
   "source": [
    "# Group by 'arrondissement' and sum 'bib', '1_star', '2_star' and '3_star'\n",
    "arrondissement_grouped = france_data_copy.groupby('arrondissement')[['bib_gourmand', '1_star', '2_star', '3_star']].sum()\n",
    "\n",
    "# Create a copy for plotting\n",
    "arrondissement_grouped_two = arrondissement_grouped.copy()"
   ],
   "metadata": {
    "collapsed": false,
    "ExecuteTime": {
     "end_time": "2024-04-24T20:45:57.561569Z",
     "start_time": "2024-04-24T20:45:57.544762Z"
    }
   }
  },
  {
   "cell_type": "markdown",
   "source": [
    "`arrondissement_grouped` is created to be merged with the demographics data"
   ],
   "metadata": {
    "collapsed": false,
    "ExecuteTime": {
     "end_time": "2023-08-11T16:02:54.842698Z",
     "start_time": "2023-08-11T16:02:54.839307Z"
    }
   }
  },
  {
   "cell_type": "code",
   "execution_count": 42,
   "outputs": [],
   "source": [
    "# Create a 'total_ star' column - sum of stars\n",
    "# Individual stars are summed here. ie, If 2 star then stars = 2\n",
    "arrondissement_grouped['total_stars'] = arrondissement_grouped['1_star']*1 + arrondissement_grouped['2_star']*2 + arrondissement_grouped['3_star']*3\n",
    "\n",
    "# Create a 'total' column = sum of restaurants\n",
    "arrondissement_grouped['starred_restaurants'] =  arrondissement_grouped['1_star'] + arrondissement_grouped['2_star'] + arrondissement_grouped['3_star']\n",
    "\n",
    "# Sort the dataframe by the 'total_stars' column in descending order\n",
    "arrondissement_grouped.sort_values('total_stars', ascending=True, inplace=True)"
   ],
   "metadata": {
    "collapsed": false,
    "ExecuteTime": {
     "end_time": "2024-04-24T20:46:00.677055Z",
     "start_time": "2024-04-24T20:46:00.645855Z"
    }
   }
  },
  {
   "cell_type": "code",
   "execution_count": 43,
   "outputs": [
    {
     "data": {
      "text/plain": "                       bib_gourmand  1_star  2_star  3_star  total_stars  \\\narrondissement                                                             \nAbbeville                         2       0       0       0            0   \nCharleville-Mézières              1       0       0       0            0   \nChinon                            2       0       0       0            0   \nCholet                            1       0       0       0            0   \nChâteaubriant-Ancenis             1       0       0       0            0   \n\n                       starred_restaurants  \narrondissement                              \nAbbeville                                0  \nCharleville-Mézières                     0  \nChinon                                   0  \nCholet                                   0  \nChâteaubriant-Ancenis                    0  ",
      "text/html": "<div>\n<style scoped>\n    .dataframe tbody tr th:only-of-type {\n        vertical-align: middle;\n    }\n\n    .dataframe tbody tr th {\n        vertical-align: top;\n    }\n\n    .dataframe thead th {\n        text-align: right;\n    }\n</style>\n<table border=\"1\" class=\"dataframe\">\n  <thead>\n    <tr style=\"text-align: right;\">\n      <th></th>\n      <th>bib_gourmand</th>\n      <th>1_star</th>\n      <th>2_star</th>\n      <th>3_star</th>\n      <th>total_stars</th>\n      <th>starred_restaurants</th>\n    </tr>\n    <tr>\n      <th>arrondissement</th>\n      <th></th>\n      <th></th>\n      <th></th>\n      <th></th>\n      <th></th>\n      <th></th>\n    </tr>\n  </thead>\n  <tbody>\n    <tr>\n      <th>Abbeville</th>\n      <td>2</td>\n      <td>0</td>\n      <td>0</td>\n      <td>0</td>\n      <td>0</td>\n      <td>0</td>\n    </tr>\n    <tr>\n      <th>Charleville-Mézières</th>\n      <td>1</td>\n      <td>0</td>\n      <td>0</td>\n      <td>0</td>\n      <td>0</td>\n      <td>0</td>\n    </tr>\n    <tr>\n      <th>Chinon</th>\n      <td>2</td>\n      <td>0</td>\n      <td>0</td>\n      <td>0</td>\n      <td>0</td>\n      <td>0</td>\n    </tr>\n    <tr>\n      <th>Cholet</th>\n      <td>1</td>\n      <td>0</td>\n      <td>0</td>\n      <td>0</td>\n      <td>0</td>\n      <td>0</td>\n    </tr>\n    <tr>\n      <th>Châteaubriant-Ancenis</th>\n      <td>1</td>\n      <td>0</td>\n      <td>0</td>\n      <td>0</td>\n      <td>0</td>\n      <td>0</td>\n    </tr>\n  </tbody>\n</table>\n</div>"
     },
     "execution_count": 43,
     "metadata": {},
     "output_type": "execute_result"
    }
   ],
   "source": [
    "arrondissement_grouped.head()"
   ],
   "metadata": {
    "collapsed": false,
    "ExecuteTime": {
     "end_time": "2024-04-24T20:46:02.419613Z",
     "start_time": "2024-04-24T20:46:02.390079Z"
    }
   }
  },
  {
   "cell_type": "markdown",
   "source": [
    "----\n",
    "&nbsp;\n",
    "## Plotting starred restaurants by *`arrondissement`*\n",
    "\n",
    "We use `arrondissement_grouped_two` for plotting whilst excluding Paris"
   ],
   "metadata": {
    "collapsed": false,
    "ExecuteTime": {
     "end_time": "2023-08-11T16:02:54.933834Z",
     "start_time": "2023-08-11T16:02:54.855247Z"
    }
   }
  },
  {
   "cell_type": "code",
   "execution_count": 44,
   "outputs": [],
   "source": [
    "# Create a 'total_starred' column - sum of starred restaurants\n",
    "arrondissement_grouped_two['total_starred'] = arrondissement_grouped_two['1_star'] + arrondissement_grouped_two['2_star'] + arrondissement_grouped_two['3_star']\n",
    "\n",
    "# Sort the dataframes by the 'total' and 'total_stars' columns in descending order\n",
    "arrondissement_grouped_two.sort_values('total_starred', ascending=True, inplace=True)"
   ],
   "metadata": {
    "collapsed": false,
    "ExecuteTime": {
     "end_time": "2024-04-24T20:46:06.809350Z",
     "start_time": "2024-04-24T20:46:06.777700Z"
    }
   }
  },
  {
   "cell_type": "code",
   "execution_count": 45,
   "outputs": [],
   "source": [
    "# Exclude 'Paris'\n",
    "arrondissement_grouped_no_paris = arrondissement_grouped_two[arrondissement_grouped_two.index.get_level_values('arrondissement') != 'Paris']"
   ],
   "metadata": {
    "collapsed": false,
    "ExecuteTime": {
     "end_time": "2024-04-24T20:46:09.515353Z",
     "start_time": "2024-04-24T20:46:09.487971Z"
    }
   }
  },
  {
   "cell_type": "code",
   "execution_count": 46,
   "outputs": [],
   "source": [
    "# Sort by 'total_starred' in descending order and keep the top 10\n",
    "arrondissement_grouped_top10 = arrondissement_grouped_no_paris.sort_values('total_starred', ascending=False).head(10)\n",
    "\n",
    "# Drop the 'bib_gourmand' & 'total' columns\n",
    "arrondissement_grouped_top10 = arrondissement_grouped_top10.drop(columns=['bib_gourmand', 'total_starred'])\n",
    "\n",
    "# Reverse the order of the DataFrame\n",
    "arrondissement_grouped_top10 = arrondissement_grouped_top10.iloc[::-1]"
   ],
   "metadata": {
    "collapsed": false,
    "ExecuteTime": {
     "end_time": "2024-04-24T20:46:11.955076Z",
     "start_time": "2024-04-24T20:46:11.928490Z"
    }
   }
  },
  {
   "cell_type": "markdown",
   "source": [
    "Plot the data"
   ],
   "metadata": {
    "collapsed": false,
    "ExecuteTime": {
     "end_time": "2023-08-11T16:02:58.460663Z",
     "start_time": "2023-08-11T16:02:58.442714Z"
    }
   }
  },
  {
   "cell_type": "code",
   "execution_count": 47,
   "outputs": [
    {
     "data": {
      "text/plain": "<Figure size 1000x700 with 1 Axes>",
      "image/png": "[encoded data removed]"
     },
     "metadata": {},
     "output_type": "display_data"
    }
   ],
   "source": [
    "# Create a horizontal stacked bar plot\n",
    "arrondissement_grouped_top10.plot(kind='barh', stacked=True, figsize=(10, 7),\n",
    "                    color=['#fee8c8','#fdbb84','#e34a33'])\n",
    "\n",
    "# Add title and labels\n",
    "plt.title('Michelin Starred Restaurants by Arrondissement\\n(Excludes Paris)')\n",
    "plt.ylabel('Arrondissement')\n",
    "plt.xlabel('Number of Restaurants')\n",
    "\n",
    "# Add a legend\n",
    "plt.legend(title='Michelin Stars', labels=['1 Star', '2 Star', '3 Star'])\n",
    "\n",
    "# Show the plot\n",
    "plt.show()"
   ],
   "metadata": {
    "collapsed": false,
    "ExecuteTime": {
     "end_time": "2024-04-24T20:46:15.450719Z",
     "start_time": "2024-04-24T20:46:15.276211Z"
    }
   }
  },
  {
   "cell_type": "markdown",
   "source": [
    "----\n",
    "&nbsp;\n",
    "#### We now cascade merges from the smallest granularity (arrondissement) up to the highest (region) using the department as an intermediary linking point."
   ],
   "metadata": {
    "collapsed": false
   }
  },
  {
   "cell_type": "markdown",
   "source": [
    "#### 1. Extract departmental code from `geoJSON_df`"
   ],
   "metadata": {
    "collapsed": false,
    "ExecuteTime": {
     "end_time": "2023-08-11T16:05:56.738607Z",
     "start_time": "2023-08-11T16:05:56.700040Z"
    }
   }
  },
  {
   "cell_type": "code",
   "execution_count": 48,
   "outputs": [
    {
     "name": "stdout",
     "output_type": "stream",
     "text": [
      "Shape: (320, 4)\n",
      "Columns: ['code', 'nom', 'geometry', 'department_num']\n"
     ]
    },
    {
     "data": {
      "text/plain": "    code              nom                                           geometry  \\\n0  01001           Belley  POLYGON ((5.12174 45.81118, 5.12665 45.81392, ...   \n1  01002  Bourg-en-Bresse  POLYGON ((4.98022 46.51520, 4.98355 46.51539, ...   \n2  01003              Gex  POLYGON ((6.06401 46.41623, 6.06730 46.41494, ...   \n\n  department_num  \n0             01  \n1             01  \n2             01  ",
      "text/html": "<div>\n<style scoped>\n    .dataframe tbody tr th:only-of-type {\n        vertical-align: middle;\n    }\n\n    .dataframe tbody tr th {\n        vertical-align: top;\n    }\n\n    .dataframe thead th {\n        text-align: right;\n    }\n</style>\n<table border=\"1\" class=\"dataframe\">\n  <thead>\n    <tr style=\"text-align: right;\">\n      <th></th>\n      <th>code</th>\n      <th>nom</th>\n      <th>geometry</th>\n      <th>department_num</th>\n    </tr>\n  </thead>\n  <tbody>\n    <tr>\n      <th>0</th>\n      <td>01001</td>\n      <td>Belley</td>\n      <td>POLYGON ((5.12174 45.81118, 5.12665 45.81392, ...</td>\n      <td>01</td>\n    </tr>\n    <tr>\n      <th>1</th>\n      <td>01002</td>\n      <td>Bourg-en-Bresse</td>\n      <td>POLYGON ((4.98022 46.51520, 4.98355 46.51539, ...</td>\n      <td>01</td>\n    </tr>\n    <tr>\n      <th>2</th>\n      <td>01003</td>\n      <td>Gex</td>\n      <td>POLYGON ((6.06401 46.41623, 6.06730 46.41494, ...</td>\n      <td>01</td>\n    </tr>\n  </tbody>\n</table>\n</div>"
     },
     "execution_count": 48,
     "metadata": {},
     "output_type": "execute_result"
    }
   ],
   "source": [
    "geoJSON_df['department_num'] = geoJSON_df['code'].str[:2]\n",
    "print(f\"Shape: {geoJSON_df.shape}\")\n",
    "print(f\"Columns: {geoJSON_df.columns.tolist()}\")\n",
    "geoJSON_df.head(3)"
   ],
   "metadata": {
    "collapsed": false,
    "ExecuteTime": {
     "end_time": "2024-04-24T20:46:37.171349Z",
     "start_time": "2024-04-24T20:46:37.127634Z"
    }
   }
  },
  {
   "cell_type": "markdown",
   "source": [
    "#### 2. Extract department name from file produced in `France_Departments_Regions.ipynb`"
   ],
   "metadata": {
    "collapsed": false,
    "ExecuteTime": {
     "end_time": "2023-08-11T16:06:09.521157Z",
     "start_time": "2023-08-11T16:06:09.350698Z"
    }
   }
  },
  {
   "cell_type": "code",
   "execution_count": 50,
   "outputs": [
    {
     "name": "stdout",
     "output_type": "stream",
     "text": [
      "Shape: (96, 3)\n",
      "Columns: ['code', 'nom', 'geometry']\n"
     ]
    },
    {
     "data": {
      "text/plain": "  code                      nom  \\\n0   01                      Ain   \n1   02                    Aisne   \n2   03                   Allier   \n3   04  Alpes-de-Haute-Provence   \n4   05             Hautes-Alpes   \n\n                                            geometry  \n0  POLYGON ((4.78021 46.17668, 4.78024 46.18905, ...  \n1  POLYGON ((3.17296 50.01131, 3.17382 50.01186, ...  \n2  POLYGON ((3.03207 46.79491, 3.03424 46.79080, ...  \n3  POLYGON ((5.67604 44.19143, 5.67817 44.19051, ...  \n4  POLYGON ((6.26057 45.12685, 6.26417 45.12641, ...  ",
      "text/html": "<div>\n<style scoped>\n    .dataframe tbody tr th:only-of-type {\n        vertical-align: middle;\n    }\n\n    .dataframe tbody tr th {\n        vertical-align: top;\n    }\n\n    .dataframe thead th {\n        text-align: right;\n    }\n</style>\n<table border=\"1\" class=\"dataframe\">\n  <thead>\n    <tr style=\"text-align: right;\">\n      <th></th>\n      <th>code</th>\n      <th>nom</th>\n      <th>geometry</th>\n    </tr>\n  </thead>\n  <tbody>\n    <tr>\n      <th>0</th>\n      <td>01</td>\n      <td>Ain</td>\n      <td>POLYGON ((4.78021 46.17668, 4.78024 46.18905, ...</td>\n    </tr>\n    <tr>\n      <th>1</th>\n      <td>02</td>\n      <td>Aisne</td>\n      <td>POLYGON ((3.17296 50.01131, 3.17382 50.01186, ...</td>\n    </tr>\n    <tr>\n      <th>2</th>\n      <td>03</td>\n      <td>Allier</td>\n      <td>POLYGON ((3.03207 46.79491, 3.03424 46.79080, ...</td>\n    </tr>\n    <tr>\n      <th>3</th>\n      <td>04</td>\n      <td>Alpes-de-Haute-Provence</td>\n      <td>POLYGON ((5.67604 44.19143, 5.67817 44.19051, ...</td>\n    </tr>\n    <tr>\n      <th>4</th>\n      <td>05</td>\n      <td>Hautes-Alpes</td>\n      <td>POLYGON ((6.26057 45.12685, 6.26417 45.12641, ...</td>\n    </tr>\n  </tbody>\n</table>\n</div>"
     },
     "execution_count": 50,
     "metadata": {},
     "output_type": "execute_result"
    }
   ],
   "source": [
    "departments = gpd.read_file(\"../../../../ExtraData/Geodata/departements.geojson\")\n",
    "print(f\"Shape: {departments.shape}\")\n",
    "print(f\"Columns: {departments.columns.tolist()}\")\n",
    "departments.head()"
   ],
   "metadata": {
    "collapsed": false,
    "ExecuteTime": {
     "end_time": "2024-04-24T20:47:01.729189Z",
     "start_time": "2024-04-24T20:47:01.109747Z"
    }
   }
  },
  {
   "cell_type": "code",
   "execution_count": 51,
   "outputs": [],
   "source": [
    "# Merge the dataframes on the appropriate columns\n",
    "merged_geo_df = pd.merge(geoJSON_df[['code', 'nom', 'geometry', 'department_num']],\n",
    "                         departments[['code', 'nom']],\n",
    "                         left_on='department_num', right_on='code',\n",
    "                         how='left', suffixes=('_arrondissement', '_department'))"
   ],
   "metadata": {
    "collapsed": false,
    "ExecuteTime": {
     "end_time": "2024-04-24T20:47:08.536945Z",
     "start_time": "2024-04-24T20:47:08.500984Z"
    }
   }
  },
  {
   "cell_type": "code",
   "execution_count": 52,
   "outputs": [
    {
     "name": "stdout",
     "output_type": "stream",
     "text": [
      "Shape: (320, 6)\n"
     ]
    }
   ],
   "source": [
    "print(f\"Shape: {merged_geo_df.shape}\")"
   ],
   "metadata": {
    "collapsed": false,
    "ExecuteTime": {
     "end_time": "2024-04-24T20:47:11.005792Z",
     "start_time": "2024-04-24T20:47:10.972732Z"
    }
   }
  },
  {
   "cell_type": "code",
   "execution_count": 53,
   "outputs": [
    {
     "name": "stdout",
     "output_type": "stream",
     "text": [
      "Columns: ['code_arrondissement', 'nom_arrondissement', 'geometry', 'department_num', 'code_department', 'nom_department']\n"
     ]
    }
   ],
   "source": [
    "print(f\"Columns: {merged_geo_df.columns.tolist()}\")"
   ],
   "metadata": {
    "collapsed": false,
    "ExecuteTime": {
     "end_time": "2024-04-24T20:47:13.191255Z",
     "start_time": "2024-04-24T20:47:13.158698Z"
    }
   }
  },
  {
   "cell_type": "code",
   "execution_count": 54,
   "outputs": [
    {
     "data": {
      "text/plain": "  code_arrondissement   arrondissement department_num department  \\\n0               01001           Belley             01        Ain   \n1               01002  Bourg-en-Bresse             01        Ain   \n2               01003              Gex             01        Ain   \n3               01004           Nantua             01        Ain   \n4               02001  Château-Thierry             02      Aisne   \n\n                                            geometry  \n0  POLYGON ((5.12174 45.81118, 5.12665 45.81392, ...  \n1  POLYGON ((4.98022 46.51520, 4.98355 46.51539, ...  \n2  POLYGON ((6.06401 46.41623, 6.06730 46.41494, ...  \n3  POLYGON ((5.63746 46.33644, 5.64007 46.33884, ...  \n4  POLYGON ((3.07188 49.11755, 3.07224 49.11832, ...  ",
      "text/html": "<div>\n<style scoped>\n    .dataframe tbody tr th:only-of-type {\n        vertical-align: middle;\n    }\n\n    .dataframe tbody tr th {\n        vertical-align: top;\n    }\n\n    .dataframe thead th {\n        text-align: right;\n    }\n</style>\n<table border=\"1\" class=\"dataframe\">\n  <thead>\n    <tr style=\"text-align: right;\">\n      <th></th>\n      <th>code_arrondissement</th>\n      <th>arrondissement</th>\n      <th>department_num</th>\n      <th>department</th>\n      <th>geometry</th>\n    </tr>\n  </thead>\n  <tbody>\n    <tr>\n      <th>0</th>\n      <td>01001</td>\n      <td>Belley</td>\n      <td>01</td>\n      <td>Ain</td>\n      <td>POLYGON ((5.12174 45.81118, 5.12665 45.81392, ...</td>\n    </tr>\n    <tr>\n      <th>1</th>\n      <td>01002</td>\n      <td>Bourg-en-Bresse</td>\n      <td>01</td>\n      <td>Ain</td>\n      <td>POLYGON ((4.98022 46.51520, 4.98355 46.51539, ...</td>\n    </tr>\n    <tr>\n      <th>2</th>\n      <td>01003</td>\n      <td>Gex</td>\n      <td>01</td>\n      <td>Ain</td>\n      <td>POLYGON ((6.06401 46.41623, 6.06730 46.41494, ...</td>\n    </tr>\n    <tr>\n      <th>3</th>\n      <td>01004</td>\n      <td>Nantua</td>\n      <td>01</td>\n      <td>Ain</td>\n      <td>POLYGON ((5.63746 46.33644, 5.64007 46.33884, ...</td>\n    </tr>\n    <tr>\n      <th>4</th>\n      <td>02001</td>\n      <td>Château-Thierry</td>\n      <td>02</td>\n      <td>Aisne</td>\n      <td>POLYGON ((3.07188 49.11755, 3.07224 49.11832, ...</td>\n    </tr>\n  </tbody>\n</table>\n</div>"
     },
     "execution_count": 54,
     "metadata": {},
     "output_type": "execute_result"
    }
   ],
   "source": [
    "# Drop 'code_department'\n",
    "merged_geo_df.drop('code_department', axis=1, inplace=True)\n",
    "\n",
    "# Rename columns\n",
    "column_rename_map = {\n",
    "    'nom_arrondissement': 'arrondissement',\n",
    "    'nom_department': 'department'\n",
    "}\n",
    "merged_geo_df.rename(columns=column_rename_map, inplace=True)\n",
    "\n",
    "# Rearrange columns\n",
    "new_order = ['code_arrondissement', 'arrondissement', 'department_num', 'department', 'geometry']\n",
    "merged_geo_df = merged_geo_df[new_order]\n",
    "merged_geo_df.head()"
   ],
   "metadata": {
    "collapsed": false,
    "ExecuteTime": {
     "end_time": "2024-04-24T20:47:25.064951Z",
     "start_time": "2024-04-24T20:47:25.050179Z"
    }
   }
  },
  {
   "cell_type": "markdown",
   "source": [
    "#### 3. Extract the region from `france_df`"
   ],
   "metadata": {
    "collapsed": false
   }
  },
  {
   "cell_type": "code",
   "execution_count": 55,
   "outputs": [
    {
     "name": "stdout",
     "output_type": "stream",
     "text": [
      "Shape: (93, 4)\n"
     ]
    }
   ],
   "source": [
    "# 1. Create a copy of france_df and retain only the columns of interest\n",
    "france_subset = france_df[['department_num', 'department', 'capital', 'region']].copy()\n",
    "\n",
    "# Drop duplicates based on 'department_num'\n",
    "france_subset = france_subset.drop_duplicates(subset='department_num')\n",
    "print(f\"Shape: {france_subset.shape}\")"
   ],
   "metadata": {
    "collapsed": false,
    "ExecuteTime": {
     "end_time": "2024-04-24T20:47:35.726893Z",
     "start_time": "2024-04-24T20:47:35.698073Z"
    }
   }
  },
  {
   "cell_type": "markdown",
   "source": [
    "We know from previous analysis that there are departments missing (Don't have Michelin restaurants)\n",
    "\n",
    "Also, we know there are 96 departments. Therefore,"
   ],
   "metadata": {
    "collapsed": false,
    "ExecuteTime": {
     "end_time": "2023-08-11T16:06:27.026761Z",
     "start_time": "2023-08-11T16:06:27.013741Z"
    }
   }
  },
  {
   "cell_type": "code",
   "execution_count": 56,
   "outputs": [],
   "source": [
    "missing_dept_dict = {\n",
    "    'Deux-Sèvres': {\n",
    "        'department_num': '79',\n",
    "        'region': 'Nouvelle-Aquitaine',\n",
    "        'capital': 'Niort'\n",
    "    },\n",
    "    'Nièvre': {\n",
    "        'department_num': '58',\n",
    "        'region': 'Bourgogne-Franche-Comté',\n",
    "        'capital': 'Nevers'\n",
    "    },\n",
    "    'Tarn-et-Garonne': {\n",
    "        'department_num': '82',\n",
    "        'region': 'Occitanie',\n",
    "        'capital': 'Montauban'\n",
    "    }\n",
    "}"
   ],
   "metadata": {
    "collapsed": false,
    "ExecuteTime": {
     "end_time": "2024-04-24T20:47:41.268558Z",
     "start_time": "2024-04-24T20:47:41.237583Z"
    }
   }
  },
  {
   "cell_type": "code",
   "execution_count": 57,
   "outputs": [],
   "source": [
    "# Extracting data from the dictionary to lists\n",
    "departments = list(missing_dept_dict.keys())\n",
    "department_nums = [val['department_num'] for val in missing_dept_dict.values()]\n",
    "regions = [val['region'] for val in missing_dept_dict.values()]\n",
    "capitals = [val['capital'] for val in missing_dept_dict.values()]\n",
    "\n",
    "# Creating a DataFrame from the lists\n",
    "missing_dept_df = pd.DataFrame({\n",
    "    'department': departments,\n",
    "    'department_num': department_nums,\n",
    "    'region': regions,\n",
    "    'capital': capitals\n",
    "})"
   ],
   "metadata": {
    "collapsed": false,
    "ExecuteTime": {
     "end_time": "2024-04-24T20:47:43.562494Z",
     "start_time": "2024-04-24T20:47:43.546478Z"
    }
   }
  },
  {
   "cell_type": "code",
   "execution_count": 58,
   "outputs": [],
   "source": [
    "# Concatenate the original dataframe with the missing departments dataframe\n",
    "france_subset = pd.concat([france_subset, missing_dept_df])\n",
    "\n",
    "# Sort by 'department_num'\n",
    "france_subset = france_subset.sort_values(by='department_num').reset_index(drop=True)"
   ],
   "metadata": {
    "collapsed": false,
    "ExecuteTime": {
     "end_time": "2024-04-24T20:47:46.356759Z",
     "start_time": "2024-04-24T20:47:46.337255Z"
    }
   }
  },
  {
   "cell_type": "code",
   "execution_count": 59,
   "outputs": [
    {
     "name": "stdout",
     "output_type": "stream",
     "text": [
      "Shape: (96, 4)\n"
     ]
    },
    {
     "data": {
      "text/plain": "  department_num               department          capital  \\\n0             01                      Ain  Bourg-en-Bresse   \n1             02                    Aisne             Laon   \n2             03                   Allier          Moulins   \n3             04  Alpes-de-Haute-Provence  Digne-les-Bains   \n4             05             Hautes-Alpes              Gap   \n\n                       region  \n0        Auvergne-Rhône-Alpes  \n1             Hauts-de-France  \n2        Auvergne-Rhône-Alpes  \n3  Provence-Alpes-Côte d'Azur  \n4  Provence-Alpes-Côte d'Azur  ",
      "text/html": "<div>\n<style scoped>\n    .dataframe tbody tr th:only-of-type {\n        vertical-align: middle;\n    }\n\n    .dataframe tbody tr th {\n        vertical-align: top;\n    }\n\n    .dataframe thead th {\n        text-align: right;\n    }\n</style>\n<table border=\"1\" class=\"dataframe\">\n  <thead>\n    <tr style=\"text-align: right;\">\n      <th></th>\n      <th>department_num</th>\n      <th>department</th>\n      <th>capital</th>\n      <th>region</th>\n    </tr>\n  </thead>\n  <tbody>\n    <tr>\n      <th>0</th>\n      <td>01</td>\n      <td>Ain</td>\n      <td>Bourg-en-Bresse</td>\n      <td>Auvergne-Rhône-Alpes</td>\n    </tr>\n    <tr>\n      <th>1</th>\n      <td>02</td>\n      <td>Aisne</td>\n      <td>Laon</td>\n      <td>Hauts-de-France</td>\n    </tr>\n    <tr>\n      <th>2</th>\n      <td>03</td>\n      <td>Allier</td>\n      <td>Moulins</td>\n      <td>Auvergne-Rhône-Alpes</td>\n    </tr>\n    <tr>\n      <th>3</th>\n      <td>04</td>\n      <td>Alpes-de-Haute-Provence</td>\n      <td>Digne-les-Bains</td>\n      <td>Provence-Alpes-Côte d'Azur</td>\n    </tr>\n    <tr>\n      <th>4</th>\n      <td>05</td>\n      <td>Hautes-Alpes</td>\n      <td>Gap</td>\n      <td>Provence-Alpes-Côte d'Azur</td>\n    </tr>\n  </tbody>\n</table>\n</div>"
     },
     "execution_count": 59,
     "metadata": {},
     "output_type": "execute_result"
    }
   ],
   "source": [
    "print(f\"Shape: {france_subset.shape}\")\n",
    "france_subset.head()"
   ],
   "metadata": {
    "collapsed": false,
    "ExecuteTime": {
     "end_time": "2024-04-24T20:47:48.785652Z",
     "start_time": "2024-04-24T20:47:48.762480Z"
    }
   }
  },
  {
   "cell_type": "code",
   "execution_count": 60,
   "outputs": [
    {
     "name": "stdout",
     "output_type": "stream",
     "text": [
      "<class 'pandas.core.frame.DataFrame'>\n",
      "RangeIndex: 96 entries, 0 to 95\n",
      "Data columns (total 4 columns):\n",
      " #   Column          Non-Null Count  Dtype \n",
      "---  ------          --------------  ----- \n",
      " 0   department_num  96 non-null     object\n",
      " 1   department      96 non-null     object\n",
      " 2   capital         96 non-null     object\n",
      " 3   region          96 non-null     object\n",
      "dtypes: object(4)\n",
      "memory usage: 3.1+ KB\n"
     ]
    }
   ],
   "source": [
    "france_subset.info()"
   ],
   "metadata": {
    "collapsed": false,
    "ExecuteTime": {
     "end_time": "2024-04-24T20:47:52.191521Z",
     "start_time": "2024-04-24T20:47:52.166157Z"
    }
   }
  },
  {
   "cell_type": "markdown",
   "source": [
    "#### 4. Merge `france_subset` with `geoJSON_df` on `department_num`"
   ],
   "metadata": {
    "collapsed": false,
    "ExecuteTime": {
     "end_time": "2023-08-11T16:06:36.354042Z",
     "start_time": "2023-08-11T16:06:36.333076Z"
    }
   }
  },
  {
   "cell_type": "code",
   "execution_count": 61,
   "outputs": [
    {
     "name": "stdout",
     "output_type": "stream",
     "text": [
      "Shape geo: (320, 4)\n",
      "Shape merged: (320, 7)\n"
     ]
    }
   ],
   "source": [
    "merged_df = pd.merge(france_subset, geoJSON_df, on=\"department_num\", how=\"inner\")\n",
    "\n",
    "print(f\"Shape geo: {geoJSON_df.shape}\\nShape merged: {merged_df.shape}\")"
   ],
   "metadata": {
    "collapsed": false,
    "ExecuteTime": {
     "end_time": "2024-04-24T20:47:58.952171Z",
     "start_time": "2024-04-24T20:47:58.915544Z"
    }
   }
  },
  {
   "cell_type": "code",
   "execution_count": 62,
   "outputs": [
    {
     "data": {
      "text/plain": "  department_num department          capital                region   code  \\\n0             01        Ain  Bourg-en-Bresse  Auvergne-Rhône-Alpes  01001   \n1             01        Ain  Bourg-en-Bresse  Auvergne-Rhône-Alpes  01002   \n2             01        Ain  Bourg-en-Bresse  Auvergne-Rhône-Alpes  01003   \n3             01        Ain  Bourg-en-Bresse  Auvergne-Rhône-Alpes  01004   \n4             02      Aisne             Laon       Hauts-de-France  02001   \n\n               nom                                           geometry  \n0           Belley  POLYGON ((5.12174 45.81118, 5.12665 45.81392, ...  \n1  Bourg-en-Bresse  POLYGON ((4.98022 46.51520, 4.98355 46.51539, ...  \n2              Gex  POLYGON ((6.06401 46.41623, 6.06730 46.41494, ...  \n3           Nantua  POLYGON ((5.63746 46.33644, 5.64007 46.33884, ...  \n4  Château-Thierry  POLYGON ((3.07188 49.11755, 3.07224 49.11832, ...  ",
      "text/html": "<div>\n<style scoped>\n    .dataframe tbody tr th:only-of-type {\n        vertical-align: middle;\n    }\n\n    .dataframe tbody tr th {\n        vertical-align: top;\n    }\n\n    .dataframe thead th {\n        text-align: right;\n    }\n</style>\n<table border=\"1\" class=\"dataframe\">\n  <thead>\n    <tr style=\"text-align: right;\">\n      <th></th>\n      <th>department_num</th>\n      <th>department</th>\n      <th>capital</th>\n      <th>region</th>\n      <th>code</th>\n      <th>nom</th>\n      <th>geometry</th>\n    </tr>\n  </thead>\n  <tbody>\n    <tr>\n      <th>0</th>\n      <td>01</td>\n      <td>Ain</td>\n      <td>Bourg-en-Bresse</td>\n      <td>Auvergne-Rhône-Alpes</td>\n      <td>01001</td>\n      <td>Belley</td>\n      <td>POLYGON ((5.12174 45.81118, 5.12665 45.81392, ...</td>\n    </tr>\n    <tr>\n      <th>1</th>\n      <td>01</td>\n      <td>Ain</td>\n      <td>Bourg-en-Bresse</td>\n      <td>Auvergne-Rhône-Alpes</td>\n      <td>01002</td>\n      <td>Bourg-en-Bresse</td>\n      <td>POLYGON ((4.98022 46.51520, 4.98355 46.51539, ...</td>\n    </tr>\n    <tr>\n      <th>2</th>\n      <td>01</td>\n      <td>Ain</td>\n      <td>Bourg-en-Bresse</td>\n      <td>Auvergne-Rhône-Alpes</td>\n      <td>01003</td>\n      <td>Gex</td>\n      <td>POLYGON ((6.06401 46.41623, 6.06730 46.41494, ...</td>\n    </tr>\n    <tr>\n      <th>3</th>\n      <td>01</td>\n      <td>Ain</td>\n      <td>Bourg-en-Bresse</td>\n      <td>Auvergne-Rhône-Alpes</td>\n      <td>01004</td>\n      <td>Nantua</td>\n      <td>POLYGON ((5.63746 46.33644, 5.64007 46.33884, ...</td>\n    </tr>\n    <tr>\n      <th>4</th>\n      <td>02</td>\n      <td>Aisne</td>\n      <td>Laon</td>\n      <td>Hauts-de-France</td>\n      <td>02001</td>\n      <td>Château-Thierry</td>\n      <td>POLYGON ((3.07188 49.11755, 3.07224 49.11832, ...</td>\n    </tr>\n  </tbody>\n</table>\n</div>"
     },
     "execution_count": 62,
     "metadata": {},
     "output_type": "execute_result"
    }
   ],
   "source": [
    "merged_df.head()"
   ],
   "metadata": {
    "collapsed": false,
    "ExecuteTime": {
     "end_time": "2024-04-24T20:48:01.973838Z",
     "start_time": "2024-04-24T20:48:01.937500Z"
    }
   }
  },
  {
   "cell_type": "markdown",
   "source": [
    "#### 5. Merge above with `stats_locale` on 'nom' & 'arrondissement'"
   ],
   "metadata": {
    "collapsed": false,
    "ExecuteTime": {
     "end_time": "2023-08-11T16:06:44.644925Z",
     "start_time": "2023-08-11T16:06:44.626286Z"
    }
   }
  },
  {
   "cell_type": "code",
   "execution_count": 63,
   "outputs": [
    {
     "name": "stdout",
     "output_type": "stream",
     "text": [
      "Shape: (320, 6)\n"
     ]
    },
    {
     "data": {
      "text/plain": "  code   arrondissement  municipal_population  \\\n0  011           Belley                123405   \n1  012  Bourg-en-Bresse                340382   \n2  013              Gex                100314   \n3  014           Nantua                 93755   \n4  021  Château-Thierry                 70094   \n\n   population_density(inhabitants/sq_km) poverty_rate(%)  \\\n0                                   77.9            10.2   \n1                                  118.4             8.8   \n2                                  247.8            12.4   \n3                                  104.2            15.5   \n4                                   62.9              14   \n\n  average_net_hourly_wage(€)  \n0                       15.3  \n1                      15.65  \n2                      15.32  \n3                      14.14  \n4                      14.36  ",
      "text/html": "<div>\n<style scoped>\n    .dataframe tbody tr th:only-of-type {\n        vertical-align: middle;\n    }\n\n    .dataframe tbody tr th {\n        vertical-align: top;\n    }\n\n    .dataframe thead th {\n        text-align: right;\n    }\n</style>\n<table border=\"1\" class=\"dataframe\">\n  <thead>\n    <tr style=\"text-align: right;\">\n      <th></th>\n      <th>code</th>\n      <th>arrondissement</th>\n      <th>municipal_population</th>\n      <th>population_density(inhabitants/sq_km)</th>\n      <th>poverty_rate(%)</th>\n      <th>average_net_hourly_wage(€)</th>\n    </tr>\n  </thead>\n  <tbody>\n    <tr>\n      <th>0</th>\n      <td>011</td>\n      <td>Belley</td>\n      <td>123405</td>\n      <td>77.9</td>\n      <td>10.2</td>\n      <td>15.3</td>\n    </tr>\n    <tr>\n      <th>1</th>\n      <td>012</td>\n      <td>Bourg-en-Bresse</td>\n      <td>340382</td>\n      <td>118.4</td>\n      <td>8.8</td>\n      <td>15.65</td>\n    </tr>\n    <tr>\n      <th>2</th>\n      <td>013</td>\n      <td>Gex</td>\n      <td>100314</td>\n      <td>247.8</td>\n      <td>12.4</td>\n      <td>15.32</td>\n    </tr>\n    <tr>\n      <th>3</th>\n      <td>014</td>\n      <td>Nantua</td>\n      <td>93755</td>\n      <td>104.2</td>\n      <td>15.5</td>\n      <td>14.14</td>\n    </tr>\n    <tr>\n      <th>4</th>\n      <td>021</td>\n      <td>Château-Thierry</td>\n      <td>70094</td>\n      <td>62.9</td>\n      <td>14</td>\n      <td>14.36</td>\n    </tr>\n  </tbody>\n</table>\n</div>"
     },
     "execution_count": 63,
     "metadata": {},
     "output_type": "execute_result"
    }
   ],
   "source": [
    "print(f\"Shape: {stats_locale.shape}\")\n",
    "stats_locale.head()"
   ],
   "metadata": {
    "collapsed": false,
    "ExecuteTime": {
     "end_time": "2024-04-24T20:48:08.772937Z",
     "start_time": "2024-04-24T20:48:08.732708Z"
    }
   }
  },
  {
   "cell_type": "code",
   "execution_count": 64,
   "outputs": [],
   "source": [
    "geo_stats = pd.merge(stats_locale, merged_df, left_on='arrondissement', right_on='nom', how='inner')"
   ],
   "metadata": {
    "collapsed": false,
    "ExecuteTime": {
     "end_time": "2024-04-24T20:48:13.213896Z",
     "start_time": "2024-04-24T20:48:13.184574Z"
    }
   }
  },
  {
   "cell_type": "code",
   "execution_count": 65,
   "outputs": [
    {
     "name": "stdout",
     "output_type": "stream",
     "text": [
      "Shape: (320, 13)\n",
      "Unique regions: 13\n",
      "Unique departments: 96\n",
      "Unique arrondissements: 320\n",
      "Columns:\n",
      "['code_x', 'arrondissement', 'municipal_population', 'population_density(inhabitants/sq_km)', 'poverty_rate(%)', 'average_net_hourly_wage(€)', 'department_num', 'department', 'capital', 'region', 'code_y', 'nom', 'geometry']\n"
     ]
    }
   ],
   "source": [
    "print(f\"Shape: {geo_stats.shape}\")\n",
    "print(f\"Unique regions: {geo_stats['region'].nunique()}\")\n",
    "print(f\"Unique departments: {geo_stats['department_num'].nunique()}\")\n",
    "print(f\"Unique arrondissements: {geo_stats['arrondissement'].nunique()}\")\n",
    "print(f\"Columns:\\n{geo_stats.columns.tolist()}\")"
   ],
   "metadata": {
    "collapsed": false,
    "ExecuteTime": {
     "end_time": "2024-04-24T20:48:23.011707Z",
     "start_time": "2024-04-24T20:48:22.978603Z"
    }
   }
  },
  {
   "cell_type": "code",
   "execution_count": 66,
   "outputs": [],
   "source": [
    "# Drop 'code_'\n",
    "geo_stats.drop(['code_x'], axis=1, inplace=True)\n",
    "geo_stats.rename(columns={'code_y': 'code'}, inplace=True)"
   ],
   "metadata": {
    "collapsed": false,
    "ExecuteTime": {
     "end_time": "2024-04-24T20:48:31.401740Z",
     "start_time": "2024-04-24T20:48:31.375489Z"
    }
   }
  },
  {
   "cell_type": "code",
   "execution_count": 67,
   "outputs": [
    {
     "data": {
      "text/plain": "    code   arrondissement department_num department          capital  \\\n0  01001           Belley             01        Ain  Bourg-en-Bresse   \n1  01002  Bourg-en-Bresse             01        Ain  Bourg-en-Bresse   \n2  01003              Gex             01        Ain  Bourg-en-Bresse   \n3  01004           Nantua             01        Ain  Bourg-en-Bresse   \n4  02001  Château-Thierry             02      Aisne             Laon   \n\n                 region  municipal_population  \\\n0  Auvergne-Rhône-Alpes                123405   \n1  Auvergne-Rhône-Alpes                340382   \n2  Auvergne-Rhône-Alpes                100314   \n3  Auvergne-Rhône-Alpes                 93755   \n4       Hauts-de-France                 70094   \n\n   population_density(inhabitants/sq_km) poverty_rate(%)  \\\n0                                   77.9            10.2   \n1                                  118.4             8.8   \n2                                  247.8            12.4   \n3                                  104.2            15.5   \n4                                   62.9              14   \n\n  average_net_hourly_wage(€)  \\\n0                       15.3   \n1                      15.65   \n2                      15.32   \n3                      14.14   \n4                      14.36   \n\n                                            geometry  \n0  POLYGON ((5.12174 45.81118, 5.12665 45.81392, ...  \n1  POLYGON ((4.98022 46.51520, 4.98355 46.51539, ...  \n2  POLYGON ((6.06401 46.41623, 6.06730 46.41494, ...  \n3  POLYGON ((5.63746 46.33644, 5.64007 46.33884, ...  \n4  POLYGON ((3.07188 49.11755, 3.07224 49.11832, ...  ",
      "text/html": "<div>\n<style scoped>\n    .dataframe tbody tr th:only-of-type {\n        vertical-align: middle;\n    }\n\n    .dataframe tbody tr th {\n        vertical-align: top;\n    }\n\n    .dataframe thead th {\n        text-align: right;\n    }\n</style>\n<table border=\"1\" class=\"dataframe\">\n  <thead>\n    <tr style=\"text-align: right;\">\n      <th></th>\n      <th>code</th>\n      <th>arrondissement</th>\n      <th>department_num</th>\n      <th>department</th>\n      <th>capital</th>\n      <th>region</th>\n      <th>municipal_population</th>\n      <th>population_density(inhabitants/sq_km)</th>\n      <th>poverty_rate(%)</th>\n      <th>average_net_hourly_wage(€)</th>\n      <th>geometry</th>\n    </tr>\n  </thead>\n  <tbody>\n    <tr>\n      <th>0</th>\n      <td>01001</td>\n      <td>Belley</td>\n      <td>01</td>\n      <td>Ain</td>\n      <td>Bourg-en-Bresse</td>\n      <td>Auvergne-Rhône-Alpes</td>\n      <td>123405</td>\n      <td>77.9</td>\n      <td>10.2</td>\n      <td>15.3</td>\n      <td>POLYGON ((5.12174 45.81118, 5.12665 45.81392, ...</td>\n    </tr>\n    <tr>\n      <th>1</th>\n      <td>01002</td>\n      <td>Bourg-en-Bresse</td>\n      <td>01</td>\n      <td>Ain</td>\n      <td>Bourg-en-Bresse</td>\n      <td>Auvergne-Rhône-Alpes</td>\n      <td>340382</td>\n      <td>118.4</td>\n      <td>8.8</td>\n      <td>15.65</td>\n      <td>POLYGON ((4.98022 46.51520, 4.98355 46.51539, ...</td>\n    </tr>\n    <tr>\n      <th>2</th>\n      <td>01003</td>\n      <td>Gex</td>\n      <td>01</td>\n      <td>Ain</td>\n      <td>Bourg-en-Bresse</td>\n      <td>Auvergne-Rhône-Alpes</td>\n      <td>100314</td>\n      <td>247.8</td>\n      <td>12.4</td>\n      <td>15.32</td>\n      <td>POLYGON ((6.06401 46.41623, 6.06730 46.41494, ...</td>\n    </tr>\n    <tr>\n      <th>3</th>\n      <td>01004</td>\n      <td>Nantua</td>\n      <td>01</td>\n      <td>Ain</td>\n      <td>Bourg-en-Bresse</td>\n      <td>Auvergne-Rhône-Alpes</td>\n      <td>93755</td>\n      <td>104.2</td>\n      <td>15.5</td>\n      <td>14.14</td>\n      <td>POLYGON ((5.63746 46.33644, 5.64007 46.33884, ...</td>\n    </tr>\n    <tr>\n      <th>4</th>\n      <td>02001</td>\n      <td>Château-Thierry</td>\n      <td>02</td>\n      <td>Aisne</td>\n      <td>Laon</td>\n      <td>Hauts-de-France</td>\n      <td>70094</td>\n      <td>62.9</td>\n      <td>14</td>\n      <td>14.36</td>\n      <td>POLYGON ((3.07188 49.11755, 3.07224 49.11832, ...</td>\n    </tr>\n  </tbody>\n</table>\n</div>"
     },
     "execution_count": 67,
     "metadata": {},
     "output_type": "execute_result"
    }
   ],
   "source": [
    "# Rearrange columns\n",
    "new_order = ['code', 'arrondissement', 'department_num', 'department', 'capital', 'region', 'municipal_population', 'population_density(inhabitants/sq_km)', 'poverty_rate(%)', 'average_net_hourly_wage(€)', 'geometry']\n",
    "geo_stats = geo_stats[new_order]\n",
    "geo_stats.head()"
   ],
   "metadata": {
    "collapsed": false,
    "ExecuteTime": {
     "end_time": "2024-04-24T20:48:34.932684Z",
     "start_time": "2024-04-24T20:48:34.914910Z"
    }
   }
  },
  {
   "cell_type": "markdown",
   "source": [
    "----\n",
    "&nbsp;\n",
    "## Merging Michelin Star by *arrondissement* with `geo_stats`"
   ],
   "metadata": {
    "collapsed": false
   }
  },
  {
   "cell_type": "code",
   "execution_count": 68,
   "outputs": [
    {
     "name": "stdout",
     "output_type": "stream",
     "text": [
      "Rows in `geo_stats`: 320\n",
      "Rows in `arrondissement_grouped`: 223\n"
     ]
    }
   ],
   "source": [
    "print(f\"Rows in `geo_stats`: {len(geo_stats)}\")\n",
    "\n",
    "# We index the multi-indexed df\n",
    "arrondissement_grouped.reset_index(inplace=True)\n",
    "print(f\"Rows in `arrondissement_grouped`: {len(arrondissement_grouped)}\")"
   ],
   "metadata": {
    "collapsed": false,
    "ExecuteTime": {
     "end_time": "2024-04-24T20:48:46.701211Z",
     "start_time": "2024-04-24T20:48:46.660786Z"
    }
   }
  },
  {
   "cell_type": "code",
   "execution_count": 69,
   "outputs": [
    {
     "name": "stdout",
     "output_type": "stream",
     "text": [
      "Sets equal? False\n",
      "\n",
      "In arrondissement_grouped but not in geo_stats:\n",
      "set()\n",
      "\n",
      "In geostats but not in arrondissement_grouped:\n",
      "{'Bastia', 'Nogent-le-Rotrou', 'Lodève', 'Saint-Quentin', 'Louhans', 'Ussel', 'Aubusson', 'Amiens', 'Millau', 'Soissons', 'Saint-Dizier', 'Ambert', 'Vierzon', 'Nevers', 'Vervins', 'Villeneuve-sur-Lot', 'Vouziers', 'Saint-Gaudens', 'Saint-Amand-Montrond', 'Bar-le-Duc', 'Vitry-le-François', 'Barcelonnette', 'Segré', 'Melun', 'Val-de-Briey', 'Rethel', 'Toul', 'Besançon', 'Corte', 'Antony', 'Vigan', 'Montbéliard', 'Mirande', 'Haÿ-les-Roses', 'Douai', 'Châtellerault', 'Foix', 'Lens', 'Saint-Denis', 'Laval', 'Jonzac', 'Péronne', \"Saint-Jean-d'Angély\", 'Langres', 'Créteil', 'Niort', 'Saint-Étienne', 'Étampes', 'Pithiviers', 'Parthenay', 'Limoux', 'Saint-Claude', 'Château-Chinon (Ville)', 'Redon', 'Bellac', 'Blanc', 'Muret', 'Beauvais', 'Confolens', 'Château-Gontier', 'Flèche', 'Châteaudun', 'Cambrai', 'Lons-le-Saunier', 'Commercy', 'Palaiseau', 'Sedan', 'Rochechouart', 'Argelès-Gazost', 'Castellane', 'Cosne-Cours-sur-Loire', 'Thiers', 'Neufchâteau', 'Nogent-sur-Seine', 'Valenciennes', 'Privas', 'Montauban', 'Gex', 'Tarbes', 'Nérac', 'Raincy', 'Oloron-Sainte-Marie', 'Bressuire', 'Castelsarrasin', 'Sarcelles', 'Clamecy', 'Mauriac', 'Château-Thierry', 'Bar-sur-Aube', 'Argenteuil', 'Châtre', 'Montdidier', 'Lesparre-Médoc', 'Guingamp', 'Avesnes-sur-Helpe', 'Brioude', 'Saint-Dié-des-Vosges'}\n"
     ]
    }
   ],
   "source": [
    "set1 = set(arrondissement_grouped['arrondissement'].unique())\n",
    "set2 = set(geo_stats['arrondissement'].unique())\n",
    "print(f\"Sets equal? {set1 == set2}\")\n",
    "\n",
    "print(f\"\\nIn arrondissement_grouped but not in geo_stats:\\n{set1 - set2}\")\n",
    "print(f\"\\nIn geostats but not in arrondissement_grouped:\\n{set2 - set1}\")"
   ],
   "metadata": {
    "collapsed": false,
    "ExecuteTime": {
     "end_time": "2024-04-24T20:48:49.169693Z",
     "start_time": "2024-04-24T20:48:49.145339Z"
    }
   }
  },
  {
   "cell_type": "markdown",
   "source": [
    "There are a number of *arrondissement* without Michelin rated restaurants.\n",
    "\n",
    "These will be written with zero values"
   ],
   "metadata": {
    "collapsed": false,
    "ExecuteTime": {
     "end_time": "2023-08-11T16:07:02.429800Z",
     "start_time": "2023-08-11T16:07:02.420135Z"
    }
   }
  },
  {
   "cell_type": "code",
   "execution_count": 70,
   "outputs": [
    {
     "name": "stdout",
     "output_type": "stream",
     "text": [
      "Columns: ['arrondissement', 'bib_gourmand', '1_star', '2_star', '3_star', 'total_stars', 'starred_restaurants']\n"
     ]
    },
    {
     "data": {
      "text/plain": "          arrondissement  bib_gourmand  1_star  2_star  3_star  total_stars  \\\n0              Abbeville             2       0       0       0            0   \n1   Charleville-Mézières             1       0       0       0            0   \n2                 Chinon             2       0       0       0            0   \n3                 Cholet             1       0       0       0            0   \n4  Châteaubriant-Ancenis             1       0       0       0            0   \n\n   starred_restaurants  \n0                    0  \n1                    0  \n2                    0  \n3                    0  \n4                    0  ",
      "text/html": "<div>\n<style scoped>\n    .dataframe tbody tr th:only-of-type {\n        vertical-align: middle;\n    }\n\n    .dataframe tbody tr th {\n        vertical-align: top;\n    }\n\n    .dataframe thead th {\n        text-align: right;\n    }\n</style>\n<table border=\"1\" class=\"dataframe\">\n  <thead>\n    <tr style=\"text-align: right;\">\n      <th></th>\n      <th>arrondissement</th>\n      <th>bib_gourmand</th>\n      <th>1_star</th>\n      <th>2_star</th>\n      <th>3_star</th>\n      <th>total_stars</th>\n      <th>starred_restaurants</th>\n    </tr>\n  </thead>\n  <tbody>\n    <tr>\n      <th>0</th>\n      <td>Abbeville</td>\n      <td>2</td>\n      <td>0</td>\n      <td>0</td>\n      <td>0</td>\n      <td>0</td>\n      <td>0</td>\n    </tr>\n    <tr>\n      <th>1</th>\n      <td>Charleville-Mézières</td>\n      <td>1</td>\n      <td>0</td>\n      <td>0</td>\n      <td>0</td>\n      <td>0</td>\n      <td>0</td>\n    </tr>\n    <tr>\n      <th>2</th>\n      <td>Chinon</td>\n      <td>2</td>\n      <td>0</td>\n      <td>0</td>\n      <td>0</td>\n      <td>0</td>\n      <td>0</td>\n    </tr>\n    <tr>\n      <th>3</th>\n      <td>Cholet</td>\n      <td>1</td>\n      <td>0</td>\n      <td>0</td>\n      <td>0</td>\n      <td>0</td>\n      <td>0</td>\n    </tr>\n    <tr>\n      <th>4</th>\n      <td>Châteaubriant-Ancenis</td>\n      <td>1</td>\n      <td>0</td>\n      <td>0</td>\n      <td>0</td>\n      <td>0</td>\n      <td>0</td>\n    </tr>\n  </tbody>\n</table>\n</div>"
     },
     "execution_count": 70,
     "metadata": {},
     "output_type": "execute_result"
    }
   ],
   "source": [
    "print(f\"Columns: {arrondissement_grouped.columns.tolist()}\")\n",
    "arrondissement_grouped.head()"
   ],
   "metadata": {
    "collapsed": false,
    "ExecuteTime": {
     "end_time": "2024-04-24T20:49:24.769934Z",
     "start_time": "2024-04-24T20:49:24.746576Z"
    }
   }
  },
  {
   "cell_type": "code",
   "execution_count": 71,
   "outputs": [],
   "source": [
    "# Extracting the missing arrondissements\n",
    "missing_arrondissements = list(set2 - set1)\n",
    "\n",
    "# Prepare a list to collect new rows\n",
    "new_rows = []\n",
    "\n",
    "# Iterate over the missing arrondissements\n",
    "for arrondissement in missing_arrondissements:\n",
    "    new_row = {\n",
    "        'arrondissement': arrondissement,\n",
    "        'bib_gourmand': 0,\n",
    "        '1_star': 0,\n",
    "        '2_star': 0,\n",
    "        '3_star': 0,\n",
    "        'total_stars': 0,\n",
    "        'starred_restaurants': 0\n",
    "    }\n",
    "    new_rows.append(new_row)\n",
    "\n",
    "# Create a DataFrame from the new rows and concatenate with the original DataFrame\n",
    "df_new_rows = pd.DataFrame(new_rows)\n",
    "arrondissement_grouped = pd.concat([arrondissement_grouped, df_new_rows], ignore_index=True)\n",
    "\n",
    "# Sorting by 'arrondissement' for better clarity\n",
    "arrondissement_grouped = arrondissement_grouped.sort_values('arrondissement').reset_index(drop=True)"
   ],
   "metadata": {
    "collapsed": false,
    "ExecuteTime": {
     "end_time": "2024-04-24T20:49:28.807616Z",
     "start_time": "2024-04-24T20:49:28.779814Z"
    }
   }
  },
  {
   "cell_type": "code",
   "execution_count": 72,
   "outputs": [
    {
     "name": "stdout",
     "output_type": "stream",
     "text": [
      "Shape: (320, 7)\n"
     ]
    },
    {
     "data": {
      "text/plain": "    arrondissement  bib_gourmand  1_star  2_star  3_star  total_stars  \\\n0        Abbeville             2       0       0       0            0   \n1             Agen             1       2       0       0            2   \n2  Aix-en-Provence             3       9       0       0            9   \n3          Ajaccio             1       0       0       0            0   \n4      Albertville             2       8       4       1           19   \n\n   starred_restaurants  \n0                    0  \n1                    2  \n2                    9  \n3                    0  \n4                   13  ",
      "text/html": "<div>\n<style scoped>\n    .dataframe tbody tr th:only-of-type {\n        vertical-align: middle;\n    }\n\n    .dataframe tbody tr th {\n        vertical-align: top;\n    }\n\n    .dataframe thead th {\n        text-align: right;\n    }\n</style>\n<table border=\"1\" class=\"dataframe\">\n  <thead>\n    <tr style=\"text-align: right;\">\n      <th></th>\n      <th>arrondissement</th>\n      <th>bib_gourmand</th>\n      <th>1_star</th>\n      <th>2_star</th>\n      <th>3_star</th>\n      <th>total_stars</th>\n      <th>starred_restaurants</th>\n    </tr>\n  </thead>\n  <tbody>\n    <tr>\n      <th>0</th>\n      <td>Abbeville</td>\n      <td>2</td>\n      <td>0</td>\n      <td>0</td>\n      <td>0</td>\n      <td>0</td>\n      <td>0</td>\n    </tr>\n    <tr>\n      <th>1</th>\n      <td>Agen</td>\n      <td>1</td>\n      <td>2</td>\n      <td>0</td>\n      <td>0</td>\n      <td>2</td>\n      <td>2</td>\n    </tr>\n    <tr>\n      <th>2</th>\n      <td>Aix-en-Provence</td>\n      <td>3</td>\n      <td>9</td>\n      <td>0</td>\n      <td>0</td>\n      <td>9</td>\n      <td>9</td>\n    </tr>\n    <tr>\n      <th>3</th>\n      <td>Ajaccio</td>\n      <td>1</td>\n      <td>0</td>\n      <td>0</td>\n      <td>0</td>\n      <td>0</td>\n      <td>0</td>\n    </tr>\n    <tr>\n      <th>4</th>\n      <td>Albertville</td>\n      <td>2</td>\n      <td>8</td>\n      <td>4</td>\n      <td>1</td>\n      <td>19</td>\n      <td>13</td>\n    </tr>\n  </tbody>\n</table>\n</div>"
     },
     "execution_count": 72,
     "metadata": {},
     "output_type": "execute_result"
    }
   ],
   "source": [
    "print(f\"Shape: {arrondissement_grouped.shape}\")\n",
    "arrondissement_grouped.head()"
   ],
   "metadata": {
    "collapsed": false,
    "ExecuteTime": {
     "end_time": "2024-04-24T20:49:31.325272Z",
     "start_time": "2024-04-24T20:49:31.281744Z"
    }
   }
  },
  {
   "cell_type": "code",
   "execution_count": 73,
   "outputs": [
    {
     "name": "stdout",
     "output_type": "stream",
     "text": [
      "Sets equal? True\n"
     ]
    }
   ],
   "source": [
    "set1 = set(arrondissement_grouped['arrondissement'].unique())\n",
    "set2 = set(geo_stats['arrondissement'].unique())\n",
    "print(f\"Sets equal? {set1 == set2}\")"
   ],
   "metadata": {
    "collapsed": false,
    "ExecuteTime": {
     "end_time": "2024-04-24T20:49:34.323727Z",
     "start_time": "2024-04-24T20:49:34.289618Z"
    }
   }
  },
  {
   "cell_type": "markdown",
   "source": [
    "----\n",
    "&nbsp;\n",
    "## Merging `geo_stats` and `arrondissement_grouped` on 'arrondissement'"
   ],
   "metadata": {
    "collapsed": false,
    "ExecuteTime": {
     "end_time": "2023-08-11T16:07:11.805336Z",
     "start_time": "2023-08-11T16:07:11.788376Z"
    }
   }
  },
  {
   "cell_type": "code",
   "execution_count": 74,
   "outputs": [
    {
     "name": "stdout",
     "output_type": "stream",
     "text": [
      "Shape: (320, 17)\n",
      "Columns:\n",
      "['code', 'arrondissement', 'department_num', 'department', 'capital', 'region', 'municipal_population', 'population_density(inhabitants/sq_km)', 'poverty_rate(%)', 'average_net_hourly_wage(€)', 'geometry', 'bib_gourmand', '1_star', '2_star', '3_star', 'total_stars', 'starred_restaurants']\n"
     ]
    }
   ],
   "source": [
    "merged_data = pd.merge(geo_stats, arrondissement_grouped, on='arrondissement', how='inner')\n",
    "print(f\"Shape: {merged_data.shape}\")\n",
    "print(f\"Columns:\\n{merged_data.columns.tolist()}\")"
   ],
   "metadata": {
    "collapsed": false,
    "ExecuteTime": {
     "end_time": "2024-04-24T20:49:38.518588Z",
     "start_time": "2024-04-24T20:49:38.475999Z"
    }
   }
  },
  {
   "cell_type": "code",
   "execution_count": 75,
   "outputs": [
    {
     "data": {
      "text/plain": "    code   arrondissement department_num department          capital  \\\n0  01001           Belley             01        Ain  Bourg-en-Bresse   \n1  01002  Bourg-en-Bresse             01        Ain  Bourg-en-Bresse   \n2  01003              Gex             01        Ain  Bourg-en-Bresse   \n3  01004           Nantua             01        Ain  Bourg-en-Bresse   \n4  02001  Château-Thierry             02      Aisne             Laon   \n\n                 region  bib_gourmand  1_star  2_star  3_star  total_stars  \\\n0  Auvergne-Rhône-Alpes             0       1       0       0            1   \n1  Auvergne-Rhône-Alpes             6       2       0       1            5   \n2  Auvergne-Rhône-Alpes             0       0       0       0            0   \n3  Auvergne-Rhône-Alpes             1       1       0       0            1   \n4       Hauts-de-France             0       0       0       0            0   \n\n   starred_restaurants  municipal_population  \\\n0                    1                123405   \n1                    3                340382   \n2                    0                100314   \n3                    1                 93755   \n4                    0                 70094   \n\n   population_density(inhabitants/sq_km) poverty_rate(%)  \\\n0                                   77.9            10.2   \n1                                  118.4             8.8   \n2                                  247.8            12.4   \n3                                  104.2            15.5   \n4                                   62.9              14   \n\n  average_net_hourly_wage(€)  \\\n0                       15.3   \n1                      15.65   \n2                      15.32   \n3                      14.14   \n4                      14.36   \n\n                                            geometry  \n0  POLYGON ((5.12174 45.81118, 5.12665 45.81392, ...  \n1  POLYGON ((4.98022 46.51520, 4.98355 46.51539, ...  \n2  POLYGON ((6.06401 46.41623, 6.06730 46.41494, ...  \n3  POLYGON ((5.63746 46.33644, 5.64007 46.33884, ...  \n4  POLYGON ((3.07188 49.11755, 3.07224 49.11832, ...  ",
      "text/html": "<div>\n<style scoped>\n    .dataframe tbody tr th:only-of-type {\n        vertical-align: middle;\n    }\n\n    .dataframe tbody tr th {\n        vertical-align: top;\n    }\n\n    .dataframe thead th {\n        text-align: right;\n    }\n</style>\n<table border=\"1\" class=\"dataframe\">\n  <thead>\n    <tr style=\"text-align: right;\">\n      <th></th>\n      <th>code</th>\n      <th>arrondissement</th>\n      <th>department_num</th>\n      <th>department</th>\n      <th>capital</th>\n      <th>region</th>\n      <th>bib_gourmand</th>\n      <th>1_star</th>\n      <th>2_star</th>\n      <th>3_star</th>\n      <th>total_stars</th>\n      <th>starred_restaurants</th>\n      <th>municipal_population</th>\n      <th>population_density(inhabitants/sq_km)</th>\n      <th>poverty_rate(%)</th>\n      <th>average_net_hourly_wage(€)</th>\n      <th>geometry</th>\n    </tr>\n  </thead>\n  <tbody>\n    <tr>\n      <th>0</th>\n      <td>01001</td>\n      <td>Belley</td>\n      <td>01</td>\n      <td>Ain</td>\n      <td>Bourg-en-Bresse</td>\n      <td>Auvergne-Rhône-Alpes</td>\n      <td>0</td>\n      <td>1</td>\n      <td>0</td>\n      <td>0</td>\n      <td>1</td>\n      <td>1</td>\n      <td>123405</td>\n      <td>77.9</td>\n      <td>10.2</td>\n      <td>15.3</td>\n      <td>POLYGON ((5.12174 45.81118, 5.12665 45.81392, ...</td>\n    </tr>\n    <tr>\n      <th>1</th>\n      <td>01002</td>\n      <td>Bourg-en-Bresse</td>\n      <td>01</td>\n      <td>Ain</td>\n      <td>Bourg-en-Bresse</td>\n      <td>Auvergne-Rhône-Alpes</td>\n      <td>6</td>\n      <td>2</td>\n      <td>0</td>\n      <td>1</td>\n      <td>5</td>\n      <td>3</td>\n      <td>340382</td>\n      <td>118.4</td>\n      <td>8.8</td>\n      <td>15.65</td>\n      <td>POLYGON ((4.98022 46.51520, 4.98355 46.51539, ...</td>\n    </tr>\n    <tr>\n      <th>2</th>\n      <td>01003</td>\n      <td>Gex</td>\n      <td>01</td>\n      <td>Ain</td>\n      <td>Bourg-en-Bresse</td>\n      <td>Auvergne-Rhône-Alpes</td>\n      <td>0</td>\n      <td>0</td>\n      <td>0</td>\n      <td>0</td>\n      <td>0</td>\n      <td>0</td>\n      <td>100314</td>\n      <td>247.8</td>\n      <td>12.4</td>\n      <td>15.32</td>\n      <td>POLYGON ((6.06401 46.41623, 6.06730 46.41494, ...</td>\n    </tr>\n    <tr>\n      <th>3</th>\n      <td>01004</td>\n      <td>Nantua</td>\n      <td>01</td>\n      <td>Ain</td>\n      <td>Bourg-en-Bresse</td>\n      <td>Auvergne-Rhône-Alpes</td>\n      <td>1</td>\n      <td>1</td>\n      <td>0</td>\n      <td>0</td>\n      <td>1</td>\n      <td>1</td>\n      <td>93755</td>\n      <td>104.2</td>\n      <td>15.5</td>\n      <td>14.14</td>\n      <td>POLYGON ((5.63746 46.33644, 5.64007 46.33884, ...</td>\n    </tr>\n    <tr>\n      <th>4</th>\n      <td>02001</td>\n      <td>Château-Thierry</td>\n      <td>02</td>\n      <td>Aisne</td>\n      <td>Laon</td>\n      <td>Hauts-de-France</td>\n      <td>0</td>\n      <td>0</td>\n      <td>0</td>\n      <td>0</td>\n      <td>0</td>\n      <td>0</td>\n      <td>70094</td>\n      <td>62.9</td>\n      <td>14</td>\n      <td>14.36</td>\n      <td>POLYGON ((3.07188 49.11755, 3.07224 49.11832, ...</td>\n    </tr>\n  </tbody>\n</table>\n</div>"
     },
     "execution_count": 75,
     "metadata": {},
     "output_type": "execute_result"
    }
   ],
   "source": [
    "new_order = ['code', 'arrondissement', 'department_num', 'department', 'capital', 'region', 'bib_gourmand', '1_star', '2_star', '3_star', 'total_stars', 'starred_restaurants', 'municipal_population', 'population_density(inhabitants/sq_km)', 'poverty_rate(%)', 'average_net_hourly_wage(€)', 'geometry']\n",
    "merged_data = merged_data[new_order]\n",
    "merged_data.head()"
   ],
   "metadata": {
    "collapsed": false,
    "ExecuteTime": {
     "end_time": "2024-04-24T20:49:42.700308Z",
     "start_time": "2024-04-24T20:49:42.661702Z"
    }
   }
  },
  {
   "cell_type": "markdown",
   "source": [
    "----\n",
    "&nbsp;\n",
    "## Adding coordinates of individual restaurants"
   ],
   "metadata": {
    "collapsed": false,
    "ExecuteTime": {
     "end_time": "2023-08-11T16:07:18.016264Z",
     "start_time": "2023-08-11T16:07:18.003644Z"
    }
   }
  },
  {
   "cell_type": "code",
   "execution_count": 76,
   "outputs": [
    {
     "name": "stdout",
     "output_type": "stream",
     "text": [
      "['name', 'address', 'location', 'arrondissement', 'department_num', 'department', 'capital', 'region', 'price', 'cuisine', 'url', 'award', 'stars', 'longitude', 'latitude']\n"
     ]
    }
   ],
   "source": [
    "print(france_df.columns.tolist())"
   ],
   "metadata": {
    "collapsed": false,
    "ExecuteTime": {
     "end_time": "2024-04-24T20:49:51.014577Z",
     "start_time": "2024-04-24T20:49:50.976091Z"
    }
   }
  },
  {
   "cell_type": "code",
   "execution_count": 77,
   "outputs": [],
   "source": [
    "# Create a separate DataFrame with star ratings, regions, and coordinates\n",
    "location_data_arrond = france_df[['stars', 'arrondissement', 'latitude', 'longitude']]\n",
    "\n",
    "# Convert to a dictionary where keys are tuples of star rating and arrondissement\n",
    "location_dict_arrond = location_data_arrond.groupby(['stars', 'arrondissement']).apply(lambda df: list(zip(df.latitude, df.longitude))).to_dict()"
   ],
   "metadata": {
    "collapsed": false,
    "ExecuteTime": {
     "end_time": "2024-04-24T20:49:54.118730Z",
     "start_time": "2024-04-24T20:49:54.081517Z"
    }
   }
  },
  {
   "cell_type": "code",
   "execution_count": 78,
   "outputs": [],
   "source": [
    "# Now create a function to map these dictionaries to original DataFrame\n",
    "def map_locations_arrond(row):\n",
    "    return {stars: location_dict_arrond.get((stars, row['arrondissement'])) for stars in [1, 2, 3]}"
   ],
   "metadata": {
    "collapsed": false,
    "ExecuteTime": {
     "end_time": "2024-04-24T20:49:56.591081Z",
     "start_time": "2024-04-24T20:49:56.565678Z"
    }
   }
  },
  {
   "cell_type": "code",
   "execution_count": 79,
   "outputs": [],
   "source": [
    "merged_data['locations'] = merged_data.apply(map_locations_arrond, axis=1)"
   ],
   "metadata": {
    "collapsed": false,
    "ExecuteTime": {
     "end_time": "2024-04-24T20:49:58.297835Z",
     "start_time": "2024-04-24T20:49:58.271324Z"
    }
   }
  },
  {
   "cell_type": "code",
   "execution_count": 80,
   "outputs": [
    {
     "data": {
      "text/plain": "    code   arrondissement department_num department          capital  \\\n0  01001           Belley             01        Ain  Bourg-en-Bresse   \n1  01002  Bourg-en-Bresse             01        Ain  Bourg-en-Bresse   \n2  01003              Gex             01        Ain  Bourg-en-Bresse   \n3  01004           Nantua             01        Ain  Bourg-en-Bresse   \n4  02001  Château-Thierry             02      Aisne             Laon   \n\n                 region  bib_gourmand  1_star  2_star  3_star  total_stars  \\\n0  Auvergne-Rhône-Alpes             0       1       0       0            1   \n1  Auvergne-Rhône-Alpes             6       2       0       1            5   \n2  Auvergne-Rhône-Alpes             0       0       0       0            0   \n3  Auvergne-Rhône-Alpes             1       1       0       0            1   \n4       Hauts-de-France             0       0       0       0            0   \n\n   starred_restaurants  municipal_population  \\\n0                    1                123405   \n1                    3                340382   \n2                    0                100314   \n3                    1                 93755   \n4                    0                 70094   \n\n   population_density(inhabitants/sq_km) poverty_rate(%)  \\\n0                                   77.9            10.2   \n1                                  118.4             8.8   \n2                                  247.8            12.4   \n3                                  104.2            15.5   \n4                                   62.9              14   \n\n  average_net_hourly_wage(€)  \\\n0                       15.3   \n1                      15.65   \n2                      15.32   \n3                      14.14   \n4                      14.36   \n\n                                            geometry  \\\n0  POLYGON ((5.12174 45.81118, 5.12665 45.81392, ...   \n1  POLYGON ((4.98022 46.51520, 4.98355 46.51539, ...   \n2  POLYGON ((6.06401 46.41623, 6.06730 46.41494, ...   \n3  POLYGON ((5.63746 46.33644, 5.64007 46.33884, ...   \n4  POLYGON ((3.07188 49.11755, 3.07224 49.11832, ...   \n\n                                           locations  \n0   {1: [(46.0070045, 5.3605085)], 2: None, 3: None}  \n1  {1: [(46.4340961, 4.9390332), (46.2987913, 4.8...  \n2                        {1: None, 2: None, 3: None}  \n3   {1: [(46.0858481, 5.4078158)], 2: None, 3: None}  \n4                        {1: None, 2: None, 3: None}  ",
      "text/html": "<div>\n<style scoped>\n    .dataframe tbody tr th:only-of-type {\n        vertical-align: middle;\n    }\n\n    .dataframe tbody tr th {\n        vertical-align: top;\n    }\n\n    .dataframe thead th {\n        text-align: right;\n    }\n</style>\n<table border=\"1\" class=\"dataframe\">\n  <thead>\n    <tr style=\"text-align: right;\">\n      <th></th>\n      <th>code</th>\n      <th>arrondissement</th>\n      <th>department_num</th>\n      <th>department</th>\n      <th>capital</th>\n      <th>region</th>\n      <th>bib_gourmand</th>\n      <th>1_star</th>\n      <th>2_star</th>\n      <th>3_star</th>\n      <th>total_stars</th>\n      <th>starred_restaurants</th>\n      <th>municipal_population</th>\n      <th>population_density(inhabitants/sq_km)</th>\n      <th>poverty_rate(%)</th>\n      <th>average_net_hourly_wage(€)</th>\n      <th>geometry</th>\n      <th>locations</th>\n    </tr>\n  </thead>\n  <tbody>\n    <tr>\n      <th>0</th>\n      <td>01001</td>\n      <td>Belley</td>\n      <td>01</td>\n      <td>Ain</td>\n      <td>Bourg-en-Bresse</td>\n      <td>Auvergne-Rhône-Alpes</td>\n      <td>0</td>\n      <td>1</td>\n      <td>0</td>\n      <td>0</td>\n      <td>1</td>\n      <td>1</td>\n      <td>123405</td>\n      <td>77.9</td>\n      <td>10.2</td>\n      <td>15.3</td>\n      <td>POLYGON ((5.12174 45.81118, 5.12665 45.81392, ...</td>\n      <td>{1: [(46.0070045, 5.3605085)], 2: None, 3: None}</td>\n    </tr>\n    <tr>\n      <th>1</th>\n      <td>01002</td>\n      <td>Bourg-en-Bresse</td>\n      <td>01</td>\n      <td>Ain</td>\n      <td>Bourg-en-Bresse</td>\n      <td>Auvergne-Rhône-Alpes</td>\n      <td>6</td>\n      <td>2</td>\n      <td>0</td>\n      <td>1</td>\n      <td>5</td>\n      <td>3</td>\n      <td>340382</td>\n      <td>118.4</td>\n      <td>8.8</td>\n      <td>15.65</td>\n      <td>POLYGON ((4.98022 46.51520, 4.98355 46.51539, ...</td>\n      <td>{1: [(46.4340961, 4.9390332), (46.2987913, 4.8...</td>\n    </tr>\n    <tr>\n      <th>2</th>\n      <td>01003</td>\n      <td>Gex</td>\n      <td>01</td>\n      <td>Ain</td>\n      <td>Bourg-en-Bresse</td>\n      <td>Auvergne-Rhône-Alpes</td>\n      <td>0</td>\n      <td>0</td>\n      <td>0</td>\n      <td>0</td>\n      <td>0</td>\n      <td>0</td>\n      <td>100314</td>\n      <td>247.8</td>\n      <td>12.4</td>\n      <td>15.32</td>\n      <td>POLYGON ((6.06401 46.41623, 6.06730 46.41494, ...</td>\n      <td>{1: None, 2: None, 3: None}</td>\n    </tr>\n    <tr>\n      <th>3</th>\n      <td>01004</td>\n      <td>Nantua</td>\n      <td>01</td>\n      <td>Ain</td>\n      <td>Bourg-en-Bresse</td>\n      <td>Auvergne-Rhône-Alpes</td>\n      <td>1</td>\n      <td>1</td>\n      <td>0</td>\n      <td>0</td>\n      <td>1</td>\n      <td>1</td>\n      <td>93755</td>\n      <td>104.2</td>\n      <td>15.5</td>\n      <td>14.14</td>\n      <td>POLYGON ((5.63746 46.33644, 5.64007 46.33884, ...</td>\n      <td>{1: [(46.0858481, 5.4078158)], 2: None, 3: None}</td>\n    </tr>\n    <tr>\n      <th>4</th>\n      <td>02001</td>\n      <td>Château-Thierry</td>\n      <td>02</td>\n      <td>Aisne</td>\n      <td>Laon</td>\n      <td>Hauts-de-France</td>\n      <td>0</td>\n      <td>0</td>\n      <td>0</td>\n      <td>0</td>\n      <td>0</td>\n      <td>0</td>\n      <td>70094</td>\n      <td>62.9</td>\n      <td>14</td>\n      <td>14.36</td>\n      <td>POLYGON ((3.07188 49.11755, 3.07224 49.11832, ...</td>\n      <td>{1: None, 2: None, 3: None}</td>\n    </tr>\n  </tbody>\n</table>\n</div>"
     },
     "execution_count": 80,
     "metadata": {},
     "output_type": "execute_result"
    }
   ],
   "source": [
    "merged_data.head()"
   ],
   "metadata": {
    "collapsed": false,
    "ExecuteTime": {
     "end_time": "2024-04-24T20:50:00.855423Z",
     "start_time": "2024-04-24T20:50:00.821935Z"
    }
   }
  },
  {
   "cell_type": "markdown",
   "source": [
    "----\n",
    "&nbsp;\n",
    "Confirming datatypes"
   ],
   "metadata": {
    "collapsed": false
   }
  },
  {
   "cell_type": "code",
   "execution_count": 81,
   "outputs": [
    {
     "name": "stdout",
     "output_type": "stream",
     "text": [
      "code                                       object\n",
      "arrondissement                             object\n",
      "department_num                             object\n",
      "department                                 object\n",
      "capital                                    object\n",
      "region                                     object\n",
      "bib_gourmand                                int64\n",
      "1_star                                      int64\n",
      "2_star                                      int64\n",
      "3_star                                      int64\n",
      "total_stars                                 int64\n",
      "starred_restaurants                         int64\n",
      "municipal_population                        int64\n",
      "population_density(inhabitants/sq_km)     float64\n",
      "poverty_rate(%)                            object\n",
      "average_net_hourly_wage(€)                 object\n",
      "geometry                                 geometry\n",
      "locations                                  object\n",
      "dtype: object\n"
     ]
    }
   ],
   "source": [
    "print(merged_data.dtypes)"
   ],
   "metadata": {
    "collapsed": false,
    "ExecuteTime": {
     "end_time": "2024-04-24T20:50:14.941379Z",
     "start_time": "2024-04-24T20:50:14.910140Z"
    }
   }
  },
  {
   "cell_type": "code",
   "execution_count": 82,
   "outputs": [],
   "source": [
    "merged_data['poverty_rate(%)'] = merged_data['poverty_rate(%)'].astype(float)\n",
    "merged_data['average_net_hourly_wage(€)'] = merged_data['average_net_hourly_wage(€)'].astype(float)"
   ],
   "metadata": {
    "collapsed": false,
    "ExecuteTime": {
     "end_time": "2024-04-24T20:50:18.794069Z",
     "start_time": "2024-04-24T20:50:18.773615Z"
    }
   }
  },
  {
   "cell_type": "markdown",
   "source": [
    "----\n",
    "Export as GeoJSON file"
   ],
   "metadata": {
    "collapsed": false,
    "ExecuteTime": {
     "end_time": "2023-08-11T16:07:32.763411Z",
     "start_time": "2023-08-11T16:07:32.751847Z"
    }
   }
  },
  {
   "cell_type": "code",
   "execution_count": 85,
   "outputs": [],
   "source": [
    "# Export the GeoDataFrame to a .geojson file\n",
    "geo_merged_data = gpd.GeoDataFrame(merged_data, geometry='geometry')\n",
    "geo_merged_data.to_file('../../data/France/geodata/arrondissement_restaurants.geojson', driver='GeoJSON')"
   ],
   "metadata": {
    "collapsed": false,
    "ExecuteTime": {
     "end_time": "2024-04-24T20:51:41.711283Z",
     "start_time": "2024-04-24T20:51:40.665128Z"
    }
   }
  }
 ],
 "metadata": {
  "kernelspec": {
   "display_name": "Python 3",
   "language": "python",
   "name": "python3"
  },
  "language_info": {
   "codemirror_mode": {
    "name": "ipython",
    "version": 2
   },
   "file_extension": ".py",
   "mimetype": "text/x-python",
   "name": "python",
   "nbconvert_exporter": "python",
   "pygments_lexer": "ipython2",
   "version": "2.7.6"
  }
 },
 "nbformat": 4,
 "nbformat_minor": 0
}
