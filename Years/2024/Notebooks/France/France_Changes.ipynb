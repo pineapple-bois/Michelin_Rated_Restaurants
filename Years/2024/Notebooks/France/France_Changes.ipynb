{
 "cells": [
  {
   "cell_type": "markdown",
   "source": [
    "# Comparing the 2023 and 2024 Michelin Guide to France"
   ],
   "metadata": {
    "collapsed": false
   },
   "id": "934624b2c7ffe842"
  },
  {
   "cell_type": "code",
   "execution_count": 1,
   "id": "initial_id",
   "metadata": {
    "collapsed": true,
    "ExecuteTime": {
     "end_time": "2024-04-25T20:45:58.481225Z",
     "start_time": "2024-04-25T20:45:57.481462Z"
    }
   },
   "outputs": [],
   "source": [
    "import pandas as pd"
   ]
  },
  {
   "cell_type": "code",
   "execution_count": 2,
   "outputs": [],
   "source": [
    "france_23 = pd.read_csv('../../../2023/data/France/all_restaurants(arrondissements).csv')\n",
    "france_24 = pd.read_csv('../../data/France/all_restaurants(arrondissements).csv')"
   ],
   "metadata": {
    "collapsed": false,
    "ExecuteTime": {
     "end_time": "2024-04-25T20:45:58.496441Z",
     "start_time": "2024-04-25T20:45:58.482356Z"
    }
   },
   "id": "1990cae282d4c458"
  },
  {
   "cell_type": "code",
   "execution_count": 3,
   "outputs": [
    {
     "name": "stdout",
     "output_type": "stream",
     "text": [
      "<class 'pandas.core.frame.DataFrame'>\n",
      "RangeIndex: 1033 entries, 0 to 1032\n",
      "Data columns (total 15 columns):\n",
      " #   Column          Non-Null Count  Dtype  \n",
      "---  ------          --------------  -----  \n",
      " 0   name            1033 non-null   object \n",
      " 1   address         1033 non-null   object \n",
      " 2   location        1033 non-null   object \n",
      " 3   arrondissement  1033 non-null   object \n",
      " 4   department_num  1033 non-null   object \n",
      " 5   department      1033 non-null   object \n",
      " 6   capital         1033 non-null   object \n",
      " 7   region          1033 non-null   object \n",
      " 8   price           1033 non-null   object \n",
      " 9   cuisine         1033 non-null   object \n",
      " 10  url             989 non-null    object \n",
      " 11  award           1033 non-null   object \n",
      " 12  stars           1033 non-null   float64\n",
      " 13  longitude       1033 non-null   float64\n",
      " 14  latitude        1033 non-null   float64\n",
      "dtypes: float64(3), object(12)\n",
      "memory usage: 121.2+ KB\n"
     ]
    }
   ],
   "source": [
    "france_23.info()"
   ],
   "metadata": {
    "collapsed": false,
    "ExecuteTime": {
     "end_time": "2024-04-25T20:45:58.506376Z",
     "start_time": "2024-04-25T20:45:58.498313Z"
    }
   },
   "id": "5c7f4c92d54de809"
  },
  {
   "cell_type": "code",
   "execution_count": 4,
   "outputs": [
    {
     "name": "stdout",
     "output_type": "stream",
     "text": [
      "<class 'pandas.core.frame.DataFrame'>\n",
      "RangeIndex: 1017 entries, 0 to 1016\n",
      "Data columns (total 15 columns):\n",
      " #   Column          Non-Null Count  Dtype  \n",
      "---  ------          --------------  -----  \n",
      " 0   name            1017 non-null   object \n",
      " 1   address         1017 non-null   object \n",
      " 2   location        1017 non-null   object \n",
      " 3   arrondissement  1017 non-null   object \n",
      " 4   department_num  1017 non-null   object \n",
      " 5   department      1017 non-null   object \n",
      " 6   capital         1017 non-null   object \n",
      " 7   region          1017 non-null   object \n",
      " 8   price           1017 non-null   object \n",
      " 9   cuisine         1017 non-null   object \n",
      " 10  url             973 non-null    object \n",
      " 11  award           1017 non-null   object \n",
      " 12  stars           1017 non-null   float64\n",
      " 13  longitude       1017 non-null   float64\n",
      " 14  latitude        1017 non-null   float64\n",
      "dtypes: float64(3), object(12)\n",
      "memory usage: 119.3+ KB\n"
     ]
    }
   ],
   "source": [
    "france_24.info()"
   ],
   "metadata": {
    "collapsed": false,
    "ExecuteTime": {
     "end_time": "2024-04-25T20:45:58.515032Z",
     "start_time": "2024-04-25T20:45:58.508260Z"
    }
   },
   "id": "c30ac354beadb5e6"
  },
  {
   "cell_type": "markdown",
   "source": [
    "----\n",
    "&nbsp;\n",
    "## Identify new or removed entries focusing on 1+ star restaurants"
   ],
   "metadata": {
    "collapsed": false
   },
   "id": "6dd7e4bc5dc782be"
  },
  {
   "cell_type": "code",
   "execution_count": 5,
   "outputs": [],
   "source": [
    "# Filter france_23 and france_24 for star ratings >= 1\n",
    "subset_23 = france_23[france_23['stars'] >= 1][['name', 'address', 'location', 'stars']]\n",
    "subset_24 = france_24[france_24['stars'] >= 1][['name', 'address', 'location', 'stars']]\n",
    "\n",
    "# Turn the filtered data into sets of tuples\n",
    "set_subset_23 = set(tuple(x) for x in subset_23.values)\n",
    "set_subset_24 = set(tuple(x) for x in subset_24.values)\n",
    "\n",
    "# Find new and closed Michelin stars\n",
    "potential_new_stars = set_subset_24 - set_subset_23\n",
    "potential_closed_stars = set_subset_23 - set_subset_24"
   ],
   "metadata": {
    "collapsed": false,
    "ExecuteTime": {
     "end_time": "2024-04-25T20:45:58.524250Z",
     "start_time": "2024-04-25T20:45:58.517915Z"
    }
   },
   "id": "7d13fdd8133df294"
  },
  {
   "cell_type": "code",
   "execution_count": 6,
   "outputs": [
    {
     "name": "stdout",
     "output_type": "stream",
     "text": [
      "Potentially entered the guide:\n",
      "125 starred restaurants in 2024 guide not in 2023\n",
      "\n",
      "Potentially left the guide:\n",
      "113 starred restaurants in 2023 guide not in 2024\n"
     ]
    }
   ],
   "source": [
    "print(f'Potentially entered the guide:\\n{len(potential_new_stars)} starred restaurants in 2024 guide not in 2023')\n",
    "print(f'\\nPotentially left the guide:\\n{len(potential_closed_stars)} starred restaurants in 2023 guide not in 2024')"
   ],
   "metadata": {
    "collapsed": false,
    "ExecuteTime": {
     "end_time": "2024-04-25T20:45:58.547928Z",
     "start_time": "2024-04-25T20:45:58.525335Z"
    }
   },
   "id": "b9f0eaa1d645672c"
  },
  {
   "cell_type": "code",
   "execution_count": 7,
   "outputs": [],
   "source": [
    "# Now find name changes. For this, we need to find common addresses with different names\n",
    "common_locations = set(subset_23['location']).intersection(set(subset_24['location']))\n",
    "\n",
    "# Filtering out the common addresses from both DataFrames\n",
    "common_23 = subset_23[subset_23['location'].isin(common_locations)]\n",
    "common_24 = subset_24[subset_24['location'].isin(common_locations)]"
   ],
   "metadata": {
    "collapsed": false,
    "ExecuteTime": {
     "end_time": "2024-04-25T20:45:58.548652Z",
     "start_time": "2024-04-25T20:45:58.530579Z"
    }
   },
   "id": "47d7141efdca913b"
  },
  {
   "cell_type": "code",
   "execution_count": 8,
   "outputs": [],
   "source": [
    "# Finding the entries with the same address and stars but different names\n",
    "name_changes = []\n",
    "for index, row in common_24.iterrows():\n",
    "    # Filter the common_23 DataFrame to get rows with the same address and stars as the current row from common_24\n",
    "    matching_23 = common_23[(common_23['address'] == row['address']) & (common_23['location'] == row['location']) & (common_23['stars'] == row['stars'])]\n",
    "    # Iterate over the filtered DataFrame to compare names\n",
    "    for _, match in matching_23.iterrows():\n",
    "        if match['name'] != row['name']:\n",
    "            name_changes.append((match['name'], row['name'], row['address'], row['location'], row['stars']))\n",
    "\n",
    "name_changes_df = pd.DataFrame(name_changes, columns=['old_name', 'new_name', 'address', 'location', 'stars'])"
   ],
   "metadata": {
    "collapsed": false,
    "ExecuteTime": {
     "end_time": "2024-04-25T20:45:58.789904Z",
     "start_time": "2024-04-25T20:45:58.537404Z"
    }
   },
   "id": "70edf92363ef593f"
  },
  {
   "cell_type": "markdown",
   "source": [
    "There are some trivial differences in `name` between 2023 and 2024"
   ],
   "metadata": {
    "collapsed": false
   },
   "id": "c76af343c0381001"
  },
  {
   "cell_type": "code",
   "execution_count": 9,
   "outputs": [
    {
     "data": {
      "text/plain": "                                             old_name  \\\n0                             Régis et Jacques Marcon   \n1                                         Yoann Conte   \n2                     La Pyramide - Patrick Henriroux   \n3                                              Pastis   \n4                                   La Maison Caillet   \n5                             Entre Vigne et Garrigue   \n6                                             Leclere   \n7                               Auberge Saint-Laurent   \n8                            Girardin - Gastronomique   \n9                                         L'Orangerie   \n10                                Le Pont de l'Ouysse   \n11                               Château de la Treyne   \n12                          Château de Vault-de-Lugny   \n13                                     L'Incomparable   \n14                             Les Plaisirs Gourmands   \n15                                 Moulin de Rosmadec   \n16  L'Auberge de Saint-Rémy-de-Provence - Fanny Re...   \n17                                 Relais de la Poste   \n18                                   L'Auberge Basque   \n19                                       A Casa di Ma   \n20                                        Julien Binz   \n\n                                             new_name  \\\n0                                   Restaurant Marcon   \n1                             La Table de Yoann Conte   \n2                      La Pyramide - Maison Henriroux   \n3                                   Pastis Restaurant   \n4                                      Maison Caillet   \n5             Maison Chenet - Entre Vigne et Garrigue   \n6                                             Leclère   \n7                                  Auberge St-Laurent   \n8                                 Restaurant Girardin   \n9                                           Le George   \n10                               Château de la Treyne   \n11                                Le Pont de l'Ouysse   \n12            Le Valucien - Château de Vault-de-Lugny   \n13                         La Table de L'Incomparable   \n14          Guillaume Scheer - Les Plaisirs Gourmands   \n15                                 Rosmadec Le Moulin   \n16  L'Auberge de Saint-Rémy - Fanny Rey & Jonathan...   \n17                              Le Relais de la Poste   \n18      La Table de Cédric Béchade - L'Auberge Basque   \n19                                       A Casa di Mà   \n20                             Restaurant Julien Binz   \n\n                                              address  \\\n0                                          Larsiallas   \n1                      13 vieille route des Pensières   \n2                          14 boulevard Fernand-Point   \n3                                        3 rue Terral   \n4                                 22 rue André-Fiquet   \n5                            600 route de Saint-Bruno   \n6                                  8 rue André-Michel   \n7                                1 rue de la Fontaine   \n8                                    19 rue des Têtes   \n9           Four Seasons George V, 31 avenue George-V   \n10                                      Lacave, 46200   \n11                                      Lacave, 46200   \n12                                  11 rue du Château   \n13                            68 chemin de Belledonne   \n14                      35 route du Général-de-Gaulle   \n15                                Venelle de Rosmadec   \n16                              12 boulevard Mirabeau   \n17                        21 rue du Général-de-Gaulle   \n18  745 vieille route de Saint-Pée - quartier Helb...   \n19                                     Route de Calvi   \n20                                 7 rue des Cigognes   \n\n                         location  stars  \n0    Saint-Bonnet-le-Froid, 43290    3.0  \n1           Veyrier-du-Lac, 74290    2.0  \n2                   Vienne, 38200    2.0  \n3              Montpellier, 34000    1.0  \n4                  Valmont, 76540    1.0  \n5                   Pujaut, 30131    1.0  \n6              Montpellier, 34000    1.0  \n7                 Sierentz, 68510    1.0  \n8                   Colmar, 68000    1.0  \n9                    Paris, 75008    1.0  \n10                  Lacave, 46200    1.0  \n11                  Lacave, 46200    1.0  \n12          Vault-de-Lugny, 89200    1.0  \n13               Tresserve, 73100    1.0  \n14            Schiltigheim, 67300    1.0  \n15               Pont-Aven, 29930    1.0  \n16  Saint-Rémy-de-Provence, 13210    1.0  \n17            La Wantzenau, 67610    1.0  \n18   Saint-Pée-sur-Nivelle, 64310    1.0  \n19                   Lumio, 20260    1.0  \n20            Ammerschwihr, 68770    1.0  ",
      "text/html": "<div>\n<style scoped>\n    .dataframe tbody tr th:only-of-type {\n        vertical-align: middle;\n    }\n\n    .dataframe tbody tr th {\n        vertical-align: top;\n    }\n\n    .dataframe thead th {\n        text-align: right;\n    }\n</style>\n<table border=\"1\" class=\"dataframe\">\n  <thead>\n    <tr style=\"text-align: right;\">\n      <th></th>\n      <th>old_name</th>\n      <th>new_name</th>\n      <th>address</th>\n      <th>location</th>\n      <th>stars</th>\n    </tr>\n  </thead>\n  <tbody>\n    <tr>\n      <th>0</th>\n      <td>Régis et Jacques Marcon</td>\n      <td>Restaurant Marcon</td>\n      <td>Larsiallas</td>\n      <td>Saint-Bonnet-le-Froid, 43290</td>\n      <td>3.0</td>\n    </tr>\n    <tr>\n      <th>1</th>\n      <td>Yoann Conte</td>\n      <td>La Table de Yoann Conte</td>\n      <td>13 vieille route des Pensières</td>\n      <td>Veyrier-du-Lac, 74290</td>\n      <td>2.0</td>\n    </tr>\n    <tr>\n      <th>2</th>\n      <td>La Pyramide - Patrick Henriroux</td>\n      <td>La Pyramide - Maison Henriroux</td>\n      <td>14 boulevard Fernand-Point</td>\n      <td>Vienne, 38200</td>\n      <td>2.0</td>\n    </tr>\n    <tr>\n      <th>3</th>\n      <td>Pastis</td>\n      <td>Pastis Restaurant</td>\n      <td>3 rue Terral</td>\n      <td>Montpellier, 34000</td>\n      <td>1.0</td>\n    </tr>\n    <tr>\n      <th>4</th>\n      <td>La Maison Caillet</td>\n      <td>Maison Caillet</td>\n      <td>22 rue André-Fiquet</td>\n      <td>Valmont, 76540</td>\n      <td>1.0</td>\n    </tr>\n    <tr>\n      <th>5</th>\n      <td>Entre Vigne et Garrigue</td>\n      <td>Maison Chenet - Entre Vigne et Garrigue</td>\n      <td>600 route de Saint-Bruno</td>\n      <td>Pujaut, 30131</td>\n      <td>1.0</td>\n    </tr>\n    <tr>\n      <th>6</th>\n      <td>Leclere</td>\n      <td>Leclère</td>\n      <td>8 rue André-Michel</td>\n      <td>Montpellier, 34000</td>\n      <td>1.0</td>\n    </tr>\n    <tr>\n      <th>7</th>\n      <td>Auberge Saint-Laurent</td>\n      <td>Auberge St-Laurent</td>\n      <td>1 rue de la Fontaine</td>\n      <td>Sierentz, 68510</td>\n      <td>1.0</td>\n    </tr>\n    <tr>\n      <th>8</th>\n      <td>Girardin - Gastronomique</td>\n      <td>Restaurant Girardin</td>\n      <td>19 rue des Têtes</td>\n      <td>Colmar, 68000</td>\n      <td>1.0</td>\n    </tr>\n    <tr>\n      <th>9</th>\n      <td>L'Orangerie</td>\n      <td>Le George</td>\n      <td>Four Seasons George V, 31 avenue George-V</td>\n      <td>Paris, 75008</td>\n      <td>1.0</td>\n    </tr>\n    <tr>\n      <th>10</th>\n      <td>Le Pont de l'Ouysse</td>\n      <td>Château de la Treyne</td>\n      <td>Lacave, 46200</td>\n      <td>Lacave, 46200</td>\n      <td>1.0</td>\n    </tr>\n    <tr>\n      <th>11</th>\n      <td>Château de la Treyne</td>\n      <td>Le Pont de l'Ouysse</td>\n      <td>Lacave, 46200</td>\n      <td>Lacave, 46200</td>\n      <td>1.0</td>\n    </tr>\n    <tr>\n      <th>12</th>\n      <td>Château de Vault-de-Lugny</td>\n      <td>Le Valucien - Château de Vault-de-Lugny</td>\n      <td>11 rue du Château</td>\n      <td>Vault-de-Lugny, 89200</td>\n      <td>1.0</td>\n    </tr>\n    <tr>\n      <th>13</th>\n      <td>L'Incomparable</td>\n      <td>La Table de L'Incomparable</td>\n      <td>68 chemin de Belledonne</td>\n      <td>Tresserve, 73100</td>\n      <td>1.0</td>\n    </tr>\n    <tr>\n      <th>14</th>\n      <td>Les Plaisirs Gourmands</td>\n      <td>Guillaume Scheer - Les Plaisirs Gourmands</td>\n      <td>35 route du Général-de-Gaulle</td>\n      <td>Schiltigheim, 67300</td>\n      <td>1.0</td>\n    </tr>\n    <tr>\n      <th>15</th>\n      <td>Moulin de Rosmadec</td>\n      <td>Rosmadec Le Moulin</td>\n      <td>Venelle de Rosmadec</td>\n      <td>Pont-Aven, 29930</td>\n      <td>1.0</td>\n    </tr>\n    <tr>\n      <th>16</th>\n      <td>L'Auberge de Saint-Rémy-de-Provence - Fanny Re...</td>\n      <td>L'Auberge de Saint-Rémy - Fanny Rey &amp; Jonathan...</td>\n      <td>12 boulevard Mirabeau</td>\n      <td>Saint-Rémy-de-Provence, 13210</td>\n      <td>1.0</td>\n    </tr>\n    <tr>\n      <th>17</th>\n      <td>Relais de la Poste</td>\n      <td>Le Relais de la Poste</td>\n      <td>21 rue du Général-de-Gaulle</td>\n      <td>La Wantzenau, 67610</td>\n      <td>1.0</td>\n    </tr>\n    <tr>\n      <th>18</th>\n      <td>L'Auberge Basque</td>\n      <td>La Table de Cédric Béchade - L'Auberge Basque</td>\n      <td>745 vieille route de Saint-Pée - quartier Helb...</td>\n      <td>Saint-Pée-sur-Nivelle, 64310</td>\n      <td>1.0</td>\n    </tr>\n    <tr>\n      <th>19</th>\n      <td>A Casa di Ma</td>\n      <td>A Casa di Mà</td>\n      <td>Route de Calvi</td>\n      <td>Lumio, 20260</td>\n      <td>1.0</td>\n    </tr>\n    <tr>\n      <th>20</th>\n      <td>Julien Binz</td>\n      <td>Restaurant Julien Binz</td>\n      <td>7 rue des Cigognes</td>\n      <td>Ammerschwihr, 68770</td>\n      <td>1.0</td>\n    </tr>\n  </tbody>\n</table>\n</div>"
     },
     "execution_count": 9,
     "metadata": {},
     "output_type": "execute_result"
    }
   ],
   "source": [
    "name_changes_df"
   ],
   "metadata": {
    "collapsed": false,
    "ExecuteTime": {
     "end_time": "2024-04-25T20:45:58.808417Z",
     "start_time": "2024-04-25T20:45:58.793318Z"
    }
   },
   "id": "93c144ff2e68ffcc"
  },
  {
   "cell_type": "code",
   "execution_count": 10,
   "outputs": [],
   "source": [
    "from fuzzywuzzy import fuzz\n",
    "\n",
    "# Function to preprocess and compare names\n",
    "def preprocess(text):\n",
    "    # Basic preprocessing: lowercasing and stripping spaces\n",
    "    return text.lower().strip()\n",
    "\n",
    "def compare_names(name1, name2):\n",
    "    name1 = preprocess(name1)\n",
    "    name2 = preprocess(name2)\n",
    "    return fuzz.token_sort_ratio(name1, name2)  # Comparing with sorted tokens to handle reordering\n",
    "\n",
    "# Applying the comparison across the DataFrame rows\n",
    "name_changes_df['similarity_score'] = name_changes_df.apply(lambda x: compare_names(x['old_name'], x['new_name']), axis=1)"
   ],
   "metadata": {
    "collapsed": false,
    "ExecuteTime": {
     "end_time": "2024-04-25T20:45:58.868810Z",
     "start_time": "2024-04-25T20:45:58.805286Z"
    }
   },
   "id": "a628598d3ebb11a8"
  },
  {
   "cell_type": "code",
   "execution_count": 11,
   "outputs": [
    {
     "data": {
      "text/plain": "                                             old_name  \\\n0                             Régis et Jacques Marcon   \n1                                         Yoann Conte   \n2                     La Pyramide - Patrick Henriroux   \n3                                              Pastis   \n4                                   La Maison Caillet   \n5                             Entre Vigne et Garrigue   \n6                                             Leclere   \n7                               Auberge Saint-Laurent   \n8                            Girardin - Gastronomique   \n9                                         L'Orangerie   \n10                                Le Pont de l'Ouysse   \n11                               Château de la Treyne   \n12                          Château de Vault-de-Lugny   \n13                                     L'Incomparable   \n14                             Les Plaisirs Gourmands   \n15                                 Moulin de Rosmadec   \n16  L'Auberge de Saint-Rémy-de-Provence - Fanny Re...   \n17                                 Relais de la Poste   \n18                                   L'Auberge Basque   \n19                                       A Casa di Ma   \n20                                        Julien Binz   \n\n                                             new_name  \\\n0                                   Restaurant Marcon   \n1                             La Table de Yoann Conte   \n2                      La Pyramide - Maison Henriroux   \n3                                   Pastis Restaurant   \n4                                      Maison Caillet   \n5             Maison Chenet - Entre Vigne et Garrigue   \n6                                             Leclère   \n7                                  Auberge St-Laurent   \n8                                 Restaurant Girardin   \n9                                           Le George   \n10                               Château de la Treyne   \n11                                Le Pont de l'Ouysse   \n12            Le Valucien - Château de Vault-de-Lugny   \n13                         La Table de L'Incomparable   \n14          Guillaume Scheer - Les Plaisirs Gourmands   \n15                                 Rosmadec Le Moulin   \n16  L'Auberge de Saint-Rémy - Fanny Rey & Jonathan...   \n17                              Le Relais de la Poste   \n18      La Table de Cédric Béchade - L'Auberge Basque   \n19                                       A Casa di Mà   \n20                             Restaurant Julien Binz   \n\n                                              address  \\\n0                                          Larsiallas   \n1                      13 vieille route des Pensières   \n2                          14 boulevard Fernand-Point   \n3                                        3 rue Terral   \n4                                 22 rue André-Fiquet   \n5                            600 route de Saint-Bruno   \n6                                  8 rue André-Michel   \n7                                1 rue de la Fontaine   \n8                                    19 rue des Têtes   \n9           Four Seasons George V, 31 avenue George-V   \n10                                      Lacave, 46200   \n11                                      Lacave, 46200   \n12                                  11 rue du Château   \n13                            68 chemin de Belledonne   \n14                      35 route du Général-de-Gaulle   \n15                                Venelle de Rosmadec   \n16                              12 boulevard Mirabeau   \n17                        21 rue du Général-de-Gaulle   \n18  745 vieille route de Saint-Pée - quartier Helb...   \n19                                     Route de Calvi   \n20                                 7 rue des Cigognes   \n\n                         location  stars  similarity_score  \n0    Saint-Bonnet-le-Froid, 43290    3.0                46  \n1           Veyrier-du-Lac, 74290    2.0                65  \n2                   Vienne, 38200    2.0                84  \n3              Montpellier, 34000    1.0                52  \n4                  Valmont, 76540    1.0                90  \n5                   Pujaut, 30131    1.0                77  \n6              Montpellier, 34000    1.0                92  \n7                 Sierentz, 68510    1.0                92  \n8                   Colmar, 68000    1.0                44  \n9                    Paris, 75008    1.0                50  \n10                  Lacave, 46200    1.0                42  \n11                  Lacave, 46200    1.0                42  \n12          Vault-de-Lugny, 89200    1.0                80  \n13               Tresserve, 73100    1.0                70  \n14            Schiltigheim, 67300    1.0                72  \n15               Pont-Aven, 29930    1.0                94  \n16  Saint-Rémy-de-Provence, 13210    1.0                89  \n17            La Wantzenau, 67610    1.0                92  \n18   Saint-Pée-sur-Nivelle, 64310    1.0                56  \n19                   Lumio, 20260    1.0                96  \n20            Ammerschwihr, 68770    1.0                67  ",
      "text/html": "<div>\n<style scoped>\n    .dataframe tbody tr th:only-of-type {\n        vertical-align: middle;\n    }\n\n    .dataframe tbody tr th {\n        vertical-align: top;\n    }\n\n    .dataframe thead th {\n        text-align: right;\n    }\n</style>\n<table border=\"1\" class=\"dataframe\">\n  <thead>\n    <tr style=\"text-align: right;\">\n      <th></th>\n      <th>old_name</th>\n      <th>new_name</th>\n      <th>address</th>\n      <th>location</th>\n      <th>stars</th>\n      <th>similarity_score</th>\n    </tr>\n  </thead>\n  <tbody>\n    <tr>\n      <th>0</th>\n      <td>Régis et Jacques Marcon</td>\n      <td>Restaurant Marcon</td>\n      <td>Larsiallas</td>\n      <td>Saint-Bonnet-le-Froid, 43290</td>\n      <td>3.0</td>\n      <td>46</td>\n    </tr>\n    <tr>\n      <th>1</th>\n      <td>Yoann Conte</td>\n      <td>La Table de Yoann Conte</td>\n      <td>13 vieille route des Pensières</td>\n      <td>Veyrier-du-Lac, 74290</td>\n      <td>2.0</td>\n      <td>65</td>\n    </tr>\n    <tr>\n      <th>2</th>\n      <td>La Pyramide - Patrick Henriroux</td>\n      <td>La Pyramide - Maison Henriroux</td>\n      <td>14 boulevard Fernand-Point</td>\n      <td>Vienne, 38200</td>\n      <td>2.0</td>\n      <td>84</td>\n    </tr>\n    <tr>\n      <th>3</th>\n      <td>Pastis</td>\n      <td>Pastis Restaurant</td>\n      <td>3 rue Terral</td>\n      <td>Montpellier, 34000</td>\n      <td>1.0</td>\n      <td>52</td>\n    </tr>\n    <tr>\n      <th>4</th>\n      <td>La Maison Caillet</td>\n      <td>Maison Caillet</td>\n      <td>22 rue André-Fiquet</td>\n      <td>Valmont, 76540</td>\n      <td>1.0</td>\n      <td>90</td>\n    </tr>\n    <tr>\n      <th>5</th>\n      <td>Entre Vigne et Garrigue</td>\n      <td>Maison Chenet - Entre Vigne et Garrigue</td>\n      <td>600 route de Saint-Bruno</td>\n      <td>Pujaut, 30131</td>\n      <td>1.0</td>\n      <td>77</td>\n    </tr>\n    <tr>\n      <th>6</th>\n      <td>Leclere</td>\n      <td>Leclère</td>\n      <td>8 rue André-Michel</td>\n      <td>Montpellier, 34000</td>\n      <td>1.0</td>\n      <td>92</td>\n    </tr>\n    <tr>\n      <th>7</th>\n      <td>Auberge Saint-Laurent</td>\n      <td>Auberge St-Laurent</td>\n      <td>1 rue de la Fontaine</td>\n      <td>Sierentz, 68510</td>\n      <td>1.0</td>\n      <td>92</td>\n    </tr>\n    <tr>\n      <th>8</th>\n      <td>Girardin - Gastronomique</td>\n      <td>Restaurant Girardin</td>\n      <td>19 rue des Têtes</td>\n      <td>Colmar, 68000</td>\n      <td>1.0</td>\n      <td>44</td>\n    </tr>\n    <tr>\n      <th>9</th>\n      <td>L'Orangerie</td>\n      <td>Le George</td>\n      <td>Four Seasons George V, 31 avenue George-V</td>\n      <td>Paris, 75008</td>\n      <td>1.0</td>\n      <td>50</td>\n    </tr>\n    <tr>\n      <th>10</th>\n      <td>Le Pont de l'Ouysse</td>\n      <td>Château de la Treyne</td>\n      <td>Lacave, 46200</td>\n      <td>Lacave, 46200</td>\n      <td>1.0</td>\n      <td>42</td>\n    </tr>\n    <tr>\n      <th>11</th>\n      <td>Château de la Treyne</td>\n      <td>Le Pont de l'Ouysse</td>\n      <td>Lacave, 46200</td>\n      <td>Lacave, 46200</td>\n      <td>1.0</td>\n      <td>42</td>\n    </tr>\n    <tr>\n      <th>12</th>\n      <td>Château de Vault-de-Lugny</td>\n      <td>Le Valucien - Château de Vault-de-Lugny</td>\n      <td>11 rue du Château</td>\n      <td>Vault-de-Lugny, 89200</td>\n      <td>1.0</td>\n      <td>80</td>\n    </tr>\n    <tr>\n      <th>13</th>\n      <td>L'Incomparable</td>\n      <td>La Table de L'Incomparable</td>\n      <td>68 chemin de Belledonne</td>\n      <td>Tresserve, 73100</td>\n      <td>1.0</td>\n      <td>70</td>\n    </tr>\n    <tr>\n      <th>14</th>\n      <td>Les Plaisirs Gourmands</td>\n      <td>Guillaume Scheer - Les Plaisirs Gourmands</td>\n      <td>35 route du Général-de-Gaulle</td>\n      <td>Schiltigheim, 67300</td>\n      <td>1.0</td>\n      <td>72</td>\n    </tr>\n    <tr>\n      <th>15</th>\n      <td>Moulin de Rosmadec</td>\n      <td>Rosmadec Le Moulin</td>\n      <td>Venelle de Rosmadec</td>\n      <td>Pont-Aven, 29930</td>\n      <td>1.0</td>\n      <td>94</td>\n    </tr>\n    <tr>\n      <th>16</th>\n      <td>L'Auberge de Saint-Rémy-de-Provence - Fanny Re...</td>\n      <td>L'Auberge de Saint-Rémy - Fanny Rey &amp; Jonathan...</td>\n      <td>12 boulevard Mirabeau</td>\n      <td>Saint-Rémy-de-Provence, 13210</td>\n      <td>1.0</td>\n      <td>89</td>\n    </tr>\n    <tr>\n      <th>17</th>\n      <td>Relais de la Poste</td>\n      <td>Le Relais de la Poste</td>\n      <td>21 rue du Général-de-Gaulle</td>\n      <td>La Wantzenau, 67610</td>\n      <td>1.0</td>\n      <td>92</td>\n    </tr>\n    <tr>\n      <th>18</th>\n      <td>L'Auberge Basque</td>\n      <td>La Table de Cédric Béchade - L'Auberge Basque</td>\n      <td>745 vieille route de Saint-Pée - quartier Helb...</td>\n      <td>Saint-Pée-sur-Nivelle, 64310</td>\n      <td>1.0</td>\n      <td>56</td>\n    </tr>\n    <tr>\n      <th>19</th>\n      <td>A Casa di Ma</td>\n      <td>A Casa di Mà</td>\n      <td>Route de Calvi</td>\n      <td>Lumio, 20260</td>\n      <td>1.0</td>\n      <td>96</td>\n    </tr>\n    <tr>\n      <th>20</th>\n      <td>Julien Binz</td>\n      <td>Restaurant Julien Binz</td>\n      <td>7 rue des Cigognes</td>\n      <td>Ammerschwihr, 68770</td>\n      <td>1.0</td>\n      <td>67</td>\n    </tr>\n  </tbody>\n</table>\n</div>"
     },
     "execution_count": 11,
     "metadata": {},
     "output_type": "execute_result"
    }
   ],
   "source": [
    "name_changes_df"
   ],
   "metadata": {
    "collapsed": false,
    "ExecuteTime": {
     "end_time": "2024-04-25T20:45:58.869505Z",
     "start_time": "2024-04-25T20:45:58.842693Z"
    }
   },
   "id": "9e784fb0f1dc751a"
  },
  {
   "cell_type": "code",
   "execution_count": 12,
   "outputs": [],
   "source": [
    "# Filter rows where the similarity score is greater than 70\n",
    "high_similarity_rows = name_changes_df[name_changes_df['similarity_score'] > 70]"
   ],
   "metadata": {
    "collapsed": false,
    "ExecuteTime": {
     "end_time": "2024-04-25T20:45:58.869572Z",
     "start_time": "2024-04-25T20:45:58.847065Z"
    }
   },
   "id": "762e654f8772a9b"
  },
  {
   "cell_type": "code",
   "execution_count": 13,
   "outputs": [],
   "source": [
    "# Iterate over these rows to update the names in france_23\n",
    "for _, row in high_similarity_rows.iterrows():\n",
    "    # Update france_23 where the address and location match\n",
    "    france_23.loc[(france_23['location'] == row['location']), 'name'] = row['new_name']"
   ],
   "metadata": {
    "collapsed": false,
    "ExecuteTime": {
     "end_time": "2024-04-25T20:45:58.869626Z",
     "start_time": "2024-04-25T20:45:58.852785Z"
    }
   },
   "id": "f4128ced73dfc251"
  },
  {
   "cell_type": "markdown",
   "source": [
    "---\n",
    "&nbsp;\n",
    "## New ⭐⭐⭐ Restaurants, New ⭐⭐ Restaurants"
   ],
   "metadata": {
    "collapsed": false
   },
   "id": "99fb0e3566c23d97"
  },
  {
   "cell_type": "code",
   "execution_count": 14,
   "outputs": [],
   "source": [
    "# Identify New Two-Star and Three-Star Restaurants\n",
    "# Filter france_23 and france_24 for star ratings >= 1\n",
    "two_and_three_stars_23 = france_23[france_23['stars'] >= 2][['name', 'address', 'location', 'stars']]\n",
    "two_and_three_stars_24 = france_24[france_24['stars'] >= 2][['name', 'address', 'location', 'stars']]\n",
    "\n",
    "# Convert them to sets of (address, stars) tuples\n",
    "set_two_and_three_stars_23 = set(tuple(x) for x in two_and_three_stars_23[['name', 'address', 'location', 'stars']].values)\n",
    "set_two_and_three_stars_24 = set(tuple(x) for x in two_and_three_stars_24[['name', 'address', 'location', 'stars']].values)\n",
    "\n",
    "# Find the difference to identify new two-star and three-star restaurants\n",
    "new_two_and_three_stars = set_two_and_three_stars_24 - set_two_and_three_stars_23"
   ],
   "metadata": {
    "collapsed": false,
    "ExecuteTime": {
     "end_time": "2024-04-25T20:46:02.940820Z",
     "start_time": "2024-04-25T20:46:02.924653Z"
    }
   },
   "id": "bf897ab01a308f9b"
  },
  {
   "cell_type": "code",
   "execution_count": 15,
   "outputs": [
    {
     "data": {
      "text/plain": "                                       name  \\\n3                         Restaurant Marcon   \n4             Le Gabriel - La Réserve Paris   \n13                    La Table du Castellet   \n0                                Casadelmar   \n1      Le Pressoir d'Argent - Gordon Ramsay   \n2                   La Table de Yoann Conte   \n5                             Le Coquillage   \n6                               L'Orangerie   \n7   La Table des Amis by Christophe Bacquié   \n8                       Maison Benoît Vidal   \n9                           Maison Ruggieri   \n10                  René et Maxime Meilleur   \n11                   Maison Ronan Kervarrec   \n12      Sylvestre Wahid - Les Grandes Alpes   \n14                           Le Jules Verne   \n\n                                              address  \\\n3                                          Larsiallas   \n4                 La Réserve Paris, 42 avenue Gabriel   \n13  3001 route des Hauts-du-Camp, au Circuit Paul ...   \n0                                route de Palombaggia   \n1   InterContinental Bordeaux - Le Grand Hôtel, 2-...   \n2                      13 vieille route des Pensières   \n5                                    Lieu-dit Le Buot   \n6           Four Seasons George V, 31 avenue George-V   \n7             Les Mas Les Eydins, 2420 chemin du Four   \n8                    Sur-les-Bois, 79 route de Thônes   \n9                                    11 rue Treilhard   \n10                             Hameau de Saint-Marcel   \n11                           1 impasse du Vieux-Bourg   \n12                28 rue de l'Église, Courchevel 1850   \n14                Tour Eiffel - Avenue Gustave-Eiffel   \n\n                             location  stars  \n3        Saint-Bonnet-le-Froid, 43290    3.0  \n4                        Paris, 75008    3.0  \n13                Le Castellet, 83330    3.0  \n0                Porto-Vecchio, 20137    2.0  \n1                     Bordeaux, 33000    2.0  \n2               Veyrier-du-Lac, 74290    2.0  \n5       Saint-Méloir-des-Ondes, 35350    2.0  \n6                        Paris, 75008    2.0  \n7                     Bonnieux, 84480    2.0  \n8                       Annecy, 74940    2.0  \n9                        Paris, 75008    2.0  \n10  Saint-Martin-de-Belleville, 73440    2.0  \n11              Saint-Grégoire, 35760    2.0  \n12                  Courchevel, 73120    2.0  \n14                       Paris, 75007    2.0  ",
      "text/html": "<div>\n<style scoped>\n    .dataframe tbody tr th:only-of-type {\n        vertical-align: middle;\n    }\n\n    .dataframe tbody tr th {\n        vertical-align: top;\n    }\n\n    .dataframe thead th {\n        text-align: right;\n    }\n</style>\n<table border=\"1\" class=\"dataframe\">\n  <thead>\n    <tr style=\"text-align: right;\">\n      <th></th>\n      <th>name</th>\n      <th>address</th>\n      <th>location</th>\n      <th>stars</th>\n    </tr>\n  </thead>\n  <tbody>\n    <tr>\n      <th>3</th>\n      <td>Restaurant Marcon</td>\n      <td>Larsiallas</td>\n      <td>Saint-Bonnet-le-Froid, 43290</td>\n      <td>3.0</td>\n    </tr>\n    <tr>\n      <th>4</th>\n      <td>Le Gabriel - La Réserve Paris</td>\n      <td>La Réserve Paris, 42 avenue Gabriel</td>\n      <td>Paris, 75008</td>\n      <td>3.0</td>\n    </tr>\n    <tr>\n      <th>13</th>\n      <td>La Table du Castellet</td>\n      <td>3001 route des Hauts-du-Camp, au Circuit Paul ...</td>\n      <td>Le Castellet, 83330</td>\n      <td>3.0</td>\n    </tr>\n    <tr>\n      <th>0</th>\n      <td>Casadelmar</td>\n      <td>route de Palombaggia</td>\n      <td>Porto-Vecchio, 20137</td>\n      <td>2.0</td>\n    </tr>\n    <tr>\n      <th>1</th>\n      <td>Le Pressoir d'Argent - Gordon Ramsay</td>\n      <td>InterContinental Bordeaux - Le Grand Hôtel, 2-...</td>\n      <td>Bordeaux, 33000</td>\n      <td>2.0</td>\n    </tr>\n    <tr>\n      <th>2</th>\n      <td>La Table de Yoann Conte</td>\n      <td>13 vieille route des Pensières</td>\n      <td>Veyrier-du-Lac, 74290</td>\n      <td>2.0</td>\n    </tr>\n    <tr>\n      <th>5</th>\n      <td>Le Coquillage</td>\n      <td>Lieu-dit Le Buot</td>\n      <td>Saint-Méloir-des-Ondes, 35350</td>\n      <td>2.0</td>\n    </tr>\n    <tr>\n      <th>6</th>\n      <td>L'Orangerie</td>\n      <td>Four Seasons George V, 31 avenue George-V</td>\n      <td>Paris, 75008</td>\n      <td>2.0</td>\n    </tr>\n    <tr>\n      <th>7</th>\n      <td>La Table des Amis by Christophe Bacquié</td>\n      <td>Les Mas Les Eydins, 2420 chemin du Four</td>\n      <td>Bonnieux, 84480</td>\n      <td>2.0</td>\n    </tr>\n    <tr>\n      <th>8</th>\n      <td>Maison Benoît Vidal</td>\n      <td>Sur-les-Bois, 79 route de Thônes</td>\n      <td>Annecy, 74940</td>\n      <td>2.0</td>\n    </tr>\n    <tr>\n      <th>9</th>\n      <td>Maison Ruggieri</td>\n      <td>11 rue Treilhard</td>\n      <td>Paris, 75008</td>\n      <td>2.0</td>\n    </tr>\n    <tr>\n      <th>10</th>\n      <td>René et Maxime Meilleur</td>\n      <td>Hameau de Saint-Marcel</td>\n      <td>Saint-Martin-de-Belleville, 73440</td>\n      <td>2.0</td>\n    </tr>\n    <tr>\n      <th>11</th>\n      <td>Maison Ronan Kervarrec</td>\n      <td>1 impasse du Vieux-Bourg</td>\n      <td>Saint-Grégoire, 35760</td>\n      <td>2.0</td>\n    </tr>\n    <tr>\n      <th>12</th>\n      <td>Sylvestre Wahid - Les Grandes Alpes</td>\n      <td>28 rue de l'Église, Courchevel 1850</td>\n      <td>Courchevel, 73120</td>\n      <td>2.0</td>\n    </tr>\n    <tr>\n      <th>14</th>\n      <td>Le Jules Verne</td>\n      <td>Tour Eiffel - Avenue Gustave-Eiffel</td>\n      <td>Paris, 75007</td>\n      <td>2.0</td>\n    </tr>\n  </tbody>\n</table>\n</div>"
     },
     "execution_count": 15,
     "metadata": {},
     "output_type": "execute_result"
    }
   ],
   "source": [
    "# Create a DataFrame from the dictionary\n",
    "df = pd.DataFrame(new_two_and_three_stars, columns=['name', 'address', 'location', 'stars'])\n",
    "\n",
    "# Now, let's sort the DataFrame first by stars in descending order, then by postal code in ascending order\n",
    "sorted_df = df.sort_values(by=['stars'], ascending=[False])\n",
    "\n",
    "# Display the sorted DataFrame\n",
    "sorted_df[['name', 'address', 'location', 'stars']]"
   ],
   "metadata": {
    "collapsed": false,
    "ExecuteTime": {
     "end_time": "2024-04-25T20:46:04.983987Z",
     "start_time": "2024-04-25T20:46:04.962418Z"
    }
   },
   "id": "7c357294f5be3e2e"
  },
  {
   "cell_type": "markdown",
   "source": [
    "It was announced in the press that there are two new 3* and eight new 2*. We check for any changes"
   ],
   "metadata": {
    "collapsed": false
   },
   "id": "95e487bb39a142e9"
  },
  {
   "cell_type": "code",
   "execution_count": 63,
   "outputs": [],
   "source": [
    "# Initialize a list to store the changes\n",
    "changes = []\n",
    "\n",
    "# Loop through the new restaurants DataFrame\n",
    "for _, new_row in sorted_df.iterrows():\n",
    "    # Look for a match in the previous year's data\n",
    "    matching_old_rows = subset_23[\n",
    "        (subset_23['name'] == new_row['name']) &\n",
    "        #(subset_23['address'] == new_row['address']) & \n",
    "        (subset_23['location'] == new_row['location'])\n",
    "    ]\n",
    "    \n",
    "    # If there's a match, check for changes\n",
    "    for _, old_row in matching_old_rows.iterrows():\n",
    "        # If any detail has changed, add the comparison to the changes list\n",
    "        if not (old_row['stars'] == new_row['stars']):\n",
    "            changes.append({\n",
    "                'old_name': old_row['name'],\n",
    "                'new_name': new_row['name'],\n",
    "                'old_address': old_row['address'],\n",
    "                'new_address': new_row['address'],\n",
    "                'old_location': old_row['location'],\n",
    "                'new_location': new_row['location'],\n",
    "                'old_stars': old_row['stars'],\n",
    "                'new_stars': new_row['stars']\n",
    "            })\n",
    "\n",
    "# Convert the changes list to a DataFrame\n",
    "changes_df = pd.DataFrame(changes)"
   ],
   "metadata": {
    "collapsed": false,
    "ExecuteTime": {
     "end_time": "2024-04-25T20:19:51.196726Z",
     "start_time": "2024-04-25T20:19:51.181364Z"
    }
   },
   "id": "6c80831324d4a872"
  },
  {
   "cell_type": "code",
   "execution_count": 64,
   "outputs": [
    {
     "data": {
      "text/plain": "                              old_name                             new_name  \\\n0        Le Gabriel - La Réserve Paris        Le Gabriel - La Réserve Paris   \n1  Sylvestre Wahid - Les Grandes Alpes  Sylvestre Wahid - Les Grandes Alpes   \n2               Maison Ronan Kervarrec               Maison Ronan Kervarrec   \n3              René et Maxime Meilleur              René et Maxime Meilleur   \n4                       Le Jules Verne                       Le Jules Verne   \n5                      Maison Ruggieri                      Maison Ruggieri   \n6                          L'Orangerie                          L'Orangerie   \n\n                                 old_address  \\\n0        La Réserve Paris, 42 avenue Gabriel   \n1                         28 rue de l'Église   \n2                   1 impasse du Vieux-Bourg   \n3                    Hameau de  Saint-Marcel   \n4        Tour Eiffel - Avenue Gustave-Eiffel   \n5                           11 rue Treilhard   \n6  Four Seasons George V, 31 avenue George-V   \n\n                                 new_address  \\\n0        La Réserve Paris, 42 avenue Gabriel   \n1        28 rue de l'Église, Courchevel 1850   \n2                   1 impasse du Vieux-Bourg   \n3                     Hameau de Saint-Marcel   \n4        Tour Eiffel - Avenue Gustave-Eiffel   \n5                           11 rue Treilhard   \n6  Four Seasons George V, 31 avenue George-V   \n\n                        old_location                       new_location  \\\n0                       Paris, 75008                       Paris, 75008   \n1                  Courchevel, 73120                  Courchevel, 73120   \n2              Saint-Grégoire, 35760              Saint-Grégoire, 35760   \n3  Saint-Martin-de-Belleville, 73440  Saint-Martin-de-Belleville, 73440   \n4                       Paris, 75007                       Paris, 75007   \n5                       Paris, 75008                       Paris, 75008   \n6                       Paris, 75008                       Paris, 75008   \n\n   old_stars  new_stars  \n0        2.0        3.0  \n1        1.0        2.0  \n2        1.0        2.0  \n3        3.0        2.0  \n4        1.0        2.0  \n5        1.0        2.0  \n6        1.0        2.0  ",
      "text/html": "<div>\n<style scoped>\n    .dataframe tbody tr th:only-of-type {\n        vertical-align: middle;\n    }\n\n    .dataframe tbody tr th {\n        vertical-align: top;\n    }\n\n    .dataframe thead th {\n        text-align: right;\n    }\n</style>\n<table border=\"1\" class=\"dataframe\">\n  <thead>\n    <tr style=\"text-align: right;\">\n      <th></th>\n      <th>old_name</th>\n      <th>new_name</th>\n      <th>old_address</th>\n      <th>new_address</th>\n      <th>old_location</th>\n      <th>new_location</th>\n      <th>old_stars</th>\n      <th>new_stars</th>\n    </tr>\n  </thead>\n  <tbody>\n    <tr>\n      <th>0</th>\n      <td>Le Gabriel - La Réserve Paris</td>\n      <td>Le Gabriel - La Réserve Paris</td>\n      <td>La Réserve Paris, 42 avenue Gabriel</td>\n      <td>La Réserve Paris, 42 avenue Gabriel</td>\n      <td>Paris, 75008</td>\n      <td>Paris, 75008</td>\n      <td>2.0</td>\n      <td>3.0</td>\n    </tr>\n    <tr>\n      <th>1</th>\n      <td>Sylvestre Wahid - Les Grandes Alpes</td>\n      <td>Sylvestre Wahid - Les Grandes Alpes</td>\n      <td>28 rue de l'Église</td>\n      <td>28 rue de l'Église, Courchevel 1850</td>\n      <td>Courchevel, 73120</td>\n      <td>Courchevel, 73120</td>\n      <td>1.0</td>\n      <td>2.0</td>\n    </tr>\n    <tr>\n      <th>2</th>\n      <td>Maison Ronan Kervarrec</td>\n      <td>Maison Ronan Kervarrec</td>\n      <td>1 impasse du Vieux-Bourg</td>\n      <td>1 impasse du Vieux-Bourg</td>\n      <td>Saint-Grégoire, 35760</td>\n      <td>Saint-Grégoire, 35760</td>\n      <td>1.0</td>\n      <td>2.0</td>\n    </tr>\n    <tr>\n      <th>3</th>\n      <td>René et Maxime Meilleur</td>\n      <td>René et Maxime Meilleur</td>\n      <td>Hameau de  Saint-Marcel</td>\n      <td>Hameau de Saint-Marcel</td>\n      <td>Saint-Martin-de-Belleville, 73440</td>\n      <td>Saint-Martin-de-Belleville, 73440</td>\n      <td>3.0</td>\n      <td>2.0</td>\n    </tr>\n    <tr>\n      <th>4</th>\n      <td>Le Jules Verne</td>\n      <td>Le Jules Verne</td>\n      <td>Tour Eiffel - Avenue Gustave-Eiffel</td>\n      <td>Tour Eiffel - Avenue Gustave-Eiffel</td>\n      <td>Paris, 75007</td>\n      <td>Paris, 75007</td>\n      <td>1.0</td>\n      <td>2.0</td>\n    </tr>\n    <tr>\n      <th>5</th>\n      <td>Maison Ruggieri</td>\n      <td>Maison Ruggieri</td>\n      <td>11 rue Treilhard</td>\n      <td>11 rue Treilhard</td>\n      <td>Paris, 75008</td>\n      <td>Paris, 75008</td>\n      <td>1.0</td>\n      <td>2.0</td>\n    </tr>\n    <tr>\n      <th>6</th>\n      <td>L'Orangerie</td>\n      <td>L'Orangerie</td>\n      <td>Four Seasons George V, 31 avenue George-V</td>\n      <td>Four Seasons George V, 31 avenue George-V</td>\n      <td>Paris, 75008</td>\n      <td>Paris, 75008</td>\n      <td>1.0</td>\n      <td>2.0</td>\n    </tr>\n  </tbody>\n</table>\n</div>"
     },
     "execution_count": 64,
     "metadata": {},
     "output_type": "execute_result"
    }
   ],
   "source": [
    "changes_df"
   ],
   "metadata": {
    "collapsed": false,
    "ExecuteTime": {
     "end_time": "2024-04-25T20:19:53.523958Z",
     "start_time": "2024-04-25T20:19:53.515387Z"
    }
   },
   "id": "9cfc272c4a00fbf6"
  },
  {
   "cell_type": "code",
   "execution_count": 54,
   "outputs": [],
   "source": [
    "import difflib\n",
    "\n",
    "# Function to check name similarity\n",
    "def is_similar(name1, name2, threshold=0.8):\n",
    "    return difflib.SequenceMatcher(None, name1, name2).ratio() > threshold\n",
    "\n",
    "changes = []\n",
    "\n",
    "for _, new_row in sorted_df.iterrows():\n",
    "    # Look for a match in the previous year's data based on location\n",
    "    matching_old_rows = subset_23[subset_23['location'] == new_row['location']]\n",
    "    \n",
    "    # Check for similar names and if there's a change in star rating\n",
    "    for _, old_row in matching_old_rows.iterrows():\n",
    "        if is_similar(old_row['name'], new_row['name']):\n",
    "            # If star ratings are different, record the change\n",
    "            if old_row['stars'] != new_row['stars']:\n",
    "                changes.append({\n",
    "                    'old_name': old_row['name'],\n",
    "                    'new_name': new_row['name'],\n",
    "                    'old_address': old_row['address'],\n",
    "                    'new_address': new_row['address'],\n",
    "                    'old_location': old_row['location'],\n",
    "                    'new_location': new_row['location'],\n",
    "                    'old_stars': old_row['stars'],\n",
    "                    'new_stars': new_row['stars']\n",
    "                })\n",
    "\n",
    "# Convert the changes list to a DataFrame\n",
    "changes_df = pd.DataFrame(changes)"
   ],
   "metadata": {
    "collapsed": false,
    "ExecuteTime": {
     "end_time": "2024-04-25T20:01:18.611054Z",
     "start_time": "2024-04-25T20:01:18.591388Z"
    }
   },
   "id": "b32e4ad638a7a214"
  },
  {
   "cell_type": "code",
   "execution_count": 55,
   "outputs": [
    {
     "data": {
      "text/plain": "                              old_name                             new_name  \\\n0        Le Gabriel - La Réserve Paris        Le Gabriel - La Réserve Paris   \n1  Sylvestre Wahid - Les Grandes Alpes  Sylvestre Wahid - Les Grandes Alpes   \n2               Maison Ronan Kervarrec               Maison Ronan Kervarrec   \n3              René et Maxime Meilleur              René et Maxime Meilleur   \n4                       Le Jules Verne                       Le Jules Verne   \n5                      Maison Ruggieri                      Maison Ruggieri   \n6                          L'Orangerie                          L'Orangerie   \n\n                                 old_address  \\\n0        La Réserve Paris, 42 avenue Gabriel   \n1                         28 rue de l'Église   \n2                   1 impasse du Vieux-Bourg   \n3                    Hameau de  Saint-Marcel   \n4        Tour Eiffel - Avenue Gustave-Eiffel   \n5                           11 rue Treilhard   \n6  Four Seasons George V, 31 avenue George-V   \n\n                                 new_address  \\\n0        La Réserve Paris, 42 avenue Gabriel   \n1        28 rue de l'Église, Courchevel 1850   \n2                   1 impasse du Vieux-Bourg   \n3                     Hameau de Saint-Marcel   \n4        Tour Eiffel - Avenue Gustave-Eiffel   \n5                           11 rue Treilhard   \n6  Four Seasons George V, 31 avenue George-V   \n\n                        old_location                       new_location  \\\n0                       Paris, 75008                       Paris, 75008   \n1                  Courchevel, 73120                  Courchevel, 73120   \n2              Saint-Grégoire, 35760              Saint-Grégoire, 35760   \n3  Saint-Martin-de-Belleville, 73440  Saint-Martin-de-Belleville, 73440   \n4                       Paris, 75007                       Paris, 75007   \n5                       Paris, 75008                       Paris, 75008   \n6                       Paris, 75008                       Paris, 75008   \n\n   old_stars  new_stars  \n0        2.0        3.0  \n1        1.0        2.0  \n2        1.0        2.0  \n3        3.0        2.0  \n4        1.0        2.0  \n5        1.0        2.0  \n6        1.0        2.0  ",
      "text/html": "<div>\n<style scoped>\n    .dataframe tbody tr th:only-of-type {\n        vertical-align: middle;\n    }\n\n    .dataframe tbody tr th {\n        vertical-align: top;\n    }\n\n    .dataframe thead th {\n        text-align: right;\n    }\n</style>\n<table border=\"1\" class=\"dataframe\">\n  <thead>\n    <tr style=\"text-align: right;\">\n      <th></th>\n      <th>old_name</th>\n      <th>new_name</th>\n      <th>old_address</th>\n      <th>new_address</th>\n      <th>old_location</th>\n      <th>new_location</th>\n      <th>old_stars</th>\n      <th>new_stars</th>\n    </tr>\n  </thead>\n  <tbody>\n    <tr>\n      <th>0</th>\n      <td>Le Gabriel - La Réserve Paris</td>\n      <td>Le Gabriel - La Réserve Paris</td>\n      <td>La Réserve Paris, 42 avenue Gabriel</td>\n      <td>La Réserve Paris, 42 avenue Gabriel</td>\n      <td>Paris, 75008</td>\n      <td>Paris, 75008</td>\n      <td>2.0</td>\n      <td>3.0</td>\n    </tr>\n    <tr>\n      <th>1</th>\n      <td>Sylvestre Wahid - Les Grandes Alpes</td>\n      <td>Sylvestre Wahid - Les Grandes Alpes</td>\n      <td>28 rue de l'Église</td>\n      <td>28 rue de l'Église, Courchevel 1850</td>\n      <td>Courchevel, 73120</td>\n      <td>Courchevel, 73120</td>\n      <td>1.0</td>\n      <td>2.0</td>\n    </tr>\n    <tr>\n      <th>2</th>\n      <td>Maison Ronan Kervarrec</td>\n      <td>Maison Ronan Kervarrec</td>\n      <td>1 impasse du Vieux-Bourg</td>\n      <td>1 impasse du Vieux-Bourg</td>\n      <td>Saint-Grégoire, 35760</td>\n      <td>Saint-Grégoire, 35760</td>\n      <td>1.0</td>\n      <td>2.0</td>\n    </tr>\n    <tr>\n      <th>3</th>\n      <td>René et Maxime Meilleur</td>\n      <td>René et Maxime Meilleur</td>\n      <td>Hameau de  Saint-Marcel</td>\n      <td>Hameau de Saint-Marcel</td>\n      <td>Saint-Martin-de-Belleville, 73440</td>\n      <td>Saint-Martin-de-Belleville, 73440</td>\n      <td>3.0</td>\n      <td>2.0</td>\n    </tr>\n    <tr>\n      <th>4</th>\n      <td>Le Jules Verne</td>\n      <td>Le Jules Verne</td>\n      <td>Tour Eiffel - Avenue Gustave-Eiffel</td>\n      <td>Tour Eiffel - Avenue Gustave-Eiffel</td>\n      <td>Paris, 75007</td>\n      <td>Paris, 75007</td>\n      <td>1.0</td>\n      <td>2.0</td>\n    </tr>\n    <tr>\n      <th>5</th>\n      <td>Maison Ruggieri</td>\n      <td>Maison Ruggieri</td>\n      <td>11 rue Treilhard</td>\n      <td>11 rue Treilhard</td>\n      <td>Paris, 75008</td>\n      <td>Paris, 75008</td>\n      <td>1.0</td>\n      <td>2.0</td>\n    </tr>\n    <tr>\n      <th>6</th>\n      <td>L'Orangerie</td>\n      <td>L'Orangerie</td>\n      <td>Four Seasons George V, 31 avenue George-V</td>\n      <td>Four Seasons George V, 31 avenue George-V</td>\n      <td>Paris, 75008</td>\n      <td>Paris, 75008</td>\n      <td>1.0</td>\n      <td>2.0</td>\n    </tr>\n  </tbody>\n</table>\n</div>"
     },
     "execution_count": 55,
     "metadata": {},
     "output_type": "execute_result"
    }
   ],
   "source": [
    "changes_df"
   ],
   "metadata": {
    "collapsed": false,
    "ExecuteTime": {
     "end_time": "2024-04-25T20:01:21.063532Z",
     "start_time": "2024-04-25T20:01:21.049810Z"
    }
   },
   "id": "10af7f0966abf0a3"
  },
  {
   "cell_type": "markdown",
   "source": [
    "----\n",
    "&nbsp;\n",
    "## Merging dfs for comparison"
   ],
   "metadata": {
    "collapsed": false
   },
   "id": "bee74962cd53b7b8"
  },
  {
   "cell_type": "code",
   "execution_count": 11,
   "outputs": [],
   "source": [
    "# Merge using the new 'fuzzy_matched_name' in france_23 and 'name' in france_24\n",
    "comparison_df = france_23.merge(\n",
    "    france_24, \n",
    "    left_on='fuzzy_matched_name',\n",
    "    right_on='name',\n",
    "    suffixes=('_23', '_24'), \n",
    "    how='outer', \n",
    "    indicator=True\n",
    ")"
   ],
   "metadata": {
    "collapsed": false,
    "ExecuteTime": {
     "end_time": "2024-04-25T17:15:42.844742Z",
     "start_time": "2024-04-25T17:15:42.839067Z"
    }
   },
   "id": "7f3cbf55ed259d19"
  },
  {
   "cell_type": "code",
   "execution_count": 14,
   "outputs": [],
   "source": [
    "# Remove unwanted columns\n",
    "columns_to_drop = ['department_num_23', 'department_23', 'capital_23', 'price_23', 'cuisine_23', 'latitude_23', 'longitude_23', \n",
    "                   'department_num_24', 'department_24', 'capital_24', 'price_24', 'cuisine_24', 'latitude_24', 'longitude_24']\n",
    "\n",
    "comparison_df.drop(columns=columns_to_drop, inplace=True)"
   ],
   "metadata": {
    "collapsed": false,
    "ExecuteTime": {
     "end_time": "2024-04-25T17:17:41.881389Z",
     "start_time": "2024-04-25T17:17:41.873593Z"
    }
   },
   "id": "a043eeb7afa45144"
  },
  {
   "cell_type": "code",
   "execution_count": 16,
   "outputs": [],
   "source": [
    "# Restaurants promoted to a star rating in 2024\n",
    "promotions = comparison_df[(comparison_df['stars_23'].isna() | (comparison_df['stars_23'] < 1)) & (comparison_df['stars_24'] >= 1)]\n",
    "\n",
    "# Restaurants demoted from a star rating after 2023\n",
    "demotions = comparison_df[(comparison_df['stars_23'] >= 1) & (comparison_df['stars_24'].isna() | (comparison_df['stars_24'] < 1))]"
   ],
   "metadata": {
    "collapsed": false,
    "ExecuteTime": {
     "end_time": "2024-04-25T17:18:13.602535Z",
     "start_time": "2024-04-25T17:18:13.595322Z"
    }
   },
   "id": "ed447a5524372dd1"
  },
  {
   "cell_type": "code",
   "execution_count": 28,
   "outputs": [],
   "source": [
    "promotions"
   ],
   "metadata": {
    "collapsed": false,
    "ExecuteTime": {
     "end_time": "2024-04-25T17:34:00.358595Z",
     "start_time": "2024-04-25T17:34:00.353716Z"
    }
   },
   "id": "a8f80d389b376f3f"
  },
  {
   "cell_type": "code",
   "execution_count": 33,
   "outputs": [
    {
     "data": {
      "text/plain": "                                       name  \\\n4                         Restaurant Marcon   \n15            Le Gabriel - La Réserve Paris   \n0                     La Table du Castellet   \n10                               Casadelmar   \n5      Le Pressoir d'Argent - Gordon Ramsay   \n7                             Le Coquillage   \n12                   Maison Ronan Kervarrec   \n1            La Pyramide - Maison Henriroux   \n13      Sylvestre Wahid - Les Grandes Alpes   \n2                   René et Maxime Meilleur   \n3                   La Table de Yoann Conte   \n9                       Maison Benoît Vidal   \n11                           Le Jules Verne   \n8                               L'Orangerie   \n14                          Maison Ruggieri   \n6   La Table des Amis by Christophe Bacquié   \n\n                                              address  \\\n4                                          Larsiallas   \n15                La Réserve Paris, 42 avenue Gabriel   \n0   3001 route des Hauts-du-Camp, au Circuit Paul ...   \n10                               route de Palombaggia   \n5   InterContinental Bordeaux - Le Grand Hôtel, 2-...   \n7                                    Lieu-dit Le Buot   \n12                           1 impasse du Vieux-Bourg   \n1                          14 boulevard Fernand-Point   \n13                28 rue de l'Église, Courchevel 1850   \n2                              Hameau de Saint-Marcel   \n3                      13 vieille route des Pensières   \n9                    Sur-les-Bois, 79 route de Thônes   \n11                Tour Eiffel - Avenue Gustave-Eiffel   \n8           Four Seasons George V, 31 avenue George-V   \n14                                   11 rue Treilhard   \n6             Les Mas Les Eydins, 2420 chemin du Four   \n\n                             location  stars  \n4        Saint-Bonnet-le-Froid, 43290    3.0  \n15                       Paris, 75008    3.0  \n0                 Le Castellet, 83330    3.0  \n10               Porto-Vecchio, 20137    2.0  \n5                     Bordeaux, 33000    2.0  \n7       Saint-Méloir-des-Ondes, 35350    2.0  \n12              Saint-Grégoire, 35760    2.0  \n1                       Vienne, 38200    2.0  \n13                  Courchevel, 73120    2.0  \n2   Saint-Martin-de-Belleville, 73440    2.0  \n3               Veyrier-du-Lac, 74290    2.0  \n9                       Annecy, 74940    2.0  \n11                       Paris, 75007    2.0  \n8                        Paris, 75008    2.0  \n14                       Paris, 75008    2.0  \n6                     Bonnieux, 84480    2.0  ",
      "text/html": "<div>\n<style scoped>\n    .dataframe tbody tr th:only-of-type {\n        vertical-align: middle;\n    }\n\n    .dataframe tbody tr th {\n        vertical-align: top;\n    }\n\n    .dataframe thead th {\n        text-align: right;\n    }\n</style>\n<table border=\"1\" class=\"dataframe\">\n  <thead>\n    <tr style=\"text-align: right;\">\n      <th></th>\n      <th>name</th>\n      <th>address</th>\n      <th>location</th>\n      <th>stars</th>\n    </tr>\n  </thead>\n  <tbody>\n    <tr>\n      <th>4</th>\n      <td>Restaurant Marcon</td>\n      <td>Larsiallas</td>\n      <td>Saint-Bonnet-le-Froid, 43290</td>\n      <td>3.0</td>\n    </tr>\n    <tr>\n      <th>15</th>\n      <td>Le Gabriel - La Réserve Paris</td>\n      <td>La Réserve Paris, 42 avenue Gabriel</td>\n      <td>Paris, 75008</td>\n      <td>3.0</td>\n    </tr>\n    <tr>\n      <th>0</th>\n      <td>La Table du Castellet</td>\n      <td>3001 route des Hauts-du-Camp, au Circuit Paul ...</td>\n      <td>Le Castellet, 83330</td>\n      <td>3.0</td>\n    </tr>\n    <tr>\n      <th>10</th>\n      <td>Casadelmar</td>\n      <td>route de Palombaggia</td>\n      <td>Porto-Vecchio, 20137</td>\n      <td>2.0</td>\n    </tr>\n    <tr>\n      <th>5</th>\n      <td>Le Pressoir d'Argent - Gordon Ramsay</td>\n      <td>InterContinental Bordeaux - Le Grand Hôtel, 2-...</td>\n      <td>Bordeaux, 33000</td>\n      <td>2.0</td>\n    </tr>\n    <tr>\n      <th>7</th>\n      <td>Le Coquillage</td>\n      <td>Lieu-dit Le Buot</td>\n      <td>Saint-Méloir-des-Ondes, 35350</td>\n      <td>2.0</td>\n    </tr>\n    <tr>\n      <th>12</th>\n      <td>Maison Ronan Kervarrec</td>\n      <td>1 impasse du Vieux-Bourg</td>\n      <td>Saint-Grégoire, 35760</td>\n      <td>2.0</td>\n    </tr>\n    <tr>\n      <th>1</th>\n      <td>La Pyramide - Maison Henriroux</td>\n      <td>14 boulevard Fernand-Point</td>\n      <td>Vienne, 38200</td>\n      <td>2.0</td>\n    </tr>\n    <tr>\n      <th>13</th>\n      <td>Sylvestre Wahid - Les Grandes Alpes</td>\n      <td>28 rue de l'Église, Courchevel 1850</td>\n      <td>Courchevel, 73120</td>\n      <td>2.0</td>\n    </tr>\n    <tr>\n      <th>2</th>\n      <td>René et Maxime Meilleur</td>\n      <td>Hameau de Saint-Marcel</td>\n      <td>Saint-Martin-de-Belleville, 73440</td>\n      <td>2.0</td>\n    </tr>\n    <tr>\n      <th>3</th>\n      <td>La Table de Yoann Conte</td>\n      <td>13 vieille route des Pensières</td>\n      <td>Veyrier-du-Lac, 74290</td>\n      <td>2.0</td>\n    </tr>\n    <tr>\n      <th>9</th>\n      <td>Maison Benoît Vidal</td>\n      <td>Sur-les-Bois, 79 route de Thônes</td>\n      <td>Annecy, 74940</td>\n      <td>2.0</td>\n    </tr>\n    <tr>\n      <th>11</th>\n      <td>Le Jules Verne</td>\n      <td>Tour Eiffel - Avenue Gustave-Eiffel</td>\n      <td>Paris, 75007</td>\n      <td>2.0</td>\n    </tr>\n    <tr>\n      <th>8</th>\n      <td>L'Orangerie</td>\n      <td>Four Seasons George V, 31 avenue George-V</td>\n      <td>Paris, 75008</td>\n      <td>2.0</td>\n    </tr>\n    <tr>\n      <th>14</th>\n      <td>Maison Ruggieri</td>\n      <td>11 rue Treilhard</td>\n      <td>Paris, 75008</td>\n      <td>2.0</td>\n    </tr>\n    <tr>\n      <th>6</th>\n      <td>La Table des Amis by Christophe Bacquié</td>\n      <td>Les Mas Les Eydins, 2420 chemin du Four</td>\n      <td>Bonnieux, 84480</td>\n      <td>2.0</td>\n    </tr>\n  </tbody>\n</table>\n</div>"
     },
     "execution_count": 33,
     "metadata": {},
     "output_type": "execute_result"
    }
   ],
   "source": [
    "demotions"
   ],
   "metadata": {
    "collapsed": false,
    "ExecuteTime": {
     "end_time": "2024-04-25T17:40:23.960404Z",
     "start_time": "2024-04-25T17:40:23.944470Z"
    }
   },
   "id": "ae806d95ef4d984e"
  },
  {
   "cell_type": "code",
   "execution_count": 32,
   "outputs": [
    {
     "data": {
      "text/plain": "                                       name  \\\n4                         Restaurant Marcon   \n15            Le Gabriel - La Réserve Paris   \n0                     La Table du Castellet   \n10                               Casadelmar   \n5      Le Pressoir d'Argent - Gordon Ramsay   \n7                             Le Coquillage   \n12                   Maison Ronan Kervarrec   \n1            La Pyramide - Maison Henriroux   \n13      Sylvestre Wahid - Les Grandes Alpes   \n2                   René et Maxime Meilleur   \n3                   La Table de Yoann Conte   \n9                       Maison Benoît Vidal   \n11                           Le Jules Verne   \n8                               L'Orangerie   \n14                          Maison Ruggieri   \n6   La Table des Amis by Christophe Bacquié   \n\n                                              address  \\\n4                                          Larsiallas   \n15                La Réserve Paris, 42 avenue Gabriel   \n0   3001 route des Hauts-du-Camp, au Circuit Paul ...   \n10                               route de Palombaggia   \n5   InterContinental Bordeaux - Le Grand Hôtel, 2-...   \n7                                    Lieu-dit Le Buot   \n12                           1 impasse du Vieux-Bourg   \n1                          14 boulevard Fernand-Point   \n13                28 rue de l'Église, Courchevel 1850   \n2                              Hameau de Saint-Marcel   \n3                      13 vieille route des Pensières   \n9                    Sur-les-Bois, 79 route de Thônes   \n11                Tour Eiffel - Avenue Gustave-Eiffel   \n8           Four Seasons George V, 31 avenue George-V   \n14                                   11 rue Treilhard   \n6             Les Mas Les Eydins, 2420 chemin du Four   \n\n                             location  stars                        city  \\\n4        Saint-Bonnet-le-Froid, 43290    3.0       Saint-Bonnet-le-Froid   \n15                       Paris, 75008    3.0                       Paris   \n0                 Le Castellet, 83330    3.0                Le Castellet   \n10               Porto-Vecchio, 20137    2.0               Porto-Vecchio   \n5                     Bordeaux, 33000    2.0                    Bordeaux   \n7       Saint-Méloir-des-Ondes, 35350    2.0      Saint-Méloir-des-Ondes   \n12              Saint-Grégoire, 35760    2.0              Saint-Grégoire   \n1                       Vienne, 38200    2.0                      Vienne   \n13                  Courchevel, 73120    2.0                  Courchevel   \n2   Saint-Martin-de-Belleville, 73440    2.0  Saint-Martin-de-Belleville   \n3               Veyrier-du-Lac, 74290    2.0              Veyrier-du-Lac   \n9                       Annecy, 74940    2.0                      Annecy   \n11                       Paris, 75007    2.0                       Paris   \n8                        Paris, 75008    2.0                       Paris   \n14                       Paris, 75008    2.0                       Paris   \n6                     Bonnieux, 84480    2.0                    Bonnieux   \n\n    postal_code  \n4         43290  \n15        75008  \n0         83330  \n10        20137  \n5         33000  \n7         35350  \n12        35760  \n1         38200  \n13        73120  \n2         73440  \n3         74290  \n9         74940  \n11        75007  \n8         75008  \n14        75008  \n6         84480  ",
      "text/html": "<div>\n<style scoped>\n    .dataframe tbody tr th:only-of-type {\n        vertical-align: middle;\n    }\n\n    .dataframe tbody tr th {\n        vertical-align: top;\n    }\n\n    .dataframe thead th {\n        text-align: right;\n    }\n</style>\n<table border=\"1\" class=\"dataframe\">\n  <thead>\n    <tr style=\"text-align: right;\">\n      <th></th>\n      <th>name</th>\n      <th>address</th>\n      <th>location</th>\n      <th>stars</th>\n      <th>city</th>\n      <th>postal_code</th>\n    </tr>\n  </thead>\n  <tbody>\n    <tr>\n      <th>4</th>\n      <td>Restaurant Marcon</td>\n      <td>Larsiallas</td>\n      <td>Saint-Bonnet-le-Froid, 43290</td>\n      <td>3.0</td>\n      <td>Saint-Bonnet-le-Froid</td>\n      <td>43290</td>\n    </tr>\n    <tr>\n      <th>15</th>\n      <td>Le Gabriel - La Réserve Paris</td>\n      <td>La Réserve Paris, 42 avenue Gabriel</td>\n      <td>Paris, 75008</td>\n      <td>3.0</td>\n      <td>Paris</td>\n      <td>75008</td>\n    </tr>\n    <tr>\n      <th>0</th>\n      <td>La Table du Castellet</td>\n      <td>3001 route des Hauts-du-Camp, au Circuit Paul ...</td>\n      <td>Le Castellet, 83330</td>\n      <td>3.0</td>\n      <td>Le Castellet</td>\n      <td>83330</td>\n    </tr>\n    <tr>\n      <th>10</th>\n      <td>Casadelmar</td>\n      <td>route de Palombaggia</td>\n      <td>Porto-Vecchio, 20137</td>\n      <td>2.0</td>\n      <td>Porto-Vecchio</td>\n      <td>20137</td>\n    </tr>\n    <tr>\n      <th>5</th>\n      <td>Le Pressoir d'Argent - Gordon Ramsay</td>\n      <td>InterContinental Bordeaux - Le Grand Hôtel, 2-...</td>\n      <td>Bordeaux, 33000</td>\n      <td>2.0</td>\n      <td>Bordeaux</td>\n      <td>33000</td>\n    </tr>\n    <tr>\n      <th>7</th>\n      <td>Le Coquillage</td>\n      <td>Lieu-dit Le Buot</td>\n      <td>Saint-Méloir-des-Ondes, 35350</td>\n      <td>2.0</td>\n      <td>Saint-Méloir-des-Ondes</td>\n      <td>35350</td>\n    </tr>\n    <tr>\n      <th>12</th>\n      <td>Maison Ronan Kervarrec</td>\n      <td>1 impasse du Vieux-Bourg</td>\n      <td>Saint-Grégoire, 35760</td>\n      <td>2.0</td>\n      <td>Saint-Grégoire</td>\n      <td>35760</td>\n    </tr>\n    <tr>\n      <th>1</th>\n      <td>La Pyramide - Maison Henriroux</td>\n      <td>14 boulevard Fernand-Point</td>\n      <td>Vienne, 38200</td>\n      <td>2.0</td>\n      <td>Vienne</td>\n      <td>38200</td>\n    </tr>\n    <tr>\n      <th>13</th>\n      <td>Sylvestre Wahid - Les Grandes Alpes</td>\n      <td>28 rue de l'Église, Courchevel 1850</td>\n      <td>Courchevel, 73120</td>\n      <td>2.0</td>\n      <td>Courchevel</td>\n      <td>73120</td>\n    </tr>\n    <tr>\n      <th>2</th>\n      <td>René et Maxime Meilleur</td>\n      <td>Hameau de Saint-Marcel</td>\n      <td>Saint-Martin-de-Belleville, 73440</td>\n      <td>2.0</td>\n      <td>Saint-Martin-de-Belleville</td>\n      <td>73440</td>\n    </tr>\n    <tr>\n      <th>3</th>\n      <td>La Table de Yoann Conte</td>\n      <td>13 vieille route des Pensières</td>\n      <td>Veyrier-du-Lac, 74290</td>\n      <td>2.0</td>\n      <td>Veyrier-du-Lac</td>\n      <td>74290</td>\n    </tr>\n    <tr>\n      <th>9</th>\n      <td>Maison Benoît Vidal</td>\n      <td>Sur-les-Bois, 79 route de Thônes</td>\n      <td>Annecy, 74940</td>\n      <td>2.0</td>\n      <td>Annecy</td>\n      <td>74940</td>\n    </tr>\n    <tr>\n      <th>11</th>\n      <td>Le Jules Verne</td>\n      <td>Tour Eiffel - Avenue Gustave-Eiffel</td>\n      <td>Paris, 75007</td>\n      <td>2.0</td>\n      <td>Paris</td>\n      <td>75007</td>\n    </tr>\n    <tr>\n      <th>8</th>\n      <td>L'Orangerie</td>\n      <td>Four Seasons George V, 31 avenue George-V</td>\n      <td>Paris, 75008</td>\n      <td>2.0</td>\n      <td>Paris</td>\n      <td>75008</td>\n    </tr>\n    <tr>\n      <th>14</th>\n      <td>Maison Ruggieri</td>\n      <td>11 rue Treilhard</td>\n      <td>Paris, 75008</td>\n      <td>2.0</td>\n      <td>Paris</td>\n      <td>75008</td>\n    </tr>\n    <tr>\n      <th>6</th>\n      <td>La Table des Amis by Christophe Bacquié</td>\n      <td>Les Mas Les Eydins, 2420 chemin du Four</td>\n      <td>Bonnieux, 84480</td>\n      <td>2.0</td>\n      <td>Bonnieux</td>\n      <td>84480</td>\n    </tr>\n  </tbody>\n</table>\n</div>"
     },
     "execution_count": 32,
     "metadata": {},
     "output_type": "execute_result"
    }
   ],
   "source": [
    "# New entries are those that only appear in the 2024 data\n",
    "new_entries = comparison_df[(comparison_df['_merge'] == 'right_only')]\n",
    "\n",
    "# Closures are those that only appear in the 2023 data\n",
    "closures = comparison_df[(comparison_df['_merge'] == 'left_only')]"
   ],
   "metadata": {
    "collapsed": false,
    "ExecuteTime": {
     "end_time": "2024-04-25T17:38:16.322616Z",
     "start_time": "2024-04-25T17:38:16.312399Z"
    }
   },
   "id": "ea722ccc9f48aa0b"
  },
  {
   "cell_type": "code",
   "execution_count": 26,
   "outputs": [],
   "source": [
    "new_entries"
   ],
   "metadata": {
    "collapsed": false,
    "ExecuteTime": {
     "end_time": "2024-04-25T17:25:23.169540Z",
     "start_time": "2024-04-25T17:25:23.156236Z"
    }
   },
   "id": "50e18ac43217705d"
  },
  {
   "cell_type": "code",
   "execution_count": 27,
   "outputs": [
    {
     "data": {
      "text/plain": "71"
     },
     "execution_count": 27,
     "metadata": {},
     "output_type": "execute_result"
    }
   ],
   "source": [
    "closures"
   ],
   "metadata": {
    "collapsed": false,
    "ExecuteTime": {
     "end_time": "2024-04-25T17:25:29.085621Z",
     "start_time": "2024-04-25T17:25:29.078369Z"
    }
   },
   "id": "97b89e4f7a2ad010"
  },
  {
   "cell_type": "code",
   "execution_count": 36,
   "outputs": [],
   "source": [
    "# Restaurants that gained stars\n",
    "gained_stars = comparison_df[(comparison_df['stars_23'] < comparison_df['stars_24'])]\n",
    "\n",
    "# Restaurants that lost stars\n",
    "lost_stars = comparison_df[(comparison_df['stars_23'] > comparison_df['stars_24'])]"
   ],
   "metadata": {
    "collapsed": false,
    "ExecuteTime": {
     "end_time": "2024-04-24T13:04:19.838363Z",
     "start_time": "2024-04-24T13:04:19.814241Z"
    }
   },
   "id": "9165912e11626038"
  },
  {
   "cell_type": "code",
   "execution_count": 37,
   "outputs": [
    {
     "data": {
      "text/plain": "                                    name  \\\n49                    Relais de la Poste   \n60         Le Gabriel - La Réserve Paris   \n83                                Racine   \n121                      Maison Ruggieri   \n152                                Rouge   \n179               Maison Ronan Kervarrec   \n213                         La Chaumière   \n215                         La Chaumière   \n254                              Racines   \n258                              Racines   \n295                            Ô Saveurs   \n310                              L'Arôme   \n320                  Auberge de l'Abbaye   \n328                          L'Orangerie   \n330                          L'Orangerie   \n393                       Le Jules Verne   \n474                           L'Évidence   \n497  Sylvestre Wahid - Les Grandes Alpes   \n548                      Auberge du Pont   \n848             Auberge du XIIème Siècle   \n\n                                    address_23              location_23  \\\n49                 21 rue du Général-de-Gaulle      La Wantzenau, 67610   \n60         La Réserve Paris, 42 avenue Gabriel             Paris, 75008   \n83                      1 rue du Chapeau-Rouge              Lyon, 69009   \n121                           11 rue Treilhard             Paris, 75008   \n152                           2 rue de Foresta              Nice, 06000   \n179                   1 impasse du Vieux-Bourg    Saint-Grégoire, 35760   \n213                 96 avenue Emmanuel-Brousse        Font-Romeu, 66120   \n215                         2 rue Paul-Lasnier  Aubigny-sur-Nère, 18700   \n254                        8 passage des Bains            Annecy, 74000   \n258              46 boulevard de l'Impératrice           Étaples, 62630   \n295                         10 rue Jules-Ferry      Saint-Brieuc, 22000   \n310                       9 rue des Trois-Rois         Marseille, 13006   \n320                        5 route de l'Abbaye            Hambye, 50450   \n328  Four Seasons George V, 31 avenue George-V             Paris, 75008   \n330                       9 rue de la Prépoise            Pornic, 44210   \n393        Tour Eiffel - Avenue Gustave-Eiffel             Paris, 75007   \n474                             53 rue Jeannin             Dijon, 21000   \n497                         28 rue de l'Église        Courchevel, 73120   \n548                        1 route de Marcenat             Billy, 03260   \n848                           1 rue du Château             Saché, 37190   \n\n        arrondissement_23 department_num_23        department_23  \\\n49             Strasbourg                67             Bas-Rhin   \n60           8th (Élysée)                75                Paris   \n83                   Lyon                69                Rhône   \n121          8th (Élysée)                75                Paris   \n152                  Nice                06      Alpes-Maritimes   \n179                Rennes                35      Ille-et-Vilaine   \n213                Prades                66  Pyrénées-Orientales   \n215               Vierzon                18                 Cher   \n254                Annecy                74         Haute-Savoie   \n258             Montreuil                62        Pas-de-Calais   \n295          Saint-Brieuc                22        Côtes-d'Armor   \n310             Marseille                13     Bouches-du-Rhône   \n320             Coutances                50               Manche   \n328          8th (Élysée)                75                Paris   \n330         Saint-Nazaire                44     Loire-Atlantique   \n393  7th (Palais-Bourbon)                75                Paris   \n474                 Dijon                21            Côte-d'Or   \n497           Albertville                73               Savoie   \n548                 Vichy                03               Allier   \n848                 Tours                37       Indre-et-Loire   \n\n       capital_23                   region_23 price_23  \\\n49     Strasbourg                   Grand Est      €€€   \n60          Paris               Île-de-France     €€€€   \n83           Lyon        Auvergne-Rhône-Alpes        €   \n121         Paris               Île-de-France     €€€€   \n152          Nice  Provence-Alpes-Côte d'Azur        €   \n179        Rennes                    Brittany     €€€€   \n213     Perpignan                   Occitanie       €€   \n215       Bourges         Centre-Val de Loire       €€   \n254        Annecy        Auvergne-Rhône-Alpes       €€   \n258         Arras             Hauts-de-France       €€   \n295  Saint-Brieuc                    Brittany       €€   \n310     Marseille  Provence-Alpes-Côte d'Azur        €   \n320      Saint-Lô                    Normandy       €€   \n328         Paris               Île-de-France     €€€€   \n330        Nantes            Pays de la Loire       €€   \n393         Paris               Île-de-France     €€€€   \n474         Dijon     Bourgogne-Franche-Comté       €€   \n497      Chambéry        Auvergne-Rhône-Alpes     €€€€   \n548       Moulins        Auvergne-Rhône-Alpes       €€   \n848         Tours         Centre-Val de Loire       €€   \n\n                              cuisine_23  ...            capital_24  \\\n49                        Modern Cuisine  ...        Mont-de-Marsan   \n60                              Creative  ...                 Paris   \n83                        Modern Cuisine  ...  Châlons-en-Champagne   \n121             Modern Cuisine, Creative  ...                 Paris   \n152       Mediterranean Cuisine, Sharing  ...                 Nîmes   \n179                       Modern Cuisine  ...                Rennes   \n213                              Catalan  ...       Lons-le-Saunier   \n215                  Traditional Cuisine  ...       Lons-le-Saunier   \n254                       Modern Cuisine  ...                Rennes   \n258                       Modern Cuisine  ...                Rennes   \n295                       Modern Cuisine  ...              Toulouse   \n310                       Modern Cuisine  ...                 Paris   \n320                       Modern Cuisine  ...       Bourg-en-Bresse   \n328                       Modern Cuisine  ...                 Paris   \n330                       Modern Cuisine  ...                 Paris   \n393                       Modern Cuisine  ...                 Paris   \n474                       Modern Cuisine  ...                 Tours   \n497                             Creative  ...              Chambéry   \n548                       Modern Cuisine  ...      Clermont-Ferrand   \n848  Modern Cuisine, Traditional Cuisine  ...                 Tours   \n\n                   region_24  price_24                cuisine_24  \\\n49        Nouvelle-Aquitaine      €€€€           Classic Cuisine   \n60             Île-de-France      €€€€                  Creative   \n83                 Grand Est      €€€€                  Creative   \n121            Île-de-France      €€€€  Modern Cuisine, Creative   \n152                Occitanie      €€€€                  Creative   \n179                 Brittany      €€€€            Modern Cuisine   \n213  Bourgogne-Franche-Comté      €€€€                  Creative   \n215  Bourgogne-Franche-Comté      €€€€                  Creative   \n254                 Brittany       €€€            Modern Cuisine   \n258                 Brittany       €€€            Modern Cuisine   \n295                Occitanie       €€€            Modern Cuisine   \n310            Île-de-France      €€€€            Modern Cuisine   \n320     Auvergne-Rhône-Alpes       €€€            Modern Cuisine   \n328            Île-de-France      €€€€            Modern Cuisine   \n330            Île-de-France      €€€€            Modern Cuisine   \n393            Île-de-France      €€€€            Modern Cuisine   \n474      Centre-Val de Loire       €€€  Creative, Modern Cuisine   \n497     Auvergne-Rhône-Alpes      €€€€                  Creative   \n548     Auvergne-Rhône-Alpes       €€€            Modern Cuisine   \n848      Centre-Val de Loire       €€€            Modern Cuisine   \n\n                                                url_24 award_24 stars_24  \\\n49                         https://www.relaisposte.com  2 Stars      2.0   \n60                    https://www.lareserve-paris.com/  3 Stars      3.0   \n83                              https://www.racine.re/  2 Stars      2.0   \n121                       http://www.maisonruggieri.fr  2 Stars      2.0   \n152              http://www.margaret-hotelchouleur.com   1 Star      1.0   \n179                        http://www.le-saison.com/fr  2 Stars      2.0   \n213                https://www.lachaumiere-dole.fr/fr/   1 Star      1.0   \n215                https://www.lachaumiere-dole.fr/fr/   1 Star      1.0   \n254                 https://www.racines-restaurant.fr/   1 Star      1.0   \n258                 https://www.racines-restaurant.fr/   1 Star      1.0   \n295                         https://www.o-saveurs.com/   1 Star      1.0   \n310                        http://www.larome-paris.com   1 Star      1.0   \n320           http://www.aubergedelabbaye-ambronay.com   1 Star      1.0   \n328  https://www.fourseasons.com/fr/paris/dining/re...  2 Stars      2.0   \n330  https://www.fourseasons.com/fr/paris/dining/re...  2 Stars      2.0   \n393  https://www.restaurants-toureiffel.com/fr/rest...  2 Stars      2.0   \n474                http://www.restaurant-levidence.com   1 Star      1.0   \n497                    https://restaurantsylvestre.com  2 Stars      2.0   \n548                     http://www.auberge-du-pont.com   1 Star      1.0   \n848                  https://www.auberge12emesiecle.fr   1 Star      1.0   \n\n    longitude_24 latitude_24 _merge  \n49     -1.217965   43.778734   both  \n60      2.313208   48.869731   both  \n83      4.037580   49.252864   both  \n121     2.314134   48.877027   both  \n152     4.357880   43.837170   both  \n179    -1.680556   48.153301   both  \n213     5.495128   47.065097   both  \n215     5.495128   47.065097   both  \n254    -1.682965   48.106943   both  \n258    -1.682965   48.106943   both  \n295     1.524975   43.664000   both  \n310     2.308915   48.873272   both  \n320     5.360508   46.007005   both  \n328     2.300826   48.868785   both  \n330     2.300826   48.868785   both  \n393     2.294532   48.858232   both  \n474     0.713354   47.287311   both  \n497     6.634931   45.414421   both  \n548     3.258158   45.797370   both  \n848     0.543683   47.246407   both  \n\n[20 rows x 30 columns]",
      "text/html": "<div>\n<style scoped>\n    .dataframe tbody tr th:only-of-type {\n        vertical-align: middle;\n    }\n\n    .dataframe tbody tr th {\n        vertical-align: top;\n    }\n\n    .dataframe thead th {\n        text-align: right;\n    }\n</style>\n<table border=\"1\" class=\"dataframe\">\n  <thead>\n    <tr style=\"text-align: right;\">\n      <th></th>\n      <th>name</th>\n      <th>address_23</th>\n      <th>location_23</th>\n      <th>arrondissement_23</th>\n      <th>department_num_23</th>\n      <th>department_23</th>\n      <th>capital_23</th>\n      <th>region_23</th>\n      <th>price_23</th>\n      <th>cuisine_23</th>\n      <th>...</th>\n      <th>capital_24</th>\n      <th>region_24</th>\n      <th>price_24</th>\n      <th>cuisine_24</th>\n      <th>url_24</th>\n      <th>award_24</th>\n      <th>stars_24</th>\n      <th>longitude_24</th>\n      <th>latitude_24</th>\n      <th>_merge</th>\n    </tr>\n  </thead>\n  <tbody>\n    <tr>\n      <th>49</th>\n      <td>Relais de la Poste</td>\n      <td>21 rue du Général-de-Gaulle</td>\n      <td>La Wantzenau, 67610</td>\n      <td>Strasbourg</td>\n      <td>67</td>\n      <td>Bas-Rhin</td>\n      <td>Strasbourg</td>\n      <td>Grand Est</td>\n      <td>€€€</td>\n      <td>Modern Cuisine</td>\n      <td>...</td>\n      <td>Mont-de-Marsan</td>\n      <td>Nouvelle-Aquitaine</td>\n      <td>€€€€</td>\n      <td>Classic Cuisine</td>\n      <td>https://www.relaisposte.com</td>\n      <td>2 Stars</td>\n      <td>2.0</td>\n      <td>-1.217965</td>\n      <td>43.778734</td>\n      <td>both</td>\n    </tr>\n    <tr>\n      <th>60</th>\n      <td>Le Gabriel - La Réserve Paris</td>\n      <td>La Réserve Paris, 42 avenue Gabriel</td>\n      <td>Paris, 75008</td>\n      <td>8th (Élysée)</td>\n      <td>75</td>\n      <td>Paris</td>\n      <td>Paris</td>\n      <td>Île-de-France</td>\n      <td>€€€€</td>\n      <td>Creative</td>\n      <td>...</td>\n      <td>Paris</td>\n      <td>Île-de-France</td>\n      <td>€€€€</td>\n      <td>Creative</td>\n      <td>https://www.lareserve-paris.com/</td>\n      <td>3 Stars</td>\n      <td>3.0</td>\n      <td>2.313208</td>\n      <td>48.869731</td>\n      <td>both</td>\n    </tr>\n    <tr>\n      <th>83</th>\n      <td>Racine</td>\n      <td>1 rue du Chapeau-Rouge</td>\n      <td>Lyon, 69009</td>\n      <td>Lyon</td>\n      <td>69</td>\n      <td>Rhône</td>\n      <td>Lyon</td>\n      <td>Auvergne-Rhône-Alpes</td>\n      <td>€</td>\n      <td>Modern Cuisine</td>\n      <td>...</td>\n      <td>Châlons-en-Champagne</td>\n      <td>Grand Est</td>\n      <td>€€€€</td>\n      <td>Creative</td>\n      <td>https://www.racine.re/</td>\n      <td>2 Stars</td>\n      <td>2.0</td>\n      <td>4.037580</td>\n      <td>49.252864</td>\n      <td>both</td>\n    </tr>\n    <tr>\n      <th>121</th>\n      <td>Maison Ruggieri</td>\n      <td>11 rue Treilhard</td>\n      <td>Paris, 75008</td>\n      <td>8th (Élysée)</td>\n      <td>75</td>\n      <td>Paris</td>\n      <td>Paris</td>\n      <td>Île-de-France</td>\n      <td>€€€€</td>\n      <td>Modern Cuisine, Creative</td>\n      <td>...</td>\n      <td>Paris</td>\n      <td>Île-de-France</td>\n      <td>€€€€</td>\n      <td>Modern Cuisine, Creative</td>\n      <td>http://www.maisonruggieri.fr</td>\n      <td>2 Stars</td>\n      <td>2.0</td>\n      <td>2.314134</td>\n      <td>48.877027</td>\n      <td>both</td>\n    </tr>\n    <tr>\n      <th>152</th>\n      <td>Rouge</td>\n      <td>2 rue de Foresta</td>\n      <td>Nice, 06000</td>\n      <td>Nice</td>\n      <td>06</td>\n      <td>Alpes-Maritimes</td>\n      <td>Nice</td>\n      <td>Provence-Alpes-Côte d'Azur</td>\n      <td>€</td>\n      <td>Mediterranean Cuisine, Sharing</td>\n      <td>...</td>\n      <td>Nîmes</td>\n      <td>Occitanie</td>\n      <td>€€€€</td>\n      <td>Creative</td>\n      <td>http://www.margaret-hotelchouleur.com</td>\n      <td>1 Star</td>\n      <td>1.0</td>\n      <td>4.357880</td>\n      <td>43.837170</td>\n      <td>both</td>\n    </tr>\n    <tr>\n      <th>179</th>\n      <td>Maison Ronan Kervarrec</td>\n      <td>1 impasse du Vieux-Bourg</td>\n      <td>Saint-Grégoire, 35760</td>\n      <td>Rennes</td>\n      <td>35</td>\n      <td>Ille-et-Vilaine</td>\n      <td>Rennes</td>\n      <td>Brittany</td>\n      <td>€€€€</td>\n      <td>Modern Cuisine</td>\n      <td>...</td>\n      <td>Rennes</td>\n      <td>Brittany</td>\n      <td>€€€€</td>\n      <td>Modern Cuisine</td>\n      <td>http://www.le-saison.com/fr</td>\n      <td>2 Stars</td>\n      <td>2.0</td>\n      <td>-1.680556</td>\n      <td>48.153301</td>\n      <td>both</td>\n    </tr>\n    <tr>\n      <th>213</th>\n      <td>La Chaumière</td>\n      <td>96 avenue Emmanuel-Brousse</td>\n      <td>Font-Romeu, 66120</td>\n      <td>Prades</td>\n      <td>66</td>\n      <td>Pyrénées-Orientales</td>\n      <td>Perpignan</td>\n      <td>Occitanie</td>\n      <td>€€</td>\n      <td>Catalan</td>\n      <td>...</td>\n      <td>Lons-le-Saunier</td>\n      <td>Bourgogne-Franche-Comté</td>\n      <td>€€€€</td>\n      <td>Creative</td>\n      <td>https://www.lachaumiere-dole.fr/fr/</td>\n      <td>1 Star</td>\n      <td>1.0</td>\n      <td>5.495128</td>\n      <td>47.065097</td>\n      <td>both</td>\n    </tr>\n    <tr>\n      <th>215</th>\n      <td>La Chaumière</td>\n      <td>2 rue Paul-Lasnier</td>\n      <td>Aubigny-sur-Nère, 18700</td>\n      <td>Vierzon</td>\n      <td>18</td>\n      <td>Cher</td>\n      <td>Bourges</td>\n      <td>Centre-Val de Loire</td>\n      <td>€€</td>\n      <td>Traditional Cuisine</td>\n      <td>...</td>\n      <td>Lons-le-Saunier</td>\n      <td>Bourgogne-Franche-Comté</td>\n      <td>€€€€</td>\n      <td>Creative</td>\n      <td>https://www.lachaumiere-dole.fr/fr/</td>\n      <td>1 Star</td>\n      <td>1.0</td>\n      <td>5.495128</td>\n      <td>47.065097</td>\n      <td>both</td>\n    </tr>\n    <tr>\n      <th>254</th>\n      <td>Racines</td>\n      <td>8 passage des Bains</td>\n      <td>Annecy, 74000</td>\n      <td>Annecy</td>\n      <td>74</td>\n      <td>Haute-Savoie</td>\n      <td>Annecy</td>\n      <td>Auvergne-Rhône-Alpes</td>\n      <td>€€</td>\n      <td>Modern Cuisine</td>\n      <td>...</td>\n      <td>Rennes</td>\n      <td>Brittany</td>\n      <td>€€€</td>\n      <td>Modern Cuisine</td>\n      <td>https://www.racines-restaurant.fr/</td>\n      <td>1 Star</td>\n      <td>1.0</td>\n      <td>-1.682965</td>\n      <td>48.106943</td>\n      <td>both</td>\n    </tr>\n    <tr>\n      <th>258</th>\n      <td>Racines</td>\n      <td>46 boulevard de l'Impératrice</td>\n      <td>Étaples, 62630</td>\n      <td>Montreuil</td>\n      <td>62</td>\n      <td>Pas-de-Calais</td>\n      <td>Arras</td>\n      <td>Hauts-de-France</td>\n      <td>€€</td>\n      <td>Modern Cuisine</td>\n      <td>...</td>\n      <td>Rennes</td>\n      <td>Brittany</td>\n      <td>€€€</td>\n      <td>Modern Cuisine</td>\n      <td>https://www.racines-restaurant.fr/</td>\n      <td>1 Star</td>\n      <td>1.0</td>\n      <td>-1.682965</td>\n      <td>48.106943</td>\n      <td>both</td>\n    </tr>\n    <tr>\n      <th>295</th>\n      <td>Ô Saveurs</td>\n      <td>10 rue Jules-Ferry</td>\n      <td>Saint-Brieuc, 22000</td>\n      <td>Saint-Brieuc</td>\n      <td>22</td>\n      <td>Côtes-d'Armor</td>\n      <td>Saint-Brieuc</td>\n      <td>Brittany</td>\n      <td>€€</td>\n      <td>Modern Cuisine</td>\n      <td>...</td>\n      <td>Toulouse</td>\n      <td>Occitanie</td>\n      <td>€€€</td>\n      <td>Modern Cuisine</td>\n      <td>https://www.o-saveurs.com/</td>\n      <td>1 Star</td>\n      <td>1.0</td>\n      <td>1.524975</td>\n      <td>43.664000</td>\n      <td>both</td>\n    </tr>\n    <tr>\n      <th>310</th>\n      <td>L'Arôme</td>\n      <td>9 rue des Trois-Rois</td>\n      <td>Marseille, 13006</td>\n      <td>Marseille</td>\n      <td>13</td>\n      <td>Bouches-du-Rhône</td>\n      <td>Marseille</td>\n      <td>Provence-Alpes-Côte d'Azur</td>\n      <td>€</td>\n      <td>Modern Cuisine</td>\n      <td>...</td>\n      <td>Paris</td>\n      <td>Île-de-France</td>\n      <td>€€€€</td>\n      <td>Modern Cuisine</td>\n      <td>http://www.larome-paris.com</td>\n      <td>1 Star</td>\n      <td>1.0</td>\n      <td>2.308915</td>\n      <td>48.873272</td>\n      <td>both</td>\n    </tr>\n    <tr>\n      <th>320</th>\n      <td>Auberge de l'Abbaye</td>\n      <td>5 route de l'Abbaye</td>\n      <td>Hambye, 50450</td>\n      <td>Coutances</td>\n      <td>50</td>\n      <td>Manche</td>\n      <td>Saint-Lô</td>\n      <td>Normandy</td>\n      <td>€€</td>\n      <td>Modern Cuisine</td>\n      <td>...</td>\n      <td>Bourg-en-Bresse</td>\n      <td>Auvergne-Rhône-Alpes</td>\n      <td>€€€</td>\n      <td>Modern Cuisine</td>\n      <td>http://www.aubergedelabbaye-ambronay.com</td>\n      <td>1 Star</td>\n      <td>1.0</td>\n      <td>5.360508</td>\n      <td>46.007005</td>\n      <td>both</td>\n    </tr>\n    <tr>\n      <th>328</th>\n      <td>L'Orangerie</td>\n      <td>Four Seasons George V, 31 avenue George-V</td>\n      <td>Paris, 75008</td>\n      <td>8th (Élysée)</td>\n      <td>75</td>\n      <td>Paris</td>\n      <td>Paris</td>\n      <td>Île-de-France</td>\n      <td>€€€€</td>\n      <td>Modern Cuisine</td>\n      <td>...</td>\n      <td>Paris</td>\n      <td>Île-de-France</td>\n      <td>€€€€</td>\n      <td>Modern Cuisine</td>\n      <td>https://www.fourseasons.com/fr/paris/dining/re...</td>\n      <td>2 Stars</td>\n      <td>2.0</td>\n      <td>2.300826</td>\n      <td>48.868785</td>\n      <td>both</td>\n    </tr>\n    <tr>\n      <th>330</th>\n      <td>L'Orangerie</td>\n      <td>9 rue de la Prépoise</td>\n      <td>Pornic, 44210</td>\n      <td>Saint-Nazaire</td>\n      <td>44</td>\n      <td>Loire-Atlantique</td>\n      <td>Nantes</td>\n      <td>Pays de la Loire</td>\n      <td>€€</td>\n      <td>Modern Cuisine</td>\n      <td>...</td>\n      <td>Paris</td>\n      <td>Île-de-France</td>\n      <td>€€€€</td>\n      <td>Modern Cuisine</td>\n      <td>https://www.fourseasons.com/fr/paris/dining/re...</td>\n      <td>2 Stars</td>\n      <td>2.0</td>\n      <td>2.300826</td>\n      <td>48.868785</td>\n      <td>both</td>\n    </tr>\n    <tr>\n      <th>393</th>\n      <td>Le Jules Verne</td>\n      <td>Tour Eiffel - Avenue Gustave-Eiffel</td>\n      <td>Paris, 75007</td>\n      <td>7th (Palais-Bourbon)</td>\n      <td>75</td>\n      <td>Paris</td>\n      <td>Paris</td>\n      <td>Île-de-France</td>\n      <td>€€€€</td>\n      <td>Modern Cuisine</td>\n      <td>...</td>\n      <td>Paris</td>\n      <td>Île-de-France</td>\n      <td>€€€€</td>\n      <td>Modern Cuisine</td>\n      <td>https://www.restaurants-toureiffel.com/fr/rest...</td>\n      <td>2 Stars</td>\n      <td>2.0</td>\n      <td>2.294532</td>\n      <td>48.858232</td>\n      <td>both</td>\n    </tr>\n    <tr>\n      <th>474</th>\n      <td>L'Évidence</td>\n      <td>53 rue Jeannin</td>\n      <td>Dijon, 21000</td>\n      <td>Dijon</td>\n      <td>21</td>\n      <td>Côte-d'Or</td>\n      <td>Dijon</td>\n      <td>Bourgogne-Franche-Comté</td>\n      <td>€€</td>\n      <td>Modern Cuisine</td>\n      <td>...</td>\n      <td>Tours</td>\n      <td>Centre-Val de Loire</td>\n      <td>€€€</td>\n      <td>Creative, Modern Cuisine</td>\n      <td>http://www.restaurant-levidence.com</td>\n      <td>1 Star</td>\n      <td>1.0</td>\n      <td>0.713354</td>\n      <td>47.287311</td>\n      <td>both</td>\n    </tr>\n    <tr>\n      <th>497</th>\n      <td>Sylvestre Wahid - Les Grandes Alpes</td>\n      <td>28 rue de l'Église</td>\n      <td>Courchevel, 73120</td>\n      <td>Albertville</td>\n      <td>73</td>\n      <td>Savoie</td>\n      <td>Chambéry</td>\n      <td>Auvergne-Rhône-Alpes</td>\n      <td>€€€€</td>\n      <td>Creative</td>\n      <td>...</td>\n      <td>Chambéry</td>\n      <td>Auvergne-Rhône-Alpes</td>\n      <td>€€€€</td>\n      <td>Creative</td>\n      <td>https://restaurantsylvestre.com</td>\n      <td>2 Stars</td>\n      <td>2.0</td>\n      <td>6.634931</td>\n      <td>45.414421</td>\n      <td>both</td>\n    </tr>\n    <tr>\n      <th>548</th>\n      <td>Auberge du Pont</td>\n      <td>1 route de Marcenat</td>\n      <td>Billy, 03260</td>\n      <td>Vichy</td>\n      <td>03</td>\n      <td>Allier</td>\n      <td>Moulins</td>\n      <td>Auvergne-Rhône-Alpes</td>\n      <td>€€</td>\n      <td>Modern Cuisine</td>\n      <td>...</td>\n      <td>Clermont-Ferrand</td>\n      <td>Auvergne-Rhône-Alpes</td>\n      <td>€€€</td>\n      <td>Modern Cuisine</td>\n      <td>http://www.auberge-du-pont.com</td>\n      <td>1 Star</td>\n      <td>1.0</td>\n      <td>3.258158</td>\n      <td>45.797370</td>\n      <td>both</td>\n    </tr>\n    <tr>\n      <th>848</th>\n      <td>Auberge du XIIème Siècle</td>\n      <td>1 rue du Château</td>\n      <td>Saché, 37190</td>\n      <td>Tours</td>\n      <td>37</td>\n      <td>Indre-et-Loire</td>\n      <td>Tours</td>\n      <td>Centre-Val de Loire</td>\n      <td>€€</td>\n      <td>Modern Cuisine, Traditional Cuisine</td>\n      <td>...</td>\n      <td>Tours</td>\n      <td>Centre-Val de Loire</td>\n      <td>€€€</td>\n      <td>Modern Cuisine</td>\n      <td>https://www.auberge12emesiecle.fr</td>\n      <td>1 Star</td>\n      <td>1.0</td>\n      <td>0.543683</td>\n      <td>47.246407</td>\n      <td>both</td>\n    </tr>\n  </tbody>\n</table>\n<p>20 rows × 30 columns</p>\n</div>"
     },
     "execution_count": 37,
     "metadata": {},
     "output_type": "execute_result"
    }
   ],
   "source": [
    "gained_stars"
   ],
   "metadata": {
    "collapsed": false,
    "ExecuteTime": {
     "end_time": "2024-04-24T13:04:24.647963Z",
     "start_time": "2024-04-24T13:04:24.631448Z"
    }
   },
   "id": "ad73e3363150c00c"
  },
  {
   "cell_type": "code",
   "execution_count": 38,
   "outputs": [
    {
     "data": {
      "text/plain": "                        name                                 address_23  \\\n1    René et Maxime Meilleur                    Hameau de  Saint-Marcel   \n31             Au 14 Février                           Le Plâtre-Durand   \n32             Au 14 Février                           Le Plâtre-Durand   \n73   Auberge du Cheval Blanc                       4 rue de Wissembourg   \n82                    Racine                            6 place Godinot   \n212             La Chaumière                346 avenue du Maréchal-Juin   \n251                  Racines               4 passage Antoinette Caillot   \n252                  Racines               4 passage Antoinette Caillot   \n253                  Racines               4 passage Antoinette Caillot   \n319      Auberge de l'Abbaye           47 place des Anciens-Combattants   \n329              L'Orangerie  Four Seasons George V, 31 avenue George-V   \n473               L'Évidence                    1 place des Marronniers   \n547          Auberge du Pont              70 avenue du Docteur-Besserve   \n\n                           location_23     arrondissement_23  \\\n1    Saint-Martin-de-Belleville, 73440           Albertville   \n31         Saint-Amour-Bellevue, 71570                 Mâcon   \n32         Saint-Amour-Bellevue, 71570                 Mâcon   \n73                      Lembach, 67510  Haguenau-Wissembourg   \n82                        Reims, 51100                 Reims   \n212                        Dole, 39100                  Dole   \n251                      Rennes, 35000                Rennes   \n252                      Rennes, 35000                Rennes   \n253                      Rennes, 35000                Rennes   \n319                    Ambronay, 01500                Belley   \n329                       Paris, 75008          8th (Élysée)   \n473                   Montbazon, 37250                 Tours   \n547             Pont-du-Château, 63430      Clermont-Ferrand   \n\n    department_num_23    department_23            capital_23  \\\n1                  73           Savoie              Chambéry   \n31                 71   Saône-et-Loire                 Mâcon   \n32                 71   Saône-et-Loire                 Mâcon   \n73                 67         Bas-Rhin            Strasbourg   \n82                 51            Marne  Châlons-en-Champagne   \n212                39             Jura       Lons-le-Saunier   \n251                35  Ille-et-Vilaine                Rennes   \n252                35  Ille-et-Vilaine                Rennes   \n253                35  Ille-et-Vilaine                Rennes   \n319                01              Ain       Bourg-en-Bresse   \n329                75            Paris                 Paris   \n473                37   Indre-et-Loire                 Tours   \n547                63      Puy-de-Dôme      Clermont-Ferrand   \n\n                   region_23 price_23                  cuisine_23  ...  \\\n1       Auvergne-Rhône-Alpes     €€€€  Creative, Regional Cuisine  ...   \n31   Bourgogne-Franche-Comté     €€€€                    Creative  ...   \n32   Bourgogne-Franche-Comté     €€€€                    Creative  ...   \n73                 Grand Est     €€€€                    Creative  ...   \n82                 Grand Est     €€€€                    Creative  ...   \n212  Bourgogne-Franche-Comté     €€€€                    Creative  ...   \n251                 Brittany      €€€              Modern Cuisine  ...   \n252                 Brittany      €€€              Modern Cuisine  ...   \n253                 Brittany      €€€              Modern Cuisine  ...   \n319     Auvergne-Rhône-Alpes      €€€              Modern Cuisine  ...   \n329            Île-de-France     €€€€              Modern Cuisine  ...   \n473      Centre-Val de Loire      €€€    Creative, Modern Cuisine  ...   \n547     Auvergne-Rhône-Alpes      €€€              Modern Cuisine  ...   \n\n          capital_24                region_24  price_24  \\\n1           Chambéry     Auvergne-Rhône-Alpes      €€€€   \n31       Châteauroux      Centre-Val de Loire      €€€€   \n32              Lyon     Auvergne-Rhône-Alpes      €€€€   \n73        Strasbourg                Grand Est      €€€€   \n82              Lyon     Auvergne-Rhône-Alpes         €   \n212        Perpignan                Occitanie        €€   \n251  Bourg-en-Bresse     Auvergne-Rhône-Alpes        €€   \n252            Arras          Hauts-de-France        €€   \n253           Annecy     Auvergne-Rhône-Alpes        €€   \n319         Saint-Lô                 Normandy        €€   \n329           Nantes         Pays de la Loire        €€   \n473            Dijon  Bourgogne-Franche-Comté        €€   \n547          Moulins     Auvergne-Rhône-Alpes        €€   \n\n                     cuisine_24                                   url_24  \\\n1    Creative, Regional Cuisine           https://www.la-bouitte.com/fr/   \n31               Modern Cuisine          https://www.sv-au14fevrier.com/   \n32                     Creative          https://www.ly-au14fevrier.com/   \n73               Modern Cuisine  https://www.cheval-blanc-lembach.fr/fr/   \n82               Modern Cuisine   https://www.racinerestaurant-lyon.com/   \n212                     Catalan    https://www.restaurantlachaumiere.fr/   \n251              Modern Cuisine         https://domainedulac-racines.fr/   \n252              Modern Cuisine           https://restaurant-racines.fr/   \n253              Modern Cuisine                https://racines-annecy.fr   \n319              Modern Cuisine  https://www.aubergedelabbayehambye.com/   \n329              Modern Cuisine      http://www.restaurant-orangerie.com   \n473              Modern Cuisine   https://restaurant-levidence-dijon.com   \n547              Modern Cuisine    https://www.auberge-du-pont-billy.fr/   \n\n         award_24 stars_24 longitude_24 latitude_24 _merge  \n1         2 Stars      2.0     6.513306   45.369046   both  \n31         1 Star      1.0     1.865023   46.951707   both  \n32         1 Star      1.0     4.826382   45.762221   both  \n73         1 Star      1.0     7.790658   49.003325   both  \n82   Bib Gourmand      0.5     4.807470   45.774020   both  \n212  Bib Gourmand      0.5     2.043353   42.505297   both  \n251  Bib Gourmand      0.5     5.181661   46.197984   both  \n252  Bib Gourmand      0.5     1.635408   50.514614   both  \n253  Bib Gourmand      0.5     6.123207   45.899492   both  \n319  Bib Gourmand      0.5    -1.267777   48.924306   both  \n329  Bib Gourmand      0.5    -2.100757   47.115306   both  \n473  Bib Gourmand      0.5     5.046890   47.321742   both  \n547  Bib Gourmand      0.5     3.425881   46.235656   both  \n\n[13 rows x 30 columns]",
      "text/html": "<div>\n<style scoped>\n    .dataframe tbody tr th:only-of-type {\n        vertical-align: middle;\n    }\n\n    .dataframe tbody tr th {\n        vertical-align: top;\n    }\n\n    .dataframe thead th {\n        text-align: right;\n    }\n</style>\n<table border=\"1\" class=\"dataframe\">\n  <thead>\n    <tr style=\"text-align: right;\">\n      <th></th>\n      <th>name</th>\n      <th>address_23</th>\n      <th>location_23</th>\n      <th>arrondissement_23</th>\n      <th>department_num_23</th>\n      <th>department_23</th>\n      <th>capital_23</th>\n      <th>region_23</th>\n      <th>price_23</th>\n      <th>cuisine_23</th>\n      <th>...</th>\n      <th>capital_24</th>\n      <th>region_24</th>\n      <th>price_24</th>\n      <th>cuisine_24</th>\n      <th>url_24</th>\n      <th>award_24</th>\n      <th>stars_24</th>\n      <th>longitude_24</th>\n      <th>latitude_24</th>\n      <th>_merge</th>\n    </tr>\n  </thead>\n  <tbody>\n    <tr>\n      <th>1</th>\n      <td>René et Maxime Meilleur</td>\n      <td>Hameau de  Saint-Marcel</td>\n      <td>Saint-Martin-de-Belleville, 73440</td>\n      <td>Albertville</td>\n      <td>73</td>\n      <td>Savoie</td>\n      <td>Chambéry</td>\n      <td>Auvergne-Rhône-Alpes</td>\n      <td>€€€€</td>\n      <td>Creative, Regional Cuisine</td>\n      <td>...</td>\n      <td>Chambéry</td>\n      <td>Auvergne-Rhône-Alpes</td>\n      <td>€€€€</td>\n      <td>Creative, Regional Cuisine</td>\n      <td>https://www.la-bouitte.com/fr/</td>\n      <td>2 Stars</td>\n      <td>2.0</td>\n      <td>6.513306</td>\n      <td>45.369046</td>\n      <td>both</td>\n    </tr>\n    <tr>\n      <th>31</th>\n      <td>Au 14 Février</td>\n      <td>Le Plâtre-Durand</td>\n      <td>Saint-Amour-Bellevue, 71570</td>\n      <td>Mâcon</td>\n      <td>71</td>\n      <td>Saône-et-Loire</td>\n      <td>Mâcon</td>\n      <td>Bourgogne-Franche-Comté</td>\n      <td>€€€€</td>\n      <td>Creative</td>\n      <td>...</td>\n      <td>Châteauroux</td>\n      <td>Centre-Val de Loire</td>\n      <td>€€€€</td>\n      <td>Modern Cuisine</td>\n      <td>https://www.sv-au14fevrier.com/</td>\n      <td>1 Star</td>\n      <td>1.0</td>\n      <td>1.865023</td>\n      <td>46.951707</td>\n      <td>both</td>\n    </tr>\n    <tr>\n      <th>32</th>\n      <td>Au 14 Février</td>\n      <td>Le Plâtre-Durand</td>\n      <td>Saint-Amour-Bellevue, 71570</td>\n      <td>Mâcon</td>\n      <td>71</td>\n      <td>Saône-et-Loire</td>\n      <td>Mâcon</td>\n      <td>Bourgogne-Franche-Comté</td>\n      <td>€€€€</td>\n      <td>Creative</td>\n      <td>...</td>\n      <td>Lyon</td>\n      <td>Auvergne-Rhône-Alpes</td>\n      <td>€€€€</td>\n      <td>Creative</td>\n      <td>https://www.ly-au14fevrier.com/</td>\n      <td>1 Star</td>\n      <td>1.0</td>\n      <td>4.826382</td>\n      <td>45.762221</td>\n      <td>both</td>\n    </tr>\n    <tr>\n      <th>73</th>\n      <td>Auberge du Cheval Blanc</td>\n      <td>4 rue de Wissembourg</td>\n      <td>Lembach, 67510</td>\n      <td>Haguenau-Wissembourg</td>\n      <td>67</td>\n      <td>Bas-Rhin</td>\n      <td>Strasbourg</td>\n      <td>Grand Est</td>\n      <td>€€€€</td>\n      <td>Creative</td>\n      <td>...</td>\n      <td>Strasbourg</td>\n      <td>Grand Est</td>\n      <td>€€€€</td>\n      <td>Modern Cuisine</td>\n      <td>https://www.cheval-blanc-lembach.fr/fr/</td>\n      <td>1 Star</td>\n      <td>1.0</td>\n      <td>7.790658</td>\n      <td>49.003325</td>\n      <td>both</td>\n    </tr>\n    <tr>\n      <th>82</th>\n      <td>Racine</td>\n      <td>6 place Godinot</td>\n      <td>Reims, 51100</td>\n      <td>Reims</td>\n      <td>51</td>\n      <td>Marne</td>\n      <td>Châlons-en-Champagne</td>\n      <td>Grand Est</td>\n      <td>€€€€</td>\n      <td>Creative</td>\n      <td>...</td>\n      <td>Lyon</td>\n      <td>Auvergne-Rhône-Alpes</td>\n      <td>€</td>\n      <td>Modern Cuisine</td>\n      <td>https://www.racinerestaurant-lyon.com/</td>\n      <td>Bib Gourmand</td>\n      <td>0.5</td>\n      <td>4.807470</td>\n      <td>45.774020</td>\n      <td>both</td>\n    </tr>\n    <tr>\n      <th>212</th>\n      <td>La Chaumière</td>\n      <td>346 avenue du Maréchal-Juin</td>\n      <td>Dole, 39100</td>\n      <td>Dole</td>\n      <td>39</td>\n      <td>Jura</td>\n      <td>Lons-le-Saunier</td>\n      <td>Bourgogne-Franche-Comté</td>\n      <td>€€€€</td>\n      <td>Creative</td>\n      <td>...</td>\n      <td>Perpignan</td>\n      <td>Occitanie</td>\n      <td>€€</td>\n      <td>Catalan</td>\n      <td>https://www.restaurantlachaumiere.fr/</td>\n      <td>Bib Gourmand</td>\n      <td>0.5</td>\n      <td>2.043353</td>\n      <td>42.505297</td>\n      <td>both</td>\n    </tr>\n    <tr>\n      <th>251</th>\n      <td>Racines</td>\n      <td>4 passage Antoinette Caillot</td>\n      <td>Rennes, 35000</td>\n      <td>Rennes</td>\n      <td>35</td>\n      <td>Ille-et-Vilaine</td>\n      <td>Rennes</td>\n      <td>Brittany</td>\n      <td>€€€</td>\n      <td>Modern Cuisine</td>\n      <td>...</td>\n      <td>Bourg-en-Bresse</td>\n      <td>Auvergne-Rhône-Alpes</td>\n      <td>€€</td>\n      <td>Modern Cuisine</td>\n      <td>https://domainedulac-racines.fr/</td>\n      <td>Bib Gourmand</td>\n      <td>0.5</td>\n      <td>5.181661</td>\n      <td>46.197984</td>\n      <td>both</td>\n    </tr>\n    <tr>\n      <th>252</th>\n      <td>Racines</td>\n      <td>4 passage Antoinette Caillot</td>\n      <td>Rennes, 35000</td>\n      <td>Rennes</td>\n      <td>35</td>\n      <td>Ille-et-Vilaine</td>\n      <td>Rennes</td>\n      <td>Brittany</td>\n      <td>€€€</td>\n      <td>Modern Cuisine</td>\n      <td>...</td>\n      <td>Arras</td>\n      <td>Hauts-de-France</td>\n      <td>€€</td>\n      <td>Modern Cuisine</td>\n      <td>https://restaurant-racines.fr/</td>\n      <td>Bib Gourmand</td>\n      <td>0.5</td>\n      <td>1.635408</td>\n      <td>50.514614</td>\n      <td>both</td>\n    </tr>\n    <tr>\n      <th>253</th>\n      <td>Racines</td>\n      <td>4 passage Antoinette Caillot</td>\n      <td>Rennes, 35000</td>\n      <td>Rennes</td>\n      <td>35</td>\n      <td>Ille-et-Vilaine</td>\n      <td>Rennes</td>\n      <td>Brittany</td>\n      <td>€€€</td>\n      <td>Modern Cuisine</td>\n      <td>...</td>\n      <td>Annecy</td>\n      <td>Auvergne-Rhône-Alpes</td>\n      <td>€€</td>\n      <td>Modern Cuisine</td>\n      <td>https://racines-annecy.fr</td>\n      <td>Bib Gourmand</td>\n      <td>0.5</td>\n      <td>6.123207</td>\n      <td>45.899492</td>\n      <td>both</td>\n    </tr>\n    <tr>\n      <th>319</th>\n      <td>Auberge de l'Abbaye</td>\n      <td>47 place des Anciens-Combattants</td>\n      <td>Ambronay, 01500</td>\n      <td>Belley</td>\n      <td>01</td>\n      <td>Ain</td>\n      <td>Bourg-en-Bresse</td>\n      <td>Auvergne-Rhône-Alpes</td>\n      <td>€€€</td>\n      <td>Modern Cuisine</td>\n      <td>...</td>\n      <td>Saint-Lô</td>\n      <td>Normandy</td>\n      <td>€€</td>\n      <td>Modern Cuisine</td>\n      <td>https://www.aubergedelabbayehambye.com/</td>\n      <td>Bib Gourmand</td>\n      <td>0.5</td>\n      <td>-1.267777</td>\n      <td>48.924306</td>\n      <td>both</td>\n    </tr>\n    <tr>\n      <th>329</th>\n      <td>L'Orangerie</td>\n      <td>Four Seasons George V, 31 avenue George-V</td>\n      <td>Paris, 75008</td>\n      <td>8th (Élysée)</td>\n      <td>75</td>\n      <td>Paris</td>\n      <td>Paris</td>\n      <td>Île-de-France</td>\n      <td>€€€€</td>\n      <td>Modern Cuisine</td>\n      <td>...</td>\n      <td>Nantes</td>\n      <td>Pays de la Loire</td>\n      <td>€€</td>\n      <td>Modern Cuisine</td>\n      <td>http://www.restaurant-orangerie.com</td>\n      <td>Bib Gourmand</td>\n      <td>0.5</td>\n      <td>-2.100757</td>\n      <td>47.115306</td>\n      <td>both</td>\n    </tr>\n    <tr>\n      <th>473</th>\n      <td>L'Évidence</td>\n      <td>1 place des Marronniers</td>\n      <td>Montbazon, 37250</td>\n      <td>Tours</td>\n      <td>37</td>\n      <td>Indre-et-Loire</td>\n      <td>Tours</td>\n      <td>Centre-Val de Loire</td>\n      <td>€€€</td>\n      <td>Creative, Modern Cuisine</td>\n      <td>...</td>\n      <td>Dijon</td>\n      <td>Bourgogne-Franche-Comté</td>\n      <td>€€</td>\n      <td>Modern Cuisine</td>\n      <td>https://restaurant-levidence-dijon.com</td>\n      <td>Bib Gourmand</td>\n      <td>0.5</td>\n      <td>5.046890</td>\n      <td>47.321742</td>\n      <td>both</td>\n    </tr>\n    <tr>\n      <th>547</th>\n      <td>Auberge du Pont</td>\n      <td>70 avenue du Docteur-Besserve</td>\n      <td>Pont-du-Château, 63430</td>\n      <td>Clermont-Ferrand</td>\n      <td>63</td>\n      <td>Puy-de-Dôme</td>\n      <td>Clermont-Ferrand</td>\n      <td>Auvergne-Rhône-Alpes</td>\n      <td>€€€</td>\n      <td>Modern Cuisine</td>\n      <td>...</td>\n      <td>Moulins</td>\n      <td>Auvergne-Rhône-Alpes</td>\n      <td>€€</td>\n      <td>Modern Cuisine</td>\n      <td>https://www.auberge-du-pont-billy.fr/</td>\n      <td>Bib Gourmand</td>\n      <td>0.5</td>\n      <td>3.425881</td>\n      <td>46.235656</td>\n      <td>both</td>\n    </tr>\n  </tbody>\n</table>\n<p>13 rows × 30 columns</p>\n</div>"
     },
     "execution_count": 38,
     "metadata": {},
     "output_type": "execute_result"
    }
   ],
   "source": [
    "lost_stars"
   ],
   "metadata": {
    "collapsed": false,
    "ExecuteTime": {
     "end_time": "2024-04-24T13:05:23.662588Z",
     "start_time": "2024-04-24T13:05:23.644613Z"
    }
   },
   "id": "167841c357ab53b2"
  },
  {
   "cell_type": "code",
   "execution_count": null,
   "outputs": [],
   "source": [],
   "metadata": {
    "collapsed": false
   },
   "id": "f879ccb3396bb758"
  }
 ],
 "metadata": {
  "kernelspec": {
   "display_name": "Python 3",
   "language": "python",
   "name": "python3"
  },
  "language_info": {
   "codemirror_mode": {
    "name": "ipython",
    "version": 2
   },
   "file_extension": ".py",
   "mimetype": "text/x-python",
   "name": "python",
   "nbconvert_exporter": "python",
   "pygments_lexer": "ipython2",
   "version": "2.7.6"
  }
 },
 "nbformat": 4,
 "nbformat_minor": 5
}
