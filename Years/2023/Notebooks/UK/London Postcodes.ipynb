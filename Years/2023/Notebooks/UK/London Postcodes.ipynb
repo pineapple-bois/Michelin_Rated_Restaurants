{
 "cells": [
  {
   "cell_type": "markdown",
   "source": [
    "# Create a London postcode to borough/district mapping\n",
    "\n",
    "## Data from [Doogal](https://www.doogal.co.uk/PostcodeDownloads#google_vignette)"
   ],
   "metadata": {
    "collapsed": false
   }
  },
  {
   "cell_type": "code",
   "execution_count": 1,
   "metadata": {
    "collapsed": true,
    "ExecuteTime": {
     "end_time": "2023-08-05T09:54:49.959670Z",
     "start_time": "2023-08-05T09:54:48.970010Z"
    }
   },
   "outputs": [],
   "source": [
    "import pandas as pd"
   ]
  },
  {
   "cell_type": "code",
   "execution_count": 2,
   "outputs": [
    {
     "data": {
      "text/plain": "  District Postcode          Ward District Code  London zone\n0  Bromley  BR1 1AA  Bromley Town     E09000006            5\n1  Bromley  BR1 1AB  Bromley Town     E09000006            4\n2  Bromley  BR1 1AD  Bromley Town     E09000006            5\n3  Bromley  BR1 1AE  Bromley Town     E09000006            4\n4  Bromley  BR1 1AF  Bromley Town     E09000006            5\n5  Bromley  BR1 1AG  Bromley Town     E09000006            5\n6  Bromley  BR1 1AH  Bromley Town     E09000006            5\n7  Bromley  BR1 1AJ  Bromley Town     E09000006            5\n8  Bromley  BR1 1AL  Bromley Town     E09000006            4\n9  Bromley  BR1 1AN  Bromley Town     E09000006            4",
      "text/html": "<div>\n<style scoped>\n    .dataframe tbody tr th:only-of-type {\n        vertical-align: middle;\n    }\n\n    .dataframe tbody tr th {\n        vertical-align: top;\n    }\n\n    .dataframe thead th {\n        text-align: right;\n    }\n</style>\n<table border=\"1\" class=\"dataframe\">\n  <thead>\n    <tr style=\"text-align: right;\">\n      <th></th>\n      <th>District</th>\n      <th>Postcode</th>\n      <th>Ward</th>\n      <th>District Code</th>\n      <th>London zone</th>\n    </tr>\n  </thead>\n  <tbody>\n    <tr>\n      <th>0</th>\n      <td>Bromley</td>\n      <td>BR1 1AA</td>\n      <td>Bromley Town</td>\n      <td>E09000006</td>\n      <td>5</td>\n    </tr>\n    <tr>\n      <th>1</th>\n      <td>Bromley</td>\n      <td>BR1 1AB</td>\n      <td>Bromley Town</td>\n      <td>E09000006</td>\n      <td>4</td>\n    </tr>\n    <tr>\n      <th>2</th>\n      <td>Bromley</td>\n      <td>BR1 1AD</td>\n      <td>Bromley Town</td>\n      <td>E09000006</td>\n      <td>5</td>\n    </tr>\n    <tr>\n      <th>3</th>\n      <td>Bromley</td>\n      <td>BR1 1AE</td>\n      <td>Bromley Town</td>\n      <td>E09000006</td>\n      <td>4</td>\n    </tr>\n    <tr>\n      <th>4</th>\n      <td>Bromley</td>\n      <td>BR1 1AF</td>\n      <td>Bromley Town</td>\n      <td>E09000006</td>\n      <td>5</td>\n    </tr>\n    <tr>\n      <th>5</th>\n      <td>Bromley</td>\n      <td>BR1 1AG</td>\n      <td>Bromley Town</td>\n      <td>E09000006</td>\n      <td>5</td>\n    </tr>\n    <tr>\n      <th>6</th>\n      <td>Bromley</td>\n      <td>BR1 1AH</td>\n      <td>Bromley Town</td>\n      <td>E09000006</td>\n      <td>5</td>\n    </tr>\n    <tr>\n      <th>7</th>\n      <td>Bromley</td>\n      <td>BR1 1AJ</td>\n      <td>Bromley Town</td>\n      <td>E09000006</td>\n      <td>5</td>\n    </tr>\n    <tr>\n      <th>8</th>\n      <td>Bromley</td>\n      <td>BR1 1AL</td>\n      <td>Bromley Town</td>\n      <td>E09000006</td>\n      <td>4</td>\n    </tr>\n    <tr>\n      <th>9</th>\n      <td>Bromley</td>\n      <td>BR1 1AN</td>\n      <td>Bromley Town</td>\n      <td>E09000006</td>\n      <td>4</td>\n    </tr>\n  </tbody>\n</table>\n</div>"
     },
     "execution_count": 2,
     "metadata": {},
     "output_type": "execute_result"
    }
   ],
   "source": [
    "boroughs = pd.read_csv(\"../../data/UK/london_postcode.csv\")\n",
    "boroughs.head(10)"
   ],
   "metadata": {
    "collapsed": false,
    "ExecuteTime": {
     "end_time": "2023-08-05T09:55:04.034157Z",
     "start_time": "2023-08-05T09:55:03.819878Z"
    }
   }
  },
  {
   "cell_type": "code",
   "execution_count": 3,
   "outputs": [
    {
     "name": "stdout",
     "output_type": "stream",
     "text": [
      "<class 'pandas.core.frame.DataFrame'>\n",
      "RangeIndex: 328443 entries, 0 to 328442\n",
      "Data columns (total 5 columns):\n",
      " #   Column         Non-Null Count   Dtype \n",
      "---  ------         --------------   ----- \n",
      " 0   District       328443 non-null  object\n",
      " 1   Postcode       328443 non-null  object\n",
      " 2   Ward           328443 non-null  object\n",
      " 3   District Code  328443 non-null  object\n",
      " 4   London zone    328443 non-null  int64 \n",
      "dtypes: int64(1), object(4)\n",
      "memory usage: 12.5+ MB\n"
     ]
    }
   ],
   "source": [
    "boroughs.info()"
   ],
   "metadata": {
    "collapsed": false,
    "ExecuteTime": {
     "end_time": "2023-08-05T09:55:09.800815Z",
     "start_time": "2023-08-05T09:55:09.642902Z"
    }
   }
  },
  {
   "cell_type": "code",
   "execution_count": 4,
   "outputs": [],
   "source": [
    "# Create a new column with just the area part of the postcode\n",
    "boroughs['postcode_area'] = boroughs['Postcode'].str.split(' ').str[0]\n",
    "\n",
    "# Create a new dataframe with just the 'District' and 'postcode_area' columns\n",
    "postcode_district = boroughs[['District', 'postcode_area']]"
   ],
   "metadata": {
    "collapsed": false,
    "ExecuteTime": {
     "end_time": "2023-08-05T09:55:16.788823Z",
     "start_time": "2023-08-05T09:55:16.271108Z"
    }
   }
  },
  {
   "cell_type": "code",
   "execution_count": 5,
   "outputs": [
    {
     "name": "stdout",
     "output_type": "stream",
     "text": [
      "['BR1', 'BR2', 'BR3', 'BR4', 'BR5', 'BR6', 'BR7', 'BR8', 'CM13', 'CM14', 'CM23', 'CR0', 'CR2', 'CR3', 'CR4', 'CR44', 'CR5', 'CR6', 'CR7', 'CR8', 'CR9', 'CR90', 'DA1', 'DA14', 'DA15', 'DA16', 'DA17', 'DA18', 'DA5', 'DA6', 'DA7', 'DA8', 'E1', 'E10', 'E11', 'E12', 'E13', 'E14', 'E15', 'E16', 'E17', 'E18', 'E1W', 'E2', 'E20', 'E3', 'E4', 'E5', 'E6', 'E7', 'E77', 'E8', 'E9', 'E98', 'EC1A', 'EC1M', 'EC1N', 'EC1P', 'EC1R', 'EC1V', 'EC1Y', 'EC2A', 'EC2M', 'EC2N', 'EC2P', 'EC2R', 'EC2V', 'EC2Y', 'EC3A', 'EC3B', 'EC3M', 'EC3N', 'EC3P', 'EC3R', 'EC3V', 'EC4A', 'EC4M', 'EC4N', 'EC4P', 'EC4R', 'EC4V', 'EC4Y', 'EC50', 'EC88', 'EN1', 'EN2', 'EN3', 'EN4', 'EN5', 'EN6', 'EN7', 'EN8', 'EN9', 'HA0', 'HA1', 'HA2', 'HA3', 'HA4', 'HA5', 'HA6', 'HA7', 'HA8', 'HA9', 'IG1', 'IG11', 'IG2', 'IG3', 'IG4', 'IG5', 'IG6', 'IG7', 'IG8', 'IG9', 'KT1', 'KT17', 'KT18', 'KT19', 'KT2', 'KT22', 'KT3', 'KT4', 'KT5', 'KT6', 'KT7', 'KT8', 'KT9', 'N1', 'N10', 'N11', 'N12', 'N13', 'N14', 'N15', 'N16', 'N17', 'N18', 'N19', 'N1C', 'N1P', 'N2', 'N20', 'N21', 'N22', 'N3', 'N4', 'N5', 'N6', 'N7', 'N8', 'N81', 'N9', 'NW1', 'NW10', 'NW11', 'NW1W', 'NW2', 'NW26', 'NW3', 'NW4', 'NW5', 'NW6', 'NW7', 'NW8', 'NW9', 'RM1', 'RM10', 'RM11', 'RM12', 'RM13', 'RM14', 'RM15', 'RM2', 'RM3', 'RM4', 'RM5', 'RM50', 'RM6', 'RM7', 'RM8', 'RM9', 'SE1', 'SE10', 'SE11', 'SE12', 'SE13', 'SE14', 'SE15', 'SE16', 'SE17', 'SE18', 'SE19', 'SE1P', 'SE2', 'SE20', 'SE21', 'SE22', 'SE23', 'SE24', 'SE25', 'SE26', 'SE27', 'SE28', 'SE3', 'SE4', 'SE5', 'SE6', 'SE7', 'SE8', 'SE9', 'SE99', 'SM1', 'SM2', 'SM3', 'SM4', 'SM5', 'SM6', 'SM7', 'SW10', 'SW11', 'SW12', 'SW13', 'SW14', 'SW15', 'SW16', 'SW17', 'SW18', 'SW19', 'SW1A', 'SW1E', 'SW1H', 'SW1P', 'SW1V', 'SW1W', 'SW1X', 'SW1Y', 'SW2', 'SW20', 'SW3', 'SW4', 'SW5', 'SW6', 'SW7', 'SW8', 'SW9', 'SW95', 'SW99', 'TN14', 'TN16', 'TW1', 'TW10', 'TW11', 'TW12', 'TW13', 'TW14', 'TW15', 'TW19', 'TW2', 'TW3', 'TW4', 'TW5', 'TW6', 'TW7', 'TW8', 'TW9', 'UB1', 'UB10', 'UB11', 'UB18', 'UB2', 'UB3', 'UB4', 'UB5', 'UB6', 'UB7', 'UB8', 'UB9', 'W1', 'W10', 'W11', 'W12', 'W13', 'W14', 'W1A', 'W1B', 'W1C', 'W1D', 'W1F', 'W1G', 'W1H', 'W1J', 'W1K', 'W1M', 'W1N', 'W1P', 'W1R', 'W1S', 'W1T', 'W1U', 'W1V', 'W1W', 'W1X', 'W1Y', 'W2', 'W3', 'W4', 'W5', 'W6', 'W7', 'W8', 'W9', 'WC1A', 'WC1B', 'WC1E', 'WC1H', 'WC1N', 'WC1R', 'WC1V', 'WC1X', 'WC2A', 'WC2B', 'WC2E', 'WC2H', 'WC2N', 'WC2R', 'WC99', 'WD2', 'WD23', 'WD3', 'WD6']\n",
      "Count: 329\n"
     ]
    }
   ],
   "source": [
    "print(postcode_district['postcode_area'].unique().tolist())\n",
    "print(f\"Count: {len(postcode_district['postcode_area'].unique().tolist())}\")"
   ],
   "metadata": {
    "collapsed": false,
    "ExecuteTime": {
     "end_time": "2023-08-05T09:55:19.707106Z",
     "start_time": "2023-08-05T09:55:19.674809Z"
    }
   }
  },
  {
   "cell_type": "markdown",
   "source": [
    "There exist multiple 'Districts' for certain `postcode_areas`. This is unsurprising for a city such as london with many historically overlapping local authorities.\n",
    "\n",
    "We use the `mode()` function to assign each postcode to the district that appears most frequently within that `postcode_area`"
   ],
   "metadata": {
    "collapsed": false
   }
  },
  {
   "cell_type": "code",
   "execution_count": 6,
   "outputs": [],
   "source": [
    "postcode_district_clean = postcode_district.copy()\n",
    "postcode_district_clean['District'] = postcode_district_clean.groupby('postcode_area')['District'].transform(lambda x: x.mode()[0])"
   ],
   "metadata": {
    "collapsed": false,
    "ExecuteTime": {
     "end_time": "2023-08-05T09:55:26.698450Z",
     "start_time": "2023-08-05T09:55:26.581250Z"
    }
   }
  },
  {
   "cell_type": "code",
   "execution_count": 7,
   "outputs": [
    {
     "name": "stdout",
     "output_type": "stream",
     "text": [
      "<class 'pandas.core.frame.DataFrame'>\n",
      "RangeIndex: 328443 entries, 0 to 328442\n",
      "Data columns (total 2 columns):\n",
      " #   Column         Non-Null Count   Dtype \n",
      "---  ------         --------------   ----- \n",
      " 0   District       328443 non-null  object\n",
      " 1   postcode_area  328443 non-null  object\n",
      "dtypes: object(2)\n",
      "memory usage: 5.0+ MB\n"
     ]
    }
   ],
   "source": [
    "postcode_district_clean.info()"
   ],
   "metadata": {
    "collapsed": false,
    "ExecuteTime": {
     "end_time": "2023-08-05T09:55:28.976169Z",
     "start_time": "2023-08-05T09:55:28.881708Z"
    }
   }
  },
  {
   "cell_type": "markdown",
   "source": [
    "Find out if there are discrepancies. We return a boolean Series if more than one unique 'District' for each postcode area."
   ],
   "metadata": {
    "collapsed": false
   }
  },
  {
   "cell_type": "code",
   "execution_count": 8,
   "outputs": [
    {
     "name": "stdout",
     "output_type": "stream",
     "text": [
      "<class 'pandas.core.series.Series'>\n",
      "Index: 0 entries\n",
      "Series name: District\n",
      "Non-Null Count  Dtype\n",
      "--------------  -----\n",
      "0 non-null      bool \n",
      "dtypes: bool(1)\n",
      "memory usage: 0.0+ bytes\n"
     ]
    }
   ],
   "source": [
    "grouped = postcode_district_clean.groupby('postcode_area')['District'].nunique() > 1\n",
    "discrepancies = grouped[grouped]\n",
    "discrepancies.info()"
   ],
   "metadata": {
    "collapsed": false,
    "ExecuteTime": {
     "end_time": "2023-08-05T09:55:35.064315Z",
     "start_time": "2023-08-05T09:55:35.010978Z"
    }
   }
  },
  {
   "cell_type": "code",
   "execution_count": 9,
   "outputs": [],
   "source": [
    "postcode_district = postcode_district_clean.drop_duplicates(subset='postcode_area')"
   ],
   "metadata": {
    "collapsed": false,
    "ExecuteTime": {
     "end_time": "2023-08-05T09:55:44.518201Z",
     "start_time": "2023-08-05T09:55:44.466537Z"
    }
   }
  },
  {
   "cell_type": "code",
   "execution_count": 10,
   "outputs": [
    {
     "name": "stdout",
     "output_type": "stream",
     "text": [
      "Boroughs:\n",
      "['Bromley', 'Havering', 'Camden', 'Croydon', 'Merton', 'Sutton', 'Bexley', 'Tower Hamlets', 'Waltham Forest', 'Newham', 'Redbridge', 'Hackney', 'City of London', 'Islington', 'Enfield', 'Barnet', 'Brent', 'Harrow', 'Hillingdon', 'Barking and Dagenham', 'Kingston upon Thames', 'Richmond upon Thames', 'Haringey', 'Westminster', 'Southwark', 'Greenwich', 'Lambeth', 'Lewisham', 'Kensington and Chelsea', 'Wandsworth', 'Hammersmith and Fulham', 'Hounslow', 'Ealing']\n",
      "Total = 33\n"
     ]
    }
   ],
   "source": [
    "print(f\"Boroughs:\\n{postcode_district['District'].unique().tolist()}\"\n",
    "      f\"\\nTotal = {len(postcode_district['District'].unique().tolist())}\")"
   ],
   "metadata": {
    "collapsed": false,
    "ExecuteTime": {
     "end_time": "2023-08-05T09:55:47.225750Z",
     "start_time": "2023-08-05T09:55:47.215130Z"
    }
   }
  },
  {
   "cell_type": "markdown",
   "source": [
    "## We now export this data"
   ],
   "metadata": {
    "collapsed": false
   }
  },
  {
   "cell_type": "code",
   "execution_count": 11,
   "outputs": [],
   "source": [
    "postcode_district.to_csv('../../data/UK/postcode_district.csv', index=False)"
   ],
   "metadata": {
    "collapsed": false,
    "ExecuteTime": {
     "end_time": "2023-08-05T09:56:04.296356Z",
     "start_time": "2023-08-05T09:56:04.286232Z"
    }
   }
  }
 ],
 "metadata": {
  "kernelspec": {
   "display_name": "Python 3",
   "language": "python",
   "name": "python3"
  },
  "language_info": {
   "codemirror_mode": {
    "name": "ipython",
    "version": 2
   },
   "file_extension": ".py",
   "mimetype": "text/x-python",
   "name": "python",
   "nbconvert_exporter": "python",
   "pygments_lexer": "ipython2",
   "version": "2.7.6"
  }
 },
 "nbformat": 4,
 "nbformat_minor": 0
}
