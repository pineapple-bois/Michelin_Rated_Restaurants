{
 "cells": [
  {
   "cell_type": "markdown",
   "source": [
    "# French Departmental/Regional Data"
   ],
   "metadata": {
    "collapsed": false
   }
  },
  {
   "cell_type": "code",
   "execution_count": 30,
   "metadata": {
    "collapsed": true,
    "ExecuteTime": {
     "end_time": "2024-04-24T17:11:07.954813Z",
     "start_time": "2024-04-24T17:11:07.903978Z"
    }
   },
   "outputs": [],
   "source": [
    "import pandas as pd"
   ]
  },
  {
   "cell_type": "markdown",
   "source": [
    "----\n",
    "&nbsp;\n",
    "## Creating new columns `department` & `region`\n",
    "\n",
    "Compared to the UK France is considerably more ordered in terms of how she defines regions.\n",
    "\n",
    "1. We extract the first two digits of the code postal from `address`. ie, 06, 78 etc\n",
    "2. These digits represent a particular department\n",
    "3. We arrogate these into regions"
   ],
   "metadata": {
    "collapsed": false
   }
  },
  {
   "cell_type": "markdown",
   "source": [
    "We search for the departments and regions of france on [Wikipedia](https://en.wikipedia.org/wiki/Departments_of_France) and scrape the data using pandas"
   ],
   "metadata": {
    "collapsed": false
   }
  },
  {
   "cell_type": "code",
   "execution_count": 31,
   "outputs": [],
   "source": [
    "url = 'https://en.wikipedia.org/wiki/Departments_of_France'\n",
    "tables = pd.read_html(url)"
   ],
   "metadata": {
    "collapsed": false,
    "ExecuteTime": {
     "end_time": "2024-04-24T17:11:08.260660Z",
     "start_time": "2024-04-24T17:11:07.927869Z"
    }
   }
  },
  {
   "cell_type": "code",
   "execution_count": 32,
   "outputs": [
    {
     "data": {
      "text/plain": "  INSEE code  Arms 1 Date of establishment                 Department  \\\n0         01     NaN      26 February 1790                        Ain   \n1         02     NaN      26 February 1790                      Aisne   \n2         03     NaN      26 February 1790                     Allier   \n3         04     NaN      26 February 1790  Alpes-de-Haute-Provence 2   \n4         05     NaN      26 February 1790               Hautes-Alpes   \n\n           Capital                      Region  \\\n0  Bourg-en-Bresse        Auvergne-Rhône-Alpes   \n1             Laon             Hauts-de-France   \n2          Moulins        Auvergne-Rhône-Alpes   \n3  Digne-les-Bains  Provence-Alpes-Côte d'Azur   \n4              Gap  Provence-Alpes-Côte d'Azur   \n\n                          Named after  \n0                         Ain (river)  \n1                       Aisne (river)  \n2                      Allier (river)  \n3  Alps mountains and Provence region  \n4                      Alps mountains  ",
      "text/html": "<div>\n<style scoped>\n    .dataframe tbody tr th:only-of-type {\n        vertical-align: middle;\n    }\n\n    .dataframe tbody tr th {\n        vertical-align: top;\n    }\n\n    .dataframe thead th {\n        text-align: right;\n    }\n</style>\n<table border=\"1\" class=\"dataframe\">\n  <thead>\n    <tr style=\"text-align: right;\">\n      <th></th>\n      <th>INSEE code</th>\n      <th>Arms 1</th>\n      <th>Date of establishment</th>\n      <th>Department</th>\n      <th>Capital</th>\n      <th>Region</th>\n      <th>Named after</th>\n    </tr>\n  </thead>\n  <tbody>\n    <tr>\n      <th>0</th>\n      <td>01</td>\n      <td>NaN</td>\n      <td>26 February 1790</td>\n      <td>Ain</td>\n      <td>Bourg-en-Bresse</td>\n      <td>Auvergne-Rhône-Alpes</td>\n      <td>Ain (river)</td>\n    </tr>\n    <tr>\n      <th>1</th>\n      <td>02</td>\n      <td>NaN</td>\n      <td>26 February 1790</td>\n      <td>Aisne</td>\n      <td>Laon</td>\n      <td>Hauts-de-France</td>\n      <td>Aisne (river)</td>\n    </tr>\n    <tr>\n      <th>2</th>\n      <td>03</td>\n      <td>NaN</td>\n      <td>26 February 1790</td>\n      <td>Allier</td>\n      <td>Moulins</td>\n      <td>Auvergne-Rhône-Alpes</td>\n      <td>Allier (river)</td>\n    </tr>\n    <tr>\n      <th>3</th>\n      <td>04</td>\n      <td>NaN</td>\n      <td>26 February 1790</td>\n      <td>Alpes-de-Haute-Provence 2</td>\n      <td>Digne-les-Bains</td>\n      <td>Provence-Alpes-Côte d'Azur</td>\n      <td>Alps mountains and Provence region</td>\n    </tr>\n    <tr>\n      <th>4</th>\n      <td>05</td>\n      <td>NaN</td>\n      <td>26 February 1790</td>\n      <td>Hautes-Alpes</td>\n      <td>Gap</td>\n      <td>Provence-Alpes-Côte d'Azur</td>\n      <td>Alps mountains</td>\n    </tr>\n  </tbody>\n</table>\n</div>"
     },
     "execution_count": 32,
     "metadata": {},
     "output_type": "execute_result"
    }
   ],
   "source": [
    "# The table of interest is found by inspection\n",
    "departments = tables[4]\n",
    "departments.head()"
   ],
   "metadata": {
    "collapsed": false,
    "ExecuteTime": {
     "end_time": "2024-04-24T17:11:08.269959Z",
     "start_time": "2024-04-24T17:11:08.266138Z"
    }
   }
  },
  {
   "cell_type": "code",
   "execution_count": 33,
   "outputs": [
    {
     "name": "stdout",
     "output_type": "stream",
     "text": [
      "['INSEE code', 'Arms 1', 'Date of establishment', 'Department', 'Capital', 'Region', 'Named after']\n"
     ]
    }
   ],
   "source": [
    "print(departments.columns.tolist())"
   ],
   "metadata": {
    "collapsed": false,
    "ExecuteTime": {
     "end_time": "2024-04-24T17:11:08.272431Z",
     "start_time": "2024-04-24T17:11:08.270091Z"
    }
   }
  },
  {
   "cell_type": "code",
   "execution_count": 34,
   "outputs": [],
   "source": [
    "# Drop specified columns from the DataFrame\n",
    "departments = departments.drop(columns=['Arms 1', 'Date of establishment', 'Named after'])\n",
    "\n",
    "# Rename the column 'INSEE code' to 'department_num'\n",
    "departments = departments.rename(columns={'INSEE code': 'department_num'})\n",
    "\n",
    "# Convert all column names in the DataFrame to lowercase\n",
    "departments.columns = departments.columns.str.lower()\n",
    "\n",
    "# Replace the trailing numbers in the 'department' and 'capital columns with an empty string and remove whitespace\n",
    "departments['department'] = departments['department'].str.replace(r'\\s*\\d+$', '', regex=True)\n",
    "departments['capital'] = departments['capital'].str.replace(r'\\s*\\d+$', '', regex=True)"
   ],
   "metadata": {
    "collapsed": false,
    "ExecuteTime": {
     "end_time": "2024-04-24T17:11:08.279631Z",
     "start_time": "2024-04-24T17:11:08.275775Z"
    }
   }
  },
  {
   "cell_type": "code",
   "execution_count": 35,
   "outputs": [
    {
     "data": {
      "text/plain": "    department_num         department         capital         region\n92              91            Essonne            Évry  Île-de-France\n93              92     Hauts-de-Seine        Nanterre  Île-de-France\n94              93  Seine-Saint-Denis         Bobigny  Île-de-France\n95              94       Val-de-Marne         Créteil  Île-de-France\n96              95         Val-d'Oise        Pontoise  Île-de-France\n97             971         Guadeloupe     Basse-Terre     Guadeloupe\n98             972         Martinique  Fort-de-France     Martinique\n99             973             Guyane         Cayenne  French Guiana\n100            974         La Réunion     Saint-Denis        Réunion\n101            976            Mayotte       Mamoudzou        Mayotte",
      "text/html": "<div>\n<style scoped>\n    .dataframe tbody tr th:only-of-type {\n        vertical-align: middle;\n    }\n\n    .dataframe tbody tr th {\n        vertical-align: top;\n    }\n\n    .dataframe thead th {\n        text-align: right;\n    }\n</style>\n<table border=\"1\" class=\"dataframe\">\n  <thead>\n    <tr style=\"text-align: right;\">\n      <th></th>\n      <th>department_num</th>\n      <th>department</th>\n      <th>capital</th>\n      <th>region</th>\n    </tr>\n  </thead>\n  <tbody>\n    <tr>\n      <th>92</th>\n      <td>91</td>\n      <td>Essonne</td>\n      <td>Évry</td>\n      <td>Île-de-France</td>\n    </tr>\n    <tr>\n      <th>93</th>\n      <td>92</td>\n      <td>Hauts-de-Seine</td>\n      <td>Nanterre</td>\n      <td>Île-de-France</td>\n    </tr>\n    <tr>\n      <th>94</th>\n      <td>93</td>\n      <td>Seine-Saint-Denis</td>\n      <td>Bobigny</td>\n      <td>Île-de-France</td>\n    </tr>\n    <tr>\n      <th>95</th>\n      <td>94</td>\n      <td>Val-de-Marne</td>\n      <td>Créteil</td>\n      <td>Île-de-France</td>\n    </tr>\n    <tr>\n      <th>96</th>\n      <td>95</td>\n      <td>Val-d'Oise</td>\n      <td>Pontoise</td>\n      <td>Île-de-France</td>\n    </tr>\n    <tr>\n      <th>97</th>\n      <td>971</td>\n      <td>Guadeloupe</td>\n      <td>Basse-Terre</td>\n      <td>Guadeloupe</td>\n    </tr>\n    <tr>\n      <th>98</th>\n      <td>972</td>\n      <td>Martinique</td>\n      <td>Fort-de-France</td>\n      <td>Martinique</td>\n    </tr>\n    <tr>\n      <th>99</th>\n      <td>973</td>\n      <td>Guyane</td>\n      <td>Cayenne</td>\n      <td>French Guiana</td>\n    </tr>\n    <tr>\n      <th>100</th>\n      <td>974</td>\n      <td>La Réunion</td>\n      <td>Saint-Denis</td>\n      <td>Réunion</td>\n    </tr>\n    <tr>\n      <th>101</th>\n      <td>976</td>\n      <td>Mayotte</td>\n      <td>Mamoudzou</td>\n      <td>Mayotte</td>\n    </tr>\n  </tbody>\n</table>\n</div>"
     },
     "execution_count": 35,
     "metadata": {},
     "output_type": "execute_result"
    }
   ],
   "source": [
    "# Display the last 10 rows of the DataFrame\n",
    "departments.tail(10)"
   ],
   "metadata": {
    "collapsed": false,
    "ExecuteTime": {
     "end_time": "2024-04-24T17:11:08.299982Z",
     "start_time": "2024-04-24T17:11:08.283178Z"
    }
   }
  },
  {
   "cell_type": "markdown",
   "source": [
    "The last five entries are overseas departments"
   ],
   "metadata": {
    "collapsed": false
   }
  },
  {
   "cell_type": "code",
   "execution_count": 36,
   "outputs": [],
   "source": [
    "departments = departments.copy()\n",
    "\n",
    "# Remove the last 5 entries from the DataFrame\n",
    "departments = departments.iloc[:-5]"
   ],
   "metadata": {
    "collapsed": false,
    "ExecuteTime": {
     "end_time": "2024-04-24T17:11:08.324040Z",
     "start_time": "2024-04-24T17:11:08.287518Z"
    }
   }
  },
  {
   "cell_type": "markdown",
   "source": [
    "In `departments` there is some ambiguity with the naming of department 69. We search `france_data` for department 69"
   ],
   "metadata": {
    "collapsed": false
   }
  },
  {
   "cell_type": "code",
   "execution_count": 37,
   "outputs": [
    {
     "data": {
      "text/plain": "   department_num       department             capital                region\n69            69D            Rhône  Lyon (provisional)  Auvergne-Rhône-Alpes\n70            69M  Lyon Metropolis                Lyon  Auvergne-Rhône-Alpes",
      "text/html": "<div>\n<style scoped>\n    .dataframe tbody tr th:only-of-type {\n        vertical-align: middle;\n    }\n\n    .dataframe tbody tr th {\n        vertical-align: top;\n    }\n\n    .dataframe thead th {\n        text-align: right;\n    }\n</style>\n<table border=\"1\" class=\"dataframe\">\n  <thead>\n    <tr style=\"text-align: right;\">\n      <th></th>\n      <th>department_num</th>\n      <th>department</th>\n      <th>capital</th>\n      <th>region</th>\n    </tr>\n  </thead>\n  <tbody>\n    <tr>\n      <th>69</th>\n      <td>69D</td>\n      <td>Rhône</td>\n      <td>Lyon (provisional)</td>\n      <td>Auvergne-Rhône-Alpes</td>\n    </tr>\n    <tr>\n      <th>70</th>\n      <td>69M</td>\n      <td>Lyon Metropolis</td>\n      <td>Lyon</td>\n      <td>Auvergne-Rhône-Alpes</td>\n    </tr>\n  </tbody>\n</table>\n</div>"
     },
     "execution_count": 37,
     "metadata": {},
     "output_type": "execute_result"
    }
   ],
   "source": [
    "rhone = departments[departments['department_num'].str.startswith('69')]\n",
    "rhone"
   ],
   "metadata": {
    "collapsed": false,
    "ExecuteTime": {
     "end_time": "2024-04-24T17:11:08.345447Z",
     "start_time": "2024-04-24T17:11:08.294598Z"
    }
   }
  },
  {
   "cell_type": "markdown",
   "source": [
    "We will change department 69_ to 69 Rhône"
   ],
   "metadata": {
    "collapsed": false
   }
  },
  {
   "cell_type": "code",
   "execution_count": 38,
   "outputs": [],
   "source": [
    "# Identify rows with department number '69D' or '69M'\n",
    "rows_to_update = departments['department_num'].isin(['69D', '69M'])\n",
    "\n",
    "# Update department name and department number for these rows\n",
    "departments.loc[rows_to_update, 'department'] = 'Rhône'\n",
    "departments.loc[rows_to_update, 'department_num'] = '69'\n",
    "departments.loc[rows_to_update, 'capital'] = 'Lyon'\n",
    "\n",
    "# Drop the specified index\n",
    "departments = departments.drop(departments.index[69])"
   ],
   "metadata": {
    "collapsed": false,
    "ExecuteTime": {
     "end_time": "2024-04-24T17:11:08.347558Z",
     "start_time": "2024-04-24T17:11:08.299134Z"
    }
   }
  },
  {
   "cell_type": "markdown",
   "source": [
    "We export `departments` as a .csv file to merge with `france_data`"
   ],
   "metadata": {
    "collapsed": false
   }
  },
  {
   "cell_type": "code",
   "execution_count": 39,
   "outputs": [],
   "source": [
    "# Export the data to a csv file\n",
    "departments.to_csv('../../../../ExtraData/Demographics/demographics.csv', index=False)"
   ],
   "metadata": {
    "collapsed": false,
    "ExecuteTime": {
     "end_time": "2024-04-24T17:11:11.464127Z",
     "start_time": "2024-04-24T17:11:11.449433Z"
    }
   }
  },
  {
   "cell_type": "code",
   "execution_count": 40,
   "outputs": [
    {
     "data": {
      "text/plain": "   department_num         department   capital         region\n94             93  Seine-Saint-Denis   Bobigny  Île-de-France\n95             94       Val-de-Marne   Créteil  Île-de-France\n96             95         Val-d'Oise  Pontoise  Île-de-France",
      "text/html": "<div>\n<style scoped>\n    .dataframe tbody tr th:only-of-type {\n        vertical-align: middle;\n    }\n\n    .dataframe tbody tr th {\n        vertical-align: top;\n    }\n\n    .dataframe thead th {\n        text-align: right;\n    }\n</style>\n<table border=\"1\" class=\"dataframe\">\n  <thead>\n    <tr style=\"text-align: right;\">\n      <th></th>\n      <th>department_num</th>\n      <th>department</th>\n      <th>capital</th>\n      <th>region</th>\n    </tr>\n  </thead>\n  <tbody>\n    <tr>\n      <th>94</th>\n      <td>93</td>\n      <td>Seine-Saint-Denis</td>\n      <td>Bobigny</td>\n      <td>Île-de-France</td>\n    </tr>\n    <tr>\n      <th>95</th>\n      <td>94</td>\n      <td>Val-de-Marne</td>\n      <td>Créteil</td>\n      <td>Île-de-France</td>\n    </tr>\n    <tr>\n      <th>96</th>\n      <td>95</td>\n      <td>Val-d'Oise</td>\n      <td>Pontoise</td>\n      <td>Île-de-France</td>\n    </tr>\n  </tbody>\n</table>\n</div>"
     },
     "execution_count": 40,
     "metadata": {},
     "output_type": "execute_result"
    }
   ],
   "source": [
    "departments.tail(3)"
   ],
   "metadata": {
    "collapsed": false,
    "ExecuteTime": {
     "end_time": "2024-04-24T17:11:13.208987Z",
     "start_time": "2024-04-24T17:11:13.198849Z"
    }
   }
  },
  {
   "cell_type": "markdown",
   "source": [
    "----\n",
    "&nbsp;\n",
    "## *Statistiques locales* by department. [INSEE](https://www.insee.fr/fr/statistiques/6013867) 2020"
   ],
   "metadata": {
    "collapsed": false
   }
  },
  {
   "cell_type": "code",
   "execution_count": 41,
   "outputs": [
    {
     "data": {
      "text/plain": "  Code                  Libellé  Taux de pauvreté 2020  \\\n0   01                      Ain                   10.5   \n1   02                    Aisne                   18.0   \n2   03                   Allier                   15.3   \n3   04  Alpes-de-Haute-Provence                   16.6   \n4   05             Hautes-Alpes                   13.9   \n\n  Taux de chômage annuel moyen 2020 Salaire net horaire moyen 2020  \\\n0                               5.5                          15.34   \n1                              10.5                          13.92   \n2                               7.7                          13.63   \n3                               8.2                          14.15   \n4                               6.9                          13.54   \n\n  Population municipale 2020  \\\n0                     657856   \n1                     529374   \n2                     335628   \n3                     165451   \n4                     140605   \n\n  Densité de population (historique depuis 1876) 2020  \\\n0                                              114.2    \n1                                               71.9    \n2                                               45.7    \n3                                               23.9    \n4                                               25.3    \n\n  Nb de pers. non scolarisées de 15 ans ou + 2020  \n0                                          480283  \n1                                          394221  \n2                                          263472  \n3                                          129106  \n4                                          109699  ",
      "text/html": "<div>\n<style scoped>\n    .dataframe tbody tr th:only-of-type {\n        vertical-align: middle;\n    }\n\n    .dataframe tbody tr th {\n        vertical-align: top;\n    }\n\n    .dataframe thead th {\n        text-align: right;\n    }\n</style>\n<table border=\"1\" class=\"dataframe\">\n  <thead>\n    <tr style=\"text-align: right;\">\n      <th></th>\n      <th>Code</th>\n      <th>Libellé</th>\n      <th>Taux de pauvreté 2020</th>\n      <th>Taux de chômage annuel moyen 2020</th>\n      <th>Salaire net horaire moyen 2020</th>\n      <th>Population municipale 2020</th>\n      <th>Densité de population (historique depuis 1876) 2020</th>\n      <th>Nb de pers. non scolarisées de 15 ans ou + 2020</th>\n    </tr>\n  </thead>\n  <tbody>\n    <tr>\n      <th>0</th>\n      <td>01</td>\n      <td>Ain</td>\n      <td>10.5</td>\n      <td>5.5</td>\n      <td>15.34</td>\n      <td>657856</td>\n      <td>114.2</td>\n      <td>480283</td>\n    </tr>\n    <tr>\n      <th>1</th>\n      <td>02</td>\n      <td>Aisne</td>\n      <td>18.0</td>\n      <td>10.5</td>\n      <td>13.92</td>\n      <td>529374</td>\n      <td>71.9</td>\n      <td>394221</td>\n    </tr>\n    <tr>\n      <th>2</th>\n      <td>03</td>\n      <td>Allier</td>\n      <td>15.3</td>\n      <td>7.7</td>\n      <td>13.63</td>\n      <td>335628</td>\n      <td>45.7</td>\n      <td>263472</td>\n    </tr>\n    <tr>\n      <th>3</th>\n      <td>04</td>\n      <td>Alpes-de-Haute-Provence</td>\n      <td>16.6</td>\n      <td>8.2</td>\n      <td>14.15</td>\n      <td>165451</td>\n      <td>23.9</td>\n      <td>129106</td>\n    </tr>\n    <tr>\n      <th>4</th>\n      <td>05</td>\n      <td>Hautes-Alpes</td>\n      <td>13.9</td>\n      <td>6.9</td>\n      <td>13.54</td>\n      <td>140605</td>\n      <td>25.3</td>\n      <td>109699</td>\n    </tr>\n  </tbody>\n</table>\n</div>"
     },
     "execution_count": 41,
     "metadata": {},
     "output_type": "execute_result"
    }
   ],
   "source": [
    "stats_locale = pd.read_csv(\"../../../../ExtraData/Demographics/stats_locales.csv\", sep=';')\n",
    "stats_locale.head()"
   ],
   "metadata": {
    "collapsed": false,
    "ExecuteTime": {
     "end_time": "2024-04-24T17:11:17.624563Z",
     "start_time": "2024-04-24T17:11:17.585499Z"
    }
   }
  },
  {
   "cell_type": "code",
   "execution_count": 42,
   "outputs": [
    {
     "data": {
      "text/plain": "['Code',\n 'Libellé',\n 'Taux de pauvreté 2020',\n 'Taux de chômage annuel moyen 2020',\n 'Salaire net horaire moyen 2020',\n 'Population municipale 2020',\n 'Densité de population (historique depuis 1876) 2020',\n 'Nb de pers. non scolarisées de 15 ans ou + 2020']"
     },
     "execution_count": 42,
     "metadata": {},
     "output_type": "execute_result"
    }
   ],
   "source": [
    "stats_locale.columns.tolist()"
   ],
   "metadata": {
    "collapsed": false,
    "ExecuteTime": {
     "end_time": "2024-04-24T17:11:20.190240Z",
     "start_time": "2024-04-24T17:11:20.179929Z"
    }
   }
  },
  {
   "cell_type": "code",
   "execution_count": 43,
   "outputs": [],
   "source": [
    "stats_locale = stats_locale.rename(columns={\n",
    "    'Code': 'department_num',\n",
    "    'Libellé': 'department',\n",
    "    'Taux de pauvreté 2020': 'poverty_rate(%)',\n",
    "    'Taux de chômage annuel moyen 2020': 'average_annual_unemployment_rate(%)',\n",
    "    'Salaire net horaire moyen 2020': 'average_net_hourly_wage(€)',\n",
    "    'Population municipale 2020': 'municipal_population',\n",
    "    'Densité de population (historique depuis 1876) 2020': 'population_density(inhabitants/sq_km)',\n",
    "    'Nb de pers. non scolarisées de 15 ans ou + 2020': 'non_schooled_persons_15_and_over'\n",
    "})"
   ],
   "metadata": {
    "collapsed": false,
    "ExecuteTime": {
     "end_time": "2024-04-24T17:11:22.524680Z",
     "start_time": "2024-04-24T17:11:22.514319Z"
    }
   }
  },
  {
   "cell_type": "code",
   "execution_count": 44,
   "outputs": [
    {
     "name": "stdout",
     "output_type": "stream",
     "text": [
      "<class 'pandas.core.frame.DataFrame'>\n",
      "RangeIndex: 101 entries, 0 to 100\n",
      "Data columns (total 8 columns):\n",
      " #   Column                                 Non-Null Count  Dtype  \n",
      "---  ------                                 --------------  -----  \n",
      " 0   department_num                         101 non-null    object \n",
      " 1   department                             101 non-null    object \n",
      " 2   poverty_rate(%)                        101 non-null    float64\n",
      " 3   average_annual_unemployment_rate(%)    101 non-null    object \n",
      " 4   average_net_hourly_wage(€)             101 non-null    object \n",
      " 5   municipal_population                   101 non-null    object \n",
      " 6   population_density(inhabitants/sq_km)  101 non-null    object \n",
      " 7   non_schooled_persons_15_and_over       101 non-null    object \n",
      "dtypes: float64(1), object(7)\n",
      "memory usage: 6.4+ KB\n"
     ]
    }
   ],
   "source": [
    "stats_locale.info()"
   ],
   "metadata": {
    "collapsed": false,
    "ExecuteTime": {
     "end_time": "2024-04-24T17:11:24.899129Z",
     "start_time": "2024-04-24T17:11:24.895229Z"
    }
   }
  },
  {
   "cell_type": "code",
   "execution_count": 45,
   "outputs": [],
   "source": [
    "# Remove leading and trailing whitespace for all string columns\n",
    "stats_locale = stats_locale.apply(lambda col: col.str.strip() if col.dtype == \"object\" else col)"
   ],
   "metadata": {
    "collapsed": false,
    "ExecuteTime": {
     "end_time": "2024-04-24T17:11:27.757887Z",
     "start_time": "2024-04-24T17:11:27.750537Z"
    }
   }
  },
  {
   "cell_type": "code",
   "execution_count": 46,
   "outputs": [],
   "source": [
    "# Define columns to be converted to numeric type\n",
    "numeric_cols = ['average_annual_unemployment_rate(%)',\n",
    "                'average_net_hourly_wage(€)',\n",
    "                'municipal_population',\n",
    "                'population_density(inhabitants/sq_km)',\n",
    "                'non_schooled_persons_15_and_over']\n",
    "\n",
    "# Convert the columns to numeric, setting any errors to NaN\n",
    "for col in numeric_cols:\n",
    "    stats_locale[col] = pd.to_numeric(stats_locale[col], errors='coerce')"
   ],
   "metadata": {
    "collapsed": false,
    "ExecuteTime": {
     "end_time": "2024-04-24T17:11:30.075267Z",
     "start_time": "2024-04-24T17:11:30.063464Z"
    }
   }
  },
  {
   "cell_type": "code",
   "execution_count": 47,
   "outputs": [
    {
     "name": "stdout",
     "output_type": "stream",
     "text": [
      "average_annual_unemployment_rate(%)      1\n",
      "average_net_hourly_wage(€)               1\n",
      "municipal_population                     1\n",
      "population_density(inhabitants/sq_km)    1\n",
      "non_schooled_persons_15_and_over         1\n",
      "dtype: int64\n"
     ]
    }
   ],
   "source": [
    "# Check if there are any NaN values in the DataFrame\n",
    "nan_values = stats_locale.isnull().sum()\n",
    "print(nan_values[nan_values > 0])"
   ],
   "metadata": {
    "collapsed": false,
    "ExecuteTime": {
     "end_time": "2024-04-24T17:11:32.257731Z",
     "start_time": "2024-04-24T17:11:32.244366Z"
    }
   }
  },
  {
   "cell_type": "code",
   "execution_count": 48,
   "outputs": [
    {
     "data": {
      "text/plain": "    department_num department  poverty_rate(%)  \\\n100            976    Mayotte             77.3   \n\n     average_annual_unemployment_rate(%)  average_net_hourly_wage(€)  \\\n100                                  NaN                         NaN   \n\n     municipal_population  population_density(inhabitants/sq_km)  \\\n100                   NaN                                    NaN   \n\n     non_schooled_persons_15_and_over  \n100                               NaN  ",
      "text/html": "<div>\n<style scoped>\n    .dataframe tbody tr th:only-of-type {\n        vertical-align: middle;\n    }\n\n    .dataframe tbody tr th {\n        vertical-align: top;\n    }\n\n    .dataframe thead th {\n        text-align: right;\n    }\n</style>\n<table border=\"1\" class=\"dataframe\">\n  <thead>\n    <tr style=\"text-align: right;\">\n      <th></th>\n      <th>department_num</th>\n      <th>department</th>\n      <th>poverty_rate(%)</th>\n      <th>average_annual_unemployment_rate(%)</th>\n      <th>average_net_hourly_wage(€)</th>\n      <th>municipal_population</th>\n      <th>population_density(inhabitants/sq_km)</th>\n      <th>non_schooled_persons_15_and_over</th>\n    </tr>\n  </thead>\n  <tbody>\n    <tr>\n      <th>100</th>\n      <td>976</td>\n      <td>Mayotte</td>\n      <td>77.3</td>\n      <td>NaN</td>\n      <td>NaN</td>\n      <td>NaN</td>\n      <td>NaN</td>\n      <td>NaN</td>\n    </tr>\n  </tbody>\n</table>\n</div>"
     },
     "execution_count": 48,
     "metadata": {},
     "output_type": "execute_result"
    }
   ],
   "source": [
    "# Return that row of data\n",
    "nan_rows = stats_locale[stats_locale.isna().any(axis=1)]\n",
    "nan_rows"
   ],
   "metadata": {
    "collapsed": false,
    "ExecuteTime": {
     "end_time": "2024-04-24T17:11:35.080787Z",
     "start_time": "2024-04-24T17:11:35.054234Z"
    }
   }
  },
  {
   "cell_type": "markdown",
   "source": [
    "*`Mayotte`* is an overseas department which will be removed from the dataset as we are focusing our analysis on mainland France"
   ],
   "metadata": {
    "collapsed": false
   }
  },
  {
   "cell_type": "code",
   "execution_count": 49,
   "outputs": [
    {
     "data": {
      "text/plain": "    department_num         department  poverty_rate(%)  \\\n91              91            Essonne             13.2   \n92              92     Hauts-de-Seine             11.9   \n93              93  Seine-Saint-Denis             27.6   \n94              94       Val-de-Marne             16.6   \n95              95         Val-d'Oise             17.0   \n96             971         Guadeloupe             34.5   \n97             972         Martinique             26.7   \n98             973             Guyane             52.9   \n99             974         La Réunion             35.6   \n100            976            Mayotte             77.3   \n\n     average_annual_unemployment_rate(%)  average_net_hourly_wage(€)  \\\n91                                   6.4                       17.85   \n92                                   5.9                       26.02   \n93                                  10.2                       14.98   \n94                                   7.1                       18.86   \n95                                   8.0                       17.03   \n96                                  18.6                       14.93   \n97                                  12.5                       14.69   \n98                                  13.1                       15.10   \n99                                  18.1                       13.79   \n100                                  NaN                         NaN   \n\n     municipal_population  population_density(inhabitants/sq_km)  \\\n91              1306118.0                                  723.9   \n92              1626213.0                                 9260.4   \n93              1655422.0                                 7008.6   \n94              1407972.0                                 5746.1   \n95              1251804.0                                 1004.7   \n96               383559.0                                  235.5   \n97               361225.0                                  320.2   \n98               285133.0                                    3.4   \n99               863083.0                                  344.7   \n100                   NaN                                    NaN   \n\n     non_schooled_persons_15_and_over  \n91                           906036.0  \n92                          1141945.0  \n93                          1112210.0  \n94                           978399.0  \n95                           852868.0  \n96                           283923.0  \n97                           275923.0  \n98                           164254.0  \n99                           594394.0  \n100                               NaN  ",
      "text/html": "<div>\n<style scoped>\n    .dataframe tbody tr th:only-of-type {\n        vertical-align: middle;\n    }\n\n    .dataframe tbody tr th {\n        vertical-align: top;\n    }\n\n    .dataframe thead th {\n        text-align: right;\n    }\n</style>\n<table border=\"1\" class=\"dataframe\">\n  <thead>\n    <tr style=\"text-align: right;\">\n      <th></th>\n      <th>department_num</th>\n      <th>department</th>\n      <th>poverty_rate(%)</th>\n      <th>average_annual_unemployment_rate(%)</th>\n      <th>average_net_hourly_wage(€)</th>\n      <th>municipal_population</th>\n      <th>population_density(inhabitants/sq_km)</th>\n      <th>non_schooled_persons_15_and_over</th>\n    </tr>\n  </thead>\n  <tbody>\n    <tr>\n      <th>91</th>\n      <td>91</td>\n      <td>Essonne</td>\n      <td>13.2</td>\n      <td>6.4</td>\n      <td>17.85</td>\n      <td>1306118.0</td>\n      <td>723.9</td>\n      <td>906036.0</td>\n    </tr>\n    <tr>\n      <th>92</th>\n      <td>92</td>\n      <td>Hauts-de-Seine</td>\n      <td>11.9</td>\n      <td>5.9</td>\n      <td>26.02</td>\n      <td>1626213.0</td>\n      <td>9260.4</td>\n      <td>1141945.0</td>\n    </tr>\n    <tr>\n      <th>93</th>\n      <td>93</td>\n      <td>Seine-Saint-Denis</td>\n      <td>27.6</td>\n      <td>10.2</td>\n      <td>14.98</td>\n      <td>1655422.0</td>\n      <td>7008.6</td>\n      <td>1112210.0</td>\n    </tr>\n    <tr>\n      <th>94</th>\n      <td>94</td>\n      <td>Val-de-Marne</td>\n      <td>16.6</td>\n      <td>7.1</td>\n      <td>18.86</td>\n      <td>1407972.0</td>\n      <td>5746.1</td>\n      <td>978399.0</td>\n    </tr>\n    <tr>\n      <th>95</th>\n      <td>95</td>\n      <td>Val-d'Oise</td>\n      <td>17.0</td>\n      <td>8.0</td>\n      <td>17.03</td>\n      <td>1251804.0</td>\n      <td>1004.7</td>\n      <td>852868.0</td>\n    </tr>\n    <tr>\n      <th>96</th>\n      <td>971</td>\n      <td>Guadeloupe</td>\n      <td>34.5</td>\n      <td>18.6</td>\n      <td>14.93</td>\n      <td>383559.0</td>\n      <td>235.5</td>\n      <td>283923.0</td>\n    </tr>\n    <tr>\n      <th>97</th>\n      <td>972</td>\n      <td>Martinique</td>\n      <td>26.7</td>\n      <td>12.5</td>\n      <td>14.69</td>\n      <td>361225.0</td>\n      <td>320.2</td>\n      <td>275923.0</td>\n    </tr>\n    <tr>\n      <th>98</th>\n      <td>973</td>\n      <td>Guyane</td>\n      <td>52.9</td>\n      <td>13.1</td>\n      <td>15.10</td>\n      <td>285133.0</td>\n      <td>3.4</td>\n      <td>164254.0</td>\n    </tr>\n    <tr>\n      <th>99</th>\n      <td>974</td>\n      <td>La Réunion</td>\n      <td>35.6</td>\n      <td>18.1</td>\n      <td>13.79</td>\n      <td>863083.0</td>\n      <td>344.7</td>\n      <td>594394.0</td>\n    </tr>\n    <tr>\n      <th>100</th>\n      <td>976</td>\n      <td>Mayotte</td>\n      <td>77.3</td>\n      <td>NaN</td>\n      <td>NaN</td>\n      <td>NaN</td>\n      <td>NaN</td>\n      <td>NaN</td>\n    </tr>\n  </tbody>\n</table>\n</div>"
     },
     "execution_count": 49,
     "metadata": {},
     "output_type": "execute_result"
    }
   ],
   "source": [
    "stats_locale.tail(10)"
   ],
   "metadata": {
    "collapsed": false,
    "ExecuteTime": {
     "end_time": "2024-04-24T17:11:37.727276Z",
     "start_time": "2024-04-24T17:11:37.701865Z"
    }
   }
  },
  {
   "cell_type": "markdown",
   "source": [
    "We remove the overseas departments"
   ],
   "metadata": {
    "collapsed": false
   }
  },
  {
   "cell_type": "code",
   "execution_count": 50,
   "outputs": [
    {
     "name": "stdout",
     "output_type": "stream",
     "text": [
      "Shape of stats_locale: (96, 8)\n"
     ]
    }
   ],
   "source": [
    "# Remove the last 5 entries from the DataFrame (Overseas territories)\n",
    "stats_locale = stats_locale.iloc[:-5]\n",
    "print(f\"Shape of stats_locale: {stats_locale.shape}\")"
   ],
   "metadata": {
    "collapsed": false,
    "ExecuteTime": {
     "end_time": "2024-04-24T17:11:40.717750Z",
     "start_time": "2024-04-24T17:11:40.702437Z"
    }
   }
  },
  {
   "cell_type": "markdown",
   "source": [
    "There's a discrepancy in the population density data sourced from INSEE. The population density of [Paris](https://en.wikipedia.org/wiki/List_of_French_departments_by_population) is 20,454 inhabitants/sq_km"
   ],
   "metadata": {
    "collapsed": false
   }
  },
  {
   "cell_type": "code",
   "execution_count": 51,
   "outputs": [
    {
     "data": {
      "text/plain": "   department_num department  poverty_rate(%)  \\\n75             75      Paris             15.4   \n\n    average_annual_unemployment_rate(%)  average_net_hourly_wage(€)  \\\n75                                  5.7                       27.14   \n\n    municipal_population  population_density(inhabitants/sq_km)  \\\n75             2145906.0                                10179.8   \n\n    non_schooled_persons_15_and_over  \n75                         1563175.0  ",
      "text/html": "<div>\n<style scoped>\n    .dataframe tbody tr th:only-of-type {\n        vertical-align: middle;\n    }\n\n    .dataframe tbody tr th {\n        vertical-align: top;\n    }\n\n    .dataframe thead th {\n        text-align: right;\n    }\n</style>\n<table border=\"1\" class=\"dataframe\">\n  <thead>\n    <tr style=\"text-align: right;\">\n      <th></th>\n      <th>department_num</th>\n      <th>department</th>\n      <th>poverty_rate(%)</th>\n      <th>average_annual_unemployment_rate(%)</th>\n      <th>average_net_hourly_wage(€)</th>\n      <th>municipal_population</th>\n      <th>population_density(inhabitants/sq_km)</th>\n      <th>non_schooled_persons_15_and_over</th>\n    </tr>\n  </thead>\n  <tbody>\n    <tr>\n      <th>75</th>\n      <td>75</td>\n      <td>Paris</td>\n      <td>15.4</td>\n      <td>5.7</td>\n      <td>27.14</td>\n      <td>2145906.0</td>\n      <td>10179.8</td>\n      <td>1563175.0</td>\n    </tr>\n  </tbody>\n</table>\n</div>"
     },
     "execution_count": 51,
     "metadata": {},
     "output_type": "execute_result"
    }
   ],
   "source": [
    "paris = stats_locale[stats_locale['department'] == 'Paris']\n",
    "paris"
   ],
   "metadata": {
    "collapsed": false,
    "ExecuteTime": {
     "end_time": "2024-04-24T17:11:43.467248Z",
     "start_time": "2024-04-24T17:11:43.460105Z"
    }
   }
  },
  {
   "cell_type": "code",
   "execution_count": 52,
   "outputs": [],
   "source": [
    "stats_locale.loc[stats_locale['department'] == 'Paris', 'population_density(inhabitants/sq_km)'] = 20454"
   ],
   "metadata": {
    "collapsed": false,
    "ExecuteTime": {
     "end_time": "2024-04-24T17:11:46.616625Z",
     "start_time": "2024-04-24T17:11:46.603482Z"
    }
   }
  },
  {
   "cell_type": "markdown",
   "source": [
    "We need to extrapolate `area(sq_km)` from population density and population"
   ],
   "metadata": {
    "collapsed": false
   }
  },
  {
   "cell_type": "code",
   "execution_count": 53,
   "outputs": [],
   "source": [
    "stats_locale['area(sq_km)'] = round(stats_locale['municipal_population'] /\n",
    "                                                           stats_locale['population_density(inhabitants/sq_km)'], 2)"
   ],
   "metadata": {
    "collapsed": false,
    "ExecuteTime": {
     "end_time": "2024-04-24T17:11:49.626075Z",
     "start_time": "2024-04-24T17:11:49.613887Z"
    }
   }
  },
  {
   "cell_type": "code",
   "execution_count": 54,
   "outputs": [
    {
     "name": "stdout",
     "output_type": "stream",
     "text": [
      "<class 'pandas.core.frame.DataFrame'>\n",
      "RangeIndex: 96 entries, 0 to 95\n",
      "Data columns (total 9 columns):\n",
      " #   Column                                 Non-Null Count  Dtype  \n",
      "---  ------                                 --------------  -----  \n",
      " 0   department_num                         96 non-null     object \n",
      " 1   department                             96 non-null     object \n",
      " 2   poverty_rate(%)                        96 non-null     float64\n",
      " 3   average_annual_unemployment_rate(%)    96 non-null     float64\n",
      " 4   average_net_hourly_wage(€)             96 non-null     float64\n",
      " 5   municipal_population                   96 non-null     float64\n",
      " 6   population_density(inhabitants/sq_km)  96 non-null     float64\n",
      " 7   non_schooled_persons_15_and_over       96 non-null     float64\n",
      " 8   area(sq_km)                            96 non-null     float64\n",
      "dtypes: float64(7), object(2)\n",
      "memory usage: 6.9+ KB\n"
     ]
    }
   ],
   "source": [
    "stats_locale.info()"
   ],
   "metadata": {
    "collapsed": false,
    "ExecuteTime": {
     "end_time": "2024-04-24T17:11:51.475995Z",
     "start_time": "2024-04-24T17:11:51.468392Z"
    }
   }
  },
  {
   "cell_type": "markdown",
   "source": [
    "----\n",
    "&nbsp;\n",
    "## GDP by Department. [OECD](https://stats.oecd.org) 2001 - 2020\n",
    "\n",
    "This data is not as clean as the other two sources"
   ],
   "metadata": {
    "collapsed": false
   }
  },
  {
   "cell_type": "code",
   "execution_count": 56,
   "outputs": [
    {
     "data": {
      "text/plain": "                     Year      Unnamed: 1  Unnamed: 2      2001      2002  \\\n0            FR101: Paris  Euro, Millions         NaN   160 406   161 712   \n1   FR102: Seine-et-Marne  Euro, Millions         NaN  24 721.5  26 879.9   \n2         FR103: Yvelines  Euro, Millions         NaN  41 113.9  42 180.8   \n3          FR104: Essonne  Euro, Millions         NaN    31 959  33 611.8   \n4   FR105: Hauts-de-Seine  Euro, Millions         NaN  99 819.9   105 194   \n\n       2003      2004      2005      2006      2007  ...      2011      2012  \\\n0   162 368   165 582   172 171   175 198   186 771  ...   199 526   204 857   \n1  27 856.6  29 283.9  29 903.1  31 814.7  33 695.6  ...  37 628.4  39 139.3   \n2  42 832.7  43 728.5  45 595.8  47 101.2  50 043.1  ...  53 645.1  53 823.9   \n3    35 251  36 274.2  36 045.8  38 293.5  40 579.4  ...  42 610.7  43 857.9   \n4   106 868   111 508   118 961   123 114   131 837  ...   147 676   151 710   \n\n       2013      2014      2015      2016      2017      2018      2019  \\\n0   207 534   210 141   214 434   219 964   227 457   237 283   246 937   \n1  38 546.3  39 244.3  39 934.5  40 635.8  41 513.1  41 968.7  44 271.8   \n2  55 041.9  54 497.6  56 771.4  57 769.3  58 659.2  59 728.3    61 249   \n3  47 425.1  47 993.2  49 173.1  50 072.2  52 010.1  53 586.7  55 491.7   \n4   156 217   157 950   159 861   164 572   168 693   177 044   188 096   \n\n       2020  \n0   226 007  \n1  39 478.1  \n2  56 649.9  \n3  53 821.9  \n4   176 675  \n\n[5 rows x 23 columns]",
      "text/html": "<div>\n<style scoped>\n    .dataframe tbody tr th:only-of-type {\n        vertical-align: middle;\n    }\n\n    .dataframe tbody tr th {\n        vertical-align: top;\n    }\n\n    .dataframe thead th {\n        text-align: right;\n    }\n</style>\n<table border=\"1\" class=\"dataframe\">\n  <thead>\n    <tr style=\"text-align: right;\">\n      <th></th>\n      <th>Year</th>\n      <th>Unnamed: 1</th>\n      <th>Unnamed: 2</th>\n      <th>2001</th>\n      <th>2002</th>\n      <th>2003</th>\n      <th>2004</th>\n      <th>2005</th>\n      <th>2006</th>\n      <th>2007</th>\n      <th>...</th>\n      <th>2011</th>\n      <th>2012</th>\n      <th>2013</th>\n      <th>2014</th>\n      <th>2015</th>\n      <th>2016</th>\n      <th>2017</th>\n      <th>2018</th>\n      <th>2019</th>\n      <th>2020</th>\n    </tr>\n  </thead>\n  <tbody>\n    <tr>\n      <th>0</th>\n      <td>FR101: Paris</td>\n      <td>Euro, Millions</td>\n      <td>NaN</td>\n      <td>160 406</td>\n      <td>161 712</td>\n      <td>162 368</td>\n      <td>165 582</td>\n      <td>172 171</td>\n      <td>175 198</td>\n      <td>186 771</td>\n      <td>...</td>\n      <td>199 526</td>\n      <td>204 857</td>\n      <td>207 534</td>\n      <td>210 141</td>\n      <td>214 434</td>\n      <td>219 964</td>\n      <td>227 457</td>\n      <td>237 283</td>\n      <td>246 937</td>\n      <td>226 007</td>\n    </tr>\n    <tr>\n      <th>1</th>\n      <td>FR102: Seine-et-Marne</td>\n      <td>Euro, Millions</td>\n      <td>NaN</td>\n      <td>24 721.5</td>\n      <td>26 879.9</td>\n      <td>27 856.6</td>\n      <td>29 283.9</td>\n      <td>29 903.1</td>\n      <td>31 814.7</td>\n      <td>33 695.6</td>\n      <td>...</td>\n      <td>37 628.4</td>\n      <td>39 139.3</td>\n      <td>38 546.3</td>\n      <td>39 244.3</td>\n      <td>39 934.5</td>\n      <td>40 635.8</td>\n      <td>41 513.1</td>\n      <td>41 968.7</td>\n      <td>44 271.8</td>\n      <td>39 478.1</td>\n    </tr>\n    <tr>\n      <th>2</th>\n      <td>FR103: Yvelines</td>\n      <td>Euro, Millions</td>\n      <td>NaN</td>\n      <td>41 113.9</td>\n      <td>42 180.8</td>\n      <td>42 832.7</td>\n      <td>43 728.5</td>\n      <td>45 595.8</td>\n      <td>47 101.2</td>\n      <td>50 043.1</td>\n      <td>...</td>\n      <td>53 645.1</td>\n      <td>53 823.9</td>\n      <td>55 041.9</td>\n      <td>54 497.6</td>\n      <td>56 771.4</td>\n      <td>57 769.3</td>\n      <td>58 659.2</td>\n      <td>59 728.3</td>\n      <td>61 249</td>\n      <td>56 649.9</td>\n    </tr>\n    <tr>\n      <th>3</th>\n      <td>FR104: Essonne</td>\n      <td>Euro, Millions</td>\n      <td>NaN</td>\n      <td>31 959</td>\n      <td>33 611.8</td>\n      <td>35 251</td>\n      <td>36 274.2</td>\n      <td>36 045.8</td>\n      <td>38 293.5</td>\n      <td>40 579.4</td>\n      <td>...</td>\n      <td>42 610.7</td>\n      <td>43 857.9</td>\n      <td>47 425.1</td>\n      <td>47 993.2</td>\n      <td>49 173.1</td>\n      <td>50 072.2</td>\n      <td>52 010.1</td>\n      <td>53 586.7</td>\n      <td>55 491.7</td>\n      <td>53 821.9</td>\n    </tr>\n    <tr>\n      <th>4</th>\n      <td>FR105: Hauts-de-Seine</td>\n      <td>Euro, Millions</td>\n      <td>NaN</td>\n      <td>99 819.9</td>\n      <td>105 194</td>\n      <td>106 868</td>\n      <td>111 508</td>\n      <td>118 961</td>\n      <td>123 114</td>\n      <td>131 837</td>\n      <td>...</td>\n      <td>147 676</td>\n      <td>151 710</td>\n      <td>156 217</td>\n      <td>157 950</td>\n      <td>159 861</td>\n      <td>164 572</td>\n      <td>168 693</td>\n      <td>177 044</td>\n      <td>188 096</td>\n      <td>176 675</td>\n    </tr>\n  </tbody>\n</table>\n<p>5 rows × 23 columns</p>\n</div>"
     },
     "execution_count": 56,
     "metadata": {},
     "output_type": "execute_result"
    }
   ],
   "source": [
    "gdp = pd.read_csv(\"../../../../ExtraData/Demographics/GDP_departmental.csv\")\n",
    "gdp.head(5)"
   ],
   "metadata": {
    "collapsed": false,
    "ExecuteTime": {
     "end_time": "2024-04-24T17:12:24.716063Z",
     "start_time": "2024-04-24T17:12:24.677236Z"
    }
   }
  },
  {
   "cell_type": "markdown",
   "source": [
    "Values are in millions of Euros. We lose the two 'Unnamed' columns"
   ],
   "metadata": {
    "collapsed": false
   }
  },
  {
   "cell_type": "code",
   "execution_count": 57,
   "outputs": [],
   "source": [
    "# We loose the 'Unnamed' columns\n",
    "gdp = gdp[[col for col in gdp.columns if 'Unnamed' not in col]]"
   ],
   "metadata": {
    "collapsed": false,
    "ExecuteTime": {
     "end_time": "2024-04-24T17:12:41.718688Z",
     "start_time": "2024-04-24T17:12:41.703685Z"
    }
   }
  },
  {
   "cell_type": "code",
   "execution_count": 58,
   "outputs": [
    {
     "data": {
      "text/plain": "                     Year      2001      2002      2003      2004      2005  \\\n0            FR101: Paris   160 406   161 712   162 368   165 582   172 171   \n1   FR102: Seine-et-Marne  24 721.5  26 879.9  27 856.6  29 283.9  29 903.1   \n2         FR103: Yvelines  41 113.9  42 180.8  42 832.7  43 728.5  45 595.8   \n\n       2006      2007      2008      2009  ...      2011      2012      2013  \\\n0   175 198   186 771   189 261   182 178  ...   199 526   204 857   207 534   \n1  31 814.7  33 695.6  35 794.1  35 378.1  ...  37 628.4  39 139.3  38 546.3   \n2  47 101.2  50 043.1  52 799.2  50 204.9  ...  53 645.1  53 823.9  55 041.9   \n\n       2014      2015      2016      2017      2018      2019      2020  \n0   210 141   214 434   219 964   227 457   237 283   246 937   226 007  \n1  39 244.3  39 934.5  40 635.8  41 513.1  41 968.7  44 271.8  39 478.1  \n2  54 497.6  56 771.4  57 769.3  58 659.2  59 728.3    61 249  56 649.9  \n\n[3 rows x 21 columns]",
      "text/html": "<div>\n<style scoped>\n    .dataframe tbody tr th:only-of-type {\n        vertical-align: middle;\n    }\n\n    .dataframe tbody tr th {\n        vertical-align: top;\n    }\n\n    .dataframe thead th {\n        text-align: right;\n    }\n</style>\n<table border=\"1\" class=\"dataframe\">\n  <thead>\n    <tr style=\"text-align: right;\">\n      <th></th>\n      <th>Year</th>\n      <th>2001</th>\n      <th>2002</th>\n      <th>2003</th>\n      <th>2004</th>\n      <th>2005</th>\n      <th>2006</th>\n      <th>2007</th>\n      <th>2008</th>\n      <th>2009</th>\n      <th>...</th>\n      <th>2011</th>\n      <th>2012</th>\n      <th>2013</th>\n      <th>2014</th>\n      <th>2015</th>\n      <th>2016</th>\n      <th>2017</th>\n      <th>2018</th>\n      <th>2019</th>\n      <th>2020</th>\n    </tr>\n  </thead>\n  <tbody>\n    <tr>\n      <th>0</th>\n      <td>FR101: Paris</td>\n      <td>160 406</td>\n      <td>161 712</td>\n      <td>162 368</td>\n      <td>165 582</td>\n      <td>172 171</td>\n      <td>175 198</td>\n      <td>186 771</td>\n      <td>189 261</td>\n      <td>182 178</td>\n      <td>...</td>\n      <td>199 526</td>\n      <td>204 857</td>\n      <td>207 534</td>\n      <td>210 141</td>\n      <td>214 434</td>\n      <td>219 964</td>\n      <td>227 457</td>\n      <td>237 283</td>\n      <td>246 937</td>\n      <td>226 007</td>\n    </tr>\n    <tr>\n      <th>1</th>\n      <td>FR102: Seine-et-Marne</td>\n      <td>24 721.5</td>\n      <td>26 879.9</td>\n      <td>27 856.6</td>\n      <td>29 283.9</td>\n      <td>29 903.1</td>\n      <td>31 814.7</td>\n      <td>33 695.6</td>\n      <td>35 794.1</td>\n      <td>35 378.1</td>\n      <td>...</td>\n      <td>37 628.4</td>\n      <td>39 139.3</td>\n      <td>38 546.3</td>\n      <td>39 244.3</td>\n      <td>39 934.5</td>\n      <td>40 635.8</td>\n      <td>41 513.1</td>\n      <td>41 968.7</td>\n      <td>44 271.8</td>\n      <td>39 478.1</td>\n    </tr>\n    <tr>\n      <th>2</th>\n      <td>FR103: Yvelines</td>\n      <td>41 113.9</td>\n      <td>42 180.8</td>\n      <td>42 832.7</td>\n      <td>43 728.5</td>\n      <td>45 595.8</td>\n      <td>47 101.2</td>\n      <td>50 043.1</td>\n      <td>52 799.2</td>\n      <td>50 204.9</td>\n      <td>...</td>\n      <td>53 645.1</td>\n      <td>53 823.9</td>\n      <td>55 041.9</td>\n      <td>54 497.6</td>\n      <td>56 771.4</td>\n      <td>57 769.3</td>\n      <td>58 659.2</td>\n      <td>59 728.3</td>\n      <td>61 249</td>\n      <td>56 649.9</td>\n    </tr>\n  </tbody>\n</table>\n<p>3 rows × 21 columns</p>\n</div>"
     },
     "execution_count": 58,
     "metadata": {},
     "output_type": "execute_result"
    }
   ],
   "source": [
    "gdp.head(3)"
   ],
   "metadata": {
    "collapsed": false,
    "ExecuteTime": {
     "end_time": "2024-04-24T17:12:43.456946Z",
     "start_time": "2024-04-24T17:12:43.430564Z"
    }
   }
  },
  {
   "cell_type": "markdown",
   "source": [
    "We need to strip the non-breaking space in the numerical data."
   ],
   "metadata": {
    "collapsed": false
   }
  },
  {
   "cell_type": "code",
   "execution_count": 59,
   "outputs": [],
   "source": [
    "def strip_nbsp(cell):\n",
    "    if isinstance(cell, str):\n",
    "        return cell.replace('\\xa0', '')\n",
    "    return cell"
   ],
   "metadata": {
    "collapsed": false,
    "ExecuteTime": {
     "end_time": "2024-04-24T17:12:46.369597Z",
     "start_time": "2024-04-24T17:12:46.353169Z"
    }
   }
  },
  {
   "cell_type": "code",
   "execution_count": 60,
   "outputs": [],
   "source": [
    "gdp = gdp.applymap(strip_nbsp)"
   ],
   "metadata": {
    "collapsed": false,
    "ExecuteTime": {
     "end_time": "2024-04-24T17:12:47.975257Z",
     "start_time": "2024-04-24T17:12:47.964430Z"
    }
   }
  },
  {
   "cell_type": "markdown",
   "source": [
    "If a column represent a year then it contains numeric data"
   ],
   "metadata": {
    "collapsed": false
   }
  },
  {
   "cell_type": "code",
   "execution_count": 61,
   "outputs": [],
   "source": [
    "for col in gdp.columns:\n",
    "    if col.isdigit():  # Check if the column name is a year (4-digit number)\n",
    "        gdp[col] = gdp[col].astype(float)  # Convert to float"
   ],
   "metadata": {
    "collapsed": false,
    "ExecuteTime": {
     "end_time": "2024-04-24T17:12:51.043Z",
     "start_time": "2024-04-24T17:12:51.035207Z"
    }
   }
  },
  {
   "cell_type": "code",
   "execution_count": 62,
   "outputs": [],
   "source": [
    "# Only the most recent year is required\n",
    "gdp = gdp[['Year', '2020']]\n",
    "gdp = gdp.rename(columns={'Year': 'department', '2020': 'GDP_millions(€)'})"
   ],
   "metadata": {
    "collapsed": false,
    "ExecuteTime": {
     "end_time": "2024-04-24T17:12:53.358402Z",
     "start_time": "2024-04-24T17:12:53.347395Z"
    }
   }
  },
  {
   "cell_type": "code",
   "execution_count": 63,
   "outputs": [
    {
     "data": {
      "text/plain": "                  department  GDP_millions(€)\n91   FRL04: Bouches-du-Rhône         73878.70\n92                FRL05: Var         27056.50\n93           FRL06: Vaucluse         17880.20\n94       FRM01: Corse-du-Sud          4783.90\n95        FRM02: Haute-Corse          4300.08\n96         FRY10: Guadeloupe          9219.30\n97         FRY20: Martinique          8788.07\n98      FRY30: French Guiana          4424.65\n99         FRY40: La Réunion         18973.00\n100           FRY50: Mayotte          2711.64",
      "text/html": "<div>\n<style scoped>\n    .dataframe tbody tr th:only-of-type {\n        vertical-align: middle;\n    }\n\n    .dataframe tbody tr th {\n        vertical-align: top;\n    }\n\n    .dataframe thead th {\n        text-align: right;\n    }\n</style>\n<table border=\"1\" class=\"dataframe\">\n  <thead>\n    <tr style=\"text-align: right;\">\n      <th></th>\n      <th>department</th>\n      <th>GDP_millions(€)</th>\n    </tr>\n  </thead>\n  <tbody>\n    <tr>\n      <th>91</th>\n      <td>FRL04: Bouches-du-Rhône</td>\n      <td>73878.70</td>\n    </tr>\n    <tr>\n      <th>92</th>\n      <td>FRL05: Var</td>\n      <td>27056.50</td>\n    </tr>\n    <tr>\n      <th>93</th>\n      <td>FRL06: Vaucluse</td>\n      <td>17880.20</td>\n    </tr>\n    <tr>\n      <th>94</th>\n      <td>FRM01: Corse-du-Sud</td>\n      <td>4783.90</td>\n    </tr>\n    <tr>\n      <th>95</th>\n      <td>FRM02: Haute-Corse</td>\n      <td>4300.08</td>\n    </tr>\n    <tr>\n      <th>96</th>\n      <td>FRY10: Guadeloupe</td>\n      <td>9219.30</td>\n    </tr>\n    <tr>\n      <th>97</th>\n      <td>FRY20: Martinique</td>\n      <td>8788.07</td>\n    </tr>\n    <tr>\n      <th>98</th>\n      <td>FRY30: French Guiana</td>\n      <td>4424.65</td>\n    </tr>\n    <tr>\n      <th>99</th>\n      <td>FRY40: La Réunion</td>\n      <td>18973.00</td>\n    </tr>\n    <tr>\n      <th>100</th>\n      <td>FRY50: Mayotte</td>\n      <td>2711.64</td>\n    </tr>\n  </tbody>\n</table>\n</div>"
     },
     "execution_count": 63,
     "metadata": {},
     "output_type": "execute_result"
    }
   ],
   "source": [
    "gdp.tail(10)"
   ],
   "metadata": {
    "collapsed": false,
    "ExecuteTime": {
     "end_time": "2024-04-24T17:12:55.025142Z",
     "start_time": "2024-04-24T17:12:55.015200Z"
    }
   }
  },
  {
   "cell_type": "markdown",
   "source": [
    "Overseas departments occupy the last five rows and can be dropped"
   ],
   "metadata": {
    "collapsed": false
   }
  },
  {
   "cell_type": "code",
   "execution_count": 64,
   "outputs": [
    {
     "name": "stdout",
     "output_type": "stream",
     "text": [
      "Shape of GDP: (96, 2)\n"
     ]
    }
   ],
   "source": [
    "gdp = gdp.iloc[:-5]\n",
    "print(f\"Shape of GDP: {gdp.shape}\")"
   ],
   "metadata": {
    "collapsed": false,
    "ExecuteTime": {
     "end_time": "2024-04-24T17:12:59.167283Z",
     "start_time": "2024-04-24T17:12:59.152138Z"
    }
   }
  },
  {
   "cell_type": "code",
   "execution_count": 65,
   "outputs": [],
   "source": [
    "# Remove the initial part of the string ending with a colon followed by whitespace\n",
    "gdp['department'] = gdp['department'].str.replace(r'^[^:]+:\\s*', '', regex=True)"
   ],
   "metadata": {
    "collapsed": false,
    "ExecuteTime": {
     "end_time": "2024-04-24T17:13:03.505918Z",
     "start_time": "2024-04-24T17:13:03.494613Z"
    }
   }
  },
  {
   "cell_type": "code",
   "execution_count": 66,
   "outputs": [
    {
     "data": {
      "text/plain": "       department  GDP_millions(€)\n0           Paris         226007.0\n1  Seine-et-Marne          39478.1\n2        Yvelines          56649.9\n3         Essonne          53821.9\n4  Hauts-de-Seine         176675.0",
      "text/html": "<div>\n<style scoped>\n    .dataframe tbody tr th:only-of-type {\n        vertical-align: middle;\n    }\n\n    .dataframe tbody tr th {\n        vertical-align: top;\n    }\n\n    .dataframe thead th {\n        text-align: right;\n    }\n</style>\n<table border=\"1\" class=\"dataframe\">\n  <thead>\n    <tr style=\"text-align: right;\">\n      <th></th>\n      <th>department</th>\n      <th>GDP_millions(€)</th>\n    </tr>\n  </thead>\n  <tbody>\n    <tr>\n      <th>0</th>\n      <td>Paris</td>\n      <td>226007.0</td>\n    </tr>\n    <tr>\n      <th>1</th>\n      <td>Seine-et-Marne</td>\n      <td>39478.1</td>\n    </tr>\n    <tr>\n      <th>2</th>\n      <td>Yvelines</td>\n      <td>56649.9</td>\n    </tr>\n    <tr>\n      <th>3</th>\n      <td>Essonne</td>\n      <td>53821.9</td>\n    </tr>\n    <tr>\n      <th>4</th>\n      <td>Hauts-de-Seine</td>\n      <td>176675.0</td>\n    </tr>\n  </tbody>\n</table>\n</div>"
     },
     "execution_count": 66,
     "metadata": {},
     "output_type": "execute_result"
    }
   ],
   "source": [
    "gdp.head()"
   ],
   "metadata": {
    "collapsed": false,
    "ExecuteTime": {
     "end_time": "2024-04-24T17:13:05.249230Z",
     "start_time": "2024-04-24T17:13:05.243550Z"
    }
   }
  },
  {
   "cell_type": "markdown",
   "source": [
    "----\n",
    "&nbsp;\n",
    "### Merging `departments`, `stats_locale` & `gdp`"
   ],
   "metadata": {
    "collapsed": false
   }
  },
  {
   "cell_type": "markdown",
   "source": [
    "We aim to sort all DataFrames on `department_num` and therefore merge `gdp` with `departments` first."
   ],
   "metadata": {
    "collapsed": false
   }
  },
  {
   "cell_type": "code",
   "execution_count": 67,
   "outputs": [
    {
     "name": "stdout",
     "output_type": "stream",
     "text": [
      "True\n"
     ]
    }
   ],
   "source": [
    "# We check unique values\n",
    "set1 = set(departments['department'].unique())\n",
    "set2 = set(gdp['department'].unique())\n",
    "print(set1 == set2)  # This should print True if all sets are equal"
   ],
   "metadata": {
    "collapsed": false,
    "ExecuteTime": {
     "end_time": "2024-04-24T17:13:12.181486Z",
     "start_time": "2024-04-24T17:13:12.168818Z"
    }
   }
  },
  {
   "cell_type": "code",
   "execution_count": 68,
   "outputs": [],
   "source": [
    "gdp_departments = departments.merge(gdp, on='department', how='inner')"
   ],
   "metadata": {
    "collapsed": false,
    "ExecuteTime": {
     "end_time": "2024-04-24T17:13:14.540541Z",
     "start_time": "2024-04-24T17:13:14.533207Z"
    }
   }
  },
  {
   "cell_type": "markdown",
   "source": [
    "We now merge with `stats_locale`"
   ],
   "metadata": {
    "collapsed": false
   }
  },
  {
   "cell_type": "code",
   "execution_count": 69,
   "outputs": [],
   "source": [
    "# We sort all dfs on 'department_num'\n",
    "gdp_departments = gdp_departments.sort_values('department_num')\n",
    "stats_locale = stats_locale.sort_values('department_num')"
   ],
   "metadata": {
    "collapsed": false,
    "ExecuteTime": {
     "end_time": "2024-04-24T17:13:16.755950Z",
     "start_time": "2024-04-24T17:13:16.744633Z"
    }
   }
  },
  {
   "cell_type": "markdown",
   "source": [
    "We check if the name `department` is equal in the two dataframes"
   ],
   "metadata": {
    "collapsed": false
   }
  },
  {
   "cell_type": "code",
   "execution_count": 70,
   "outputs": [
    {
     "name": "stdout",
     "output_type": "stream",
     "text": [
      "True\n"
     ]
    }
   ],
   "source": [
    "set1 = set(gdp_departments['department'].unique())\n",
    "set2 = set(stats_locale['department'].unique())\n",
    "print(set1 == set2)"
   ],
   "metadata": {
    "collapsed": false,
    "ExecuteTime": {
     "end_time": "2024-04-24T17:13:19.453487Z",
     "start_time": "2024-04-24T17:13:19.441726Z"
    }
   }
  },
  {
   "cell_type": "code",
   "execution_count": 71,
   "outputs": [],
   "source": [
    "from functools import reduce\n",
    "\n",
    "# List of dataframes to merge\n",
    "dfs = [gdp_departments, stats_locale]\n",
    "\n",
    "# Use reduce and merge to merge both dataframes\n",
    "demographics = reduce(lambda left,right: pd.merge(left,right,on=['department', 'department_num']), dfs)"
   ],
   "metadata": {
    "collapsed": false,
    "ExecuteTime": {
     "end_time": "2024-04-24T17:13:22.055751Z",
     "start_time": "2024-04-24T17:13:22.044566Z"
    }
   }
  },
  {
   "cell_type": "markdown",
   "source": [
    "Will drop `non_schooled_persons_15_and_over` as I feel it's the weakest statistic"
   ],
   "metadata": {
    "collapsed": false
   }
  },
  {
   "cell_type": "code",
   "execution_count": 72,
   "outputs": [
    {
     "name": "stdout",
     "output_type": "stream",
     "text": [
      "<class 'pandas.core.frame.DataFrame'>\n",
      "Int64Index: 96 entries, 0 to 95\n",
      "Data columns (total 11 columns):\n",
      " #   Column                                 Non-Null Count  Dtype  \n",
      "---  ------                                 --------------  -----  \n",
      " 0   department_num                         96 non-null     object \n",
      " 1   department                             96 non-null     object \n",
      " 2   capital                                96 non-null     object \n",
      " 3   region                                 96 non-null     object \n",
      " 4   GDP_millions(€)                        96 non-null     float64\n",
      " 5   poverty_rate(%)                        96 non-null     float64\n",
      " 6   average_annual_unemployment_rate(%)    96 non-null     float64\n",
      " 7   average_net_hourly_wage(€)             96 non-null     float64\n",
      " 8   municipal_population                   96 non-null     float64\n",
      " 9   population_density(inhabitants/sq_km)  96 non-null     float64\n",
      " 10  area(sq_km)                            96 non-null     float64\n",
      "dtypes: float64(7), object(4)\n",
      "memory usage: 9.0+ KB\n"
     ]
    }
   ],
   "source": [
    "demographics = demographics.drop(columns=\"non_schooled_persons_15_and_over\")\n",
    "demographics.info()"
   ],
   "metadata": {
    "collapsed": false,
    "ExecuteTime": {
     "end_time": "2024-04-24T17:13:24.941922Z",
     "start_time": "2024-04-24T17:13:24.936234Z"
    }
   }
  },
  {
   "cell_type": "markdown",
   "source": [
    "We will calculate `GDP_per_capita(€)` as it's a more meaningful statistic for comparison"
   ],
   "metadata": {
    "collapsed": false
   }
  },
  {
   "cell_type": "code",
   "execution_count": 73,
   "outputs": [],
   "source": [
    "demographics['GDP_per_capita(€)'] = round((demographics['GDP_millions(€)'] * 1e6) / demographics['municipal_population'], 2)"
   ],
   "metadata": {
    "collapsed": false,
    "ExecuteTime": {
     "end_time": "2024-04-24T17:13:28.757290Z",
     "start_time": "2024-04-24T17:13:28.745238Z"
    }
   }
  },
  {
   "cell_type": "code",
   "execution_count": 74,
   "outputs": [
    {
     "name": "stdout",
     "output_type": "stream",
     "text": [
      "['department_num', 'department', 'capital', 'region', 'GDP_millions(€)', 'poverty_rate(%)', 'average_annual_unemployment_rate(%)', 'average_net_hourly_wage(€)', 'municipal_population', 'population_density(inhabitants/sq_km)', 'area(sq_km)', 'GDP_per_capita(€)']\n"
     ]
    }
   ],
   "source": [
    "print(demographics.columns.tolist())"
   ],
   "metadata": {
    "collapsed": false,
    "ExecuteTime": {
     "end_time": "2024-04-24T17:13:32.375997Z",
     "start_time": "2024-04-24T17:13:32.367064Z"
    }
   }
  },
  {
   "cell_type": "code",
   "execution_count": 75,
   "outputs": [],
   "source": [
    "# Reorder the columns\n",
    "new_order = ['department_num', 'department', 'capital', 'region', 'GDP_millions(€)', 'GDP_per_capita(€)',\n",
    "             'poverty_rate(%)', 'average_annual_unemployment_rate(%)', 'average_net_hourly_wage(€)',\n",
    "             'municipal_population', 'population_density(inhabitants/sq_km)', 'area(sq_km)']"
   ],
   "metadata": {
    "collapsed": false,
    "ExecuteTime": {
     "end_time": "2024-04-24T17:13:35.307611Z",
     "start_time": "2024-04-24T17:13:35.294203Z"
    }
   }
  },
  {
   "cell_type": "code",
   "execution_count": 76,
   "outputs": [],
   "source": [
    "demographics = demographics[new_order]"
   ],
   "metadata": {
    "collapsed": false,
    "ExecuteTime": {
     "end_time": "2024-04-24T17:13:45.880619Z",
     "start_time": "2024-04-24T17:13:45.860317Z"
    }
   }
  },
  {
   "cell_type": "code",
   "execution_count": 77,
   "outputs": [
    {
     "data": {
      "text/plain": "  department_num               department          capital  \\\n0             01                      Ain  Bourg-en-Bresse   \n1             02                    Aisne             Laon   \n2             03                   Allier          Moulins   \n3             04  Alpes-de-Haute-Provence  Digne-les-Bains   \n4             05             Hautes-Alpes              Gap   \n\n                       region  GDP_millions(€)  GDP_per_capita(€)  \\\n0        Auvergne-Rhône-Alpes         16726.40           25425.63   \n1             Hauts-de-France         12016.40           22699.26   \n2        Auvergne-Rhône-Alpes          8278.98           24667.13   \n3  Provence-Alpes-Côte d'Azur          4154.79           25111.91   \n4  Provence-Alpes-Côte d'Azur          3756.22           26714.70   \n\n   poverty_rate(%)  average_annual_unemployment_rate(%)  \\\n0             10.5                                  5.5   \n1             18.0                                 10.5   \n2             15.3                                  7.7   \n3             16.6                                  8.2   \n4             13.9                                  6.9   \n\n   average_net_hourly_wage(€)  municipal_population  \\\n0                       15.34              657856.0   \n1                       13.92              529374.0   \n2                       13.63              335628.0   \n3                       14.15              165451.0   \n4                       13.54              140605.0   \n\n   population_density(inhabitants/sq_km)  area(sq_km)  \n0                                  114.2      5760.56  \n1                                   71.9      7362.64  \n2                                   45.7      7344.16  \n3                                   23.9      6922.64  \n4                                   25.3      5557.51  ",
      "text/html": "<div>\n<style scoped>\n    .dataframe tbody tr th:only-of-type {\n        vertical-align: middle;\n    }\n\n    .dataframe tbody tr th {\n        vertical-align: top;\n    }\n\n    .dataframe thead th {\n        text-align: right;\n    }\n</style>\n<table border=\"1\" class=\"dataframe\">\n  <thead>\n    <tr style=\"text-align: right;\">\n      <th></th>\n      <th>department_num</th>\n      <th>department</th>\n      <th>capital</th>\n      <th>region</th>\n      <th>GDP_millions(€)</th>\n      <th>GDP_per_capita(€)</th>\n      <th>poverty_rate(%)</th>\n      <th>average_annual_unemployment_rate(%)</th>\n      <th>average_net_hourly_wage(€)</th>\n      <th>municipal_population</th>\n      <th>population_density(inhabitants/sq_km)</th>\n      <th>area(sq_km)</th>\n    </tr>\n  </thead>\n  <tbody>\n    <tr>\n      <th>0</th>\n      <td>01</td>\n      <td>Ain</td>\n      <td>Bourg-en-Bresse</td>\n      <td>Auvergne-Rhône-Alpes</td>\n      <td>16726.40</td>\n      <td>25425.63</td>\n      <td>10.5</td>\n      <td>5.5</td>\n      <td>15.34</td>\n      <td>657856.0</td>\n      <td>114.2</td>\n      <td>5760.56</td>\n    </tr>\n    <tr>\n      <th>1</th>\n      <td>02</td>\n      <td>Aisne</td>\n      <td>Laon</td>\n      <td>Hauts-de-France</td>\n      <td>12016.40</td>\n      <td>22699.26</td>\n      <td>18.0</td>\n      <td>10.5</td>\n      <td>13.92</td>\n      <td>529374.0</td>\n      <td>71.9</td>\n      <td>7362.64</td>\n    </tr>\n    <tr>\n      <th>2</th>\n      <td>03</td>\n      <td>Allier</td>\n      <td>Moulins</td>\n      <td>Auvergne-Rhône-Alpes</td>\n      <td>8278.98</td>\n      <td>24667.13</td>\n      <td>15.3</td>\n      <td>7.7</td>\n      <td>13.63</td>\n      <td>335628.0</td>\n      <td>45.7</td>\n      <td>7344.16</td>\n    </tr>\n    <tr>\n      <th>3</th>\n      <td>04</td>\n      <td>Alpes-de-Haute-Provence</td>\n      <td>Digne-les-Bains</td>\n      <td>Provence-Alpes-Côte d'Azur</td>\n      <td>4154.79</td>\n      <td>25111.91</td>\n      <td>16.6</td>\n      <td>8.2</td>\n      <td>14.15</td>\n      <td>165451.0</td>\n      <td>23.9</td>\n      <td>6922.64</td>\n    </tr>\n    <tr>\n      <th>4</th>\n      <td>05</td>\n      <td>Hautes-Alpes</td>\n      <td>Gap</td>\n      <td>Provence-Alpes-Côte d'Azur</td>\n      <td>3756.22</td>\n      <td>26714.70</td>\n      <td>13.9</td>\n      <td>6.9</td>\n      <td>13.54</td>\n      <td>140605.0</td>\n      <td>25.3</td>\n      <td>5557.51</td>\n    </tr>\n  </tbody>\n</table>\n</div>"
     },
     "execution_count": 77,
     "metadata": {},
     "output_type": "execute_result"
    }
   ],
   "source": [
    "demographics.head()"
   ],
   "metadata": {
    "collapsed": false,
    "ExecuteTime": {
     "end_time": "2024-04-24T17:13:47.544429Z",
     "start_time": "2024-04-24T17:13:47.523843Z"
    }
   }
  },
  {
   "cell_type": "markdown",
   "source": [
    "The `demographics` data can now be exported"
   ],
   "metadata": {
    "collapsed": false
   }
  },
  {
   "cell_type": "code",
   "execution_count": 78,
   "outputs": [],
   "source": [
    "# Export the data to a csv file\n",
    "demographics.to_csv('../../../../ExtraData/Demographics/demographics.csv', index=False)"
   ],
   "metadata": {
    "collapsed": false,
    "ExecuteTime": {
     "end_time": "2024-04-24T17:14:00.005322Z",
     "start_time": "2024-04-24T17:13:59.978397Z"
    }
   }
  }
 ],
 "metadata": {
  "kernelspec": {
   "display_name": "Python 3",
   "language": "python",
   "name": "python3"
  },
  "language_info": {
   "codemirror_mode": {
    "name": "ipython",
    "version": 2
   },
   "file_extension": ".py",
   "mimetype": "text/x-python",
   "name": "python",
   "nbconvert_exporter": "python",
   "pygments_lexer": "ipython2",
   "version": "2.7.6"
  }
 },
 "nbformat": 4,
 "nbformat_minor": 0
}
