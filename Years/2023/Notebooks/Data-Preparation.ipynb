{
 "cells": [
  {
   "cell_type": "markdown",
   "source": [
    "# Michelin Rated Restaurants"
   ],
   "metadata": {
    "collapsed": false
   }
  },
  {
   "cell_type": "code",
   "execution_count": 1,
   "metadata": {
    "collapsed": true,
    "ExecuteTime": {
     "end_time": "2024-04-24T16:44:46.938849Z",
     "start_time": "2024-04-24T16:44:45.427782Z"
    }
   },
   "outputs": [],
   "source": [
    "import pandas as pd"
   ]
  },
  {
   "cell_type": "markdown",
   "source": [
    "## Initial Exploration & Preparation of Data"
   ],
   "metadata": {
    "collapsed": false
   }
  },
  {
   "cell_type": "code",
   "execution_count": 2,
   "outputs": [
    {
     "data": {
      "text/plain": "                           Name  \\\n0                          noma   \n1                        Maaemo   \n2                      Frantzén   \n3                      Geranium   \n4                        Ta Vie   \n5                       Caprice   \n6                  Sushi Shikon   \n7                   T'ang Court   \n8              Robuchon au Dôme   \n9  8 1/2 Otto e Mezzo - Bombana   \n\n                                             Address             Location  \\\n0        Refshalevej 96, Copenhagen, 1432 K, Denmark  Copenhagen, Denmark   \n1      Dronning Eufemias gate 23, Oslo, 0194, Norway         Oslo, Norway   \n2  Klara Norra Kyrkogata 26, Stockholm, 111 22, S...    Stockholm, Sweden   \n3  Per Henrik Lings Allé, Parken National Stadium...  Copenhagen, Denmark   \n4  2F, The Pottinger Hotel, 21 Stanley Street, Ho...            Hong Kong   \n5  6F, Four Seasons Hotel, 8 Finance Street, Hong...            Hong Kong   \n6  7F, The Landmark Mandarin Oriental Hotel, 15 Q...            Hong Kong   \n7  1-2F, The Langham Hotel, 8 Peking Road, Hong Kong            Hong Kong   \n8  43F, Grand Lisboa Hotel, Avenida de Lisboa, Macau                Macau   \n9  Shop 202, 2F, Alexandra House, 18 Chater Road,...            Hong Kong   \n\n  Price                   Cuisine   Longitude   Latitude   PhoneNumber  \\\n0  €€€€                  Creative   12.610618  55.683312  4.532963e+09   \n1  €€€€  Modern Cuisine, Creative   10.758636  59.907529  4.722180e+09   \n2  €€€€            Modern Cuisine   18.059757  59.334167  4.682086e+08   \n3  €€€€    Creative, Contemporary   12.572529  55.704085  4.569960e+09   \n4  $$$$                Innovative  114.155290  22.282766  8.522669e+10   \n5  $$$$       French Contemporary  114.159050  22.285715  8.523197e+10   \n6  $$$$                     Sushi  114.157416  22.280857  8.522644e+10   \n7   $$$                 Cantonese  114.169800  22.296572  8.522133e+10   \n8  $$$$       French Contemporary  113.543950  22.189949  8.538804e+10   \n9  $$$$                   Italian  114.158670  22.281464  8.522538e+10   \n\n                                                 Url  \\\n0  https://guide.michelin.com/en/capital-region/c...   \n1  https://guide.michelin.com/en/oslo-region/oslo...   \n2  https://guide.michelin.com/en/stockholm-region...   \n3  https://guide.michelin.com/en/capital-region/c...   \n4  https://guide.michelin.com/en/hong-kong-region...   \n5  https://guide.michelin.com/en/hong-kong-region...   \n6  https://guide.michelin.com/en/hong-kong-region...   \n7  https://guide.michelin.com/en/hong-kong-region...   \n8  https://guide.michelin.com/en/macau-region/mac...   \n9  https://guide.michelin.com/en/hong-kong-region...   \n\n                                          WebsiteUrl             Award  \\\n0                                    https://noma.dk  3 MICHELIN Stars   \n1                               http://www.maaemo.no  3 MICHELIN Stars   \n2                https://www.restaurantfrantzen.com/  3 MICHELIN Stars   \n3                           https://www.geranium.dk/  3 MICHELIN Stars   \n4                           https://www.tavie.com.hk  3 MICHELIN Stars   \n5               https://www.fourseasons.com/hongkong  3 MICHELIN Stars   \n6                           https://sushi-shikon.com  3 MICHELIN Stars   \n7  https://www.langhamhotels.com/en/the-langham/h...  3 MICHELIN Stars   \n8                  https://www.grandlisboahotels.com  3 MICHELIN Stars   \n9                  https://www.ottoemezzobombana.com  3 MICHELIN Stars   \n\n                               FacilitiesAndServices  \n0  American Express credit card,Credit card / Deb...  \n1  Air conditioning,American Express credit card,...  \n2  Air conditioning,American Express credit card,...  \n3  Air conditioning,American Express credit card,...  \n4  Air conditioning,American Express credit card,...  \n5  Air conditioning,American Express credit card,...  \n6  Air conditioning,American Express credit card,...  \n7  Air conditioning,American Express credit card,...  \n8  Air conditioning,American Express credit card,...  \n9  Air conditioning,American Express credit card,...  ",
      "text/html": "<div>\n<style scoped>\n    .dataframe tbody tr th:only-of-type {\n        vertical-align: middle;\n    }\n\n    .dataframe tbody tr th {\n        vertical-align: top;\n    }\n\n    .dataframe thead th {\n        text-align: right;\n    }\n</style>\n<table border=\"1\" class=\"dataframe\">\n  <thead>\n    <tr style=\"text-align: right;\">\n      <th></th>\n      <th>Name</th>\n      <th>Address</th>\n      <th>Location</th>\n      <th>Price</th>\n      <th>Cuisine</th>\n      <th>Longitude</th>\n      <th>Latitude</th>\n      <th>PhoneNumber</th>\n      <th>Url</th>\n      <th>WebsiteUrl</th>\n      <th>Award</th>\n      <th>FacilitiesAndServices</th>\n    </tr>\n  </thead>\n  <tbody>\n    <tr>\n      <th>0</th>\n      <td>noma</td>\n      <td>Refshalevej 96, Copenhagen, 1432 K, Denmark</td>\n      <td>Copenhagen, Denmark</td>\n      <td>€€€€</td>\n      <td>Creative</td>\n      <td>12.610618</td>\n      <td>55.683312</td>\n      <td>4.532963e+09</td>\n      <td>https://guide.michelin.com/en/capital-region/c...</td>\n      <td>https://noma.dk</td>\n      <td>3 MICHELIN Stars</td>\n      <td>American Express credit card,Credit card / Deb...</td>\n    </tr>\n    <tr>\n      <th>1</th>\n      <td>Maaemo</td>\n      <td>Dronning Eufemias gate 23, Oslo, 0194, Norway</td>\n      <td>Oslo, Norway</td>\n      <td>€€€€</td>\n      <td>Modern Cuisine, Creative</td>\n      <td>10.758636</td>\n      <td>59.907529</td>\n      <td>4.722180e+09</td>\n      <td>https://guide.michelin.com/en/oslo-region/oslo...</td>\n      <td>http://www.maaemo.no</td>\n      <td>3 MICHELIN Stars</td>\n      <td>Air conditioning,American Express credit card,...</td>\n    </tr>\n    <tr>\n      <th>2</th>\n      <td>Frantzén</td>\n      <td>Klara Norra Kyrkogata 26, Stockholm, 111 22, S...</td>\n      <td>Stockholm, Sweden</td>\n      <td>€€€€</td>\n      <td>Modern Cuisine</td>\n      <td>18.059757</td>\n      <td>59.334167</td>\n      <td>4.682086e+08</td>\n      <td>https://guide.michelin.com/en/stockholm-region...</td>\n      <td>https://www.restaurantfrantzen.com/</td>\n      <td>3 MICHELIN Stars</td>\n      <td>Air conditioning,American Express credit card,...</td>\n    </tr>\n    <tr>\n      <th>3</th>\n      <td>Geranium</td>\n      <td>Per Henrik Lings Allé, Parken National Stadium...</td>\n      <td>Copenhagen, Denmark</td>\n      <td>€€€€</td>\n      <td>Creative, Contemporary</td>\n      <td>12.572529</td>\n      <td>55.704085</td>\n      <td>4.569960e+09</td>\n      <td>https://guide.michelin.com/en/capital-region/c...</td>\n      <td>https://www.geranium.dk/</td>\n      <td>3 MICHELIN Stars</td>\n      <td>Air conditioning,American Express credit card,...</td>\n    </tr>\n    <tr>\n      <th>4</th>\n      <td>Ta Vie</td>\n      <td>2F, The Pottinger Hotel, 21 Stanley Street, Ho...</td>\n      <td>Hong Kong</td>\n      <td>$$$$</td>\n      <td>Innovative</td>\n      <td>114.155290</td>\n      <td>22.282766</td>\n      <td>8.522669e+10</td>\n      <td>https://guide.michelin.com/en/hong-kong-region...</td>\n      <td>https://www.tavie.com.hk</td>\n      <td>3 MICHELIN Stars</td>\n      <td>Air conditioning,American Express credit card,...</td>\n    </tr>\n    <tr>\n      <th>5</th>\n      <td>Caprice</td>\n      <td>6F, Four Seasons Hotel, 8 Finance Street, Hong...</td>\n      <td>Hong Kong</td>\n      <td>$$$$</td>\n      <td>French Contemporary</td>\n      <td>114.159050</td>\n      <td>22.285715</td>\n      <td>8.523197e+10</td>\n      <td>https://guide.michelin.com/en/hong-kong-region...</td>\n      <td>https://www.fourseasons.com/hongkong</td>\n      <td>3 MICHELIN Stars</td>\n      <td>Air conditioning,American Express credit card,...</td>\n    </tr>\n    <tr>\n      <th>6</th>\n      <td>Sushi Shikon</td>\n      <td>7F, The Landmark Mandarin Oriental Hotel, 15 Q...</td>\n      <td>Hong Kong</td>\n      <td>$$$$</td>\n      <td>Sushi</td>\n      <td>114.157416</td>\n      <td>22.280857</td>\n      <td>8.522644e+10</td>\n      <td>https://guide.michelin.com/en/hong-kong-region...</td>\n      <td>https://sushi-shikon.com</td>\n      <td>3 MICHELIN Stars</td>\n      <td>Air conditioning,American Express credit card,...</td>\n    </tr>\n    <tr>\n      <th>7</th>\n      <td>T'ang Court</td>\n      <td>1-2F, The Langham Hotel, 8 Peking Road, Hong Kong</td>\n      <td>Hong Kong</td>\n      <td>$$$</td>\n      <td>Cantonese</td>\n      <td>114.169800</td>\n      <td>22.296572</td>\n      <td>8.522133e+10</td>\n      <td>https://guide.michelin.com/en/hong-kong-region...</td>\n      <td>https://www.langhamhotels.com/en/the-langham/h...</td>\n      <td>3 MICHELIN Stars</td>\n      <td>Air conditioning,American Express credit card,...</td>\n    </tr>\n    <tr>\n      <th>8</th>\n      <td>Robuchon au Dôme</td>\n      <td>43F, Grand Lisboa Hotel, Avenida de Lisboa, Macau</td>\n      <td>Macau</td>\n      <td>$$$$</td>\n      <td>French Contemporary</td>\n      <td>113.543950</td>\n      <td>22.189949</td>\n      <td>8.538804e+10</td>\n      <td>https://guide.michelin.com/en/macau-region/mac...</td>\n      <td>https://www.grandlisboahotels.com</td>\n      <td>3 MICHELIN Stars</td>\n      <td>Air conditioning,American Express credit card,...</td>\n    </tr>\n    <tr>\n      <th>9</th>\n      <td>8 1/2 Otto e Mezzo - Bombana</td>\n      <td>Shop 202, 2F, Alexandra House, 18 Chater Road,...</td>\n      <td>Hong Kong</td>\n      <td>$$$$</td>\n      <td>Italian</td>\n      <td>114.158670</td>\n      <td>22.281464</td>\n      <td>8.522538e+10</td>\n      <td>https://guide.michelin.com/en/hong-kong-region...</td>\n      <td>https://www.ottoemezzobombana.com</td>\n      <td>3 MICHELIN Stars</td>\n      <td>Air conditioning,American Express credit card,...</td>\n    </tr>\n  </tbody>\n</table>\n</div>"
     },
     "execution_count": 2,
     "metadata": {},
     "output_type": "execute_result"
    }
   ],
   "source": [
    "michelin = pd.read_csv(\"../data/Michelin/michelin_data_2023.csv\")\n",
    "michelin.head(10)"
   ],
   "metadata": {
    "collapsed": false,
    "ExecuteTime": {
     "end_time": "2024-04-24T16:44:51.306920Z",
     "start_time": "2024-04-24T16:44:51.220041Z"
    }
   }
  },
  {
   "cell_type": "code",
   "execution_count": 3,
   "outputs": [
    {
     "name": "stdout",
     "output_type": "stream",
     "text": [
      "Columns:\n",
      "['Name', 'Address', 'Location', 'Price', 'Cuisine', 'Longitude', 'Latitude', 'PhoneNumber', 'Url', 'WebsiteUrl', 'Award', 'FacilitiesAndServices']\n"
     ]
    }
   ],
   "source": [
    "print(f\"Columns:\\n{michelin.columns.to_list()}\")"
   ],
   "metadata": {
    "collapsed": false,
    "ExecuteTime": {
     "end_time": "2024-04-24T16:45:33.462056Z",
     "start_time": "2024-04-24T16:45:33.452670Z"
    }
   }
  },
  {
   "cell_type": "markdown",
   "source": [
    "We aim to plot the coordinates on a map and search for population density correlation and compare UK and France.\n",
    "\n",
    "We drop `Url`, `PhoneNumber` and `FacilitiesAndService`. `Url` could perhaps become useful"
   ],
   "metadata": {
    "collapsed": false
   }
  },
  {
   "cell_type": "code",
   "execution_count": 4,
   "outputs": [
    {
     "data": {
      "text/plain": "       Name                                            Address  \\\n0      noma        Refshalevej 96, Copenhagen, 1432 K, Denmark   \n1    Maaemo      Dronning Eufemias gate 23, Oslo, 0194, Norway   \n2  Frantzén  Klara Norra Kyrkogata 26, Stockholm, 111 22, S...   \n3  Geranium  Per Henrik Lings Allé, Parken National Stadium...   \n4    Ta Vie  2F, The Pottinger Hotel, 21 Stanley Street, Ho...   \n\n              Location Price                   Cuisine  \\\n0  Copenhagen, Denmark  €€€€                  Creative   \n1         Oslo, Norway  €€€€  Modern Cuisine, Creative   \n2    Stockholm, Sweden  €€€€            Modern Cuisine   \n3  Copenhagen, Denmark  €€€€    Creative, Contemporary   \n4            Hong Kong  $$$$                Innovative   \n\n                            WebsiteUrl             Award   Longitude  \\\n0                      https://noma.dk  3 MICHELIN Stars   12.610618   \n1                 http://www.maaemo.no  3 MICHELIN Stars   10.758636   \n2  https://www.restaurantfrantzen.com/  3 MICHELIN Stars   18.059757   \n3             https://www.geranium.dk/  3 MICHELIN Stars   12.572529   \n4             https://www.tavie.com.hk  3 MICHELIN Stars  114.155290   \n\n    Latitude  \n0  55.683312  \n1  59.907529  \n2  59.334167  \n3  55.704085  \n4  22.282766  ",
      "text/html": "<div>\n<style scoped>\n    .dataframe tbody tr th:only-of-type {\n        vertical-align: middle;\n    }\n\n    .dataframe tbody tr th {\n        vertical-align: top;\n    }\n\n    .dataframe thead th {\n        text-align: right;\n    }\n</style>\n<table border=\"1\" class=\"dataframe\">\n  <thead>\n    <tr style=\"text-align: right;\">\n      <th></th>\n      <th>Name</th>\n      <th>Address</th>\n      <th>Location</th>\n      <th>Price</th>\n      <th>Cuisine</th>\n      <th>WebsiteUrl</th>\n      <th>Award</th>\n      <th>Longitude</th>\n      <th>Latitude</th>\n    </tr>\n  </thead>\n  <tbody>\n    <tr>\n      <th>0</th>\n      <td>noma</td>\n      <td>Refshalevej 96, Copenhagen, 1432 K, Denmark</td>\n      <td>Copenhagen, Denmark</td>\n      <td>€€€€</td>\n      <td>Creative</td>\n      <td>https://noma.dk</td>\n      <td>3 MICHELIN Stars</td>\n      <td>12.610618</td>\n      <td>55.683312</td>\n    </tr>\n    <tr>\n      <th>1</th>\n      <td>Maaemo</td>\n      <td>Dronning Eufemias gate 23, Oslo, 0194, Norway</td>\n      <td>Oslo, Norway</td>\n      <td>€€€€</td>\n      <td>Modern Cuisine, Creative</td>\n      <td>http://www.maaemo.no</td>\n      <td>3 MICHELIN Stars</td>\n      <td>10.758636</td>\n      <td>59.907529</td>\n    </tr>\n    <tr>\n      <th>2</th>\n      <td>Frantzén</td>\n      <td>Klara Norra Kyrkogata 26, Stockholm, 111 22, S...</td>\n      <td>Stockholm, Sweden</td>\n      <td>€€€€</td>\n      <td>Modern Cuisine</td>\n      <td>https://www.restaurantfrantzen.com/</td>\n      <td>3 MICHELIN Stars</td>\n      <td>18.059757</td>\n      <td>59.334167</td>\n    </tr>\n    <tr>\n      <th>3</th>\n      <td>Geranium</td>\n      <td>Per Henrik Lings Allé, Parken National Stadium...</td>\n      <td>Copenhagen, Denmark</td>\n      <td>€€€€</td>\n      <td>Creative, Contemporary</td>\n      <td>https://www.geranium.dk/</td>\n      <td>3 MICHELIN Stars</td>\n      <td>12.572529</td>\n      <td>55.704085</td>\n    </tr>\n    <tr>\n      <th>4</th>\n      <td>Ta Vie</td>\n      <td>2F, The Pottinger Hotel, 21 Stanley Street, Ho...</td>\n      <td>Hong Kong</td>\n      <td>$$$$</td>\n      <td>Innovative</td>\n      <td>https://www.tavie.com.hk</td>\n      <td>3 MICHELIN Stars</td>\n      <td>114.155290</td>\n      <td>22.282766</td>\n    </tr>\n  </tbody>\n</table>\n</div>"
     },
     "execution_count": 4,
     "metadata": {},
     "output_type": "execute_result"
    }
   ],
   "source": [
    "michelin = michelin[['Name', 'Address', 'Location', 'Price', 'Cuisine', 'WebsiteUrl', 'Award', 'Longitude', 'Latitude']]\n",
    "michelin.head()"
   ],
   "metadata": {
    "collapsed": false,
    "ExecuteTime": {
     "end_time": "2024-04-24T16:45:36.071485Z",
     "start_time": "2024-04-24T16:45:36.059386Z"
    }
   }
  },
  {
   "cell_type": "code",
   "execution_count": 5,
   "outputs": [],
   "source": [
    "# Columns are converted to lowercase for convenience\n",
    "michelin.columns = michelin.columns.str.lower()"
   ],
   "metadata": {
    "collapsed": false,
    "ExecuteTime": {
     "end_time": "2024-04-24T16:45:38.926839Z",
     "start_time": "2024-04-24T16:45:38.922561Z"
    }
   }
  },
  {
   "cell_type": "code",
   "execution_count": 6,
   "outputs": [
    {
     "name": "stdout",
     "output_type": "stream",
     "text": [
      "Columns:\n",
      "['name', 'address', 'location', 'price', 'cuisine', 'url', 'award', 'longitude', 'latitude']\n"
     ]
    }
   ],
   "source": [
    "michelin.rename({'websiteurl': 'url'}, axis=1, inplace=True)\n",
    "print(f\"Columns:\\n{michelin.columns.tolist()}\")"
   ],
   "metadata": {
    "collapsed": false,
    "ExecuteTime": {
     "end_time": "2024-04-24T16:45:41.052617Z",
     "start_time": "2024-04-24T16:45:41.045064Z"
    }
   }
  },
  {
   "cell_type": "code",
   "execution_count": 7,
   "outputs": [
    {
     "name": "stdout",
     "output_type": "stream",
     "text": [
      "<class 'pandas.core.frame.DataFrame'>\n",
      "RangeIndex: 6832 entries, 0 to 6831\n",
      "Data columns (total 9 columns):\n",
      " #   Column     Non-Null Count  Dtype  \n",
      "---  ------     --------------  -----  \n",
      " 0   name       6832 non-null   object \n",
      " 1   address    6832 non-null   object \n",
      " 2   location   6832 non-null   object \n",
      " 3   price      6783 non-null   object \n",
      " 4   cuisine    6832 non-null   object \n",
      " 5   url        5557 non-null   object \n",
      " 6   award      6832 non-null   object \n",
      " 7   longitude  6832 non-null   float64\n",
      " 8   latitude   6832 non-null   float64\n",
      "dtypes: float64(2), object(7)\n",
      "memory usage: 480.5+ KB\n"
     ]
    }
   ],
   "source": [
    "michelin.info()"
   ],
   "metadata": {
    "collapsed": false,
    "ExecuteTime": {
     "end_time": "2024-04-24T16:45:43.167538Z",
     "start_time": "2024-04-24T16:45:43.154615Z"
    }
   }
  },
  {
   "cell_type": "markdown",
   "source": [
    "There exist missing values which will be dealt with once partitioned by location"
   ],
   "metadata": {
    "collapsed": false
   }
  },
  {
   "cell_type": "markdown",
   "source": [
    "Range of values for specific columns"
   ],
   "metadata": {
    "collapsed": false
   }
  },
  {
   "cell_type": "code",
   "execution_count": 8,
   "outputs": [
    {
     "name": "stdout",
     "output_type": "stream",
     "text": [
      "\n",
      "Unique names: ['noma' 'Maaemo' 'Frantzén' ... 'Zazie' 'Butchery & Wine' 'alewino']\n",
      "Total Unique: 6687 values\n",
      "\n",
      "Unique addresss: ['Refshalevej 96, Copenhagen, 1432 K, Denmark'\n",
      " 'Dronning Eufemias gate 23, Oslo, 0194, Norway'\n",
      " 'Klara Norra Kyrkogata 26, Stockholm, 111 22, Sweden' ...\n",
      " 'ul. Józefa 34, Cracow, 32 056, Poland'\n",
      " 'ul. Żurawia 22, Warsaw, 00 515, Poland'\n",
      " 'ul. Mokotowska 48, Warsaw, 00 543, Poland']\n",
      "Total Unique: 6706 values\n",
      "\n",
      "Unique locations: ['Copenhagen, Denmark' 'Oslo, Norway' 'Stockholm, Sweden' ...\n",
      " 'Almuñécar, Spain' 'Vitoria-Gasteiz, Spain' 'Warsaw, Poland']\n",
      "Total Unique: 2645 values\n",
      "\n",
      "Unique prices: ['€€€€' '$$$$' '$$$' '££££' '¥¥¥' '¥¥¥¥' '₩₩₩₩' '$$' '€€€' '¥¥' '฿฿฿฿'\n",
      " '₺₺₺₺' nan '€€' '₫₫' '₫₫₫₫' '£££' '££' '฿฿฿' '฿฿' '¥' '₩₩₩' '₺₺' '₺₺₺'\n",
      " '$' '€' '₫' '£' '฿' '₩' '₩₩' '₺']\n",
      "Total Unique: 32 values\n",
      "\n",
      "Unique awards: ['3 MICHELIN Stars' '2 MICHELIN Stars' '1 MICHELIN Star' 'Bib Gourmand']\n",
      "Total Unique: 4 values\n"
     ]
    }
   ],
   "source": [
    "ignore = ['longitude', 'latitude', 'url', 'cuisine']\n",
    "\n",
    "for column in michelin:\n",
    "    if column in ignore:\n",
    "        pass\n",
    "    else:\n",
    "        print(f\"\\nUnique {column}s: {michelin[column].unique()}\\nTotal Unique: {len(michelin[column].unique())} values\")"
   ],
   "metadata": {
    "collapsed": false,
    "ExecuteTime": {
     "end_time": "2024-04-24T16:45:47.376811Z",
     "start_time": "2024-04-24T16:45:47.364799Z"
    }
   }
  },
  {
   "cell_type": "markdown",
   "source": [
    "----\n",
    "&nbsp;\n",
    "## Separate `location` column\n",
    "\n",
    "- `country` column. eg, 'USA'\n",
    "- `city` column. eg, 'San Fransisco'\n",
    "\n",
    "`location` is comma separated \"country, city\""
   ],
   "metadata": {
    "collapsed": false
   }
  },
  {
   "cell_type": "code",
   "execution_count": 9,
   "outputs": [
    {
     "data": {
      "text/plain": "['Hong Kong', 'Macau', 'Singapore', 'Dubai', 'Luxembourg', 'Abu Dhabi']"
     },
     "execution_count": 9,
     "metadata": {},
     "output_type": "execute_result"
    }
   ],
   "source": [
    "# Are there non-comma separated entries in `location`?\n",
    "no_comma = michelin[~michelin['location'].str.contains(',')]\n",
    "no_comma['location'].unique().tolist()"
   ],
   "metadata": {
    "collapsed": false,
    "ExecuteTime": {
     "end_time": "2024-04-24T16:45:51.270293Z",
     "start_time": "2024-04-24T16:45:51.261091Z"
    }
   }
  },
  {
   "cell_type": "markdown",
   "source": [
    "These are all 'city states' or principalities."
   ],
   "metadata": {
    "collapsed": false
   }
  },
  {
   "cell_type": "code",
   "execution_count": 10,
   "outputs": [],
   "source": [
    "# Create a dictionary for special cases\n",
    "special_cases = {'Hong Kong': 'Hong Kong, Hong Kong SAR China',\n",
    "                 'Macau': 'Macau, Macau SAR China',\n",
    "                 'Singapore': 'Singapore, Singapore',\n",
    "                 'Dubai': 'Dubai, United Arab Emirates',\n",
    "                 'Luxembourg': 'Luxembourg, Luxembourg',\n",
    "                 'Abu Dhabi': 'Abu Dhabi, United Arab Emirates'}"
   ],
   "metadata": {
    "collapsed": false,
    "ExecuteTime": {
     "end_time": "2024-04-24T16:45:53.782692Z",
     "start_time": "2024-04-24T16:45:53.776053Z"
    }
   }
  },
  {
   "cell_type": "code",
   "execution_count": 11,
   "outputs": [],
   "source": [
    "# Apply special cases to the 'location' column\n",
    "michelin['location'] = michelin['location'].replace(special_cases)\n",
    "\n",
    "# Now split the 'location' column\n",
    "locations = michelin['location'].str.split(',', expand=True)\n",
    "locations.columns = ['city', 'country']\n",
    "\n",
    "# Remove leading or trailing whitespace from 'city' and 'country' columns\n",
    "locations['city'] = locations['city'].str.strip()\n",
    "locations['country'] = locations['country'].str.strip()\n",
    "\n",
    "# Replace the original 'location' column with the new 'country' and 'city' columns\n",
    "michelin = michelin.drop('location', axis=1).join(locations)"
   ],
   "metadata": {
    "collapsed": false,
    "ExecuteTime": {
     "end_time": "2024-04-24T16:45:56.155984Z",
     "start_time": "2024-04-24T16:45:56.126899Z"
    }
   }
  },
  {
   "cell_type": "code",
   "execution_count": 12,
   "outputs": [
    {
     "name": "stdout",
     "output_type": "stream",
     "text": [
      "New Columns: ['name', 'address', 'price', 'cuisine', 'url', 'award', 'longitude', 'latitude', 'city', 'country']\n"
     ]
    }
   ],
   "source": [
    "print(f\"New Columns: {michelin.columns.tolist()}\")"
   ],
   "metadata": {
    "collapsed": false,
    "ExecuteTime": {
     "end_time": "2024-04-24T16:45:57.949545Z",
     "start_time": "2024-04-24T16:45:57.943851Z"
    }
   }
  },
  {
   "cell_type": "code",
   "execution_count": 13,
   "outputs": [
    {
     "name": "stdout",
     "output_type": "stream",
     "text": [
      "Unique Countries: ['Denmark' 'Norway' 'Sweden' 'Hong Kong SAR China' 'Macau SAR China'\n",
      " 'Netherlands' 'Germany' 'United Kingdom' 'Belgium' 'France' 'Austria'\n",
      " 'China Mainland' 'USA' 'Spain' 'Japan' 'Italy' 'Switzerland'\n",
      " 'South Korea' 'Taiwan' 'Singapore' 'Finland' 'Estonia'\n",
      " 'United Arab Emirates' 'Ireland' 'Luxembourg' 'Thailand' 'Portugal'\n",
      " 'Hungary' 'Türkiye' 'Greece' 'Canada' 'Slovenia' 'Brazil' 'Iceland'\n",
      " 'Vietnam' 'Malta' 'Malaysia' 'Andorra' 'Croatia' 'Czech Republic'\n",
      " 'Poland' 'Serbia']\n",
      "Total Unique = 42 values\n"
     ]
    }
   ],
   "source": [
    "print(f\"Unique Countries: {michelin['country'].unique()}\"\n",
    "      f\"\\nTotal Unique = {len(michelin['country'].unique())} values\")"
   ],
   "metadata": {
    "collapsed": false,
    "ExecuteTime": {
     "end_time": "2024-04-24T16:46:00.435270Z",
     "start_time": "2024-04-24T16:46:00.427823Z"
    }
   }
  },
  {
   "cell_type": "code",
   "execution_count": 14,
   "outputs": [
    {
     "name": "stdout",
     "output_type": "stream",
     "text": [
      "Unique Cities: ['Copenhagen' 'Oslo' 'Stockholm' ... 'Almuñécar' 'Vitoria-Gasteiz'\n",
      " 'Warsaw']\n",
      "Total Unique = 2642 values\n"
     ]
    }
   ],
   "source": [
    "print(f\"Unique Cities: {michelin['city'].unique()}\"\n",
    "      f\"\\nTotal Unique = {len(michelin['city'].unique())} values\")"
   ],
   "metadata": {
    "collapsed": false,
    "ExecuteTime": {
     "end_time": "2024-04-24T16:46:03.050813Z",
     "start_time": "2024-04-24T16:46:03.042125Z"
    }
   }
  },
  {
   "cell_type": "code",
   "execution_count": 15,
   "outputs": [
    {
     "data": {
      "text/plain": "       name                                            address        city  \\\n0      noma        Refshalevej 96, Copenhagen, 1432 K, Denmark  Copenhagen   \n1    Maaemo      Dronning Eufemias gate 23, Oslo, 0194, Norway        Oslo   \n2  Frantzén  Klara Norra Kyrkogata 26, Stockholm, 111 22, S...   Stockholm   \n3  Geranium  Per Henrik Lings Allé, Parken National Stadium...  Copenhagen   \n4    Ta Vie  2F, The Pottinger Hotel, 21 Stanley Street, Ho...   Hong Kong   \n\n               country price                   cuisine  \\\n0              Denmark  €€€€                  Creative   \n1               Norway  €€€€  Modern Cuisine, Creative   \n2               Sweden  €€€€            Modern Cuisine   \n3              Denmark  €€€€    Creative, Contemporary   \n4  Hong Kong SAR China  $$$$                Innovative   \n\n                                   url             award   longitude  \\\n0                      https://noma.dk  3 MICHELIN Stars   12.610618   \n1                 http://www.maaemo.no  3 MICHELIN Stars   10.758636   \n2  https://www.restaurantfrantzen.com/  3 MICHELIN Stars   18.059757   \n3             https://www.geranium.dk/  3 MICHELIN Stars   12.572529   \n4             https://www.tavie.com.hk  3 MICHELIN Stars  114.155290   \n\n    latitude  \n0  55.683312  \n1  59.907529  \n2  59.334167  \n3  55.704085  \n4  22.282766  ",
      "text/html": "<div>\n<style scoped>\n    .dataframe tbody tr th:only-of-type {\n        vertical-align: middle;\n    }\n\n    .dataframe tbody tr th {\n        vertical-align: top;\n    }\n\n    .dataframe thead th {\n        text-align: right;\n    }\n</style>\n<table border=\"1\" class=\"dataframe\">\n  <thead>\n    <tr style=\"text-align: right;\">\n      <th></th>\n      <th>name</th>\n      <th>address</th>\n      <th>city</th>\n      <th>country</th>\n      <th>price</th>\n      <th>cuisine</th>\n      <th>url</th>\n      <th>award</th>\n      <th>longitude</th>\n      <th>latitude</th>\n    </tr>\n  </thead>\n  <tbody>\n    <tr>\n      <th>0</th>\n      <td>noma</td>\n      <td>Refshalevej 96, Copenhagen, 1432 K, Denmark</td>\n      <td>Copenhagen</td>\n      <td>Denmark</td>\n      <td>€€€€</td>\n      <td>Creative</td>\n      <td>https://noma.dk</td>\n      <td>3 MICHELIN Stars</td>\n      <td>12.610618</td>\n      <td>55.683312</td>\n    </tr>\n    <tr>\n      <th>1</th>\n      <td>Maaemo</td>\n      <td>Dronning Eufemias gate 23, Oslo, 0194, Norway</td>\n      <td>Oslo</td>\n      <td>Norway</td>\n      <td>€€€€</td>\n      <td>Modern Cuisine, Creative</td>\n      <td>http://www.maaemo.no</td>\n      <td>3 MICHELIN Stars</td>\n      <td>10.758636</td>\n      <td>59.907529</td>\n    </tr>\n    <tr>\n      <th>2</th>\n      <td>Frantzén</td>\n      <td>Klara Norra Kyrkogata 26, Stockholm, 111 22, S...</td>\n      <td>Stockholm</td>\n      <td>Sweden</td>\n      <td>€€€€</td>\n      <td>Modern Cuisine</td>\n      <td>https://www.restaurantfrantzen.com/</td>\n      <td>3 MICHELIN Stars</td>\n      <td>18.059757</td>\n      <td>59.334167</td>\n    </tr>\n    <tr>\n      <th>3</th>\n      <td>Geranium</td>\n      <td>Per Henrik Lings Allé, Parken National Stadium...</td>\n      <td>Copenhagen</td>\n      <td>Denmark</td>\n      <td>€€€€</td>\n      <td>Creative, Contemporary</td>\n      <td>https://www.geranium.dk/</td>\n      <td>3 MICHELIN Stars</td>\n      <td>12.572529</td>\n      <td>55.704085</td>\n    </tr>\n    <tr>\n      <th>4</th>\n      <td>Ta Vie</td>\n      <td>2F, The Pottinger Hotel, 21 Stanley Street, Ho...</td>\n      <td>Hong Kong</td>\n      <td>Hong Kong SAR China</td>\n      <td>$$$$</td>\n      <td>Innovative</td>\n      <td>https://www.tavie.com.hk</td>\n      <td>3 MICHELIN Stars</td>\n      <td>114.155290</td>\n      <td>22.282766</td>\n    </tr>\n  </tbody>\n</table>\n</div>"
     },
     "execution_count": 15,
     "metadata": {},
     "output_type": "execute_result"
    }
   ],
   "source": [
    "michelin = michelin[['name', 'address', 'city', 'country', 'price', 'cuisine', 'url', 'award', 'longitude', 'latitude']]\n",
    "michelin.head()"
   ],
   "metadata": {
    "collapsed": false,
    "ExecuteTime": {
     "end_time": "2024-04-24T16:46:05.713513Z",
     "start_time": "2024-04-24T16:46:05.699206Z"
    }
   }
  },
  {
   "cell_type": "markdown",
   "source": [
    "----\n",
    "\n",
    "## `awards` columns\n",
    "\n",
    "In the Michelin dataset, we have a column named 'awards' that designates the level of recognition a restaurant has achieved according to Michelin's rating system. These awards are '3 MICHELIN Stars', '2 MICHELIN Stars', '1 MICHELIN Star', and 'Bib Gourmand', which is a different award for good quality, good value restaurants.\n",
    "\n",
    "However, in order to make the analysis more tractable and to create a more uniform scale, we transform these awards into numerical values. This transformation will allow us to perform quantitative analysis and make mathematical computations with this data, which wouldn't be possible with the original textual data.\n",
    "\n",
    "The '3 MICHELIN Stars', '2 MICHELIN Stars', and '1 MICHELIN Star' awards are straightforwardly transformed into the numerical values 3, 2, and 1, respectively. However, the 'Bib Gourmand' award doesn't fit directly into this star system. In consideration of the prestige and value attached to this award, we've decided to map 'Bib Gourmand' to the value 0.5. It's important to note that this decision, while somewhat arbitrary, is made with the understanding that the 'Bib Gourmand' recognizes a different aspect of restaurant quality and is not strictly comparable to the star awards."
   ],
   "metadata": {
    "collapsed": false
   }
  },
  {
   "cell_type": "code",
   "execution_count": 16,
   "outputs": [],
   "source": [
    "award_dict = {'3 MICHELIN Stars': 3, '2 MICHELIN Stars': 2, '1 MICHELIN Star': 1, 'Bib Gourmand': 0.5}\n",
    "michelin['stars'] = michelin['award'].replace(award_dict)"
   ],
   "metadata": {
    "collapsed": false,
    "ExecuteTime": {
     "end_time": "2024-04-24T16:46:10.598833Z",
     "start_time": "2024-04-24T16:46:10.588086Z"
    }
   }
  },
  {
   "cell_type": "code",
   "execution_count": 17,
   "outputs": [],
   "source": [
    "cols = michelin.columns.tolist()\n",
    "\n",
    "cols.remove('stars')\n",
    "# insert 'stars' at the desired position next to 'award' which we retain\n",
    "cols.insert(-2, 'stars')\n",
    "\n",
    "# reindex the DataFrame\n",
    "michelin = michelin.reindex(columns=cols)"
   ],
   "metadata": {
    "collapsed": false,
    "ExecuteTime": {
     "end_time": "2024-04-24T16:46:13.290860Z",
     "start_time": "2024-04-24T16:46:13.277079Z"
    }
   }
  },
  {
   "cell_type": "code",
   "execution_count": 18,
   "outputs": [
    {
     "name": "stdout",
     "output_type": "stream",
     "text": [
      "<class 'pandas.core.frame.DataFrame'>\n",
      "RangeIndex: 6832 entries, 0 to 6831\n",
      "Data columns (total 11 columns):\n",
      " #   Column     Non-Null Count  Dtype  \n",
      "---  ------     --------------  -----  \n",
      " 0   name       6832 non-null   object \n",
      " 1   address    6832 non-null   object \n",
      " 2   city       6832 non-null   object \n",
      " 3   country    6832 non-null   object \n",
      " 4   price      6783 non-null   object \n",
      " 5   cuisine    6832 non-null   object \n",
      " 6   url        5557 non-null   object \n",
      " 7   award      6832 non-null   object \n",
      " 8   stars      6832 non-null   float64\n",
      " 9   longitude  6832 non-null   float64\n",
      " 10  latitude   6832 non-null   float64\n",
      "dtypes: float64(3), object(8)\n",
      "memory usage: 587.2+ KB\n"
     ]
    }
   ],
   "source": [
    "michelin.info()"
   ],
   "metadata": {
    "collapsed": false,
    "ExecuteTime": {
     "end_time": "2024-04-24T16:46:15.242979Z",
     "start_time": "2024-04-24T16:46:15.222864Z"
    }
   }
  },
  {
   "cell_type": "markdown",
   "source": [
    "----\n",
    "&nbsp;\n",
    "## `price` column\n",
    "\n",
    "There is also the price column to organise which lists a number of different currencies. It is unclear if, for example, $ refers to USD, HKD etc..\n",
    "\n",
    "This attribute is easier to deal with piecewise by country"
   ],
   "metadata": {
    "collapsed": false
   }
  },
  {
   "cell_type": "markdown",
   "source": [
    "----\n",
    "&nbsp;\n",
    "## Export `UK` and `France` datasets for further analysis"
   ],
   "metadata": {
    "collapsed": false
   }
  },
  {
   "cell_type": "code",
   "execution_count": 19,
   "outputs": [
    {
     "data": {
      "text/plain": "                                   name  \\\n25  Sketch (The Lecture Room & Library)   \n26                            L'Enclume   \n27      Alain Ducasse at The Dorchester   \n28      Hélène Darroze at The Connaught   \n29                             Fat Duck   \n\n                                              address     city  \\\n25  9 Conduit Street, London, W1S 2XG, United Kingdom   London   \n26  Cavendish Street, Cartmel, LA11 6PZ, United Ki...  Cartmel   \n27         Park Lane, London, W1K 1QA, United Kingdom   London   \n28      Carlos Place, London, W1K 2AL, United Kingdom   London   \n29         High Street, Bray, SL6 2AQ, United Kingdom     Bray   \n\n           country price           cuisine  \\\n25  United Kingdom  ££££     Modern French   \n26  United Kingdom  ££££  Creative British   \n27  United Kingdom  ££££            French   \n28  United Kingdom  ££££    Modern Cuisine   \n29  United Kingdom  ££££          Creative   \n\n                                                  url             award  \\\n25                             https://sketch.london/  3 MICHELIN Stars   \n26                        https://www.lenclume.co.uk/  3 MICHELIN Stars   \n27           https://www.alainducasse-dorchester.com/  3 MICHELIN Stars   \n28  https://www.the-connaught.co.uk/restaurants-ba...  3 MICHELIN Stars   \n29                          https://thefatduck.co.uk/  3 MICHELIN Stars   \n\n    stars  longitude   latitude  \n25    3.0  -0.141537  51.512678  \n26    3.0  -2.953857  54.201725  \n27    3.0  -0.152575  51.507338  \n28    3.0  -0.149290  51.510188  \n29    3.0  -0.701753  51.507858  ",
      "text/html": "<div>\n<style scoped>\n    .dataframe tbody tr th:only-of-type {\n        vertical-align: middle;\n    }\n\n    .dataframe tbody tr th {\n        vertical-align: top;\n    }\n\n    .dataframe thead th {\n        text-align: right;\n    }\n</style>\n<table border=\"1\" class=\"dataframe\">\n  <thead>\n    <tr style=\"text-align: right;\">\n      <th></th>\n      <th>name</th>\n      <th>address</th>\n      <th>city</th>\n      <th>country</th>\n      <th>price</th>\n      <th>cuisine</th>\n      <th>url</th>\n      <th>award</th>\n      <th>stars</th>\n      <th>longitude</th>\n      <th>latitude</th>\n    </tr>\n  </thead>\n  <tbody>\n    <tr>\n      <th>25</th>\n      <td>Sketch (The Lecture Room &amp; Library)</td>\n      <td>9 Conduit Street, London, W1S 2XG, United Kingdom</td>\n      <td>London</td>\n      <td>United Kingdom</td>\n      <td>££££</td>\n      <td>Modern French</td>\n      <td>https://sketch.london/</td>\n      <td>3 MICHELIN Stars</td>\n      <td>3.0</td>\n      <td>-0.141537</td>\n      <td>51.512678</td>\n    </tr>\n    <tr>\n      <th>26</th>\n      <td>L'Enclume</td>\n      <td>Cavendish Street, Cartmel, LA11 6PZ, United Ki...</td>\n      <td>Cartmel</td>\n      <td>United Kingdom</td>\n      <td>££££</td>\n      <td>Creative British</td>\n      <td>https://www.lenclume.co.uk/</td>\n      <td>3 MICHELIN Stars</td>\n      <td>3.0</td>\n      <td>-2.953857</td>\n      <td>54.201725</td>\n    </tr>\n    <tr>\n      <th>27</th>\n      <td>Alain Ducasse at The Dorchester</td>\n      <td>Park Lane, London, W1K 1QA, United Kingdom</td>\n      <td>London</td>\n      <td>United Kingdom</td>\n      <td>££££</td>\n      <td>French</td>\n      <td>https://www.alainducasse-dorchester.com/</td>\n      <td>3 MICHELIN Stars</td>\n      <td>3.0</td>\n      <td>-0.152575</td>\n      <td>51.507338</td>\n    </tr>\n    <tr>\n      <th>28</th>\n      <td>Hélène Darroze at The Connaught</td>\n      <td>Carlos Place, London, W1K 2AL, United Kingdom</td>\n      <td>London</td>\n      <td>United Kingdom</td>\n      <td>££££</td>\n      <td>Modern Cuisine</td>\n      <td>https://www.the-connaught.co.uk/restaurants-ba...</td>\n      <td>3 MICHELIN Stars</td>\n      <td>3.0</td>\n      <td>-0.149290</td>\n      <td>51.510188</td>\n    </tr>\n    <tr>\n      <th>29</th>\n      <td>Fat Duck</td>\n      <td>High Street, Bray, SL6 2AQ, United Kingdom</td>\n      <td>Bray</td>\n      <td>United Kingdom</td>\n      <td>££££</td>\n      <td>Creative</td>\n      <td>https://thefatduck.co.uk/</td>\n      <td>3 MICHELIN Stars</td>\n      <td>3.0</td>\n      <td>-0.701753</td>\n      <td>51.507858</td>\n    </tr>\n  </tbody>\n</table>\n</div>"
     },
     "execution_count": 19,
     "metadata": {},
     "output_type": "execute_result"
    }
   ],
   "source": [
    "# Filter the DataFrame for records where country == 'UK'\n",
    "uk_data = michelin[michelin['country'] == 'United Kingdom']\n",
    "uk_data.head()"
   ],
   "metadata": {
    "collapsed": false,
    "ExecuteTime": {
     "end_time": "2024-04-24T16:46:20.837729Z",
     "start_time": "2024-04-24T16:46:20.813909Z"
    }
   }
  },
  {
   "cell_type": "code",
   "execution_count": 20,
   "outputs": [],
   "source": [
    "# Export the UK data to a csv file\n",
    "uk_data.to_csv('../data/UK/uk_data.csv', index=False)"
   ],
   "metadata": {
    "collapsed": false,
    "ExecuteTime": {
     "end_time": "2024-04-24T16:46:33.805521Z",
     "start_time": "2024-04-24T16:46:33.785520Z"
    }
   }
  },
  {
   "cell_type": "code",
   "execution_count": 22,
   "outputs": [
    {
     "data": {
      "text/plain": "                                      name  \\\n36  La Vague d'Or - Cheval Blanc St-Tropez   \n37                 René et Maxime Meilleur   \n38                                     Kei   \n39                  Auberge du Vieux Puits   \n40                 Régis et Jacques Marcon   \n\n                                              address  \\\n36  Plage de la Bouillabaisse, Saint-Tropez, 83990...   \n37  Hameau de  Saint-Marcel, Saint-Martin-de-Belle...   \n38           5 rue du Coq-Héron, Paris, 75001, France   \n39  5 avenue Saint-Victor, Fontjoncouse, 11360, Fr...   \n40   Larsiallas, Saint-Bonnet-le-Froid, 43290, France   \n\n                          city country price                     cuisine  \\\n36                Saint-Tropez  France  €€€€    Creative, Modern Cuisine   \n37  Saint-Martin-de-Belleville  France  €€€€  Creative, Regional Cuisine   \n38                       Paris  France  €€€€    Modern Cuisine, Creative   \n39                Fontjoncouse  France  €€€€                    Creative   \n40       Saint-Bonnet-le-Froid  France  €€€€                    Creative   \n\n                                                 url             award  stars  \\\n36  https://www.chevalblanc.com/fr/maison/st-tropez/  3 MICHELIN Stars    3.0   \n37                    https://www.la-bouitte.com/fr/  3 MICHELIN Stars    3.0   \n38                    https://www.restaurant-kei.fr/  3 MICHELIN Stars    3.0   \n39            https://www.aubergeduvieuxpuits.fr/fr/  3 MICHELIN Stars    3.0   \n40                  https://www.lesmaisonsmarcon.fr/  3 MICHELIN Stars    3.0   \n\n    longitude   latitude  \n36   6.626154  43.266585  \n37   6.513306  45.369046  \n38   2.342285  48.864395  \n39   2.789329  43.048173  \n40   4.434268  45.138673  ",
      "text/html": "<div>\n<style scoped>\n    .dataframe tbody tr th:only-of-type {\n        vertical-align: middle;\n    }\n\n    .dataframe tbody tr th {\n        vertical-align: top;\n    }\n\n    .dataframe thead th {\n        text-align: right;\n    }\n</style>\n<table border=\"1\" class=\"dataframe\">\n  <thead>\n    <tr style=\"text-align: right;\">\n      <th></th>\n      <th>name</th>\n      <th>address</th>\n      <th>city</th>\n      <th>country</th>\n      <th>price</th>\n      <th>cuisine</th>\n      <th>url</th>\n      <th>award</th>\n      <th>stars</th>\n      <th>longitude</th>\n      <th>latitude</th>\n    </tr>\n  </thead>\n  <tbody>\n    <tr>\n      <th>36</th>\n      <td>La Vague d'Or - Cheval Blanc St-Tropez</td>\n      <td>Plage de la Bouillabaisse, Saint-Tropez, 83990...</td>\n      <td>Saint-Tropez</td>\n      <td>France</td>\n      <td>€€€€</td>\n      <td>Creative, Modern Cuisine</td>\n      <td>https://www.chevalblanc.com/fr/maison/st-tropez/</td>\n      <td>3 MICHELIN Stars</td>\n      <td>3.0</td>\n      <td>6.626154</td>\n      <td>43.266585</td>\n    </tr>\n    <tr>\n      <th>37</th>\n      <td>René et Maxime Meilleur</td>\n      <td>Hameau de  Saint-Marcel, Saint-Martin-de-Belle...</td>\n      <td>Saint-Martin-de-Belleville</td>\n      <td>France</td>\n      <td>€€€€</td>\n      <td>Creative, Regional Cuisine</td>\n      <td>https://www.la-bouitte.com/fr/</td>\n      <td>3 MICHELIN Stars</td>\n      <td>3.0</td>\n      <td>6.513306</td>\n      <td>45.369046</td>\n    </tr>\n    <tr>\n      <th>38</th>\n      <td>Kei</td>\n      <td>5 rue du Coq-Héron, Paris, 75001, France</td>\n      <td>Paris</td>\n      <td>France</td>\n      <td>€€€€</td>\n      <td>Modern Cuisine, Creative</td>\n      <td>https://www.restaurant-kei.fr/</td>\n      <td>3 MICHELIN Stars</td>\n      <td>3.0</td>\n      <td>2.342285</td>\n      <td>48.864395</td>\n    </tr>\n    <tr>\n      <th>39</th>\n      <td>Auberge du Vieux Puits</td>\n      <td>5 avenue Saint-Victor, Fontjoncouse, 11360, Fr...</td>\n      <td>Fontjoncouse</td>\n      <td>France</td>\n      <td>€€€€</td>\n      <td>Creative</td>\n      <td>https://www.aubergeduvieuxpuits.fr/fr/</td>\n      <td>3 MICHELIN Stars</td>\n      <td>3.0</td>\n      <td>2.789329</td>\n      <td>43.048173</td>\n    </tr>\n    <tr>\n      <th>40</th>\n      <td>Régis et Jacques Marcon</td>\n      <td>Larsiallas, Saint-Bonnet-le-Froid, 43290, France</td>\n      <td>Saint-Bonnet-le-Froid</td>\n      <td>France</td>\n      <td>€€€€</td>\n      <td>Creative</td>\n      <td>https://www.lesmaisonsmarcon.fr/</td>\n      <td>3 MICHELIN Stars</td>\n      <td>3.0</td>\n      <td>4.434268</td>\n      <td>45.138673</td>\n    </tr>\n  </tbody>\n</table>\n</div>"
     },
     "execution_count": 22,
     "metadata": {},
     "output_type": "execute_result"
    }
   ],
   "source": [
    "# Filter the DataFrame for records where country == 'France'\n",
    "france_data = michelin[michelin['country'] == 'France']\n",
    "france_data.head()"
   ],
   "metadata": {
    "collapsed": false,
    "ExecuteTime": {
     "end_time": "2024-04-24T16:48:07.581279Z",
     "start_time": "2024-04-24T16:48:07.551614Z"
    }
   }
  },
  {
   "cell_type": "code",
   "execution_count": 23,
   "outputs": [],
   "source": [
    "# Define and export Monaco\n",
    "monaco = france_data[france_data['city'] == 'Monaco']\n",
    "monaco.to_csv('../data/France/monaco.csv', index=False)"
   ],
   "metadata": {
    "collapsed": false,
    "ExecuteTime": {
     "end_time": "2024-04-24T16:48:10.191417Z",
     "start_time": "2024-04-24T16:48:10.185595Z"
    }
   }
  },
  {
   "cell_type": "markdown",
   "source": [
    "We remove Monaco from metropolitan France"
   ],
   "metadata": {
    "collapsed": false
   }
  },
  {
   "cell_type": "code",
   "execution_count": 24,
   "outputs": [
    {
     "data": {
      "text/plain": "(1033, 11)"
     },
     "execution_count": 24,
     "metadata": {},
     "output_type": "execute_result"
    }
   ],
   "source": [
    "france_data = france_data[france_data['city'] != 'Monaco']\n",
    "france_data.shape"
   ],
   "metadata": {
    "collapsed": false,
    "ExecuteTime": {
     "end_time": "2024-04-24T16:48:12.642489Z",
     "start_time": "2024-04-24T16:48:12.625195Z"
    }
   }
  },
  {
   "cell_type": "code",
   "execution_count": 25,
   "outputs": [],
   "source": [
    "# Export the France data to a csv file\n",
    "france_data.to_csv('../data/France/france_master.csv', index=False)"
   ],
   "metadata": {
    "collapsed": false,
    "ExecuteTime": {
     "end_time": "2024-04-24T16:48:16.636476Z",
     "start_time": "2024-04-24T16:48:16.605479Z"
    }
   }
  },
  {
   "cell_type": "markdown",
   "source": [
    "----\n",
    "&nbsp;\n",
    "## Restaurants could be further partitioned by country from this point"
   ],
   "metadata": {
    "collapsed": false
   }
  }
 ],
 "metadata": {
  "kernelspec": {
   "display_name": "Python 3",
   "language": "python",
   "name": "python3"
  },
  "language_info": {
   "codemirror_mode": {
    "name": "ipython",
    "version": 2
   },
   "file_extension": ".py",
   "mimetype": "text/x-python",
   "name": "python",
   "nbconvert_exporter": "python",
   "pygments_lexer": "ipython2",
   "version": "2.7.6"
  }
 },
 "nbformat": 4,
 "nbformat_minor": 0
}
