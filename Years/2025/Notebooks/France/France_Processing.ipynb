{
 "cells": [
  {
   "cell_type": "markdown",
   "source": [
    "# Michelin Rated Restaurants in France - Processing"
   ],
   "metadata": {
    "collapsed": false
   }
  },
  {
   "cell_type": "code",
   "metadata": {
    "collapsed": true,
    "ExecuteTime": {
     "end_time": "2025-04-01T16:03:52.361053Z",
     "start_time": "2025-04-01T16:03:49.734007Z"
    }
   },
   "source": [
    "# Module import (comprehensive for entire notebook)\n",
    "import pandas as pd\n",
    "import numpy as np\n",
    "import matplotlib as mpl\n",
    "import matplotlib.pyplot as plt\n",
    "import matplotlib.patches as mpatches\n",
    "import geopandas as gpd\n",
    "import mapclassify\n",
    "import folium\n",
    "import branca"
   ],
   "outputs": [],
   "execution_count": 1
  },
  {
   "cell_type": "markdown",
   "source": [
    "----\n",
    "&nbsp;\n",
    "## Import the French dataset"
   ],
   "metadata": {
    "collapsed": false
   }
  },
  {
   "cell_type": "code",
   "source": [
    "france = pd.read_csv(\"../../data/France/france_master_2025.csv\")\n",
    "france.head()"
   ],
   "metadata": {
    "collapsed": false,
    "ExecuteTime": {
     "end_time": "2025-04-01T16:04:01.416065Z",
     "start_time": "2025-04-01T16:04:01.396301Z"
    }
   },
   "outputs": [
    {
     "data": {
      "text/plain": [
       "             name                                            address    city  \\\n",
       "0     L'Ambroisie           9 place des Vosges, Paris, 75004, France   Paris   \n",
       "1  Flocons de Sel  1775 route du Leutaz, Le Leutaz, Megève, 74120...  Megève   \n",
       "2         Épicure  Le Bristol, 112 rue du Faubourg-Saint-Honoré, ...   Paris   \n",
       "3          Arpège            84 rue de Varenne, Paris, 75007, France   Paris   \n",
       "4  Le Pré Catelan  Route de Suresnes - bois de Boulogne, Paris, 7...   Paris   \n",
       "\n",
       "  country price                 cuisine  \\\n",
       "0  France  €€€€         Classic Cuisine   \n",
       "1  France  €€€€          Modern Cuisine   \n",
       "2  France  €€€€          Modern Cuisine   \n",
       "3  France  €€€€                Creative   \n",
       "4  France  €€€€  Creative, Contemporary   \n",
       "\n",
       "                                                 url    award  greenstar  \\\n",
       "0                   https://www.ambroisie-paris.com/  3 Stars          0   \n",
       "1                       https://www.floconsdesel.com  3 Stars          0   \n",
       "2  https://www.oetkercollection.com/fr/hotels/le-...  3 Stars          0   \n",
       "3                     https://www.alain-passard.com/  3 Stars          1   \n",
       "4                      https://www.leprecatelan.com/  3 Stars          0   \n",
       "\n",
       "   stars  longitude   latitude  \n",
       "0    3.0   2.364521  48.855494  \n",
       "1    3.0   6.596963  45.830240  \n",
       "2    3.0   2.314598  48.871722  \n",
       "3    3.0   2.317013  48.855754  \n",
       "4    3.0   2.250718  48.863937  "
      ],
      "text/html": [
       "<div>\n",
       "<style scoped>\n",
       "    .dataframe tbody tr th:only-of-type {\n",
       "        vertical-align: middle;\n",
       "    }\n",
       "\n",
       "    .dataframe tbody tr th {\n",
       "        vertical-align: top;\n",
       "    }\n",
       "\n",
       "    .dataframe thead th {\n",
       "        text-align: right;\n",
       "    }\n",
       "</style>\n",
       "<table border=\"1\" class=\"dataframe\">\n",
       "  <thead>\n",
       "    <tr style=\"text-align: right;\">\n",
       "      <th></th>\n",
       "      <th>name</th>\n",
       "      <th>address</th>\n",
       "      <th>city</th>\n",
       "      <th>country</th>\n",
       "      <th>price</th>\n",
       "      <th>cuisine</th>\n",
       "      <th>url</th>\n",
       "      <th>award</th>\n",
       "      <th>greenstar</th>\n",
       "      <th>stars</th>\n",
       "      <th>longitude</th>\n",
       "      <th>latitude</th>\n",
       "    </tr>\n",
       "  </thead>\n",
       "  <tbody>\n",
       "    <tr>\n",
       "      <th>0</th>\n",
       "      <td>L'Ambroisie</td>\n",
       "      <td>9 place des Vosges, Paris, 75004, France</td>\n",
       "      <td>Paris</td>\n",
       "      <td>France</td>\n",
       "      <td>€€€€</td>\n",
       "      <td>Classic Cuisine</td>\n",
       "      <td>https://www.ambroisie-paris.com/</td>\n",
       "      <td>3 Stars</td>\n",
       "      <td>0</td>\n",
       "      <td>3.0</td>\n",
       "      <td>2.364521</td>\n",
       "      <td>48.855494</td>\n",
       "    </tr>\n",
       "    <tr>\n",
       "      <th>1</th>\n",
       "      <td>Flocons de Sel</td>\n",
       "      <td>1775 route du Leutaz, Le Leutaz, Megève, 74120...</td>\n",
       "      <td>Megève</td>\n",
       "      <td>France</td>\n",
       "      <td>€€€€</td>\n",
       "      <td>Modern Cuisine</td>\n",
       "      <td>https://www.floconsdesel.com</td>\n",
       "      <td>3 Stars</td>\n",
       "      <td>0</td>\n",
       "      <td>3.0</td>\n",
       "      <td>6.596963</td>\n",
       "      <td>45.830240</td>\n",
       "    </tr>\n",
       "    <tr>\n",
       "      <th>2</th>\n",
       "      <td>Épicure</td>\n",
       "      <td>Le Bristol, 112 rue du Faubourg-Saint-Honoré, ...</td>\n",
       "      <td>Paris</td>\n",
       "      <td>France</td>\n",
       "      <td>€€€€</td>\n",
       "      <td>Modern Cuisine</td>\n",
       "      <td>https://www.oetkercollection.com/fr/hotels/le-...</td>\n",
       "      <td>3 Stars</td>\n",
       "      <td>0</td>\n",
       "      <td>3.0</td>\n",
       "      <td>2.314598</td>\n",
       "      <td>48.871722</td>\n",
       "    </tr>\n",
       "    <tr>\n",
       "      <th>3</th>\n",
       "      <td>Arpège</td>\n",
       "      <td>84 rue de Varenne, Paris, 75007, France</td>\n",
       "      <td>Paris</td>\n",
       "      <td>France</td>\n",
       "      <td>€€€€</td>\n",
       "      <td>Creative</td>\n",
       "      <td>https://www.alain-passard.com/</td>\n",
       "      <td>3 Stars</td>\n",
       "      <td>1</td>\n",
       "      <td>3.0</td>\n",
       "      <td>2.317013</td>\n",
       "      <td>48.855754</td>\n",
       "    </tr>\n",
       "    <tr>\n",
       "      <th>4</th>\n",
       "      <td>Le Pré Catelan</td>\n",
       "      <td>Route de Suresnes - bois de Boulogne, Paris, 7...</td>\n",
       "      <td>Paris</td>\n",
       "      <td>France</td>\n",
       "      <td>€€€€</td>\n",
       "      <td>Creative, Contemporary</td>\n",
       "      <td>https://www.leprecatelan.com/</td>\n",
       "      <td>3 Stars</td>\n",
       "      <td>0</td>\n",
       "      <td>3.0</td>\n",
       "      <td>2.250718</td>\n",
       "      <td>48.863937</td>\n",
       "    </tr>\n",
       "  </tbody>\n",
       "</table>\n",
       "</div>"
      ]
     },
     "execution_count": 2,
     "metadata": {},
     "output_type": "execute_result"
    }
   ],
   "execution_count": 2
  },
  {
   "cell_type": "code",
   "source": [
    "# We change 'city' to 'location'\n",
    "france.rename(columns={'city': 'location'}, inplace=True)"
   ],
   "metadata": {
    "collapsed": false,
    "ExecuteTime": {
     "end_time": "2025-04-01T16:04:22.400523Z",
     "start_time": "2025-04-01T16:04:22.398013Z"
    }
   },
   "outputs": [],
   "execution_count": 3
  },
  {
   "cell_type": "code",
   "source": [
    "print(f\"Shape of DataFrame: {france.shape}\")\n",
    "print(f\"Unique Locations: {len(france['location'].unique())}\")\n",
    "print(f\"Columns:\\n{france.columns.unique().tolist()}\")"
   ],
   "metadata": {
    "collapsed": false,
    "ExecuteTime": {
     "end_time": "2025-04-01T16:04:24.986015Z",
     "start_time": "2025-04-01T16:04:24.983017Z"
    }
   },
   "outputs": [
    {
     "name": "stdout",
     "output_type": "stream",
     "text": [
      "Shape of DataFrame: (2985, 12)\n",
      "Unique Locations: 1400\n",
      "Columns:\n",
      "['name', 'address', 'location', 'country', 'price', 'cuisine', 'url', 'award', 'greenstar', 'stars', 'longitude', 'latitude']\n"
     ]
    }
   ],
   "execution_count": 4
  },
  {
   "cell_type": "code",
   "source": [
    "print(france.info())"
   ],
   "metadata": {
    "collapsed": false,
    "ExecuteTime": {
     "end_time": "2025-04-01T16:04:38.768950Z",
     "start_time": "2025-04-01T16:04:38.754812Z"
    }
   },
   "outputs": [
    {
     "name": "stdout",
     "output_type": "stream",
     "text": [
      "<class 'pandas.core.frame.DataFrame'>\n",
      "RangeIndex: 2985 entries, 0 to 2984\n",
      "Data columns (total 12 columns):\n",
      " #   Column     Non-Null Count  Dtype  \n",
      "---  ------     --------------  -----  \n",
      " 0   name       2985 non-null   object \n",
      " 1   address    2985 non-null   object \n",
      " 2   location   2985 non-null   object \n",
      " 3   country    2985 non-null   object \n",
      " 4   price      2985 non-null   object \n",
      " 5   cuisine    2985 non-null   object \n",
      " 6   url        2831 non-null   object \n",
      " 7   award      2985 non-null   object \n",
      " 8   greenstar  2985 non-null   int64  \n",
      " 9   stars      2985 non-null   float64\n",
      " 10  longitude  2985 non-null   float64\n",
      " 11  latitude   2985 non-null   float64\n",
      "dtypes: float64(3), int64(1), object(8)\n",
      "memory usage: 280.0+ KB\n",
      "None\n"
     ]
    }
   ],
   "execution_count": 5
  },
  {
   "cell_type": "markdown",
   "source": [
    "----\n",
    "&nbsp;\n",
    "## Restaurant Locations Visualisation"
   ],
   "metadata": {
    "collapsed": false
   }
  },
  {
   "cell_type": "code",
   "source": [
    "france.plot(kind='scatter', x='longitude', y='latitude', alpha=0.2)"
   ],
   "metadata": {
    "collapsed": false,
    "ExecuteTime": {
     "end_time": "2025-04-01T16:04:46.012704Z",
     "start_time": "2025-04-01T16:04:45.912226Z"
    }
   },
   "outputs": [
    {
     "data": {
      "text/plain": [
       "<Axes: xlabel='longitude', ylabel='latitude'>"
      ]
     },
     "execution_count": 6,
     "metadata": {},
     "output_type": "execute_result"
    },
    {
     "data": {
      "text/plain": [
       "<Figure size 640x480 with 1 Axes>"
      ],
      "image/png": "[encoded data removed]"
     },
     "metadata": {},
     "output_type": "display_data"
    }
   ],
   "execution_count": 6
  },
  {
   "cell_type": "markdown",
   "source": [
    "The datapoints trace the map of France quite well!\n",
    "\n",
    "There are clusters in the Côte d'Azur, following the Rhone, the German border and in Paris"
   ],
   "metadata": {
    "collapsed": false
   }
  },
  {
   "cell_type": "markdown",
   "source": [
    "----\n",
    "&nbsp;\n",
    "## Partitioning the data regionally.\n",
    "\n",
    "#### Creating new columns `department` & `region`"
   ],
   "metadata": {
    "collapsed": false
   }
  },
  {
   "cell_type": "markdown",
   "source": [
    "We import the `departments.csv` data which was created in `Data_preparation.ipynb`"
   ],
   "metadata": {
    "collapsed": false
   }
  },
  {
   "cell_type": "code",
   "source": [
    "departments = pd.read_csv(\"../../../../ExtraData/Demographics/departments.csv\")\n",
    "departments.head()"
   ],
   "metadata": {
    "collapsed": false,
    "ExecuteTime": {
     "end_time": "2025-04-01T16:04:52.162454Z",
     "start_time": "2025-04-01T16:04:52.155842Z"
    }
   },
   "outputs": [
    {
     "data": {
      "text/plain": [
       "  department_num               department          capital  \\\n",
       "0             01                      Ain  Bourg-en-Bresse   \n",
       "1             02                    Aisne             Laon   \n",
       "2             03                   Allier          Moulins   \n",
       "3             04  Alpes-de-Haute-Provence  Digne-les-Bains   \n",
       "4             05             Hautes-Alpes              Gap   \n",
       "\n",
       "                       region  \n",
       "0        Auvergne-Rhône-Alpes  \n",
       "1             Hauts-de-France  \n",
       "2        Auvergne-Rhône-Alpes  \n",
       "3  Provence-Alpes-Côte d'Azur  \n",
       "4  Provence-Alpes-Côte d'Azur  "
      ],
      "text/html": [
       "<div>\n",
       "<style scoped>\n",
       "    .dataframe tbody tr th:only-of-type {\n",
       "        vertical-align: middle;\n",
       "    }\n",
       "\n",
       "    .dataframe tbody tr th {\n",
       "        vertical-align: top;\n",
       "    }\n",
       "\n",
       "    .dataframe thead th {\n",
       "        text-align: right;\n",
       "    }\n",
       "</style>\n",
       "<table border=\"1\" class=\"dataframe\">\n",
       "  <thead>\n",
       "    <tr style=\"text-align: right;\">\n",
       "      <th></th>\n",
       "      <th>department_num</th>\n",
       "      <th>department</th>\n",
       "      <th>capital</th>\n",
       "      <th>region</th>\n",
       "    </tr>\n",
       "  </thead>\n",
       "  <tbody>\n",
       "    <tr>\n",
       "      <th>0</th>\n",
       "      <td>01</td>\n",
       "      <td>Ain</td>\n",
       "      <td>Bourg-en-Bresse</td>\n",
       "      <td>Auvergne-Rhône-Alpes</td>\n",
       "    </tr>\n",
       "    <tr>\n",
       "      <th>1</th>\n",
       "      <td>02</td>\n",
       "      <td>Aisne</td>\n",
       "      <td>Laon</td>\n",
       "      <td>Hauts-de-France</td>\n",
       "    </tr>\n",
       "    <tr>\n",
       "      <th>2</th>\n",
       "      <td>03</td>\n",
       "      <td>Allier</td>\n",
       "      <td>Moulins</td>\n",
       "      <td>Auvergne-Rhône-Alpes</td>\n",
       "    </tr>\n",
       "    <tr>\n",
       "      <th>3</th>\n",
       "      <td>04</td>\n",
       "      <td>Alpes-de-Haute-Provence</td>\n",
       "      <td>Digne-les-Bains</td>\n",
       "      <td>Provence-Alpes-Côte d'Azur</td>\n",
       "    </tr>\n",
       "    <tr>\n",
       "      <th>4</th>\n",
       "      <td>05</td>\n",
       "      <td>Hautes-Alpes</td>\n",
       "      <td>Gap</td>\n",
       "      <td>Provence-Alpes-Côte d'Azur</td>\n",
       "    </tr>\n",
       "  </tbody>\n",
       "</table>\n",
       "</div>"
      ]
     },
     "execution_count": 7,
     "metadata": {},
     "output_type": "execute_result"
    }
   ],
   "execution_count": 7
  },
  {
   "cell_type": "markdown",
   "source": [
    "We create a copy of `france_data` and extract the first two digits of code postal in `address`"
   ],
   "metadata": {
    "collapsed": false
   }
  },
  {
   "cell_type": "code",
   "source": [
    "france_data = france.copy()\n",
    "france_data['department_num'] = france_data['address'].str.extract(r'(\\b\\d{5}\\b)', expand=False).str[:2]"
   ],
   "metadata": {
    "collapsed": false,
    "ExecuteTime": {
     "end_time": "2025-04-01T16:04:58.359726Z",
     "start_time": "2025-04-01T16:04:58.349001Z"
    }
   },
   "outputs": [],
   "execution_count": 8
  },
  {
   "cell_type": "code",
   "source": [
    "france_data = france_data.merge(departments, on='department_num', how='left')\n",
    "print(france_data.columns.tolist())"
   ],
   "metadata": {
    "collapsed": false,
    "ExecuteTime": {
     "end_time": "2025-04-01T16:05:02.325675Z",
     "start_time": "2025-04-01T16:05:02.319100Z"
    }
   },
   "outputs": [
    {
     "name": "stdout",
     "output_type": "stream",
     "text": [
      "['name', 'address', 'location', 'country', 'price', 'cuisine', 'url', 'award', 'greenstar', 'stars', 'longitude', 'latitude', 'department_num', 'department', 'capital', 'region']\n"
     ]
    }
   ],
   "execution_count": 9
  },
  {
   "cell_type": "code",
   "source": [
    "france_data = france_data[['name', 'address', 'location', 'department_num', 'department', 'capital', 'region', 'country',\n",
    "                           'price', 'cuisine', 'url', 'award', 'stars', 'greenstar', 'longitude', 'latitude']]\n",
    "france_data.head()"
   ],
   "metadata": {
    "collapsed": false,
    "ExecuteTime": {
     "end_time": "2025-04-01T16:05:07.878553Z",
     "start_time": "2025-04-01T16:05:07.869204Z"
    }
   },
   "outputs": [
    {
     "data": {
      "text/plain": [
       "             name                                            address location  \\\n",
       "0     L'Ambroisie           9 place des Vosges, Paris, 75004, France    Paris   \n",
       "1  Flocons de Sel  1775 route du Leutaz, Le Leutaz, Megève, 74120...   Megève   \n",
       "2         Épicure  Le Bristol, 112 rue du Faubourg-Saint-Honoré, ...    Paris   \n",
       "3          Arpège            84 rue de Varenne, Paris, 75007, France    Paris   \n",
       "4  Le Pré Catelan  Route de Suresnes - bois de Boulogne, Paris, 7...    Paris   \n",
       "\n",
       "  department_num    department capital                region country price  \\\n",
       "0             75         Paris   Paris         Île-de-France  France  €€€€   \n",
       "1             74  Haute-Savoie  Annecy  Auvergne-Rhône-Alpes  France  €€€€   \n",
       "2             75         Paris   Paris         Île-de-France  France  €€€€   \n",
       "3             75         Paris   Paris         Île-de-France  France  €€€€   \n",
       "4             75         Paris   Paris         Île-de-France  France  €€€€   \n",
       "\n",
       "                  cuisine                                                url  \\\n",
       "0         Classic Cuisine                   https://www.ambroisie-paris.com/   \n",
       "1          Modern Cuisine                       https://www.floconsdesel.com   \n",
       "2          Modern Cuisine  https://www.oetkercollection.com/fr/hotels/le-...   \n",
       "3                Creative                     https://www.alain-passard.com/   \n",
       "4  Creative, Contemporary                      https://www.leprecatelan.com/   \n",
       "\n",
       "     award  stars  greenstar  longitude   latitude  \n",
       "0  3 Stars    3.0          0   2.364521  48.855494  \n",
       "1  3 Stars    3.0          0   6.596963  45.830240  \n",
       "2  3 Stars    3.0          0   2.314598  48.871722  \n",
       "3  3 Stars    3.0          1   2.317013  48.855754  \n",
       "4  3 Stars    3.0          0   2.250718  48.863937  "
      ],
      "text/html": [
       "<div>\n",
       "<style scoped>\n",
       "    .dataframe tbody tr th:only-of-type {\n",
       "        vertical-align: middle;\n",
       "    }\n",
       "\n",
       "    .dataframe tbody tr th {\n",
       "        vertical-align: top;\n",
       "    }\n",
       "\n",
       "    .dataframe thead th {\n",
       "        text-align: right;\n",
       "    }\n",
       "</style>\n",
       "<table border=\"1\" class=\"dataframe\">\n",
       "  <thead>\n",
       "    <tr style=\"text-align: right;\">\n",
       "      <th></th>\n",
       "      <th>name</th>\n",
       "      <th>address</th>\n",
       "      <th>location</th>\n",
       "      <th>department_num</th>\n",
       "      <th>department</th>\n",
       "      <th>capital</th>\n",
       "      <th>region</th>\n",
       "      <th>country</th>\n",
       "      <th>price</th>\n",
       "      <th>cuisine</th>\n",
       "      <th>url</th>\n",
       "      <th>award</th>\n",
       "      <th>stars</th>\n",
       "      <th>greenstar</th>\n",
       "      <th>longitude</th>\n",
       "      <th>latitude</th>\n",
       "    </tr>\n",
       "  </thead>\n",
       "  <tbody>\n",
       "    <tr>\n",
       "      <th>0</th>\n",
       "      <td>L'Ambroisie</td>\n",
       "      <td>9 place des Vosges, Paris, 75004, France</td>\n",
       "      <td>Paris</td>\n",
       "      <td>75</td>\n",
       "      <td>Paris</td>\n",
       "      <td>Paris</td>\n",
       "      <td>Île-de-France</td>\n",
       "      <td>France</td>\n",
       "      <td>€€€€</td>\n",
       "      <td>Classic Cuisine</td>\n",
       "      <td>https://www.ambroisie-paris.com/</td>\n",
       "      <td>3 Stars</td>\n",
       "      <td>3.0</td>\n",
       "      <td>0</td>\n",
       "      <td>2.364521</td>\n",
       "      <td>48.855494</td>\n",
       "    </tr>\n",
       "    <tr>\n",
       "      <th>1</th>\n",
       "      <td>Flocons de Sel</td>\n",
       "      <td>1775 route du Leutaz, Le Leutaz, Megève, 74120...</td>\n",
       "      <td>Megève</td>\n",
       "      <td>74</td>\n",
       "      <td>Haute-Savoie</td>\n",
       "      <td>Annecy</td>\n",
       "      <td>Auvergne-Rhône-Alpes</td>\n",
       "      <td>France</td>\n",
       "      <td>€€€€</td>\n",
       "      <td>Modern Cuisine</td>\n",
       "      <td>https://www.floconsdesel.com</td>\n",
       "      <td>3 Stars</td>\n",
       "      <td>3.0</td>\n",
       "      <td>0</td>\n",
       "      <td>6.596963</td>\n",
       "      <td>45.830240</td>\n",
       "    </tr>\n",
       "    <tr>\n",
       "      <th>2</th>\n",
       "      <td>Épicure</td>\n",
       "      <td>Le Bristol, 112 rue du Faubourg-Saint-Honoré, ...</td>\n",
       "      <td>Paris</td>\n",
       "      <td>75</td>\n",
       "      <td>Paris</td>\n",
       "      <td>Paris</td>\n",
       "      <td>Île-de-France</td>\n",
       "      <td>France</td>\n",
       "      <td>€€€€</td>\n",
       "      <td>Modern Cuisine</td>\n",
       "      <td>https://www.oetkercollection.com/fr/hotels/le-...</td>\n",
       "      <td>3 Stars</td>\n",
       "      <td>3.0</td>\n",
       "      <td>0</td>\n",
       "      <td>2.314598</td>\n",
       "      <td>48.871722</td>\n",
       "    </tr>\n",
       "    <tr>\n",
       "      <th>3</th>\n",
       "      <td>Arpège</td>\n",
       "      <td>84 rue de Varenne, Paris, 75007, France</td>\n",
       "      <td>Paris</td>\n",
       "      <td>75</td>\n",
       "      <td>Paris</td>\n",
       "      <td>Paris</td>\n",
       "      <td>Île-de-France</td>\n",
       "      <td>France</td>\n",
       "      <td>€€€€</td>\n",
       "      <td>Creative</td>\n",
       "      <td>https://www.alain-passard.com/</td>\n",
       "      <td>3 Stars</td>\n",
       "      <td>3.0</td>\n",
       "      <td>1</td>\n",
       "      <td>2.317013</td>\n",
       "      <td>48.855754</td>\n",
       "    </tr>\n",
       "    <tr>\n",
       "      <th>4</th>\n",
       "      <td>Le Pré Catelan</td>\n",
       "      <td>Route de Suresnes - bois de Boulogne, Paris, 7...</td>\n",
       "      <td>Paris</td>\n",
       "      <td>75</td>\n",
       "      <td>Paris</td>\n",
       "      <td>Paris</td>\n",
       "      <td>Île-de-France</td>\n",
       "      <td>France</td>\n",
       "      <td>€€€€</td>\n",
       "      <td>Creative, Contemporary</td>\n",
       "      <td>https://www.leprecatelan.com/</td>\n",
       "      <td>3 Stars</td>\n",
       "      <td>3.0</td>\n",
       "      <td>0</td>\n",
       "      <td>2.250718</td>\n",
       "      <td>48.863937</td>\n",
       "    </tr>\n",
       "  </tbody>\n",
       "</table>\n",
       "</div>"
      ]
     },
     "execution_count": 10,
     "metadata": {},
     "output_type": "execute_result"
    }
   ],
   "execution_count": 10
  },
  {
   "cell_type": "markdown",
   "source": [
    "----\n",
    "&nbsp;\n",
    "### Amendments to the address and location formatting"
   ],
   "metadata": {
    "collapsed": false
   }
  },
  {
   "cell_type": "code",
   "source": [
    "# Check for addresses without a comma or with more than 3 commas (indicating more than 4 fields)\n",
    "incorrect_format = france_data[~france_data['address'].str.count(',').isin([1, 2, 3])]"
   ],
   "metadata": {
    "collapsed": false,
    "ExecuteTime": {
     "end_time": "2025-04-01T16:05:20.253764Z",
     "start_time": "2025-04-01T16:05:20.246205Z"
    }
   },
   "outputs": [],
   "execution_count": 11
  },
  {
   "cell_type": "code",
   "source": [
    "# Print out number addresses that don't match the expected format\n",
    "if not incorrect_format.empty:\n",
    "    print(f\"Addresses with unexpected format: {len(incorrect_format['address'])}\")"
   ],
   "metadata": {
    "collapsed": false,
    "ExecuteTime": {
     "end_time": "2025-04-01T16:05:22.795936Z",
     "start_time": "2025-04-01T16:05:22.792053Z"
    }
   },
   "outputs": [
    {
     "name": "stdout",
     "output_type": "stream",
     "text": [
      "Addresses with unexpected format: 234\n"
     ]
    }
   ],
   "execution_count": 12
  },
  {
   "cell_type": "markdown",
   "source": [
    "There exist a few addresses with multiple lines proceeding a standard form, \"location\", \"postal code\", \"France\""
   ],
   "metadata": {
    "collapsed": false
   }
  },
  {
   "cell_type": "code",
   "source": [
    "def process_address(addr):\n",
    "    # Split the address by commas and strip whitespace\n",
    "    parts = [part.strip() for part in addr.split(',')]\n",
    "\n",
    "    # If there are not enough parts, just return the original\n",
    "    if len(parts) < 4:\n",
    "        return addr, None, None\n",
    "\n",
    "    # Extract the postal code and city\n",
    "    postal_code = parts[-2]\n",
    "    location = parts[-3]\n",
    "\n",
    "    # Form the main address by joining the remaining parts (excluding postal code, city, and country)\n",
    "    main_address = ', '.join(parts[:-3])\n",
    "\n",
    "    return main_address, location, postal_code"
   ],
   "metadata": {
    "collapsed": false,
    "ExecuteTime": {
     "end_time": "2025-04-01T16:05:27.921251Z",
     "start_time": "2025-04-01T16:05:27.917681Z"
    }
   },
   "outputs": [],
   "execution_count": 13
  },
  {
   "cell_type": "code",
   "source": [
    "# Apply the function to the DataFrame\n",
    "addresses, locations, postal_codes = zip(*france_data['address'].apply(process_address))\n",
    "\n",
    "france_data['address'] = addresses\n",
    "france_data['location'] = [f\"{location}, {postal_code}\" for location, postal_code in zip(locations, postal_codes)]"
   ],
   "metadata": {
    "collapsed": false,
    "ExecuteTime": {
     "end_time": "2025-04-01T16:05:30.889462Z",
     "start_time": "2025-04-01T16:05:30.881834Z"
    }
   },
   "outputs": [],
   "execution_count": 14
  },
  {
   "cell_type": "code",
   "source": [
    "france_data.head()"
   ],
   "metadata": {
    "collapsed": false,
    "ExecuteTime": {
     "end_time": "2025-04-01T16:05:33.039820Z",
     "start_time": "2025-04-01T16:05:33.033934Z"
    }
   },
   "outputs": [
    {
     "data": {
      "text/plain": [
       "             name                                       address  \\\n",
       "0     L'Ambroisie                            9 place des Vosges   \n",
       "1  Flocons de Sel               1775 route du Leutaz, Le Leutaz   \n",
       "2         Épicure  Le Bristol, 112 rue du Faubourg-Saint-Honoré   \n",
       "3          Arpège                             84 rue de Varenne   \n",
       "4  Le Pré Catelan          Route de Suresnes - bois de Boulogne   \n",
       "\n",
       "        location department_num    department capital                region  \\\n",
       "0   Paris, 75004             75         Paris   Paris         Île-de-France   \n",
       "1  Megève, 74120             74  Haute-Savoie  Annecy  Auvergne-Rhône-Alpes   \n",
       "2   Paris, 75008             75         Paris   Paris         Île-de-France   \n",
       "3   Paris, 75007             75         Paris   Paris         Île-de-France   \n",
       "4   Paris, 75016             75         Paris   Paris         Île-de-France   \n",
       "\n",
       "  country price                 cuisine  \\\n",
       "0  France  €€€€         Classic Cuisine   \n",
       "1  France  €€€€          Modern Cuisine   \n",
       "2  France  €€€€          Modern Cuisine   \n",
       "3  France  €€€€                Creative   \n",
       "4  France  €€€€  Creative, Contemporary   \n",
       "\n",
       "                                                 url    award  stars  \\\n",
       "0                   https://www.ambroisie-paris.com/  3 Stars    3.0   \n",
       "1                       https://www.floconsdesel.com  3 Stars    3.0   \n",
       "2  https://www.oetkercollection.com/fr/hotels/le-...  3 Stars    3.0   \n",
       "3                     https://www.alain-passard.com/  3 Stars    3.0   \n",
       "4                      https://www.leprecatelan.com/  3 Stars    3.0   \n",
       "\n",
       "   greenstar  longitude   latitude  \n",
       "0          0   2.364521  48.855494  \n",
       "1          0   6.596963  45.830240  \n",
       "2          0   2.314598  48.871722  \n",
       "3          1   2.317013  48.855754  \n",
       "4          0   2.250718  48.863937  "
      ],
      "text/html": [
       "<div>\n",
       "<style scoped>\n",
       "    .dataframe tbody tr th:only-of-type {\n",
       "        vertical-align: middle;\n",
       "    }\n",
       "\n",
       "    .dataframe tbody tr th {\n",
       "        vertical-align: top;\n",
       "    }\n",
       "\n",
       "    .dataframe thead th {\n",
       "        text-align: right;\n",
       "    }\n",
       "</style>\n",
       "<table border=\"1\" class=\"dataframe\">\n",
       "  <thead>\n",
       "    <tr style=\"text-align: right;\">\n",
       "      <th></th>\n",
       "      <th>name</th>\n",
       "      <th>address</th>\n",
       "      <th>location</th>\n",
       "      <th>department_num</th>\n",
       "      <th>department</th>\n",
       "      <th>capital</th>\n",
       "      <th>region</th>\n",
       "      <th>country</th>\n",
       "      <th>price</th>\n",
       "      <th>cuisine</th>\n",
       "      <th>url</th>\n",
       "      <th>award</th>\n",
       "      <th>stars</th>\n",
       "      <th>greenstar</th>\n",
       "      <th>longitude</th>\n",
       "      <th>latitude</th>\n",
       "    </tr>\n",
       "  </thead>\n",
       "  <tbody>\n",
       "    <tr>\n",
       "      <th>0</th>\n",
       "      <td>L'Ambroisie</td>\n",
       "      <td>9 place des Vosges</td>\n",
       "      <td>Paris, 75004</td>\n",
       "      <td>75</td>\n",
       "      <td>Paris</td>\n",
       "      <td>Paris</td>\n",
       "      <td>Île-de-France</td>\n",
       "      <td>France</td>\n",
       "      <td>€€€€</td>\n",
       "      <td>Classic Cuisine</td>\n",
       "      <td>https://www.ambroisie-paris.com/</td>\n",
       "      <td>3 Stars</td>\n",
       "      <td>3.0</td>\n",
       "      <td>0</td>\n",
       "      <td>2.364521</td>\n",
       "      <td>48.855494</td>\n",
       "    </tr>\n",
       "    <tr>\n",
       "      <th>1</th>\n",
       "      <td>Flocons de Sel</td>\n",
       "      <td>1775 route du Leutaz, Le Leutaz</td>\n",
       "      <td>Megève, 74120</td>\n",
       "      <td>74</td>\n",
       "      <td>Haute-Savoie</td>\n",
       "      <td>Annecy</td>\n",
       "      <td>Auvergne-Rhône-Alpes</td>\n",
       "      <td>France</td>\n",
       "      <td>€€€€</td>\n",
       "      <td>Modern Cuisine</td>\n",
       "      <td>https://www.floconsdesel.com</td>\n",
       "      <td>3 Stars</td>\n",
       "      <td>3.0</td>\n",
       "      <td>0</td>\n",
       "      <td>6.596963</td>\n",
       "      <td>45.830240</td>\n",
       "    </tr>\n",
       "    <tr>\n",
       "      <th>2</th>\n",
       "      <td>Épicure</td>\n",
       "      <td>Le Bristol, 112 rue du Faubourg-Saint-Honoré</td>\n",
       "      <td>Paris, 75008</td>\n",
       "      <td>75</td>\n",
       "      <td>Paris</td>\n",
       "      <td>Paris</td>\n",
       "      <td>Île-de-France</td>\n",
       "      <td>France</td>\n",
       "      <td>€€€€</td>\n",
       "      <td>Modern Cuisine</td>\n",
       "      <td>https://www.oetkercollection.com/fr/hotels/le-...</td>\n",
       "      <td>3 Stars</td>\n",
       "      <td>3.0</td>\n",
       "      <td>0</td>\n",
       "      <td>2.314598</td>\n",
       "      <td>48.871722</td>\n",
       "    </tr>\n",
       "    <tr>\n",
       "      <th>3</th>\n",
       "      <td>Arpège</td>\n",
       "      <td>84 rue de Varenne</td>\n",
       "      <td>Paris, 75007</td>\n",
       "      <td>75</td>\n",
       "      <td>Paris</td>\n",
       "      <td>Paris</td>\n",
       "      <td>Île-de-France</td>\n",
       "      <td>France</td>\n",
       "      <td>€€€€</td>\n",
       "      <td>Creative</td>\n",
       "      <td>https://www.alain-passard.com/</td>\n",
       "      <td>3 Stars</td>\n",
       "      <td>3.0</td>\n",
       "      <td>1</td>\n",
       "      <td>2.317013</td>\n",
       "      <td>48.855754</td>\n",
       "    </tr>\n",
       "    <tr>\n",
       "      <th>4</th>\n",
       "      <td>Le Pré Catelan</td>\n",
       "      <td>Route de Suresnes - bois de Boulogne</td>\n",
       "      <td>Paris, 75016</td>\n",
       "      <td>75</td>\n",
       "      <td>Paris</td>\n",
       "      <td>Paris</td>\n",
       "      <td>Île-de-France</td>\n",
       "      <td>France</td>\n",
       "      <td>€€€€</td>\n",
       "      <td>Creative, Contemporary</td>\n",
       "      <td>https://www.leprecatelan.com/</td>\n",
       "      <td>3 Stars</td>\n",
       "      <td>3.0</td>\n",
       "      <td>0</td>\n",
       "      <td>2.250718</td>\n",
       "      <td>48.863937</td>\n",
       "    </tr>\n",
       "  </tbody>\n",
       "</table>\n",
       "</div>"
      ]
     },
     "execution_count": 15,
     "metadata": {},
     "output_type": "execute_result"
    }
   ],
   "execution_count": 15
  },
  {
   "cell_type": "code",
   "source": [
    "# Check for the presence of commas in the 'address' column\n",
    "contains_commas = france_data[france_data['address'].str.contains(',')]\n",
    "print(f'Two-part addresses: {len(contains_commas)}')"
   ],
   "metadata": {
    "collapsed": false,
    "ExecuteTime": {
     "end_time": "2025-04-01T16:05:37.087389Z",
     "start_time": "2025-04-01T16:05:37.081825Z"
    }
   },
   "outputs": [
    {
     "name": "stdout",
     "output_type": "stream",
     "text": [
      "Two-part addresses: 236\n"
     ]
    }
   ],
   "execution_count": 16
  },
  {
   "cell_type": "markdown",
   "source": [
    "We've acquired 2 more restaurants with commas in the address"
   ],
   "metadata": {
    "collapsed": false
   }
  },
  {
   "cell_type": "code",
   "source": [
    "comma_addresses = france_data[france_data['address'].str.contains(',')]\n",
    "address_parts = comma_addresses['address'].str.split(',').apply(len)\n",
    "print(address_parts.value_counts())"
   ],
   "metadata": {
    "collapsed": false,
    "ExecuteTime": {
     "end_time": "2025-04-01T16:05:46.738976Z",
     "start_time": "2025-04-01T16:05:46.731375Z"
    }
   },
   "outputs": [
    {
     "name": "stdout",
     "output_type": "stream",
     "text": [
      "address\n",
      "2    218\n",
      "3     18\n",
      "Name: count, dtype: int64\n"
     ]
    }
   ],
   "execution_count": 17
  },
  {
   "cell_type": "code",
   "source": [
    "three_part_addresses = comma_addresses[comma_addresses['address'].str.split(',').apply(len) == 3]\n",
    "three_part_addresses[['address']]"
   ],
   "metadata": {
    "collapsed": false,
    "ExecuteTime": {
     "end_time": "2025-04-01T16:05:51.224124Z",
     "start_time": "2025-04-01T16:05:51.217484Z"
    }
   },
   "outputs": [
    {
     "data": {
      "text/plain": [
       "                                                address\n",
       "31       Cheval Blanc, Le Jardin Alpin, Courchevel 1850\n",
       "56    Le K2 Palace, 238 rue des Clarines, Courchevel...\n",
       "108      Le Strato, Route de Bellecôte, Courchevel 1850\n",
       "156   Alpaga, 66 allée des Marmoussets, route du Pra...\n",
       "216   Annapurna, 734 route de l'Altiport, Courchevel...\n",
       "243   Lieu dit Le Birol, 1204 route de Lacroix-Falga...\n",
       "272   Hôtel du Golf, Les Ritons, 784 route du Clos-d...\n",
       "284   Maison Bouvier - Les Suites, 39 rue du Val-Cla...\n",
       "405                               Lacave, 46200, France\n",
       "407                               Lacave, 46200, France\n",
       "1110  Le K2 Altitude, 356 route de l'Altiport, Courc...\n",
       "1199  Annapurna, 734 route de l'Altiport, Courchevel...\n",
       "1370  Black Bass Hotel, 921 route d'Albertville, à S...\n",
       "1735  Le K2 Palace, 238 rue des Clarines, Courchevel...\n",
       "1961  Lily of the Valley, colline Saint-Michel, quar...\n",
       "1997  Le K2 Altitude, 356 route de l'Altiport, Courc...\n",
       "2027  Lys Martagon, 464 route de Bellecôte, Courchev...\n",
       "2587     Cheval Blanc, Le Jardin Alpin, Courchevel 1850"
      ],
      "text/html": [
       "<div>\n",
       "<style scoped>\n",
       "    .dataframe tbody tr th:only-of-type {\n",
       "        vertical-align: middle;\n",
       "    }\n",
       "\n",
       "    .dataframe tbody tr th {\n",
       "        vertical-align: top;\n",
       "    }\n",
       "\n",
       "    .dataframe thead th {\n",
       "        text-align: right;\n",
       "    }\n",
       "</style>\n",
       "<table border=\"1\" class=\"dataframe\">\n",
       "  <thead>\n",
       "    <tr style=\"text-align: right;\">\n",
       "      <th></th>\n",
       "      <th>address</th>\n",
       "    </tr>\n",
       "  </thead>\n",
       "  <tbody>\n",
       "    <tr>\n",
       "      <th>31</th>\n",
       "      <td>Cheval Blanc, Le Jardin Alpin, Courchevel 1850</td>\n",
       "    </tr>\n",
       "    <tr>\n",
       "      <th>56</th>\n",
       "      <td>Le K2 Palace, 238 rue des Clarines, Courchevel...</td>\n",
       "    </tr>\n",
       "    <tr>\n",
       "      <th>108</th>\n",
       "      <td>Le Strato, Route de Bellecôte, Courchevel 1850</td>\n",
       "    </tr>\n",
       "    <tr>\n",
       "      <th>156</th>\n",
       "      <td>Alpaga, 66 allée des Marmoussets, route du Pra...</td>\n",
       "    </tr>\n",
       "    <tr>\n",
       "      <th>216</th>\n",
       "      <td>Annapurna, 734 route de l'Altiport, Courchevel...</td>\n",
       "    </tr>\n",
       "    <tr>\n",
       "      <th>243</th>\n",
       "      <td>Lieu dit Le Birol, 1204 route de Lacroix-Falga...</td>\n",
       "    </tr>\n",
       "    <tr>\n",
       "      <th>272</th>\n",
       "      <td>Hôtel du Golf, Les Ritons, 784 route du Clos-d...</td>\n",
       "    </tr>\n",
       "    <tr>\n",
       "      <th>284</th>\n",
       "      <td>Maison Bouvier - Les Suites, 39 rue du Val-Cla...</td>\n",
       "    </tr>\n",
       "    <tr>\n",
       "      <th>405</th>\n",
       "      <td>Lacave, 46200, France</td>\n",
       "    </tr>\n",
       "    <tr>\n",
       "      <th>407</th>\n",
       "      <td>Lacave, 46200, France</td>\n",
       "    </tr>\n",
       "    <tr>\n",
       "      <th>1110</th>\n",
       "      <td>Le K2 Altitude, 356 route de l'Altiport, Courc...</td>\n",
       "    </tr>\n",
       "    <tr>\n",
       "      <th>1199</th>\n",
       "      <td>Annapurna, 734 route de l'Altiport, Courchevel...</td>\n",
       "    </tr>\n",
       "    <tr>\n",
       "      <th>1370</th>\n",
       "      <td>Black Bass Hotel, 921 route d'Albertville, à S...</td>\n",
       "    </tr>\n",
       "    <tr>\n",
       "      <th>1735</th>\n",
       "      <td>Le K2 Palace, 238 rue des Clarines, Courchevel...</td>\n",
       "    </tr>\n",
       "    <tr>\n",
       "      <th>1961</th>\n",
       "      <td>Lily of the Valley, colline Saint-Michel, quar...</td>\n",
       "    </tr>\n",
       "    <tr>\n",
       "      <th>1997</th>\n",
       "      <td>Le K2 Altitude, 356 route de l'Altiport, Courc...</td>\n",
       "    </tr>\n",
       "    <tr>\n",
       "      <th>2027</th>\n",
       "      <td>Lys Martagon, 464 route de Bellecôte, Courchev...</td>\n",
       "    </tr>\n",
       "    <tr>\n",
       "      <th>2587</th>\n",
       "      <td>Cheval Blanc, Le Jardin Alpin, Courchevel 1850</td>\n",
       "    </tr>\n",
       "  </tbody>\n",
       "</table>\n",
       "</div>"
      ]
     },
     "execution_count": 18,
     "metadata": {},
     "output_type": "execute_result"
    }
   ],
   "execution_count": 18
  },
  {
   "cell_type": "code",
   "source": [
    "# Access rows by index\n",
    "rows_to_amend = france_data.loc[[405, 407]]\n",
    "rows_to_amend"
   ],
   "metadata": {
    "collapsed": false,
    "ExecuteTime": {
     "end_time": "2025-04-01T16:06:08.223324Z",
     "start_time": "2025-04-01T16:06:08.216129Z"
    }
   },
   "outputs": [
    {
     "data": {
      "text/plain": [
       "                     name                address    location department_num  \\\n",
       "405  Château de la Treyne  Lacave, 46200, France  None, None             46   \n",
       "407   Le Pont de l'Ouysse  Lacave, 46200, France  None, None             46   \n",
       "\n",
       "    department capital     region country price  \\\n",
       "405        Lot  Cahors  Occitanie  France  €€€€   \n",
       "407        Lot  Cahors  Occitanie  France   €€€   \n",
       "\n",
       "                             cuisine  \\\n",
       "405                  Classic Cuisine   \n",
       "407  Modern Cuisine, Classic Cuisine   \n",
       "\n",
       "                                                   url   award  stars  \\\n",
       "405  https://www.chateaudelatreyne.com/fr/restauran...  1 Star    1.0   \n",
       "407                   https://www.lepontdelouysse.com/  1 Star    1.0   \n",
       "\n",
       "     greenstar  longitude   latitude  \n",
       "405          0   1.525388  44.849474  \n",
       "407          0   1.550233  44.844231  "
      ],
      "text/html": [
       "<div>\n",
       "<style scoped>\n",
       "    .dataframe tbody tr th:only-of-type {\n",
       "        vertical-align: middle;\n",
       "    }\n",
       "\n",
       "    .dataframe tbody tr th {\n",
       "        vertical-align: top;\n",
       "    }\n",
       "\n",
       "    .dataframe thead th {\n",
       "        text-align: right;\n",
       "    }\n",
       "</style>\n",
       "<table border=\"1\" class=\"dataframe\">\n",
       "  <thead>\n",
       "    <tr style=\"text-align: right;\">\n",
       "      <th></th>\n",
       "      <th>name</th>\n",
       "      <th>address</th>\n",
       "      <th>location</th>\n",
       "      <th>department_num</th>\n",
       "      <th>department</th>\n",
       "      <th>capital</th>\n",
       "      <th>region</th>\n",
       "      <th>country</th>\n",
       "      <th>price</th>\n",
       "      <th>cuisine</th>\n",
       "      <th>url</th>\n",
       "      <th>award</th>\n",
       "      <th>stars</th>\n",
       "      <th>greenstar</th>\n",
       "      <th>longitude</th>\n",
       "      <th>latitude</th>\n",
       "    </tr>\n",
       "  </thead>\n",
       "  <tbody>\n",
       "    <tr>\n",
       "      <th>405</th>\n",
       "      <td>Château de la Treyne</td>\n",
       "      <td>Lacave, 46200, France</td>\n",
       "      <td>None, None</td>\n",
       "      <td>46</td>\n",
       "      <td>Lot</td>\n",
       "      <td>Cahors</td>\n",
       "      <td>Occitanie</td>\n",
       "      <td>France</td>\n",
       "      <td>€€€€</td>\n",
       "      <td>Classic Cuisine</td>\n",
       "      <td>https://www.chateaudelatreyne.com/fr/restauran...</td>\n",
       "      <td>1 Star</td>\n",
       "      <td>1.0</td>\n",
       "      <td>0</td>\n",
       "      <td>1.525388</td>\n",
       "      <td>44.849474</td>\n",
       "    </tr>\n",
       "    <tr>\n",
       "      <th>407</th>\n",
       "      <td>Le Pont de l'Ouysse</td>\n",
       "      <td>Lacave, 46200, France</td>\n",
       "      <td>None, None</td>\n",
       "      <td>46</td>\n",
       "      <td>Lot</td>\n",
       "      <td>Cahors</td>\n",
       "      <td>Occitanie</td>\n",
       "      <td>France</td>\n",
       "      <td>€€€</td>\n",
       "      <td>Modern Cuisine, Classic Cuisine</td>\n",
       "      <td>https://www.lepontdelouysse.com/</td>\n",
       "      <td>1 Star</td>\n",
       "      <td>1.0</td>\n",
       "      <td>0</td>\n",
       "      <td>1.550233</td>\n",
       "      <td>44.844231</td>\n",
       "    </tr>\n",
       "  </tbody>\n",
       "</table>\n",
       "</div>"
      ]
     },
     "execution_count": 19,
     "metadata": {},
     "output_type": "execute_result"
    }
   ],
   "execution_count": 19
  },
  {
   "cell_type": "markdown",
   "source": [
    "We search for an address manually using the url. *Lacave* is a small village in the Dordogne. The address is simply the Hotel name, commune, postal code"
   ],
   "metadata": {
    "collapsed": false
   }
  },
  {
   "cell_type": "code",
   "source": [
    "france_data.at[405, 'address'] = 'Lacave, 46200'\n",
    "france_data.at[407, 'address'] = 'Lacave, 46200'\n",
    "\n",
    "france_data.at[405, 'location'] = 'Lacave, 46200'\n",
    "france_data.at[407, 'location'] = 'Lacave, 46200'"
   ],
   "metadata": {
    "collapsed": false,
    "ExecuteTime": {
     "end_time": "2025-04-01T16:07:30.268404Z",
     "start_time": "2025-04-01T16:07:30.265078Z"
    }
   },
   "outputs": [],
   "execution_count": 20
  },
  {
   "cell_type": "markdown",
   "source": [
    "We now create 2 more dataframes; `paris` and `rest_of_france`"
   ],
   "metadata": {
    "collapsed": false
   }
  },
  {
   "cell_type": "code",
   "source": [
    "paris = france_data[france_data['department'] == 'Paris']\n",
    "rest_of_france = france_data[france_data['department'] != 'Paris']"
   ],
   "metadata": {
    "collapsed": false,
    "ExecuteTime": {
     "end_time": "2025-04-01T16:07:34.607252Z",
     "start_time": "2025-04-01T16:07:34.600982Z"
    }
   },
   "outputs": [],
   "execution_count": 21
  },
  {
   "cell_type": "code",
   "source": [
    "paris.info()"
   ],
   "metadata": {
    "collapsed": false,
    "ExecuteTime": {
     "end_time": "2025-04-01T16:07:38.289866Z",
     "start_time": "2025-04-01T16:07:38.283139Z"
    }
   },
   "outputs": [
    {
     "name": "stdout",
     "output_type": "stream",
     "text": [
      "<class 'pandas.core.frame.DataFrame'>\n",
      "Index: 460 entries, 0 to 2984\n",
      "Data columns (total 16 columns):\n",
      " #   Column          Non-Null Count  Dtype  \n",
      "---  ------          --------------  -----  \n",
      " 0   name            460 non-null    object \n",
      " 1   address         460 non-null    object \n",
      " 2   location        460 non-null    object \n",
      " 3   department_num  460 non-null    object \n",
      " 4   department      460 non-null    object \n",
      " 5   capital         460 non-null    object \n",
      " 6   region          460 non-null    object \n",
      " 7   country         460 non-null    object \n",
      " 8   price           460 non-null    object \n",
      " 9   cuisine         460 non-null    object \n",
      " 10  url             441 non-null    object \n",
      " 11  award           460 non-null    object \n",
      " 12  stars           460 non-null    float64\n",
      " 13  greenstar       460 non-null    int64  \n",
      " 14  longitude       460 non-null    float64\n",
      " 15  latitude        460 non-null    float64\n",
      "dtypes: float64(3), int64(1), object(12)\n",
      "memory usage: 61.1+ KB\n"
     ]
    }
   ],
   "execution_count": 22
  },
  {
   "cell_type": "markdown",
   "source": [
    "#### Only `url` has missing values"
   ],
   "metadata": {
    "collapsed": false
   }
  },
  {
   "cell_type": "code",
   "source": [
    "rest_of_france.info()"
   ],
   "metadata": {
    "collapsed": false,
    "ExecuteTime": {
     "end_time": "2025-04-01T16:07:46.074530Z",
     "start_time": "2025-04-01T16:07:46.066823Z"
    }
   },
   "outputs": [
    {
     "name": "stdout",
     "output_type": "stream",
     "text": [
      "<class 'pandas.core.frame.DataFrame'>\n",
      "Index: 2525 entries, 1 to 2983\n",
      "Data columns (total 16 columns):\n",
      " #   Column          Non-Null Count  Dtype  \n",
      "---  ------          --------------  -----  \n",
      " 0   name            2525 non-null   object \n",
      " 1   address         2525 non-null   object \n",
      " 2   location        2525 non-null   object \n",
      " 3   department_num  2525 non-null   object \n",
      " 4   department      2482 non-null   object \n",
      " 5   capital         2482 non-null   object \n",
      " 6   region          2482 non-null   object \n",
      " 7   country         2525 non-null   object \n",
      " 8   price           2525 non-null   object \n",
      " 9   cuisine         2525 non-null   object \n",
      " 10  url             2390 non-null   object \n",
      " 11  award           2525 non-null   object \n",
      " 12  stars           2525 non-null   float64\n",
      " 13  greenstar       2525 non-null   int64  \n",
      " 14  longitude       2525 non-null   float64\n",
      " 15  latitude        2525 non-null   float64\n",
      "dtypes: float64(3), int64(1), object(12)\n",
      "memory usage: 335.4+ KB\n"
     ]
    }
   ],
   "execution_count": 23
  },
  {
   "cell_type": "markdown",
   "source": [
    "#### `rest_of_france` has some null values for `department`, `capital` and `region`"
   ],
   "metadata": {
    "collapsed": false
   }
  },
  {
   "cell_type": "code",
   "source": [
    "# Select rows where 'department' and 'region' are NaN\n",
    "rest_of_france_null = france_data[(france_data['department'].isnull()) & (france_data['region'].isnull())]\n",
    "rest_of_france_null"
   ],
   "metadata": {
    "collapsed": false,
    "ExecuteTime": {
     "end_time": "2025-04-01T16:07:53.417621Z",
     "start_time": "2025-04-01T16:07:53.402401Z"
    }
   },
   "outputs": [
    {
     "data": {
      "text/plain": [
       "                         name                                     address  \\\n",
       "109                Casadelmar                        Route de Palombaggia   \n",
       "150                Le Charlie                           Bella Vista Hôtel   \n",
       "244   Finestra by Italo Bassi                   51 quai Jérôme-Comparetti   \n",
       "591              A Casa di Mà                              Route de Calvi   \n",
       "623               La Verrière          Hôtel Marinca, lieu-dit Vitricella   \n",
       "640      La Table de la Ferme      Domaine de Murtoli, Vallée de l'Ortolo   \n",
       "733                 U Licettu                           Plaine de Cuttoli   \n",
       "780                L'Aghjalle                                Toro Soprano   \n",
       "821        A Mandria di Pigna                                     Village   \n",
       "1084             Santu Pultru                                         D48   \n",
       "1160   D'Amore by Italo Bassi                   51 quai Jérôme-Comparetti   \n",
       "1298     La Terrasse du Fesch        Hôtel Fesch, 7 rue du Cardinal-Fesch   \n",
       "1456                 A Nepita                            4 rue San-Lazaro   \n",
       "1460               Le Voilier                          81 quai Comparetti   \n",
       "1473     La Table by La Villa               Chemin Notre-Dame-de-la-Serra   \n",
       "1525                Le Pirate                                     au port   \n",
       "1539      Auberge du Prunelli                         Pont de Pisciatello   \n",
       "1540              La Corniche  1 chemin di u Fornu (Hameau de Castagneto)   \n",
       "1599                  I Salti         au golf du Reginu - Moulin de Salti   \n",
       "1618                A Pignata                              Route de Pianu   \n",
       "1622               Da Passano                          53 quai Comparetti   \n",
       "1712                Boccafine                                  au village   \n",
       "1717                L'A Cheda                      Route de Cavallo-Morto   \n",
       "2008                  L'Écrin                 16 cours du Général-Leclerc   \n",
       "2019              La Signoria               Route de la Forêt de Bonifato   \n",
       "2121                 Emporium       32 boulevard Napoléon, à San Ciprianu   \n",
       "2790      Le Petit Restaurant                        3 rue Pozzo-di-Borgo   \n",
       "2805                 La Sassa                          à la tour de Nonza   \n",
       "2806              Terra Cotta                      29 avenue Napoléon-III   \n",
       "2813                La Pinède                                à Cala-Rossa   \n",
       "2814           U Santa Marina                      Marina di Santa-Giulia   \n",
       "2900              L'Arbousier          D55 - Boulevard Marie-Jeanne Bozzi   \n",
       "2909                  MaThy'S                              Place Furnellu   \n",
       "2910                 La Gaffe                         Promenade des Quais   \n",
       "2911                 Tempi Fà                      11 avenue Napoléon-III   \n",
       "2923    La Table de la Grotte      Domaine de Murtoli, Vallée de l'Ortolo   \n",
       "2936         La Table de Mina                        Route de Palombaggia   \n",
       "2951     L'Auberge du Pêcheur                             Route de Bastia   \n",
       "2952             Chez Parenti                      10 avenue Napoléon-III   \n",
       "2958            Chez Séraphin                                  au village   \n",
       "2959             Le Belvédère                        Route de Palombaggia   \n",
       "2961                Don Cesar                   Rue du Commandant-Quilici   \n",
       "2977     La Table de la Plage      Domaine de Murtoli, Vallée de l'Ortolo   \n",
       "\n",
       "                              location department_num department capital  \\\n",
       "109               Porto-Vecchio, 20137             20        NaN     NaN   \n",
       "150                   Porticcio, 20166             20        NaN     NaN   \n",
       "244                   Bonifacio, 20169             20        NaN     NaN   \n",
       "591                       Lumio, 20260             20        NaN     NaN   \n",
       "623                      Olmeto, 20113             20        NaN     NaN   \n",
       "640                     Sartène, 20100             20        NaN     NaN   \n",
       "733                     Cuttoli, 20167             20        NaN     NaN   \n",
       "780   Santa-Reparata-di-Balagna, 20220             20        NaN     NaN   \n",
       "821                       Pigna, 20220             20        NaN     NaN   \n",
       "1084                    Sartène, 20100             20        NaN     NaN   \n",
       "1160                  Bonifacio, 20169             20        NaN     NaN   \n",
       "1298                    Ajaccio, 20000             20        NaN     NaN   \n",
       "1456                    Ajaccio, 20000             20        NaN     NaN   \n",
       "1460                  Bonifacio, 20169             20        NaN     NaN   \n",
       "1473                      Calvi, 20260             20        NaN     NaN   \n",
       "1525                  Erbalunga, 20222             20        NaN     NaN   \n",
       "1539              Bastelicaccia, 20129             20        NaN     NaN   \n",
       "1540        San-Martino-di-Lota, 20200             20        NaN     NaN   \n",
       "1599                 Speloncato, 20226             20        NaN     NaN   \n",
       "1618                      Levie, 20170             20        NaN     NaN   \n",
       "1622                  Bonifacio, 20169             20        NaN     NaN   \n",
       "1712                      Nonza, 20217             20        NaN     NaN   \n",
       "1717                  Bonifacio, 20169             20        NaN     NaN   \n",
       "2008                    Ajaccio, 20000             20        NaN     NaN   \n",
       "2019                      Calvi, 20260             20        NaN     NaN   \n",
       "2121                      Lecci, 20137             20        NaN     NaN   \n",
       "2790                    Ajaccio, 20000             20        NaN     NaN   \n",
       "2805                      Nonza, 20217             20        NaN     NaN   \n",
       "2806                  Propriano, 20110             20        NaN     NaN   \n",
       "2813                      Lecci, 20137             20        NaN     NaN   \n",
       "2814              Porto-Vecchio, 20137             20        NaN     NaN   \n",
       "2900                  Porticcio, 20166             20        NaN     NaN   \n",
       "2909              Saint-Florent, 20217             20        NaN     NaN   \n",
       "2910              Saint-Florent, 20217             20        NaN     NaN   \n",
       "2911                  Propriano, 20110             20        NaN     NaN   \n",
       "2923                    Sartène, 20100             20        NaN     NaN   \n",
       "2936              Porto-Vecchio, 20137             20        NaN     NaN   \n",
       "2951              Saint-Florent, 20217             20        NaN     NaN   \n",
       "2952                  Propriano, 20110             20        NaN     NaN   \n",
       "2958                       Peri, 20167             20        NaN     NaN   \n",
       "2959              Porto-Vecchio, 20137             20        NaN     NaN   \n",
       "2961              Porto-Vecchio, 20137             20        NaN     NaN   \n",
       "2977                    Sartène, 20100             20        NaN     NaN   \n",
       "\n",
       "     region country price                                cuisine  \\\n",
       "109     NaN  France  €€€€                         Modern Cuisine   \n",
       "150     NaN  France  €€€€                         Modern Cuisine   \n",
       "244     NaN  France  €€€€         Italian, Mediterranean Cuisine   \n",
       "591     NaN  France  €€€€                         Modern Cuisine   \n",
       "623     NaN  France  €€€€                         Modern Cuisine   \n",
       "640     NaN  France  €€€€               Modern Cuisine, Corsican   \n",
       "733     NaN  France    €€                    Traditional Cuisine   \n",
       "780     NaN  France    €€                               Corsican   \n",
       "821     NaN  France    €€                               Corsican   \n",
       "1084    NaN  France    €€                    Traditional Cuisine   \n",
       "1160    NaN  France   €€€                                Italian   \n",
       "1298    NaN  France   €€€                         Modern Cuisine   \n",
       "1456    NaN  France   €€€                          Farm to table   \n",
       "1460    NaN  France   €€€  Mediterranean Cuisine, Modern Cuisine   \n",
       "1473    NaN  France  €€€€                         Modern Cuisine   \n",
       "1525    NaN  France   €€€                         Modern Cuisine   \n",
       "1539    NaN  France    €€                        Country cooking   \n",
       "1540    NaN  France    €€                               Corsican   \n",
       "1599    NaN  France   €€€       Modern Cuisine, Regional Cuisine   \n",
       "1618    NaN  France   €€€              Corsican, Country cooking   \n",
       "1622    NaN  France    €€                               Corsican   \n",
       "1712    NaN  France   €€€                         Modern Cuisine   \n",
       "1717    NaN  France   €€€                         Modern Cuisine   \n",
       "2008    NaN  France    €€                         Modern Cuisine   \n",
       "2019    NaN  France  €€€€                         Modern Cuisine   \n",
       "2121    NaN  France   €€€  Modern Cuisine, Mediterranean Cuisine   \n",
       "2790    NaN  France   €€€                         Modern Cuisine   \n",
       "2805    NaN  France    €€                  Mediterranean Cuisine   \n",
       "2806    NaN  France   €€€                                Seafood   \n",
       "2813    NaN  France  €€€€                         Modern Cuisine   \n",
       "2814    NaN  France  €€€€                         Modern Cuisine   \n",
       "2900    NaN  France  €€€€                        Classic Cuisine   \n",
       "2909    NaN  France   €€€                         Modern Cuisine   \n",
       "2910    NaN  France   €€€                         Modern Cuisine   \n",
       "2911    NaN  France    €€                        Country cooking   \n",
       "2923    NaN  France   €€€                               Corsican   \n",
       "2936    NaN  France   €€€                         Modern Cuisine   \n",
       "2951    NaN  France   €€€                                Seafood   \n",
       "2952    NaN  France   €€€                                Seafood   \n",
       "2958    NaN  France   €€€                    Traditional Cuisine   \n",
       "2959    NaN  France   €€€                         Modern Cuisine   \n",
       "2961    NaN  France  €€€€  Modern Cuisine, Mediterranean Cuisine   \n",
       "2977    NaN  France  €€€€                  Mediterranean Cuisine   \n",
       "\n",
       "                                                    url                 award  \\\n",
       "109                           https://www.casadelmar.fr               2 Stars   \n",
       "150   https://www.lapiscineporticcio.com/the-restaurant                1 Star   \n",
       "244                        https://finestra-d-amore.fr/                1 Star   \n",
       "591                          https://www.acasadima.com/                1 Star   \n",
       "623                      https://www.hotel-marinca.com/                1 Star   \n",
       "640                            https://www.murtoli.com/                1 Star   \n",
       "733                          https://www.u-licettu.com/          Bib Gourmand   \n",
       "780                            http://www.laghjalle.com          Bib Gourmand   \n",
       "821                    https://www.restaurantpigna.com/          Bib Gourmand   \n",
       "1084                     http://www.randochevalcorse.fr  Selected Restaurants   \n",
       "1160                         http://finestra-d-amore.fr  Selected Restaurants   \n",
       "1298                         http://www.hotel-fesch.com  Selected Restaurants   \n",
       "1456                            https://www.anepita.fr/  Selected Restaurants   \n",
       "1460               https://www.levoilier-bonifacio.com/  Selected Restaurants   \n",
       "1473                            https://www.lavilla.fr/  Selected Restaurants   \n",
       "1525                https://www.restaurantlepirate.com/  Selected Restaurants   \n",
       "1539                    https://auberge-du-prunelli.fr/  Selected Restaurants   \n",
       "1540                  https://www.hotel-lacorniche.com/  Selected Restaurants   \n",
       "1599                                                NaN  Selected Restaurants   \n",
       "1618                          https://www.apignata.com/  Selected Restaurants   \n",
       "1622                        https://www.da-passano.com/  Selected Restaurants   \n",
       "1712                          https://www.boccafine.fr/  Selected Restaurants   \n",
       "1717  https://acheda-hotel.com/restaurant-gastronomi...  Selected Restaurants   \n",
       "2008                   https://www.lecrinrestaurant.fr/  Selected Restaurants   \n",
       "2019                 https://www.hotel-la-signoria.com/  Selected Restaurants   \n",
       "2121                                                NaN  Selected Restaurants   \n",
       "2790                      https://lepetitrestaurant.fr/  Selected Restaurants   \n",
       "2805                            https://www.lasassa.com  Selected Restaurants   \n",
       "2806                                                NaN  Selected Restaurants   \n",
       "2813                 https://www.hotel-calarossa.com/fr  Selected Restaurants   \n",
       "2814                          https://usantamarina.com/  Selected Restaurants   \n",
       "2900                       https://www.lemaquis.com/fr/  Selected Restaurants   \n",
       "2909                                                NaN  Selected Restaurants   \n",
       "2910                https://www.restaurant-lagaffe.com/  Selected Restaurants   \n",
       "2911                           https://www.tempifa.com/  Selected Restaurants   \n",
       "2923                           https://www.murtoli.com/  Selected Restaurants   \n",
       "2936                     https://hotel-palombaggia.com/  Selected Restaurants   \n",
       "2951                  https://www.aubergedupecheur.net/  Selected Restaurants   \n",
       "2952                        https://www.chezparenti.fr/  Selected Restaurants   \n",
       "2958                                                NaN  Selected Restaurants   \n",
       "2959                         https://www.hbcorsica.com/  Selected Restaurants   \n",
       "2961                      https://www.hoteldoncesar.com  Selected Restaurants   \n",
       "2977                           https://www.murtoli.com/  Selected Restaurants   \n",
       "\n",
       "      stars  greenstar  longitude   latitude  \n",
       "109    2.00          0   9.309977  41.594810  \n",
       "150    1.00          0   8.810522  41.895070  \n",
       "244    1.00          0   9.163711  41.387955  \n",
       "591    1.00          0   8.831886  42.581304  \n",
       "623    1.00          0   8.902694  41.691352  \n",
       "640    1.00          0   8.946903  41.522976  \n",
       "733    0.50          0   8.845830  41.963936  \n",
       "780    0.50          0   8.921134  42.586521  \n",
       "821    0.50          0   8.903190  42.598780  \n",
       "1084   0.25          0   8.913810  41.567180  \n",
       "1160   0.25          0   9.163745  41.387933  \n",
       "1298   0.25          0   8.737706  41.920083  \n",
       "1456   0.25          0   8.737368  41.925066  \n",
       "1460   0.25          0   9.162304  41.388085  \n",
       "1473   0.25          0   8.745482  42.555531  \n",
       "1525   0.25          0   9.476285  42.774357  \n",
       "1539   0.25          0   8.836170  41.912650  \n",
       "1540   0.25          0   9.434726  42.734774  \n",
       "1599   0.25          0   8.977361  42.603896  \n",
       "1618   0.25          0   9.101682  41.712556  \n",
       "1622   0.25          0   9.163720  41.387957  \n",
       "1712   0.25          0   9.345024  42.784847  \n",
       "1717   0.25          0   9.169903  41.406264  \n",
       "2008   0.25          0   8.727393  41.917196  \n",
       "2019   0.25          0   8.784631  42.536832  \n",
       "2121   0.25          0   9.346516  41.638253  \n",
       "2790   0.25          0   8.739543  41.918096  \n",
       "2805   0.25          0   9.343634  42.785085  \n",
       "2806   0.25          0   8.899937  41.675351  \n",
       "2813   0.25          0   9.338574  41.621459  \n",
       "2814   0.25          0   9.280439  41.530989  \n",
       "2900   0.25          0   8.785820  41.877790  \n",
       "2909   0.25          0   9.300313  42.680910  \n",
       "2910   0.25          0   9.299012  42.681485  \n",
       "2911   0.25          0   8.902448  41.675673  \n",
       "2923   0.25          0   8.948410  41.516722  \n",
       "2936   0.25          0   9.280450  41.564660  \n",
       "2951   0.25          0   9.304287  42.681765  \n",
       "2952   0.25          0   8.902112  41.675710  \n",
       "2958   0.25          0   8.921363  42.005178  \n",
       "2959   0.25          0   9.300083  41.586447  \n",
       "2961   0.25          0   9.284597  41.599463  \n",
       "2977   0.25          0   8.912429  41.509204  "
      ],
      "text/html": [
       "<div>\n",
       "<style scoped>\n",
       "    .dataframe tbody tr th:only-of-type {\n",
       "        vertical-align: middle;\n",
       "    }\n",
       "\n",
       "    .dataframe tbody tr th {\n",
       "        vertical-align: top;\n",
       "    }\n",
       "\n",
       "    .dataframe thead th {\n",
       "        text-align: right;\n",
       "    }\n",
       "</style>\n",
       "<table border=\"1\" class=\"dataframe\">\n",
       "  <thead>\n",
       "    <tr style=\"text-align: right;\">\n",
       "      <th></th>\n",
       "      <th>name</th>\n",
       "      <th>address</th>\n",
       "      <th>location</th>\n",
       "      <th>department_num</th>\n",
       "      <th>department</th>\n",
       "      <th>capital</th>\n",
       "      <th>region</th>\n",
       "      <th>country</th>\n",
       "      <th>price</th>\n",
       "      <th>cuisine</th>\n",
       "      <th>url</th>\n",
       "      <th>award</th>\n",
       "      <th>stars</th>\n",
       "      <th>greenstar</th>\n",
       "      <th>longitude</th>\n",
       "      <th>latitude</th>\n",
       "    </tr>\n",
       "  </thead>\n",
       "  <tbody>\n",
       "    <tr>\n",
       "      <th>109</th>\n",
       "      <td>Casadelmar</td>\n",
       "      <td>Route de Palombaggia</td>\n",
       "      <td>Porto-Vecchio, 20137</td>\n",
       "      <td>20</td>\n",
       "      <td>NaN</td>\n",
       "      <td>NaN</td>\n",
       "      <td>NaN</td>\n",
       "      <td>France</td>\n",
       "      <td>€€€€</td>\n",
       "      <td>Modern Cuisine</td>\n",
       "      <td>https://www.casadelmar.fr</td>\n",
       "      <td>2 Stars</td>\n",
       "      <td>2.00</td>\n",
       "      <td>0</td>\n",
       "      <td>9.309977</td>\n",
       "      <td>41.594810</td>\n",
       "    </tr>\n",
       "    <tr>\n",
       "      <th>150</th>\n",
       "      <td>Le Charlie</td>\n",
       "      <td>Bella Vista Hôtel</td>\n",
       "      <td>Porticcio, 20166</td>\n",
       "      <td>20</td>\n",
       "      <td>NaN</td>\n",
       "      <td>NaN</td>\n",
       "      <td>NaN</td>\n",
       "      <td>France</td>\n",
       "      <td>€€€€</td>\n",
       "      <td>Modern Cuisine</td>\n",
       "      <td>https://www.lapiscineporticcio.com/the-restaurant</td>\n",
       "      <td>1 Star</td>\n",
       "      <td>1.00</td>\n",
       "      <td>0</td>\n",
       "      <td>8.810522</td>\n",
       "      <td>41.895070</td>\n",
       "    </tr>\n",
       "    <tr>\n",
       "      <th>244</th>\n",
       "      <td>Finestra by Italo Bassi</td>\n",
       "      <td>51 quai Jérôme-Comparetti</td>\n",
       "      <td>Bonifacio, 20169</td>\n",
       "      <td>20</td>\n",
       "      <td>NaN</td>\n",
       "      <td>NaN</td>\n",
       "      <td>NaN</td>\n",
       "      <td>France</td>\n",
       "      <td>€€€€</td>\n",
       "      <td>Italian, Mediterranean Cuisine</td>\n",
       "      <td>https://finestra-d-amore.fr/</td>\n",
       "      <td>1 Star</td>\n",
       "      <td>1.00</td>\n",
       "      <td>0</td>\n",
       "      <td>9.163711</td>\n",
       "      <td>41.387955</td>\n",
       "    </tr>\n",
       "    <tr>\n",
       "      <th>591</th>\n",
       "      <td>A Casa di Mà</td>\n",
       "      <td>Route de Calvi</td>\n",
       "      <td>Lumio, 20260</td>\n",
       "      <td>20</td>\n",
       "      <td>NaN</td>\n",
       "      <td>NaN</td>\n",
       "      <td>NaN</td>\n",
       "      <td>France</td>\n",
       "      <td>€€€€</td>\n",
       "      <td>Modern Cuisine</td>\n",
       "      <td>https://www.acasadima.com/</td>\n",
       "      <td>1 Star</td>\n",
       "      <td>1.00</td>\n",
       "      <td>0</td>\n",
       "      <td>8.831886</td>\n",
       "      <td>42.581304</td>\n",
       "    </tr>\n",
       "    <tr>\n",
       "      <th>623</th>\n",
       "      <td>La Verrière</td>\n",
       "      <td>Hôtel Marinca, lieu-dit Vitricella</td>\n",
       "      <td>Olmeto, 20113</td>\n",
       "      <td>20</td>\n",
       "      <td>NaN</td>\n",
       "      <td>NaN</td>\n",
       "      <td>NaN</td>\n",
       "      <td>France</td>\n",
       "      <td>€€€€</td>\n",
       "      <td>Modern Cuisine</td>\n",
       "      <td>https://www.hotel-marinca.com/</td>\n",
       "      <td>1 Star</td>\n",
       "      <td>1.00</td>\n",
       "      <td>0</td>\n",
       "      <td>8.902694</td>\n",
       "      <td>41.691352</td>\n",
       "    </tr>\n",
       "    <tr>\n",
       "      <th>640</th>\n",
       "      <td>La Table de la Ferme</td>\n",
       "      <td>Domaine de Murtoli, Vallée de l'Ortolo</td>\n",
       "      <td>Sartène, 20100</td>\n",
       "      <td>20</td>\n",
       "      <td>NaN</td>\n",
       "      <td>NaN</td>\n",
       "      <td>NaN</td>\n",
       "      <td>France</td>\n",
       "      <td>€€€€</td>\n",
       "      <td>Modern Cuisine, Corsican</td>\n",
       "      <td>https://www.murtoli.com/</td>\n",
       "      <td>1 Star</td>\n",
       "      <td>1.00</td>\n",
       "      <td>0</td>\n",
       "      <td>8.946903</td>\n",
       "      <td>41.522976</td>\n",
       "    </tr>\n",
       "    <tr>\n",
       "      <th>733</th>\n",
       "      <td>U Licettu</td>\n",
       "      <td>Plaine de Cuttoli</td>\n",
       "      <td>Cuttoli, 20167</td>\n",
       "      <td>20</td>\n",
       "      <td>NaN</td>\n",
       "      <td>NaN</td>\n",
       "      <td>NaN</td>\n",
       "      <td>France</td>\n",
       "      <td>€€</td>\n",
       "      <td>Traditional Cuisine</td>\n",
       "      <td>https://www.u-licettu.com/</td>\n",
       "      <td>Bib Gourmand</td>\n",
       "      <td>0.50</td>\n",
       "      <td>0</td>\n",
       "      <td>8.845830</td>\n",
       "      <td>41.963936</td>\n",
       "    </tr>\n",
       "    <tr>\n",
       "      <th>780</th>\n",
       "      <td>L'Aghjalle</td>\n",
       "      <td>Toro Soprano</td>\n",
       "      <td>Santa-Reparata-di-Balagna, 20220</td>\n",
       "      <td>20</td>\n",
       "      <td>NaN</td>\n",
       "      <td>NaN</td>\n",
       "      <td>NaN</td>\n",
       "      <td>France</td>\n",
       "      <td>€€</td>\n",
       "      <td>Corsican</td>\n",
       "      <td>http://www.laghjalle.com</td>\n",
       "      <td>Bib Gourmand</td>\n",
       "      <td>0.50</td>\n",
       "      <td>0</td>\n",
       "      <td>8.921134</td>\n",
       "      <td>42.586521</td>\n",
       "    </tr>\n",
       "    <tr>\n",
       "      <th>821</th>\n",
       "      <td>A Mandria di Pigna</td>\n",
       "      <td>Village</td>\n",
       "      <td>Pigna, 20220</td>\n",
       "      <td>20</td>\n",
       "      <td>NaN</td>\n",
       "      <td>NaN</td>\n",
       "      <td>NaN</td>\n",
       "      <td>France</td>\n",
       "      <td>€€</td>\n",
       "      <td>Corsican</td>\n",
       "      <td>https://www.restaurantpigna.com/</td>\n",
       "      <td>Bib Gourmand</td>\n",
       "      <td>0.50</td>\n",
       "      <td>0</td>\n",
       "      <td>8.903190</td>\n",
       "      <td>42.598780</td>\n",
       "    </tr>\n",
       "    <tr>\n",
       "      <th>1084</th>\n",
       "      <td>Santu Pultru</td>\n",
       "      <td>D48</td>\n",
       "      <td>Sartène, 20100</td>\n",
       "      <td>20</td>\n",
       "      <td>NaN</td>\n",
       "      <td>NaN</td>\n",
       "      <td>NaN</td>\n",
       "      <td>France</td>\n",
       "      <td>€€</td>\n",
       "      <td>Traditional Cuisine</td>\n",
       "      <td>http://www.randochevalcorse.fr</td>\n",
       "      <td>Selected Restaurants</td>\n",
       "      <td>0.25</td>\n",
       "      <td>0</td>\n",
       "      <td>8.913810</td>\n",
       "      <td>41.567180</td>\n",
       "    </tr>\n",
       "    <tr>\n",
       "      <th>1160</th>\n",
       "      <td>D'Amore by Italo Bassi</td>\n",
       "      <td>51 quai Jérôme-Comparetti</td>\n",
       "      <td>Bonifacio, 20169</td>\n",
       "      <td>20</td>\n",
       "      <td>NaN</td>\n",
       "      <td>NaN</td>\n",
       "      <td>NaN</td>\n",
       "      <td>France</td>\n",
       "      <td>€€€</td>\n",
       "      <td>Italian</td>\n",
       "      <td>http://finestra-d-amore.fr</td>\n",
       "      <td>Selected Restaurants</td>\n",
       "      <td>0.25</td>\n",
       "      <td>0</td>\n",
       "      <td>9.163745</td>\n",
       "      <td>41.387933</td>\n",
       "    </tr>\n",
       "    <tr>\n",
       "      <th>1298</th>\n",
       "      <td>La Terrasse du Fesch</td>\n",
       "      <td>Hôtel Fesch, 7 rue du Cardinal-Fesch</td>\n",
       "      <td>Ajaccio, 20000</td>\n",
       "      <td>20</td>\n",
       "      <td>NaN</td>\n",
       "      <td>NaN</td>\n",
       "      <td>NaN</td>\n",
       "      <td>France</td>\n",
       "      <td>€€€</td>\n",
       "      <td>Modern Cuisine</td>\n",
       "      <td>http://www.hotel-fesch.com</td>\n",
       "      <td>Selected Restaurants</td>\n",
       "      <td>0.25</td>\n",
       "      <td>0</td>\n",
       "      <td>8.737706</td>\n",
       "      <td>41.920083</td>\n",
       "    </tr>\n",
       "    <tr>\n",
       "      <th>1456</th>\n",
       "      <td>A Nepita</td>\n",
       "      <td>4 rue San-Lazaro</td>\n",
       "      <td>Ajaccio, 20000</td>\n",
       "      <td>20</td>\n",
       "      <td>NaN</td>\n",
       "      <td>NaN</td>\n",
       "      <td>NaN</td>\n",
       "      <td>France</td>\n",
       "      <td>€€€</td>\n",
       "      <td>Farm to table</td>\n",
       "      <td>https://www.anepita.fr/</td>\n",
       "      <td>Selected Restaurants</td>\n",
       "      <td>0.25</td>\n",
       "      <td>0</td>\n",
       "      <td>8.737368</td>\n",
       "      <td>41.925066</td>\n",
       "    </tr>\n",
       "    <tr>\n",
       "      <th>1460</th>\n",
       "      <td>Le Voilier</td>\n",
       "      <td>81 quai Comparetti</td>\n",
       "      <td>Bonifacio, 20169</td>\n",
       "      <td>20</td>\n",
       "      <td>NaN</td>\n",
       "      <td>NaN</td>\n",
       "      <td>NaN</td>\n",
       "      <td>France</td>\n",
       "      <td>€€€</td>\n",
       "      <td>Mediterranean Cuisine, Modern Cuisine</td>\n",
       "      <td>https://www.levoilier-bonifacio.com/</td>\n",
       "      <td>Selected Restaurants</td>\n",
       "      <td>0.25</td>\n",
       "      <td>0</td>\n",
       "      <td>9.162304</td>\n",
       "      <td>41.388085</td>\n",
       "    </tr>\n",
       "    <tr>\n",
       "      <th>1473</th>\n",
       "      <td>La Table by La Villa</td>\n",
       "      <td>Chemin Notre-Dame-de-la-Serra</td>\n",
       "      <td>Calvi, 20260</td>\n",
       "      <td>20</td>\n",
       "      <td>NaN</td>\n",
       "      <td>NaN</td>\n",
       "      <td>NaN</td>\n",
       "      <td>France</td>\n",
       "      <td>€€€€</td>\n",
       "      <td>Modern Cuisine</td>\n",
       "      <td>https://www.lavilla.fr/</td>\n",
       "      <td>Selected Restaurants</td>\n",
       "      <td>0.25</td>\n",
       "      <td>0</td>\n",
       "      <td>8.745482</td>\n",
       "      <td>42.555531</td>\n",
       "    </tr>\n",
       "    <tr>\n",
       "      <th>1525</th>\n",
       "      <td>Le Pirate</td>\n",
       "      <td>au port</td>\n",
       "      <td>Erbalunga, 20222</td>\n",
       "      <td>20</td>\n",
       "      <td>NaN</td>\n",
       "      <td>NaN</td>\n",
       "      <td>NaN</td>\n",
       "      <td>France</td>\n",
       "      <td>€€€</td>\n",
       "      <td>Modern Cuisine</td>\n",
       "      <td>https://www.restaurantlepirate.com/</td>\n",
       "      <td>Selected Restaurants</td>\n",
       "      <td>0.25</td>\n",
       "      <td>0</td>\n",
       "      <td>9.476285</td>\n",
       "      <td>42.774357</td>\n",
       "    </tr>\n",
       "    <tr>\n",
       "      <th>1539</th>\n",
       "      <td>Auberge du Prunelli</td>\n",
       "      <td>Pont de Pisciatello</td>\n",
       "      <td>Bastelicaccia, 20129</td>\n",
       "      <td>20</td>\n",
       "      <td>NaN</td>\n",
       "      <td>NaN</td>\n",
       "      <td>NaN</td>\n",
       "      <td>France</td>\n",
       "      <td>€€</td>\n",
       "      <td>Country cooking</td>\n",
       "      <td>https://auberge-du-prunelli.fr/</td>\n",
       "      <td>Selected Restaurants</td>\n",
       "      <td>0.25</td>\n",
       "      <td>0</td>\n",
       "      <td>8.836170</td>\n",
       "      <td>41.912650</td>\n",
       "    </tr>\n",
       "    <tr>\n",
       "      <th>1540</th>\n",
       "      <td>La Corniche</td>\n",
       "      <td>1 chemin di u Fornu (Hameau de Castagneto)</td>\n",
       "      <td>San-Martino-di-Lota, 20200</td>\n",
       "      <td>20</td>\n",
       "      <td>NaN</td>\n",
       "      <td>NaN</td>\n",
       "      <td>NaN</td>\n",
       "      <td>France</td>\n",
       "      <td>€€</td>\n",
       "      <td>Corsican</td>\n",
       "      <td>https://www.hotel-lacorniche.com/</td>\n",
       "      <td>Selected Restaurants</td>\n",
       "      <td>0.25</td>\n",
       "      <td>0</td>\n",
       "      <td>9.434726</td>\n",
       "      <td>42.734774</td>\n",
       "    </tr>\n",
       "    <tr>\n",
       "      <th>1599</th>\n",
       "      <td>I Salti</td>\n",
       "      <td>au golf du Reginu - Moulin de Salti</td>\n",
       "      <td>Speloncato, 20226</td>\n",
       "      <td>20</td>\n",
       "      <td>NaN</td>\n",
       "      <td>NaN</td>\n",
       "      <td>NaN</td>\n",
       "      <td>France</td>\n",
       "      <td>€€€</td>\n",
       "      <td>Modern Cuisine, Regional Cuisine</td>\n",
       "      <td>NaN</td>\n",
       "      <td>Selected Restaurants</td>\n",
       "      <td>0.25</td>\n",
       "      <td>0</td>\n",
       "      <td>8.977361</td>\n",
       "      <td>42.603896</td>\n",
       "    </tr>\n",
       "    <tr>\n",
       "      <th>1618</th>\n",
       "      <td>A Pignata</td>\n",
       "      <td>Route de Pianu</td>\n",
       "      <td>Levie, 20170</td>\n",
       "      <td>20</td>\n",
       "      <td>NaN</td>\n",
       "      <td>NaN</td>\n",
       "      <td>NaN</td>\n",
       "      <td>France</td>\n",
       "      <td>€€€</td>\n",
       "      <td>Corsican, Country cooking</td>\n",
       "      <td>https://www.apignata.com/</td>\n",
       "      <td>Selected Restaurants</td>\n",
       "      <td>0.25</td>\n",
       "      <td>0</td>\n",
       "      <td>9.101682</td>\n",
       "      <td>41.712556</td>\n",
       "    </tr>\n",
       "    <tr>\n",
       "      <th>1622</th>\n",
       "      <td>Da Passano</td>\n",
       "      <td>53 quai Comparetti</td>\n",
       "      <td>Bonifacio, 20169</td>\n",
       "      <td>20</td>\n",
       "      <td>NaN</td>\n",
       "      <td>NaN</td>\n",
       "      <td>NaN</td>\n",
       "      <td>France</td>\n",
       "      <td>€€</td>\n",
       "      <td>Corsican</td>\n",
       "      <td>https://www.da-passano.com/</td>\n",
       "      <td>Selected Restaurants</td>\n",
       "      <td>0.25</td>\n",
       "      <td>0</td>\n",
       "      <td>9.163720</td>\n",
       "      <td>41.387957</td>\n",
       "    </tr>\n",
       "    <tr>\n",
       "      <th>1712</th>\n",
       "      <td>Boccafine</td>\n",
       "      <td>au village</td>\n",
       "      <td>Nonza, 20217</td>\n",
       "      <td>20</td>\n",
       "      <td>NaN</td>\n",
       "      <td>NaN</td>\n",
       "      <td>NaN</td>\n",
       "      <td>France</td>\n",
       "      <td>€€€</td>\n",
       "      <td>Modern Cuisine</td>\n",
       "      <td>https://www.boccafine.fr/</td>\n",
       "      <td>Selected Restaurants</td>\n",
       "      <td>0.25</td>\n",
       "      <td>0</td>\n",
       "      <td>9.345024</td>\n",
       "      <td>42.784847</td>\n",
       "    </tr>\n",
       "    <tr>\n",
       "      <th>1717</th>\n",
       "      <td>L'A Cheda</td>\n",
       "      <td>Route de Cavallo-Morto</td>\n",
       "      <td>Bonifacio, 20169</td>\n",
       "      <td>20</td>\n",
       "      <td>NaN</td>\n",
       "      <td>NaN</td>\n",
       "      <td>NaN</td>\n",
       "      <td>France</td>\n",
       "      <td>€€€</td>\n",
       "      <td>Modern Cuisine</td>\n",
       "      <td>https://acheda-hotel.com/restaurant-gastronomi...</td>\n",
       "      <td>Selected Restaurants</td>\n",
       "      <td>0.25</td>\n",
       "      <td>0</td>\n",
       "      <td>9.169903</td>\n",
       "      <td>41.406264</td>\n",
       "    </tr>\n",
       "    <tr>\n",
       "      <th>2008</th>\n",
       "      <td>L'Écrin</td>\n",
       "      <td>16 cours du Général-Leclerc</td>\n",
       "      <td>Ajaccio, 20000</td>\n",
       "      <td>20</td>\n",
       "      <td>NaN</td>\n",
       "      <td>NaN</td>\n",
       "      <td>NaN</td>\n",
       "      <td>France</td>\n",
       "      <td>€€</td>\n",
       "      <td>Modern Cuisine</td>\n",
       "      <td>https://www.lecrinrestaurant.fr/</td>\n",
       "      <td>Selected Restaurants</td>\n",
       "      <td>0.25</td>\n",
       "      <td>0</td>\n",
       "      <td>8.727393</td>\n",
       "      <td>41.917196</td>\n",
       "    </tr>\n",
       "    <tr>\n",
       "      <th>2019</th>\n",
       "      <td>La Signoria</td>\n",
       "      <td>Route de la Forêt de Bonifato</td>\n",
       "      <td>Calvi, 20260</td>\n",
       "      <td>20</td>\n",
       "      <td>NaN</td>\n",
       "      <td>NaN</td>\n",
       "      <td>NaN</td>\n",
       "      <td>France</td>\n",
       "      <td>€€€€</td>\n",
       "      <td>Modern Cuisine</td>\n",
       "      <td>https://www.hotel-la-signoria.com/</td>\n",
       "      <td>Selected Restaurants</td>\n",
       "      <td>0.25</td>\n",
       "      <td>0</td>\n",
       "      <td>8.784631</td>\n",
       "      <td>42.536832</td>\n",
       "    </tr>\n",
       "    <tr>\n",
       "      <th>2121</th>\n",
       "      <td>Emporium</td>\n",
       "      <td>32 boulevard Napoléon, à San Ciprianu</td>\n",
       "      <td>Lecci, 20137</td>\n",
       "      <td>20</td>\n",
       "      <td>NaN</td>\n",
       "      <td>NaN</td>\n",
       "      <td>NaN</td>\n",
       "      <td>France</td>\n",
       "      <td>€€€</td>\n",
       "      <td>Modern Cuisine, Mediterranean Cuisine</td>\n",
       "      <td>NaN</td>\n",
       "      <td>Selected Restaurants</td>\n",
       "      <td>0.25</td>\n",
       "      <td>0</td>\n",
       "      <td>9.346516</td>\n",
       "      <td>41.638253</td>\n",
       "    </tr>\n",
       "    <tr>\n",
       "      <th>2790</th>\n",
       "      <td>Le Petit Restaurant</td>\n",
       "      <td>3 rue Pozzo-di-Borgo</td>\n",
       "      <td>Ajaccio, 20000</td>\n",
       "      <td>20</td>\n",
       "      <td>NaN</td>\n",
       "      <td>NaN</td>\n",
       "      <td>NaN</td>\n",
       "      <td>France</td>\n",
       "      <td>€€€</td>\n",
       "      <td>Modern Cuisine</td>\n",
       "      <td>https://lepetitrestaurant.fr/</td>\n",
       "      <td>Selected Restaurants</td>\n",
       "      <td>0.25</td>\n",
       "      <td>0</td>\n",
       "      <td>8.739543</td>\n",
       "      <td>41.918096</td>\n",
       "    </tr>\n",
       "    <tr>\n",
       "      <th>2805</th>\n",
       "      <td>La Sassa</td>\n",
       "      <td>à la tour de Nonza</td>\n",
       "      <td>Nonza, 20217</td>\n",
       "      <td>20</td>\n",
       "      <td>NaN</td>\n",
       "      <td>NaN</td>\n",
       "      <td>NaN</td>\n",
       "      <td>France</td>\n",
       "      <td>€€</td>\n",
       "      <td>Mediterranean Cuisine</td>\n",
       "      <td>https://www.lasassa.com</td>\n",
       "      <td>Selected Restaurants</td>\n",
       "      <td>0.25</td>\n",
       "      <td>0</td>\n",
       "      <td>9.343634</td>\n",
       "      <td>42.785085</td>\n",
       "    </tr>\n",
       "    <tr>\n",
       "      <th>2806</th>\n",
       "      <td>Terra Cotta</td>\n",
       "      <td>29 avenue Napoléon-III</td>\n",
       "      <td>Propriano, 20110</td>\n",
       "      <td>20</td>\n",
       "      <td>NaN</td>\n",
       "      <td>NaN</td>\n",
       "      <td>NaN</td>\n",
       "      <td>France</td>\n",
       "      <td>€€€</td>\n",
       "      <td>Seafood</td>\n",
       "      <td>NaN</td>\n",
       "      <td>Selected Restaurants</td>\n",
       "      <td>0.25</td>\n",
       "      <td>0</td>\n",
       "      <td>8.899937</td>\n",
       "      <td>41.675351</td>\n",
       "    </tr>\n",
       "    <tr>\n",
       "      <th>2813</th>\n",
       "      <td>La Pinède</td>\n",
       "      <td>à Cala-Rossa</td>\n",
       "      <td>Lecci, 20137</td>\n",
       "      <td>20</td>\n",
       "      <td>NaN</td>\n",
       "      <td>NaN</td>\n",
       "      <td>NaN</td>\n",
       "      <td>France</td>\n",
       "      <td>€€€€</td>\n",
       "      <td>Modern Cuisine</td>\n",
       "      <td>https://www.hotel-calarossa.com/fr</td>\n",
       "      <td>Selected Restaurants</td>\n",
       "      <td>0.25</td>\n",
       "      <td>0</td>\n",
       "      <td>9.338574</td>\n",
       "      <td>41.621459</td>\n",
       "    </tr>\n",
       "    <tr>\n",
       "      <th>2814</th>\n",
       "      <td>U Santa Marina</td>\n",
       "      <td>Marina di Santa-Giulia</td>\n",
       "      <td>Porto-Vecchio, 20137</td>\n",
       "      <td>20</td>\n",
       "      <td>NaN</td>\n",
       "      <td>NaN</td>\n",
       "      <td>NaN</td>\n",
       "      <td>France</td>\n",
       "      <td>€€€€</td>\n",
       "      <td>Modern Cuisine</td>\n",
       "      <td>https://usantamarina.com/</td>\n",
       "      <td>Selected Restaurants</td>\n",
       "      <td>0.25</td>\n",
       "      <td>0</td>\n",
       "      <td>9.280439</td>\n",
       "      <td>41.530989</td>\n",
       "    </tr>\n",
       "    <tr>\n",
       "      <th>2900</th>\n",
       "      <td>L'Arbousier</td>\n",
       "      <td>D55 - Boulevard Marie-Jeanne Bozzi</td>\n",
       "      <td>Porticcio, 20166</td>\n",
       "      <td>20</td>\n",
       "      <td>NaN</td>\n",
       "      <td>NaN</td>\n",
       "      <td>NaN</td>\n",
       "      <td>France</td>\n",
       "      <td>€€€€</td>\n",
       "      <td>Classic Cuisine</td>\n",
       "      <td>https://www.lemaquis.com/fr/</td>\n",
       "      <td>Selected Restaurants</td>\n",
       "      <td>0.25</td>\n",
       "      <td>0</td>\n",
       "      <td>8.785820</td>\n",
       "      <td>41.877790</td>\n",
       "    </tr>\n",
       "    <tr>\n",
       "      <th>2909</th>\n",
       "      <td>MaThy'S</td>\n",
       "      <td>Place Furnellu</td>\n",
       "      <td>Saint-Florent, 20217</td>\n",
       "      <td>20</td>\n",
       "      <td>NaN</td>\n",
       "      <td>NaN</td>\n",
       "      <td>NaN</td>\n",
       "      <td>France</td>\n",
       "      <td>€€€</td>\n",
       "      <td>Modern Cuisine</td>\n",
       "      <td>NaN</td>\n",
       "      <td>Selected Restaurants</td>\n",
       "      <td>0.25</td>\n",
       "      <td>0</td>\n",
       "      <td>9.300313</td>\n",
       "      <td>42.680910</td>\n",
       "    </tr>\n",
       "    <tr>\n",
       "      <th>2910</th>\n",
       "      <td>La Gaffe</td>\n",
       "      <td>Promenade des Quais</td>\n",
       "      <td>Saint-Florent, 20217</td>\n",
       "      <td>20</td>\n",
       "      <td>NaN</td>\n",
       "      <td>NaN</td>\n",
       "      <td>NaN</td>\n",
       "      <td>France</td>\n",
       "      <td>€€€</td>\n",
       "      <td>Modern Cuisine</td>\n",
       "      <td>https://www.restaurant-lagaffe.com/</td>\n",
       "      <td>Selected Restaurants</td>\n",
       "      <td>0.25</td>\n",
       "      <td>0</td>\n",
       "      <td>9.299012</td>\n",
       "      <td>42.681485</td>\n",
       "    </tr>\n",
       "    <tr>\n",
       "      <th>2911</th>\n",
       "      <td>Tempi Fà</td>\n",
       "      <td>11 avenue Napoléon-III</td>\n",
       "      <td>Propriano, 20110</td>\n",
       "      <td>20</td>\n",
       "      <td>NaN</td>\n",
       "      <td>NaN</td>\n",
       "      <td>NaN</td>\n",
       "      <td>France</td>\n",
       "      <td>€€</td>\n",
       "      <td>Country cooking</td>\n",
       "      <td>https://www.tempifa.com/</td>\n",
       "      <td>Selected Restaurants</td>\n",
       "      <td>0.25</td>\n",
       "      <td>0</td>\n",
       "      <td>8.902448</td>\n",
       "      <td>41.675673</td>\n",
       "    </tr>\n",
       "    <tr>\n",
       "      <th>2923</th>\n",
       "      <td>La Table de la Grotte</td>\n",
       "      <td>Domaine de Murtoli, Vallée de l'Ortolo</td>\n",
       "      <td>Sartène, 20100</td>\n",
       "      <td>20</td>\n",
       "      <td>NaN</td>\n",
       "      <td>NaN</td>\n",
       "      <td>NaN</td>\n",
       "      <td>France</td>\n",
       "      <td>€€€</td>\n",
       "      <td>Corsican</td>\n",
       "      <td>https://www.murtoli.com/</td>\n",
       "      <td>Selected Restaurants</td>\n",
       "      <td>0.25</td>\n",
       "      <td>0</td>\n",
       "      <td>8.948410</td>\n",
       "      <td>41.516722</td>\n",
       "    </tr>\n",
       "    <tr>\n",
       "      <th>2936</th>\n",
       "      <td>La Table de Mina</td>\n",
       "      <td>Route de Palombaggia</td>\n",
       "      <td>Porto-Vecchio, 20137</td>\n",
       "      <td>20</td>\n",
       "      <td>NaN</td>\n",
       "      <td>NaN</td>\n",
       "      <td>NaN</td>\n",
       "      <td>France</td>\n",
       "      <td>€€€</td>\n",
       "      <td>Modern Cuisine</td>\n",
       "      <td>https://hotel-palombaggia.com/</td>\n",
       "      <td>Selected Restaurants</td>\n",
       "      <td>0.25</td>\n",
       "      <td>0</td>\n",
       "      <td>9.280450</td>\n",
       "      <td>41.564660</td>\n",
       "    </tr>\n",
       "    <tr>\n",
       "      <th>2951</th>\n",
       "      <td>L'Auberge du Pêcheur</td>\n",
       "      <td>Route de Bastia</td>\n",
       "      <td>Saint-Florent, 20217</td>\n",
       "      <td>20</td>\n",
       "      <td>NaN</td>\n",
       "      <td>NaN</td>\n",
       "      <td>NaN</td>\n",
       "      <td>France</td>\n",
       "      <td>€€€</td>\n",
       "      <td>Seafood</td>\n",
       "      <td>https://www.aubergedupecheur.net/</td>\n",
       "      <td>Selected Restaurants</td>\n",
       "      <td>0.25</td>\n",
       "      <td>0</td>\n",
       "      <td>9.304287</td>\n",
       "      <td>42.681765</td>\n",
       "    </tr>\n",
       "    <tr>\n",
       "      <th>2952</th>\n",
       "      <td>Chez Parenti</td>\n",
       "      <td>10 avenue Napoléon-III</td>\n",
       "      <td>Propriano, 20110</td>\n",
       "      <td>20</td>\n",
       "      <td>NaN</td>\n",
       "      <td>NaN</td>\n",
       "      <td>NaN</td>\n",
       "      <td>France</td>\n",
       "      <td>€€€</td>\n",
       "      <td>Seafood</td>\n",
       "      <td>https://www.chezparenti.fr/</td>\n",
       "      <td>Selected Restaurants</td>\n",
       "      <td>0.25</td>\n",
       "      <td>0</td>\n",
       "      <td>8.902112</td>\n",
       "      <td>41.675710</td>\n",
       "    </tr>\n",
       "    <tr>\n",
       "      <th>2958</th>\n",
       "      <td>Chez Séraphin</td>\n",
       "      <td>au village</td>\n",
       "      <td>Peri, 20167</td>\n",
       "      <td>20</td>\n",
       "      <td>NaN</td>\n",
       "      <td>NaN</td>\n",
       "      <td>NaN</td>\n",
       "      <td>France</td>\n",
       "      <td>€€€</td>\n",
       "      <td>Traditional Cuisine</td>\n",
       "      <td>NaN</td>\n",
       "      <td>Selected Restaurants</td>\n",
       "      <td>0.25</td>\n",
       "      <td>0</td>\n",
       "      <td>8.921363</td>\n",
       "      <td>42.005178</td>\n",
       "    </tr>\n",
       "    <tr>\n",
       "      <th>2959</th>\n",
       "      <td>Le Belvédère</td>\n",
       "      <td>Route de Palombaggia</td>\n",
       "      <td>Porto-Vecchio, 20137</td>\n",
       "      <td>20</td>\n",
       "      <td>NaN</td>\n",
       "      <td>NaN</td>\n",
       "      <td>NaN</td>\n",
       "      <td>France</td>\n",
       "      <td>€€€</td>\n",
       "      <td>Modern Cuisine</td>\n",
       "      <td>https://www.hbcorsica.com/</td>\n",
       "      <td>Selected Restaurants</td>\n",
       "      <td>0.25</td>\n",
       "      <td>0</td>\n",
       "      <td>9.300083</td>\n",
       "      <td>41.586447</td>\n",
       "    </tr>\n",
       "    <tr>\n",
       "      <th>2961</th>\n",
       "      <td>Don Cesar</td>\n",
       "      <td>Rue du Commandant-Quilici</td>\n",
       "      <td>Porto-Vecchio, 20137</td>\n",
       "      <td>20</td>\n",
       "      <td>NaN</td>\n",
       "      <td>NaN</td>\n",
       "      <td>NaN</td>\n",
       "      <td>France</td>\n",
       "      <td>€€€€</td>\n",
       "      <td>Modern Cuisine, Mediterranean Cuisine</td>\n",
       "      <td>https://www.hoteldoncesar.com</td>\n",
       "      <td>Selected Restaurants</td>\n",
       "      <td>0.25</td>\n",
       "      <td>0</td>\n",
       "      <td>9.284597</td>\n",
       "      <td>41.599463</td>\n",
       "    </tr>\n",
       "    <tr>\n",
       "      <th>2977</th>\n",
       "      <td>La Table de la Plage</td>\n",
       "      <td>Domaine de Murtoli, Vallée de l'Ortolo</td>\n",
       "      <td>Sartène, 20100</td>\n",
       "      <td>20</td>\n",
       "      <td>NaN</td>\n",
       "      <td>NaN</td>\n",
       "      <td>NaN</td>\n",
       "      <td>France</td>\n",
       "      <td>€€€€</td>\n",
       "      <td>Mediterranean Cuisine</td>\n",
       "      <td>https://www.murtoli.com/</td>\n",
       "      <td>Selected Restaurants</td>\n",
       "      <td>0.25</td>\n",
       "      <td>0</td>\n",
       "      <td>8.912429</td>\n",
       "      <td>41.509204</td>\n",
       "    </tr>\n",
       "  </tbody>\n",
       "</table>\n",
       "</div>"
      ]
     },
     "execution_count": 24,
     "metadata": {},
     "output_type": "execute_result"
    }
   ],
   "execution_count": 24
  },
  {
   "cell_type": "markdown",
   "source": [
    "There's some NBSP characters present. We can remove them from all data"
   ],
   "metadata": {
    "collapsed": false
   }
  },
  {
   "cell_type": "code",
   "source": [
    "def strip_nbsp(cell):\n",
    "    if isinstance(cell, str):\n",
    "        return cell.replace('\\xa0', '')\n",
    "    return cell"
   ],
   "metadata": {
    "collapsed": false,
    "ExecuteTime": {
     "end_time": "2025-04-01T16:07:58.999746Z",
     "start_time": "2025-04-01T16:07:58.996644Z"
    }
   },
   "outputs": [],
   "execution_count": 25
  },
  {
   "cell_type": "code",
   "source": "france_data = france_data.map(strip_nbsp)",
   "metadata": {
    "collapsed": false,
    "ExecuteTime": {
     "end_time": "2025-04-01T16:08:01.428953Z",
     "start_time": "2025-04-01T16:08:01.416578Z"
    }
   },
   "outputs": [],
   "execution_count": 26
  },
  {
   "cell_type": "code",
   "source": [
    "contains_nbsp = (france_data.map(lambda cell: r'\\xa0' in str(cell))).any().any()\n",
    "print(f\"NBSP present? {contains_nbsp}\")"
   ],
   "metadata": {
    "collapsed": false,
    "ExecuteTime": {
     "end_time": "2025-04-01T16:08:04.068331Z",
     "start_time": "2025-04-01T16:08:04.053191Z"
    }
   },
   "outputs": [
    {
     "name": "stdout",
     "output_type": "stream",
     "text": [
      "NBSP present? False\n"
     ]
    }
   ],
   "execution_count": 27
  },
  {
   "cell_type": "markdown",
   "source": [
    "`department_num`: 20 represents Corsica\n",
    "\n",
    "There are two departments for Corse; 2A and 2B"
   ],
   "metadata": {
    "collapsed": false
   }
  },
  {
   "metadata": {
    "ExecuteTime": {
     "end_time": "2025-04-01T16:08:12.720714Z",
     "start_time": "2025-04-01T16:08:12.717518Z"
    }
   },
   "cell_type": "code",
   "source": [
    "def extract_postal_code(location):\n",
    "    if isinstance(location, str) and ',' in location:\n",
    "        parts = location.split(',')\n",
    "        return parts[-1].strip()\n",
    "    return \"\"\n",
    "\n",
    "def map_corsica_department_info(code_postal):\n",
    "    code_postal = str(code_postal)\n",
    "\n",
    "    if code_postal.startswith(('200', '201')):\n",
    "        return ('2A', 'Corse-du-Sud', 'Ajaccio', 'Corsica')\n",
    "    elif code_postal.startswith('202'):\n",
    "        return ('2B', 'Haute-Corse', 'Bastia', 'Corsica')\n",
    "    return (None, None, None, None)"
   ],
   "outputs": [],
   "execution_count": 28
  },
  {
   "cell_type": "code",
   "source": [
    "# Create boolean mask\n",
    "mask_corsica = france_data['department_num'] == \"20\"\n",
    "# Extract postal codes from location\n",
    "postal_codes = france_data.loc[mask_corsica, 'location'].apply(extract_postal_code)\n",
    "\n",
    "# Apply the mapping\n",
    "corsica_info = postal_codes.apply(lambda cp: pd.Series(map_corsica_department_info(cp)))\n",
    "corsica_info.columns = ['department_num', 'department', 'capital', 'region']\n",
    "\n",
    "# Assign the mapped values back to the DataFrame\n",
    "france_data.loc[mask_corsica, ['department_num', 'department', 'capital', 'region']] = corsica_info\n",
    "\n",
    "# Verify the changes\n",
    "france_data[france_data['department_num'] == '20'][['department_num', 'department']]"
   ],
   "metadata": {
    "collapsed": false,
    "ExecuteTime": {
     "end_time": "2025-04-01T16:08:17.934526Z",
     "start_time": "2025-04-01T16:08:17.923768Z"
    }
   },
   "outputs": [
    {
     "data": {
      "text/plain": [
       "Empty DataFrame\n",
       "Columns: [department_num, department]\n",
       "Index: []"
      ],
      "text/html": [
       "<div>\n",
       "<style scoped>\n",
       "    .dataframe tbody tr th:only-of-type {\n",
       "        vertical-align: middle;\n",
       "    }\n",
       "\n",
       "    .dataframe tbody tr th {\n",
       "        vertical-align: top;\n",
       "    }\n",
       "\n",
       "    .dataframe thead th {\n",
       "        text-align: right;\n",
       "    }\n",
       "</style>\n",
       "<table border=\"1\" class=\"dataframe\">\n",
       "  <thead>\n",
       "    <tr style=\"text-align: right;\">\n",
       "      <th></th>\n",
       "      <th>department_num</th>\n",
       "      <th>department</th>\n",
       "    </tr>\n",
       "  </thead>\n",
       "  <tbody>\n",
       "  </tbody>\n",
       "</table>\n",
       "</div>"
      ]
     },
     "execution_count": 29,
     "metadata": {},
     "output_type": "execute_result"
    }
   ],
   "execution_count": 29
  },
  {
   "cell_type": "code",
   "source": [
    "# We drop the column 'country' as only France represented\n",
    "france_data.drop('country', axis=1, inplace=True)"
   ],
   "metadata": {
    "collapsed": false,
    "ExecuteTime": {
     "end_time": "2025-04-01T16:08:22.016174Z",
     "start_time": "2025-04-01T16:08:22.011687Z"
    }
   },
   "outputs": [],
   "execution_count": 30
  },
  {
   "cell_type": "code",
   "source": [
    "# We split by city != Paris again\n",
    "rest_of_france = france_data[france_data['department'] != 'Paris']"
   ],
   "metadata": {
    "collapsed": false,
    "ExecuteTime": {
     "end_time": "2025-04-01T16:08:25.220979Z",
     "start_time": "2025-04-01T16:08:25.216106Z"
    }
   },
   "outputs": [],
   "execution_count": 31
  },
  {
   "cell_type": "code",
   "source": [
    "rest_of_france.info()"
   ],
   "metadata": {
    "collapsed": false,
    "ExecuteTime": {
     "end_time": "2025-04-01T16:08:28.374145Z",
     "start_time": "2025-04-01T16:08:28.368269Z"
    }
   },
   "outputs": [
    {
     "name": "stdout",
     "output_type": "stream",
     "text": [
      "<class 'pandas.core.frame.DataFrame'>\n",
      "Index: 2525 entries, 1 to 2983\n",
      "Data columns (total 15 columns):\n",
      " #   Column          Non-Null Count  Dtype  \n",
      "---  ------          --------------  -----  \n",
      " 0   name            2525 non-null   object \n",
      " 1   address         2525 non-null   object \n",
      " 2   location        2525 non-null   object \n",
      " 3   department_num  2525 non-null   object \n",
      " 4   department      2525 non-null   object \n",
      " 5   capital         2525 non-null   object \n",
      " 6   region          2525 non-null   object \n",
      " 7   price           2525 non-null   object \n",
      " 8   cuisine         2525 non-null   object \n",
      " 9   url             2390 non-null   object \n",
      " 10  award           2525 non-null   object \n",
      " 11  stars           2525 non-null   float64\n",
      " 12  greenstar       2525 non-null   int64  \n",
      " 13  longitude       2525 non-null   float64\n",
      " 14  latitude        2525 non-null   float64\n",
      "dtypes: float64(3), int64(1), object(11)\n",
      "memory usage: 315.6+ KB\n"
     ]
    }
   ],
   "execution_count": 32
  },
  {
   "cell_type": "markdown",
   "source": [
    "Again, `url` has some missing values."
   ],
   "metadata": {
    "collapsed": false
   }
  },
  {
   "cell_type": "markdown",
   "source": [
    "We export `france_data` as `all_restaurants.csv`"
   ],
   "metadata": {
    "collapsed": false
   }
  },
  {
   "cell_type": "code",
   "source": [
    "# Export the DataFrame to a .csv file\n",
    "france_data.to_csv('../../data/France/all_restaurants.csv', index=False)"
   ],
   "metadata": {
    "collapsed": false,
    "ExecuteTime": {
     "end_time": "2025-04-01T16:08:45.280121Z",
     "start_time": "2025-04-01T16:08:45.263905Z"
    }
   },
   "outputs": [],
   "execution_count": 33
  },
  {
   "cell_type": "markdown",
   "source": [
    "----\n",
    "&nbsp;\n",
    "## Merging `demographics` and `departemments.geojson` for EDA"
   ],
   "metadata": {
    "collapsed": false
   }
  },
  {
   "cell_type": "code",
   "source": [
    "demographics = pd.read_csv(\"../../../../ExtraData/Demographics/demographics_2023.csv\")\n",
    "demographics.head()"
   ],
   "metadata": {
    "collapsed": false,
    "ExecuteTime": {
     "end_time": "2025-04-01T16:08:48.831173Z",
     "start_time": "2025-04-01T16:08:48.821801Z"
    }
   },
   "outputs": [
    {
     "data": {
      "text/plain": [
       "  department_num               department          capital  \\\n",
       "0             01                      Ain  Bourg-en-Bresse   \n",
       "1             02                    Aisne             Laon   \n",
       "2             03                   Allier          Moulins   \n",
       "3             04  Alpes-de-Haute-Provence  Digne-les-Bains   \n",
       "4             05             Hautes-Alpes              Gap   \n",
       "\n",
       "                       region  GDP_millions(€)  GDP_per_capita(€)  \\\n",
       "0        Auvergne-Rhône-Alpes         16726.40           24916.84   \n",
       "1             Hauts-de-France         12016.40           22864.08   \n",
       "2        Auvergne-Rhône-Alpes          8278.98           24734.42   \n",
       "3  Provence-Alpes-Côte d'Azur          4154.79           24852.34   \n",
       "4  Provence-Alpes-Côte d'Azur          3756.22           26512.56   \n",
       "\n",
       "   poverty_rate(%)  average_annual_unemployment_rate(%)  \\\n",
       "0             10.8                                  5.5   \n",
       "1             18.8                                 10.5   \n",
       "2             16.2                                  7.8   \n",
       "3             17.1                                  8.1   \n",
       "4             14.7                                  6.6   \n",
       "\n",
       "   average_net_hourly_wage(€)  municipal_population  \\\n",
       "0                       15.96              671289.0   \n",
       "1                       14.46              525558.0   \n",
       "2                       14.19              334715.0   \n",
       "3                       14.60              167179.0   \n",
       "4                       13.99              141677.0   \n",
       "\n",
       "   population_density(inhabitants/sq_km)  area(sq_km)  \n",
       "0                                  115.1      5832.22  \n",
       "1                                   71.7      7329.96  \n",
       "2                                   45.6      7340.24  \n",
       "3                                   24.0      6965.79  \n",
       "4                                   25.4      5577.83  "
      ],
      "text/html": [
       "<div>\n",
       "<style scoped>\n",
       "    .dataframe tbody tr th:only-of-type {\n",
       "        vertical-align: middle;\n",
       "    }\n",
       "\n",
       "    .dataframe tbody tr th {\n",
       "        vertical-align: top;\n",
       "    }\n",
       "\n",
       "    .dataframe thead th {\n",
       "        text-align: right;\n",
       "    }\n",
       "</style>\n",
       "<table border=\"1\" class=\"dataframe\">\n",
       "  <thead>\n",
       "    <tr style=\"text-align: right;\">\n",
       "      <th></th>\n",
       "      <th>department_num</th>\n",
       "      <th>department</th>\n",
       "      <th>capital</th>\n",
       "      <th>region</th>\n",
       "      <th>GDP_millions(€)</th>\n",
       "      <th>GDP_per_capita(€)</th>\n",
       "      <th>poverty_rate(%)</th>\n",
       "      <th>average_annual_unemployment_rate(%)</th>\n",
       "      <th>average_net_hourly_wage(€)</th>\n",
       "      <th>municipal_population</th>\n",
       "      <th>population_density(inhabitants/sq_km)</th>\n",
       "      <th>area(sq_km)</th>\n",
       "    </tr>\n",
       "  </thead>\n",
       "  <tbody>\n",
       "    <tr>\n",
       "      <th>0</th>\n",
       "      <td>01</td>\n",
       "      <td>Ain</td>\n",
       "      <td>Bourg-en-Bresse</td>\n",
       "      <td>Auvergne-Rhône-Alpes</td>\n",
       "      <td>16726.40</td>\n",
       "      <td>24916.84</td>\n",
       "      <td>10.8</td>\n",
       "      <td>5.5</td>\n",
       "      <td>15.96</td>\n",
       "      <td>671289.0</td>\n",
       "      <td>115.1</td>\n",
       "      <td>5832.22</td>\n",
       "    </tr>\n",
       "    <tr>\n",
       "      <th>1</th>\n",
       "      <td>02</td>\n",
       "      <td>Aisne</td>\n",
       "      <td>Laon</td>\n",
       "      <td>Hauts-de-France</td>\n",
       "      <td>12016.40</td>\n",
       "      <td>22864.08</td>\n",
       "      <td>18.8</td>\n",
       "      <td>10.5</td>\n",
       "      <td>14.46</td>\n",
       "      <td>525558.0</td>\n",
       "      <td>71.7</td>\n",
       "      <td>7329.96</td>\n",
       "    </tr>\n",
       "    <tr>\n",
       "      <th>2</th>\n",
       "      <td>03</td>\n",
       "      <td>Allier</td>\n",
       "      <td>Moulins</td>\n",
       "      <td>Auvergne-Rhône-Alpes</td>\n",
       "      <td>8278.98</td>\n",
       "      <td>24734.42</td>\n",
       "      <td>16.2</td>\n",
       "      <td>7.8</td>\n",
       "      <td>14.19</td>\n",
       "      <td>334715.0</td>\n",
       "      <td>45.6</td>\n",
       "      <td>7340.24</td>\n",
       "    </tr>\n",
       "    <tr>\n",
       "      <th>3</th>\n",
       "      <td>04</td>\n",
       "      <td>Alpes-de-Haute-Provence</td>\n",
       "      <td>Digne-les-Bains</td>\n",
       "      <td>Provence-Alpes-Côte d'Azur</td>\n",
       "      <td>4154.79</td>\n",
       "      <td>24852.34</td>\n",
       "      <td>17.1</td>\n",
       "      <td>8.1</td>\n",
       "      <td>14.60</td>\n",
       "      <td>167179.0</td>\n",
       "      <td>24.0</td>\n",
       "      <td>6965.79</td>\n",
       "    </tr>\n",
       "    <tr>\n",
       "      <th>4</th>\n",
       "      <td>05</td>\n",
       "      <td>Hautes-Alpes</td>\n",
       "      <td>Gap</td>\n",
       "      <td>Provence-Alpes-Côte d'Azur</td>\n",
       "      <td>3756.22</td>\n",
       "      <td>26512.56</td>\n",
       "      <td>14.7</td>\n",
       "      <td>6.6</td>\n",
       "      <td>13.99</td>\n",
       "      <td>141677.0</td>\n",
       "      <td>25.4</td>\n",
       "      <td>5577.83</td>\n",
       "    </tr>\n",
       "  </tbody>\n",
       "</table>\n",
       "</div>"
      ]
     },
     "execution_count": 34,
     "metadata": {},
     "output_type": "execute_result"
    }
   ],
   "execution_count": 34
  },
  {
   "cell_type": "markdown",
   "source": [
    "To visualise the demographics data, we require a GeoJSON file of the departmental boundaries of metropolitan France\n",
    "\n",
    "Credit: [gregoiredavid.github](https://github.com/gregoiredavid/france-geojson)"
   ],
   "metadata": {
    "collapsed": false
   }
  },
  {
   "cell_type": "code",
   "source": [
    "# Load the GeoJSON file\n",
    "gdf = gpd.read_file('../../../../ExtraData/Geodata/departements.geojson')\n",
    "gdf.head()"
   ],
   "metadata": {
    "collapsed": false,
    "ExecuteTime": {
     "end_time": "2025-04-01T16:08:52.761721Z",
     "start_time": "2025-04-01T16:08:52.517825Z"
    }
   },
   "outputs": [
    {
     "data": {
      "text/plain": [
       "  code                      nom  \\\n",
       "0   01                      Ain   \n",
       "1   02                    Aisne   \n",
       "2   03                   Allier   \n",
       "3   04  Alpes-de-Haute-Provence   \n",
       "4   05             Hautes-Alpes   \n",
       "\n",
       "                                            geometry  \n",
       "0  POLYGON ((4.78021 46.17668, 4.78024 46.18905, ...  \n",
       "1  POLYGON ((3.17296 50.01131, 3.17382 50.01186, ...  \n",
       "2  POLYGON ((3.03207 46.79491, 3.03424 46.7908, 3...  \n",
       "3  POLYGON ((5.67604 44.19143, 5.67817 44.19051, ...  \n",
       "4  POLYGON ((6.26057 45.12685, 6.26417 45.12641, ...  "
      ],
      "text/html": [
       "<div>\n",
       "<style scoped>\n",
       "    .dataframe tbody tr th:only-of-type {\n",
       "        vertical-align: middle;\n",
       "    }\n",
       "\n",
       "    .dataframe tbody tr th {\n",
       "        vertical-align: top;\n",
       "    }\n",
       "\n",
       "    .dataframe thead th {\n",
       "        text-align: right;\n",
       "    }\n",
       "</style>\n",
       "<table border=\"1\" class=\"dataframe\">\n",
       "  <thead>\n",
       "    <tr style=\"text-align: right;\">\n",
       "      <th></th>\n",
       "      <th>code</th>\n",
       "      <th>nom</th>\n",
       "      <th>geometry</th>\n",
       "    </tr>\n",
       "  </thead>\n",
       "  <tbody>\n",
       "    <tr>\n",
       "      <th>0</th>\n",
       "      <td>01</td>\n",
       "      <td>Ain</td>\n",
       "      <td>POLYGON ((4.78021 46.17668, 4.78024 46.18905, ...</td>\n",
       "    </tr>\n",
       "    <tr>\n",
       "      <th>1</th>\n",
       "      <td>02</td>\n",
       "      <td>Aisne</td>\n",
       "      <td>POLYGON ((3.17296 50.01131, 3.17382 50.01186, ...</td>\n",
       "    </tr>\n",
       "    <tr>\n",
       "      <th>2</th>\n",
       "      <td>03</td>\n",
       "      <td>Allier</td>\n",
       "      <td>POLYGON ((3.03207 46.79491, 3.03424 46.7908, 3...</td>\n",
       "    </tr>\n",
       "    <tr>\n",
       "      <th>3</th>\n",
       "      <td>04</td>\n",
       "      <td>Alpes-de-Haute-Provence</td>\n",
       "      <td>POLYGON ((5.67604 44.19143, 5.67817 44.19051, ...</td>\n",
       "    </tr>\n",
       "    <tr>\n",
       "      <th>4</th>\n",
       "      <td>05</td>\n",
       "      <td>Hautes-Alpes</td>\n",
       "      <td>POLYGON ((6.26057 45.12685, 6.26417 45.12641, ...</td>\n",
       "    </tr>\n",
       "  </tbody>\n",
       "</table>\n",
       "</div>"
      ]
     },
     "execution_count": 35,
     "metadata": {},
     "output_type": "execute_result"
    }
   ],
   "execution_count": 35
  },
  {
   "cell_type": "markdown",
   "source": [
    "We can join the geoJSON data on `code` and delete the `nom` column"
   ],
   "metadata": {
    "collapsed": false
   }
  },
  {
   "cell_type": "code",
   "source": [
    "# Merge dataframes\n",
    "merged = gdf.set_index('code').join(demographics.set_index('department_num'))\n",
    "\n",
    "# Delete 'nom' column in place\n",
    "merged.drop(columns='nom', inplace=True)\n",
    "\n",
    "print(len(merged))\n",
    "merged.head()"
   ],
   "metadata": {
    "collapsed": false,
    "ExecuteTime": {
     "end_time": "2025-04-01T16:08:57.045684Z",
     "start_time": "2025-04-01T16:08:57.034859Z"
    }
   },
   "outputs": [
    {
     "name": "stdout",
     "output_type": "stream",
     "text": [
      "96\n"
     ]
    },
    {
     "data": {
      "text/plain": [
       "                                               geometry  \\\n",
       "code                                                      \n",
       "01    POLYGON ((4.78021 46.17668, 4.78024 46.18905, ...   \n",
       "02    POLYGON ((3.17296 50.01131, 3.17382 50.01186, ...   \n",
       "03    POLYGON ((3.03207 46.79491, 3.03424 46.7908, 3...   \n",
       "04    POLYGON ((5.67604 44.19143, 5.67817 44.19051, ...   \n",
       "05    POLYGON ((6.26057 45.12685, 6.26417 45.12641, ...   \n",
       "\n",
       "                   department          capital                      region  \\\n",
       "code                                                                         \n",
       "01                        Ain  Bourg-en-Bresse        Auvergne-Rhône-Alpes   \n",
       "02                      Aisne             Laon             Hauts-de-France   \n",
       "03                     Allier          Moulins        Auvergne-Rhône-Alpes   \n",
       "04    Alpes-de-Haute-Provence  Digne-les-Bains  Provence-Alpes-Côte d'Azur   \n",
       "05               Hautes-Alpes              Gap  Provence-Alpes-Côte d'Azur   \n",
       "\n",
       "      GDP_millions(€)  GDP_per_capita(€)  poverty_rate(%)  \\\n",
       "code                                                        \n",
       "01           16726.40           24916.84             10.8   \n",
       "02           12016.40           22864.08             18.8   \n",
       "03            8278.98           24734.42             16.2   \n",
       "04            4154.79           24852.34             17.1   \n",
       "05            3756.22           26512.56             14.7   \n",
       "\n",
       "      average_annual_unemployment_rate(%)  average_net_hourly_wage(€)  \\\n",
       "code                                                                    \n",
       "01                                    5.5                       15.96   \n",
       "02                                   10.5                       14.46   \n",
       "03                                    7.8                       14.19   \n",
       "04                                    8.1                       14.60   \n",
       "05                                    6.6                       13.99   \n",
       "\n",
       "      municipal_population  population_density(inhabitants/sq_km)  area(sq_km)  \n",
       "code                                                                            \n",
       "01                671289.0                                  115.1      5832.22  \n",
       "02                525558.0                                   71.7      7329.96  \n",
       "03                334715.0                                   45.6      7340.24  \n",
       "04                167179.0                                   24.0      6965.79  \n",
       "05                141677.0                                   25.4      5577.83  "
      ],
      "text/html": [
       "<div>\n",
       "<style scoped>\n",
       "    .dataframe tbody tr th:only-of-type {\n",
       "        vertical-align: middle;\n",
       "    }\n",
       "\n",
       "    .dataframe tbody tr th {\n",
       "        vertical-align: top;\n",
       "    }\n",
       "\n",
       "    .dataframe thead th {\n",
       "        text-align: right;\n",
       "    }\n",
       "</style>\n",
       "<table border=\"1\" class=\"dataframe\">\n",
       "  <thead>\n",
       "    <tr style=\"text-align: right;\">\n",
       "      <th></th>\n",
       "      <th>geometry</th>\n",
       "      <th>department</th>\n",
       "      <th>capital</th>\n",
       "      <th>region</th>\n",
       "      <th>GDP_millions(€)</th>\n",
       "      <th>GDP_per_capita(€)</th>\n",
       "      <th>poverty_rate(%)</th>\n",
       "      <th>average_annual_unemployment_rate(%)</th>\n",
       "      <th>average_net_hourly_wage(€)</th>\n",
       "      <th>municipal_population</th>\n",
       "      <th>population_density(inhabitants/sq_km)</th>\n",
       "      <th>area(sq_km)</th>\n",
       "    </tr>\n",
       "    <tr>\n",
       "      <th>code</th>\n",
       "      <th></th>\n",
       "      <th></th>\n",
       "      <th></th>\n",
       "      <th></th>\n",
       "      <th></th>\n",
       "      <th></th>\n",
       "      <th></th>\n",
       "      <th></th>\n",
       "      <th></th>\n",
       "      <th></th>\n",
       "      <th></th>\n",
       "      <th></th>\n",
       "    </tr>\n",
       "  </thead>\n",
       "  <tbody>\n",
       "    <tr>\n",
       "      <th>01</th>\n",
       "      <td>POLYGON ((4.78021 46.17668, 4.78024 46.18905, ...</td>\n",
       "      <td>Ain</td>\n",
       "      <td>Bourg-en-Bresse</td>\n",
       "      <td>Auvergne-Rhône-Alpes</td>\n",
       "      <td>16726.40</td>\n",
       "      <td>24916.84</td>\n",
       "      <td>10.8</td>\n",
       "      <td>5.5</td>\n",
       "      <td>15.96</td>\n",
       "      <td>671289.0</td>\n",
       "      <td>115.1</td>\n",
       "      <td>5832.22</td>\n",
       "    </tr>\n",
       "    <tr>\n",
       "      <th>02</th>\n",
       "      <td>POLYGON ((3.17296 50.01131, 3.17382 50.01186, ...</td>\n",
       "      <td>Aisne</td>\n",
       "      <td>Laon</td>\n",
       "      <td>Hauts-de-France</td>\n",
       "      <td>12016.40</td>\n",
       "      <td>22864.08</td>\n",
       "      <td>18.8</td>\n",
       "      <td>10.5</td>\n",
       "      <td>14.46</td>\n",
       "      <td>525558.0</td>\n",
       "      <td>71.7</td>\n",
       "      <td>7329.96</td>\n",
       "    </tr>\n",
       "    <tr>\n",
       "      <th>03</th>\n",
       "      <td>POLYGON ((3.03207 46.79491, 3.03424 46.7908, 3...</td>\n",
       "      <td>Allier</td>\n",
       "      <td>Moulins</td>\n",
       "      <td>Auvergne-Rhône-Alpes</td>\n",
       "      <td>8278.98</td>\n",
       "      <td>24734.42</td>\n",
       "      <td>16.2</td>\n",
       "      <td>7.8</td>\n",
       "      <td>14.19</td>\n",
       "      <td>334715.0</td>\n",
       "      <td>45.6</td>\n",
       "      <td>7340.24</td>\n",
       "    </tr>\n",
       "    <tr>\n",
       "      <th>04</th>\n",
       "      <td>POLYGON ((5.67604 44.19143, 5.67817 44.19051, ...</td>\n",
       "      <td>Alpes-de-Haute-Provence</td>\n",
       "      <td>Digne-les-Bains</td>\n",
       "      <td>Provence-Alpes-Côte d'Azur</td>\n",
       "      <td>4154.79</td>\n",
       "      <td>24852.34</td>\n",
       "      <td>17.1</td>\n",
       "      <td>8.1</td>\n",
       "      <td>14.60</td>\n",
       "      <td>167179.0</td>\n",
       "      <td>24.0</td>\n",
       "      <td>6965.79</td>\n",
       "    </tr>\n",
       "    <tr>\n",
       "      <th>05</th>\n",
       "      <td>POLYGON ((6.26057 45.12685, 6.26417 45.12641, ...</td>\n",
       "      <td>Hautes-Alpes</td>\n",
       "      <td>Gap</td>\n",
       "      <td>Provence-Alpes-Côte d'Azur</td>\n",
       "      <td>3756.22</td>\n",
       "      <td>26512.56</td>\n",
       "      <td>14.7</td>\n",
       "      <td>6.6</td>\n",
       "      <td>13.99</td>\n",
       "      <td>141677.0</td>\n",
       "      <td>25.4</td>\n",
       "      <td>5577.83</td>\n",
       "    </tr>\n",
       "  </tbody>\n",
       "</table>\n",
       "</div>"
      ]
     },
     "execution_count": 36,
     "metadata": {},
     "output_type": "execute_result"
    }
   ],
   "execution_count": 36
  },
  {
   "cell_type": "markdown",
   "source": [
    "### Creating Visualisation of `population` & `population_density`"
   ],
   "metadata": {
    "collapsed": false
   }
  },
  {
   "cell_type": "code",
   "source": [
    "# Plotting\n",
    "fig, ax = plt.subplots(1, 1, figsize=(10, 10))\n",
    "# Create map\n",
    "merged.plot(column='municipal_population',\n",
    "            cmap='Blues',\n",
    "            linewidth=0.8,\n",
    "            ax=ax,\n",
    "            edgecolor='0.8',\n",
    "            legend=True,\n",
    "            legend_kwds={'label': \"Population by Department\",\n",
    "                         'orientation': \"horizontal\"})\n",
    "plt.title(\"Total Population - Metropolitan France\\nDepartmental\")\n",
    "plt.tight_layout()\n",
    "plt.show()"
   ],
   "metadata": {
    "collapsed": false,
    "ExecuteTime": {
     "end_time": "2025-04-01T16:09:03.335469Z",
     "start_time": "2025-04-01T16:09:03.098707Z"
    }
   },
   "outputs": [
    {
     "data": {
      "text/plain": [
       "<Figure size 1000x1000 with 2 Axes>"
      ],
      "image/png": "[encoded data removed]"
     },
     "metadata": {},
     "output_type": "display_data"
    }
   ],
   "execution_count": 37
  },
  {
   "cell_type": "markdown",
   "source": [
    "#### There's a huge range of values in `population_density`\n",
    "\n",
    "We apply a log transformation and bin by 'natural breaks' in the data"
   ],
   "metadata": {
    "collapsed": false
   }
  },
  {
   "cell_type": "code",
   "source": [
    "# Apply log transformation to the density column\n",
    "merged['log_population_density'] = np.log(merged['population_density(inhabitants/sq_km)'] + 1)  # Add 1 or a small constant to avoid log(0)\n",
    "# Define classification scheme\n",
    "classifier = mapclassify.NaturalBreaks(merged['log_population_density'], k=7)  # Using NaturalBreaks\n",
    "# Apply classification to dataframe\n",
    "merged['classification'] = merged[['log_population_density']].apply(classifier)\n",
    "\n",
    "# Plotting\n",
    "fig, ax = plt.subplots(1, 1, figsize=(10, 10))\n",
    "# Create map\n",
    "merged.plot(column='classification',\n",
    "            cmap='Blues',\n",
    "            linewidth=0.8,\n",
    "            ax=ax,\n",
    "            edgecolor='0.8',\n",
    "            legend=False) # we will create a custom legend\n",
    "\n",
    "# Create legend\n",
    "labels = []\n",
    "# Create a list of bin boundaries in original scale\n",
    "bin_edges_exp = np.exp(classifier.bins) - 1\n",
    "for i in range(len(bin_edges_exp) - 1):\n",
    "    label = f\"{bin_edges_exp[i]:.0f} - {bin_edges_exp[i+1]:.0f}\"\n",
    "    labels.append(mpatches.Patch(color=plt.cm.Blues(i / (len(bin_edges_exp) - 2)),\n",
    "                                 label=label))\n",
    "plt.legend(handles=labels,\n",
    "           title='Population Density by Department. Total Pop/Area',\n",
    "           bbox_to_anchor=(0.5, -0.05),\n",
    "           loc='upper center')\n",
    "plt.title(\"Departmental Population Density - Metropolitan France\\nLogarithmic Scale\")\n",
    "plt.show()"
   ],
   "metadata": {
    "collapsed": false,
    "ExecuteTime": {
     "end_time": "2025-04-01T16:09:09.622128Z",
     "start_time": "2025-04-01T16:09:09.352576Z"
    }
   },
   "outputs": [
    {
     "data": {
      "text/plain": [
       "<Figure size 1000x1000 with 1 Axes>"
      ],
      "image/png": "[encoded data removed]"
     },
     "metadata": {},
     "output_type": "display_data"
    }
   ],
   "execution_count": 38
  },
  {
   "cell_type": "markdown",
   "source": [
    "----\n",
    "&nbsp;\n",
    "## Grouping restaurants by `department` and `region` based on the number of Michelin stars."
   ],
   "metadata": {
    "collapsed": false
   }
  },
  {
   "cell_type": "code",
   "source": [
    "# We create a copy\n",
    "france_data_copy = france_data.copy()\n",
    "\n",
    "# Create dummy variables for each category of 'star'\n",
    "france_data_copy['green_stars'] = france_data_copy['greenstar'].apply(lambda x: 1 if x == 1 else 0)\n",
    "france_data_copy['selected'] = france_data_copy['stars'].apply(lambda x: 1 if x == 0.25 else 0)\n",
    "france_data_copy['bib_gourmand'] = france_data_copy['stars'].apply(lambda x: 1 if x == 0.5 else 0)\n",
    "france_data_copy['1_star'] = france_data_copy['stars'].apply(lambda x: 1 if x == 1.0 else 0)\n",
    "france_data_copy['2_star'] = france_data_copy['stars'].apply(lambda x: 1 if x == 2.0 else 0)\n",
    "france_data_copy['3_star'] = france_data_copy['stars'].apply(lambda x: 1 if x == 3.0 else 0)"
   ],
   "metadata": {
    "collapsed": false,
    "ExecuteTime": {
     "end_time": "2025-04-01T16:09:14.550776Z",
     "start_time": "2025-04-01T16:09:14.542241Z"
    }
   },
   "outputs": [],
   "execution_count": 39
  },
  {
   "cell_type": "markdown",
   "source": [
    "#### By `region`\n",
    "We sort `france_data` by total number of awarded restaurants"
   ],
   "metadata": {
    "collapsed": false
   }
  },
  {
   "cell_type": "code",
   "source": [
    "# Group by 'region' and sum 'bib', '1_star', '2_star' and '3_star'\n",
    "region_grouped = france_data_copy.groupby('region')[['green_stars', 'selected', 'bib_gourmand', '1_star', '2_star', '3_star']].sum()\n",
    "\n",
    "# Create a copy for plotting\n",
    "region_grouped_two = region_grouped.copy()"
   ],
   "metadata": {
    "collapsed": false,
    "ExecuteTime": {
     "end_time": "2025-04-01T16:09:17.334444Z",
     "start_time": "2025-04-01T16:09:17.330075Z"
    }
   },
   "outputs": [],
   "execution_count": 40
  },
  {
   "cell_type": "markdown",
   "source": [
    "`region_grouped` is created to be merged with the demographics data"
   ],
   "metadata": {
    "collapsed": false
   }
  },
  {
   "cell_type": "code",
   "source": [
    "# Create a 'total_ star' column - sum of stars\n",
    "# Individual stars are summed here. ie, If 2 star then stars = 2\n",
    "region_grouped['total_stars'] = region_grouped['1_star']*1 + region_grouped['2_star']*2 + region_grouped['3_star']*3\n",
    "# Create a 'total' column = sum of restaurants\n",
    "region_grouped['starred_restaurants'] =  region_grouped['1_star'] + region_grouped['2_star'] + region_grouped['3_star']\n",
    "\n",
    "# Sort the dataframe by the 'total_stars' column in descending order\n",
    "region_grouped.sort_values('total_stars', ascending=True, inplace=True)"
   ],
   "metadata": {
    "collapsed": false,
    "ExecuteTime": {
     "end_time": "2025-04-01T16:09:20.003410Z",
     "start_time": "2025-04-01T16:09:19.997681Z"
    }
   },
   "outputs": [],
   "execution_count": 41
  },
  {
   "cell_type": "markdown",
   "source": [
    "----\n",
    "&nbsp;\n",
    "### Plotting starred restaurants by `region`\n",
    "\n",
    "We use `region_grouped_two` for plotting whilst excluding Île-de-France"
   ],
   "metadata": {
    "collapsed": false
   }
  },
  {
   "cell_type": "code",
   "source": [
    "# Create a 'total_starred' column - sum of starred restaurants\n",
    "region_grouped_two['total_starred'] = region_grouped_two['1_star'] + region_grouped_two['2_star'] + region_grouped_two['3_star']\n",
    "\n",
    "# Sort the dataframes by the 'total' and 'total_stars' columns in descending order\n",
    "region_grouped_two.sort_values('total_starred', ascending=True, inplace=True)"
   ],
   "metadata": {
    "collapsed": false,
    "ExecuteTime": {
     "end_time": "2025-04-01T16:09:25.096392Z",
     "start_time": "2025-04-01T16:09:25.090620Z"
    }
   },
   "outputs": [],
   "execution_count": 42
  },
  {
   "cell_type": "code",
   "source": [
    "# Exclude 'Île-de-France'\n",
    "region_grouped_excl_paris = region_grouped_two[region_grouped_two.index.get_level_values('region') != 'Île-de-France']"
   ],
   "metadata": {
    "collapsed": false,
    "ExecuteTime": {
     "end_time": "2025-04-01T16:09:27.335366Z",
     "start_time": "2025-04-01T16:09:27.332278Z"
    }
   },
   "outputs": [],
   "execution_count": 43
  },
  {
   "cell_type": "code",
   "source": [
    "# Drop the 'bib_gourmand' and 'total_starred' columns\n",
    "region_grouped_excl_paris = region_grouped_excl_paris.copy()\n",
    "region_grouped_excl_paris.drop(['green_stars', 'selected', 'bib_gourmand', 'total_starred'], axis=1, inplace=True)"
   ],
   "metadata": {
    "collapsed": false,
    "ExecuteTime": {
     "end_time": "2025-04-01T16:09:29.090377Z",
     "start_time": "2025-04-01T16:09:29.086627Z"
    }
   },
   "outputs": [],
   "execution_count": 44
  },
  {
   "cell_type": "markdown",
   "source": [
    "Plot the data"
   ],
   "metadata": {
    "collapsed": false
   }
  },
  {
   "cell_type": "code",
   "source": [
    "# Create a horizontal stacked bar plot\n",
    "region_grouped_excl_paris.plot(kind='barh', stacked=True, figsize=(10, 7),\n",
    "                    color=['#fee8c8','#fdbb84','#e34a33'])\n",
    "\n",
    "# Add title and labels\n",
    "plt.title('Michelin Starred Restaurants by Region\\n(Excludes Île-de-France)')\n",
    "plt.ylabel('Region')\n",
    "plt.xlabel('Number of Restaurants')\n",
    "\n",
    "# Add a legend\n",
    "plt.legend(title='Michelin Stars', labels=['1 Star', '2 Star', '3 Star'])\n",
    "\n",
    "# Show the plot\n",
    "plt.show()"
   ],
   "metadata": {
    "collapsed": false,
    "ExecuteTime": {
     "end_time": "2025-04-01T16:09:31.801085Z",
     "start_time": "2025-04-01T16:09:31.713305Z"
    }
   },
   "outputs": [
    {
     "data": {
      "text/plain": [
       "<Figure size 1000x700 with 1 Axes>"
      ],
      "image/png": "[encoded data removed]"
     },
     "metadata": {},
     "output_type": "display_data"
    }
   ],
   "execution_count": 45
  },
  {
   "cell_type": "markdown",
   "source": [
    "----\n",
    "&nbsp;\n",
    "### By `department`\n",
    "\n",
    "We sort `france_data` by total number of awarded restaurants"
   ],
   "metadata": {
    "collapsed": false
   }
  },
  {
   "cell_type": "code",
   "source": [
    "# Group by 'department' and sum 'bibs', '1_star', '2_star' and '3_star'\n",
    "dept_grouped = france_data_copy.groupby(['department_num', 'department'])[['green_stars', 'selected', 'bib_gourmand', '1_star', '2_star', '3_star']].sum()\n",
    "\n",
    "# Creating a copy for plotting\n",
    "dept_grouped_two = dept_grouped.copy()"
   ],
   "metadata": {
    "collapsed": false,
    "ExecuteTime": {
     "end_time": "2025-04-01T16:09:50.587716Z",
     "start_time": "2025-04-01T16:09:50.581813Z"
    }
   },
   "outputs": [],
   "execution_count": 46
  },
  {
   "cell_type": "markdown",
   "source": [
    "`dept_grouped` is created to be merged with the demographics data"
   ],
   "metadata": {
    "collapsed": false
   }
  },
  {
   "cell_type": "code",
   "source": [
    "# Create a 'total_ stars' column - sum of stars\n",
    "# Individual stars are summed here. ie, If 2 star then stars = 2\n",
    "dept_grouped['total_stars'] = dept_grouped['1_star']*1 + dept_grouped['2_star']*2 + dept_grouped['3_star']*3\n",
    "\n",
    "# Create a 'starred_restaurants' column = sum of starred restaurants\n",
    "dept_grouped['starred_restaurants'] =  dept_grouped['1_star'] + dept_grouped['2_star'] + dept_grouped['3_star']\n",
    "\n",
    "# Sort the dataframe by the 'department_num' column in descending order\n",
    "dept_grouped.sort_values('department_num', ascending=True, inplace=True)"
   ],
   "metadata": {
    "collapsed": false,
    "ExecuteTime": {
     "end_time": "2025-04-01T16:09:52.991505Z",
     "start_time": "2025-04-01T16:09:52.986771Z"
    }
   },
   "outputs": [],
   "execution_count": 47
  },
  {
   "cell_type": "markdown",
   "source": [
    "Two new statistics have been created;\n",
    "- `total_stars`: sum of **individual** stars\n",
    "- `total_restaurants`"
   ],
   "metadata": {
    "collapsed": false
   }
  },
  {
   "cell_type": "code",
   "source": [
    "dept_grouped.tail()"
   ],
   "metadata": {
    "collapsed": false,
    "ExecuteTime": {
     "end_time": "2025-04-01T16:09:55.507936Z",
     "start_time": "2025-04-01T16:09:55.500725Z"
    }
   },
   "outputs": [
    {
     "data": {
      "text/plain": [
       "                                  green_stars  selected  bib_gourmand  1_star  \\\n",
       "department_num department                                                       \n",
       "91             Essonne                      1         4             1       0   \n",
       "92             Hauts-de-Seine               0        19             3       4   \n",
       "93             Seine-Saint-Denis            0         3             0       1   \n",
       "94             Val-de-Marne                 0         4             0       1   \n",
       "95             Val-d'Oise                   1         3             0       1   \n",
       "\n",
       "                                  2_star  3_star  total_stars  \\\n",
       "department_num department                                       \n",
       "91             Essonne                 0       0            0   \n",
       "92             Hauts-de-Seine          0       0            4   \n",
       "93             Seine-Saint-Denis       0       0            1   \n",
       "94             Val-de-Marne            0       0            1   \n",
       "95             Val-d'Oise              0       0            1   \n",
       "\n",
       "                                  starred_restaurants  \n",
       "department_num department                              \n",
       "91             Essonne                              0  \n",
       "92             Hauts-de-Seine                       4  \n",
       "93             Seine-Saint-Denis                    1  \n",
       "94             Val-de-Marne                         1  \n",
       "95             Val-d'Oise                           1  "
      ],
      "text/html": [
       "<div>\n",
       "<style scoped>\n",
       "    .dataframe tbody tr th:only-of-type {\n",
       "        vertical-align: middle;\n",
       "    }\n",
       "\n",
       "    .dataframe tbody tr th {\n",
       "        vertical-align: top;\n",
       "    }\n",
       "\n",
       "    .dataframe thead th {\n",
       "        text-align: right;\n",
       "    }\n",
       "</style>\n",
       "<table border=\"1\" class=\"dataframe\">\n",
       "  <thead>\n",
       "    <tr style=\"text-align: right;\">\n",
       "      <th></th>\n",
       "      <th></th>\n",
       "      <th>green_stars</th>\n",
       "      <th>selected</th>\n",
       "      <th>bib_gourmand</th>\n",
       "      <th>1_star</th>\n",
       "      <th>2_star</th>\n",
       "      <th>3_star</th>\n",
       "      <th>total_stars</th>\n",
       "      <th>starred_restaurants</th>\n",
       "    </tr>\n",
       "    <tr>\n",
       "      <th>department_num</th>\n",
       "      <th>department</th>\n",
       "      <th></th>\n",
       "      <th></th>\n",
       "      <th></th>\n",
       "      <th></th>\n",
       "      <th></th>\n",
       "      <th></th>\n",
       "      <th></th>\n",
       "      <th></th>\n",
       "    </tr>\n",
       "  </thead>\n",
       "  <tbody>\n",
       "    <tr>\n",
       "      <th>91</th>\n",
       "      <th>Essonne</th>\n",
       "      <td>1</td>\n",
       "      <td>4</td>\n",
       "      <td>1</td>\n",
       "      <td>0</td>\n",
       "      <td>0</td>\n",
       "      <td>0</td>\n",
       "      <td>0</td>\n",
       "      <td>0</td>\n",
       "    </tr>\n",
       "    <tr>\n",
       "      <th>92</th>\n",
       "      <th>Hauts-de-Seine</th>\n",
       "      <td>0</td>\n",
       "      <td>19</td>\n",
       "      <td>3</td>\n",
       "      <td>4</td>\n",
       "      <td>0</td>\n",
       "      <td>0</td>\n",
       "      <td>4</td>\n",
       "      <td>4</td>\n",
       "    </tr>\n",
       "    <tr>\n",
       "      <th>93</th>\n",
       "      <th>Seine-Saint-Denis</th>\n",
       "      <td>0</td>\n",
       "      <td>3</td>\n",
       "      <td>0</td>\n",
       "      <td>1</td>\n",
       "      <td>0</td>\n",
       "      <td>0</td>\n",
       "      <td>1</td>\n",
       "      <td>1</td>\n",
       "    </tr>\n",
       "    <tr>\n",
       "      <th>94</th>\n",
       "      <th>Val-de-Marne</th>\n",
       "      <td>0</td>\n",
       "      <td>4</td>\n",
       "      <td>0</td>\n",
       "      <td>1</td>\n",
       "      <td>0</td>\n",
       "      <td>0</td>\n",
       "      <td>1</td>\n",
       "      <td>1</td>\n",
       "    </tr>\n",
       "    <tr>\n",
       "      <th>95</th>\n",
       "      <th>Val-d'Oise</th>\n",
       "      <td>1</td>\n",
       "      <td>3</td>\n",
       "      <td>0</td>\n",
       "      <td>1</td>\n",
       "      <td>0</td>\n",
       "      <td>0</td>\n",
       "      <td>1</td>\n",
       "      <td>1</td>\n",
       "    </tr>\n",
       "  </tbody>\n",
       "</table>\n",
       "</div>"
      ]
     },
     "execution_count": 48,
     "metadata": {},
     "output_type": "execute_result"
    }
   ],
   "execution_count": 48
  },
  {
   "cell_type": "markdown",
   "source": [
    "----\n",
    "&nbsp;\n",
    "### Plotting starred restaurants by `department`\n",
    "Using `dept_grouped_two`, we group and plot the top 10 departments by total stars. A subtly different statistic is created;\n",
    "- `total_starred`: sum of restaurants with stars as opposed to sum of stars"
   ],
   "metadata": {
    "collapsed": false
   }
  },
  {
   "cell_type": "code",
   "source": [
    "# Create a 'total_starred' column\n",
    "dept_grouped_two['total_starred'] = dept_grouped_two['1_star'] + dept_grouped['2_star'] + dept_grouped['3_star']\n",
    "\n",
    "# Sort the dataframe by the 'department_num' column in descending order\n",
    "dept_grouped_two.sort_values('department_num', ascending=True, inplace=True)"
   ],
   "metadata": {
    "collapsed": false,
    "ExecuteTime": {
     "end_time": "2025-04-01T16:10:06.933847Z",
     "start_time": "2025-04-01T16:10:06.929720Z"
    }
   },
   "outputs": [],
   "execution_count": 49
  },
  {
   "cell_type": "code",
   "source": [
    "# Exclude 'Paris'\n",
    "dept_grouped_no_paris = dept_grouped_two[dept_grouped_two.index.get_level_values('department').str.strip() != 'Paris']"
   ],
   "metadata": {
    "collapsed": false,
    "ExecuteTime": {
     "end_time": "2025-04-01T16:10:10.231296Z",
     "start_time": "2025-04-01T16:10:10.228831Z"
    }
   },
   "outputs": [],
   "execution_count": 50
  },
  {
   "cell_type": "code",
   "source": [
    "# Sort by 'total_starred' in descending order and keep the top 10\n",
    "dept_grouped_top10 = dept_grouped_no_paris.sort_values('total_starred', ascending=False).head(10)\n",
    "\n",
    "# Drop the 'bib_gourmand' & 'total' columns\n",
    "dept_grouped_top10 = dept_grouped_top10.drop(columns=['green_stars', 'selected', 'bib_gourmand', 'total_starred'])\n",
    "\n",
    "# Reverse the order of the DataFrame\n",
    "dept_grouped_top10 = dept_grouped_top10.iloc[::-1]"
   ],
   "metadata": {
    "collapsed": false,
    "ExecuteTime": {
     "end_time": "2025-04-01T16:10:13.362257Z",
     "start_time": "2025-04-01T16:10:13.357825Z"
    }
   },
   "outputs": [],
   "execution_count": 51
  },
  {
   "cell_type": "markdown",
   "source": [
    "Plot the data"
   ],
   "metadata": {
    "collapsed": false
   }
  },
  {
   "cell_type": "code",
   "source": [
    "# Plot the data\n",
    "dept_grouped_top10.plot(kind='barh', stacked=True, figsize=(10, 7),\n",
    "                        color=['#fee8c8','#fdbb84','#e34a33'])\n",
    "\n",
    "# Add title and labels\n",
    "plt.title('Top 10 Departments by Michelin Starred Restaurants\\n(Excludes Paris)')\n",
    "plt.ylabel('Department')\n",
    "plt.xlabel('Number of Restaurants')\n",
    "\n",
    "# Add a legend\n",
    "plt.legend(title='Michelin Stars', labels=['1 Star', '2 Star', '3 Star'])\n",
    "\n",
    "# Show the plot\n",
    "plt.show()"
   ],
   "metadata": {
    "collapsed": false,
    "ExecuteTime": {
     "end_time": "2025-04-01T16:10:17.787277Z",
     "start_time": "2025-04-01T16:10:17.711972Z"
    }
   },
   "outputs": [
    {
     "data": {
      "text/plain": [
       "<Figure size 1000x700 with 1 Axes>"
      ],
      "image/png": "[encoded data removed]"
     },
     "metadata": {},
     "output_type": "display_data"
    }
   ],
   "execution_count": 52
  },
  {
   "cell_type": "markdown",
   "source": [
    "----\n",
    "&nbsp;\n",
    "## Merging Michelin stars by `department` & `region` with the population demographics data"
   ],
   "metadata": {
    "collapsed": false
   }
  },
  {
   "cell_type": "markdown",
   "source": [
    "### Merging `dept_grouped` with `demographics`"
   ],
   "metadata": {
    "collapsed": false
   }
  },
  {
   "cell_type": "code",
   "source": [
    "print(f\"Rows in `demographics`: {len(demographics)}\")\n",
    "\n",
    "# We index the multi-indexed df\n",
    "dept_grouped.reset_index(inplace=True)\n",
    "print(f\"Rows in `dept_grouped`: {len(dept_grouped)}\")"
   ],
   "metadata": {
    "collapsed": false,
    "ExecuteTime": {
     "end_time": "2025-04-01T16:10:45.349863Z",
     "start_time": "2025-04-01T16:10:45.346255Z"
    }
   },
   "outputs": [
    {
     "name": "stdout",
     "output_type": "stream",
     "text": [
      "Rows in `demographics`: 96\n",
      "Rows in `dept_grouped`: 96\n"
     ]
    }
   ],
   "execution_count": 53
  },
  {
   "cell_type": "markdown",
   "source": [
    "There are some discrepancies. We create sets of unique `departments` for both DataFrames"
   ],
   "metadata": {
    "collapsed": false
   }
  },
  {
   "cell_type": "code",
   "source": [
    "set1 = set(dept_grouped['department'].unique())\n",
    "set2 = set(demographics['department'].unique())\n",
    "print(f\"Sets equal? {set1 == set2}\")"
   ],
   "metadata": {
    "collapsed": false,
    "ExecuteTime": {
     "end_time": "2025-04-01T16:10:47.800058Z",
     "start_time": "2025-04-01T16:10:47.796217Z"
    }
   },
   "outputs": [
    {
     "name": "stdout",
     "output_type": "stream",
     "text": [
      "Sets equal? True\n"
     ]
    }
   ],
   "execution_count": 54
  },
  {
   "cell_type": "code",
   "source": [
    "# Create a copy of demographics as we will also use 'demographics' for the regional dataframe\n",
    "demographics_copy = demographics.copy()"
   ],
   "metadata": {
    "collapsed": false,
    "ExecuteTime": {
     "end_time": "2025-04-01T16:10:50.077154Z",
     "start_time": "2025-04-01T16:10:50.074250Z"
    }
   },
   "outputs": [],
   "execution_count": 55
  },
  {
   "cell_type": "code",
   "source": [
    "# Sort dataframes on 'department_num'\n",
    "dept_grouped = dept_grouped.sort_values('department_num')\n",
    "demographics = demographics.sort_values('department_num')"
   ],
   "metadata": {
    "collapsed": false,
    "ExecuteTime": {
     "end_time": "2025-04-01T16:10:51.926933Z",
     "start_time": "2025-04-01T16:10:51.923105Z"
    }
   },
   "outputs": [],
   "execution_count": 56
  },
  {
   "cell_type": "code",
   "source": [
    "# Merge demographics data with department data\n",
    "departmental_data = dept_grouped.merge(demographics, how='inner', on='department_num')"
   ],
   "metadata": {
    "collapsed": false,
    "ExecuteTime": {
     "end_time": "2025-04-01T16:10:53.904469Z",
     "start_time": "2025-04-01T16:10:53.900014Z"
    }
   },
   "outputs": [],
   "execution_count": 57
  },
  {
   "cell_type": "code",
   "source": [
    "print(departmental_data.columns.tolist())"
   ],
   "metadata": {
    "collapsed": false,
    "ExecuteTime": {
     "end_time": "2025-04-01T16:10:56.236478Z",
     "start_time": "2025-04-01T16:10:56.233716Z"
    }
   },
   "outputs": [
    {
     "name": "stdout",
     "output_type": "stream",
     "text": [
      "['department_num', 'department_x', 'green_stars', 'selected', 'bib_gourmand', '1_star', '2_star', '3_star', 'total_stars', 'starred_restaurants', 'department_y', 'capital', 'region', 'GDP_millions(€)', 'GDP_per_capita(€)', 'poverty_rate(%)', 'average_annual_unemployment_rate(%)', 'average_net_hourly_wage(€)', 'municipal_population', 'population_density(inhabitants/sq_km)', 'area(sq_km)']\n"
     ]
    }
   ],
   "execution_count": 58
  },
  {
   "cell_type": "code",
   "source": [
    "# Drop 'department_y' column\n",
    "departmental_data = departmental_data.drop('department_y', axis=1)\n",
    "\n",
    "# Rename 'department_x' to 'department'\n",
    "departmental_data = departmental_data.rename(columns={'department_x': 'department'})\n",
    "\n",
    "# Order columns\n",
    "departmental_data = departmental_data[['department_num', 'department', 'capital', 'region', 'selected', 'bib_gourmand', '1_star', '2_star', '3_star',\n",
    "                                       'total_stars', 'starred_restaurants', 'green_stars', 'GDP_millions(€)', 'GDP_per_capita(€)', 'poverty_rate(%)', 'average_annual_unemployment_rate(%)', 'average_net_hourly_wage(€)', 'municipal_population', 'population_density(inhabitants/sq_km)',\n",
    "                                       'area(sq_km)']]"
   ],
   "metadata": {
    "collapsed": false,
    "ExecuteTime": {
     "end_time": "2025-04-01T16:11:00.055630Z",
     "start_time": "2025-04-01T16:11:00.050394Z"
    }
   },
   "outputs": [],
   "execution_count": 59
  },
  {
   "cell_type": "code",
   "source": [
    "departmental_data.head(3)"
   ],
   "metadata": {
    "collapsed": false,
    "ExecuteTime": {
     "end_time": "2025-04-01T16:11:02.942264Z",
     "start_time": "2025-04-01T16:11:02.934474Z"
    }
   },
   "outputs": [
    {
     "data": {
      "text/plain": [
       "  department_num department          capital                region  selected  \\\n",
       "0             01        Ain  Bourg-en-Bresse  Auvergne-Rhône-Alpes        16   \n",
       "1             02      Aisne             Laon       Hauts-de-France         3   \n",
       "2             03     Allier          Moulins  Auvergne-Rhône-Alpes         8   \n",
       "\n",
       "   bib_gourmand  1_star  2_star  3_star  total_stars  starred_restaurants  \\\n",
       "0             7       4       1       0            6                    5   \n",
       "1             0       2       0       0            2                    2   \n",
       "2             4       2       0       0            2                    2   \n",
       "\n",
       "   green_stars  GDP_millions(€)  GDP_per_capita(€)  poverty_rate(%)  \\\n",
       "0            1         16726.40           24916.84             10.8   \n",
       "1            0         12016.40           22864.08             18.8   \n",
       "2            0          8278.98           24734.42             16.2   \n",
       "\n",
       "   average_annual_unemployment_rate(%)  average_net_hourly_wage(€)  \\\n",
       "0                                  5.5                       15.96   \n",
       "1                                 10.5                       14.46   \n",
       "2                                  7.8                       14.19   \n",
       "\n",
       "   municipal_population  population_density(inhabitants/sq_km)  area(sq_km)  \n",
       "0              671289.0                                  115.1      5832.22  \n",
       "1              525558.0                                   71.7      7329.96  \n",
       "2              334715.0                                   45.6      7340.24  "
      ],
      "text/html": [
       "<div>\n",
       "<style scoped>\n",
       "    .dataframe tbody tr th:only-of-type {\n",
       "        vertical-align: middle;\n",
       "    }\n",
       "\n",
       "    .dataframe tbody tr th {\n",
       "        vertical-align: top;\n",
       "    }\n",
       "\n",
       "    .dataframe thead th {\n",
       "        text-align: right;\n",
       "    }\n",
       "</style>\n",
       "<table border=\"1\" class=\"dataframe\">\n",
       "  <thead>\n",
       "    <tr style=\"text-align: right;\">\n",
       "      <th></th>\n",
       "      <th>department_num</th>\n",
       "      <th>department</th>\n",
       "      <th>capital</th>\n",
       "      <th>region</th>\n",
       "      <th>selected</th>\n",
       "      <th>bib_gourmand</th>\n",
       "      <th>1_star</th>\n",
       "      <th>2_star</th>\n",
       "      <th>3_star</th>\n",
       "      <th>total_stars</th>\n",
       "      <th>starred_restaurants</th>\n",
       "      <th>green_stars</th>\n",
       "      <th>GDP_millions(€)</th>\n",
       "      <th>GDP_per_capita(€)</th>\n",
       "      <th>poverty_rate(%)</th>\n",
       "      <th>average_annual_unemployment_rate(%)</th>\n",
       "      <th>average_net_hourly_wage(€)</th>\n",
       "      <th>municipal_population</th>\n",
       "      <th>population_density(inhabitants/sq_km)</th>\n",
       "      <th>area(sq_km)</th>\n",
       "    </tr>\n",
       "  </thead>\n",
       "  <tbody>\n",
       "    <tr>\n",
       "      <th>0</th>\n",
       "      <td>01</td>\n",
       "      <td>Ain</td>\n",
       "      <td>Bourg-en-Bresse</td>\n",
       "      <td>Auvergne-Rhône-Alpes</td>\n",
       "      <td>16</td>\n",
       "      <td>7</td>\n",
       "      <td>4</td>\n",
       "      <td>1</td>\n",
       "      <td>0</td>\n",
       "      <td>6</td>\n",
       "      <td>5</td>\n",
       "      <td>1</td>\n",
       "      <td>16726.40</td>\n",
       "      <td>24916.84</td>\n",
       "      <td>10.8</td>\n",
       "      <td>5.5</td>\n",
       "      <td>15.96</td>\n",
       "      <td>671289.0</td>\n",
       "      <td>115.1</td>\n",
       "      <td>5832.22</td>\n",
       "    </tr>\n",
       "    <tr>\n",
       "      <th>1</th>\n",
       "      <td>02</td>\n",
       "      <td>Aisne</td>\n",
       "      <td>Laon</td>\n",
       "      <td>Hauts-de-France</td>\n",
       "      <td>3</td>\n",
       "      <td>0</td>\n",
       "      <td>2</td>\n",
       "      <td>0</td>\n",
       "      <td>0</td>\n",
       "      <td>2</td>\n",
       "      <td>2</td>\n",
       "      <td>0</td>\n",
       "      <td>12016.40</td>\n",
       "      <td>22864.08</td>\n",
       "      <td>18.8</td>\n",
       "      <td>10.5</td>\n",
       "      <td>14.46</td>\n",
       "      <td>525558.0</td>\n",
       "      <td>71.7</td>\n",
       "      <td>7329.96</td>\n",
       "    </tr>\n",
       "    <tr>\n",
       "      <th>2</th>\n",
       "      <td>03</td>\n",
       "      <td>Allier</td>\n",
       "      <td>Moulins</td>\n",
       "      <td>Auvergne-Rhône-Alpes</td>\n",
       "      <td>8</td>\n",
       "      <td>4</td>\n",
       "      <td>2</td>\n",
       "      <td>0</td>\n",
       "      <td>0</td>\n",
       "      <td>2</td>\n",
       "      <td>2</td>\n",
       "      <td>0</td>\n",
       "      <td>8278.98</td>\n",
       "      <td>24734.42</td>\n",
       "      <td>16.2</td>\n",
       "      <td>7.8</td>\n",
       "      <td>14.19</td>\n",
       "      <td>334715.0</td>\n",
       "      <td>45.6</td>\n",
       "      <td>7340.24</td>\n",
       "    </tr>\n",
       "  </tbody>\n",
       "</table>\n",
       "</div>"
      ]
     },
     "execution_count": 60,
     "metadata": {},
     "output_type": "execute_result"
    }
   ],
   "execution_count": 60
  },
  {
   "cell_type": "code",
   "source": [
    "departmental_data.shape"
   ],
   "metadata": {
    "collapsed": false,
    "ExecuteTime": {
     "end_time": "2025-04-01T16:11:10.905625Z",
     "start_time": "2025-04-01T16:11:10.900963Z"
    }
   },
   "outputs": [
    {
     "data": {
      "text/plain": [
       "(96, 20)"
      ]
     },
     "execution_count": 61,
     "metadata": {},
     "output_type": "execute_result"
    }
   ],
   "execution_count": 61
  },
  {
   "cell_type": "markdown",
   "source": [
    "----\n",
    "&nbsp;\n",
    "### Merging `region_grouped` with `demographics`"
   ],
   "metadata": {
    "collapsed": false
   }
  },
  {
   "cell_type": "markdown",
   "source": [
    "Summation of the numerical statistics by region in `demographics`"
   ],
   "metadata": {
    "collapsed": false
   }
  },
  {
   "cell_type": "code",
   "source": [
    "# Group the demographics data by 'region' and sum 'municipal_population' and 'area(sq_km)'\n",
    "# First, we'll sum up the straightforward columns:\n",
    "grouped_demographics = demographics_copy.groupby('region')[['municipal_population', 'area(sq_km)']].sum()\n",
    "\n",
    "# Summing up the GDP for each region:\n",
    "grouped_demographics['GDP_millions(€)'] = demographics_copy.groupby('region')['GDP_millions(€)'].sum().values\n",
    "\n",
    "# Calculating GDP per capita for each region:\n",
    "grouped_demographics['GDP_per_capita(€)'] = grouped_demographics['GDP_millions(€)'] * 1e6 / grouped_demographics['municipal_population']\n",
    "\n",
    "# Calculate population density:\n",
    "grouped_demographics['population_density(inhabitants/sq_km)'] = round(grouped_demographics['municipal_population'] /\n",
    "                                                                      grouped_demographics['area(sq_km)'], 2)\n",
    "# Computing weighted averages:\n",
    "for col in ['poverty_rate(%)', 'average_annual_unemployment_rate(%)', 'average_net_hourly_wage(€)']:\n",
    "    # Multiply the column by population to weight it\n",
    "    demographics_copy[col + '_weighted'] = demographics_copy[col] * demographics_copy['municipal_population']\n",
    "    # Group by region and sum the weighted values\n",
    "    sum_weighted = demographics_copy.groupby('region')[col + '_weighted'].sum()\n",
    "    # Divide by summed population to get the average for the region\n",
    "    grouped_demographics[col] = sum_weighted / grouped_demographics['municipal_population']\n",
    "\n",
    "grouped_demographics.reset_index(inplace=True)"
   ],
   "metadata": {
    "collapsed": false,
    "ExecuteTime": {
     "end_time": "2025-04-01T16:11:17.001862Z",
     "start_time": "2025-04-01T16:11:16.992091Z"
    }
   },
   "outputs": [],
   "execution_count": 62
  },
  {
   "cell_type": "code",
   "source": [
    "# Merge demographics data with department data\n",
    "regional_data = region_grouped.merge(grouped_demographics, how='inner', on='region')\n",
    "\n",
    "# Change order to match departmental data\n",
    "new_order = ['region', 'selected', 'bib_gourmand', '1_star', '2_star', '3_star', 'total_stars', 'starred_restaurants', 'green_stars', 'GDP_millions(€)', 'GDP_per_capita(€)', 'poverty_rate(%)', 'average_annual_unemployment_rate(%)', 'average_net_hourly_wage(€)', 'municipal_population', 'population_density(inhabitants/sq_km)', 'area(sq_km)']\n",
    "regional_data = regional_data[new_order]"
   ],
   "metadata": {
    "collapsed": false,
    "ExecuteTime": {
     "end_time": "2025-04-01T16:11:20.456244Z",
     "start_time": "2025-04-01T16:11:20.449894Z"
    }
   },
   "outputs": [],
   "execution_count": 63
  },
  {
   "cell_type": "code",
   "source": [
    "regional_data.head(3)"
   ],
   "metadata": {
    "collapsed": false,
    "ExecuteTime": {
     "end_time": "2025-04-01T16:11:22.477445Z",
     "start_time": "2025-04-01T16:11:22.470054Z"
    }
   },
   "outputs": [
    {
     "data": {
      "text/plain": [
       "            region  selected  bib_gourmand  1_star  2_star  3_star  \\\n",
       "0          Corsica        34             3       5       1       0   \n",
       "1         Normandy        63            25      18       0       0   \n",
       "2  Hauts-de-France        67             9      14       3       0   \n",
       "\n",
       "   total_stars  starred_restaurants  green_stars  GDP_millions(€)  \\\n",
       "0            7                    6            0          9083.98   \n",
       "1           18                   18            4         92016.51   \n",
       "2           20                   17            5        163006.00   \n",
       "\n",
       "   GDP_per_capita(€)  poverty_rate(%)  average_annual_unemployment_rate(%)  \\\n",
       "0       25859.950580        18.120160                             6.421847   \n",
       "1       27557.493485        13.767851                             6.866149   \n",
       "2       27172.575845        18.033954                             9.021599   \n",
       "\n",
       "   average_net_hourly_wage(€)  municipal_population  \\\n",
       "0                   14.579434              351276.0   \n",
       "1                   15.379456             3339074.0   \n",
       "2                   15.402444             5998916.0   \n",
       "\n",
       "   population_density(inhabitants/sq_km)  area(sq_km)  \n",
       "0                                  40.07      8767.33  \n",
       "1                                 111.52     29941.26  \n",
       "2                                 188.73     31785.23  "
      ],
      "text/html": [
       "<div>\n",
       "<style scoped>\n",
       "    .dataframe tbody tr th:only-of-type {\n",
       "        vertical-align: middle;\n",
       "    }\n",
       "\n",
       "    .dataframe tbody tr th {\n",
       "        vertical-align: top;\n",
       "    }\n",
       "\n",
       "    .dataframe thead th {\n",
       "        text-align: right;\n",
       "    }\n",
       "</style>\n",
       "<table border=\"1\" class=\"dataframe\">\n",
       "  <thead>\n",
       "    <tr style=\"text-align: right;\">\n",
       "      <th></th>\n",
       "      <th>region</th>\n",
       "      <th>selected</th>\n",
       "      <th>bib_gourmand</th>\n",
       "      <th>1_star</th>\n",
       "      <th>2_star</th>\n",
       "      <th>3_star</th>\n",
       "      <th>total_stars</th>\n",
       "      <th>starred_restaurants</th>\n",
       "      <th>green_stars</th>\n",
       "      <th>GDP_millions(€)</th>\n",
       "      <th>GDP_per_capita(€)</th>\n",
       "      <th>poverty_rate(%)</th>\n",
       "      <th>average_annual_unemployment_rate(%)</th>\n",
       "      <th>average_net_hourly_wage(€)</th>\n",
       "      <th>municipal_population</th>\n",
       "      <th>population_density(inhabitants/sq_km)</th>\n",
       "      <th>area(sq_km)</th>\n",
       "    </tr>\n",
       "  </thead>\n",
       "  <tbody>\n",
       "    <tr>\n",
       "      <th>0</th>\n",
       "      <td>Corsica</td>\n",
       "      <td>34</td>\n",
       "      <td>3</td>\n",
       "      <td>5</td>\n",
       "      <td>1</td>\n",
       "      <td>0</td>\n",
       "      <td>7</td>\n",
       "      <td>6</td>\n",
       "      <td>0</td>\n",
       "      <td>9083.98</td>\n",
       "      <td>25859.950580</td>\n",
       "      <td>18.120160</td>\n",
       "      <td>6.421847</td>\n",
       "      <td>14.579434</td>\n",
       "      <td>351276.0</td>\n",
       "      <td>40.07</td>\n",
       "      <td>8767.33</td>\n",
       "    </tr>\n",
       "    <tr>\n",
       "      <th>1</th>\n",
       "      <td>Normandy</td>\n",
       "      <td>63</td>\n",
       "      <td>25</td>\n",
       "      <td>18</td>\n",
       "      <td>0</td>\n",
       "      <td>0</td>\n",
       "      <td>18</td>\n",
       "      <td>18</td>\n",
       "      <td>4</td>\n",
       "      <td>92016.51</td>\n",
       "      <td>27557.493485</td>\n",
       "      <td>13.767851</td>\n",
       "      <td>6.866149</td>\n",
       "      <td>15.379456</td>\n",
       "      <td>3339074.0</td>\n",
       "      <td>111.52</td>\n",
       "      <td>29941.26</td>\n",
       "    </tr>\n",
       "    <tr>\n",
       "      <th>2</th>\n",
       "      <td>Hauts-de-France</td>\n",
       "      <td>67</td>\n",
       "      <td>9</td>\n",
       "      <td>14</td>\n",
       "      <td>3</td>\n",
       "      <td>0</td>\n",
       "      <td>20</td>\n",
       "      <td>17</td>\n",
       "      <td>5</td>\n",
       "      <td>163006.00</td>\n",
       "      <td>27172.575845</td>\n",
       "      <td>18.033954</td>\n",
       "      <td>9.021599</td>\n",
       "      <td>15.402444</td>\n",
       "      <td>5998916.0</td>\n",
       "      <td>188.73</td>\n",
       "      <td>31785.23</td>\n",
       "    </tr>\n",
       "  </tbody>\n",
       "</table>\n",
       "</div>"
      ]
     },
     "execution_count": 64,
     "metadata": {},
     "output_type": "execute_result"
    }
   ],
   "execution_count": 64
  },
  {
   "cell_type": "markdown",
   "source": [
    "There's a slight discrepancy in the calculated GDP data for 2021 on [INSEE](https://statistiques-locales.insee.fr/#view=map1&c=indicator)"
   ],
   "metadata": {
    "collapsed": false
   }
  },
  {
   "cell_type": "markdown",
   "source": [
    "----\n",
    "&nbsp;\n",
    "## Adding the coordinates of individual restaurants."
   ],
   "metadata": {
    "collapsed": false
   }
  },
  {
   "cell_type": "code",
   "source": [
    "print(france_data.columns.tolist())"
   ],
   "metadata": {
    "collapsed": false,
    "ExecuteTime": {
     "end_time": "2025-04-01T16:11:39.218905Z",
     "start_time": "2025-04-01T16:11:39.215742Z"
    }
   },
   "outputs": [
    {
     "name": "stdout",
     "output_type": "stream",
     "text": [
      "['name', 'address', 'location', 'department_num', 'department', 'capital', 'region', 'price', 'cuisine', 'url', 'award', 'stars', 'greenstar', 'longitude', 'latitude']\n"
     ]
    }
   ],
   "execution_count": 65
  },
  {
   "cell_type": "markdown",
   "source": [
    "To enrich the dataset, we attach the precise (latitude, longitude) coordinates of specific starred restaurants to both `regional_data` and `departmental_data`.\n",
    "\n",
    "This will be in the form  of a dictionary:\n",
    "```python\n",
    "{\n",
    "  '1_star': [(lat1, long1), (lat2, long2), ..., (latN, longN)],\n",
    "  '2_star': [(lat1, long1), (lat2, long2), ..., (latN, longN)],\n",
    "  '3_star': [(lat1, long1), (lat2, long2), ..., (latN, longN)],\n",
    "}\n",
    "```\n",
    "\n",
    "This structure will enable us to record specific locations of Michelin-starred restaurants while maintaining a compact representation of the data."
   ],
   "metadata": {
    "collapsed": false
   }
  },
  {
   "cell_type": "markdown",
   "source": [
    "### Regional"
   ],
   "metadata": {
    "collapsed": false
   }
  },
  {
   "cell_type": "code",
   "source": [
    "# Create a separate DataFrame with star ratings, regions, and coordinates\n",
    "location_data_region = france_data[['stars', 'region', 'latitude', 'longitude']]\n",
    "\n",
    "# Convert to a dictionary where keys are tuples of star rating and region\n",
    "location_dict_region = (\n",
    "    location_data_region\n",
    "    .groupby(['stars', 'region'])[['latitude', 'longitude']]\n",
    "    .apply(lambda df: list(zip(df.latitude, df.longitude)))\n",
    "    .to_dict()\n",
    ")"
   ],
   "metadata": {
    "collapsed": false,
    "ExecuteTime": {
     "end_time": "2025-04-01T16:11:42.239364Z",
     "start_time": "2025-04-01T16:11:42.228763Z"
    }
   },
   "outputs": [],
   "execution_count": 66
  },
  {
   "cell_type": "code",
   "source": [
    "# Create a mapping from star values to string labels\n",
    "star_label_mapping = {\n",
    "    0.25: 'Selected',\n",
    "    0.5: 'Bib',\n",
    "    1: '1',\n",
    "    2: '2',\n",
    "    3: '3'\n",
    "}"
   ],
   "metadata": {
    "collapsed": false,
    "ExecuteTime": {
     "end_time": "2025-04-01T16:11:44.698322Z",
     "start_time": "2025-04-01T16:11:44.695848Z"
    }
   },
   "outputs": [],
   "execution_count": 67
  },
  {
   "cell_type": "code",
   "source": [
    "# Create a function to map these dictionaries to original DataFrame\n",
    "def map_locations_region(row):\n",
    "    return {star_label_mapping[stars]: location_dict_region.get((stars, row['region'])) for stars in [0.25, 0.5, 1, 2, 3]}"
   ],
   "metadata": {
    "collapsed": false,
    "ExecuteTime": {
     "end_time": "2025-04-01T16:11:46.929938Z",
     "start_time": "2025-04-01T16:11:46.927089Z"
    }
   },
   "outputs": [],
   "execution_count": 68
  },
  {
   "cell_type": "code",
   "source": [
    "# Apply this function to create a new 'locations' column\n",
    "regional_data['locations'] = regional_data.apply(map_locations_region, axis=1)"
   ],
   "metadata": {
    "collapsed": false,
    "ExecuteTime": {
     "end_time": "2025-04-01T16:11:50.080002Z",
     "start_time": "2025-04-01T16:11:50.076139Z"
    }
   },
   "outputs": [],
   "execution_count": 69
  },
  {
   "cell_type": "markdown",
   "source": [
    "### Departmental"
   ],
   "metadata": {
    "collapsed": false
   }
  },
  {
   "cell_type": "code",
   "source": [
    "# Create a separate DataFrame with star ratings, department, and coordinates\n",
    "location_data_department = france_data[['stars', 'department_num', 'latitude', 'longitude']]\n",
    "\n",
    "# Convert to a dictionary where keys are tuples of star rating and department\n",
    "location_dict_department = (\n",
    "    location_data_department\n",
    "    .groupby(['stars', 'department_num'])[['latitude', 'longitude']]\n",
    "    .apply(lambda df: list(zip(df.latitude, df.longitude)))\n",
    "    .to_dict()\n",
    ")"
   ],
   "metadata": {
    "collapsed": false,
    "ExecuteTime": {
     "end_time": "2025-04-01T16:11:53.114237Z",
     "start_time": "2025-04-01T16:11:53.096120Z"
    }
   },
   "outputs": [],
   "execution_count": 70
  },
  {
   "cell_type": "code",
   "source": [
    "# Create a function to map these dictionaries to original DataFrame for departments\n",
    "def map_locations_department(row):\n",
    "    return {star_label_mapping[stars]: location_dict_department.get((stars, row['department_num'])) for stars in [0.25, 0.5, 1, 2, 3]}"
   ],
   "metadata": {
    "collapsed": false,
    "ExecuteTime": {
     "end_time": "2025-04-01T16:11:56.032053Z",
     "start_time": "2025-04-01T16:11:56.029202Z"
    }
   },
   "outputs": [],
   "execution_count": 71
  },
  {
   "cell_type": "code",
   "source": [
    "# Apply this function to create a new 'locations' column\n",
    "departmental_data['locations'] = departmental_data.apply(map_locations_department, axis=1)"
   ],
   "metadata": {
    "collapsed": false,
    "ExecuteTime": {
     "end_time": "2025-04-01T16:11:58.484540Z",
     "start_time": "2025-04-01T16:11:58.479432Z"
    }
   },
   "outputs": [],
   "execution_count": 72
  },
  {
   "cell_type": "markdown",
   "source": [
    "----\n",
    "&nbsp;\n",
    "## Merging with the GeoJSON data"
   ],
   "metadata": {
    "collapsed": false
   }
  },
  {
   "cell_type": "markdown",
   "source": [
    "We merge `departmental_data` with `departements.geojson`"
   ],
   "metadata": {
    "collapsed": false
   }
  },
  {
   "cell_type": "code",
   "source": [
    "gdf_dept = gpd.read_file('../../../../ExtraData/Geodata/departements.geojson')\n",
    "gdf_dept.head()"
   ],
   "metadata": {
    "collapsed": false,
    "ExecuteTime": {
     "end_time": "2025-04-01T16:12:02.043815Z",
     "start_time": "2025-04-01T16:12:01.915226Z"
    }
   },
   "outputs": [
    {
     "data": {
      "text/plain": [
       "  code                      nom  \\\n",
       "0   01                      Ain   \n",
       "1   02                    Aisne   \n",
       "2   03                   Allier   \n",
       "3   04  Alpes-de-Haute-Provence   \n",
       "4   05             Hautes-Alpes   \n",
       "\n",
       "                                            geometry  \n",
       "0  POLYGON ((4.78021 46.17668, 4.78024 46.18905, ...  \n",
       "1  POLYGON ((3.17296 50.01131, 3.17382 50.01186, ...  \n",
       "2  POLYGON ((3.03207 46.79491, 3.03424 46.7908, 3...  \n",
       "3  POLYGON ((5.67604 44.19143, 5.67817 44.19051, ...  \n",
       "4  POLYGON ((6.26057 45.12685, 6.26417 45.12641, ...  "
      ],
      "text/html": [
       "<div>\n",
       "<style scoped>\n",
       "    .dataframe tbody tr th:only-of-type {\n",
       "        vertical-align: middle;\n",
       "    }\n",
       "\n",
       "    .dataframe tbody tr th {\n",
       "        vertical-align: top;\n",
       "    }\n",
       "\n",
       "    .dataframe thead th {\n",
       "        text-align: right;\n",
       "    }\n",
       "</style>\n",
       "<table border=\"1\" class=\"dataframe\">\n",
       "  <thead>\n",
       "    <tr style=\"text-align: right;\">\n",
       "      <th></th>\n",
       "      <th>code</th>\n",
       "      <th>nom</th>\n",
       "      <th>geometry</th>\n",
       "    </tr>\n",
       "  </thead>\n",
       "  <tbody>\n",
       "    <tr>\n",
       "      <th>0</th>\n",
       "      <td>01</td>\n",
       "      <td>Ain</td>\n",
       "      <td>POLYGON ((4.78021 46.17668, 4.78024 46.18905, ...</td>\n",
       "    </tr>\n",
       "    <tr>\n",
       "      <th>1</th>\n",
       "      <td>02</td>\n",
       "      <td>Aisne</td>\n",
       "      <td>POLYGON ((3.17296 50.01131, 3.17382 50.01186, ...</td>\n",
       "    </tr>\n",
       "    <tr>\n",
       "      <th>2</th>\n",
       "      <td>03</td>\n",
       "      <td>Allier</td>\n",
       "      <td>POLYGON ((3.03207 46.79491, 3.03424 46.7908, 3...</td>\n",
       "    </tr>\n",
       "    <tr>\n",
       "      <th>3</th>\n",
       "      <td>04</td>\n",
       "      <td>Alpes-de-Haute-Provence</td>\n",
       "      <td>POLYGON ((5.67604 44.19143, 5.67817 44.19051, ...</td>\n",
       "    </tr>\n",
       "    <tr>\n",
       "      <th>4</th>\n",
       "      <td>05</td>\n",
       "      <td>Hautes-Alpes</td>\n",
       "      <td>POLYGON ((6.26057 45.12685, 6.26417 45.12641, ...</td>\n",
       "    </tr>\n",
       "  </tbody>\n",
       "</table>\n",
       "</div>"
      ]
     },
     "execution_count": 73,
     "metadata": {},
     "output_type": "execute_result"
    }
   ],
   "execution_count": 73
  },
  {
   "cell_type": "markdown",
   "source": [
    "We will merge on `code` and check the two sets of departmental codes are equal"
   ],
   "metadata": {
    "collapsed": false
   }
  },
  {
   "cell_type": "code",
   "source": [
    "set1 = set(departmental_data['department_num'].unique())\n",
    "set2 = set(gdf_dept['code'].unique())\n",
    "print(f\"Sets equal? {set1 == set2}\")"
   ],
   "metadata": {
    "collapsed": false,
    "ExecuteTime": {
     "end_time": "2025-04-01T16:12:05.984733Z",
     "start_time": "2025-04-01T16:12:05.980379Z"
    }
   },
   "outputs": [
    {
     "name": "stdout",
     "output_type": "stream",
     "text": [
      "Sets equal? True\n"
     ]
    }
   ],
   "execution_count": 74
  },
  {
   "cell_type": "code",
   "source": [
    "# Merge dataframes\n",
    "dept_rest_demo = gdf.set_index('code').join(departmental_data.set_index('department_num'))\n",
    "\n",
    "# Reset index to keep 'department_num' as a column\n",
    "dept_rest_demo.reset_index(inplace=True)\n",
    "\n",
    "# Delete 'nom' column in place\n",
    "dept_rest_demo.drop(columns='nom', inplace=True)\n",
    "\n",
    "print(len(dept_rest_demo))\n",
    "dept_rest_demo.head()"
   ],
   "metadata": {
    "collapsed": false,
    "ExecuteTime": {
     "end_time": "2025-04-01T16:12:08.536212Z",
     "start_time": "2025-04-01T16:12:08.510945Z"
    }
   },
   "outputs": [
    {
     "name": "stdout",
     "output_type": "stream",
     "text": [
      "96\n"
     ]
    },
    {
     "data": {
      "text/plain": [
       "  code                                           geometry  \\\n",
       "0   01  POLYGON ((4.78021 46.17668, 4.78024 46.18905, ...   \n",
       "1   02  POLYGON ((3.17296 50.01131, 3.17382 50.01186, ...   \n",
       "2   03  POLYGON ((3.03207 46.79491, 3.03424 46.7908, 3...   \n",
       "3   04  POLYGON ((5.67604 44.19143, 5.67817 44.19051, ...   \n",
       "4   05  POLYGON ((6.26057 45.12685, 6.26417 45.12641, ...   \n",
       "\n",
       "                department          capital                      region  \\\n",
       "0                      Ain  Bourg-en-Bresse        Auvergne-Rhône-Alpes   \n",
       "1                    Aisne             Laon             Hauts-de-France   \n",
       "2                   Allier          Moulins        Auvergne-Rhône-Alpes   \n",
       "3  Alpes-de-Haute-Provence  Digne-les-Bains  Provence-Alpes-Côte d'Azur   \n",
       "4             Hautes-Alpes              Gap  Provence-Alpes-Côte d'Azur   \n",
       "\n",
       "   selected  bib_gourmand  1_star  2_star  3_star  ...  green_stars  \\\n",
       "0        16             7       4       1       0  ...            1   \n",
       "1         3             0       2       0       0  ...            0   \n",
       "2         8             4       2       0       0  ...            0   \n",
       "3         8             0       4       0       0  ...            1   \n",
       "4         4             2       0       0       0  ...            0   \n",
       "\n",
       "   GDP_millions(€)  GDP_per_capita(€)  poverty_rate(%)  \\\n",
       "0         16726.40           24916.84             10.8   \n",
       "1         12016.40           22864.08             18.8   \n",
       "2          8278.98           24734.42             16.2   \n",
       "3          4154.79           24852.34             17.1   \n",
       "4          3756.22           26512.56             14.7   \n",
       "\n",
       "   average_annual_unemployment_rate(%)  average_net_hourly_wage(€)  \\\n",
       "0                                  5.5                       15.96   \n",
       "1                                 10.5                       14.46   \n",
       "2                                  7.8                       14.19   \n",
       "3                                  8.1                       14.60   \n",
       "4                                  6.6                       13.99   \n",
       "\n",
       "   municipal_population  population_density(inhabitants/sq_km)  area(sq_km)  \\\n",
       "0              671289.0                                  115.1      5832.22   \n",
       "1              525558.0                                   71.7      7329.96   \n",
       "2              334715.0                                   45.6      7340.24   \n",
       "3              167179.0                                   24.0      6965.79   \n",
       "4              141677.0                                   25.4      5577.83   \n",
       "\n",
       "                                           locations  \n",
       "0  {'Selected': [(45.7358533, 5.7079944), (46.305...  \n",
       "1  {'Selected': [(49.5694557, 3.6221072), (49.615...  \n",
       "2  {'Selected': [(46.54767, 2.980203), (46.323322...  \n",
       "3  {'Selected': [(43.8307812, 5.7979837), (44.093...  \n",
       "4  {'Selected': [(44.9651429, 6.5288612), (44.976...  \n",
       "\n",
       "[5 rows x 22 columns]"
      ],
      "text/html": [
       "<div>\n",
       "<style scoped>\n",
       "    .dataframe tbody tr th:only-of-type {\n",
       "        vertical-align: middle;\n",
       "    }\n",
       "\n",
       "    .dataframe tbody tr th {\n",
       "        vertical-align: top;\n",
       "    }\n",
       "\n",
       "    .dataframe thead th {\n",
       "        text-align: right;\n",
       "    }\n",
       "</style>\n",
       "<table border=\"1\" class=\"dataframe\">\n",
       "  <thead>\n",
       "    <tr style=\"text-align: right;\">\n",
       "      <th></th>\n",
       "      <th>code</th>\n",
       "      <th>geometry</th>\n",
       "      <th>department</th>\n",
       "      <th>capital</th>\n",
       "      <th>region</th>\n",
       "      <th>selected</th>\n",
       "      <th>bib_gourmand</th>\n",
       "      <th>1_star</th>\n",
       "      <th>2_star</th>\n",
       "      <th>3_star</th>\n",
       "      <th>...</th>\n",
       "      <th>green_stars</th>\n",
       "      <th>GDP_millions(€)</th>\n",
       "      <th>GDP_per_capita(€)</th>\n",
       "      <th>poverty_rate(%)</th>\n",
       "      <th>average_annual_unemployment_rate(%)</th>\n",
       "      <th>average_net_hourly_wage(€)</th>\n",
       "      <th>municipal_population</th>\n",
       "      <th>population_density(inhabitants/sq_km)</th>\n",
       "      <th>area(sq_km)</th>\n",
       "      <th>locations</th>\n",
       "    </tr>\n",
       "  </thead>\n",
       "  <tbody>\n",
       "    <tr>\n",
       "      <th>0</th>\n",
       "      <td>01</td>\n",
       "      <td>POLYGON ((4.78021 46.17668, 4.78024 46.18905, ...</td>\n",
       "      <td>Ain</td>\n",
       "      <td>Bourg-en-Bresse</td>\n",
       "      <td>Auvergne-Rhône-Alpes</td>\n",
       "      <td>16</td>\n",
       "      <td>7</td>\n",
       "      <td>4</td>\n",
       "      <td>1</td>\n",
       "      <td>0</td>\n",
       "      <td>...</td>\n",
       "      <td>1</td>\n",
       "      <td>16726.40</td>\n",
       "      <td>24916.84</td>\n",
       "      <td>10.8</td>\n",
       "      <td>5.5</td>\n",
       "      <td>15.96</td>\n",
       "      <td>671289.0</td>\n",
       "      <td>115.1</td>\n",
       "      <td>5832.22</td>\n",
       "      <td>{'Selected': [(45.7358533, 5.7079944), (46.305...</td>\n",
       "    </tr>\n",
       "    <tr>\n",
       "      <th>1</th>\n",
       "      <td>02</td>\n",
       "      <td>POLYGON ((3.17296 50.01131, 3.17382 50.01186, ...</td>\n",
       "      <td>Aisne</td>\n",
       "      <td>Laon</td>\n",
       "      <td>Hauts-de-France</td>\n",
       "      <td>3</td>\n",
       "      <td>0</td>\n",
       "      <td>2</td>\n",
       "      <td>0</td>\n",
       "      <td>0</td>\n",
       "      <td>...</td>\n",
       "      <td>0</td>\n",
       "      <td>12016.40</td>\n",
       "      <td>22864.08</td>\n",
       "      <td>18.8</td>\n",
       "      <td>10.5</td>\n",
       "      <td>14.46</td>\n",
       "      <td>525558.0</td>\n",
       "      <td>71.7</td>\n",
       "      <td>7329.96</td>\n",
       "      <td>{'Selected': [(49.5694557, 3.6221072), (49.615...</td>\n",
       "    </tr>\n",
       "    <tr>\n",
       "      <th>2</th>\n",
       "      <td>03</td>\n",
       "      <td>POLYGON ((3.03207 46.79491, 3.03424 46.7908, 3...</td>\n",
       "      <td>Allier</td>\n",
       "      <td>Moulins</td>\n",
       "      <td>Auvergne-Rhône-Alpes</td>\n",
       "      <td>8</td>\n",
       "      <td>4</td>\n",
       "      <td>2</td>\n",
       "      <td>0</td>\n",
       "      <td>0</td>\n",
       "      <td>...</td>\n",
       "      <td>0</td>\n",
       "      <td>8278.98</td>\n",
       "      <td>24734.42</td>\n",
       "      <td>16.2</td>\n",
       "      <td>7.8</td>\n",
       "      <td>14.19</td>\n",
       "      <td>334715.0</td>\n",
       "      <td>45.6</td>\n",
       "      <td>7340.24</td>\n",
       "      <td>{'Selected': [(46.54767, 2.980203), (46.323322...</td>\n",
       "    </tr>\n",
       "    <tr>\n",
       "      <th>3</th>\n",
       "      <td>04</td>\n",
       "      <td>POLYGON ((5.67604 44.19143, 5.67817 44.19051, ...</td>\n",
       "      <td>Alpes-de-Haute-Provence</td>\n",
       "      <td>Digne-les-Bains</td>\n",
       "      <td>Provence-Alpes-Côte d'Azur</td>\n",
       "      <td>8</td>\n",
       "      <td>0</td>\n",
       "      <td>4</td>\n",
       "      <td>0</td>\n",
       "      <td>0</td>\n",
       "      <td>...</td>\n",
       "      <td>1</td>\n",
       "      <td>4154.79</td>\n",
       "      <td>24852.34</td>\n",
       "      <td>17.1</td>\n",
       "      <td>8.1</td>\n",
       "      <td>14.60</td>\n",
       "      <td>167179.0</td>\n",
       "      <td>24.0</td>\n",
       "      <td>6965.79</td>\n",
       "      <td>{'Selected': [(43.8307812, 5.7979837), (44.093...</td>\n",
       "    </tr>\n",
       "    <tr>\n",
       "      <th>4</th>\n",
       "      <td>05</td>\n",
       "      <td>POLYGON ((6.26057 45.12685, 6.26417 45.12641, ...</td>\n",
       "      <td>Hautes-Alpes</td>\n",
       "      <td>Gap</td>\n",
       "      <td>Provence-Alpes-Côte d'Azur</td>\n",
       "      <td>4</td>\n",
       "      <td>2</td>\n",
       "      <td>0</td>\n",
       "      <td>0</td>\n",
       "      <td>0</td>\n",
       "      <td>...</td>\n",
       "      <td>0</td>\n",
       "      <td>3756.22</td>\n",
       "      <td>26512.56</td>\n",
       "      <td>14.7</td>\n",
       "      <td>6.6</td>\n",
       "      <td>13.99</td>\n",
       "      <td>141677.0</td>\n",
       "      <td>25.4</td>\n",
       "      <td>5577.83</td>\n",
       "      <td>{'Selected': [(44.9651429, 6.5288612), (44.976...</td>\n",
       "    </tr>\n",
       "  </tbody>\n",
       "</table>\n",
       "<p>5 rows × 22 columns</p>\n",
       "</div>"
      ]
     },
     "execution_count": 75,
     "metadata": {},
     "output_type": "execute_result"
    }
   ],
   "execution_count": 75
  },
  {
   "metadata": {
    "ExecuteTime": {
     "end_time": "2025-04-01T16:12:12.717524Z",
     "start_time": "2025-04-01T16:12:12.713588Z"
    }
   },
   "cell_type": "code",
   "source": "print(dept_rest_demo.dtypes)",
   "outputs": [
    {
     "name": "stdout",
     "output_type": "stream",
     "text": [
      "code                                       object\n",
      "geometry                                 geometry\n",
      "department                                 object\n",
      "capital                                    object\n",
      "region                                     object\n",
      "selected                                    int64\n",
      "bib_gourmand                                int64\n",
      "1_star                                      int64\n",
      "2_star                                      int64\n",
      "3_star                                      int64\n",
      "total_stars                                 int64\n",
      "starred_restaurants                         int64\n",
      "green_stars                                 int64\n",
      "GDP_millions(€)                           float64\n",
      "GDP_per_capita(€)                         float64\n",
      "poverty_rate(%)                           float64\n",
      "average_annual_unemployment_rate(%)       float64\n",
      "average_net_hourly_wage(€)                float64\n",
      "municipal_population                      float64\n",
      "population_density(inhabitants/sq_km)     float64\n",
      "area(sq_km)                               float64\n",
      "locations                                  object\n",
      "dtype: object\n"
     ]
    }
   ],
   "execution_count": 76
  },
  {
   "cell_type": "markdown",
   "source": [
    "----\n",
    "&nbsp;\n",
    "We merge `regional_data` with the GeoJSON data; `regions.geojson`"
   ],
   "metadata": {
    "collapsed": false
   }
  },
  {
   "cell_type": "code",
   "source": [
    "gdf_region = gpd.read_file('../../../../ExtraData/Geodata/regions.geojson')\n",
    "gdf_region.head()"
   ],
   "metadata": {
    "collapsed": false,
    "ExecuteTime": {
     "end_time": "2025-04-01T16:12:27.949358Z",
     "start_time": "2025-04-01T16:12:27.933111Z"
    }
   },
   "outputs": [
    {
     "data": {
      "text/plain": [
       "  code                      nom  \\\n",
       "0   11            Île-de-France   \n",
       "1   24      Centre-Val de Loire   \n",
       "2   27  Bourgogne-Franche-Comté   \n",
       "3   28                Normandie   \n",
       "4   32          Hauts-de-France   \n",
       "\n",
       "                                            geometry  \n",
       "0  POLYGON ((2.59052 49.07965, 2.63327 49.10838, ...  \n",
       "1  POLYGON ((2.87463 47.52042, 2.88845 47.50943, ...  \n",
       "2  POLYGON ((3.62942 46.74946, 3.57569 46.74952, ...  \n",
       "3  POLYGON ((-1.11962 49.35557, -1.07822 49.38849...  \n",
       "4  POLYGON ((4.04797 49.40564, 4.03991 49.3974, 4...  "
      ],
      "text/html": [
       "<div>\n",
       "<style scoped>\n",
       "    .dataframe tbody tr th:only-of-type {\n",
       "        vertical-align: middle;\n",
       "    }\n",
       "\n",
       "    .dataframe tbody tr th {\n",
       "        vertical-align: top;\n",
       "    }\n",
       "\n",
       "    .dataframe thead th {\n",
       "        text-align: right;\n",
       "    }\n",
       "</style>\n",
       "<table border=\"1\" class=\"dataframe\">\n",
       "  <thead>\n",
       "    <tr style=\"text-align: right;\">\n",
       "      <th></th>\n",
       "      <th>code</th>\n",
       "      <th>nom</th>\n",
       "      <th>geometry</th>\n",
       "    </tr>\n",
       "  </thead>\n",
       "  <tbody>\n",
       "    <tr>\n",
       "      <th>0</th>\n",
       "      <td>11</td>\n",
       "      <td>Île-de-France</td>\n",
       "      <td>POLYGON ((2.59052 49.07965, 2.63327 49.10838, ...</td>\n",
       "    </tr>\n",
       "    <tr>\n",
       "      <th>1</th>\n",
       "      <td>24</td>\n",
       "      <td>Centre-Val de Loire</td>\n",
       "      <td>POLYGON ((2.87463 47.52042, 2.88845 47.50943, ...</td>\n",
       "    </tr>\n",
       "    <tr>\n",
       "      <th>2</th>\n",
       "      <td>27</td>\n",
       "      <td>Bourgogne-Franche-Comté</td>\n",
       "      <td>POLYGON ((3.62942 46.74946, 3.57569 46.74952, ...</td>\n",
       "    </tr>\n",
       "    <tr>\n",
       "      <th>3</th>\n",
       "      <td>28</td>\n",
       "      <td>Normandie</td>\n",
       "      <td>POLYGON ((-1.11962 49.35557, -1.07822 49.38849...</td>\n",
       "    </tr>\n",
       "    <tr>\n",
       "      <th>4</th>\n",
       "      <td>32</td>\n",
       "      <td>Hauts-de-France</td>\n",
       "      <td>POLYGON ((4.04797 49.40564, 4.03991 49.3974, 4...</td>\n",
       "    </tr>\n",
       "  </tbody>\n",
       "</table>\n",
       "</div>"
      ]
     },
     "execution_count": 77,
     "metadata": {},
     "output_type": "execute_result"
    }
   ],
   "execution_count": 77
  },
  {
   "cell_type": "code",
   "source": [
    "set1 = set(regional_data['region'].unique())\n",
    "set2 = set(gdf_region['nom'].unique())\n",
    "print(f\"Sets equal? {set1 == set2}\")"
   ],
   "metadata": {
    "collapsed": false,
    "ExecuteTime": {
     "end_time": "2025-04-01T16:12:31.414563Z",
     "start_time": "2025-04-01T16:12:31.411075Z"
    }
   },
   "outputs": [
    {
     "name": "stdout",
     "output_type": "stream",
     "text": [
      "Sets equal? False\n"
     ]
    }
   ],
   "execution_count": 78
  },
  {
   "metadata": {
    "ExecuteTime": {
     "end_time": "2025-04-01T16:12:33.750723Z",
     "start_time": "2025-04-01T16:12:33.747760Z"
    }
   },
   "cell_type": "code",
   "source": [
    "print(\"In set1 but not in set2: \", set1 - set2)\n",
    "print(\"In set2 but not in set1: \", set2 - set1)"
   ],
   "outputs": [
    {
     "name": "stdout",
     "output_type": "stream",
     "text": [
      "In set1 but not in set2:  {'Normandy', 'Brittany', 'Corsica'}\n",
      "In set2 but not in set1:  {'Normandie', 'Corse', 'Bretagne'}\n"
     ]
    }
   ],
   "execution_count": 79
  },
  {
   "metadata": {
    "ExecuteTime": {
     "end_time": "2025-04-01T16:12:41.079521Z",
     "start_time": "2025-04-01T16:12:41.076005Z"
    }
   },
   "cell_type": "code",
   "source": [
    "# Define a dictionary to map English region names to French\n",
    "region_translation = {'Brittany': 'Bretagne', 'Corsica': 'Corse', 'Normandy': 'Normandie'}\n",
    "\n",
    "# Use replace to update the 'region' column\n",
    "regional_data['region'] = regional_data['region'].replace(region_translation)"
   ],
   "outputs": [],
   "execution_count": 80
  },
  {
   "metadata": {},
   "cell_type": "markdown",
   "source": "We also update `region` in `dept_rest_demo`"
  },
  {
   "metadata": {
    "ExecuteTime": {
     "end_time": "2025-04-01T16:12:43.832883Z",
     "start_time": "2025-04-01T16:12:43.829539Z"
    }
   },
   "cell_type": "code",
   "source": "dept_rest_demo['region'] = dept_rest_demo['region'].replace(region_translation)",
   "outputs": [],
   "execution_count": 81
  },
  {
   "cell_type": "code",
   "source": [
    "set1 = set(regional_data['region'].unique())\n",
    "set2 = set(dept_rest_demo['region'].unique())\n",
    "set3 = set(gdf_region['nom'].unique())\n",
    "print(f\"Sets equal? {set1 == set2 == set3}\")"
   ],
   "metadata": {
    "collapsed": false,
    "ExecuteTime": {
     "end_time": "2025-04-01T16:12:46.566747Z",
     "start_time": "2025-04-01T16:12:46.563236Z"
    }
   },
   "outputs": [
    {
     "name": "stdout",
     "output_type": "stream",
     "text": [
      "Sets equal? True\n"
     ]
    }
   ],
   "execution_count": 82
  },
  {
   "cell_type": "code",
   "source": [
    "# Merge the dataframes on 'nom' and 'region'\n",
    "region_rest_demo = gdf_region.merge(regional_data, left_on='nom', right_on='region')"
   ],
   "metadata": {
    "collapsed": false,
    "ExecuteTime": {
     "end_time": "2025-04-01T16:12:48.716572Z",
     "start_time": "2025-04-01T16:12:48.711818Z"
    }
   },
   "outputs": [],
   "execution_count": 83
  },
  {
   "cell_type": "code",
   "source": [
    "# Delete 'nom' column in place\n",
    "region_rest_demo.drop(columns=['code', 'nom'], inplace=True)"
   ],
   "metadata": {
    "collapsed": false,
    "ExecuteTime": {
     "end_time": "2025-04-01T16:12:50.676306Z",
     "start_time": "2025-04-01T16:12:50.672698Z"
    }
   },
   "outputs": [],
   "execution_count": 84
  },
  {
   "cell_type": "code",
   "source": [
    "region_rest_demo.head()"
   ],
   "metadata": {
    "collapsed": false,
    "ExecuteTime": {
     "end_time": "2025-04-01T16:12:53.350341Z",
     "start_time": "2025-04-01T16:12:53.282135Z"
    }
   },
   "outputs": [
    {
     "data": {
      "text/plain": [
       "                                            geometry                   region  \\\n",
       "0  POLYGON ((2.59052 49.07965, 2.63327 49.10838, ...            Île-de-France   \n",
       "1  POLYGON ((2.87463 47.52042, 2.88845 47.50943, ...      Centre-Val de Loire   \n",
       "2  POLYGON ((3.62942 46.74946, 3.57569 46.74952, ...  Bourgogne-Franche-Comté   \n",
       "3  POLYGON ((-1.11962 49.35557, -1.07822 49.38849...                Normandie   \n",
       "4  POLYGON ((4.04797 49.40564, 4.03991 49.3974, 4...          Hauts-de-France   \n",
       "\n",
       "   selected  bib_gourmand  1_star  2_star  3_star  total_stars  \\\n",
       "0       359            39     112      17      10          176   \n",
       "1        79            17      20       1       0           22   \n",
       "2       115            21      27       4       1           38   \n",
       "3        63            25      18       0       0           18   \n",
       "4        67             9      14       3       0           20   \n",
       "\n",
       "   starred_restaurants  green_stars  GDP_millions(€)  GDP_per_capita(€)  \\\n",
       "0                  139           11        700754.40       56599.340730   \n",
       "1                   21            5         72707.28       28163.683178   \n",
       "2                   32            6         76921.54       27433.013894   \n",
       "3                   18            4         92016.51       27557.493485   \n",
       "4                   17            5        163006.00       27172.575845   \n",
       "\n",
       "   poverty_rate(%)  average_annual_unemployment_rate(%)  \\\n",
       "0        16.148741                             7.023389   \n",
       "1        13.465104                             6.831572   \n",
       "2        13.402493                             6.416168   \n",
       "3        13.767851                             6.866149   \n",
       "4        18.033954                             9.021599   \n",
       "\n",
       "   average_net_hourly_wage(€)  municipal_population  \\\n",
       "0                   21.275977            12380964.0   \n",
       "1                   15.411722             2581597.0   \n",
       "2                   14.928133             2803977.0   \n",
       "3                   15.379456             3339074.0   \n",
       "4                   15.402444             5998916.0   \n",
       "\n",
       "   population_density(inhabitants/sq_km)  area(sq_km)  \\\n",
       "0                                1021.03     12125.93   \n",
       "1                                  65.79     39238.50   \n",
       "2                                  58.64     47820.55   \n",
       "3                                 111.52     29941.26   \n",
       "4                                 188.73     31785.23   \n",
       "\n",
       "                                           locations  \n",
       "0  {'Selected': [(48.8620352, 2.3510841), (48.879...  \n",
       "1  {'Selected': [(46.8114663, 1.6908734), (46.810...  \n",
       "2  {'Selected': [(47.2387368, 4.9677757), (47.322...  \n",
       "3  {'Selected': [(48.4787062, 0.5596934), (49.528...  \n",
       "4  {'Selected': [(50.6864947, 2.8836507), (50.643...  "
      ],
      "text/html": [
       "<div>\n",
       "<style scoped>\n",
       "    .dataframe tbody tr th:only-of-type {\n",
       "        vertical-align: middle;\n",
       "    }\n",
       "\n",
       "    .dataframe tbody tr th {\n",
       "        vertical-align: top;\n",
       "    }\n",
       "\n",
       "    .dataframe thead th {\n",
       "        text-align: right;\n",
       "    }\n",
       "</style>\n",
       "<table border=\"1\" class=\"dataframe\">\n",
       "  <thead>\n",
       "    <tr style=\"text-align: right;\">\n",
       "      <th></th>\n",
       "      <th>geometry</th>\n",
       "      <th>region</th>\n",
       "      <th>selected</th>\n",
       "      <th>bib_gourmand</th>\n",
       "      <th>1_star</th>\n",
       "      <th>2_star</th>\n",
       "      <th>3_star</th>\n",
       "      <th>total_stars</th>\n",
       "      <th>starred_restaurants</th>\n",
       "      <th>green_stars</th>\n",
       "      <th>GDP_millions(€)</th>\n",
       "      <th>GDP_per_capita(€)</th>\n",
       "      <th>poverty_rate(%)</th>\n",
       "      <th>average_annual_unemployment_rate(%)</th>\n",
       "      <th>average_net_hourly_wage(€)</th>\n",
       "      <th>municipal_population</th>\n",
       "      <th>population_density(inhabitants/sq_km)</th>\n",
       "      <th>area(sq_km)</th>\n",
       "      <th>locations</th>\n",
       "    </tr>\n",
       "  </thead>\n",
       "  <tbody>\n",
       "    <tr>\n",
       "      <th>0</th>\n",
       "      <td>POLYGON ((2.59052 49.07965, 2.63327 49.10838, ...</td>\n",
       "      <td>Île-de-France</td>\n",
       "      <td>359</td>\n",
       "      <td>39</td>\n",
       "      <td>112</td>\n",
       "      <td>17</td>\n",
       "      <td>10</td>\n",
       "      <td>176</td>\n",
       "      <td>139</td>\n",
       "      <td>11</td>\n",
       "      <td>700754.40</td>\n",
       "      <td>56599.340730</td>\n",
       "      <td>16.148741</td>\n",
       "      <td>7.023389</td>\n",
       "      <td>21.275977</td>\n",
       "      <td>12380964.0</td>\n",
       "      <td>1021.03</td>\n",
       "      <td>12125.93</td>\n",
       "      <td>{'Selected': [(48.8620352, 2.3510841), (48.879...</td>\n",
       "    </tr>\n",
       "    <tr>\n",
       "      <th>1</th>\n",
       "      <td>POLYGON ((2.87463 47.52042, 2.88845 47.50943, ...</td>\n",
       "      <td>Centre-Val de Loire</td>\n",
       "      <td>79</td>\n",
       "      <td>17</td>\n",
       "      <td>20</td>\n",
       "      <td>1</td>\n",
       "      <td>0</td>\n",
       "      <td>22</td>\n",
       "      <td>21</td>\n",
       "      <td>5</td>\n",
       "      <td>72707.28</td>\n",
       "      <td>28163.683178</td>\n",
       "      <td>13.465104</td>\n",
       "      <td>6.831572</td>\n",
       "      <td>15.411722</td>\n",
       "      <td>2581597.0</td>\n",
       "      <td>65.79</td>\n",
       "      <td>39238.50</td>\n",
       "      <td>{'Selected': [(46.8114663, 1.6908734), (46.810...</td>\n",
       "    </tr>\n",
       "    <tr>\n",
       "      <th>2</th>\n",
       "      <td>POLYGON ((3.62942 46.74946, 3.57569 46.74952, ...</td>\n",
       "      <td>Bourgogne-Franche-Comté</td>\n",
       "      <td>115</td>\n",
       "      <td>21</td>\n",
       "      <td>27</td>\n",
       "      <td>4</td>\n",
       "      <td>1</td>\n",
       "      <td>38</td>\n",
       "      <td>32</td>\n",
       "      <td>6</td>\n",
       "      <td>76921.54</td>\n",
       "      <td>27433.013894</td>\n",
       "      <td>13.402493</td>\n",
       "      <td>6.416168</td>\n",
       "      <td>14.928133</td>\n",
       "      <td>2803977.0</td>\n",
       "      <td>58.64</td>\n",
       "      <td>47820.55</td>\n",
       "      <td>{'Selected': [(47.2387368, 4.9677757), (47.322...</td>\n",
       "    </tr>\n",
       "    <tr>\n",
       "      <th>3</th>\n",
       "      <td>POLYGON ((-1.11962 49.35557, -1.07822 49.38849...</td>\n",
       "      <td>Normandie</td>\n",
       "      <td>63</td>\n",
       "      <td>25</td>\n",
       "      <td>18</td>\n",
       "      <td>0</td>\n",
       "      <td>0</td>\n",
       "      <td>18</td>\n",
       "      <td>18</td>\n",
       "      <td>4</td>\n",
       "      <td>92016.51</td>\n",
       "      <td>27557.493485</td>\n",
       "      <td>13.767851</td>\n",
       "      <td>6.866149</td>\n",
       "      <td>15.379456</td>\n",
       "      <td>3339074.0</td>\n",
       "      <td>111.52</td>\n",
       "      <td>29941.26</td>\n",
       "      <td>{'Selected': [(48.4787062, 0.5596934), (49.528...</td>\n",
       "    </tr>\n",
       "    <tr>\n",
       "      <th>4</th>\n",
       "      <td>POLYGON ((4.04797 49.40564, 4.03991 49.3974, 4...</td>\n",
       "      <td>Hauts-de-France</td>\n",
       "      <td>67</td>\n",
       "      <td>9</td>\n",
       "      <td>14</td>\n",
       "      <td>3</td>\n",
       "      <td>0</td>\n",
       "      <td>20</td>\n",
       "      <td>17</td>\n",
       "      <td>5</td>\n",
       "      <td>163006.00</td>\n",
       "      <td>27172.575845</td>\n",
       "      <td>18.033954</td>\n",
       "      <td>9.021599</td>\n",
       "      <td>15.402444</td>\n",
       "      <td>5998916.0</td>\n",
       "      <td>188.73</td>\n",
       "      <td>31785.23</td>\n",
       "      <td>{'Selected': [(50.6864947, 2.8836507), (50.643...</td>\n",
       "    </tr>\n",
       "  </tbody>\n",
       "</table>\n",
       "</div>"
      ]
     },
     "execution_count": 85,
     "metadata": {},
     "output_type": "execute_result"
    }
   ],
   "execution_count": 85
  },
  {
   "metadata": {
    "ExecuteTime": {
     "end_time": "2025-04-01T16:13:09.966654Z",
     "start_time": "2025-04-01T16:13:09.962986Z"
    }
   },
   "cell_type": "code",
   "source": "print(region_rest_demo.dtypes)",
   "outputs": [
    {
     "name": "stdout",
     "output_type": "stream",
     "text": [
      "geometry                                 geometry\n",
      "region                                     object\n",
      "selected                                    int64\n",
      "bib_gourmand                                int64\n",
      "1_star                                      int64\n",
      "2_star                                      int64\n",
      "3_star                                      int64\n",
      "total_stars                                 int64\n",
      "starred_restaurants                         int64\n",
      "green_stars                                 int64\n",
      "GDP_millions(€)                           float64\n",
      "GDP_per_capita(€)                         float64\n",
      "poverty_rate(%)                           float64\n",
      "average_annual_unemployment_rate(%)       float64\n",
      "average_net_hourly_wage(€)                float64\n",
      "municipal_population                      float64\n",
      "population_density(inhabitants/sq_km)     float64\n",
      "area(sq_km)                               float64\n",
      "locations                                  object\n",
      "dtype: object\n"
     ]
    }
   ],
   "execution_count": 86
  },
  {
   "cell_type": "markdown",
   "source": [
    "Both datasets will be exported for further analysis"
   ],
   "metadata": {
    "collapsed": false
   }
  },
  {
   "cell_type": "code",
   "source": [
    "# Export the GeoDataFrame to a .geojson file\n",
    "region_rest_demo.to_file('../../data/France/geodata/region_restaurants.geojson', driver='GeoJSON')"
   ],
   "metadata": {
    "collapsed": false,
    "ExecuteTime": {
     "end_time": "2025-04-01T16:13:13.869576Z",
     "start_time": "2025-04-01T16:13:13.841180Z"
    }
   },
   "outputs": [],
   "execution_count": 87
  },
  {
   "cell_type": "code",
   "source": [
    "# Export the GeoDataFrame to a .geojson file\n",
    "dept_rest_demo.to_file('../../data/France/geodata/department_restaurants.geojson', driver='GeoJSON')"
   ],
   "metadata": {
    "collapsed": false,
    "ExecuteTime": {
     "end_time": "2025-04-01T16:13:16.869553Z",
     "start_time": "2025-04-01T16:13:16.559982Z"
    }
   },
   "outputs": [],
   "execution_count": 88
  },
  {
   "metadata": {},
   "cell_type": "markdown",
   "source": "----"
  }
 ],
 "metadata": {
  "kernelspec": {
   "display_name": "Python 3",
   "language": "python",
   "name": "python3"
  },
  "language_info": {
   "codemirror_mode": {
    "name": "ipython",
    "version": 2
   },
   "file_extension": ".py",
   "mimetype": "text/x-python",
   "name": "python",
   "nbconvert_exporter": "python",
   "pygments_lexer": "ipython2",
   "version": "2.7.6"
  }
 },
 "nbformat": 4,
 "nbformat_minor": 0
}
