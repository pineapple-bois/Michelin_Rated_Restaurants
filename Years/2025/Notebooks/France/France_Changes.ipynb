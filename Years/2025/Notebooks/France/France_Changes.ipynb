{
 "cells": [
  {
   "cell_type": "markdown",
   "source": "# Comparing the 2024 and 2025 Michelin Guide to France",
   "metadata": {
    "collapsed": false
   },
   "id": "934624b2c7ffe842"
  },
  {
   "cell_type": "code",
   "id": "initial_id",
   "metadata": {
    "collapsed": true,
    "ExecuteTime": {
     "end_time": "2025-03-29T16:55:05.902206Z",
     "start_time": "2025-03-29T16:55:05.899498Z"
    }
   },
   "source": [
    "import pandas as pd"
   ],
   "outputs": [],
   "execution_count": 14
  },
  {
   "cell_type": "code",
   "source": [
    "france_24 = pd.read_csv('../../../2024/data/France/all_restaurants(arrondissements).csv')\n",
    "france_25 = pd.read_csv('../../data/France/all_restaurants(arrondissements).csv')"
   ],
   "metadata": {
    "collapsed": false,
    "ExecuteTime": {
     "end_time": "2025-03-29T16:55:05.942023Z",
     "start_time": "2025-03-29T16:55:05.926174Z"
    }
   },
   "id": "1990cae282d4c458",
   "outputs": [],
   "execution_count": 15
  },
  {
   "cell_type": "code",
   "source": "france_24.info()",
   "metadata": {
    "collapsed": false,
    "ExecuteTime": {
     "end_time": "2025-03-29T16:55:05.950829Z",
     "start_time": "2025-03-29T16:55:05.946800Z"
    }
   },
   "id": "5c7f4c92d54de809",
   "outputs": [
    {
     "name": "stdout",
     "output_type": "stream",
     "text": [
      "<class 'pandas.core.frame.DataFrame'>\n",
      "RangeIndex: 1017 entries, 0 to 1016\n",
      "Data columns (total 15 columns):\n",
      " #   Column          Non-Null Count  Dtype  \n",
      "---  ------          --------------  -----  \n",
      " 0   name            1017 non-null   object \n",
      " 1   address         1017 non-null   object \n",
      " 2   location        1017 non-null   object \n",
      " 3   arrondissement  1017 non-null   object \n",
      " 4   department_num  1017 non-null   object \n",
      " 5   department      1017 non-null   object \n",
      " 6   capital         1017 non-null   object \n",
      " 7   region          1017 non-null   object \n",
      " 8   price           1017 non-null   object \n",
      " 9   cuisine         1017 non-null   object \n",
      " 10  url             973 non-null    object \n",
      " 11  award           1017 non-null   object \n",
      " 12  stars           1017 non-null   float64\n",
      " 13  longitude       1017 non-null   float64\n",
      " 14  latitude        1017 non-null   float64\n",
      "dtypes: float64(3), object(12)\n",
      "memory usage: 119.3+ KB\n"
     ]
    }
   ],
   "execution_count": 16
  },
  {
   "cell_type": "code",
   "source": "france_25.info()",
   "metadata": {
    "collapsed": false,
    "ExecuteTime": {
     "end_time": "2025-03-29T16:55:05.974594Z",
     "start_time": "2025-03-29T16:55:05.969808Z"
    }
   },
   "id": "c30ac354beadb5e6",
   "outputs": [
    {
     "name": "stdout",
     "output_type": "stream",
     "text": [
      "<class 'pandas.core.frame.DataFrame'>\n",
      "RangeIndex: 2991 entries, 0 to 2990\n",
      "Data columns (total 16 columns):\n",
      " #   Column          Non-Null Count  Dtype  \n",
      "---  ------          --------------  -----  \n",
      " 0   name            2991 non-null   object \n",
      " 1   address         2991 non-null   object \n",
      " 2   location        2991 non-null   object \n",
      " 3   arrondissement  2985 non-null   object \n",
      " 4   department_num  2991 non-null   object \n",
      " 5   department      2991 non-null   object \n",
      " 6   capital         2991 non-null   object \n",
      " 7   region          2991 non-null   object \n",
      " 8   price           2991 non-null   object \n",
      " 9   cuisine         2991 non-null   object \n",
      " 10  url             2840 non-null   object \n",
      " 11  award           2991 non-null   object \n",
      " 12  stars           2991 non-null   float64\n",
      " 13  greenstar       2991 non-null   int64  \n",
      " 14  longitude       2991 non-null   float64\n",
      " 15  latitude        2991 non-null   float64\n",
      "dtypes: float64(3), int64(1), object(12)\n",
      "memory usage: 374.0+ KB\n"
     ]
    }
   ],
   "execution_count": 17
  },
  {
   "metadata": {
    "ExecuteTime": {
     "end_time": "2025-03-29T17:08:37.355256Z",
     "start_time": "2025-03-29T17:08:37.350679Z"
    }
   },
   "cell_type": "code",
   "source": [
    "non_selected_25 = france_25[france_25['stars'] != 0.25]\n",
    "print(len(non_selected_25))"
   ],
   "id": "b689db58534c8645",
   "outputs": [
    {
     "name": "stdout",
     "output_type": "stream",
     "text": [
      "983\n"
     ]
    }
   ],
   "execution_count": 34
  },
  {
   "cell_type": "markdown",
   "source": [
    "----\n",
    "&nbsp;\n",
    "## Identify new or removed entries focusing on 1+ star restaurants"
   ],
   "metadata": {
    "collapsed": false
   },
   "id": "6dd7e4bc5dc782be"
  },
  {
   "cell_type": "code",
   "source": [
    "# Filter france_24 and france_25 for star ratings >= 1\n",
    "subset_24 = france_24[france_24['stars'] >= 1][['name', 'address', 'location', 'url', 'stars']]\n",
    "subset_25 = france_25[france_25['stars'] >= 1][['name', 'address', 'location', 'url', 'stars']]\n",
    "\n",
    "# Turn the filtered data into sets of tuples\n",
    "set_subset_24 = set(tuple(x) for x in subset_24.values)\n",
    "set_subset_25 = set(tuple(x) for x in subset_25.values)\n",
    "\n",
    "# Find new and closed Michelin stars\n",
    "potential_new_stars = set_subset_25 - set_subset_24\n",
    "potential_closed_stars = set_subset_24 - set_subset_25"
   ],
   "metadata": {
    "collapsed": false,
    "ExecuteTime": {
     "end_time": "2025-03-29T16:55:05.998861Z",
     "start_time": "2025-03-29T16:55:05.993636Z"
    }
   },
   "id": "7d13fdd8133df294",
   "outputs": [],
   "execution_count": 18
  },
  {
   "cell_type": "code",
   "source": [
    "print(f'Potentially entered the guide:\\n{len(potential_new_stars)} starred restaurants in 2025 guide not in 2025')\n",
    "print(f'\\nPotentially left the guide:\\n{len(potential_closed_stars)} starred restaurants in 2024 guide not in 2025')"
   ],
   "metadata": {
    "collapsed": false,
    "ExecuteTime": {
     "end_time": "2025-03-29T16:55:06.013243Z",
     "start_time": "2025-03-29T16:55:06.010954Z"
    }
   },
   "id": "b9f0eaa1d645672c",
   "outputs": [
    {
     "name": "stdout",
     "output_type": "stream",
     "text": [
      "Potentially entered the guide:\n",
      "121 starred restaurants in 2025 guide not in 2025\n",
      "\n",
      "Potentially left the guide:\n",
      "144 starred restaurants in 2024 guide not in 2025\n"
     ]
    }
   ],
   "execution_count": 19
  },
  {
   "cell_type": "markdown",
   "source": [
    "----\n",
    "&nbsp;\n",
    "### Using Pandas method\n",
    "#### The above does not tell us how the distribution has changed."
   ],
   "metadata": {
    "collapsed": false
   },
   "id": "f75496c76cce7db"
  },
  {
   "cell_type": "code",
   "source": [
    "# Now find name changes. For this, we need to find common addresses with different names\n",
    "common_locations = set(subset_24['url']).intersection(set(subset_25['url']))\n",
    "\n",
    "# Filtering out the common url from both DataFrames\n",
    "common_24 = subset_24[subset_24['url'].isin(common_locations)]\n",
    "common_25 = subset_25[subset_25['url'].isin(common_locations)]"
   ],
   "metadata": {
    "collapsed": false,
    "ExecuteTime": {
     "end_time": "2025-03-29T16:55:06.093783Z",
     "start_time": "2025-03-29T16:55:06.089087Z"
    }
   },
   "id": "47d7141efdca913b",
   "outputs": [],
   "execution_count": 20
  },
  {
   "cell_type": "code",
   "source": [
    "# Merge the data frames on 'url' and 'location'\n",
    "merged_df = pd.merge(common_24, common_25, on=['url', 'location'], suffixes=('_24', '_25'))\n",
    "\n",
    "# Filter entries where names or star ratings have changed\n",
    "name_star_changes = merged_df[(merged_df['name_24'] != merged_df['name_25']) | (merged_df['stars_24'] != merged_df['stars_25'])]\n",
    "\n",
    "# Rename columns to reflect the data properly\n",
    "name_star_changes = name_star_changes[['name_24', 'name_25', 'address_24', 'address_25', 'location', 'stars_24', 'stars_25']]"
   ],
   "metadata": {
    "collapsed": false,
    "ExecuteTime": {
     "end_time": "2025-03-29T16:55:07.910264Z",
     "start_time": "2025-03-29T16:55:07.901770Z"
    }
   },
   "id": "209a4ecd84d06298",
   "outputs": [],
   "execution_count": 21
  },
  {
   "cell_type": "code",
   "source": [
    "name_star_changes"
   ],
   "metadata": {
    "collapsed": false,
    "ExecuteTime": {
     "end_time": "2025-03-29T16:55:10.794805Z",
     "start_time": "2025-03-29T16:55:10.786875Z"
    }
   },
   "id": "b47149f2b6ae547c",
   "outputs": [
    {
     "data": {
      "text/plain": [
       "                                     name_24  \\\n",
       "30   La Table des Amis by Christophe Bacquié   \n",
       "33              L'Abysse au Pavillon Ledoyen   \n",
       "100                        Le Grand Contrôle   \n",
       "126                     Chakaiseiki Akiyoshi   \n",
       "220                                 Pavyllon   \n",
       "251                       Auberge St-Laurent   \n",
       "310                 Hostellerie de Levernois   \n",
       "513                       Château de Collias   \n",
       "\n",
       "                                               name_25  \\\n",
       "30                                   La Table des Amis   \n",
       "33                                            Pavyllon   \n",
       "100  Ducasse au Château de Versailles - Le Grand Co...   \n",
       "126                                Chakaiseki Akiyoshi   \n",
       "220                       L'Abysse au Pavillon Ledoyen   \n",
       "251                              Auberge Saint-Laurent   \n",
       "310                                 Table de Levernois   \n",
       "513                  L'Hirondelle - Château de Collias   \n",
       "\n",
       "                                  address_24  \\\n",
       "30   Les Mas Les Eydins, 2420 chemin du Four   \n",
       "33                           8 avenue Dutuit   \n",
       "100      12 rue de l'Indépendance-Américaine   \n",
       "126                         59 rue Letellier   \n",
       "220                          8 avenue Dutuit   \n",
       "251                     1 rue de la Fontaine   \n",
       "310                           15 rue du Golf   \n",
       "513                    8 bis chemin du Barry   \n",
       "\n",
       "                                   address_25           location  stars_24  \\\n",
       "30    Les Mas Les Eydins, 2420 chemin du Four    Bonnieux, 84480       2.0   \n",
       "33                            8 avenue Dutuit       Paris, 75008       2.0   \n",
       "100       12 rue de l'Indépendance-Américaine  Versailles, 78000       1.0   \n",
       "126                          59 rue Letellier       Paris, 75015       1.0   \n",
       "220                           8 avenue Dutuit       Paris, 75008       1.0   \n",
       "251                      1 rue de la Fontaine    Sierentz, 68510       1.0   \n",
       "310  Hostellerie de Levernois, 15 rue du Golf   Levernois, 21200       1.0   \n",
       "513                     8 bis chemin du Barry     Collias, 30210       1.0   \n",
       "\n",
       "     stars_25  \n",
       "30        2.0  \n",
       "33        1.0  \n",
       "100       1.0  \n",
       "126       1.0  \n",
       "220       2.0  \n",
       "251       1.0  \n",
       "310       1.0  \n",
       "513       1.0  "
      ],
      "text/html": [
       "<div>\n",
       "<style scoped>\n",
       "    .dataframe tbody tr th:only-of-type {\n",
       "        vertical-align: middle;\n",
       "    }\n",
       "\n",
       "    .dataframe tbody tr th {\n",
       "        vertical-align: top;\n",
       "    }\n",
       "\n",
       "    .dataframe thead th {\n",
       "        text-align: right;\n",
       "    }\n",
       "</style>\n",
       "<table border=\"1\" class=\"dataframe\">\n",
       "  <thead>\n",
       "    <tr style=\"text-align: right;\">\n",
       "      <th></th>\n",
       "      <th>name_24</th>\n",
       "      <th>name_25</th>\n",
       "      <th>address_24</th>\n",
       "      <th>address_25</th>\n",
       "      <th>location</th>\n",
       "      <th>stars_24</th>\n",
       "      <th>stars_25</th>\n",
       "    </tr>\n",
       "  </thead>\n",
       "  <tbody>\n",
       "    <tr>\n",
       "      <th>30</th>\n",
       "      <td>La Table des Amis by Christophe Bacquié</td>\n",
       "      <td>La Table des Amis</td>\n",
       "      <td>Les Mas Les Eydins, 2420 chemin du Four</td>\n",
       "      <td>Les Mas Les Eydins, 2420 chemin du Four</td>\n",
       "      <td>Bonnieux, 84480</td>\n",
       "      <td>2.0</td>\n",
       "      <td>2.0</td>\n",
       "    </tr>\n",
       "    <tr>\n",
       "      <th>33</th>\n",
       "      <td>L'Abysse au Pavillon Ledoyen</td>\n",
       "      <td>Pavyllon</td>\n",
       "      <td>8 avenue Dutuit</td>\n",
       "      <td>8 avenue Dutuit</td>\n",
       "      <td>Paris, 75008</td>\n",
       "      <td>2.0</td>\n",
       "      <td>1.0</td>\n",
       "    </tr>\n",
       "    <tr>\n",
       "      <th>100</th>\n",
       "      <td>Le Grand Contrôle</td>\n",
       "      <td>Ducasse au Château de Versailles - Le Grand Co...</td>\n",
       "      <td>12 rue de l'Indépendance-Américaine</td>\n",
       "      <td>12 rue de l'Indépendance-Américaine</td>\n",
       "      <td>Versailles, 78000</td>\n",
       "      <td>1.0</td>\n",
       "      <td>1.0</td>\n",
       "    </tr>\n",
       "    <tr>\n",
       "      <th>126</th>\n",
       "      <td>Chakaiseiki Akiyoshi</td>\n",
       "      <td>Chakaiseki Akiyoshi</td>\n",
       "      <td>59 rue Letellier</td>\n",
       "      <td>59 rue Letellier</td>\n",
       "      <td>Paris, 75015</td>\n",
       "      <td>1.0</td>\n",
       "      <td>1.0</td>\n",
       "    </tr>\n",
       "    <tr>\n",
       "      <th>220</th>\n",
       "      <td>Pavyllon</td>\n",
       "      <td>L'Abysse au Pavillon Ledoyen</td>\n",
       "      <td>8 avenue Dutuit</td>\n",
       "      <td>8 avenue Dutuit</td>\n",
       "      <td>Paris, 75008</td>\n",
       "      <td>1.0</td>\n",
       "      <td>2.0</td>\n",
       "    </tr>\n",
       "    <tr>\n",
       "      <th>251</th>\n",
       "      <td>Auberge St-Laurent</td>\n",
       "      <td>Auberge Saint-Laurent</td>\n",
       "      <td>1 rue de la Fontaine</td>\n",
       "      <td>1 rue de la Fontaine</td>\n",
       "      <td>Sierentz, 68510</td>\n",
       "      <td>1.0</td>\n",
       "      <td>1.0</td>\n",
       "    </tr>\n",
       "    <tr>\n",
       "      <th>310</th>\n",
       "      <td>Hostellerie de Levernois</td>\n",
       "      <td>Table de Levernois</td>\n",
       "      <td>15 rue du Golf</td>\n",
       "      <td>Hostellerie de Levernois, 15 rue du Golf</td>\n",
       "      <td>Levernois, 21200</td>\n",
       "      <td>1.0</td>\n",
       "      <td>1.0</td>\n",
       "    </tr>\n",
       "    <tr>\n",
       "      <th>513</th>\n",
       "      <td>Château de Collias</td>\n",
       "      <td>L'Hirondelle - Château de Collias</td>\n",
       "      <td>8 bis chemin du Barry</td>\n",
       "      <td>8 bis chemin du Barry</td>\n",
       "      <td>Collias, 30210</td>\n",
       "      <td>1.0</td>\n",
       "      <td>1.0</td>\n",
       "    </tr>\n",
       "  </tbody>\n",
       "</table>\n",
       "</div>"
      ]
     },
     "execution_count": 22,
     "metadata": {},
     "output_type": "execute_result"
    }
   ],
   "execution_count": 22
  },
  {
   "cell_type": "markdown",
   "source": [
    "We're focusing on the changes from ⭐️$\\implies$⭐️⭐️ and from ⭐️⭐️$\\implies$⭐️⭐️⭐️ (or significant demotions)"
   ],
   "metadata": {
    "collapsed": false
   },
   "id": "69f04f6377807634"
  },
  {
   "cell_type": "markdown",
   "source": [
    "We assign a similarity score to the different names and change `france_23` in place"
   ],
   "metadata": {
    "collapsed": false
   },
   "id": "f2a0865f674f8fa7"
  },
  {
   "cell_type": "code",
   "source": [
    "from fuzzywuzzy import fuzz\n",
    "\n",
    "# Function to preprocess and compare names\n",
    "def preprocess(text):\n",
    "    # Basic preprocessing: lowercasing and stripping spaces\n",
    "    return text.lower().strip()\n",
    "\n",
    "def compare_names(name1, name2):\n",
    "    name1 = preprocess(name1)\n",
    "    name2 = preprocess(name2)\n",
    "    return fuzz.token_sort_ratio(name1, name2)  # Comparing with sorted tokens to handle reordering\n",
    "\n",
    "# Applying the comparison across the DataFrame rows\n",
    "name_star_changes['similarity_score'] = name_star_changes.apply(lambda x: compare_names(x['name_24'], x['name_25']), axis=1)"
   ],
   "metadata": {
    "collapsed": false,
    "ExecuteTime": {
     "end_time": "2025-03-29T16:56:28.401927Z",
     "start_time": "2025-03-29T16:56:28.396442Z"
    }
   },
   "id": "a628598d3ebb11a8",
   "outputs": [],
   "execution_count": 23
  },
  {
   "cell_type": "code",
   "source": [
    "name_star_changes"
   ],
   "metadata": {
    "collapsed": false,
    "ExecuteTime": {
     "end_time": "2025-03-29T16:56:31.074104Z",
     "start_time": "2025-03-29T16:56:31.064913Z"
    }
   },
   "id": "9e784fb0f1dc751a",
   "outputs": [
    {
     "data": {
      "text/plain": [
       "                                     name_24  \\\n",
       "30   La Table des Amis by Christophe Bacquié   \n",
       "33              L'Abysse au Pavillon Ledoyen   \n",
       "100                        Le Grand Contrôle   \n",
       "126                     Chakaiseiki Akiyoshi   \n",
       "220                                 Pavyllon   \n",
       "251                       Auberge St-Laurent   \n",
       "310                 Hostellerie de Levernois   \n",
       "513                       Château de Collias   \n",
       "\n",
       "                                               name_25  \\\n",
       "30                                   La Table des Amis   \n",
       "33                                            Pavyllon   \n",
       "100  Ducasse au Château de Versailles - Le Grand Co...   \n",
       "126                                Chakaiseki Akiyoshi   \n",
       "220                       L'Abysse au Pavillon Ledoyen   \n",
       "251                              Auberge Saint-Laurent   \n",
       "310                                 Table de Levernois   \n",
       "513                  L'Hirondelle - Château de Collias   \n",
       "\n",
       "                                  address_24  \\\n",
       "30   Les Mas Les Eydins, 2420 chemin du Four   \n",
       "33                           8 avenue Dutuit   \n",
       "100      12 rue de l'Indépendance-Américaine   \n",
       "126                         59 rue Letellier   \n",
       "220                          8 avenue Dutuit   \n",
       "251                     1 rue de la Fontaine   \n",
       "310                           15 rue du Golf   \n",
       "513                    8 bis chemin du Barry   \n",
       "\n",
       "                                   address_25           location  stars_24  \\\n",
       "30    Les Mas Les Eydins, 2420 chemin du Four    Bonnieux, 84480       2.0   \n",
       "33                            8 avenue Dutuit       Paris, 75008       2.0   \n",
       "100       12 rue de l'Indépendance-Américaine  Versailles, 78000       1.0   \n",
       "126                          59 rue Letellier       Paris, 75015       1.0   \n",
       "220                           8 avenue Dutuit       Paris, 75008       1.0   \n",
       "251                      1 rue de la Fontaine    Sierentz, 68510       1.0   \n",
       "310  Hostellerie de Levernois, 15 rue du Golf   Levernois, 21200       1.0   \n",
       "513                     8 bis chemin du Barry     Collias, 30210       1.0   \n",
       "\n",
       "     stars_25  similarity_score  \n",
       "30        2.0                62  \n",
       "33        1.0                39  \n",
       "100       1.0                50  \n",
       "126       1.0                97  \n",
       "220       2.0                39  \n",
       "251       1.0                92  \n",
       "310       1.0                57  \n",
       "513       1.0                72  "
      ],
      "text/html": [
       "<div>\n",
       "<style scoped>\n",
       "    .dataframe tbody tr th:only-of-type {\n",
       "        vertical-align: middle;\n",
       "    }\n",
       "\n",
       "    .dataframe tbody tr th {\n",
       "        vertical-align: top;\n",
       "    }\n",
       "\n",
       "    .dataframe thead th {\n",
       "        text-align: right;\n",
       "    }\n",
       "</style>\n",
       "<table border=\"1\" class=\"dataframe\">\n",
       "  <thead>\n",
       "    <tr style=\"text-align: right;\">\n",
       "      <th></th>\n",
       "      <th>name_24</th>\n",
       "      <th>name_25</th>\n",
       "      <th>address_24</th>\n",
       "      <th>address_25</th>\n",
       "      <th>location</th>\n",
       "      <th>stars_24</th>\n",
       "      <th>stars_25</th>\n",
       "      <th>similarity_score</th>\n",
       "    </tr>\n",
       "  </thead>\n",
       "  <tbody>\n",
       "    <tr>\n",
       "      <th>30</th>\n",
       "      <td>La Table des Amis by Christophe Bacquié</td>\n",
       "      <td>La Table des Amis</td>\n",
       "      <td>Les Mas Les Eydins, 2420 chemin du Four</td>\n",
       "      <td>Les Mas Les Eydins, 2420 chemin du Four</td>\n",
       "      <td>Bonnieux, 84480</td>\n",
       "      <td>2.0</td>\n",
       "      <td>2.0</td>\n",
       "      <td>62</td>\n",
       "    </tr>\n",
       "    <tr>\n",
       "      <th>33</th>\n",
       "      <td>L'Abysse au Pavillon Ledoyen</td>\n",
       "      <td>Pavyllon</td>\n",
       "      <td>8 avenue Dutuit</td>\n",
       "      <td>8 avenue Dutuit</td>\n",
       "      <td>Paris, 75008</td>\n",
       "      <td>2.0</td>\n",
       "      <td>1.0</td>\n",
       "      <td>39</td>\n",
       "    </tr>\n",
       "    <tr>\n",
       "      <th>100</th>\n",
       "      <td>Le Grand Contrôle</td>\n",
       "      <td>Ducasse au Château de Versailles - Le Grand Co...</td>\n",
       "      <td>12 rue de l'Indépendance-Américaine</td>\n",
       "      <td>12 rue de l'Indépendance-Américaine</td>\n",
       "      <td>Versailles, 78000</td>\n",
       "      <td>1.0</td>\n",
       "      <td>1.0</td>\n",
       "      <td>50</td>\n",
       "    </tr>\n",
       "    <tr>\n",
       "      <th>126</th>\n",
       "      <td>Chakaiseiki Akiyoshi</td>\n",
       "      <td>Chakaiseki Akiyoshi</td>\n",
       "      <td>59 rue Letellier</td>\n",
       "      <td>59 rue Letellier</td>\n",
       "      <td>Paris, 75015</td>\n",
       "      <td>1.0</td>\n",
       "      <td>1.0</td>\n",
       "      <td>97</td>\n",
       "    </tr>\n",
       "    <tr>\n",
       "      <th>220</th>\n",
       "      <td>Pavyllon</td>\n",
       "      <td>L'Abysse au Pavillon Ledoyen</td>\n",
       "      <td>8 avenue Dutuit</td>\n",
       "      <td>8 avenue Dutuit</td>\n",
       "      <td>Paris, 75008</td>\n",
       "      <td>1.0</td>\n",
       "      <td>2.0</td>\n",
       "      <td>39</td>\n",
       "    </tr>\n",
       "    <tr>\n",
       "      <th>251</th>\n",
       "      <td>Auberge St-Laurent</td>\n",
       "      <td>Auberge Saint-Laurent</td>\n",
       "      <td>1 rue de la Fontaine</td>\n",
       "      <td>1 rue de la Fontaine</td>\n",
       "      <td>Sierentz, 68510</td>\n",
       "      <td>1.0</td>\n",
       "      <td>1.0</td>\n",
       "      <td>92</td>\n",
       "    </tr>\n",
       "    <tr>\n",
       "      <th>310</th>\n",
       "      <td>Hostellerie de Levernois</td>\n",
       "      <td>Table de Levernois</td>\n",
       "      <td>15 rue du Golf</td>\n",
       "      <td>Hostellerie de Levernois, 15 rue du Golf</td>\n",
       "      <td>Levernois, 21200</td>\n",
       "      <td>1.0</td>\n",
       "      <td>1.0</td>\n",
       "      <td>57</td>\n",
       "    </tr>\n",
       "    <tr>\n",
       "      <th>513</th>\n",
       "      <td>Château de Collias</td>\n",
       "      <td>L'Hirondelle - Château de Collias</td>\n",
       "      <td>8 bis chemin du Barry</td>\n",
       "      <td>8 bis chemin du Barry</td>\n",
       "      <td>Collias, 30210</td>\n",
       "      <td>1.0</td>\n",
       "      <td>1.0</td>\n",
       "      <td>72</td>\n",
       "    </tr>\n",
       "  </tbody>\n",
       "</table>\n",
       "</div>"
      ]
     },
     "execution_count": 24,
     "metadata": {},
     "output_type": "execute_result"
    }
   ],
   "execution_count": 24
  },
  {
   "cell_type": "code",
   "execution_count": 12,
   "outputs": [],
   "source": [
    "# Filter rows where the similarity score is greater than 65 (by inspection)\n",
    "high_similarity_rows = name_star_changes[name_star_changes['similarity_score'] >= 65]"
   ],
   "metadata": {
    "collapsed": false,
    "ExecuteTime": {
     "end_time": "2024-04-26T12:18:56.602800Z",
     "start_time": "2024-04-26T12:18:56.550200Z"
    }
   },
   "id": "762e654f8772a9b"
  },
  {
   "cell_type": "code",
   "execution_count": 13,
   "outputs": [],
   "source": [
    "# Change 'Restaurant Marcon' manually (similarity score of 46)\n",
    "france_23.loc[4, 'name'] = 'Restaurant Marcon'"
   ],
   "metadata": {
    "collapsed": false,
    "ExecuteTime": {
     "end_time": "2024-04-26T12:18:56.603308Z",
     "start_time": "2024-04-26T12:18:56.553799Z"
    }
   },
   "id": "cca87cfc39078198"
  },
  {
   "cell_type": "code",
   "execution_count": 14,
   "outputs": [],
   "source": [
    "# Iterate over these rows to update the names in france_23\n",
    "for _, row in high_similarity_rows.iterrows():\n",
    "    # Update france_23 where the url and location match\n",
    "    france_23.loc[(france_23['address'] == row['address_23']) & (france_23['location'] == row['location']), 'name'] = row['name_24']"
   ],
   "metadata": {
    "collapsed": false,
    "ExecuteTime": {
     "end_time": "2024-04-26T12:18:56.637687Z",
     "start_time": "2024-04-26T12:18:56.570424Z"
    }
   },
   "id": "f4128ced73dfc251"
  },
  {
   "cell_type": "markdown",
   "source": [
    "---\n",
    "&nbsp;\n",
    "### New ⭐⭐⭐ Restaurants, New ⭐⭐ Restaurants and demotions"
   ],
   "metadata": {
    "collapsed": false
   },
   "id": "99fb0e3566c23d97"
  },
  {
   "cell_type": "code",
   "source": [
    "# Identify New Two-Star and Three-Star Restaurants\n",
    "# Filter france_24 and france_25 for star ratings >= 1\n",
    "subset_24 = france_24[france_24['stars'] >= 1][['name', 'address', 'location', 'url', 'stars']]\n",
    "subset_25 = france_25[france_25['stars'] >= 1][['name', 'address', 'location', 'url', 'stars']]"
   ],
   "metadata": {
    "collapsed": false,
    "ExecuteTime": {
     "end_time": "2025-03-29T16:58:39.252585Z",
     "start_time": "2025-03-29T16:58:39.244247Z"
    }
   },
   "id": "bf897ab01a308f9b",
   "outputs": [],
   "execution_count": 25
  },
  {
   "cell_type": "code",
   "source": [
    "# Now find name changes. For this, we need to find common addresses with different names\n",
    "common_locations = set(subset_24['name']).intersection(set(subset_25['name']))\n",
    "\n",
    "# Filtering out the common url from both DataFrames\n",
    "common_24 = subset_24[subset_24['name'].isin(common_locations)]\n",
    "common_25 = subset_25[subset_25['name'].isin(common_locations)]"
   ],
   "metadata": {
    "collapsed": false,
    "ExecuteTime": {
     "end_time": "2025-03-29T16:58:43.622694Z",
     "start_time": "2025-03-29T16:58:43.618484Z"
    }
   },
   "id": "925b0ef15749ecc",
   "outputs": [],
   "execution_count": 26
  },
  {
   "cell_type": "code",
   "source": [
    "# Merge the data frames on 'name' and 'location'\n",
    "merged_df = pd.merge(common_24, common_25, on=['name', 'location', 'url'], suffixes=('_24', '_25'))"
   ],
   "metadata": {
    "collapsed": false,
    "ExecuteTime": {
     "end_time": "2025-03-29T16:58:46.176544Z",
     "start_time": "2025-03-29T16:58:46.168542Z"
    }
   },
   "id": "5237022d1f255f98",
   "outputs": [],
   "execution_count": 27
  },
  {
   "cell_type": "code",
   "source": [
    "# Filter entries where names or star ratings have changed\n",
    "star_changes = merged_df[(merged_df['stars_24'] != merged_df['stars_25'])]\n",
    "\n",
    "# Rename columns to reflect the data properly\n",
    "star_changes = star_changes[['name', 'address_25', 'location', 'url', 'stars_24', 'stars_25']]"
   ],
   "metadata": {
    "collapsed": false,
    "ExecuteTime": {
     "end_time": "2025-03-29T16:59:37.679359Z",
     "start_time": "2025-03-29T16:59:37.674547Z"
    }
   },
   "id": "736b5e69ea8b3afd",
   "outputs": [],
   "execution_count": 29
  },
  {
   "cell_type": "code",
   "source": [
    "star_changes"
   ],
   "metadata": {
    "collapsed": false,
    "ExecuteTime": {
     "end_time": "2025-03-29T16:59:39.621334Z",
     "start_time": "2025-03-29T16:59:39.614920Z"
    }
   },
   "id": "f910ce6d37ebb975",
   "outputs": [
    {
     "data": {
      "text/plain": [
       "Empty DataFrame\n",
       "Columns: [name, address_25, location, url, stars_24, stars_25]\n",
       "Index: []"
      ],
      "text/html": [
       "<div>\n",
       "<style scoped>\n",
       "    .dataframe tbody tr th:only-of-type {\n",
       "        vertical-align: middle;\n",
       "    }\n",
       "\n",
       "    .dataframe tbody tr th {\n",
       "        vertical-align: top;\n",
       "    }\n",
       "\n",
       "    .dataframe thead th {\n",
       "        text-align: right;\n",
       "    }\n",
       "</style>\n",
       "<table border=\"1\" class=\"dataframe\">\n",
       "  <thead>\n",
       "    <tr style=\"text-align: right;\">\n",
       "      <th></th>\n",
       "      <th>name</th>\n",
       "      <th>address_25</th>\n",
       "      <th>location</th>\n",
       "      <th>url</th>\n",
       "      <th>stars_24</th>\n",
       "      <th>stars_25</th>\n",
       "    </tr>\n",
       "  </thead>\n",
       "  <tbody>\n",
       "  </tbody>\n",
       "</table>\n",
       "</div>"
      ]
     },
     "execution_count": 30,
     "metadata": {},
     "output_type": "execute_result"
    }
   ],
   "execution_count": 30
  },
  {
   "cell_type": "code",
   "execution_count": 20,
   "outputs": [
    {
     "data": {
      "text/plain": "name                          Auberge du Cheval Blanc\naddress_24                       4 rue de Wissembourg\nlocation                               Lembach, 67510\nurl           https://www.cheval-blanc-lembach.fr/fr/\nstars_23                                          2.0\nstars_24                                          1.0\nName: 51, dtype: object"
     },
     "execution_count": 20,
     "metadata": {},
     "output_type": "execute_result"
    }
   ],
   "source": [
    "# We have one demotion from 2 star to 1 star to flag as this won't be picked up with analysis of 2 and 3 stars\n",
    "star_changes.loc[51]"
   ],
   "metadata": {
    "collapsed": false,
    "ExecuteTime": {
     "end_time": "2024-04-26T12:18:56.728985Z",
     "start_time": "2024-04-26T12:18:56.610808Z"
    }
   },
   "id": "4ad4a142195d0c05"
  },
  {
   "cell_type": "markdown",
   "source": [
    "We now need to find new entries at two star and three star"
   ],
   "metadata": {
    "collapsed": false
   },
   "id": "f29fd76cd64e2729"
  },
  {
   "cell_type": "code",
   "source": [
    "# Convert subset DataFrames to sets of tuples to identify unique restaurants\n",
    "unique_24 = set(tuple(x) for x in subset_24[['name', 'location', 'stars']].values)\n",
    "unique_25 = set(tuple(x) for x in subset_25[['name', 'location', 'stars']].values)\n",
    "\n",
    "# Identify new restaurants in 2024 that were not in 2023\n",
    "new_restaurants = unique_25 - unique_24\n",
    "\n",
    "# Convert the set of new restaurants back to a DataFrame\n",
    "df = pd.DataFrame(list(new_restaurants), columns=['name', 'location', 'stars'])\n",
    "\n",
    "# Filter for restaurants that have two or three stars\n",
    "new_high_stars = df[(df['stars'] == 2) | (df['stars'] == 3)]\n",
    "\n",
    "new_high_stars = new_high_stars.sort_values(by=['stars'], ascending=[False])"
   ],
   "metadata": {
    "collapsed": false,
    "ExecuteTime": {
     "end_time": "2025-03-29T17:01:05.898056Z",
     "start_time": "2025-03-29T17:01:05.889603Z"
    }
   },
   "id": "7bb30c70dcce1bf1",
   "outputs": [],
   "execution_count": 31
  },
  {
   "cell_type": "code",
   "source": [
    "new_high_stars"
   ],
   "metadata": {
    "collapsed": false,
    "ExecuteTime": {
     "end_time": "2025-03-29T17:01:08.130737Z",
     "start_time": "2025-03-29T17:01:08.125108Z"
    }
   },
   "id": "31b0b194fa208a3f",
   "outputs": [
    {
     "data": {
      "text/plain": [
       "                name           location  stars\n",
       "0  La Table des Amis    Bonnieux, 84480    2.0\n",
       "2      Cédric Burtin  Saint-Rémy, 71100    2.0"
      ],
      "text/html": [
       "<div>\n",
       "<style scoped>\n",
       "    .dataframe tbody tr th:only-of-type {\n",
       "        vertical-align: middle;\n",
       "    }\n",
       "\n",
       "    .dataframe tbody tr th {\n",
       "        vertical-align: top;\n",
       "    }\n",
       "\n",
       "    .dataframe thead th {\n",
       "        text-align: right;\n",
       "    }\n",
       "</style>\n",
       "<table border=\"1\" class=\"dataframe\">\n",
       "  <thead>\n",
       "    <tr style=\"text-align: right;\">\n",
       "      <th></th>\n",
       "      <th>name</th>\n",
       "      <th>location</th>\n",
       "      <th>stars</th>\n",
       "    </tr>\n",
       "  </thead>\n",
       "  <tbody>\n",
       "    <tr>\n",
       "      <th>0</th>\n",
       "      <td>La Table des Amis</td>\n",
       "      <td>Bonnieux, 84480</td>\n",
       "      <td>2.0</td>\n",
       "    </tr>\n",
       "    <tr>\n",
       "      <th>2</th>\n",
       "      <td>Cédric Burtin</td>\n",
       "      <td>Saint-Rémy, 71100</td>\n",
       "      <td>2.0</td>\n",
       "    </tr>\n",
       "  </tbody>\n",
       "</table>\n",
       "</div>"
      ]
     },
     "execution_count": 32,
     "metadata": {},
     "output_type": "execute_result"
    }
   ],
   "execution_count": 32
  },
  {
   "cell_type": "markdown",
   "source": [
    "It was announced in the press that there are two new 3* and eight new 2*."
   ],
   "metadata": {
    "collapsed": false
   },
   "id": "95e487bb39a142e9"
  },
  {
   "cell_type": "code",
   "execution_count": 23,
   "outputs": [],
   "source": [
    "from fuzzywuzzy import process\n",
    "\n",
    "# Define a threshold for matching\n",
    "threshold = 70\n",
    "\n",
    "# Create a function to perform fuzzy matching\n",
    "def get_matches(new_entry, old_data):\n",
    "    # Use fuzzywuzzy's process.extract to get matches with a score\n",
    "    matches = process.extract(new_entry['name'], old_data['name'], scorer=fuzz.token_set_ratio, limit=None)\n",
    "    \n",
    "    # Filter matches based on a threshold score\n",
    "    high_score_matches = [match for match in matches if match[1] >= threshold]\n",
    "    return high_score_matches"
   ],
   "metadata": {
    "collapsed": false,
    "ExecuteTime": {
     "end_time": "2024-04-26T12:18:56.750245Z",
     "start_time": "2024-04-26T12:18:56.634922Z"
    }
   },
   "id": "474507eeb6530f5"
  },
  {
   "cell_type": "code",
   "execution_count": 24,
   "outputs": [],
   "source": [
    "# Apply fuzzy matching to the new high-star restaurants\n",
    "new_high_stars['matches_in_23'] = new_high_stars.apply(lambda x: get_matches(x, france_23), axis=1)"
   ],
   "metadata": {
    "collapsed": false,
    "ExecuteTime": {
     "end_time": "2024-04-26T12:18:56.908726Z",
     "start_time": "2024-04-26T12:18:56.652938Z"
    }
   },
   "id": "f879ccb3396bb758"
  },
  {
   "cell_type": "code",
   "execution_count": 25,
   "outputs": [
    {
     "data": {
      "text/plain": "                                       name  \\\n72                    La Table du Castellet   \n81            Le Gabriel - La Réserve Paris   \n9                            Le Jules Verne   \n18                              L'Orangerie   \n31                  René et Maxime Meilleur   \n35                            Le Coquillage   \n38                   Maison Ronan Kervarrec   \n45                      Maison Benoît Vidal   \n50  La Table des Amis by Christophe Bacquié   \n58           La Pyramide - Maison Henriroux   \n61                          Maison Ruggieri   \n79      Sylvestre Wahid - Les Grandes Alpes   \n\n                             location  stars  \\\n72                Le Castellet, 83330    3.0   \n81                       Paris, 75008    3.0   \n9                        Paris, 75007    2.0   \n18                       Paris, 75008    2.0   \n31  Saint-Martin-de-Belleville, 73440    2.0   \n35      Saint-Méloir-des-Ondes, 35350    2.0   \n38              Saint-Grégoire, 35760    2.0   \n45                      Annecy, 74940    2.0   \n50                    Bonnieux, 84480    2.0   \n58                      Vienne, 38200    2.0   \n61                       Paris, 75008    2.0   \n79                  Courchevel, 73120    2.0   \n\n                                        matches_in_23  \n72  [(La Table, 100, 939), (La Tablée, 100, 1010),...  \n81  [(Le Gabriel - La Réserve Paris, 100, 54), (Le...  \n9                        [(Le Jules Verne, 100, 348)]  \n18  [(L'Orangerie, 100, 288), (L'Orangerie, 100, 2...  \n31  [(René et Maxime Meilleur, 100, 1), (Simple et...  \n35  [(Le Coquillage, 100, 46), (Le Cottage, 70, 849)]  \n38               [(Maison Ronan Kervarrec, 100, 166)]  \n45                                [(Vidal, 100, 638)]  \n50  [(La Table, 100, 939), (La Tablée, 100, 1010),...  \n58  [(La Pyramide - Patrick Henriroux, 86, 98), (L...  \n61  [(Maison Ruggieri, 100, 112), (Maison Aribert,...  \n79  [(Sylvestre Wahid - Les Grandes Alpes, 100, 45...  ",
      "text/html": "<div>\n<style scoped>\n    .dataframe tbody tr th:only-of-type {\n        vertical-align: middle;\n    }\n\n    .dataframe tbody tr th {\n        vertical-align: top;\n    }\n\n    .dataframe thead th {\n        text-align: right;\n    }\n</style>\n<table border=\"1\" class=\"dataframe\">\n  <thead>\n    <tr style=\"text-align: right;\">\n      <th></th>\n      <th>name</th>\n      <th>location</th>\n      <th>stars</th>\n      <th>matches_in_23</th>\n    </tr>\n  </thead>\n  <tbody>\n    <tr>\n      <th>72</th>\n      <td>La Table du Castellet</td>\n      <td>Le Castellet, 83330</td>\n      <td>3.0</td>\n      <td>[(La Table, 100, 939), (La Tablée, 100, 1010),...</td>\n    </tr>\n    <tr>\n      <th>81</th>\n      <td>Le Gabriel - La Réserve Paris</td>\n      <td>Paris, 75008</td>\n      <td>3.0</td>\n      <td>[(Le Gabriel - La Réserve Paris, 100, 54), (Le...</td>\n    </tr>\n    <tr>\n      <th>9</th>\n      <td>Le Jules Verne</td>\n      <td>Paris, 75007</td>\n      <td>2.0</td>\n      <td>[(Le Jules Verne, 100, 348)]</td>\n    </tr>\n    <tr>\n      <th>18</th>\n      <td>L'Orangerie</td>\n      <td>Paris, 75008</td>\n      <td>2.0</td>\n      <td>[(L'Orangerie, 100, 288), (L'Orangerie, 100, 2...</td>\n    </tr>\n    <tr>\n      <th>31</th>\n      <td>René et Maxime Meilleur</td>\n      <td>Saint-Martin-de-Belleville, 73440</td>\n      <td>2.0</td>\n      <td>[(René et Maxime Meilleur, 100, 1), (Simple et...</td>\n    </tr>\n    <tr>\n      <th>35</th>\n      <td>Le Coquillage</td>\n      <td>Saint-Méloir-des-Ondes, 35350</td>\n      <td>2.0</td>\n      <td>[(Le Coquillage, 100, 46), (Le Cottage, 70, 849)]</td>\n    </tr>\n    <tr>\n      <th>38</th>\n      <td>Maison Ronan Kervarrec</td>\n      <td>Saint-Grégoire, 35760</td>\n      <td>2.0</td>\n      <td>[(Maison Ronan Kervarrec, 100, 166)]</td>\n    </tr>\n    <tr>\n      <th>45</th>\n      <td>Maison Benoît Vidal</td>\n      <td>Annecy, 74940</td>\n      <td>2.0</td>\n      <td>[(Vidal, 100, 638)]</td>\n    </tr>\n    <tr>\n      <th>50</th>\n      <td>La Table des Amis by Christophe Bacquié</td>\n      <td>Bonnieux, 84480</td>\n      <td>2.0</td>\n      <td>[(La Table, 100, 939), (La Tablée, 100, 1010),...</td>\n    </tr>\n    <tr>\n      <th>58</th>\n      <td>La Pyramide - Maison Henriroux</td>\n      <td>Vienne, 38200</td>\n      <td>2.0</td>\n      <td>[(La Pyramide - Patrick Henriroux, 86, 98), (L...</td>\n    </tr>\n    <tr>\n      <th>61</th>\n      <td>Maison Ruggieri</td>\n      <td>Paris, 75008</td>\n      <td>2.0</td>\n      <td>[(Maison Ruggieri, 100, 112), (Maison Aribert,...</td>\n    </tr>\n    <tr>\n      <th>79</th>\n      <td>Sylvestre Wahid - Les Grandes Alpes</td>\n      <td>Courchevel, 73120</td>\n      <td>2.0</td>\n      <td>[(Sylvestre Wahid - Les Grandes Alpes, 100, 45...</td>\n    </tr>\n  </tbody>\n</table>\n</div>"
     },
     "execution_count": 25,
     "metadata": {},
     "output_type": "execute_result"
    }
   ],
   "source": [
    "# Display results\n",
    "new_high_stars[['name', 'location', 'stars', 'matches_in_23']]"
   ],
   "metadata": {
    "collapsed": false,
    "ExecuteTime": {
     "end_time": "2024-04-26T12:18:56.953738Z",
     "start_time": "2024-04-26T12:18:56.794980Z"
    }
   },
   "id": "48f5b060a8cd3d37"
  },
  {
   "cell_type": "code",
   "execution_count": 26,
   "outputs": [],
   "source": [
    "# Create a function to perform fuzzy matching and return the best match above the threshold\n",
    "def get_best_match(new_entry, old_data):\n",
    "    # Use fuzzywuzzy's process.extractOne to get the best match with its score\n",
    "    best_match, score, index = process.extractOne(new_entry['name'], old_data['name'], scorer=fuzz.token_set_ratio)\n",
    "    \n",
    "    # Check if the match score is above the threshold and return the match and corresponding star rating\n",
    "    if score >= threshold:\n",
    "        return (old_data.iloc[index]['name'], old_data.iloc[index]['location']), score, old_data.iloc[index]['stars']\n",
    "    else:\n",
    "        return None, None, None"
   ],
   "metadata": {
    "collapsed": false,
    "ExecuteTime": {
     "end_time": "2024-04-26T12:18:56.953998Z",
     "start_time": "2024-04-26T12:18:56.805233Z"
    }
   },
   "id": "e2da365e79c4277f"
  },
  {
   "cell_type": "code",
   "execution_count": 27,
   "outputs": [
    {
     "data": {
      "text/plain": "                                       name  \\\n72                    La Table du Castellet   \n81            Le Gabriel - La Réserve Paris   \n9                            Le Jules Verne   \n18                              L'Orangerie   \n31                  René et Maxime Meilleur   \n35                            Le Coquillage   \n38                   Maison Ronan Kervarrec   \n45                      Maison Benoît Vidal   \n50  La Table des Amis by Christophe Bacquié   \n58           La Pyramide - Maison Henriroux   \n61                          Maison Ruggieri   \n79      Sylvestre Wahid - Les Grandes Alpes   \n\n                             location  stars  stars_23  \\\n72                Le Castellet, 83330    3.0       0.5   \n81                       Paris, 75008    3.0       2.0   \n9                        Paris, 75007    2.0       1.0   \n18                       Paris, 75008    2.0       1.0   \n31  Saint-Martin-de-Belleville, 73440    2.0       3.0   \n35      Saint-Méloir-des-Ondes, 35350    2.0       2.0   \n38              Saint-Grégoire, 35760    2.0       1.0   \n45                      Annecy, 74940    2.0       0.5   \n50                    Bonnieux, 84480    2.0       0.5   \n58                      Vienne, 38200    2.0       2.0   \n61                       Paris, 75008    2.0       1.0   \n79                  Courchevel, 73120    2.0       1.0   \n\n                                        best_match_23  \n72                        (La Table, Tourtour, 83690)  \n81      (Le Gabriel - La Réserve Paris, Paris, 75008)  \n9                      (Le Jules Verne, Paris, 75007)  \n18                        (L'Orangerie, Paris, 75008)  \n31  (René et Maxime Meilleur, Saint-Martin-de-Bell...  \n35                    (Le Coquillage, Cancale, 35350)  \n38    (Maison Ronan Kervarrec, Saint-Grégoire, 35760)  \n45             (Vidal, Saint-Julien-Chapteuil, 43260)  \n50                        (La Table, Tourtour, 83690)  \n58   (La Pyramide - Patrick Henriroux, Vienne, 38200)  \n61                    (Maison Ruggieri, Paris, 75008)  \n79  (Sylvestre Wahid - Les Grandes Alpes, Courchev...  ",
      "text/html": "<div>\n<style scoped>\n    .dataframe tbody tr th:only-of-type {\n        vertical-align: middle;\n    }\n\n    .dataframe tbody tr th {\n        vertical-align: top;\n    }\n\n    .dataframe thead th {\n        text-align: right;\n    }\n</style>\n<table border=\"1\" class=\"dataframe\">\n  <thead>\n    <tr style=\"text-align: right;\">\n      <th></th>\n      <th>name</th>\n      <th>location</th>\n      <th>stars</th>\n      <th>stars_23</th>\n      <th>best_match_23</th>\n    </tr>\n  </thead>\n  <tbody>\n    <tr>\n      <th>72</th>\n      <td>La Table du Castellet</td>\n      <td>Le Castellet, 83330</td>\n      <td>3.0</td>\n      <td>0.5</td>\n      <td>(La Table, Tourtour, 83690)</td>\n    </tr>\n    <tr>\n      <th>81</th>\n      <td>Le Gabriel - La Réserve Paris</td>\n      <td>Paris, 75008</td>\n      <td>3.0</td>\n      <td>2.0</td>\n      <td>(Le Gabriel - La Réserve Paris, Paris, 75008)</td>\n    </tr>\n    <tr>\n      <th>9</th>\n      <td>Le Jules Verne</td>\n      <td>Paris, 75007</td>\n      <td>2.0</td>\n      <td>1.0</td>\n      <td>(Le Jules Verne, Paris, 75007)</td>\n    </tr>\n    <tr>\n      <th>18</th>\n      <td>L'Orangerie</td>\n      <td>Paris, 75008</td>\n      <td>2.0</td>\n      <td>1.0</td>\n      <td>(L'Orangerie, Paris, 75008)</td>\n    </tr>\n    <tr>\n      <th>31</th>\n      <td>René et Maxime Meilleur</td>\n      <td>Saint-Martin-de-Belleville, 73440</td>\n      <td>2.0</td>\n      <td>3.0</td>\n      <td>(René et Maxime Meilleur, Saint-Martin-de-Bell...</td>\n    </tr>\n    <tr>\n      <th>35</th>\n      <td>Le Coquillage</td>\n      <td>Saint-Méloir-des-Ondes, 35350</td>\n      <td>2.0</td>\n      <td>2.0</td>\n      <td>(Le Coquillage, Cancale, 35350)</td>\n    </tr>\n    <tr>\n      <th>38</th>\n      <td>Maison Ronan Kervarrec</td>\n      <td>Saint-Grégoire, 35760</td>\n      <td>2.0</td>\n      <td>1.0</td>\n      <td>(Maison Ronan Kervarrec, Saint-Grégoire, 35760)</td>\n    </tr>\n    <tr>\n      <th>45</th>\n      <td>Maison Benoît Vidal</td>\n      <td>Annecy, 74940</td>\n      <td>2.0</td>\n      <td>0.5</td>\n      <td>(Vidal, Saint-Julien-Chapteuil, 43260)</td>\n    </tr>\n    <tr>\n      <th>50</th>\n      <td>La Table des Amis by Christophe Bacquié</td>\n      <td>Bonnieux, 84480</td>\n      <td>2.0</td>\n      <td>0.5</td>\n      <td>(La Table, Tourtour, 83690)</td>\n    </tr>\n    <tr>\n      <th>58</th>\n      <td>La Pyramide - Maison Henriroux</td>\n      <td>Vienne, 38200</td>\n      <td>2.0</td>\n      <td>2.0</td>\n      <td>(La Pyramide - Patrick Henriroux, Vienne, 38200)</td>\n    </tr>\n    <tr>\n      <th>61</th>\n      <td>Maison Ruggieri</td>\n      <td>Paris, 75008</td>\n      <td>2.0</td>\n      <td>1.0</td>\n      <td>(Maison Ruggieri, Paris, 75008)</td>\n    </tr>\n    <tr>\n      <th>79</th>\n      <td>Sylvestre Wahid - Les Grandes Alpes</td>\n      <td>Courchevel, 73120</td>\n      <td>2.0</td>\n      <td>1.0</td>\n      <td>(Sylvestre Wahid - Les Grandes Alpes, Courchev...</td>\n    </tr>\n  </tbody>\n</table>\n</div>"
     },
     "execution_count": 27,
     "metadata": {},
     "output_type": "execute_result"
    }
   ],
   "source": [
    "# Apply fuzzy matching to the new high-star restaurants\n",
    "new_high_stars[['best_match_23', 'match_score_23', 'stars_23']] = new_high_stars.apply(\n",
    "    lambda x: get_best_match(x, france_23), axis=1, result_type='expand')\n",
    "\n",
    "# Display results\n",
    "new_high_stars[['name', 'location', 'stars', 'stars_23', 'best_match_23']]"
   ],
   "metadata": {
    "collapsed": false,
    "ExecuteTime": {
     "end_time": "2024-04-26T12:18:57.031756Z",
     "start_time": "2024-04-26T12:18:56.874876Z"
    }
   },
   "id": "d9291a81b144d4e3"
  },
  {
   "cell_type": "markdown",
   "source": [
    "We define a function to return the status of the restaurant after inspection of the above df"
   ],
   "metadata": {
    "collapsed": false
   },
   "id": "565549e1a98e5342"
  },
  {
   "cell_type": "code",
   "execution_count": 28,
   "outputs": [],
   "source": [
    "# Define a function to determine the status of the restaurant\n",
    "def determine_status(row):\n",
    "    # Extract the postal code from the location and best_match_23\n",
    "    postal_code = row['location'].split(', ')[-1]\n",
    "    match_postal_code = row['best_match_23'][1].split(', ')[-1] if row['best_match_23'] else None\n",
    "\n",
    "    # Check if the postal codes match\n",
    "    if postal_code != match_postal_code:\n",
    "        return 'new award'\n",
    "    else:\n",
    "        # Check for promotion or demotion\n",
    "        if row['stars_23'] and row['stars']:\n",
    "            if row['stars_23'] < row['stars']:\n",
    "                return 'promoted'\n",
    "            elif row['stars_23'] > row['stars']:\n",
    "                return 'demoted'\n",
    "        # If stars are the same or no match, return None (for removal)\n",
    "        return None"
   ],
   "metadata": {
    "collapsed": false,
    "ExecuteTime": {
     "end_time": "2024-04-26T12:18:57.047371Z",
     "start_time": "2024-04-26T12:18:56.964452Z"
    }
   },
   "id": "91df8a69f1d63e0f"
  },
  {
   "cell_type": "code",
   "execution_count": 29,
   "outputs": [],
   "source": [
    "# Apply the function to each row in the DataFrame\n",
    "new_high_stars['status'] = new_high_stars.apply(determine_status, axis=1)\n",
    "\n",
    "# update the 'stars_23' based on the status\n",
    "new_high_stars.loc[new_high_stars['status'] == 'new award', 'stars_23'] = 'New Entry'\n",
    "\n",
    "# Remove the rows where the status is None (meaning no change in stars)\n",
    "new_high_stars = new_high_stars.dropna(subset=['status'])\n",
    "\n",
    "# Display the updated DataFrame\n",
    "major_star_changes = new_high_stars[['name', 'location', 'stars', 'stars_23', 'status']]"
   ],
   "metadata": {
    "collapsed": false,
    "ExecuteTime": {
     "end_time": "2024-04-26T12:18:57.066541Z",
     "start_time": "2024-04-26T12:18:56.972645Z"
    }
   },
   "id": "577ec125f6c3361e"
  },
  {
   "cell_type": "code",
   "execution_count": 30,
   "outputs": [
    {
     "data": {
      "text/plain": "                                       name  \\\n72                    La Table du Castellet   \n81            Le Gabriel - La Réserve Paris   \n9                            Le Jules Verne   \n18                              L'Orangerie   \n31                  René et Maxime Meilleur   \n38                   Maison Ronan Kervarrec   \n45                      Maison Benoît Vidal   \n50  La Table des Amis by Christophe Bacquié   \n61                          Maison Ruggieri   \n79      Sylvestre Wahid - Les Grandes Alpes   \n\n                             location  stars   stars_23     status  \n72                Le Castellet, 83330    3.0  New Entry  new award  \n81                       Paris, 75008    3.0        2.0   promoted  \n9                        Paris, 75007    2.0        1.0   promoted  \n18                       Paris, 75008    2.0        1.0   promoted  \n31  Saint-Martin-de-Belleville, 73440    2.0        3.0    demoted  \n38              Saint-Grégoire, 35760    2.0        1.0   promoted  \n45                      Annecy, 74940    2.0  New Entry  new award  \n50                    Bonnieux, 84480    2.0  New Entry  new award  \n61                       Paris, 75008    2.0        1.0   promoted  \n79                  Courchevel, 73120    2.0        1.0   promoted  ",
      "text/html": "<div>\n<style scoped>\n    .dataframe tbody tr th:only-of-type {\n        vertical-align: middle;\n    }\n\n    .dataframe tbody tr th {\n        vertical-align: top;\n    }\n\n    .dataframe thead th {\n        text-align: right;\n    }\n</style>\n<table border=\"1\" class=\"dataframe\">\n  <thead>\n    <tr style=\"text-align: right;\">\n      <th></th>\n      <th>name</th>\n      <th>location</th>\n      <th>stars</th>\n      <th>stars_23</th>\n      <th>status</th>\n    </tr>\n  </thead>\n  <tbody>\n    <tr>\n      <th>72</th>\n      <td>La Table du Castellet</td>\n      <td>Le Castellet, 83330</td>\n      <td>3.0</td>\n      <td>New Entry</td>\n      <td>new award</td>\n    </tr>\n    <tr>\n      <th>81</th>\n      <td>Le Gabriel - La Réserve Paris</td>\n      <td>Paris, 75008</td>\n      <td>3.0</td>\n      <td>2.0</td>\n      <td>promoted</td>\n    </tr>\n    <tr>\n      <th>9</th>\n      <td>Le Jules Verne</td>\n      <td>Paris, 75007</td>\n      <td>2.0</td>\n      <td>1.0</td>\n      <td>promoted</td>\n    </tr>\n    <tr>\n      <th>18</th>\n      <td>L'Orangerie</td>\n      <td>Paris, 75008</td>\n      <td>2.0</td>\n      <td>1.0</td>\n      <td>promoted</td>\n    </tr>\n    <tr>\n      <th>31</th>\n      <td>René et Maxime Meilleur</td>\n      <td>Saint-Martin-de-Belleville, 73440</td>\n      <td>2.0</td>\n      <td>3.0</td>\n      <td>demoted</td>\n    </tr>\n    <tr>\n      <th>38</th>\n      <td>Maison Ronan Kervarrec</td>\n      <td>Saint-Grégoire, 35760</td>\n      <td>2.0</td>\n      <td>1.0</td>\n      <td>promoted</td>\n    </tr>\n    <tr>\n      <th>45</th>\n      <td>Maison Benoît Vidal</td>\n      <td>Annecy, 74940</td>\n      <td>2.0</td>\n      <td>New Entry</td>\n      <td>new award</td>\n    </tr>\n    <tr>\n      <th>50</th>\n      <td>La Table des Amis by Christophe Bacquié</td>\n      <td>Bonnieux, 84480</td>\n      <td>2.0</td>\n      <td>New Entry</td>\n      <td>new award</td>\n    </tr>\n    <tr>\n      <th>61</th>\n      <td>Maison Ruggieri</td>\n      <td>Paris, 75008</td>\n      <td>2.0</td>\n      <td>1.0</td>\n      <td>promoted</td>\n    </tr>\n    <tr>\n      <th>79</th>\n      <td>Sylvestre Wahid - Les Grandes Alpes</td>\n      <td>Courchevel, 73120</td>\n      <td>2.0</td>\n      <td>1.0</td>\n      <td>promoted</td>\n    </tr>\n  </tbody>\n</table>\n</div>"
     },
     "execution_count": 30,
     "metadata": {},
     "output_type": "execute_result"
    }
   ],
   "source": [
    "major_star_changes"
   ],
   "metadata": {
    "collapsed": false,
    "ExecuteTime": {
     "end_time": "2024-04-26T12:18:57.089865Z",
     "start_time": "2024-04-26T12:18:56.980196Z"
    }
   },
   "id": "c827dcde570cd55e"
  },
  {
   "cell_type": "code",
   "execution_count": 31,
   "outputs": [
    {
     "data": {
      "text/plain": "name                          Auberge du Cheval Blanc\naddress_24                       4 rue de Wissembourg\nlocation                               Lembach, 67510\nurl           https://www.cheval-blanc-lembach.fr/fr/\nstars_23                                          2.0\nstars_24                                          1.0\nName: 51, dtype: object"
     },
     "execution_count": 31,
     "metadata": {},
     "output_type": "execute_result"
    }
   ],
   "source": [
    "# We manually write the demotion of Auberge du Cheval Blanc to star_changes\n",
    "aub_chev = star_changes.loc[51]\n",
    "aub_chev"
   ],
   "metadata": {
    "collapsed": false,
    "ExecuteTime": {
     "end_time": "2024-04-26T12:18:57.090212Z",
     "start_time": "2024-04-26T12:18:56.985665Z"
    }
   },
   "id": "aa7d51ec70b088b6"
  },
  {
   "cell_type": "code",
   "execution_count": 32,
   "outputs": [],
   "source": [
    "data_to_append = {\n",
    "    'name': aub_chev['name'],\n",
    "    'location': aub_chev['location'],\n",
    "    'stars': aub_chev['stars_24'],\n",
    "    'stars_23': aub_chev['stars_23'],\n",
    "    'status': 'demoted'\n",
    "}\n",
    "\n",
    "row_to_append = pd.DataFrame([data_to_append])\n",
    "major_star_changes = pd.concat([major_star_changes, row_to_append], ignore_index=True)"
   ],
   "metadata": {
    "collapsed": false,
    "ExecuteTime": {
     "end_time": "2024-04-26T12:18:57.090338Z",
     "start_time": "2024-04-26T12:18:56.993970Z"
    }
   },
   "id": "2f16197d06377995"
  },
  {
   "cell_type": "code",
   "execution_count": 33,
   "outputs": [
    {
     "data": {
      "text/plain": "                                       name  \\\n0                     La Table du Castellet   \n1             Le Gabriel - La Réserve Paris   \n2                            Le Jules Verne   \n3                               L'Orangerie   \n4                   René et Maxime Meilleur   \n5                    Maison Ronan Kervarrec   \n6                       Maison Benoît Vidal   \n7   La Table des Amis by Christophe Bacquié   \n8                           Maison Ruggieri   \n9       Sylvestre Wahid - Les Grandes Alpes   \n10                  Auberge du Cheval Blanc   \n\n                             location  stars   stars_23     status  \n0                 Le Castellet, 83330    3.0  New Entry  new award  \n1                        Paris, 75008    3.0        2.0   promoted  \n2                        Paris, 75007    2.0        1.0   promoted  \n3                        Paris, 75008    2.0        1.0   promoted  \n4   Saint-Martin-de-Belleville, 73440    2.0        3.0    demoted  \n5               Saint-Grégoire, 35760    2.0        1.0   promoted  \n6                       Annecy, 74940    2.0  New Entry  new award  \n7                     Bonnieux, 84480    2.0  New Entry  new award  \n8                        Paris, 75008    2.0        1.0   promoted  \n9                   Courchevel, 73120    2.0        1.0   promoted  \n10                     Lembach, 67510    1.0        2.0    demoted  ",
      "text/html": "<div>\n<style scoped>\n    .dataframe tbody tr th:only-of-type {\n        vertical-align: middle;\n    }\n\n    .dataframe tbody tr th {\n        vertical-align: top;\n    }\n\n    .dataframe thead th {\n        text-align: right;\n    }\n</style>\n<table border=\"1\" class=\"dataframe\">\n  <thead>\n    <tr style=\"text-align: right;\">\n      <th></th>\n      <th>name</th>\n      <th>location</th>\n      <th>stars</th>\n      <th>stars_23</th>\n      <th>status</th>\n    </tr>\n  </thead>\n  <tbody>\n    <tr>\n      <th>0</th>\n      <td>La Table du Castellet</td>\n      <td>Le Castellet, 83330</td>\n      <td>3.0</td>\n      <td>New Entry</td>\n      <td>new award</td>\n    </tr>\n    <tr>\n      <th>1</th>\n      <td>Le Gabriel - La Réserve Paris</td>\n      <td>Paris, 75008</td>\n      <td>3.0</td>\n      <td>2.0</td>\n      <td>promoted</td>\n    </tr>\n    <tr>\n      <th>2</th>\n      <td>Le Jules Verne</td>\n      <td>Paris, 75007</td>\n      <td>2.0</td>\n      <td>1.0</td>\n      <td>promoted</td>\n    </tr>\n    <tr>\n      <th>3</th>\n      <td>L'Orangerie</td>\n      <td>Paris, 75008</td>\n      <td>2.0</td>\n      <td>1.0</td>\n      <td>promoted</td>\n    </tr>\n    <tr>\n      <th>4</th>\n      <td>René et Maxime Meilleur</td>\n      <td>Saint-Martin-de-Belleville, 73440</td>\n      <td>2.0</td>\n      <td>3.0</td>\n      <td>demoted</td>\n    </tr>\n    <tr>\n      <th>5</th>\n      <td>Maison Ronan Kervarrec</td>\n      <td>Saint-Grégoire, 35760</td>\n      <td>2.0</td>\n      <td>1.0</td>\n      <td>promoted</td>\n    </tr>\n    <tr>\n      <th>6</th>\n      <td>Maison Benoît Vidal</td>\n      <td>Annecy, 74940</td>\n      <td>2.0</td>\n      <td>New Entry</td>\n      <td>new award</td>\n    </tr>\n    <tr>\n      <th>7</th>\n      <td>La Table des Amis by Christophe Bacquié</td>\n      <td>Bonnieux, 84480</td>\n      <td>2.0</td>\n      <td>New Entry</td>\n      <td>new award</td>\n    </tr>\n    <tr>\n      <th>8</th>\n      <td>Maison Ruggieri</td>\n      <td>Paris, 75008</td>\n      <td>2.0</td>\n      <td>1.0</td>\n      <td>promoted</td>\n    </tr>\n    <tr>\n      <th>9</th>\n      <td>Sylvestre Wahid - Les Grandes Alpes</td>\n      <td>Courchevel, 73120</td>\n      <td>2.0</td>\n      <td>1.0</td>\n      <td>promoted</td>\n    </tr>\n    <tr>\n      <th>10</th>\n      <td>Auberge du Cheval Blanc</td>\n      <td>Lembach, 67510</td>\n      <td>1.0</td>\n      <td>2.0</td>\n      <td>demoted</td>\n    </tr>\n  </tbody>\n</table>\n</div>"
     },
     "execution_count": 33,
     "metadata": {},
     "output_type": "execute_result"
    }
   ],
   "source": [
    "major_star_changes"
   ],
   "metadata": {
    "collapsed": false,
    "ExecuteTime": {
     "end_time": "2024-04-26T12:18:57.090696Z",
     "start_time": "2024-04-26T12:18:57.003063Z"
    }
   },
   "id": "4df0e0ee19a112da"
  },
  {
   "cell_type": "markdown",
   "source": [
    "----\n",
    "&nbsp;\n",
    "## Merging the promotions/demotions with `france_24`"
   ],
   "metadata": {
    "collapsed": false
   },
   "id": "e2c8c78709ab1498"
  },
  {
   "cell_type": "code",
   "execution_count": 34,
   "outputs": [
    {
     "data": {
      "text/plain": "                             name  \\\n0           La Table du Castellet   \n1  Plénitude - Cheval Blanc Paris   \n2                   Le Petit Nice   \n3                         Mirazur   \n4         AM par Alexandre Mazzia   \n\n                                             address             location  \\\n0  3001 route des Hauts-du-Camp, au Circuit Paul ...  Le Castellet, 83330   \n1                                   8 quai du Louvre         Paris, 75001   \n2                                   Anse de Maldormé     Marseille, 13007   \n3                          30 avenue Aristide-Briand        Menton, 06500   \n4                               9 rue François-Rocca     Marseille, 13008   \n\n  arrondissement department_num        department    capital  \\\n0         Toulon             83               Var     Toulon   \n1   1st (Louvre)             75             Paris      Paris   \n2      Marseille             13  Bouches-du-Rhône  Marseille   \n3           Nice             06   Alpes-Maritimes       Nice   \n4      Marseille             13  Bouches-du-Rhône  Marseille   \n\n                       region price   cuisine  \\\n0  Provence-Alpes-Côte d'Azur  €€€€  Creative   \n1               Île-de-France  €€€€  Creative   \n2  Provence-Alpes-Côte d'Azur  €€€€   Seafood   \n3  Provence-Alpes-Côte d'Azur  €€€€  Creative   \n4  Provence-Alpes-Côte d'Azur  €€€€  Creative   \n\n                                                 url    award  stars  \\\n0  http://www.hotelducastellet.net/fr/restaurants...  3 Stars    3.0   \n1       https://www.chevalblanc.com/fr/maison/paris/  3 Stars    3.0   \n2                            https://www.passedat.fr  3 Stars    3.0   \n3                            https://www.mirazur.fr/  3 Stars    3.0   \n4                  https://www.alexandre-mazzia.com/  3 Stars    3.0   \n\n   longitude   latitude  \n0   5.783887  43.249929  \n1   2.342159  48.858815  \n2   5.352121  43.280086  \n3   7.528051  43.785930  \n4   5.386233  43.270110  ",
      "text/html": "<div>\n<style scoped>\n    .dataframe tbody tr th:only-of-type {\n        vertical-align: middle;\n    }\n\n    .dataframe tbody tr th {\n        vertical-align: top;\n    }\n\n    .dataframe thead th {\n        text-align: right;\n    }\n</style>\n<table border=\"1\" class=\"dataframe\">\n  <thead>\n    <tr style=\"text-align: right;\">\n      <th></th>\n      <th>name</th>\n      <th>address</th>\n      <th>location</th>\n      <th>arrondissement</th>\n      <th>department_num</th>\n      <th>department</th>\n      <th>capital</th>\n      <th>region</th>\n      <th>price</th>\n      <th>cuisine</th>\n      <th>url</th>\n      <th>award</th>\n      <th>stars</th>\n      <th>longitude</th>\n      <th>latitude</th>\n    </tr>\n  </thead>\n  <tbody>\n    <tr>\n      <th>0</th>\n      <td>La Table du Castellet</td>\n      <td>3001 route des Hauts-du-Camp, au Circuit Paul ...</td>\n      <td>Le Castellet, 83330</td>\n      <td>Toulon</td>\n      <td>83</td>\n      <td>Var</td>\n      <td>Toulon</td>\n      <td>Provence-Alpes-Côte d'Azur</td>\n      <td>€€€€</td>\n      <td>Creative</td>\n      <td>http://www.hotelducastellet.net/fr/restaurants...</td>\n      <td>3 Stars</td>\n      <td>3.0</td>\n      <td>5.783887</td>\n      <td>43.249929</td>\n    </tr>\n    <tr>\n      <th>1</th>\n      <td>Plénitude - Cheval Blanc Paris</td>\n      <td>8 quai du Louvre</td>\n      <td>Paris, 75001</td>\n      <td>1st (Louvre)</td>\n      <td>75</td>\n      <td>Paris</td>\n      <td>Paris</td>\n      <td>Île-de-France</td>\n      <td>€€€€</td>\n      <td>Creative</td>\n      <td>https://www.chevalblanc.com/fr/maison/paris/</td>\n      <td>3 Stars</td>\n      <td>3.0</td>\n      <td>2.342159</td>\n      <td>48.858815</td>\n    </tr>\n    <tr>\n      <th>2</th>\n      <td>Le Petit Nice</td>\n      <td>Anse de Maldormé</td>\n      <td>Marseille, 13007</td>\n      <td>Marseille</td>\n      <td>13</td>\n      <td>Bouches-du-Rhône</td>\n      <td>Marseille</td>\n      <td>Provence-Alpes-Côte d'Azur</td>\n      <td>€€€€</td>\n      <td>Seafood</td>\n      <td>https://www.passedat.fr</td>\n      <td>3 Stars</td>\n      <td>3.0</td>\n      <td>5.352121</td>\n      <td>43.280086</td>\n    </tr>\n    <tr>\n      <th>3</th>\n      <td>Mirazur</td>\n      <td>30 avenue Aristide-Briand</td>\n      <td>Menton, 06500</td>\n      <td>Nice</td>\n      <td>06</td>\n      <td>Alpes-Maritimes</td>\n      <td>Nice</td>\n      <td>Provence-Alpes-Côte d'Azur</td>\n      <td>€€€€</td>\n      <td>Creative</td>\n      <td>https://www.mirazur.fr/</td>\n      <td>3 Stars</td>\n      <td>3.0</td>\n      <td>7.528051</td>\n      <td>43.785930</td>\n    </tr>\n    <tr>\n      <th>4</th>\n      <td>AM par Alexandre Mazzia</td>\n      <td>9 rue François-Rocca</td>\n      <td>Marseille, 13008</td>\n      <td>Marseille</td>\n      <td>13</td>\n      <td>Bouches-du-Rhône</td>\n      <td>Marseille</td>\n      <td>Provence-Alpes-Côte d'Azur</td>\n      <td>€€€€</td>\n      <td>Creative</td>\n      <td>https://www.alexandre-mazzia.com/</td>\n      <td>3 Stars</td>\n      <td>3.0</td>\n      <td>5.386233</td>\n      <td>43.270110</td>\n    </tr>\n  </tbody>\n</table>\n</div>"
     },
     "execution_count": 34,
     "metadata": {},
     "output_type": "execute_result"
    }
   ],
   "source": [
    "france_24.head()"
   ],
   "metadata": {
    "collapsed": false,
    "ExecuteTime": {
     "end_time": "2024-04-26T12:18:57.091268Z",
     "start_time": "2024-04-26T12:18:57.012467Z"
    }
   },
   "id": "a11d41253e90d713"
  },
  {
   "cell_type": "code",
   "execution_count": 35,
   "outputs": [],
   "source": [
    "# Merge major_star_changes with france_24 on 'name' and 'location'\n",
    "merged_changes = pd.merge(major_star_changes, france_24, on=['name', 'location'], how='left')\n",
    "\n",
    "merged_changes.rename(columns={'stars_y': 'stars'}, inplace=True)\n",
    "column_order = ['name', 'address', 'location', 'arrondissement', 'department_num', 'department', 'capital', 'region',\n",
    "       'price', 'cuisine', 'url', 'award', 'stars', 'stars_23', 'status', 'longitude', 'latitude']\n",
    "merged_changes = merged_changes[column_order]"
   ],
   "metadata": {
    "collapsed": false,
    "ExecuteTime": {
     "end_time": "2024-04-26T12:18:57.091407Z",
     "start_time": "2024-04-26T12:18:57.018018Z"
    }
   },
   "id": "5d39d3e8a2108a8"
  },
  {
   "cell_type": "code",
   "execution_count": 36,
   "outputs": [
    {
     "data": {
      "text/plain": "                                       name  \\\n0                     La Table du Castellet   \n1             Le Gabriel - La Réserve Paris   \n2                            Le Jules Verne   \n3                               L'Orangerie   \n4                   René et Maxime Meilleur   \n5                    Maison Ronan Kervarrec   \n6                       Maison Benoît Vidal   \n7   La Table des Amis by Christophe Bacquié   \n8                           Maison Ruggieri   \n9       Sylvestre Wahid - Les Grandes Alpes   \n10                  Auberge du Cheval Blanc   \n\n                                              address  \\\n0   3001 route des Hauts-du-Camp, au Circuit Paul ...   \n1                 La Réserve Paris, 42 avenue Gabriel   \n2                 Tour Eiffel - Avenue Gustave-Eiffel   \n3           Four Seasons George V, 31 avenue George-V   \n4                              Hameau de Saint-Marcel   \n5                            1 impasse du Vieux-Bourg   \n6                    Sur-les-Bois, 79 route de Thônes   \n7             Les Mas Les Eydins, 2420 chemin du Four   \n8                                    11 rue Treilhard   \n9                 28 rue de l'Église, Courchevel 1850   \n10                               4 rue de Wissembourg   \n\n                             location        arrondissement department_num  \\\n0                 Le Castellet, 83330                Toulon             83   \n1                        Paris, 75008          8th (Élysée)             75   \n2                        Paris, 75007  7th (Palais-Bourbon)             75   \n3                        Paris, 75008          8th (Élysée)             75   \n4   Saint-Martin-de-Belleville, 73440           Albertville             73   \n5               Saint-Grégoire, 35760                Rennes             35   \n6                       Annecy, 74940                Annecy             74   \n7                     Bonnieux, 84480                   Apt             84   \n8                        Paris, 75008          8th (Élysée)             75   \n9                   Courchevel, 73120           Albertville             73   \n10                     Lembach, 67510  Haguenau-Wissembourg             67   \n\n         department     capital                      region price  \\\n0               Var      Toulon  Provence-Alpes-Côte d'Azur  €€€€   \n1             Paris       Paris               Île-de-France  €€€€   \n2             Paris       Paris               Île-de-France  €€€€   \n3             Paris       Paris               Île-de-France  €€€€   \n4            Savoie    Chambéry        Auvergne-Rhône-Alpes  €€€€   \n5   Ille-et-Vilaine      Rennes                    Brittany  €€€€   \n6      Haute-Savoie      Annecy        Auvergne-Rhône-Alpes  €€€€   \n7          Vaucluse     Avignon  Provence-Alpes-Côte d'Azur  €€€€   \n8             Paris       Paris               Île-de-France  €€€€   \n9            Savoie    Chambéry        Auvergne-Rhône-Alpes  €€€€   \n10         Bas-Rhin  Strasbourg                   Grand Est  €€€€   \n\n                       cuisine  \\\n0                     Creative   \n1                     Creative   \n2               Modern Cuisine   \n3               Modern Cuisine   \n4   Creative, Regional Cuisine   \n5               Modern Cuisine   \n6                     Creative   \n7               Modern Cuisine   \n8     Modern Cuisine, Creative   \n9                     Creative   \n10              Modern Cuisine   \n\n                                                  url    award  stars  \\\n0   http://www.hotelducastellet.net/fr/restaurants...  3 Stars    3.0   \n1                    https://www.lareserve-paris.com/  3 Stars    3.0   \n2   https://www.restaurants-toureiffel.com/fr/rest...  2 Stars    2.0   \n3   https://www.fourseasons.com/fr/paris/dining/re...  2 Stars    2.0   \n4                      https://www.la-bouitte.com/fr/  2 Stars    2.0   \n5                         http://www.le-saison.com/fr  2 Stars    2.0   \n6                 https://www.maison-benoit-vidal.com  2 Stars    2.0   \n7                            http://www.leseydins.com  2 Stars    2.0   \n8                        http://www.maisonruggieri.fr  2 Stars    2.0   \n9                     https://restaurantsylvestre.com  2 Stars    2.0   \n10            https://www.cheval-blanc-lembach.fr/fr/   1 Star    1.0   \n\n     stars_23     status  longitude   latitude  \n0   New Entry  new award   5.783887  43.249929  \n1         2.0   promoted   2.313208  48.869731  \n2         1.0   promoted   2.294532  48.858232  \n3         1.0   promoted   2.300826  48.868785  \n4         3.0    demoted   6.513306  45.369046  \n5         1.0   promoted  -1.680556  48.153301  \n6   New Entry  new award   6.171891  45.922698  \n7   New Entry  new award   5.301851  43.851187  \n8         1.0   promoted   2.314134  48.877027  \n9         1.0   promoted   6.634931  45.414421  \n10        2.0    demoted   7.790658  49.003325  ",
      "text/html": "<div>\n<style scoped>\n    .dataframe tbody tr th:only-of-type {\n        vertical-align: middle;\n    }\n\n    .dataframe tbody tr th {\n        vertical-align: top;\n    }\n\n    .dataframe thead th {\n        text-align: right;\n    }\n</style>\n<table border=\"1\" class=\"dataframe\">\n  <thead>\n    <tr style=\"text-align: right;\">\n      <th></th>\n      <th>name</th>\n      <th>address</th>\n      <th>location</th>\n      <th>arrondissement</th>\n      <th>department_num</th>\n      <th>department</th>\n      <th>capital</th>\n      <th>region</th>\n      <th>price</th>\n      <th>cuisine</th>\n      <th>url</th>\n      <th>award</th>\n      <th>stars</th>\n      <th>stars_23</th>\n      <th>status</th>\n      <th>longitude</th>\n      <th>latitude</th>\n    </tr>\n  </thead>\n  <tbody>\n    <tr>\n      <th>0</th>\n      <td>La Table du Castellet</td>\n      <td>3001 route des Hauts-du-Camp, au Circuit Paul ...</td>\n      <td>Le Castellet, 83330</td>\n      <td>Toulon</td>\n      <td>83</td>\n      <td>Var</td>\n      <td>Toulon</td>\n      <td>Provence-Alpes-Côte d'Azur</td>\n      <td>€€€€</td>\n      <td>Creative</td>\n      <td>http://www.hotelducastellet.net/fr/restaurants...</td>\n      <td>3 Stars</td>\n      <td>3.0</td>\n      <td>New Entry</td>\n      <td>new award</td>\n      <td>5.783887</td>\n      <td>43.249929</td>\n    </tr>\n    <tr>\n      <th>1</th>\n      <td>Le Gabriel - La Réserve Paris</td>\n      <td>La Réserve Paris, 42 avenue Gabriel</td>\n      <td>Paris, 75008</td>\n      <td>8th (Élysée)</td>\n      <td>75</td>\n      <td>Paris</td>\n      <td>Paris</td>\n      <td>Île-de-France</td>\n      <td>€€€€</td>\n      <td>Creative</td>\n      <td>https://www.lareserve-paris.com/</td>\n      <td>3 Stars</td>\n      <td>3.0</td>\n      <td>2.0</td>\n      <td>promoted</td>\n      <td>2.313208</td>\n      <td>48.869731</td>\n    </tr>\n    <tr>\n      <th>2</th>\n      <td>Le Jules Verne</td>\n      <td>Tour Eiffel - Avenue Gustave-Eiffel</td>\n      <td>Paris, 75007</td>\n      <td>7th (Palais-Bourbon)</td>\n      <td>75</td>\n      <td>Paris</td>\n      <td>Paris</td>\n      <td>Île-de-France</td>\n      <td>€€€€</td>\n      <td>Modern Cuisine</td>\n      <td>https://www.restaurants-toureiffel.com/fr/rest...</td>\n      <td>2 Stars</td>\n      <td>2.0</td>\n      <td>1.0</td>\n      <td>promoted</td>\n      <td>2.294532</td>\n      <td>48.858232</td>\n    </tr>\n    <tr>\n      <th>3</th>\n      <td>L'Orangerie</td>\n      <td>Four Seasons George V, 31 avenue George-V</td>\n      <td>Paris, 75008</td>\n      <td>8th (Élysée)</td>\n      <td>75</td>\n      <td>Paris</td>\n      <td>Paris</td>\n      <td>Île-de-France</td>\n      <td>€€€€</td>\n      <td>Modern Cuisine</td>\n      <td>https://www.fourseasons.com/fr/paris/dining/re...</td>\n      <td>2 Stars</td>\n      <td>2.0</td>\n      <td>1.0</td>\n      <td>promoted</td>\n      <td>2.300826</td>\n      <td>48.868785</td>\n    </tr>\n    <tr>\n      <th>4</th>\n      <td>René et Maxime Meilleur</td>\n      <td>Hameau de Saint-Marcel</td>\n      <td>Saint-Martin-de-Belleville, 73440</td>\n      <td>Albertville</td>\n      <td>73</td>\n      <td>Savoie</td>\n      <td>Chambéry</td>\n      <td>Auvergne-Rhône-Alpes</td>\n      <td>€€€€</td>\n      <td>Creative, Regional Cuisine</td>\n      <td>https://www.la-bouitte.com/fr/</td>\n      <td>2 Stars</td>\n      <td>2.0</td>\n      <td>3.0</td>\n      <td>demoted</td>\n      <td>6.513306</td>\n      <td>45.369046</td>\n    </tr>\n    <tr>\n      <th>5</th>\n      <td>Maison Ronan Kervarrec</td>\n      <td>1 impasse du Vieux-Bourg</td>\n      <td>Saint-Grégoire, 35760</td>\n      <td>Rennes</td>\n      <td>35</td>\n      <td>Ille-et-Vilaine</td>\n      <td>Rennes</td>\n      <td>Brittany</td>\n      <td>€€€€</td>\n      <td>Modern Cuisine</td>\n      <td>http://www.le-saison.com/fr</td>\n      <td>2 Stars</td>\n      <td>2.0</td>\n      <td>1.0</td>\n      <td>promoted</td>\n      <td>-1.680556</td>\n      <td>48.153301</td>\n    </tr>\n    <tr>\n      <th>6</th>\n      <td>Maison Benoît Vidal</td>\n      <td>Sur-les-Bois, 79 route de Thônes</td>\n      <td>Annecy, 74940</td>\n      <td>Annecy</td>\n      <td>74</td>\n      <td>Haute-Savoie</td>\n      <td>Annecy</td>\n      <td>Auvergne-Rhône-Alpes</td>\n      <td>€€€€</td>\n      <td>Creative</td>\n      <td>https://www.maison-benoit-vidal.com</td>\n      <td>2 Stars</td>\n      <td>2.0</td>\n      <td>New Entry</td>\n      <td>new award</td>\n      <td>6.171891</td>\n      <td>45.922698</td>\n    </tr>\n    <tr>\n      <th>7</th>\n      <td>La Table des Amis by Christophe Bacquié</td>\n      <td>Les Mas Les Eydins, 2420 chemin du Four</td>\n      <td>Bonnieux, 84480</td>\n      <td>Apt</td>\n      <td>84</td>\n      <td>Vaucluse</td>\n      <td>Avignon</td>\n      <td>Provence-Alpes-Côte d'Azur</td>\n      <td>€€€€</td>\n      <td>Modern Cuisine</td>\n      <td>http://www.leseydins.com</td>\n      <td>2 Stars</td>\n      <td>2.0</td>\n      <td>New Entry</td>\n      <td>new award</td>\n      <td>5.301851</td>\n      <td>43.851187</td>\n    </tr>\n    <tr>\n      <th>8</th>\n      <td>Maison Ruggieri</td>\n      <td>11 rue Treilhard</td>\n      <td>Paris, 75008</td>\n      <td>8th (Élysée)</td>\n      <td>75</td>\n      <td>Paris</td>\n      <td>Paris</td>\n      <td>Île-de-France</td>\n      <td>€€€€</td>\n      <td>Modern Cuisine, Creative</td>\n      <td>http://www.maisonruggieri.fr</td>\n      <td>2 Stars</td>\n      <td>2.0</td>\n      <td>1.0</td>\n      <td>promoted</td>\n      <td>2.314134</td>\n      <td>48.877027</td>\n    </tr>\n    <tr>\n      <th>9</th>\n      <td>Sylvestre Wahid - Les Grandes Alpes</td>\n      <td>28 rue de l'Église, Courchevel 1850</td>\n      <td>Courchevel, 73120</td>\n      <td>Albertville</td>\n      <td>73</td>\n      <td>Savoie</td>\n      <td>Chambéry</td>\n      <td>Auvergne-Rhône-Alpes</td>\n      <td>€€€€</td>\n      <td>Creative</td>\n      <td>https://restaurantsylvestre.com</td>\n      <td>2 Stars</td>\n      <td>2.0</td>\n      <td>1.0</td>\n      <td>promoted</td>\n      <td>6.634931</td>\n      <td>45.414421</td>\n    </tr>\n    <tr>\n      <th>10</th>\n      <td>Auberge du Cheval Blanc</td>\n      <td>4 rue de Wissembourg</td>\n      <td>Lembach, 67510</td>\n      <td>Haguenau-Wissembourg</td>\n      <td>67</td>\n      <td>Bas-Rhin</td>\n      <td>Strasbourg</td>\n      <td>Grand Est</td>\n      <td>€€€€</td>\n      <td>Modern Cuisine</td>\n      <td>https://www.cheval-blanc-lembach.fr/fr/</td>\n      <td>1 Star</td>\n      <td>1.0</td>\n      <td>2.0</td>\n      <td>demoted</td>\n      <td>7.790658</td>\n      <td>49.003325</td>\n    </tr>\n  </tbody>\n</table>\n</div>"
     },
     "execution_count": 36,
     "metadata": {},
     "output_type": "execute_result"
    }
   ],
   "source": [
    "merged_changes"
   ],
   "metadata": {
    "collapsed": false,
    "ExecuteTime": {
     "end_time": "2024-04-26T12:18:57.094130Z",
     "start_time": "2024-04-26T12:18:57.034304Z"
    }
   },
   "id": "ff60de2927ed9196"
  },
  {
   "cell_type": "markdown",
   "source": [
    "----\n",
    "&nbsp;\n",
    "## Changes in the michelin guide"
   ],
   "metadata": {
    "collapsed": false
   },
   "id": "c7db42727f8d145f"
  },
  {
   "cell_type": "code",
   "execution_count": 45,
   "outputs": [],
   "source": [
    "stars_23 = france_23[france_23['stars'] >= 1]\n",
    "stars_24 = france_24[france_24['stars'] >= 1]"
   ],
   "metadata": {
    "collapsed": false,
    "ExecuteTime": {
     "end_time": "2024-04-26T12:24:47.833746Z",
     "start_time": "2024-04-26T12:24:47.823999Z"
    }
   },
   "id": "5b706a875f07822a"
  },
  {
   "cell_type": "code",
   "execution_count": 49,
   "outputs": [
    {
     "data": {
      "text/plain": "   Star Rating  2023 Guide  2024 Guide\n0            1         520         530\n1            2          72          73\n2            3          28          29",
      "text/html": "<div>\n<style scoped>\n    .dataframe tbody tr th:only-of-type {\n        vertical-align: middle;\n    }\n\n    .dataframe tbody tr th {\n        vertical-align: top;\n    }\n\n    .dataframe thead th {\n        text-align: right;\n    }\n</style>\n<table border=\"1\" class=\"dataframe\">\n  <thead>\n    <tr style=\"text-align: right;\">\n      <th></th>\n      <th>Star Rating</th>\n      <th>2023 Guide</th>\n      <th>2024 Guide</th>\n    </tr>\n  </thead>\n  <tbody>\n    <tr>\n      <th>0</th>\n      <td>1</td>\n      <td>520</td>\n      <td>530</td>\n    </tr>\n    <tr>\n      <th>1</th>\n      <td>2</td>\n      <td>72</td>\n      <td>73</td>\n    </tr>\n    <tr>\n      <th>2</th>\n      <td>3</td>\n      <td>28</td>\n      <td>29</td>\n    </tr>\n  </tbody>\n</table>\n</div>"
     },
     "execution_count": 49,
     "metadata": {},
     "output_type": "execute_result"
    }
   ],
   "source": [
    "# Count the occurrences of each star in france_23 and france_24\n",
    "stars_count_23 = stars_23.groupby('stars').size()\n",
    "stars_count_24 = stars_24.groupby('stars').size()\n",
    "\n",
    "# Ensure all possible star values are represented, even if there are no restaurants with that count\n",
    "star_ratings = [1, 2, 3]\n",
    "stars_count_23 = stars_count_23.reindex(star_ratings)\n",
    "stars_count_24 = stars_count_24.reindex(star_ratings)\n",
    "\n",
    "# Create a DataFrame to display the counts side by side\n",
    "star_comparison_table = pd.DataFrame({\n",
    "    'Star Rating': star_ratings,\n",
    "    '2023 Guide': stars_count_23.values,\n",
    "    '2024 Guide': stars_count_24.values\n",
    "})\n",
    "\n",
    "# Display the table\n",
    "star_comparison_table4"
   ],
   "metadata": {
    "collapsed": false,
    "ExecuteTime": {
     "end_time": "2024-04-26T12:29:34.398996Z",
     "start_time": "2024-04-26T12:29:34.357302Z"
    }
   },
   "id": "3a6ea9e01fb728d0"
  },
  {
   "cell_type": "markdown",
   "source": [
    "----\n",
    "&nbsp;\n",
    "## New restaurants by region"
   ],
   "metadata": {
    "collapsed": false
   },
   "id": "f6fd56f8501a1a13"
  },
  {
   "cell_type": "code",
   "execution_count": 37,
   "outputs": [],
   "source": [
    "# Function import\n",
    "from Functions.functions_visualisation import top_restaurants"
   ],
   "metadata": {
    "collapsed": false,
    "ExecuteTime": {
     "end_time": "2024-04-26T12:19:04.003602Z",
     "start_time": "2024-04-26T12:19:02.041625Z"
    }
   },
   "id": "52f61a05be4a45fa"
  },
  {
   "cell_type": "code",
   "execution_count": 38,
   "outputs": [
    {
     "name": "stdout",
     "output_type": "stream",
     "text": [
      "Only 2 unique regions found.\n",
      "\n",
      "Top 2 regions with most ⭐⭐⭐ restaurants:\n",
      "\n",
      "\n",
      "Region: Provence-Alpes-Côte d'Azur\n",
      "1 ⭐⭐⭐ Restaurant\n"
     ]
    },
    {
     "data": {
      "text/plain": "<IPython.core.display.HTML object>",
      "text/html": "<br>Restaurant: <a href='http://www.hotelducastellet.net/fr/restaurants/restaurant-gastronomique' target='_blank'>La Table du Castellet</a><br>Address: 3001 route des Hauts-du-Camp, au Circuit Paul Ricard<br>Location: Le Castellet, 83330<br>Style of Cuisine: Creative<br>Price: €€€€<br><br>"
     },
     "metadata": {},
     "output_type": "display_data"
    },
    {
     "name": "stdout",
     "output_type": "stream",
     "text": [
      "\n",
      "Region: Île-de-France\n",
      "1 ⭐⭐⭐ Restaurant\n"
     ]
    },
    {
     "data": {
      "text/plain": "<IPython.core.display.HTML object>",
      "text/html": "<br>Restaurant: <a href='https://www.lareserve-paris.com/' target='_blank'>Le Gabriel - La Réserve Paris</a><br>Address: La Réserve Paris, 42 avenue Gabriel<br>Location: Paris, 75008<br>Style of Cuisine: Creative<br>Price: €€€€<br><br>"
     },
     "metadata": {},
     "output_type": "display_data"
    },
    {
     "name": "stdout",
     "output_type": "stream",
     "text": []
    }
   ],
   "source": [
    "top_restaurants(merged_changes, granularity='region', star_rating=3, top_n=5)"
   ],
   "metadata": {
    "collapsed": false,
    "ExecuteTime": {
     "end_time": "2024-04-26T12:19:07.004977Z",
     "start_time": "2024-04-26T12:19:06.906614Z"
    }
   },
   "id": "d7f468d962e214ad"
  },
  {
   "cell_type": "code",
   "execution_count": 40,
   "outputs": [
    {
     "name": "stdout",
     "output_type": "stream",
     "text": [
      "Only 4 unique regions found.\n",
      "\n",
      "Top 4 regions with most ⭐⭐ restaurants:\n",
      "\n",
      "\n",
      "Region: Auvergne-Rhône-Alpes\n",
      "3 ⭐⭐ Restaurants\n"
     ]
    },
    {
     "data": {
      "text/plain": "<IPython.core.display.HTML object>",
      "text/html": "<br>Restaurant: <a href='https://www.la-bouitte.com/fr/' target='_blank'>René et Maxime Meilleur</a><br>Address: Hameau de Saint-Marcel<br>Location: Saint-Martin-de-Belleville, 73440<br>Style of Cuisine: Creative, Regional Cuisine<br>Price: €€€€<br><br>"
     },
     "metadata": {},
     "output_type": "display_data"
    },
    {
     "name": "stdout",
     "output_type": "stream",
     "text": []
    },
    {
     "data": {
      "text/plain": "<IPython.core.display.HTML object>",
      "text/html": "<br>Restaurant: <a href='https://www.maison-benoit-vidal.com' target='_blank'>Maison Benoît Vidal</a><br>Address: Sur-les-Bois, 79 route de Thônes<br>Location: Annecy, 74940<br>Style of Cuisine: Creative<br>Price: €€€€<br><br>"
     },
     "metadata": {},
     "output_type": "display_data"
    },
    {
     "name": "stdout",
     "output_type": "stream",
     "text": []
    },
    {
     "data": {
      "text/plain": "<IPython.core.display.HTML object>",
      "text/html": "<br>Restaurant: <a href='https://restaurantsylvestre.com' target='_blank'>Sylvestre Wahid - Les Grandes Alpes</a><br>Address: 28 rue de l'Église, Courchevel 1850<br>Location: Courchevel, 73120<br>Style of Cuisine: Creative<br>Price: €€€€<br><br>"
     },
     "metadata": {},
     "output_type": "display_data"
    },
    {
     "name": "stdout",
     "output_type": "stream",
     "text": [
      "\n",
      "Region: Île-de-France\n",
      "3 ⭐⭐ Restaurants\n",
      "\n",
      "\n"
     ]
    },
    {
     "data": {
      "text/plain": "<IPython.core.display.HTML object>",
      "text/html": "<br>Restaurant: <a href='https://www.restaurants-toureiffel.com/fr/restaurant-jules-verne.html' target='_blank'>Le Jules Verne</a><br>Address: Tour Eiffel - Avenue Gustave-Eiffel<br>Location: Paris, 75007<br>Style of Cuisine: Modern Cuisine<br>Price: €€€€<br><br>"
     },
     "metadata": {},
     "output_type": "display_data"
    },
    {
     "name": "stdout",
     "output_type": "stream",
     "text": [
      "\n"
     ]
    },
    {
     "data": {
      "text/plain": "<IPython.core.display.HTML object>",
      "text/html": "<br>Restaurant: <a href='https://www.fourseasons.com/fr/paris/dining/restaurants/l-orangerie/' target='_blank'>L'Orangerie</a><br>Address: Four Seasons George V, 31 avenue George-V<br>Location: Paris, 75008<br>Style of Cuisine: Modern Cuisine<br>Price: €€€€<br><br>"
     },
     "metadata": {},
     "output_type": "display_data"
    },
    {
     "name": "stdout",
     "output_type": "stream",
     "text": [
      "\n"
     ]
    },
    {
     "data": {
      "text/plain": "<IPython.core.display.HTML object>",
      "text/html": "<br>Restaurant: <a href='http://www.maisonruggieri.fr' target='_blank'>Maison Ruggieri</a><br>Address: 11 rue Treilhard<br>Location: Paris, 75008<br>Style of Cuisine: Modern Cuisine, Creative<br>Price: €€€€<br><br>"
     },
     "metadata": {},
     "output_type": "display_data"
    },
    {
     "name": "stdout",
     "output_type": "stream",
     "text": [
      "\n",
      "Region: Brittany\n",
      "1 ⭐⭐ Restaurant\n",
      "\n",
      "\n"
     ]
    },
    {
     "data": {
      "text/plain": "<IPython.core.display.HTML object>",
      "text/html": "<br>Restaurant: <a href='http://www.le-saison.com/fr' target='_blank'>Maison Ronan Kervarrec</a><br>Address: 1 impasse du Vieux-Bourg<br>Location: Saint-Grégoire, 35760<br>Style of Cuisine: Modern Cuisine<br>Price: €€€€<br><br>"
     },
     "metadata": {},
     "output_type": "display_data"
    },
    {
     "name": "stdout",
     "output_type": "stream",
     "text": [
      "\n",
      "Region: Provence-Alpes-Côte d'Azur\n",
      "1 ⭐⭐ Restaurant\n",
      "\n",
      "\n"
     ]
    },
    {
     "data": {
      "text/plain": "<IPython.core.display.HTML object>",
      "text/html": "<br>Restaurant: <a href='http://www.leseydins.com' target='_blank'>La Table des Amis by Christophe Bacquié</a><br>Address: Les Mas Les Eydins, 2420 chemin du Four<br>Location: Bonnieux, 84480<br>Style of Cuisine: Modern Cuisine<br>Price: €€€€<br><br>"
     },
     "metadata": {},
     "output_type": "display_data"
    },
    {
     "name": "stdout",
     "output_type": "stream",
     "text": [
      "\n"
     ]
    }
   ],
   "source": [
    "top_restaurants(merged_changes, granularity='region', star_rating=2, top_n=5)"
   ],
   "metadata": {
    "collapsed": false,
    "ExecuteTime": {
     "end_time": "2024-04-26T12:19:11.687850Z",
     "start_time": "2024-04-26T12:19:11.606147Z"
    }
   },
   "id": "bfd1a93f87dfa689"
  },
  {
   "cell_type": "markdown",
   "source": [
    "----\n",
    "&nbsp;\n",
    "## Postscript - Useful code\n",
    "Searching for particular restaurants - Verify the differences"
   ],
   "metadata": {
    "collapsed": false
   },
   "id": "46d503190f5a944b"
  },
  {
   "cell_type": "code",
   "execution_count": 143,
   "outputs": [],
   "source": [
    "# Function to find potential matches based on the restaurant name\n",
    "def find_potential_matches(search_name, df, threshold=70):\n",
    "    # Use fuzzy matching to find potential matches and their scores\n",
    "    potential_matches = process.extract(search_name, df['name'], scorer=fuzz.token_set_ratio)\n",
    "    \n",
    "    # Filter out matches that meet or exceed the threshold score\n",
    "    good_matches = [(match[0], match[1]) for match in potential_matches if match[1] >= threshold]\n",
    "    return good_matches"
   ],
   "metadata": {
    "collapsed": false
   },
   "id": "486540fff742b62b"
  },
  {
   "cell_type": "code",
   "execution_count": 149,
   "outputs": [],
   "source": [
    "# The name of the restaurant you're interested in\n",
    "search_name = \"La Table du Castellet\""
   ],
   "metadata": {
    "collapsed": false
   },
   "id": "232a3ef1e2527e23"
  },
  {
   "cell_type": "code",
   "execution_count": 150,
   "outputs": [
    {
     "name": "stdout",
     "output_type": "stream",
     "text": [
      "Potential matches in 2023 data:\n",
      "Name: La Table, Score: 100\n",
      "Name: La Tablée, Score: 100\n",
      "Name: La Table du 11, Score: 88\n",
      "Name: La Table d'Asten, Score: 81\n",
      "Name: La Table d'Auzeville, Score: 78\n",
      "\n",
      "Potential matches in 2024 data:\n",
      "Name: La Table du Castellet, Score: 100\n",
      "Name: La Table, Score: 100\n",
      "Name: La Table du 11, Score: 88\n",
      "Name: La Table d'Asten, Score: 81\n",
      "Name: La Table du Square, Score: 76\n"
     ]
    }
   ],
   "source": [
    "# Use the function to find matches in france_23\n",
    "matches_in_23 = find_potential_matches(search_name, france_23, threshold)\n",
    "\n",
    "# Use the function to find matches in france_24\n",
    "matches_in_24 = find_potential_matches(search_name, france_24, threshold)\n",
    "\n",
    "# Display the results\n",
    "print(\"Potential matches in 2023 data:\")\n",
    "for match in matches_in_23:\n",
    "    print(f\"Name: {match[0]}, Score: {match[1]}\")\n",
    "\n",
    "print(\"\\nPotential matches in 2024 data:\")\n",
    "for match in matches_in_24:\n",
    "    print(f\"Name: {match[0]}, Score: {match[1]}\")"
   ],
   "metadata": {
    "collapsed": false,
    "ExecuteTime": {
     "end_time": "2024-04-26T10:57:25.433765Z",
     "start_time": "2024-04-26T10:57:25.398615Z"
    }
   },
   "id": "acb4bed65931f2fc"
  }
 ],
 "metadata": {
  "kernelspec": {
   "display_name": "Python 3",
   "language": "python",
   "name": "python3"
  },
  "language_info": {
   "codemirror_mode": {
    "name": "ipython",
    "version": 2
   },
   "file_extension": ".py",
   "mimetype": "text/x-python",
   "name": "python",
   "nbconvert_exporter": "python",
   "pygments_lexer": "ipython2",
   "version": "2.7.6"
  }
 },
 "nbformat": 4,
 "nbformat_minor": 5
}
