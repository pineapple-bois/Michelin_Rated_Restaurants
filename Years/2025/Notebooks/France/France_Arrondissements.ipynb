{
 "cells": [
  {
   "cell_type": "markdown",
   "source": [
    "# Michelin Restaurants in France - *Arrondissements*"
   ],
   "metadata": {
    "collapsed": false
   }
  },
  {
   "cell_type": "code",
   "metadata": {
    "collapsed": true,
    "ExecuteTime": {
     "end_time": "2025-04-01T16:13:55.185520Z",
     "start_time": "2025-04-01T16:13:54.700055Z"
    }
   },
   "source": [
    "import pandas as pd\n",
    "import geopandas as gpd\n",
    "from shapely.geometry import Point\n",
    "import matplotlib.pyplot as plt"
   ],
   "outputs": [],
   "execution_count": 1
  },
  {
   "cell_type": "markdown",
   "source": [
    "Importing restaurant data"
   ],
   "metadata": {
    "collapsed": false
   }
  },
  {
   "cell_type": "code",
   "source": [
    "france_data = pd.read_csv(\"../../data/France/all_restaurants.csv\")\n",
    "france_data.head()"
   ],
   "metadata": {
    "collapsed": false,
    "ExecuteTime": {
     "end_time": "2025-04-01T16:14:18.066598Z",
     "start_time": "2025-04-01T16:14:18.038795Z"
    }
   },
   "outputs": [
    {
     "data": {
      "text/plain": [
       "             name                                       address  \\\n",
       "0     L'Ambroisie                            9 place des Vosges   \n",
       "1  Flocons de Sel               1775 route du Leutaz, Le Leutaz   \n",
       "2         Épicure  Le Bristol, 112 rue du Faubourg-Saint-Honoré   \n",
       "3          Arpège                             84 rue de Varenne   \n",
       "4  Le Pré Catelan          Route de Suresnes - bois de Boulogne   \n",
       "\n",
       "        location department_num    department capital                region  \\\n",
       "0   Paris, 75004             75         Paris   Paris         Île-de-France   \n",
       "1  Megève, 74120             74  Haute-Savoie  Annecy  Auvergne-Rhône-Alpes   \n",
       "2   Paris, 75008             75         Paris   Paris         Île-de-France   \n",
       "3   Paris, 75007             75         Paris   Paris         Île-de-France   \n",
       "4   Paris, 75016             75         Paris   Paris         Île-de-France   \n",
       "\n",
       "  price                 cuisine  \\\n",
       "0  €€€€         Classic Cuisine   \n",
       "1  €€€€          Modern Cuisine   \n",
       "2  €€€€          Modern Cuisine   \n",
       "3  €€€€                Creative   \n",
       "4  €€€€  Creative, Contemporary   \n",
       "\n",
       "                                                 url    award  stars  \\\n",
       "0                   https://www.ambroisie-paris.com/  3 Stars    3.0   \n",
       "1                       https://www.floconsdesel.com  3 Stars    3.0   \n",
       "2  https://www.oetkercollection.com/fr/hotels/le-...  3 Stars    3.0   \n",
       "3                     https://www.alain-passard.com/  3 Stars    3.0   \n",
       "4                      https://www.leprecatelan.com/  3 Stars    3.0   \n",
       "\n",
       "   greenstar  longitude   latitude  \n",
       "0          0   2.364521  48.855494  \n",
       "1          0   6.596963  45.830240  \n",
       "2          0   2.314598  48.871722  \n",
       "3          1   2.317013  48.855754  \n",
       "4          0   2.250718  48.863937  "
      ],
      "text/html": [
       "<div>\n",
       "<style scoped>\n",
       "    .dataframe tbody tr th:only-of-type {\n",
       "        vertical-align: middle;\n",
       "    }\n",
       "\n",
       "    .dataframe tbody tr th {\n",
       "        vertical-align: top;\n",
       "    }\n",
       "\n",
       "    .dataframe thead th {\n",
       "        text-align: right;\n",
       "    }\n",
       "</style>\n",
       "<table border=\"1\" class=\"dataframe\">\n",
       "  <thead>\n",
       "    <tr style=\"text-align: right;\">\n",
       "      <th></th>\n",
       "      <th>name</th>\n",
       "      <th>address</th>\n",
       "      <th>location</th>\n",
       "      <th>department_num</th>\n",
       "      <th>department</th>\n",
       "      <th>capital</th>\n",
       "      <th>region</th>\n",
       "      <th>price</th>\n",
       "      <th>cuisine</th>\n",
       "      <th>url</th>\n",
       "      <th>award</th>\n",
       "      <th>stars</th>\n",
       "      <th>greenstar</th>\n",
       "      <th>longitude</th>\n",
       "      <th>latitude</th>\n",
       "    </tr>\n",
       "  </thead>\n",
       "  <tbody>\n",
       "    <tr>\n",
       "      <th>0</th>\n",
       "      <td>L'Ambroisie</td>\n",
       "      <td>9 place des Vosges</td>\n",
       "      <td>Paris, 75004</td>\n",
       "      <td>75</td>\n",
       "      <td>Paris</td>\n",
       "      <td>Paris</td>\n",
       "      <td>Île-de-France</td>\n",
       "      <td>€€€€</td>\n",
       "      <td>Classic Cuisine</td>\n",
       "      <td>https://www.ambroisie-paris.com/</td>\n",
       "      <td>3 Stars</td>\n",
       "      <td>3.0</td>\n",
       "      <td>0</td>\n",
       "      <td>2.364521</td>\n",
       "      <td>48.855494</td>\n",
       "    </tr>\n",
       "    <tr>\n",
       "      <th>1</th>\n",
       "      <td>Flocons de Sel</td>\n",
       "      <td>1775 route du Leutaz, Le Leutaz</td>\n",
       "      <td>Megève, 74120</td>\n",
       "      <td>74</td>\n",
       "      <td>Haute-Savoie</td>\n",
       "      <td>Annecy</td>\n",
       "      <td>Auvergne-Rhône-Alpes</td>\n",
       "      <td>€€€€</td>\n",
       "      <td>Modern Cuisine</td>\n",
       "      <td>https://www.floconsdesel.com</td>\n",
       "      <td>3 Stars</td>\n",
       "      <td>3.0</td>\n",
       "      <td>0</td>\n",
       "      <td>6.596963</td>\n",
       "      <td>45.830240</td>\n",
       "    </tr>\n",
       "    <tr>\n",
       "      <th>2</th>\n",
       "      <td>Épicure</td>\n",
       "      <td>Le Bristol, 112 rue du Faubourg-Saint-Honoré</td>\n",
       "      <td>Paris, 75008</td>\n",
       "      <td>75</td>\n",
       "      <td>Paris</td>\n",
       "      <td>Paris</td>\n",
       "      <td>Île-de-France</td>\n",
       "      <td>€€€€</td>\n",
       "      <td>Modern Cuisine</td>\n",
       "      <td>https://www.oetkercollection.com/fr/hotels/le-...</td>\n",
       "      <td>3 Stars</td>\n",
       "      <td>3.0</td>\n",
       "      <td>0</td>\n",
       "      <td>2.314598</td>\n",
       "      <td>48.871722</td>\n",
       "    </tr>\n",
       "    <tr>\n",
       "      <th>3</th>\n",
       "      <td>Arpège</td>\n",
       "      <td>84 rue de Varenne</td>\n",
       "      <td>Paris, 75007</td>\n",
       "      <td>75</td>\n",
       "      <td>Paris</td>\n",
       "      <td>Paris</td>\n",
       "      <td>Île-de-France</td>\n",
       "      <td>€€€€</td>\n",
       "      <td>Creative</td>\n",
       "      <td>https://www.alain-passard.com/</td>\n",
       "      <td>3 Stars</td>\n",
       "      <td>3.0</td>\n",
       "      <td>1</td>\n",
       "      <td>2.317013</td>\n",
       "      <td>48.855754</td>\n",
       "    </tr>\n",
       "    <tr>\n",
       "      <th>4</th>\n",
       "      <td>Le Pré Catelan</td>\n",
       "      <td>Route de Suresnes - bois de Boulogne</td>\n",
       "      <td>Paris, 75016</td>\n",
       "      <td>75</td>\n",
       "      <td>Paris</td>\n",
       "      <td>Paris</td>\n",
       "      <td>Île-de-France</td>\n",
       "      <td>€€€€</td>\n",
       "      <td>Creative, Contemporary</td>\n",
       "      <td>https://www.leprecatelan.com/</td>\n",
       "      <td>3 Stars</td>\n",
       "      <td>3.0</td>\n",
       "      <td>0</td>\n",
       "      <td>2.250718</td>\n",
       "      <td>48.863937</td>\n",
       "    </tr>\n",
       "  </tbody>\n",
       "</table>\n",
       "</div>"
      ]
     },
     "execution_count": 2,
     "metadata": {},
     "output_type": "execute_result"
    }
   ],
   "execution_count": 2
  },
  {
   "cell_type": "code",
   "source": [
    "print(france_data.columns.tolist())"
   ],
   "metadata": {
    "collapsed": false,
    "ExecuteTime": {
     "end_time": "2025-04-01T16:14:34.052832Z",
     "start_time": "2025-04-01T16:14:34.049774Z"
    }
   },
   "outputs": [
    {
     "name": "stdout",
     "output_type": "stream",
     "text": [
      "['name', 'address', 'location', 'department_num', 'department', 'capital', 'region', 'price', 'cuisine', 'url', 'award', 'stars', 'greenstar', 'longitude', 'latitude']\n"
     ]
    }
   ],
   "execution_count": 3
  },
  {
   "cell_type": "markdown",
   "source": [
    "----\n",
    "&nbsp;\n",
    "Demographics data from [INSEE](https://statistiques-locales.insee.fr/#c=indicator&view=map5)"
   ],
   "metadata": {
    "collapsed": false
   }
  },
  {
   "cell_type": "code",
   "source": [
    "stats_locale = pd.read_csv(\"../../../../ExtraData/Demographics/arrondissements_data_2023.csv\", sep=';', header=None)\n",
    "# Use the third row as column headers\n",
    "stats_locale.columns = stats_locale.iloc[2]\n",
    "# Drop the metadata rows\n",
    "stats_locale = stats_locale.drop([0, 1, 2]).reset_index(drop=True)\n",
    "print(stats_locale.columns.tolist())"
   ],
   "metadata": {
    "collapsed": false,
    "ExecuteTime": {
     "end_time": "2025-04-01T16:14:38.683804Z",
     "start_time": "2025-04-01T16:14:38.677172Z"
    }
   },
   "outputs": [
    {
     "name": "stdout",
     "output_type": "stream",
     "text": [
      "['Code', 'Libellé', 'Nb de pers. non scolarisées de 15 ans ou + 2021', 'Salaire net horaire moyen 2022', 'Population municipale 2022', 'Densité de population (historique depuis 1876) 2021', 'Taux de pauvreté 2021']\n"
     ]
    }
   ],
   "execution_count": 4
  },
  {
   "cell_type": "code",
   "source": [
    "stats_locale = stats_locale.rename(columns={\n",
    "    'Code': 'code',\n",
    "    'Libellé': 'arrondissement',\n",
    "    'Taux de pauvreté 2021': 'poverty_rate(%)',\n",
    "    'Salaire net horaire moyen 2022': 'average_net_hourly_wage(€)',\n",
    "    'Population municipale 2022': 'municipal_population',\n",
    "    'Densité de population (historique depuis 1876) 2021': 'population_density(inhabitants/sq_km)',\n",
    "})\n",
    "stats_locale = stats_locale[['code', 'arrondissement', 'municipal_population', 'population_density(inhabitants/sq_km)',\n",
    "                             'poverty_rate(%)', 'average_net_hourly_wage(€)']]\n",
    "stats_locale.head()"
   ],
   "metadata": {
    "collapsed": false,
    "ExecuteTime": {
     "end_time": "2025-04-01T16:14:44.751854Z",
     "start_time": "2025-04-01T16:14:44.744515Z"
    }
   },
   "outputs": [
    {
     "data": {
      "text/plain": [
       "2 code   arrondissement municipal_population  \\\n",
       "0  011           Belley               126468   \n",
       "1  012  Bourg-en-Bresse               345948   \n",
       "2  013              Gex               104770   \n",
       "3  014           Nantua                94103   \n",
       "4  021  Château-Thierry                69416   \n",
       "\n",
       "2 population_density(inhabitants/sq_km) poverty_rate(%)  \\\n",
       "0                                  78.8            10.1   \n",
       "1                                 119.2             9.1   \n",
       "2                                   252            12.4   \n",
       "3                                 104.3            16.3   \n",
       "4                                  62.6            14.6   \n",
       "\n",
       "2 average_net_hourly_wage(€)  \n",
       "0                      15.98  \n",
       "1                      16.31  \n",
       "2                      15.82  \n",
       "3                      14.61  \n",
       "4                      14.95  "
      ],
      "text/html": [
       "<div>\n",
       "<style scoped>\n",
       "    .dataframe tbody tr th:only-of-type {\n",
       "        vertical-align: middle;\n",
       "    }\n",
       "\n",
       "    .dataframe tbody tr th {\n",
       "        vertical-align: top;\n",
       "    }\n",
       "\n",
       "    .dataframe thead th {\n",
       "        text-align: right;\n",
       "    }\n",
       "</style>\n",
       "<table border=\"1\" class=\"dataframe\">\n",
       "  <thead>\n",
       "    <tr style=\"text-align: right;\">\n",
       "      <th>2</th>\n",
       "      <th>code</th>\n",
       "      <th>arrondissement</th>\n",
       "      <th>municipal_population</th>\n",
       "      <th>population_density(inhabitants/sq_km)</th>\n",
       "      <th>poverty_rate(%)</th>\n",
       "      <th>average_net_hourly_wage(€)</th>\n",
       "    </tr>\n",
       "  </thead>\n",
       "  <tbody>\n",
       "    <tr>\n",
       "      <th>0</th>\n",
       "      <td>011</td>\n",
       "      <td>Belley</td>\n",
       "      <td>126468</td>\n",
       "      <td>78.8</td>\n",
       "      <td>10.1</td>\n",
       "      <td>15.98</td>\n",
       "    </tr>\n",
       "    <tr>\n",
       "      <th>1</th>\n",
       "      <td>012</td>\n",
       "      <td>Bourg-en-Bresse</td>\n",
       "      <td>345948</td>\n",
       "      <td>119.2</td>\n",
       "      <td>9.1</td>\n",
       "      <td>16.31</td>\n",
       "    </tr>\n",
       "    <tr>\n",
       "      <th>2</th>\n",
       "      <td>013</td>\n",
       "      <td>Gex</td>\n",
       "      <td>104770</td>\n",
       "      <td>252</td>\n",
       "      <td>12.4</td>\n",
       "      <td>15.82</td>\n",
       "    </tr>\n",
       "    <tr>\n",
       "      <th>3</th>\n",
       "      <td>014</td>\n",
       "      <td>Nantua</td>\n",
       "      <td>94103</td>\n",
       "      <td>104.3</td>\n",
       "      <td>16.3</td>\n",
       "      <td>14.61</td>\n",
       "    </tr>\n",
       "    <tr>\n",
       "      <th>4</th>\n",
       "      <td>021</td>\n",
       "      <td>Château-Thierry</td>\n",
       "      <td>69416</td>\n",
       "      <td>62.6</td>\n",
       "      <td>14.6</td>\n",
       "      <td>14.95</td>\n",
       "    </tr>\n",
       "  </tbody>\n",
       "</table>\n",
       "</div>"
      ]
     },
     "execution_count": 5,
     "metadata": {},
     "output_type": "execute_result"
    }
   ],
   "execution_count": 5
  },
  {
   "cell_type": "code",
   "source": [
    "print(stats_locale.columns.tolist())"
   ],
   "metadata": {
    "collapsed": false,
    "ExecuteTime": {
     "end_time": "2025-04-01T16:14:54.219621Z",
     "start_time": "2025-04-01T16:14:54.216037Z"
    }
   },
   "outputs": [
    {
     "name": "stdout",
     "output_type": "stream",
     "text": [
      "['code', 'arrondissement', 'municipal_population', 'population_density(inhabitants/sq_km)', 'poverty_rate(%)', 'average_net_hourly_wage(€)']\n"
     ]
    }
   ],
   "execution_count": 6
  },
  {
   "cell_type": "markdown",
   "source": [
    "Loading in [GeoJSON data](https://github.com/gregoiredavid/france-geojson/blob/master/arrondissements-avec-outre-mer.geojson)"
   ],
   "metadata": {
    "collapsed": false
   }
  },
  {
   "cell_type": "code",
   "source": [
    "# Load the GeoJSON file\n",
    "geoJSON_df = gpd.read_file('../../../../ExtraData/Geodata/arrondissements-avec-outre-mer.geojson')\n",
    "geoJSON_df.head()"
   ],
   "metadata": {
    "collapsed": false,
    "ExecuteTime": {
     "end_time": "2025-04-01T16:15:00.058789Z",
     "start_time": "2025-04-01T16:14:59.832535Z"
    }
   },
   "outputs": [
    {
     "data": {
      "text/plain": [
       "    code              nom                                           geometry\n",
       "0  01001           Belley  POLYGON ((5.12174 45.81118, 5.12665 45.81392, ...\n",
       "1  01002  Bourg-en-Bresse  POLYGON ((4.98022 46.5152, 4.98355 46.51539, 4...\n",
       "2  01003              Gex  POLYGON ((6.06401 46.41623, 6.0673 46.41494, 6...\n",
       "3  01004           Nantua  POLYGON ((5.63746 46.33644, 5.64007 46.33884, ...\n",
       "4  02001  Château-Thierry  POLYGON ((3.07188 49.11755, 3.07224 49.11832, ..."
      ],
      "text/html": [
       "<div>\n",
       "<style scoped>\n",
       "    .dataframe tbody tr th:only-of-type {\n",
       "        vertical-align: middle;\n",
       "    }\n",
       "\n",
       "    .dataframe tbody tr th {\n",
       "        vertical-align: top;\n",
       "    }\n",
       "\n",
       "    .dataframe thead th {\n",
       "        text-align: right;\n",
       "    }\n",
       "</style>\n",
       "<table border=\"1\" class=\"dataframe\">\n",
       "  <thead>\n",
       "    <tr style=\"text-align: right;\">\n",
       "      <th></th>\n",
       "      <th>code</th>\n",
       "      <th>nom</th>\n",
       "      <th>geometry</th>\n",
       "    </tr>\n",
       "  </thead>\n",
       "  <tbody>\n",
       "    <tr>\n",
       "      <th>0</th>\n",
       "      <td>01001</td>\n",
       "      <td>Belley</td>\n",
       "      <td>POLYGON ((5.12174 45.81118, 5.12665 45.81392, ...</td>\n",
       "    </tr>\n",
       "    <tr>\n",
       "      <th>1</th>\n",
       "      <td>01002</td>\n",
       "      <td>Bourg-en-Bresse</td>\n",
       "      <td>POLYGON ((4.98022 46.5152, 4.98355 46.51539, 4...</td>\n",
       "    </tr>\n",
       "    <tr>\n",
       "      <th>2</th>\n",
       "      <td>01003</td>\n",
       "      <td>Gex</td>\n",
       "      <td>POLYGON ((6.06401 46.41623, 6.0673 46.41494, 6...</td>\n",
       "    </tr>\n",
       "    <tr>\n",
       "      <th>3</th>\n",
       "      <td>01004</td>\n",
       "      <td>Nantua</td>\n",
       "      <td>POLYGON ((5.63746 46.33644, 5.64007 46.33884, ...</td>\n",
       "    </tr>\n",
       "    <tr>\n",
       "      <th>4</th>\n",
       "      <td>02001</td>\n",
       "      <td>Château-Thierry</td>\n",
       "      <td>POLYGON ((3.07188 49.11755, 3.07224 49.11832, ...</td>\n",
       "    </tr>\n",
       "  </tbody>\n",
       "</table>\n",
       "</div>"
      ]
     },
     "execution_count": 7,
     "metadata": {},
     "output_type": "execute_result"
    }
   ],
   "execution_count": 7
  },
  {
   "cell_type": "code",
   "source": "print(geoJSON_df.columns.tolist())",
   "metadata": {
    "collapsed": false,
    "ExecuteTime": {
     "end_time": "2025-04-01T16:15:03.116232Z",
     "start_time": "2025-04-01T16:15:03.112952Z"
    }
   },
   "outputs": [
    {
     "name": "stdout",
     "output_type": "stream",
     "text": [
      "['code', 'nom', 'geometry']\n"
     ]
    }
   ],
   "execution_count": 8
  },
  {
   "cell_type": "markdown",
   "source": [
    "----\n",
    "&nbsp;\n",
    "### Removing *outre-mers*"
   ],
   "metadata": {
    "collapsed": false
   }
  },
  {
   "cell_type": "code",
   "source": [
    "# We leverage the format of the first two digits of the 'code' column\n",
    "# where 01 - 95 represents mainland france\n",
    "geoJSON_df = geoJSON_df.sort_values(by='code')\n",
    "geoJSON_df = geoJSON_df[~geoJSON_df['code'].str.startswith('97')]\n",
    "geoJSON_df = geoJSON_df.reset_index(drop=True)\n",
    "geoJSON_df.shape"
   ],
   "metadata": {
    "collapsed": false,
    "ExecuteTime": {
     "end_time": "2025-04-01T16:15:07.145151Z",
     "start_time": "2025-04-01T16:15:07.139526Z"
    }
   },
   "outputs": [
    {
     "data": {
      "text/plain": [
       "(320, 3)"
      ]
     },
     "execution_count": 9,
     "metadata": {},
     "output_type": "execute_result"
    }
   ],
   "execution_count": 9
  },
  {
   "cell_type": "code",
   "source": [
    "# We again remove '97' leveraging a pattern\n",
    "stats_locale = stats_locale.sort_values(by='code')\n",
    "stats_locale = stats_locale[~stats_locale['code'].str.startswith('97')]\n",
    "stats_locale = stats_locale.reset_index(drop=True)\n",
    "stats_locale.shape"
   ],
   "metadata": {
    "collapsed": false,
    "ExecuteTime": {
     "end_time": "2025-04-01T16:15:12.329469Z",
     "start_time": "2025-04-01T16:15:12.324474Z"
    }
   },
   "outputs": [
    {
     "data": {
      "text/plain": [
       "(320, 6)"
      ]
     },
     "execution_count": 10,
     "metadata": {},
     "output_type": "execute_result"
    }
   ],
   "execution_count": 10
  },
  {
   "cell_type": "markdown",
   "source": [
    "It's good news the dataframes have the same length"
   ],
   "metadata": {
    "collapsed": false
   }
  },
  {
   "cell_type": "markdown",
   "source": [
    "----\n",
    "&nbsp;\n",
    "### Looking for discrepancies in the `nom`, `arrondissement` columns"
   ],
   "metadata": {
    "collapsed": false
   }
  },
  {
   "cell_type": "code",
   "source": [
    "set1 = set(stats_locale['arrondissement'].unique())\n",
    "set2 = set(geoJSON_df['nom'].unique())\n",
    "print(f\"Sets equal? {set1 == set2}\")"
   ],
   "metadata": {
    "collapsed": false,
    "ExecuteTime": {
     "end_time": "2025-04-01T16:15:18.314004Z",
     "start_time": "2025-04-01T16:15:18.308632Z"
    }
   },
   "outputs": [
    {
     "name": "stdout",
     "output_type": "stream",
     "text": [
      "Sets equal? False\n"
     ]
    }
   ],
   "execution_count": 11
  },
  {
   "cell_type": "code",
   "source": [
    "print(\"In set1 but not in set2: \", set1 - set2)\n",
    "print(\"\\nIn set2 but not in set1: \", set2 - set1)"
   ],
   "metadata": {
    "collapsed": false,
    "ExecuteTime": {
     "end_time": "2025-04-01T16:15:20.722350Z",
     "start_time": "2025-04-01T16:15:20.719653Z"
    }
   },
   "outputs": [
    {
     "name": "stdout",
     "output_type": "stream",
     "text": [
      "In set1 but not in set2:  {'La Roche-sur-Yon', 'La Châtre', 'Le Mans', 'Le Puy-en-Velay', 'La Rochelle', 'Le Blanc', 'La Flèche', 'Le Raincy', \"L'Haÿ-les-Roses\", \"Les Sables-d'Olonne\", 'Le Havre', 'Val-de-Briey', 'Le Vigan', 'Les Andelys', 'La Tour-du-Pin'}\n",
      "\n",
      "In set2 but not in set1:  {'Rochelle', 'Mans', 'Briey', 'Châtre', 'Vigan', 'Tour-du-Pin', 'Blanc', 'Roche-sur-Yon', 'Flèche', 'Haÿ-les-Roses', 'Andelys', \"Sables-d'Olonne\", 'Havre', 'Raincy', 'Puy-en-Velay'}\n"
     ]
    }
   ],
   "execution_count": 12
  },
  {
   "cell_type": "markdown",
   "source": "We will add articles to the GeoDataFrame by creating a reverse mapping dictionary.",
   "metadata": {
    "collapsed": false
   }
  },
  {
   "cell_type": "code",
   "source": [
    "def clean_name(name):\n",
    "    for prefix in ['Le ', 'La ', 'Les ', \"L'\"]:\n",
    "        if name.startswith(prefix):\n",
    "            name = name[len(prefix):]\n",
    "    return name.strip()\n",
    "\n",
    "def match_articleless_to_full(articleless_set, full_set):\n",
    "    \"\"\"\n",
    "    Returns a mapping from articleless names (e.g. 'Mans') to full names (e.g. 'Le Mans')\n",
    "    \"\"\"\n",
    "    # Build a reverse map: cleaned name → full name with article\n",
    "    cleaned_to_full = {clean_name(name): name for name in full_set}\n",
    "\n",
    "    # Match articleless name to full name via cleaned lookup\n",
    "    mapping = {}\n",
    "    for name in articleless_set:\n",
    "        full_name = cleaned_to_full.get(name)\n",
    "        if full_name:\n",
    "            mapping[name] = full_name\n",
    "\n",
    "    return mapping"
   ],
   "metadata": {
    "collapsed": false,
    "ExecuteTime": {
     "end_time": "2025-04-01T16:16:04.455052Z",
     "start_time": "2025-04-01T16:16:04.451770Z"
    }
   },
   "outputs": [],
   "execution_count": 13
  },
  {
   "cell_type": "code",
   "source": [
    "# set1_clean = set(map(clean_name, stats_locale['arrondissement'].unique()))\n",
    "# set2_clean = set(map(clean_name, geoJSON_df['nom'].unique()))\n",
    "\n",
    "reversed_map = match_articleless_to_full(set2, set1)\n",
    "\n",
    "# Update 'stats_locale' with the new names\n",
    "# stats_locale['arrondissement'] = stats_locale['arrondissement'].apply(reversed_map)\n",
    "geoJSON_df['nom'] = geoJSON_df['nom'].map(\n",
    "    lambda x: reversed_map.get(clean_name(x), x)\n",
    ")"
   ],
   "metadata": {
    "collapsed": false,
    "ExecuteTime": {
     "end_time": "2025-04-01T16:16:09.126576Z",
     "start_time": "2025-04-01T16:16:09.122346Z"
    }
   },
   "outputs": [],
   "execution_count": 14
  },
  {
   "cell_type": "code",
   "source": [
    "set1 = set(stats_locale['arrondissement'].unique())   # Full names\n",
    "set2 = set(geoJSON_df['nom'].unique())\n",
    "# Check for discrepancies again\n",
    "print(\"In set1 but not in set2: \", set1 - set2)\n",
    "print(\"\\nIn set2 but not in set1: \", set2 - set1)"
   ],
   "metadata": {
    "collapsed": false,
    "ExecuteTime": {
     "end_time": "2025-04-01T16:16:12.695403Z",
     "start_time": "2025-04-01T16:16:12.691002Z"
    }
   },
   "outputs": [
    {
     "name": "stdout",
     "output_type": "stream",
     "text": [
      "In set1 but not in set2:  {'Val-de-Briey'}\n",
      "\n",
      "In set2 but not in set1:  {'Briey'}\n"
     ]
    }
   ],
   "execution_count": 15
  },
  {
   "cell_type": "code",
   "source": [
    "# Correct the discrepancy manually\n",
    "if 'Val-de-Briey' in set1 and 'Briey' in set2:\n",
    "    geoJSON_df['nom'] = geoJSON_df['nom'].replace('Briey', 'Val-de-Briey')"
   ],
   "metadata": {
    "collapsed": false,
    "ExecuteTime": {
     "end_time": "2025-04-01T16:16:19.693936Z",
     "start_time": "2025-04-01T16:16:19.690642Z"
    }
   },
   "outputs": [],
   "execution_count": 16
  },
  {
   "metadata": {
    "ExecuteTime": {
     "end_time": "2025-04-01T16:16:24.376131Z",
     "start_time": "2025-04-01T16:16:24.372367Z"
    }
   },
   "cell_type": "code",
   "source": [
    "article_mask = stats_locale['arrondissement'].str.startswith(('Le ', 'La ', 'Les ', \"L'\"))\n",
    "print(\"Rows with definite articles:\", article_mask.sum())\n",
    "print(\"Total rows:\", len(stats_locale))"
   ],
   "outputs": [
    {
     "name": "stdout",
     "output_type": "stream",
     "text": [
      "Rows with definite articles: 14\n",
      "Total rows: 320\n"
     ]
    }
   ],
   "execution_count": 17
  },
  {
   "metadata": {
    "ExecuteTime": {
     "end_time": "2025-04-01T16:16:27.129758Z",
     "start_time": "2025-04-01T16:16:27.126303Z"
    }
   },
   "cell_type": "code",
   "source": [
    "article_mask = geoJSON_df['nom'].str.startswith(('Le ', 'La ', 'Les ', \"L'\"))\n",
    "print(\"Rows with definite articles:\", article_mask.sum())\n",
    "print(\"Total rows:\", len(geoJSON_df))"
   ],
   "outputs": [
    {
     "name": "stdout",
     "output_type": "stream",
     "text": [
      "Rows with definite articles: 14\n",
      "Total rows: 320\n"
     ]
    }
   ],
   "execution_count": 18
  },
  {
   "cell_type": "markdown",
   "source": [
    "----\n",
    "&nbsp;\n",
    "### Mapping individual restaurants to *arrondissements* based on (latitude, longitude) Geospatial data"
   ],
   "metadata": {
    "collapsed": false
   }
  },
  {
   "cell_type": "code",
   "source": [
    "# Convert france_data to GeoDataFrame\n",
    "geometry = [Point(xy) for xy in zip(france_data.longitude, france_data.latitude)]\n",
    "france_geo = gpd.GeoDataFrame(france_data, geometry=geometry)"
   ],
   "metadata": {
    "collapsed": false,
    "ExecuteTime": {
     "end_time": "2025-04-01T16:16:51.743304Z",
     "start_time": "2025-04-01T16:16:51.723026Z"
    }
   },
   "outputs": [],
   "execution_count": 19
  },
  {
   "cell_type": "code",
   "source": [
    "france_geo.head()"
   ],
   "metadata": {
    "collapsed": false,
    "ExecuteTime": {
     "end_time": "2025-04-01T16:16:54.052652Z",
     "start_time": "2025-04-01T16:16:54.043840Z"
    }
   },
   "outputs": [
    {
     "data": {
      "text/plain": [
       "             name                                       address  \\\n",
       "0     L'Ambroisie                            9 place des Vosges   \n",
       "1  Flocons de Sel               1775 route du Leutaz, Le Leutaz   \n",
       "2         Épicure  Le Bristol, 112 rue du Faubourg-Saint-Honoré   \n",
       "3          Arpège                             84 rue de Varenne   \n",
       "4  Le Pré Catelan          Route de Suresnes - bois de Boulogne   \n",
       "\n",
       "        location department_num    department capital                region  \\\n",
       "0   Paris, 75004             75         Paris   Paris         Île-de-France   \n",
       "1  Megève, 74120             74  Haute-Savoie  Annecy  Auvergne-Rhône-Alpes   \n",
       "2   Paris, 75008             75         Paris   Paris         Île-de-France   \n",
       "3   Paris, 75007             75         Paris   Paris         Île-de-France   \n",
       "4   Paris, 75016             75         Paris   Paris         Île-de-France   \n",
       "\n",
       "  price                 cuisine  \\\n",
       "0  €€€€         Classic Cuisine   \n",
       "1  €€€€          Modern Cuisine   \n",
       "2  €€€€          Modern Cuisine   \n",
       "3  €€€€                Creative   \n",
       "4  €€€€  Creative, Contemporary   \n",
       "\n",
       "                                                 url    award  stars  \\\n",
       "0                   https://www.ambroisie-paris.com/  3 Stars    3.0   \n",
       "1                       https://www.floconsdesel.com  3 Stars    3.0   \n",
       "2  https://www.oetkercollection.com/fr/hotels/le-...  3 Stars    3.0   \n",
       "3                     https://www.alain-passard.com/  3 Stars    3.0   \n",
       "4                      https://www.leprecatelan.com/  3 Stars    3.0   \n",
       "\n",
       "   greenstar  longitude   latitude                  geometry  \n",
       "0          0   2.364521  48.855494  POINT (2.36452 48.85549)  \n",
       "1          0   6.596963  45.830240  POINT (6.59696 45.83024)  \n",
       "2          0   2.314598  48.871722   POINT (2.3146 48.87172)  \n",
       "3          1   2.317013  48.855754  POINT (2.31701 48.85575)  \n",
       "4          0   2.250718  48.863937  POINT (2.25072 48.86394)  "
      ],
      "text/html": [
       "<div>\n",
       "<style scoped>\n",
       "    .dataframe tbody tr th:only-of-type {\n",
       "        vertical-align: middle;\n",
       "    }\n",
       "\n",
       "    .dataframe tbody tr th {\n",
       "        vertical-align: top;\n",
       "    }\n",
       "\n",
       "    .dataframe thead th {\n",
       "        text-align: right;\n",
       "    }\n",
       "</style>\n",
       "<table border=\"1\" class=\"dataframe\">\n",
       "  <thead>\n",
       "    <tr style=\"text-align: right;\">\n",
       "      <th></th>\n",
       "      <th>name</th>\n",
       "      <th>address</th>\n",
       "      <th>location</th>\n",
       "      <th>department_num</th>\n",
       "      <th>department</th>\n",
       "      <th>capital</th>\n",
       "      <th>region</th>\n",
       "      <th>price</th>\n",
       "      <th>cuisine</th>\n",
       "      <th>url</th>\n",
       "      <th>award</th>\n",
       "      <th>stars</th>\n",
       "      <th>greenstar</th>\n",
       "      <th>longitude</th>\n",
       "      <th>latitude</th>\n",
       "      <th>geometry</th>\n",
       "    </tr>\n",
       "  </thead>\n",
       "  <tbody>\n",
       "    <tr>\n",
       "      <th>0</th>\n",
       "      <td>L'Ambroisie</td>\n",
       "      <td>9 place des Vosges</td>\n",
       "      <td>Paris, 75004</td>\n",
       "      <td>75</td>\n",
       "      <td>Paris</td>\n",
       "      <td>Paris</td>\n",
       "      <td>Île-de-France</td>\n",
       "      <td>€€€€</td>\n",
       "      <td>Classic Cuisine</td>\n",
       "      <td>https://www.ambroisie-paris.com/</td>\n",
       "      <td>3 Stars</td>\n",
       "      <td>3.0</td>\n",
       "      <td>0</td>\n",
       "      <td>2.364521</td>\n",
       "      <td>48.855494</td>\n",
       "      <td>POINT (2.36452 48.85549)</td>\n",
       "    </tr>\n",
       "    <tr>\n",
       "      <th>1</th>\n",
       "      <td>Flocons de Sel</td>\n",
       "      <td>1775 route du Leutaz, Le Leutaz</td>\n",
       "      <td>Megève, 74120</td>\n",
       "      <td>74</td>\n",
       "      <td>Haute-Savoie</td>\n",
       "      <td>Annecy</td>\n",
       "      <td>Auvergne-Rhône-Alpes</td>\n",
       "      <td>€€€€</td>\n",
       "      <td>Modern Cuisine</td>\n",
       "      <td>https://www.floconsdesel.com</td>\n",
       "      <td>3 Stars</td>\n",
       "      <td>3.0</td>\n",
       "      <td>0</td>\n",
       "      <td>6.596963</td>\n",
       "      <td>45.830240</td>\n",
       "      <td>POINT (6.59696 45.83024)</td>\n",
       "    </tr>\n",
       "    <tr>\n",
       "      <th>2</th>\n",
       "      <td>Épicure</td>\n",
       "      <td>Le Bristol, 112 rue du Faubourg-Saint-Honoré</td>\n",
       "      <td>Paris, 75008</td>\n",
       "      <td>75</td>\n",
       "      <td>Paris</td>\n",
       "      <td>Paris</td>\n",
       "      <td>Île-de-France</td>\n",
       "      <td>€€€€</td>\n",
       "      <td>Modern Cuisine</td>\n",
       "      <td>https://www.oetkercollection.com/fr/hotels/le-...</td>\n",
       "      <td>3 Stars</td>\n",
       "      <td>3.0</td>\n",
       "      <td>0</td>\n",
       "      <td>2.314598</td>\n",
       "      <td>48.871722</td>\n",
       "      <td>POINT (2.3146 48.87172)</td>\n",
       "    </tr>\n",
       "    <tr>\n",
       "      <th>3</th>\n",
       "      <td>Arpège</td>\n",
       "      <td>84 rue de Varenne</td>\n",
       "      <td>Paris, 75007</td>\n",
       "      <td>75</td>\n",
       "      <td>Paris</td>\n",
       "      <td>Paris</td>\n",
       "      <td>Île-de-France</td>\n",
       "      <td>€€€€</td>\n",
       "      <td>Creative</td>\n",
       "      <td>https://www.alain-passard.com/</td>\n",
       "      <td>3 Stars</td>\n",
       "      <td>3.0</td>\n",
       "      <td>1</td>\n",
       "      <td>2.317013</td>\n",
       "      <td>48.855754</td>\n",
       "      <td>POINT (2.31701 48.85575)</td>\n",
       "    </tr>\n",
       "    <tr>\n",
       "      <th>4</th>\n",
       "      <td>Le Pré Catelan</td>\n",
       "      <td>Route de Suresnes - bois de Boulogne</td>\n",
       "      <td>Paris, 75016</td>\n",
       "      <td>75</td>\n",
       "      <td>Paris</td>\n",
       "      <td>Paris</td>\n",
       "      <td>Île-de-France</td>\n",
       "      <td>€€€€</td>\n",
       "      <td>Creative, Contemporary</td>\n",
       "      <td>https://www.leprecatelan.com/</td>\n",
       "      <td>3 Stars</td>\n",
       "      <td>3.0</td>\n",
       "      <td>0</td>\n",
       "      <td>2.250718</td>\n",
       "      <td>48.863937</td>\n",
       "      <td>POINT (2.25072 48.86394)</td>\n",
       "    </tr>\n",
       "  </tbody>\n",
       "</table>\n",
       "</div>"
      ]
     },
     "execution_count": 20,
     "metadata": {},
     "output_type": "execute_result"
    }
   ],
   "execution_count": 20
  },
  {
   "cell_type": "code",
   "source": [
    "france_geo.crs = \"EPSG:4326\""
   ],
   "metadata": {
    "collapsed": false,
    "ExecuteTime": {
     "end_time": "2025-04-01T16:16:59.015543Z",
     "start_time": "2025-04-01T16:16:59.011997Z"
    }
   },
   "outputs": [],
   "execution_count": 21
  },
  {
   "cell_type": "code",
   "source": [
    "joined_data = gpd.sjoin(france_geo, geoJSON_df[['nom', 'geometry']], predicate='within', how='left')\n",
    "joined_data.rename(columns={'nom': 'arrondissement'}, inplace=True)"
   ],
   "metadata": {
    "collapsed": false,
    "ExecuteTime": {
     "end_time": "2025-04-01T16:17:01.637290Z",
     "start_time": "2025-04-01T16:17:01.609495Z"
    }
   },
   "outputs": [],
   "execution_count": 22
  },
  {
   "cell_type": "code",
   "source": [
    "# Convert the GeoDataFrame to a normal DataFrame\n",
    "france_df = pd.DataFrame(joined_data)\n",
    "\n",
    "# Drop the 'geometry' and 'index_right' columns\n",
    "france_df = france_df.drop(columns=['geometry', 'index_right'])\n",
    "print(france_df.columns.tolist())"
   ],
   "metadata": {
    "collapsed": false,
    "ExecuteTime": {
     "end_time": "2025-04-01T16:17:04.151070Z",
     "start_time": "2025-04-01T16:17:04.146606Z"
    }
   },
   "outputs": [
    {
     "name": "stdout",
     "output_type": "stream",
     "text": [
      "['name', 'address', 'location', 'department_num', 'department', 'capital', 'region', 'price', 'cuisine', 'url', 'award', 'stars', 'greenstar', 'longitude', 'latitude', 'arrondissement']\n"
     ]
    }
   ],
   "execution_count": 23
  },
  {
   "cell_type": "code",
   "source": [
    "new_order = ['name', 'address', 'location', 'arrondissement', 'department_num',\n",
    "             'department', 'capital', 'region', 'price', 'cuisine', 'url',\n",
    "             'award', 'stars', 'greenstar', 'longitude', 'latitude']\n",
    "france_df = france_df[new_order]\n",
    "france_df.head(10)"
   ],
   "metadata": {
    "collapsed": false,
    "ExecuteTime": {
     "end_time": "2025-04-01T16:17:06.654608Z",
     "start_time": "2025-04-01T16:17:06.643809Z"
    }
   },
   "outputs": [
    {
     "data": {
      "text/plain": [
       "                             name  \\\n",
       "0                     L'Ambroisie   \n",
       "1                  Flocons de Sel   \n",
       "2                         Épicure   \n",
       "3                          Arpège   \n",
       "4                  Le Pré Catelan   \n",
       "5                         Le Cinq   \n",
       "6                   Le Petit Nice   \n",
       "7                             Kei   \n",
       "8          L'Oustau de Baumanière   \n",
       "9  Plénitude - Cheval Blanc Paris   \n",
       "\n",
       "                                           address  \\\n",
       "0                               9 place des Vosges   \n",
       "1                  1775 route du Leutaz, Le Leutaz   \n",
       "2     Le Bristol, 112 rue du Faubourg-Saint-Honoré   \n",
       "3                                84 rue de Varenne   \n",
       "4             Route de Suresnes - bois de Boulogne   \n",
       "5  Four Seasons Hotel George V, 31 avenue George-V   \n",
       "6                                 Anse de Maldormé   \n",
       "7                               5 rue du Coq-Héron   \n",
       "8                                Mas de Baumanière   \n",
       "9                                 8 quai du Louvre   \n",
       "\n",
       "                      location arrondissement department_num  \\\n",
       "0                 Paris, 75004          Paris             75   \n",
       "1                Megève, 74120     Bonneville             74   \n",
       "2                 Paris, 75008          Paris             75   \n",
       "3                 Paris, 75007          Paris             75   \n",
       "4                 Paris, 75016          Paris             75   \n",
       "5                 Paris, 75008          Paris             75   \n",
       "6             Marseille, 13007      Marseille             13   \n",
       "7                 Paris, 75001          Paris             75   \n",
       "8  Les Baux-de-Provence, 13520          Arles             13   \n",
       "9                 Paris, 75001          Paris             75   \n",
       "\n",
       "         department    capital                      region price  \\\n",
       "0             Paris      Paris               Île-de-France  €€€€   \n",
       "1      Haute-Savoie     Annecy        Auvergne-Rhône-Alpes  €€€€   \n",
       "2             Paris      Paris               Île-de-France  €€€€   \n",
       "3             Paris      Paris               Île-de-France  €€€€   \n",
       "4             Paris      Paris               Île-de-France  €€€€   \n",
       "5             Paris      Paris               Île-de-France  €€€€   \n",
       "6  Bouches-du-Rhône  Marseille  Provence-Alpes-Côte d'Azur  €€€€   \n",
       "7             Paris      Paris               Île-de-France  €€€€   \n",
       "8  Bouches-du-Rhône  Marseille  Provence-Alpes-Côte d'Azur  €€€€   \n",
       "9             Paris      Paris               Île-de-France  €€€€   \n",
       "\n",
       "                    cuisine  \\\n",
       "0           Classic Cuisine   \n",
       "1            Modern Cuisine   \n",
       "2            Modern Cuisine   \n",
       "3                  Creative   \n",
       "4    Creative, Contemporary   \n",
       "5            Modern Cuisine   \n",
       "6                   Seafood   \n",
       "7  Modern Cuisine, Creative   \n",
       "8                  Creative   \n",
       "9                  Creative   \n",
       "\n",
       "                                                 url    award  stars  \\\n",
       "0                   https://www.ambroisie-paris.com/  3 Stars    3.0   \n",
       "1                       https://www.floconsdesel.com  3 Stars    3.0   \n",
       "2  https://www.oetkercollection.com/fr/hotels/le-...  3 Stars    3.0   \n",
       "3                     https://www.alain-passard.com/  3 Stars    3.0   \n",
       "4                      https://www.leprecatelan.com/  3 Stars    3.0   \n",
       "5                        https://www.fourseasons.com  3 Stars    3.0   \n",
       "6                            https://www.passedat.fr  3 Stars    3.0   \n",
       "7                     https://www.restaurant-kei.fr/  3 Stars    3.0   \n",
       "8                          http://www.baumaniere.com  3 Stars    3.0   \n",
       "9       https://www.chevalblanc.com/fr/maison/paris/  3 Stars    3.0   \n",
       "\n",
       "   greenstar  longitude   latitude  \n",
       "0          0   2.364521  48.855494  \n",
       "1          0   6.596963  45.830240  \n",
       "2          0   2.314598  48.871722  \n",
       "3          1   2.317013  48.855754  \n",
       "4          0   2.250718  48.863937  \n",
       "5          0   2.300861  48.868760  \n",
       "6          0   5.352048  43.280257  \n",
       "7          0   2.342285  48.864395  \n",
       "8          1   4.787363  43.740266  \n",
       "9          0   2.342159  48.858815  "
      ],
      "text/html": [
       "<div>\n",
       "<style scoped>\n",
       "    .dataframe tbody tr th:only-of-type {\n",
       "        vertical-align: middle;\n",
       "    }\n",
       "\n",
       "    .dataframe tbody tr th {\n",
       "        vertical-align: top;\n",
       "    }\n",
       "\n",
       "    .dataframe thead th {\n",
       "        text-align: right;\n",
       "    }\n",
       "</style>\n",
       "<table border=\"1\" class=\"dataframe\">\n",
       "  <thead>\n",
       "    <tr style=\"text-align: right;\">\n",
       "      <th></th>\n",
       "      <th>name</th>\n",
       "      <th>address</th>\n",
       "      <th>location</th>\n",
       "      <th>arrondissement</th>\n",
       "      <th>department_num</th>\n",
       "      <th>department</th>\n",
       "      <th>capital</th>\n",
       "      <th>region</th>\n",
       "      <th>price</th>\n",
       "      <th>cuisine</th>\n",
       "      <th>url</th>\n",
       "      <th>award</th>\n",
       "      <th>stars</th>\n",
       "      <th>greenstar</th>\n",
       "      <th>longitude</th>\n",
       "      <th>latitude</th>\n",
       "    </tr>\n",
       "  </thead>\n",
       "  <tbody>\n",
       "    <tr>\n",
       "      <th>0</th>\n",
       "      <td>L'Ambroisie</td>\n",
       "      <td>9 place des Vosges</td>\n",
       "      <td>Paris, 75004</td>\n",
       "      <td>Paris</td>\n",
       "      <td>75</td>\n",
       "      <td>Paris</td>\n",
       "      <td>Paris</td>\n",
       "      <td>Île-de-France</td>\n",
       "      <td>€€€€</td>\n",
       "      <td>Classic Cuisine</td>\n",
       "      <td>https://www.ambroisie-paris.com/</td>\n",
       "      <td>3 Stars</td>\n",
       "      <td>3.0</td>\n",
       "      <td>0</td>\n",
       "      <td>2.364521</td>\n",
       "      <td>48.855494</td>\n",
       "    </tr>\n",
       "    <tr>\n",
       "      <th>1</th>\n",
       "      <td>Flocons de Sel</td>\n",
       "      <td>1775 route du Leutaz, Le Leutaz</td>\n",
       "      <td>Megève, 74120</td>\n",
       "      <td>Bonneville</td>\n",
       "      <td>74</td>\n",
       "      <td>Haute-Savoie</td>\n",
       "      <td>Annecy</td>\n",
       "      <td>Auvergne-Rhône-Alpes</td>\n",
       "      <td>€€€€</td>\n",
       "      <td>Modern Cuisine</td>\n",
       "      <td>https://www.floconsdesel.com</td>\n",
       "      <td>3 Stars</td>\n",
       "      <td>3.0</td>\n",
       "      <td>0</td>\n",
       "      <td>6.596963</td>\n",
       "      <td>45.830240</td>\n",
       "    </tr>\n",
       "    <tr>\n",
       "      <th>2</th>\n",
       "      <td>Épicure</td>\n",
       "      <td>Le Bristol, 112 rue du Faubourg-Saint-Honoré</td>\n",
       "      <td>Paris, 75008</td>\n",
       "      <td>Paris</td>\n",
       "      <td>75</td>\n",
       "      <td>Paris</td>\n",
       "      <td>Paris</td>\n",
       "      <td>Île-de-France</td>\n",
       "      <td>€€€€</td>\n",
       "      <td>Modern Cuisine</td>\n",
       "      <td>https://www.oetkercollection.com/fr/hotels/le-...</td>\n",
       "      <td>3 Stars</td>\n",
       "      <td>3.0</td>\n",
       "      <td>0</td>\n",
       "      <td>2.314598</td>\n",
       "      <td>48.871722</td>\n",
       "    </tr>\n",
       "    <tr>\n",
       "      <th>3</th>\n",
       "      <td>Arpège</td>\n",
       "      <td>84 rue de Varenne</td>\n",
       "      <td>Paris, 75007</td>\n",
       "      <td>Paris</td>\n",
       "      <td>75</td>\n",
       "      <td>Paris</td>\n",
       "      <td>Paris</td>\n",
       "      <td>Île-de-France</td>\n",
       "      <td>€€€€</td>\n",
       "      <td>Creative</td>\n",
       "      <td>https://www.alain-passard.com/</td>\n",
       "      <td>3 Stars</td>\n",
       "      <td>3.0</td>\n",
       "      <td>1</td>\n",
       "      <td>2.317013</td>\n",
       "      <td>48.855754</td>\n",
       "    </tr>\n",
       "    <tr>\n",
       "      <th>4</th>\n",
       "      <td>Le Pré Catelan</td>\n",
       "      <td>Route de Suresnes - bois de Boulogne</td>\n",
       "      <td>Paris, 75016</td>\n",
       "      <td>Paris</td>\n",
       "      <td>75</td>\n",
       "      <td>Paris</td>\n",
       "      <td>Paris</td>\n",
       "      <td>Île-de-France</td>\n",
       "      <td>€€€€</td>\n",
       "      <td>Creative, Contemporary</td>\n",
       "      <td>https://www.leprecatelan.com/</td>\n",
       "      <td>3 Stars</td>\n",
       "      <td>3.0</td>\n",
       "      <td>0</td>\n",
       "      <td>2.250718</td>\n",
       "      <td>48.863937</td>\n",
       "    </tr>\n",
       "    <tr>\n",
       "      <th>5</th>\n",
       "      <td>Le Cinq</td>\n",
       "      <td>Four Seasons Hotel George V, 31 avenue George-V</td>\n",
       "      <td>Paris, 75008</td>\n",
       "      <td>Paris</td>\n",
       "      <td>75</td>\n",
       "      <td>Paris</td>\n",
       "      <td>Paris</td>\n",
       "      <td>Île-de-France</td>\n",
       "      <td>€€€€</td>\n",
       "      <td>Modern Cuisine</td>\n",
       "      <td>https://www.fourseasons.com</td>\n",
       "      <td>3 Stars</td>\n",
       "      <td>3.0</td>\n",
       "      <td>0</td>\n",
       "      <td>2.300861</td>\n",
       "      <td>48.868760</td>\n",
       "    </tr>\n",
       "    <tr>\n",
       "      <th>6</th>\n",
       "      <td>Le Petit Nice</td>\n",
       "      <td>Anse de Maldormé</td>\n",
       "      <td>Marseille, 13007</td>\n",
       "      <td>Marseille</td>\n",
       "      <td>13</td>\n",
       "      <td>Bouches-du-Rhône</td>\n",
       "      <td>Marseille</td>\n",
       "      <td>Provence-Alpes-Côte d'Azur</td>\n",
       "      <td>€€€€</td>\n",
       "      <td>Seafood</td>\n",
       "      <td>https://www.passedat.fr</td>\n",
       "      <td>3 Stars</td>\n",
       "      <td>3.0</td>\n",
       "      <td>0</td>\n",
       "      <td>5.352048</td>\n",
       "      <td>43.280257</td>\n",
       "    </tr>\n",
       "    <tr>\n",
       "      <th>7</th>\n",
       "      <td>Kei</td>\n",
       "      <td>5 rue du Coq-Héron</td>\n",
       "      <td>Paris, 75001</td>\n",
       "      <td>Paris</td>\n",
       "      <td>75</td>\n",
       "      <td>Paris</td>\n",
       "      <td>Paris</td>\n",
       "      <td>Île-de-France</td>\n",
       "      <td>€€€€</td>\n",
       "      <td>Modern Cuisine, Creative</td>\n",
       "      <td>https://www.restaurant-kei.fr/</td>\n",
       "      <td>3 Stars</td>\n",
       "      <td>3.0</td>\n",
       "      <td>0</td>\n",
       "      <td>2.342285</td>\n",
       "      <td>48.864395</td>\n",
       "    </tr>\n",
       "    <tr>\n",
       "      <th>8</th>\n",
       "      <td>L'Oustau de Baumanière</td>\n",
       "      <td>Mas de Baumanière</td>\n",
       "      <td>Les Baux-de-Provence, 13520</td>\n",
       "      <td>Arles</td>\n",
       "      <td>13</td>\n",
       "      <td>Bouches-du-Rhône</td>\n",
       "      <td>Marseille</td>\n",
       "      <td>Provence-Alpes-Côte d'Azur</td>\n",
       "      <td>€€€€</td>\n",
       "      <td>Creative</td>\n",
       "      <td>http://www.baumaniere.com</td>\n",
       "      <td>3 Stars</td>\n",
       "      <td>3.0</td>\n",
       "      <td>1</td>\n",
       "      <td>4.787363</td>\n",
       "      <td>43.740266</td>\n",
       "    </tr>\n",
       "    <tr>\n",
       "      <th>9</th>\n",
       "      <td>Plénitude - Cheval Blanc Paris</td>\n",
       "      <td>8 quai du Louvre</td>\n",
       "      <td>Paris, 75001</td>\n",
       "      <td>Paris</td>\n",
       "      <td>75</td>\n",
       "      <td>Paris</td>\n",
       "      <td>Paris</td>\n",
       "      <td>Île-de-France</td>\n",
       "      <td>€€€€</td>\n",
       "      <td>Creative</td>\n",
       "      <td>https://www.chevalblanc.com/fr/maison/paris/</td>\n",
       "      <td>3 Stars</td>\n",
       "      <td>3.0</td>\n",
       "      <td>0</td>\n",
       "      <td>2.342159</td>\n",
       "      <td>48.858815</td>\n",
       "    </tr>\n",
       "  </tbody>\n",
       "</table>\n",
       "</div>"
      ]
     },
     "execution_count": 24,
     "metadata": {},
     "output_type": "execute_result"
    }
   ],
   "execution_count": 24
  },
  {
   "cell_type": "code",
   "source": [
    "france_df.info()"
   ],
   "metadata": {
    "collapsed": false,
    "ExecuteTime": {
     "end_time": "2025-04-01T16:17:20.492140Z",
     "start_time": "2025-04-01T16:17:20.482752Z"
    }
   },
   "outputs": [
    {
     "name": "stdout",
     "output_type": "stream",
     "text": [
      "<class 'pandas.core.frame.DataFrame'>\n",
      "Index: 2985 entries, 0 to 2984\n",
      "Data columns (total 16 columns):\n",
      " #   Column          Non-Null Count  Dtype  \n",
      "---  ------          --------------  -----  \n",
      " 0   name            2985 non-null   object \n",
      " 1   address         2985 non-null   object \n",
      " 2   location        2985 non-null   object \n",
      " 3   arrondissement  2978 non-null   object \n",
      " 4   department_num  2985 non-null   object \n",
      " 5   department      2985 non-null   object \n",
      " 6   capital         2985 non-null   object \n",
      " 7   region          2985 non-null   object \n",
      " 8   price           2985 non-null   object \n",
      " 9   cuisine         2985 non-null   object \n",
      " 10  url             2831 non-null   object \n",
      " 11  award           2985 non-null   object \n",
      " 12  stars           2985 non-null   float64\n",
      " 13  greenstar       2985 non-null   int64  \n",
      " 14  longitude       2985 non-null   float64\n",
      " 15  latitude        2985 non-null   float64\n",
      "dtypes: float64(3), int64(1), object(12)\n",
      "memory usage: 396.4+ KB\n"
     ]
    }
   ],
   "execution_count": 25
  },
  {
   "cell_type": "code",
   "source": [
    "# Unique arrondissement in the dataset\n",
    "france_df.arrondissement.nunique()"
   ],
   "metadata": {
    "collapsed": false,
    "ExecuteTime": {
     "end_time": "2025-04-01T16:17:31.155334Z",
     "start_time": "2025-04-01T16:17:31.151488Z"
    }
   },
   "outputs": [
    {
     "data": {
      "text/plain": [
       "288"
      ]
     },
     "execution_count": 26,
     "metadata": {},
     "output_type": "execute_result"
    }
   ],
   "execution_count": 26
  },
  {
   "cell_type": "markdown",
   "source": [
    "----\n",
    "&nbsp;\n",
    "### Adding Parisien *arrondissement municipaux*"
   ],
   "metadata": {
    "collapsed": false
   }
  },
  {
   "cell_type": "code",
   "source": [
    "all_france = france_df.copy()"
   ],
   "metadata": {
    "collapsed": false,
    "ExecuteTime": {
     "end_time": "2025-04-01T16:17:34.969624Z",
     "start_time": "2025-04-01T16:17:34.965285Z"
    }
   },
   "outputs": [],
   "execution_count": 27
  },
  {
   "cell_type": "code",
   "source": [
    "import certifi\n",
    "import ssl\n",
    "\n",
    "ssl._create_default_https_context = ssl._create_unverified_context\n",
    "\n",
    "url = 'https://en.wikipedia.org/wiki/Arrondissements_of_Paris'\n",
    "tables = pd.read_html(url)"
   ],
   "metadata": {
    "collapsed": false,
    "ExecuteTime": {
     "end_time": "2025-04-01T16:17:38.650134Z",
     "start_time": "2025-04-01T16:17:38.376285Z"
    }
   },
   "outputs": [],
   "execution_count": 28
  },
  {
   "cell_type": "code",
   "source": [
    "# The table of interest is found by inspection\n",
    "paris_arr = tables[1]\n",
    "paris_arr.head()"
   ],
   "metadata": {
    "collapsed": false,
    "ExecuteTime": {
     "end_time": "2025-04-01T16:17:40.611642Z",
     "start_time": "2025-04-01T16:17:40.605003Z"
    }
   },
   "outputs": [
    {
     "data": {
      "text/plain": [
       "   Coat of arms Arrondissement (R for Right Bank, L for Left Bank)  \\\n",
       "0           NaN  1st (Ier) R Administratively part of Paris Centre   \n",
       "1           NaN  2nd (IIe) R Administratively part of Paris Centre   \n",
       "2           NaN  3rd (IIIe) R Administratively part of Paris Ce...   \n",
       "3           NaN  4th (IVe) R Administratively part of Paris Centre   \n",
       "4           NaN                                         5th (Ve) L   \n",
       "\n",
       "             Name               Area (km2) Population (2017 estimate)  \\\n",
       "0          Louvre    5.59 km2 (2.16 sq mi)     100,196 (Paris Centre)   \n",
       "1          Bourse    5.59 km2 (2.16 sq mi)     100,196 (Paris Centre)   \n",
       "2          Temple    5.59 km2 (2.16 sq mi)     100,196 (Paris Centre)   \n",
       "3  Hôtel-de-Ville    5.59 km2 (2.16 sq mi)     100,196 (Paris Centre)   \n",
       "4        Panthéon  2.541 km2 (0.981 sq mi)                      59631   \n",
       "\n",
       "  Density (2017) (inhabitants per km2) Peak of population  \\\n",
       "0                17,924 (Paris Center)        before 1861   \n",
       "1                17,924 (Paris Center)        before 1861   \n",
       "2                17,924 (Paris Center)        before 1861   \n",
       "3                17,924 (Paris Center)        before 1861   \n",
       "4                                23477               1911   \n",
       "\n",
       "         Mayor (2020–2026)  \n",
       "0          Ariel Weil (PS)  \n",
       "1          Ariel Weil (PS)  \n",
       "2          Ariel Weil (PS)  \n",
       "3          Ariel Weil (PS)  \n",
       "4  Florence Berthout (DVD)  "
      ],
      "text/html": [
       "<div>\n",
       "<style scoped>\n",
       "    .dataframe tbody tr th:only-of-type {\n",
       "        vertical-align: middle;\n",
       "    }\n",
       "\n",
       "    .dataframe tbody tr th {\n",
       "        vertical-align: top;\n",
       "    }\n",
       "\n",
       "    .dataframe thead th {\n",
       "        text-align: right;\n",
       "    }\n",
       "</style>\n",
       "<table border=\"1\" class=\"dataframe\">\n",
       "  <thead>\n",
       "    <tr style=\"text-align: right;\">\n",
       "      <th></th>\n",
       "      <th>Coat of arms</th>\n",
       "      <th>Arrondissement (R for Right Bank, L for Left Bank)</th>\n",
       "      <th>Name</th>\n",
       "      <th>Area (km2)</th>\n",
       "      <th>Population (2017 estimate)</th>\n",
       "      <th>Density (2017) (inhabitants per km2)</th>\n",
       "      <th>Peak of population</th>\n",
       "      <th>Mayor (2020–2026)</th>\n",
       "    </tr>\n",
       "  </thead>\n",
       "  <tbody>\n",
       "    <tr>\n",
       "      <th>0</th>\n",
       "      <td>NaN</td>\n",
       "      <td>1st (Ier) R Administratively part of Paris Centre</td>\n",
       "      <td>Louvre</td>\n",
       "      <td>5.59 km2 (2.16 sq mi)</td>\n",
       "      <td>100,196 (Paris Centre)</td>\n",
       "      <td>17,924 (Paris Center)</td>\n",
       "      <td>before 1861</td>\n",
       "      <td>Ariel Weil (PS)</td>\n",
       "    </tr>\n",
       "    <tr>\n",
       "      <th>1</th>\n",
       "      <td>NaN</td>\n",
       "      <td>2nd (IIe) R Administratively part of Paris Centre</td>\n",
       "      <td>Bourse</td>\n",
       "      <td>5.59 km2 (2.16 sq mi)</td>\n",
       "      <td>100,196 (Paris Centre)</td>\n",
       "      <td>17,924 (Paris Center)</td>\n",
       "      <td>before 1861</td>\n",
       "      <td>Ariel Weil (PS)</td>\n",
       "    </tr>\n",
       "    <tr>\n",
       "      <th>2</th>\n",
       "      <td>NaN</td>\n",
       "      <td>3rd (IIIe) R Administratively part of Paris Ce...</td>\n",
       "      <td>Temple</td>\n",
       "      <td>5.59 km2 (2.16 sq mi)</td>\n",
       "      <td>100,196 (Paris Centre)</td>\n",
       "      <td>17,924 (Paris Center)</td>\n",
       "      <td>before 1861</td>\n",
       "      <td>Ariel Weil (PS)</td>\n",
       "    </tr>\n",
       "    <tr>\n",
       "      <th>3</th>\n",
       "      <td>NaN</td>\n",
       "      <td>4th (IVe) R Administratively part of Paris Centre</td>\n",
       "      <td>Hôtel-de-Ville</td>\n",
       "      <td>5.59 km2 (2.16 sq mi)</td>\n",
       "      <td>100,196 (Paris Centre)</td>\n",
       "      <td>17,924 (Paris Center)</td>\n",
       "      <td>before 1861</td>\n",
       "      <td>Ariel Weil (PS)</td>\n",
       "    </tr>\n",
       "    <tr>\n",
       "      <th>4</th>\n",
       "      <td>NaN</td>\n",
       "      <td>5th (Ve) L</td>\n",
       "      <td>Panthéon</td>\n",
       "      <td>2.541 km2 (0.981 sq mi)</td>\n",
       "      <td>59631</td>\n",
       "      <td>23477</td>\n",
       "      <td>1911</td>\n",
       "      <td>Florence Berthout (DVD)</td>\n",
       "    </tr>\n",
       "  </tbody>\n",
       "</table>\n",
       "</div>"
      ]
     },
     "execution_count": 29,
     "metadata": {},
     "output_type": "execute_result"
    }
   ],
   "execution_count": 29
  },
  {
   "cell_type": "code",
   "source": [
    "print(paris_arr.columns.tolist())"
   ],
   "metadata": {
    "collapsed": false,
    "ExecuteTime": {
     "end_time": "2025-04-01T16:17:43.760954Z",
     "start_time": "2025-04-01T16:17:43.757998Z"
    }
   },
   "outputs": [
    {
     "name": "stdout",
     "output_type": "stream",
     "text": [
      "['Coat of arms', 'Arrondissement (R for Right Bank, L for Left Bank)', 'Name', 'Area (km2)', 'Population (2017 estimate)', 'Density (2017) (inhabitants per km2)', 'Peak of population', 'Mayor (2020–2026)']\n"
     ]
    }
   ],
   "execution_count": 30
  },
  {
   "cell_type": "code",
   "source": [
    "# Drop specified columns from the DataFrame\n",
    "paris_arr = paris_arr.drop(columns=['Coat of arms', 'Area (km2)', 'Population (2017 estimate)', 'Density (2017) (inhabitants per km2)', 'Peak of population', 'Mayor (2020–2026)'])\n",
    "\n",
    "paris_arr = paris_arr.rename(columns={'Arrondissement (R for Right Bank, L for Left Bank)': 'arrondissement', 'Name': 'name'})"
   ],
   "metadata": {
    "collapsed": false,
    "ExecuteTime": {
     "end_time": "2025-04-01T16:17:49.787797Z",
     "start_time": "2025-04-01T16:17:49.783864Z"
    }
   },
   "outputs": [],
   "execution_count": 31
  },
  {
   "cell_type": "code",
   "source": [
    "# Extract the first part of the 'arrondissement' using regex\n",
    "paris_arr['arrondissement'] = paris_arr['arrondissement'].str.extract(r'(\\d+\\w{2})')\n",
    "paris_arr.head()"
   ],
   "metadata": {
    "collapsed": false,
    "ExecuteTime": {
     "end_time": "2025-04-01T16:17:52.561198Z",
     "start_time": "2025-04-01T16:17:52.554660Z"
    }
   },
   "outputs": [
    {
     "data": {
      "text/plain": [
       "  arrondissement            name\n",
       "0            1st          Louvre\n",
       "1            2nd          Bourse\n",
       "2            3rd          Temple\n",
       "3            4th  Hôtel-de-Ville\n",
       "4            5th        Panthéon"
      ],
      "text/html": [
       "<div>\n",
       "<style scoped>\n",
       "    .dataframe tbody tr th:only-of-type {\n",
       "        vertical-align: middle;\n",
       "    }\n",
       "\n",
       "    .dataframe tbody tr th {\n",
       "        vertical-align: top;\n",
       "    }\n",
       "\n",
       "    .dataframe thead th {\n",
       "        text-align: right;\n",
       "    }\n",
       "</style>\n",
       "<table border=\"1\" class=\"dataframe\">\n",
       "  <thead>\n",
       "    <tr style=\"text-align: right;\">\n",
       "      <th></th>\n",
       "      <th>arrondissement</th>\n",
       "      <th>name</th>\n",
       "    </tr>\n",
       "  </thead>\n",
       "  <tbody>\n",
       "    <tr>\n",
       "      <th>0</th>\n",
       "      <td>1st</td>\n",
       "      <td>Louvre</td>\n",
       "    </tr>\n",
       "    <tr>\n",
       "      <th>1</th>\n",
       "      <td>2nd</td>\n",
       "      <td>Bourse</td>\n",
       "    </tr>\n",
       "    <tr>\n",
       "      <th>2</th>\n",
       "      <td>3rd</td>\n",
       "      <td>Temple</td>\n",
       "    </tr>\n",
       "    <tr>\n",
       "      <th>3</th>\n",
       "      <td>4th</td>\n",
       "      <td>Hôtel-de-Ville</td>\n",
       "    </tr>\n",
       "    <tr>\n",
       "      <th>4</th>\n",
       "      <td>5th</td>\n",
       "      <td>Panthéon</td>\n",
       "    </tr>\n",
       "  </tbody>\n",
       "</table>\n",
       "</div>"
      ]
     },
     "execution_count": 32,
     "metadata": {},
     "output_type": "execute_result"
    }
   ],
   "execution_count": 32
  },
  {
   "cell_type": "markdown",
   "source": [
    "Search `france_data` for 'Paris'"
   ],
   "metadata": {
    "collapsed": false
   }
  },
  {
   "cell_type": "code",
   "source": [
    "paris_rows = all_france[all_france['location'].str.contains('Paris', case=False, na=False)]\n",
    "paris_rows.head()"
   ],
   "metadata": {
    "collapsed": false,
    "ExecuteTime": {
     "end_time": "2025-04-01T16:17:57.223001Z",
     "start_time": "2025-04-01T16:17:57.211524Z"
    }
   },
   "outputs": [
    {
     "data": {
      "text/plain": [
       "             name                                          address  \\\n",
       "0     L'Ambroisie                               9 place des Vosges   \n",
       "2         Épicure     Le Bristol, 112 rue du Faubourg-Saint-Honoré   \n",
       "3          Arpège                                84 rue de Varenne   \n",
       "4  Le Pré Catelan             Route de Suresnes - bois de Boulogne   \n",
       "5         Le Cinq  Four Seasons Hotel George V, 31 avenue George-V   \n",
       "\n",
       "       location arrondissement department_num department capital  \\\n",
       "0  Paris, 75004          Paris             75      Paris   Paris   \n",
       "2  Paris, 75008          Paris             75      Paris   Paris   \n",
       "3  Paris, 75007          Paris             75      Paris   Paris   \n",
       "4  Paris, 75016          Paris             75      Paris   Paris   \n",
       "5  Paris, 75008          Paris             75      Paris   Paris   \n",
       "\n",
       "          region price                 cuisine  \\\n",
       "0  Île-de-France  €€€€         Classic Cuisine   \n",
       "2  Île-de-France  €€€€          Modern Cuisine   \n",
       "3  Île-de-France  €€€€                Creative   \n",
       "4  Île-de-France  €€€€  Creative, Contemporary   \n",
       "5  Île-de-France  €€€€          Modern Cuisine   \n",
       "\n",
       "                                                 url    award  stars  \\\n",
       "0                   https://www.ambroisie-paris.com/  3 Stars    3.0   \n",
       "2  https://www.oetkercollection.com/fr/hotels/le-...  3 Stars    3.0   \n",
       "3                     https://www.alain-passard.com/  3 Stars    3.0   \n",
       "4                      https://www.leprecatelan.com/  3 Stars    3.0   \n",
       "5                        https://www.fourseasons.com  3 Stars    3.0   \n",
       "\n",
       "   greenstar  longitude   latitude  \n",
       "0          0   2.364521  48.855494  \n",
       "2          0   2.314598  48.871722  \n",
       "3          1   2.317013  48.855754  \n",
       "4          0   2.250718  48.863937  \n",
       "5          0   2.300861  48.868760  "
      ],
      "text/html": [
       "<div>\n",
       "<style scoped>\n",
       "    .dataframe tbody tr th:only-of-type {\n",
       "        vertical-align: middle;\n",
       "    }\n",
       "\n",
       "    .dataframe tbody tr th {\n",
       "        vertical-align: top;\n",
       "    }\n",
       "\n",
       "    .dataframe thead th {\n",
       "        text-align: right;\n",
       "    }\n",
       "</style>\n",
       "<table border=\"1\" class=\"dataframe\">\n",
       "  <thead>\n",
       "    <tr style=\"text-align: right;\">\n",
       "      <th></th>\n",
       "      <th>name</th>\n",
       "      <th>address</th>\n",
       "      <th>location</th>\n",
       "      <th>arrondissement</th>\n",
       "      <th>department_num</th>\n",
       "      <th>department</th>\n",
       "      <th>capital</th>\n",
       "      <th>region</th>\n",
       "      <th>price</th>\n",
       "      <th>cuisine</th>\n",
       "      <th>url</th>\n",
       "      <th>award</th>\n",
       "      <th>stars</th>\n",
       "      <th>greenstar</th>\n",
       "      <th>longitude</th>\n",
       "      <th>latitude</th>\n",
       "    </tr>\n",
       "  </thead>\n",
       "  <tbody>\n",
       "    <tr>\n",
       "      <th>0</th>\n",
       "      <td>L'Ambroisie</td>\n",
       "      <td>9 place des Vosges</td>\n",
       "      <td>Paris, 75004</td>\n",
       "      <td>Paris</td>\n",
       "      <td>75</td>\n",
       "      <td>Paris</td>\n",
       "      <td>Paris</td>\n",
       "      <td>Île-de-France</td>\n",
       "      <td>€€€€</td>\n",
       "      <td>Classic Cuisine</td>\n",
       "      <td>https://www.ambroisie-paris.com/</td>\n",
       "      <td>3 Stars</td>\n",
       "      <td>3.0</td>\n",
       "      <td>0</td>\n",
       "      <td>2.364521</td>\n",
       "      <td>48.855494</td>\n",
       "    </tr>\n",
       "    <tr>\n",
       "      <th>2</th>\n",
       "      <td>Épicure</td>\n",
       "      <td>Le Bristol, 112 rue du Faubourg-Saint-Honoré</td>\n",
       "      <td>Paris, 75008</td>\n",
       "      <td>Paris</td>\n",
       "      <td>75</td>\n",
       "      <td>Paris</td>\n",
       "      <td>Paris</td>\n",
       "      <td>Île-de-France</td>\n",
       "      <td>€€€€</td>\n",
       "      <td>Modern Cuisine</td>\n",
       "      <td>https://www.oetkercollection.com/fr/hotels/le-...</td>\n",
       "      <td>3 Stars</td>\n",
       "      <td>3.0</td>\n",
       "      <td>0</td>\n",
       "      <td>2.314598</td>\n",
       "      <td>48.871722</td>\n",
       "    </tr>\n",
       "    <tr>\n",
       "      <th>3</th>\n",
       "      <td>Arpège</td>\n",
       "      <td>84 rue de Varenne</td>\n",
       "      <td>Paris, 75007</td>\n",
       "      <td>Paris</td>\n",
       "      <td>75</td>\n",
       "      <td>Paris</td>\n",
       "      <td>Paris</td>\n",
       "      <td>Île-de-France</td>\n",
       "      <td>€€€€</td>\n",
       "      <td>Creative</td>\n",
       "      <td>https://www.alain-passard.com/</td>\n",
       "      <td>3 Stars</td>\n",
       "      <td>3.0</td>\n",
       "      <td>1</td>\n",
       "      <td>2.317013</td>\n",
       "      <td>48.855754</td>\n",
       "    </tr>\n",
       "    <tr>\n",
       "      <th>4</th>\n",
       "      <td>Le Pré Catelan</td>\n",
       "      <td>Route de Suresnes - bois de Boulogne</td>\n",
       "      <td>Paris, 75016</td>\n",
       "      <td>Paris</td>\n",
       "      <td>75</td>\n",
       "      <td>Paris</td>\n",
       "      <td>Paris</td>\n",
       "      <td>Île-de-France</td>\n",
       "      <td>€€€€</td>\n",
       "      <td>Creative, Contemporary</td>\n",
       "      <td>https://www.leprecatelan.com/</td>\n",
       "      <td>3 Stars</td>\n",
       "      <td>3.0</td>\n",
       "      <td>0</td>\n",
       "      <td>2.250718</td>\n",
       "      <td>48.863937</td>\n",
       "    </tr>\n",
       "    <tr>\n",
       "      <th>5</th>\n",
       "      <td>Le Cinq</td>\n",
       "      <td>Four Seasons Hotel George V, 31 avenue George-V</td>\n",
       "      <td>Paris, 75008</td>\n",
       "      <td>Paris</td>\n",
       "      <td>75</td>\n",
       "      <td>Paris</td>\n",
       "      <td>Paris</td>\n",
       "      <td>Île-de-France</td>\n",
       "      <td>€€€€</td>\n",
       "      <td>Modern Cuisine</td>\n",
       "      <td>https://www.fourseasons.com</td>\n",
       "      <td>3 Stars</td>\n",
       "      <td>3.0</td>\n",
       "      <td>0</td>\n",
       "      <td>2.300861</td>\n",
       "      <td>48.868760</td>\n",
       "    </tr>\n",
       "  </tbody>\n",
       "</table>\n",
       "</div>"
      ]
     },
     "execution_count": 33,
     "metadata": {},
     "output_type": "execute_result"
    }
   ],
   "execution_count": 33
  },
  {
   "cell_type": "code",
   "source": [
    "# Mask to identify rows with 'arrondissement' == 'Paris'\n",
    "mask_paris = all_france['arrondissement'] == 'Paris'\n",
    "\n",
    "# Extract the last two digits from the postal code for the mask\n",
    "all_france.loc[mask_paris, 'postal_digits'] = all_france.loc[mask_paris, 'location'].str[-2:].astype(int)\n",
    "\n",
    "# Overwrite the 'arrondissement' column for the mask\n",
    "all_france.loc[mask_paris, 'arrondissement'] = all_france.loc[mask_paris, 'postal_digits']\n",
    "\n",
    "# Drop the temporary 'postal_digits' column\n",
    "all_france.drop(columns=['postal_digits'], inplace=True, errors='ignore')  # Using errors='ignore' to ensure code doesn't break if column doesn't exist"
   ],
   "metadata": {
    "collapsed": false,
    "ExecuteTime": {
     "end_time": "2025-04-01T16:18:15.420344Z",
     "start_time": "2025-04-01T16:18:15.412909Z"
    }
   },
   "outputs": [],
   "execution_count": 34
  },
  {
   "cell_type": "code",
   "source": [
    "all_france.head()"
   ],
   "metadata": {
    "collapsed": false,
    "ExecuteTime": {
     "end_time": "2025-04-01T16:18:18.466618Z",
     "start_time": "2025-04-01T16:18:18.458412Z"
    }
   },
   "outputs": [
    {
     "data": {
      "text/plain": [
       "             name                                       address  \\\n",
       "0     L'Ambroisie                            9 place des Vosges   \n",
       "1  Flocons de Sel               1775 route du Leutaz, Le Leutaz   \n",
       "2         Épicure  Le Bristol, 112 rue du Faubourg-Saint-Honoré   \n",
       "3          Arpège                             84 rue de Varenne   \n",
       "4  Le Pré Catelan          Route de Suresnes - bois de Boulogne   \n",
       "\n",
       "        location arrondissement department_num    department capital  \\\n",
       "0   Paris, 75004            4.0             75         Paris   Paris   \n",
       "1  Megève, 74120     Bonneville             74  Haute-Savoie  Annecy   \n",
       "2   Paris, 75008            8.0             75         Paris   Paris   \n",
       "3   Paris, 75007            7.0             75         Paris   Paris   \n",
       "4   Paris, 75016           16.0             75         Paris   Paris   \n",
       "\n",
       "                 region price                 cuisine  \\\n",
       "0         Île-de-France  €€€€         Classic Cuisine   \n",
       "1  Auvergne-Rhône-Alpes  €€€€          Modern Cuisine   \n",
       "2         Île-de-France  €€€€          Modern Cuisine   \n",
       "3         Île-de-France  €€€€                Creative   \n",
       "4         Île-de-France  €€€€  Creative, Contemporary   \n",
       "\n",
       "                                                 url    award  stars  \\\n",
       "0                   https://www.ambroisie-paris.com/  3 Stars    3.0   \n",
       "1                       https://www.floconsdesel.com  3 Stars    3.0   \n",
       "2  https://www.oetkercollection.com/fr/hotels/le-...  3 Stars    3.0   \n",
       "3                     https://www.alain-passard.com/  3 Stars    3.0   \n",
       "4                      https://www.leprecatelan.com/  3 Stars    3.0   \n",
       "\n",
       "   greenstar  longitude   latitude  \n",
       "0          0   2.364521  48.855494  \n",
       "1          0   6.596963  45.830240  \n",
       "2          0   2.314598  48.871722  \n",
       "3          1   2.317013  48.855754  \n",
       "4          0   2.250718  48.863937  "
      ],
      "text/html": [
       "<div>\n",
       "<style scoped>\n",
       "    .dataframe tbody tr th:only-of-type {\n",
       "        vertical-align: middle;\n",
       "    }\n",
       "\n",
       "    .dataframe tbody tr th {\n",
       "        vertical-align: top;\n",
       "    }\n",
       "\n",
       "    .dataframe thead th {\n",
       "        text-align: right;\n",
       "    }\n",
       "</style>\n",
       "<table border=\"1\" class=\"dataframe\">\n",
       "  <thead>\n",
       "    <tr style=\"text-align: right;\">\n",
       "      <th></th>\n",
       "      <th>name</th>\n",
       "      <th>address</th>\n",
       "      <th>location</th>\n",
       "      <th>arrondissement</th>\n",
       "      <th>department_num</th>\n",
       "      <th>department</th>\n",
       "      <th>capital</th>\n",
       "      <th>region</th>\n",
       "      <th>price</th>\n",
       "      <th>cuisine</th>\n",
       "      <th>url</th>\n",
       "      <th>award</th>\n",
       "      <th>stars</th>\n",
       "      <th>greenstar</th>\n",
       "      <th>longitude</th>\n",
       "      <th>latitude</th>\n",
       "    </tr>\n",
       "  </thead>\n",
       "  <tbody>\n",
       "    <tr>\n",
       "      <th>0</th>\n",
       "      <td>L'Ambroisie</td>\n",
       "      <td>9 place des Vosges</td>\n",
       "      <td>Paris, 75004</td>\n",
       "      <td>4.0</td>\n",
       "      <td>75</td>\n",
       "      <td>Paris</td>\n",
       "      <td>Paris</td>\n",
       "      <td>Île-de-France</td>\n",
       "      <td>€€€€</td>\n",
       "      <td>Classic Cuisine</td>\n",
       "      <td>https://www.ambroisie-paris.com/</td>\n",
       "      <td>3 Stars</td>\n",
       "      <td>3.0</td>\n",
       "      <td>0</td>\n",
       "      <td>2.364521</td>\n",
       "      <td>48.855494</td>\n",
       "    </tr>\n",
       "    <tr>\n",
       "      <th>1</th>\n",
       "      <td>Flocons de Sel</td>\n",
       "      <td>1775 route du Leutaz, Le Leutaz</td>\n",
       "      <td>Megève, 74120</td>\n",
       "      <td>Bonneville</td>\n",
       "      <td>74</td>\n",
       "      <td>Haute-Savoie</td>\n",
       "      <td>Annecy</td>\n",
       "      <td>Auvergne-Rhône-Alpes</td>\n",
       "      <td>€€€€</td>\n",
       "      <td>Modern Cuisine</td>\n",
       "      <td>https://www.floconsdesel.com</td>\n",
       "      <td>3 Stars</td>\n",
       "      <td>3.0</td>\n",
       "      <td>0</td>\n",
       "      <td>6.596963</td>\n",
       "      <td>45.830240</td>\n",
       "    </tr>\n",
       "    <tr>\n",
       "      <th>2</th>\n",
       "      <td>Épicure</td>\n",
       "      <td>Le Bristol, 112 rue du Faubourg-Saint-Honoré</td>\n",
       "      <td>Paris, 75008</td>\n",
       "      <td>8.0</td>\n",
       "      <td>75</td>\n",
       "      <td>Paris</td>\n",
       "      <td>Paris</td>\n",
       "      <td>Île-de-France</td>\n",
       "      <td>€€€€</td>\n",
       "      <td>Modern Cuisine</td>\n",
       "      <td>https://www.oetkercollection.com/fr/hotels/le-...</td>\n",
       "      <td>3 Stars</td>\n",
       "      <td>3.0</td>\n",
       "      <td>0</td>\n",
       "      <td>2.314598</td>\n",
       "      <td>48.871722</td>\n",
       "    </tr>\n",
       "    <tr>\n",
       "      <th>3</th>\n",
       "      <td>Arpège</td>\n",
       "      <td>84 rue de Varenne</td>\n",
       "      <td>Paris, 75007</td>\n",
       "      <td>7.0</td>\n",
       "      <td>75</td>\n",
       "      <td>Paris</td>\n",
       "      <td>Paris</td>\n",
       "      <td>Île-de-France</td>\n",
       "      <td>€€€€</td>\n",
       "      <td>Creative</td>\n",
       "      <td>https://www.alain-passard.com/</td>\n",
       "      <td>3 Stars</td>\n",
       "      <td>3.0</td>\n",
       "      <td>1</td>\n",
       "      <td>2.317013</td>\n",
       "      <td>48.855754</td>\n",
       "    </tr>\n",
       "    <tr>\n",
       "      <th>4</th>\n",
       "      <td>Le Pré Catelan</td>\n",
       "      <td>Route de Suresnes - bois de Boulogne</td>\n",
       "      <td>Paris, 75016</td>\n",
       "      <td>16.0</td>\n",
       "      <td>75</td>\n",
       "      <td>Paris</td>\n",
       "      <td>Paris</td>\n",
       "      <td>Île-de-France</td>\n",
       "      <td>€€€€</td>\n",
       "      <td>Creative, Contemporary</td>\n",
       "      <td>https://www.leprecatelan.com/</td>\n",
       "      <td>3 Stars</td>\n",
       "      <td>3.0</td>\n",
       "      <td>0</td>\n",
       "      <td>2.250718</td>\n",
       "      <td>48.863937</td>\n",
       "    </tr>\n",
       "  </tbody>\n",
       "</table>\n",
       "</div>"
      ]
     },
     "execution_count": 35,
     "metadata": {},
     "output_type": "execute_result"
    }
   ],
   "execution_count": 35
  },
  {
   "cell_type": "code",
   "source": [
    "# Filter out Paris rows\n",
    "paris_rows = all_france[all_france['department'].str.contains('Paris', case=False, na=False)].copy()"
   ],
   "metadata": {
    "collapsed": false,
    "ExecuteTime": {
     "end_time": "2025-04-01T16:18:28.280412Z",
     "start_time": "2025-04-01T16:18:28.274875Z"
    }
   },
   "outputs": [],
   "execution_count": 36
  },
  {
   "cell_type": "code",
   "source": [
    "# Extract numbers from \"1st\", \"2nd\", etc. in paris_arr to a new temporary column\n",
    "paris_arr['arr_num'] = paris_arr['arrondissement'].str.extract(r'(\\d+)').astype(float)\n",
    "\n",
    "# Create a dictionary that maps these numbers to the tuple (arrondissement, name)\n",
    "paris_tuple_dict = dict(zip(paris_arr['arr_num'], zip(paris_arr['arrondissement'], paris_arr['name'])))\n",
    "paris_tuple_dict = {k: f\"{v[0]} ({v[1]})\" for k, v in paris_tuple_dict.items()}"
   ],
   "metadata": {
    "collapsed": false,
    "ExecuteTime": {
     "end_time": "2025-04-01T16:18:32.805549Z",
     "start_time": "2025-04-01T16:18:32.801006Z"
    }
   },
   "outputs": [],
   "execution_count": 37
  },
  {
   "cell_type": "code",
   "source": [
    "# Map the arrondissement values in all_france to the paris_tuple_dict\n",
    "new_arr_values = all_france['arrondissement'].map(paris_tuple_dict)\n",
    "\n",
    "# Fill NaN values with existing values from arrondissement column\n",
    "new_arr_values.fillna(all_france['arrondissement'], inplace=True)"
   ],
   "metadata": {
    "collapsed": false,
    "ExecuteTime": {
     "end_time": "2025-04-01T16:18:34.901161Z",
     "start_time": "2025-04-01T16:18:34.889434Z"
    }
   },
   "outputs": [],
   "execution_count": 38
  },
  {
   "cell_type": "code",
   "source": [
    "# Assign the new series to the arrondissement column\n",
    "all_france['arrondissement'] = new_arr_values\n",
    "all_france.head()"
   ],
   "metadata": {
    "collapsed": false,
    "ExecuteTime": {
     "end_time": "2025-04-01T16:18:38.062849Z",
     "start_time": "2025-04-01T16:18:38.053814Z"
    }
   },
   "outputs": [
    {
     "data": {
      "text/plain": [
       "             name                                       address  \\\n",
       "0     L'Ambroisie                            9 place des Vosges   \n",
       "1  Flocons de Sel               1775 route du Leutaz, Le Leutaz   \n",
       "2         Épicure  Le Bristol, 112 rue du Faubourg-Saint-Honoré   \n",
       "3          Arpège                             84 rue de Varenne   \n",
       "4  Le Pré Catelan          Route de Suresnes - bois de Boulogne   \n",
       "\n",
       "        location        arrondissement department_num    department capital  \\\n",
       "0   Paris, 75004  4th (Hôtel-de-Ville)             75         Paris   Paris   \n",
       "1  Megève, 74120            Bonneville             74  Haute-Savoie  Annecy   \n",
       "2   Paris, 75008          8th (Élysée)             75         Paris   Paris   \n",
       "3   Paris, 75007  7th (Palais-Bourbon)             75         Paris   Paris   \n",
       "4   Paris, 75016          16th (Passy)             75         Paris   Paris   \n",
       "\n",
       "                 region price                 cuisine  \\\n",
       "0         Île-de-France  €€€€         Classic Cuisine   \n",
       "1  Auvergne-Rhône-Alpes  €€€€          Modern Cuisine   \n",
       "2         Île-de-France  €€€€          Modern Cuisine   \n",
       "3         Île-de-France  €€€€                Creative   \n",
       "4         Île-de-France  €€€€  Creative, Contemporary   \n",
       "\n",
       "                                                 url    award  stars  \\\n",
       "0                   https://www.ambroisie-paris.com/  3 Stars    3.0   \n",
       "1                       https://www.floconsdesel.com  3 Stars    3.0   \n",
       "2  https://www.oetkercollection.com/fr/hotels/le-...  3 Stars    3.0   \n",
       "3                     https://www.alain-passard.com/  3 Stars    3.0   \n",
       "4                      https://www.leprecatelan.com/  3 Stars    3.0   \n",
       "\n",
       "   greenstar  longitude   latitude  \n",
       "0          0   2.364521  48.855494  \n",
       "1          0   6.596963  45.830240  \n",
       "2          0   2.314598  48.871722  \n",
       "3          1   2.317013  48.855754  \n",
       "4          0   2.250718  48.863937  "
      ],
      "text/html": [
       "<div>\n",
       "<style scoped>\n",
       "    .dataframe tbody tr th:only-of-type {\n",
       "        vertical-align: middle;\n",
       "    }\n",
       "\n",
       "    .dataframe tbody tr th {\n",
       "        vertical-align: top;\n",
       "    }\n",
       "\n",
       "    .dataframe thead th {\n",
       "        text-align: right;\n",
       "    }\n",
       "</style>\n",
       "<table border=\"1\" class=\"dataframe\">\n",
       "  <thead>\n",
       "    <tr style=\"text-align: right;\">\n",
       "      <th></th>\n",
       "      <th>name</th>\n",
       "      <th>address</th>\n",
       "      <th>location</th>\n",
       "      <th>arrondissement</th>\n",
       "      <th>department_num</th>\n",
       "      <th>department</th>\n",
       "      <th>capital</th>\n",
       "      <th>region</th>\n",
       "      <th>price</th>\n",
       "      <th>cuisine</th>\n",
       "      <th>url</th>\n",
       "      <th>award</th>\n",
       "      <th>stars</th>\n",
       "      <th>greenstar</th>\n",
       "      <th>longitude</th>\n",
       "      <th>latitude</th>\n",
       "    </tr>\n",
       "  </thead>\n",
       "  <tbody>\n",
       "    <tr>\n",
       "      <th>0</th>\n",
       "      <td>L'Ambroisie</td>\n",
       "      <td>9 place des Vosges</td>\n",
       "      <td>Paris, 75004</td>\n",
       "      <td>4th (Hôtel-de-Ville)</td>\n",
       "      <td>75</td>\n",
       "      <td>Paris</td>\n",
       "      <td>Paris</td>\n",
       "      <td>Île-de-France</td>\n",
       "      <td>€€€€</td>\n",
       "      <td>Classic Cuisine</td>\n",
       "      <td>https://www.ambroisie-paris.com/</td>\n",
       "      <td>3 Stars</td>\n",
       "      <td>3.0</td>\n",
       "      <td>0</td>\n",
       "      <td>2.364521</td>\n",
       "      <td>48.855494</td>\n",
       "    </tr>\n",
       "    <tr>\n",
       "      <th>1</th>\n",
       "      <td>Flocons de Sel</td>\n",
       "      <td>1775 route du Leutaz, Le Leutaz</td>\n",
       "      <td>Megève, 74120</td>\n",
       "      <td>Bonneville</td>\n",
       "      <td>74</td>\n",
       "      <td>Haute-Savoie</td>\n",
       "      <td>Annecy</td>\n",
       "      <td>Auvergne-Rhône-Alpes</td>\n",
       "      <td>€€€€</td>\n",
       "      <td>Modern Cuisine</td>\n",
       "      <td>https://www.floconsdesel.com</td>\n",
       "      <td>3 Stars</td>\n",
       "      <td>3.0</td>\n",
       "      <td>0</td>\n",
       "      <td>6.596963</td>\n",
       "      <td>45.830240</td>\n",
       "    </tr>\n",
       "    <tr>\n",
       "      <th>2</th>\n",
       "      <td>Épicure</td>\n",
       "      <td>Le Bristol, 112 rue du Faubourg-Saint-Honoré</td>\n",
       "      <td>Paris, 75008</td>\n",
       "      <td>8th (Élysée)</td>\n",
       "      <td>75</td>\n",
       "      <td>Paris</td>\n",
       "      <td>Paris</td>\n",
       "      <td>Île-de-France</td>\n",
       "      <td>€€€€</td>\n",
       "      <td>Modern Cuisine</td>\n",
       "      <td>https://www.oetkercollection.com/fr/hotels/le-...</td>\n",
       "      <td>3 Stars</td>\n",
       "      <td>3.0</td>\n",
       "      <td>0</td>\n",
       "      <td>2.314598</td>\n",
       "      <td>48.871722</td>\n",
       "    </tr>\n",
       "    <tr>\n",
       "      <th>3</th>\n",
       "      <td>Arpège</td>\n",
       "      <td>84 rue de Varenne</td>\n",
       "      <td>Paris, 75007</td>\n",
       "      <td>7th (Palais-Bourbon)</td>\n",
       "      <td>75</td>\n",
       "      <td>Paris</td>\n",
       "      <td>Paris</td>\n",
       "      <td>Île-de-France</td>\n",
       "      <td>€€€€</td>\n",
       "      <td>Creative</td>\n",
       "      <td>https://www.alain-passard.com/</td>\n",
       "      <td>3 Stars</td>\n",
       "      <td>3.0</td>\n",
       "      <td>1</td>\n",
       "      <td>2.317013</td>\n",
       "      <td>48.855754</td>\n",
       "    </tr>\n",
       "    <tr>\n",
       "      <th>4</th>\n",
       "      <td>Le Pré Catelan</td>\n",
       "      <td>Route de Suresnes - bois de Boulogne</td>\n",
       "      <td>Paris, 75016</td>\n",
       "      <td>16th (Passy)</td>\n",
       "      <td>75</td>\n",
       "      <td>Paris</td>\n",
       "      <td>Paris</td>\n",
       "      <td>Île-de-France</td>\n",
       "      <td>€€€€</td>\n",
       "      <td>Creative, Contemporary</td>\n",
       "      <td>https://www.leprecatelan.com/</td>\n",
       "      <td>3 Stars</td>\n",
       "      <td>3.0</td>\n",
       "      <td>0</td>\n",
       "      <td>2.250718</td>\n",
       "      <td>48.863937</td>\n",
       "    </tr>\n",
       "  </tbody>\n",
       "</table>\n",
       "</div>"
      ]
     },
     "execution_count": 39,
     "metadata": {},
     "output_type": "execute_result"
    }
   ],
   "execution_count": 39
  },
  {
   "metadata": {
    "ExecuteTime": {
     "end_time": "2025-04-01T16:18:52.673683Z",
     "start_time": "2025-04-01T16:18:52.670401Z"
    }
   },
   "cell_type": "code",
   "source": "print(all_france.region.unique())",
   "outputs": [
    {
     "name": "stdout",
     "output_type": "stream",
     "text": [
      "['Île-de-France' 'Auvergne-Rhône-Alpes' \"Provence-Alpes-Côte d'Azur\"\n",
      " 'Bourgogne-Franche-Comté' 'Brittany' 'Nouvelle-Aquitaine'\n",
      " 'Pays de la Loire' 'Grand Est' 'Occitanie' 'Hauts-de-France'\n",
      " 'Centre-Val de Loire' 'Corsica' 'Normandy']\n"
     ]
    }
   ],
   "execution_count": 40
  },
  {
   "metadata": {
    "ExecuteTime": {
     "end_time": "2025-04-01T16:18:58.152873Z",
     "start_time": "2025-04-01T16:18:58.147468Z"
    }
   },
   "cell_type": "code",
   "source": [
    "# all_france has some English region names -> need to map them to French\n",
    "region_mapping = {\n",
    "    'Brittany': 'Bretagne',\n",
    "    'Corsica': 'Corse',\n",
    "    'Normandy': 'Normandie'\n",
    "}\n",
    "\n",
    "# Map the English region names to the French ones used in df\n",
    "all_france['region'] = all_france['region'].replace(region_mapping)"
   ],
   "outputs": [],
   "execution_count": 41
  },
  {
   "metadata": {
    "ExecuteTime": {
     "end_time": "2025-04-01T16:19:01.303867Z",
     "start_time": "2025-04-01T16:19:01.300340Z"
    }
   },
   "cell_type": "code",
   "source": "print(all_france.region.unique())",
   "outputs": [
    {
     "name": "stdout",
     "output_type": "stream",
     "text": [
      "['Île-de-France' 'Auvergne-Rhône-Alpes' \"Provence-Alpes-Côte d'Azur\"\n",
      " 'Bourgogne-Franche-Comté' 'Bretagne' 'Nouvelle-Aquitaine'\n",
      " 'Pays de la Loire' 'Grand Est' 'Occitanie' 'Hauts-de-France'\n",
      " 'Centre-Val de Loire' 'Corse' 'Normandie']\n"
     ]
    }
   ],
   "execution_count": 42
  },
  {
   "metadata": {},
   "cell_type": "markdown",
   "source": "#### Exporting as `csv` file"
  },
  {
   "metadata": {
    "ExecuteTime": {
     "end_time": "2025-04-01T16:19:06.193042Z",
     "start_time": "2025-04-01T16:19:06.167790Z"
    }
   },
   "cell_type": "code",
   "source": [
    "# Export the DataFrame to a .csv file\n",
    "all_france.to_csv('../../data/France/all_restaurants(arrondissements).csv', index=False)"
   ],
   "outputs": [],
   "execution_count": 43
  },
  {
   "metadata": {},
   "cell_type": "markdown",
   "source": [
    "----\n",
    "&nbsp;\n",
    "## Subsetting for Paris\n",
    "#### Creating `paris_restaurants.geojson`"
   ]
  },
  {
   "cell_type": "code",
   "source": [
    "paris = all_france[all_france['department'].str.contains('Paris', case=False, na=False)].copy()\n",
    "print(f\"Shape: {paris.shape}\")\n",
    "paris.head()"
   ],
   "metadata": {
    "collapsed": false,
    "ExecuteTime": {
     "end_time": "2025-04-01T16:19:13.465092Z",
     "start_time": "2025-04-01T16:19:13.454456Z"
    }
   },
   "outputs": [
    {
     "name": "stdout",
     "output_type": "stream",
     "text": [
      "Shape: (460, 16)\n"
     ]
    },
    {
     "data": {
      "text/plain": [
       "             name                                          address  \\\n",
       "0     L'Ambroisie                               9 place des Vosges   \n",
       "2         Épicure     Le Bristol, 112 rue du Faubourg-Saint-Honoré   \n",
       "3          Arpège                                84 rue de Varenne   \n",
       "4  Le Pré Catelan             Route de Suresnes - bois de Boulogne   \n",
       "5         Le Cinq  Four Seasons Hotel George V, 31 avenue George-V   \n",
       "\n",
       "       location        arrondissement department_num department capital  \\\n",
       "0  Paris, 75004  4th (Hôtel-de-Ville)             75      Paris   Paris   \n",
       "2  Paris, 75008          8th (Élysée)             75      Paris   Paris   \n",
       "3  Paris, 75007  7th (Palais-Bourbon)             75      Paris   Paris   \n",
       "4  Paris, 75016          16th (Passy)             75      Paris   Paris   \n",
       "5  Paris, 75008          8th (Élysée)             75      Paris   Paris   \n",
       "\n",
       "          region price                 cuisine  \\\n",
       "0  Île-de-France  €€€€         Classic Cuisine   \n",
       "2  Île-de-France  €€€€          Modern Cuisine   \n",
       "3  Île-de-France  €€€€                Creative   \n",
       "4  Île-de-France  €€€€  Creative, Contemporary   \n",
       "5  Île-de-France  €€€€          Modern Cuisine   \n",
       "\n",
       "                                                 url    award  stars  \\\n",
       "0                   https://www.ambroisie-paris.com/  3 Stars    3.0   \n",
       "2  https://www.oetkercollection.com/fr/hotels/le-...  3 Stars    3.0   \n",
       "3                     https://www.alain-passard.com/  3 Stars    3.0   \n",
       "4                      https://www.leprecatelan.com/  3 Stars    3.0   \n",
       "5                        https://www.fourseasons.com  3 Stars    3.0   \n",
       "\n",
       "   greenstar  longitude   latitude  \n",
       "0          0   2.364521  48.855494  \n",
       "2          0   2.314598  48.871722  \n",
       "3          1   2.317013  48.855754  \n",
       "4          0   2.250718  48.863937  \n",
       "5          0   2.300861  48.868760  "
      ],
      "text/html": [
       "<div>\n",
       "<style scoped>\n",
       "    .dataframe tbody tr th:only-of-type {\n",
       "        vertical-align: middle;\n",
       "    }\n",
       "\n",
       "    .dataframe tbody tr th {\n",
       "        vertical-align: top;\n",
       "    }\n",
       "\n",
       "    .dataframe thead th {\n",
       "        text-align: right;\n",
       "    }\n",
       "</style>\n",
       "<table border=\"1\" class=\"dataframe\">\n",
       "  <thead>\n",
       "    <tr style=\"text-align: right;\">\n",
       "      <th></th>\n",
       "      <th>name</th>\n",
       "      <th>address</th>\n",
       "      <th>location</th>\n",
       "      <th>arrondissement</th>\n",
       "      <th>department_num</th>\n",
       "      <th>department</th>\n",
       "      <th>capital</th>\n",
       "      <th>region</th>\n",
       "      <th>price</th>\n",
       "      <th>cuisine</th>\n",
       "      <th>url</th>\n",
       "      <th>award</th>\n",
       "      <th>stars</th>\n",
       "      <th>greenstar</th>\n",
       "      <th>longitude</th>\n",
       "      <th>latitude</th>\n",
       "    </tr>\n",
       "  </thead>\n",
       "  <tbody>\n",
       "    <tr>\n",
       "      <th>0</th>\n",
       "      <td>L'Ambroisie</td>\n",
       "      <td>9 place des Vosges</td>\n",
       "      <td>Paris, 75004</td>\n",
       "      <td>4th (Hôtel-de-Ville)</td>\n",
       "      <td>75</td>\n",
       "      <td>Paris</td>\n",
       "      <td>Paris</td>\n",
       "      <td>Île-de-France</td>\n",
       "      <td>€€€€</td>\n",
       "      <td>Classic Cuisine</td>\n",
       "      <td>https://www.ambroisie-paris.com/</td>\n",
       "      <td>3 Stars</td>\n",
       "      <td>3.0</td>\n",
       "      <td>0</td>\n",
       "      <td>2.364521</td>\n",
       "      <td>48.855494</td>\n",
       "    </tr>\n",
       "    <tr>\n",
       "      <th>2</th>\n",
       "      <td>Épicure</td>\n",
       "      <td>Le Bristol, 112 rue du Faubourg-Saint-Honoré</td>\n",
       "      <td>Paris, 75008</td>\n",
       "      <td>8th (Élysée)</td>\n",
       "      <td>75</td>\n",
       "      <td>Paris</td>\n",
       "      <td>Paris</td>\n",
       "      <td>Île-de-France</td>\n",
       "      <td>€€€€</td>\n",
       "      <td>Modern Cuisine</td>\n",
       "      <td>https://www.oetkercollection.com/fr/hotels/le-...</td>\n",
       "      <td>3 Stars</td>\n",
       "      <td>3.0</td>\n",
       "      <td>0</td>\n",
       "      <td>2.314598</td>\n",
       "      <td>48.871722</td>\n",
       "    </tr>\n",
       "    <tr>\n",
       "      <th>3</th>\n",
       "      <td>Arpège</td>\n",
       "      <td>84 rue de Varenne</td>\n",
       "      <td>Paris, 75007</td>\n",
       "      <td>7th (Palais-Bourbon)</td>\n",
       "      <td>75</td>\n",
       "      <td>Paris</td>\n",
       "      <td>Paris</td>\n",
       "      <td>Île-de-France</td>\n",
       "      <td>€€€€</td>\n",
       "      <td>Creative</td>\n",
       "      <td>https://www.alain-passard.com/</td>\n",
       "      <td>3 Stars</td>\n",
       "      <td>3.0</td>\n",
       "      <td>1</td>\n",
       "      <td>2.317013</td>\n",
       "      <td>48.855754</td>\n",
       "    </tr>\n",
       "    <tr>\n",
       "      <th>4</th>\n",
       "      <td>Le Pré Catelan</td>\n",
       "      <td>Route de Suresnes - bois de Boulogne</td>\n",
       "      <td>Paris, 75016</td>\n",
       "      <td>16th (Passy)</td>\n",
       "      <td>75</td>\n",
       "      <td>Paris</td>\n",
       "      <td>Paris</td>\n",
       "      <td>Île-de-France</td>\n",
       "      <td>€€€€</td>\n",
       "      <td>Creative, Contemporary</td>\n",
       "      <td>https://www.leprecatelan.com/</td>\n",
       "      <td>3 Stars</td>\n",
       "      <td>3.0</td>\n",
       "      <td>0</td>\n",
       "      <td>2.250718</td>\n",
       "      <td>48.863937</td>\n",
       "    </tr>\n",
       "    <tr>\n",
       "      <th>5</th>\n",
       "      <td>Le Cinq</td>\n",
       "      <td>Four Seasons Hotel George V, 31 avenue George-V</td>\n",
       "      <td>Paris, 75008</td>\n",
       "      <td>8th (Élysée)</td>\n",
       "      <td>75</td>\n",
       "      <td>Paris</td>\n",
       "      <td>Paris</td>\n",
       "      <td>Île-de-France</td>\n",
       "      <td>€€€€</td>\n",
       "      <td>Modern Cuisine</td>\n",
       "      <td>https://www.fourseasons.com</td>\n",
       "      <td>3 Stars</td>\n",
       "      <td>3.0</td>\n",
       "      <td>0</td>\n",
       "      <td>2.300861</td>\n",
       "      <td>48.868760</td>\n",
       "    </tr>\n",
       "  </tbody>\n",
       "</table>\n",
       "</div>"
      ]
     },
     "execution_count": 44,
     "metadata": {},
     "output_type": "execute_result"
    }
   ],
   "execution_count": 44
  },
  {
   "metadata": {
    "ExecuteTime": {
     "end_time": "2025-04-01T16:19:31.061038Z",
     "start_time": "2025-04-01T16:19:31.057824Z"
    }
   },
   "cell_type": "code",
   "source": "print(f\"Columns:\\n{paris.columns}\")",
   "outputs": [
    {
     "name": "stdout",
     "output_type": "stream",
     "text": [
      "Columns:\n",
      "Index(['name', 'address', 'location', 'arrondissement', 'department_num',\n",
      "       'department', 'capital', 'region', 'price', 'cuisine', 'url', 'award',\n",
      "       'stars', 'greenstar', 'longitude', 'latitude'],\n",
      "      dtype='object')\n"
     ]
    }
   ],
   "execution_count": 45
  },
  {
   "metadata": {
    "ExecuteTime": {
     "end_time": "2025-04-01T16:19:34.487084Z",
     "start_time": "2025-04-01T16:19:34.483200Z"
    }
   },
   "cell_type": "code",
   "source": "print(f\"No unique arrondissements: {len(paris.arrondissement.unique())}\\n{paris.arrondissement.unique()}\")",
   "outputs": [
    {
     "name": "stdout",
     "output_type": "stream",
     "text": [
      "No unique arrondissements: 20\n",
      "['4th (Hôtel-de-Ville)' '8th (Élysée)' '7th (Palais-Bourbon)'\n",
      " '16th (Passy)' '1st (Louvre)' '9th (Opéra)' '3rd (Temple)'\n",
      " '6th (Luxembourg)' '12th (Reuilly)' '2nd (Bourse)'\n",
      " '17th (Batignolles-Monceau)' '5th (Panthéon)' '11th (Popincourt)'\n",
      " '15th (Vaugirard)' '14th (Observatoire)' '18th (Butte-Montmartre)'\n",
      " '13th (Gobelins)' '10th (Entrepôt)' '19th (Buttes-Chaumont)'\n",
      " '20th (Ménilmontant)']\n"
     ]
    }
   ],
   "execution_count": 46
  },
  {
   "metadata": {},
   "cell_type": "markdown",
   "source": [
    "----\n",
    "&nbsp;\n",
    "### Adding Parisien shape files"
   ]
  },
  {
   "metadata": {
    "ExecuteTime": {
     "end_time": "2025-04-01T16:19:42.381060Z",
     "start_time": "2025-04-01T16:19:42.372415Z"
    }
   },
   "cell_type": "code",
   "source": [
    "# Create a subset of the data based on unique arrondissements and relevant columns\n",
    "paris_subset = paris[['location', 'arrondissement', 'department_num', 'department', 'capital', 'region']].drop_duplicates()\n",
    "\n",
    "# Display the unique arrondissements and subsetted data\n",
    "print(f\"Unique Arrondissements: {paris_subset['arrondissement'].nunique()}\")\n",
    "paris_subset.head()"
   ],
   "outputs": [
    {
     "name": "stdout",
     "output_type": "stream",
     "text": [
      "Unique Arrondissements: 20\n"
     ]
    },
    {
     "data": {
      "text/plain": [
       "       location        arrondissement department_num department capital  \\\n",
       "0  Paris, 75004  4th (Hôtel-de-Ville)             75      Paris   Paris   \n",
       "2  Paris, 75008          8th (Élysée)             75      Paris   Paris   \n",
       "3  Paris, 75007  7th (Palais-Bourbon)             75      Paris   Paris   \n",
       "4  Paris, 75016          16th (Passy)             75      Paris   Paris   \n",
       "7  Paris, 75001          1st (Louvre)             75      Paris   Paris   \n",
       "\n",
       "          region  \n",
       "0  Île-de-France  \n",
       "2  Île-de-France  \n",
       "3  Île-de-France  \n",
       "4  Île-de-France  \n",
       "7  Île-de-France  "
      ],
      "text/html": [
       "<div>\n",
       "<style scoped>\n",
       "    .dataframe tbody tr th:only-of-type {\n",
       "        vertical-align: middle;\n",
       "    }\n",
       "\n",
       "    .dataframe tbody tr th {\n",
       "        vertical-align: top;\n",
       "    }\n",
       "\n",
       "    .dataframe thead th {\n",
       "        text-align: right;\n",
       "    }\n",
       "</style>\n",
       "<table border=\"1\" class=\"dataframe\">\n",
       "  <thead>\n",
       "    <tr style=\"text-align: right;\">\n",
       "      <th></th>\n",
       "      <th>location</th>\n",
       "      <th>arrondissement</th>\n",
       "      <th>department_num</th>\n",
       "      <th>department</th>\n",
       "      <th>capital</th>\n",
       "      <th>region</th>\n",
       "    </tr>\n",
       "  </thead>\n",
       "  <tbody>\n",
       "    <tr>\n",
       "      <th>0</th>\n",
       "      <td>Paris, 75004</td>\n",
       "      <td>4th (Hôtel-de-Ville)</td>\n",
       "      <td>75</td>\n",
       "      <td>Paris</td>\n",
       "      <td>Paris</td>\n",
       "      <td>Île-de-France</td>\n",
       "    </tr>\n",
       "    <tr>\n",
       "      <th>2</th>\n",
       "      <td>Paris, 75008</td>\n",
       "      <td>8th (Élysée)</td>\n",
       "      <td>75</td>\n",
       "      <td>Paris</td>\n",
       "      <td>Paris</td>\n",
       "      <td>Île-de-France</td>\n",
       "    </tr>\n",
       "    <tr>\n",
       "      <th>3</th>\n",
       "      <td>Paris, 75007</td>\n",
       "      <td>7th (Palais-Bourbon)</td>\n",
       "      <td>75</td>\n",
       "      <td>Paris</td>\n",
       "      <td>Paris</td>\n",
       "      <td>Île-de-France</td>\n",
       "    </tr>\n",
       "    <tr>\n",
       "      <th>4</th>\n",
       "      <td>Paris, 75016</td>\n",
       "      <td>16th (Passy)</td>\n",
       "      <td>75</td>\n",
       "      <td>Paris</td>\n",
       "      <td>Paris</td>\n",
       "      <td>Île-de-France</td>\n",
       "    </tr>\n",
       "    <tr>\n",
       "      <th>7</th>\n",
       "      <td>Paris, 75001</td>\n",
       "      <td>1st (Louvre)</td>\n",
       "      <td>75</td>\n",
       "      <td>Paris</td>\n",
       "      <td>Paris</td>\n",
       "      <td>Île-de-France</td>\n",
       "    </tr>\n",
       "  </tbody>\n",
       "</table>\n",
       "</div>"
      ]
     },
     "execution_count": 47,
     "metadata": {},
     "output_type": "execute_result"
    }
   ],
   "execution_count": 47
  },
  {
   "metadata": {
    "ExecuteTime": {
     "end_time": "2025-04-01T16:19:59.185622Z",
     "start_time": "2025-04-01T16:19:59.163868Z"
    }
   },
   "cell_type": "code",
   "source": [
    "# Load the GeoJSON file\n",
    "geoJSON_paris = gpd.read_file('../../../../ExtraData/Geodata/paris_arrondissements.geojson')\n",
    "print(f\"Shape: {geoJSON_paris.shape}\")\n",
    "geoJSON_paris.head()"
   ],
   "outputs": [
    {
     "name": "stdout",
     "output_type": "stream",
     "text": [
      "Shape: (20, 10)\n"
     ]
    },
    {
     "data": {
      "text/plain": [
       "     n_sq_ar  c_ar  c_arinsee        l_ar            l_aroff    n_sq_co  \\\n",
       "0  750000010    10      75110  10ème Ardt           Entrepôt  750001537   \n",
       "1  750000018    18      75118  18ème Ardt  Buttes-Montmartre  750001537   \n",
       "2  750000006     6      75106   6ème Ardt         Luxembourg  750001537   \n",
       "3  750000009     9      75109   9ème Ardt              Opéra  750001537   \n",
       "4  750000016    16      75116  16ème Ardt              Passy  750001537   \n",
       "\n",
       "        surface     perimetre  \\\n",
       "0  2.891739e+06   6739.375055   \n",
       "1  5.996051e+06   9916.464176   \n",
       "2  2.153096e+06   6483.686786   \n",
       "3  2.178303e+06   6471.588290   \n",
       "4  1.637254e+07  17416.109657   \n",
       "\n",
       "                                            geom_x_y  \\\n",
       "0  { \"lon\": 2.3607284878474522, \"lat\": 48.8761300...   \n",
       "1  { \"lon\": 2.3481605195620396, \"lat\": 48.8925692...   \n",
       "2  { \"lon\": 2.3328979990533147, \"lat\": 48.8491303...   \n",
       "3  { \"lon\": 2.3374575434825444, \"lat\": 48.8771635...   \n",
       "4  { \"lon\": 2.2619707883645428, \"lat\": 48.8603921...   \n",
       "\n",
       "                                            geometry  \n",
       "0  POLYGON ((2.36469 48.88437, 2.36485 48.88436, ...  \n",
       "1  POLYGON ((2.3658 48.88554, 2.36469 48.88437, 2...  \n",
       "2  POLYGON ((2.34459 48.85405, 2.34428 48.85375, ...  \n",
       "3  POLYGON ((2.33978 48.88203, 2.33982 48.88202, ...  \n",
       "4  POLYGON ((2.27427 48.87837, 2.27749 48.87796, ...  "
      ],
      "text/html": [
       "<div>\n",
       "<style scoped>\n",
       "    .dataframe tbody tr th:only-of-type {\n",
       "        vertical-align: middle;\n",
       "    }\n",
       "\n",
       "    .dataframe tbody tr th {\n",
       "        vertical-align: top;\n",
       "    }\n",
       "\n",
       "    .dataframe thead th {\n",
       "        text-align: right;\n",
       "    }\n",
       "</style>\n",
       "<table border=\"1\" class=\"dataframe\">\n",
       "  <thead>\n",
       "    <tr style=\"text-align: right;\">\n",
       "      <th></th>\n",
       "      <th>n_sq_ar</th>\n",
       "      <th>c_ar</th>\n",
       "      <th>c_arinsee</th>\n",
       "      <th>l_ar</th>\n",
       "      <th>l_aroff</th>\n",
       "      <th>n_sq_co</th>\n",
       "      <th>surface</th>\n",
       "      <th>perimetre</th>\n",
       "      <th>geom_x_y</th>\n",
       "      <th>geometry</th>\n",
       "    </tr>\n",
       "  </thead>\n",
       "  <tbody>\n",
       "    <tr>\n",
       "      <th>0</th>\n",
       "      <td>750000010</td>\n",
       "      <td>10</td>\n",
       "      <td>75110</td>\n",
       "      <td>10ème Ardt</td>\n",
       "      <td>Entrepôt</td>\n",
       "      <td>750001537</td>\n",
       "      <td>2.891739e+06</td>\n",
       "      <td>6739.375055</td>\n",
       "      <td>{ \"lon\": 2.3607284878474522, \"lat\": 48.8761300...</td>\n",
       "      <td>POLYGON ((2.36469 48.88437, 2.36485 48.88436, ...</td>\n",
       "    </tr>\n",
       "    <tr>\n",
       "      <th>1</th>\n",
       "      <td>750000018</td>\n",
       "      <td>18</td>\n",
       "      <td>75118</td>\n",
       "      <td>18ème Ardt</td>\n",
       "      <td>Buttes-Montmartre</td>\n",
       "      <td>750001537</td>\n",
       "      <td>5.996051e+06</td>\n",
       "      <td>9916.464176</td>\n",
       "      <td>{ \"lon\": 2.3481605195620396, \"lat\": 48.8925692...</td>\n",
       "      <td>POLYGON ((2.3658 48.88554, 2.36469 48.88437, 2...</td>\n",
       "    </tr>\n",
       "    <tr>\n",
       "      <th>2</th>\n",
       "      <td>750000006</td>\n",
       "      <td>6</td>\n",
       "      <td>75106</td>\n",
       "      <td>6ème Ardt</td>\n",
       "      <td>Luxembourg</td>\n",
       "      <td>750001537</td>\n",
       "      <td>2.153096e+06</td>\n",
       "      <td>6483.686786</td>\n",
       "      <td>{ \"lon\": 2.3328979990533147, \"lat\": 48.8491303...</td>\n",
       "      <td>POLYGON ((2.34459 48.85405, 2.34428 48.85375, ...</td>\n",
       "    </tr>\n",
       "    <tr>\n",
       "      <th>3</th>\n",
       "      <td>750000009</td>\n",
       "      <td>9</td>\n",
       "      <td>75109</td>\n",
       "      <td>9ème Ardt</td>\n",
       "      <td>Opéra</td>\n",
       "      <td>750001537</td>\n",
       "      <td>2.178303e+06</td>\n",
       "      <td>6471.588290</td>\n",
       "      <td>{ \"lon\": 2.3374575434825444, \"lat\": 48.8771635...</td>\n",
       "      <td>POLYGON ((2.33978 48.88203, 2.33982 48.88202, ...</td>\n",
       "    </tr>\n",
       "    <tr>\n",
       "      <th>4</th>\n",
       "      <td>750000016</td>\n",
       "      <td>16</td>\n",
       "      <td>75116</td>\n",
       "      <td>16ème Ardt</td>\n",
       "      <td>Passy</td>\n",
       "      <td>750001537</td>\n",
       "      <td>1.637254e+07</td>\n",
       "      <td>17416.109657</td>\n",
       "      <td>{ \"lon\": 2.2619707883645428, \"lat\": 48.8603921...</td>\n",
       "      <td>POLYGON ((2.27427 48.87837, 2.27749 48.87796, ...</td>\n",
       "    </tr>\n",
       "  </tbody>\n",
       "</table>\n",
       "</div>"
      ]
     },
     "execution_count": 48,
     "metadata": {},
     "output_type": "execute_result"
    }
   ],
   "execution_count": 48
  },
  {
   "metadata": {
    "ExecuteTime": {
     "end_time": "2025-04-01T16:20:06.908841Z",
     "start_time": "2025-04-01T16:20:06.905215Z"
    }
   },
   "cell_type": "code",
   "source": "print(f\"Columns: {geoJSON_paris.columns.tolist()}\")",
   "outputs": [
    {
     "name": "stdout",
     "output_type": "stream",
     "text": [
      "Columns: ['n_sq_ar', 'c_ar', 'c_arinsee', 'l_ar', 'l_aroff', 'n_sq_co', 'surface', 'perimetre', 'geom_x_y', 'geometry']\n"
     ]
    }
   ],
   "execution_count": 49
  },
  {
   "metadata": {
    "ExecuteTime": {
     "end_time": "2025-04-01T16:20:09.720062Z",
     "start_time": "2025-04-01T16:20:09.716445Z"
    }
   },
   "cell_type": "code",
   "source": "print(f\"No unique arrondissements: {len(geoJSON_paris.l_ar.unique())}\\n{geoJSON_paris.l_ar.unique()}\")",
   "outputs": [
    {
     "name": "stdout",
     "output_type": "stream",
     "text": [
      "No unique arrondissements: 20\n",
      "['10ème Ardt' '18ème Ardt' '6ème Ardt' '9ème Ardt' '16ème Ardt' '1er Ardt'\n",
      " '3ème Ardt' '14ème Ardt' '2ème Ardt' '12ème Ardt' '15ème Ardt'\n",
      " '20ème Ardt' '11ème Ardt' '7ème Ardt' '17ème Ardt' '4ème Ardt'\n",
      " '8ème Ardt' '19ème Ardt' '13ème Ardt' '5ème Ardt']\n"
     ]
    }
   ],
   "execution_count": 50
  },
  {
   "metadata": {},
   "cell_type": "markdown",
   "source": "#### Creating a new numerical column in both `paris_subset` and `geoJSON_paris`"
  },
  {
   "metadata": {
    "ExecuteTime": {
     "end_time": "2025-04-01T16:20:15.255273Z",
     "start_time": "2025-04-01T16:20:15.250407Z"
    }
   },
   "cell_type": "code",
   "source": [
    "# Extract the numerical part from the 'arrondissement' column in paris_subset\n",
    "paris_subset['arrondissement_num'] = paris_subset['arrondissement'].str.extract(r'(\\d+)').astype(int)\n",
    "\n",
    "# Extract the numerical part from the 'l_ar' column in geoJSON_paris\n",
    "geoJSON_paris['arrondissement_num'] = geoJSON_paris['l_ar'].str.extract(r'(\\d+)').astype(int)"
   ],
   "outputs": [],
   "execution_count": 51
  },
  {
   "metadata": {
    "ExecuteTime": {
     "end_time": "2025-04-01T16:20:17.604082Z",
     "start_time": "2025-04-01T16:20:17.599041Z"
    }
   },
   "cell_type": "code",
   "source": [
    "# Get unique arrondissement numbers from both\n",
    "paris_arrondissements = set(paris_subset['arrondissement_num'].unique())\n",
    "geojson_arrondissements = set(geoJSON_paris['arrondissement_num'].unique())\n",
    "\n",
    "# Find out which arrondissements are missing in geoJSON\n",
    "missing_arrondissements = geojson_arrondissements - paris_arrondissements\n",
    "print(f\"Missing Arrondissements: {missing_arrondissements}\")"
   ],
   "outputs": [
    {
     "name": "stdout",
     "output_type": "stream",
     "text": [
      "Missing Arrondissements: set()\n"
     ]
    }
   ],
   "execution_count": 52
  },
  {
   "metadata": {
    "ExecuteTime": {
     "end_time": "2025-04-01T16:20:20.361267Z",
     "start_time": "2025-04-01T16:20:20.355674Z"
    }
   },
   "cell_type": "code",
   "source": [
    "# Convert the 'arrondissement_num' column to int, ignoring errors in case of any non-convertible values\n",
    "paris_subset['arrondissement_num'] = pd.to_numeric(paris_subset['arrondissement_num'], errors='coerce')\n",
    "paris_subset = paris_subset.sort_values(by='arrondissement_num').reset_index(drop=True)\n",
    "paris_subset.tail()"
   ],
   "outputs": [
    {
     "data": {
      "text/plain": [
       "        location              arrondissement department_num department  \\\n",
       "16  Paris, 75016                16th (Passy)             75      Paris   \n",
       "17  Paris, 75017  17th (Batignolles-Monceau)             75      Paris   \n",
       "18  Paris, 75018     18th (Butte-Montmartre)             75      Paris   \n",
       "19  Paris, 75019      19th (Buttes-Chaumont)             75      Paris   \n",
       "20  Paris, 75020         20th (Ménilmontant)             75      Paris   \n",
       "\n",
       "   capital         region  arrondissement_num  \n",
       "16   Paris  Île-de-France                  16  \n",
       "17   Paris  Île-de-France                  17  \n",
       "18   Paris  Île-de-France                  18  \n",
       "19   Paris  Île-de-France                  19  \n",
       "20   Paris  Île-de-France                  20  "
      ],
      "text/html": [
       "<div>\n",
       "<style scoped>\n",
       "    .dataframe tbody tr th:only-of-type {\n",
       "        vertical-align: middle;\n",
       "    }\n",
       "\n",
       "    .dataframe tbody tr th {\n",
       "        vertical-align: top;\n",
       "    }\n",
       "\n",
       "    .dataframe thead th {\n",
       "        text-align: right;\n",
       "    }\n",
       "</style>\n",
       "<table border=\"1\" class=\"dataframe\">\n",
       "  <thead>\n",
       "    <tr style=\"text-align: right;\">\n",
       "      <th></th>\n",
       "      <th>location</th>\n",
       "      <th>arrondissement</th>\n",
       "      <th>department_num</th>\n",
       "      <th>department</th>\n",
       "      <th>capital</th>\n",
       "      <th>region</th>\n",
       "      <th>arrondissement_num</th>\n",
       "    </tr>\n",
       "  </thead>\n",
       "  <tbody>\n",
       "    <tr>\n",
       "      <th>16</th>\n",
       "      <td>Paris, 75016</td>\n",
       "      <td>16th (Passy)</td>\n",
       "      <td>75</td>\n",
       "      <td>Paris</td>\n",
       "      <td>Paris</td>\n",
       "      <td>Île-de-France</td>\n",
       "      <td>16</td>\n",
       "    </tr>\n",
       "    <tr>\n",
       "      <th>17</th>\n",
       "      <td>Paris, 75017</td>\n",
       "      <td>17th (Batignolles-Monceau)</td>\n",
       "      <td>75</td>\n",
       "      <td>Paris</td>\n",
       "      <td>Paris</td>\n",
       "      <td>Île-de-France</td>\n",
       "      <td>17</td>\n",
       "    </tr>\n",
       "    <tr>\n",
       "      <th>18</th>\n",
       "      <td>Paris, 75018</td>\n",
       "      <td>18th (Butte-Montmartre)</td>\n",
       "      <td>75</td>\n",
       "      <td>Paris</td>\n",
       "      <td>Paris</td>\n",
       "      <td>Île-de-France</td>\n",
       "      <td>18</td>\n",
       "    </tr>\n",
       "    <tr>\n",
       "      <th>19</th>\n",
       "      <td>Paris, 75019</td>\n",
       "      <td>19th (Buttes-Chaumont)</td>\n",
       "      <td>75</td>\n",
       "      <td>Paris</td>\n",
       "      <td>Paris</td>\n",
       "      <td>Île-de-France</td>\n",
       "      <td>19</td>\n",
       "    </tr>\n",
       "    <tr>\n",
       "      <th>20</th>\n",
       "      <td>Paris, 75020</td>\n",
       "      <td>20th (Ménilmontant)</td>\n",
       "      <td>75</td>\n",
       "      <td>Paris</td>\n",
       "      <td>Paris</td>\n",
       "      <td>Île-de-France</td>\n",
       "      <td>20</td>\n",
       "    </tr>\n",
       "  </tbody>\n",
       "</table>\n",
       "</div>"
      ]
     },
     "execution_count": 53,
     "metadata": {},
     "output_type": "execute_result"
    }
   ],
   "execution_count": 53
  },
  {
   "metadata": {
    "ExecuteTime": {
     "end_time": "2025-04-01T16:20:31.751020Z",
     "start_time": "2025-04-01T16:20:31.742518Z"
    }
   },
   "cell_type": "code",
   "source": [
    "# Merge the two DataFrames on 'arrondissement_num'\n",
    "paris_geo_merged = paris_subset.merge(geoJSON_paris[['arrondissement_num', 'geometry']],\n",
    "                                      on='arrondissement_num', how='left')"
   ],
   "outputs": [],
   "execution_count": 54
  },
  {
   "metadata": {
    "ExecuteTime": {
     "end_time": "2025-04-01T16:20:43.452166Z",
     "start_time": "2025-04-01T16:20:43.444426Z"
    }
   },
   "cell_type": "code",
   "source": [
    "paris_geo_merged = paris_geo_merged.drop(columns=['arrondissement_num'])\n",
    "paris_geo_merged = paris_geo_merged.drop(index=15)\n",
    "print(f\"Shape: {paris_geo_merged.shape}\")\n",
    "paris_geo_merged.tail()"
   ],
   "outputs": [
    {
     "name": "stdout",
     "output_type": "stream",
     "text": [
      "Shape: (20, 7)\n"
     ]
    },
    {
     "data": {
      "text/plain": [
       "        location              arrondissement department_num department  \\\n",
       "16  Paris, 75016                16th (Passy)             75      Paris   \n",
       "17  Paris, 75017  17th (Batignolles-Monceau)             75      Paris   \n",
       "18  Paris, 75018     18th (Butte-Montmartre)             75      Paris   \n",
       "19  Paris, 75019      19th (Buttes-Chaumont)             75      Paris   \n",
       "20  Paris, 75020         20th (Ménilmontant)             75      Paris   \n",
       "\n",
       "   capital         region                                           geometry  \n",
       "16   Paris  Île-de-France  POLYGON ((2.27427 48.87837, 2.27749 48.87796, ...  \n",
       "17   Paris  Île-de-France  POLYGON ((2.29517 48.87396, 2.29504 48.87378, ...  \n",
       "18   Paris  Île-de-France  POLYGON ((2.3658 48.88554, 2.36469 48.88437, 2...  \n",
       "19   Paris  Île-de-France  POLYGON ((2.38943 48.90122, 2.39014 48.90108, ...  \n",
       "20   Paris  Île-de-France  POLYGON ((2.41277 48.87547, 2.41284 48.87524, ...  "
      ],
      "text/html": [
       "<div>\n",
       "<style scoped>\n",
       "    .dataframe tbody tr th:only-of-type {\n",
       "        vertical-align: middle;\n",
       "    }\n",
       "\n",
       "    .dataframe tbody tr th {\n",
       "        vertical-align: top;\n",
       "    }\n",
       "\n",
       "    .dataframe thead th {\n",
       "        text-align: right;\n",
       "    }\n",
       "</style>\n",
       "<table border=\"1\" class=\"dataframe\">\n",
       "  <thead>\n",
       "    <tr style=\"text-align: right;\">\n",
       "      <th></th>\n",
       "      <th>location</th>\n",
       "      <th>arrondissement</th>\n",
       "      <th>department_num</th>\n",
       "      <th>department</th>\n",
       "      <th>capital</th>\n",
       "      <th>region</th>\n",
       "      <th>geometry</th>\n",
       "    </tr>\n",
       "  </thead>\n",
       "  <tbody>\n",
       "    <tr>\n",
       "      <th>16</th>\n",
       "      <td>Paris, 75016</td>\n",
       "      <td>16th (Passy)</td>\n",
       "      <td>75</td>\n",
       "      <td>Paris</td>\n",
       "      <td>Paris</td>\n",
       "      <td>Île-de-France</td>\n",
       "      <td>POLYGON ((2.27427 48.87837, 2.27749 48.87796, ...</td>\n",
       "    </tr>\n",
       "    <tr>\n",
       "      <th>17</th>\n",
       "      <td>Paris, 75017</td>\n",
       "      <td>17th (Batignolles-Monceau)</td>\n",
       "      <td>75</td>\n",
       "      <td>Paris</td>\n",
       "      <td>Paris</td>\n",
       "      <td>Île-de-France</td>\n",
       "      <td>POLYGON ((2.29517 48.87396, 2.29504 48.87378, ...</td>\n",
       "    </tr>\n",
       "    <tr>\n",
       "      <th>18</th>\n",
       "      <td>Paris, 75018</td>\n",
       "      <td>18th (Butte-Montmartre)</td>\n",
       "      <td>75</td>\n",
       "      <td>Paris</td>\n",
       "      <td>Paris</td>\n",
       "      <td>Île-de-France</td>\n",
       "      <td>POLYGON ((2.3658 48.88554, 2.36469 48.88437, 2...</td>\n",
       "    </tr>\n",
       "    <tr>\n",
       "      <th>19</th>\n",
       "      <td>Paris, 75019</td>\n",
       "      <td>19th (Buttes-Chaumont)</td>\n",
       "      <td>75</td>\n",
       "      <td>Paris</td>\n",
       "      <td>Paris</td>\n",
       "      <td>Île-de-France</td>\n",
       "      <td>POLYGON ((2.38943 48.90122, 2.39014 48.90108, ...</td>\n",
       "    </tr>\n",
       "    <tr>\n",
       "      <th>20</th>\n",
       "      <td>Paris, 75020</td>\n",
       "      <td>20th (Ménilmontant)</td>\n",
       "      <td>75</td>\n",
       "      <td>Paris</td>\n",
       "      <td>Paris</td>\n",
       "      <td>Île-de-France</td>\n",
       "      <td>POLYGON ((2.41277 48.87547, 2.41284 48.87524, ...</td>\n",
       "    </tr>\n",
       "  </tbody>\n",
       "</table>\n",
       "</div>"
      ]
     },
     "execution_count": 55,
     "metadata": {},
     "output_type": "execute_result"
    }
   ],
   "execution_count": 55
  },
  {
   "metadata": {
    "ExecuteTime": {
     "end_time": "2025-04-01T16:21:17.938270Z",
     "start_time": "2025-04-01T16:21:17.927516Z"
    }
   },
   "cell_type": "code",
   "source": "paris_geo_merged",
   "outputs": [
    {
     "data": {
      "text/plain": [
       "        location              arrondissement department_num department  \\\n",
       "0   Paris, 75001                1st (Louvre)             75      Paris   \n",
       "1   Paris, 75002                2nd (Bourse)             75      Paris   \n",
       "2   Paris, 75003                3rd (Temple)             75      Paris   \n",
       "3   Paris, 75004        4th (Hôtel-de-Ville)             75      Paris   \n",
       "4   Paris, 75005              5th (Panthéon)             75      Paris   \n",
       "5   Paris, 75006            6th (Luxembourg)             75      Paris   \n",
       "6   Paris, 75007        7th (Palais-Bourbon)             75      Paris   \n",
       "7   Paris, 75008                8th (Élysée)             75      Paris   \n",
       "8   Paris, 75009                 9th (Opéra)             75      Paris   \n",
       "9   Paris, 75010             10th (Entrepôt)             75      Paris   \n",
       "10  Paris, 75011           11th (Popincourt)             75      Paris   \n",
       "11  Paris, 75012              12th (Reuilly)             75      Paris   \n",
       "12  Paris, 75013             13th (Gobelins)             75      Paris   \n",
       "13  Paris, 75014         14th (Observatoire)             75      Paris   \n",
       "14  Paris, 75015            15th (Vaugirard)             75      Paris   \n",
       "16  Paris, 75016                16th (Passy)             75      Paris   \n",
       "17  Paris, 75017  17th (Batignolles-Monceau)             75      Paris   \n",
       "18  Paris, 75018     18th (Butte-Montmartre)             75      Paris   \n",
       "19  Paris, 75019      19th (Buttes-Chaumont)             75      Paris   \n",
       "20  Paris, 75020         20th (Ménilmontant)             75      Paris   \n",
       "\n",
       "   capital         region                                           geometry  \n",
       "0    Paris  Île-de-France  POLYGON ((2.32801 48.86992, 2.32997 48.86851, ...  \n",
       "1    Paris  Île-de-France  POLYGON ((2.35152 48.86443, 2.35095 48.86341, ...  \n",
       "2    Paris  Île-de-France  POLYGON ((2.36383 48.8675, 2.36389 48.86747, 2...  \n",
       "3    Paris  Île-de-France  POLYGON ((2.36851 48.85573, 2.369 48.85374, 2....  \n",
       "4    Paris  Île-de-France  POLYGON ((2.36443 48.84614, 2.36484 48.84584, ...  \n",
       "5    Paris  Île-de-France  POLYGON ((2.34459 48.85405, 2.34428 48.85375, ...  \n",
       "6    Paris  Île-de-France  POLYGON ((2.30088 48.85118, 2.29932 48.85217, ...  \n",
       "7    Paris  Île-de-France  POLYGON ((2.32584 48.86956, 2.32569 48.86954, ...  \n",
       "8    Paris  Île-de-France  POLYGON ((2.33978 48.88203, 2.33982 48.88202, ...  \n",
       "9    Paris  Île-de-France  POLYGON ((2.36469 48.88437, 2.36485 48.88436, ...  \n",
       "10   Paris  Île-de-France  POLYGON ((2.39624 48.85415, 2.39708 48.85308, ...  \n",
       "11   Paris  Île-de-France  POLYGON ((2.41388 48.83357, 2.41401 48.83357, ...  \n",
       "12   Paris  Île-de-France  POLYGON ((2.37491 48.83801, 2.37698 48.8361, 2...  \n",
       "13   Paris  Île-de-France  POLYGON ((2.33381 48.84061, 2.33673 48.83965, ...  \n",
       "14   Paris  Île-de-France  POLYGON ((2.29932 48.85217, 2.30088 48.85118, ...  \n",
       "16   Paris  Île-de-France  POLYGON ((2.27427 48.87837, 2.27749 48.87796, ...  \n",
       "17   Paris  Île-de-France  POLYGON ((2.29517 48.87396, 2.29504 48.87378, ...  \n",
       "18   Paris  Île-de-France  POLYGON ((2.3658 48.88554, 2.36469 48.88437, 2...  \n",
       "19   Paris  Île-de-France  POLYGON ((2.38943 48.90122, 2.39014 48.90108, ...  \n",
       "20   Paris  Île-de-France  POLYGON ((2.41277 48.87547, 2.41284 48.87524, ...  "
      ],
      "text/html": [
       "<div>\n",
       "<style scoped>\n",
       "    .dataframe tbody tr th:only-of-type {\n",
       "        vertical-align: middle;\n",
       "    }\n",
       "\n",
       "    .dataframe tbody tr th {\n",
       "        vertical-align: top;\n",
       "    }\n",
       "\n",
       "    .dataframe thead th {\n",
       "        text-align: right;\n",
       "    }\n",
       "</style>\n",
       "<table border=\"1\" class=\"dataframe\">\n",
       "  <thead>\n",
       "    <tr style=\"text-align: right;\">\n",
       "      <th></th>\n",
       "      <th>location</th>\n",
       "      <th>arrondissement</th>\n",
       "      <th>department_num</th>\n",
       "      <th>department</th>\n",
       "      <th>capital</th>\n",
       "      <th>region</th>\n",
       "      <th>geometry</th>\n",
       "    </tr>\n",
       "  </thead>\n",
       "  <tbody>\n",
       "    <tr>\n",
       "      <th>0</th>\n",
       "      <td>Paris, 75001</td>\n",
       "      <td>1st (Louvre)</td>\n",
       "      <td>75</td>\n",
       "      <td>Paris</td>\n",
       "      <td>Paris</td>\n",
       "      <td>Île-de-France</td>\n",
       "      <td>POLYGON ((2.32801 48.86992, 2.32997 48.86851, ...</td>\n",
       "    </tr>\n",
       "    <tr>\n",
       "      <th>1</th>\n",
       "      <td>Paris, 75002</td>\n",
       "      <td>2nd (Bourse)</td>\n",
       "      <td>75</td>\n",
       "      <td>Paris</td>\n",
       "      <td>Paris</td>\n",
       "      <td>Île-de-France</td>\n",
       "      <td>POLYGON ((2.35152 48.86443, 2.35095 48.86341, ...</td>\n",
       "    </tr>\n",
       "    <tr>\n",
       "      <th>2</th>\n",
       "      <td>Paris, 75003</td>\n",
       "      <td>3rd (Temple)</td>\n",
       "      <td>75</td>\n",
       "      <td>Paris</td>\n",
       "      <td>Paris</td>\n",
       "      <td>Île-de-France</td>\n",
       "      <td>POLYGON ((2.36383 48.8675, 2.36389 48.86747, 2...</td>\n",
       "    </tr>\n",
       "    <tr>\n",
       "      <th>3</th>\n",
       "      <td>Paris, 75004</td>\n",
       "      <td>4th (Hôtel-de-Ville)</td>\n",
       "      <td>75</td>\n",
       "      <td>Paris</td>\n",
       "      <td>Paris</td>\n",
       "      <td>Île-de-France</td>\n",
       "      <td>POLYGON ((2.36851 48.85573, 2.369 48.85374, 2....</td>\n",
       "    </tr>\n",
       "    <tr>\n",
       "      <th>4</th>\n",
       "      <td>Paris, 75005</td>\n",
       "      <td>5th (Panthéon)</td>\n",
       "      <td>75</td>\n",
       "      <td>Paris</td>\n",
       "      <td>Paris</td>\n",
       "      <td>Île-de-France</td>\n",
       "      <td>POLYGON ((2.36443 48.84614, 2.36484 48.84584, ...</td>\n",
       "    </tr>\n",
       "    <tr>\n",
       "      <th>5</th>\n",
       "      <td>Paris, 75006</td>\n",
       "      <td>6th (Luxembourg)</td>\n",
       "      <td>75</td>\n",
       "      <td>Paris</td>\n",
       "      <td>Paris</td>\n",
       "      <td>Île-de-France</td>\n",
       "      <td>POLYGON ((2.34459 48.85405, 2.34428 48.85375, ...</td>\n",
       "    </tr>\n",
       "    <tr>\n",
       "      <th>6</th>\n",
       "      <td>Paris, 75007</td>\n",
       "      <td>7th (Palais-Bourbon)</td>\n",
       "      <td>75</td>\n",
       "      <td>Paris</td>\n",
       "      <td>Paris</td>\n",
       "      <td>Île-de-France</td>\n",
       "      <td>POLYGON ((2.30088 48.85118, 2.29932 48.85217, ...</td>\n",
       "    </tr>\n",
       "    <tr>\n",
       "      <th>7</th>\n",
       "      <td>Paris, 75008</td>\n",
       "      <td>8th (Élysée)</td>\n",
       "      <td>75</td>\n",
       "      <td>Paris</td>\n",
       "      <td>Paris</td>\n",
       "      <td>Île-de-France</td>\n",
       "      <td>POLYGON ((2.32584 48.86956, 2.32569 48.86954, ...</td>\n",
       "    </tr>\n",
       "    <tr>\n",
       "      <th>8</th>\n",
       "      <td>Paris, 75009</td>\n",
       "      <td>9th (Opéra)</td>\n",
       "      <td>75</td>\n",
       "      <td>Paris</td>\n",
       "      <td>Paris</td>\n",
       "      <td>Île-de-France</td>\n",
       "      <td>POLYGON ((2.33978 48.88203, 2.33982 48.88202, ...</td>\n",
       "    </tr>\n",
       "    <tr>\n",
       "      <th>9</th>\n",
       "      <td>Paris, 75010</td>\n",
       "      <td>10th (Entrepôt)</td>\n",
       "      <td>75</td>\n",
       "      <td>Paris</td>\n",
       "      <td>Paris</td>\n",
       "      <td>Île-de-France</td>\n",
       "      <td>POLYGON ((2.36469 48.88437, 2.36485 48.88436, ...</td>\n",
       "    </tr>\n",
       "    <tr>\n",
       "      <th>10</th>\n",
       "      <td>Paris, 75011</td>\n",
       "      <td>11th (Popincourt)</td>\n",
       "      <td>75</td>\n",
       "      <td>Paris</td>\n",
       "      <td>Paris</td>\n",
       "      <td>Île-de-France</td>\n",
       "      <td>POLYGON ((2.39624 48.85415, 2.39708 48.85308, ...</td>\n",
       "    </tr>\n",
       "    <tr>\n",
       "      <th>11</th>\n",
       "      <td>Paris, 75012</td>\n",
       "      <td>12th (Reuilly)</td>\n",
       "      <td>75</td>\n",
       "      <td>Paris</td>\n",
       "      <td>Paris</td>\n",
       "      <td>Île-de-France</td>\n",
       "      <td>POLYGON ((2.41388 48.83357, 2.41401 48.83357, ...</td>\n",
       "    </tr>\n",
       "    <tr>\n",
       "      <th>12</th>\n",
       "      <td>Paris, 75013</td>\n",
       "      <td>13th (Gobelins)</td>\n",
       "      <td>75</td>\n",
       "      <td>Paris</td>\n",
       "      <td>Paris</td>\n",
       "      <td>Île-de-France</td>\n",
       "      <td>POLYGON ((2.37491 48.83801, 2.37698 48.8361, 2...</td>\n",
       "    </tr>\n",
       "    <tr>\n",
       "      <th>13</th>\n",
       "      <td>Paris, 75014</td>\n",
       "      <td>14th (Observatoire)</td>\n",
       "      <td>75</td>\n",
       "      <td>Paris</td>\n",
       "      <td>Paris</td>\n",
       "      <td>Île-de-France</td>\n",
       "      <td>POLYGON ((2.33381 48.84061, 2.33673 48.83965, ...</td>\n",
       "    </tr>\n",
       "    <tr>\n",
       "      <th>14</th>\n",
       "      <td>Paris, 75015</td>\n",
       "      <td>15th (Vaugirard)</td>\n",
       "      <td>75</td>\n",
       "      <td>Paris</td>\n",
       "      <td>Paris</td>\n",
       "      <td>Île-de-France</td>\n",
       "      <td>POLYGON ((2.29932 48.85217, 2.30088 48.85118, ...</td>\n",
       "    </tr>\n",
       "    <tr>\n",
       "      <th>16</th>\n",
       "      <td>Paris, 75016</td>\n",
       "      <td>16th (Passy)</td>\n",
       "      <td>75</td>\n",
       "      <td>Paris</td>\n",
       "      <td>Paris</td>\n",
       "      <td>Île-de-France</td>\n",
       "      <td>POLYGON ((2.27427 48.87837, 2.27749 48.87796, ...</td>\n",
       "    </tr>\n",
       "    <tr>\n",
       "      <th>17</th>\n",
       "      <td>Paris, 75017</td>\n",
       "      <td>17th (Batignolles-Monceau)</td>\n",
       "      <td>75</td>\n",
       "      <td>Paris</td>\n",
       "      <td>Paris</td>\n",
       "      <td>Île-de-France</td>\n",
       "      <td>POLYGON ((2.29517 48.87396, 2.29504 48.87378, ...</td>\n",
       "    </tr>\n",
       "    <tr>\n",
       "      <th>18</th>\n",
       "      <td>Paris, 75018</td>\n",
       "      <td>18th (Butte-Montmartre)</td>\n",
       "      <td>75</td>\n",
       "      <td>Paris</td>\n",
       "      <td>Paris</td>\n",
       "      <td>Île-de-France</td>\n",
       "      <td>POLYGON ((2.3658 48.88554, 2.36469 48.88437, 2...</td>\n",
       "    </tr>\n",
       "    <tr>\n",
       "      <th>19</th>\n",
       "      <td>Paris, 75019</td>\n",
       "      <td>19th (Buttes-Chaumont)</td>\n",
       "      <td>75</td>\n",
       "      <td>Paris</td>\n",
       "      <td>Paris</td>\n",
       "      <td>Île-de-France</td>\n",
       "      <td>POLYGON ((2.38943 48.90122, 2.39014 48.90108, ...</td>\n",
       "    </tr>\n",
       "    <tr>\n",
       "      <th>20</th>\n",
       "      <td>Paris, 75020</td>\n",
       "      <td>20th (Ménilmontant)</td>\n",
       "      <td>75</td>\n",
       "      <td>Paris</td>\n",
       "      <td>Paris</td>\n",
       "      <td>Île-de-France</td>\n",
       "      <td>POLYGON ((2.41277 48.87547, 2.41284 48.87524, ...</td>\n",
       "    </tr>\n",
       "  </tbody>\n",
       "</table>\n",
       "</div>"
      ]
     },
     "execution_count": 56,
     "metadata": {},
     "output_type": "execute_result"
    }
   ],
   "execution_count": 56
  },
  {
   "metadata": {},
   "cell_type": "markdown",
   "source": "#### Adding restaurant counts and locations"
  },
  {
   "metadata": {
    "ExecuteTime": {
     "end_time": "2025-04-01T16:21:39.954818Z",
     "start_time": "2025-04-01T16:21:39.945657Z"
    }
   },
   "cell_type": "code",
   "source": [
    "print(f\"Parisien Restos: {paris.shape}\")\n",
    "paris.head()"
   ],
   "outputs": [
    {
     "name": "stdout",
     "output_type": "stream",
     "text": [
      "Parisien Restos: (460, 16)\n"
     ]
    },
    {
     "data": {
      "text/plain": [
       "             name                                          address  \\\n",
       "0     L'Ambroisie                               9 place des Vosges   \n",
       "2         Épicure     Le Bristol, 112 rue du Faubourg-Saint-Honoré   \n",
       "3          Arpège                                84 rue de Varenne   \n",
       "4  Le Pré Catelan             Route de Suresnes - bois de Boulogne   \n",
       "5         Le Cinq  Four Seasons Hotel George V, 31 avenue George-V   \n",
       "\n",
       "       location        arrondissement department_num department capital  \\\n",
       "0  Paris, 75004  4th (Hôtel-de-Ville)             75      Paris   Paris   \n",
       "2  Paris, 75008          8th (Élysée)             75      Paris   Paris   \n",
       "3  Paris, 75007  7th (Palais-Bourbon)             75      Paris   Paris   \n",
       "4  Paris, 75016          16th (Passy)             75      Paris   Paris   \n",
       "5  Paris, 75008          8th (Élysée)             75      Paris   Paris   \n",
       "\n",
       "          region price                 cuisine  \\\n",
       "0  Île-de-France  €€€€         Classic Cuisine   \n",
       "2  Île-de-France  €€€€          Modern Cuisine   \n",
       "3  Île-de-France  €€€€                Creative   \n",
       "4  Île-de-France  €€€€  Creative, Contemporary   \n",
       "5  Île-de-France  €€€€          Modern Cuisine   \n",
       "\n",
       "                                                 url    award  stars  \\\n",
       "0                   https://www.ambroisie-paris.com/  3 Stars    3.0   \n",
       "2  https://www.oetkercollection.com/fr/hotels/le-...  3 Stars    3.0   \n",
       "3                     https://www.alain-passard.com/  3 Stars    3.0   \n",
       "4                      https://www.leprecatelan.com/  3 Stars    3.0   \n",
       "5                        https://www.fourseasons.com  3 Stars    3.0   \n",
       "\n",
       "   greenstar  longitude   latitude  \n",
       "0          0   2.364521  48.855494  \n",
       "2          0   2.314598  48.871722  \n",
       "3          1   2.317013  48.855754  \n",
       "4          0   2.250718  48.863937  \n",
       "5          0   2.300861  48.868760  "
      ],
      "text/html": [
       "<div>\n",
       "<style scoped>\n",
       "    .dataframe tbody tr th:only-of-type {\n",
       "        vertical-align: middle;\n",
       "    }\n",
       "\n",
       "    .dataframe tbody tr th {\n",
       "        vertical-align: top;\n",
       "    }\n",
       "\n",
       "    .dataframe thead th {\n",
       "        text-align: right;\n",
       "    }\n",
       "</style>\n",
       "<table border=\"1\" class=\"dataframe\">\n",
       "  <thead>\n",
       "    <tr style=\"text-align: right;\">\n",
       "      <th></th>\n",
       "      <th>name</th>\n",
       "      <th>address</th>\n",
       "      <th>location</th>\n",
       "      <th>arrondissement</th>\n",
       "      <th>department_num</th>\n",
       "      <th>department</th>\n",
       "      <th>capital</th>\n",
       "      <th>region</th>\n",
       "      <th>price</th>\n",
       "      <th>cuisine</th>\n",
       "      <th>url</th>\n",
       "      <th>award</th>\n",
       "      <th>stars</th>\n",
       "      <th>greenstar</th>\n",
       "      <th>longitude</th>\n",
       "      <th>latitude</th>\n",
       "    </tr>\n",
       "  </thead>\n",
       "  <tbody>\n",
       "    <tr>\n",
       "      <th>0</th>\n",
       "      <td>L'Ambroisie</td>\n",
       "      <td>9 place des Vosges</td>\n",
       "      <td>Paris, 75004</td>\n",
       "      <td>4th (Hôtel-de-Ville)</td>\n",
       "      <td>75</td>\n",
       "      <td>Paris</td>\n",
       "      <td>Paris</td>\n",
       "      <td>Île-de-France</td>\n",
       "      <td>€€€€</td>\n",
       "      <td>Classic Cuisine</td>\n",
       "      <td>https://www.ambroisie-paris.com/</td>\n",
       "      <td>3 Stars</td>\n",
       "      <td>3.0</td>\n",
       "      <td>0</td>\n",
       "      <td>2.364521</td>\n",
       "      <td>48.855494</td>\n",
       "    </tr>\n",
       "    <tr>\n",
       "      <th>2</th>\n",
       "      <td>Épicure</td>\n",
       "      <td>Le Bristol, 112 rue du Faubourg-Saint-Honoré</td>\n",
       "      <td>Paris, 75008</td>\n",
       "      <td>8th (Élysée)</td>\n",
       "      <td>75</td>\n",
       "      <td>Paris</td>\n",
       "      <td>Paris</td>\n",
       "      <td>Île-de-France</td>\n",
       "      <td>€€€€</td>\n",
       "      <td>Modern Cuisine</td>\n",
       "      <td>https://www.oetkercollection.com/fr/hotels/le-...</td>\n",
       "      <td>3 Stars</td>\n",
       "      <td>3.0</td>\n",
       "      <td>0</td>\n",
       "      <td>2.314598</td>\n",
       "      <td>48.871722</td>\n",
       "    </tr>\n",
       "    <tr>\n",
       "      <th>3</th>\n",
       "      <td>Arpège</td>\n",
       "      <td>84 rue de Varenne</td>\n",
       "      <td>Paris, 75007</td>\n",
       "      <td>7th (Palais-Bourbon)</td>\n",
       "      <td>75</td>\n",
       "      <td>Paris</td>\n",
       "      <td>Paris</td>\n",
       "      <td>Île-de-France</td>\n",
       "      <td>€€€€</td>\n",
       "      <td>Creative</td>\n",
       "      <td>https://www.alain-passard.com/</td>\n",
       "      <td>3 Stars</td>\n",
       "      <td>3.0</td>\n",
       "      <td>1</td>\n",
       "      <td>2.317013</td>\n",
       "      <td>48.855754</td>\n",
       "    </tr>\n",
       "    <tr>\n",
       "      <th>4</th>\n",
       "      <td>Le Pré Catelan</td>\n",
       "      <td>Route de Suresnes - bois de Boulogne</td>\n",
       "      <td>Paris, 75016</td>\n",
       "      <td>16th (Passy)</td>\n",
       "      <td>75</td>\n",
       "      <td>Paris</td>\n",
       "      <td>Paris</td>\n",
       "      <td>Île-de-France</td>\n",
       "      <td>€€€€</td>\n",
       "      <td>Creative, Contemporary</td>\n",
       "      <td>https://www.leprecatelan.com/</td>\n",
       "      <td>3 Stars</td>\n",
       "      <td>3.0</td>\n",
       "      <td>0</td>\n",
       "      <td>2.250718</td>\n",
       "      <td>48.863937</td>\n",
       "    </tr>\n",
       "    <tr>\n",
       "      <th>5</th>\n",
       "      <td>Le Cinq</td>\n",
       "      <td>Four Seasons Hotel George V, 31 avenue George-V</td>\n",
       "      <td>Paris, 75008</td>\n",
       "      <td>8th (Élysée)</td>\n",
       "      <td>75</td>\n",
       "      <td>Paris</td>\n",
       "      <td>Paris</td>\n",
       "      <td>Île-de-France</td>\n",
       "      <td>€€€€</td>\n",
       "      <td>Modern Cuisine</td>\n",
       "      <td>https://www.fourseasons.com</td>\n",
       "      <td>3 Stars</td>\n",
       "      <td>3.0</td>\n",
       "      <td>0</td>\n",
       "      <td>2.300861</td>\n",
       "      <td>48.868760</td>\n",
       "    </tr>\n",
       "  </tbody>\n",
       "</table>\n",
       "</div>"
      ]
     },
     "execution_count": 57,
     "metadata": {},
     "output_type": "execute_result"
    }
   ],
   "execution_count": 57
  },
  {
   "metadata": {
    "ExecuteTime": {
     "end_time": "2025-04-01T16:21:43.561689Z",
     "start_time": "2025-04-01T16:21:43.554383Z"
    }
   },
   "cell_type": "code",
   "source": [
    "paris_data_copy = paris.copy()\n",
    "\n",
    "# Create dummy variables for each category of 'star'\n",
    "paris_data_copy['green_stars'] = paris_data_copy['greenstar'].apply(lambda x: 1 if x == 1 else 0)\n",
    "paris_data_copy['selected'] = paris_data_copy['stars'].apply(lambda x: 1 if x == 0.25 else 0)\n",
    "paris_data_copy['bib_gourmand'] = paris_data_copy['stars'].apply(lambda x: 1 if x == 0.5 else 0)\n",
    "paris_data_copy['1_star'] = paris_data_copy['stars'].apply(lambda x: 1 if x == 1.0 else 0)\n",
    "paris_data_copy['2_star'] = paris_data_copy['stars'].apply(lambda x: 1 if x == 2.0 else 0)\n",
    "paris_data_copy['3_star'] = paris_data_copy['stars'].apply(lambda x: 1 if x == 3.0 else 0)"
   ],
   "outputs": [],
   "execution_count": 58
  },
  {
   "metadata": {
    "ExecuteTime": {
     "end_time": "2025-04-01T16:21:46.554741Z",
     "start_time": "2025-04-01T16:21:46.549795Z"
    }
   },
   "cell_type": "code",
   "source": [
    "# Group by 'arrondissement' and sum 'bib', '1_star', '2_star' and '3_star'\n",
    "paris_arrondissement_grouped = paris_data_copy.groupby('arrondissement')[['green_stars', 'selected', 'bib_gourmand', '1_star', '2_star', '3_star']].sum()"
   ],
   "outputs": [],
   "execution_count": 59
  },
  {
   "metadata": {
    "ExecuteTime": {
     "end_time": "2025-04-01T16:21:49.105535Z",
     "start_time": "2025-04-01T16:21:49.100067Z"
    }
   },
   "cell_type": "code",
   "source": [
    "# Create a 'total_ star' column - sum of stars\n",
    "# Individual stars are summed here. ie, If 2 star then stars = 2\n",
    "paris_arrondissement_grouped['total_stars'] = paris_arrondissement_grouped['1_star']*1 + paris_arrondissement_grouped['2_star']*2 + paris_arrondissement_grouped['3_star']*3\n",
    "\n",
    "# Create a 'total' column = sum of restaurants\n",
    "paris_arrondissement_grouped['starred_restaurants'] =  paris_arrondissement_grouped['1_star'] + paris_arrondissement_grouped['2_star'] + paris_arrondissement_grouped['3_star']\n",
    "\n",
    "paris_arrondissement_grouped = paris_arrondissement_grouped.reset_index()\n",
    "if 'index' in paris_arrondissement_grouped.columns:\n",
    "    paris_arrondissement_grouped = paris_arrondissement_grouped.rename(columns={'index': 'arrondissement'})"
   ],
   "outputs": [],
   "execution_count": 60
  },
  {
   "metadata": {
    "ExecuteTime": {
     "end_time": "2025-04-01T16:21:51.479809Z",
     "start_time": "2025-04-01T16:21:51.472892Z"
    }
   },
   "cell_type": "code",
   "source": [
    "print(f\"Shape: {paris_arrondissement_grouped.shape}\")\n",
    "paris_arrondissement_grouped.head()"
   ],
   "outputs": [
    {
     "name": "stdout",
     "output_type": "stream",
     "text": [
      "Shape: (20, 9)\n"
     ]
    },
    {
     "data": {
      "text/plain": [
       "        arrondissement  green_stars  selected  bib_gourmand  1_star  2_star  \\\n",
       "0      10th (Entrepôt)            0        15             1       0       0   \n",
       "1    11th (Popincourt)            2        23             3       7       0   \n",
       "2       12th (Reuilly)            1        10             1       1       1   \n",
       "3      13th (Gobelins)            0         9             1       0       0   \n",
       "4  14th (Observatoire)            0         9             3       1       0   \n",
       "\n",
       "   3_star  total_stars  starred_restaurants  \n",
       "0       0            0                    0  \n",
       "1       0            7                    7  \n",
       "2       0            3                    2  \n",
       "3       0            0                    0  \n",
       "4       0            1                    1  "
      ],
      "text/html": [
       "<div>\n",
       "<style scoped>\n",
       "    .dataframe tbody tr th:only-of-type {\n",
       "        vertical-align: middle;\n",
       "    }\n",
       "\n",
       "    .dataframe tbody tr th {\n",
       "        vertical-align: top;\n",
       "    }\n",
       "\n",
       "    .dataframe thead th {\n",
       "        text-align: right;\n",
       "    }\n",
       "</style>\n",
       "<table border=\"1\" class=\"dataframe\">\n",
       "  <thead>\n",
       "    <tr style=\"text-align: right;\">\n",
       "      <th></th>\n",
       "      <th>arrondissement</th>\n",
       "      <th>green_stars</th>\n",
       "      <th>selected</th>\n",
       "      <th>bib_gourmand</th>\n",
       "      <th>1_star</th>\n",
       "      <th>2_star</th>\n",
       "      <th>3_star</th>\n",
       "      <th>total_stars</th>\n",
       "      <th>starred_restaurants</th>\n",
       "    </tr>\n",
       "  </thead>\n",
       "  <tbody>\n",
       "    <tr>\n",
       "      <th>0</th>\n",
       "      <td>10th (Entrepôt)</td>\n",
       "      <td>0</td>\n",
       "      <td>15</td>\n",
       "      <td>1</td>\n",
       "      <td>0</td>\n",
       "      <td>0</td>\n",
       "      <td>0</td>\n",
       "      <td>0</td>\n",
       "      <td>0</td>\n",
       "    </tr>\n",
       "    <tr>\n",
       "      <th>1</th>\n",
       "      <td>11th (Popincourt)</td>\n",
       "      <td>2</td>\n",
       "      <td>23</td>\n",
       "      <td>3</td>\n",
       "      <td>7</td>\n",
       "      <td>0</td>\n",
       "      <td>0</td>\n",
       "      <td>7</td>\n",
       "      <td>7</td>\n",
       "    </tr>\n",
       "    <tr>\n",
       "      <th>2</th>\n",
       "      <td>12th (Reuilly)</td>\n",
       "      <td>1</td>\n",
       "      <td>10</td>\n",
       "      <td>1</td>\n",
       "      <td>1</td>\n",
       "      <td>1</td>\n",
       "      <td>0</td>\n",
       "      <td>3</td>\n",
       "      <td>2</td>\n",
       "    </tr>\n",
       "    <tr>\n",
       "      <th>3</th>\n",
       "      <td>13th (Gobelins)</td>\n",
       "      <td>0</td>\n",
       "      <td>9</td>\n",
       "      <td>1</td>\n",
       "      <td>0</td>\n",
       "      <td>0</td>\n",
       "      <td>0</td>\n",
       "      <td>0</td>\n",
       "      <td>0</td>\n",
       "    </tr>\n",
       "    <tr>\n",
       "      <th>4</th>\n",
       "      <td>14th (Observatoire)</td>\n",
       "      <td>0</td>\n",
       "      <td>9</td>\n",
       "      <td>3</td>\n",
       "      <td>1</td>\n",
       "      <td>0</td>\n",
       "      <td>0</td>\n",
       "      <td>1</td>\n",
       "      <td>1</td>\n",
       "    </tr>\n",
       "  </tbody>\n",
       "</table>\n",
       "</div>"
      ]
     },
     "execution_count": 61,
     "metadata": {},
     "output_type": "execute_result"
    }
   ],
   "execution_count": 61
  },
  {
   "metadata": {
    "ExecuteTime": {
     "end_time": "2025-04-01T16:22:13.625262Z",
     "start_time": "2025-04-01T16:22:13.620865Z"
    }
   },
   "cell_type": "code",
   "source": [
    "# Merge the grouped data with the geospatial data\n",
    "paris_final_merged = paris_geo_merged.merge(paris_arrondissement_grouped, on='arrondissement', how='left')"
   ],
   "outputs": [],
   "execution_count": 62
  },
  {
   "metadata": {},
   "cell_type": "markdown",
   "source": "#### Adding individual restaurants"
  },
  {
   "metadata": {
    "ExecuteTime": {
     "end_time": "2025-04-01T16:22:16.469248Z",
     "start_time": "2025-04-01T16:22:16.466113Z"
    }
   },
   "cell_type": "code",
   "source": "print(paris.columns.tolist())",
   "outputs": [
    {
     "name": "stdout",
     "output_type": "stream",
     "text": [
      "['name', 'address', 'location', 'arrondissement', 'department_num', 'department', 'capital', 'region', 'price', 'cuisine', 'url', 'award', 'stars', 'greenstar', 'longitude', 'latitude']\n"
     ]
    }
   ],
   "execution_count": 63
  },
  {
   "metadata": {
    "ExecuteTime": {
     "end_time": "2025-04-01T16:22:20.340859Z",
     "start_time": "2025-04-01T16:22:20.331455Z"
    }
   },
   "cell_type": "code",
   "source": [
    "# Create a separate DataFrame with star ratings, regions, and coordinates\n",
    "location_paris_arrond = paris[['stars', 'arrondissement', 'latitude', 'longitude']]\n",
    "\n",
    "# Aggregate latitude and longitude into lists\n",
    "grouped = location_paris_arrond.groupby(['stars', 'arrondissement']).agg({'latitude': list, 'longitude': list})\n",
    "\n",
    "# Zip the lists of latitudes and longitudes into coordinates\n",
    "grouped['coordinates'] = grouped.apply(lambda x: list(zip(x['latitude'], x['longitude'])), axis=1)\n",
    "\n",
    "# Convert to dictionary\n",
    "location_paris_arrond = grouped['coordinates'].to_dict()"
   ],
   "outputs": [],
   "execution_count": 64
  },
  {
   "metadata": {
    "ExecuteTime": {
     "end_time": "2025-04-01T16:22:23.268619Z",
     "start_time": "2025-04-01T16:22:23.263466Z"
    }
   },
   "cell_type": "code",
   "source": [
    "# Create a mapping from star values to string labels\n",
    "star_label_mapping = {\n",
    "    0.25: 'Selected',\n",
    "    0.5: 'Bib',\n",
    "    1: '1',\n",
    "    2: '2',\n",
    "    3: '3'\n",
    "}\n",
    "\n",
    "# Now create a function to map these dictionaries to original DataFrame\n",
    "def map_locations_arrond(row):\n",
    "    return {star_label_mapping[stars]: location_paris_arrond.get((stars, row['arrondissement'])) for stars in [0.25, 0.5, 1, 2, 3]}\n",
    "\n",
    "paris_final_merged['locations'] = paris_final_merged.apply(map_locations_arrond, axis=1)"
   ],
   "outputs": [],
   "execution_count": 65
  },
  {
   "metadata": {
    "ExecuteTime": {
     "end_time": "2025-04-01T16:22:25.903997Z",
     "start_time": "2025-04-01T16:22:25.897899Z"
    }
   },
   "cell_type": "code",
   "source": [
    "# Drop 'Paris, ' prefix from 'location' and rename to 'code'\n",
    "paris_final_merged['code'] = paris_final_merged['location'].str.replace('Paris, ', '')\n",
    "paris_final_merged = paris_final_merged.drop(columns=['location'])\n",
    "\n",
    "# Reorder columns so 'code' is first and 'geometry' is last\n",
    "cols = ['code'] + [col for col in paris_final_merged.columns if col not in ['code', 'geometry']] + ['geometry']\n",
    "paris_final_merged = paris_final_merged[cols]"
   ],
   "outputs": [],
   "execution_count": 66
  },
  {
   "metadata": {
    "ExecuteTime": {
     "end_time": "2025-04-01T16:22:28.652870Z",
     "start_time": "2025-04-01T16:22:28.649456Z"
    }
   },
   "cell_type": "code",
   "source": [
    "# Convert the DataFrame into a GeoDataFrame using the 'geometry' column\n",
    "paris_final_merged_gdf = gpd.GeoDataFrame(paris_final_merged, geometry='geometry')"
   ],
   "outputs": [],
   "execution_count": 67
  },
  {
   "metadata": {
    "ExecuteTime": {
     "end_time": "2025-04-01T16:22:31.227260Z",
     "start_time": "2025-04-01T16:22:31.204659Z"
    }
   },
   "cell_type": "code",
   "source": [
    "print(f\"Shape: {paris_final_merged_gdf.shape}\")\n",
    "print(f\"Type: {type(paris_final_merged_gdf)}\")\n",
    "paris_final_merged_gdf.head()"
   ],
   "outputs": [
    {
     "name": "stdout",
     "output_type": "stream",
     "text": [
      "Shape: (20, 16)\n",
      "Type: <class 'geopandas.geodataframe.GeoDataFrame'>\n"
     ]
    },
    {
     "data": {
      "text/plain": [
       "    code        arrondissement department_num department capital  \\\n",
       "0  75001          1st (Louvre)             75      Paris   Paris   \n",
       "1  75002          2nd (Bourse)             75      Paris   Paris   \n",
       "2  75003          3rd (Temple)             75      Paris   Paris   \n",
       "3  75004  4th (Hôtel-de-Ville)             75      Paris   Paris   \n",
       "4  75005        5th (Panthéon)             75      Paris   Paris   \n",
       "\n",
       "          region  green_stars  selected  bib_gourmand  1_star  2_star  3_star  \\\n",
       "0  Île-de-France            0        21             1       9       2       2   \n",
       "1  Île-de-France            0        15             1       7       1       0   \n",
       "2  Île-de-France            0        13             0       2       0       0   \n",
       "3  Île-de-France            0        10             0       3       0       1   \n",
       "4  Île-de-France            0        13             1       7       0       0   \n",
       "\n",
       "   total_stars  starred_restaurants  \\\n",
       "0           19                   13   \n",
       "1            9                    8   \n",
       "2            2                    2   \n",
       "3            6                    4   \n",
       "4            7                    7   \n",
       "\n",
       "                                           locations  \\\n",
       "0  {'Selected': [(48.8653808, 2.3297932), (48.864...   \n",
       "1  {'Selected': [(48.8660245, 2.3489295), (48.869...   \n",
       "2  {'Selected': [(48.8620352, 2.3510841), (48.863...   \n",
       "3  {'Selected': [(48.8531761, 2.364001), (48.8595...   \n",
       "4  {'Selected': [(48.839, 2.3505), (48.8528713, 2...   \n",
       "\n",
       "                                            geometry  \n",
       "0  POLYGON ((2.32801 48.86992, 2.32997 48.86851, ...  \n",
       "1  POLYGON ((2.35152 48.86443, 2.35095 48.86341, ...  \n",
       "2  POLYGON ((2.36383 48.8675, 2.36389 48.86747, 2...  \n",
       "3  POLYGON ((2.36851 48.85573, 2.369 48.85374, 2....  \n",
       "4  POLYGON ((2.36443 48.84614, 2.36484 48.84584, ...  "
      ],
      "text/html": [
       "<div>\n",
       "<style scoped>\n",
       "    .dataframe tbody tr th:only-of-type {\n",
       "        vertical-align: middle;\n",
       "    }\n",
       "\n",
       "    .dataframe tbody tr th {\n",
       "        vertical-align: top;\n",
       "    }\n",
       "\n",
       "    .dataframe thead th {\n",
       "        text-align: right;\n",
       "    }\n",
       "</style>\n",
       "<table border=\"1\" class=\"dataframe\">\n",
       "  <thead>\n",
       "    <tr style=\"text-align: right;\">\n",
       "      <th></th>\n",
       "      <th>code</th>\n",
       "      <th>arrondissement</th>\n",
       "      <th>department_num</th>\n",
       "      <th>department</th>\n",
       "      <th>capital</th>\n",
       "      <th>region</th>\n",
       "      <th>green_stars</th>\n",
       "      <th>selected</th>\n",
       "      <th>bib_gourmand</th>\n",
       "      <th>1_star</th>\n",
       "      <th>2_star</th>\n",
       "      <th>3_star</th>\n",
       "      <th>total_stars</th>\n",
       "      <th>starred_restaurants</th>\n",
       "      <th>locations</th>\n",
       "      <th>geometry</th>\n",
       "    </tr>\n",
       "  </thead>\n",
       "  <tbody>\n",
       "    <tr>\n",
       "      <th>0</th>\n",
       "      <td>75001</td>\n",
       "      <td>1st (Louvre)</td>\n",
       "      <td>75</td>\n",
       "      <td>Paris</td>\n",
       "      <td>Paris</td>\n",
       "      <td>Île-de-France</td>\n",
       "      <td>0</td>\n",
       "      <td>21</td>\n",
       "      <td>1</td>\n",
       "      <td>9</td>\n",
       "      <td>2</td>\n",
       "      <td>2</td>\n",
       "      <td>19</td>\n",
       "      <td>13</td>\n",
       "      <td>{'Selected': [(48.8653808, 2.3297932), (48.864...</td>\n",
       "      <td>POLYGON ((2.32801 48.86992, 2.32997 48.86851, ...</td>\n",
       "    </tr>\n",
       "    <tr>\n",
       "      <th>1</th>\n",
       "      <td>75002</td>\n",
       "      <td>2nd (Bourse)</td>\n",
       "      <td>75</td>\n",
       "      <td>Paris</td>\n",
       "      <td>Paris</td>\n",
       "      <td>Île-de-France</td>\n",
       "      <td>0</td>\n",
       "      <td>15</td>\n",
       "      <td>1</td>\n",
       "      <td>7</td>\n",
       "      <td>1</td>\n",
       "      <td>0</td>\n",
       "      <td>9</td>\n",
       "      <td>8</td>\n",
       "      <td>{'Selected': [(48.8660245, 2.3489295), (48.869...</td>\n",
       "      <td>POLYGON ((2.35152 48.86443, 2.35095 48.86341, ...</td>\n",
       "    </tr>\n",
       "    <tr>\n",
       "      <th>2</th>\n",
       "      <td>75003</td>\n",
       "      <td>3rd (Temple)</td>\n",
       "      <td>75</td>\n",
       "      <td>Paris</td>\n",
       "      <td>Paris</td>\n",
       "      <td>Île-de-France</td>\n",
       "      <td>0</td>\n",
       "      <td>13</td>\n",
       "      <td>0</td>\n",
       "      <td>2</td>\n",
       "      <td>0</td>\n",
       "      <td>0</td>\n",
       "      <td>2</td>\n",
       "      <td>2</td>\n",
       "      <td>{'Selected': [(48.8620352, 2.3510841), (48.863...</td>\n",
       "      <td>POLYGON ((2.36383 48.8675, 2.36389 48.86747, 2...</td>\n",
       "    </tr>\n",
       "    <tr>\n",
       "      <th>3</th>\n",
       "      <td>75004</td>\n",
       "      <td>4th (Hôtel-de-Ville)</td>\n",
       "      <td>75</td>\n",
       "      <td>Paris</td>\n",
       "      <td>Paris</td>\n",
       "      <td>Île-de-France</td>\n",
       "      <td>0</td>\n",
       "      <td>10</td>\n",
       "      <td>0</td>\n",
       "      <td>3</td>\n",
       "      <td>0</td>\n",
       "      <td>1</td>\n",
       "      <td>6</td>\n",
       "      <td>4</td>\n",
       "      <td>{'Selected': [(48.8531761, 2.364001), (48.8595...</td>\n",
       "      <td>POLYGON ((2.36851 48.85573, 2.369 48.85374, 2....</td>\n",
       "    </tr>\n",
       "    <tr>\n",
       "      <th>4</th>\n",
       "      <td>75005</td>\n",
       "      <td>5th (Panthéon)</td>\n",
       "      <td>75</td>\n",
       "      <td>Paris</td>\n",
       "      <td>Paris</td>\n",
       "      <td>Île-de-France</td>\n",
       "      <td>0</td>\n",
       "      <td>13</td>\n",
       "      <td>1</td>\n",
       "      <td>7</td>\n",
       "      <td>0</td>\n",
       "      <td>0</td>\n",
       "      <td>7</td>\n",
       "      <td>7</td>\n",
       "      <td>{'Selected': [(48.839, 2.3505), (48.8528713, 2...</td>\n",
       "      <td>POLYGON ((2.36443 48.84614, 2.36484 48.84584, ...</td>\n",
       "    </tr>\n",
       "  </tbody>\n",
       "</table>\n",
       "</div>"
      ]
     },
     "execution_count": 68,
     "metadata": {},
     "output_type": "execute_result"
    }
   ],
   "execution_count": 68
  },
  {
   "metadata": {},
   "cell_type": "markdown",
   "source": "#### Export Paris data as GeoJSON file"
  },
  {
   "metadata": {
    "ExecuteTime": {
     "end_time": "2025-04-01T16:22:46.897104Z",
     "start_time": "2025-04-01T16:22:46.871696Z"
    }
   },
   "cell_type": "code",
   "source": "paris_final_merged_gdf.to_file('../../data/France/geodata/paris_restaurants.geojson', driver='GeoJSON')",
   "outputs": [],
   "execution_count": 69
  },
  {
   "cell_type": "markdown",
   "source": [
    "----\n",
    "&nbsp;\n",
    "## Rest of France\n",
    "#### Grouping by *arrondissement* based on number of Michelin stars"
   ],
   "metadata": {
    "collapsed": false,
    "ExecuteTime": {
     "end_time": "2023-08-11T16:02:54.610870Z",
     "start_time": "2023-08-11T16:02:54.516806Z"
    }
   }
  },
  {
   "cell_type": "code",
   "source": [
    "france_data_copy = france_df.copy()\n",
    "\n",
    "# Create dummy variables for each category of 'star'\n",
    "france_data_copy['green_stars'] = france_data_copy['greenstar'].apply(lambda x: 1 if x == 1 else 0)\n",
    "france_data_copy['selected'] = france_data_copy['stars'].apply(lambda x: 1 if x == 0.25 else 0)\n",
    "france_data_copy['bib_gourmand'] = france_data_copy['stars'].apply(lambda x: 1 if x == 0.5 else 0)\n",
    "france_data_copy['1_star'] = france_data_copy['stars'].apply(lambda x: 1 if x == 1.0 else 0)\n",
    "france_data_copy['2_star'] = france_data_copy['stars'].apply(lambda x: 1 if x == 2.0 else 0)\n",
    "france_data_copy['3_star'] = france_data_copy['stars'].apply(lambda x: 1 if x == 3.0 else 0)"
   ],
   "metadata": {
    "collapsed": false,
    "ExecuteTime": {
     "end_time": "2025-04-01T16:22:51.837600Z",
     "start_time": "2025-04-01T16:22:51.825325Z"
    }
   },
   "outputs": [],
   "execution_count": 70
  },
  {
   "cell_type": "markdown",
   "source": [
    "#### By *`arrondissement`*\n",
    "We sort `france_data` by total number of awarded restaurants"
   ],
   "metadata": {
    "collapsed": false,
    "ExecuteTime": {
     "end_time": "2023-08-11T16:02:54.835671Z",
     "start_time": "2023-08-11T16:02:54.827622Z"
    }
   }
  },
  {
   "cell_type": "code",
   "source": [
    "# Group by 'arrondissement' and sum 'bib', '1_star', '2_star' and '3_star'\n",
    "arrondissement_grouped = france_data_copy.groupby('arrondissement')[['green_stars', 'selected', 'bib_gourmand', '1_star', '2_star', '3_star']].sum()\n",
    "\n",
    "# Create a copy for plotting\n",
    "arrondissement_grouped_two = arrondissement_grouped.copy()"
   ],
   "metadata": {
    "collapsed": false,
    "ExecuteTime": {
     "end_time": "2025-04-01T16:22:54.436594Z",
     "start_time": "2025-04-01T16:22:54.430408Z"
    }
   },
   "outputs": [],
   "execution_count": 71
  },
  {
   "cell_type": "markdown",
   "source": [
    "`arrondissement_grouped` is created to be merged with the demographics data"
   ],
   "metadata": {
    "collapsed": false,
    "ExecuteTime": {
     "end_time": "2023-08-11T16:02:54.842698Z",
     "start_time": "2023-08-11T16:02:54.839307Z"
    }
   }
  },
  {
   "cell_type": "code",
   "source": [
    "# Create a 'total_ star' column - sum of stars\n",
    "# Individual stars are summed here. ie, If 2 star then stars = 2\n",
    "arrondissement_grouped['total_stars'] = arrondissement_grouped['1_star']*1 + arrondissement_grouped['2_star']*2 + arrondissement_grouped['3_star']*3\n",
    "\n",
    "# Create a 'total' column = sum of restaurants\n",
    "arrondissement_grouped['starred_restaurants'] =  arrondissement_grouped['1_star'] + arrondissement_grouped['2_star'] + arrondissement_grouped['3_star']\n",
    "\n",
    "# Sort the dataframe by the 'total_stars' column in descending order\n",
    "arrondissement_grouped.sort_values('total_stars', ascending=True, inplace=True)"
   ],
   "metadata": {
    "collapsed": false,
    "ExecuteTime": {
     "end_time": "2025-04-01T16:22:57.086283Z",
     "start_time": "2025-04-01T16:22:57.080953Z"
    }
   },
   "outputs": [],
   "execution_count": 72
  },
  {
   "cell_type": "code",
   "source": [
    "arrondissement_grouped.head()"
   ],
   "metadata": {
    "collapsed": false,
    "ExecuteTime": {
     "end_time": "2025-04-01T16:22:59.564781Z",
     "start_time": "2025-04-01T16:22:59.558534Z"
    }
   },
   "outputs": [
    {
     "data": {
      "text/plain": [
       "                green_stars  selected  bib_gourmand  1_star  2_star  3_star  \\\n",
       "arrondissement                                                                \n",
       "Abbeville                 1         5             1       0       0       0   \n",
       "Lesparre-Médoc            0         2             0       0       0       0   \n",
       "Évreux                    0         0             1       0       0       0   \n",
       "Limoux                    0         1             0       0       0       0   \n",
       "Lodève                    0         3             1       0       0       0   \n",
       "\n",
       "                total_stars  starred_restaurants  \n",
       "arrondissement                                    \n",
       "Abbeville                 0                    0  \n",
       "Lesparre-Médoc            0                    0  \n",
       "Évreux                    0                    0  \n",
       "Limoux                    0                    0  \n",
       "Lodève                    0                    0  "
      ],
      "text/html": [
       "<div>\n",
       "<style scoped>\n",
       "    .dataframe tbody tr th:only-of-type {\n",
       "        vertical-align: middle;\n",
       "    }\n",
       "\n",
       "    .dataframe tbody tr th {\n",
       "        vertical-align: top;\n",
       "    }\n",
       "\n",
       "    .dataframe thead th {\n",
       "        text-align: right;\n",
       "    }\n",
       "</style>\n",
       "<table border=\"1\" class=\"dataframe\">\n",
       "  <thead>\n",
       "    <tr style=\"text-align: right;\">\n",
       "      <th></th>\n",
       "      <th>green_stars</th>\n",
       "      <th>selected</th>\n",
       "      <th>bib_gourmand</th>\n",
       "      <th>1_star</th>\n",
       "      <th>2_star</th>\n",
       "      <th>3_star</th>\n",
       "      <th>total_stars</th>\n",
       "      <th>starred_restaurants</th>\n",
       "    </tr>\n",
       "    <tr>\n",
       "      <th>arrondissement</th>\n",
       "      <th></th>\n",
       "      <th></th>\n",
       "      <th></th>\n",
       "      <th></th>\n",
       "      <th></th>\n",
       "      <th></th>\n",
       "      <th></th>\n",
       "      <th></th>\n",
       "    </tr>\n",
       "  </thead>\n",
       "  <tbody>\n",
       "    <tr>\n",
       "      <th>Abbeville</th>\n",
       "      <td>1</td>\n",
       "      <td>5</td>\n",
       "      <td>1</td>\n",
       "      <td>0</td>\n",
       "      <td>0</td>\n",
       "      <td>0</td>\n",
       "      <td>0</td>\n",
       "      <td>0</td>\n",
       "    </tr>\n",
       "    <tr>\n",
       "      <th>Lesparre-Médoc</th>\n",
       "      <td>0</td>\n",
       "      <td>2</td>\n",
       "      <td>0</td>\n",
       "      <td>0</td>\n",
       "      <td>0</td>\n",
       "      <td>0</td>\n",
       "      <td>0</td>\n",
       "      <td>0</td>\n",
       "    </tr>\n",
       "    <tr>\n",
       "      <th>Évreux</th>\n",
       "      <td>0</td>\n",
       "      <td>0</td>\n",
       "      <td>1</td>\n",
       "      <td>0</td>\n",
       "      <td>0</td>\n",
       "      <td>0</td>\n",
       "      <td>0</td>\n",
       "      <td>0</td>\n",
       "    </tr>\n",
       "    <tr>\n",
       "      <th>Limoux</th>\n",
       "      <td>0</td>\n",
       "      <td>1</td>\n",
       "      <td>0</td>\n",
       "      <td>0</td>\n",
       "      <td>0</td>\n",
       "      <td>0</td>\n",
       "      <td>0</td>\n",
       "      <td>0</td>\n",
       "    </tr>\n",
       "    <tr>\n",
       "      <th>Lodève</th>\n",
       "      <td>0</td>\n",
       "      <td>3</td>\n",
       "      <td>1</td>\n",
       "      <td>0</td>\n",
       "      <td>0</td>\n",
       "      <td>0</td>\n",
       "      <td>0</td>\n",
       "      <td>0</td>\n",
       "    </tr>\n",
       "  </tbody>\n",
       "</table>\n",
       "</div>"
      ]
     },
     "execution_count": 73,
     "metadata": {},
     "output_type": "execute_result"
    }
   ],
   "execution_count": 73
  },
  {
   "cell_type": "markdown",
   "source": [
    "----\n",
    "&nbsp;\n",
    "## Plotting starred restaurants by *`arrondissement`*\n",
    "\n",
    "We use `arrondissement_grouped_two` for plotting whilst excluding Paris"
   ],
   "metadata": {
    "collapsed": false,
    "ExecuteTime": {
     "end_time": "2023-08-11T16:02:54.933834Z",
     "start_time": "2023-08-11T16:02:54.855247Z"
    }
   }
  },
  {
   "cell_type": "code",
   "source": [
    "# Create a 'total_starred' column - sum of starred restaurants\n",
    "arrondissement_grouped_two['total_starred'] = arrondissement_grouped_two['1_star'] + arrondissement_grouped_two['2_star'] + arrondissement_grouped_two['3_star']\n",
    "\n",
    "# Sort the dataframes by the 'total' and 'total_stars' columns in descending order\n",
    "arrondissement_grouped_two.sort_values('total_starred', ascending=True, inplace=True)"
   ],
   "metadata": {
    "collapsed": false,
    "ExecuteTime": {
     "end_time": "2025-04-01T16:23:17.243010Z",
     "start_time": "2025-04-01T16:23:17.238317Z"
    }
   },
   "outputs": [],
   "execution_count": 74
  },
  {
   "cell_type": "code",
   "source": [
    "# Exclude 'Paris'\n",
    "arrondissement_grouped_no_paris = arrondissement_grouped_two[arrondissement_grouped_two.index.get_level_values('arrondissement') != 'Paris']"
   ],
   "metadata": {
    "collapsed": false,
    "ExecuteTime": {
     "end_time": "2025-04-01T16:23:20.014508Z",
     "start_time": "2025-04-01T16:23:20.011288Z"
    }
   },
   "outputs": [],
   "execution_count": 75
  },
  {
   "cell_type": "code",
   "source": [
    "# Sort by 'total_starred' in descending order and keep the top 10\n",
    "arrondissement_grouped_top10 = arrondissement_grouped_no_paris.sort_values('total_starred', ascending=False).head(10)\n",
    "\n",
    "# Drop the 'bib_gourmand' & 'total' columns\n",
    "arrondissement_grouped_top10 = arrondissement_grouped_top10.drop(columns=['green_stars', 'selected', 'bib_gourmand', 'total_starred'])\n",
    "\n",
    "# Reverse the order of the DataFrame\n",
    "arrondissement_grouped_top10 = arrondissement_grouped_top10.iloc[::-1]"
   ],
   "metadata": {
    "collapsed": false,
    "ExecuteTime": {
     "end_time": "2025-04-01T16:23:22.266786Z",
     "start_time": "2025-04-01T16:23:22.262477Z"
    }
   },
   "outputs": [],
   "execution_count": 76
  },
  {
   "cell_type": "markdown",
   "source": [
    "Plot the data"
   ],
   "metadata": {
    "collapsed": false,
    "ExecuteTime": {
     "end_time": "2023-08-11T16:02:58.460663Z",
     "start_time": "2023-08-11T16:02:58.442714Z"
    }
   }
  },
  {
   "cell_type": "code",
   "source": [
    "# Create a horizontal stacked bar plot\n",
    "arrondissement_grouped_top10.plot(kind='barh', stacked=True, figsize=(10, 7),\n",
    "                    color=['#fee8c8','#fdbb84','#e34a33'])\n",
    "\n",
    "# Add title and labels\n",
    "plt.title('Michelin Starred Restaurants by Arrondissement\\n(Excludes Paris)')\n",
    "plt.ylabel('Arrondissement')\n",
    "plt.xlabel('Number of Restaurants')\n",
    "\n",
    "# Add a legend\n",
    "plt.legend(title='Michelin Stars', labels=['1 Star', '2 Star', '3 Star'])\n",
    "\n",
    "# Show the plot\n",
    "plt.show()"
   ],
   "metadata": {
    "collapsed": false,
    "ExecuteTime": {
     "end_time": "2025-04-01T16:23:25.535909Z",
     "start_time": "2025-04-01T16:23:25.427287Z"
    }
   },
   "outputs": [
    {
     "data": {
      "text/plain": [
       "<Figure size 1000x700 with 1 Axes>"
      ],
      "image/png": "[encoded data removed]"
     },
     "metadata": {},
     "output_type": "display_data"
    }
   ],
   "execution_count": 77
  },
  {
   "cell_type": "markdown",
   "source": [
    "----\n",
    "&nbsp;\n",
    "#### We now cascade merges from the smallest granularity (arrondissement) up to the highest (region) using the department as an intermediary linking point."
   ],
   "metadata": {
    "collapsed": false
   }
  },
  {
   "cell_type": "markdown",
   "source": [
    "#### 1. Extract departmental code from `geoJSON_df`"
   ],
   "metadata": {
    "collapsed": false,
    "ExecuteTime": {
     "end_time": "2023-08-11T16:05:56.738607Z",
     "start_time": "2023-08-11T16:05:56.700040Z"
    }
   }
  },
  {
   "cell_type": "code",
   "source": [
    "geoJSON_df['department_num'] = geoJSON_df['code'].str[:2]\n",
    "print(f\"Shape: {geoJSON_df.shape}\")\n",
    "print(f\"Columns: {geoJSON_df.columns.tolist()}\")\n",
    "geoJSON_df.head(3)"
   ],
   "metadata": {
    "collapsed": false,
    "ExecuteTime": {
     "end_time": "2025-04-01T16:23:41.461161Z",
     "start_time": "2025-04-01T16:23:41.453755Z"
    }
   },
   "outputs": [
    {
     "name": "stdout",
     "output_type": "stream",
     "text": [
      "Shape: (320, 4)\n",
      "Columns: ['code', 'nom', 'geometry', 'department_num']\n"
     ]
    },
    {
     "data": {
      "text/plain": [
       "    code              nom                                           geometry  \\\n",
       "0  01001           Belley  POLYGON ((5.12174 45.81118, 5.12665 45.81392, ...   \n",
       "1  01002  Bourg-en-Bresse  POLYGON ((4.98022 46.5152, 4.98355 46.51539, 4...   \n",
       "2  01003              Gex  POLYGON ((6.06401 46.41623, 6.0673 46.41494, 6...   \n",
       "\n",
       "  department_num  \n",
       "0             01  \n",
       "1             01  \n",
       "2             01  "
      ],
      "text/html": [
       "<div>\n",
       "<style scoped>\n",
       "    .dataframe tbody tr th:only-of-type {\n",
       "        vertical-align: middle;\n",
       "    }\n",
       "\n",
       "    .dataframe tbody tr th {\n",
       "        vertical-align: top;\n",
       "    }\n",
       "\n",
       "    .dataframe thead th {\n",
       "        text-align: right;\n",
       "    }\n",
       "</style>\n",
       "<table border=\"1\" class=\"dataframe\">\n",
       "  <thead>\n",
       "    <tr style=\"text-align: right;\">\n",
       "      <th></th>\n",
       "      <th>code</th>\n",
       "      <th>nom</th>\n",
       "      <th>geometry</th>\n",
       "      <th>department_num</th>\n",
       "    </tr>\n",
       "  </thead>\n",
       "  <tbody>\n",
       "    <tr>\n",
       "      <th>0</th>\n",
       "      <td>01001</td>\n",
       "      <td>Belley</td>\n",
       "      <td>POLYGON ((5.12174 45.81118, 5.12665 45.81392, ...</td>\n",
       "      <td>01</td>\n",
       "    </tr>\n",
       "    <tr>\n",
       "      <th>1</th>\n",
       "      <td>01002</td>\n",
       "      <td>Bourg-en-Bresse</td>\n",
       "      <td>POLYGON ((4.98022 46.5152, 4.98355 46.51539, 4...</td>\n",
       "      <td>01</td>\n",
       "    </tr>\n",
       "    <tr>\n",
       "      <th>2</th>\n",
       "      <td>01003</td>\n",
       "      <td>Gex</td>\n",
       "      <td>POLYGON ((6.06401 46.41623, 6.0673 46.41494, 6...</td>\n",
       "      <td>01</td>\n",
       "    </tr>\n",
       "  </tbody>\n",
       "</table>\n",
       "</div>"
      ]
     },
     "execution_count": 78,
     "metadata": {},
     "output_type": "execute_result"
    }
   ],
   "execution_count": 78
  },
  {
   "cell_type": "markdown",
   "source": [
    "#### 2. Extract department name from file produced in `France_Departments_Regions.ipynb`"
   ],
   "metadata": {
    "collapsed": false,
    "ExecuteTime": {
     "end_time": "2023-08-11T16:06:09.521157Z",
     "start_time": "2023-08-11T16:06:09.350698Z"
    }
   }
  },
  {
   "cell_type": "code",
   "source": [
    "departments = gpd.read_file(\"../../../../ExtraData/Geodata/departements.geojson\")\n",
    "print(f\"Shape: {departments.shape}\")\n",
    "print(f\"Columns: {departments.columns.tolist()}\")\n",
    "departments.head()"
   ],
   "metadata": {
    "collapsed": false,
    "ExecuteTime": {
     "end_time": "2025-04-01T16:23:48.622003Z",
     "start_time": "2025-04-01T16:23:48.498156Z"
    }
   },
   "outputs": [
    {
     "name": "stdout",
     "output_type": "stream",
     "text": [
      "Shape: (96, 3)\n",
      "Columns: ['code', 'nom', 'geometry']\n"
     ]
    },
    {
     "data": {
      "text/plain": [
       "  code                      nom  \\\n",
       "0   01                      Ain   \n",
       "1   02                    Aisne   \n",
       "2   03                   Allier   \n",
       "3   04  Alpes-de-Haute-Provence   \n",
       "4   05             Hautes-Alpes   \n",
       "\n",
       "                                            geometry  \n",
       "0  POLYGON ((4.78021 46.17668, 4.78024 46.18905, ...  \n",
       "1  POLYGON ((3.17296 50.01131, 3.17382 50.01186, ...  \n",
       "2  POLYGON ((3.03207 46.79491, 3.03424 46.7908, 3...  \n",
       "3  POLYGON ((5.67604 44.19143, 5.67817 44.19051, ...  \n",
       "4  POLYGON ((6.26057 45.12685, 6.26417 45.12641, ...  "
      ],
      "text/html": [
       "<div>\n",
       "<style scoped>\n",
       "    .dataframe tbody tr th:only-of-type {\n",
       "        vertical-align: middle;\n",
       "    }\n",
       "\n",
       "    .dataframe tbody tr th {\n",
       "        vertical-align: top;\n",
       "    }\n",
       "\n",
       "    .dataframe thead th {\n",
       "        text-align: right;\n",
       "    }\n",
       "</style>\n",
       "<table border=\"1\" class=\"dataframe\">\n",
       "  <thead>\n",
       "    <tr style=\"text-align: right;\">\n",
       "      <th></th>\n",
       "      <th>code</th>\n",
       "      <th>nom</th>\n",
       "      <th>geometry</th>\n",
       "    </tr>\n",
       "  </thead>\n",
       "  <tbody>\n",
       "    <tr>\n",
       "      <th>0</th>\n",
       "      <td>01</td>\n",
       "      <td>Ain</td>\n",
       "      <td>POLYGON ((4.78021 46.17668, 4.78024 46.18905, ...</td>\n",
       "    </tr>\n",
       "    <tr>\n",
       "      <th>1</th>\n",
       "      <td>02</td>\n",
       "      <td>Aisne</td>\n",
       "      <td>POLYGON ((3.17296 50.01131, 3.17382 50.01186, ...</td>\n",
       "    </tr>\n",
       "    <tr>\n",
       "      <th>2</th>\n",
       "      <td>03</td>\n",
       "      <td>Allier</td>\n",
       "      <td>POLYGON ((3.03207 46.79491, 3.03424 46.7908, 3...</td>\n",
       "    </tr>\n",
       "    <tr>\n",
       "      <th>3</th>\n",
       "      <td>04</td>\n",
       "      <td>Alpes-de-Haute-Provence</td>\n",
       "      <td>POLYGON ((5.67604 44.19143, 5.67817 44.19051, ...</td>\n",
       "    </tr>\n",
       "    <tr>\n",
       "      <th>4</th>\n",
       "      <td>05</td>\n",
       "      <td>Hautes-Alpes</td>\n",
       "      <td>POLYGON ((6.26057 45.12685, 6.26417 45.12641, ...</td>\n",
       "    </tr>\n",
       "  </tbody>\n",
       "</table>\n",
       "</div>"
      ]
     },
     "execution_count": 79,
     "metadata": {},
     "output_type": "execute_result"
    }
   ],
   "execution_count": 79
  },
  {
   "cell_type": "code",
   "source": [
    "# Merge the dataframes on the appropriate columns\n",
    "merged_geo_df = pd.merge(geoJSON_df[['code', 'nom', 'geometry', 'department_num']],\n",
    "                         departments[['code', 'nom']],\n",
    "                         left_on='department_num', right_on='code',\n",
    "                         how='left', suffixes=('_arrondissement', '_department'))"
   ],
   "metadata": {
    "collapsed": false,
    "ExecuteTime": {
     "end_time": "2025-04-01T16:23:52.994934Z",
     "start_time": "2025-04-01T16:23:52.987885Z"
    }
   },
   "outputs": [],
   "execution_count": 80
  },
  {
   "cell_type": "code",
   "source": [
    "print(f\"Shape: {merged_geo_df.shape}\")"
   ],
   "metadata": {
    "collapsed": false,
    "ExecuteTime": {
     "end_time": "2025-04-01T16:23:55.301715Z",
     "start_time": "2025-04-01T16:23:55.298421Z"
    }
   },
   "outputs": [
    {
     "name": "stdout",
     "output_type": "stream",
     "text": [
      "Shape: (320, 6)\n"
     ]
    }
   ],
   "execution_count": 81
  },
  {
   "cell_type": "code",
   "source": [
    "print(f\"Columns: {merged_geo_df.columns.tolist()}\")"
   ],
   "metadata": {
    "collapsed": false,
    "ExecuteTime": {
     "end_time": "2025-04-01T16:23:57.520866Z",
     "start_time": "2025-04-01T16:23:57.517755Z"
    }
   },
   "outputs": [
    {
     "name": "stdout",
     "output_type": "stream",
     "text": [
      "Columns: ['code_arrondissement', 'nom_arrondissement', 'geometry', 'department_num', 'code_department', 'nom_department']\n"
     ]
    }
   ],
   "execution_count": 82
  },
  {
   "cell_type": "code",
   "source": [
    "# Drop 'code_department'\n",
    "merged_geo_df.drop('code_department', axis=1, inplace=True)\n",
    "\n",
    "# Rename columns\n",
    "column_rename_map = {\n",
    "    'nom_arrondissement': 'arrondissement',\n",
    "    'nom_department': 'department'\n",
    "}\n",
    "merged_geo_df.rename(columns=column_rename_map, inplace=True)\n",
    "\n",
    "# Rearrange columns\n",
    "new_order = ['code_arrondissement', 'arrondissement', 'department_num', 'department', 'geometry']\n",
    "merged_geo_df = merged_geo_df[new_order]\n",
    "merged_geo_df.head()"
   ],
   "metadata": {
    "collapsed": false,
    "ExecuteTime": {
     "end_time": "2025-04-01T16:24:00.383158Z",
     "start_time": "2025-04-01T16:24:00.373115Z"
    }
   },
   "outputs": [
    {
     "data": {
      "text/plain": [
       "  code_arrondissement   arrondissement department_num department  \\\n",
       "0               01001           Belley             01        Ain   \n",
       "1               01002  Bourg-en-Bresse             01        Ain   \n",
       "2               01003              Gex             01        Ain   \n",
       "3               01004           Nantua             01        Ain   \n",
       "4               02001  Château-Thierry             02      Aisne   \n",
       "\n",
       "                                            geometry  \n",
       "0  POLYGON ((5.12174 45.81118, 5.12665 45.81392, ...  \n",
       "1  POLYGON ((4.98022 46.5152, 4.98355 46.51539, 4...  \n",
       "2  POLYGON ((6.06401 46.41623, 6.0673 46.41494, 6...  \n",
       "3  POLYGON ((5.63746 46.33644, 5.64007 46.33884, ...  \n",
       "4  POLYGON ((3.07188 49.11755, 3.07224 49.11832, ...  "
      ],
      "text/html": [
       "<div>\n",
       "<style scoped>\n",
       "    .dataframe tbody tr th:only-of-type {\n",
       "        vertical-align: middle;\n",
       "    }\n",
       "\n",
       "    .dataframe tbody tr th {\n",
       "        vertical-align: top;\n",
       "    }\n",
       "\n",
       "    .dataframe thead th {\n",
       "        text-align: right;\n",
       "    }\n",
       "</style>\n",
       "<table border=\"1\" class=\"dataframe\">\n",
       "  <thead>\n",
       "    <tr style=\"text-align: right;\">\n",
       "      <th></th>\n",
       "      <th>code_arrondissement</th>\n",
       "      <th>arrondissement</th>\n",
       "      <th>department_num</th>\n",
       "      <th>department</th>\n",
       "      <th>geometry</th>\n",
       "    </tr>\n",
       "  </thead>\n",
       "  <tbody>\n",
       "    <tr>\n",
       "      <th>0</th>\n",
       "      <td>01001</td>\n",
       "      <td>Belley</td>\n",
       "      <td>01</td>\n",
       "      <td>Ain</td>\n",
       "      <td>POLYGON ((5.12174 45.81118, 5.12665 45.81392, ...</td>\n",
       "    </tr>\n",
       "    <tr>\n",
       "      <th>1</th>\n",
       "      <td>01002</td>\n",
       "      <td>Bourg-en-Bresse</td>\n",
       "      <td>01</td>\n",
       "      <td>Ain</td>\n",
       "      <td>POLYGON ((4.98022 46.5152, 4.98355 46.51539, 4...</td>\n",
       "    </tr>\n",
       "    <tr>\n",
       "      <th>2</th>\n",
       "      <td>01003</td>\n",
       "      <td>Gex</td>\n",
       "      <td>01</td>\n",
       "      <td>Ain</td>\n",
       "      <td>POLYGON ((6.06401 46.41623, 6.0673 46.41494, 6...</td>\n",
       "    </tr>\n",
       "    <tr>\n",
       "      <th>3</th>\n",
       "      <td>01004</td>\n",
       "      <td>Nantua</td>\n",
       "      <td>01</td>\n",
       "      <td>Ain</td>\n",
       "      <td>POLYGON ((5.63746 46.33644, 5.64007 46.33884, ...</td>\n",
       "    </tr>\n",
       "    <tr>\n",
       "      <th>4</th>\n",
       "      <td>02001</td>\n",
       "      <td>Château-Thierry</td>\n",
       "      <td>02</td>\n",
       "      <td>Aisne</td>\n",
       "      <td>POLYGON ((3.07188 49.11755, 3.07224 49.11832, ...</td>\n",
       "    </tr>\n",
       "  </tbody>\n",
       "</table>\n",
       "</div>"
      ]
     },
     "execution_count": 83,
     "metadata": {},
     "output_type": "execute_result"
    }
   ],
   "execution_count": 83
  },
  {
   "cell_type": "markdown",
   "source": [
    "#### 3. Extract the region from `france_df`"
   ],
   "metadata": {
    "collapsed": false
   }
  },
  {
   "cell_type": "code",
   "source": [
    "# 1. Create a copy of france_df and retain only the columns of interest\n",
    "france_subset = france_df[['department_num', 'department', 'capital', 'region']].copy()\n",
    "\n",
    "# Drop duplicates based on 'department_num'\n",
    "france_subset = france_subset.drop_duplicates(subset='department_num')\n",
    "print(f\"Shape: {france_subset.shape}\")"
   ],
   "metadata": {
    "collapsed": false,
    "ExecuteTime": {
     "end_time": "2025-04-01T16:24:08.478995Z",
     "start_time": "2025-04-01T16:24:08.472746Z"
    }
   },
   "outputs": [
    {
     "name": "stdout",
     "output_type": "stream",
     "text": [
      "Shape: (96, 4)\n"
     ]
    }
   ],
   "execution_count": 84
  },
  {
   "cell_type": "markdown",
   "source": "We know there are 96 departments. Therefore, *all good!*",
   "metadata": {
    "collapsed": false,
    "ExecuteTime": {
     "end_time": "2023-08-11T16:06:27.026761Z",
     "start_time": "2023-08-11T16:06:27.013741Z"
    }
   }
  },
  {
   "cell_type": "code",
   "source": [
    "# Sort by 'department_num'\n",
    "france_subset = france_subset.sort_values(by='department_num').reset_index(drop=True)"
   ],
   "metadata": {
    "collapsed": false,
    "ExecuteTime": {
     "end_time": "2025-04-01T16:24:11.734064Z",
     "start_time": "2025-04-01T16:24:11.730832Z"
    }
   },
   "outputs": [],
   "execution_count": 85
  },
  {
   "cell_type": "code",
   "source": [
    "print(f\"Shape: {france_subset.shape}\")\n",
    "france_subset.head()"
   ],
   "metadata": {
    "collapsed": false,
    "ExecuteTime": {
     "end_time": "2025-04-01T16:24:15.940901Z",
     "start_time": "2025-04-01T16:24:15.935279Z"
    }
   },
   "outputs": [
    {
     "name": "stdout",
     "output_type": "stream",
     "text": [
      "Shape: (96, 4)\n"
     ]
    },
    {
     "data": {
      "text/plain": [
       "  department_num               department          capital  \\\n",
       "0             01                      Ain  Bourg-en-Bresse   \n",
       "1             02                    Aisne             Laon   \n",
       "2             03                   Allier          Moulins   \n",
       "3             04  Alpes-de-Haute-Provence  Digne-les-Bains   \n",
       "4             05             Hautes-Alpes              Gap   \n",
       "\n",
       "                       region  \n",
       "0        Auvergne-Rhône-Alpes  \n",
       "1             Hauts-de-France  \n",
       "2        Auvergne-Rhône-Alpes  \n",
       "3  Provence-Alpes-Côte d'Azur  \n",
       "4  Provence-Alpes-Côte d'Azur  "
      ],
      "text/html": [
       "<div>\n",
       "<style scoped>\n",
       "    .dataframe tbody tr th:only-of-type {\n",
       "        vertical-align: middle;\n",
       "    }\n",
       "\n",
       "    .dataframe tbody tr th {\n",
       "        vertical-align: top;\n",
       "    }\n",
       "\n",
       "    .dataframe thead th {\n",
       "        text-align: right;\n",
       "    }\n",
       "</style>\n",
       "<table border=\"1\" class=\"dataframe\">\n",
       "  <thead>\n",
       "    <tr style=\"text-align: right;\">\n",
       "      <th></th>\n",
       "      <th>department_num</th>\n",
       "      <th>department</th>\n",
       "      <th>capital</th>\n",
       "      <th>region</th>\n",
       "    </tr>\n",
       "  </thead>\n",
       "  <tbody>\n",
       "    <tr>\n",
       "      <th>0</th>\n",
       "      <td>01</td>\n",
       "      <td>Ain</td>\n",
       "      <td>Bourg-en-Bresse</td>\n",
       "      <td>Auvergne-Rhône-Alpes</td>\n",
       "    </tr>\n",
       "    <tr>\n",
       "      <th>1</th>\n",
       "      <td>02</td>\n",
       "      <td>Aisne</td>\n",
       "      <td>Laon</td>\n",
       "      <td>Hauts-de-France</td>\n",
       "    </tr>\n",
       "    <tr>\n",
       "      <th>2</th>\n",
       "      <td>03</td>\n",
       "      <td>Allier</td>\n",
       "      <td>Moulins</td>\n",
       "      <td>Auvergne-Rhône-Alpes</td>\n",
       "    </tr>\n",
       "    <tr>\n",
       "      <th>3</th>\n",
       "      <td>04</td>\n",
       "      <td>Alpes-de-Haute-Provence</td>\n",
       "      <td>Digne-les-Bains</td>\n",
       "      <td>Provence-Alpes-Côte d'Azur</td>\n",
       "    </tr>\n",
       "    <tr>\n",
       "      <th>4</th>\n",
       "      <td>05</td>\n",
       "      <td>Hautes-Alpes</td>\n",
       "      <td>Gap</td>\n",
       "      <td>Provence-Alpes-Côte d'Azur</td>\n",
       "    </tr>\n",
       "  </tbody>\n",
       "</table>\n",
       "</div>"
      ]
     },
     "execution_count": 86,
     "metadata": {},
     "output_type": "execute_result"
    }
   ],
   "execution_count": 86
  },
  {
   "cell_type": "code",
   "source": [
    "france_subset.info()"
   ],
   "metadata": {
    "collapsed": false,
    "ExecuteTime": {
     "end_time": "2025-04-01T16:24:24.361053Z",
     "start_time": "2025-04-01T16:24:24.354745Z"
    }
   },
   "outputs": [
    {
     "name": "stdout",
     "output_type": "stream",
     "text": [
      "<class 'pandas.core.frame.DataFrame'>\n",
      "RangeIndex: 96 entries, 0 to 95\n",
      "Data columns (total 4 columns):\n",
      " #   Column          Non-Null Count  Dtype \n",
      "---  ------          --------------  ----- \n",
      " 0   department_num  96 non-null     object\n",
      " 1   department      96 non-null     object\n",
      " 2   capital         96 non-null     object\n",
      " 3   region          96 non-null     object\n",
      "dtypes: object(4)\n",
      "memory usage: 3.1+ KB\n"
     ]
    }
   ],
   "execution_count": 87
  },
  {
   "cell_type": "markdown",
   "source": [
    "#### 4. Merge `france_subset` with `geoJSON_df` on `department_num`"
   ],
   "metadata": {
    "collapsed": false,
    "ExecuteTime": {
     "end_time": "2023-08-11T16:06:36.354042Z",
     "start_time": "2023-08-11T16:06:36.333076Z"
    }
   }
  },
  {
   "cell_type": "code",
   "source": [
    "merged_df = pd.merge(france_subset, geoJSON_df, on=\"department_num\", how=\"inner\")\n",
    "print(f\"Shape geo: {geoJSON_df.shape}\\nShape merged: {merged_df.shape}\")"
   ],
   "metadata": {
    "collapsed": false,
    "ExecuteTime": {
     "end_time": "2025-04-01T16:24:31.072760Z",
     "start_time": "2025-04-01T16:24:31.068312Z"
    }
   },
   "outputs": [
    {
     "name": "stdout",
     "output_type": "stream",
     "text": [
      "Shape geo: (320, 4)\n",
      "Shape merged: (320, 7)\n"
     ]
    }
   ],
   "execution_count": 88
  },
  {
   "cell_type": "code",
   "source": [
    "merged_df.head()"
   ],
   "metadata": {
    "collapsed": false,
    "ExecuteTime": {
     "end_time": "2025-04-01T16:24:33.894671Z",
     "start_time": "2025-04-01T16:24:33.886730Z"
    }
   },
   "outputs": [
    {
     "data": {
      "text/plain": [
       "  department_num department          capital                region   code  \\\n",
       "0             01        Ain  Bourg-en-Bresse  Auvergne-Rhône-Alpes  01001   \n",
       "1             01        Ain  Bourg-en-Bresse  Auvergne-Rhône-Alpes  01002   \n",
       "2             01        Ain  Bourg-en-Bresse  Auvergne-Rhône-Alpes  01003   \n",
       "3             01        Ain  Bourg-en-Bresse  Auvergne-Rhône-Alpes  01004   \n",
       "4             02      Aisne             Laon       Hauts-de-France  02001   \n",
       "\n",
       "               nom                                           geometry  \n",
       "0           Belley  POLYGON ((5.12174 45.81118, 5.12665 45.81392, ...  \n",
       "1  Bourg-en-Bresse  POLYGON ((4.98022 46.5152, 4.98355 46.51539, 4...  \n",
       "2              Gex  POLYGON ((6.06401 46.41623, 6.0673 46.41494, 6...  \n",
       "3           Nantua  POLYGON ((5.63746 46.33644, 5.64007 46.33884, ...  \n",
       "4  Château-Thierry  POLYGON ((3.07188 49.11755, 3.07224 49.11832, ...  "
      ],
      "text/html": [
       "<div>\n",
       "<style scoped>\n",
       "    .dataframe tbody tr th:only-of-type {\n",
       "        vertical-align: middle;\n",
       "    }\n",
       "\n",
       "    .dataframe tbody tr th {\n",
       "        vertical-align: top;\n",
       "    }\n",
       "\n",
       "    .dataframe thead th {\n",
       "        text-align: right;\n",
       "    }\n",
       "</style>\n",
       "<table border=\"1\" class=\"dataframe\">\n",
       "  <thead>\n",
       "    <tr style=\"text-align: right;\">\n",
       "      <th></th>\n",
       "      <th>department_num</th>\n",
       "      <th>department</th>\n",
       "      <th>capital</th>\n",
       "      <th>region</th>\n",
       "      <th>code</th>\n",
       "      <th>nom</th>\n",
       "      <th>geometry</th>\n",
       "    </tr>\n",
       "  </thead>\n",
       "  <tbody>\n",
       "    <tr>\n",
       "      <th>0</th>\n",
       "      <td>01</td>\n",
       "      <td>Ain</td>\n",
       "      <td>Bourg-en-Bresse</td>\n",
       "      <td>Auvergne-Rhône-Alpes</td>\n",
       "      <td>01001</td>\n",
       "      <td>Belley</td>\n",
       "      <td>POLYGON ((5.12174 45.81118, 5.12665 45.81392, ...</td>\n",
       "    </tr>\n",
       "    <tr>\n",
       "      <th>1</th>\n",
       "      <td>01</td>\n",
       "      <td>Ain</td>\n",
       "      <td>Bourg-en-Bresse</td>\n",
       "      <td>Auvergne-Rhône-Alpes</td>\n",
       "      <td>01002</td>\n",
       "      <td>Bourg-en-Bresse</td>\n",
       "      <td>POLYGON ((4.98022 46.5152, 4.98355 46.51539, 4...</td>\n",
       "    </tr>\n",
       "    <tr>\n",
       "      <th>2</th>\n",
       "      <td>01</td>\n",
       "      <td>Ain</td>\n",
       "      <td>Bourg-en-Bresse</td>\n",
       "      <td>Auvergne-Rhône-Alpes</td>\n",
       "      <td>01003</td>\n",
       "      <td>Gex</td>\n",
       "      <td>POLYGON ((6.06401 46.41623, 6.0673 46.41494, 6...</td>\n",
       "    </tr>\n",
       "    <tr>\n",
       "      <th>3</th>\n",
       "      <td>01</td>\n",
       "      <td>Ain</td>\n",
       "      <td>Bourg-en-Bresse</td>\n",
       "      <td>Auvergne-Rhône-Alpes</td>\n",
       "      <td>01004</td>\n",
       "      <td>Nantua</td>\n",
       "      <td>POLYGON ((5.63746 46.33644, 5.64007 46.33884, ...</td>\n",
       "    </tr>\n",
       "    <tr>\n",
       "      <th>4</th>\n",
       "      <td>02</td>\n",
       "      <td>Aisne</td>\n",
       "      <td>Laon</td>\n",
       "      <td>Hauts-de-France</td>\n",
       "      <td>02001</td>\n",
       "      <td>Château-Thierry</td>\n",
       "      <td>POLYGON ((3.07188 49.11755, 3.07224 49.11832, ...</td>\n",
       "    </tr>\n",
       "  </tbody>\n",
       "</table>\n",
       "</div>"
      ]
     },
     "execution_count": 89,
     "metadata": {},
     "output_type": "execute_result"
    }
   ],
   "execution_count": 89
  },
  {
   "cell_type": "markdown",
   "source": [
    "#### 5. Merge above with `stats_locale` on 'nom' & 'arrondissement'"
   ],
   "metadata": {
    "collapsed": false,
    "ExecuteTime": {
     "end_time": "2023-08-11T16:06:44.644925Z",
     "start_time": "2023-08-11T16:06:44.626286Z"
    }
   }
  },
  {
   "cell_type": "code",
   "source": [
    "print(f\"Shape: {stats_locale.shape}\")\n",
    "stats_locale.head()"
   ],
   "metadata": {
    "collapsed": false,
    "ExecuteTime": {
     "end_time": "2025-04-01T16:24:42.571070Z",
     "start_time": "2025-04-01T16:24:42.564716Z"
    }
   },
   "outputs": [
    {
     "name": "stdout",
     "output_type": "stream",
     "text": [
      "Shape: (320, 6)\n"
     ]
    },
    {
     "data": {
      "text/plain": [
       "2 code   arrondissement municipal_population  \\\n",
       "0  011           Belley               126468   \n",
       "1  012  Bourg-en-Bresse               345948   \n",
       "2  013              Gex               104770   \n",
       "3  014           Nantua                94103   \n",
       "4  021  Château-Thierry                69416   \n",
       "\n",
       "2 population_density(inhabitants/sq_km) poverty_rate(%)  \\\n",
       "0                                  78.8            10.1   \n",
       "1                                 119.2             9.1   \n",
       "2                                   252            12.4   \n",
       "3                                 104.3            16.3   \n",
       "4                                  62.6            14.6   \n",
       "\n",
       "2 average_net_hourly_wage(€)  \n",
       "0                      15.98  \n",
       "1                      16.31  \n",
       "2                      15.82  \n",
       "3                      14.61  \n",
       "4                      14.95  "
      ],
      "text/html": [
       "<div>\n",
       "<style scoped>\n",
       "    .dataframe tbody tr th:only-of-type {\n",
       "        vertical-align: middle;\n",
       "    }\n",
       "\n",
       "    .dataframe tbody tr th {\n",
       "        vertical-align: top;\n",
       "    }\n",
       "\n",
       "    .dataframe thead th {\n",
       "        text-align: right;\n",
       "    }\n",
       "</style>\n",
       "<table border=\"1\" class=\"dataframe\">\n",
       "  <thead>\n",
       "    <tr style=\"text-align: right;\">\n",
       "      <th>2</th>\n",
       "      <th>code</th>\n",
       "      <th>arrondissement</th>\n",
       "      <th>municipal_population</th>\n",
       "      <th>population_density(inhabitants/sq_km)</th>\n",
       "      <th>poverty_rate(%)</th>\n",
       "      <th>average_net_hourly_wage(€)</th>\n",
       "    </tr>\n",
       "  </thead>\n",
       "  <tbody>\n",
       "    <tr>\n",
       "      <th>0</th>\n",
       "      <td>011</td>\n",
       "      <td>Belley</td>\n",
       "      <td>126468</td>\n",
       "      <td>78.8</td>\n",
       "      <td>10.1</td>\n",
       "      <td>15.98</td>\n",
       "    </tr>\n",
       "    <tr>\n",
       "      <th>1</th>\n",
       "      <td>012</td>\n",
       "      <td>Bourg-en-Bresse</td>\n",
       "      <td>345948</td>\n",
       "      <td>119.2</td>\n",
       "      <td>9.1</td>\n",
       "      <td>16.31</td>\n",
       "    </tr>\n",
       "    <tr>\n",
       "      <th>2</th>\n",
       "      <td>013</td>\n",
       "      <td>Gex</td>\n",
       "      <td>104770</td>\n",
       "      <td>252</td>\n",
       "      <td>12.4</td>\n",
       "      <td>15.82</td>\n",
       "    </tr>\n",
       "    <tr>\n",
       "      <th>3</th>\n",
       "      <td>014</td>\n",
       "      <td>Nantua</td>\n",
       "      <td>94103</td>\n",
       "      <td>104.3</td>\n",
       "      <td>16.3</td>\n",
       "      <td>14.61</td>\n",
       "    </tr>\n",
       "    <tr>\n",
       "      <th>4</th>\n",
       "      <td>021</td>\n",
       "      <td>Château-Thierry</td>\n",
       "      <td>69416</td>\n",
       "      <td>62.6</td>\n",
       "      <td>14.6</td>\n",
       "      <td>14.95</td>\n",
       "    </tr>\n",
       "  </tbody>\n",
       "</table>\n",
       "</div>"
      ]
     },
     "execution_count": 90,
     "metadata": {},
     "output_type": "execute_result"
    }
   ],
   "execution_count": 90
  },
  {
   "cell_type": "code",
   "source": [
    "geo_stats = pd.merge(stats_locale, merged_df, left_on='arrondissement', right_on='nom', how='inner')"
   ],
   "metadata": {
    "collapsed": false,
    "ExecuteTime": {
     "end_time": "2025-04-01T16:25:07.675564Z",
     "start_time": "2025-04-01T16:25:07.669749Z"
    }
   },
   "outputs": [],
   "execution_count": 91
  },
  {
   "cell_type": "code",
   "source": [
    "print(f\"Shape: {geo_stats.shape}\")\n",
    "print(f\"Unique regions: {geo_stats['region'].nunique()}\")\n",
    "print(f\"Unique departments: {geo_stats['department_num'].nunique()}\")\n",
    "print(f\"Unique arrondissements: {geo_stats['arrondissement'].nunique()}\")\n",
    "print(f\"Columns:\\n{geo_stats.columns.tolist()}\")"
   ],
   "metadata": {
    "collapsed": false,
    "ExecuteTime": {
     "end_time": "2025-04-01T16:25:11.454890Z",
     "start_time": "2025-04-01T16:25:11.450508Z"
    }
   },
   "outputs": [
    {
     "name": "stdout",
     "output_type": "stream",
     "text": [
      "Shape: (320, 13)\n",
      "Unique regions: 13\n",
      "Unique departments: 96\n",
      "Unique arrondissements: 320\n",
      "Columns:\n",
      "['code_x', 'arrondissement', 'municipal_population', 'population_density(inhabitants/sq_km)', 'poverty_rate(%)', 'average_net_hourly_wage(€)', 'department_num', 'department', 'capital', 'region', 'code_y', 'nom', 'geometry']\n"
     ]
    }
   ],
   "execution_count": 92
  },
  {
   "cell_type": "code",
   "source": [
    "# Drop 'code_'\n",
    "geo_stats.drop(['code_x'], axis=1, inplace=True)\n",
    "geo_stats.rename(columns={'code_y': 'code'}, inplace=True)"
   ],
   "metadata": {
    "collapsed": false,
    "ExecuteTime": {
     "end_time": "2025-04-01T16:25:20.966885Z",
     "start_time": "2025-04-01T16:25:20.963084Z"
    }
   },
   "outputs": [],
   "execution_count": 93
  },
  {
   "cell_type": "code",
   "source": [
    "# Rearrange columns\n",
    "new_order = ['code', 'arrondissement', 'department_num', 'department', 'capital', 'region', 'municipal_population', 'population_density(inhabitants/sq_km)', 'poverty_rate(%)', 'average_net_hourly_wage(€)', 'geometry']\n",
    "geo_stats = geo_stats[new_order]\n",
    "geo_stats.head()"
   ],
   "metadata": {
    "collapsed": false,
    "ExecuteTime": {
     "end_time": "2025-04-01T16:25:24.528837Z",
     "start_time": "2025-04-01T16:25:24.518770Z"
    }
   },
   "outputs": [
    {
     "data": {
      "text/plain": [
       "    code   arrondissement department_num department          capital  \\\n",
       "0  01001           Belley             01        Ain  Bourg-en-Bresse   \n",
       "1  01002  Bourg-en-Bresse             01        Ain  Bourg-en-Bresse   \n",
       "2  01003              Gex             01        Ain  Bourg-en-Bresse   \n",
       "3  01004           Nantua             01        Ain  Bourg-en-Bresse   \n",
       "4  02001  Château-Thierry             02      Aisne             Laon   \n",
       "\n",
       "                 region municipal_population  \\\n",
       "0  Auvergne-Rhône-Alpes               126468   \n",
       "1  Auvergne-Rhône-Alpes               345948   \n",
       "2  Auvergne-Rhône-Alpes               104770   \n",
       "3  Auvergne-Rhône-Alpes                94103   \n",
       "4       Hauts-de-France                69416   \n",
       "\n",
       "  population_density(inhabitants/sq_km) poverty_rate(%)  \\\n",
       "0                                  78.8            10.1   \n",
       "1                                 119.2             9.1   \n",
       "2                                   252            12.4   \n",
       "3                                 104.3            16.3   \n",
       "4                                  62.6            14.6   \n",
       "\n",
       "  average_net_hourly_wage(€)  \\\n",
       "0                      15.98   \n",
       "1                      16.31   \n",
       "2                      15.82   \n",
       "3                      14.61   \n",
       "4                      14.95   \n",
       "\n",
       "                                            geometry  \n",
       "0  POLYGON ((5.12174 45.81118, 5.12665 45.81392, ...  \n",
       "1  POLYGON ((4.98022 46.5152, 4.98355 46.51539, 4...  \n",
       "2  POLYGON ((6.06401 46.41623, 6.0673 46.41494, 6...  \n",
       "3  POLYGON ((5.63746 46.33644, 5.64007 46.33884, ...  \n",
       "4  POLYGON ((3.07188 49.11755, 3.07224 49.11832, ...  "
      ],
      "text/html": [
       "<div>\n",
       "<style scoped>\n",
       "    .dataframe tbody tr th:only-of-type {\n",
       "        vertical-align: middle;\n",
       "    }\n",
       "\n",
       "    .dataframe tbody tr th {\n",
       "        vertical-align: top;\n",
       "    }\n",
       "\n",
       "    .dataframe thead th {\n",
       "        text-align: right;\n",
       "    }\n",
       "</style>\n",
       "<table border=\"1\" class=\"dataframe\">\n",
       "  <thead>\n",
       "    <tr style=\"text-align: right;\">\n",
       "      <th></th>\n",
       "      <th>code</th>\n",
       "      <th>arrondissement</th>\n",
       "      <th>department_num</th>\n",
       "      <th>department</th>\n",
       "      <th>capital</th>\n",
       "      <th>region</th>\n",
       "      <th>municipal_population</th>\n",
       "      <th>population_density(inhabitants/sq_km)</th>\n",
       "      <th>poverty_rate(%)</th>\n",
       "      <th>average_net_hourly_wage(€)</th>\n",
       "      <th>geometry</th>\n",
       "    </tr>\n",
       "  </thead>\n",
       "  <tbody>\n",
       "    <tr>\n",
       "      <th>0</th>\n",
       "      <td>01001</td>\n",
       "      <td>Belley</td>\n",
       "      <td>01</td>\n",
       "      <td>Ain</td>\n",
       "      <td>Bourg-en-Bresse</td>\n",
       "      <td>Auvergne-Rhône-Alpes</td>\n",
       "      <td>126468</td>\n",
       "      <td>78.8</td>\n",
       "      <td>10.1</td>\n",
       "      <td>15.98</td>\n",
       "      <td>POLYGON ((5.12174 45.81118, 5.12665 45.81392, ...</td>\n",
       "    </tr>\n",
       "    <tr>\n",
       "      <th>1</th>\n",
       "      <td>01002</td>\n",
       "      <td>Bourg-en-Bresse</td>\n",
       "      <td>01</td>\n",
       "      <td>Ain</td>\n",
       "      <td>Bourg-en-Bresse</td>\n",
       "      <td>Auvergne-Rhône-Alpes</td>\n",
       "      <td>345948</td>\n",
       "      <td>119.2</td>\n",
       "      <td>9.1</td>\n",
       "      <td>16.31</td>\n",
       "      <td>POLYGON ((4.98022 46.5152, 4.98355 46.51539, 4...</td>\n",
       "    </tr>\n",
       "    <tr>\n",
       "      <th>2</th>\n",
       "      <td>01003</td>\n",
       "      <td>Gex</td>\n",
       "      <td>01</td>\n",
       "      <td>Ain</td>\n",
       "      <td>Bourg-en-Bresse</td>\n",
       "      <td>Auvergne-Rhône-Alpes</td>\n",
       "      <td>104770</td>\n",
       "      <td>252</td>\n",
       "      <td>12.4</td>\n",
       "      <td>15.82</td>\n",
       "      <td>POLYGON ((6.06401 46.41623, 6.0673 46.41494, 6...</td>\n",
       "    </tr>\n",
       "    <tr>\n",
       "      <th>3</th>\n",
       "      <td>01004</td>\n",
       "      <td>Nantua</td>\n",
       "      <td>01</td>\n",
       "      <td>Ain</td>\n",
       "      <td>Bourg-en-Bresse</td>\n",
       "      <td>Auvergne-Rhône-Alpes</td>\n",
       "      <td>94103</td>\n",
       "      <td>104.3</td>\n",
       "      <td>16.3</td>\n",
       "      <td>14.61</td>\n",
       "      <td>POLYGON ((5.63746 46.33644, 5.64007 46.33884, ...</td>\n",
       "    </tr>\n",
       "    <tr>\n",
       "      <th>4</th>\n",
       "      <td>02001</td>\n",
       "      <td>Château-Thierry</td>\n",
       "      <td>02</td>\n",
       "      <td>Aisne</td>\n",
       "      <td>Laon</td>\n",
       "      <td>Hauts-de-France</td>\n",
       "      <td>69416</td>\n",
       "      <td>62.6</td>\n",
       "      <td>14.6</td>\n",
       "      <td>14.95</td>\n",
       "      <td>POLYGON ((3.07188 49.11755, 3.07224 49.11832, ...</td>\n",
       "    </tr>\n",
       "  </tbody>\n",
       "</table>\n",
       "</div>"
      ]
     },
     "execution_count": 94,
     "metadata": {},
     "output_type": "execute_result"
    }
   ],
   "execution_count": 94
  },
  {
   "cell_type": "markdown",
   "source": [
    "----\n",
    "&nbsp;\n",
    "## Merging Michelin Star by *arrondissement* with `geo_stats`"
   ],
   "metadata": {
    "collapsed": false
   }
  },
  {
   "cell_type": "code",
   "source": [
    "print(f\"Rows in `geo_stats`: {len(geo_stats)}\")\n",
    "\n",
    "# We index the multi-indexed df\n",
    "arrondissement_grouped.reset_index(inplace=True)\n",
    "print(f\"Rows in `arrondissement_grouped`: {len(arrondissement_grouped)}\")"
   ],
   "metadata": {
    "collapsed": false,
    "ExecuteTime": {
     "end_time": "2025-04-01T16:25:36.379243Z",
     "start_time": "2025-04-01T16:25:36.375413Z"
    }
   },
   "outputs": [
    {
     "name": "stdout",
     "output_type": "stream",
     "text": [
      "Rows in `geo_stats`: 320\n",
      "Rows in `arrondissement_grouped`: 288\n"
     ]
    }
   ],
   "execution_count": 95
  },
  {
   "cell_type": "code",
   "source": [
    "set1 = set(arrondissement_grouped['arrondissement'].unique())\n",
    "set2 = set(geo_stats['arrondissement'].unique())\n",
    "print(f\"Sets equal? {set1 == set2}\")\n",
    "\n",
    "print(f\"\\nIn arrondissement_grouped but not in geo_stats:\\n{set1 - set2}\")\n",
    "print(f\"\\nIn geostats but not in arrondissement_grouped:\\n{set2 - set1}\")"
   ],
   "metadata": {
    "collapsed": false,
    "ExecuteTime": {
     "end_time": "2025-04-01T16:25:44.186847Z",
     "start_time": "2025-04-01T16:25:44.182960Z"
    }
   },
   "outputs": [
    {
     "name": "stdout",
     "output_type": "stream",
     "text": [
      "Sets equal? False\n",
      "\n",
      "In arrondissement_grouped but not in geo_stats:\n",
      "set()\n",
      "\n",
      "In geostats but not in arrondissement_grouped:\n",
      "{'Bar-sur-Aube', 'Clamecy', 'Bellac', \"Saint-Jean-d'Angély\", 'Mauriac', 'Péronne', 'Vervins', 'La Châtre', 'Le Blanc', 'Sedan', 'Castellane', 'Saint-Quentin', 'Argenteuil', 'Château-Gontier', 'Parthenay', 'Cosne-Cours-sur-Loire', 'Vouziers', 'Saint-Denis', 'Lens', 'Châteaudun', 'Nogent-sur-Seine', 'Saint-Dizier', 'Foix', 'Castelsarrasin', 'Bressuire', 'Vitry-le-François', 'Rethel', 'Val-de-Briey', 'Redon', 'Avesnes-sur-Helpe', 'Toul', 'Corte'}\n"
     ]
    }
   ],
   "execution_count": 96
  },
  {
   "cell_type": "markdown",
   "source": [
    "There are a number of *arrondissement* without Michelin rated restaurants.\n",
    "\n",
    "These will be written with zero values"
   ],
   "metadata": {
    "collapsed": false,
    "ExecuteTime": {
     "end_time": "2023-08-11T16:07:02.429800Z",
     "start_time": "2023-08-11T16:07:02.420135Z"
    }
   }
  },
  {
   "cell_type": "code",
   "source": [
    "print(f\"Columns: {arrondissement_grouped.columns.tolist()}\")\n",
    "arrondissement_grouped.head()"
   ],
   "metadata": {
    "collapsed": false,
    "ExecuteTime": {
     "end_time": "2025-04-01T16:26:04.457298Z",
     "start_time": "2025-04-01T16:26:04.450908Z"
    }
   },
   "outputs": [
    {
     "name": "stdout",
     "output_type": "stream",
     "text": [
      "Columns: ['arrondissement', 'green_stars', 'selected', 'bib_gourmand', '1_star', '2_star', '3_star', 'total_stars', 'starred_restaurants']\n"
     ]
    },
    {
     "data": {
      "text/plain": [
       "   arrondissement  green_stars  selected  bib_gourmand  1_star  2_star  \\\n",
       "0       Abbeville            1         5             1       0       0   \n",
       "1  Lesparre-Médoc            0         2             0       0       0   \n",
       "2          Évreux            0         0             1       0       0   \n",
       "3          Limoux            0         1             0       0       0   \n",
       "4          Lodève            0         3             1       0       0   \n",
       "\n",
       "   3_star  total_stars  starred_restaurants  \n",
       "0       0            0                    0  \n",
       "1       0            0                    0  \n",
       "2       0            0                    0  \n",
       "3       0            0                    0  \n",
       "4       0            0                    0  "
      ],
      "text/html": [
       "<div>\n",
       "<style scoped>\n",
       "    .dataframe tbody tr th:only-of-type {\n",
       "        vertical-align: middle;\n",
       "    }\n",
       "\n",
       "    .dataframe tbody tr th {\n",
       "        vertical-align: top;\n",
       "    }\n",
       "\n",
       "    .dataframe thead th {\n",
       "        text-align: right;\n",
       "    }\n",
       "</style>\n",
       "<table border=\"1\" class=\"dataframe\">\n",
       "  <thead>\n",
       "    <tr style=\"text-align: right;\">\n",
       "      <th></th>\n",
       "      <th>arrondissement</th>\n",
       "      <th>green_stars</th>\n",
       "      <th>selected</th>\n",
       "      <th>bib_gourmand</th>\n",
       "      <th>1_star</th>\n",
       "      <th>2_star</th>\n",
       "      <th>3_star</th>\n",
       "      <th>total_stars</th>\n",
       "      <th>starred_restaurants</th>\n",
       "    </tr>\n",
       "  </thead>\n",
       "  <tbody>\n",
       "    <tr>\n",
       "      <th>0</th>\n",
       "      <td>Abbeville</td>\n",
       "      <td>1</td>\n",
       "      <td>5</td>\n",
       "      <td>1</td>\n",
       "      <td>0</td>\n",
       "      <td>0</td>\n",
       "      <td>0</td>\n",
       "      <td>0</td>\n",
       "      <td>0</td>\n",
       "    </tr>\n",
       "    <tr>\n",
       "      <th>1</th>\n",
       "      <td>Lesparre-Médoc</td>\n",
       "      <td>0</td>\n",
       "      <td>2</td>\n",
       "      <td>0</td>\n",
       "      <td>0</td>\n",
       "      <td>0</td>\n",
       "      <td>0</td>\n",
       "      <td>0</td>\n",
       "      <td>0</td>\n",
       "    </tr>\n",
       "    <tr>\n",
       "      <th>2</th>\n",
       "      <td>Évreux</td>\n",
       "      <td>0</td>\n",
       "      <td>0</td>\n",
       "      <td>1</td>\n",
       "      <td>0</td>\n",
       "      <td>0</td>\n",
       "      <td>0</td>\n",
       "      <td>0</td>\n",
       "      <td>0</td>\n",
       "    </tr>\n",
       "    <tr>\n",
       "      <th>3</th>\n",
       "      <td>Limoux</td>\n",
       "      <td>0</td>\n",
       "      <td>1</td>\n",
       "      <td>0</td>\n",
       "      <td>0</td>\n",
       "      <td>0</td>\n",
       "      <td>0</td>\n",
       "      <td>0</td>\n",
       "      <td>0</td>\n",
       "    </tr>\n",
       "    <tr>\n",
       "      <th>4</th>\n",
       "      <td>Lodève</td>\n",
       "      <td>0</td>\n",
       "      <td>3</td>\n",
       "      <td>1</td>\n",
       "      <td>0</td>\n",
       "      <td>0</td>\n",
       "      <td>0</td>\n",
       "      <td>0</td>\n",
       "      <td>0</td>\n",
       "    </tr>\n",
       "  </tbody>\n",
       "</table>\n",
       "</div>"
      ]
     },
     "execution_count": 97,
     "metadata": {},
     "output_type": "execute_result"
    }
   ],
   "execution_count": 97
  },
  {
   "cell_type": "code",
   "source": [
    "# Extracting the missing arrondissements\n",
    "missing_arrondissements = list(set2 - set1)\n",
    "\n",
    "# Prepare a list to collect new rows\n",
    "new_rows = []\n",
    "\n",
    "# Iterate over the missing arrondissements\n",
    "for arrondissement in missing_arrondissements:\n",
    "    new_row = {\n",
    "        'arrondissement': arrondissement,\n",
    "        'green_stars': 0,\n",
    "        'selected': 0,\n",
    "        'bib_gourmand': 0,\n",
    "        '1_star': 0,\n",
    "        '2_star': 0,\n",
    "        '3_star': 0,\n",
    "        'total_stars': 0,\n",
    "        'starred_restaurants': 0\n",
    "    }\n",
    "    new_rows.append(new_row)\n",
    "\n",
    "# Create a DataFrame from the new rows and concatenate with the original DataFrame\n",
    "df_new_rows = pd.DataFrame(new_rows)\n",
    "arrondissement_grouped = pd.concat([arrondissement_grouped, df_new_rows], ignore_index=True)\n",
    "\n",
    "# Sorting by 'arrondissement' for better clarity\n",
    "arrondissement_grouped = arrondissement_grouped.sort_values('arrondissement').reset_index(drop=True)"
   ],
   "metadata": {
    "collapsed": false,
    "ExecuteTime": {
     "end_time": "2025-04-01T16:26:16.594359Z",
     "start_time": "2025-04-01T16:26:16.587762Z"
    }
   },
   "outputs": [],
   "execution_count": 98
  },
  {
   "cell_type": "code",
   "source": [
    "print(f\"Shape: {arrondissement_grouped.shape}\")\n",
    "arrondissement_grouped.head()"
   ],
   "metadata": {
    "collapsed": false,
    "ExecuteTime": {
     "end_time": "2025-04-01T16:26:20.027501Z",
     "start_time": "2025-04-01T16:26:20.020668Z"
    }
   },
   "outputs": [
    {
     "name": "stdout",
     "output_type": "stream",
     "text": [
      "Shape: (320, 9)\n"
     ]
    },
    {
     "data": {
      "text/plain": [
       "    arrondissement  green_stars  selected  bib_gourmand  1_star  2_star  \\\n",
       "0        Abbeville            1         5             1       0       0   \n",
       "1             Agen            0         2             1       2       0   \n",
       "2  Aix-en-Provence            0        10             5       9       0   \n",
       "3          Ajaccio            0         7             1       1       0   \n",
       "4      Albertville            1        22             2       7       5   \n",
       "\n",
       "   3_star  total_stars  starred_restaurants  \n",
       "0       0            0                    0  \n",
       "1       0            2                    2  \n",
       "2       0            9                    9  \n",
       "3       0            1                    1  \n",
       "4       1           20                   13  "
      ],
      "text/html": [
       "<div>\n",
       "<style scoped>\n",
       "    .dataframe tbody tr th:only-of-type {\n",
       "        vertical-align: middle;\n",
       "    }\n",
       "\n",
       "    .dataframe tbody tr th {\n",
       "        vertical-align: top;\n",
       "    }\n",
       "\n",
       "    .dataframe thead th {\n",
       "        text-align: right;\n",
       "    }\n",
       "</style>\n",
       "<table border=\"1\" class=\"dataframe\">\n",
       "  <thead>\n",
       "    <tr style=\"text-align: right;\">\n",
       "      <th></th>\n",
       "      <th>arrondissement</th>\n",
       "      <th>green_stars</th>\n",
       "      <th>selected</th>\n",
       "      <th>bib_gourmand</th>\n",
       "      <th>1_star</th>\n",
       "      <th>2_star</th>\n",
       "      <th>3_star</th>\n",
       "      <th>total_stars</th>\n",
       "      <th>starred_restaurants</th>\n",
       "    </tr>\n",
       "  </thead>\n",
       "  <tbody>\n",
       "    <tr>\n",
       "      <th>0</th>\n",
       "      <td>Abbeville</td>\n",
       "      <td>1</td>\n",
       "      <td>5</td>\n",
       "      <td>1</td>\n",
       "      <td>0</td>\n",
       "      <td>0</td>\n",
       "      <td>0</td>\n",
       "      <td>0</td>\n",
       "      <td>0</td>\n",
       "    </tr>\n",
       "    <tr>\n",
       "      <th>1</th>\n",
       "      <td>Agen</td>\n",
       "      <td>0</td>\n",
       "      <td>2</td>\n",
       "      <td>1</td>\n",
       "      <td>2</td>\n",
       "      <td>0</td>\n",
       "      <td>0</td>\n",
       "      <td>2</td>\n",
       "      <td>2</td>\n",
       "    </tr>\n",
       "    <tr>\n",
       "      <th>2</th>\n",
       "      <td>Aix-en-Provence</td>\n",
       "      <td>0</td>\n",
       "      <td>10</td>\n",
       "      <td>5</td>\n",
       "      <td>9</td>\n",
       "      <td>0</td>\n",
       "      <td>0</td>\n",
       "      <td>9</td>\n",
       "      <td>9</td>\n",
       "    </tr>\n",
       "    <tr>\n",
       "      <th>3</th>\n",
       "      <td>Ajaccio</td>\n",
       "      <td>0</td>\n",
       "      <td>7</td>\n",
       "      <td>1</td>\n",
       "      <td>1</td>\n",
       "      <td>0</td>\n",
       "      <td>0</td>\n",
       "      <td>1</td>\n",
       "      <td>1</td>\n",
       "    </tr>\n",
       "    <tr>\n",
       "      <th>4</th>\n",
       "      <td>Albertville</td>\n",
       "      <td>1</td>\n",
       "      <td>22</td>\n",
       "      <td>2</td>\n",
       "      <td>7</td>\n",
       "      <td>5</td>\n",
       "      <td>1</td>\n",
       "      <td>20</td>\n",
       "      <td>13</td>\n",
       "    </tr>\n",
       "  </tbody>\n",
       "</table>\n",
       "</div>"
      ]
     },
     "execution_count": 99,
     "metadata": {},
     "output_type": "execute_result"
    }
   ],
   "execution_count": 99
  },
  {
   "cell_type": "code",
   "source": [
    "set1 = set(arrondissement_grouped['arrondissement'].unique())\n",
    "set2 = set(geo_stats['arrondissement'].unique())\n",
    "print(f\"Sets equal? {set1 == set2}\")"
   ],
   "metadata": {
    "collapsed": false,
    "ExecuteTime": {
     "end_time": "2025-04-01T16:26:23.742052Z",
     "start_time": "2025-04-01T16:26:23.737570Z"
    }
   },
   "outputs": [
    {
     "name": "stdout",
     "output_type": "stream",
     "text": [
      "Sets equal? True\n"
     ]
    }
   ],
   "execution_count": 100
  },
  {
   "cell_type": "markdown",
   "source": [
    "----\n",
    "&nbsp;\n",
    "## Merging `geo_stats` and `arrondissement_grouped` on 'arrondissement'"
   ],
   "metadata": {
    "collapsed": false,
    "ExecuteTime": {
     "end_time": "2023-08-11T16:07:11.805336Z",
     "start_time": "2023-08-11T16:07:11.788376Z"
    }
   }
  },
  {
   "cell_type": "code",
   "source": [
    "merged_data = pd.merge(geo_stats, arrondissement_grouped, on='arrondissement', how='inner')\n",
    "print(f\"Shape: {merged_data.shape}\")\n",
    "print(f\"Columns:\\n{merged_data.columns.tolist()}\")"
   ],
   "metadata": {
    "collapsed": false,
    "ExecuteTime": {
     "end_time": "2025-04-01T16:26:33.190731Z",
     "start_time": "2025-04-01T16:26:33.185678Z"
    }
   },
   "outputs": [
    {
     "name": "stdout",
     "output_type": "stream",
     "text": [
      "Shape: (320, 19)\n",
      "Columns:\n",
      "['code', 'arrondissement', 'department_num', 'department', 'capital', 'region', 'municipal_population', 'population_density(inhabitants/sq_km)', 'poverty_rate(%)', 'average_net_hourly_wage(€)', 'geometry', 'green_stars', 'selected', 'bib_gourmand', '1_star', '2_star', '3_star', 'total_stars', 'starred_restaurants']\n"
     ]
    }
   ],
   "execution_count": 101
  },
  {
   "cell_type": "code",
   "source": [
    "new_order = ['code', 'arrondissement', 'department_num', 'department', 'capital', 'region', 'selected', 'bib_gourmand', '1_star', '2_star', '3_star', 'total_stars', 'starred_restaurants', 'green_stars', 'municipal_population', 'population_density(inhabitants/sq_km)', 'poverty_rate(%)', 'average_net_hourly_wage(€)', 'geometry']\n",
    "merged_data = merged_data[new_order]\n",
    "merged_data.head()"
   ],
   "metadata": {
    "collapsed": false,
    "ExecuteTime": {
     "end_time": "2025-04-01T16:26:44.565841Z",
     "start_time": "2025-04-01T16:26:44.555445Z"
    }
   },
   "outputs": [
    {
     "data": {
      "text/plain": [
       "    code   arrondissement department_num department          capital  \\\n",
       "0  01001           Belley             01        Ain  Bourg-en-Bresse   \n",
       "1  01002  Bourg-en-Bresse             01        Ain  Bourg-en-Bresse   \n",
       "2  01003              Gex             01        Ain  Bourg-en-Bresse   \n",
       "3  01004           Nantua             01        Ain  Bourg-en-Bresse   \n",
       "4  02001  Château-Thierry             02      Aisne             Laon   \n",
       "\n",
       "                 region  selected  bib_gourmand  1_star  2_star  3_star  \\\n",
       "0  Auvergne-Rhône-Alpes         1             0       1       0       0   \n",
       "1  Auvergne-Rhône-Alpes        12             6       2       1       0   \n",
       "2  Auvergne-Rhône-Alpes         3             0       0       0       0   \n",
       "3  Auvergne-Rhône-Alpes         0             1       1       0       0   \n",
       "4       Hauts-de-France         1             0       0       0       0   \n",
       "\n",
       "   total_stars  starred_restaurants  green_stars municipal_population  \\\n",
       "0            1                    1            0               126468   \n",
       "1            4                    3            1               345948   \n",
       "2            0                    0            0               104770   \n",
       "3            1                    1            0                94103   \n",
       "4            0                    0            0                69416   \n",
       "\n",
       "  population_density(inhabitants/sq_km) poverty_rate(%)  \\\n",
       "0                                  78.8            10.1   \n",
       "1                                 119.2             9.1   \n",
       "2                                   252            12.4   \n",
       "3                                 104.3            16.3   \n",
       "4                                  62.6            14.6   \n",
       "\n",
       "  average_net_hourly_wage(€)  \\\n",
       "0                      15.98   \n",
       "1                      16.31   \n",
       "2                      15.82   \n",
       "3                      14.61   \n",
       "4                      14.95   \n",
       "\n",
       "                                            geometry  \n",
       "0  POLYGON ((5.12174 45.81118, 5.12665 45.81392, ...  \n",
       "1  POLYGON ((4.98022 46.5152, 4.98355 46.51539, 4...  \n",
       "2  POLYGON ((6.06401 46.41623, 6.0673 46.41494, 6...  \n",
       "3  POLYGON ((5.63746 46.33644, 5.64007 46.33884, ...  \n",
       "4  POLYGON ((3.07188 49.11755, 3.07224 49.11832, ...  "
      ],
      "text/html": [
       "<div>\n",
       "<style scoped>\n",
       "    .dataframe tbody tr th:only-of-type {\n",
       "        vertical-align: middle;\n",
       "    }\n",
       "\n",
       "    .dataframe tbody tr th {\n",
       "        vertical-align: top;\n",
       "    }\n",
       "\n",
       "    .dataframe thead th {\n",
       "        text-align: right;\n",
       "    }\n",
       "</style>\n",
       "<table border=\"1\" class=\"dataframe\">\n",
       "  <thead>\n",
       "    <tr style=\"text-align: right;\">\n",
       "      <th></th>\n",
       "      <th>code</th>\n",
       "      <th>arrondissement</th>\n",
       "      <th>department_num</th>\n",
       "      <th>department</th>\n",
       "      <th>capital</th>\n",
       "      <th>region</th>\n",
       "      <th>selected</th>\n",
       "      <th>bib_gourmand</th>\n",
       "      <th>1_star</th>\n",
       "      <th>2_star</th>\n",
       "      <th>3_star</th>\n",
       "      <th>total_stars</th>\n",
       "      <th>starred_restaurants</th>\n",
       "      <th>green_stars</th>\n",
       "      <th>municipal_population</th>\n",
       "      <th>population_density(inhabitants/sq_km)</th>\n",
       "      <th>poverty_rate(%)</th>\n",
       "      <th>average_net_hourly_wage(€)</th>\n",
       "      <th>geometry</th>\n",
       "    </tr>\n",
       "  </thead>\n",
       "  <tbody>\n",
       "    <tr>\n",
       "      <th>0</th>\n",
       "      <td>01001</td>\n",
       "      <td>Belley</td>\n",
       "      <td>01</td>\n",
       "      <td>Ain</td>\n",
       "      <td>Bourg-en-Bresse</td>\n",
       "      <td>Auvergne-Rhône-Alpes</td>\n",
       "      <td>1</td>\n",
       "      <td>0</td>\n",
       "      <td>1</td>\n",
       "      <td>0</td>\n",
       "      <td>0</td>\n",
       "      <td>1</td>\n",
       "      <td>1</td>\n",
       "      <td>0</td>\n",
       "      <td>126468</td>\n",
       "      <td>78.8</td>\n",
       "      <td>10.1</td>\n",
       "      <td>15.98</td>\n",
       "      <td>POLYGON ((5.12174 45.81118, 5.12665 45.81392, ...</td>\n",
       "    </tr>\n",
       "    <tr>\n",
       "      <th>1</th>\n",
       "      <td>01002</td>\n",
       "      <td>Bourg-en-Bresse</td>\n",
       "      <td>01</td>\n",
       "      <td>Ain</td>\n",
       "      <td>Bourg-en-Bresse</td>\n",
       "      <td>Auvergne-Rhône-Alpes</td>\n",
       "      <td>12</td>\n",
       "      <td>6</td>\n",
       "      <td>2</td>\n",
       "      <td>1</td>\n",
       "      <td>0</td>\n",
       "      <td>4</td>\n",
       "      <td>3</td>\n",
       "      <td>1</td>\n",
       "      <td>345948</td>\n",
       "      <td>119.2</td>\n",
       "      <td>9.1</td>\n",
       "      <td>16.31</td>\n",
       "      <td>POLYGON ((4.98022 46.5152, 4.98355 46.51539, 4...</td>\n",
       "    </tr>\n",
       "    <tr>\n",
       "      <th>2</th>\n",
       "      <td>01003</td>\n",
       "      <td>Gex</td>\n",
       "      <td>01</td>\n",
       "      <td>Ain</td>\n",
       "      <td>Bourg-en-Bresse</td>\n",
       "      <td>Auvergne-Rhône-Alpes</td>\n",
       "      <td>3</td>\n",
       "      <td>0</td>\n",
       "      <td>0</td>\n",
       "      <td>0</td>\n",
       "      <td>0</td>\n",
       "      <td>0</td>\n",
       "      <td>0</td>\n",
       "      <td>0</td>\n",
       "      <td>104770</td>\n",
       "      <td>252</td>\n",
       "      <td>12.4</td>\n",
       "      <td>15.82</td>\n",
       "      <td>POLYGON ((6.06401 46.41623, 6.0673 46.41494, 6...</td>\n",
       "    </tr>\n",
       "    <tr>\n",
       "      <th>3</th>\n",
       "      <td>01004</td>\n",
       "      <td>Nantua</td>\n",
       "      <td>01</td>\n",
       "      <td>Ain</td>\n",
       "      <td>Bourg-en-Bresse</td>\n",
       "      <td>Auvergne-Rhône-Alpes</td>\n",
       "      <td>0</td>\n",
       "      <td>1</td>\n",
       "      <td>1</td>\n",
       "      <td>0</td>\n",
       "      <td>0</td>\n",
       "      <td>1</td>\n",
       "      <td>1</td>\n",
       "      <td>0</td>\n",
       "      <td>94103</td>\n",
       "      <td>104.3</td>\n",
       "      <td>16.3</td>\n",
       "      <td>14.61</td>\n",
       "      <td>POLYGON ((5.63746 46.33644, 5.64007 46.33884, ...</td>\n",
       "    </tr>\n",
       "    <tr>\n",
       "      <th>4</th>\n",
       "      <td>02001</td>\n",
       "      <td>Château-Thierry</td>\n",
       "      <td>02</td>\n",
       "      <td>Aisne</td>\n",
       "      <td>Laon</td>\n",
       "      <td>Hauts-de-France</td>\n",
       "      <td>1</td>\n",
       "      <td>0</td>\n",
       "      <td>0</td>\n",
       "      <td>0</td>\n",
       "      <td>0</td>\n",
       "      <td>0</td>\n",
       "      <td>0</td>\n",
       "      <td>0</td>\n",
       "      <td>69416</td>\n",
       "      <td>62.6</td>\n",
       "      <td>14.6</td>\n",
       "      <td>14.95</td>\n",
       "      <td>POLYGON ((3.07188 49.11755, 3.07224 49.11832, ...</td>\n",
       "    </tr>\n",
       "  </tbody>\n",
       "</table>\n",
       "</div>"
      ]
     },
     "execution_count": 102,
     "metadata": {},
     "output_type": "execute_result"
    }
   ],
   "execution_count": 102
  },
  {
   "cell_type": "markdown",
   "source": [
    "----\n",
    "&nbsp;\n",
    "## Adding coordinates of individual restaurants"
   ],
   "metadata": {
    "collapsed": false,
    "ExecuteTime": {
     "end_time": "2023-08-11T16:07:18.016264Z",
     "start_time": "2023-08-11T16:07:18.003644Z"
    }
   }
  },
  {
   "cell_type": "code",
   "source": [
    "print(france_df.columns.tolist())"
   ],
   "metadata": {
    "collapsed": false,
    "ExecuteTime": {
     "end_time": "2025-04-01T16:26:52.628261Z",
     "start_time": "2025-04-01T16:26:52.625324Z"
    }
   },
   "outputs": [
    {
     "name": "stdout",
     "output_type": "stream",
     "text": [
      "['name', 'address', 'location', 'arrondissement', 'department_num', 'department', 'capital', 'region', 'price', 'cuisine', 'url', 'award', 'stars', 'greenstar', 'longitude', 'latitude']\n"
     ]
    }
   ],
   "execution_count": 103
  },
  {
   "cell_type": "code",
   "source": [
    "# Create a separate DataFrame with star ratings, regions, and coordinates\n",
    "location_data_arrond = france_df[['stars', 'arrondissement', 'latitude', 'longitude']]\n",
    "\n",
    "# Convert to a dictionary where keys are tuples of star rating and arrondissement\n",
    "location_dict_arrond = (\n",
    "    location_data_arrond\n",
    "    .groupby(['stars', 'arrondissement'])[['latitude', 'longitude']]\n",
    "    .apply(lambda df: list(zip(df.latitude, df.longitude)))\n",
    "    .to_dict()\n",
    ")"
   ],
   "metadata": {
    "collapsed": false,
    "ExecuteTime": {
     "end_time": "2025-04-01T16:26:56.311822Z",
     "start_time": "2025-04-01T16:26:56.278175Z"
    }
   },
   "outputs": [],
   "execution_count": 104
  },
  {
   "cell_type": "code",
   "source": [
    "# Now create a function to map these dictionaries to original DataFrame\n",
    "def map_locations_arrond(row):\n",
    "    return {stars: location_dict_arrond.get((stars, row['arrondissement'])) for stars in [1, 2, 3]}"
   ],
   "metadata": {
    "collapsed": false,
    "ExecuteTime": {
     "end_time": "2025-04-01T16:27:05.288980Z",
     "start_time": "2025-04-01T16:27:05.285776Z"
    }
   },
   "outputs": [],
   "execution_count": 105
  },
  {
   "cell_type": "code",
   "source": [
    "merged_data['locations'] = merged_data.apply(map_locations_arrond, axis=1)"
   ],
   "metadata": {
    "collapsed": false,
    "ExecuteTime": {
     "end_time": "2025-04-01T16:27:07.286707Z",
     "start_time": "2025-04-01T16:27:07.280444Z"
    }
   },
   "outputs": [],
   "execution_count": 106
  },
  {
   "cell_type": "code",
   "source": [
    "merged_data.head()"
   ],
   "metadata": {
    "collapsed": false,
    "ExecuteTime": {
     "end_time": "2025-04-01T16:27:09.913871Z",
     "start_time": "2025-04-01T16:27:09.901429Z"
    }
   },
   "outputs": [
    {
     "data": {
      "text/plain": [
       "    code   arrondissement department_num department          capital  \\\n",
       "0  01001           Belley             01        Ain  Bourg-en-Bresse   \n",
       "1  01002  Bourg-en-Bresse             01        Ain  Bourg-en-Bresse   \n",
       "2  01003              Gex             01        Ain  Bourg-en-Bresse   \n",
       "3  01004           Nantua             01        Ain  Bourg-en-Bresse   \n",
       "4  02001  Château-Thierry             02      Aisne             Laon   \n",
       "\n",
       "                 region  selected  bib_gourmand  1_star  2_star  3_star  \\\n",
       "0  Auvergne-Rhône-Alpes         1             0       1       0       0   \n",
       "1  Auvergne-Rhône-Alpes        12             6       2       1       0   \n",
       "2  Auvergne-Rhône-Alpes         3             0       0       0       0   \n",
       "3  Auvergne-Rhône-Alpes         0             1       1       0       0   \n",
       "4       Hauts-de-France         1             0       0       0       0   \n",
       "\n",
       "   total_stars  starred_restaurants  green_stars municipal_population  \\\n",
       "0            1                    1            0               126468   \n",
       "1            4                    3            1               345948   \n",
       "2            0                    0            0               104770   \n",
       "3            1                    1            0                94103   \n",
       "4            0                    0            0                69416   \n",
       "\n",
       "  population_density(inhabitants/sq_km) poverty_rate(%)  \\\n",
       "0                                  78.8            10.1   \n",
       "1                                 119.2             9.1   \n",
       "2                                   252            12.4   \n",
       "3                                 104.3            16.3   \n",
       "4                                  62.6            14.6   \n",
       "\n",
       "  average_net_hourly_wage(€)  \\\n",
       "0                      15.98   \n",
       "1                      16.31   \n",
       "2                      15.82   \n",
       "3                      14.61   \n",
       "4                      14.95   \n",
       "\n",
       "                                            geometry  \\\n",
       "0  POLYGON ((5.12174 45.81118, 5.12665 45.81392, ...   \n",
       "1  POLYGON ((4.98022 46.5152, 4.98355 46.51539, 4...   \n",
       "2  POLYGON ((6.06401 46.41623, 6.0673 46.41494, 6...   \n",
       "3  POLYGON ((5.63746 46.33644, 5.64007 46.33884, ...   \n",
       "4  POLYGON ((3.07188 49.11755, 3.07224 49.11832, ...   \n",
       "\n",
       "                                           locations  \n",
       "0   {1: [(46.0070045, 5.3605085)], 2: None, 3: None}  \n",
       "1  {1: [(46.2987913, 4.8826914), (46.4340961, 4.9...  \n",
       "2                        {1: None, 2: None, 3: None}  \n",
       "3   {1: [(46.0858481, 5.4078158)], 2: None, 3: None}  \n",
       "4                        {1: None, 2: None, 3: None}  "
      ],
      "text/html": [
       "<div>\n",
       "<style scoped>\n",
       "    .dataframe tbody tr th:only-of-type {\n",
       "        vertical-align: middle;\n",
       "    }\n",
       "\n",
       "    .dataframe tbody tr th {\n",
       "        vertical-align: top;\n",
       "    }\n",
       "\n",
       "    .dataframe thead th {\n",
       "        text-align: right;\n",
       "    }\n",
       "</style>\n",
       "<table border=\"1\" class=\"dataframe\">\n",
       "  <thead>\n",
       "    <tr style=\"text-align: right;\">\n",
       "      <th></th>\n",
       "      <th>code</th>\n",
       "      <th>arrondissement</th>\n",
       "      <th>department_num</th>\n",
       "      <th>department</th>\n",
       "      <th>capital</th>\n",
       "      <th>region</th>\n",
       "      <th>selected</th>\n",
       "      <th>bib_gourmand</th>\n",
       "      <th>1_star</th>\n",
       "      <th>2_star</th>\n",
       "      <th>3_star</th>\n",
       "      <th>total_stars</th>\n",
       "      <th>starred_restaurants</th>\n",
       "      <th>green_stars</th>\n",
       "      <th>municipal_population</th>\n",
       "      <th>population_density(inhabitants/sq_km)</th>\n",
       "      <th>poverty_rate(%)</th>\n",
       "      <th>average_net_hourly_wage(€)</th>\n",
       "      <th>geometry</th>\n",
       "      <th>locations</th>\n",
       "    </tr>\n",
       "  </thead>\n",
       "  <tbody>\n",
       "    <tr>\n",
       "      <th>0</th>\n",
       "      <td>01001</td>\n",
       "      <td>Belley</td>\n",
       "      <td>01</td>\n",
       "      <td>Ain</td>\n",
       "      <td>Bourg-en-Bresse</td>\n",
       "      <td>Auvergne-Rhône-Alpes</td>\n",
       "      <td>1</td>\n",
       "      <td>0</td>\n",
       "      <td>1</td>\n",
       "      <td>0</td>\n",
       "      <td>0</td>\n",
       "      <td>1</td>\n",
       "      <td>1</td>\n",
       "      <td>0</td>\n",
       "      <td>126468</td>\n",
       "      <td>78.8</td>\n",
       "      <td>10.1</td>\n",
       "      <td>15.98</td>\n",
       "      <td>POLYGON ((5.12174 45.81118, 5.12665 45.81392, ...</td>\n",
       "      <td>{1: [(46.0070045, 5.3605085)], 2: None, 3: None}</td>\n",
       "    </tr>\n",
       "    <tr>\n",
       "      <th>1</th>\n",
       "      <td>01002</td>\n",
       "      <td>Bourg-en-Bresse</td>\n",
       "      <td>01</td>\n",
       "      <td>Ain</td>\n",
       "      <td>Bourg-en-Bresse</td>\n",
       "      <td>Auvergne-Rhône-Alpes</td>\n",
       "      <td>12</td>\n",
       "      <td>6</td>\n",
       "      <td>2</td>\n",
       "      <td>1</td>\n",
       "      <td>0</td>\n",
       "      <td>4</td>\n",
       "      <td>3</td>\n",
       "      <td>1</td>\n",
       "      <td>345948</td>\n",
       "      <td>119.2</td>\n",
       "      <td>9.1</td>\n",
       "      <td>16.31</td>\n",
       "      <td>POLYGON ((4.98022 46.5152, 4.98355 46.51539, 4...</td>\n",
       "      <td>{1: [(46.2987913, 4.8826914), (46.4340961, 4.9...</td>\n",
       "    </tr>\n",
       "    <tr>\n",
       "      <th>2</th>\n",
       "      <td>01003</td>\n",
       "      <td>Gex</td>\n",
       "      <td>01</td>\n",
       "      <td>Ain</td>\n",
       "      <td>Bourg-en-Bresse</td>\n",
       "      <td>Auvergne-Rhône-Alpes</td>\n",
       "      <td>3</td>\n",
       "      <td>0</td>\n",
       "      <td>0</td>\n",
       "      <td>0</td>\n",
       "      <td>0</td>\n",
       "      <td>0</td>\n",
       "      <td>0</td>\n",
       "      <td>0</td>\n",
       "      <td>104770</td>\n",
       "      <td>252</td>\n",
       "      <td>12.4</td>\n",
       "      <td>15.82</td>\n",
       "      <td>POLYGON ((6.06401 46.41623, 6.0673 46.41494, 6...</td>\n",
       "      <td>{1: None, 2: None, 3: None}</td>\n",
       "    </tr>\n",
       "    <tr>\n",
       "      <th>3</th>\n",
       "      <td>01004</td>\n",
       "      <td>Nantua</td>\n",
       "      <td>01</td>\n",
       "      <td>Ain</td>\n",
       "      <td>Bourg-en-Bresse</td>\n",
       "      <td>Auvergne-Rhône-Alpes</td>\n",
       "      <td>0</td>\n",
       "      <td>1</td>\n",
       "      <td>1</td>\n",
       "      <td>0</td>\n",
       "      <td>0</td>\n",
       "      <td>1</td>\n",
       "      <td>1</td>\n",
       "      <td>0</td>\n",
       "      <td>94103</td>\n",
       "      <td>104.3</td>\n",
       "      <td>16.3</td>\n",
       "      <td>14.61</td>\n",
       "      <td>POLYGON ((5.63746 46.33644, 5.64007 46.33884, ...</td>\n",
       "      <td>{1: [(46.0858481, 5.4078158)], 2: None, 3: None}</td>\n",
       "    </tr>\n",
       "    <tr>\n",
       "      <th>4</th>\n",
       "      <td>02001</td>\n",
       "      <td>Château-Thierry</td>\n",
       "      <td>02</td>\n",
       "      <td>Aisne</td>\n",
       "      <td>Laon</td>\n",
       "      <td>Hauts-de-France</td>\n",
       "      <td>1</td>\n",
       "      <td>0</td>\n",
       "      <td>0</td>\n",
       "      <td>0</td>\n",
       "      <td>0</td>\n",
       "      <td>0</td>\n",
       "      <td>0</td>\n",
       "      <td>0</td>\n",
       "      <td>69416</td>\n",
       "      <td>62.6</td>\n",
       "      <td>14.6</td>\n",
       "      <td>14.95</td>\n",
       "      <td>POLYGON ((3.07188 49.11755, 3.07224 49.11832, ...</td>\n",
       "      <td>{1: None, 2: None, 3: None}</td>\n",
       "    </tr>\n",
       "  </tbody>\n",
       "</table>\n",
       "</div>"
      ]
     },
     "execution_count": 107,
     "metadata": {},
     "output_type": "execute_result"
    }
   ],
   "execution_count": 107
  },
  {
   "cell_type": "markdown",
   "source": [
    "----\n",
    "&nbsp;\n",
    "Confirming datatypes"
   ],
   "metadata": {
    "collapsed": false
   }
  },
  {
   "cell_type": "code",
   "source": [
    "print(merged_data.dtypes)"
   ],
   "metadata": {
    "collapsed": false,
    "ExecuteTime": {
     "end_time": "2025-04-01T16:27:32.589818Z",
     "start_time": "2025-04-01T16:27:32.586099Z"
    }
   },
   "outputs": [
    {
     "name": "stdout",
     "output_type": "stream",
     "text": [
      "code                                       object\n",
      "arrondissement                             object\n",
      "department_num                             object\n",
      "department                                 object\n",
      "capital                                    object\n",
      "region                                     object\n",
      "selected                                    int64\n",
      "bib_gourmand                                int64\n",
      "1_star                                      int64\n",
      "2_star                                      int64\n",
      "3_star                                      int64\n",
      "total_stars                                 int64\n",
      "starred_restaurants                         int64\n",
      "green_stars                                 int64\n",
      "municipal_population                       object\n",
      "population_density(inhabitants/sq_km)      object\n",
      "poverty_rate(%)                            object\n",
      "average_net_hourly_wage(€)                 object\n",
      "geometry                                 geometry\n",
      "locations                                  object\n",
      "dtype: object\n"
     ]
    }
   ],
   "execution_count": 108
  },
  {
   "cell_type": "code",
   "source": [
    "cols_to_convert = [\n",
    "    'municipal_population',\n",
    "    'population_density(inhabitants/sq_km)',\n",
    "    'poverty_rate(%)',\n",
    "    'average_net_hourly_wage(€)'\n",
    "]\n",
    "\n",
    "for col in cols_to_convert:\n",
    "    merged_data[col] = (\n",
    "        merged_data[col]\n",
    "        .astype(str)\n",
    "        .str.replace(r'[^\\d,.\\-]', '', regex=True)   # remove non-numeric, non-dot/comma/hyphen chars\n",
    "        .str.replace(',', '.', regex=False)          # convert comma to decimal point\n",
    "        .astype(float)\n",
    "    )"
   ],
   "metadata": {
    "collapsed": false,
    "ExecuteTime": {
     "end_time": "2025-04-01T16:27:53.815053Z",
     "start_time": "2025-04-01T16:27:53.808353Z"
    }
   },
   "outputs": [],
   "execution_count": 109
  },
  {
   "metadata": {
    "ExecuteTime": {
     "end_time": "2025-04-01T16:27:56.215369Z",
     "start_time": "2025-04-01T16:27:56.211948Z"
    }
   },
   "cell_type": "code",
   "source": "print(merged_data.dtypes)",
   "outputs": [
    {
     "name": "stdout",
     "output_type": "stream",
     "text": [
      "code                                       object\n",
      "arrondissement                             object\n",
      "department_num                             object\n",
      "department                                 object\n",
      "capital                                    object\n",
      "region                                     object\n",
      "selected                                    int64\n",
      "bib_gourmand                                int64\n",
      "1_star                                      int64\n",
      "2_star                                      int64\n",
      "3_star                                      int64\n",
      "total_stars                                 int64\n",
      "starred_restaurants                         int64\n",
      "green_stars                                 int64\n",
      "municipal_population                      float64\n",
      "population_density(inhabitants/sq_km)     float64\n",
      "poverty_rate(%)                           float64\n",
      "average_net_hourly_wage(€)                float64\n",
      "geometry                                 geometry\n",
      "locations                                  object\n",
      "dtype: object\n"
     ]
    }
   ],
   "execution_count": 110
  },
  {
   "cell_type": "markdown",
   "source": [
    "----\n",
    "Export as GeoJSON file"
   ],
   "metadata": {
    "collapsed": false,
    "ExecuteTime": {
     "end_time": "2023-08-11T16:07:32.763411Z",
     "start_time": "2023-08-11T16:07:32.751847Z"
    }
   }
  },
  {
   "cell_type": "code",
   "source": [
    "# Export the GeoDataFrame to a .geojson file\n",
    "geo_merged_data = gpd.GeoDataFrame(merged_data, geometry='geometry')\n",
    "geo_merged_data.to_file('../../data/France/geodata/arrondissement_restaurants.geojson', driver='GeoJSON')"
   ],
   "metadata": {
    "collapsed": false,
    "ExecuteTime": {
     "end_time": "2025-04-01T16:28:19.184764Z",
     "start_time": "2025-04-01T16:28:18.668898Z"
    }
   },
   "outputs": [],
   "execution_count": 111
  }
 ],
 "metadata": {
  "kernelspec": {
   "display_name": "Python 3",
   "language": "python",
   "name": "python3"
  },
  "language_info": {
   "codemirror_mode": {
    "name": "ipython",
    "version": 2
   },
   "file_extension": ".py",
   "mimetype": "text/x-python",
   "name": "python",
   "nbconvert_exporter": "python",
   "pygments_lexer": "ipython2",
   "version": "2.7.6"
  }
 },
 "nbformat": 4,
 "nbformat_minor": 0
}
