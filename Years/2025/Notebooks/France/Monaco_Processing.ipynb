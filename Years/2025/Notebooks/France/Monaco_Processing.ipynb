{
 "cells": [
  {
   "metadata": {},
   "cell_type": "markdown",
   "source": "# Monaco restaurants",
   "id": "5a93c6890f6b8040"
  },
  {
   "cell_type": "code",
   "id": "initial_id",
   "metadata": {
    "collapsed": true,
    "ExecuteTime": {
     "end_time": "2025-04-01T16:28:32.509441Z",
     "start_time": "2025-04-01T16:28:32.021968Z"
    }
   },
   "source": [
    "import pandas as pd\n",
    "import numpy as np\n",
    "import geopandas as gpd\n",
    "import matplotlib.pyplot as plt"
   ],
   "outputs": [],
   "execution_count": 1
  },
  {
   "metadata": {
    "ExecuteTime": {
     "end_time": "2025-04-01T16:28:36.859861Z",
     "start_time": "2025-04-01T16:28:36.840051Z"
    }
   },
   "cell_type": "code",
   "source": [
    "monaco = pd.read_csv(\"../../data/France/monaco_2025.csv\")\n",
    "monaco"
   ],
   "id": "886b02d5a9a5f901",
   "outputs": [
    {
     "data": {
      "text/plain": [
       "                                                 name  \\\n",
       "0      Le Louis XV - Alain Ducasse à l'Hôtel de Paris   \n",
       "1                                L'Abysse Monte-Carlo   \n",
       "2                               Blue Bay Marcel Ravin   \n",
       "3               Les Ambassadeurs by Christophe Cussac   \n",
       "4   Pavyllon, un restaurant de Yannick Alléno, Mon...   \n",
       "5                                                Elsa   \n",
       "6                                            Le Grill   \n",
       "7            La Table d'Antonio Salvatore au Rampoldi   \n",
       "8                                           Zeffirino   \n",
       "9                                              Marius   \n",
       "10                                   La Table d'Élise   \n",
       "11                                            Song Qi   \n",
       "12                                              Yoshi   \n",
       "13                                            Beefbar   \n",
       "14                                          Em Sherif   \n",
       "15                                      Café de Paris   \n",
       "\n",
       "                                              address    city country price  \\\n",
       "0              Place du Casino, Monaco, 98000, France  Monaco  France  €€€€   \n",
       "1          Square Beaumarchais, Monaco, 98000, France  Monaco  France  €€€€   \n",
       "2    40 avenue Princesse-Grace, Monaco, 98000, France  Monaco  France  €€€€   \n",
       "3   Hôtel Métropole Monte-Carlo, 4 avenue de la Ma...  Monaco  France  €€€€   \n",
       "4          Square Beaumarchais, Monaco, 98000, France  Monaco  France  €€€€   \n",
       "5   Monte-Carlo Beach, avenue Princesse-Grace, Roq...  Monaco  France  €€€€   \n",
       "6   Hôtel de Paris Monte-Carlo, place du Casino, M...  Monaco  France  €€€€   \n",
       "7       3 avenue des Spélugues, Monaco, 98000, France  Monaco  France  €€€€   \n",
       "8            11 rue du Portier, Monaco, 98000, France  Monaco  France   €€€   \n",
       "9           6 quai Antoine-1er, Monaco, 98000, France  Monaco  France   €€€   \n",
       "10            2 rue du Portier, Monaco, 98000, France  Monaco  France   €€€   \n",
       "11    7 avenue Princesse-Grace, Monaco, 98000, France  Monaco  France   €€€   \n",
       "12       4 avenue de la Madone, Monaco, 98000, France  Monaco  France  €€€€   \n",
       "13  42 quai Jean-Charles-Rey, port de Fontvieille,...  Monaco  France   €€€   \n",
       "14  Hôtel de Paris, place du Casino, Monaco, 98000...  Monaco  France  €€€€   \n",
       "15             Place du Casino, Monaco, 98000, France  Monaco  France   €€€   \n",
       "\n",
       "                                  cuisine  \\\n",
       "0   Mediterranean Cuisine, Modern Cuisine   \n",
       "1                                Japanese   \n",
       "2                                Creative   \n",
       "3   Modern Cuisine, Mediterranean Cuisine   \n",
       "4                Modern Cuisine, Creative   \n",
       "5                   Mediterranean Cuisine   \n",
       "6                         Classic Cuisine   \n",
       "7                       Italian, Creative   \n",
       "8                                 Italian   \n",
       "9                               Provençal   \n",
       "10                              Provençal   \n",
       "11                         Asian, Chinese   \n",
       "12                               Japanese   \n",
       "13                       Meats and Grills   \n",
       "14                               Lebanese   \n",
       "15                    Traditional Cuisine   \n",
       "\n",
       "                                                  url                 award  \\\n",
       "0                      https://www.ducasse-paris.com/               3 Stars   \n",
       "1   https://www.montecarlosbm.com/fr/restaurant/la...               2 Stars   \n",
       "2   https://www.montecarlosbm.com/fr/restaurant-mo...               2 Stars   \n",
       "3   http://www.metropole.com/fr/restaurant-montecarlo               2 Stars   \n",
       "4   https://www.montecarlosbm.com/fr/restaurant-mo...                1 Star   \n",
       "5   https://www.montecarlosbm.com/fr/restaurant-mo...                1 Star   \n",
       "6   https://www.montecarlosbm.com/fr/restaurant-mo...                1 Star   \n",
       "7   http://www.rampoldi.mc/la-table-dantonio-salva...                1 Star   \n",
       "8            https://zeffirino-restaurant.com/monaco/  Selected Restaurants   \n",
       "9                         http://www.mariusmonaco.com  Selected Restaurants   \n",
       "10                        http://www.latabledelise.mc  Selected Restaurants   \n",
       "11                            https://www.song-qi.mc/  Selected Restaurants   \n",
       "12  http://www.metropole.com/fr/restaurant-monteca...  Selected Restaurants   \n",
       "13                        https://beefbar.com/monaco/  Selected Restaurants   \n",
       "14  http://www.montecarlosbm.com/fr/restaurant-mon...  Selected Restaurants   \n",
       "15  https://www.montecarlosbm.com/fr/restaurant-mo...  Selected Restaurants   \n",
       "\n",
       "    greenstar  stars  longitude   latitude  \n",
       "0           0   3.00   7.427105  43.739184  \n",
       "1           0   2.00   7.425928  43.738489  \n",
       "2           0   2.00   7.437975  43.748897  \n",
       "3           0   2.00   7.427562  43.740506  \n",
       "4           0   1.00   7.425868  43.738462  \n",
       "5           0   1.00   7.444318  43.750654  \n",
       "6           0   1.00   7.427100  43.739367  \n",
       "7           0   1.00   7.427897  43.740371  \n",
       "8           0   0.25   7.429587  43.742399  \n",
       "9           0   0.25   7.425008  43.732978  \n",
       "10          0   0.25   7.429484  43.742148  \n",
       "11          0   0.25   7.430421  43.742992  \n",
       "12          0   0.25   7.427975  43.740818  \n",
       "13          0   0.25   7.421747  43.727725  \n",
       "14          0   0.25   7.427587  43.738957  \n",
       "15          0   0.25   7.427808  43.739627  "
      ],
      "text/html": [
       "<div>\n",
       "<style scoped>\n",
       "    .dataframe tbody tr th:only-of-type {\n",
       "        vertical-align: middle;\n",
       "    }\n",
       "\n",
       "    .dataframe tbody tr th {\n",
       "        vertical-align: top;\n",
       "    }\n",
       "\n",
       "    .dataframe thead th {\n",
       "        text-align: right;\n",
       "    }\n",
       "</style>\n",
       "<table border=\"1\" class=\"dataframe\">\n",
       "  <thead>\n",
       "    <tr style=\"text-align: right;\">\n",
       "      <th></th>\n",
       "      <th>name</th>\n",
       "      <th>address</th>\n",
       "      <th>city</th>\n",
       "      <th>country</th>\n",
       "      <th>price</th>\n",
       "      <th>cuisine</th>\n",
       "      <th>url</th>\n",
       "      <th>award</th>\n",
       "      <th>greenstar</th>\n",
       "      <th>stars</th>\n",
       "      <th>longitude</th>\n",
       "      <th>latitude</th>\n",
       "    </tr>\n",
       "  </thead>\n",
       "  <tbody>\n",
       "    <tr>\n",
       "      <th>0</th>\n",
       "      <td>Le Louis XV - Alain Ducasse à l'Hôtel de Paris</td>\n",
       "      <td>Place du Casino, Monaco, 98000, France</td>\n",
       "      <td>Monaco</td>\n",
       "      <td>France</td>\n",
       "      <td>€€€€</td>\n",
       "      <td>Mediterranean Cuisine, Modern Cuisine</td>\n",
       "      <td>https://www.ducasse-paris.com/</td>\n",
       "      <td>3 Stars</td>\n",
       "      <td>0</td>\n",
       "      <td>3.00</td>\n",
       "      <td>7.427105</td>\n",
       "      <td>43.739184</td>\n",
       "    </tr>\n",
       "    <tr>\n",
       "      <th>1</th>\n",
       "      <td>L'Abysse Monte-Carlo</td>\n",
       "      <td>Square Beaumarchais, Monaco, 98000, France</td>\n",
       "      <td>Monaco</td>\n",
       "      <td>France</td>\n",
       "      <td>€€€€</td>\n",
       "      <td>Japanese</td>\n",
       "      <td>https://www.montecarlosbm.com/fr/restaurant/la...</td>\n",
       "      <td>2 Stars</td>\n",
       "      <td>0</td>\n",
       "      <td>2.00</td>\n",
       "      <td>7.425928</td>\n",
       "      <td>43.738489</td>\n",
       "    </tr>\n",
       "    <tr>\n",
       "      <th>2</th>\n",
       "      <td>Blue Bay Marcel Ravin</td>\n",
       "      <td>40 avenue Princesse-Grace, Monaco, 98000, France</td>\n",
       "      <td>Monaco</td>\n",
       "      <td>France</td>\n",
       "      <td>€€€€</td>\n",
       "      <td>Creative</td>\n",
       "      <td>https://www.montecarlosbm.com/fr/restaurant-mo...</td>\n",
       "      <td>2 Stars</td>\n",
       "      <td>0</td>\n",
       "      <td>2.00</td>\n",
       "      <td>7.437975</td>\n",
       "      <td>43.748897</td>\n",
       "    </tr>\n",
       "    <tr>\n",
       "      <th>3</th>\n",
       "      <td>Les Ambassadeurs by Christophe Cussac</td>\n",
       "      <td>Hôtel Métropole Monte-Carlo, 4 avenue de la Ma...</td>\n",
       "      <td>Monaco</td>\n",
       "      <td>France</td>\n",
       "      <td>€€€€</td>\n",
       "      <td>Modern Cuisine, Mediterranean Cuisine</td>\n",
       "      <td>http://www.metropole.com/fr/restaurant-montecarlo</td>\n",
       "      <td>2 Stars</td>\n",
       "      <td>0</td>\n",
       "      <td>2.00</td>\n",
       "      <td>7.427562</td>\n",
       "      <td>43.740506</td>\n",
       "    </tr>\n",
       "    <tr>\n",
       "      <th>4</th>\n",
       "      <td>Pavyllon, un restaurant de Yannick Alléno, Mon...</td>\n",
       "      <td>Square Beaumarchais, Monaco, 98000, France</td>\n",
       "      <td>Monaco</td>\n",
       "      <td>France</td>\n",
       "      <td>€€€€</td>\n",
       "      <td>Modern Cuisine, Creative</td>\n",
       "      <td>https://www.montecarlosbm.com/fr/restaurant-mo...</td>\n",
       "      <td>1 Star</td>\n",
       "      <td>0</td>\n",
       "      <td>1.00</td>\n",
       "      <td>7.425868</td>\n",
       "      <td>43.738462</td>\n",
       "    </tr>\n",
       "    <tr>\n",
       "      <th>5</th>\n",
       "      <td>Elsa</td>\n",
       "      <td>Monte-Carlo Beach, avenue Princesse-Grace, Roq...</td>\n",
       "      <td>Monaco</td>\n",
       "      <td>France</td>\n",
       "      <td>€€€€</td>\n",
       "      <td>Mediterranean Cuisine</td>\n",
       "      <td>https://www.montecarlosbm.com/fr/restaurant-mo...</td>\n",
       "      <td>1 Star</td>\n",
       "      <td>0</td>\n",
       "      <td>1.00</td>\n",
       "      <td>7.444318</td>\n",
       "      <td>43.750654</td>\n",
       "    </tr>\n",
       "    <tr>\n",
       "      <th>6</th>\n",
       "      <td>Le Grill</td>\n",
       "      <td>Hôtel de Paris Monte-Carlo, place du Casino, M...</td>\n",
       "      <td>Monaco</td>\n",
       "      <td>France</td>\n",
       "      <td>€€€€</td>\n",
       "      <td>Classic Cuisine</td>\n",
       "      <td>https://www.montecarlosbm.com/fr/restaurant-mo...</td>\n",
       "      <td>1 Star</td>\n",
       "      <td>0</td>\n",
       "      <td>1.00</td>\n",
       "      <td>7.427100</td>\n",
       "      <td>43.739367</td>\n",
       "    </tr>\n",
       "    <tr>\n",
       "      <th>7</th>\n",
       "      <td>La Table d'Antonio Salvatore au Rampoldi</td>\n",
       "      <td>3 avenue des Spélugues, Monaco, 98000, France</td>\n",
       "      <td>Monaco</td>\n",
       "      <td>France</td>\n",
       "      <td>€€€€</td>\n",
       "      <td>Italian, Creative</td>\n",
       "      <td>http://www.rampoldi.mc/la-table-dantonio-salva...</td>\n",
       "      <td>1 Star</td>\n",
       "      <td>0</td>\n",
       "      <td>1.00</td>\n",
       "      <td>7.427897</td>\n",
       "      <td>43.740371</td>\n",
       "    </tr>\n",
       "    <tr>\n",
       "      <th>8</th>\n",
       "      <td>Zeffirino</td>\n",
       "      <td>11 rue du Portier, Monaco, 98000, France</td>\n",
       "      <td>Monaco</td>\n",
       "      <td>France</td>\n",
       "      <td>€€€</td>\n",
       "      <td>Italian</td>\n",
       "      <td>https://zeffirino-restaurant.com/monaco/</td>\n",
       "      <td>Selected Restaurants</td>\n",
       "      <td>0</td>\n",
       "      <td>0.25</td>\n",
       "      <td>7.429587</td>\n",
       "      <td>43.742399</td>\n",
       "    </tr>\n",
       "    <tr>\n",
       "      <th>9</th>\n",
       "      <td>Marius</td>\n",
       "      <td>6 quai Antoine-1er, Monaco, 98000, France</td>\n",
       "      <td>Monaco</td>\n",
       "      <td>France</td>\n",
       "      <td>€€€</td>\n",
       "      <td>Provençal</td>\n",
       "      <td>http://www.mariusmonaco.com</td>\n",
       "      <td>Selected Restaurants</td>\n",
       "      <td>0</td>\n",
       "      <td>0.25</td>\n",
       "      <td>7.425008</td>\n",
       "      <td>43.732978</td>\n",
       "    </tr>\n",
       "    <tr>\n",
       "      <th>10</th>\n",
       "      <td>La Table d'Élise</td>\n",
       "      <td>2 rue du Portier, Monaco, 98000, France</td>\n",
       "      <td>Monaco</td>\n",
       "      <td>France</td>\n",
       "      <td>€€€</td>\n",
       "      <td>Provençal</td>\n",
       "      <td>http://www.latabledelise.mc</td>\n",
       "      <td>Selected Restaurants</td>\n",
       "      <td>0</td>\n",
       "      <td>0.25</td>\n",
       "      <td>7.429484</td>\n",
       "      <td>43.742148</td>\n",
       "    </tr>\n",
       "    <tr>\n",
       "      <th>11</th>\n",
       "      <td>Song Qi</td>\n",
       "      <td>7 avenue Princesse-Grace, Monaco, 98000, France</td>\n",
       "      <td>Monaco</td>\n",
       "      <td>France</td>\n",
       "      <td>€€€</td>\n",
       "      <td>Asian, Chinese</td>\n",
       "      <td>https://www.song-qi.mc/</td>\n",
       "      <td>Selected Restaurants</td>\n",
       "      <td>0</td>\n",
       "      <td>0.25</td>\n",
       "      <td>7.430421</td>\n",
       "      <td>43.742992</td>\n",
       "    </tr>\n",
       "    <tr>\n",
       "      <th>12</th>\n",
       "      <td>Yoshi</td>\n",
       "      <td>4 avenue de la Madone, Monaco, 98000, France</td>\n",
       "      <td>Monaco</td>\n",
       "      <td>France</td>\n",
       "      <td>€€€€</td>\n",
       "      <td>Japanese</td>\n",
       "      <td>http://www.metropole.com/fr/restaurant-monteca...</td>\n",
       "      <td>Selected Restaurants</td>\n",
       "      <td>0</td>\n",
       "      <td>0.25</td>\n",
       "      <td>7.427975</td>\n",
       "      <td>43.740818</td>\n",
       "    </tr>\n",
       "    <tr>\n",
       "      <th>13</th>\n",
       "      <td>Beefbar</td>\n",
       "      <td>42 quai Jean-Charles-Rey, port de Fontvieille,...</td>\n",
       "      <td>Monaco</td>\n",
       "      <td>France</td>\n",
       "      <td>€€€</td>\n",
       "      <td>Meats and Grills</td>\n",
       "      <td>https://beefbar.com/monaco/</td>\n",
       "      <td>Selected Restaurants</td>\n",
       "      <td>0</td>\n",
       "      <td>0.25</td>\n",
       "      <td>7.421747</td>\n",
       "      <td>43.727725</td>\n",
       "    </tr>\n",
       "    <tr>\n",
       "      <th>14</th>\n",
       "      <td>Em Sherif</td>\n",
       "      <td>Hôtel de Paris, place du Casino, Monaco, 98000...</td>\n",
       "      <td>Monaco</td>\n",
       "      <td>France</td>\n",
       "      <td>€€€€</td>\n",
       "      <td>Lebanese</td>\n",
       "      <td>http://www.montecarlosbm.com/fr/restaurant-mon...</td>\n",
       "      <td>Selected Restaurants</td>\n",
       "      <td>0</td>\n",
       "      <td>0.25</td>\n",
       "      <td>7.427587</td>\n",
       "      <td>43.738957</td>\n",
       "    </tr>\n",
       "    <tr>\n",
       "      <th>15</th>\n",
       "      <td>Café de Paris</td>\n",
       "      <td>Place du Casino, Monaco, 98000, France</td>\n",
       "      <td>Monaco</td>\n",
       "      <td>France</td>\n",
       "      <td>€€€</td>\n",
       "      <td>Traditional Cuisine</td>\n",
       "      <td>https://www.montecarlosbm.com/fr/restaurant-mo...</td>\n",
       "      <td>Selected Restaurants</td>\n",
       "      <td>0</td>\n",
       "      <td>0.25</td>\n",
       "      <td>7.427808</td>\n",
       "      <td>43.739627</td>\n",
       "    </tr>\n",
       "  </tbody>\n",
       "</table>\n",
       "</div>"
      ]
     },
     "execution_count": 2,
     "metadata": {},
     "output_type": "execute_result"
    }
   ],
   "execution_count": 2
  },
  {
   "metadata": {
    "ExecuteTime": {
     "end_time": "2025-04-01T16:29:58.813180Z",
     "start_time": "2025-04-01T16:29:58.808634Z"
    }
   },
   "cell_type": "code",
   "source": [
    "# We drop 'city'\n",
    "monaco.drop(['city', 'country'], axis=1, inplace=True)"
   ],
   "id": "30516e5bb77d33ba",
   "outputs": [],
   "execution_count": 3
  },
  {
   "metadata": {
    "ExecuteTime": {
     "end_time": "2025-04-01T16:30:01.375261Z",
     "start_time": "2025-04-01T16:30:01.372219Z"
    }
   },
   "cell_type": "code",
   "source": [
    "print(f\"Shape of DataFrame: {monaco.shape}\")\n",
    "print(f\"Columns:\\n{monaco.columns.unique().tolist()}\")"
   ],
   "id": "3eb1c61b69609387",
   "outputs": [
    {
     "name": "stdout",
     "output_type": "stream",
     "text": [
      "Shape of DataFrame: (16, 10)\n",
      "Columns:\n",
      "['name', 'address', 'price', 'cuisine', 'url', 'award', 'greenstar', 'stars', 'longitude', 'latitude']\n"
     ]
    }
   ],
   "execution_count": 4
  },
  {
   "metadata": {
    "ExecuteTime": {
     "end_time": "2025-04-01T16:30:04.342883Z",
     "start_time": "2025-04-01T16:30:04.335466Z"
    }
   },
   "cell_type": "code",
   "source": "print(monaco.info())",
   "id": "f853be89e28ac7d3",
   "outputs": [
    {
     "name": "stdout",
     "output_type": "stream",
     "text": [
      "<class 'pandas.core.frame.DataFrame'>\n",
      "RangeIndex: 16 entries, 0 to 15\n",
      "Data columns (total 10 columns):\n",
      " #   Column     Non-Null Count  Dtype  \n",
      "---  ------     --------------  -----  \n",
      " 0   name       16 non-null     object \n",
      " 1   address    16 non-null     object \n",
      " 2   price      16 non-null     object \n",
      " 3   cuisine    16 non-null     object \n",
      " 4   url        16 non-null     object \n",
      " 5   award      16 non-null     object \n",
      " 6   greenstar  16 non-null     int64  \n",
      " 7   stars      16 non-null     float64\n",
      " 8   longitude  16 non-null     float64\n",
      " 9   latitude   16 non-null     float64\n",
      "dtypes: float64(3), int64(1), object(6)\n",
      "memory usage: 1.4+ KB\n",
      "None\n"
     ]
    }
   ],
   "execution_count": 5
  },
  {
   "metadata": {},
   "cell_type": "markdown",
   "source": [
    "----\n",
    "&nbsp;\n",
    "### Restaurant Locations Visualisation"
   ],
   "id": "7ca73e7204f63387"
  },
  {
   "metadata": {
    "ExecuteTime": {
     "end_time": "2025-04-01T16:30:07.763525Z",
     "start_time": "2025-04-01T16:30:07.683838Z"
    }
   },
   "cell_type": "code",
   "source": "monaco.plot(kind='scatter', x='longitude', y='latitude', alpha=0.2)",
   "id": "79a457a9ad699b55",
   "outputs": [
    {
     "data": {
      "text/plain": [
       "<Axes: xlabel='longitude', ylabel='latitude'>"
      ]
     },
     "execution_count": 6,
     "metadata": {},
     "output_type": "execute_result"
    },
    {
     "data": {
      "text/plain": [
       "<Figure size 640x480 with 1 Axes>"
      ],
      "image/png": "[encoded data removed]"
     },
     "metadata": {},
     "output_type": "display_data"
    }
   ],
   "execution_count": 6
  },
  {
   "metadata": {},
   "cell_type": "markdown",
   "source": [
    "----\n",
    "&nbsp;\n",
    "### Amendments to the address and location formatting"
   ],
   "id": "60e4c6e90384acad"
  },
  {
   "metadata": {
    "ExecuteTime": {
     "end_time": "2025-04-01T16:30:13.107923Z",
     "start_time": "2025-04-01T16:30:13.102724Z"
    }
   },
   "cell_type": "code",
   "source": [
    "# Check for addresses without a comma or with more than 3 commas (indicating more than 4 fields)\n",
    "incorrect_format = monaco[~monaco['address'].str.count(',').isin([1, 2, 3])]"
   ],
   "id": "2e1b20f73f66304e",
   "outputs": [],
   "execution_count": 7
  },
  {
   "metadata": {
    "ExecuteTime": {
     "end_time": "2025-04-01T16:30:15.456163Z",
     "start_time": "2025-04-01T16:30:15.452811Z"
    }
   },
   "cell_type": "code",
   "source": [
    "# Print out number addresses that don't match the expected format\n",
    "if not incorrect_format.empty:\n",
    "    print(f\"Addresses with unexpected format: {len(incorrect_format['address'])}\")"
   ],
   "id": "a1710931b855834b",
   "outputs": [
    {
     "name": "stdout",
     "output_type": "stream",
     "text": [
      "Addresses with unexpected format: 5\n"
     ]
    }
   ],
   "execution_count": 8
  },
  {
   "metadata": {
    "ExecuteTime": {
     "end_time": "2025-04-01T16:30:17.822399Z",
     "start_time": "2025-04-01T16:30:17.818122Z"
    }
   },
   "cell_type": "code",
   "source": [
    "def process_address(addr):\n",
    "    # Split the address by commas and strip whitespace\n",
    "    parts = [part.strip() for part in addr.split(',')]\n",
    "\n",
    "    # If there are not enough parts, just return the original\n",
    "    if len(parts) < 4:\n",
    "        return addr, None, None\n",
    "\n",
    "    # Extract the postal code and city\n",
    "    postal_code = parts[-2]\n",
    "    location = parts[-3]\n",
    "\n",
    "    # Form the main address by joining the remaining parts (excluding postal code, city, and country)\n",
    "    main_address = ', '.join(parts[:-3])\n",
    "\n",
    "    return main_address, location, postal_code"
   ],
   "id": "aa5bfad596fcfba0",
   "outputs": [],
   "execution_count": 9
  },
  {
   "metadata": {
    "ExecuteTime": {
     "end_time": "2025-04-01T16:30:21.879040Z",
     "start_time": "2025-04-01T16:30:21.874439Z"
    }
   },
   "cell_type": "code",
   "source": [
    "# Apply the function to the DataFrame\n",
    "addresses, locations, postal_codes = zip(*monaco['address'].apply(process_address))\n",
    "\n",
    "monaco['address'] = addresses\n",
    "monaco['location'] = [f\"{location}, {postal_code}\" for location, postal_code in zip(locations, postal_codes)]\n",
    "monaco['arrondissement'] = 'Monaco'\n",
    "monaco['department_num'] = '98'\n",
    "monaco['department'] = 'Monaco'\n",
    "monaco['capital'] = 'Monaco'\n",
    "monaco['region'] = \"Provence-Alpes-Côte d'Azur\""
   ],
   "id": "377a3824ece703f9",
   "outputs": [],
   "execution_count": 10
  },
  {
   "metadata": {
    "ExecuteTime": {
     "end_time": "2025-04-01T16:30:24.750956Z",
     "start_time": "2025-04-01T16:30:24.738701Z"
    }
   },
   "cell_type": "code",
   "source": [
    "monaco = monaco[['name', 'address', 'location', 'arrondissement', 'department_num', 'department', 'capital', 'region', 'price', 'cuisine', 'url', 'award', 'greenstar', 'stars', 'longitude', 'latitude']]\n",
    "monaco.head()"
   ],
   "id": "f3b996bb43608018",
   "outputs": [
    {
     "data": {
      "text/plain": [
       "                                                name  \\\n",
       "0     Le Louis XV - Alain Ducasse à l'Hôtel de Paris   \n",
       "1                               L'Abysse Monte-Carlo   \n",
       "2                              Blue Bay Marcel Ravin   \n",
       "3              Les Ambassadeurs by Christophe Cussac   \n",
       "4  Pavyllon, un restaurant de Yannick Alléno, Mon...   \n",
       "\n",
       "                                             address       location  \\\n",
       "0                                    Place du Casino  Monaco, 98000   \n",
       "1                                Square Beaumarchais  Monaco, 98000   \n",
       "2                          40 avenue Princesse-Grace  Monaco, 98000   \n",
       "3  Hôtel Métropole Monte-Carlo, 4 avenue de la Ma...  Monaco, 98000   \n",
       "4                                Square Beaumarchais  Monaco, 98000   \n",
       "\n",
       "  arrondissement department_num department capital  \\\n",
       "0         Monaco             98     Monaco  Monaco   \n",
       "1         Monaco             98     Monaco  Monaco   \n",
       "2         Monaco             98     Monaco  Monaco   \n",
       "3         Monaco             98     Monaco  Monaco   \n",
       "4         Monaco             98     Monaco  Monaco   \n",
       "\n",
       "                       region price                                cuisine  \\\n",
       "0  Provence-Alpes-Côte d'Azur  €€€€  Mediterranean Cuisine, Modern Cuisine   \n",
       "1  Provence-Alpes-Côte d'Azur  €€€€                               Japanese   \n",
       "2  Provence-Alpes-Côte d'Azur  €€€€                               Creative   \n",
       "3  Provence-Alpes-Côte d'Azur  €€€€  Modern Cuisine, Mediterranean Cuisine   \n",
       "4  Provence-Alpes-Côte d'Azur  €€€€               Modern Cuisine, Creative   \n",
       "\n",
       "                                                 url    award  greenstar  \\\n",
       "0                     https://www.ducasse-paris.com/  3 Stars          0   \n",
       "1  https://www.montecarlosbm.com/fr/restaurant/la...  2 Stars          0   \n",
       "2  https://www.montecarlosbm.com/fr/restaurant-mo...  2 Stars          0   \n",
       "3  http://www.metropole.com/fr/restaurant-montecarlo  2 Stars          0   \n",
       "4  https://www.montecarlosbm.com/fr/restaurant-mo...   1 Star          0   \n",
       "\n",
       "   stars  longitude   latitude  \n",
       "0    3.0   7.427105  43.739184  \n",
       "1    2.0   7.425928  43.738489  \n",
       "2    2.0   7.437975  43.748897  \n",
       "3    2.0   7.427562  43.740506  \n",
       "4    1.0   7.425868  43.738462  "
      ],
      "text/html": [
       "<div>\n",
       "<style scoped>\n",
       "    .dataframe tbody tr th:only-of-type {\n",
       "        vertical-align: middle;\n",
       "    }\n",
       "\n",
       "    .dataframe tbody tr th {\n",
       "        vertical-align: top;\n",
       "    }\n",
       "\n",
       "    .dataframe thead th {\n",
       "        text-align: right;\n",
       "    }\n",
       "</style>\n",
       "<table border=\"1\" class=\"dataframe\">\n",
       "  <thead>\n",
       "    <tr style=\"text-align: right;\">\n",
       "      <th></th>\n",
       "      <th>name</th>\n",
       "      <th>address</th>\n",
       "      <th>location</th>\n",
       "      <th>arrondissement</th>\n",
       "      <th>department_num</th>\n",
       "      <th>department</th>\n",
       "      <th>capital</th>\n",
       "      <th>region</th>\n",
       "      <th>price</th>\n",
       "      <th>cuisine</th>\n",
       "      <th>url</th>\n",
       "      <th>award</th>\n",
       "      <th>greenstar</th>\n",
       "      <th>stars</th>\n",
       "      <th>longitude</th>\n",
       "      <th>latitude</th>\n",
       "    </tr>\n",
       "  </thead>\n",
       "  <tbody>\n",
       "    <tr>\n",
       "      <th>0</th>\n",
       "      <td>Le Louis XV - Alain Ducasse à l'Hôtel de Paris</td>\n",
       "      <td>Place du Casino</td>\n",
       "      <td>Monaco, 98000</td>\n",
       "      <td>Monaco</td>\n",
       "      <td>98</td>\n",
       "      <td>Monaco</td>\n",
       "      <td>Monaco</td>\n",
       "      <td>Provence-Alpes-Côte d'Azur</td>\n",
       "      <td>€€€€</td>\n",
       "      <td>Mediterranean Cuisine, Modern Cuisine</td>\n",
       "      <td>https://www.ducasse-paris.com/</td>\n",
       "      <td>3 Stars</td>\n",
       "      <td>0</td>\n",
       "      <td>3.0</td>\n",
       "      <td>7.427105</td>\n",
       "      <td>43.739184</td>\n",
       "    </tr>\n",
       "    <tr>\n",
       "      <th>1</th>\n",
       "      <td>L'Abysse Monte-Carlo</td>\n",
       "      <td>Square Beaumarchais</td>\n",
       "      <td>Monaco, 98000</td>\n",
       "      <td>Monaco</td>\n",
       "      <td>98</td>\n",
       "      <td>Monaco</td>\n",
       "      <td>Monaco</td>\n",
       "      <td>Provence-Alpes-Côte d'Azur</td>\n",
       "      <td>€€€€</td>\n",
       "      <td>Japanese</td>\n",
       "      <td>https://www.montecarlosbm.com/fr/restaurant/la...</td>\n",
       "      <td>2 Stars</td>\n",
       "      <td>0</td>\n",
       "      <td>2.0</td>\n",
       "      <td>7.425928</td>\n",
       "      <td>43.738489</td>\n",
       "    </tr>\n",
       "    <tr>\n",
       "      <th>2</th>\n",
       "      <td>Blue Bay Marcel Ravin</td>\n",
       "      <td>40 avenue Princesse-Grace</td>\n",
       "      <td>Monaco, 98000</td>\n",
       "      <td>Monaco</td>\n",
       "      <td>98</td>\n",
       "      <td>Monaco</td>\n",
       "      <td>Monaco</td>\n",
       "      <td>Provence-Alpes-Côte d'Azur</td>\n",
       "      <td>€€€€</td>\n",
       "      <td>Creative</td>\n",
       "      <td>https://www.montecarlosbm.com/fr/restaurant-mo...</td>\n",
       "      <td>2 Stars</td>\n",
       "      <td>0</td>\n",
       "      <td>2.0</td>\n",
       "      <td>7.437975</td>\n",
       "      <td>43.748897</td>\n",
       "    </tr>\n",
       "    <tr>\n",
       "      <th>3</th>\n",
       "      <td>Les Ambassadeurs by Christophe Cussac</td>\n",
       "      <td>Hôtel Métropole Monte-Carlo, 4 avenue de la Ma...</td>\n",
       "      <td>Monaco, 98000</td>\n",
       "      <td>Monaco</td>\n",
       "      <td>98</td>\n",
       "      <td>Monaco</td>\n",
       "      <td>Monaco</td>\n",
       "      <td>Provence-Alpes-Côte d'Azur</td>\n",
       "      <td>€€€€</td>\n",
       "      <td>Modern Cuisine, Mediterranean Cuisine</td>\n",
       "      <td>http://www.metropole.com/fr/restaurant-montecarlo</td>\n",
       "      <td>2 Stars</td>\n",
       "      <td>0</td>\n",
       "      <td>2.0</td>\n",
       "      <td>7.427562</td>\n",
       "      <td>43.740506</td>\n",
       "    </tr>\n",
       "    <tr>\n",
       "      <th>4</th>\n",
       "      <td>Pavyllon, un restaurant de Yannick Alléno, Mon...</td>\n",
       "      <td>Square Beaumarchais</td>\n",
       "      <td>Monaco, 98000</td>\n",
       "      <td>Monaco</td>\n",
       "      <td>98</td>\n",
       "      <td>Monaco</td>\n",
       "      <td>Monaco</td>\n",
       "      <td>Provence-Alpes-Côte d'Azur</td>\n",
       "      <td>€€€€</td>\n",
       "      <td>Modern Cuisine, Creative</td>\n",
       "      <td>https://www.montecarlosbm.com/fr/restaurant-mo...</td>\n",
       "      <td>1 Star</td>\n",
       "      <td>0</td>\n",
       "      <td>1.0</td>\n",
       "      <td>7.425868</td>\n",
       "      <td>43.738462</td>\n",
       "    </tr>\n",
       "  </tbody>\n",
       "</table>\n",
       "</div>"
      ]
     },
     "execution_count": 11,
     "metadata": {},
     "output_type": "execute_result"
    }
   ],
   "execution_count": 11
  },
  {
   "metadata": {
    "ExecuteTime": {
     "end_time": "2025-04-01T16:30:38.186645Z",
     "start_time": "2025-04-01T16:30:38.178347Z"
    }
   },
   "cell_type": "code",
   "source": [
    "monaco['department_num'] = monaco['department_num'].astype(str)\n",
    "monaco.info()"
   ],
   "id": "10256db24da518c8",
   "outputs": [
    {
     "name": "stdout",
     "output_type": "stream",
     "text": [
      "<class 'pandas.core.frame.DataFrame'>\n",
      "RangeIndex: 16 entries, 0 to 15\n",
      "Data columns (total 16 columns):\n",
      " #   Column          Non-Null Count  Dtype  \n",
      "---  ------          --------------  -----  \n",
      " 0   name            16 non-null     object \n",
      " 1   address         16 non-null     object \n",
      " 2   location        16 non-null     object \n",
      " 3   arrondissement  16 non-null     object \n",
      " 4   department_num  16 non-null     object \n",
      " 5   department      16 non-null     object \n",
      " 6   capital         16 non-null     object \n",
      " 7   region          16 non-null     object \n",
      " 8   price           16 non-null     object \n",
      " 9   cuisine         16 non-null     object \n",
      " 10  url             16 non-null     object \n",
      " 11  award           16 non-null     object \n",
      " 12  greenstar       16 non-null     int64  \n",
      " 13  stars           16 non-null     float64\n",
      " 14  longitude       16 non-null     float64\n",
      " 15  latitude        16 non-null     float64\n",
      "dtypes: float64(3), int64(1), object(12)\n",
      "memory usage: 2.1+ KB\n"
     ]
    }
   ],
   "execution_count": 12
  },
  {
   "metadata": {},
   "cell_type": "markdown",
   "source": "We export `monaco` as `monaco_restaurants.csv`",
   "id": "7b012dda10f6be9c"
  },
  {
   "metadata": {
    "ExecuteTime": {
     "end_time": "2025-04-01T16:30:44.249526Z",
     "start_time": "2025-04-01T16:30:44.244178Z"
    }
   },
   "cell_type": "code",
   "source": [
    "# Export the DataFrame to a .csv file\n",
    "monaco.to_csv('../../data/France/monaco_restaurants.csv', index=False)"
   ],
   "id": "51c1729d36d5bfdc",
   "outputs": [],
   "execution_count": 13
  },
  {
   "metadata": {},
   "cell_type": "markdown",
   "source": [
    "----\n",
    "&nbsp;\n",
    "### Grouping restaurants based on the number of Michelin stars."
   ],
   "id": "c2354743a478855a"
  },
  {
   "metadata": {
    "ExecuteTime": {
     "end_time": "2025-04-01T16:30:49.056380Z",
     "start_time": "2025-04-01T16:30:49.049400Z"
    }
   },
   "cell_type": "code",
   "source": [
    "# We create a copy\n",
    "monaco_copy = monaco.copy()\n",
    "\n",
    "# Create dummy variables for each category of 'star'\n",
    "monaco_copy['green_stars'] = monaco_copy['greenstar'].apply(lambda x: 1 if x == 1 else 0)\n",
    "monaco_copy['selected'] = monaco_copy['stars'].apply(lambda x: 1 if x == 0.25 else 0)\n",
    "monaco_copy['bib_gourmand'] = monaco_copy['stars'].apply(lambda x: 1 if x == 0.5 else 0)\n",
    "monaco_copy['1_star'] = monaco_copy['stars'].apply(lambda x: 1 if x == 1.0 else 0)\n",
    "monaco_copy['2_star'] = monaco_copy['stars'].apply(lambda x: 1 if x == 2.0 else 0)\n",
    "monaco_copy['3_star'] = monaco_copy['stars'].apply(lambda x: 1 if x == 3.0 else 0)"
   ],
   "id": "85f070c22d9ec1c",
   "outputs": [],
   "execution_count": 14
  },
  {
   "metadata": {
    "ExecuteTime": {
     "end_time": "2025-04-01T16:30:51.680596Z",
     "start_time": "2025-04-01T16:30:51.674818Z"
    }
   },
   "cell_type": "code",
   "source": [
    "# Group by 'department' and sum 'bibs', '1_star', '2_star' and '3_star'\n",
    "monaco_grouped = monaco_copy.groupby(['department_num', 'department'])[['green_stars', 'selected', 'bib_gourmand', '1_star', '2_star', '3_star']].sum()"
   ],
   "id": "650d8e32b8f41715",
   "outputs": [],
   "execution_count": 15
  },
  {
   "metadata": {
    "ExecuteTime": {
     "end_time": "2025-04-01T16:30:54.321897Z",
     "start_time": "2025-04-01T16:30:54.316677Z"
    }
   },
   "cell_type": "code",
   "source": [
    "# Create a 'total_ stars' column - sum of stars\n",
    "# Individual stars are summed here. ie, If 2 star then stars = 2\n",
    "monaco_grouped['total_stars'] = monaco_grouped['1_star']*1 + monaco_grouped['2_star']*2 + monaco_grouped['3_star']*3\n",
    "\n",
    "# Create a 'starred_restaurants' column = sum of starred restaurants\n",
    "monaco_grouped['starred_restaurants'] =  monaco_grouped['1_star'] + monaco_grouped['2_star'] + monaco_grouped['3_star']\n",
    "\n",
    "monaco_grouped['capital'] = 'Monaco'\n",
    "monaco_grouped['region'] = \"Provence-Alpes-Côte d'Azur\"\n",
    "print(f\"Columns: {monaco_grouped.columns.tolist()}\")"
   ],
   "id": "87b149ce7714b624",
   "outputs": [
    {
     "name": "stdout",
     "output_type": "stream",
     "text": [
      "Columns: ['green_stars', 'selected', 'bib_gourmand', '1_star', '2_star', '3_star', 'total_stars', 'starred_restaurants', 'capital', 'region']\n"
     ]
    }
   ],
   "execution_count": 16
  },
  {
   "metadata": {
    "ExecuteTime": {
     "end_time": "2025-04-01T16:30:57.165370Z",
     "start_time": "2025-04-01T16:30:57.151681Z"
    }
   },
   "cell_type": "code",
   "source": [
    "# Reset index to turn 'department_num' and 'department' back into columns\n",
    "monaco_grouped = monaco_grouped.reset_index()\n",
    "\n",
    "# Add required demographic columns with placeholder 0.0 values\n",
    "demographic_cols = [\n",
    "    'GDP_millions(€)', 'GDP_per_capita(€)', 'poverty_rate(%)',\n",
    "    'average_annual_unemployment_rate(%)', 'average_net_hourly_wage(€)',\n",
    "    'municipal_population', 'population_density(inhabitants/sq_km)',\n",
    "    'area(sq_km)'\n",
    "]\n",
    "\n",
    "for col in demographic_cols:\n",
    "    monaco_grouped[col] = 0.0\n",
    "\n",
    "# Reorder columns to match departmental_data\n",
    "monaco_grouped = monaco_grouped[[\n",
    "    'department_num', 'department', 'capital', 'region', 'selected',\n",
    "    'bib_gourmand', '1_star', '2_star', '3_star', 'total_stars',\n",
    "    'starred_restaurants', 'green_stars',\n",
    "    'GDP_millions(€)', 'GDP_per_capita(€)', 'poverty_rate(%)',\n",
    "    'average_annual_unemployment_rate(%)', 'average_net_hourly_wage(€)',\n",
    "    'municipal_population', 'population_density(inhabitants/sq_km)',\n",
    "    'area(sq_km)'\n",
    "]]\n",
    "\n",
    "monaco_grouped.head()"
   ],
   "id": "adbb6ea5ab260f21",
   "outputs": [
    {
     "data": {
      "text/plain": [
       "  department_num department capital                      region  selected  \\\n",
       "0             98     Monaco  Monaco  Provence-Alpes-Côte d'Azur         8   \n",
       "\n",
       "   bib_gourmand  1_star  2_star  3_star  total_stars  starred_restaurants  \\\n",
       "0             0       4       3       1           13                    8   \n",
       "\n",
       "   green_stars  GDP_millions(€)  GDP_per_capita(€)  poverty_rate(%)  \\\n",
       "0            0              0.0                0.0              0.0   \n",
       "\n",
       "   average_annual_unemployment_rate(%)  average_net_hourly_wage(€)  \\\n",
       "0                                  0.0                         0.0   \n",
       "\n",
       "   municipal_population  population_density(inhabitants/sq_km)  area(sq_km)  \n",
       "0                   0.0                                    0.0          0.0  "
      ],
      "text/html": [
       "<div>\n",
       "<style scoped>\n",
       "    .dataframe tbody tr th:only-of-type {\n",
       "        vertical-align: middle;\n",
       "    }\n",
       "\n",
       "    .dataframe tbody tr th {\n",
       "        vertical-align: top;\n",
       "    }\n",
       "\n",
       "    .dataframe thead th {\n",
       "        text-align: right;\n",
       "    }\n",
       "</style>\n",
       "<table border=\"1\" class=\"dataframe\">\n",
       "  <thead>\n",
       "    <tr style=\"text-align: right;\">\n",
       "      <th></th>\n",
       "      <th>department_num</th>\n",
       "      <th>department</th>\n",
       "      <th>capital</th>\n",
       "      <th>region</th>\n",
       "      <th>selected</th>\n",
       "      <th>bib_gourmand</th>\n",
       "      <th>1_star</th>\n",
       "      <th>2_star</th>\n",
       "      <th>3_star</th>\n",
       "      <th>total_stars</th>\n",
       "      <th>starred_restaurants</th>\n",
       "      <th>green_stars</th>\n",
       "      <th>GDP_millions(€)</th>\n",
       "      <th>GDP_per_capita(€)</th>\n",
       "      <th>poverty_rate(%)</th>\n",
       "      <th>average_annual_unemployment_rate(%)</th>\n",
       "      <th>average_net_hourly_wage(€)</th>\n",
       "      <th>municipal_population</th>\n",
       "      <th>population_density(inhabitants/sq_km)</th>\n",
       "      <th>area(sq_km)</th>\n",
       "    </tr>\n",
       "  </thead>\n",
       "  <tbody>\n",
       "    <tr>\n",
       "      <th>0</th>\n",
       "      <td>98</td>\n",
       "      <td>Monaco</td>\n",
       "      <td>Monaco</td>\n",
       "      <td>Provence-Alpes-Côte d'Azur</td>\n",
       "      <td>8</td>\n",
       "      <td>0</td>\n",
       "      <td>4</td>\n",
       "      <td>3</td>\n",
       "      <td>1</td>\n",
       "      <td>13</td>\n",
       "      <td>8</td>\n",
       "      <td>0</td>\n",
       "      <td>0.0</td>\n",
       "      <td>0.0</td>\n",
       "      <td>0.0</td>\n",
       "      <td>0.0</td>\n",
       "      <td>0.0</td>\n",
       "      <td>0.0</td>\n",
       "      <td>0.0</td>\n",
       "      <td>0.0</td>\n",
       "    </tr>\n",
       "  </tbody>\n",
       "</table>\n",
       "</div>"
      ]
     },
     "execution_count": 17,
     "metadata": {},
     "output_type": "execute_result"
    }
   ],
   "execution_count": 17
  },
  {
   "metadata": {
    "ExecuteTime": {
     "end_time": "2025-04-01T16:31:06.289361Z",
     "start_time": "2025-04-01T16:31:06.281630Z"
    }
   },
   "cell_type": "code",
   "source": "monaco_grouped.info()",
   "id": "1e2b88599e872c07",
   "outputs": [
    {
     "name": "stdout",
     "output_type": "stream",
     "text": [
      "<class 'pandas.core.frame.DataFrame'>\n",
      "RangeIndex: 1 entries, 0 to 0\n",
      "Data columns (total 20 columns):\n",
      " #   Column                                 Non-Null Count  Dtype  \n",
      "---  ------                                 --------------  -----  \n",
      " 0   department_num                         1 non-null      object \n",
      " 1   department                             1 non-null      object \n",
      " 2   capital                                1 non-null      object \n",
      " 3   region                                 1 non-null      object \n",
      " 4   selected                               1 non-null      int64  \n",
      " 5   bib_gourmand                           1 non-null      int64  \n",
      " 6   1_star                                 1 non-null      int64  \n",
      " 7   2_star                                 1 non-null      int64  \n",
      " 8   3_star                                 1 non-null      int64  \n",
      " 9   total_stars                            1 non-null      int64  \n",
      " 10  starred_restaurants                    1 non-null      int64  \n",
      " 11  green_stars                            1 non-null      int64  \n",
      " 12  GDP_millions(€)                        1 non-null      float64\n",
      " 13  GDP_per_capita(€)                      1 non-null      float64\n",
      " 14  poverty_rate(%)                        1 non-null      float64\n",
      " 15  average_annual_unemployment_rate(%)    1 non-null      float64\n",
      " 16  average_net_hourly_wage(€)             1 non-null      float64\n",
      " 17  municipal_population                   1 non-null      float64\n",
      " 18  population_density(inhabitants/sq_km)  1 non-null      float64\n",
      " 19  area(sq_km)                            1 non-null      float64\n",
      "dtypes: float64(8), int64(8), object(4)\n",
      "memory usage: 292.0+ bytes\n"
     ]
    }
   ],
   "execution_count": 18
  },
  {
   "metadata": {},
   "cell_type": "markdown",
   "source": [
    "----\n",
    "&nbsp;\n",
    "### Adding individual restaurants"
   ],
   "id": "2ddf2e732b243519"
  },
  {
   "metadata": {
    "ExecuteTime": {
     "end_time": "2025-04-01T16:31:13.940485Z",
     "start_time": "2025-04-01T16:31:13.934200Z"
    }
   },
   "cell_type": "code",
   "source": [
    "# Create a separate DataFrame with star ratings, department, and coordinates\n",
    "location_data_monaco = monaco[['stars', 'department_num', 'latitude', 'longitude']]\n",
    "\n",
    "# Convert to a dictionary where keys are tuples of star rating and department\n",
    "location_dict_monaco = (\n",
    "    location_data_monaco\n",
    "    .groupby(['stars', 'department_num'])[['latitude', 'longitude']]\n",
    "    .apply(lambda df: list(zip(df.latitude, df.longitude)))\n",
    "    .to_dict()\n",
    ")"
   ],
   "id": "47dc9df65505b647",
   "outputs": [],
   "execution_count": 19
  },
  {
   "metadata": {
    "ExecuteTime": {
     "end_time": "2025-04-01T16:31:16.670153Z",
     "start_time": "2025-04-01T16:31:16.665669Z"
    }
   },
   "cell_type": "code",
   "source": [
    "# Create a mapping from star values to string labels\n",
    "star_label_mapping = {\n",
    "    0.25: 'Selected',\n",
    "    0.5: 'Bib',\n",
    "    1: '1',\n",
    "    2: '2',\n",
    "    3: '3'\n",
    "}\n",
    "\n",
    "# Create a function to map these dictionaries to original DataFrame for departments\n",
    "def map_locations_department(row):\n",
    "    return {star_label_mapping[stars]: location_dict_monaco.get((stars, row['department_num'])) for stars in [0.25, 0.5, 1, 2, 3]}"
   ],
   "id": "2faf9c781320ad1e",
   "outputs": [],
   "execution_count": 20
  },
  {
   "metadata": {
    "ExecuteTime": {
     "end_time": "2025-04-01T16:31:19.689451Z",
     "start_time": "2025-04-01T16:31:19.673747Z"
    }
   },
   "cell_type": "code",
   "source": [
    "# Apply this function to create a new 'locations' column\n",
    "monaco_grouped['locations'] = monaco_grouped.apply(map_locations_department, axis=1)\n",
    "monaco_grouped.head()"
   ],
   "id": "2b2c218e094b5342",
   "outputs": [
    {
     "data": {
      "text/plain": [
       "  department_num department capital                      region  selected  \\\n",
       "0             98     Monaco  Monaco  Provence-Alpes-Côte d'Azur         8   \n",
       "\n",
       "   bib_gourmand  1_star  2_star  3_star  total_stars  ...  green_stars  \\\n",
       "0             0       4       3       1           13  ...            0   \n",
       "\n",
       "   GDP_millions(€)  GDP_per_capita(€)  poverty_rate(%)  \\\n",
       "0              0.0                0.0              0.0   \n",
       "\n",
       "   average_annual_unemployment_rate(%)  average_net_hourly_wage(€)  \\\n",
       "0                                  0.0                         0.0   \n",
       "\n",
       "   municipal_population  population_density(inhabitants/sq_km)  area(sq_km)  \\\n",
       "0                   0.0                                    0.0          0.0   \n",
       "\n",
       "                                           locations  \n",
       "0  {'Selected': [(43.7423995, 7.4295871), (43.732...  \n",
       "\n",
       "[1 rows x 21 columns]"
      ],
      "text/html": [
       "<div>\n",
       "<style scoped>\n",
       "    .dataframe tbody tr th:only-of-type {\n",
       "        vertical-align: middle;\n",
       "    }\n",
       "\n",
       "    .dataframe tbody tr th {\n",
       "        vertical-align: top;\n",
       "    }\n",
       "\n",
       "    .dataframe thead th {\n",
       "        text-align: right;\n",
       "    }\n",
       "</style>\n",
       "<table border=\"1\" class=\"dataframe\">\n",
       "  <thead>\n",
       "    <tr style=\"text-align: right;\">\n",
       "      <th></th>\n",
       "      <th>department_num</th>\n",
       "      <th>department</th>\n",
       "      <th>capital</th>\n",
       "      <th>region</th>\n",
       "      <th>selected</th>\n",
       "      <th>bib_gourmand</th>\n",
       "      <th>1_star</th>\n",
       "      <th>2_star</th>\n",
       "      <th>3_star</th>\n",
       "      <th>total_stars</th>\n",
       "      <th>...</th>\n",
       "      <th>green_stars</th>\n",
       "      <th>GDP_millions(€)</th>\n",
       "      <th>GDP_per_capita(€)</th>\n",
       "      <th>poverty_rate(%)</th>\n",
       "      <th>average_annual_unemployment_rate(%)</th>\n",
       "      <th>average_net_hourly_wage(€)</th>\n",
       "      <th>municipal_population</th>\n",
       "      <th>population_density(inhabitants/sq_km)</th>\n",
       "      <th>area(sq_km)</th>\n",
       "      <th>locations</th>\n",
       "    </tr>\n",
       "  </thead>\n",
       "  <tbody>\n",
       "    <tr>\n",
       "      <th>0</th>\n",
       "      <td>98</td>\n",
       "      <td>Monaco</td>\n",
       "      <td>Monaco</td>\n",
       "      <td>Provence-Alpes-Côte d'Azur</td>\n",
       "      <td>8</td>\n",
       "      <td>0</td>\n",
       "      <td>4</td>\n",
       "      <td>3</td>\n",
       "      <td>1</td>\n",
       "      <td>13</td>\n",
       "      <td>...</td>\n",
       "      <td>0</td>\n",
       "      <td>0.0</td>\n",
       "      <td>0.0</td>\n",
       "      <td>0.0</td>\n",
       "      <td>0.0</td>\n",
       "      <td>0.0</td>\n",
       "      <td>0.0</td>\n",
       "      <td>0.0</td>\n",
       "      <td>0.0</td>\n",
       "      <td>{'Selected': [(43.7423995, 7.4295871), (43.732...</td>\n",
       "    </tr>\n",
       "  </tbody>\n",
       "</table>\n",
       "<p>1 rows × 21 columns</p>\n",
       "</div>"
      ]
     },
     "execution_count": 21,
     "metadata": {},
     "output_type": "execute_result"
    }
   ],
   "execution_count": 21
  },
  {
   "metadata": {},
   "cell_type": "markdown",
   "source": [
    "----\n",
    "&nbsp;\n",
    "### Merging with geoJSON data"
   ],
   "id": "9f691e0e0a3891f1"
  },
  {
   "metadata": {
    "ExecuteTime": {
     "end_time": "2025-04-01T16:31:28.348851Z",
     "start_time": "2025-04-01T16:31:28.302781Z"
    }
   },
   "cell_type": "code",
   "source": [
    "gdf_monaco = gpd.read_file('../../../../ExtraData/Geodata/monaco.geojson')\n",
    "gdf_monaco.head()"
   ],
   "id": "a16e0a47e1fe3d16",
   "outputs": [
    {
     "data": {
      "text/plain": [
       "  crossing highway historic    natural        boundary               name:lt  \\\n",
       "0     None    None     None  coastline  administrative  Prancūzija — Monakas   \n",
       "\n",
       "  admin_level             name  \\\n",
       "0           2  France - Monaco   \n",
       "\n",
       "                                              source border_type  \\\n",
       "0  cadastre-dgi-fr source : Direction Générale de...      nation   \n",
       "\n",
       "                                            geometry  \n",
       "0  POLYGON ((7.42244 43.72954, 7.42258 43.72947, ...  "
      ],
      "text/html": [
       "<div>\n",
       "<style scoped>\n",
       "    .dataframe tbody tr th:only-of-type {\n",
       "        vertical-align: middle;\n",
       "    }\n",
       "\n",
       "    .dataframe tbody tr th {\n",
       "        vertical-align: top;\n",
       "    }\n",
       "\n",
       "    .dataframe thead th {\n",
       "        text-align: right;\n",
       "    }\n",
       "</style>\n",
       "<table border=\"1\" class=\"dataframe\">\n",
       "  <thead>\n",
       "    <tr style=\"text-align: right;\">\n",
       "      <th></th>\n",
       "      <th>crossing</th>\n",
       "      <th>highway</th>\n",
       "      <th>historic</th>\n",
       "      <th>natural</th>\n",
       "      <th>boundary</th>\n",
       "      <th>name:lt</th>\n",
       "      <th>admin_level</th>\n",
       "      <th>name</th>\n",
       "      <th>source</th>\n",
       "      <th>border_type</th>\n",
       "      <th>geometry</th>\n",
       "    </tr>\n",
       "  </thead>\n",
       "  <tbody>\n",
       "    <tr>\n",
       "      <th>0</th>\n",
       "      <td>None</td>\n",
       "      <td>None</td>\n",
       "      <td>None</td>\n",
       "      <td>coastline</td>\n",
       "      <td>administrative</td>\n",
       "      <td>Prancūzija — Monakas</td>\n",
       "      <td>2</td>\n",
       "      <td>France - Monaco</td>\n",
       "      <td>cadastre-dgi-fr source : Direction Générale de...</td>\n",
       "      <td>nation</td>\n",
       "      <td>POLYGON ((7.42244 43.72954, 7.42258 43.72947, ...</td>\n",
       "    </tr>\n",
       "  </tbody>\n",
       "</table>\n",
       "</div>"
      ]
     },
     "execution_count": 22,
     "metadata": {},
     "output_type": "execute_result"
    }
   ],
   "execution_count": 22
  },
  {
   "metadata": {
    "ExecuteTime": {
     "end_time": "2025-04-01T16:31:39.401677Z",
     "start_time": "2025-04-01T16:31:39.382699Z"
    }
   },
   "cell_type": "code",
   "source": [
    "# Add the geometry column from gdf_monaco\n",
    "monaco_grouped['geometry'] = gdf_monaco.geometry.values[0]\n",
    "\n",
    "# Move geometry to second column\n",
    "cols = monaco_grouped.columns.tolist()\n",
    "cols.insert(1, cols.pop(cols.index('geometry')))\n",
    "monaco_grouped = monaco_grouped[cols]\n",
    "\n",
    "# Rename 'department_num' to 'code'\n",
    "monaco_grouped = monaco_grouped.rename(columns={'department_num': 'code'})\n",
    "\n",
    "# Convert to GeoDataFrame and set CRS (assuming WGS84 from original GeoJSON)\n",
    "monaco_geo = gpd.GeoDataFrame(monaco_grouped, geometry='geometry', crs=gdf_monaco.crs)\n",
    "\n",
    "# Preview\n",
    "monaco_geo.head()"
   ],
   "id": "85f739e05782be6f",
   "outputs": [
    {
     "data": {
      "text/plain": [
       "  code                                           geometry department capital  \\\n",
       "0   98  POLYGON ((7.42244 43.72954, 7.42258 43.72947, ...     Monaco  Monaco   \n",
       "\n",
       "                       region  selected  bib_gourmand  1_star  2_star  3_star  \\\n",
       "0  Provence-Alpes-Côte d'Azur         8             0       4       3       1   \n",
       "\n",
       "   ...  green_stars  GDP_millions(€)  GDP_per_capita(€)  poverty_rate(%)  \\\n",
       "0  ...            0              0.0                0.0              0.0   \n",
       "\n",
       "   average_annual_unemployment_rate(%)  average_net_hourly_wage(€)  \\\n",
       "0                                  0.0                         0.0   \n",
       "\n",
       "   municipal_population  population_density(inhabitants/sq_km)  area(sq_km)  \\\n",
       "0                   0.0                                    0.0          0.0   \n",
       "\n",
       "                                           locations  \n",
       "0  {'Selected': [(43.7423995, 7.4295871), (43.732...  \n",
       "\n",
       "[1 rows x 22 columns]"
      ],
      "text/html": [
       "<div>\n",
       "<style scoped>\n",
       "    .dataframe tbody tr th:only-of-type {\n",
       "        vertical-align: middle;\n",
       "    }\n",
       "\n",
       "    .dataframe tbody tr th {\n",
       "        vertical-align: top;\n",
       "    }\n",
       "\n",
       "    .dataframe thead th {\n",
       "        text-align: right;\n",
       "    }\n",
       "</style>\n",
       "<table border=\"1\" class=\"dataframe\">\n",
       "  <thead>\n",
       "    <tr style=\"text-align: right;\">\n",
       "      <th></th>\n",
       "      <th>code</th>\n",
       "      <th>geometry</th>\n",
       "      <th>department</th>\n",
       "      <th>capital</th>\n",
       "      <th>region</th>\n",
       "      <th>selected</th>\n",
       "      <th>bib_gourmand</th>\n",
       "      <th>1_star</th>\n",
       "      <th>2_star</th>\n",
       "      <th>3_star</th>\n",
       "      <th>...</th>\n",
       "      <th>green_stars</th>\n",
       "      <th>GDP_millions(€)</th>\n",
       "      <th>GDP_per_capita(€)</th>\n",
       "      <th>poverty_rate(%)</th>\n",
       "      <th>average_annual_unemployment_rate(%)</th>\n",
       "      <th>average_net_hourly_wage(€)</th>\n",
       "      <th>municipal_population</th>\n",
       "      <th>population_density(inhabitants/sq_km)</th>\n",
       "      <th>area(sq_km)</th>\n",
       "      <th>locations</th>\n",
       "    </tr>\n",
       "  </thead>\n",
       "  <tbody>\n",
       "    <tr>\n",
       "      <th>0</th>\n",
       "      <td>98</td>\n",
       "      <td>POLYGON ((7.42244 43.72954, 7.42258 43.72947, ...</td>\n",
       "      <td>Monaco</td>\n",
       "      <td>Monaco</td>\n",
       "      <td>Provence-Alpes-Côte d'Azur</td>\n",
       "      <td>8</td>\n",
       "      <td>0</td>\n",
       "      <td>4</td>\n",
       "      <td>3</td>\n",
       "      <td>1</td>\n",
       "      <td>...</td>\n",
       "      <td>0</td>\n",
       "      <td>0.0</td>\n",
       "      <td>0.0</td>\n",
       "      <td>0.0</td>\n",
       "      <td>0.0</td>\n",
       "      <td>0.0</td>\n",
       "      <td>0.0</td>\n",
       "      <td>0.0</td>\n",
       "      <td>0.0</td>\n",
       "      <td>{'Selected': [(43.7423995, 7.4295871), (43.732...</td>\n",
       "    </tr>\n",
       "  </tbody>\n",
       "</table>\n",
       "<p>1 rows × 22 columns</p>\n",
       "</div>"
      ]
     },
     "execution_count": 23,
     "metadata": {},
     "output_type": "execute_result"
    }
   ],
   "execution_count": 23
  },
  {
   "metadata": {
    "ExecuteTime": {
     "end_time": "2025-04-01T16:31:44.310248Z",
     "start_time": "2025-04-01T16:31:44.301734Z"
    }
   },
   "cell_type": "code",
   "source": "monaco_geo.info()",
   "id": "3891e7f55bb6bf4a",
   "outputs": [
    {
     "name": "stdout",
     "output_type": "stream",
     "text": [
      "<class 'geopandas.geodataframe.GeoDataFrame'>\n",
      "RangeIndex: 1 entries, 0 to 0\n",
      "Data columns (total 22 columns):\n",
      " #   Column                                 Non-Null Count  Dtype   \n",
      "---  ------                                 --------------  -----   \n",
      " 0   code                                   1 non-null      object  \n",
      " 1   geometry                               1 non-null      geometry\n",
      " 2   department                             1 non-null      object  \n",
      " 3   capital                                1 non-null      object  \n",
      " 4   region                                 1 non-null      object  \n",
      " 5   selected                               1 non-null      int64   \n",
      " 6   bib_gourmand                           1 non-null      int64   \n",
      " 7   1_star                                 1 non-null      int64   \n",
      " 8   2_star                                 1 non-null      int64   \n",
      " 9   3_star                                 1 non-null      int64   \n",
      " 10  total_stars                            1 non-null      int64   \n",
      " 11  starred_restaurants                    1 non-null      int64   \n",
      " 12  green_stars                            1 non-null      int64   \n",
      " 13  GDP_millions(€)                        1 non-null      float64 \n",
      " 14  GDP_per_capita(€)                      1 non-null      float64 \n",
      " 15  poverty_rate(%)                        1 non-null      float64 \n",
      " 16  average_annual_unemployment_rate(%)    1 non-null      float64 \n",
      " 17  average_net_hourly_wage(€)             1 non-null      float64 \n",
      " 18  municipal_population                   1 non-null      float64 \n",
      " 19  population_density(inhabitants/sq_km)  1 non-null      float64 \n",
      " 20  area(sq_km)                            1 non-null      float64 \n",
      " 21  locations                              1 non-null      object  \n",
      "dtypes: float64(8), geometry(1), int64(8), object(5)\n",
      "memory usage: 308.0+ bytes\n"
     ]
    }
   ],
   "execution_count": 24
  },
  {
   "metadata": {
    "ExecuteTime": {
     "end_time": "2025-04-01T16:31:57.928303Z",
     "start_time": "2025-04-01T16:31:57.921150Z"
    }
   },
   "cell_type": "code",
   "source": [
    "# Export the GeoDataFrame to a .geojson file\n",
    "monaco_geo.to_file('../../data/France/geodata/monaco_restaurants.geojson', driver='GeoJSON')"
   ],
   "id": "1469a5c6a8727e4c",
   "outputs": [],
   "execution_count": 25
  }
 ],
 "metadata": {
  "kernelspec": {
   "display_name": "Python 3",
   "language": "python",
   "name": "python3"
  },
  "language_info": {
   "codemirror_mode": {
    "name": "ipython",
    "version": 2
   },
   "file_extension": ".py",
   "mimetype": "text/x-python",
   "name": "python",
   "nbconvert_exporter": "python",
   "pygments_lexer": "ipython2",
   "version": "2.7.6"
  }
 },
 "nbformat": 4,
 "nbformat_minor": 5
}
