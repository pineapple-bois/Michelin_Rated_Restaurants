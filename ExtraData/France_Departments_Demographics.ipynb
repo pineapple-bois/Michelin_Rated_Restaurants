{
 "cells": [
  {
   "cell_type": "markdown",
   "source": "# French Demographics Data",
   "metadata": {
    "collapsed": false
   }
  },
  {
   "cell_type": "code",
   "metadata": {
    "collapsed": true,
    "ExecuteTime": {
     "end_time": "2025-03-29T13:46:53.238693Z",
     "start_time": "2025-03-29T13:46:51.829511Z"
    }
   },
   "source": [
    "import pandas as pd"
   ],
   "outputs": [],
   "execution_count": 1
  },
  {
   "cell_type": "markdown",
   "source": "## *Statistiques locales* by department. [INSEE](https://www.insee.fr/fr/statistiques/6013867) 2022",
   "metadata": {
    "collapsed": false
   }
  },
  {
   "cell_type": "code",
   "source": [
    "# Read CSV without setting a header\n",
    "stats_locale = pd.read_csv(\"Demographics/INSEE/stats_locales_2023.csv\", sep=';', header=None)\n",
    "# Use the third row as column headers\n",
    "stats_locale.columns = stats_locale.iloc[2]\n",
    "# Drop the metadata rows\n",
    "stats_locale = stats_locale.drop([0, 1, 2]).reset_index(drop=True)\n",
    "\n",
    "stats_locale.head()"
   ],
   "metadata": {
    "collapsed": false,
    "ExecuteTime": {
     "end_time": "2025-03-29T13:51:07.859798Z",
     "start_time": "2025-03-29T13:51:07.840625Z"
    }
   },
   "outputs": [
    {
     "data": {
      "text/plain": [
       "2 Code                  Libellé  \\\n",
       "0   01                      Ain   \n",
       "1   02                    Aisne   \n",
       "2   03                   Allier   \n",
       "3   04  Alpes-de-Haute-Provence   \n",
       "4   05             Hautes-Alpes   \n",
       "\n",
       "2 Nb de pers. non scolarisées de 15 ans ou + 2021  \\\n",
       "0                                          485536   \n",
       "1                                          394405   \n",
       "2                                          263288   \n",
       "3                                          129945   \n",
       "4                                          110528   \n",
       "\n",
       "2 Salaire net horaire moyen 2022 Population municipale 2022  \\\n",
       "0                          15.96                     671289   \n",
       "1                          14.46                     525558   \n",
       "2                          14.19                     334715   \n",
       "3                           14.6                     167179   \n",
       "4                          13.99                     141677   \n",
       "\n",
       "2 Densité de population (historique depuis 1876) 2021 Taux de pauvreté 2021  \\\n",
       "0                                              115.1                   10.8   \n",
       "1                                               71.7                   18.8   \n",
       "2                                               45.6                   16.2   \n",
       "3                                                 24                   17.1   \n",
       "4                                               25.4                   14.7   \n",
       "\n",
       "2 Taux de chômage annuel moyen 2023  \n",
       "0                               5.5  \n",
       "1                              10.5  \n",
       "2                               7.8  \n",
       "3                               8.1  \n",
       "4                               6.6  "
      ],
      "text/html": [
       "<div>\n",
       "<style scoped>\n",
       "    .dataframe tbody tr th:only-of-type {\n",
       "        vertical-align: middle;\n",
       "    }\n",
       "\n",
       "    .dataframe tbody tr th {\n",
       "        vertical-align: top;\n",
       "    }\n",
       "\n",
       "    .dataframe thead th {\n",
       "        text-align: right;\n",
       "    }\n",
       "</style>\n",
       "<table border=\"1\" class=\"dataframe\">\n",
       "  <thead>\n",
       "    <tr style=\"text-align: right;\">\n",
       "      <th>2</th>\n",
       "      <th>Code</th>\n",
       "      <th>Libellé</th>\n",
       "      <th>Nb de pers. non scolarisées de 15 ans ou + 2021</th>\n",
       "      <th>Salaire net horaire moyen 2022</th>\n",
       "      <th>Population municipale 2022</th>\n",
       "      <th>Densité de population (historique depuis 1876) 2021</th>\n",
       "      <th>Taux de pauvreté 2021</th>\n",
       "      <th>Taux de chômage annuel moyen 2023</th>\n",
       "    </tr>\n",
       "  </thead>\n",
       "  <tbody>\n",
       "    <tr>\n",
       "      <th>0</th>\n",
       "      <td>01</td>\n",
       "      <td>Ain</td>\n",
       "      <td>485536</td>\n",
       "      <td>15.96</td>\n",
       "      <td>671289</td>\n",
       "      <td>115.1</td>\n",
       "      <td>10.8</td>\n",
       "      <td>5.5</td>\n",
       "    </tr>\n",
       "    <tr>\n",
       "      <th>1</th>\n",
       "      <td>02</td>\n",
       "      <td>Aisne</td>\n",
       "      <td>394405</td>\n",
       "      <td>14.46</td>\n",
       "      <td>525558</td>\n",
       "      <td>71.7</td>\n",
       "      <td>18.8</td>\n",
       "      <td>10.5</td>\n",
       "    </tr>\n",
       "    <tr>\n",
       "      <th>2</th>\n",
       "      <td>03</td>\n",
       "      <td>Allier</td>\n",
       "      <td>263288</td>\n",
       "      <td>14.19</td>\n",
       "      <td>334715</td>\n",
       "      <td>45.6</td>\n",
       "      <td>16.2</td>\n",
       "      <td>7.8</td>\n",
       "    </tr>\n",
       "    <tr>\n",
       "      <th>3</th>\n",
       "      <td>04</td>\n",
       "      <td>Alpes-de-Haute-Provence</td>\n",
       "      <td>129945</td>\n",
       "      <td>14.6</td>\n",
       "      <td>167179</td>\n",
       "      <td>24</td>\n",
       "      <td>17.1</td>\n",
       "      <td>8.1</td>\n",
       "    </tr>\n",
       "    <tr>\n",
       "      <th>4</th>\n",
       "      <td>05</td>\n",
       "      <td>Hautes-Alpes</td>\n",
       "      <td>110528</td>\n",
       "      <td>13.99</td>\n",
       "      <td>141677</td>\n",
       "      <td>25.4</td>\n",
       "      <td>14.7</td>\n",
       "      <td>6.6</td>\n",
       "    </tr>\n",
       "  </tbody>\n",
       "</table>\n",
       "</div>"
      ]
     },
     "execution_count": 5,
     "metadata": {},
     "output_type": "execute_result"
    }
   ],
   "execution_count": 5
  },
  {
   "cell_type": "code",
   "source": [
    "stats_locale.columns.tolist()"
   ],
   "metadata": {
    "collapsed": false,
    "ExecuteTime": {
     "end_time": "2025-03-29T13:51:27.344476Z",
     "start_time": "2025-03-29T13:51:27.340837Z"
    }
   },
   "outputs": [
    {
     "data": {
      "text/plain": [
       "['Code',\n",
       " 'Libellé',\n",
       " 'Nb de pers. non scolarisées de 15 ans ou + 2021',\n",
       " 'Salaire net horaire moyen 2022',\n",
       " 'Population municipale 2022',\n",
       " 'Densité de population (historique depuis 1876) 2021',\n",
       " 'Taux de pauvreté 2021',\n",
       " 'Taux de chômage annuel moyen 2023']"
      ]
     },
     "execution_count": 6,
     "metadata": {},
     "output_type": "execute_result"
    }
   ],
   "execution_count": 6
  },
  {
   "cell_type": "code",
   "source": [
    "stats_locale = stats_locale.rename(columns={\n",
    "    'Code': 'department_num',\n",
    "    'Libellé': 'department',\n",
    "    'Taux de pauvreté 2021': 'poverty_rate(%)',\n",
    "    'Taux de chômage annuel moyen 2023': 'average_annual_unemployment_rate(%)',\n",
    "    'Salaire net horaire moyen 2022': 'average_net_hourly_wage(€)',\n",
    "    'Population municipale 2022': 'municipal_population',\n",
    "    'Densité de population (historique depuis 1876) 2021': 'population_density(inhabitants/sq_km)',\n",
    "    'Nb de pers. non scolarisées de 15 ans ou + 2021': 'non_schooled_persons_15_and_over'\n",
    "})"
   ],
   "metadata": {
    "collapsed": false,
    "ExecuteTime": {
     "end_time": "2025-03-29T13:52:44.560909Z",
     "start_time": "2025-03-29T13:52:44.554001Z"
    }
   },
   "outputs": [],
   "execution_count": 11
  },
  {
   "cell_type": "code",
   "source": [
    "stats_locale.info()"
   ],
   "metadata": {
    "collapsed": false,
    "ExecuteTime": {
     "end_time": "2025-03-29T13:52:46.986660Z",
     "start_time": "2025-03-29T13:52:46.972693Z"
    }
   },
   "outputs": [
    {
     "name": "stdout",
     "output_type": "stream",
     "text": [
      "<class 'pandas.core.frame.DataFrame'>\n",
      "RangeIndex: 101 entries, 0 to 100\n",
      "Data columns (total 8 columns):\n",
      " #   Column                                 Non-Null Count  Dtype \n",
      "---  ------                                 --------------  ----- \n",
      " 0   department_num                         101 non-null    object\n",
      " 1   department                             101 non-null    object\n",
      " 2   non_schooled_persons_15_and_over       101 non-null    object\n",
      " 3   average_net_hourly_wage(€)             101 non-null    object\n",
      " 4   municipal_population                   101 non-null    object\n",
      " 5   population_density(inhabitants/sq_km)  101 non-null    object\n",
      " 6   poverty_rate(%)                        101 non-null    object\n",
      " 7   average_annual_unemployment_rate(%)    101 non-null    object\n",
      "dtypes: object(8)\n",
      "memory usage: 6.4+ KB\n"
     ]
    }
   ],
   "execution_count": 12
  },
  {
   "cell_type": "code",
   "source": [
    "# Remove leading and trailing whitespace for all string columns\n",
    "stats_locale = stats_locale.apply(lambda col: col.str.strip() if col.dtype == \"object\" else col)"
   ],
   "metadata": {
    "collapsed": false,
    "ExecuteTime": {
     "end_time": "2025-03-29T13:52:58.345202Z",
     "start_time": "2025-03-29T13:52:58.336441Z"
    }
   },
   "outputs": [],
   "execution_count": 13
  },
  {
   "cell_type": "code",
   "source": [
    "# Define columns to be converted to numeric type\n",
    "numeric_cols = ['average_annual_unemployment_rate(%)',\n",
    "                'average_net_hourly_wage(€)',\n",
    "                'municipal_population',\n",
    "                'population_density(inhabitants/sq_km)',\n",
    "                'non_schooled_persons_15_and_over']\n",
    "\n",
    "# Convert the columns to numeric, setting any errors to NaN\n",
    "for col in numeric_cols:\n",
    "    stats_locale[col] = pd.to_numeric(stats_locale[col], errors='coerce')"
   ],
   "metadata": {
    "collapsed": false,
    "ExecuteTime": {
     "end_time": "2025-03-29T13:53:01.046859Z",
     "start_time": "2025-03-29T13:53:01.038320Z"
    }
   },
   "outputs": [],
   "execution_count": 14
  },
  {
   "cell_type": "code",
   "source": [
    "# Check if there are any NaN values in the DataFrame\n",
    "nan_values = stats_locale.isnull().sum()\n",
    "print(nan_values[nan_values > 0])"
   ],
   "metadata": {
    "collapsed": false,
    "ExecuteTime": {
     "end_time": "2025-03-29T13:53:03.495633Z",
     "start_time": "2025-03-29T13:53:03.488221Z"
    }
   },
   "outputs": [
    {
     "name": "stdout",
     "output_type": "stream",
     "text": [
      "2\n",
      "non_schooled_persons_15_and_over         1\n",
      "average_net_hourly_wage(€)               1\n",
      "municipal_population                     1\n",
      "population_density(inhabitants/sq_km)    1\n",
      "average_annual_unemployment_rate(%)      1\n",
      "dtype: int64\n"
     ]
    }
   ],
   "execution_count": 15
  },
  {
   "cell_type": "code",
   "source": [
    "# Return that row of data\n",
    "nan_rows = stats_locale[stats_locale.isna().any(axis=1)]\n",
    "nan_rows"
   ],
   "metadata": {
    "collapsed": false,
    "ExecuteTime": {
     "end_time": "2025-03-29T13:53:10.169573Z",
     "start_time": "2025-03-29T13:53:10.154641Z"
    }
   },
   "outputs": [
    {
     "data": {
      "text/plain": [
       "2   department_num department  non_schooled_persons_15_and_over  \\\n",
       "100            976    Mayotte                               NaN   \n",
       "\n",
       "2    average_net_hourly_wage(€)  municipal_population  \\\n",
       "100                         NaN                   NaN   \n",
       "\n",
       "2    population_density(inhabitants/sq_km)                poverty_rate(%)  \\\n",
       "100                                    NaN  N/A - résultat non disponible   \n",
       "\n",
       "2    average_annual_unemployment_rate(%)  \n",
       "100                                  NaN  "
      ],
      "text/html": [
       "<div>\n",
       "<style scoped>\n",
       "    .dataframe tbody tr th:only-of-type {\n",
       "        vertical-align: middle;\n",
       "    }\n",
       "\n",
       "    .dataframe tbody tr th {\n",
       "        vertical-align: top;\n",
       "    }\n",
       "\n",
       "    .dataframe thead th {\n",
       "        text-align: right;\n",
       "    }\n",
       "</style>\n",
       "<table border=\"1\" class=\"dataframe\">\n",
       "  <thead>\n",
       "    <tr style=\"text-align: right;\">\n",
       "      <th>2</th>\n",
       "      <th>department_num</th>\n",
       "      <th>department</th>\n",
       "      <th>non_schooled_persons_15_and_over</th>\n",
       "      <th>average_net_hourly_wage(€)</th>\n",
       "      <th>municipal_population</th>\n",
       "      <th>population_density(inhabitants/sq_km)</th>\n",
       "      <th>poverty_rate(%)</th>\n",
       "      <th>average_annual_unemployment_rate(%)</th>\n",
       "    </tr>\n",
       "  </thead>\n",
       "  <tbody>\n",
       "    <tr>\n",
       "      <th>100</th>\n",
       "      <td>976</td>\n",
       "      <td>Mayotte</td>\n",
       "      <td>NaN</td>\n",
       "      <td>NaN</td>\n",
       "      <td>NaN</td>\n",
       "      <td>NaN</td>\n",
       "      <td>N/A - résultat non disponible</td>\n",
       "      <td>NaN</td>\n",
       "    </tr>\n",
       "  </tbody>\n",
       "</table>\n",
       "</div>"
      ]
     },
     "execution_count": 16,
     "metadata": {},
     "output_type": "execute_result"
    }
   ],
   "execution_count": 16
  },
  {
   "cell_type": "markdown",
   "source": [
    "*`Mayotte`* is an overseas department which will be removed from the dataset as we are focusing our analysis on mainland France"
   ],
   "metadata": {
    "collapsed": false
   }
  },
  {
   "cell_type": "code",
   "source": [
    "stats_locale.tail(10)"
   ],
   "metadata": {
    "collapsed": false,
    "ExecuteTime": {
     "end_time": "2025-03-29T13:53:18.719675Z",
     "start_time": "2025-03-29T13:53:18.707717Z"
    }
   },
   "outputs": [
    {
     "data": {
      "text/plain": [
       "2   department_num         department  non_schooled_persons_15_and_over  \\\n",
       "91              91            Essonne                          911594.0   \n",
       "92              92     Hauts-de-Seine                         1148994.0   \n",
       "93              93  Seine-Saint-Denis                         1121318.0   \n",
       "94              94       Val-de-Marne                          982682.0   \n",
       "95              95         Val-d'Oise                          855651.0   \n",
       "96             971         Guadeloupe                          286147.0   \n",
       "97             972         Martinique                          277245.0   \n",
       "98             973             Guyane                          166297.0   \n",
       "99             974         La Réunion                          602199.0   \n",
       "100            976            Mayotte                               NaN   \n",
       "\n",
       "2    average_net_hourly_wage(€)  municipal_population  \\\n",
       "91                        18.42             1324546.0   \n",
       "92                        26.79             1647435.0   \n",
       "93                        15.47             1681725.0   \n",
       "94                        19.45             1419531.0   \n",
       "95                        17.56             1270845.0   \n",
       "96                        15.21              383569.0   \n",
       "97                        15.02              361019.0   \n",
       "98                        15.43              288382.0   \n",
       "99                        14.26              881348.0   \n",
       "100                         NaN                   NaN   \n",
       "\n",
       "2    population_density(inhabitants/sq_km)                poverty_rate(%)  \\\n",
       "91                                   728.1                           13.9   \n",
       "92                                  9312.1                           12.4   \n",
       "93                                  7064.6                           28.4   \n",
       "94                                  5776.3                           17.2   \n",
       "95                                  1008.6                           17.7   \n",
       "96                                   236.0  N/A - résultat non disponible   \n",
       "97                                   319.8                           26.8   \n",
       "98                                     3.4  N/A - résultat non disponible   \n",
       "99                                   347.9                           36.1   \n",
       "100                                    NaN  N/A - résultat non disponible   \n",
       "\n",
       "2    average_annual_unemployment_rate(%)  \n",
       "91                                   6.4  \n",
       "92                                   5.9  \n",
       "93                                  10.3  \n",
       "94                                   7.1  \n",
       "95                                   8.0  \n",
       "96                                  18.6  \n",
       "97                                  10.8  \n",
       "98                                  14.0  \n",
       "99                                  19.0  \n",
       "100                                  NaN  "
      ],
      "text/html": [
       "<div>\n",
       "<style scoped>\n",
       "    .dataframe tbody tr th:only-of-type {\n",
       "        vertical-align: middle;\n",
       "    }\n",
       "\n",
       "    .dataframe tbody tr th {\n",
       "        vertical-align: top;\n",
       "    }\n",
       "\n",
       "    .dataframe thead th {\n",
       "        text-align: right;\n",
       "    }\n",
       "</style>\n",
       "<table border=\"1\" class=\"dataframe\">\n",
       "  <thead>\n",
       "    <tr style=\"text-align: right;\">\n",
       "      <th>2</th>\n",
       "      <th>department_num</th>\n",
       "      <th>department</th>\n",
       "      <th>non_schooled_persons_15_and_over</th>\n",
       "      <th>average_net_hourly_wage(€)</th>\n",
       "      <th>municipal_population</th>\n",
       "      <th>population_density(inhabitants/sq_km)</th>\n",
       "      <th>poverty_rate(%)</th>\n",
       "      <th>average_annual_unemployment_rate(%)</th>\n",
       "    </tr>\n",
       "  </thead>\n",
       "  <tbody>\n",
       "    <tr>\n",
       "      <th>91</th>\n",
       "      <td>91</td>\n",
       "      <td>Essonne</td>\n",
       "      <td>911594.0</td>\n",
       "      <td>18.42</td>\n",
       "      <td>1324546.0</td>\n",
       "      <td>728.1</td>\n",
       "      <td>13.9</td>\n",
       "      <td>6.4</td>\n",
       "    </tr>\n",
       "    <tr>\n",
       "      <th>92</th>\n",
       "      <td>92</td>\n",
       "      <td>Hauts-de-Seine</td>\n",
       "      <td>1148994.0</td>\n",
       "      <td>26.79</td>\n",
       "      <td>1647435.0</td>\n",
       "      <td>9312.1</td>\n",
       "      <td>12.4</td>\n",
       "      <td>5.9</td>\n",
       "    </tr>\n",
       "    <tr>\n",
       "      <th>93</th>\n",
       "      <td>93</td>\n",
       "      <td>Seine-Saint-Denis</td>\n",
       "      <td>1121318.0</td>\n",
       "      <td>15.47</td>\n",
       "      <td>1681725.0</td>\n",
       "      <td>7064.6</td>\n",
       "      <td>28.4</td>\n",
       "      <td>10.3</td>\n",
       "    </tr>\n",
       "    <tr>\n",
       "      <th>94</th>\n",
       "      <td>94</td>\n",
       "      <td>Val-de-Marne</td>\n",
       "      <td>982682.0</td>\n",
       "      <td>19.45</td>\n",
       "      <td>1419531.0</td>\n",
       "      <td>5776.3</td>\n",
       "      <td>17.2</td>\n",
       "      <td>7.1</td>\n",
       "    </tr>\n",
       "    <tr>\n",
       "      <th>95</th>\n",
       "      <td>95</td>\n",
       "      <td>Val-d'Oise</td>\n",
       "      <td>855651.0</td>\n",
       "      <td>17.56</td>\n",
       "      <td>1270845.0</td>\n",
       "      <td>1008.6</td>\n",
       "      <td>17.7</td>\n",
       "      <td>8.0</td>\n",
       "    </tr>\n",
       "    <tr>\n",
       "      <th>96</th>\n",
       "      <td>971</td>\n",
       "      <td>Guadeloupe</td>\n",
       "      <td>286147.0</td>\n",
       "      <td>15.21</td>\n",
       "      <td>383569.0</td>\n",
       "      <td>236.0</td>\n",
       "      <td>N/A - résultat non disponible</td>\n",
       "      <td>18.6</td>\n",
       "    </tr>\n",
       "    <tr>\n",
       "      <th>97</th>\n",
       "      <td>972</td>\n",
       "      <td>Martinique</td>\n",
       "      <td>277245.0</td>\n",
       "      <td>15.02</td>\n",
       "      <td>361019.0</td>\n",
       "      <td>319.8</td>\n",
       "      <td>26.8</td>\n",
       "      <td>10.8</td>\n",
       "    </tr>\n",
       "    <tr>\n",
       "      <th>98</th>\n",
       "      <td>973</td>\n",
       "      <td>Guyane</td>\n",
       "      <td>166297.0</td>\n",
       "      <td>15.43</td>\n",
       "      <td>288382.0</td>\n",
       "      <td>3.4</td>\n",
       "      <td>N/A - résultat non disponible</td>\n",
       "      <td>14.0</td>\n",
       "    </tr>\n",
       "    <tr>\n",
       "      <th>99</th>\n",
       "      <td>974</td>\n",
       "      <td>La Réunion</td>\n",
       "      <td>602199.0</td>\n",
       "      <td>14.26</td>\n",
       "      <td>881348.0</td>\n",
       "      <td>347.9</td>\n",
       "      <td>36.1</td>\n",
       "      <td>19.0</td>\n",
       "    </tr>\n",
       "    <tr>\n",
       "      <th>100</th>\n",
       "      <td>976</td>\n",
       "      <td>Mayotte</td>\n",
       "      <td>NaN</td>\n",
       "      <td>NaN</td>\n",
       "      <td>NaN</td>\n",
       "      <td>NaN</td>\n",
       "      <td>N/A - résultat non disponible</td>\n",
       "      <td>NaN</td>\n",
       "    </tr>\n",
       "  </tbody>\n",
       "</table>\n",
       "</div>"
      ]
     },
     "execution_count": 17,
     "metadata": {},
     "output_type": "execute_result"
    }
   ],
   "execution_count": 17
  },
  {
   "cell_type": "markdown",
   "source": [
    "We remove the overseas departments"
   ],
   "metadata": {
    "collapsed": false
   }
  },
  {
   "cell_type": "code",
   "source": [
    "# Remove the last 5 entries from the DataFrame (Overseas territories)\n",
    "stats_locale = stats_locale.iloc[:-5]\n",
    "print(f\"Shape of stats_locale: {stats_locale.shape}\")"
   ],
   "metadata": {
    "collapsed": false,
    "ExecuteTime": {
     "end_time": "2025-03-29T13:53:25.510197Z",
     "start_time": "2025-03-29T13:53:25.504545Z"
    }
   },
   "outputs": [
    {
     "name": "stdout",
     "output_type": "stream",
     "text": [
      "Shape of stats_locale: (96, 8)\n"
     ]
    }
   ],
   "execution_count": 18
  },
  {
   "cell_type": "code",
   "source": [
    "paris = stats_locale[stats_locale['department'] == 'Paris']\n",
    "paris"
   ],
   "metadata": {
    "collapsed": false,
    "ExecuteTime": {
     "end_time": "2025-03-29T13:53:27.986100Z",
     "start_time": "2025-03-29T13:53:27.971986Z"
    }
   },
   "outputs": [
    {
     "data": {
      "text/plain": [
       "2  department_num department  non_schooled_persons_15_and_over  \\\n",
       "75             75      Paris                         1552859.0   \n",
       "\n",
       "2   average_net_hourly_wage(€)  municipal_population  \\\n",
       "75                       27.88             2113705.0   \n",
       "\n",
       "2   population_density(inhabitants/sq_km) poverty_rate(%)  \\\n",
       "75                                20238.2            15.6   \n",
       "\n",
       "2   average_annual_unemployment_rate(%)  \n",
       "75                                  5.7  "
      ],
      "text/html": [
       "<div>\n",
       "<style scoped>\n",
       "    .dataframe tbody tr th:only-of-type {\n",
       "        vertical-align: middle;\n",
       "    }\n",
       "\n",
       "    .dataframe tbody tr th {\n",
       "        vertical-align: top;\n",
       "    }\n",
       "\n",
       "    .dataframe thead th {\n",
       "        text-align: right;\n",
       "    }\n",
       "</style>\n",
       "<table border=\"1\" class=\"dataframe\">\n",
       "  <thead>\n",
       "    <tr style=\"text-align: right;\">\n",
       "      <th>2</th>\n",
       "      <th>department_num</th>\n",
       "      <th>department</th>\n",
       "      <th>non_schooled_persons_15_and_over</th>\n",
       "      <th>average_net_hourly_wage(€)</th>\n",
       "      <th>municipal_population</th>\n",
       "      <th>population_density(inhabitants/sq_km)</th>\n",
       "      <th>poverty_rate(%)</th>\n",
       "      <th>average_annual_unemployment_rate(%)</th>\n",
       "    </tr>\n",
       "  </thead>\n",
       "  <tbody>\n",
       "    <tr>\n",
       "      <th>75</th>\n",
       "      <td>75</td>\n",
       "      <td>Paris</td>\n",
       "      <td>1552859.0</td>\n",
       "      <td>27.88</td>\n",
       "      <td>2113705.0</td>\n",
       "      <td>20238.2</td>\n",
       "      <td>15.6</td>\n",
       "      <td>5.7</td>\n",
       "    </tr>\n",
       "  </tbody>\n",
       "</table>\n",
       "</div>"
      ]
     },
     "execution_count": 19,
     "metadata": {},
     "output_type": "execute_result"
    }
   ],
   "execution_count": 19
  },
  {
   "cell_type": "markdown",
   "source": [
    "We need to extrapolate `area(sq_km)` from population density and population"
   ],
   "metadata": {
    "collapsed": false
   }
  },
  {
   "cell_type": "code",
   "source": [
    "stats_locale['area(sq_km)'] = round(stats_locale['municipal_population'] /\n",
    "                                                           stats_locale['population_density(inhabitants/sq_km)'], 2)"
   ],
   "metadata": {
    "collapsed": false,
    "ExecuteTime": {
     "end_time": "2025-03-29T13:53:34.654653Z",
     "start_time": "2025-03-29T13:53:34.650276Z"
    }
   },
   "outputs": [],
   "execution_count": 20
  },
  {
   "cell_type": "code",
   "source": [
    "stats_locale.info()"
   ],
   "metadata": {
    "collapsed": false,
    "ExecuteTime": {
     "end_time": "2025-03-29T13:53:42.910739Z",
     "start_time": "2025-03-29T13:53:42.897744Z"
    }
   },
   "outputs": [
    {
     "name": "stdout",
     "output_type": "stream",
     "text": [
      "<class 'pandas.core.frame.DataFrame'>\n",
      "RangeIndex: 96 entries, 0 to 95\n",
      "Data columns (total 9 columns):\n",
      " #   Column                                 Non-Null Count  Dtype  \n",
      "---  ------                                 --------------  -----  \n",
      " 0   department_num                         96 non-null     object \n",
      " 1   department                             96 non-null     object \n",
      " 2   non_schooled_persons_15_and_over       96 non-null     float64\n",
      " 3   average_net_hourly_wage(€)             96 non-null     float64\n",
      " 4   municipal_population                   96 non-null     float64\n",
      " 5   population_density(inhabitants/sq_km)  96 non-null     float64\n",
      " 6   poverty_rate(%)                        96 non-null     object \n",
      " 7   average_annual_unemployment_rate(%)    96 non-null     float64\n",
      " 8   area(sq_km)                            96 non-null     float64\n",
      "dtypes: float64(6), object(3)\n",
      "memory usage: 6.9+ KB\n"
     ]
    }
   ],
   "execution_count": 21
  },
  {
   "cell_type": "markdown",
   "source": [
    "----\n",
    "&nbsp;\n",
    "## GDP by Department. [OECD](https://stats.oecd.org) 2001 - 2020\n",
    "\n",
    "This data is not as clean as the other two sources"
   ],
   "metadata": {
    "collapsed": false
   }
  },
  {
   "cell_type": "code",
   "source": [
    "gdp = pd.read_csv(\"Demographics/GDP_departmental.csv\")\n",
    "gdp.head(5)"
   ],
   "metadata": {
    "collapsed": false,
    "ExecuteTime": {
     "end_time": "2025-03-29T13:53:55.696552Z",
     "start_time": "2025-03-29T13:53:55.678593Z"
    }
   },
   "outputs": [
    {
     "data": {
      "text/plain": [
       "                     Year      Unnamed: 1  Unnamed: 2      2001      2002  \\\n",
       "0            FR101: Paris  Euro, Millions         NaN   160 406   161 712   \n",
       "1   FR102: Seine-et-Marne  Euro, Millions         NaN  24 721.5  26 879.9   \n",
       "2         FR103: Yvelines  Euro, Millions         NaN  41 113.9  42 180.8   \n",
       "3          FR104: Essonne  Euro, Millions         NaN    31 959  33 611.8   \n",
       "4   FR105: Hauts-de-Seine  Euro, Millions         NaN  99 819.9   105 194   \n",
       "\n",
       "       2003      2004      2005      2006      2007  ...      2011      2012  \\\n",
       "0   162 368   165 582   172 171   175 198   186 771  ...   199 526   204 857   \n",
       "1  27 856.6  29 283.9  29 903.1  31 814.7  33 695.6  ...  37 628.4  39 139.3   \n",
       "2  42 832.7  43 728.5  45 595.8  47 101.2  50 043.1  ...  53 645.1  53 823.9   \n",
       "3    35 251  36 274.2  36 045.8  38 293.5  40 579.4  ...  42 610.7  43 857.9   \n",
       "4   106 868   111 508   118 961   123 114   131 837  ...   147 676   151 710   \n",
       "\n",
       "       2013      2014      2015      2016      2017      2018      2019  \\\n",
       "0   207 534   210 141   214 434   219 964   227 457   237 283   246 937   \n",
       "1  38 546.3  39 244.3  39 934.5  40 635.8  41 513.1  41 968.7  44 271.8   \n",
       "2  55 041.9  54 497.6  56 771.4  57 769.3  58 659.2  59 728.3    61 249   \n",
       "3  47 425.1  47 993.2  49 173.1  50 072.2  52 010.1  53 586.7  55 491.7   \n",
       "4   156 217   157 950   159 861   164 572   168 693   177 044   188 096   \n",
       "\n",
       "       2020  \n",
       "0   226 007  \n",
       "1  39 478.1  \n",
       "2  56 649.9  \n",
       "3  53 821.9  \n",
       "4   176 675  \n",
       "\n",
       "[5 rows x 23 columns]"
      ],
      "text/html": [
       "<div>\n",
       "<style scoped>\n",
       "    .dataframe tbody tr th:only-of-type {\n",
       "        vertical-align: middle;\n",
       "    }\n",
       "\n",
       "    .dataframe tbody tr th {\n",
       "        vertical-align: top;\n",
       "    }\n",
       "\n",
       "    .dataframe thead th {\n",
       "        text-align: right;\n",
       "    }\n",
       "</style>\n",
       "<table border=\"1\" class=\"dataframe\">\n",
       "  <thead>\n",
       "    <tr style=\"text-align: right;\">\n",
       "      <th></th>\n",
       "      <th>Year</th>\n",
       "      <th>Unnamed: 1</th>\n",
       "      <th>Unnamed: 2</th>\n",
       "      <th>2001</th>\n",
       "      <th>2002</th>\n",
       "      <th>2003</th>\n",
       "      <th>2004</th>\n",
       "      <th>2005</th>\n",
       "      <th>2006</th>\n",
       "      <th>2007</th>\n",
       "      <th>...</th>\n",
       "      <th>2011</th>\n",
       "      <th>2012</th>\n",
       "      <th>2013</th>\n",
       "      <th>2014</th>\n",
       "      <th>2015</th>\n",
       "      <th>2016</th>\n",
       "      <th>2017</th>\n",
       "      <th>2018</th>\n",
       "      <th>2019</th>\n",
       "      <th>2020</th>\n",
       "    </tr>\n",
       "  </thead>\n",
       "  <tbody>\n",
       "    <tr>\n",
       "      <th>0</th>\n",
       "      <td>FR101: Paris</td>\n",
       "      <td>Euro, Millions</td>\n",
       "      <td>NaN</td>\n",
       "      <td>160 406</td>\n",
       "      <td>161 712</td>\n",
       "      <td>162 368</td>\n",
       "      <td>165 582</td>\n",
       "      <td>172 171</td>\n",
       "      <td>175 198</td>\n",
       "      <td>186 771</td>\n",
       "      <td>...</td>\n",
       "      <td>199 526</td>\n",
       "      <td>204 857</td>\n",
       "      <td>207 534</td>\n",
       "      <td>210 141</td>\n",
       "      <td>214 434</td>\n",
       "      <td>219 964</td>\n",
       "      <td>227 457</td>\n",
       "      <td>237 283</td>\n",
       "      <td>246 937</td>\n",
       "      <td>226 007</td>\n",
       "    </tr>\n",
       "    <tr>\n",
       "      <th>1</th>\n",
       "      <td>FR102: Seine-et-Marne</td>\n",
       "      <td>Euro, Millions</td>\n",
       "      <td>NaN</td>\n",
       "      <td>24 721.5</td>\n",
       "      <td>26 879.9</td>\n",
       "      <td>27 856.6</td>\n",
       "      <td>29 283.9</td>\n",
       "      <td>29 903.1</td>\n",
       "      <td>31 814.7</td>\n",
       "      <td>33 695.6</td>\n",
       "      <td>...</td>\n",
       "      <td>37 628.4</td>\n",
       "      <td>39 139.3</td>\n",
       "      <td>38 546.3</td>\n",
       "      <td>39 244.3</td>\n",
       "      <td>39 934.5</td>\n",
       "      <td>40 635.8</td>\n",
       "      <td>41 513.1</td>\n",
       "      <td>41 968.7</td>\n",
       "      <td>44 271.8</td>\n",
       "      <td>39 478.1</td>\n",
       "    </tr>\n",
       "    <tr>\n",
       "      <th>2</th>\n",
       "      <td>FR103: Yvelines</td>\n",
       "      <td>Euro, Millions</td>\n",
       "      <td>NaN</td>\n",
       "      <td>41 113.9</td>\n",
       "      <td>42 180.8</td>\n",
       "      <td>42 832.7</td>\n",
       "      <td>43 728.5</td>\n",
       "      <td>45 595.8</td>\n",
       "      <td>47 101.2</td>\n",
       "      <td>50 043.1</td>\n",
       "      <td>...</td>\n",
       "      <td>53 645.1</td>\n",
       "      <td>53 823.9</td>\n",
       "      <td>55 041.9</td>\n",
       "      <td>54 497.6</td>\n",
       "      <td>56 771.4</td>\n",
       "      <td>57 769.3</td>\n",
       "      <td>58 659.2</td>\n",
       "      <td>59 728.3</td>\n",
       "      <td>61 249</td>\n",
       "      <td>56 649.9</td>\n",
       "    </tr>\n",
       "    <tr>\n",
       "      <th>3</th>\n",
       "      <td>FR104: Essonne</td>\n",
       "      <td>Euro, Millions</td>\n",
       "      <td>NaN</td>\n",
       "      <td>31 959</td>\n",
       "      <td>33 611.8</td>\n",
       "      <td>35 251</td>\n",
       "      <td>36 274.2</td>\n",
       "      <td>36 045.8</td>\n",
       "      <td>38 293.5</td>\n",
       "      <td>40 579.4</td>\n",
       "      <td>...</td>\n",
       "      <td>42 610.7</td>\n",
       "      <td>43 857.9</td>\n",
       "      <td>47 425.1</td>\n",
       "      <td>47 993.2</td>\n",
       "      <td>49 173.1</td>\n",
       "      <td>50 072.2</td>\n",
       "      <td>52 010.1</td>\n",
       "      <td>53 586.7</td>\n",
       "      <td>55 491.7</td>\n",
       "      <td>53 821.9</td>\n",
       "    </tr>\n",
       "    <tr>\n",
       "      <th>4</th>\n",
       "      <td>FR105: Hauts-de-Seine</td>\n",
       "      <td>Euro, Millions</td>\n",
       "      <td>NaN</td>\n",
       "      <td>99 819.9</td>\n",
       "      <td>105 194</td>\n",
       "      <td>106 868</td>\n",
       "      <td>111 508</td>\n",
       "      <td>118 961</td>\n",
       "      <td>123 114</td>\n",
       "      <td>131 837</td>\n",
       "      <td>...</td>\n",
       "      <td>147 676</td>\n",
       "      <td>151 710</td>\n",
       "      <td>156 217</td>\n",
       "      <td>157 950</td>\n",
       "      <td>159 861</td>\n",
       "      <td>164 572</td>\n",
       "      <td>168 693</td>\n",
       "      <td>177 044</td>\n",
       "      <td>188 096</td>\n",
       "      <td>176 675</td>\n",
       "    </tr>\n",
       "  </tbody>\n",
       "</table>\n",
       "<p>5 rows × 23 columns</p>\n",
       "</div>"
      ]
     },
     "execution_count": 22,
     "metadata": {},
     "output_type": "execute_result"
    }
   ],
   "execution_count": 22
  },
  {
   "cell_type": "markdown",
   "source": [
    "Values are in millions of Euros. We lose the two 'Unnamed' columns"
   ],
   "metadata": {
    "collapsed": false
   }
  },
  {
   "cell_type": "code",
   "source": [
    "# We loose the 'Unnamed' columns\n",
    "gdp = gdp[[col for col in gdp.columns if 'Unnamed' not in col]]"
   ],
   "metadata": {
    "collapsed": false,
    "ExecuteTime": {
     "end_time": "2025-03-29T13:54:00.536699Z",
     "start_time": "2025-03-29T13:54:00.530813Z"
    }
   },
   "outputs": [],
   "execution_count": 23
  },
  {
   "cell_type": "code",
   "source": [
    "gdp.head(3)"
   ],
   "metadata": {
    "collapsed": false,
    "ExecuteTime": {
     "end_time": "2025-03-29T13:54:02.963450Z",
     "start_time": "2025-03-29T13:54:02.943250Z"
    }
   },
   "outputs": [
    {
     "data": {
      "text/plain": [
       "                     Year      2001      2002      2003      2004      2005  \\\n",
       "0            FR101: Paris   160 406   161 712   162 368   165 582   172 171   \n",
       "1   FR102: Seine-et-Marne  24 721.5  26 879.9  27 856.6  29 283.9  29 903.1   \n",
       "2         FR103: Yvelines  41 113.9  42 180.8  42 832.7  43 728.5  45 595.8   \n",
       "\n",
       "       2006      2007      2008      2009  ...      2011      2012      2013  \\\n",
       "0   175 198   186 771   189 261   182 178  ...   199 526   204 857   207 534   \n",
       "1  31 814.7  33 695.6  35 794.1  35 378.1  ...  37 628.4  39 139.3  38 546.3   \n",
       "2  47 101.2  50 043.1  52 799.2  50 204.9  ...  53 645.1  53 823.9  55 041.9   \n",
       "\n",
       "       2014      2015      2016      2017      2018      2019      2020  \n",
       "0   210 141   214 434   219 964   227 457   237 283   246 937   226 007  \n",
       "1  39 244.3  39 934.5  40 635.8  41 513.1  41 968.7  44 271.8  39 478.1  \n",
       "2  54 497.6  56 771.4  57 769.3  58 659.2  59 728.3    61 249  56 649.9  \n",
       "\n",
       "[3 rows x 21 columns]"
      ],
      "text/html": [
       "<div>\n",
       "<style scoped>\n",
       "    .dataframe tbody tr th:only-of-type {\n",
       "        vertical-align: middle;\n",
       "    }\n",
       "\n",
       "    .dataframe tbody tr th {\n",
       "        vertical-align: top;\n",
       "    }\n",
       "\n",
       "    .dataframe thead th {\n",
       "        text-align: right;\n",
       "    }\n",
       "</style>\n",
       "<table border=\"1\" class=\"dataframe\">\n",
       "  <thead>\n",
       "    <tr style=\"text-align: right;\">\n",
       "      <th></th>\n",
       "      <th>Year</th>\n",
       "      <th>2001</th>\n",
       "      <th>2002</th>\n",
       "      <th>2003</th>\n",
       "      <th>2004</th>\n",
       "      <th>2005</th>\n",
       "      <th>2006</th>\n",
       "      <th>2007</th>\n",
       "      <th>2008</th>\n",
       "      <th>2009</th>\n",
       "      <th>...</th>\n",
       "      <th>2011</th>\n",
       "      <th>2012</th>\n",
       "      <th>2013</th>\n",
       "      <th>2014</th>\n",
       "      <th>2015</th>\n",
       "      <th>2016</th>\n",
       "      <th>2017</th>\n",
       "      <th>2018</th>\n",
       "      <th>2019</th>\n",
       "      <th>2020</th>\n",
       "    </tr>\n",
       "  </thead>\n",
       "  <tbody>\n",
       "    <tr>\n",
       "      <th>0</th>\n",
       "      <td>FR101: Paris</td>\n",
       "      <td>160 406</td>\n",
       "      <td>161 712</td>\n",
       "      <td>162 368</td>\n",
       "      <td>165 582</td>\n",
       "      <td>172 171</td>\n",
       "      <td>175 198</td>\n",
       "      <td>186 771</td>\n",
       "      <td>189 261</td>\n",
       "      <td>182 178</td>\n",
       "      <td>...</td>\n",
       "      <td>199 526</td>\n",
       "      <td>204 857</td>\n",
       "      <td>207 534</td>\n",
       "      <td>210 141</td>\n",
       "      <td>214 434</td>\n",
       "      <td>219 964</td>\n",
       "      <td>227 457</td>\n",
       "      <td>237 283</td>\n",
       "      <td>246 937</td>\n",
       "      <td>226 007</td>\n",
       "    </tr>\n",
       "    <tr>\n",
       "      <th>1</th>\n",
       "      <td>FR102: Seine-et-Marne</td>\n",
       "      <td>24 721.5</td>\n",
       "      <td>26 879.9</td>\n",
       "      <td>27 856.6</td>\n",
       "      <td>29 283.9</td>\n",
       "      <td>29 903.1</td>\n",
       "      <td>31 814.7</td>\n",
       "      <td>33 695.6</td>\n",
       "      <td>35 794.1</td>\n",
       "      <td>35 378.1</td>\n",
       "      <td>...</td>\n",
       "      <td>37 628.4</td>\n",
       "      <td>39 139.3</td>\n",
       "      <td>38 546.3</td>\n",
       "      <td>39 244.3</td>\n",
       "      <td>39 934.5</td>\n",
       "      <td>40 635.8</td>\n",
       "      <td>41 513.1</td>\n",
       "      <td>41 968.7</td>\n",
       "      <td>44 271.8</td>\n",
       "      <td>39 478.1</td>\n",
       "    </tr>\n",
       "    <tr>\n",
       "      <th>2</th>\n",
       "      <td>FR103: Yvelines</td>\n",
       "      <td>41 113.9</td>\n",
       "      <td>42 180.8</td>\n",
       "      <td>42 832.7</td>\n",
       "      <td>43 728.5</td>\n",
       "      <td>45 595.8</td>\n",
       "      <td>47 101.2</td>\n",
       "      <td>50 043.1</td>\n",
       "      <td>52 799.2</td>\n",
       "      <td>50 204.9</td>\n",
       "      <td>...</td>\n",
       "      <td>53 645.1</td>\n",
       "      <td>53 823.9</td>\n",
       "      <td>55 041.9</td>\n",
       "      <td>54 497.6</td>\n",
       "      <td>56 771.4</td>\n",
       "      <td>57 769.3</td>\n",
       "      <td>58 659.2</td>\n",
       "      <td>59 728.3</td>\n",
       "      <td>61 249</td>\n",
       "      <td>56 649.9</td>\n",
       "    </tr>\n",
       "  </tbody>\n",
       "</table>\n",
       "<p>3 rows × 21 columns</p>\n",
       "</div>"
      ]
     },
     "execution_count": 24,
     "metadata": {},
     "output_type": "execute_result"
    }
   ],
   "execution_count": 24
  },
  {
   "cell_type": "markdown",
   "source": [
    "We need to strip the non-breaking space in the numerical data."
   ],
   "metadata": {
    "collapsed": false
   }
  },
  {
   "cell_type": "code",
   "source": [
    "def strip_nbsp(cell):\n",
    "    if isinstance(cell, str):\n",
    "        return cell.replace('\\xa0', '')\n",
    "    return cell"
   ],
   "metadata": {
    "collapsed": false,
    "ExecuteTime": {
     "end_time": "2025-03-29T13:54:05.921153Z",
     "start_time": "2025-03-29T13:54:05.916110Z"
    }
   },
   "outputs": [],
   "execution_count": 25
  },
  {
   "cell_type": "code",
   "source": [
    "gdp = gdp.applymap(strip_nbsp)"
   ],
   "metadata": {
    "collapsed": false,
    "ExecuteTime": {
     "end_time": "2025-03-29T13:54:08.064567Z",
     "start_time": "2025-03-29T13:54:08.055811Z"
    }
   },
   "outputs": [],
   "execution_count": 26
  },
  {
   "cell_type": "markdown",
   "source": [
    "If a column represent a year then it contains numeric data"
   ],
   "metadata": {
    "collapsed": false
   }
  },
  {
   "cell_type": "code",
   "source": [
    "for col in gdp.columns:\n",
    "    if col.isdigit():  # Check if the column name is a year (4-digit number)\n",
    "        gdp[col] = gdp[col].astype(float)  # Convert to float"
   ],
   "metadata": {
    "collapsed": false,
    "ExecuteTime": {
     "end_time": "2025-03-29T13:54:10.868574Z",
     "start_time": "2025-03-29T13:54:10.854606Z"
    }
   },
   "outputs": [],
   "execution_count": 27
  },
  {
   "cell_type": "code",
   "source": [
    "# Only the most recent year is required\n",
    "gdp = gdp[['Year', '2020']]\n",
    "gdp = gdp.rename(columns={'Year': 'department', '2020': 'GDP_millions(€)'})"
   ],
   "metadata": {
    "collapsed": false,
    "ExecuteTime": {
     "end_time": "2025-03-29T13:54:14.111686Z",
     "start_time": "2025-03-29T13:54:14.102900Z"
    }
   },
   "outputs": [],
   "execution_count": 28
  },
  {
   "cell_type": "code",
   "source": [
    "gdp.tail(10)"
   ],
   "metadata": {
    "collapsed": false,
    "ExecuteTime": {
     "end_time": "2025-03-29T13:54:31.771068Z",
     "start_time": "2025-03-29T13:54:31.761856Z"
    }
   },
   "outputs": [
    {
     "data": {
      "text/plain": [
       "                  department  GDP_millions(€)\n",
       "91   FRL04: Bouches-du-Rhône         73878.70\n",
       "92                FRL05: Var         27056.50\n",
       "93           FRL06: Vaucluse         17880.20\n",
       "94       FRM01: Corse-du-Sud          4783.90\n",
       "95        FRM02: Haute-Corse          4300.08\n",
       "96         FRY10: Guadeloupe          9219.30\n",
       "97         FRY20: Martinique          8788.07\n",
       "98      FRY30: French Guiana          4424.65\n",
       "99         FRY40: La Réunion         18973.00\n",
       "100           FRY50: Mayotte          2711.64"
      ],
      "text/html": [
       "<div>\n",
       "<style scoped>\n",
       "    .dataframe tbody tr th:only-of-type {\n",
       "        vertical-align: middle;\n",
       "    }\n",
       "\n",
       "    .dataframe tbody tr th {\n",
       "        vertical-align: top;\n",
       "    }\n",
       "\n",
       "    .dataframe thead th {\n",
       "        text-align: right;\n",
       "    }\n",
       "</style>\n",
       "<table border=\"1\" class=\"dataframe\">\n",
       "  <thead>\n",
       "    <tr style=\"text-align: right;\">\n",
       "      <th></th>\n",
       "      <th>department</th>\n",
       "      <th>GDP_millions(€)</th>\n",
       "    </tr>\n",
       "  </thead>\n",
       "  <tbody>\n",
       "    <tr>\n",
       "      <th>91</th>\n",
       "      <td>FRL04: Bouches-du-Rhône</td>\n",
       "      <td>73878.70</td>\n",
       "    </tr>\n",
       "    <tr>\n",
       "      <th>92</th>\n",
       "      <td>FRL05: Var</td>\n",
       "      <td>27056.50</td>\n",
       "    </tr>\n",
       "    <tr>\n",
       "      <th>93</th>\n",
       "      <td>FRL06: Vaucluse</td>\n",
       "      <td>17880.20</td>\n",
       "    </tr>\n",
       "    <tr>\n",
       "      <th>94</th>\n",
       "      <td>FRM01: Corse-du-Sud</td>\n",
       "      <td>4783.90</td>\n",
       "    </tr>\n",
       "    <tr>\n",
       "      <th>95</th>\n",
       "      <td>FRM02: Haute-Corse</td>\n",
       "      <td>4300.08</td>\n",
       "    </tr>\n",
       "    <tr>\n",
       "      <th>96</th>\n",
       "      <td>FRY10: Guadeloupe</td>\n",
       "      <td>9219.30</td>\n",
       "    </tr>\n",
       "    <tr>\n",
       "      <th>97</th>\n",
       "      <td>FRY20: Martinique</td>\n",
       "      <td>8788.07</td>\n",
       "    </tr>\n",
       "    <tr>\n",
       "      <th>98</th>\n",
       "      <td>FRY30: French Guiana</td>\n",
       "      <td>4424.65</td>\n",
       "    </tr>\n",
       "    <tr>\n",
       "      <th>99</th>\n",
       "      <td>FRY40: La Réunion</td>\n",
       "      <td>18973.00</td>\n",
       "    </tr>\n",
       "    <tr>\n",
       "      <th>100</th>\n",
       "      <td>FRY50: Mayotte</td>\n",
       "      <td>2711.64</td>\n",
       "    </tr>\n",
       "  </tbody>\n",
       "</table>\n",
       "</div>"
      ]
     },
     "execution_count": 29,
     "metadata": {},
     "output_type": "execute_result"
    }
   ],
   "execution_count": 29
  },
  {
   "cell_type": "markdown",
   "source": [
    "Overseas departments occupy the last five rows and can be dropped"
   ],
   "metadata": {
    "collapsed": false
   }
  },
  {
   "cell_type": "code",
   "source": [
    "gdp = gdp.iloc[:-5]\n",
    "print(f\"Shape of GDP: {gdp.shape}\")"
   ],
   "metadata": {
    "collapsed": false,
    "ExecuteTime": {
     "end_time": "2025-03-29T13:54:38.836553Z",
     "start_time": "2025-03-29T13:54:38.831509Z"
    }
   },
   "outputs": [
    {
     "name": "stdout",
     "output_type": "stream",
     "text": [
      "Shape of GDP: (96, 2)\n"
     ]
    }
   ],
   "execution_count": 30
  },
  {
   "cell_type": "code",
   "source": [
    "# Remove the initial part of the string ending with a colon followed by whitespace\n",
    "gdp['department'] = gdp['department'].str.replace(r'^[^:]+:\\s*', '', regex=True)"
   ],
   "metadata": {
    "collapsed": false,
    "ExecuteTime": {
     "end_time": "2025-03-29T13:54:42.108832Z",
     "start_time": "2025-03-29T13:54:42.103542Z"
    }
   },
   "outputs": [],
   "execution_count": 31
  },
  {
   "cell_type": "code",
   "source": [
    "gdp.head()"
   ],
   "metadata": {
    "collapsed": false,
    "ExecuteTime": {
     "end_time": "2025-03-29T13:54:43.699672Z",
     "start_time": "2025-03-29T13:54:43.690615Z"
    }
   },
   "outputs": [
    {
     "data": {
      "text/plain": [
       "       department  GDP_millions(€)\n",
       "0           Paris         226007.0\n",
       "1  Seine-et-Marne          39478.1\n",
       "2        Yvelines          56649.9\n",
       "3         Essonne          53821.9\n",
       "4  Hauts-de-Seine         176675.0"
      ],
      "text/html": [
       "<div>\n",
       "<style scoped>\n",
       "    .dataframe tbody tr th:only-of-type {\n",
       "        vertical-align: middle;\n",
       "    }\n",
       "\n",
       "    .dataframe tbody tr th {\n",
       "        vertical-align: top;\n",
       "    }\n",
       "\n",
       "    .dataframe thead th {\n",
       "        text-align: right;\n",
       "    }\n",
       "</style>\n",
       "<table border=\"1\" class=\"dataframe\">\n",
       "  <thead>\n",
       "    <tr style=\"text-align: right;\">\n",
       "      <th></th>\n",
       "      <th>department</th>\n",
       "      <th>GDP_millions(€)</th>\n",
       "    </tr>\n",
       "  </thead>\n",
       "  <tbody>\n",
       "    <tr>\n",
       "      <th>0</th>\n",
       "      <td>Paris</td>\n",
       "      <td>226007.0</td>\n",
       "    </tr>\n",
       "    <tr>\n",
       "      <th>1</th>\n",
       "      <td>Seine-et-Marne</td>\n",
       "      <td>39478.1</td>\n",
       "    </tr>\n",
       "    <tr>\n",
       "      <th>2</th>\n",
       "      <td>Yvelines</td>\n",
       "      <td>56649.9</td>\n",
       "    </tr>\n",
       "    <tr>\n",
       "      <th>3</th>\n",
       "      <td>Essonne</td>\n",
       "      <td>53821.9</td>\n",
       "    </tr>\n",
       "    <tr>\n",
       "      <th>4</th>\n",
       "      <td>Hauts-de-Seine</td>\n",
       "      <td>176675.0</td>\n",
       "    </tr>\n",
       "  </tbody>\n",
       "</table>\n",
       "</div>"
      ]
     },
     "execution_count": 32,
     "metadata": {},
     "output_type": "execute_result"
    }
   ],
   "execution_count": 32
  },
  {
   "cell_type": "markdown",
   "source": [
    "----\n",
    "&nbsp;\n",
    "### Merging `departments`, `stats_locale` & `gdp`"
   ],
   "metadata": {
    "collapsed": false
   }
  },
  {
   "cell_type": "markdown",
   "source": [
    "We aim to sort all DataFrames on `department_num` and therefore merge `gdp` with `departments` first."
   ],
   "metadata": {
    "collapsed": false
   }
  },
  {
   "metadata": {
    "ExecuteTime": {
     "end_time": "2025-03-29T13:56:10.682260Z",
     "start_time": "2025-03-29T13:56:10.669287Z"
    }
   },
   "cell_type": "code",
   "source": [
    "departments = pd.read_csv('Demographics/departments.csv')\n",
    "departments.head(5)"
   ],
   "outputs": [
    {
     "data": {
      "text/plain": [
       "  department_num               department          capital  \\\n",
       "0             01                      Ain  Bourg-en-Bresse   \n",
       "1             02                    Aisne             Laon   \n",
       "2             03                   Allier          Moulins   \n",
       "3             04  Alpes-de-Haute-Provence  Digne-les-Bains   \n",
       "4             05             Hautes-Alpes              Gap   \n",
       "\n",
       "                       region  \n",
       "0        Auvergne-Rhône-Alpes  \n",
       "1             Hauts-de-France  \n",
       "2        Auvergne-Rhône-Alpes  \n",
       "3  Provence-Alpes-Côte d'Azur  \n",
       "4  Provence-Alpes-Côte d'Azur  "
      ],
      "text/html": [
       "<div>\n",
       "<style scoped>\n",
       "    .dataframe tbody tr th:only-of-type {\n",
       "        vertical-align: middle;\n",
       "    }\n",
       "\n",
       "    .dataframe tbody tr th {\n",
       "        vertical-align: top;\n",
       "    }\n",
       "\n",
       "    .dataframe thead th {\n",
       "        text-align: right;\n",
       "    }\n",
       "</style>\n",
       "<table border=\"1\" class=\"dataframe\">\n",
       "  <thead>\n",
       "    <tr style=\"text-align: right;\">\n",
       "      <th></th>\n",
       "      <th>department_num</th>\n",
       "      <th>department</th>\n",
       "      <th>capital</th>\n",
       "      <th>region</th>\n",
       "    </tr>\n",
       "  </thead>\n",
       "  <tbody>\n",
       "    <tr>\n",
       "      <th>0</th>\n",
       "      <td>01</td>\n",
       "      <td>Ain</td>\n",
       "      <td>Bourg-en-Bresse</td>\n",
       "      <td>Auvergne-Rhône-Alpes</td>\n",
       "    </tr>\n",
       "    <tr>\n",
       "      <th>1</th>\n",
       "      <td>02</td>\n",
       "      <td>Aisne</td>\n",
       "      <td>Laon</td>\n",
       "      <td>Hauts-de-France</td>\n",
       "    </tr>\n",
       "    <tr>\n",
       "      <th>2</th>\n",
       "      <td>03</td>\n",
       "      <td>Allier</td>\n",
       "      <td>Moulins</td>\n",
       "      <td>Auvergne-Rhône-Alpes</td>\n",
       "    </tr>\n",
       "    <tr>\n",
       "      <th>3</th>\n",
       "      <td>04</td>\n",
       "      <td>Alpes-de-Haute-Provence</td>\n",
       "      <td>Digne-les-Bains</td>\n",
       "      <td>Provence-Alpes-Côte d'Azur</td>\n",
       "    </tr>\n",
       "    <tr>\n",
       "      <th>4</th>\n",
       "      <td>05</td>\n",
       "      <td>Hautes-Alpes</td>\n",
       "      <td>Gap</td>\n",
       "      <td>Provence-Alpes-Côte d'Azur</td>\n",
       "    </tr>\n",
       "  </tbody>\n",
       "</table>\n",
       "</div>"
      ]
     },
     "execution_count": 35,
     "metadata": {},
     "output_type": "execute_result"
    }
   ],
   "execution_count": 35
  },
  {
   "cell_type": "code",
   "source": [
    "# We check unique values\n",
    "set1 = set(departments['department'].unique())\n",
    "set2 = set(gdp['department'].unique())\n",
    "print(set1 == set2)  # This should print True if all sets are equal"
   ],
   "metadata": {
    "collapsed": false,
    "ExecuteTime": {
     "end_time": "2025-03-29T13:56:21.207810Z",
     "start_time": "2025-03-29T13:56:21.201761Z"
    }
   },
   "outputs": [
    {
     "name": "stdout",
     "output_type": "stream",
     "text": [
      "True\n"
     ]
    }
   ],
   "execution_count": 36
  },
  {
   "cell_type": "code",
   "source": [
    "gdp_departments = departments.merge(gdp, on='department', how='inner')"
   ],
   "metadata": {
    "collapsed": false,
    "ExecuteTime": {
     "end_time": "2025-03-29T13:56:24.194464Z",
     "start_time": "2025-03-29T13:56:24.184290Z"
    }
   },
   "outputs": [],
   "execution_count": 37
  },
  {
   "cell_type": "markdown",
   "source": [
    "We now merge with `stats_locale`"
   ],
   "metadata": {
    "collapsed": false
   }
  },
  {
   "cell_type": "code",
   "source": [
    "# We sort all dfs on 'department_num'\n",
    "gdp_departments = gdp_departments.sort_values('department_num')\n",
    "stats_locale = stats_locale.sort_values('department_num')"
   ],
   "metadata": {
    "collapsed": false,
    "ExecuteTime": {
     "end_time": "2025-03-29T13:56:27.126872Z",
     "start_time": "2025-03-29T13:56:27.121584Z"
    }
   },
   "outputs": [],
   "execution_count": 38
  },
  {
   "cell_type": "markdown",
   "source": [
    "We check if the name `department` is equal in the two dataframes"
   ],
   "metadata": {
    "collapsed": false
   }
  },
  {
   "cell_type": "code",
   "source": [
    "set1 = set(gdp_departments['department'].unique())\n",
    "set2 = set(stats_locale['department'].unique())\n",
    "print(set1 == set2)"
   ],
   "metadata": {
    "collapsed": false,
    "ExecuteTime": {
     "end_time": "2025-03-29T13:56:30.490056Z",
     "start_time": "2025-03-29T13:56:30.484315Z"
    }
   },
   "outputs": [
    {
     "name": "stdout",
     "output_type": "stream",
     "text": [
      "True\n"
     ]
    }
   ],
   "execution_count": 39
  },
  {
   "cell_type": "code",
   "source": [
    "from functools import reduce\n",
    "\n",
    "# List of dataframes to merge\n",
    "dfs = [gdp_departments, stats_locale]\n",
    "\n",
    "# Use reduce and merge to merge both dataframes\n",
    "demographics = reduce(lambda left,right: pd.merge(left,right,on=['department', 'department_num']), dfs)"
   ],
   "metadata": {
    "collapsed": false,
    "ExecuteTime": {
     "end_time": "2025-03-29T13:56:36.365023Z",
     "start_time": "2025-03-29T13:56:36.355485Z"
    }
   },
   "outputs": [],
   "execution_count": 40
  },
  {
   "cell_type": "markdown",
   "source": [
    "Will drop `non_schooled_persons_15_and_over` as I feel it's the weakest statistic"
   ],
   "metadata": {
    "collapsed": false
   }
  },
  {
   "cell_type": "code",
   "source": [
    "demographics = demographics.drop(columns=\"non_schooled_persons_15_and_over\")\n",
    "demographics.info()"
   ],
   "metadata": {
    "collapsed": false,
    "ExecuteTime": {
     "end_time": "2025-03-29T13:56:42.952545Z",
     "start_time": "2025-03-29T13:56:42.939374Z"
    }
   },
   "outputs": [
    {
     "name": "stdout",
     "output_type": "stream",
     "text": [
      "<class 'pandas.core.frame.DataFrame'>\n",
      "Int64Index: 96 entries, 0 to 95\n",
      "Data columns (total 11 columns):\n",
      " #   Column                                 Non-Null Count  Dtype  \n",
      "---  ------                                 --------------  -----  \n",
      " 0   department_num                         96 non-null     object \n",
      " 1   department                             96 non-null     object \n",
      " 2   capital                                96 non-null     object \n",
      " 3   region                                 96 non-null     object \n",
      " 4   GDP_millions(€)                        96 non-null     float64\n",
      " 5   average_net_hourly_wage(€)             96 non-null     float64\n",
      " 6   municipal_population                   96 non-null     float64\n",
      " 7   population_density(inhabitants/sq_km)  96 non-null     float64\n",
      " 8   poverty_rate(%)                        96 non-null     object \n",
      " 9   average_annual_unemployment_rate(%)    96 non-null     float64\n",
      " 10  area(sq_km)                            96 non-null     float64\n",
      "dtypes: float64(6), object(5)\n",
      "memory usage: 9.0+ KB\n"
     ]
    }
   ],
   "execution_count": 41
  },
  {
   "cell_type": "markdown",
   "source": [
    "We will calculate `GDP_per_capita(€)` as it's a more meaningful statistic for comparison"
   ],
   "metadata": {
    "collapsed": false
   }
  },
  {
   "cell_type": "code",
   "source": [
    "demographics['GDP_per_capita(€)'] = round((demographics['GDP_millions(€)'] * 1e6) / demographics['municipal_population'], 2)"
   ],
   "metadata": {
    "collapsed": false,
    "ExecuteTime": {
     "end_time": "2025-03-29T13:57:01.758046Z",
     "start_time": "2025-03-29T13:57:01.751387Z"
    }
   },
   "outputs": [],
   "execution_count": 42
  },
  {
   "cell_type": "code",
   "source": [
    "print(demographics.columns.tolist())"
   ],
   "metadata": {
    "collapsed": false,
    "ExecuteTime": {
     "end_time": "2025-03-29T13:57:05.092099Z",
     "start_time": "2025-03-29T13:57:05.088003Z"
    }
   },
   "outputs": [
    {
     "name": "stdout",
     "output_type": "stream",
     "text": [
      "['department_num', 'department', 'capital', 'region', 'GDP_millions(€)', 'average_net_hourly_wage(€)', 'municipal_population', 'population_density(inhabitants/sq_km)', 'poverty_rate(%)', 'average_annual_unemployment_rate(%)', 'area(sq_km)', 'GDP_per_capita(€)']\n"
     ]
    }
   ],
   "execution_count": 43
  },
  {
   "cell_type": "code",
   "source": [
    "# Reorder the columns\n",
    "new_order = ['department_num', 'department', 'capital', 'region', 'GDP_millions(€)', 'GDP_per_capita(€)',\n",
    "             'poverty_rate(%)', 'average_annual_unemployment_rate(%)', 'average_net_hourly_wage(€)',\n",
    "             'municipal_population', 'population_density(inhabitants/sq_km)', 'area(sq_km)']"
   ],
   "metadata": {
    "collapsed": false,
    "ExecuteTime": {
     "end_time": "2025-03-29T13:57:24.694714Z",
     "start_time": "2025-03-29T13:57:24.690023Z"
    }
   },
   "outputs": [],
   "execution_count": 44
  },
  {
   "cell_type": "code",
   "source": [
    "demographics = demographics[new_order]"
   ],
   "metadata": {
    "collapsed": false,
    "ExecuteTime": {
     "end_time": "2025-03-29T13:57:26.908290Z",
     "start_time": "2025-03-29T13:57:26.902494Z"
    }
   },
   "outputs": [],
   "execution_count": 45
  },
  {
   "cell_type": "code",
   "source": [
    "demographics.head()"
   ],
   "metadata": {
    "collapsed": false,
    "ExecuteTime": {
     "end_time": "2025-03-29T13:57:29.307688Z",
     "start_time": "2025-03-29T13:57:29.290067Z"
    }
   },
   "outputs": [
    {
     "data": {
      "text/plain": [
       "  department_num               department          capital  \\\n",
       "0             01                      Ain  Bourg-en-Bresse   \n",
       "1             02                    Aisne             Laon   \n",
       "2             03                   Allier          Moulins   \n",
       "3             04  Alpes-de-Haute-Provence  Digne-les-Bains   \n",
       "4             05             Hautes-Alpes              Gap   \n",
       "\n",
       "                       region  GDP_millions(€)  GDP_per_capita(€)  \\\n",
       "0        Auvergne-Rhône-Alpes         16726.40           24916.84   \n",
       "1             Hauts-de-France         12016.40           22864.08   \n",
       "2        Auvergne-Rhône-Alpes          8278.98           24734.42   \n",
       "3  Provence-Alpes-Côte d'Azur          4154.79           24852.34   \n",
       "4  Provence-Alpes-Côte d'Azur          3756.22           26512.56   \n",
       "\n",
       "  poverty_rate(%)  average_annual_unemployment_rate(%)  \\\n",
       "0            10.8                                  5.5   \n",
       "1            18.8                                 10.5   \n",
       "2            16.2                                  7.8   \n",
       "3            17.1                                  8.1   \n",
       "4            14.7                                  6.6   \n",
       "\n",
       "   average_net_hourly_wage(€)  municipal_population  \\\n",
       "0                       15.96              671289.0   \n",
       "1                       14.46              525558.0   \n",
       "2                       14.19              334715.0   \n",
       "3                       14.60              167179.0   \n",
       "4                       13.99              141677.0   \n",
       "\n",
       "   population_density(inhabitants/sq_km)  area(sq_km)  \n",
       "0                                  115.1      5832.22  \n",
       "1                                   71.7      7329.96  \n",
       "2                                   45.6      7340.24  \n",
       "3                                   24.0      6965.79  \n",
       "4                                   25.4      5577.83  "
      ],
      "text/html": [
       "<div>\n",
       "<style scoped>\n",
       "    .dataframe tbody tr th:only-of-type {\n",
       "        vertical-align: middle;\n",
       "    }\n",
       "\n",
       "    .dataframe tbody tr th {\n",
       "        vertical-align: top;\n",
       "    }\n",
       "\n",
       "    .dataframe thead th {\n",
       "        text-align: right;\n",
       "    }\n",
       "</style>\n",
       "<table border=\"1\" class=\"dataframe\">\n",
       "  <thead>\n",
       "    <tr style=\"text-align: right;\">\n",
       "      <th></th>\n",
       "      <th>department_num</th>\n",
       "      <th>department</th>\n",
       "      <th>capital</th>\n",
       "      <th>region</th>\n",
       "      <th>GDP_millions(€)</th>\n",
       "      <th>GDP_per_capita(€)</th>\n",
       "      <th>poverty_rate(%)</th>\n",
       "      <th>average_annual_unemployment_rate(%)</th>\n",
       "      <th>average_net_hourly_wage(€)</th>\n",
       "      <th>municipal_population</th>\n",
       "      <th>population_density(inhabitants/sq_km)</th>\n",
       "      <th>area(sq_km)</th>\n",
       "    </tr>\n",
       "  </thead>\n",
       "  <tbody>\n",
       "    <tr>\n",
       "      <th>0</th>\n",
       "      <td>01</td>\n",
       "      <td>Ain</td>\n",
       "      <td>Bourg-en-Bresse</td>\n",
       "      <td>Auvergne-Rhône-Alpes</td>\n",
       "      <td>16726.40</td>\n",
       "      <td>24916.84</td>\n",
       "      <td>10.8</td>\n",
       "      <td>5.5</td>\n",
       "      <td>15.96</td>\n",
       "      <td>671289.0</td>\n",
       "      <td>115.1</td>\n",
       "      <td>5832.22</td>\n",
       "    </tr>\n",
       "    <tr>\n",
       "      <th>1</th>\n",
       "      <td>02</td>\n",
       "      <td>Aisne</td>\n",
       "      <td>Laon</td>\n",
       "      <td>Hauts-de-France</td>\n",
       "      <td>12016.40</td>\n",
       "      <td>22864.08</td>\n",
       "      <td>18.8</td>\n",
       "      <td>10.5</td>\n",
       "      <td>14.46</td>\n",
       "      <td>525558.0</td>\n",
       "      <td>71.7</td>\n",
       "      <td>7329.96</td>\n",
       "    </tr>\n",
       "    <tr>\n",
       "      <th>2</th>\n",
       "      <td>03</td>\n",
       "      <td>Allier</td>\n",
       "      <td>Moulins</td>\n",
       "      <td>Auvergne-Rhône-Alpes</td>\n",
       "      <td>8278.98</td>\n",
       "      <td>24734.42</td>\n",
       "      <td>16.2</td>\n",
       "      <td>7.8</td>\n",
       "      <td>14.19</td>\n",
       "      <td>334715.0</td>\n",
       "      <td>45.6</td>\n",
       "      <td>7340.24</td>\n",
       "    </tr>\n",
       "    <tr>\n",
       "      <th>3</th>\n",
       "      <td>04</td>\n",
       "      <td>Alpes-de-Haute-Provence</td>\n",
       "      <td>Digne-les-Bains</td>\n",
       "      <td>Provence-Alpes-Côte d'Azur</td>\n",
       "      <td>4154.79</td>\n",
       "      <td>24852.34</td>\n",
       "      <td>17.1</td>\n",
       "      <td>8.1</td>\n",
       "      <td>14.60</td>\n",
       "      <td>167179.0</td>\n",
       "      <td>24.0</td>\n",
       "      <td>6965.79</td>\n",
       "    </tr>\n",
       "    <tr>\n",
       "      <th>4</th>\n",
       "      <td>05</td>\n",
       "      <td>Hautes-Alpes</td>\n",
       "      <td>Gap</td>\n",
       "      <td>Provence-Alpes-Côte d'Azur</td>\n",
       "      <td>3756.22</td>\n",
       "      <td>26512.56</td>\n",
       "      <td>14.7</td>\n",
       "      <td>6.6</td>\n",
       "      <td>13.99</td>\n",
       "      <td>141677.0</td>\n",
       "      <td>25.4</td>\n",
       "      <td>5577.83</td>\n",
       "    </tr>\n",
       "  </tbody>\n",
       "</table>\n",
       "</div>"
      ]
     },
     "execution_count": 46,
     "metadata": {},
     "output_type": "execute_result"
    }
   ],
   "execution_count": 46
  },
  {
   "cell_type": "markdown",
   "source": [
    "The `demographics` data can now be exported"
   ],
   "metadata": {
    "collapsed": false
   }
  },
  {
   "cell_type": "code",
   "source": [
    "# Export the data to a csv file\n",
    "demographics.to_csv('Demographics/demographics_2023.csv', index=False)"
   ],
   "metadata": {
    "collapsed": false,
    "ExecuteTime": {
     "end_time": "2025-03-29T13:57:39.202408Z",
     "start_time": "2025-03-29T13:57:39.194837Z"
    }
   },
   "outputs": [],
   "execution_count": 47
  }
 ],
 "metadata": {
  "kernelspec": {
   "display_name": "Python 3",
   "language": "python",
   "name": "python3"
  },
  "language_info": {
   "codemirror_mode": {
    "name": "ipython",
    "version": 2
   },
   "file_extension": ".py",
   "mimetype": "text/x-python",
   "name": "python",
   "nbconvert_exporter": "python",
   "pygments_lexer": "ipython2",
   "version": "2.7.6"
  }
 },
 "nbformat": 4,
 "nbformat_minor": 0
}
