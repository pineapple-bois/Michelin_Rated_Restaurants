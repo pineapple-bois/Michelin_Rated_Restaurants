{
 "cells": [
  {
   "cell_type": "markdown",
   "source": [
    "# Michelin Rated Restaurants in France"
   ],
   "metadata": {
    "collapsed": false
   }
  },
  {
   "cell_type": "code",
   "execution_count": 179,
   "metadata": {
    "collapsed": true,
    "ExecuteTime": {
     "end_time": "2023-08-04T21:01:32.668728Z",
     "start_time": "2023-08-04T21:01:32.611618Z"
    }
   },
   "outputs": [],
   "source": [
    "import pandas as pd\n",
    "import numpy as np\n",
    "import matplotlib as mpl\n",
    "import matplotlib.pyplot as plt\n",
    "import seaborn as sns\n",
    "import folium\n",
    "import branca"
   ]
  },
  {
   "cell_type": "markdown",
   "source": [
    "----\n",
    "&nbsp;\n",
    "## Import the cleaned French dataset"
   ],
   "metadata": {
    "collapsed": false
   }
  },
  {
   "cell_type": "code",
   "execution_count": 180,
   "outputs": [
    {
     "data": {
      "text/plain": "                                     name  \\\n0  La Vague d'Or - Cheval Blanc St-Tropez   \n1                 René et Maxime Meilleur   \n2                                     Kei   \n3                  Auberge du Vieux Puits   \n4                 Régis et Jacques Marcon   \n5                    Assiette Champenoise   \n6       Troisgros - Le Bois sans Feuilles   \n7                        Le Clos des Sens   \n8                               La Marine   \n9                          La Villa Madie   \n\n                                             address  \\\n0  Plage de la Bouillabaisse, Saint-Tropez, 83990...   \n1  Hameau de  Saint-Marcel, Saint-Martin-de-Belle...   \n2           5 rue du Coq-Héron, Paris, 75001, France   \n3  5 avenue Saint-Victor, Fontjoncouse, 11360, Fr...   \n4   Larsiallas, Saint-Bonnet-le-Froid, 43290, France   \n5  40 avenue Paul-Vaillant-Couturier, à Tinqueux,...   \n6      728 route de Villerest, Ouches, 42155, France   \n7  13 rue Jean-Mermoz - à Annecy-le-Vieux, Annecy...   \n8  3 rue Marie-Lemonnier, L'Herbaudière, 85330, F...   \n9          Avenue de Revestel, Cassis, 13260, France   \n\n                         city country price                          cuisine  \\\n0                Saint-Tropez  France  €€€€         Creative, Modern Cuisine   \n1  Saint-Martin-de-Belleville  France  €€€€       Creative, Regional Cuisine   \n2                       Paris  France  €€€€         Modern Cuisine, Creative   \n3                Fontjoncouse  France  €€€€                         Creative   \n4       Saint-Bonnet-le-Froid  France  €€€€                         Creative   \n5                       Reims  France  €€€€                         Creative   \n6                      Ouches  France  €€€€                         Creative   \n7                      Annecy  France  €€€€                         Creative   \n8               L'Herbaudière  France  €€€€                Creative, Seafood   \n9                      Cassis  France  €€€€  Creative, Mediterranean Cuisine   \n\n                                                url             award  stars  \\\n0  https://www.chevalblanc.com/fr/maison/st-tropez/  3 MICHELIN Stars    3.0   \n1                    https://www.la-bouitte.com/fr/  3 MICHELIN Stars    3.0   \n2                    https://www.restaurant-kei.fr/  3 MICHELIN Stars    3.0   \n3            https://www.aubergeduvieuxpuits.fr/fr/  3 MICHELIN Stars    3.0   \n4                  https://www.lesmaisonsmarcon.fr/  3 MICHELIN Stars    3.0   \n5              https://www.assiettechampenoise.com/  3 MICHELIN Stars    3.0   \n6                        https://www.troisgros.com/  3 MICHELIN Stars    3.0   \n7                      https://www.closdessens.com/  3 MICHELIN Stars    3.0   \n8             https://www.alexandrecouillon.com/fr/  3 MICHELIN Stars    3.0   \n9                         https://lavillamadie.com/  3 MICHELIN Stars    3.0   \n\n   longitude   latitude  \n0   6.626154  43.266585  \n1   6.513306  45.369046  \n2   2.342285  48.864395  \n3   2.789329  43.048173  \n4   4.434268  45.138673  \n5   4.003267  49.247835  \n6   3.992360  46.010330  \n7   6.144577  45.917632  \n8  -2.299934  47.023710  \n9   5.544944  43.211089  ",
      "text/html": "<div>\n<style scoped>\n    .dataframe tbody tr th:only-of-type {\n        vertical-align: middle;\n    }\n\n    .dataframe tbody tr th {\n        vertical-align: top;\n    }\n\n    .dataframe thead th {\n        text-align: right;\n    }\n</style>\n<table border=\"1\" class=\"dataframe\">\n  <thead>\n    <tr style=\"text-align: right;\">\n      <th></th>\n      <th>name</th>\n      <th>address</th>\n      <th>city</th>\n      <th>country</th>\n      <th>price</th>\n      <th>cuisine</th>\n      <th>url</th>\n      <th>award</th>\n      <th>stars</th>\n      <th>longitude</th>\n      <th>latitude</th>\n    </tr>\n  </thead>\n  <tbody>\n    <tr>\n      <th>0</th>\n      <td>La Vague d'Or - Cheval Blanc St-Tropez</td>\n      <td>Plage de la Bouillabaisse, Saint-Tropez, 83990...</td>\n      <td>Saint-Tropez</td>\n      <td>France</td>\n      <td>€€€€</td>\n      <td>Creative, Modern Cuisine</td>\n      <td>https://www.chevalblanc.com/fr/maison/st-tropez/</td>\n      <td>3 MICHELIN Stars</td>\n      <td>3.0</td>\n      <td>6.626154</td>\n      <td>43.266585</td>\n    </tr>\n    <tr>\n      <th>1</th>\n      <td>René et Maxime Meilleur</td>\n      <td>Hameau de  Saint-Marcel, Saint-Martin-de-Belle...</td>\n      <td>Saint-Martin-de-Belleville</td>\n      <td>France</td>\n      <td>€€€€</td>\n      <td>Creative, Regional Cuisine</td>\n      <td>https://www.la-bouitte.com/fr/</td>\n      <td>3 MICHELIN Stars</td>\n      <td>3.0</td>\n      <td>6.513306</td>\n      <td>45.369046</td>\n    </tr>\n    <tr>\n      <th>2</th>\n      <td>Kei</td>\n      <td>5 rue du Coq-Héron, Paris, 75001, France</td>\n      <td>Paris</td>\n      <td>France</td>\n      <td>€€€€</td>\n      <td>Modern Cuisine, Creative</td>\n      <td>https://www.restaurant-kei.fr/</td>\n      <td>3 MICHELIN Stars</td>\n      <td>3.0</td>\n      <td>2.342285</td>\n      <td>48.864395</td>\n    </tr>\n    <tr>\n      <th>3</th>\n      <td>Auberge du Vieux Puits</td>\n      <td>5 avenue Saint-Victor, Fontjoncouse, 11360, Fr...</td>\n      <td>Fontjoncouse</td>\n      <td>France</td>\n      <td>€€€€</td>\n      <td>Creative</td>\n      <td>https://www.aubergeduvieuxpuits.fr/fr/</td>\n      <td>3 MICHELIN Stars</td>\n      <td>3.0</td>\n      <td>2.789329</td>\n      <td>43.048173</td>\n    </tr>\n    <tr>\n      <th>4</th>\n      <td>Régis et Jacques Marcon</td>\n      <td>Larsiallas, Saint-Bonnet-le-Froid, 43290, France</td>\n      <td>Saint-Bonnet-le-Froid</td>\n      <td>France</td>\n      <td>€€€€</td>\n      <td>Creative</td>\n      <td>https://www.lesmaisonsmarcon.fr/</td>\n      <td>3 MICHELIN Stars</td>\n      <td>3.0</td>\n      <td>4.434268</td>\n      <td>45.138673</td>\n    </tr>\n    <tr>\n      <th>5</th>\n      <td>Assiette Champenoise</td>\n      <td>40 avenue Paul-Vaillant-Couturier, à Tinqueux,...</td>\n      <td>Reims</td>\n      <td>France</td>\n      <td>€€€€</td>\n      <td>Creative</td>\n      <td>https://www.assiettechampenoise.com/</td>\n      <td>3 MICHELIN Stars</td>\n      <td>3.0</td>\n      <td>4.003267</td>\n      <td>49.247835</td>\n    </tr>\n    <tr>\n      <th>6</th>\n      <td>Troisgros - Le Bois sans Feuilles</td>\n      <td>728 route de Villerest, Ouches, 42155, France</td>\n      <td>Ouches</td>\n      <td>France</td>\n      <td>€€€€</td>\n      <td>Creative</td>\n      <td>https://www.troisgros.com/</td>\n      <td>3 MICHELIN Stars</td>\n      <td>3.0</td>\n      <td>3.992360</td>\n      <td>46.010330</td>\n    </tr>\n    <tr>\n      <th>7</th>\n      <td>Le Clos des Sens</td>\n      <td>13 rue Jean-Mermoz - à Annecy-le-Vieux, Annecy...</td>\n      <td>Annecy</td>\n      <td>France</td>\n      <td>€€€€</td>\n      <td>Creative</td>\n      <td>https://www.closdessens.com/</td>\n      <td>3 MICHELIN Stars</td>\n      <td>3.0</td>\n      <td>6.144577</td>\n      <td>45.917632</td>\n    </tr>\n    <tr>\n      <th>8</th>\n      <td>La Marine</td>\n      <td>3 rue Marie-Lemonnier, L'Herbaudière, 85330, F...</td>\n      <td>L'Herbaudière</td>\n      <td>France</td>\n      <td>€€€€</td>\n      <td>Creative, Seafood</td>\n      <td>https://www.alexandrecouillon.com/fr/</td>\n      <td>3 MICHELIN Stars</td>\n      <td>3.0</td>\n      <td>-2.299934</td>\n      <td>47.023710</td>\n    </tr>\n    <tr>\n      <th>9</th>\n      <td>La Villa Madie</td>\n      <td>Avenue de Revestel, Cassis, 13260, France</td>\n      <td>Cassis</td>\n      <td>France</td>\n      <td>€€€€</td>\n      <td>Creative, Mediterranean Cuisine</td>\n      <td>https://lavillamadie.com/</td>\n      <td>3 MICHELIN Stars</td>\n      <td>3.0</td>\n      <td>5.544944</td>\n      <td>43.211089</td>\n    </tr>\n  </tbody>\n</table>\n</div>"
     },
     "execution_count": 180,
     "metadata": {},
     "output_type": "execute_result"
    }
   ],
   "source": [
    "france = pd.read_csv(\"../data/france_data.csv\")\n",
    "france.head(10)"
   ],
   "metadata": {
    "collapsed": false,
    "ExecuteTime": {
     "end_time": "2023-08-04T21:01:32.722141Z",
     "start_time": "2023-08-04T21:01:32.616245Z"
    }
   }
  },
  {
   "cell_type": "code",
   "execution_count": 181,
   "outputs": [
    {
     "name": "stdout",
     "output_type": "stream",
     "text": [
      "Unique Cities:\n",
      "['Saint-Tropez' 'Saint-Martin-de-Belleville' 'Paris' 'Fontjoncouse'\n",
      " 'Saint-Bonnet-le-Froid' 'Reims' 'Ouches' 'Annecy' \"L'Herbaudière\"\n",
      " 'Cassis' 'Eugénie-les-Bains' 'Courchevel' 'Monaco' 'Chagny'\n",
      " 'Les Baux-de-Provence' 'Valence' 'Megève' 'Marseille' 'Menton' 'Vonnas'\n",
      " 'Talloires-Montmin' 'Saint-Emilion' 'Saint-Amour-Bellevue'\n",
      " \"Collonges-au-Mont-d'Or\" 'Èze' 'Lyon' 'La Rochelle' 'Porto-Vecchio'\n",
      " 'Aumont-Aubrac' 'Dijon' 'Magescq' 'Veyrier-du-Lac' 'Cancale' 'Blois'\n",
      " 'Carcassonne' 'Le Cannet' 'Jongieux' 'Laubach' 'Saint-Rémy' 'Kaysersberg'\n",
      " 'Colmar' 'Bordeaux' 'Pujaudran' 'Illhaeusern' 'Lembach' 'Chaudes-Aigues'\n",
      " 'Busnes' 'Joigny' 'Clermont-Ferrand' 'Martillac' 'Pyla-sur-Mer' 'Bommes'\n",
      " 'Saulieu' 'Port-Lesney' 'La Turbie' 'Wingen-sur-Moder' 'Plomodiern'\n",
      " 'Ramatuelle' 'Obernai' 'Uriage-les-Bains' 'La Plaine-sur-Mer' 'Narbonne'\n",
      " 'Nice' 'Nîmes' 'La Madelaine-sous-Montreuil' 'Garons' 'Laguiole' 'Vienne'\n",
      " 'Toulouse' 'Strasbourg' 'Les Sorinières' 'Nantes'\n",
      " 'Le Touquet-Paris-Plage' 'Châteauneuf-du-Pape' 'Saint-Joachim'\n",
      " 'La Ciotat' 'Rueil-Malmaison' 'Buxy' 'Puymoyen'\n",
      " 'Saint-Martin-sur-la-Chambre' 'Barr' 'Saint-Jean-Cap-Ferrat'\n",
      " 'Saint-Rémy-de-Provence' 'Saint-Jean-de-Luz' 'Granges-les-Beaumont'\n",
      " 'Plérin' 'Saint-Malo' 'Charbonnières-les-Bains' 'Mâcon' 'Zellenberg'\n",
      " 'Rouen' 'Romorantin-Lanthenay' 'Saint-Crépin' 'Montchenot' 'Rennes'\n",
      " 'Riquewihr' 'Marcq-en-Barœul' 'Piré-Chancé' 'Croix' 'Montlivault'\n",
      " 'Montreuil' 'Grenoble' 'Aix-en-Provence' 'Boulleret' 'Beaune' 'Guéthary'\n",
      " 'Saint-Cannat' \"La Roche-l'Abeille\" 'Pouilly-sous-Charlieu' 'Versailles'\n",
      " 'Chantilly' 'Fontainebleau' 'Èze-Bord-de-Mer' 'Montbellet'\n",
      " 'Saint-Pol-de-Léon' 'Rolleboise' 'La Jarrie' 'Saint-Gervais-les-Bains'\n",
      " 'Saint-Céré' 'Saint-Grégoire' 'Malbuisson' 'Roscoff' 'Marly-le-Roi'\n",
      " 'Noyal-sur-Vilaine' 'Dampmart' 'Manosque' 'Pontoise'\n",
      " 'Chamonix-Mont-Blanc' 'Les Eyzies-de-Tayac-Sireuil'\n",
      " 'La Ferrière-aux-Étangs' 'Saint-Vincent-de-Tyrosse' 'Breuillet'\n",
      " 'Saint-Pée-sur-Nivelle' 'Saint-Médard' 'Meudon' 'Rhinau' 'Le Mans'\n",
      " 'Gevrey-Chambertin' 'Lyons-la-Forêt' 'Pau' 'Saint-Brieuc'\n",
      " 'Le Champ-sur-Layon' 'Sampans' 'Douvaine' 'Dole' 'Caen'\n",
      " 'Bretignolles-sur-Mer' 'Guer' 'Saint-Jean-aux-Bois' 'Deauville'\n",
      " 'Ambierle' 'Le Tholonet' 'Brem-sur-Mer' 'Carantec' 'Écully' 'Orléans'\n",
      " 'Fuissé' 'Faulquemont' 'Méry-sur-Oise' 'Giverny' 'Gigondas' 'Cucuron'\n",
      " 'Dinard' 'Antibes' 'Ansouis' \"La Cadière-d'Azur\" 'Mulhouse'\n",
      " 'Quint-Fonsegrives' 'Gien' 'La Gouesnière' 'Epinal' 'La Croix-Valmer'\n",
      " 'Les Arcs' 'Bozouls' 'Montrabé' 'Etretat' 'Lumio' 'Argentan' 'Moirax'\n",
      " 'Ammerschwihr' \"Fontevraud-l'Abbaye\" 'Gex' 'Couilly-Pont-aux-Dames'\n",
      " 'Ainhoa' 'Brantôme' 'Rouffiac-Tolosan' 'Le Bourget-du-Lac'\n",
      " 'Les Deux-Alpes' 'Drusenheim' 'Le Sambuc' 'Vannes' 'Alleyras' 'Grignan'\n",
      " 'Évian-les-Bains' 'Fleurie' 'Murtoli' 'Courban' 'Ambronay' 'Lastours'\n",
      " 'Mercuès' 'Carnac' 'Dieppe' 'Offranville' 'Prenois' 'Amboise' 'Cadenet'\n",
      " 'Brive-la-Gaillarde' 'Saint-Alban-de-Roche' 'Lorgues' 'Lille'\n",
      " 'Saint-Valentin' 'Leucate' 'Issoire' 'Juan-les-Pins'\n",
      " 'Colombey-les-Deux-Églises' 'La Colle-sur-Loup'\n",
      " 'Château-Arnoux-Saint-Auban' 'Chassagne-Montrachet' 'Caudebec-en-Caux'\n",
      " 'Vault-de-Lugny' 'Bouliac' 'Bondues' 'Plougonvelin' 'Arcachon'\n",
      " 'Colombières-sur-Orb' 'Collioure' 'Languimberg' \"L'Isle-sur-la-Sorgue\"\n",
      " 'Chazelles-sur-Lyon' 'Charolles' 'Baden' 'Bourg-Charente' 'Langon'\n",
      " 'La Celle' 'Joucas' 'Chaintré' 'Charmes-sur-Rhône' 'Bandol' 'Lannion'\n",
      " 'Biarritz' 'Boismorand' 'Azay-le-Rideau' 'Tresserve' 'Binic'\n",
      " \"Les Sables-d'Olonne\" 'Pont-Aven' 'Nieul' 'La Vancelle' 'Cellettes'\n",
      " 'Lacave' 'Chambretaud' 'Étouy' 'Châlons-en-Champagne' 'Chasselay'\n",
      " 'Chamalières' 'Cherbourg-en-Cotentin' 'Baerenthal' 'Lormont'\n",
      " 'Frichemesnil' \"Bagnoles-de-l'Orne\" 'Bidart' 'Avignon' 'Bonnieux'\n",
      " 'Bonnétage' 'Arcangues' 'Brest' 'Lorient' 'Villeneuve-Loubet'\n",
      " 'Mareuil-sur-Lay' 'Lunéville' 'Assignan' 'La Wantzenau' 'Fondettes'\n",
      " 'Hasparren' \"Val-d'Isère\" 'Val-Thorens' 'Puymirol' 'Montbazon'\n",
      " 'Saint-Galmier' 'Gesté' 'Altkirch' 'Les Vans' 'Trémolat' 'Valmont'\n",
      " 'Pujaut' 'Sarreguemines' 'Biot' 'Blainville-sur-Mer' 'Payrin-Augmontel'\n",
      " 'Sète' 'Angers' 'Schiltigheim' 'Mont-de-Marsan' 'Le Puy-Sainte-Réparade'\n",
      " 'Montpellier' 'Béziers' 'Porspoder' 'Saint-Avé' 'Guainville' 'Montréverd'\n",
      " 'Vence' 'Cognac' 'Vincennes' 'Monswiller' 'Sauveterre-de-Rouergue'\n",
      " 'Vichy' 'Sens' 'Le Tremblay-sur-Mauldre' 'Pont-de-Vaux' \"Ville-d'Avray\"\n",
      " 'Trébeurden' 'Périgueux' 'Loches' 'Cheverny' 'Saint-Germain'\n",
      " 'Roquebrune-Cap-Martin' 'Machilly' 'Armentières' 'Ventabren'\n",
      " 'Saint-Raphaël' 'Vailly' 'Chartres' 'Ardon' 'Uzès' 'Port-Louis' 'Quimper'\n",
      " 'Pont-du-Château' 'Plouider' 'Seignosse' 'Montluçon' 'Gémenos'\n",
      " 'Salon-de-Provence' 'Le Petit-Pressigny' 'Onzain' 'Mayenne' 'Calvi'\n",
      " 'Le Havre' 'Tourrettes' 'La Roche-sur-Yon' 'Grane' 'Boeschepe'\n",
      " 'Espelette' 'Aureville' 'Replonges' 'Hagondange' 'Eygalières' 'Pézenas'\n",
      " 'Ciboure' 'Belcastel' 'Beaulieu-sur-Mer' 'Angoulême' 'Le Lavandou'\n",
      " 'Malataverne' 'Moustiers-Sainte-Marie' 'Wihr-au-Val' 'Montaigu'\n",
      " 'Champillon' 'Tournus' 'Méribel' 'Combrit' 'Pernand-Vergelesses' 'Nancy'\n",
      " 'Rixheim' 'Perpignan' 'Saint-Pierre-Quiberon' 'Marlenheim' 'Monbazillac'\n",
      " 'Monestier' 'Vailhan' 'Levernois' 'Belle-Église' 'Saint-Lô'\n",
      " 'Théoule-sur-Mer' 'Tignes' 'Le Broc' 'Danjoutin' 'Cassel'\n",
      " 'Mûr-de-Bretagne' 'Montbron' 'Marcolès' \"Chonas-l'Amballan\" 'Sierentz'\n",
      " 'Sessenheim' 'Saint-Didier-de-la-Tour' 'Wimereux' 'Sousceyrac-en-Quercy'\n",
      " 'Carhaix-Plouguer' 'Les Gets' 'Pornic' 'Saint-Lieux-lès-Lavaur'\n",
      " 'Sargé-sur-Braye' 'Champcevinel' 'Nernier' 'Saint-Quirin'\n",
      " 'Beaulieu-sous-la-Roche' 'Saint-Julien-Chapteuil' 'Weyersheim'\n",
      " 'Le Rozier' 'Palavas-les-Flots' 'Font-Romeu' 'Saint-Avit-Sénieur'\n",
      " 'La Roque-Gageac' 'Heugueville-sur-Sienne' 'Lattes' 'Maillane' 'Audierne'\n",
      " 'Vezeronce-Curtin' 'Saint-Lyphard' 'Saint-Étienne-du-Vauvray'\n",
      " 'Saint-Benoît-sur-Loire' 'La Roche-Bernard' 'Roanne' 'Saint-Lizier'\n",
      " 'Rosenau' 'La Garenne-Colombes' 'Ribeauvillé' 'Saint-Chamas' 'Rungis'\n",
      " 'Suresnes' 'Saules' 'Favières' 'Fréjus' 'Calais' 'Briançon' 'Agen' 'Albi'\n",
      " 'Oucques' 'Evreux' 'La Ferté-Bernard' 'Ouistreham' 'Pailherols' 'Fréland'\n",
      " 'Gaillac' 'Saint-Savin' 'Briscous' 'Caromb' 'Epernay' 'Flayosc'\n",
      " 'Cairanne' 'Bracieux' 'Guiche' 'Montcenis' 'Anse' 'Arbois'\n",
      " 'Aubigny-sur-Nère' 'Aubenas' 'Hérouville-Saint-Clair' 'Cahors' 'Apremont'\n",
      " 'Pupillin' 'Châteaudun' 'Cannes' 'Brebières' 'Fouday' 'Coulombiers'\n",
      " 'Écouviez' 'Alès' 'Daglan' 'Arles' 'Thorigné-sur-Dué' 'Ambres' 'Langeais'\n",
      " 'Chambéry' 'Valloux' 'Châteauroux' 'Laroque-des-Albères' 'Combes'\n",
      " 'Juvigny-sous-Andaine' 'Cholet' 'Lempdes' 'Montcy-Notre-Dame' 'Castres'\n",
      " 'Boudes' 'Cluny' 'Orcines' 'Bâgé-le-Châtel' 'Laragne-Montéglin' 'Coligny'\n",
      " 'Châtelaillon-Plage' 'Irissarry' 'Ingersheim' 'Contres' 'Saché' 'Bayeux'\n",
      " 'Blienschwiller' 'Puy-en-Velay' \"Vallon-Pont-d'Arc\"\n",
      " 'Saint-André-de-Cubzac' 'Le Grand-Village-Plage' 'Chénérailles' 'Cuttoli'\n",
      " \"Saint-Denis-d'Oléron\" 'Châteauneuf-de-Gadagne' 'Combeaufontaine'\n",
      " 'Charlieu' 'Concarneau' 'Aurillac' 'Vaison-la-Romaine'\n",
      " 'Ramonville-Saint-Agne' 'Aups' 'Auray' 'Zimmerbach' 'Bourges'\n",
      " 'Saint-Julien-en-Vercors' 'Taillades' 'La Teste-de-Buch' 'Le Frenz'\n",
      " 'Aulon' 'Bonlieu' 'Billy' 'Caëstre' 'Sainte-Cécile' 'Varades' 'Étaples'\n",
      " 'Pont-Sainte-Marie' \"Puy-l'Évêque\" 'Veuil' 'Saintes'\n",
      " 'Wœlfling-lès-Sarreguemines' 'Uchaux' 'Prats-de-Mollo-la-Preste'\n",
      " 'Bergerac' 'Sarzeau' 'Bourg-en-Bresse' 'Alençon' 'Montagne' 'Balma'\n",
      " 'Villars' 'Munster' 'Pontivy' 'Villedieu' 'Roye' 'Sommières' 'Peillon'\n",
      " 'Tournemire' 'Vic-sur-Cère' 'Vaudevant' 'Pléneuf-Val-André' 'Berrwiller'\n",
      " 'Nanterre' 'Le Croisic' 'Veuves' 'Espaly-Saint-Marcel' 'Clara'\n",
      " 'Le Pin-au-Haras' 'Bagnères-de-Bigorre' 'Les Herbiers' 'Arvigna'\n",
      " 'Sainte-Foy-la-Grande' 'Sénas' 'Yerres' 'Grasse' 'Auzouville-sur-Saâne'\n",
      " 'Sancerre' 'Tulle' 'Pouillon' 'Plougasnou' 'Availles-Limouzine' 'Polliat'\n",
      " 'Ploubalay' 'Marennes' 'Hattstatt' 'Orsan' 'Perros-Guirec' 'Coutances'\n",
      " 'Tourtour' 'Vendôme' 'Montmarault' 'Mende' 'Maussane-les-Alpilles'\n",
      " 'Treffort' 'Le Coteau' 'Vallauris' 'Lagrasse' 'La Borne'\n",
      " 'Le Pin-la-Garenne' 'Rimbach-près-Guebwiller' 'Croutelle' 'Hambye'\n",
      " 'Carsac-Aillac' 'Natzwiller' 'Gundershoffen' 'Château-Thébaud'\n",
      " \"Noirmoutier-en-l'Île\" \"L'Albenc\" 'Chablis' 'Saint-Georges-sur-Cher'\n",
      " 'Vertou' 'Pigna' 'Notre-Dame-de-Bellecombe' 'Mondragon' 'Houlgate'\n",
      " 'Bernay' 'Moulins' 'Honfleur' 'Mirmande' 'Tournon-sur-Rhône' 'Bermicourt'\n",
      " 'Frontignan' 'Richardménil' 'Montanges' 'Lannepax'\n",
      " 'Villefranche-sur-Saône' 'Montgibaud' \"L'Ile-Bouchard\"\n",
      " 'Menthon-Saint-Bernard' 'La Chaize-Giraud' 'Muhlbach-sur-Munster' 'Vire'\n",
      " 'Labaroche' 'Belleville' 'Le Pont-de-Claix' 'Valras-Plage' 'Thuir'\n",
      " 'Fursac' 'Wambrechies' 'Solignac-sous-Roche' 'Auzeville-Tolosane']\n",
      "\n",
      "Total Unique = 618\n"
     ]
    }
   ],
   "source": [
    "print(f\"Unique Cities:\\n{france['city'].unique()}\\n\\nTotal Unique = {len(france['city'].unique())}\")"
   ],
   "metadata": {
    "collapsed": false,
    "ExecuteTime": {
     "end_time": "2023-08-04T21:01:32.734551Z",
     "start_time": "2023-08-04T21:01:32.634807Z"
    }
   }
  },
  {
   "cell_type": "markdown",
   "source": [
    "----\n",
    "&nbsp;\n",
    "## Ordinal encoding of the `price` column"
   ],
   "metadata": {
    "collapsed": false
   }
  },
  {
   "cell_type": "code",
   "execution_count": 182,
   "outputs": [
    {
     "data": {
      "text/plain": "['€€€€', '€€€', '€€', '€']"
     },
     "execution_count": 182,
     "metadata": {},
     "output_type": "execute_result"
    }
   ],
   "source": [
    "france['price'].unique().tolist()"
   ],
   "metadata": {
    "collapsed": false,
    "ExecuteTime": {
     "end_time": "2023-08-04T21:01:32.734733Z",
     "start_time": "2023-08-04T21:01:32.641014Z"
    }
   }
  },
  {
   "cell_type": "code",
   "execution_count": 183,
   "outputs": [],
   "source": [
    "price_mapping = {'€': 1, '€€': 2, '€€€': 3, '€€€€': 4}\n",
    "france['price_num'] = france['price'].map(price_mapping)\n",
    "\n",
    "cols = france.columns.tolist()\n",
    "# Find the index of the 'price' column\n",
    "price_index = cols.index('price')\n",
    "\n",
    "# Insert 'price_num' into the correct position in the column list\n",
    "cols.insert(price_index + 1, cols.pop(cols.index('price_num')))\n",
    "\n",
    "# Reindex the dataframe\n",
    "france_data = france[cols]"
   ],
   "metadata": {
    "collapsed": false,
    "ExecuteTime": {
     "end_time": "2023-08-04T21:01:32.737035Z",
     "start_time": "2023-08-04T21:01:32.647646Z"
    }
   }
  },
  {
   "cell_type": "code",
   "execution_count": 184,
   "outputs": [
    {
     "name": "stdout",
     "output_type": "stream",
     "text": [
      "<class 'pandas.core.frame.DataFrame'>\n",
      "RangeIndex: 1039 entries, 0 to 1038\n",
      "Data columns (total 12 columns):\n",
      " #   Column     Non-Null Count  Dtype  \n",
      "---  ------     --------------  -----  \n",
      " 0   name       1039 non-null   object \n",
      " 1   address    1039 non-null   object \n",
      " 2   city       1039 non-null   object \n",
      " 3   country    1039 non-null   object \n",
      " 4   price      1039 non-null   object \n",
      " 5   price_num  1039 non-null   int64  \n",
      " 6   cuisine    1039 non-null   object \n",
      " 7   url        995 non-null    object \n",
      " 8   award      1039 non-null   object \n",
      " 9   stars      1039 non-null   float64\n",
      " 10  longitude  1039 non-null   float64\n",
      " 11  latitude   1039 non-null   float64\n",
      "dtypes: float64(3), int64(1), object(8)\n",
      "memory usage: 97.5+ KB\n"
     ]
    }
   ],
   "source": [
    "france_data.info()"
   ],
   "metadata": {
    "collapsed": false,
    "ExecuteTime": {
     "end_time": "2023-08-04T21:01:32.742318Z",
     "start_time": "2023-08-04T21:01:32.652599Z"
    }
   }
  },
  {
   "cell_type": "markdown",
   "source": [
    "----\n",
    "&nbsp;\n",
    "## Location Visualisation"
   ],
   "metadata": {
    "collapsed": false
   }
  },
  {
   "cell_type": "code",
   "execution_count": 185,
   "outputs": [
    {
     "data": {
      "text/plain": "<AxesSubplot:xlabel='longitude', ylabel='latitude'>"
     },
     "execution_count": 185,
     "metadata": {},
     "output_type": "execute_result"
    },
    {
     "data": {
      "text/plain": "<Figure size 640x480 with 1 Axes>",
      "image/png": "[encoded data removed]"
     },
     "metadata": {},
     "output_type": "display_data"
    }
   ],
   "source": [
    "france_data.plot(kind='scatter', x='longitude', y='latitude', alpha=0.2)"
   ],
   "metadata": {
    "collapsed": false,
    "ExecuteTime": {
     "end_time": "2023-08-04T21:01:32.815602Z",
     "start_time": "2023-08-04T21:01:32.659342Z"
    }
   }
  },
  {
   "cell_type": "markdown",
   "source": [
    "Now these datapoints looks a lot more like France!\n",
    "\n",
    "There are clusters in the Côte d'Azur, following the Rhone and in Paris"
   ],
   "metadata": {
    "collapsed": false
   }
  },
  {
   "cell_type": "code",
   "execution_count": 186,
   "outputs": [
    {
     "data": {
      "text/plain": "<branca.colormap.LinearColormap at 0x7fe98a346040>",
      "text/html": "<svg height=\"40\" width=\"450\"><line x1=\"0\" y1=\"15\" x2=\"0\" y2=\"27\" style=\"stroke:#add8e6ff;stroke-width:2;\" /><line x1=\"1\" y1=\"15\" x2=\"1\" y2=\"27\" style=\"stroke:#add8e6ff;stroke-width:2;\" /><line x1=\"2\" y1=\"15\" x2=\"2\" y2=\"27\" style=\"stroke:#add8e6ff;stroke-width:2;\" /><line x1=\"3\" y1=\"15\" x2=\"3\" y2=\"27\" style=\"stroke:#add8e6ff;stroke-width:2;\" /><line x1=\"4\" y1=\"15\" x2=\"4\" y2=\"27\" style=\"stroke:#add8e6ff;stroke-width:2;\" /><line x1=\"5\" y1=\"15\" x2=\"5\" y2=\"27\" style=\"stroke:#add8e6ff;stroke-width:2;\" /><line x1=\"6\" y1=\"15\" x2=\"6\" y2=\"27\" style=\"stroke:#add8e6ff;stroke-width:2;\" /><line x1=\"7\" y1=\"15\" x2=\"7\" y2=\"27\" style=\"stroke:#add8e6ff;stroke-width:2;\" /><line x1=\"8\" y1=\"15\" x2=\"8\" y2=\"27\" style=\"stroke:#add8e6ff;stroke-width:2;\" /><line x1=\"9\" y1=\"15\" x2=\"9\" y2=\"27\" style=\"stroke:#add8e6ff;stroke-width:2;\" /><line x1=\"10\" y1=\"15\" x2=\"10\" y2=\"27\" style=\"stroke:#add8e6ff;stroke-width:2;\" /><line x1=\"11\" y1=\"15\" x2=\"11\" y2=\"27\" style=\"stroke:#add8e6ff;stroke-width:2;\" /><line x1=\"12\" y1=\"15\" x2=\"12\" y2=\"27\" style=\"stroke:#add8e6ff;stroke-width:2;\" /><line x1=\"13\" y1=\"15\" x2=\"13\" y2=\"27\" style=\"stroke:#add8e6ff;stroke-width:2;\" /><line x1=\"14\" y1=\"15\" x2=\"14\" y2=\"27\" style=\"stroke:#add8e6ff;stroke-width:2;\" /><line x1=\"15\" y1=\"15\" x2=\"15\" y2=\"27\" style=\"stroke:#add8e6ff;stroke-width:2;\" /><line x1=\"16\" y1=\"15\" x2=\"16\" y2=\"27\" style=\"stroke:#add8e6ff;stroke-width:2;\" /><line x1=\"17\" y1=\"15\" x2=\"17\" y2=\"27\" style=\"stroke:#add8e6ff;stroke-width:2;\" /><line x1=\"18\" y1=\"15\" x2=\"18\" y2=\"27\" style=\"stroke:#add8e6ff;stroke-width:2;\" /><line x1=\"19\" y1=\"15\" x2=\"19\" y2=\"27\" style=\"stroke:#add8e6ff;stroke-width:2;\" /><line x1=\"20\" y1=\"15\" x2=\"20\" y2=\"27\" style=\"stroke:#add8e6ff;stroke-width:2;\" /><line x1=\"21\" y1=\"15\" x2=\"21\" y2=\"27\" style=\"stroke:#add8e6ff;stroke-width:2;\" /><line x1=\"22\" y1=\"15\" x2=\"22\" y2=\"27\" style=\"stroke:#add8e6ff;stroke-width:2;\" /><line x1=\"23\" y1=\"15\" x2=\"23\" y2=\"27\" style=\"stroke:#add8e6ff;stroke-width:2;\" /><line x1=\"24\" y1=\"15\" x2=\"24\" y2=\"27\" style=\"stroke:#add8e6ff;stroke-width:2;\" /><line x1=\"25\" y1=\"15\" x2=\"25\" y2=\"27\" style=\"stroke:#add8e6ff;stroke-width:2;\" /><line x1=\"26\" y1=\"15\" x2=\"26\" y2=\"27\" style=\"stroke:#add8e6ff;stroke-width:2;\" /><line x1=\"27\" y1=\"15\" x2=\"27\" y2=\"27\" style=\"stroke:#add8e6ff;stroke-width:2;\" /><line x1=\"28\" y1=\"15\" x2=\"28\" y2=\"27\" style=\"stroke:#add8e6ff;stroke-width:2;\" /><line x1=\"29\" y1=\"15\" x2=\"29\" y2=\"27\" style=\"stroke:#add8e6ff;stroke-width:2;\" /><line x1=\"30\" y1=\"15\" x2=\"30\" y2=\"27\" style=\"stroke:#add8e6ff;stroke-width:2;\" /><line x1=\"31\" y1=\"15\" x2=\"31\" y2=\"27\" style=\"stroke:#add8e6ff;stroke-width:2;\" /><line x1=\"32\" y1=\"15\" x2=\"32\" y2=\"27\" style=\"stroke:#add8e6ff;stroke-width:2;\" /><line x1=\"33\" y1=\"15\" x2=\"33\" y2=\"27\" style=\"stroke:#add8e6ff;stroke-width:2;\" /><line x1=\"34\" y1=\"15\" x2=\"34\" y2=\"27\" style=\"stroke:#add8e6ff;stroke-width:2;\" /><line x1=\"35\" y1=\"15\" x2=\"35\" y2=\"27\" style=\"stroke:#add8e6ff;stroke-width:2;\" /><line x1=\"36\" y1=\"15\" x2=\"36\" y2=\"27\" style=\"stroke:#add8e6ff;stroke-width:2;\" /><line x1=\"37\" y1=\"15\" x2=\"37\" y2=\"27\" style=\"stroke:#add8e6ff;stroke-width:2;\" /><line x1=\"38\" y1=\"15\" x2=\"38\" y2=\"27\" style=\"stroke:#add8e6ff;stroke-width:2;\" /><line x1=\"39\" y1=\"15\" x2=\"39\" y2=\"27\" style=\"stroke:#add8e6ff;stroke-width:2;\" /><line x1=\"40\" y1=\"15\" x2=\"40\" y2=\"27\" style=\"stroke:#add8e6ff;stroke-width:2;\" /><line x1=\"41\" y1=\"15\" x2=\"41\" y2=\"27\" style=\"stroke:#add8e6ff;stroke-width:2;\" /><line x1=\"42\" y1=\"15\" x2=\"42\" y2=\"27\" style=\"stroke:#add8e6ff;stroke-width:2;\" /><line x1=\"43\" y1=\"15\" x2=\"43\" y2=\"27\" style=\"stroke:#add8e6ff;stroke-width:2;\" /><line x1=\"44\" y1=\"15\" x2=\"44\" y2=\"27\" style=\"stroke:#add8e6ff;stroke-width:2;\" /><line x1=\"45\" y1=\"15\" x2=\"45\" y2=\"27\" style=\"stroke:#add8e6ff;stroke-width:2;\" /><line x1=\"46\" y1=\"15\" x2=\"46\" y2=\"27\" style=\"stroke:#add8e6ff;stroke-width:2;\" /><line x1=\"47\" y1=\"15\" x2=\"47\" y2=\"27\" style=\"stroke:#add8e6ff;stroke-width:2;\" /><line x1=\"48\" y1=\"15\" x2=\"48\" y2=\"27\" style=\"stroke:#add8e6ff;stroke-width:2;\" /><line x1=\"49\" y1=\"15\" x2=\"49\" y2=\"27\" style=\"stroke:#add8e6ff;stroke-width:2;\" /><line x1=\"50\" y1=\"15\" x2=\"50\" y2=\"27\" style=\"stroke:#add8e6ff;stroke-width:2;\" /><line x1=\"51\" y1=\"15\" x2=\"51\" y2=\"27\" style=\"stroke:#add8e6ff;stroke-width:2;\" /><line x1=\"52\" y1=\"15\" x2=\"52\" y2=\"27\" style=\"stroke:#add8e6ff;stroke-width:2;\" /><line x1=\"53\" y1=\"15\" x2=\"53\" y2=\"27\" style=\"stroke:#add8e6ff;stroke-width:2;\" /><line x1=\"54\" y1=\"15\" x2=\"54\" y2=\"27\" style=\"stroke:#add8e6ff;stroke-width:2;\" /><line x1=\"55\" y1=\"15\" x2=\"55\" y2=\"27\" style=\"stroke:#add8e6ff;stroke-width:2;\" /><line x1=\"56\" y1=\"15\" x2=\"56\" y2=\"27\" style=\"stroke:#add8e6ff;stroke-width:2;\" /><line x1=\"57\" y1=\"15\" x2=\"57\" y2=\"27\" style=\"stroke:#add8e6ff;stroke-width:2;\" /><line x1=\"58\" y1=\"15\" x2=\"58\" y2=\"27\" style=\"stroke:#add8e6ff;stroke-width:2;\" /><line x1=\"59\" y1=\"15\" x2=\"59\" y2=\"27\" style=\"stroke:#add8e6ff;stroke-width:2;\" /><line x1=\"60\" y1=\"15\" x2=\"60\" y2=\"27\" style=\"stroke:#add8e6ff;stroke-width:2;\" /><line x1=\"61\" y1=\"15\" x2=\"61\" y2=\"27\" style=\"stroke:#add8e6ff;stroke-width:2;\" /><line x1=\"62\" y1=\"15\" x2=\"62\" y2=\"27\" style=\"stroke:#add8e6ff;stroke-width:2;\" /><line x1=\"63\" y1=\"15\" x2=\"63\" y2=\"27\" style=\"stroke:#add8e6ff;stroke-width:2;\" /><line x1=\"64\" y1=\"15\" x2=\"64\" y2=\"27\" style=\"stroke:#add8e6ff;stroke-width:2;\" /><line x1=\"65\" y1=\"15\" x2=\"65\" y2=\"27\" style=\"stroke:#add8e6ff;stroke-width:2;\" /><line x1=\"66\" y1=\"15\" x2=\"66\" y2=\"27\" style=\"stroke:#add8e6ff;stroke-width:2;\" /><line x1=\"67\" y1=\"15\" x2=\"67\" y2=\"27\" style=\"stroke:#add8e6ff;stroke-width:2;\" /><line x1=\"68\" y1=\"15\" x2=\"68\" y2=\"27\" style=\"stroke:#add8e6ff;stroke-width:2;\" /><line x1=\"69\" y1=\"15\" x2=\"69\" y2=\"27\" style=\"stroke:#add8e6ff;stroke-width:2;\" /><line x1=\"70\" y1=\"15\" x2=\"70\" y2=\"27\" style=\"stroke:#add8e6ff;stroke-width:2;\" /><line x1=\"71\" y1=\"15\" x2=\"71\" y2=\"27\" style=\"stroke:#add8e6ff;stroke-width:2;\" /><line x1=\"72\" y1=\"15\" x2=\"72\" y2=\"27\" style=\"stroke:#add8e6ff;stroke-width:2;\" /><line x1=\"73\" y1=\"15\" x2=\"73\" y2=\"27\" style=\"stroke:#add8e6ff;stroke-width:2;\" /><line x1=\"74\" y1=\"15\" x2=\"74\" y2=\"27\" style=\"stroke:#add8e6ff;stroke-width:2;\" /><line x1=\"75\" y1=\"15\" x2=\"75\" y2=\"27\" style=\"stroke:#add8e6ff;stroke-width:2;\" /><line x1=\"76\" y1=\"15\" x2=\"76\" y2=\"27\" style=\"stroke:#aed9e3ff;stroke-width:2;\" /><line x1=\"77\" y1=\"15\" x2=\"77\" y2=\"27\" style=\"stroke:#b0d9e0ff;stroke-width:2;\" /><line x1=\"78\" y1=\"15\" x2=\"78\" y2=\"27\" style=\"stroke:#b1daddff;stroke-width:2;\" /><line x1=\"79\" y1=\"15\" x2=\"79\" y2=\"27\" style=\"stroke:#b2dbdaff;stroke-width:2;\" /><line x1=\"80\" y1=\"15\" x2=\"80\" y2=\"27\" style=\"stroke:#b3dbd6ff;stroke-width:2;\" /><line x1=\"81\" y1=\"15\" x2=\"81\" y2=\"27\" style=\"stroke:#b4dcd3ff;stroke-width:2;\" /><line x1=\"82\" y1=\"15\" x2=\"82\" y2=\"27\" style=\"stroke:#b5dcd0ff;stroke-width:2;\" /><line x1=\"83\" y1=\"15\" x2=\"83\" y2=\"27\" style=\"stroke:#b6ddcdff;stroke-width:2;\" /><line x1=\"84\" y1=\"15\" x2=\"84\" y2=\"27\" style=\"stroke:#b7ddcaff;stroke-width:2;\" /><line x1=\"85\" y1=\"15\" x2=\"85\" y2=\"27\" style=\"stroke:#b8dec7ff;stroke-width:2;\" /><line x1=\"86\" y1=\"15\" x2=\"86\" y2=\"27\" style=\"stroke:#b9dec4ff;stroke-width:2;\" /><line x1=\"87\" y1=\"15\" x2=\"87\" y2=\"27\" style=\"stroke:#bbdfc1ff;stroke-width:2;\" /><line x1=\"88\" y1=\"15\" x2=\"88\" y2=\"27\" style=\"stroke:#bcdfbeff;stroke-width:2;\" /><line x1=\"89\" y1=\"15\" x2=\"89\" y2=\"27\" style=\"stroke:#bde0bbff;stroke-width:2;\" /><line x1=\"90\" y1=\"15\" x2=\"90\" y2=\"27\" style=\"stroke:#bee0b8ff;stroke-width:2;\" /><line x1=\"91\" y1=\"15\" x2=\"91\" y2=\"27\" style=\"stroke:#bfe1b5ff;stroke-width:2;\" /><line x1=\"92\" y1=\"15\" x2=\"92\" y2=\"27\" style=\"stroke:#c0e1b1ff;stroke-width:2;\" /><line x1=\"93\" y1=\"15\" x2=\"93\" y2=\"27\" style=\"stroke:#c1e2aeff;stroke-width:2;\" /><line x1=\"94\" y1=\"15\" x2=\"94\" y2=\"27\" style=\"stroke:#c2e2abff;stroke-width:2;\" /><line x1=\"95\" y1=\"15\" x2=\"95\" y2=\"27\" style=\"stroke:#c3e3a8ff;stroke-width:2;\" /><line x1=\"96\" y1=\"15\" x2=\"96\" y2=\"27\" style=\"stroke:#c4e3a5ff;stroke-width:2;\" /><line x1=\"97\" y1=\"15\" x2=\"97\" y2=\"27\" style=\"stroke:#c6e4a2ff;stroke-width:2;\" /><line x1=\"98\" y1=\"15\" x2=\"98\" y2=\"27\" style=\"stroke:#c7e49fff;stroke-width:2;\" /><line x1=\"99\" y1=\"15\" x2=\"99\" y2=\"27\" style=\"stroke:#c8e59cff;stroke-width:2;\" /><line x1=\"100\" y1=\"15\" x2=\"100\" y2=\"27\" style=\"stroke:#c9e699ff;stroke-width:2;\" /><line x1=\"101\" y1=\"15\" x2=\"101\" y2=\"27\" style=\"stroke:#cae696ff;stroke-width:2;\" /><line x1=\"102\" y1=\"15\" x2=\"102\" y2=\"27\" style=\"stroke:#cbe793ff;stroke-width:2;\" /><line x1=\"103\" y1=\"15\" x2=\"103\" y2=\"27\" style=\"stroke:#cce78fff;stroke-width:2;\" /><line x1=\"104\" y1=\"15\" x2=\"104\" y2=\"27\" style=\"stroke:#cde88cff;stroke-width:2;\" /><line x1=\"105\" y1=\"15\" x2=\"105\" y2=\"27\" style=\"stroke:#cee889ff;stroke-width:2;\" /><line x1=\"106\" y1=\"15\" x2=\"106\" y2=\"27\" style=\"stroke:#cfe986ff;stroke-width:2;\" /><line x1=\"107\" y1=\"15\" x2=\"107\" y2=\"27\" style=\"stroke:#d1e983ff;stroke-width:2;\" /><line x1=\"108\" y1=\"15\" x2=\"108\" y2=\"27\" style=\"stroke:#d2ea80ff;stroke-width:2;\" /><line x1=\"109\" y1=\"15\" x2=\"109\" y2=\"27\" style=\"stroke:#d3ea7dff;stroke-width:2;\" /><line x1=\"110\" y1=\"15\" x2=\"110\" y2=\"27\" style=\"stroke:#d4eb7aff;stroke-width:2;\" /><line x1=\"111\" y1=\"15\" x2=\"111\" y2=\"27\" style=\"stroke:#d5eb77ff;stroke-width:2;\" /><line x1=\"112\" y1=\"15\" x2=\"112\" y2=\"27\" style=\"stroke:#d6ec74ff;stroke-width:2;\" /><line x1=\"113\" y1=\"15\" x2=\"113\" y2=\"27\" style=\"stroke:#d7ec71ff;stroke-width:2;\" /><line x1=\"114\" y1=\"15\" x2=\"114\" y2=\"27\" style=\"stroke:#d8ed6eff;stroke-width:2;\" /><line x1=\"115\" y1=\"15\" x2=\"115\" y2=\"27\" style=\"stroke:#d9ed6aff;stroke-width:2;\" /><line x1=\"116\" y1=\"15\" x2=\"116\" y2=\"27\" style=\"stroke:#daee67ff;stroke-width:2;\" /><line x1=\"117\" y1=\"15\" x2=\"117\" y2=\"27\" style=\"stroke:#dcee64ff;stroke-width:2;\" /><line x1=\"118\" y1=\"15\" x2=\"118\" y2=\"27\" style=\"stroke:#ddef61ff;stroke-width:2;\" /><line x1=\"119\" y1=\"15\" x2=\"119\" y2=\"27\" style=\"stroke:#deef5eff;stroke-width:2;\" /><line x1=\"120\" y1=\"15\" x2=\"120\" y2=\"27\" style=\"stroke:#dff05bff;stroke-width:2;\" /><line x1=\"121\" y1=\"15\" x2=\"121\" y2=\"27\" style=\"stroke:#e0f158ff;stroke-width:2;\" /><line x1=\"122\" y1=\"15\" x2=\"122\" y2=\"27\" style=\"stroke:#e1f155ff;stroke-width:2;\" /><line x1=\"123\" y1=\"15\" x2=\"123\" y2=\"27\" style=\"stroke:#e2f252ff;stroke-width:2;\" /><line x1=\"124\" y1=\"15\" x2=\"124\" y2=\"27\" style=\"stroke:#e3f24fff;stroke-width:2;\" /><line x1=\"125\" y1=\"15\" x2=\"125\" y2=\"27\" style=\"stroke:#e4f34cff;stroke-width:2;\" /><line x1=\"126\" y1=\"15\" x2=\"126\" y2=\"27\" style=\"stroke:#e5f349ff;stroke-width:2;\" /><line x1=\"127\" y1=\"15\" x2=\"127\" y2=\"27\" style=\"stroke:#e7f445ff;stroke-width:2;\" /><line x1=\"128\" y1=\"15\" x2=\"128\" y2=\"27\" style=\"stroke:#e8f442ff;stroke-width:2;\" /><line x1=\"129\" y1=\"15\" x2=\"129\" y2=\"27\" style=\"stroke:#e9f53fff;stroke-width:2;\" /><line x1=\"130\" y1=\"15\" x2=\"130\" y2=\"27\" style=\"stroke:#eaf53cff;stroke-width:2;\" /><line x1=\"131\" y1=\"15\" x2=\"131\" y2=\"27\" style=\"stroke:#ebf639ff;stroke-width:2;\" /><line x1=\"132\" y1=\"15\" x2=\"132\" y2=\"27\" style=\"stroke:#ecf636ff;stroke-width:2;\" /><line x1=\"133\" y1=\"15\" x2=\"133\" y2=\"27\" style=\"stroke:#edf733ff;stroke-width:2;\" /><line x1=\"134\" y1=\"15\" x2=\"134\" y2=\"27\" style=\"stroke:#eef730ff;stroke-width:2;\" /><line x1=\"135\" y1=\"15\" x2=\"135\" y2=\"27\" style=\"stroke:#eff82dff;stroke-width:2;\" /><line x1=\"136\" y1=\"15\" x2=\"136\" y2=\"27\" style=\"stroke:#f0f82aff;stroke-width:2;\" /><line x1=\"137\" y1=\"15\" x2=\"137\" y2=\"27\" style=\"stroke:#f2f927ff;stroke-width:2;\" /><line x1=\"138\" y1=\"15\" x2=\"138\" y2=\"27\" style=\"stroke:#f3f923ff;stroke-width:2;\" /><line x1=\"139\" y1=\"15\" x2=\"139\" y2=\"27\" style=\"stroke:#f4fa20ff;stroke-width:2;\" /><line x1=\"140\" y1=\"15\" x2=\"140\" y2=\"27\" style=\"stroke:#f5fa1dff;stroke-width:2;\" /><line x1=\"141\" y1=\"15\" x2=\"141\" y2=\"27\" style=\"stroke:#f6fb1aff;stroke-width:2;\" /><line x1=\"142\" y1=\"15\" x2=\"142\" y2=\"27\" style=\"stroke:#f7fb17ff;stroke-width:2;\" /><line x1=\"143\" y1=\"15\" x2=\"143\" y2=\"27\" style=\"stroke:#f8fc14ff;stroke-width:2;\" /><line x1=\"144\" y1=\"15\" x2=\"144\" y2=\"27\" style=\"stroke:#f9fd11ff;stroke-width:2;\" /><line x1=\"145\" y1=\"15\" x2=\"145\" y2=\"27\" style=\"stroke:#fafd0eff;stroke-width:2;\" /><line x1=\"146\" y1=\"15\" x2=\"146\" y2=\"27\" style=\"stroke:#fbfe0bff;stroke-width:2;\" /><line x1=\"147\" y1=\"15\" x2=\"147\" y2=\"27\" style=\"stroke:#fdfe08ff;stroke-width:2;\" /><line x1=\"148\" y1=\"15\" x2=\"148\" y2=\"27\" style=\"stroke:#feff05ff;stroke-width:2;\" /><line x1=\"149\" y1=\"15\" x2=\"149\" y2=\"27\" style=\"stroke:#ffff02ff;stroke-width:2;\" /><line x1=\"150\" y1=\"15\" x2=\"150\" y2=\"27\" style=\"stroke:#ffff00ff;stroke-width:2;\" /><line x1=\"151\" y1=\"15\" x2=\"151\" y2=\"27\" style=\"stroke:#ffff00ff;stroke-width:2;\" /><line x1=\"152\" y1=\"15\" x2=\"152\" y2=\"27\" style=\"stroke:#fffe00ff;stroke-width:2;\" /><line x1=\"153\" y1=\"15\" x2=\"153\" y2=\"27\" style=\"stroke:#fffd00ff;stroke-width:2;\" /><line x1=\"154\" y1=\"15\" x2=\"154\" y2=\"27\" style=\"stroke:#fffd00ff;stroke-width:2;\" /><line x1=\"155\" y1=\"15\" x2=\"155\" y2=\"27\" style=\"stroke:#fffc00ff;stroke-width:2;\" /><line x1=\"156\" y1=\"15\" x2=\"156\" y2=\"27\" style=\"stroke:#fffc00ff;stroke-width:2;\" /><line x1=\"157\" y1=\"15\" x2=\"157\" y2=\"27\" style=\"stroke:#fffb00ff;stroke-width:2;\" /><line x1=\"158\" y1=\"15\" x2=\"158\" y2=\"27\" style=\"stroke:#fffa00ff;stroke-width:2;\" /><line x1=\"159\" y1=\"15\" x2=\"159\" y2=\"27\" style=\"stroke:#fffa00ff;stroke-width:2;\" /><line x1=\"160\" y1=\"15\" x2=\"160\" y2=\"27\" style=\"stroke:#fff900ff;stroke-width:2;\" /><line x1=\"161\" y1=\"15\" x2=\"161\" y2=\"27\" style=\"stroke:#fff900ff;stroke-width:2;\" /><line x1=\"162\" y1=\"15\" x2=\"162\" y2=\"27\" style=\"stroke:#fff800ff;stroke-width:2;\" /><line x1=\"163\" y1=\"15\" x2=\"163\" y2=\"27\" style=\"stroke:#fff700ff;stroke-width:2;\" /><line x1=\"164\" y1=\"15\" x2=\"164\" y2=\"27\" style=\"stroke:#fff700ff;stroke-width:2;\" /><line x1=\"165\" y1=\"15\" x2=\"165\" y2=\"27\" style=\"stroke:#fff600ff;stroke-width:2;\" /><line x1=\"166\" y1=\"15\" x2=\"166\" y2=\"27\" style=\"stroke:#fff600ff;stroke-width:2;\" /><line x1=\"167\" y1=\"15\" x2=\"167\" y2=\"27\" style=\"stroke:#fff500ff;stroke-width:2;\" /><line x1=\"168\" y1=\"15\" x2=\"168\" y2=\"27\" style=\"stroke:#fff400ff;stroke-width:2;\" /><line x1=\"169\" y1=\"15\" x2=\"169\" y2=\"27\" style=\"stroke:#fff400ff;stroke-width:2;\" /><line x1=\"170\" y1=\"15\" x2=\"170\" y2=\"27\" style=\"stroke:#fff300ff;stroke-width:2;\" /><line x1=\"171\" y1=\"15\" x2=\"171\" y2=\"27\" style=\"stroke:#fff300ff;stroke-width:2;\" /><line x1=\"172\" y1=\"15\" x2=\"172\" y2=\"27\" style=\"stroke:#fff200ff;stroke-width:2;\" /><line x1=\"173\" y1=\"15\" x2=\"173\" y2=\"27\" style=\"stroke:#fff100ff;stroke-width:2;\" /><line x1=\"174\" y1=\"15\" x2=\"174\" y2=\"27\" style=\"stroke:#fff100ff;stroke-width:2;\" /><line x1=\"175\" y1=\"15\" x2=\"175\" y2=\"27\" style=\"stroke:#fff000ff;stroke-width:2;\" /><line x1=\"176\" y1=\"15\" x2=\"176\" y2=\"27\" style=\"stroke:#fff000ff;stroke-width:2;\" /><line x1=\"177\" y1=\"15\" x2=\"177\" y2=\"27\" style=\"stroke:#ffef00ff;stroke-width:2;\" /><line x1=\"178\" y1=\"15\" x2=\"178\" y2=\"27\" style=\"stroke:#ffee00ff;stroke-width:2;\" /><line x1=\"179\" y1=\"15\" x2=\"179\" y2=\"27\" style=\"stroke:#ffee00ff;stroke-width:2;\" /><line x1=\"180\" y1=\"15\" x2=\"180\" y2=\"27\" style=\"stroke:#ffed00ff;stroke-width:2;\" /><line x1=\"181\" y1=\"15\" x2=\"181\" y2=\"27\" style=\"stroke:#ffed00ff;stroke-width:2;\" /><line x1=\"182\" y1=\"15\" x2=\"182\" y2=\"27\" style=\"stroke:#ffec00ff;stroke-width:2;\" /><line x1=\"183\" y1=\"15\" x2=\"183\" y2=\"27\" style=\"stroke:#ffeb00ff;stroke-width:2;\" /><line x1=\"184\" y1=\"15\" x2=\"184\" y2=\"27\" style=\"stroke:#ffeb00ff;stroke-width:2;\" /><line x1=\"185\" y1=\"15\" x2=\"185\" y2=\"27\" style=\"stroke:#ffea00ff;stroke-width:2;\" /><line x1=\"186\" y1=\"15\" x2=\"186\" y2=\"27\" style=\"stroke:#ffea00ff;stroke-width:2;\" /><line x1=\"187\" y1=\"15\" x2=\"187\" y2=\"27\" style=\"stroke:#ffe900ff;stroke-width:2;\" /><line x1=\"188\" y1=\"15\" x2=\"188\" y2=\"27\" style=\"stroke:#ffe800ff;stroke-width:2;\" /><line x1=\"189\" y1=\"15\" x2=\"189\" y2=\"27\" style=\"stroke:#ffe800ff;stroke-width:2;\" /><line x1=\"190\" y1=\"15\" x2=\"190\" y2=\"27\" style=\"stroke:#ffe700ff;stroke-width:2;\" /><line x1=\"191\" y1=\"15\" x2=\"191\" y2=\"27\" style=\"stroke:#ffe700ff;stroke-width:2;\" /><line x1=\"192\" y1=\"15\" x2=\"192\" y2=\"27\" style=\"stroke:#ffe600ff;stroke-width:2;\" /><line x1=\"193\" y1=\"15\" x2=\"193\" y2=\"27\" style=\"stroke:#ffe500ff;stroke-width:2;\" /><line x1=\"194\" y1=\"15\" x2=\"194\" y2=\"27\" style=\"stroke:#ffe500ff;stroke-width:2;\" /><line x1=\"195\" y1=\"15\" x2=\"195\" y2=\"27\" style=\"stroke:#ffe400ff;stroke-width:2;\" /><line x1=\"196\" y1=\"15\" x2=\"196\" y2=\"27\" style=\"stroke:#ffe400ff;stroke-width:2;\" /><line x1=\"197\" y1=\"15\" x2=\"197\" y2=\"27\" style=\"stroke:#ffe300ff;stroke-width:2;\" /><line x1=\"198\" y1=\"15\" x2=\"198\" y2=\"27\" style=\"stroke:#ffe200ff;stroke-width:2;\" /><line x1=\"199\" y1=\"15\" x2=\"199\" y2=\"27\" style=\"stroke:#ffe200ff;stroke-width:2;\" /><line x1=\"200\" y1=\"15\" x2=\"200\" y2=\"27\" style=\"stroke:#ffe100ff;stroke-width:2;\" /><line x1=\"201\" y1=\"15\" x2=\"201\" y2=\"27\" style=\"stroke:#ffe100ff;stroke-width:2;\" /><line x1=\"202\" y1=\"15\" x2=\"202\" y2=\"27\" style=\"stroke:#ffe000ff;stroke-width:2;\" /><line x1=\"203\" y1=\"15\" x2=\"203\" y2=\"27\" style=\"stroke:#ffdf00ff;stroke-width:2;\" /><line x1=\"204\" y1=\"15\" x2=\"204\" y2=\"27\" style=\"stroke:#ffdf00ff;stroke-width:2;\" /><line x1=\"205\" y1=\"15\" x2=\"205\" y2=\"27\" style=\"stroke:#ffde00ff;stroke-width:2;\" /><line x1=\"206\" y1=\"15\" x2=\"206\" y2=\"27\" style=\"stroke:#ffdd00ff;stroke-width:2;\" /><line x1=\"207\" y1=\"15\" x2=\"207\" y2=\"27\" style=\"stroke:#ffdd00ff;stroke-width:2;\" /><line x1=\"208\" y1=\"15\" x2=\"208\" y2=\"27\" style=\"stroke:#ffdc00ff;stroke-width:2;\" /><line x1=\"209\" y1=\"15\" x2=\"209\" y2=\"27\" style=\"stroke:#ffdc00ff;stroke-width:2;\" /><line x1=\"210\" y1=\"15\" x2=\"210\" y2=\"27\" style=\"stroke:#ffdb00ff;stroke-width:2;\" /><line x1=\"211\" y1=\"15\" x2=\"211\" y2=\"27\" style=\"stroke:#ffda00ff;stroke-width:2;\" /><line x1=\"212\" y1=\"15\" x2=\"212\" y2=\"27\" style=\"stroke:#ffda00ff;stroke-width:2;\" /><line x1=\"213\" y1=\"15\" x2=\"213\" y2=\"27\" style=\"stroke:#ffd900ff;stroke-width:2;\" /><line x1=\"214\" y1=\"15\" x2=\"214\" y2=\"27\" style=\"stroke:#ffd900ff;stroke-width:2;\" /><line x1=\"215\" y1=\"15\" x2=\"215\" y2=\"27\" style=\"stroke:#ffd800ff;stroke-width:2;\" /><line x1=\"216\" y1=\"15\" x2=\"216\" y2=\"27\" style=\"stroke:#ffd700ff;stroke-width:2;\" /><line x1=\"217\" y1=\"15\" x2=\"217\" y2=\"27\" style=\"stroke:#ffd700ff;stroke-width:2;\" /><line x1=\"218\" y1=\"15\" x2=\"218\" y2=\"27\" style=\"stroke:#ffd600ff;stroke-width:2;\" /><line x1=\"219\" y1=\"15\" x2=\"219\" y2=\"27\" style=\"stroke:#ffd600ff;stroke-width:2;\" /><line x1=\"220\" y1=\"15\" x2=\"220\" y2=\"27\" style=\"stroke:#ffd500ff;stroke-width:2;\" /><line x1=\"221\" y1=\"15\" x2=\"221\" y2=\"27\" style=\"stroke:#ffd400ff;stroke-width:2;\" /><line x1=\"222\" y1=\"15\" x2=\"222\" y2=\"27\" style=\"stroke:#ffd400ff;stroke-width:2;\" /><line x1=\"223\" y1=\"15\" x2=\"223\" y2=\"27\" style=\"stroke:#ffd300ff;stroke-width:2;\" /><line x1=\"224\" y1=\"15\" x2=\"224\" y2=\"27\" style=\"stroke:#ffd300ff;stroke-width:2;\" /><line x1=\"225\" y1=\"15\" x2=\"225\" y2=\"27\" style=\"stroke:#ffd200ff;stroke-width:2;\" /><line x1=\"226\" y1=\"15\" x2=\"226\" y2=\"27\" style=\"stroke:#ffd100ff;stroke-width:2;\" /><line x1=\"227\" y1=\"15\" x2=\"227\" y2=\"27\" style=\"stroke:#ffd100ff;stroke-width:2;\" /><line x1=\"228\" y1=\"15\" x2=\"228\" y2=\"27\" style=\"stroke:#ffd000ff;stroke-width:2;\" /><line x1=\"229\" y1=\"15\" x2=\"229\" y2=\"27\" style=\"stroke:#ffd000ff;stroke-width:2;\" /><line x1=\"230\" y1=\"15\" x2=\"230\" y2=\"27\" style=\"stroke:#ffcf00ff;stroke-width:2;\" /><line x1=\"231\" y1=\"15\" x2=\"231\" y2=\"27\" style=\"stroke:#ffce00ff;stroke-width:2;\" /><line x1=\"232\" y1=\"15\" x2=\"232\" y2=\"27\" style=\"stroke:#ffce00ff;stroke-width:2;\" /><line x1=\"233\" y1=\"15\" x2=\"233\" y2=\"27\" style=\"stroke:#ffcd00ff;stroke-width:2;\" /><line x1=\"234\" y1=\"15\" x2=\"234\" y2=\"27\" style=\"stroke:#ffcd00ff;stroke-width:2;\" /><line x1=\"235\" y1=\"15\" x2=\"235\" y2=\"27\" style=\"stroke:#ffcc00ff;stroke-width:2;\" /><line x1=\"236\" y1=\"15\" x2=\"236\" y2=\"27\" style=\"stroke:#ffcb00ff;stroke-width:2;\" /><line x1=\"237\" y1=\"15\" x2=\"237\" y2=\"27\" style=\"stroke:#ffcb00ff;stroke-width:2;\" /><line x1=\"238\" y1=\"15\" x2=\"238\" y2=\"27\" style=\"stroke:#ffca00ff;stroke-width:2;\" /><line x1=\"239\" y1=\"15\" x2=\"239\" y2=\"27\" style=\"stroke:#ffca00ff;stroke-width:2;\" /><line x1=\"240\" y1=\"15\" x2=\"240\" y2=\"27\" style=\"stroke:#ffc900ff;stroke-width:2;\" /><line x1=\"241\" y1=\"15\" x2=\"241\" y2=\"27\" style=\"stroke:#ffc800ff;stroke-width:2;\" /><line x1=\"242\" y1=\"15\" x2=\"242\" y2=\"27\" style=\"stroke:#ffc800ff;stroke-width:2;\" /><line x1=\"243\" y1=\"15\" x2=\"243\" y2=\"27\" style=\"stroke:#ffc700ff;stroke-width:2;\" /><line x1=\"244\" y1=\"15\" x2=\"244\" y2=\"27\" style=\"stroke:#ffc700ff;stroke-width:2;\" /><line x1=\"245\" y1=\"15\" x2=\"245\" y2=\"27\" style=\"stroke:#ffc600ff;stroke-width:2;\" /><line x1=\"246\" y1=\"15\" x2=\"246\" y2=\"27\" style=\"stroke:#ffc500ff;stroke-width:2;\" /><line x1=\"247\" y1=\"15\" x2=\"247\" y2=\"27\" style=\"stroke:#ffc500ff;stroke-width:2;\" /><line x1=\"248\" y1=\"15\" x2=\"248\" y2=\"27\" style=\"stroke:#ffc400ff;stroke-width:2;\" /><line x1=\"249\" y1=\"15\" x2=\"249\" y2=\"27\" style=\"stroke:#ffc400ff;stroke-width:2;\" /><line x1=\"250\" y1=\"15\" x2=\"250\" y2=\"27\" style=\"stroke:#ffc300ff;stroke-width:2;\" /><line x1=\"251\" y1=\"15\" x2=\"251\" y2=\"27\" style=\"stroke:#ffc200ff;stroke-width:2;\" /><line x1=\"252\" y1=\"15\" x2=\"252\" y2=\"27\" style=\"stroke:#ffc200ff;stroke-width:2;\" /><line x1=\"253\" y1=\"15\" x2=\"253\" y2=\"27\" style=\"stroke:#ffc100ff;stroke-width:2;\" /><line x1=\"254\" y1=\"15\" x2=\"254\" y2=\"27\" style=\"stroke:#ffc100ff;stroke-width:2;\" /><line x1=\"255\" y1=\"15\" x2=\"255\" y2=\"27\" style=\"stroke:#ffc000ff;stroke-width:2;\" /><line x1=\"256\" y1=\"15\" x2=\"256\" y2=\"27\" style=\"stroke:#ffbf00ff;stroke-width:2;\" /><line x1=\"257\" y1=\"15\" x2=\"257\" y2=\"27\" style=\"stroke:#ffbf00ff;stroke-width:2;\" /><line x1=\"258\" y1=\"15\" x2=\"258\" y2=\"27\" style=\"stroke:#ffbe00ff;stroke-width:2;\" /><line x1=\"259\" y1=\"15\" x2=\"259\" y2=\"27\" style=\"stroke:#ffbd00ff;stroke-width:2;\" /><line x1=\"260\" y1=\"15\" x2=\"260\" y2=\"27\" style=\"stroke:#ffbd00ff;stroke-width:2;\" /><line x1=\"261\" y1=\"15\" x2=\"261\" y2=\"27\" style=\"stroke:#ffbc00ff;stroke-width:2;\" /><line x1=\"262\" y1=\"15\" x2=\"262\" y2=\"27\" style=\"stroke:#ffbc00ff;stroke-width:2;\" /><line x1=\"263\" y1=\"15\" x2=\"263\" y2=\"27\" style=\"stroke:#ffbb00ff;stroke-width:2;\" /><line x1=\"264\" y1=\"15\" x2=\"264\" y2=\"27\" style=\"stroke:#ffba00ff;stroke-width:2;\" /><line x1=\"265\" y1=\"15\" x2=\"265\" y2=\"27\" style=\"stroke:#ffba00ff;stroke-width:2;\" /><line x1=\"266\" y1=\"15\" x2=\"266\" y2=\"27\" style=\"stroke:#ffb900ff;stroke-width:2;\" /><line x1=\"267\" y1=\"15\" x2=\"267\" y2=\"27\" style=\"stroke:#ffb900ff;stroke-width:2;\" /><line x1=\"268\" y1=\"15\" x2=\"268\" y2=\"27\" style=\"stroke:#ffb800ff;stroke-width:2;\" /><line x1=\"269\" y1=\"15\" x2=\"269\" y2=\"27\" style=\"stroke:#ffb700ff;stroke-width:2;\" /><line x1=\"270\" y1=\"15\" x2=\"270\" y2=\"27\" style=\"stroke:#ffb700ff;stroke-width:2;\" /><line x1=\"271\" y1=\"15\" x2=\"271\" y2=\"27\" style=\"stroke:#ffb600ff;stroke-width:2;\" /><line x1=\"272\" y1=\"15\" x2=\"272\" y2=\"27\" style=\"stroke:#ffb600ff;stroke-width:2;\" /><line x1=\"273\" y1=\"15\" x2=\"273\" y2=\"27\" style=\"stroke:#ffb500ff;stroke-width:2;\" /><line x1=\"274\" y1=\"15\" x2=\"274\" y2=\"27\" style=\"stroke:#ffb400ff;stroke-width:2;\" /><line x1=\"275\" y1=\"15\" x2=\"275\" y2=\"27\" style=\"stroke:#ffb400ff;stroke-width:2;\" /><line x1=\"276\" y1=\"15\" x2=\"276\" y2=\"27\" style=\"stroke:#ffb300ff;stroke-width:2;\" /><line x1=\"277\" y1=\"15\" x2=\"277\" y2=\"27\" style=\"stroke:#ffb300ff;stroke-width:2;\" /><line x1=\"278\" y1=\"15\" x2=\"278\" y2=\"27\" style=\"stroke:#ffb200ff;stroke-width:2;\" /><line x1=\"279\" y1=\"15\" x2=\"279\" y2=\"27\" style=\"stroke:#ffb100ff;stroke-width:2;\" /><line x1=\"280\" y1=\"15\" x2=\"280\" y2=\"27\" style=\"stroke:#ffb100ff;stroke-width:2;\" /><line x1=\"281\" y1=\"15\" x2=\"281\" y2=\"27\" style=\"stroke:#ffb000ff;stroke-width:2;\" /><line x1=\"282\" y1=\"15\" x2=\"282\" y2=\"27\" style=\"stroke:#ffb000ff;stroke-width:2;\" /><line x1=\"283\" y1=\"15\" x2=\"283\" y2=\"27\" style=\"stroke:#ffaf00ff;stroke-width:2;\" /><line x1=\"284\" y1=\"15\" x2=\"284\" y2=\"27\" style=\"stroke:#ffae00ff;stroke-width:2;\" /><line x1=\"285\" y1=\"15\" x2=\"285\" y2=\"27\" style=\"stroke:#ffae00ff;stroke-width:2;\" /><line x1=\"286\" y1=\"15\" x2=\"286\" y2=\"27\" style=\"stroke:#ffad00ff;stroke-width:2;\" /><line x1=\"287\" y1=\"15\" x2=\"287\" y2=\"27\" style=\"stroke:#ffad00ff;stroke-width:2;\" /><line x1=\"288\" y1=\"15\" x2=\"288\" y2=\"27\" style=\"stroke:#ffac00ff;stroke-width:2;\" /><line x1=\"289\" y1=\"15\" x2=\"289\" y2=\"27\" style=\"stroke:#ffab00ff;stroke-width:2;\" /><line x1=\"290\" y1=\"15\" x2=\"290\" y2=\"27\" style=\"stroke:#ffab00ff;stroke-width:2;\" /><line x1=\"291\" y1=\"15\" x2=\"291\" y2=\"27\" style=\"stroke:#ffaa00ff;stroke-width:2;\" /><line x1=\"292\" y1=\"15\" x2=\"292\" y2=\"27\" style=\"stroke:#ffaa00ff;stroke-width:2;\" /><line x1=\"293\" y1=\"15\" x2=\"293\" y2=\"27\" style=\"stroke:#ffa900ff;stroke-width:2;\" /><line x1=\"294\" y1=\"15\" x2=\"294\" y2=\"27\" style=\"stroke:#ffa800ff;stroke-width:2;\" /><line x1=\"295\" y1=\"15\" x2=\"295\" y2=\"27\" style=\"stroke:#ffa800ff;stroke-width:2;\" /><line x1=\"296\" y1=\"15\" x2=\"296\" y2=\"27\" style=\"stroke:#ffa700ff;stroke-width:2;\" /><line x1=\"297\" y1=\"15\" x2=\"297\" y2=\"27\" style=\"stroke:#ffa700ff;stroke-width:2;\" /><line x1=\"298\" y1=\"15\" x2=\"298\" y2=\"27\" style=\"stroke:#ffa600ff;stroke-width:2;\" /><line x1=\"299\" y1=\"15\" x2=\"299\" y2=\"27\" style=\"stroke:#ffa500ff;stroke-width:2;\" /><line x1=\"300\" y1=\"15\" x2=\"300\" y2=\"27\" style=\"stroke:#ffa400ff;stroke-width:2;\" /><line x1=\"301\" y1=\"15\" x2=\"301\" y2=\"27\" style=\"stroke:#ffa300ff;stroke-width:2;\" /><line x1=\"302\" y1=\"15\" x2=\"302\" y2=\"27\" style=\"stroke:#ffa200ff;stroke-width:2;\" /><line x1=\"303\" y1=\"15\" x2=\"303\" y2=\"27\" style=\"stroke:#ffa100ff;stroke-width:2;\" /><line x1=\"304\" y1=\"15\" x2=\"304\" y2=\"27\" style=\"stroke:#ffa000ff;stroke-width:2;\" /><line x1=\"305\" y1=\"15\" x2=\"305\" y2=\"27\" style=\"stroke:#ff9f00ff;stroke-width:2;\" /><line x1=\"306\" y1=\"15\" x2=\"306\" y2=\"27\" style=\"stroke:#ff9e00ff;stroke-width:2;\" /><line x1=\"307\" y1=\"15\" x2=\"307\" y2=\"27\" style=\"stroke:#ff9d00ff;stroke-width:2;\" /><line x1=\"308\" y1=\"15\" x2=\"308\" y2=\"27\" style=\"stroke:#ff9c00ff;stroke-width:2;\" /><line x1=\"309\" y1=\"15\" x2=\"309\" y2=\"27\" style=\"stroke:#ff9a00ff;stroke-width:2;\" /><line x1=\"310\" y1=\"15\" x2=\"310\" y2=\"27\" style=\"stroke:#ff9900ff;stroke-width:2;\" /><line x1=\"311\" y1=\"15\" x2=\"311\" y2=\"27\" style=\"stroke:#ff9800ff;stroke-width:2;\" /><line x1=\"312\" y1=\"15\" x2=\"312\" y2=\"27\" style=\"stroke:#ff9700ff;stroke-width:2;\" /><line x1=\"313\" y1=\"15\" x2=\"313\" y2=\"27\" style=\"stroke:#ff9600ff;stroke-width:2;\" /><line x1=\"314\" y1=\"15\" x2=\"314\" y2=\"27\" style=\"stroke:#ff9500ff;stroke-width:2;\" /><line x1=\"315\" y1=\"15\" x2=\"315\" y2=\"27\" style=\"stroke:#ff9400ff;stroke-width:2;\" /><line x1=\"316\" y1=\"15\" x2=\"316\" y2=\"27\" style=\"stroke:#ff9300ff;stroke-width:2;\" /><line x1=\"317\" y1=\"15\" x2=\"317\" y2=\"27\" style=\"stroke:#ff9200ff;stroke-width:2;\" /><line x1=\"318\" y1=\"15\" x2=\"318\" y2=\"27\" style=\"stroke:#ff9000ff;stroke-width:2;\" /><line x1=\"319\" y1=\"15\" x2=\"319\" y2=\"27\" style=\"stroke:#ff8f00ff;stroke-width:2;\" /><line x1=\"320\" y1=\"15\" x2=\"320\" y2=\"27\" style=\"stroke:#ff8e00ff;stroke-width:2;\" /><line x1=\"321\" y1=\"15\" x2=\"321\" y2=\"27\" style=\"stroke:#ff8d00ff;stroke-width:2;\" /><line x1=\"322\" y1=\"15\" x2=\"322\" y2=\"27\" style=\"stroke:#ff8c00ff;stroke-width:2;\" /><line x1=\"323\" y1=\"15\" x2=\"323\" y2=\"27\" style=\"stroke:#ff8b00ff;stroke-width:2;\" /><line x1=\"324\" y1=\"15\" x2=\"324\" y2=\"27\" style=\"stroke:#ff8a00ff;stroke-width:2;\" /><line x1=\"325\" y1=\"15\" x2=\"325\" y2=\"27\" style=\"stroke:#ff8900ff;stroke-width:2;\" /><line x1=\"326\" y1=\"15\" x2=\"326\" y2=\"27\" style=\"stroke:#ff8800ff;stroke-width:2;\" /><line x1=\"327\" y1=\"15\" x2=\"327\" y2=\"27\" style=\"stroke:#ff8700ff;stroke-width:2;\" /><line x1=\"328\" y1=\"15\" x2=\"328\" y2=\"27\" style=\"stroke:#ff8500ff;stroke-width:2;\" /><line x1=\"329\" y1=\"15\" x2=\"329\" y2=\"27\" style=\"stroke:#ff8400ff;stroke-width:2;\" /><line x1=\"330\" y1=\"15\" x2=\"330\" y2=\"27\" style=\"stroke:#ff8300ff;stroke-width:2;\" /><line x1=\"331\" y1=\"15\" x2=\"331\" y2=\"27\" style=\"stroke:#ff8200ff;stroke-width:2;\" /><line x1=\"332\" y1=\"15\" x2=\"332\" y2=\"27\" style=\"stroke:#ff8100ff;stroke-width:2;\" /><line x1=\"333\" y1=\"15\" x2=\"333\" y2=\"27\" style=\"stroke:#ff8000ff;stroke-width:2;\" /><line x1=\"334\" y1=\"15\" x2=\"334\" y2=\"27\" style=\"stroke:#ff7f00ff;stroke-width:2;\" /><line x1=\"335\" y1=\"15\" x2=\"335\" y2=\"27\" style=\"stroke:#ff7e00ff;stroke-width:2;\" /><line x1=\"336\" y1=\"15\" x2=\"336\" y2=\"27\" style=\"stroke:#ff7d00ff;stroke-width:2;\" /><line x1=\"337\" y1=\"15\" x2=\"337\" y2=\"27\" style=\"stroke:#ff7b00ff;stroke-width:2;\" /><line x1=\"338\" y1=\"15\" x2=\"338\" y2=\"27\" style=\"stroke:#ff7a00ff;stroke-width:2;\" /><line x1=\"339\" y1=\"15\" x2=\"339\" y2=\"27\" style=\"stroke:#ff7900ff;stroke-width:2;\" /><line x1=\"340\" y1=\"15\" x2=\"340\" y2=\"27\" style=\"stroke:#ff7800ff;stroke-width:2;\" /><line x1=\"341\" y1=\"15\" x2=\"341\" y2=\"27\" style=\"stroke:#ff7700ff;stroke-width:2;\" /><line x1=\"342\" y1=\"15\" x2=\"342\" y2=\"27\" style=\"stroke:#ff7600ff;stroke-width:2;\" /><line x1=\"343\" y1=\"15\" x2=\"343\" y2=\"27\" style=\"stroke:#ff7500ff;stroke-width:2;\" /><line x1=\"344\" y1=\"15\" x2=\"344\" y2=\"27\" style=\"stroke:#ff7400ff;stroke-width:2;\" /><line x1=\"345\" y1=\"15\" x2=\"345\" y2=\"27\" style=\"stroke:#ff7300ff;stroke-width:2;\" /><line x1=\"346\" y1=\"15\" x2=\"346\" y2=\"27\" style=\"stroke:#ff7100ff;stroke-width:2;\" /><line x1=\"347\" y1=\"15\" x2=\"347\" y2=\"27\" style=\"stroke:#ff7000ff;stroke-width:2;\" /><line x1=\"348\" y1=\"15\" x2=\"348\" y2=\"27\" style=\"stroke:#ff6f00ff;stroke-width:2;\" /><line x1=\"349\" y1=\"15\" x2=\"349\" y2=\"27\" style=\"stroke:#ff6e00ff;stroke-width:2;\" /><line x1=\"350\" y1=\"15\" x2=\"350\" y2=\"27\" style=\"stroke:#ff6d00ff;stroke-width:2;\" /><line x1=\"351\" y1=\"15\" x2=\"351\" y2=\"27\" style=\"stroke:#ff6c00ff;stroke-width:2;\" /><line x1=\"352\" y1=\"15\" x2=\"352\" y2=\"27\" style=\"stroke:#ff6b00ff;stroke-width:2;\" /><line x1=\"353\" y1=\"15\" x2=\"353\" y2=\"27\" style=\"stroke:#ff6a00ff;stroke-width:2;\" /><line x1=\"354\" y1=\"15\" x2=\"354\" y2=\"27\" style=\"stroke:#ff6900ff;stroke-width:2;\" /><line x1=\"355\" y1=\"15\" x2=\"355\" y2=\"27\" style=\"stroke:#ff6800ff;stroke-width:2;\" /><line x1=\"356\" y1=\"15\" x2=\"356\" y2=\"27\" style=\"stroke:#ff6600ff;stroke-width:2;\" /><line x1=\"357\" y1=\"15\" x2=\"357\" y2=\"27\" style=\"stroke:#ff6500ff;stroke-width:2;\" /><line x1=\"358\" y1=\"15\" x2=\"358\" y2=\"27\" style=\"stroke:#ff6400ff;stroke-width:2;\" /><line x1=\"359\" y1=\"15\" x2=\"359\" y2=\"27\" style=\"stroke:#ff6300ff;stroke-width:2;\" /><line x1=\"360\" y1=\"15\" x2=\"360\" y2=\"27\" style=\"stroke:#ff6200ff;stroke-width:2;\" /><line x1=\"361\" y1=\"15\" x2=\"361\" y2=\"27\" style=\"stroke:#ff6100ff;stroke-width:2;\" /><line x1=\"362\" y1=\"15\" x2=\"362\" y2=\"27\" style=\"stroke:#ff6000ff;stroke-width:2;\" /><line x1=\"363\" y1=\"15\" x2=\"363\" y2=\"27\" style=\"stroke:#ff5f00ff;stroke-width:2;\" /><line x1=\"364\" y1=\"15\" x2=\"364\" y2=\"27\" style=\"stroke:#ff5e00ff;stroke-width:2;\" /><line x1=\"365\" y1=\"15\" x2=\"365\" y2=\"27\" style=\"stroke:#ff5c00ff;stroke-width:2;\" /><line x1=\"366\" y1=\"15\" x2=\"366\" y2=\"27\" style=\"stroke:#ff5b00ff;stroke-width:2;\" /><line x1=\"367\" y1=\"15\" x2=\"367\" y2=\"27\" style=\"stroke:#ff5a00ff;stroke-width:2;\" /><line x1=\"368\" y1=\"15\" x2=\"368\" y2=\"27\" style=\"stroke:#ff5900ff;stroke-width:2;\" /><line x1=\"369\" y1=\"15\" x2=\"369\" y2=\"27\" style=\"stroke:#ff5800ff;stroke-width:2;\" /><line x1=\"370\" y1=\"15\" x2=\"370\" y2=\"27\" style=\"stroke:#ff5700ff;stroke-width:2;\" /><line x1=\"371\" y1=\"15\" x2=\"371\" y2=\"27\" style=\"stroke:#ff5600ff;stroke-width:2;\" /><line x1=\"372\" y1=\"15\" x2=\"372\" y2=\"27\" style=\"stroke:#ff5500ff;stroke-width:2;\" /><line x1=\"373\" y1=\"15\" x2=\"373\" y2=\"27\" style=\"stroke:#ff5400ff;stroke-width:2;\" /><line x1=\"374\" y1=\"15\" x2=\"374\" y2=\"27\" style=\"stroke:#ff5300ff;stroke-width:2;\" /><line x1=\"375\" y1=\"15\" x2=\"375\" y2=\"27\" style=\"stroke:#ff5100ff;stroke-width:2;\" /><line x1=\"376\" y1=\"15\" x2=\"376\" y2=\"27\" style=\"stroke:#ff5000ff;stroke-width:2;\" /><line x1=\"377\" y1=\"15\" x2=\"377\" y2=\"27\" style=\"stroke:#ff4f00ff;stroke-width:2;\" /><line x1=\"378\" y1=\"15\" x2=\"378\" y2=\"27\" style=\"stroke:#ff4e00ff;stroke-width:2;\" /><line x1=\"379\" y1=\"15\" x2=\"379\" y2=\"27\" style=\"stroke:#ff4d00ff;stroke-width:2;\" /><line x1=\"380\" y1=\"15\" x2=\"380\" y2=\"27\" style=\"stroke:#ff4c00ff;stroke-width:2;\" /><line x1=\"381\" y1=\"15\" x2=\"381\" y2=\"27\" style=\"stroke:#ff4b00ff;stroke-width:2;\" /><line x1=\"382\" y1=\"15\" x2=\"382\" y2=\"27\" style=\"stroke:#ff4a00ff;stroke-width:2;\" /><line x1=\"383\" y1=\"15\" x2=\"383\" y2=\"27\" style=\"stroke:#ff4900ff;stroke-width:2;\" /><line x1=\"384\" y1=\"15\" x2=\"384\" y2=\"27\" style=\"stroke:#ff4700ff;stroke-width:2;\" /><line x1=\"385\" y1=\"15\" x2=\"385\" y2=\"27\" style=\"stroke:#ff4600ff;stroke-width:2;\" /><line x1=\"386\" y1=\"15\" x2=\"386\" y2=\"27\" style=\"stroke:#ff4500ff;stroke-width:2;\" /><line x1=\"387\" y1=\"15\" x2=\"387\" y2=\"27\" style=\"stroke:#ff4400ff;stroke-width:2;\" /><line x1=\"388\" y1=\"15\" x2=\"388\" y2=\"27\" style=\"stroke:#ff4300ff;stroke-width:2;\" /><line x1=\"389\" y1=\"15\" x2=\"389\" y2=\"27\" style=\"stroke:#ff4200ff;stroke-width:2;\" /><line x1=\"390\" y1=\"15\" x2=\"390\" y2=\"27\" style=\"stroke:#ff4100ff;stroke-width:2;\" /><line x1=\"391\" y1=\"15\" x2=\"391\" y2=\"27\" style=\"stroke:#ff4000ff;stroke-width:2;\" /><line x1=\"392\" y1=\"15\" x2=\"392\" y2=\"27\" style=\"stroke:#ff3f00ff;stroke-width:2;\" /><line x1=\"393\" y1=\"15\" x2=\"393\" y2=\"27\" style=\"stroke:#ff3d00ff;stroke-width:2;\" /><line x1=\"394\" y1=\"15\" x2=\"394\" y2=\"27\" style=\"stroke:#ff3c00ff;stroke-width:2;\" /><line x1=\"395\" y1=\"15\" x2=\"395\" y2=\"27\" style=\"stroke:#ff3b00ff;stroke-width:2;\" /><line x1=\"396\" y1=\"15\" x2=\"396\" y2=\"27\" style=\"stroke:#ff3a00ff;stroke-width:2;\" /><line x1=\"397\" y1=\"15\" x2=\"397\" y2=\"27\" style=\"stroke:#ff3900ff;stroke-width:2;\" /><line x1=\"398\" y1=\"15\" x2=\"398\" y2=\"27\" style=\"stroke:#ff3800ff;stroke-width:2;\" /><line x1=\"399\" y1=\"15\" x2=\"399\" y2=\"27\" style=\"stroke:#ff3700ff;stroke-width:2;\" /><line x1=\"400\" y1=\"15\" x2=\"400\" y2=\"27\" style=\"stroke:#ff3600ff;stroke-width:2;\" /><line x1=\"401\" y1=\"15\" x2=\"401\" y2=\"27\" style=\"stroke:#ff3500ff;stroke-width:2;\" /><line x1=\"402\" y1=\"15\" x2=\"402\" y2=\"27\" style=\"stroke:#ff3400ff;stroke-width:2;\" /><line x1=\"403\" y1=\"15\" x2=\"403\" y2=\"27\" style=\"stroke:#ff3200ff;stroke-width:2;\" /><line x1=\"404\" y1=\"15\" x2=\"404\" y2=\"27\" style=\"stroke:#ff3100ff;stroke-width:2;\" /><line x1=\"405\" y1=\"15\" x2=\"405\" y2=\"27\" style=\"stroke:#ff3000ff;stroke-width:2;\" /><line x1=\"406\" y1=\"15\" x2=\"406\" y2=\"27\" style=\"stroke:#ff2f00ff;stroke-width:2;\" /><line x1=\"407\" y1=\"15\" x2=\"407\" y2=\"27\" style=\"stroke:#ff2e00ff;stroke-width:2;\" /><line x1=\"408\" y1=\"15\" x2=\"408\" y2=\"27\" style=\"stroke:#ff2d00ff;stroke-width:2;\" /><line x1=\"409\" y1=\"15\" x2=\"409\" y2=\"27\" style=\"stroke:#ff2c00ff;stroke-width:2;\" /><line x1=\"410\" y1=\"15\" x2=\"410\" y2=\"27\" style=\"stroke:#ff2b00ff;stroke-width:2;\" /><line x1=\"411\" y1=\"15\" x2=\"411\" y2=\"27\" style=\"stroke:#ff2a00ff;stroke-width:2;\" /><line x1=\"412\" y1=\"15\" x2=\"412\" y2=\"27\" style=\"stroke:#ff2800ff;stroke-width:2;\" /><line x1=\"413\" y1=\"15\" x2=\"413\" y2=\"27\" style=\"stroke:#ff2700ff;stroke-width:2;\" /><line x1=\"414\" y1=\"15\" x2=\"414\" y2=\"27\" style=\"stroke:#ff2600ff;stroke-width:2;\" /><line x1=\"415\" y1=\"15\" x2=\"415\" y2=\"27\" style=\"stroke:#ff2500ff;stroke-width:2;\" /><line x1=\"416\" y1=\"15\" x2=\"416\" y2=\"27\" style=\"stroke:#ff2400ff;stroke-width:2;\" /><line x1=\"417\" y1=\"15\" x2=\"417\" y2=\"27\" style=\"stroke:#ff2300ff;stroke-width:2;\" /><line x1=\"418\" y1=\"15\" x2=\"418\" y2=\"27\" style=\"stroke:#ff2200ff;stroke-width:2;\" /><line x1=\"419\" y1=\"15\" x2=\"419\" y2=\"27\" style=\"stroke:#ff2100ff;stroke-width:2;\" /><line x1=\"420\" y1=\"15\" x2=\"420\" y2=\"27\" style=\"stroke:#ff2000ff;stroke-width:2;\" /><line x1=\"421\" y1=\"15\" x2=\"421\" y2=\"27\" style=\"stroke:#ff1e00ff;stroke-width:2;\" /><line x1=\"422\" y1=\"15\" x2=\"422\" y2=\"27\" style=\"stroke:#ff1d00ff;stroke-width:2;\" /><line x1=\"423\" y1=\"15\" x2=\"423\" y2=\"27\" style=\"stroke:#ff1c00ff;stroke-width:2;\" /><line x1=\"424\" y1=\"15\" x2=\"424\" y2=\"27\" style=\"stroke:#ff1b00ff;stroke-width:2;\" /><line x1=\"425\" y1=\"15\" x2=\"425\" y2=\"27\" style=\"stroke:#ff1a00ff;stroke-width:2;\" /><line x1=\"426\" y1=\"15\" x2=\"426\" y2=\"27\" style=\"stroke:#ff1900ff;stroke-width:2;\" /><line x1=\"427\" y1=\"15\" x2=\"427\" y2=\"27\" style=\"stroke:#ff1800ff;stroke-width:2;\" /><line x1=\"428\" y1=\"15\" x2=\"428\" y2=\"27\" style=\"stroke:#ff1700ff;stroke-width:2;\" /><line x1=\"429\" y1=\"15\" x2=\"429\" y2=\"27\" style=\"stroke:#ff1600ff;stroke-width:2;\" /><line x1=\"430\" y1=\"15\" x2=\"430\" y2=\"27\" style=\"stroke:#ff1500ff;stroke-width:2;\" /><line x1=\"431\" y1=\"15\" x2=\"431\" y2=\"27\" style=\"stroke:#ff1300ff;stroke-width:2;\" /><line x1=\"432\" y1=\"15\" x2=\"432\" y2=\"27\" style=\"stroke:#ff1200ff;stroke-width:2;\" /><line x1=\"433\" y1=\"15\" x2=\"433\" y2=\"27\" style=\"stroke:#ff1100ff;stroke-width:2;\" /><line x1=\"434\" y1=\"15\" x2=\"434\" y2=\"27\" style=\"stroke:#ff1000ff;stroke-width:2;\" /><line x1=\"435\" y1=\"15\" x2=\"435\" y2=\"27\" style=\"stroke:#ff0f00ff;stroke-width:2;\" /><line x1=\"436\" y1=\"15\" x2=\"436\" y2=\"27\" style=\"stroke:#ff0e00ff;stroke-width:2;\" /><line x1=\"437\" y1=\"15\" x2=\"437\" y2=\"27\" style=\"stroke:#ff0d00ff;stroke-width:2;\" /><line x1=\"438\" y1=\"15\" x2=\"438\" y2=\"27\" style=\"stroke:#ff0c00ff;stroke-width:2;\" /><line x1=\"439\" y1=\"15\" x2=\"439\" y2=\"27\" style=\"stroke:#ff0b00ff;stroke-width:2;\" /><line x1=\"440\" y1=\"15\" x2=\"440\" y2=\"27\" style=\"stroke:#ff0900ff;stroke-width:2;\" /><line x1=\"441\" y1=\"15\" x2=\"441\" y2=\"27\" style=\"stroke:#ff0800ff;stroke-width:2;\" /><line x1=\"442\" y1=\"15\" x2=\"442\" y2=\"27\" style=\"stroke:#ff0700ff;stroke-width:2;\" /><line x1=\"443\" y1=\"15\" x2=\"443\" y2=\"27\" style=\"stroke:#ff0600ff;stroke-width:2;\" /><line x1=\"444\" y1=\"15\" x2=\"444\" y2=\"27\" style=\"stroke:#ff0500ff;stroke-width:2;\" /><line x1=\"445\" y1=\"15\" x2=\"445\" y2=\"27\" style=\"stroke:#ff0400ff;stroke-width:2;\" /><line x1=\"446\" y1=\"15\" x2=\"446\" y2=\"27\" style=\"stroke:#ff0300ff;stroke-width:2;\" /><line x1=\"447\" y1=\"15\" x2=\"447\" y2=\"27\" style=\"stroke:#ff0200ff;stroke-width:2;\" /><line x1=\"448\" y1=\"15\" x2=\"448\" y2=\"27\" style=\"stroke:#ff0100ff;stroke-width:2;\" /><line x1=\"449\" y1=\"15\" x2=\"449\" y2=\"27\" style=\"stroke:#ff0000ff;stroke-width:2;\" /><text x=\"0\" y=\"38\" style=\"text-anchor:start; font-size:11px; font:Arial\">0</text><text x=\"75\" y=\"38\"; style=\"text-anchor:middle; font-size:11px; font:Arial\">0.5</text><text x=\"150\" y=\"38\"; style=\"text-anchor:middle; font-size:11px; font:Arial\">1.0</text><text x=\"225\" y=\"38\"; style=\"text-anchor:middle; font-size:11px; font:Arial\">1.5</text><text x=\"300\" y=\"38\"; style=\"text-anchor:middle; font-size:11px; font:Arial\">2.0</text><text x=\"375\" y=\"38\"; style=\"text-anchor:middle; font-size:11px; font:Arial\">2.5</text><text x=\"450\" y=\"38\" style=\"text-anchor:end; font-size:11px; font:Arial\">3</text><text x=\"0\" y=\"12\" style=\"font-size:11px; font:Arial\">Michelin Stars</text></svg>"
     },
     "execution_count": 186,
     "metadata": {},
     "output_type": "execute_result"
    }
   ],
   "source": [
    "# Create a color map\n",
    "colormap = branca.colormap.LinearColormap(colors=['lightblue','yellow','orange', 'red'],\n",
    "                                          index=[0.5,1,2,3], # Define the index for the colors\n",
    "                                          vmin=0,\n",
    "                                          vmax=3)\n",
    "\n",
    "\n",
    "# Create a map centered around the UK\n",
    "france_map = folium.Map(location=[46.603354, 1.888334], tiles='Stamen Terrain', zoom_start=6)\n",
    "\n",
    "# Add a legend\n",
    "colormap.caption = 'Michelin Stars'\n",
    "france_map.add_child(colormap)\n",
    "\n",
    "# Add a marker for each point in your data\n",
    "for idx, row in france_data.iterrows():\n",
    "    folium.CircleMarker(\n",
    "        location=(row['latitude'], row['longitude']),\n",
    "        radius=3,\n",
    "        color=colormap(row['stars']),  # Use the 'stars' value to determine the color\n",
    "        fill=True,\n",
    "        fill_opacity=0.1  # Control the opacity here\n",
    "    ).add_to(france_map)\n",
    "\n",
    "# Add the color map legend to the map\n",
    "colormap.add_to(france_map)\n",
    "\n",
    "# Display the map (commented out)\n",
    "#france_map"
   ],
   "metadata": {
    "collapsed": false,
    "ExecuteTime": {
     "end_time": "2023-08-04T21:01:32.877285Z",
     "start_time": "2023-08-04T21:01:32.790048Z"
    }
   }
  },
  {
   "cell_type": "markdown",
   "source": [
    "Static image of the above plot.\n",
    "\n",
    "Running in own Jupyter environment allows interactivity\n",
    "\n",
    "![img](../Images/Static_france.png)"
   ],
   "metadata": {
    "collapsed": false
   }
  },
  {
   "cell_type": "markdown",
   "source": [
    "----\n",
    "&nbsp;\n",
    "## Partitioning the data regionally.\n",
    "\n",
    "Having previously explored the UK dataset, we will amend the French dataset inplace\n",
    "\n",
    "France is considerably more ordered in terms of how she defines regions. There is no \"Does the North start at the Watford Gap?\"\n",
    "\n",
    "1. We extract the first two digits of the code postal from `address`. ie, 06, 78 etc\n",
    "2. These digits represent a particular department\n",
    "3. We arrogate these into regions\n",
    "\n",
    "#### Creating new columns `department` & `region`\n",
    "&nbsp;\n",
    "We first check the format of addresses in Monaco"
   ],
   "metadata": {
    "collapsed": false
   }
  },
  {
   "cell_type": "code",
   "execution_count": 187,
   "outputs": [
    {
     "data": {
      "text/plain": "                                                  name  \\\n16      Le Louis XV - Alain Ducasse à l'Hôtel de Paris   \n75                                         Le Blue Bay   \n409                                           Le Grill   \n426                                              Yoshi   \n455  Pavyllon, un restaurant de Yannick Alléno, Mon...   \n489           La Table d'Antonio Salvatore au Rampoldi   \n\n                                              address    city country price  \\\n16             Place du Casino, Monaco, 98000, France  Monaco  France  €€€€   \n75   40 avenue Princesse-Grace, Monaco, 98000, France  Monaco  France  €€€€   \n409            Place du Casino, Monaco, 98000, France  Monaco  France  €€€€   \n426      4 avenue de la Madone, Monaco, 98000, France  Monaco  France  €€€€   \n455        Square Beaumarchais, Monaco, 98000, France  Monaco  France  €€€€   \n489     3 avenue des Spélugues, Monaco, 98000, France  Monaco  France  €€€€   \n\n     price_num                                cuisine  \\\n16           4  Mediterranean Cuisine, Modern Cuisine   \n75           4                               Creative   \n409          4                        Classic Cuisine   \n426          4                               Japanese   \n455          4               Modern Cuisine, Creative   \n489          4                      Italian, Creative   \n\n                                                   url             award  \\\n16                      https://www.ducasse-paris.com/  3 MICHELIN Stars   \n75   https://www.montecarlosbm.com/fr/restaurant-mo...  2 MICHELIN Stars   \n409  https://www.montecarlosbm.com/fr/restaurant-mo...   1 MICHELIN Star   \n426                        http://www.metropole.com/fr   1 MICHELIN Star   \n455                   https://www.montecarlosbm.com/fr   1 MICHELIN Star   \n489  http://www.rampoldi.mc/la-table-dantonio-salva...   1 MICHELIN Star   \n\n     stars  longitude   latitude  \n16     3.0   7.427105  43.739184  \n75     2.0   7.437975  43.748897  \n409    1.0   7.427100  43.739367  \n426    1.0   7.427975  43.740818  \n455    1.0   7.425868  43.738462  \n489    1.0   7.427820  43.740456  ",
      "text/html": "<div>\n<style scoped>\n    .dataframe tbody tr th:only-of-type {\n        vertical-align: middle;\n    }\n\n    .dataframe tbody tr th {\n        vertical-align: top;\n    }\n\n    .dataframe thead th {\n        text-align: right;\n    }\n</style>\n<table border=\"1\" class=\"dataframe\">\n  <thead>\n    <tr style=\"text-align: right;\">\n      <th></th>\n      <th>name</th>\n      <th>address</th>\n      <th>city</th>\n      <th>country</th>\n      <th>price</th>\n      <th>price_num</th>\n      <th>cuisine</th>\n      <th>url</th>\n      <th>award</th>\n      <th>stars</th>\n      <th>longitude</th>\n      <th>latitude</th>\n    </tr>\n  </thead>\n  <tbody>\n    <tr>\n      <th>16</th>\n      <td>Le Louis XV - Alain Ducasse à l'Hôtel de Paris</td>\n      <td>Place du Casino, Monaco, 98000, France</td>\n      <td>Monaco</td>\n      <td>France</td>\n      <td>€€€€</td>\n      <td>4</td>\n      <td>Mediterranean Cuisine, Modern Cuisine</td>\n      <td>https://www.ducasse-paris.com/</td>\n      <td>3 MICHELIN Stars</td>\n      <td>3.0</td>\n      <td>7.427105</td>\n      <td>43.739184</td>\n    </tr>\n    <tr>\n      <th>75</th>\n      <td>Le Blue Bay</td>\n      <td>40 avenue Princesse-Grace, Monaco, 98000, France</td>\n      <td>Monaco</td>\n      <td>France</td>\n      <td>€€€€</td>\n      <td>4</td>\n      <td>Creative</td>\n      <td>https://www.montecarlosbm.com/fr/restaurant-mo...</td>\n      <td>2 MICHELIN Stars</td>\n      <td>2.0</td>\n      <td>7.437975</td>\n      <td>43.748897</td>\n    </tr>\n    <tr>\n      <th>409</th>\n      <td>Le Grill</td>\n      <td>Place du Casino, Monaco, 98000, France</td>\n      <td>Monaco</td>\n      <td>France</td>\n      <td>€€€€</td>\n      <td>4</td>\n      <td>Classic Cuisine</td>\n      <td>https://www.montecarlosbm.com/fr/restaurant-mo...</td>\n      <td>1 MICHELIN Star</td>\n      <td>1.0</td>\n      <td>7.427100</td>\n      <td>43.739367</td>\n    </tr>\n    <tr>\n      <th>426</th>\n      <td>Yoshi</td>\n      <td>4 avenue de la Madone, Monaco, 98000, France</td>\n      <td>Monaco</td>\n      <td>France</td>\n      <td>€€€€</td>\n      <td>4</td>\n      <td>Japanese</td>\n      <td>http://www.metropole.com/fr</td>\n      <td>1 MICHELIN Star</td>\n      <td>1.0</td>\n      <td>7.427975</td>\n      <td>43.740818</td>\n    </tr>\n    <tr>\n      <th>455</th>\n      <td>Pavyllon, un restaurant de Yannick Alléno, Mon...</td>\n      <td>Square Beaumarchais, Monaco, 98000, France</td>\n      <td>Monaco</td>\n      <td>France</td>\n      <td>€€€€</td>\n      <td>4</td>\n      <td>Modern Cuisine, Creative</td>\n      <td>https://www.montecarlosbm.com/fr</td>\n      <td>1 MICHELIN Star</td>\n      <td>1.0</td>\n      <td>7.425868</td>\n      <td>43.738462</td>\n    </tr>\n    <tr>\n      <th>489</th>\n      <td>La Table d'Antonio Salvatore au Rampoldi</td>\n      <td>3 avenue des Spélugues, Monaco, 98000, France</td>\n      <td>Monaco</td>\n      <td>France</td>\n      <td>€€€€</td>\n      <td>4</td>\n      <td>Italian, Creative</td>\n      <td>http://www.rampoldi.mc/la-table-dantonio-salva...</td>\n      <td>1 MICHELIN Star</td>\n      <td>1.0</td>\n      <td>7.427820</td>\n      <td>43.740456</td>\n    </tr>\n  </tbody>\n</table>\n</div>"
     },
     "execution_count": 187,
     "metadata": {},
     "output_type": "execute_result"
    }
   ],
   "source": [
    "monaco = france_data[france_data['city'] == 'Monaco']\n",
    "monaco"
   ],
   "metadata": {
    "collapsed": false,
    "ExecuteTime": {
     "end_time": "2023-08-04T21:01:32.877663Z",
     "start_time": "2023-08-04T21:01:32.856334Z"
    }
   }
  },
  {
   "cell_type": "code",
   "execution_count": 188,
   "outputs": [],
   "source": [
    "france_data = france_data.copy()\n",
    "france_data['department_num'] = france_data['address'].str.extract(r'(\\b\\d{5}\\b)', expand=False).str[:2]"
   ],
   "metadata": {
    "collapsed": false,
    "ExecuteTime": {
     "end_time": "2023-08-04T21:01:32.877702Z",
     "start_time": "2023-08-04T21:01:32.862446Z"
    }
   }
  },
  {
   "cell_type": "markdown",
   "source": [
    "We now search for the departments and regions of france on [Wikipedia](https://en.wikipedia.org/wiki/Departments_of_France)"
   ],
   "metadata": {
    "collapsed": false
   }
  },
  {
   "cell_type": "code",
   "execution_count": 189,
   "outputs": [],
   "source": [
    "url = 'https://en.wikipedia.org/wiki/Departments_of_France'  # replace this with the URL of the page you're interested in\n",
    "tables = pd.read_html(url)"
   ],
   "metadata": {
    "collapsed": false,
    "ExecuteTime": {
     "end_time": "2023-08-04T21:01:33.224258Z",
     "start_time": "2023-08-04T21:01:32.873005Z"
    }
   }
  },
  {
   "cell_type": "code",
   "execution_count": 190,
   "outputs": [
    {
     "data": {
      "text/plain": "  INSEE code  Arms 1 Date of establishment                 Department  \\\n0         01     NaN      26 February 1790                        Ain   \n1         02     NaN      26 February 1790                      Aisne   \n2         03     NaN      26 February 1790                     Allier   \n3         04     NaN      26 February 1790  Alpes-de-Haute-Provence 2   \n4         05     NaN      26 February 1790               Hautes-Alpes   \n\n           Capital                      Region  \\\n0  Bourg-en-Bresse        Auvergne-Rhône-Alpes   \n1             Laon             Hauts-de-France   \n2          Moulins        Auvergne-Rhône-Alpes   \n3  Digne-les-Bains  Provence-Alpes-Côte d'Azur   \n4              Gap  Provence-Alpes-Côte d'Azur   \n\n                          Named after  \n0                         Ain (river)  \n1                       Aisne (river)  \n2                      Allier (river)  \n3  Alps mountains and Provence region  \n4                      Alps mountains  ",
      "text/html": "<div>\n<style scoped>\n    .dataframe tbody tr th:only-of-type {\n        vertical-align: middle;\n    }\n\n    .dataframe tbody tr th {\n        vertical-align: top;\n    }\n\n    .dataframe thead th {\n        text-align: right;\n    }\n</style>\n<table border=\"1\" class=\"dataframe\">\n  <thead>\n    <tr style=\"text-align: right;\">\n      <th></th>\n      <th>INSEE code</th>\n      <th>Arms 1</th>\n      <th>Date of establishment</th>\n      <th>Department</th>\n      <th>Capital</th>\n      <th>Region</th>\n      <th>Named after</th>\n    </tr>\n  </thead>\n  <tbody>\n    <tr>\n      <th>0</th>\n      <td>01</td>\n      <td>NaN</td>\n      <td>26 February 1790</td>\n      <td>Ain</td>\n      <td>Bourg-en-Bresse</td>\n      <td>Auvergne-Rhône-Alpes</td>\n      <td>Ain (river)</td>\n    </tr>\n    <tr>\n      <th>1</th>\n      <td>02</td>\n      <td>NaN</td>\n      <td>26 February 1790</td>\n      <td>Aisne</td>\n      <td>Laon</td>\n      <td>Hauts-de-France</td>\n      <td>Aisne (river)</td>\n    </tr>\n    <tr>\n      <th>2</th>\n      <td>03</td>\n      <td>NaN</td>\n      <td>26 February 1790</td>\n      <td>Allier</td>\n      <td>Moulins</td>\n      <td>Auvergne-Rhône-Alpes</td>\n      <td>Allier (river)</td>\n    </tr>\n    <tr>\n      <th>3</th>\n      <td>04</td>\n      <td>NaN</td>\n      <td>26 February 1790</td>\n      <td>Alpes-de-Haute-Provence 2</td>\n      <td>Digne-les-Bains</td>\n      <td>Provence-Alpes-Côte d'Azur</td>\n      <td>Alps mountains and Provence region</td>\n    </tr>\n    <tr>\n      <th>4</th>\n      <td>05</td>\n      <td>NaN</td>\n      <td>26 February 1790</td>\n      <td>Hautes-Alpes</td>\n      <td>Gap</td>\n      <td>Provence-Alpes-Côte d'Azur</td>\n      <td>Alps mountains</td>\n    </tr>\n  </tbody>\n</table>\n</div>"
     },
     "execution_count": 190,
     "metadata": {},
     "output_type": "execute_result"
    }
   ],
   "source": [
    "departments = tables[4]\n",
    "departments.head()"
   ],
   "metadata": {
    "collapsed": false,
    "ExecuteTime": {
     "end_time": "2023-08-04T21:01:33.231324Z",
     "start_time": "2023-08-04T21:01:33.228439Z"
    }
   }
  },
  {
   "cell_type": "code",
   "execution_count": 191,
   "outputs": [
    {
     "name": "stdout",
     "output_type": "stream",
     "text": [
      "['INSEE code', 'Arms 1', 'Date of establishment', 'Department', 'Capital', 'Region', 'Named after']\n"
     ]
    }
   ],
   "source": [
    "print(departments.columns.tolist())"
   ],
   "metadata": {
    "collapsed": false,
    "ExecuteTime": {
     "end_time": "2023-08-04T21:01:33.234936Z",
     "start_time": "2023-08-04T21:01:33.231659Z"
    }
   }
  },
  {
   "cell_type": "code",
   "execution_count": 192,
   "outputs": [
    {
     "name": "stderr",
     "output_type": "stream",
     "text": [
      "/var/folders/s9/z74lxq2n7d9ct45y9_ffymd00000gn/T/ipykernel_4035/3097163103.py:11: FutureWarning: The default value of regex will change from True to False in a future version.\n",
      "  departments['department'] = departments['department'].str.replace(r'\\d+$', '')\n"
     ]
    },
    {
     "data": {
      "text/plain": "    department_num          department         region\n92              91            Essonne   Île-de-France\n93              92     Hauts-de-Seine   Île-de-France\n94              93  Seine-Saint-Denis   Île-de-France\n95              94        Val-de-Marne  Île-de-France\n96              95          Val-d'Oise  Île-de-France\n97             971         Guadeloupe      Guadeloupe\n98             972         Martinique      Martinique\n99             973             Guyane   French Guiana\n100            974         La Réunion         Réunion\n101            976            Mayotte         Mayotte",
      "text/html": "<div>\n<style scoped>\n    .dataframe tbody tr th:only-of-type {\n        vertical-align: middle;\n    }\n\n    .dataframe tbody tr th {\n        vertical-align: top;\n    }\n\n    .dataframe thead th {\n        text-align: right;\n    }\n</style>\n<table border=\"1\" class=\"dataframe\">\n  <thead>\n    <tr style=\"text-align: right;\">\n      <th></th>\n      <th>department_num</th>\n      <th>department</th>\n      <th>region</th>\n    </tr>\n  </thead>\n  <tbody>\n    <tr>\n      <th>92</th>\n      <td>91</td>\n      <td>Essonne</td>\n      <td>Île-de-France</td>\n    </tr>\n    <tr>\n      <th>93</th>\n      <td>92</td>\n      <td>Hauts-de-Seine</td>\n      <td>Île-de-France</td>\n    </tr>\n    <tr>\n      <th>94</th>\n      <td>93</td>\n      <td>Seine-Saint-Denis</td>\n      <td>Île-de-France</td>\n    </tr>\n    <tr>\n      <th>95</th>\n      <td>94</td>\n      <td>Val-de-Marne</td>\n      <td>Île-de-France</td>\n    </tr>\n    <tr>\n      <th>96</th>\n      <td>95</td>\n      <td>Val-d'Oise</td>\n      <td>Île-de-France</td>\n    </tr>\n    <tr>\n      <th>97</th>\n      <td>971</td>\n      <td>Guadeloupe</td>\n      <td>Guadeloupe</td>\n    </tr>\n    <tr>\n      <th>98</th>\n      <td>972</td>\n      <td>Martinique</td>\n      <td>Martinique</td>\n    </tr>\n    <tr>\n      <th>99</th>\n      <td>973</td>\n      <td>Guyane</td>\n      <td>French Guiana</td>\n    </tr>\n    <tr>\n      <th>100</th>\n      <td>974</td>\n      <td>La Réunion</td>\n      <td>Réunion</td>\n    </tr>\n    <tr>\n      <th>101</th>\n      <td>976</td>\n      <td>Mayotte</td>\n      <td>Mayotte</td>\n    </tr>\n  </tbody>\n</table>\n</div>"
     },
     "execution_count": 192,
     "metadata": {},
     "output_type": "execute_result"
    }
   ],
   "source": [
    "# Drop specified columns from the DataFrame\n",
    "departments = departments.drop(columns=['Arms 1', 'Date of establishment', 'Capital', 'Named after'])\n",
    "\n",
    "# Rename the column 'INSEE code' to 'department_num'\n",
    "departments = departments.rename(columns={'INSEE code': 'department_num'})\n",
    "\n",
    "# Convert all column names in the DataFrame to lowercase\n",
    "departments.columns = departments.columns.str.lower()\n",
    "\n",
    "# Replace the trailing numbers in the 'department' column with an empty string (if it exists)\n",
    "departments['department'] = departments['department'].str.replace(r'\\d+$', '')\n",
    "\n",
    "# Display the last 10 rows of the DataFrame\n",
    "departments.tail(10)"
   ],
   "metadata": {
    "collapsed": false,
    "ExecuteTime": {
     "end_time": "2023-08-04T21:01:33.243059Z",
     "start_time": "2023-08-04T21:01:33.240260Z"
    }
   }
  },
  {
   "cell_type": "markdown",
   "source": [
    "The last five entries are overseas departments"
   ],
   "metadata": {
    "collapsed": false
   }
  },
  {
   "cell_type": "code",
   "execution_count": 193,
   "outputs": [
    {
     "data": {
      "text/plain": "   department_num                department                      region\n0              01                       Ain        Auvergne-Rhône-Alpes\n1              02                     Aisne             Hauts-de-France\n2              03                    Allier        Auvergne-Rhône-Alpes\n3              04  Alpes-de-Haute-Provence   Provence-Alpes-Côte d'Azur\n4              05              Hautes-Alpes  Provence-Alpes-Côte d'Azur\n..            ...                       ...                         ...\n93             92           Hauts-de-Seine                Île-de-France\n94             93        Seine-Saint-Denis                Île-de-France\n95             94              Val-de-Marne               Île-de-France\n96             95                Val-d'Oise               Île-de-France\n97             98                    Monaco                      Monaco\n\n[98 rows x 3 columns]",
      "text/html": "<div>\n<style scoped>\n    .dataframe tbody tr th:only-of-type {\n        vertical-align: middle;\n    }\n\n    .dataframe tbody tr th {\n        vertical-align: top;\n    }\n\n    .dataframe thead th {\n        text-align: right;\n    }\n</style>\n<table border=\"1\" class=\"dataframe\">\n  <thead>\n    <tr style=\"text-align: right;\">\n      <th></th>\n      <th>department_num</th>\n      <th>department</th>\n      <th>region</th>\n    </tr>\n  </thead>\n  <tbody>\n    <tr>\n      <th>0</th>\n      <td>01</td>\n      <td>Ain</td>\n      <td>Auvergne-Rhône-Alpes</td>\n    </tr>\n    <tr>\n      <th>1</th>\n      <td>02</td>\n      <td>Aisne</td>\n      <td>Hauts-de-France</td>\n    </tr>\n    <tr>\n      <th>2</th>\n      <td>03</td>\n      <td>Allier</td>\n      <td>Auvergne-Rhône-Alpes</td>\n    </tr>\n    <tr>\n      <th>3</th>\n      <td>04</td>\n      <td>Alpes-de-Haute-Provence</td>\n      <td>Provence-Alpes-Côte d'Azur</td>\n    </tr>\n    <tr>\n      <th>4</th>\n      <td>05</td>\n      <td>Hautes-Alpes</td>\n      <td>Provence-Alpes-Côte d'Azur</td>\n    </tr>\n    <tr>\n      <th>...</th>\n      <td>...</td>\n      <td>...</td>\n      <td>...</td>\n    </tr>\n    <tr>\n      <th>93</th>\n      <td>92</td>\n      <td>Hauts-de-Seine</td>\n      <td>Île-de-France</td>\n    </tr>\n    <tr>\n      <th>94</th>\n      <td>93</td>\n      <td>Seine-Saint-Denis</td>\n      <td>Île-de-France</td>\n    </tr>\n    <tr>\n      <th>95</th>\n      <td>94</td>\n      <td>Val-de-Marne</td>\n      <td>Île-de-France</td>\n    </tr>\n    <tr>\n      <th>96</th>\n      <td>95</td>\n      <td>Val-d'Oise</td>\n      <td>Île-de-France</td>\n    </tr>\n    <tr>\n      <th>97</th>\n      <td>98</td>\n      <td>Monaco</td>\n      <td>Monaco</td>\n    </tr>\n  </tbody>\n</table>\n<p>98 rows × 3 columns</p>\n</div>"
     },
     "execution_count": 193,
     "metadata": {},
     "output_type": "execute_result"
    }
   ],
   "source": [
    "# Remove the last 5 entries from the DataFrame\n",
    "departments = departments.iloc[:-5]\n",
    "\n",
    "# Add Monaco\n",
    "departments.loc[len(departments)] = ['98', 'Monaco', 'Monaco']\n",
    "\n",
    "departments"
   ],
   "metadata": {
    "collapsed": false,
    "ExecuteTime": {
     "end_time": "2023-08-04T21:01:33.296836Z",
     "start_time": "2023-08-04T21:01:33.251566Z"
    }
   }
  },
  {
   "cell_type": "markdown",
   "source": [
    "----\n",
    "&nbsp;\n",
    "We now need to search `france_data` for department 69"
   ],
   "metadata": {
    "collapsed": false
   }
  },
  {
   "cell_type": "code",
   "execution_count": 194,
   "outputs": [
    {
     "data": {
      "text/plain": "                       name  \\\n33              Paul Bocuse   \n35             Takao Takano   \n36          Le Neuvième Art   \n43             Mère Brazier   \n130              La Rotonde   \n131          Le Passe Temps   \n157               Les Loges   \n189      Le Gourmet de Sèze   \n190           Jérémy Galvan   \n192           Au 14 Février   \n198                Têtedoie   \n221                 Saisons   \n229                Prairial   \n254   Les Terrasses de Lyon   \n278          Auberge du Cep   \n392          Guy Lassausaie   \n516              Miraflores   \n539                Rustique   \n599           La Sommelière   \n603            La Mutinerie   \n636                Alebrije   \n645           PY Restaurant   \n647              Veronatuti   \n672               Le Tiroir   \n681              Le Kitchen   \n682            Sauf Imprévu   \n687            M Restaurant   \n689       Le Zeste Gourmand   \n691         Saku Restaurant   \n732            Au Colombier   \n859                  Racine   \n891               Bergamote   \n986               Agastache   \n1009     La Ferme du Poulet   \n1019         Le Jean Moulin   \n1027          Le Beaujolais   \n\n                                                address  \\\n33    40 quai de la Plage, Collonges-au-Mont-d'Or, 6...   \n35              33 rue Malesherbes, Lyon, 69006, France   \n36                  173 rue Cuvier, Lyon, 69006, France   \n43                   12 rue Royale, Lyon, 69001, France   \n130   3 avenue Georges-Bassinet, Charbonnières-les-B...   \n131                52 rue Tronchet, Lyon, 69006, France   \n157   Cour des Loges, 6 rue du Bœuf, Lyon, 69005, Fr...   \n189                125 rue de Sèze, Lyon, 69006, France   \n190                 29 rue du Bœuf, Lyon, 69005, France   \n192                 36 rue du Bœuf, Lyon, 69005, France   \n198   4 rue Professeur-Pierre-Marion, Lyon, 69005, F...   \n221        1A chemin de Calabert, Écully, 69130, France   \n229                11 rue Chavanne, Lyon, 69001, France   \n254   Villa Florentine, 25 montée Saint-Barthélémy, ...   \n278           Place de l'Église, Fleurie, 69820, France   \n392       3 rue de Belle-Sise, Chasselay, 69380, France   \n516       112 boulevard des Belges, Lyon, 69006, France   \n539               14 rue d'Enghien, Lyon, 69002, France   \n599                 6 rue Mourguet, Lyon, 69005, France   \n603                123 rue Bugeaud, Lyon, 69006, France   \n636                  2 rue Belfort, Lyon, 69004, France   \n645                16 cours Vitton, Lyon, 69006, France   \n647            122 rue Montesquieu, Lyon, 69007, France   \n672         20 Grande Rue de Vaise, Lyon, 69009, France   \n681                34 rue Chevreul, Lyon, 69007, France   \n682        40 rue Pierre-Corneille, Lyon, 69006, France   \n687                 47 avenue Foch, Lyon, 69006, France   \n689                 93 rue Bossuet, Lyon, 69006, France   \n691                 27 rue Rachais, Lyon, 69007, France   \n732            126 allée Colombier, Anse, 69480, France   \n859         1 rue du Chapeau-Rouge, Lyon, 69009, France   \n891             123 rue de Gerland, Lyon, 69007, France   \n986             134 rue Duguesclin, Lyon, 69006, France   \n1009  180 rue Georges-Mangin, Villefranche-sur-Saône...   \n1019                45 rue de Sèze, Lyon, 69006, France   \n1027  40 rue du Maréchal-Foch, Belleville, 69220, Fr...   \n\n                         city country price  price_num  \\\n33     Collonges-au-Mont-d'Or  France  €€€€          4   \n35                       Lyon  France  €€€€          4   \n36                       Lyon  France  €€€€          4   \n43                       Lyon  France  €€€€          4   \n130   Charbonnières-les-Bains  France   €€€          3   \n131                      Lyon  France   €€€          3   \n157                      Lyon  France  €€€€          4   \n189                      Lyon  France   €€€          3   \n190                      Lyon  France  €€€€          4   \n192                      Lyon  France  €€€€          4   \n198                      Lyon  France  €€€€          4   \n221                    Écully  France   €€€          3   \n229                      Lyon  France   €€€          3   \n254                      Lyon  France  €€€€          4   \n278                   Fleurie  France   €€€          3   \n392                 Chasselay  France   €€€          3   \n516                      Lyon  France  €€€€          4   \n539                      Lyon  France   €€€          3   \n599                      Lyon  France   €€€          3   \n603                      Lyon  France   €€€          3   \n636                      Lyon  France    €€          2   \n645                      Lyon  France    €€          2   \n647                      Lyon  France     €          1   \n672                      Lyon  France    €€          2   \n681                      Lyon  France     €          1   \n682                      Lyon  France     €          1   \n687                      Lyon  France    €€          2   \n689                      Lyon  France    €€          2   \n691                      Lyon  France    €€          2   \n732                      Anse  France    €€          2   \n859                      Lyon  France     €          1   \n891                      Lyon  France    €€          2   \n986                      Lyon  France    €€          2   \n1009   Villefranche-sur-Saône  France    €€          2   \n1019                     Lyon  France    €€          2   \n1027               Belleville  France    €€          2   \n\n                       cuisine  \\\n33             Classic Cuisine   \n35                    Creative   \n36    Creative, Modern Cuisine   \n43             Classic Cuisine   \n130             Modern Cuisine   \n131                   Creative   \n157             Modern Cuisine   \n189            Classic Cuisine   \n190   Creative, Modern Cuisine   \n192                   Creative   \n198                   Creative   \n221             Modern Cuisine   \n229             Modern Cuisine   \n254             Modern Cuisine   \n278             Modern Cuisine   \n392             Modern Cuisine   \n516                   Peruvian   \n539                   Creative   \n599             Modern Cuisine   \n603                   Creative   \n636                    Mexican   \n645             Modern Cuisine   \n647                    Italian   \n672             Modern Cuisine   \n681             Modern Cuisine   \n682             Market Cuisine   \n687             Market Cuisine   \n689             Modern Cuisine   \n691             Modern Cuisine   \n732             Modern Cuisine   \n859             Modern Cuisine   \n891             Modern Cuisine   \n986                   Creative   \n1009       Traditional Cuisine   \n1019            Modern Cuisine   \n1027       Traditional Cuisine   \n\n                                                    url             award  \\\n33                                 http://www.bocuse.fr  2 MICHELIN Stars   \n35                         https://www.takaotakano.com/  2 MICHELIN Stars   \n36                      http://www.leneuviemeart.com/fr  2 MICHELIN Stars   \n43                          http://www.lamerebrazier.fr  2 MICHELIN Stars   \n130                   https://www.pavillon-rotonde.com/   1 MICHELIN Star   \n131            https://www.lepassetemps-restaurant.com/   1 MICHELIN Star   \n157            https://www.courdesloges.com/gastronomie   1 MICHELIN Star   \n189                    https://www.legourmetdeseze.com/   1 MICHELIN Star   \n190               http://www.jeremygalvanrestaurant.com   1 MICHELIN Star   \n192                     https://www.ly-au14fevrier.com/   1 MICHELIN Star   \n198                               https://tetedoie.com/   1 MICHELIN Star   \n221                  https://www.saisons-restaurant.fr/   1 MICHELIN Star   \n229                  https://www.prairial-restaurant.fr   1 MICHELIN Star   \n254   https://www.villaflorentine.com/fr/restaurant....   1 MICHELIN Star   \n278                         http://www.aubergeducep.com   1 MICHELIN Star   \n392                     https://www.guy-lassausaie.com/   1 MICHELIN Star   \n516              https://www.restaurant-miraflores.com/   1 MICHELIN Star   \n539                        https://www.rustiquelyon.fr/   1 MICHELIN Star   \n599                      https://www.la-sommeliere.net/   1 MICHELIN Star   \n603                          http://www.la-mutinerie.fr   1 MICHELIN Star   \n636                             https://alebrijelyon.fr      Bib Gourmand   \n645                          https://pyrestaurant.fr/fr      Bib Gourmand   \n647                                                 NaN      Bib Gourmand   \n672                     https://restaurant-letiroir.fr/      Bib Gourmand   \n681                      https://www.lekitchenlyon.com/      Bib Gourmand   \n682                                                 NaN      Bib Gourmand   \n687                         https://www.mrestaurant.fr/      Bib Gourmand   \n689                         https://lezestegourmand.fr/      Bib Gourmand   \n691                      https://www.sakurestaurant.fr/      Bib Gourmand   \n732                        https://www.aucolombier.com/      Bib Gourmand   \n859              https://www.racinerestaurant-lyon.com/      Bib Gourmand   \n891                     https://restaurant-bergamote.fr      Bib Gourmand   \n986               https://agastache-restaurant-lyon.fr/      Bib Gourmand   \n1009                   https://www.lafermedupoulet.com/      Bib Gourmand   \n1019                     https://lejeanmoulin-lyon.com/      Bib Gourmand   \n1027          https://www.restaurant-le-beaujolais.com/      Bib Gourmand   \n\n      stars  longitude   latitude department_num  \n33      2.0   4.847562  45.815644             69  \n35      2.0   4.842588  45.770480             69  \n36      2.0   4.856419  45.767953             69  \n43      2.0   4.837203  45.771431             69  \n130     1.0   4.731922  45.787409             69  \n131     1.0   4.849293  45.769939             69  \n157     1.0   4.827423  45.763360             69  \n189     1.0   4.855944  45.769113             69  \n190     1.0   4.826421  45.762184             69  \n192     1.0   4.826382  45.762221             69  \n198     1.0   4.823392  45.759073             69  \n221     1.0   4.767870  45.777440             69  \n229     1.0   4.832444  45.764905             69  \n254     1.0   4.825745  45.763250             69  \n278     1.0   4.696988  46.192136             69  \n392     1.0   4.770391  45.872726             69  \n516     1.0   4.858591  45.768306             69  \n539     1.0   4.826288  45.752063             69  \n599     1.0   4.826144  45.759793             69  \n603     1.0   4.854575  45.767030             69  \n636     0.5   4.834971  45.775957             69  \n645     0.5   4.851688  45.769311             69  \n647     0.5   4.847713  45.749633             69  \n672     0.5   4.807085  45.774438             69  \n681     0.5   4.839838  45.748504             69  \n682     0.5   4.843458  45.765181             69  \n687     0.5   4.843715  45.770569             69  \n689     0.5   4.854904  45.768288             69  \n691     0.5   4.851614  45.751492             69  \n732     0.5   4.725821  45.945435             69  \n859     0.5   4.807470  45.774020             69  \n891     0.5   4.839592  45.734167             69  \n986     0.5   4.847664  45.766393             69  \n1009    0.5   4.738839  45.991068             69  \n1019    0.5   4.847726  45.768341             69  \n1027    0.5   4.730196  46.112593             69  ",
      "text/html": "<div>\n<style scoped>\n    .dataframe tbody tr th:only-of-type {\n        vertical-align: middle;\n    }\n\n    .dataframe tbody tr th {\n        vertical-align: top;\n    }\n\n    .dataframe thead th {\n        text-align: right;\n    }\n</style>\n<table border=\"1\" class=\"dataframe\">\n  <thead>\n    <tr style=\"text-align: right;\">\n      <th></th>\n      <th>name</th>\n      <th>address</th>\n      <th>city</th>\n      <th>country</th>\n      <th>price</th>\n      <th>price_num</th>\n      <th>cuisine</th>\n      <th>url</th>\n      <th>award</th>\n      <th>stars</th>\n      <th>longitude</th>\n      <th>latitude</th>\n      <th>department_num</th>\n    </tr>\n  </thead>\n  <tbody>\n    <tr>\n      <th>33</th>\n      <td>Paul Bocuse</td>\n      <td>40 quai de la Plage, Collonges-au-Mont-d'Or, 6...</td>\n      <td>Collonges-au-Mont-d'Or</td>\n      <td>France</td>\n      <td>€€€€</td>\n      <td>4</td>\n      <td>Classic Cuisine</td>\n      <td>http://www.bocuse.fr</td>\n      <td>2 MICHELIN Stars</td>\n      <td>2.0</td>\n      <td>4.847562</td>\n      <td>45.815644</td>\n      <td>69</td>\n    </tr>\n    <tr>\n      <th>35</th>\n      <td>Takao Takano</td>\n      <td>33 rue Malesherbes, Lyon, 69006, France</td>\n      <td>Lyon</td>\n      <td>France</td>\n      <td>€€€€</td>\n      <td>4</td>\n      <td>Creative</td>\n      <td>https://www.takaotakano.com/</td>\n      <td>2 MICHELIN Stars</td>\n      <td>2.0</td>\n      <td>4.842588</td>\n      <td>45.770480</td>\n      <td>69</td>\n    </tr>\n    <tr>\n      <th>36</th>\n      <td>Le Neuvième Art</td>\n      <td>173 rue Cuvier, Lyon, 69006, France</td>\n      <td>Lyon</td>\n      <td>France</td>\n      <td>€€€€</td>\n      <td>4</td>\n      <td>Creative, Modern Cuisine</td>\n      <td>http://www.leneuviemeart.com/fr</td>\n      <td>2 MICHELIN Stars</td>\n      <td>2.0</td>\n      <td>4.856419</td>\n      <td>45.767953</td>\n      <td>69</td>\n    </tr>\n    <tr>\n      <th>43</th>\n      <td>Mère Brazier</td>\n      <td>12 rue Royale, Lyon, 69001, France</td>\n      <td>Lyon</td>\n      <td>France</td>\n      <td>€€€€</td>\n      <td>4</td>\n      <td>Classic Cuisine</td>\n      <td>http://www.lamerebrazier.fr</td>\n      <td>2 MICHELIN Stars</td>\n      <td>2.0</td>\n      <td>4.837203</td>\n      <td>45.771431</td>\n      <td>69</td>\n    </tr>\n    <tr>\n      <th>130</th>\n      <td>La Rotonde</td>\n      <td>3 avenue Georges-Bassinet, Charbonnières-les-B...</td>\n      <td>Charbonnières-les-Bains</td>\n      <td>France</td>\n      <td>€€€</td>\n      <td>3</td>\n      <td>Modern Cuisine</td>\n      <td>https://www.pavillon-rotonde.com/</td>\n      <td>1 MICHELIN Star</td>\n      <td>1.0</td>\n      <td>4.731922</td>\n      <td>45.787409</td>\n      <td>69</td>\n    </tr>\n    <tr>\n      <th>131</th>\n      <td>Le Passe Temps</td>\n      <td>52 rue Tronchet, Lyon, 69006, France</td>\n      <td>Lyon</td>\n      <td>France</td>\n      <td>€€€</td>\n      <td>3</td>\n      <td>Creative</td>\n      <td>https://www.lepassetemps-restaurant.com/</td>\n      <td>1 MICHELIN Star</td>\n      <td>1.0</td>\n      <td>4.849293</td>\n      <td>45.769939</td>\n      <td>69</td>\n    </tr>\n    <tr>\n      <th>157</th>\n      <td>Les Loges</td>\n      <td>Cour des Loges, 6 rue du Bœuf, Lyon, 69005, Fr...</td>\n      <td>Lyon</td>\n      <td>France</td>\n      <td>€€€€</td>\n      <td>4</td>\n      <td>Modern Cuisine</td>\n      <td>https://www.courdesloges.com/gastronomie</td>\n      <td>1 MICHELIN Star</td>\n      <td>1.0</td>\n      <td>4.827423</td>\n      <td>45.763360</td>\n      <td>69</td>\n    </tr>\n    <tr>\n      <th>189</th>\n      <td>Le Gourmet de Sèze</td>\n      <td>125 rue de Sèze, Lyon, 69006, France</td>\n      <td>Lyon</td>\n      <td>France</td>\n      <td>€€€</td>\n      <td>3</td>\n      <td>Classic Cuisine</td>\n      <td>https://www.legourmetdeseze.com/</td>\n      <td>1 MICHELIN Star</td>\n      <td>1.0</td>\n      <td>4.855944</td>\n      <td>45.769113</td>\n      <td>69</td>\n    </tr>\n    <tr>\n      <th>190</th>\n      <td>Jérémy Galvan</td>\n      <td>29 rue du Bœuf, Lyon, 69005, France</td>\n      <td>Lyon</td>\n      <td>France</td>\n      <td>€€€€</td>\n      <td>4</td>\n      <td>Creative, Modern Cuisine</td>\n      <td>http://www.jeremygalvanrestaurant.com</td>\n      <td>1 MICHELIN Star</td>\n      <td>1.0</td>\n      <td>4.826421</td>\n      <td>45.762184</td>\n      <td>69</td>\n    </tr>\n    <tr>\n      <th>192</th>\n      <td>Au 14 Février</td>\n      <td>36 rue du Bœuf, Lyon, 69005, France</td>\n      <td>Lyon</td>\n      <td>France</td>\n      <td>€€€€</td>\n      <td>4</td>\n      <td>Creative</td>\n      <td>https://www.ly-au14fevrier.com/</td>\n      <td>1 MICHELIN Star</td>\n      <td>1.0</td>\n      <td>4.826382</td>\n      <td>45.762221</td>\n      <td>69</td>\n    </tr>\n    <tr>\n      <th>198</th>\n      <td>Têtedoie</td>\n      <td>4 rue Professeur-Pierre-Marion, Lyon, 69005, F...</td>\n      <td>Lyon</td>\n      <td>France</td>\n      <td>€€€€</td>\n      <td>4</td>\n      <td>Creative</td>\n      <td>https://tetedoie.com/</td>\n      <td>1 MICHELIN Star</td>\n      <td>1.0</td>\n      <td>4.823392</td>\n      <td>45.759073</td>\n      <td>69</td>\n    </tr>\n    <tr>\n      <th>221</th>\n      <td>Saisons</td>\n      <td>1A chemin de Calabert, Écully, 69130, France</td>\n      <td>Écully</td>\n      <td>France</td>\n      <td>€€€</td>\n      <td>3</td>\n      <td>Modern Cuisine</td>\n      <td>https://www.saisons-restaurant.fr/</td>\n      <td>1 MICHELIN Star</td>\n      <td>1.0</td>\n      <td>4.767870</td>\n      <td>45.777440</td>\n      <td>69</td>\n    </tr>\n    <tr>\n      <th>229</th>\n      <td>Prairial</td>\n      <td>11 rue Chavanne, Lyon, 69001, France</td>\n      <td>Lyon</td>\n      <td>France</td>\n      <td>€€€</td>\n      <td>3</td>\n      <td>Modern Cuisine</td>\n      <td>https://www.prairial-restaurant.fr</td>\n      <td>1 MICHELIN Star</td>\n      <td>1.0</td>\n      <td>4.832444</td>\n      <td>45.764905</td>\n      <td>69</td>\n    </tr>\n    <tr>\n      <th>254</th>\n      <td>Les Terrasses de Lyon</td>\n      <td>Villa Florentine, 25 montée Saint-Barthélémy, ...</td>\n      <td>Lyon</td>\n      <td>France</td>\n      <td>€€€€</td>\n      <td>4</td>\n      <td>Modern Cuisine</td>\n      <td>https://www.villaflorentine.com/fr/restaurant....</td>\n      <td>1 MICHELIN Star</td>\n      <td>1.0</td>\n      <td>4.825745</td>\n      <td>45.763250</td>\n      <td>69</td>\n    </tr>\n    <tr>\n      <th>278</th>\n      <td>Auberge du Cep</td>\n      <td>Place de l'Église, Fleurie, 69820, France</td>\n      <td>Fleurie</td>\n      <td>France</td>\n      <td>€€€</td>\n      <td>3</td>\n      <td>Modern Cuisine</td>\n      <td>http://www.aubergeducep.com</td>\n      <td>1 MICHELIN Star</td>\n      <td>1.0</td>\n      <td>4.696988</td>\n      <td>46.192136</td>\n      <td>69</td>\n    </tr>\n    <tr>\n      <th>392</th>\n      <td>Guy Lassausaie</td>\n      <td>3 rue de Belle-Sise, Chasselay, 69380, France</td>\n      <td>Chasselay</td>\n      <td>France</td>\n      <td>€€€</td>\n      <td>3</td>\n      <td>Modern Cuisine</td>\n      <td>https://www.guy-lassausaie.com/</td>\n      <td>1 MICHELIN Star</td>\n      <td>1.0</td>\n      <td>4.770391</td>\n      <td>45.872726</td>\n      <td>69</td>\n    </tr>\n    <tr>\n      <th>516</th>\n      <td>Miraflores</td>\n      <td>112 boulevard des Belges, Lyon, 69006, France</td>\n      <td>Lyon</td>\n      <td>France</td>\n      <td>€€€€</td>\n      <td>4</td>\n      <td>Peruvian</td>\n      <td>https://www.restaurant-miraflores.com/</td>\n      <td>1 MICHELIN Star</td>\n      <td>1.0</td>\n      <td>4.858591</td>\n      <td>45.768306</td>\n      <td>69</td>\n    </tr>\n    <tr>\n      <th>539</th>\n      <td>Rustique</td>\n      <td>14 rue d'Enghien, Lyon, 69002, France</td>\n      <td>Lyon</td>\n      <td>France</td>\n      <td>€€€</td>\n      <td>3</td>\n      <td>Creative</td>\n      <td>https://www.rustiquelyon.fr/</td>\n      <td>1 MICHELIN Star</td>\n      <td>1.0</td>\n      <td>4.826288</td>\n      <td>45.752063</td>\n      <td>69</td>\n    </tr>\n    <tr>\n      <th>599</th>\n      <td>La Sommelière</td>\n      <td>6 rue Mourguet, Lyon, 69005, France</td>\n      <td>Lyon</td>\n      <td>France</td>\n      <td>€€€</td>\n      <td>3</td>\n      <td>Modern Cuisine</td>\n      <td>https://www.la-sommeliere.net/</td>\n      <td>1 MICHELIN Star</td>\n      <td>1.0</td>\n      <td>4.826144</td>\n      <td>45.759793</td>\n      <td>69</td>\n    </tr>\n    <tr>\n      <th>603</th>\n      <td>La Mutinerie</td>\n      <td>123 rue Bugeaud, Lyon, 69006, France</td>\n      <td>Lyon</td>\n      <td>France</td>\n      <td>€€€</td>\n      <td>3</td>\n      <td>Creative</td>\n      <td>http://www.la-mutinerie.fr</td>\n      <td>1 MICHELIN Star</td>\n      <td>1.0</td>\n      <td>4.854575</td>\n      <td>45.767030</td>\n      <td>69</td>\n    </tr>\n    <tr>\n      <th>636</th>\n      <td>Alebrije</td>\n      <td>2 rue Belfort, Lyon, 69004, France</td>\n      <td>Lyon</td>\n      <td>France</td>\n      <td>€€</td>\n      <td>2</td>\n      <td>Mexican</td>\n      <td>https://alebrijelyon.fr</td>\n      <td>Bib Gourmand</td>\n      <td>0.5</td>\n      <td>4.834971</td>\n      <td>45.775957</td>\n      <td>69</td>\n    </tr>\n    <tr>\n      <th>645</th>\n      <td>PY Restaurant</td>\n      <td>16 cours Vitton, Lyon, 69006, France</td>\n      <td>Lyon</td>\n      <td>France</td>\n      <td>€€</td>\n      <td>2</td>\n      <td>Modern Cuisine</td>\n      <td>https://pyrestaurant.fr/fr</td>\n      <td>Bib Gourmand</td>\n      <td>0.5</td>\n      <td>4.851688</td>\n      <td>45.769311</td>\n      <td>69</td>\n    </tr>\n    <tr>\n      <th>647</th>\n      <td>Veronatuti</td>\n      <td>122 rue Montesquieu, Lyon, 69007, France</td>\n      <td>Lyon</td>\n      <td>France</td>\n      <td>€</td>\n      <td>1</td>\n      <td>Italian</td>\n      <td>NaN</td>\n      <td>Bib Gourmand</td>\n      <td>0.5</td>\n      <td>4.847713</td>\n      <td>45.749633</td>\n      <td>69</td>\n    </tr>\n    <tr>\n      <th>672</th>\n      <td>Le Tiroir</td>\n      <td>20 Grande Rue de Vaise, Lyon, 69009, France</td>\n      <td>Lyon</td>\n      <td>France</td>\n      <td>€€</td>\n      <td>2</td>\n      <td>Modern Cuisine</td>\n      <td>https://restaurant-letiroir.fr/</td>\n      <td>Bib Gourmand</td>\n      <td>0.5</td>\n      <td>4.807085</td>\n      <td>45.774438</td>\n      <td>69</td>\n    </tr>\n    <tr>\n      <th>681</th>\n      <td>Le Kitchen</td>\n      <td>34 rue Chevreul, Lyon, 69007, France</td>\n      <td>Lyon</td>\n      <td>France</td>\n      <td>€</td>\n      <td>1</td>\n      <td>Modern Cuisine</td>\n      <td>https://www.lekitchenlyon.com/</td>\n      <td>Bib Gourmand</td>\n      <td>0.5</td>\n      <td>4.839838</td>\n      <td>45.748504</td>\n      <td>69</td>\n    </tr>\n    <tr>\n      <th>682</th>\n      <td>Sauf Imprévu</td>\n      <td>40 rue Pierre-Corneille, Lyon, 69006, France</td>\n      <td>Lyon</td>\n      <td>France</td>\n      <td>€</td>\n      <td>1</td>\n      <td>Market Cuisine</td>\n      <td>NaN</td>\n      <td>Bib Gourmand</td>\n      <td>0.5</td>\n      <td>4.843458</td>\n      <td>45.765181</td>\n      <td>69</td>\n    </tr>\n    <tr>\n      <th>687</th>\n      <td>M Restaurant</td>\n      <td>47 avenue Foch, Lyon, 69006, France</td>\n      <td>Lyon</td>\n      <td>France</td>\n      <td>€€</td>\n      <td>2</td>\n      <td>Market Cuisine</td>\n      <td>https://www.mrestaurant.fr/</td>\n      <td>Bib Gourmand</td>\n      <td>0.5</td>\n      <td>4.843715</td>\n      <td>45.770569</td>\n      <td>69</td>\n    </tr>\n    <tr>\n      <th>689</th>\n      <td>Le Zeste Gourmand</td>\n      <td>93 rue Bossuet, Lyon, 69006, France</td>\n      <td>Lyon</td>\n      <td>France</td>\n      <td>€€</td>\n      <td>2</td>\n      <td>Modern Cuisine</td>\n      <td>https://lezestegourmand.fr/</td>\n      <td>Bib Gourmand</td>\n      <td>0.5</td>\n      <td>4.854904</td>\n      <td>45.768288</td>\n      <td>69</td>\n    </tr>\n    <tr>\n      <th>691</th>\n      <td>Saku Restaurant</td>\n      <td>27 rue Rachais, Lyon, 69007, France</td>\n      <td>Lyon</td>\n      <td>France</td>\n      <td>€€</td>\n      <td>2</td>\n      <td>Modern Cuisine</td>\n      <td>https://www.sakurestaurant.fr/</td>\n      <td>Bib Gourmand</td>\n      <td>0.5</td>\n      <td>4.851614</td>\n      <td>45.751492</td>\n      <td>69</td>\n    </tr>\n    <tr>\n      <th>732</th>\n      <td>Au Colombier</td>\n      <td>126 allée Colombier, Anse, 69480, France</td>\n      <td>Anse</td>\n      <td>France</td>\n      <td>€€</td>\n      <td>2</td>\n      <td>Modern Cuisine</td>\n      <td>https://www.aucolombier.com/</td>\n      <td>Bib Gourmand</td>\n      <td>0.5</td>\n      <td>4.725821</td>\n      <td>45.945435</td>\n      <td>69</td>\n    </tr>\n    <tr>\n      <th>859</th>\n      <td>Racine</td>\n      <td>1 rue du Chapeau-Rouge, Lyon, 69009, France</td>\n      <td>Lyon</td>\n      <td>France</td>\n      <td>€</td>\n      <td>1</td>\n      <td>Modern Cuisine</td>\n      <td>https://www.racinerestaurant-lyon.com/</td>\n      <td>Bib Gourmand</td>\n      <td>0.5</td>\n      <td>4.807470</td>\n      <td>45.774020</td>\n      <td>69</td>\n    </tr>\n    <tr>\n      <th>891</th>\n      <td>Bergamote</td>\n      <td>123 rue de Gerland, Lyon, 69007, France</td>\n      <td>Lyon</td>\n      <td>France</td>\n      <td>€€</td>\n      <td>2</td>\n      <td>Modern Cuisine</td>\n      <td>https://restaurant-bergamote.fr</td>\n      <td>Bib Gourmand</td>\n      <td>0.5</td>\n      <td>4.839592</td>\n      <td>45.734167</td>\n      <td>69</td>\n    </tr>\n    <tr>\n      <th>986</th>\n      <td>Agastache</td>\n      <td>134 rue Duguesclin, Lyon, 69006, France</td>\n      <td>Lyon</td>\n      <td>France</td>\n      <td>€€</td>\n      <td>2</td>\n      <td>Creative</td>\n      <td>https://agastache-restaurant-lyon.fr/</td>\n      <td>Bib Gourmand</td>\n      <td>0.5</td>\n      <td>4.847664</td>\n      <td>45.766393</td>\n      <td>69</td>\n    </tr>\n    <tr>\n      <th>1009</th>\n      <td>La Ferme du Poulet</td>\n      <td>180 rue Georges-Mangin, Villefranche-sur-Saône...</td>\n      <td>Villefranche-sur-Saône</td>\n      <td>France</td>\n      <td>€€</td>\n      <td>2</td>\n      <td>Traditional Cuisine</td>\n      <td>https://www.lafermedupoulet.com/</td>\n      <td>Bib Gourmand</td>\n      <td>0.5</td>\n      <td>4.738839</td>\n      <td>45.991068</td>\n      <td>69</td>\n    </tr>\n    <tr>\n      <th>1019</th>\n      <td>Le Jean Moulin</td>\n      <td>45 rue de Sèze, Lyon, 69006, France</td>\n      <td>Lyon</td>\n      <td>France</td>\n      <td>€€</td>\n      <td>2</td>\n      <td>Modern Cuisine</td>\n      <td>https://lejeanmoulin-lyon.com/</td>\n      <td>Bib Gourmand</td>\n      <td>0.5</td>\n      <td>4.847726</td>\n      <td>45.768341</td>\n      <td>69</td>\n    </tr>\n    <tr>\n      <th>1027</th>\n      <td>Le Beaujolais</td>\n      <td>40 rue du Maréchal-Foch, Belleville, 69220, Fr...</td>\n      <td>Belleville</td>\n      <td>France</td>\n      <td>€€</td>\n      <td>2</td>\n      <td>Traditional Cuisine</td>\n      <td>https://www.restaurant-le-beaujolais.com/</td>\n      <td>Bib Gourmand</td>\n      <td>0.5</td>\n      <td>4.730196</td>\n      <td>46.112593</td>\n      <td>69</td>\n    </tr>\n  </tbody>\n</table>\n</div>"
     },
     "execution_count": 194,
     "metadata": {},
     "output_type": "execute_result"
    }
   ],
   "source": [
    "lyon = france_data[france_data['department_num'] == '69']\n",
    "lyon"
   ],
   "metadata": {
    "collapsed": false,
    "ExecuteTime": {
     "end_time": "2023-08-04T21:01:33.317394Z",
     "start_time": "2023-08-04T21:01:33.255206Z"
    }
   }
  },
  {
   "cell_type": "markdown",
   "source": [
    "On the Wikipedia page, there are two departments 69"
   ],
   "metadata": {
    "collapsed": false
   }
  },
  {
   "cell_type": "code",
   "execution_count": 195,
   "outputs": [
    {
     "data": {
      "text/plain": "   department_num        department                region\n69            69D             Rhône  Auvergne-Rhône-Alpes\n70            69M  Lyon Metropolis   Auvergne-Rhône-Alpes",
      "text/html": "<div>\n<style scoped>\n    .dataframe tbody tr th:only-of-type {\n        vertical-align: middle;\n    }\n\n    .dataframe tbody tr th {\n        vertical-align: top;\n    }\n\n    .dataframe thead th {\n        text-align: right;\n    }\n</style>\n<table border=\"1\" class=\"dataframe\">\n  <thead>\n    <tr style=\"text-align: right;\">\n      <th></th>\n      <th>department_num</th>\n      <th>department</th>\n      <th>region</th>\n    </tr>\n  </thead>\n  <tbody>\n    <tr>\n      <th>69</th>\n      <td>69D</td>\n      <td>Rhône</td>\n      <td>Auvergne-Rhône-Alpes</td>\n    </tr>\n    <tr>\n      <th>70</th>\n      <td>69M</td>\n      <td>Lyon Metropolis</td>\n      <td>Auvergne-Rhône-Alpes</td>\n    </tr>\n  </tbody>\n</table>\n</div>"
     },
     "execution_count": 195,
     "metadata": {},
     "output_type": "execute_result"
    }
   ],
   "source": [
    "rhone = departments[departments['department_num'].str.startswith('69')]\n",
    "rhone"
   ],
   "metadata": {
    "collapsed": false,
    "ExecuteTime": {
     "end_time": "2023-08-04T21:01:33.334516Z",
     "start_time": "2023-08-04T21:01:33.272643Z"
    }
   }
  },
  {
   "cell_type": "code",
   "execution_count": 196,
   "outputs": [
    {
     "data": {
      "text/plain": "   department_num                department                      region\n0              01                       Ain        Auvergne-Rhône-Alpes\n1              02                     Aisne             Hauts-de-France\n2              03                    Allier        Auvergne-Rhône-Alpes\n3              04  Alpes-de-Haute-Provence   Provence-Alpes-Côte d'Azur\n4              05              Hautes-Alpes  Provence-Alpes-Côte d'Azur\n..            ...                       ...                         ...\n92             92           Hauts-de-Seine                Île-de-France\n93             93        Seine-Saint-Denis                Île-de-France\n94             94              Val-de-Marne               Île-de-France\n95             95                Val-d'Oise               Île-de-France\n96             98                    Monaco                      Monaco\n\n[97 rows x 3 columns]",
      "text/html": "<div>\n<style scoped>\n    .dataframe tbody tr th:only-of-type {\n        vertical-align: middle;\n    }\n\n    .dataframe tbody tr th {\n        vertical-align: top;\n    }\n\n    .dataframe thead th {\n        text-align: right;\n    }\n</style>\n<table border=\"1\" class=\"dataframe\">\n  <thead>\n    <tr style=\"text-align: right;\">\n      <th></th>\n      <th>department_num</th>\n      <th>department</th>\n      <th>region</th>\n    </tr>\n  </thead>\n  <tbody>\n    <tr>\n      <th>0</th>\n      <td>01</td>\n      <td>Ain</td>\n      <td>Auvergne-Rhône-Alpes</td>\n    </tr>\n    <tr>\n      <th>1</th>\n      <td>02</td>\n      <td>Aisne</td>\n      <td>Hauts-de-France</td>\n    </tr>\n    <tr>\n      <th>2</th>\n      <td>03</td>\n      <td>Allier</td>\n      <td>Auvergne-Rhône-Alpes</td>\n    </tr>\n    <tr>\n      <th>3</th>\n      <td>04</td>\n      <td>Alpes-de-Haute-Provence</td>\n      <td>Provence-Alpes-Côte d'Azur</td>\n    </tr>\n    <tr>\n      <th>4</th>\n      <td>05</td>\n      <td>Hautes-Alpes</td>\n      <td>Provence-Alpes-Côte d'Azur</td>\n    </tr>\n    <tr>\n      <th>...</th>\n      <td>...</td>\n      <td>...</td>\n      <td>...</td>\n    </tr>\n    <tr>\n      <th>92</th>\n      <td>92</td>\n      <td>Hauts-de-Seine</td>\n      <td>Île-de-France</td>\n    </tr>\n    <tr>\n      <th>93</th>\n      <td>93</td>\n      <td>Seine-Saint-Denis</td>\n      <td>Île-de-France</td>\n    </tr>\n    <tr>\n      <th>94</th>\n      <td>94</td>\n      <td>Val-de-Marne</td>\n      <td>Île-de-France</td>\n    </tr>\n    <tr>\n      <th>95</th>\n      <td>95</td>\n      <td>Val-d'Oise</td>\n      <td>Île-de-France</td>\n    </tr>\n    <tr>\n      <th>96</th>\n      <td>98</td>\n      <td>Monaco</td>\n      <td>Monaco</td>\n    </tr>\n  </tbody>\n</table>\n<p>97 rows × 3 columns</p>\n</div>"
     },
     "execution_count": 196,
     "metadata": {},
     "output_type": "execute_result"
    }
   ],
   "source": [
    "# Identify rows with department number '69D' or '69M'\n",
    "rows_to_update = departments['department_num'].isin(['69D', '69M'])\n",
    "\n",
    "# Update department name and department number for these rows\n",
    "departments.loc[rows_to_update, 'department'] = 'Rhône'\n",
    "departments.loc[rows_to_update, 'department_num'] = '69'\n",
    "\n",
    "# Drop the specified index\n",
    "departments = departments.drop(departments.index[69])\n",
    "\n",
    "# Reset the index\n",
    "departments = departments.reset_index(drop=True)\n",
    "departments"
   ],
   "metadata": {
    "collapsed": false,
    "ExecuteTime": {
     "end_time": "2023-08-04T21:01:33.337234Z",
     "start_time": "2023-08-04T21:01:33.282393Z"
    }
   }
  },
  {
   "cell_type": "markdown",
   "source": [
    "#### We now merge `france_data` and `departments` on `department_num`"
   ],
   "metadata": {
    "collapsed": false
   }
  },
  {
   "cell_type": "code",
   "execution_count": 197,
   "outputs": [
    {
     "name": "stdout",
     "output_type": "stream",
     "text": [
      "['name', 'address', 'city', 'country', 'price', 'price_num', 'cuisine', 'url', 'award', 'stars', 'longitude', 'latitude', 'department_num']\n"
     ]
    }
   ],
   "source": [
    "print(france_data.columns.tolist())"
   ],
   "metadata": {
    "collapsed": false,
    "ExecuteTime": {
     "end_time": "2023-08-04T21:01:33.337375Z",
     "start_time": "2023-08-04T21:01:33.286172Z"
    }
   }
  },
  {
   "cell_type": "code",
   "execution_count": 198,
   "outputs": [
    {
     "name": "stdout",
     "output_type": "stream",
     "text": [
      "['department_num', 'department', 'region']\n"
     ]
    }
   ],
   "source": [
    "print(departments.columns.tolist())"
   ],
   "metadata": {
    "collapsed": false,
    "ExecuteTime": {
     "end_time": "2023-08-04T21:01:33.337434Z",
     "start_time": "2023-08-04T21:01:33.289834Z"
    }
   }
  },
  {
   "cell_type": "code",
   "execution_count": 199,
   "outputs": [
    {
     "name": "stdout",
     "output_type": "stream",
     "text": [
      "['name', 'address', 'city', 'country', 'price', 'price_num', 'cuisine', 'url', 'award', 'stars', 'longitude', 'latitude', 'department_num', 'department', 'region']\n"
     ]
    }
   ],
   "source": [
    "# You can merge this DataFrame with your original DataFrame like this:\n",
    "france_data = france_data.merge(departments, on='department_num', how='left')\n",
    "print(france_data.columns.tolist())"
   ],
   "metadata": {
    "collapsed": false,
    "ExecuteTime": {
     "end_time": "2023-08-04T21:01:33.361152Z",
     "start_time": "2023-08-04T21:01:33.294821Z"
    }
   }
  },
  {
   "cell_type": "code",
   "execution_count": 200,
   "outputs": [
    {
     "data": {
      "text/plain": "                                     name  \\\n0  La Vague d'Or - Cheval Blanc St-Tropez   \n1                 René et Maxime Meilleur   \n2                                     Kei   \n3                  Auberge du Vieux Puits   \n4                 Régis et Jacques Marcon   \n\n                                             address  \\\n0  Plage de la Bouillabaisse, Saint-Tropez, 83990...   \n1  Hameau de  Saint-Marcel, Saint-Martin-de-Belle...   \n2           5 rue du Coq-Héron, Paris, 75001, France   \n3  5 avenue Saint-Victor, Fontjoncouse, 11360, Fr...   \n4   Larsiallas, Saint-Bonnet-le-Froid, 43290, France   \n\n                         city department_num   department  \\\n0                Saint-Tropez             83          Var   \n1  Saint-Martin-de-Belleville             73       Savoie   \n2                       Paris             75       Paris    \n3                Fontjoncouse             11         Aude   \n4       Saint-Bonnet-le-Froid             43  Haute-Loire   \n\n                       region country price  price_num  \\\n0  Provence-Alpes-Côte d'Azur  France  €€€€          4   \n1        Auvergne-Rhône-Alpes  France  €€€€          4   \n2               Île-de-France  France  €€€€          4   \n3                   Occitanie  France  €€€€          4   \n4        Auvergne-Rhône-Alpes  France  €€€€          4   \n\n                      cuisine  \\\n0    Creative, Modern Cuisine   \n1  Creative, Regional Cuisine   \n2    Modern Cuisine, Creative   \n3                    Creative   \n4                    Creative   \n\n                                                url             award  stars  \\\n0  https://www.chevalblanc.com/fr/maison/st-tropez/  3 MICHELIN Stars    3.0   \n1                    https://www.la-bouitte.com/fr/  3 MICHELIN Stars    3.0   \n2                    https://www.restaurant-kei.fr/  3 MICHELIN Stars    3.0   \n3            https://www.aubergeduvieuxpuits.fr/fr/  3 MICHELIN Stars    3.0   \n4                  https://www.lesmaisonsmarcon.fr/  3 MICHELIN Stars    3.0   \n\n   longitude   latitude  \n0   6.626154  43.266585  \n1   6.513306  45.369046  \n2   2.342285  48.864395  \n3   2.789329  43.048173  \n4   4.434268  45.138673  ",
      "text/html": "<div>\n<style scoped>\n    .dataframe tbody tr th:only-of-type {\n        vertical-align: middle;\n    }\n\n    .dataframe tbody tr th {\n        vertical-align: top;\n    }\n\n    .dataframe thead th {\n        text-align: right;\n    }\n</style>\n<table border=\"1\" class=\"dataframe\">\n  <thead>\n    <tr style=\"text-align: right;\">\n      <th></th>\n      <th>name</th>\n      <th>address</th>\n      <th>city</th>\n      <th>department_num</th>\n      <th>department</th>\n      <th>region</th>\n      <th>country</th>\n      <th>price</th>\n      <th>price_num</th>\n      <th>cuisine</th>\n      <th>url</th>\n      <th>award</th>\n      <th>stars</th>\n      <th>longitude</th>\n      <th>latitude</th>\n    </tr>\n  </thead>\n  <tbody>\n    <tr>\n      <th>0</th>\n      <td>La Vague d'Or - Cheval Blanc St-Tropez</td>\n      <td>Plage de la Bouillabaisse, Saint-Tropez, 83990...</td>\n      <td>Saint-Tropez</td>\n      <td>83</td>\n      <td>Var</td>\n      <td>Provence-Alpes-Côte d'Azur</td>\n      <td>France</td>\n      <td>€€€€</td>\n      <td>4</td>\n      <td>Creative, Modern Cuisine</td>\n      <td>https://www.chevalblanc.com/fr/maison/st-tropez/</td>\n      <td>3 MICHELIN Stars</td>\n      <td>3.0</td>\n      <td>6.626154</td>\n      <td>43.266585</td>\n    </tr>\n    <tr>\n      <th>1</th>\n      <td>René et Maxime Meilleur</td>\n      <td>Hameau de  Saint-Marcel, Saint-Martin-de-Belle...</td>\n      <td>Saint-Martin-de-Belleville</td>\n      <td>73</td>\n      <td>Savoie</td>\n      <td>Auvergne-Rhône-Alpes</td>\n      <td>France</td>\n      <td>€€€€</td>\n      <td>4</td>\n      <td>Creative, Regional Cuisine</td>\n      <td>https://www.la-bouitte.com/fr/</td>\n      <td>3 MICHELIN Stars</td>\n      <td>3.0</td>\n      <td>6.513306</td>\n      <td>45.369046</td>\n    </tr>\n    <tr>\n      <th>2</th>\n      <td>Kei</td>\n      <td>5 rue du Coq-Héron, Paris, 75001, France</td>\n      <td>Paris</td>\n      <td>75</td>\n      <td>Paris</td>\n      <td>Île-de-France</td>\n      <td>France</td>\n      <td>€€€€</td>\n      <td>4</td>\n      <td>Modern Cuisine, Creative</td>\n      <td>https://www.restaurant-kei.fr/</td>\n      <td>3 MICHELIN Stars</td>\n      <td>3.0</td>\n      <td>2.342285</td>\n      <td>48.864395</td>\n    </tr>\n    <tr>\n      <th>3</th>\n      <td>Auberge du Vieux Puits</td>\n      <td>5 avenue Saint-Victor, Fontjoncouse, 11360, Fr...</td>\n      <td>Fontjoncouse</td>\n      <td>11</td>\n      <td>Aude</td>\n      <td>Occitanie</td>\n      <td>France</td>\n      <td>€€€€</td>\n      <td>4</td>\n      <td>Creative</td>\n      <td>https://www.aubergeduvieuxpuits.fr/fr/</td>\n      <td>3 MICHELIN Stars</td>\n      <td>3.0</td>\n      <td>2.789329</td>\n      <td>43.048173</td>\n    </tr>\n    <tr>\n      <th>4</th>\n      <td>Régis et Jacques Marcon</td>\n      <td>Larsiallas, Saint-Bonnet-le-Froid, 43290, France</td>\n      <td>Saint-Bonnet-le-Froid</td>\n      <td>43</td>\n      <td>Haute-Loire</td>\n      <td>Auvergne-Rhône-Alpes</td>\n      <td>France</td>\n      <td>€€€€</td>\n      <td>4</td>\n      <td>Creative</td>\n      <td>https://www.lesmaisonsmarcon.fr/</td>\n      <td>3 MICHELIN Stars</td>\n      <td>3.0</td>\n      <td>4.434268</td>\n      <td>45.138673</td>\n    </tr>\n  </tbody>\n</table>\n</div>"
     },
     "execution_count": 200,
     "metadata": {},
     "output_type": "execute_result"
    }
   ],
   "source": [
    "france_data = france_data[['name', 'address', 'city', 'department_num', 'department', 'region',\n",
    "                           'country', 'price', 'price_num', 'cuisine', 'url', 'award', 'stars', 'longitude', 'latitude']]\n",
    "france_data.head()"
   ],
   "metadata": {
    "collapsed": false,
    "ExecuteTime": {
     "end_time": "2023-08-04T21:01:33.361366Z",
     "start_time": "2023-08-04T21:01:33.306504Z"
    }
   }
  },
  {
   "cell_type": "markdown",
   "source": [
    "We now create 2 more dataframes; `paris` and `rest_of_france`"
   ],
   "metadata": {
    "collapsed": false
   }
  },
  {
   "cell_type": "code",
   "execution_count": 201,
   "outputs": [],
   "source": [
    "# Create two new dataframes, one for London and one for the rest of the UK\n",
    "paris = france_data[france_data['city'] == 'Paris']\n",
    "rest_of_france = france_data[france_data['city'] != 'Paris']"
   ],
   "metadata": {
    "collapsed": false,
    "ExecuteTime": {
     "end_time": "2023-08-04T21:01:33.361409Z",
     "start_time": "2023-08-04T21:01:33.311816Z"
    }
   }
  },
  {
   "cell_type": "code",
   "execution_count": 202,
   "outputs": [
    {
     "name": "stdout",
     "output_type": "stream",
     "text": [
      "<class 'pandas.core.frame.DataFrame'>\n",
      "Int64Index: 159 entries, 2 to 1026\n",
      "Data columns (total 15 columns):\n",
      " #   Column          Non-Null Count  Dtype  \n",
      "---  ------          --------------  -----  \n",
      " 0   name            159 non-null    object \n",
      " 1   address         159 non-null    object \n",
      " 2   city            159 non-null    object \n",
      " 3   department_num  159 non-null    object \n",
      " 4   department      159 non-null    object \n",
      " 5   region          159 non-null    object \n",
      " 6   country         159 non-null    object \n",
      " 7   price           159 non-null    object \n",
      " 8   price_num       159 non-null    int64  \n",
      " 9   cuisine         159 non-null    object \n",
      " 10  url             153 non-null    object \n",
      " 11  award           159 non-null    object \n",
      " 12  stars           159 non-null    float64\n",
      " 13  longitude       159 non-null    float64\n",
      " 14  latitude        159 non-null    float64\n",
      "dtypes: float64(3), int64(1), object(11)\n",
      "memory usage: 19.9+ KB\n"
     ]
    }
   ],
   "source": [
    "paris.info()"
   ],
   "metadata": {
    "collapsed": false,
    "ExecuteTime": {
     "end_time": "2023-08-04T21:01:33.361795Z",
     "start_time": "2023-08-04T21:01:33.327810Z"
    }
   }
  },
  {
   "cell_type": "markdown",
   "source": [
    "#### We may further sub-divide paris by arrondissements"
   ],
   "metadata": {
    "collapsed": false
   }
  },
  {
   "cell_type": "code",
   "execution_count": 203,
   "outputs": [
    {
     "name": "stdout",
     "output_type": "stream",
     "text": [
      "<class 'pandas.core.frame.DataFrame'>\n",
      "Int64Index: 880 entries, 0 to 1038\n",
      "Data columns (total 15 columns):\n",
      " #   Column          Non-Null Count  Dtype  \n",
      "---  ------          --------------  -----  \n",
      " 0   name            880 non-null    object \n",
      " 1   address         880 non-null    object \n",
      " 2   city            880 non-null    object \n",
      " 3   department_num  880 non-null    object \n",
      " 4   department      874 non-null    object \n",
      " 5   region          874 non-null    object \n",
      " 6   country         880 non-null    object \n",
      " 7   price           880 non-null    object \n",
      " 8   price_num       880 non-null    int64  \n",
      " 9   cuisine         880 non-null    object \n",
      " 10  url             842 non-null    object \n",
      " 11  award           880 non-null    object \n",
      " 12  stars           880 non-null    float64\n",
      " 13  longitude       880 non-null    float64\n",
      " 14  latitude        880 non-null    float64\n",
      "dtypes: float64(3), int64(1), object(11)\n",
      "memory usage: 110.0+ KB\n"
     ]
    }
   ],
   "source": [
    "rest_of_france.info()"
   ],
   "metadata": {
    "collapsed": false,
    "ExecuteTime": {
     "end_time": "2023-08-04T21:01:33.362294Z",
     "start_time": "2023-08-04T21:01:33.328111Z"
    }
   }
  },
  {
   "cell_type": "markdown",
   "source": [
    "`rest_of_france` has some null values for `department` and `region`"
   ],
   "metadata": {
    "collapsed": false
   }
  },
  {
   "cell_type": "code",
   "execution_count": 204,
   "outputs": [
    {
     "data": {
      "text/plain": "                     name                                            address  \\\n39             Casadelmar  7 km par route de la plage de Palombaggia, Por...   \n249          A Casa di Ma               Route de Calvi, Lumio, 20260, France   \n279  La Table de la Ferme  Vallée de l'Ortolo, domaine de Murtoli, Murtol...   \n525           La Signoria  Route de la Forêt-de-Bonifato, Calvi, 20260, F...   \n818             U Licettu          Plaine de Cuttoli, Cuttoli, 20167, France   \n984    A Mandria di Pigna                      Village, Pigna, 20220, France   \n\n              city department_num department region country price  price_num  \\\n39   Porto-Vecchio             20        NaN    NaN  France  €€€€          4   \n249          Lumio             20        NaN    NaN  France  €€€€          4   \n279        Murtoli             20        NaN    NaN  France  €€€€          4   \n525          Calvi             20        NaN    NaN  France  €€€€          4   \n818        Cuttoli             20        NaN    NaN  France    €€          2   \n984          Pigna             20        NaN    NaN  France    €€          2   \n\n                      cuisine                                 url  \\\n39             Modern Cuisine       https://www.casadelmar.fr/fr/   \n249            Modern Cuisine          https://www.acasadima.com/   \n279  Modern Cuisine, Corsican            https://www.murtoli.com/   \n525            Modern Cuisine  https://www.hotel-la-signoria.com/   \n818       Traditional Cuisine          https://www.u-licettu.com/   \n984                  Corsican    https://www.restaurantpigna.com/   \n\n                award  stars  longitude   latitude  \n39   2 MICHELIN Stars    2.0   9.309977  41.594810  \n249   1 MICHELIN Star    1.0   8.831886  42.581304  \n279   1 MICHELIN Star    1.0   8.946903  41.522976  \n525   1 MICHELIN Star    1.0   8.784631  42.536832  \n818      Bib Gourmand    0.5   8.845830  41.963936  \n984      Bib Gourmand    0.5   8.903190  42.598780  ",
      "text/html": "<div>\n<style scoped>\n    .dataframe tbody tr th:only-of-type {\n        vertical-align: middle;\n    }\n\n    .dataframe tbody tr th {\n        vertical-align: top;\n    }\n\n    .dataframe thead th {\n        text-align: right;\n    }\n</style>\n<table border=\"1\" class=\"dataframe\">\n  <thead>\n    <tr style=\"text-align: right;\">\n      <th></th>\n      <th>name</th>\n      <th>address</th>\n      <th>city</th>\n      <th>department_num</th>\n      <th>department</th>\n      <th>region</th>\n      <th>country</th>\n      <th>price</th>\n      <th>price_num</th>\n      <th>cuisine</th>\n      <th>url</th>\n      <th>award</th>\n      <th>stars</th>\n      <th>longitude</th>\n      <th>latitude</th>\n    </tr>\n  </thead>\n  <tbody>\n    <tr>\n      <th>39</th>\n      <td>Casadelmar</td>\n      <td>7 km par route de la plage de Palombaggia, Por...</td>\n      <td>Porto-Vecchio</td>\n      <td>20</td>\n      <td>NaN</td>\n      <td>NaN</td>\n      <td>France</td>\n      <td>€€€€</td>\n      <td>4</td>\n      <td>Modern Cuisine</td>\n      <td>https://www.casadelmar.fr/fr/</td>\n      <td>2 MICHELIN Stars</td>\n      <td>2.0</td>\n      <td>9.309977</td>\n      <td>41.594810</td>\n    </tr>\n    <tr>\n      <th>249</th>\n      <td>A Casa di Ma</td>\n      <td>Route de Calvi, Lumio, 20260, France</td>\n      <td>Lumio</td>\n      <td>20</td>\n      <td>NaN</td>\n      <td>NaN</td>\n      <td>France</td>\n      <td>€€€€</td>\n      <td>4</td>\n      <td>Modern Cuisine</td>\n      <td>https://www.acasadima.com/</td>\n      <td>1 MICHELIN Star</td>\n      <td>1.0</td>\n      <td>8.831886</td>\n      <td>42.581304</td>\n    </tr>\n    <tr>\n      <th>279</th>\n      <td>La Table de la Ferme</td>\n      <td>Vallée de l'Ortolo, domaine de Murtoli, Murtol...</td>\n      <td>Murtoli</td>\n      <td>20</td>\n      <td>NaN</td>\n      <td>NaN</td>\n      <td>France</td>\n      <td>€€€€</td>\n      <td>4</td>\n      <td>Modern Cuisine, Corsican</td>\n      <td>https://www.murtoli.com/</td>\n      <td>1 MICHELIN Star</td>\n      <td>1.0</td>\n      <td>8.946903</td>\n      <td>41.522976</td>\n    </tr>\n    <tr>\n      <th>525</th>\n      <td>La Signoria</td>\n      <td>Route de la Forêt-de-Bonifato, Calvi, 20260, F...</td>\n      <td>Calvi</td>\n      <td>20</td>\n      <td>NaN</td>\n      <td>NaN</td>\n      <td>France</td>\n      <td>€€€€</td>\n      <td>4</td>\n      <td>Modern Cuisine</td>\n      <td>https://www.hotel-la-signoria.com/</td>\n      <td>1 MICHELIN Star</td>\n      <td>1.0</td>\n      <td>8.784631</td>\n      <td>42.536832</td>\n    </tr>\n    <tr>\n      <th>818</th>\n      <td>U Licettu</td>\n      <td>Plaine de Cuttoli, Cuttoli, 20167, France</td>\n      <td>Cuttoli</td>\n      <td>20</td>\n      <td>NaN</td>\n      <td>NaN</td>\n      <td>France</td>\n      <td>€€</td>\n      <td>2</td>\n      <td>Traditional Cuisine</td>\n      <td>https://www.u-licettu.com/</td>\n      <td>Bib Gourmand</td>\n      <td>0.5</td>\n      <td>8.845830</td>\n      <td>41.963936</td>\n    </tr>\n    <tr>\n      <th>984</th>\n      <td>A Mandria di Pigna</td>\n      <td>Village, Pigna, 20220, France</td>\n      <td>Pigna</td>\n      <td>20</td>\n      <td>NaN</td>\n      <td>NaN</td>\n      <td>France</td>\n      <td>€€</td>\n      <td>2</td>\n      <td>Corsican</td>\n      <td>https://www.restaurantpigna.com/</td>\n      <td>Bib Gourmand</td>\n      <td>0.5</td>\n      <td>8.903190</td>\n      <td>42.598780</td>\n    </tr>\n  </tbody>\n</table>\n</div>"
     },
     "execution_count": 204,
     "metadata": {},
     "output_type": "execute_result"
    }
   ],
   "source": [
    "# Select rows where 'department' and 'region' are NaN\n",
    "rest_of_france_null = france_data[(france_data['department'].isnull()) & (france_data['region'].isnull())]\n",
    "\n",
    "# Print the resulting DataFrame\n",
    "rest_of_france_null"
   ],
   "metadata": {
    "collapsed": false,
    "ExecuteTime": {
     "end_time": "2023-08-04T21:01:38.244904Z",
     "start_time": "2023-08-04T21:01:38.238977Z"
    }
   }
  },
  {
   "cell_type": "markdown",
   "source": [
    "`department_num` = 20 represents Corsica.\n",
    "\n",
    "Strictly there are two departments, 2A and 2B. This level of detail is not required"
   ],
   "metadata": {
    "collapsed": false
   }
  },
  {
   "cell_type": "code",
   "execution_count": 206,
   "outputs": [],
   "source": [
    "# Filter rows where 'department_num' is 20\n",
    "france_data.loc[france_data['department_num'] == '20', 'department'] = 'Corsica'\n",
    "france_data.loc[france_data['department_num'] == '20', 'region'] = 'Corsica'\n",
    "\n",
    "# We split by city != Paris again\n",
    "rest_of_france = france_data[france_data['city'] != 'Paris']"
   ],
   "metadata": {
    "collapsed": false,
    "ExecuteTime": {
     "end_time": "2023-08-04T21:09:06.203938Z",
     "start_time": "2023-08-04T21:09:06.195453Z"
    }
   }
  },
  {
   "cell_type": "code",
   "execution_count": 207,
   "outputs": [
    {
     "name": "stdout",
     "output_type": "stream",
     "text": [
      "<class 'pandas.core.frame.DataFrame'>\n",
      "Int64Index: 880 entries, 0 to 1038\n",
      "Data columns (total 15 columns):\n",
      " #   Column          Non-Null Count  Dtype  \n",
      "---  ------          --------------  -----  \n",
      " 0   name            880 non-null    object \n",
      " 1   address         880 non-null    object \n",
      " 2   city            880 non-null    object \n",
      " 3   department_num  880 non-null    object \n",
      " 4   department      880 non-null    object \n",
      " 5   region          880 non-null    object \n",
      " 6   country         880 non-null    object \n",
      " 7   price           880 non-null    object \n",
      " 8   price_num       880 non-null    int64  \n",
      " 9   cuisine         880 non-null    object \n",
      " 10  url             842 non-null    object \n",
      " 11  award           880 non-null    object \n",
      " 12  stars           880 non-null    float64\n",
      " 13  longitude       880 non-null    float64\n",
      " 14  latitude        880 non-null    float64\n",
      "dtypes: float64(3), int64(1), object(11)\n",
      "memory usage: 110.0+ KB\n"
     ]
    }
   ],
   "source": [
    "rest_of_france.info()"
   ],
   "metadata": {
    "collapsed": false,
    "ExecuteTime": {
     "end_time": "2023-08-04T21:09:11.259739Z",
     "start_time": "2023-08-04T21:09:11.246048Z"
    }
   }
  },
  {
   "cell_type": "markdown",
   "source": [
    "The data is cleaned, split and ready for further analysis"
   ],
   "metadata": {
    "collapsed": false
   }
  },
  {
   "cell_type": "markdown",
   "source": [
    "----\n",
    "&nbsp;\n",
    "## Analysis by Region"
   ],
   "metadata": {
    "collapsed": false
   }
  },
  {
   "cell_type": "code",
   "execution_count": 208,
   "outputs": [
    {
     "data": {
      "text/plain": "                                     name  \\\n0  La Vague d'Or - Cheval Blanc St-Tropez   \n1                 René et Maxime Meilleur   \n2                                     Kei   \n3                  Auberge du Vieux Puits   \n4                 Régis et Jacques Marcon   \n\n                                             address  \\\n0  Plage de la Bouillabaisse, Saint-Tropez, 83990...   \n1  Hameau de  Saint-Marcel, Saint-Martin-de-Belle...   \n2           5 rue du Coq-Héron, Paris, 75001, France   \n3  5 avenue Saint-Victor, Fontjoncouse, 11360, Fr...   \n4   Larsiallas, Saint-Bonnet-le-Froid, 43290, France   \n\n                         city department_num   department  \\\n0                Saint-Tropez             83          Var   \n1  Saint-Martin-de-Belleville             73       Savoie   \n2                       Paris             75       Paris    \n3                Fontjoncouse             11         Aude   \n4       Saint-Bonnet-le-Froid             43  Haute-Loire   \n\n                       region country price  price_num  \\\n0  Provence-Alpes-Côte d'Azur  France  €€€€          4   \n1        Auvergne-Rhône-Alpes  France  €€€€          4   \n2               Île-de-France  France  €€€€          4   \n3                   Occitanie  France  €€€€          4   \n4        Auvergne-Rhône-Alpes  France  €€€€          4   \n\n                      cuisine  \\\n0    Creative, Modern Cuisine   \n1  Creative, Regional Cuisine   \n2    Modern Cuisine, Creative   \n3                    Creative   \n4                    Creative   \n\n                                                url             award  stars  \\\n0  https://www.chevalblanc.com/fr/maison/st-tropez/  3 MICHELIN Stars    3.0   \n1                    https://www.la-bouitte.com/fr/  3 MICHELIN Stars    3.0   \n2                    https://www.restaurant-kei.fr/  3 MICHELIN Stars    3.0   \n3            https://www.aubergeduvieuxpuits.fr/fr/  3 MICHELIN Stars    3.0   \n4                  https://www.lesmaisonsmarcon.fr/  3 MICHELIN Stars    3.0   \n\n   longitude   latitude  \n0   6.626154  43.266585  \n1   6.513306  45.369046  \n2   2.342285  48.864395  \n3   2.789329  43.048173  \n4   4.434268  45.138673  ",
      "text/html": "<div>\n<style scoped>\n    .dataframe tbody tr th:only-of-type {\n        vertical-align: middle;\n    }\n\n    .dataframe tbody tr th {\n        vertical-align: top;\n    }\n\n    .dataframe thead th {\n        text-align: right;\n    }\n</style>\n<table border=\"1\" class=\"dataframe\">\n  <thead>\n    <tr style=\"text-align: right;\">\n      <th></th>\n      <th>name</th>\n      <th>address</th>\n      <th>city</th>\n      <th>department_num</th>\n      <th>department</th>\n      <th>region</th>\n      <th>country</th>\n      <th>price</th>\n      <th>price_num</th>\n      <th>cuisine</th>\n      <th>url</th>\n      <th>award</th>\n      <th>stars</th>\n      <th>longitude</th>\n      <th>latitude</th>\n    </tr>\n  </thead>\n  <tbody>\n    <tr>\n      <th>0</th>\n      <td>La Vague d'Or - Cheval Blanc St-Tropez</td>\n      <td>Plage de la Bouillabaisse, Saint-Tropez, 83990...</td>\n      <td>Saint-Tropez</td>\n      <td>83</td>\n      <td>Var</td>\n      <td>Provence-Alpes-Côte d'Azur</td>\n      <td>France</td>\n      <td>€€€€</td>\n      <td>4</td>\n      <td>Creative, Modern Cuisine</td>\n      <td>https://www.chevalblanc.com/fr/maison/st-tropez/</td>\n      <td>3 MICHELIN Stars</td>\n      <td>3.0</td>\n      <td>6.626154</td>\n      <td>43.266585</td>\n    </tr>\n    <tr>\n      <th>1</th>\n      <td>René et Maxime Meilleur</td>\n      <td>Hameau de  Saint-Marcel, Saint-Martin-de-Belle...</td>\n      <td>Saint-Martin-de-Belleville</td>\n      <td>73</td>\n      <td>Savoie</td>\n      <td>Auvergne-Rhône-Alpes</td>\n      <td>France</td>\n      <td>€€€€</td>\n      <td>4</td>\n      <td>Creative, Regional Cuisine</td>\n      <td>https://www.la-bouitte.com/fr/</td>\n      <td>3 MICHELIN Stars</td>\n      <td>3.0</td>\n      <td>6.513306</td>\n      <td>45.369046</td>\n    </tr>\n    <tr>\n      <th>2</th>\n      <td>Kei</td>\n      <td>5 rue du Coq-Héron, Paris, 75001, France</td>\n      <td>Paris</td>\n      <td>75</td>\n      <td>Paris</td>\n      <td>Île-de-France</td>\n      <td>France</td>\n      <td>€€€€</td>\n      <td>4</td>\n      <td>Modern Cuisine, Creative</td>\n      <td>https://www.restaurant-kei.fr/</td>\n      <td>3 MICHELIN Stars</td>\n      <td>3.0</td>\n      <td>2.342285</td>\n      <td>48.864395</td>\n    </tr>\n    <tr>\n      <th>3</th>\n      <td>Auberge du Vieux Puits</td>\n      <td>5 avenue Saint-Victor, Fontjoncouse, 11360, Fr...</td>\n      <td>Fontjoncouse</td>\n      <td>11</td>\n      <td>Aude</td>\n      <td>Occitanie</td>\n      <td>France</td>\n      <td>€€€€</td>\n      <td>4</td>\n      <td>Creative</td>\n      <td>https://www.aubergeduvieuxpuits.fr/fr/</td>\n      <td>3 MICHELIN Stars</td>\n      <td>3.0</td>\n      <td>2.789329</td>\n      <td>43.048173</td>\n    </tr>\n    <tr>\n      <th>4</th>\n      <td>Régis et Jacques Marcon</td>\n      <td>Larsiallas, Saint-Bonnet-le-Froid, 43290, France</td>\n      <td>Saint-Bonnet-le-Froid</td>\n      <td>43</td>\n      <td>Haute-Loire</td>\n      <td>Auvergne-Rhône-Alpes</td>\n      <td>France</td>\n      <td>€€€€</td>\n      <td>4</td>\n      <td>Creative</td>\n      <td>https://www.lesmaisonsmarcon.fr/</td>\n      <td>3 MICHELIN Stars</td>\n      <td>3.0</td>\n      <td>4.434268</td>\n      <td>45.138673</td>\n    </tr>\n  </tbody>\n</table>\n</div>"
     },
     "execution_count": 208,
     "metadata": {},
     "output_type": "execute_result"
    }
   ],
   "source": [
    "france_data.head()"
   ],
   "metadata": {
    "collapsed": false,
    "ExecuteTime": {
     "end_time": "2023-08-04T21:10:54.824029Z",
     "start_time": "2023-08-04T21:10:54.809240Z"
    }
   }
  },
  {
   "cell_type": "code",
   "execution_count": 209,
   "outputs": [
    {
     "data": {
      "text/plain": "              name                                            address   city  \\\n2              Kei           5 rue du Coq-Héron, Paris, 75001, France  Paris   \n11  Le Pré Catelan  Route de Suresnes - bois de Boulogne, Paris, 7...  Paris   \n13         Épicure  Le Bristol, 112 rue du Faubourg-Saint-Honoré, ...  Paris   \n14          Arpège            84 rue de Varenne, Paris, 75007, France  Paris   \n15     L'Ambroisie           9 place des Vosges, Paris, 75004, France  Paris   \n\n   department_num department         region country price  price_num  \\\n2              75     Paris   Île-de-France  France  €€€€          4   \n11             75     Paris   Île-de-France  France  €€€€          4   \n13             75     Paris   Île-de-France  France  €€€€          4   \n14             75     Paris   Île-de-France  France  €€€€          4   \n15             75     Paris   Île-de-France  France  €€€€          4   \n\n                            cuisine  \\\n2          Modern Cuisine, Creative   \n11  Modern Cuisine, Classic Cuisine   \n13                   Modern Cuisine   \n14                         Creative   \n15                  Classic Cuisine   \n\n                                                  url             award  \\\n2                      https://www.restaurant-kei.fr/  3 MICHELIN Stars   \n11                      https://www.leprecatelan.com/  3 MICHELIN Stars   \n13  https://www.oetkercollection.com/fr/hotels/le-...  3 MICHELIN Stars   \n14                     https://www.alain-passard.com/  3 MICHELIN Stars   \n15                   https://www.ambroisie-paris.com/  3 MICHELIN Stars   \n\n    stars  longitude   latitude  \n2     3.0   2.342285  48.864395  \n11    3.0   2.250718  48.863937  \n13    3.0   2.314625  48.871762  \n14    3.0   2.316965  48.855731  \n15    3.0   2.364521  48.855494  ",
      "text/html": "<div>\n<style scoped>\n    .dataframe tbody tr th:only-of-type {\n        vertical-align: middle;\n    }\n\n    .dataframe tbody tr th {\n        vertical-align: top;\n    }\n\n    .dataframe thead th {\n        text-align: right;\n    }\n</style>\n<table border=\"1\" class=\"dataframe\">\n  <thead>\n    <tr style=\"text-align: right;\">\n      <th></th>\n      <th>name</th>\n      <th>address</th>\n      <th>city</th>\n      <th>department_num</th>\n      <th>department</th>\n      <th>region</th>\n      <th>country</th>\n      <th>price</th>\n      <th>price_num</th>\n      <th>cuisine</th>\n      <th>url</th>\n      <th>award</th>\n      <th>stars</th>\n      <th>longitude</th>\n      <th>latitude</th>\n    </tr>\n  </thead>\n  <tbody>\n    <tr>\n      <th>2</th>\n      <td>Kei</td>\n      <td>5 rue du Coq-Héron, Paris, 75001, France</td>\n      <td>Paris</td>\n      <td>75</td>\n      <td>Paris</td>\n      <td>Île-de-France</td>\n      <td>France</td>\n      <td>€€€€</td>\n      <td>4</td>\n      <td>Modern Cuisine, Creative</td>\n      <td>https://www.restaurant-kei.fr/</td>\n      <td>3 MICHELIN Stars</td>\n      <td>3.0</td>\n      <td>2.342285</td>\n      <td>48.864395</td>\n    </tr>\n    <tr>\n      <th>11</th>\n      <td>Le Pré Catelan</td>\n      <td>Route de Suresnes - bois de Boulogne, Paris, 7...</td>\n      <td>Paris</td>\n      <td>75</td>\n      <td>Paris</td>\n      <td>Île-de-France</td>\n      <td>France</td>\n      <td>€€€€</td>\n      <td>4</td>\n      <td>Modern Cuisine, Classic Cuisine</td>\n      <td>https://www.leprecatelan.com/</td>\n      <td>3 MICHELIN Stars</td>\n      <td>3.0</td>\n      <td>2.250718</td>\n      <td>48.863937</td>\n    </tr>\n    <tr>\n      <th>13</th>\n      <td>Épicure</td>\n      <td>Le Bristol, 112 rue du Faubourg-Saint-Honoré, ...</td>\n      <td>Paris</td>\n      <td>75</td>\n      <td>Paris</td>\n      <td>Île-de-France</td>\n      <td>France</td>\n      <td>€€€€</td>\n      <td>4</td>\n      <td>Modern Cuisine</td>\n      <td>https://www.oetkercollection.com/fr/hotels/le-...</td>\n      <td>3 MICHELIN Stars</td>\n      <td>3.0</td>\n      <td>2.314625</td>\n      <td>48.871762</td>\n    </tr>\n    <tr>\n      <th>14</th>\n      <td>Arpège</td>\n      <td>84 rue de Varenne, Paris, 75007, France</td>\n      <td>Paris</td>\n      <td>75</td>\n      <td>Paris</td>\n      <td>Île-de-France</td>\n      <td>France</td>\n      <td>€€€€</td>\n      <td>4</td>\n      <td>Creative</td>\n      <td>https://www.alain-passard.com/</td>\n      <td>3 MICHELIN Stars</td>\n      <td>3.0</td>\n      <td>2.316965</td>\n      <td>48.855731</td>\n    </tr>\n    <tr>\n      <th>15</th>\n      <td>L'Ambroisie</td>\n      <td>9 place des Vosges, Paris, 75004, France</td>\n      <td>Paris</td>\n      <td>75</td>\n      <td>Paris</td>\n      <td>Île-de-France</td>\n      <td>France</td>\n      <td>€€€€</td>\n      <td>4</td>\n      <td>Classic Cuisine</td>\n      <td>https://www.ambroisie-paris.com/</td>\n      <td>3 MICHELIN Stars</td>\n      <td>3.0</td>\n      <td>2.364521</td>\n      <td>48.855494</td>\n    </tr>\n  </tbody>\n</table>\n</div>"
     },
     "execution_count": 209,
     "metadata": {},
     "output_type": "execute_result"
    }
   ],
   "source": [
    "paris.head()"
   ],
   "metadata": {
    "collapsed": false,
    "ExecuteTime": {
     "end_time": "2023-08-04T21:11:11.860697Z",
     "start_time": "2023-08-04T21:11:11.845375Z"
    }
   }
  },
  {
   "cell_type": "code",
   "execution_count": null,
   "outputs": [],
   "source": [],
   "metadata": {
    "collapsed": false
   }
  }
 ],
 "metadata": {
  "kernelspec": {
   "display_name": "Python 3",
   "language": "python",
   "name": "python3"
  },
  "language_info": {
   "codemirror_mode": {
    "name": "ipython",
    "version": 2
   },
   "file_extension": ".py",
   "mimetype": "text/x-python",
   "name": "python",
   "nbconvert_exporter": "python",
   "pygments_lexer": "ipython2",
   "version": "2.7.6"
  }
 },
 "nbformat": 4,
 "nbformat_minor": 0
}
