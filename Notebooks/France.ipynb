{
 "cells": [
  {
   "cell_type": "markdown",
   "source": [
    "# Michelin Rated Restaurants in France"
   ],
   "metadata": {
    "collapsed": false
   }
  },
  {
   "cell_type": "code",
   "execution_count": 1,
   "metadata": {
    "collapsed": true,
    "ExecuteTime": {
     "end_time": "2023-08-04T12:47:53.443437Z",
     "start_time": "2023-08-04T12:47:51.954258Z"
    }
   },
   "outputs": [],
   "source": [
    "import pandas as pd\n",
    "import numpy as np\n",
    "import matplotlib as mpl\n",
    "import matplotlib.pyplot as plt"
   ]
  },
  {
   "cell_type": "markdown",
   "source": [
    "----\n",
    "&nbsp;\n",
    "## Import the cleaned French dataset"
   ],
   "metadata": {
    "collapsed": false
   }
  },
  {
   "cell_type": "code",
   "execution_count": 3,
   "outputs": [
    {
     "data": {
      "text/plain": "                                     name  \\\n0  La Vague d'Or - Cheval Blanc St-Tropez   \n1                 René et Maxime Meilleur   \n2                                     Kei   \n3                  Auberge du Vieux Puits   \n4                 Régis et Jacques Marcon   \n5                    Assiette Champenoise   \n6       Troisgros - Le Bois sans Feuilles   \n7                        Le Clos des Sens   \n8                               La Marine   \n9                          La Villa Madie   \n\n                                             address  \\\n0  Plage de la Bouillabaisse, Saint-Tropez, 83990...   \n1  Hameau de  Saint-Marcel, Saint-Martin-de-Belle...   \n2           5 rue du Coq-Héron, Paris, 75001, France   \n3  5 avenue Saint-Victor, Fontjoncouse, 11360, Fr...   \n4   Larsiallas, Saint-Bonnet-le-Froid, 43290, France   \n5  40 avenue Paul-Vaillant-Couturier, à Tinqueux,...   \n6      728 route de Villerest, Ouches, 42155, France   \n7  13 rue Jean-Mermoz - à Annecy-le-Vieux, Annecy...   \n8  3 rue Marie-Lemonnier, L'Herbaudière, 85330, F...   \n9          Avenue de Revestel, Cassis, 13260, France   \n\n                         city country price                          cuisine  \\\n0                Saint-Tropez  France  €€€€         Creative, Modern Cuisine   \n1  Saint-Martin-de-Belleville  France  €€€€       Creative, Regional Cuisine   \n2                       Paris  France  €€€€         Modern Cuisine, Creative   \n3                Fontjoncouse  France  €€€€                         Creative   \n4       Saint-Bonnet-le-Froid  France  €€€€                         Creative   \n5                       Reims  France  €€€€                         Creative   \n6                      Ouches  France  €€€€                         Creative   \n7                      Annecy  France  €€€€                         Creative   \n8               L'Herbaudière  France  €€€€                Creative, Seafood   \n9                      Cassis  France  €€€€  Creative, Mediterranean Cuisine   \n\n                                                url             award  stars  \\\n0  https://www.chevalblanc.com/fr/maison/st-tropez/  3 MICHELIN Stars    3.0   \n1                    https://www.la-bouitte.com/fr/  3 MICHELIN Stars    3.0   \n2                    https://www.restaurant-kei.fr/  3 MICHELIN Stars    3.0   \n3            https://www.aubergeduvieuxpuits.fr/fr/  3 MICHELIN Stars    3.0   \n4                  https://www.lesmaisonsmarcon.fr/  3 MICHELIN Stars    3.0   \n5              https://www.assiettechampenoise.com/  3 MICHELIN Stars    3.0   \n6                        https://www.troisgros.com/  3 MICHELIN Stars    3.0   \n7                      https://www.closdessens.com/  3 MICHELIN Stars    3.0   \n8             https://www.alexandrecouillon.com/fr/  3 MICHELIN Stars    3.0   \n9                         https://lavillamadie.com/  3 MICHELIN Stars    3.0   \n\n   longitude   latitude  \n0   6.626154  43.266585  \n1   6.513306  45.369046  \n2   2.342285  48.864395  \n3   2.789329  43.048173  \n4   4.434268  45.138673  \n5   4.003267  49.247835  \n6   3.992360  46.010330  \n7   6.144577  45.917632  \n8  -2.299934  47.023710  \n9   5.544944  43.211089  ",
      "text/html": "<div>\n<style scoped>\n    .dataframe tbody tr th:only-of-type {\n        vertical-align: middle;\n    }\n\n    .dataframe tbody tr th {\n        vertical-align: top;\n    }\n\n    .dataframe thead th {\n        text-align: right;\n    }\n</style>\n<table border=\"1\" class=\"dataframe\">\n  <thead>\n    <tr style=\"text-align: right;\">\n      <th></th>\n      <th>name</th>\n      <th>address</th>\n      <th>city</th>\n      <th>country</th>\n      <th>price</th>\n      <th>cuisine</th>\n      <th>url</th>\n      <th>award</th>\n      <th>stars</th>\n      <th>longitude</th>\n      <th>latitude</th>\n    </tr>\n  </thead>\n  <tbody>\n    <tr>\n      <th>0</th>\n      <td>La Vague d'Or - Cheval Blanc St-Tropez</td>\n      <td>Plage de la Bouillabaisse, Saint-Tropez, 83990...</td>\n      <td>Saint-Tropez</td>\n      <td>France</td>\n      <td>€€€€</td>\n      <td>Creative, Modern Cuisine</td>\n      <td>https://www.chevalblanc.com/fr/maison/st-tropez/</td>\n      <td>3 MICHELIN Stars</td>\n      <td>3.0</td>\n      <td>6.626154</td>\n      <td>43.266585</td>\n    </tr>\n    <tr>\n      <th>1</th>\n      <td>René et Maxime Meilleur</td>\n      <td>Hameau de  Saint-Marcel, Saint-Martin-de-Belle...</td>\n      <td>Saint-Martin-de-Belleville</td>\n      <td>France</td>\n      <td>€€€€</td>\n      <td>Creative, Regional Cuisine</td>\n      <td>https://www.la-bouitte.com/fr/</td>\n      <td>3 MICHELIN Stars</td>\n      <td>3.0</td>\n      <td>6.513306</td>\n      <td>45.369046</td>\n    </tr>\n    <tr>\n      <th>2</th>\n      <td>Kei</td>\n      <td>5 rue du Coq-Héron, Paris, 75001, France</td>\n      <td>Paris</td>\n      <td>France</td>\n      <td>€€€€</td>\n      <td>Modern Cuisine, Creative</td>\n      <td>https://www.restaurant-kei.fr/</td>\n      <td>3 MICHELIN Stars</td>\n      <td>3.0</td>\n      <td>2.342285</td>\n      <td>48.864395</td>\n    </tr>\n    <tr>\n      <th>3</th>\n      <td>Auberge du Vieux Puits</td>\n      <td>5 avenue Saint-Victor, Fontjoncouse, 11360, Fr...</td>\n      <td>Fontjoncouse</td>\n      <td>France</td>\n      <td>€€€€</td>\n      <td>Creative</td>\n      <td>https://www.aubergeduvieuxpuits.fr/fr/</td>\n      <td>3 MICHELIN Stars</td>\n      <td>3.0</td>\n      <td>2.789329</td>\n      <td>43.048173</td>\n    </tr>\n    <tr>\n      <th>4</th>\n      <td>Régis et Jacques Marcon</td>\n      <td>Larsiallas, Saint-Bonnet-le-Froid, 43290, France</td>\n      <td>Saint-Bonnet-le-Froid</td>\n      <td>France</td>\n      <td>€€€€</td>\n      <td>Creative</td>\n      <td>https://www.lesmaisonsmarcon.fr/</td>\n      <td>3 MICHELIN Stars</td>\n      <td>3.0</td>\n      <td>4.434268</td>\n      <td>45.138673</td>\n    </tr>\n    <tr>\n      <th>5</th>\n      <td>Assiette Champenoise</td>\n      <td>40 avenue Paul-Vaillant-Couturier, à Tinqueux,...</td>\n      <td>Reims</td>\n      <td>France</td>\n      <td>€€€€</td>\n      <td>Creative</td>\n      <td>https://www.assiettechampenoise.com/</td>\n      <td>3 MICHELIN Stars</td>\n      <td>3.0</td>\n      <td>4.003267</td>\n      <td>49.247835</td>\n    </tr>\n    <tr>\n      <th>6</th>\n      <td>Troisgros - Le Bois sans Feuilles</td>\n      <td>728 route de Villerest, Ouches, 42155, France</td>\n      <td>Ouches</td>\n      <td>France</td>\n      <td>€€€€</td>\n      <td>Creative</td>\n      <td>https://www.troisgros.com/</td>\n      <td>3 MICHELIN Stars</td>\n      <td>3.0</td>\n      <td>3.992360</td>\n      <td>46.010330</td>\n    </tr>\n    <tr>\n      <th>7</th>\n      <td>Le Clos des Sens</td>\n      <td>13 rue Jean-Mermoz - à Annecy-le-Vieux, Annecy...</td>\n      <td>Annecy</td>\n      <td>France</td>\n      <td>€€€€</td>\n      <td>Creative</td>\n      <td>https://www.closdessens.com/</td>\n      <td>3 MICHELIN Stars</td>\n      <td>3.0</td>\n      <td>6.144577</td>\n      <td>45.917632</td>\n    </tr>\n    <tr>\n      <th>8</th>\n      <td>La Marine</td>\n      <td>3 rue Marie-Lemonnier, L'Herbaudière, 85330, F...</td>\n      <td>L'Herbaudière</td>\n      <td>France</td>\n      <td>€€€€</td>\n      <td>Creative, Seafood</td>\n      <td>https://www.alexandrecouillon.com/fr/</td>\n      <td>3 MICHELIN Stars</td>\n      <td>3.0</td>\n      <td>-2.299934</td>\n      <td>47.023710</td>\n    </tr>\n    <tr>\n      <th>9</th>\n      <td>La Villa Madie</td>\n      <td>Avenue de Revestel, Cassis, 13260, France</td>\n      <td>Cassis</td>\n      <td>France</td>\n      <td>€€€€</td>\n      <td>Creative, Mediterranean Cuisine</td>\n      <td>https://lavillamadie.com/</td>\n      <td>3 MICHELIN Stars</td>\n      <td>3.0</td>\n      <td>5.544944</td>\n      <td>43.211089</td>\n    </tr>\n  </tbody>\n</table>\n</div>"
     },
     "execution_count": 3,
     "metadata": {},
     "output_type": "execute_result"
    }
   ],
   "source": [
    "france = pd.read_csv(\"../data/france_data.csv\")\n",
    "france.head(10)"
   ],
   "metadata": {
    "collapsed": false,
    "ExecuteTime": {
     "end_time": "2023-08-04T12:48:59.557775Z",
     "start_time": "2023-08-04T12:48:59.536499Z"
    }
   }
  },
  {
   "cell_type": "code",
   "execution_count": null,
   "outputs": [],
   "source": [],
   "metadata": {
    "collapsed": false
   }
  }
 ],
 "metadata": {
  "kernelspec": {
   "display_name": "Python 3",
   "language": "python",
   "name": "python3"
  },
  "language_info": {
   "codemirror_mode": {
    "name": "ipython",
    "version": 2
   },
   "file_extension": ".py",
   "mimetype": "text/x-python",
   "name": "python",
   "nbconvert_exporter": "python",
   "pygments_lexer": "ipython2",
   "version": "2.7.6"
  }
 },
 "nbformat": 4,
 "nbformat_minor": 0
}
