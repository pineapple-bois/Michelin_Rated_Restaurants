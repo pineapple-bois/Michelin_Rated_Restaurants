{
 "cells": [
  {
   "cell_type": "markdown",
   "source": [
    "# Michelin Restaurants in France - *Arrondissements*"
   ],
   "metadata": {
    "collapsed": false
   }
  },
  {
   "cell_type": "code",
   "execution_count": 2,
   "metadata": {
    "collapsed": true,
    "ExecuteTime": {
     "end_time": "2023-08-11T16:14:11.867084Z",
     "start_time": "2023-08-11T16:14:11.611474Z"
    }
   },
   "outputs": [],
   "source": [
    "import pandas as pd\n",
    "import geopandas as gpd\n",
    "from shapely.geometry import Point\n",
    "import matplotlib.pyplot as plt"
   ]
  },
  {
   "cell_type": "markdown",
   "source": [
    "Importing restaurant data"
   ],
   "metadata": {
    "collapsed": false
   }
  },
  {
   "cell_type": "code",
   "execution_count": 3,
   "outputs": [
    {
     "data": {
      "text/plain": "                                     name                    address  \\\n0  La Vague d'Or - Cheval Blanc St-Tropez  Plage de la Bouillabaisse   \n1                 René et Maxime Meilleur    Hameau de  Saint-Marcel   \n2                                     Kei         5 rue du Coq-Héron   \n3                  Auberge du Vieux Puits      5 avenue Saint-Victor   \n4                 Régis et Jacques Marcon                 Larsiallas   \n\n                            location department_num   department  \\\n0                Saint-Tropez, 83990             83          Var   \n1  Saint-Martin-de-Belleville, 73440             73       Savoie   \n2                       Paris, 75001             75        Paris   \n3                Fontjoncouse, 11360             11         Aude   \n4       Saint-Bonnet-le-Froid, 43290             43  Haute-Loire   \n\n           capital                      region price  \\\n0           Toulon  Provence-Alpes-Côte d'Azur  €€€€   \n1         Chambéry        Auvergne-Rhône-Alpes  €€€€   \n2            Paris               Île-de-France  €€€€   \n3      Carcassonne                   Occitanie  €€€€   \n4  Le Puy-en-Velay        Auvergne-Rhône-Alpes  €€€€   \n\n                      cuisine  \\\n0    Creative, Modern Cuisine   \n1  Creative, Regional Cuisine   \n2    Modern Cuisine, Creative   \n3                    Creative   \n4                    Creative   \n\n                                                url             award  stars  \\\n0  https://www.chevalblanc.com/fr/maison/st-tropez/  3 MICHELIN Stars    3.0   \n1                    https://www.la-bouitte.com/fr/  3 MICHELIN Stars    3.0   \n2                    https://www.restaurant-kei.fr/  3 MICHELIN Stars    3.0   \n3            https://www.aubergeduvieuxpuits.fr/fr/  3 MICHELIN Stars    3.0   \n4                  https://www.lesmaisonsmarcon.fr/  3 MICHELIN Stars    3.0   \n\n   longitude   latitude  \n0   6.626154  43.266585  \n1   6.513306  45.369046  \n2   2.342285  48.864395  \n3   2.789329  43.048173  \n4   4.434268  45.138673  ",
      "text/html": "<div>\n<style scoped>\n    .dataframe tbody tr th:only-of-type {\n        vertical-align: middle;\n    }\n\n    .dataframe tbody tr th {\n        vertical-align: top;\n    }\n\n    .dataframe thead th {\n        text-align: right;\n    }\n</style>\n<table border=\"1\" class=\"dataframe\">\n  <thead>\n    <tr style=\"text-align: right;\">\n      <th></th>\n      <th>name</th>\n      <th>address</th>\n      <th>location</th>\n      <th>department_num</th>\n      <th>department</th>\n      <th>capital</th>\n      <th>region</th>\n      <th>price</th>\n      <th>cuisine</th>\n      <th>url</th>\n      <th>award</th>\n      <th>stars</th>\n      <th>longitude</th>\n      <th>latitude</th>\n    </tr>\n  </thead>\n  <tbody>\n    <tr>\n      <th>0</th>\n      <td>La Vague d'Or - Cheval Blanc St-Tropez</td>\n      <td>Plage de la Bouillabaisse</td>\n      <td>Saint-Tropez, 83990</td>\n      <td>83</td>\n      <td>Var</td>\n      <td>Toulon</td>\n      <td>Provence-Alpes-Côte d'Azur</td>\n      <td>€€€€</td>\n      <td>Creative, Modern Cuisine</td>\n      <td>https://www.chevalblanc.com/fr/maison/st-tropez/</td>\n      <td>3 MICHELIN Stars</td>\n      <td>3.0</td>\n      <td>6.626154</td>\n      <td>43.266585</td>\n    </tr>\n    <tr>\n      <th>1</th>\n      <td>René et Maxime Meilleur</td>\n      <td>Hameau de  Saint-Marcel</td>\n      <td>Saint-Martin-de-Belleville, 73440</td>\n      <td>73</td>\n      <td>Savoie</td>\n      <td>Chambéry</td>\n      <td>Auvergne-Rhône-Alpes</td>\n      <td>€€€€</td>\n      <td>Creative, Regional Cuisine</td>\n      <td>https://www.la-bouitte.com/fr/</td>\n      <td>3 MICHELIN Stars</td>\n      <td>3.0</td>\n      <td>6.513306</td>\n      <td>45.369046</td>\n    </tr>\n    <tr>\n      <th>2</th>\n      <td>Kei</td>\n      <td>5 rue du Coq-Héron</td>\n      <td>Paris, 75001</td>\n      <td>75</td>\n      <td>Paris</td>\n      <td>Paris</td>\n      <td>Île-de-France</td>\n      <td>€€€€</td>\n      <td>Modern Cuisine, Creative</td>\n      <td>https://www.restaurant-kei.fr/</td>\n      <td>3 MICHELIN Stars</td>\n      <td>3.0</td>\n      <td>2.342285</td>\n      <td>48.864395</td>\n    </tr>\n    <tr>\n      <th>3</th>\n      <td>Auberge du Vieux Puits</td>\n      <td>5 avenue Saint-Victor</td>\n      <td>Fontjoncouse, 11360</td>\n      <td>11</td>\n      <td>Aude</td>\n      <td>Carcassonne</td>\n      <td>Occitanie</td>\n      <td>€€€€</td>\n      <td>Creative</td>\n      <td>https://www.aubergeduvieuxpuits.fr/fr/</td>\n      <td>3 MICHELIN Stars</td>\n      <td>3.0</td>\n      <td>2.789329</td>\n      <td>43.048173</td>\n    </tr>\n    <tr>\n      <th>4</th>\n      <td>Régis et Jacques Marcon</td>\n      <td>Larsiallas</td>\n      <td>Saint-Bonnet-le-Froid, 43290</td>\n      <td>43</td>\n      <td>Haute-Loire</td>\n      <td>Le Puy-en-Velay</td>\n      <td>Auvergne-Rhône-Alpes</td>\n      <td>€€€€</td>\n      <td>Creative</td>\n      <td>https://www.lesmaisonsmarcon.fr/</td>\n      <td>3 MICHELIN Stars</td>\n      <td>3.0</td>\n      <td>4.434268</td>\n      <td>45.138673</td>\n    </tr>\n  </tbody>\n</table>\n</div>"
     },
     "execution_count": 3,
     "metadata": {},
     "output_type": "execute_result"
    }
   ],
   "source": [
    "france_data = pd.read_csv(\"../../data/France/all_restaurants.csv\")\n",
    "france_data.head()"
   ],
   "metadata": {
    "collapsed": false,
    "ExecuteTime": {
     "end_time": "2023-08-11T16:14:12.116724Z",
     "start_time": "2023-08-11T16:14:11.626009Z"
    }
   }
  },
  {
   "cell_type": "code",
   "execution_count": 4,
   "outputs": [
    {
     "name": "stdout",
     "output_type": "stream",
     "text": [
      "['name', 'address', 'location', 'department_num', 'department', 'capital', 'region', 'price', 'cuisine', 'url', 'award', 'stars', 'longitude', 'latitude']\n"
     ]
    }
   ],
   "source": [
    "print(france_data.columns.tolist())"
   ],
   "metadata": {
    "collapsed": false,
    "ExecuteTime": {
     "end_time": "2023-08-11T16:14:12.125289Z",
     "start_time": "2023-08-11T16:14:11.662601Z"
    }
   }
  },
  {
   "cell_type": "markdown",
   "source": [
    "----\n",
    "&nbsp;\n",
    "Demographics data from [INSEE](https://statistiques-locales.insee.fr/#c=indicator&view=map5)"
   ],
   "metadata": {
    "collapsed": false
   }
  },
  {
   "cell_type": "code",
   "execution_count": 5,
   "outputs": [
    {
     "name": "stdout",
     "output_type": "stream",
     "text": [
      "['Code', 'Libellé', 'Population municipale 2020', 'Taux de pauvreté 2020', 'Densité de population (historique depuis 1876) 2020', 'Salaire net horaire moyen 2021']\n"
     ]
    }
   ],
   "source": [
    "stats_locale = pd.read_csv(\"../../data/France/Demographics/arrondissements_data.csv\", sep=';')\n",
    "print(stats_locale.columns.tolist())"
   ],
   "metadata": {
    "collapsed": false,
    "ExecuteTime": {
     "end_time": "2023-08-11T16:14:12.129016Z",
     "start_time": "2023-08-11T16:14:11.666262Z"
    }
   }
  },
  {
   "cell_type": "code",
   "execution_count": 6,
   "outputs": [
    {
     "data": {
      "text/plain": "  code   arrondissement  municipal_population  \\\n0  011           Belley                123405   \n1  012  Bourg-en-Bresse                340382   \n2  013              Gex                100314   \n3  014           Nantua                 93755   \n4  021  Château-Thierry                 70094   \n\n   population_density(inhabitants/sq_km) poverty_rate(%)  \\\n0                                   77.9            10.2   \n1                                  118.4             8.8   \n2                                  247.8            12.4   \n3                                  104.2            15.5   \n4                                   62.9              14   \n\n  average_net_hourly_wage(€)  \n0                       15.3  \n1                      15.65  \n2                      15.32  \n3                      14.14  \n4                      14.36  ",
      "text/html": "<div>\n<style scoped>\n    .dataframe tbody tr th:only-of-type {\n        vertical-align: middle;\n    }\n\n    .dataframe tbody tr th {\n        vertical-align: top;\n    }\n\n    .dataframe thead th {\n        text-align: right;\n    }\n</style>\n<table border=\"1\" class=\"dataframe\">\n  <thead>\n    <tr style=\"text-align: right;\">\n      <th></th>\n      <th>code</th>\n      <th>arrondissement</th>\n      <th>municipal_population</th>\n      <th>population_density(inhabitants/sq_km)</th>\n      <th>poverty_rate(%)</th>\n      <th>average_net_hourly_wage(€)</th>\n    </tr>\n  </thead>\n  <tbody>\n    <tr>\n      <th>0</th>\n      <td>011</td>\n      <td>Belley</td>\n      <td>123405</td>\n      <td>77.9</td>\n      <td>10.2</td>\n      <td>15.3</td>\n    </tr>\n    <tr>\n      <th>1</th>\n      <td>012</td>\n      <td>Bourg-en-Bresse</td>\n      <td>340382</td>\n      <td>118.4</td>\n      <td>8.8</td>\n      <td>15.65</td>\n    </tr>\n    <tr>\n      <th>2</th>\n      <td>013</td>\n      <td>Gex</td>\n      <td>100314</td>\n      <td>247.8</td>\n      <td>12.4</td>\n      <td>15.32</td>\n    </tr>\n    <tr>\n      <th>3</th>\n      <td>014</td>\n      <td>Nantua</td>\n      <td>93755</td>\n      <td>104.2</td>\n      <td>15.5</td>\n      <td>14.14</td>\n    </tr>\n    <tr>\n      <th>4</th>\n      <td>021</td>\n      <td>Château-Thierry</td>\n      <td>70094</td>\n      <td>62.9</td>\n      <td>14</td>\n      <td>14.36</td>\n    </tr>\n  </tbody>\n</table>\n</div>"
     },
     "execution_count": 6,
     "metadata": {},
     "output_type": "execute_result"
    }
   ],
   "source": [
    "stats_locale = stats_locale.rename(columns={\n",
    "    'Code': 'code',\n",
    "    'Libellé': 'arrondissement',\n",
    "    'Taux de pauvreté 2020': 'poverty_rate(%)',\n",
    "    'Salaire net horaire moyen 2021': 'average_net_hourly_wage(€)',\n",
    "    'Population municipale 2020': 'municipal_population',\n",
    "    'Densité de population (historique depuis 1876) 2020': 'population_density(inhabitants/sq_km)',\n",
    "})\n",
    "stats_locale = stats_locale[['code', 'arrondissement', 'municipal_population', 'population_density(inhabitants/sq_km)',\n",
    "                             'poverty_rate(%)', 'average_net_hourly_wage(€)']]\n",
    "stats_locale.head()"
   ],
   "metadata": {
    "collapsed": false,
    "ExecuteTime": {
     "end_time": "2023-08-11T16:14:12.135079Z",
     "start_time": "2023-08-11T16:14:11.676672Z"
    }
   }
  },
  {
   "cell_type": "code",
   "execution_count": 7,
   "outputs": [
    {
     "name": "stdout",
     "output_type": "stream",
     "text": [
      "['code', 'arrondissement', 'municipal_population', 'population_density(inhabitants/sq_km)', 'poverty_rate(%)', 'average_net_hourly_wage(€)']\n"
     ]
    }
   ],
   "source": [
    "print(stats_locale.columns.tolist())"
   ],
   "metadata": {
    "collapsed": false,
    "ExecuteTime": {
     "end_time": "2023-08-11T16:14:12.162738Z",
     "start_time": "2023-08-11T16:14:11.687444Z"
    }
   }
  },
  {
   "cell_type": "markdown",
   "source": [
    "Loading in [GeoJSON data](https://github.com/gregoiredavid/france-geojson/blob/master/arrondissements-avec-outre-mer.geojson)"
   ],
   "metadata": {
    "collapsed": false
   }
  },
  {
   "cell_type": "code",
   "execution_count": 8,
   "outputs": [
    {
     "data": {
      "text/plain": "    code              nom                                           geometry\n0  01001           Belley  POLYGON ((5.12174 45.81118, 5.12665 45.81392, ...\n1  01002  Bourg-en-Bresse  POLYGON ((4.98022 46.51520, 4.98355 46.51539, ...\n2  01003              Gex  POLYGON ((6.06401 46.41623, 6.06730 46.41494, ...\n3  01004           Nantua  POLYGON ((5.63746 46.33644, 5.64007 46.33884, ...\n4  02001  Château-Thierry  POLYGON ((3.07188 49.11755, 3.07224 49.11832, ...",
      "text/html": "<div>\n<style scoped>\n    .dataframe tbody tr th:only-of-type {\n        vertical-align: middle;\n    }\n\n    .dataframe tbody tr th {\n        vertical-align: top;\n    }\n\n    .dataframe thead th {\n        text-align: right;\n    }\n</style>\n<table border=\"1\" class=\"dataframe\">\n  <thead>\n    <tr style=\"text-align: right;\">\n      <th></th>\n      <th>code</th>\n      <th>nom</th>\n      <th>geometry</th>\n    </tr>\n  </thead>\n  <tbody>\n    <tr>\n      <th>0</th>\n      <td>01001</td>\n      <td>Belley</td>\n      <td>POLYGON ((5.12174 45.81118, 5.12665 45.81392, ...</td>\n    </tr>\n    <tr>\n      <th>1</th>\n      <td>01002</td>\n      <td>Bourg-en-Bresse</td>\n      <td>POLYGON ((4.98022 46.51520, 4.98355 46.51539, ...</td>\n    </tr>\n    <tr>\n      <th>2</th>\n      <td>01003</td>\n      <td>Gex</td>\n      <td>POLYGON ((6.06401 46.41623, 6.06730 46.41494, ...</td>\n    </tr>\n    <tr>\n      <th>3</th>\n      <td>01004</td>\n      <td>Nantua</td>\n      <td>POLYGON ((5.63746 46.33644, 5.64007 46.33884, ...</td>\n    </tr>\n    <tr>\n      <th>4</th>\n      <td>02001</td>\n      <td>Château-Thierry</td>\n      <td>POLYGON ((3.07188 49.11755, 3.07224 49.11832, ...</td>\n    </tr>\n  </tbody>\n</table>\n</div>"
     },
     "execution_count": 8,
     "metadata": {},
     "output_type": "execute_result"
    }
   ],
   "source": [
    "# Load the GeoJSON file\n",
    "geoJSON_df = gpd.read_file('../../data/France/Geodata/arrondissements-avec-outre-mer.geojson')\n",
    "geoJSON_df.head()"
   ],
   "metadata": {
    "collapsed": false,
    "ExecuteTime": {
     "end_time": "2023-08-11T16:14:13.797786Z",
     "start_time": "2023-08-11T16:14:11.695066Z"
    }
   }
  },
  {
   "cell_type": "code",
   "execution_count": 9,
   "outputs": [
    {
     "name": "stdout",
     "output_type": "stream",
     "text": [
      "['code', 'nom', 'geometry']\n"
     ]
    }
   ],
   "source": [
    "print(geoJSON_df.columns.tolist())"
   ],
   "metadata": {
    "collapsed": false,
    "ExecuteTime": {
     "end_time": "2023-08-11T16:14:13.807931Z",
     "start_time": "2023-08-11T16:14:13.798313Z"
    }
   }
  },
  {
   "cell_type": "markdown",
   "source": [
    "----\n",
    "&nbsp;\n",
    "### Removing *outre-mers*"
   ],
   "metadata": {
    "collapsed": false
   }
  },
  {
   "cell_type": "code",
   "execution_count": 10,
   "outputs": [
    {
     "data": {
      "text/plain": "(320, 3)"
     },
     "execution_count": 10,
     "metadata": {},
     "output_type": "execute_result"
    }
   ],
   "source": [
    "# We leverage the format of the first two digits of the 'code' column\n",
    "# where 01 - 95 represents mainland france\n",
    "geoJSON_df = geoJSON_df.sort_values(by='code')\n",
    "geoJSON_df = geoJSON_df[~geoJSON_df['code'].str.startswith('97')]\n",
    "geoJSON_df = geoJSON_df.reset_index(drop=True)\n",
    "geoJSON_df.shape"
   ],
   "metadata": {
    "collapsed": false,
    "ExecuteTime": {
     "end_time": "2023-08-11T16:14:13.813689Z",
     "start_time": "2023-08-11T16:14:13.809768Z"
    }
   }
  },
  {
   "cell_type": "code",
   "execution_count": 11,
   "outputs": [
    {
     "data": {
      "text/plain": "(320, 6)"
     },
     "execution_count": 11,
     "metadata": {},
     "output_type": "execute_result"
    }
   ],
   "source": [
    "# We again remove '97' leveraging a pattern\n",
    "stats_locale = stats_locale.sort_values(by='code')\n",
    "stats_locale = stats_locale[~stats_locale['code'].str.startswith('97')]\n",
    "stats_locale = stats_locale.reset_index(drop=True)\n",
    "stats_locale.shape"
   ],
   "metadata": {
    "collapsed": false,
    "ExecuteTime": {
     "end_time": "2023-08-11T16:14:13.825644Z",
     "start_time": "2023-08-11T16:14:13.816832Z"
    }
   }
  },
  {
   "cell_type": "markdown",
   "source": [
    "It's good news the dataframes have the same length"
   ],
   "metadata": {
    "collapsed": false
   }
  },
  {
   "cell_type": "markdown",
   "source": [
    "----\n",
    "&nbsp;\n",
    "### Looking for discrepancies in the `nom`, `arrondissement` columns"
   ],
   "metadata": {
    "collapsed": false
   }
  },
  {
   "cell_type": "code",
   "execution_count": 12,
   "outputs": [
    {
     "name": "stdout",
     "output_type": "stream",
     "text": [
      "Sets equal? False\n"
     ]
    }
   ],
   "source": [
    "set1 = set(stats_locale['arrondissement'].unique())\n",
    "set2 = set(geoJSON_df['nom'].unique())\n",
    "print(f\"Sets equal? {set1 == set2}\")"
   ],
   "metadata": {
    "collapsed": false,
    "ExecuteTime": {
     "end_time": "2023-08-11T16:14:13.860514Z",
     "start_time": "2023-08-11T16:14:13.821716Z"
    }
   }
  },
  {
   "cell_type": "code",
   "execution_count": 13,
   "outputs": [
    {
     "name": "stdout",
     "output_type": "stream",
     "text": [
      "In set1 but not in set2:  {'La Flèche', 'Le Raincy', 'La Tour-du-Pin', 'Le Havre', 'Les Andelys', 'Val-de-Briey', 'Le Blanc', 'Le Vigan', 'La Rochelle', 'Le Puy-en-Velay', \"Les Sables-d'Olonne\", \"L'Haÿ-les-Roses\", 'La Châtre', 'La Roche-sur-Yon', 'Le Mans'}\n",
      "\n",
      "In set2 but not in set1:  {'Roche-sur-Yon', \"Sables-d'Olonne\", 'Havre', 'Rochelle', 'Mans', 'Vigan', 'Puy-en-Velay', 'Raincy', 'Châtre', 'Briey', 'Flèche', 'Haÿ-les-Roses', 'Andelys', 'Tour-du-Pin', 'Blanc'}\n"
     ]
    }
   ],
   "source": [
    "print(\"In set1 but not in set2: \", set1 - set2)\n",
    "print(\"\\nIn set2 but not in set1: \", set2 - set1)"
   ],
   "metadata": {
    "collapsed": false,
    "ExecuteTime": {
     "end_time": "2023-08-11T16:14:13.911208Z",
     "start_time": "2023-08-11T16:14:13.827206Z"
    }
   }
  },
  {
   "cell_type": "markdown",
   "source": [
    "We will remove articles from the `stats_locale` DataFrame. This will not significantly affect the ability to differentiate between *arrondissements*"
   ],
   "metadata": {
    "collapsed": false
   }
  },
  {
   "cell_type": "code",
   "execution_count": 14,
   "outputs": [],
   "source": [
    "def clean_name(name):\n",
    "    # Remove common prefixes/articles\n",
    "    for prefix in ['Le ', 'La ', 'Les ', \"L'\"]:\n",
    "        if name.startswith(prefix):\n",
    "            name = name[len(prefix):]\n",
    "    return name.strip()"
   ],
   "metadata": {
    "collapsed": false,
    "ExecuteTime": {
     "end_time": "2023-08-11T16:14:13.911635Z",
     "start_time": "2023-08-11T16:14:13.833911Z"
    }
   }
  },
  {
   "cell_type": "code",
   "execution_count": 15,
   "outputs": [],
   "source": [
    "set1_clean = set(map(clean_name, stats_locale['arrondissement'].unique()))\n",
    "set2_clean = set(map(clean_name, geoJSON_df['nom'].unique()))\n",
    "\n",
    "# Update 'stats_locale' with the new names\n",
    "stats_locale['arrondissement'] = stats_locale['arrondissement'].apply(clean_name)"
   ],
   "metadata": {
    "collapsed": false,
    "ExecuteTime": {
     "end_time": "2023-08-11T16:14:13.911747Z",
     "start_time": "2023-08-11T16:14:13.839672Z"
    }
   }
  },
  {
   "cell_type": "code",
   "execution_count": 16,
   "outputs": [
    {
     "name": "stdout",
     "output_type": "stream",
     "text": [
      "In set1_clean but not in set2_clean:  {'Val-de-Briey'}\n",
      "\n",
      "In set2_clean but not in set1_clean:  {'Briey'}\n"
     ]
    }
   ],
   "source": [
    "# Check for discrepancies again\n",
    "print(\"In set1_clean but not in set2_clean: \", set1_clean - set2_clean)\n",
    "print(\"\\nIn set2_clean but not in set1_clean: \", set2_clean - set1_clean)"
   ],
   "metadata": {
    "collapsed": false,
    "ExecuteTime": {
     "end_time": "2023-08-11T16:14:13.912137Z",
     "start_time": "2023-08-11T16:14:13.847493Z"
    }
   }
  },
  {
   "cell_type": "code",
   "execution_count": 19,
   "outputs": [
    {
     "name": "stdout",
     "output_type": "stream",
     "text": [
      "In set1_clean but not in set2_clean:  set()\n",
      "\n",
      "In set2_clean but not in set1_clean:  set()\n"
     ]
    }
   ],
   "source": [
    "# Correct the discrepancy manually\n",
    "if 'Val-de-Briey' in set1_clean and 'Briey' in set2_clean:\n",
    "    geoJSON_df['nom'] = geoJSON_df['nom'].replace('Briey', 'Val-de-Briey')\n",
    "\n",
    "# Validating and recomparing the sets\n",
    "set1_clean = set(map(clean_name, stats_locale['arrondissement'].unique()))\n",
    "set2_clean = set(map(clean_name, geoJSON_df['nom'].unique()))\n",
    "\n",
    "print(\"In set1_clean but not in set2_clean: \", set1_clean - set2_clean)\n",
    "print(\"\\nIn set2_clean but not in set1_clean: \", set2_clean - set1_clean)"
   ],
   "metadata": {
    "collapsed": false,
    "ExecuteTime": {
     "end_time": "2023-08-11T16:15:33.805137Z",
     "start_time": "2023-08-11T16:15:33.624160Z"
    }
   }
  },
  {
   "cell_type": "markdown",
   "source": [
    "----\n",
    "&nbsp;\n",
    "### Mapping individual restaurants to *arrondissements* based on (latitude, longitude) Geospatial data"
   ],
   "metadata": {
    "collapsed": false
   }
  },
  {
   "cell_type": "code",
   "execution_count": 20,
   "outputs": [],
   "source": [
    "# Convert france_data to GeoDataFrame\n",
    "geometry = [Point(xy) for xy in zip(france_data.longitude, france_data.latitude)]\n",
    "france_geo = gpd.GeoDataFrame(france_data, geometry=geometry)"
   ],
   "metadata": {
    "collapsed": false,
    "ExecuteTime": {
     "end_time": "2023-08-11T16:15:33.976710Z",
     "start_time": "2023-08-11T16:15:33.642810Z"
    }
   }
  },
  {
   "cell_type": "code",
   "execution_count": 21,
   "outputs": [
    {
     "data": {
      "text/plain": "                                     name                    address  \\\n0  La Vague d'Or - Cheval Blanc St-Tropez  Plage de la Bouillabaisse   \n1                 René et Maxime Meilleur    Hameau de  Saint-Marcel   \n2                                     Kei         5 rue du Coq-Héron   \n3                  Auberge du Vieux Puits      5 avenue Saint-Victor   \n4                 Régis et Jacques Marcon                 Larsiallas   \n\n                            location department_num   department  \\\n0                Saint-Tropez, 83990             83          Var   \n1  Saint-Martin-de-Belleville, 73440             73       Savoie   \n2                       Paris, 75001             75        Paris   \n3                Fontjoncouse, 11360             11         Aude   \n4       Saint-Bonnet-le-Froid, 43290             43  Haute-Loire   \n\n           capital                      region price  \\\n0           Toulon  Provence-Alpes-Côte d'Azur  €€€€   \n1         Chambéry        Auvergne-Rhône-Alpes  €€€€   \n2            Paris               Île-de-France  €€€€   \n3      Carcassonne                   Occitanie  €€€€   \n4  Le Puy-en-Velay        Auvergne-Rhône-Alpes  €€€€   \n\n                      cuisine  \\\n0    Creative, Modern Cuisine   \n1  Creative, Regional Cuisine   \n2    Modern Cuisine, Creative   \n3                    Creative   \n4                    Creative   \n\n                                                url             award  stars  \\\n0  https://www.chevalblanc.com/fr/maison/st-tropez/  3 MICHELIN Stars    3.0   \n1                    https://www.la-bouitte.com/fr/  3 MICHELIN Stars    3.0   \n2                    https://www.restaurant-kei.fr/  3 MICHELIN Stars    3.0   \n3            https://www.aubergeduvieuxpuits.fr/fr/  3 MICHELIN Stars    3.0   \n4                  https://www.lesmaisonsmarcon.fr/  3 MICHELIN Stars    3.0   \n\n   longitude   latitude                  geometry  \n0   6.626154  43.266585  POINT (6.62615 43.26658)  \n1   6.513306  45.369046  POINT (6.51331 45.36905)  \n2   2.342285  48.864395  POINT (2.34228 48.86439)  \n3   2.789329  43.048173  POINT (2.78933 43.04817)  \n4   4.434268  45.138673  POINT (4.43427 45.13867)  ",
      "text/html": "<div>\n<style scoped>\n    .dataframe tbody tr th:only-of-type {\n        vertical-align: middle;\n    }\n\n    .dataframe tbody tr th {\n        vertical-align: top;\n    }\n\n    .dataframe thead th {\n        text-align: right;\n    }\n</style>\n<table border=\"1\" class=\"dataframe\">\n  <thead>\n    <tr style=\"text-align: right;\">\n      <th></th>\n      <th>name</th>\n      <th>address</th>\n      <th>location</th>\n      <th>department_num</th>\n      <th>department</th>\n      <th>capital</th>\n      <th>region</th>\n      <th>price</th>\n      <th>cuisine</th>\n      <th>url</th>\n      <th>award</th>\n      <th>stars</th>\n      <th>longitude</th>\n      <th>latitude</th>\n      <th>geometry</th>\n    </tr>\n  </thead>\n  <tbody>\n    <tr>\n      <th>0</th>\n      <td>La Vague d'Or - Cheval Blanc St-Tropez</td>\n      <td>Plage de la Bouillabaisse</td>\n      <td>Saint-Tropez, 83990</td>\n      <td>83</td>\n      <td>Var</td>\n      <td>Toulon</td>\n      <td>Provence-Alpes-Côte d'Azur</td>\n      <td>€€€€</td>\n      <td>Creative, Modern Cuisine</td>\n      <td>https://www.chevalblanc.com/fr/maison/st-tropez/</td>\n      <td>3 MICHELIN Stars</td>\n      <td>3.0</td>\n      <td>6.626154</td>\n      <td>43.266585</td>\n      <td>POINT (6.62615 43.26658)</td>\n    </tr>\n    <tr>\n      <th>1</th>\n      <td>René et Maxime Meilleur</td>\n      <td>Hameau de  Saint-Marcel</td>\n      <td>Saint-Martin-de-Belleville, 73440</td>\n      <td>73</td>\n      <td>Savoie</td>\n      <td>Chambéry</td>\n      <td>Auvergne-Rhône-Alpes</td>\n      <td>€€€€</td>\n      <td>Creative, Regional Cuisine</td>\n      <td>https://www.la-bouitte.com/fr/</td>\n      <td>3 MICHELIN Stars</td>\n      <td>3.0</td>\n      <td>6.513306</td>\n      <td>45.369046</td>\n      <td>POINT (6.51331 45.36905)</td>\n    </tr>\n    <tr>\n      <th>2</th>\n      <td>Kei</td>\n      <td>5 rue du Coq-Héron</td>\n      <td>Paris, 75001</td>\n      <td>75</td>\n      <td>Paris</td>\n      <td>Paris</td>\n      <td>Île-de-France</td>\n      <td>€€€€</td>\n      <td>Modern Cuisine, Creative</td>\n      <td>https://www.restaurant-kei.fr/</td>\n      <td>3 MICHELIN Stars</td>\n      <td>3.0</td>\n      <td>2.342285</td>\n      <td>48.864395</td>\n      <td>POINT (2.34228 48.86439)</td>\n    </tr>\n    <tr>\n      <th>3</th>\n      <td>Auberge du Vieux Puits</td>\n      <td>5 avenue Saint-Victor</td>\n      <td>Fontjoncouse, 11360</td>\n      <td>11</td>\n      <td>Aude</td>\n      <td>Carcassonne</td>\n      <td>Occitanie</td>\n      <td>€€€€</td>\n      <td>Creative</td>\n      <td>https://www.aubergeduvieuxpuits.fr/fr/</td>\n      <td>3 MICHELIN Stars</td>\n      <td>3.0</td>\n      <td>2.789329</td>\n      <td>43.048173</td>\n      <td>POINT (2.78933 43.04817)</td>\n    </tr>\n    <tr>\n      <th>4</th>\n      <td>Régis et Jacques Marcon</td>\n      <td>Larsiallas</td>\n      <td>Saint-Bonnet-le-Froid, 43290</td>\n      <td>43</td>\n      <td>Haute-Loire</td>\n      <td>Le Puy-en-Velay</td>\n      <td>Auvergne-Rhône-Alpes</td>\n      <td>€€€€</td>\n      <td>Creative</td>\n      <td>https://www.lesmaisonsmarcon.fr/</td>\n      <td>3 MICHELIN Stars</td>\n      <td>3.0</td>\n      <td>4.434268</td>\n      <td>45.138673</td>\n      <td>POINT (4.43427 45.13867)</td>\n    </tr>\n  </tbody>\n</table>\n</div>"
     },
     "execution_count": 21,
     "metadata": {},
     "output_type": "execute_result"
    }
   ],
   "source": [
    "france_geo.head()"
   ],
   "metadata": {
    "collapsed": false,
    "ExecuteTime": {
     "end_time": "2023-08-11T16:15:33.989522Z",
     "start_time": "2023-08-11T16:15:33.670399Z"
    }
   }
  },
  {
   "cell_type": "code",
   "execution_count": 22,
   "outputs": [],
   "source": [
    "france_geo.crs = \"EPSG:4326\""
   ],
   "metadata": {
    "collapsed": false,
    "ExecuteTime": {
     "end_time": "2023-08-11T16:15:33.993761Z",
     "start_time": "2023-08-11T16:15:33.676708Z"
    }
   }
  },
  {
   "cell_type": "code",
   "execution_count": 23,
   "outputs": [],
   "source": [
    "joined_data = gpd.sjoin(france_geo, geoJSON_df[['nom', 'geometry']], predicate='within', how='left')\n",
    "joined_data.rename(columns={'nom': 'arrondissement'}, inplace=True)"
   ],
   "metadata": {
    "collapsed": false,
    "ExecuteTime": {
     "end_time": "2023-08-11T16:15:34.019089Z",
     "start_time": "2023-08-11T16:15:33.680002Z"
    }
   }
  },
  {
   "cell_type": "code",
   "execution_count": 24,
   "outputs": [
    {
     "name": "stdout",
     "output_type": "stream",
     "text": [
      "['name', 'address', 'location', 'department_num', 'department', 'capital', 'region', 'price', 'cuisine', 'url', 'award', 'stars', 'longitude', 'latitude', 'arrondissement']\n"
     ]
    }
   ],
   "source": [
    "# Convert the GeoDataFrame to a normal DataFrame\n",
    "france_df = pd.DataFrame(joined_data)\n",
    "\n",
    "# Drop the 'geometry' and 'index_right' columns\n",
    "france_df = france_df.drop(columns=['geometry', 'index_right'])\n",
    "print(france_df.columns.tolist())"
   ],
   "metadata": {
    "collapsed": false,
    "ExecuteTime": {
     "end_time": "2023-08-11T16:15:34.021125Z",
     "start_time": "2023-08-11T16:15:33.712473Z"
    }
   }
  },
  {
   "cell_type": "code",
   "execution_count": 25,
   "outputs": [
    {
     "data": {
      "text/plain": "                                     name  \\\n0  La Vague d'Or - Cheval Blanc St-Tropez   \n1                 René et Maxime Meilleur   \n2                                     Kei   \n3                  Auberge du Vieux Puits   \n4                 Régis et Jacques Marcon   \n5                    Assiette Champenoise   \n6       Troisgros - Le Bois sans Feuilles   \n7                        Le Clos des Sens   \n8                               La Marine   \n9                          La Villa Madie   \n\n                                         address  \\\n0                      Plage de la Bouillabaisse   \n1                        Hameau de  Saint-Marcel   \n2                             5 rue du Coq-Héron   \n3                          5 avenue Saint-Victor   \n4                                     Larsiallas   \n5  40 avenue Paul-Vaillant-Couturier, à Tinqueux   \n6                         728 route de Villerest   \n7         13 rue Jean-Mermoz - à Annecy-le-Vieux   \n8                          3 rue Marie-Lemonnier   \n9                             Avenue de Revestel   \n\n                            location   arrondissement department_num  \\\n0                Saint-Tropez, 83990       Draguignan             83   \n1  Saint-Martin-de-Belleville, 73440      Albertville             73   \n2                       Paris, 75001            Paris             75   \n3                Fontjoncouse, 11360         Narbonne             11   \n4       Saint-Bonnet-le-Froid, 43290       Yssingeaux             43   \n5                       Reims, 51430            Reims             51   \n6                      Ouches, 42155           Roanne             42   \n7                      Annecy, 74940           Annecy             74   \n8               L'Herbaudière, 85330  Sables-d'Olonne             85   \n9                      Cassis, 13260        Marseille             13   \n\n         department               capital                      region price  \\\n0               Var                Toulon  Provence-Alpes-Côte d'Azur  €€€€   \n1            Savoie              Chambéry        Auvergne-Rhône-Alpes  €€€€   \n2             Paris                 Paris               Île-de-France  €€€€   \n3              Aude           Carcassonne                   Occitanie  €€€€   \n4       Haute-Loire       Le Puy-en-Velay        Auvergne-Rhône-Alpes  €€€€   \n5             Marne  Châlons-en-Champagne                   Grand Est  €€€€   \n6             Loire         Saint-Étienne        Auvergne-Rhône-Alpes  €€€€   \n7      Haute-Savoie                Annecy        Auvergne-Rhône-Alpes  €€€€   \n8            Vendée      La Roche-sur-Yon            Pays de la Loire  €€€€   \n9  Bouches-du-Rhône             Marseille  Provence-Alpes-Côte d'Azur  €€€€   \n\n                           cuisine  \\\n0         Creative, Modern Cuisine   \n1       Creative, Regional Cuisine   \n2         Modern Cuisine, Creative   \n3                         Creative   \n4                         Creative   \n5                         Creative   \n6                         Creative   \n7                         Creative   \n8                Creative, Seafood   \n9  Creative, Mediterranean Cuisine   \n\n                                                url             award  stars  \\\n0  https://www.chevalblanc.com/fr/maison/st-tropez/  3 MICHELIN Stars    3.0   \n1                    https://www.la-bouitte.com/fr/  3 MICHELIN Stars    3.0   \n2                    https://www.restaurant-kei.fr/  3 MICHELIN Stars    3.0   \n3            https://www.aubergeduvieuxpuits.fr/fr/  3 MICHELIN Stars    3.0   \n4                  https://www.lesmaisonsmarcon.fr/  3 MICHELIN Stars    3.0   \n5              https://www.assiettechampenoise.com/  3 MICHELIN Stars    3.0   \n6                        https://www.troisgros.com/  3 MICHELIN Stars    3.0   \n7                      https://www.closdessens.com/  3 MICHELIN Stars    3.0   \n8             https://www.alexandrecouillon.com/fr/  3 MICHELIN Stars    3.0   \n9                         https://lavillamadie.com/  3 MICHELIN Stars    3.0   \n\n   longitude   latitude  \n0   6.626154  43.266585  \n1   6.513306  45.369046  \n2   2.342285  48.864395  \n3   2.789329  43.048173  \n4   4.434268  45.138673  \n5   4.003267  49.247835  \n6   3.992360  46.010330  \n7   6.144577  45.917632  \n8  -2.299934  47.023710  \n9   5.544944  43.211089  ",
      "text/html": "<div>\n<style scoped>\n    .dataframe tbody tr th:only-of-type {\n        vertical-align: middle;\n    }\n\n    .dataframe tbody tr th {\n        vertical-align: top;\n    }\n\n    .dataframe thead th {\n        text-align: right;\n    }\n</style>\n<table border=\"1\" class=\"dataframe\">\n  <thead>\n    <tr style=\"text-align: right;\">\n      <th></th>\n      <th>name</th>\n      <th>address</th>\n      <th>location</th>\n      <th>arrondissement</th>\n      <th>department_num</th>\n      <th>department</th>\n      <th>capital</th>\n      <th>region</th>\n      <th>price</th>\n      <th>cuisine</th>\n      <th>url</th>\n      <th>award</th>\n      <th>stars</th>\n      <th>longitude</th>\n      <th>latitude</th>\n    </tr>\n  </thead>\n  <tbody>\n    <tr>\n      <th>0</th>\n      <td>La Vague d'Or - Cheval Blanc St-Tropez</td>\n      <td>Plage de la Bouillabaisse</td>\n      <td>Saint-Tropez, 83990</td>\n      <td>Draguignan</td>\n      <td>83</td>\n      <td>Var</td>\n      <td>Toulon</td>\n      <td>Provence-Alpes-Côte d'Azur</td>\n      <td>€€€€</td>\n      <td>Creative, Modern Cuisine</td>\n      <td>https://www.chevalblanc.com/fr/maison/st-tropez/</td>\n      <td>3 MICHELIN Stars</td>\n      <td>3.0</td>\n      <td>6.626154</td>\n      <td>43.266585</td>\n    </tr>\n    <tr>\n      <th>1</th>\n      <td>René et Maxime Meilleur</td>\n      <td>Hameau de  Saint-Marcel</td>\n      <td>Saint-Martin-de-Belleville, 73440</td>\n      <td>Albertville</td>\n      <td>73</td>\n      <td>Savoie</td>\n      <td>Chambéry</td>\n      <td>Auvergne-Rhône-Alpes</td>\n      <td>€€€€</td>\n      <td>Creative, Regional Cuisine</td>\n      <td>https://www.la-bouitte.com/fr/</td>\n      <td>3 MICHELIN Stars</td>\n      <td>3.0</td>\n      <td>6.513306</td>\n      <td>45.369046</td>\n    </tr>\n    <tr>\n      <th>2</th>\n      <td>Kei</td>\n      <td>5 rue du Coq-Héron</td>\n      <td>Paris, 75001</td>\n      <td>Paris</td>\n      <td>75</td>\n      <td>Paris</td>\n      <td>Paris</td>\n      <td>Île-de-France</td>\n      <td>€€€€</td>\n      <td>Modern Cuisine, Creative</td>\n      <td>https://www.restaurant-kei.fr/</td>\n      <td>3 MICHELIN Stars</td>\n      <td>3.0</td>\n      <td>2.342285</td>\n      <td>48.864395</td>\n    </tr>\n    <tr>\n      <th>3</th>\n      <td>Auberge du Vieux Puits</td>\n      <td>5 avenue Saint-Victor</td>\n      <td>Fontjoncouse, 11360</td>\n      <td>Narbonne</td>\n      <td>11</td>\n      <td>Aude</td>\n      <td>Carcassonne</td>\n      <td>Occitanie</td>\n      <td>€€€€</td>\n      <td>Creative</td>\n      <td>https://www.aubergeduvieuxpuits.fr/fr/</td>\n      <td>3 MICHELIN Stars</td>\n      <td>3.0</td>\n      <td>2.789329</td>\n      <td>43.048173</td>\n    </tr>\n    <tr>\n      <th>4</th>\n      <td>Régis et Jacques Marcon</td>\n      <td>Larsiallas</td>\n      <td>Saint-Bonnet-le-Froid, 43290</td>\n      <td>Yssingeaux</td>\n      <td>43</td>\n      <td>Haute-Loire</td>\n      <td>Le Puy-en-Velay</td>\n      <td>Auvergne-Rhône-Alpes</td>\n      <td>€€€€</td>\n      <td>Creative</td>\n      <td>https://www.lesmaisonsmarcon.fr/</td>\n      <td>3 MICHELIN Stars</td>\n      <td>3.0</td>\n      <td>4.434268</td>\n      <td>45.138673</td>\n    </tr>\n    <tr>\n      <th>5</th>\n      <td>Assiette Champenoise</td>\n      <td>40 avenue Paul-Vaillant-Couturier, à Tinqueux</td>\n      <td>Reims, 51430</td>\n      <td>Reims</td>\n      <td>51</td>\n      <td>Marne</td>\n      <td>Châlons-en-Champagne</td>\n      <td>Grand Est</td>\n      <td>€€€€</td>\n      <td>Creative</td>\n      <td>https://www.assiettechampenoise.com/</td>\n      <td>3 MICHELIN Stars</td>\n      <td>3.0</td>\n      <td>4.003267</td>\n      <td>49.247835</td>\n    </tr>\n    <tr>\n      <th>6</th>\n      <td>Troisgros - Le Bois sans Feuilles</td>\n      <td>728 route de Villerest</td>\n      <td>Ouches, 42155</td>\n      <td>Roanne</td>\n      <td>42</td>\n      <td>Loire</td>\n      <td>Saint-Étienne</td>\n      <td>Auvergne-Rhône-Alpes</td>\n      <td>€€€€</td>\n      <td>Creative</td>\n      <td>https://www.troisgros.com/</td>\n      <td>3 MICHELIN Stars</td>\n      <td>3.0</td>\n      <td>3.992360</td>\n      <td>46.010330</td>\n    </tr>\n    <tr>\n      <th>7</th>\n      <td>Le Clos des Sens</td>\n      <td>13 rue Jean-Mermoz - à Annecy-le-Vieux</td>\n      <td>Annecy, 74940</td>\n      <td>Annecy</td>\n      <td>74</td>\n      <td>Haute-Savoie</td>\n      <td>Annecy</td>\n      <td>Auvergne-Rhône-Alpes</td>\n      <td>€€€€</td>\n      <td>Creative</td>\n      <td>https://www.closdessens.com/</td>\n      <td>3 MICHELIN Stars</td>\n      <td>3.0</td>\n      <td>6.144577</td>\n      <td>45.917632</td>\n    </tr>\n    <tr>\n      <th>8</th>\n      <td>La Marine</td>\n      <td>3 rue Marie-Lemonnier</td>\n      <td>L'Herbaudière, 85330</td>\n      <td>Sables-d'Olonne</td>\n      <td>85</td>\n      <td>Vendée</td>\n      <td>La Roche-sur-Yon</td>\n      <td>Pays de la Loire</td>\n      <td>€€€€</td>\n      <td>Creative, Seafood</td>\n      <td>https://www.alexandrecouillon.com/fr/</td>\n      <td>3 MICHELIN Stars</td>\n      <td>3.0</td>\n      <td>-2.299934</td>\n      <td>47.023710</td>\n    </tr>\n    <tr>\n      <th>9</th>\n      <td>La Villa Madie</td>\n      <td>Avenue de Revestel</td>\n      <td>Cassis, 13260</td>\n      <td>Marseille</td>\n      <td>13</td>\n      <td>Bouches-du-Rhône</td>\n      <td>Marseille</td>\n      <td>Provence-Alpes-Côte d'Azur</td>\n      <td>€€€€</td>\n      <td>Creative, Mediterranean Cuisine</td>\n      <td>https://lavillamadie.com/</td>\n      <td>3 MICHELIN Stars</td>\n      <td>3.0</td>\n      <td>5.544944</td>\n      <td>43.211089</td>\n    </tr>\n  </tbody>\n</table>\n</div>"
     },
     "execution_count": 25,
     "metadata": {},
     "output_type": "execute_result"
    }
   ],
   "source": [
    "new_order = ['name', 'address', 'location', 'arrondissement', 'department_num',\n",
    "             'department', 'capital', 'region', 'price', 'cuisine', 'url',\n",
    "             'award', 'stars', 'longitude', 'latitude']\n",
    "france_df = france_df[new_order]\n",
    "france_df.head(10)"
   ],
   "metadata": {
    "collapsed": false,
    "ExecuteTime": {
     "end_time": "2023-08-11T16:15:34.028583Z",
     "start_time": "2023-08-11T16:15:33.719435Z"
    }
   }
  },
  {
   "cell_type": "code",
   "execution_count": 26,
   "outputs": [
    {
     "name": "stdout",
     "output_type": "stream",
     "text": [
      "<class 'pandas.core.frame.DataFrame'>\n",
      "Int64Index: 1033 entries, 0 to 1032\n",
      "Data columns (total 15 columns):\n",
      " #   Column          Non-Null Count  Dtype  \n",
      "---  ------          --------------  -----  \n",
      " 0   name            1033 non-null   object \n",
      " 1   address         1033 non-null   object \n",
      " 2   location        1033 non-null   object \n",
      " 3   arrondissement  1033 non-null   object \n",
      " 4   department_num  1033 non-null   object \n",
      " 5   department      1033 non-null   object \n",
      " 6   capital         1033 non-null   object \n",
      " 7   region          1033 non-null   object \n",
      " 8   price           1033 non-null   object \n",
      " 9   cuisine         1033 non-null   object \n",
      " 10  url             989 non-null    object \n",
      " 11  award           1033 non-null   object \n",
      " 12  stars           1033 non-null   float64\n",
      " 13  longitude       1033 non-null   float64\n",
      " 14  latitude        1033 non-null   float64\n",
      "dtypes: float64(3), object(12)\n",
      "memory usage: 129.1+ KB\n"
     ]
    }
   ],
   "source": [
    "france_df.info()"
   ],
   "metadata": {
    "collapsed": false,
    "ExecuteTime": {
     "end_time": "2023-08-11T16:15:34.042310Z",
     "start_time": "2023-08-11T16:15:33.733482Z"
    }
   }
  },
  {
   "cell_type": "code",
   "execution_count": 27,
   "outputs": [
    {
     "data": {
      "text/plain": "223"
     },
     "execution_count": 27,
     "metadata": {},
     "output_type": "execute_result"
    }
   ],
   "source": [
    "# Unique arrondissement in the dataset\n",
    "france_df.arrondissement.nunique()"
   ],
   "metadata": {
    "collapsed": false,
    "ExecuteTime": {
     "end_time": "2023-08-11T16:15:34.048958Z",
     "start_time": "2023-08-11T16:15:33.743603Z"
    }
   }
  },
  {
   "cell_type": "code",
   "execution_count": 28,
   "outputs": [],
   "source": [
    "# Export the DataFrame to a .csv file\n",
    "france_df.to_csv('../../data/France/all_restaurants(arrondissements).csv', index=False)"
   ],
   "metadata": {
    "collapsed": false,
    "ExecuteTime": {
     "end_time": "2023-08-11T16:15:34.064992Z",
     "start_time": "2023-08-11T16:15:33.748455Z"
    }
   }
  },
  {
   "cell_type": "markdown",
   "source": [
    "----\n",
    "&nbsp;\n",
    "## Grouping by *arrondissement* based on number of Michelin stars"
   ],
   "metadata": {
    "collapsed": false,
    "ExecuteTime": {
     "end_time": "2023-08-11T16:02:54.610870Z",
     "start_time": "2023-08-11T16:02:54.516806Z"
    }
   },
   "outputs": [],
   "execution_count": 223
  },
  {
   "cell_type": "code",
   "execution_count": 29,
   "outputs": [],
   "source": [
    "france_data_copy = france_df.copy()\n",
    "\n",
    "# Create dummy variables for each category of 'star'\n",
    "france_data_copy['bib_gourmand'] = france_data_copy['stars'].apply(lambda x: 1 if x == 0.5 else 0)\n",
    "france_data_copy['1_star'] = france_data_copy['stars'].apply(lambda x: 1 if x == 1.0 else 0)\n",
    "france_data_copy['2_star'] = france_data_copy['stars'].apply(lambda x: 1 if x == 2.0 else 0)\n",
    "france_data_copy['3_star'] = france_data_copy['stars'].apply(lambda x: 1 if x == 3.0 else 0)"
   ],
   "metadata": {
    "collapsed": false,
    "ExecuteTime": {
     "end_time": "2023-08-11T16:15:34.076644Z",
     "start_time": "2023-08-11T16:15:33.763080Z"
    }
   }
  },
  {
   "cell_type": "markdown",
   "source": [
    "#### By *`arrondissement`*\n",
    "We sort `france_data` by total number of awarded restaurants"
   ],
   "metadata": {
    "collapsed": false,
    "ExecuteTime": {
     "end_time": "2023-08-11T16:02:54.835671Z",
     "start_time": "2023-08-11T16:02:54.827622Z"
    }
   },
   "outputs": [
    {
     "data": {
      "text/plain": "   Coat of arms Arrondissement (R for Right Bank, L for Left Bank)  \\\n0           NaN   1st (Ier) RAdministratively part of Paris Centre   \n1           NaN   2nd (IIe) RAdministratively part of Paris Centre   \n2           NaN  3rd (IIIe) RAdministratively part of Paris Centre   \n3           NaN   4th (IVe) RAdministratively part of Paris Centre   \n4           NaN                                         5th (Ve) L   \n\n             Name               Area (km2)  Population(2017 estimate)  \\\n0          Louvre    5.59 km2 (2.16 sq mi)                     100196   \n1          Bourse    5.59 km2 (2.16 sq mi)                     100196   \n2          Temple    5.59 km2 (2.16 sq mi)                     100196   \n3  Hôtel-de-Ville    5.59 km2 (2.16 sq mi)                     100196   \n4        Panthéon  2.541 km2 (0.981 sq mi)                      59631   \n\n  Density (2017)(inhabitants per km2) Peak of population  \\\n0                               17924        before 1861   \n1                               17924        before 1861   \n2                               17924        before 1861   \n3                               17924        before 1861   \n4                               23477               1911   \n\n         Mayor (2020–2026)  \n0          Ariel Weil (PS)  \n1          Ariel Weil (PS)  \n2          Ariel Weil (PS)  \n3          Ariel Weil (PS)  \n4  Florence Berthout (DVD)  ",
      "text/html": "<div>\n<style scoped>\n    .dataframe tbody tr th:only-of-type {\n        vertical-align: middle;\n    }\n\n    .dataframe tbody tr th {\n        vertical-align: top;\n    }\n\n    .dataframe thead th {\n        text-align: right;\n    }\n</style>\n<table border=\"1\" class=\"dataframe\">\n  <thead>\n    <tr style=\"text-align: right;\">\n      <th></th>\n      <th>Coat of arms</th>\n      <th>Arrondissement (R for Right Bank, L for Left Bank)</th>\n      <th>Name</th>\n      <th>Area (km2)</th>\n      <th>Population(2017 estimate)</th>\n      <th>Density (2017)(inhabitants per km2)</th>\n      <th>Peak of population</th>\n      <th>Mayor (2020–2026)</th>\n    </tr>\n  </thead>\n  <tbody>\n    <tr>\n      <th>0</th>\n      <td>NaN</td>\n      <td>1st (Ier) RAdministratively part of Paris Centre</td>\n      <td>Louvre</td>\n      <td>5.59 km2 (2.16 sq mi)</td>\n      <td>100196</td>\n      <td>17924</td>\n      <td>before 1861</td>\n      <td>Ariel Weil (PS)</td>\n    </tr>\n    <tr>\n      <th>1</th>\n      <td>NaN</td>\n      <td>2nd (IIe) RAdministratively part of Paris Centre</td>\n      <td>Bourse</td>\n      <td>5.59 km2 (2.16 sq mi)</td>\n      <td>100196</td>\n      <td>17924</td>\n      <td>before 1861</td>\n      <td>Ariel Weil (PS)</td>\n    </tr>\n    <tr>\n      <th>2</th>\n      <td>NaN</td>\n      <td>3rd (IIIe) RAdministratively part of Paris Centre</td>\n      <td>Temple</td>\n      <td>5.59 km2 (2.16 sq mi)</td>\n      <td>100196</td>\n      <td>17924</td>\n      <td>before 1861</td>\n      <td>Ariel Weil (PS)</td>\n    </tr>\n    <tr>\n      <th>3</th>\n      <td>NaN</td>\n      <td>4th (IVe) RAdministratively part of Paris Centre</td>\n      <td>Hôtel-de-Ville</td>\n      <td>5.59 km2 (2.16 sq mi)</td>\n      <td>100196</td>\n      <td>17924</td>\n      <td>before 1861</td>\n      <td>Ariel Weil (PS)</td>\n    </tr>\n    <tr>\n      <th>4</th>\n      <td>NaN</td>\n      <td>5th (Ve) L</td>\n      <td>Panthéon</td>\n      <td>2.541 km2 (0.981 sq mi)</td>\n      <td>59631</td>\n      <td>23477</td>\n      <td>1911</td>\n      <td>Florence Berthout (DVD)</td>\n    </tr>\n  </tbody>\n</table>\n</div>"
     },
     "execution_count": 225,
     "metadata": {},
     "output_type": "execute_result"
    }
   ],
   "execution_count": 225
  },
  {
   "cell_type": "code",
   "execution_count": 30,
   "outputs": [],
   "source": [
    "# Group by 'arrondissement' and sum 'bib', '1_star', '2_star' and '3_star'\n",
    "arrondissement_grouped = france_data_copy.groupby('arrondissement')[['bib_gourmand', '1_star', '2_star', '3_star']].sum()\n",
    "\n",
    "# Create a copy for plotting\n",
    "arrondissement_grouped_two = arrondissement_grouped.copy()"
   ],
   "metadata": {
    "collapsed": false,
    "ExecuteTime": {
     "end_time": "2023-08-11T16:15:34.083433Z",
     "start_time": "2023-08-11T16:15:33.771910Z"
    }
   }
  },
  {
   "cell_type": "markdown",
   "source": [
    "`arrondissement_grouped` is created to be merged with the demographics data"
   ],
   "metadata": {
    "collapsed": false,
    "ExecuteTime": {
     "end_time": "2023-08-11T16:02:54.842698Z",
     "start_time": "2023-08-11T16:02:54.839307Z"
    }
   },
   "outputs": [
    {
     "data": {
      "text/plain": "  arrondissement            name\n0            1st          Louvre\n1            2nd          Bourse\n2            3rd          Temple\n3            4th  Hôtel-de-Ville\n4            5th        Panthéon",
      "text/html": "<div>\n<style scoped>\n    .dataframe tbody tr th:only-of-type {\n        vertical-align: middle;\n    }\n\n    .dataframe tbody tr th {\n        vertical-align: top;\n    }\n\n    .dataframe thead th {\n        text-align: right;\n    }\n</style>\n<table border=\"1\" class=\"dataframe\">\n  <thead>\n    <tr style=\"text-align: right;\">\n      <th></th>\n      <th>arrondissement</th>\n      <th>name</th>\n    </tr>\n  </thead>\n  <tbody>\n    <tr>\n      <th>0</th>\n      <td>1st</td>\n      <td>Louvre</td>\n    </tr>\n    <tr>\n      <th>1</th>\n      <td>2nd</td>\n      <td>Bourse</td>\n    </tr>\n    <tr>\n      <th>2</th>\n      <td>3rd</td>\n      <td>Temple</td>\n    </tr>\n    <tr>\n      <th>3</th>\n      <td>4th</td>\n      <td>Hôtel-de-Ville</td>\n    </tr>\n    <tr>\n      <th>4</th>\n      <td>5th</td>\n      <td>Panthéon</td>\n    </tr>\n  </tbody>\n</table>\n</div>"
     },
     "execution_count": 227,
     "metadata": {},
     "output_type": "execute_result"
    }
   ],
   "execution_count": 227
  },
  {
   "cell_type": "code",
   "execution_count": 31,
   "outputs": [],
   "source": [
    "# Create a 'total_ star' column - sum of stars\n",
    "# Individual stars are summed here. ie, If 2 star then stars = 2\n",
    "arrondissement_grouped['total_stars'] = arrondissement_grouped['1_star']*1 + arrondissement_grouped['2_star']*2 + arrondissement_grouped['3_star']*3\n",
    "\n",
    "# Create a 'total' column = sum of restaurants\n",
    "arrondissement_grouped['starred_restaurants'] =  arrondissement_grouped['1_star'] + arrondissement_grouped['2_star'] + arrondissement_grouped['3_star']\n",
    "\n",
    "# Sort the dataframe by the 'total_stars' column in descending order\n",
    "arrondissement_grouped.sort_values('total_stars', ascending=True, inplace=True)"
   ],
   "metadata": {
    "collapsed": false,
    "ExecuteTime": {
     "end_time": "2023-08-11T16:15:34.083671Z",
     "start_time": "2023-08-11T16:15:33.777350Z"
    }
   }
  },
  {
   "cell_type": "code",
   "execution_count": 32,
   "outputs": [
    {
     "data": {
      "text/plain": "                 bib_gourmand  1_star  2_star  3_star  total_stars  \\\narrondissement                                                       \nAbbeville                   1       0       0       0            0   \nLure                        1       0       0       0            0   \nLons-le-Saunier             1       0       0       0            0   \nÉvreux                      1       0       0       0            0   \nIstres                      1       0       0       0            0   \n\n                 starred_restaurants  \narrondissement                        \nAbbeville                          0  \nLure                               0  \nLons-le-Saunier                    0  \nÉvreux                             0  \nIstres                             0  ",
      "text/html": "<div>\n<style scoped>\n    .dataframe tbody tr th:only-of-type {\n        vertical-align: middle;\n    }\n\n    .dataframe tbody tr th {\n        vertical-align: top;\n    }\n\n    .dataframe thead th {\n        text-align: right;\n    }\n</style>\n<table border=\"1\" class=\"dataframe\">\n  <thead>\n    <tr style=\"text-align: right;\">\n      <th></th>\n      <th>bib_gourmand</th>\n      <th>1_star</th>\n      <th>2_star</th>\n      <th>3_star</th>\n      <th>total_stars</th>\n      <th>starred_restaurants</th>\n    </tr>\n    <tr>\n      <th>arrondissement</th>\n      <th></th>\n      <th></th>\n      <th></th>\n      <th></th>\n      <th></th>\n      <th></th>\n    </tr>\n  </thead>\n  <tbody>\n    <tr>\n      <th>Abbeville</th>\n      <td>1</td>\n      <td>0</td>\n      <td>0</td>\n      <td>0</td>\n      <td>0</td>\n      <td>0</td>\n    </tr>\n    <tr>\n      <th>Lure</th>\n      <td>1</td>\n      <td>0</td>\n      <td>0</td>\n      <td>0</td>\n      <td>0</td>\n      <td>0</td>\n    </tr>\n    <tr>\n      <th>Lons-le-Saunier</th>\n      <td>1</td>\n      <td>0</td>\n      <td>0</td>\n      <td>0</td>\n      <td>0</td>\n      <td>0</td>\n    </tr>\n    <tr>\n      <th>Évreux</th>\n      <td>1</td>\n      <td>0</td>\n      <td>0</td>\n      <td>0</td>\n      <td>0</td>\n      <td>0</td>\n    </tr>\n    <tr>\n      <th>Istres</th>\n      <td>1</td>\n      <td>0</td>\n      <td>0</td>\n      <td>0</td>\n      <td>0</td>\n      <td>0</td>\n    </tr>\n  </tbody>\n</table>\n</div>"
     },
     "execution_count": 32,
     "metadata": {},
     "output_type": "execute_result"
    }
   ],
   "source": [
    "arrondissement_grouped.head()"
   ],
   "metadata": {
    "collapsed": false,
    "ExecuteTime": {
     "end_time": "2023-08-11T16:15:34.085433Z",
     "start_time": "2023-08-11T16:15:33.785878Z"
    }
   }
  },
  {
   "cell_type": "markdown",
   "source": [
    "----\n",
    "&nbsp;\n",
    "## Plotting starred restaurants by *`arrondissement`*\n",
    "\n",
    "We use `arrondissement_grouped_two` for plotting whilst excluding Paris"
   ],
   "metadata": {
    "collapsed": false,
    "ExecuteTime": {
     "end_time": "2023-08-11T16:02:54.933834Z",
     "start_time": "2023-08-11T16:02:54.855247Z"
    }
   },
   "outputs": [
    {
     "data": {
      "text/plain": "                                     name                    address  \\\n0  La Vague d'Or - Cheval Blanc St-Tropez  Plage de la Bouillabaisse   \n1                 René et Maxime Meilleur    Hameau de  Saint-Marcel   \n2                                     Kei         5 rue du Coq-Héron   \n3                  Auberge du Vieux Puits      5 avenue Saint-Victor   \n4                 Régis et Jacques Marcon                 Larsiallas   \n\n                            location arrondissement department_num  \\\n0                Saint-Tropez, 83990     Draguignan             83   \n1  Saint-Martin-de-Belleville, 73440    Albertville             73   \n2                       Paris, 75001            1.0             75   \n3                Fontjoncouse, 11360       Narbonne             11   \n4       Saint-Bonnet-le-Froid, 43290     Yssingeaux             43   \n\n    department          capital                      region price  \\\n0          Var           Toulon  Provence-Alpes-Côte d'Azur  €€€€   \n1       Savoie         Chambéry        Auvergne-Rhône-Alpes  €€€€   \n2        Paris            Paris               Île-de-France  €€€€   \n3         Aude      Carcassonne                   Occitanie  €€€€   \n4  Haute-Loire  Le Puy-en-Velay        Auvergne-Rhône-Alpes  €€€€   \n\n                      cuisine  \\\n0    Creative, Modern Cuisine   \n1  Creative, Regional Cuisine   \n2    Modern Cuisine, Creative   \n3                    Creative   \n4                    Creative   \n\n                                                url             award  stars  \\\n0  https://www.chevalblanc.com/fr/maison/st-tropez/  3 MICHELIN Stars    3.0   \n1                    https://www.la-bouitte.com/fr/  3 MICHELIN Stars    3.0   \n2                    https://www.restaurant-kei.fr/  3 MICHELIN Stars    3.0   \n3            https://www.aubergeduvieuxpuits.fr/fr/  3 MICHELIN Stars    3.0   \n4                  https://www.lesmaisonsmarcon.fr/  3 MICHELIN Stars    3.0   \n\n   longitude   latitude  \n0   6.626154  43.266585  \n1   6.513306  45.369046  \n2   2.342285  48.864395  \n3   2.789329  43.048173  \n4   4.434268  45.138673  ",
      "text/html": "<div>\n<style scoped>\n    .dataframe tbody tr th:only-of-type {\n        vertical-align: middle;\n    }\n\n    .dataframe tbody tr th {\n        vertical-align: top;\n    }\n\n    .dataframe thead th {\n        text-align: right;\n    }\n</style>\n<table border=\"1\" class=\"dataframe\">\n  <thead>\n    <tr style=\"text-align: right;\">\n      <th></th>\n      <th>name</th>\n      <th>address</th>\n      <th>location</th>\n      <th>arrondissement</th>\n      <th>department_num</th>\n      <th>department</th>\n      <th>capital</th>\n      <th>region</th>\n      <th>price</th>\n      <th>cuisine</th>\n      <th>url</th>\n      <th>award</th>\n      <th>stars</th>\n      <th>longitude</th>\n      <th>latitude</th>\n    </tr>\n  </thead>\n  <tbody>\n    <tr>\n      <th>0</th>\n      <td>La Vague d'Or - Cheval Blanc St-Tropez</td>\n      <td>Plage de la Bouillabaisse</td>\n      <td>Saint-Tropez, 83990</td>\n      <td>Draguignan</td>\n      <td>83</td>\n      <td>Var</td>\n      <td>Toulon</td>\n      <td>Provence-Alpes-Côte d'Azur</td>\n      <td>€€€€</td>\n      <td>Creative, Modern Cuisine</td>\n      <td>https://www.chevalblanc.com/fr/maison/st-tropez/</td>\n      <td>3 MICHELIN Stars</td>\n      <td>3.0</td>\n      <td>6.626154</td>\n      <td>43.266585</td>\n    </tr>\n    <tr>\n      <th>1</th>\n      <td>René et Maxime Meilleur</td>\n      <td>Hameau de  Saint-Marcel</td>\n      <td>Saint-Martin-de-Belleville, 73440</td>\n      <td>Albertville</td>\n      <td>73</td>\n      <td>Savoie</td>\n      <td>Chambéry</td>\n      <td>Auvergne-Rhône-Alpes</td>\n      <td>€€€€</td>\n      <td>Creative, Regional Cuisine</td>\n      <td>https://www.la-bouitte.com/fr/</td>\n      <td>3 MICHELIN Stars</td>\n      <td>3.0</td>\n      <td>6.513306</td>\n      <td>45.369046</td>\n    </tr>\n    <tr>\n      <th>2</th>\n      <td>Kei</td>\n      <td>5 rue du Coq-Héron</td>\n      <td>Paris, 75001</td>\n      <td>1.0</td>\n      <td>75</td>\n      <td>Paris</td>\n      <td>Paris</td>\n      <td>Île-de-France</td>\n      <td>€€€€</td>\n      <td>Modern Cuisine, Creative</td>\n      <td>https://www.restaurant-kei.fr/</td>\n      <td>3 MICHELIN Stars</td>\n      <td>3.0</td>\n      <td>2.342285</td>\n      <td>48.864395</td>\n    </tr>\n    <tr>\n      <th>3</th>\n      <td>Auberge du Vieux Puits</td>\n      <td>5 avenue Saint-Victor</td>\n      <td>Fontjoncouse, 11360</td>\n      <td>Narbonne</td>\n      <td>11</td>\n      <td>Aude</td>\n      <td>Carcassonne</td>\n      <td>Occitanie</td>\n      <td>€€€€</td>\n      <td>Creative</td>\n      <td>https://www.aubergeduvieuxpuits.fr/fr/</td>\n      <td>3 MICHELIN Stars</td>\n      <td>3.0</td>\n      <td>2.789329</td>\n      <td>43.048173</td>\n    </tr>\n    <tr>\n      <th>4</th>\n      <td>Régis et Jacques Marcon</td>\n      <td>Larsiallas</td>\n      <td>Saint-Bonnet-le-Froid, 43290</td>\n      <td>Yssingeaux</td>\n      <td>43</td>\n      <td>Haute-Loire</td>\n      <td>Le Puy-en-Velay</td>\n      <td>Auvergne-Rhône-Alpes</td>\n      <td>€€€€</td>\n      <td>Creative</td>\n      <td>https://www.lesmaisonsmarcon.fr/</td>\n      <td>3 MICHELIN Stars</td>\n      <td>3.0</td>\n      <td>4.434268</td>\n      <td>45.138673</td>\n    </tr>\n  </tbody>\n</table>\n</div>"
     },
     "execution_count": 229,
     "metadata": {},
     "output_type": "execute_result"
    }
   ],
   "execution_count": 229
  },
  {
   "cell_type": "code",
   "execution_count": 33,
   "outputs": [],
   "source": [
    "# Create a 'total_starred' column - sum of starred restaurants\n",
    "arrondissement_grouped_two['total_starred'] = arrondissement_grouped_two['1_star'] + arrondissement_grouped_two['2_star'] + arrondissement_grouped_two['3_star']\n",
    "\n",
    "# Sort the dataframes by the 'total' and 'total_stars' columns in descending order\n",
    "arrondissement_grouped_two.sort_values('total_starred', ascending=True, inplace=True)"
   ],
   "metadata": {
    "collapsed": false,
    "ExecuteTime": {
     "end_time": "2023-08-11T16:15:34.085658Z",
     "start_time": "2023-08-11T16:15:33.793907Z"
    }
   }
  },
  {
   "cell_type": "code",
   "execution_count": 34,
   "outputs": [],
   "source": [
    "# Exclude 'Paris'\n",
    "arrondissement_grouped_no_paris = arrondissement_grouped_two[arrondissement_grouped_two.index.get_level_values('arrondissement') != 'Paris']"
   ],
   "metadata": {
    "collapsed": false,
    "ExecuteTime": {
     "end_time": "2023-08-11T16:15:34.085732Z",
     "start_time": "2023-08-11T16:15:33.799394Z"
    }
   }
  },
  {
   "cell_type": "code",
   "execution_count": 35,
   "outputs": [],
   "source": [
    "# Sort by 'total_starred' in descending order and keep the top 10\n",
    "arrondissement_grouped_top10 = arrondissement_grouped_no_paris.sort_values('total_starred', ascending=False).head(10)\n",
    "\n",
    "# Drop the 'bib_gourmand' & 'total' columns\n",
    "arrondissement_grouped_top10 = arrondissement_grouped_top10.drop(columns=['bib_gourmand', 'total_starred'])\n",
    "\n",
    "# Reverse the order of the DataFrame\n",
    "arrondissement_grouped_top10 = arrondissement_grouped_top10.iloc[::-1]"
   ],
   "metadata": {
    "collapsed": false,
    "ExecuteTime": {
     "end_time": "2023-08-11T16:15:34.085901Z",
     "start_time": "2023-08-11T16:15:33.802920Z"
    }
   }
  },
  {
   "cell_type": "markdown",
   "source": [
    "Plot the data"
   ],
   "metadata": {
    "collapsed": false,
    "ExecuteTime": {
     "end_time": "2023-08-11T16:02:58.460663Z",
     "start_time": "2023-08-11T16:02:58.442714Z"
    }
   },
   "outputs": [
    {
     "data": {
      "text/plain": "                                     name                    address  \\\n0  La Vague d'Or - Cheval Blanc St-Tropez  Plage de la Bouillabaisse   \n1                 René et Maxime Meilleur    Hameau de  Saint-Marcel   \n2                                     Kei         5 rue du Coq-Héron   \n3                  Auberge du Vieux Puits      5 avenue Saint-Victor   \n4                 Régis et Jacques Marcon                 Larsiallas   \n\n                            location arrondissement department_num  \\\n0                Saint-Tropez, 83990     Draguignan             83   \n1  Saint-Martin-de-Belleville, 73440    Albertville             73   \n2                       Paris, 75001  (1st, Louvre)             75   \n3                Fontjoncouse, 11360       Narbonne             11   \n4       Saint-Bonnet-le-Froid, 43290     Yssingeaux             43   \n\n    department          capital                      region price  \\\n0          Var           Toulon  Provence-Alpes-Côte d'Azur  €€€€   \n1       Savoie         Chambéry        Auvergne-Rhône-Alpes  €€€€   \n2        Paris            Paris               Île-de-France  €€€€   \n3         Aude      Carcassonne                   Occitanie  €€€€   \n4  Haute-Loire  Le Puy-en-Velay        Auvergne-Rhône-Alpes  €€€€   \n\n                      cuisine  \\\n0    Creative, Modern Cuisine   \n1  Creative, Regional Cuisine   \n2    Modern Cuisine, Creative   \n3                    Creative   \n4                    Creative   \n\n                                                url             award  stars  \\\n0  https://www.chevalblanc.com/fr/maison/st-tropez/  3 MICHELIN Stars    3.0   \n1                    https://www.la-bouitte.com/fr/  3 MICHELIN Stars    3.0   \n2                    https://www.restaurant-kei.fr/  3 MICHELIN Stars    3.0   \n3            https://www.aubergeduvieuxpuits.fr/fr/  3 MICHELIN Stars    3.0   \n4                  https://www.lesmaisonsmarcon.fr/  3 MICHELIN Stars    3.0   \n\n   longitude   latitude  \n0   6.626154  43.266585  \n1   6.513306  45.369046  \n2   2.342285  48.864395  \n3   2.789329  43.048173  \n4   4.434268  45.138673  ",
      "text/html": "<div>\n<style scoped>\n    .dataframe tbody tr th:only-of-type {\n        vertical-align: middle;\n    }\n\n    .dataframe tbody tr th {\n        vertical-align: top;\n    }\n\n    .dataframe thead th {\n        text-align: right;\n    }\n</style>\n<table border=\"1\" class=\"dataframe\">\n  <thead>\n    <tr style=\"text-align: right;\">\n      <th></th>\n      <th>name</th>\n      <th>address</th>\n      <th>location</th>\n      <th>arrondissement</th>\n      <th>department_num</th>\n      <th>department</th>\n      <th>capital</th>\n      <th>region</th>\n      <th>price</th>\n      <th>cuisine</th>\n      <th>url</th>\n      <th>award</th>\n      <th>stars</th>\n      <th>longitude</th>\n      <th>latitude</th>\n    </tr>\n  </thead>\n  <tbody>\n    <tr>\n      <th>0</th>\n      <td>La Vague d'Or - Cheval Blanc St-Tropez</td>\n      <td>Plage de la Bouillabaisse</td>\n      <td>Saint-Tropez, 83990</td>\n      <td>Draguignan</td>\n      <td>83</td>\n      <td>Var</td>\n      <td>Toulon</td>\n      <td>Provence-Alpes-Côte d'Azur</td>\n      <td>€€€€</td>\n      <td>Creative, Modern Cuisine</td>\n      <td>https://www.chevalblanc.com/fr/maison/st-tropez/</td>\n      <td>3 MICHELIN Stars</td>\n      <td>3.0</td>\n      <td>6.626154</td>\n      <td>43.266585</td>\n    </tr>\n    <tr>\n      <th>1</th>\n      <td>René et Maxime Meilleur</td>\n      <td>Hameau de  Saint-Marcel</td>\n      <td>Saint-Martin-de-Belleville, 73440</td>\n      <td>Albertville</td>\n      <td>73</td>\n      <td>Savoie</td>\n      <td>Chambéry</td>\n      <td>Auvergne-Rhône-Alpes</td>\n      <td>€€€€</td>\n      <td>Creative, Regional Cuisine</td>\n      <td>https://www.la-bouitte.com/fr/</td>\n      <td>3 MICHELIN Stars</td>\n      <td>3.0</td>\n      <td>6.513306</td>\n      <td>45.369046</td>\n    </tr>\n    <tr>\n      <th>2</th>\n      <td>Kei</td>\n      <td>5 rue du Coq-Héron</td>\n      <td>Paris, 75001</td>\n      <td>(1st, Louvre)</td>\n      <td>75</td>\n      <td>Paris</td>\n      <td>Paris</td>\n      <td>Île-de-France</td>\n      <td>€€€€</td>\n      <td>Modern Cuisine, Creative</td>\n      <td>https://www.restaurant-kei.fr/</td>\n      <td>3 MICHELIN Stars</td>\n      <td>3.0</td>\n      <td>2.342285</td>\n      <td>48.864395</td>\n    </tr>\n    <tr>\n      <th>3</th>\n      <td>Auberge du Vieux Puits</td>\n      <td>5 avenue Saint-Victor</td>\n      <td>Fontjoncouse, 11360</td>\n      <td>Narbonne</td>\n      <td>11</td>\n      <td>Aude</td>\n      <td>Carcassonne</td>\n      <td>Occitanie</td>\n      <td>€€€€</td>\n      <td>Creative</td>\n      <td>https://www.aubergeduvieuxpuits.fr/fr/</td>\n      <td>3 MICHELIN Stars</td>\n      <td>3.0</td>\n      <td>2.789329</td>\n      <td>43.048173</td>\n    </tr>\n    <tr>\n      <th>4</th>\n      <td>Régis et Jacques Marcon</td>\n      <td>Larsiallas</td>\n      <td>Saint-Bonnet-le-Froid, 43290</td>\n      <td>Yssingeaux</td>\n      <td>43</td>\n      <td>Haute-Loire</td>\n      <td>Le Puy-en-Velay</td>\n      <td>Auvergne-Rhône-Alpes</td>\n      <td>€€€€</td>\n      <td>Creative</td>\n      <td>https://www.lesmaisonsmarcon.fr/</td>\n      <td>3 MICHELIN Stars</td>\n      <td>3.0</td>\n      <td>4.434268</td>\n      <td>45.138673</td>\n    </tr>\n  </tbody>\n</table>\n</div>"
     },
     "execution_count": 233,
     "metadata": {},
     "output_type": "execute_result"
    }
   ],
   "execution_count": 233
  },
  {
   "cell_type": "code",
   "execution_count": 36,
   "outputs": [
    {
     "data": {
      "text/plain": "<Figure size 1000x700 with 1 Axes>",
      "image/png": "[encoded data removed]"
     },
     "metadata": {},
     "output_type": "display_data"
    }
   ],
   "source": [
    "# Create a horizontal stacked bar plot\n",
    "arrondissement_grouped_top10.plot(kind='barh', stacked=True, figsize=(10, 7),\n",
    "                    color=['#fee8c8','#fdbb84','#e34a33'])\n",
    "\n",
    "# Add title and labels\n",
    "plt.title('Michelin Starred Restaurants by Arrondissement\\n(Excludes Paris)')\n",
    "plt.ylabel('Arrondissement')\n",
    "plt.xlabel('Number of Restaurants')\n",
    "\n",
    "# Add a legend\n",
    "plt.legend(title='Michelin Stars', labels=['1 Star', '2 Star', '3 Star'])\n",
    "\n",
    "# Show the plot\n",
    "plt.show()"
   ],
   "metadata": {
    "collapsed": false,
    "ExecuteTime": {
     "end_time": "2023-08-11T16:15:34.160192Z",
     "start_time": "2023-08-11T16:15:33.810325Z"
    }
   }
  },
  {
   "cell_type": "markdown",
   "source": [
    "----\n",
    "&nbsp;\n",
    "#### We now cascade merges from the smallest granularity (arrondissement) up to the highest (region) using the department as an intermediary linking point."
   ],
   "metadata": {
    "collapsed": false
   }
  },
  {
   "cell_type": "markdown",
   "source": [
    "#### 1. Extract departmental code from `geoJSON_df`"
   ],
   "metadata": {
    "collapsed": false,
    "ExecuteTime": {
     "end_time": "2023-08-11T16:05:56.738607Z",
     "start_time": "2023-08-11T16:05:56.700040Z"
    }
   },
   "outputs": [],
   "execution_count": 236
  },
  {
   "cell_type": "code",
   "execution_count": 37,
   "outputs": [
    {
     "name": "stdout",
     "output_type": "stream",
     "text": [
      "Shape: (320, 4)\n",
      "Columns: ['code', 'nom', 'geometry', 'department_num']\n"
     ]
    },
    {
     "data": {
      "text/plain": "    code              nom                                           geometry  \\\n0  01001           Belley  POLYGON ((5.12174 45.81118, 5.12665 45.81392, ...   \n1  01002  Bourg-en-Bresse  POLYGON ((4.98022 46.51520, 4.98355 46.51539, ...   \n2  01003              Gex  POLYGON ((6.06401 46.41623, 6.06730 46.41494, ...   \n\n  department_num  \n0             01  \n1             01  \n2             01  ",
      "text/html": "<div>\n<style scoped>\n    .dataframe tbody tr th:only-of-type {\n        vertical-align: middle;\n    }\n\n    .dataframe tbody tr th {\n        vertical-align: top;\n    }\n\n    .dataframe thead th {\n        text-align: right;\n    }\n</style>\n<table border=\"1\" class=\"dataframe\">\n  <thead>\n    <tr style=\"text-align: right;\">\n      <th></th>\n      <th>code</th>\n      <th>nom</th>\n      <th>geometry</th>\n      <th>department_num</th>\n    </tr>\n  </thead>\n  <tbody>\n    <tr>\n      <th>0</th>\n      <td>01001</td>\n      <td>Belley</td>\n      <td>POLYGON ((5.12174 45.81118, 5.12665 45.81392, ...</td>\n      <td>01</td>\n    </tr>\n    <tr>\n      <th>1</th>\n      <td>01002</td>\n      <td>Bourg-en-Bresse</td>\n      <td>POLYGON ((4.98022 46.51520, 4.98355 46.51539, ...</td>\n      <td>01</td>\n    </tr>\n    <tr>\n      <th>2</th>\n      <td>01003</td>\n      <td>Gex</td>\n      <td>POLYGON ((6.06401 46.41623, 6.06730 46.41494, ...</td>\n      <td>01</td>\n    </tr>\n  </tbody>\n</table>\n</div>"
     },
     "execution_count": 37,
     "metadata": {},
     "output_type": "execute_result"
    }
   ],
   "source": [
    "# Step 1: Extract department code\n",
    "geoJSON_df['department_num'] = geoJSON_df['code'].str[:2]\n",
    "print(f\"Shape: {geoJSON_df.shape}\")\n",
    "print(f\"Columns: {geoJSON_df.columns.tolist()}\")\n",
    "geoJSON_df.head(3)"
   ],
   "metadata": {
    "collapsed": false,
    "ExecuteTime": {
     "end_time": "2023-08-11T16:15:34.160501Z",
     "start_time": "2023-08-11T16:15:34.019556Z"
    }
   }
  },
  {
   "cell_type": "markdown",
   "source": [
    "#### 2. Extract department name from file produced in `France_Departments_Regions.ipynb`"
   ],
   "metadata": {
    "collapsed": false,
    "ExecuteTime": {
     "end_time": "2023-08-11T16:06:09.521157Z",
     "start_time": "2023-08-11T16:06:09.350698Z"
    }
   },
   "outputs": [],
   "execution_count": 238
  },
  {
   "cell_type": "code",
   "execution_count": 38,
   "outputs": [
    {
     "name": "stdout",
     "output_type": "stream",
     "text": [
      "Shape: (96, 3)\n",
      "Columns: ['code', 'nom', 'geometry']\n"
     ]
    },
    {
     "data": {
      "text/plain": "  code                      nom  \\\n0   01                      Ain   \n1   02                    Aisne   \n2   03                   Allier   \n3   04  Alpes-de-Haute-Provence   \n4   05             Hautes-Alpes   \n\n                                            geometry  \n0  POLYGON ((4.78021 46.17668, 4.78024 46.18905, ...  \n1  POLYGON ((3.17296 50.01131, 3.17382 50.01186, ...  \n2  POLYGON ((3.03207 46.79491, 3.03424 46.79080, ...  \n3  POLYGON ((5.67604 44.19143, 5.67817 44.19051, ...  \n4  POLYGON ((6.26057 45.12685, 6.26417 45.12641, ...  ",
      "text/html": "<div>\n<style scoped>\n    .dataframe tbody tr th:only-of-type {\n        vertical-align: middle;\n    }\n\n    .dataframe tbody tr th {\n        vertical-align: top;\n    }\n\n    .dataframe thead th {\n        text-align: right;\n    }\n</style>\n<table border=\"1\" class=\"dataframe\">\n  <thead>\n    <tr style=\"text-align: right;\">\n      <th></th>\n      <th>code</th>\n      <th>nom</th>\n      <th>geometry</th>\n    </tr>\n  </thead>\n  <tbody>\n    <tr>\n      <th>0</th>\n      <td>01</td>\n      <td>Ain</td>\n      <td>POLYGON ((4.78021 46.17668, 4.78024 46.18905, ...</td>\n    </tr>\n    <tr>\n      <th>1</th>\n      <td>02</td>\n      <td>Aisne</td>\n      <td>POLYGON ((3.17296 50.01131, 3.17382 50.01186, ...</td>\n    </tr>\n    <tr>\n      <th>2</th>\n      <td>03</td>\n      <td>Allier</td>\n      <td>POLYGON ((3.03207 46.79491, 3.03424 46.79080, ...</td>\n    </tr>\n    <tr>\n      <th>3</th>\n      <td>04</td>\n      <td>Alpes-de-Haute-Provence</td>\n      <td>POLYGON ((5.67604 44.19143, 5.67817 44.19051, ...</td>\n    </tr>\n    <tr>\n      <th>4</th>\n      <td>05</td>\n      <td>Hautes-Alpes</td>\n      <td>POLYGON ((6.26057 45.12685, 6.26417 45.12641, ...</td>\n    </tr>\n  </tbody>\n</table>\n</div>"
     },
     "execution_count": 38,
     "metadata": {},
     "output_type": "execute_result"
    }
   ],
   "source": [
    "departments = gpd.read_file(\"../../data/France/Geodata/departements.geojson\")\n",
    "print(f\"Shape: {departments.shape}\")\n",
    "print(f\"Columns: {departments.columns.tolist()}\")\n",
    "departments.head()"
   ],
   "metadata": {
    "collapsed": false,
    "ExecuteTime": {
     "end_time": "2023-08-11T16:15:34.614869Z",
     "start_time": "2023-08-11T16:15:34.169305Z"
    }
   }
  },
  {
   "cell_type": "code",
   "execution_count": 39,
   "outputs": [],
   "source": [
    "# Merge the dataframes on the appropriate columns\n",
    "merged_geo_df = pd.merge(geoJSON_df[['code', 'nom', 'geometry', 'department_num']],\n",
    "                         departments[['code', 'nom']],\n",
    "                         left_on='department_num', right_on='code',\n",
    "                         how='left', suffixes=('_arrondissement', '_department'))"
   ],
   "metadata": {
    "collapsed": false,
    "ExecuteTime": {
     "end_time": "2023-08-11T16:15:34.622040Z",
     "start_time": "2023-08-11T16:15:34.620631Z"
    }
   }
  },
  {
   "cell_type": "code",
   "execution_count": 40,
   "outputs": [
    {
     "name": "stdout",
     "output_type": "stream",
     "text": [
      "Shape: (320, 6)\n"
     ]
    }
   ],
   "source": [
    "print(f\"Shape: {merged_geo_df.shape}\")"
   ],
   "metadata": {
    "collapsed": false,
    "ExecuteTime": {
     "end_time": "2023-08-11T16:15:34.627722Z",
     "start_time": "2023-08-11T16:15:34.623688Z"
    }
   }
  },
  {
   "cell_type": "code",
   "execution_count": 41,
   "outputs": [
    {
     "name": "stdout",
     "output_type": "stream",
     "text": [
      "Columns: ['code_arrondissement', 'nom_arrondissement', 'geometry', 'department_num', 'code_department', 'nom_department']\n"
     ]
    }
   ],
   "source": [
    "print(f\"Columns: {merged_geo_df.columns.tolist()}\")"
   ],
   "metadata": {
    "collapsed": false,
    "ExecuteTime": {
     "end_time": "2023-08-11T16:15:34.633152Z",
     "start_time": "2023-08-11T16:15:34.629357Z"
    }
   }
  },
  {
   "cell_type": "code",
   "execution_count": 42,
   "outputs": [
    {
     "data": {
      "text/plain": "  code_arrondissement   arrondissement department_num department  \\\n0               01001           Belley             01        Ain   \n1               01002  Bourg-en-Bresse             01        Ain   \n2               01003              Gex             01        Ain   \n3               01004           Nantua             01        Ain   \n4               02001  Château-Thierry             02      Aisne   \n\n                                            geometry  \n0  POLYGON ((5.12174 45.81118, 5.12665 45.81392, ...  \n1  POLYGON ((4.98022 46.51520, 4.98355 46.51539, ...  \n2  POLYGON ((6.06401 46.41623, 6.06730 46.41494, ...  \n3  POLYGON ((5.63746 46.33644, 5.64007 46.33884, ...  \n4  POLYGON ((3.07188 49.11755, 3.07224 49.11832, ...  ",
      "text/html": "<div>\n<style scoped>\n    .dataframe tbody tr th:only-of-type {\n        vertical-align: middle;\n    }\n\n    .dataframe tbody tr th {\n        vertical-align: top;\n    }\n\n    .dataframe thead th {\n        text-align: right;\n    }\n</style>\n<table border=\"1\" class=\"dataframe\">\n  <thead>\n    <tr style=\"text-align: right;\">\n      <th></th>\n      <th>code_arrondissement</th>\n      <th>arrondissement</th>\n      <th>department_num</th>\n      <th>department</th>\n      <th>geometry</th>\n    </tr>\n  </thead>\n  <tbody>\n    <tr>\n      <th>0</th>\n      <td>01001</td>\n      <td>Belley</td>\n      <td>01</td>\n      <td>Ain</td>\n      <td>POLYGON ((5.12174 45.81118, 5.12665 45.81392, ...</td>\n    </tr>\n    <tr>\n      <th>1</th>\n      <td>01002</td>\n      <td>Bourg-en-Bresse</td>\n      <td>01</td>\n      <td>Ain</td>\n      <td>POLYGON ((4.98022 46.51520, 4.98355 46.51539, ...</td>\n    </tr>\n    <tr>\n      <th>2</th>\n      <td>01003</td>\n      <td>Gex</td>\n      <td>01</td>\n      <td>Ain</td>\n      <td>POLYGON ((6.06401 46.41623, 6.06730 46.41494, ...</td>\n    </tr>\n    <tr>\n      <th>3</th>\n      <td>01004</td>\n      <td>Nantua</td>\n      <td>01</td>\n      <td>Ain</td>\n      <td>POLYGON ((5.63746 46.33644, 5.64007 46.33884, ...</td>\n    </tr>\n    <tr>\n      <th>4</th>\n      <td>02001</td>\n      <td>Château-Thierry</td>\n      <td>02</td>\n      <td>Aisne</td>\n      <td>POLYGON ((3.07188 49.11755, 3.07224 49.11832, ...</td>\n    </tr>\n  </tbody>\n</table>\n</div>"
     },
     "execution_count": 42,
     "metadata": {},
     "output_type": "execute_result"
    }
   ],
   "source": [
    "# Drop 'code_department'\n",
    "merged_geo_df.drop('code_department', axis=1, inplace=True)\n",
    "\n",
    "# Rename columns\n",
    "column_rename_map = {\n",
    "    'nom_arrondissement': 'arrondissement',\n",
    "    'nom_department': 'department'\n",
    "}\n",
    "merged_geo_df.rename(columns=column_rename_map, inplace=True)\n",
    "\n",
    "# Rearrange columns\n",
    "new_order = ['code_arrondissement', 'arrondissement', 'department_num', 'department', 'geometry']\n",
    "merged_geo_df = merged_geo_df[new_order]\n",
    "merged_geo_df.head()"
   ],
   "metadata": {
    "collapsed": false,
    "ExecuteTime": {
     "end_time": "2023-08-11T16:15:34.705933Z",
     "start_time": "2023-08-11T16:15:34.650525Z"
    }
   }
  },
  {
   "cell_type": "markdown",
   "source": [
    "#### 3. Extract the region from `france_df`"
   ],
   "metadata": {
    "collapsed": false
   }
  },
  {
   "cell_type": "code",
   "execution_count": 43,
   "outputs": [
    {
     "name": "stdout",
     "output_type": "stream",
     "text": [
      "Shape: (92, 4)\n"
     ]
    }
   ],
   "source": [
    "# 1. Create a copy of france_df and retain only the columns of interest\n",
    "france_subset = france_df[['department_num', 'department', 'capital', 'region']].copy()\n",
    "\n",
    "# Drop duplicates based on 'department_num'\n",
    "france_subset = france_subset.drop_duplicates(subset='department_num')\n",
    "print(f\"Shape: {france_subset.shape}\")"
   ],
   "metadata": {
    "collapsed": false,
    "ExecuteTime": {
     "end_time": "2023-08-11T16:15:34.717659Z",
     "start_time": "2023-08-11T16:15:34.658556Z"
    }
   }
  },
  {
   "cell_type": "markdown",
   "source": [
    "We know from previous analysis that there are departments missing (Don't have Michelin restaurants)\n",
    "\n",
    "Also, we know there are 96 departments. Therefore,"
   ],
   "metadata": {
    "collapsed": false,
    "ExecuteTime": {
     "end_time": "2023-08-11T16:06:27.026761Z",
     "start_time": "2023-08-11T16:06:27.013741Z"
    }
   },
   "outputs": [],
   "execution_count": 268
  },
  {
   "cell_type": "code",
   "execution_count": 44,
   "outputs": [],
   "source": [
    "missing_dept_dict = {\n",
    "    'Deux-Sèvres': {\n",
    "        'department_num': '79',\n",
    "        'region': 'Nouvelle-Aquitaine',\n",
    "        'capital': 'Niort'\n",
    "    },\n",
    "    'Nièvre': {\n",
    "        'department_num': '58',\n",
    "        'region': 'Bourgogne-Franche-Comté',\n",
    "        'capital': 'Nevers'\n",
    "    },\n",
    "    'Aisne': {\n",
    "        'department_num': '02',\n",
    "        'region': 'Hauts-de-France',\n",
    "        'capital': 'Laon'\n",
    "    },\n",
    "    'Tarn-et-Garonne': {\n",
    "        'department_num': '82',\n",
    "        'region': 'Occitanie',\n",
    "        'capital': 'Montauban'\n",
    "    }\n",
    "}"
   ],
   "metadata": {
    "collapsed": false,
    "ExecuteTime": {
     "end_time": "2023-08-11T16:15:34.738148Z",
     "start_time": "2023-08-11T16:15:34.666526Z"
    }
   }
  },
  {
   "cell_type": "code",
   "execution_count": 45,
   "outputs": [],
   "source": [
    "# Extracting data from the dictionary to lists\n",
    "departments = list(missing_dept_dict.keys())\n",
    "department_nums = [val['department_num'] for val in missing_dept_dict.values()]\n",
    "regions = [val['region'] for val in missing_dept_dict.values()]\n",
    "capitals = [val['capital'] for val in missing_dept_dict.values()]\n",
    "\n",
    "# Creating a DataFrame from the lists\n",
    "missing_dept_df = pd.DataFrame({\n",
    "    'department': departments,\n",
    "    'department_num': department_nums,\n",
    "    'region': regions,\n",
    "    'capital': capitals\n",
    "})"
   ],
   "metadata": {
    "collapsed": false,
    "ExecuteTime": {
     "end_time": "2023-08-11T16:15:34.738517Z",
     "start_time": "2023-08-11T16:15:34.680613Z"
    }
   }
  },
  {
   "cell_type": "code",
   "execution_count": 46,
   "outputs": [],
   "source": [
    "# Concatenate the original dataframe with the missing departments dataframe\n",
    "france_subset = pd.concat([france_subset, missing_dept_df])\n",
    "\n",
    "# Sort by 'department_num'\n",
    "france_subset = france_subset.sort_values(by='department_num').reset_index(drop=True)"
   ],
   "metadata": {
    "collapsed": false,
    "ExecuteTime": {
     "end_time": "2023-08-11T16:15:34.738607Z",
     "start_time": "2023-08-11T16:15:34.681Z"
    }
   }
  },
  {
   "cell_type": "code",
   "execution_count": 47,
   "outputs": [
    {
     "name": "stdout",
     "output_type": "stream",
     "text": [
      "Shape: (96, 4)\n"
     ]
    },
    {
     "data": {
      "text/plain": "  department_num               department          capital  \\\n0             01                      Ain  Bourg-en-Bresse   \n1             02                    Aisne             Laon   \n2             03                   Allier          Moulins   \n3             04  Alpes-de-Haute-Provence  Digne-les-Bains   \n4             05             Hautes-Alpes              Gap   \n\n                       region  \n0        Auvergne-Rhône-Alpes  \n1             Hauts-de-France  \n2        Auvergne-Rhône-Alpes  \n3  Provence-Alpes-Côte d'Azur  \n4  Provence-Alpes-Côte d'Azur  ",
      "text/html": "<div>\n<style scoped>\n    .dataframe tbody tr th:only-of-type {\n        vertical-align: middle;\n    }\n\n    .dataframe tbody tr th {\n        vertical-align: top;\n    }\n\n    .dataframe thead th {\n        text-align: right;\n    }\n</style>\n<table border=\"1\" class=\"dataframe\">\n  <thead>\n    <tr style=\"text-align: right;\">\n      <th></th>\n      <th>department_num</th>\n      <th>department</th>\n      <th>capital</th>\n      <th>region</th>\n    </tr>\n  </thead>\n  <tbody>\n    <tr>\n      <th>0</th>\n      <td>01</td>\n      <td>Ain</td>\n      <td>Bourg-en-Bresse</td>\n      <td>Auvergne-Rhône-Alpes</td>\n    </tr>\n    <tr>\n      <th>1</th>\n      <td>02</td>\n      <td>Aisne</td>\n      <td>Laon</td>\n      <td>Hauts-de-France</td>\n    </tr>\n    <tr>\n      <th>2</th>\n      <td>03</td>\n      <td>Allier</td>\n      <td>Moulins</td>\n      <td>Auvergne-Rhône-Alpes</td>\n    </tr>\n    <tr>\n      <th>3</th>\n      <td>04</td>\n      <td>Alpes-de-Haute-Provence</td>\n      <td>Digne-les-Bains</td>\n      <td>Provence-Alpes-Côte d'Azur</td>\n    </tr>\n    <tr>\n      <th>4</th>\n      <td>05</td>\n      <td>Hautes-Alpes</td>\n      <td>Gap</td>\n      <td>Provence-Alpes-Côte d'Azur</td>\n    </tr>\n  </tbody>\n</table>\n</div>"
     },
     "execution_count": 47,
     "metadata": {},
     "output_type": "execute_result"
    }
   ],
   "source": [
    "print(f\"Shape: {france_subset.shape}\")\n",
    "france_subset.head()"
   ],
   "metadata": {
    "collapsed": false,
    "ExecuteTime": {
     "end_time": "2023-08-11T16:15:34.738890Z",
     "start_time": "2023-08-11T16:15:34.681141Z"
    }
   }
  },
  {
   "cell_type": "code",
   "execution_count": 48,
   "outputs": [
    {
     "name": "stdout",
     "output_type": "stream",
     "text": [
      "<class 'pandas.core.frame.DataFrame'>\n",
      "RangeIndex: 96 entries, 0 to 95\n",
      "Data columns (total 4 columns):\n",
      " #   Column          Non-Null Count  Dtype \n",
      "---  ------          --------------  ----- \n",
      " 0   department_num  96 non-null     object\n",
      " 1   department      96 non-null     object\n",
      " 2   capital         96 non-null     object\n",
      " 3   region          96 non-null     object\n",
      "dtypes: object(4)\n",
      "memory usage: 3.1+ KB\n"
     ]
    }
   ],
   "source": [
    "france_subset.info()"
   ],
   "metadata": {
    "collapsed": false,
    "ExecuteTime": {
     "end_time": "2023-08-11T16:15:34.739162Z",
     "start_time": "2023-08-11T16:15:34.689235Z"
    }
   }
  },
  {
   "cell_type": "markdown",
   "source": [
    "#### 4. Merge `france_subset` with `geoJSON_df` on `department_num`"
   ],
   "metadata": {
    "collapsed": false,
    "ExecuteTime": {
     "end_time": "2023-08-11T16:06:36.354042Z",
     "start_time": "2023-08-11T16:06:36.333076Z"
    }
   },
   "outputs": [
    {
     "name": "stdout",
     "output_type": "stream",
     "text": [
      "Shape: (320, 4)\n",
      "Columns: ['code', 'nom', 'geometry', 'department_num']\n"
     ]
    },
    {
     "data": {
      "text/plain": "    code              nom                                           geometry  \\\n0  01001           Belley  POLYGON ((5.12174 45.81118, 5.12665 45.81392, ...   \n1  01002  Bourg-en-Bresse  POLYGON ((4.98022 46.51520, 4.98355 46.51539, ...   \n2  01003              Gex  POLYGON ((6.06401 46.41623, 6.06730 46.41494, ...   \n\n  department_num  \n0             01  \n1             01  \n2             01  ",
      "text/html": "<div>\n<style scoped>\n    .dataframe tbody tr th:only-of-type {\n        vertical-align: middle;\n    }\n\n    .dataframe tbody tr th {\n        vertical-align: top;\n    }\n\n    .dataframe thead th {\n        text-align: right;\n    }\n</style>\n<table border=\"1\" class=\"dataframe\">\n  <thead>\n    <tr style=\"text-align: right;\">\n      <th></th>\n      <th>code</th>\n      <th>nom</th>\n      <th>geometry</th>\n      <th>department_num</th>\n    </tr>\n  </thead>\n  <tbody>\n    <tr>\n      <th>0</th>\n      <td>01001</td>\n      <td>Belley</td>\n      <td>POLYGON ((5.12174 45.81118, 5.12665 45.81392, ...</td>\n      <td>01</td>\n    </tr>\n    <tr>\n      <th>1</th>\n      <td>01002</td>\n      <td>Bourg-en-Bresse</td>\n      <td>POLYGON ((4.98022 46.51520, 4.98355 46.51539, ...</td>\n      <td>01</td>\n    </tr>\n    <tr>\n      <th>2</th>\n      <td>01003</td>\n      <td>Gex</td>\n      <td>POLYGON ((6.06401 46.41623, 6.06730 46.41494, ...</td>\n      <td>01</td>\n    </tr>\n  </tbody>\n</table>\n</div>"
     },
     "execution_count": 271,
     "metadata": {},
     "output_type": "execute_result"
    }
   ],
   "execution_count": 271
  },
  {
   "cell_type": "code",
   "execution_count": 49,
   "outputs": [
    {
     "name": "stdout",
     "output_type": "stream",
     "text": [
      "Shape geo: (320, 4)\n",
      "Shape merged: (320, 7)\n"
     ]
    }
   ],
   "source": [
    "merged_df = pd.merge(france_subset, geoJSON_df, on=\"department_num\", how=\"inner\")\n",
    "\n",
    "print(f\"Shape geo: {geoJSON_df.shape}\\nShape merged: {merged_df.shape}\")"
   ],
   "metadata": {
    "collapsed": false,
    "ExecuteTime": {
     "end_time": "2023-08-11T16:15:34.739323Z",
     "start_time": "2023-08-11T16:15:34.697688Z"
    }
   }
  },
  {
   "cell_type": "code",
   "execution_count": 50,
   "outputs": [
    {
     "data": {
      "text/plain": "  department_num department          capital                region   code  \\\n0             01        Ain  Bourg-en-Bresse  Auvergne-Rhône-Alpes  01001   \n1             01        Ain  Bourg-en-Bresse  Auvergne-Rhône-Alpes  01002   \n2             01        Ain  Bourg-en-Bresse  Auvergne-Rhône-Alpes  01003   \n3             01        Ain  Bourg-en-Bresse  Auvergne-Rhône-Alpes  01004   \n4             02      Aisne             Laon       Hauts-de-France  02001   \n\n               nom                                           geometry  \n0           Belley  POLYGON ((5.12174 45.81118, 5.12665 45.81392, ...  \n1  Bourg-en-Bresse  POLYGON ((4.98022 46.51520, 4.98355 46.51539, ...  \n2              Gex  POLYGON ((6.06401 46.41623, 6.06730 46.41494, ...  \n3           Nantua  POLYGON ((5.63746 46.33644, 5.64007 46.33884, ...  \n4  Château-Thierry  POLYGON ((3.07188 49.11755, 3.07224 49.11832, ...  ",
      "text/html": "<div>\n<style scoped>\n    .dataframe tbody tr th:only-of-type {\n        vertical-align: middle;\n    }\n\n    .dataframe tbody tr th {\n        vertical-align: top;\n    }\n\n    .dataframe thead th {\n        text-align: right;\n    }\n</style>\n<table border=\"1\" class=\"dataframe\">\n  <thead>\n    <tr style=\"text-align: right;\">\n      <th></th>\n      <th>department_num</th>\n      <th>department</th>\n      <th>capital</th>\n      <th>region</th>\n      <th>code</th>\n      <th>nom</th>\n      <th>geometry</th>\n    </tr>\n  </thead>\n  <tbody>\n    <tr>\n      <th>0</th>\n      <td>01</td>\n      <td>Ain</td>\n      <td>Bourg-en-Bresse</td>\n      <td>Auvergne-Rhône-Alpes</td>\n      <td>01001</td>\n      <td>Belley</td>\n      <td>POLYGON ((5.12174 45.81118, 5.12665 45.81392, ...</td>\n    </tr>\n    <tr>\n      <th>1</th>\n      <td>01</td>\n      <td>Ain</td>\n      <td>Bourg-en-Bresse</td>\n      <td>Auvergne-Rhône-Alpes</td>\n      <td>01002</td>\n      <td>Bourg-en-Bresse</td>\n      <td>POLYGON ((4.98022 46.51520, 4.98355 46.51539, ...</td>\n    </tr>\n    <tr>\n      <th>2</th>\n      <td>01</td>\n      <td>Ain</td>\n      <td>Bourg-en-Bresse</td>\n      <td>Auvergne-Rhône-Alpes</td>\n      <td>01003</td>\n      <td>Gex</td>\n      <td>POLYGON ((6.06401 46.41623, 6.06730 46.41494, ...</td>\n    </tr>\n    <tr>\n      <th>3</th>\n      <td>01</td>\n      <td>Ain</td>\n      <td>Bourg-en-Bresse</td>\n      <td>Auvergne-Rhône-Alpes</td>\n      <td>01004</td>\n      <td>Nantua</td>\n      <td>POLYGON ((5.63746 46.33644, 5.64007 46.33884, ...</td>\n    </tr>\n    <tr>\n      <th>4</th>\n      <td>02</td>\n      <td>Aisne</td>\n      <td>Laon</td>\n      <td>Hauts-de-France</td>\n      <td>02001</td>\n      <td>Château-Thierry</td>\n      <td>POLYGON ((3.07188 49.11755, 3.07224 49.11832, ...</td>\n    </tr>\n  </tbody>\n</table>\n</div>"
     },
     "execution_count": 50,
     "metadata": {},
     "output_type": "execute_result"
    }
   ],
   "source": [
    "merged_df.head()"
   ],
   "metadata": {
    "collapsed": false,
    "ExecuteTime": {
     "end_time": "2023-08-11T16:15:34.798702Z",
     "start_time": "2023-08-11T16:15:34.715125Z"
    }
   }
  },
  {
   "cell_type": "markdown",
   "source": [
    "#### 5. Merge above with `stats_locale` on 'nom' & 'arrondissement'"
   ],
   "metadata": {
    "collapsed": false,
    "ExecuteTime": {
     "end_time": "2023-08-11T16:06:44.644925Z",
     "start_time": "2023-08-11T16:06:44.626286Z"
    }
   },
   "outputs": [],
   "execution_count": 273
  },
  {
   "cell_type": "code",
   "execution_count": 51,
   "outputs": [
    {
     "name": "stdout",
     "output_type": "stream",
     "text": [
      "Shape: (320, 6)\n"
     ]
    },
    {
     "data": {
      "text/plain": "  code   arrondissement  municipal_population  \\\n0  011           Belley                123405   \n1  012  Bourg-en-Bresse                340382   \n2  013              Gex                100314   \n3  014           Nantua                 93755   \n4  021  Château-Thierry                 70094   \n\n   population_density(inhabitants/sq_km) poverty_rate(%)  \\\n0                                   77.9            10.2   \n1                                  118.4             8.8   \n2                                  247.8            12.4   \n3                                  104.2            15.5   \n4                                   62.9              14   \n\n  average_net_hourly_wage(€)  \n0                       15.3  \n1                      15.65  \n2                      15.32  \n3                      14.14  \n4                      14.36  ",
      "text/html": "<div>\n<style scoped>\n    .dataframe tbody tr th:only-of-type {\n        vertical-align: middle;\n    }\n\n    .dataframe tbody tr th {\n        vertical-align: top;\n    }\n\n    .dataframe thead th {\n        text-align: right;\n    }\n</style>\n<table border=\"1\" class=\"dataframe\">\n  <thead>\n    <tr style=\"text-align: right;\">\n      <th></th>\n      <th>code</th>\n      <th>arrondissement</th>\n      <th>municipal_population</th>\n      <th>population_density(inhabitants/sq_km)</th>\n      <th>poverty_rate(%)</th>\n      <th>average_net_hourly_wage(€)</th>\n    </tr>\n  </thead>\n  <tbody>\n    <tr>\n      <th>0</th>\n      <td>011</td>\n      <td>Belley</td>\n      <td>123405</td>\n      <td>77.9</td>\n      <td>10.2</td>\n      <td>15.3</td>\n    </tr>\n    <tr>\n      <th>1</th>\n      <td>012</td>\n      <td>Bourg-en-Bresse</td>\n      <td>340382</td>\n      <td>118.4</td>\n      <td>8.8</td>\n      <td>15.65</td>\n    </tr>\n    <tr>\n      <th>2</th>\n      <td>013</td>\n      <td>Gex</td>\n      <td>100314</td>\n      <td>247.8</td>\n      <td>12.4</td>\n      <td>15.32</td>\n    </tr>\n    <tr>\n      <th>3</th>\n      <td>014</td>\n      <td>Nantua</td>\n      <td>93755</td>\n      <td>104.2</td>\n      <td>15.5</td>\n      <td>14.14</td>\n    </tr>\n    <tr>\n      <th>4</th>\n      <td>021</td>\n      <td>Château-Thierry</td>\n      <td>70094</td>\n      <td>62.9</td>\n      <td>14</td>\n      <td>14.36</td>\n    </tr>\n  </tbody>\n</table>\n</div>"
     },
     "execution_count": 51,
     "metadata": {},
     "output_type": "execute_result"
    }
   ],
   "source": [
    "print(f\"Shape: {stats_locale.shape}\")\n",
    "stats_locale.head()"
   ],
   "metadata": {
    "collapsed": false,
    "ExecuteTime": {
     "end_time": "2023-08-11T16:15:34.828486Z",
     "start_time": "2023-08-11T16:15:34.722697Z"
    }
   }
  },
  {
   "cell_type": "code",
   "execution_count": 52,
   "outputs": [],
   "source": [
    "geo_stats = pd.merge(stats_locale, merged_df, left_on='arrondissement', right_on='nom', how='inner')"
   ],
   "metadata": {
    "collapsed": false,
    "ExecuteTime": {
     "end_time": "2023-08-11T16:15:34.828833Z",
     "start_time": "2023-08-11T16:15:34.726958Z"
    }
   }
  },
  {
   "cell_type": "code",
   "execution_count": 53,
   "outputs": [
    {
     "name": "stdout",
     "output_type": "stream",
     "text": [
      "Shape: (320, 13)\n",
      "Unique regions: 13\n",
      "Unique departments: 96\n",
      "Unique arrondissements: 320\n",
      "Columns:\n",
      "['code_x', 'arrondissement', 'municipal_population', 'population_density(inhabitants/sq_km)', 'poverty_rate(%)', 'average_net_hourly_wage(€)', 'department_num', 'department', 'capital', 'region', 'code_y', 'nom', 'geometry']\n"
     ]
    }
   ],
   "source": [
    "print(f\"Shape: {geo_stats.shape}\")\n",
    "print(f\"Unique regions: {geo_stats['region'].nunique()}\")\n",
    "print(f\"Unique departments: {geo_stats['department_num'].nunique()}\")\n",
    "print(f\"Unique arrondissements: {geo_stats['arrondissement'].nunique()}\")\n",
    "print(f\"Columns:\\n{geo_stats.columns.tolist()}\")"
   ],
   "metadata": {
    "collapsed": false,
    "ExecuteTime": {
     "end_time": "2023-08-11T16:15:34.829074Z",
     "start_time": "2023-08-11T16:15:34.732560Z"
    }
   }
  },
  {
   "cell_type": "code",
   "execution_count": 54,
   "outputs": [],
   "source": [
    "# Drop 'code_'\n",
    "geo_stats.drop(['code_x', 'code_y'], axis=1, inplace=True)"
   ],
   "metadata": {
    "collapsed": false,
    "ExecuteTime": {
     "end_time": "2023-08-11T16:15:34.849184Z",
     "start_time": "2023-08-11T16:15:34.739842Z"
    }
   }
  },
  {
   "cell_type": "code",
   "execution_count": 55,
   "outputs": [
    {
     "data": {
      "text/plain": "    arrondissement department_num department          capital  \\\n0           Belley             01        Ain  Bourg-en-Bresse   \n1  Bourg-en-Bresse             01        Ain  Bourg-en-Bresse   \n2              Gex             01        Ain  Bourg-en-Bresse   \n3           Nantua             01        Ain  Bourg-en-Bresse   \n4  Château-Thierry             02      Aisne             Laon   \n\n                 region  municipal_population  \\\n0  Auvergne-Rhône-Alpes                123405   \n1  Auvergne-Rhône-Alpes                340382   \n2  Auvergne-Rhône-Alpes                100314   \n3  Auvergne-Rhône-Alpes                 93755   \n4       Hauts-de-France                 70094   \n\n   population_density(inhabitants/sq_km) poverty_rate(%)  \\\n0                                   77.9            10.2   \n1                                  118.4             8.8   \n2                                  247.8            12.4   \n3                                  104.2            15.5   \n4                                   62.9              14   \n\n  average_net_hourly_wage(€)  \\\n0                       15.3   \n1                      15.65   \n2                      15.32   \n3                      14.14   \n4                      14.36   \n\n                                            geometry  \n0  POLYGON ((5.12174 45.81118, 5.12665 45.81392, ...  \n1  POLYGON ((4.98022 46.51520, 4.98355 46.51539, ...  \n2  POLYGON ((6.06401 46.41623, 6.06730 46.41494, ...  \n3  POLYGON ((5.63746 46.33644, 5.64007 46.33884, ...  \n4  POLYGON ((3.07188 49.11755, 3.07224 49.11832, ...  ",
      "text/html": "<div>\n<style scoped>\n    .dataframe tbody tr th:only-of-type {\n        vertical-align: middle;\n    }\n\n    .dataframe tbody tr th {\n        vertical-align: top;\n    }\n\n    .dataframe thead th {\n        text-align: right;\n    }\n</style>\n<table border=\"1\" class=\"dataframe\">\n  <thead>\n    <tr style=\"text-align: right;\">\n      <th></th>\n      <th>arrondissement</th>\n      <th>department_num</th>\n      <th>department</th>\n      <th>capital</th>\n      <th>region</th>\n      <th>municipal_population</th>\n      <th>population_density(inhabitants/sq_km)</th>\n      <th>poverty_rate(%)</th>\n      <th>average_net_hourly_wage(€)</th>\n      <th>geometry</th>\n    </tr>\n  </thead>\n  <tbody>\n    <tr>\n      <th>0</th>\n      <td>Belley</td>\n      <td>01</td>\n      <td>Ain</td>\n      <td>Bourg-en-Bresse</td>\n      <td>Auvergne-Rhône-Alpes</td>\n      <td>123405</td>\n      <td>77.9</td>\n      <td>10.2</td>\n      <td>15.3</td>\n      <td>POLYGON ((5.12174 45.81118, 5.12665 45.81392, ...</td>\n    </tr>\n    <tr>\n      <th>1</th>\n      <td>Bourg-en-Bresse</td>\n      <td>01</td>\n      <td>Ain</td>\n      <td>Bourg-en-Bresse</td>\n      <td>Auvergne-Rhône-Alpes</td>\n      <td>340382</td>\n      <td>118.4</td>\n      <td>8.8</td>\n      <td>15.65</td>\n      <td>POLYGON ((4.98022 46.51520, 4.98355 46.51539, ...</td>\n    </tr>\n    <tr>\n      <th>2</th>\n      <td>Gex</td>\n      <td>01</td>\n      <td>Ain</td>\n      <td>Bourg-en-Bresse</td>\n      <td>Auvergne-Rhône-Alpes</td>\n      <td>100314</td>\n      <td>247.8</td>\n      <td>12.4</td>\n      <td>15.32</td>\n      <td>POLYGON ((6.06401 46.41623, 6.06730 46.41494, ...</td>\n    </tr>\n    <tr>\n      <th>3</th>\n      <td>Nantua</td>\n      <td>01</td>\n      <td>Ain</td>\n      <td>Bourg-en-Bresse</td>\n      <td>Auvergne-Rhône-Alpes</td>\n      <td>93755</td>\n      <td>104.2</td>\n      <td>15.5</td>\n      <td>14.14</td>\n      <td>POLYGON ((5.63746 46.33644, 5.64007 46.33884, ...</td>\n    </tr>\n    <tr>\n      <th>4</th>\n      <td>Château-Thierry</td>\n      <td>02</td>\n      <td>Aisne</td>\n      <td>Laon</td>\n      <td>Hauts-de-France</td>\n      <td>70094</td>\n      <td>62.9</td>\n      <td>14</td>\n      <td>14.36</td>\n      <td>POLYGON ((3.07188 49.11755, 3.07224 49.11832, ...</td>\n    </tr>\n  </tbody>\n</table>\n</div>"
     },
     "execution_count": 55,
     "metadata": {},
     "output_type": "execute_result"
    }
   ],
   "source": [
    "# Rearrange columns\n",
    "new_order = ['arrondissement', 'department_num', 'department', 'capital', 'region', 'municipal_population', 'population_density(inhabitants/sq_km)', 'poverty_rate(%)', 'average_net_hourly_wage(€)', 'geometry']\n",
    "geo_stats = geo_stats[new_order]\n",
    "geo_stats.head()"
   ],
   "metadata": {
    "collapsed": false,
    "ExecuteTime": {
     "end_time": "2023-08-11T16:15:34.874230Z",
     "start_time": "2023-08-11T16:15:34.742672Z"
    }
   }
  },
  {
   "cell_type": "markdown",
   "source": [
    "----\n",
    "&nbsp;\n",
    "## Merging Michelin Star by *arrondissement* with `geo_stats`"
   ],
   "metadata": {
    "collapsed": false
   }
  },
  {
   "cell_type": "code",
   "execution_count": 56,
   "outputs": [
    {
     "name": "stdout",
     "output_type": "stream",
     "text": [
      "Rows in `geo_stats`: 320\n",
      "Rows in `arrondissement_grouped`: 223\n"
     ]
    }
   ],
   "source": [
    "print(f\"Rows in `geo_stats`: {len(geo_stats)}\")\n",
    "\n",
    "# We index the multi-indexed df\n",
    "arrondissement_grouped.reset_index(inplace=True)\n",
    "print(f\"Rows in `arrondissement_grouped`: {len(arrondissement_grouped)}\")"
   ],
   "metadata": {
    "collapsed": false,
    "ExecuteTime": {
     "end_time": "2023-08-11T16:15:34.917812Z",
     "start_time": "2023-08-11T16:15:34.763118Z"
    }
   }
  },
  {
   "cell_type": "code",
   "execution_count": 57,
   "outputs": [
    {
     "name": "stdout",
     "output_type": "stream",
     "text": [
      "Sets equal? False\n",
      "\n",
      "In arrondissement_grouped but not in geo_stats:\n",
      "set()\n",
      "\n",
      "In geostats but not in arrondissement_grouped:\n",
      "{'Mirande', 'Avranches', 'Palaiseau', 'Millau', 'Brioude', 'Val-de-Briey', 'Montauban', 'Commercy', 'Flèche', 'Lesparre-Médoc', 'Beauvais', 'Saint-Quentin', \"Saint-Jean-d'Angély\", 'Melun', 'Ussel', 'Oloron-Sainte-Marie', 'Langres', 'Saint-Dié-des-Vosges', 'Segré', 'Bar-sur-Aube', 'Thiers', 'Vigan', 'Clamecy', 'Marmande', 'Avesnes-sur-Helpe', 'Corte', 'Péronne', 'Douai', 'Tarbes', 'Bastia', 'Rochechouart', 'Cosne-Cours-sur-Loire', 'Château-Gontier', 'Castelsarrasin', 'Montbéliard', 'Toul', 'Limoux', 'Provins', 'Saint-Dizier', 'Pithiviers', 'Saint-Omer', 'Lodève', 'Châtre', 'Amiens', 'Laon', 'Riom', 'Fougères-Vitré', 'Château-Thierry', 'Château-Chinon (Ville)', 'Bellac', 'Mauriac', 'Raincy', 'Nérac', 'Bressuire', 'Saint-Claude', 'Vouziers', 'Lens', 'Châtellerault', 'Foix', 'Nogent-sur-Seine', 'Saint-Amand-Montrond', 'Antony', 'Villeneuve-sur-Lot', 'Soissons', 'Nogent-le-Rotrou', 'Jonzac', 'Valenciennes', 'Créteil', 'Castellane', 'Niort', 'Saint-Gaudens', 'Neufchâteau', 'Étampes', 'Blanc', 'Nevers', 'Privas', 'Argenteuil', 'Rethel', 'Guingamp', 'Vitry-le-François', 'Muret', 'Parthenay', 'Saint-Denis', 'Sedan', 'Laval', 'Thionville', 'Vervins', 'Saint-Étienne', 'Ambert', 'Sarcelles', 'Montdidier', 'Louhans', 'Barcelonnette', 'Bar-le-Duc', 'Cambrai', 'Redon', 'Confolens'}\n"
     ]
    }
   ],
   "source": [
    "set1 = set(arrondissement_grouped['arrondissement'].unique())\n",
    "set2 = set(geo_stats['arrondissement'].unique())\n",
    "print(f\"Sets equal? {set1 == set2}\")\n",
    "\n",
    "print(f\"\\nIn arrondissement_grouped but not in geo_stats:\\n{set1 - set2}\")\n",
    "print(f\"\\nIn geostats but not in arrondissement_grouped:\\n{set2 - set1}\")"
   ],
   "metadata": {
    "collapsed": false,
    "ExecuteTime": {
     "end_time": "2023-08-11T16:15:34.918834Z",
     "start_time": "2023-08-11T16:15:34.768863Z"
    }
   }
  },
  {
   "cell_type": "markdown",
   "source": [
    "There are a number of *arrondissement* without Michelin rated restaurants.\n",
    "\n",
    "These will be written with zero values"
   ],
   "metadata": {
    "collapsed": false,
    "ExecuteTime": {
     "end_time": "2023-08-11T16:07:02.429800Z",
     "start_time": "2023-08-11T16:07:02.420135Z"
    }
   },
   "outputs": [],
   "execution_count": 280
  },
  {
   "cell_type": "code",
   "execution_count": 58,
   "outputs": [
    {
     "name": "stdout",
     "output_type": "stream",
     "text": [
      "Columns: ['arrondissement', 'bib_gourmand', '1_star', '2_star', '3_star', 'total_stars', 'starred_restaurants']\n"
     ]
    },
    {
     "data": {
      "text/plain": "    arrondissement  bib_gourmand  1_star  2_star  3_star  total_stars  \\\n0        Abbeville             1       0       0       0            0   \n1             Lure             1       0       0       0            0   \n2  Lons-le-Saunier             1       0       0       0            0   \n3           Évreux             1       0       0       0            0   \n4           Istres             1       0       0       0            0   \n\n   starred_restaurants  \n0                    0  \n1                    0  \n2                    0  \n3                    0  \n4                    0  ",
      "text/html": "<div>\n<style scoped>\n    .dataframe tbody tr th:only-of-type {\n        vertical-align: middle;\n    }\n\n    .dataframe tbody tr th {\n        vertical-align: top;\n    }\n\n    .dataframe thead th {\n        text-align: right;\n    }\n</style>\n<table border=\"1\" class=\"dataframe\">\n  <thead>\n    <tr style=\"text-align: right;\">\n      <th></th>\n      <th>arrondissement</th>\n      <th>bib_gourmand</th>\n      <th>1_star</th>\n      <th>2_star</th>\n      <th>3_star</th>\n      <th>total_stars</th>\n      <th>starred_restaurants</th>\n    </tr>\n  </thead>\n  <tbody>\n    <tr>\n      <th>0</th>\n      <td>Abbeville</td>\n      <td>1</td>\n      <td>0</td>\n      <td>0</td>\n      <td>0</td>\n      <td>0</td>\n      <td>0</td>\n    </tr>\n    <tr>\n      <th>1</th>\n      <td>Lure</td>\n      <td>1</td>\n      <td>0</td>\n      <td>0</td>\n      <td>0</td>\n      <td>0</td>\n      <td>0</td>\n    </tr>\n    <tr>\n      <th>2</th>\n      <td>Lons-le-Saunier</td>\n      <td>1</td>\n      <td>0</td>\n      <td>0</td>\n      <td>0</td>\n      <td>0</td>\n      <td>0</td>\n    </tr>\n    <tr>\n      <th>3</th>\n      <td>Évreux</td>\n      <td>1</td>\n      <td>0</td>\n      <td>0</td>\n      <td>0</td>\n      <td>0</td>\n      <td>0</td>\n    </tr>\n    <tr>\n      <th>4</th>\n      <td>Istres</td>\n      <td>1</td>\n      <td>0</td>\n      <td>0</td>\n      <td>0</td>\n      <td>0</td>\n      <td>0</td>\n    </tr>\n  </tbody>\n</table>\n</div>"
     },
     "execution_count": 58,
     "metadata": {},
     "output_type": "execute_result"
    }
   ],
   "source": [
    "print(f\"Columns: {arrondissement_grouped.columns.tolist()}\")\n",
    "arrondissement_grouped.head()"
   ],
   "metadata": {
    "collapsed": false,
    "ExecuteTime": {
     "end_time": "2023-08-11T16:15:34.919283Z",
     "start_time": "2023-08-11T16:15:34.777115Z"
    }
   }
  },
  {
   "cell_type": "code",
   "execution_count": 59,
   "outputs": [],
   "source": [
    "# Extracting the missing arrondissements\n",
    "missing_arrondissements = list(set2 - set1)\n",
    "\n",
    "# Prepare a list to collect new rows\n",
    "new_rows = []\n",
    "\n",
    "# Iterate over the missing arrondissements\n",
    "for arrondissement in missing_arrondissements:\n",
    "    new_row = {\n",
    "        'arrondissement': arrondissement,\n",
    "        'bib_gourmand': 0,\n",
    "        '1_star': 0,\n",
    "        '2_star': 0,\n",
    "        '3_star': 0,\n",
    "        'total_stars': 0,\n",
    "        'starred_restaurants': 0\n",
    "    }\n",
    "    new_rows.append(new_row)\n",
    "\n",
    "# Create a DataFrame from the new rows and concatenate with the original DataFrame\n",
    "df_new_rows = pd.DataFrame(new_rows)\n",
    "arrondissement_grouped = pd.concat([arrondissement_grouped, df_new_rows], ignore_index=True)\n",
    "\n",
    "# Sorting by 'arrondissement' for better clarity\n",
    "arrondissement_grouped = arrondissement_grouped.sort_values('arrondissement').reset_index(drop=True)"
   ],
   "metadata": {
    "collapsed": false,
    "ExecuteTime": {
     "end_time": "2023-08-11T16:15:34.919838Z",
     "start_time": "2023-08-11T16:15:34.785276Z"
    }
   }
  },
  {
   "cell_type": "code",
   "execution_count": 60,
   "outputs": [
    {
     "name": "stdout",
     "output_type": "stream",
     "text": [
      "Shape: (320, 7)\n"
     ]
    },
    {
     "data": {
      "text/plain": "    arrondissement  bib_gourmand  1_star  2_star  3_star  total_stars  \\\n0        Abbeville             1       0       0       0            0   \n1             Agen             2       2       0       0            2   \n2  Aix-en-Provence             2       8       0       0            8   \n3          Ajaccio             1       0       0       0            0   \n4      Albertville             3       7       3       2           19   \n\n   starred_restaurants  \n0                    0  \n1                    2  \n2                    8  \n3                    0  \n4                   12  ",
      "text/html": "<div>\n<style scoped>\n    .dataframe tbody tr th:only-of-type {\n        vertical-align: middle;\n    }\n\n    .dataframe tbody tr th {\n        vertical-align: top;\n    }\n\n    .dataframe thead th {\n        text-align: right;\n    }\n</style>\n<table border=\"1\" class=\"dataframe\">\n  <thead>\n    <tr style=\"text-align: right;\">\n      <th></th>\n      <th>arrondissement</th>\n      <th>bib_gourmand</th>\n      <th>1_star</th>\n      <th>2_star</th>\n      <th>3_star</th>\n      <th>total_stars</th>\n      <th>starred_restaurants</th>\n    </tr>\n  </thead>\n  <tbody>\n    <tr>\n      <th>0</th>\n      <td>Abbeville</td>\n      <td>1</td>\n      <td>0</td>\n      <td>0</td>\n      <td>0</td>\n      <td>0</td>\n      <td>0</td>\n    </tr>\n    <tr>\n      <th>1</th>\n      <td>Agen</td>\n      <td>2</td>\n      <td>2</td>\n      <td>0</td>\n      <td>0</td>\n      <td>2</td>\n      <td>2</td>\n    </tr>\n    <tr>\n      <th>2</th>\n      <td>Aix-en-Provence</td>\n      <td>2</td>\n      <td>8</td>\n      <td>0</td>\n      <td>0</td>\n      <td>8</td>\n      <td>8</td>\n    </tr>\n    <tr>\n      <th>3</th>\n      <td>Ajaccio</td>\n      <td>1</td>\n      <td>0</td>\n      <td>0</td>\n      <td>0</td>\n      <td>0</td>\n      <td>0</td>\n    </tr>\n    <tr>\n      <th>4</th>\n      <td>Albertville</td>\n      <td>3</td>\n      <td>7</td>\n      <td>3</td>\n      <td>2</td>\n      <td>19</td>\n      <td>12</td>\n    </tr>\n  </tbody>\n</table>\n</div>"
     },
     "execution_count": 60,
     "metadata": {},
     "output_type": "execute_result"
    }
   ],
   "source": [
    "print(f\"Shape: {arrondissement_grouped.shape}\")\n",
    "arrondissement_grouped.head()"
   ],
   "metadata": {
    "collapsed": false,
    "ExecuteTime": {
     "end_time": "2023-08-11T16:15:34.921848Z",
     "start_time": "2023-08-11T16:15:34.798950Z"
    }
   }
  },
  {
   "cell_type": "code",
   "execution_count": 61,
   "outputs": [
    {
     "name": "stdout",
     "output_type": "stream",
     "text": [
      "Sets equal? True\n"
     ]
    }
   ],
   "source": [
    "set1 = set(arrondissement_grouped['arrondissement'].unique())\n",
    "set2 = set(geo_stats['arrondissement'].unique())\n",
    "print(f\"Sets equal? {set1 == set2}\")"
   ],
   "metadata": {
    "collapsed": false,
    "ExecuteTime": {
     "end_time": "2023-08-11T16:15:34.922013Z",
     "start_time": "2023-08-11T16:15:34.810756Z"
    }
   }
  },
  {
   "cell_type": "markdown",
   "source": [
    "----\n",
    "&nbsp;\n",
    "## Merging `geo_stats` and `arrondissement_grouped` on 'arrondissement'"
   ],
   "metadata": {
    "collapsed": false,
    "ExecuteTime": {
     "end_time": "2023-08-11T16:07:11.805336Z",
     "start_time": "2023-08-11T16:07:11.788376Z"
    }
   },
   "outputs": [
    {
     "data": {
      "text/plain": "  department_num department          capital                region   code  \\\n0             01        Ain  Bourg-en-Bresse  Auvergne-Rhône-Alpes  01001   \n1             01        Ain  Bourg-en-Bresse  Auvergne-Rhône-Alpes  01002   \n2             01        Ain  Bourg-en-Bresse  Auvergne-Rhône-Alpes  01003   \n3             01        Ain  Bourg-en-Bresse  Auvergne-Rhône-Alpes  01004   \n4             02      Aisne             Laon       Hauts-de-France  02001   \n\n               nom                                           geometry  \n0           Belley  POLYGON ((5.12174 45.81118, 5.12665 45.81392, ...  \n1  Bourg-en-Bresse  POLYGON ((4.98022 46.51520, 4.98355 46.51539, ...  \n2              Gex  POLYGON ((6.06401 46.41623, 6.06730 46.41494, ...  \n3           Nantua  POLYGON ((5.63746 46.33644, 5.64007 46.33884, ...  \n4  Château-Thierry  POLYGON ((3.07188 49.11755, 3.07224 49.11832, ...  ",
      "text/html": "<div>\n<style scoped>\n    .dataframe tbody tr th:only-of-type {\n        vertical-align: middle;\n    }\n\n    .dataframe tbody tr th {\n        vertical-align: top;\n    }\n\n    .dataframe thead th {\n        text-align: right;\n    }\n</style>\n<table border=\"1\" class=\"dataframe\">\n  <thead>\n    <tr style=\"text-align: right;\">\n      <th></th>\n      <th>department_num</th>\n      <th>department</th>\n      <th>capital</th>\n      <th>region</th>\n      <th>code</th>\n      <th>nom</th>\n      <th>geometry</th>\n    </tr>\n  </thead>\n  <tbody>\n    <tr>\n      <th>0</th>\n      <td>01</td>\n      <td>Ain</td>\n      <td>Bourg-en-Bresse</td>\n      <td>Auvergne-Rhône-Alpes</td>\n      <td>01001</td>\n      <td>Belley</td>\n      <td>POLYGON ((5.12174 45.81118, 5.12665 45.81392, ...</td>\n    </tr>\n    <tr>\n      <th>1</th>\n      <td>01</td>\n      <td>Ain</td>\n      <td>Bourg-en-Bresse</td>\n      <td>Auvergne-Rhône-Alpes</td>\n      <td>01002</td>\n      <td>Bourg-en-Bresse</td>\n      <td>POLYGON ((4.98022 46.51520, 4.98355 46.51539, ...</td>\n    </tr>\n    <tr>\n      <th>2</th>\n      <td>01</td>\n      <td>Ain</td>\n      <td>Bourg-en-Bresse</td>\n      <td>Auvergne-Rhône-Alpes</td>\n      <td>01003</td>\n      <td>Gex</td>\n      <td>POLYGON ((6.06401 46.41623, 6.06730 46.41494, ...</td>\n    </tr>\n    <tr>\n      <th>3</th>\n      <td>01</td>\n      <td>Ain</td>\n      <td>Bourg-en-Bresse</td>\n      <td>Auvergne-Rhône-Alpes</td>\n      <td>01004</td>\n      <td>Nantua</td>\n      <td>POLYGON ((5.63746 46.33644, 5.64007 46.33884, ...</td>\n    </tr>\n    <tr>\n      <th>4</th>\n      <td>02</td>\n      <td>Aisne</td>\n      <td>Laon</td>\n      <td>Hauts-de-France</td>\n      <td>02001</td>\n      <td>Château-Thierry</td>\n      <td>POLYGON ((3.07188 49.11755, 3.07224 49.11832, ...</td>\n    </tr>\n  </tbody>\n</table>\n</div>"
     },
     "execution_count": 284,
     "metadata": {},
     "output_type": "execute_result"
    }
   ],
   "execution_count": 284
  },
  {
   "cell_type": "code",
   "execution_count": 62,
   "outputs": [
    {
     "name": "stdout",
     "output_type": "stream",
     "text": [
      "Shape: (320, 16)\n",
      "Columns:\n",
      "['arrondissement', 'department_num', 'department', 'capital', 'region', 'municipal_population', 'population_density(inhabitants/sq_km)', 'poverty_rate(%)', 'average_net_hourly_wage(€)', 'geometry', 'bib_gourmand', '1_star', '2_star', '3_star', 'total_stars', 'starred_restaurants']\n"
     ]
    }
   ],
   "source": [
    "merged_data = pd.merge(geo_stats, arrondissement_grouped, on='arrondissement', how='inner')\n",
    "print(f\"Shape: {merged_data.shape}\")\n",
    "print(f\"Columns:\\n{merged_data.columns.tolist()}\")"
   ],
   "metadata": {
    "collapsed": false,
    "ExecuteTime": {
     "end_time": "2023-08-11T16:15:34.925100Z",
     "start_time": "2023-08-11T16:15:34.811188Z"
    }
   }
  },
  {
   "cell_type": "code",
   "execution_count": 63,
   "outputs": [
    {
     "data": {
      "text/plain": "    arrondissement department_num department          capital  \\\n0           Belley             01        Ain  Bourg-en-Bresse   \n1  Bourg-en-Bresse             01        Ain  Bourg-en-Bresse   \n2              Gex             01        Ain  Bourg-en-Bresse   \n3           Nantua             01        Ain  Bourg-en-Bresse   \n4  Château-Thierry             02      Aisne             Laon   \n\n                 region  bib_gourmand  1_star  2_star  3_star  total_stars  \\\n0  Auvergne-Rhône-Alpes             0       1       0       0            1   \n1  Auvergne-Rhône-Alpes             5       2       0       1            5   \n2  Auvergne-Rhône-Alpes             0       1       0       0            1   \n3  Auvergne-Rhône-Alpes             1       0       0       0            0   \n4       Hauts-de-France             0       0       0       0            0   \n\n   starred_restaurants  municipal_population  \\\n0                    1                123405   \n1                    3                340382   \n2                    1                100314   \n3                    0                 93755   \n4                    0                 70094   \n\n   population_density(inhabitants/sq_km) poverty_rate(%)  \\\n0                                   77.9            10.2   \n1                                  118.4             8.8   \n2                                  247.8            12.4   \n3                                  104.2            15.5   \n4                                   62.9              14   \n\n  average_net_hourly_wage(€)  \\\n0                       15.3   \n1                      15.65   \n2                      15.32   \n3                      14.14   \n4                      14.36   \n\n                                            geometry  \n0  POLYGON ((5.12174 45.81118, 5.12665 45.81392, ...  \n1  POLYGON ((4.98022 46.51520, 4.98355 46.51539, ...  \n2  POLYGON ((6.06401 46.41623, 6.06730 46.41494, ...  \n3  POLYGON ((5.63746 46.33644, 5.64007 46.33884, ...  \n4  POLYGON ((3.07188 49.11755, 3.07224 49.11832, ...  ",
      "text/html": "<div>\n<style scoped>\n    .dataframe tbody tr th:only-of-type {\n        vertical-align: middle;\n    }\n\n    .dataframe tbody tr th {\n        vertical-align: top;\n    }\n\n    .dataframe thead th {\n        text-align: right;\n    }\n</style>\n<table border=\"1\" class=\"dataframe\">\n  <thead>\n    <tr style=\"text-align: right;\">\n      <th></th>\n      <th>arrondissement</th>\n      <th>department_num</th>\n      <th>department</th>\n      <th>capital</th>\n      <th>region</th>\n      <th>bib_gourmand</th>\n      <th>1_star</th>\n      <th>2_star</th>\n      <th>3_star</th>\n      <th>total_stars</th>\n      <th>starred_restaurants</th>\n      <th>municipal_population</th>\n      <th>population_density(inhabitants/sq_km)</th>\n      <th>poverty_rate(%)</th>\n      <th>average_net_hourly_wage(€)</th>\n      <th>geometry</th>\n    </tr>\n  </thead>\n  <tbody>\n    <tr>\n      <th>0</th>\n      <td>Belley</td>\n      <td>01</td>\n      <td>Ain</td>\n      <td>Bourg-en-Bresse</td>\n      <td>Auvergne-Rhône-Alpes</td>\n      <td>0</td>\n      <td>1</td>\n      <td>0</td>\n      <td>0</td>\n      <td>1</td>\n      <td>1</td>\n      <td>123405</td>\n      <td>77.9</td>\n      <td>10.2</td>\n      <td>15.3</td>\n      <td>POLYGON ((5.12174 45.81118, 5.12665 45.81392, ...</td>\n    </tr>\n    <tr>\n      <th>1</th>\n      <td>Bourg-en-Bresse</td>\n      <td>01</td>\n      <td>Ain</td>\n      <td>Bourg-en-Bresse</td>\n      <td>Auvergne-Rhône-Alpes</td>\n      <td>5</td>\n      <td>2</td>\n      <td>0</td>\n      <td>1</td>\n      <td>5</td>\n      <td>3</td>\n      <td>340382</td>\n      <td>118.4</td>\n      <td>8.8</td>\n      <td>15.65</td>\n      <td>POLYGON ((4.98022 46.51520, 4.98355 46.51539, ...</td>\n    </tr>\n    <tr>\n      <th>2</th>\n      <td>Gex</td>\n      <td>01</td>\n      <td>Ain</td>\n      <td>Bourg-en-Bresse</td>\n      <td>Auvergne-Rhône-Alpes</td>\n      <td>0</td>\n      <td>1</td>\n      <td>0</td>\n      <td>0</td>\n      <td>1</td>\n      <td>1</td>\n      <td>100314</td>\n      <td>247.8</td>\n      <td>12.4</td>\n      <td>15.32</td>\n      <td>POLYGON ((6.06401 46.41623, 6.06730 46.41494, ...</td>\n    </tr>\n    <tr>\n      <th>3</th>\n      <td>Nantua</td>\n      <td>01</td>\n      <td>Ain</td>\n      <td>Bourg-en-Bresse</td>\n      <td>Auvergne-Rhône-Alpes</td>\n      <td>1</td>\n      <td>0</td>\n      <td>0</td>\n      <td>0</td>\n      <td>0</td>\n      <td>0</td>\n      <td>93755</td>\n      <td>104.2</td>\n      <td>15.5</td>\n      <td>14.14</td>\n      <td>POLYGON ((5.63746 46.33644, 5.64007 46.33884, ...</td>\n    </tr>\n    <tr>\n      <th>4</th>\n      <td>Château-Thierry</td>\n      <td>02</td>\n      <td>Aisne</td>\n      <td>Laon</td>\n      <td>Hauts-de-France</td>\n      <td>0</td>\n      <td>0</td>\n      <td>0</td>\n      <td>0</td>\n      <td>0</td>\n      <td>0</td>\n      <td>70094</td>\n      <td>62.9</td>\n      <td>14</td>\n      <td>14.36</td>\n      <td>POLYGON ((3.07188 49.11755, 3.07224 49.11832, ...</td>\n    </tr>\n  </tbody>\n</table>\n</div>"
     },
     "execution_count": 63,
     "metadata": {},
     "output_type": "execute_result"
    }
   ],
   "source": [
    "new_order = ['arrondissement', 'department_num', 'department', 'capital', 'region', 'bib_gourmand', '1_star', '2_star', '3_star', 'total_stars', 'starred_restaurants', 'municipal_population', 'population_density(inhabitants/sq_km)', 'poverty_rate(%)', 'average_net_hourly_wage(€)', 'geometry']\n",
    "merged_data = merged_data[new_order]\n",
    "merged_data.head()"
   ],
   "metadata": {
    "collapsed": false,
    "ExecuteTime": {
     "end_time": "2023-08-11T16:15:35.030780Z",
     "start_time": "2023-08-11T16:15:34.813159Z"
    }
   }
  },
  {
   "cell_type": "markdown",
   "source": [
    "----\n",
    "&nbsp;\n",
    "## Adding coordinates of individual restaurants"
   ],
   "metadata": {
    "collapsed": false,
    "ExecuteTime": {
     "end_time": "2023-08-11T16:07:18.016264Z",
     "start_time": "2023-08-11T16:07:18.003644Z"
    }
   },
   "outputs": [],
   "execution_count": 286
  },
  {
   "cell_type": "code",
   "execution_count": 64,
   "outputs": [
    {
     "name": "stdout",
     "output_type": "stream",
     "text": [
      "['name', 'address', 'location', 'arrondissement', 'department_num', 'department', 'capital', 'region', 'price', 'cuisine', 'url', 'award', 'stars', 'longitude', 'latitude']\n"
     ]
    }
   ],
   "source": [
    "print(france_df.columns.tolist())"
   ],
   "metadata": {
    "collapsed": false,
    "ExecuteTime": {
     "end_time": "2023-08-11T16:15:35.057005Z",
     "start_time": "2023-08-11T16:15:34.833438Z"
    }
   }
  },
  {
   "cell_type": "code",
   "execution_count": 65,
   "outputs": [],
   "source": [
    "# Create a separate DataFrame with star ratings, regions, and coordinates\n",
    "location_data_arrond = france_df[['stars', 'arrondissement', 'latitude', 'longitude']]\n",
    "\n",
    "# Convert to a dictionary where keys are tuples of star rating and arrondissement\n",
    "location_dict_arrond = location_data_arrond.groupby(['stars', 'arrondissement']).apply(lambda df: list(zip(df.latitude, df.longitude))).to_dict()"
   ],
   "metadata": {
    "collapsed": false,
    "ExecuteTime": {
     "end_time": "2023-08-11T16:15:35.061160Z",
     "start_time": "2023-08-11T16:15:34.840136Z"
    }
   }
  },
  {
   "cell_type": "code",
   "execution_count": 66,
   "outputs": [],
   "source": [
    "# Now create a function to map these dictionaries to original DataFrame\n",
    "def map_locations_arrond(row):\n",
    "    return {stars: location_dict_arrond.get((stars, row['arrondissement'])) for stars in [1, 2, 3]}"
   ],
   "metadata": {
    "collapsed": false,
    "ExecuteTime": {
     "end_time": "2023-08-11T16:15:35.061398Z",
     "start_time": "2023-08-11T16:15:34.867635Z"
    }
   }
  },
  {
   "cell_type": "code",
   "execution_count": 67,
   "outputs": [],
   "source": [
    "merged_data['locations'] = merged_data.apply(map_locations_arrond, axis=1)"
   ],
   "metadata": {
    "collapsed": false,
    "ExecuteTime": {
     "end_time": "2023-08-11T16:15:35.082221Z",
     "start_time": "2023-08-11T16:15:34.871368Z"
    }
   }
  },
  {
   "cell_type": "code",
   "execution_count": 68,
   "outputs": [
    {
     "data": {
      "text/plain": "    arrondissement department_num department          capital  \\\n0           Belley             01        Ain  Bourg-en-Bresse   \n1  Bourg-en-Bresse             01        Ain  Bourg-en-Bresse   \n2              Gex             01        Ain  Bourg-en-Bresse   \n3           Nantua             01        Ain  Bourg-en-Bresse   \n4  Château-Thierry             02      Aisne             Laon   \n\n                 region  bib_gourmand  1_star  2_star  3_star  total_stars  \\\n0  Auvergne-Rhône-Alpes             0       1       0       0            1   \n1  Auvergne-Rhône-Alpes             5       2       0       1            5   \n2  Auvergne-Rhône-Alpes             0       1       0       0            1   \n3  Auvergne-Rhône-Alpes             1       0       0       0            0   \n4       Hauts-de-France             0       0       0       0            0   \n\n   starred_restaurants  municipal_population  \\\n0                    1                123405   \n1                    3                340382   \n2                    1                100314   \n3                    0                 93755   \n4                    0                 70094   \n\n   population_density(inhabitants/sq_km) poverty_rate(%)  \\\n0                                   77.9            10.2   \n1                                  118.4             8.8   \n2                                  247.8            12.4   \n3                                  104.2            15.5   \n4                                   62.9              14   \n\n  average_net_hourly_wage(€)  \\\n0                       15.3   \n1                      15.65   \n2                      15.32   \n3                      14.14   \n4                      14.36   \n\n                                            geometry  \\\n0  POLYGON ((5.12174 45.81118, 5.12665 45.81392, ...   \n1  POLYGON ((4.98022 46.51520, 4.98355 46.51539, ...   \n2  POLYGON ((6.06401 46.41623, 6.06730 46.41494, ...   \n3  POLYGON ((5.63746 46.33644, 5.64007 46.33884, ...   \n4  POLYGON ((3.07188 49.11755, 3.07224 49.11832, ...   \n\n                                           locations  \n0   {1: [(46.0070045, 5.3605085)], 2: None, 3: None}  \n1  {1: [(46.4340961, 4.9390332), (46.2987913, 4.8...  \n2   {1: [(46.3626315, 6.0258533)], 2: None, 3: None}  \n3                        {1: None, 2: None, 3: None}  \n4                        {1: None, 2: None, 3: None}  ",
      "text/html": "<div>\n<style scoped>\n    .dataframe tbody tr th:only-of-type {\n        vertical-align: middle;\n    }\n\n    .dataframe tbody tr th {\n        vertical-align: top;\n    }\n\n    .dataframe thead th {\n        text-align: right;\n    }\n</style>\n<table border=\"1\" class=\"dataframe\">\n  <thead>\n    <tr style=\"text-align: right;\">\n      <th></th>\n      <th>arrondissement</th>\n      <th>department_num</th>\n      <th>department</th>\n      <th>capital</th>\n      <th>region</th>\n      <th>bib_gourmand</th>\n      <th>1_star</th>\n      <th>2_star</th>\n      <th>3_star</th>\n      <th>total_stars</th>\n      <th>starred_restaurants</th>\n      <th>municipal_population</th>\n      <th>population_density(inhabitants/sq_km)</th>\n      <th>poverty_rate(%)</th>\n      <th>average_net_hourly_wage(€)</th>\n      <th>geometry</th>\n      <th>locations</th>\n    </tr>\n  </thead>\n  <tbody>\n    <tr>\n      <th>0</th>\n      <td>Belley</td>\n      <td>01</td>\n      <td>Ain</td>\n      <td>Bourg-en-Bresse</td>\n      <td>Auvergne-Rhône-Alpes</td>\n      <td>0</td>\n      <td>1</td>\n      <td>0</td>\n      <td>0</td>\n      <td>1</td>\n      <td>1</td>\n      <td>123405</td>\n      <td>77.9</td>\n      <td>10.2</td>\n      <td>15.3</td>\n      <td>POLYGON ((5.12174 45.81118, 5.12665 45.81392, ...</td>\n      <td>{1: [(46.0070045, 5.3605085)], 2: None, 3: None}</td>\n    </tr>\n    <tr>\n      <th>1</th>\n      <td>Bourg-en-Bresse</td>\n      <td>01</td>\n      <td>Ain</td>\n      <td>Bourg-en-Bresse</td>\n      <td>Auvergne-Rhône-Alpes</td>\n      <td>5</td>\n      <td>2</td>\n      <td>0</td>\n      <td>1</td>\n      <td>5</td>\n      <td>3</td>\n      <td>340382</td>\n      <td>118.4</td>\n      <td>8.8</td>\n      <td>15.65</td>\n      <td>POLYGON ((4.98022 46.51520, 4.98355 46.51539, ...</td>\n      <td>{1: [(46.4340961, 4.9390332), (46.2987913, 4.8...</td>\n    </tr>\n    <tr>\n      <th>2</th>\n      <td>Gex</td>\n      <td>01</td>\n      <td>Ain</td>\n      <td>Bourg-en-Bresse</td>\n      <td>Auvergne-Rhône-Alpes</td>\n      <td>0</td>\n      <td>1</td>\n      <td>0</td>\n      <td>0</td>\n      <td>1</td>\n      <td>1</td>\n      <td>100314</td>\n      <td>247.8</td>\n      <td>12.4</td>\n      <td>15.32</td>\n      <td>POLYGON ((6.06401 46.41623, 6.06730 46.41494, ...</td>\n      <td>{1: [(46.3626315, 6.0258533)], 2: None, 3: None}</td>\n    </tr>\n    <tr>\n      <th>3</th>\n      <td>Nantua</td>\n      <td>01</td>\n      <td>Ain</td>\n      <td>Bourg-en-Bresse</td>\n      <td>Auvergne-Rhône-Alpes</td>\n      <td>1</td>\n      <td>0</td>\n      <td>0</td>\n      <td>0</td>\n      <td>0</td>\n      <td>0</td>\n      <td>93755</td>\n      <td>104.2</td>\n      <td>15.5</td>\n      <td>14.14</td>\n      <td>POLYGON ((5.63746 46.33644, 5.64007 46.33884, ...</td>\n      <td>{1: None, 2: None, 3: None}</td>\n    </tr>\n    <tr>\n      <th>4</th>\n      <td>Château-Thierry</td>\n      <td>02</td>\n      <td>Aisne</td>\n      <td>Laon</td>\n      <td>Hauts-de-France</td>\n      <td>0</td>\n      <td>0</td>\n      <td>0</td>\n      <td>0</td>\n      <td>0</td>\n      <td>0</td>\n      <td>70094</td>\n      <td>62.9</td>\n      <td>14</td>\n      <td>14.36</td>\n      <td>POLYGON ((3.07188 49.11755, 3.07224 49.11832, ...</td>\n      <td>{1: None, 2: None, 3: None}</td>\n    </tr>\n  </tbody>\n</table>\n</div>"
     },
     "execution_count": 68,
     "metadata": {},
     "output_type": "execute_result"
    }
   ],
   "source": [
    "merged_data.head()"
   ],
   "metadata": {
    "collapsed": false,
    "ExecuteTime": {
     "end_time": "2023-08-11T16:15:35.098939Z",
     "start_time": "2023-08-11T16:15:34.896659Z"
    }
   }
  },
  {
   "cell_type": "markdown",
   "source": [
    "----\n",
    "Export as GeoJSON file"
   ],
   "metadata": {
    "collapsed": false,
    "ExecuteTime": {
     "end_time": "2023-08-11T16:07:32.763411Z",
     "start_time": "2023-08-11T16:07:32.751847Z"
    }
   },
   "outputs": [
    {
     "name": "stdout",
     "output_type": "stream",
     "text": [
      "Sets equal? False\n",
      "\n",
      "In arrondissement_grouped but not in geo_stats:\n",
      "set()\n",
      "\n",
      "In geostats but not in arrondissement_grouped:\n",
      "{'Muret', 'Avesnes-sur-Helpe', \"Saint-Jean-d'Angély\", 'Sedan', 'Riom', 'Laval', 'Bressuire', 'Vervins', 'Redon', 'Oloron-Sainte-Marie', 'Thiers', 'Raincy', 'Commercy', 'Saint-Amand-Montrond', 'Saint-Dié-des-Vosges', 'Foix', 'Nogent-sur-Seine', 'Péronne', 'Châtellerault', 'Ussel', 'Villeneuve-sur-Lot', 'Cosne-Cours-sur-Loire', 'Limoux', 'Montauban', 'Vitry-le-François', 'Pithiviers', 'Privas', 'Toul', 'Bar-le-Duc', 'Antony', 'Castelsarrasin', 'Saint-Quentin', 'Millau', 'Brioude', 'Fougères-Vitré', 'Confolens', 'Vigan', 'Beauvais', 'Sarcelles', 'Nérac', 'Douai', 'Palaiseau', 'Lesparre-Médoc', 'Saint-Omer', 'Château-Gontier', 'Louhans', 'Châtre', 'Lens', 'Mirande', 'Thionville', 'Lodève', 'Parthenay', 'Bellac', 'Jonzac', 'Blanc', 'Guingamp', 'Langres', 'Laon', 'Montbéliard', 'Bar-sur-Aube', 'Valenciennes', 'Saint-Étienne', 'Argenteuil', 'Castellane', 'Ambert', 'Saint-Denis', 'Tarbes', 'Barcelonnette', 'Cambrai', 'Corte', 'Rethel', 'Mauriac', 'Étampes', 'Avranches', 'Saint-Dizier', 'Clamecy', 'Soissons', 'Montdidier', 'Nogent-le-Rotrou', 'Provins', 'Amiens', 'Flèche', 'Château-Thierry', 'Neufchâteau', 'Marmande', 'Saint-Gaudens', 'Créteil', 'Vouziers', 'Nevers', 'Niort', 'Saint-Claude', 'Val-de-Briey', 'Segré', 'Melun', 'Rochechouart', 'Bastia', 'Château-Chinon (Ville)'}\n"
     ]
    }
   ],
   "execution_count": 291
  },
  {
   "cell_type": "code",
   "execution_count": 69,
   "outputs": [],
   "source": [
    "# Export the GeoDataFrame to a .geojson file\n",
    "geo_merged_data = gpd.GeoDataFrame(merged_data, geometry='geometry')\n",
    "geo_merged_data.to_file('../../data/France/arrondissement_restaurants.geojson', driver='GeoJSON')"
   ],
   "metadata": {
    "collapsed": false,
    "ExecuteTime": {
     "end_time": "2023-08-11T16:15:36.371779Z",
     "start_time": "2023-08-11T16:15:34.906347Z"
    }
   }
  }
 ],
 "metadata": {
  "kernelspec": {
   "display_name": "Python 3",
   "language": "python",
   "name": "python3"
  },
  "language_info": {
   "codemirror_mode": {
    "name": "ipython",
    "version": 2
   },
   "file_extension": ".py",
   "mimetype": "text/x-python",
   "name": "python",
   "nbconvert_exporter": "python",
   "pygments_lexer": "ipython2",
   "version": "2.7.6"
  }
 },
 "nbformat": 4,
 "nbformat_minor": 0
}
