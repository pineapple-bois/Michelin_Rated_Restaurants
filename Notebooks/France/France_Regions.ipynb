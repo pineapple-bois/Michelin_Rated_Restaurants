{
 "cells": [
  {
   "cell_type": "markdown",
   "source": [
    "# French Departmental/Regional Data"
   ],
   "metadata": {
    "collapsed": false
   }
  },
  {
   "cell_type": "code",
   "execution_count": 1,
   "metadata": {
    "collapsed": true,
    "ExecuteTime": {
     "end_time": "2023-08-06T00:00:51.675080Z",
     "start_time": "2023-08-06T00:00:51.673450Z"
    }
   },
   "outputs": [],
   "source": [
    "import pandas as pd"
   ]
  },
  {
   "cell_type": "markdown",
   "source": [
    "----\n",
    "&nbsp;\n",
    "## Creating new columns `department` & `region`\n",
    "\n",
    "Compared to the UK France is considerably more ordered in terms of how she defines regions.\n",
    "\n",
    "1. We extract the first two digits of the code postal from `address`. ie, 06, 78 etc\n",
    "2. These digits represent a particular department\n",
    "3. We arrogate these into regions"
   ],
   "metadata": {
    "collapsed": false
   }
  },
  {
   "cell_type": "markdown",
   "source": [
    "We search for the departments and regions of france on [Wikipedia](https://en.wikipedia.org/wiki/Departments_of_France) and scrape the data using pandas"
   ],
   "metadata": {
    "collapsed": false
   }
  },
  {
   "cell_type": "code",
   "execution_count": 2,
   "outputs": [],
   "source": [
    "url = 'https://en.wikipedia.org/wiki/Departments_of_France'\n",
    "tables = pd.read_html(url)"
   ],
   "metadata": {
    "collapsed": false,
    "ExecuteTime": {
     "end_time": "2023-08-06T00:00:52.100548Z",
     "start_time": "2023-08-06T00:00:51.676264Z"
    }
   }
  },
  {
   "cell_type": "code",
   "execution_count": 3,
   "outputs": [
    {
     "data": {
      "text/plain": "  INSEE code  Arms 1 Date of establishment                 Department  \\\n0         01     NaN      26 February 1790                        Ain   \n1         02     NaN      26 February 1790                      Aisne   \n2         03     NaN      26 February 1790                     Allier   \n3         04     NaN      26 February 1790  Alpes-de-Haute-Provence 2   \n4         05     NaN      26 February 1790               Hautes-Alpes   \n\n           Capital                      Region  \\\n0  Bourg-en-Bresse        Auvergne-Rhône-Alpes   \n1             Laon             Hauts-de-France   \n2          Moulins        Auvergne-Rhône-Alpes   \n3  Digne-les-Bains  Provence-Alpes-Côte d'Azur   \n4              Gap  Provence-Alpes-Côte d'Azur   \n\n                          Named after  \n0                         Ain (river)  \n1                       Aisne (river)  \n2                      Allier (river)  \n3  Alps mountains and Provence region  \n4                      Alps mountains  ",
      "text/html": "<div>\n<style scoped>\n    .dataframe tbody tr th:only-of-type {\n        vertical-align: middle;\n    }\n\n    .dataframe tbody tr th {\n        vertical-align: top;\n    }\n\n    .dataframe thead th {\n        text-align: right;\n    }\n</style>\n<table border=\"1\" class=\"dataframe\">\n  <thead>\n    <tr style=\"text-align: right;\">\n      <th></th>\n      <th>INSEE code</th>\n      <th>Arms 1</th>\n      <th>Date of establishment</th>\n      <th>Department</th>\n      <th>Capital</th>\n      <th>Region</th>\n      <th>Named after</th>\n    </tr>\n  </thead>\n  <tbody>\n    <tr>\n      <th>0</th>\n      <td>01</td>\n      <td>NaN</td>\n      <td>26 February 1790</td>\n      <td>Ain</td>\n      <td>Bourg-en-Bresse</td>\n      <td>Auvergne-Rhône-Alpes</td>\n      <td>Ain (river)</td>\n    </tr>\n    <tr>\n      <th>1</th>\n      <td>02</td>\n      <td>NaN</td>\n      <td>26 February 1790</td>\n      <td>Aisne</td>\n      <td>Laon</td>\n      <td>Hauts-de-France</td>\n      <td>Aisne (river)</td>\n    </tr>\n    <tr>\n      <th>2</th>\n      <td>03</td>\n      <td>NaN</td>\n      <td>26 February 1790</td>\n      <td>Allier</td>\n      <td>Moulins</td>\n      <td>Auvergne-Rhône-Alpes</td>\n      <td>Allier (river)</td>\n    </tr>\n    <tr>\n      <th>3</th>\n      <td>04</td>\n      <td>NaN</td>\n      <td>26 February 1790</td>\n      <td>Alpes-de-Haute-Provence 2</td>\n      <td>Digne-les-Bains</td>\n      <td>Provence-Alpes-Côte d'Azur</td>\n      <td>Alps mountains and Provence region</td>\n    </tr>\n    <tr>\n      <th>4</th>\n      <td>05</td>\n      <td>NaN</td>\n      <td>26 February 1790</td>\n      <td>Hautes-Alpes</td>\n      <td>Gap</td>\n      <td>Provence-Alpes-Côte d'Azur</td>\n      <td>Alps mountains</td>\n    </tr>\n  </tbody>\n</table>\n</div>"
     },
     "execution_count": 3,
     "metadata": {},
     "output_type": "execute_result"
    }
   ],
   "source": [
    "# The table of interest is found by inspection\n",
    "departments = tables[4]\n",
    "departments.head()"
   ],
   "metadata": {
    "collapsed": false,
    "ExecuteTime": {
     "end_time": "2023-08-06T00:00:52.113969Z",
     "start_time": "2023-08-06T00:00:52.106888Z"
    }
   }
  },
  {
   "cell_type": "code",
   "execution_count": 4,
   "outputs": [
    {
     "name": "stdout",
     "output_type": "stream",
     "text": [
      "['INSEE code', 'Arms 1', 'Date of establishment', 'Department', 'Capital', 'Region', 'Named after']\n"
     ]
    }
   ],
   "source": [
    "print(departments.columns.tolist())"
   ],
   "metadata": {
    "collapsed": false,
    "ExecuteTime": {
     "end_time": "2023-08-06T00:00:52.117726Z",
     "start_time": "2023-08-06T00:00:52.114591Z"
    }
   }
  },
  {
   "cell_type": "code",
   "execution_count": 5,
   "outputs": [],
   "source": [
    "# Drop specified columns from the DataFrame\n",
    "departments = departments.drop(columns=['Arms 1', 'Date of establishment', 'Capital', 'Named after'])\n",
    "\n",
    "# Rename the column 'INSEE code' to 'department_num'\n",
    "departments = departments.rename(columns={'INSEE code': 'department_num'})\n",
    "\n",
    "# Convert all column names in the DataFrame to lowercase\n",
    "departments.columns = departments.columns.str.lower()\n",
    "\n",
    "# Replace the trailing numbers in the 'department' column with an empty string (if it exists)\n",
    "departments['department'] = departments['department'].str.replace(r'\\d+$', '', regex=True)"
   ],
   "metadata": {
    "collapsed": false,
    "ExecuteTime": {
     "end_time": "2023-08-06T00:00:52.130523Z",
     "start_time": "2023-08-06T00:00:52.121489Z"
    }
   }
  },
  {
   "cell_type": "code",
   "execution_count": 6,
   "outputs": [],
   "source": [
    "# Remove trailing whitespace\n",
    "departments['department'] = departments['department'].str.strip()"
   ],
   "metadata": {
    "collapsed": false,
    "ExecuteTime": {
     "end_time": "2023-08-06T00:00:52.149282Z",
     "start_time": "2023-08-06T00:00:52.125089Z"
    }
   }
  },
  {
   "cell_type": "code",
   "execution_count": 7,
   "outputs": [
    {
     "data": {
      "text/plain": "    department_num         department         region\n92              91            Essonne  Île-de-France\n93              92     Hauts-de-Seine  Île-de-France\n94              93  Seine-Saint-Denis  Île-de-France\n95              94       Val-de-Marne  Île-de-France\n96              95         Val-d'Oise  Île-de-France\n97             971         Guadeloupe     Guadeloupe\n98             972         Martinique     Martinique\n99             973             Guyane  French Guiana\n100            974         La Réunion        Réunion\n101            976            Mayotte        Mayotte",
      "text/html": "<div>\n<style scoped>\n    .dataframe tbody tr th:only-of-type {\n        vertical-align: middle;\n    }\n\n    .dataframe tbody tr th {\n        vertical-align: top;\n    }\n\n    .dataframe thead th {\n        text-align: right;\n    }\n</style>\n<table border=\"1\" class=\"dataframe\">\n  <thead>\n    <tr style=\"text-align: right;\">\n      <th></th>\n      <th>department_num</th>\n      <th>department</th>\n      <th>region</th>\n    </tr>\n  </thead>\n  <tbody>\n    <tr>\n      <th>92</th>\n      <td>91</td>\n      <td>Essonne</td>\n      <td>Île-de-France</td>\n    </tr>\n    <tr>\n      <th>93</th>\n      <td>92</td>\n      <td>Hauts-de-Seine</td>\n      <td>Île-de-France</td>\n    </tr>\n    <tr>\n      <th>94</th>\n      <td>93</td>\n      <td>Seine-Saint-Denis</td>\n      <td>Île-de-France</td>\n    </tr>\n    <tr>\n      <th>95</th>\n      <td>94</td>\n      <td>Val-de-Marne</td>\n      <td>Île-de-France</td>\n    </tr>\n    <tr>\n      <th>96</th>\n      <td>95</td>\n      <td>Val-d'Oise</td>\n      <td>Île-de-France</td>\n    </tr>\n    <tr>\n      <th>97</th>\n      <td>971</td>\n      <td>Guadeloupe</td>\n      <td>Guadeloupe</td>\n    </tr>\n    <tr>\n      <th>98</th>\n      <td>972</td>\n      <td>Martinique</td>\n      <td>Martinique</td>\n    </tr>\n    <tr>\n      <th>99</th>\n      <td>973</td>\n      <td>Guyane</td>\n      <td>French Guiana</td>\n    </tr>\n    <tr>\n      <th>100</th>\n      <td>974</td>\n      <td>La Réunion</td>\n      <td>Réunion</td>\n    </tr>\n    <tr>\n      <th>101</th>\n      <td>976</td>\n      <td>Mayotte</td>\n      <td>Mayotte</td>\n    </tr>\n  </tbody>\n</table>\n</div>"
     },
     "execution_count": 7,
     "metadata": {},
     "output_type": "execute_result"
    }
   ],
   "source": [
    "# Display the last 10 rows of the DataFrame\n",
    "departments.tail(10)"
   ],
   "metadata": {
    "collapsed": false,
    "ExecuteTime": {
     "end_time": "2023-08-06T00:00:52.169257Z",
     "start_time": "2023-08-06T00:00:52.131199Z"
    }
   }
  },
  {
   "cell_type": "markdown",
   "source": [
    "The last five entries are overseas departments"
   ],
   "metadata": {
    "collapsed": false
   }
  },
  {
   "cell_type": "code",
   "execution_count": 8,
   "outputs": [],
   "source": [
    "departments = departments.copy()\n",
    "\n",
    "# Remove the last 5 entries from the DataFrame\n",
    "departments = departments.iloc[:-5]"
   ],
   "metadata": {
    "collapsed": false,
    "ExecuteTime": {
     "end_time": "2023-08-06T00:00:52.178621Z",
     "start_time": "2023-08-06T00:00:52.136325Z"
    }
   }
  },
  {
   "cell_type": "markdown",
   "source": [
    "In `departments` there is some ambiguity with the naming of department 69. We search `france_data` for department 69"
   ],
   "metadata": {
    "collapsed": false
   }
  },
  {
   "cell_type": "code",
   "execution_count": 9,
   "outputs": [
    {
     "data": {
      "text/plain": "   department_num       department                region\n69            69D            Rhône  Auvergne-Rhône-Alpes\n70            69M  Lyon Metropolis  Auvergne-Rhône-Alpes",
      "text/html": "<div>\n<style scoped>\n    .dataframe tbody tr th:only-of-type {\n        vertical-align: middle;\n    }\n\n    .dataframe tbody tr th {\n        vertical-align: top;\n    }\n\n    .dataframe thead th {\n        text-align: right;\n    }\n</style>\n<table border=\"1\" class=\"dataframe\">\n  <thead>\n    <tr style=\"text-align: right;\">\n      <th></th>\n      <th>department_num</th>\n      <th>department</th>\n      <th>region</th>\n    </tr>\n  </thead>\n  <tbody>\n    <tr>\n      <th>69</th>\n      <td>69D</td>\n      <td>Rhône</td>\n      <td>Auvergne-Rhône-Alpes</td>\n    </tr>\n    <tr>\n      <th>70</th>\n      <td>69M</td>\n      <td>Lyon Metropolis</td>\n      <td>Auvergne-Rhône-Alpes</td>\n    </tr>\n  </tbody>\n</table>\n</div>"
     },
     "execution_count": 9,
     "metadata": {},
     "output_type": "execute_result"
    }
   ],
   "source": [
    "rhone = departments[departments['department_num'].str.startswith('69')]\n",
    "rhone"
   ],
   "metadata": {
    "collapsed": false,
    "ExecuteTime": {
     "end_time": "2023-08-06T00:00:52.178974Z",
     "start_time": "2023-08-06T00:00:52.149488Z"
    }
   }
  },
  {
   "cell_type": "markdown",
   "source": [
    "We will change department 69_ to 69 Rhône"
   ],
   "metadata": {
    "collapsed": false
   }
  },
  {
   "cell_type": "code",
   "execution_count": 10,
   "outputs": [],
   "source": [
    "# Identify rows with department number '69D' or '69M'\n",
    "rows_to_update = departments['department_num'].isin(['69D', '69M'])\n",
    "\n",
    "# Update department name and department number for these rows\n",
    "departments.loc[rows_to_update, 'department'] = 'Rhône'\n",
    "departments.loc[rows_to_update, 'department_num'] = '69'\n",
    "\n",
    "# Drop the specified index\n",
    "departments = departments.drop(departments.index[69])"
   ],
   "metadata": {
    "collapsed": false,
    "ExecuteTime": {
     "end_time": "2023-08-06T00:00:52.179025Z",
     "start_time": "2023-08-06T00:00:52.149630Z"
    }
   }
  },
  {
   "cell_type": "markdown",
   "source": [
    "We export `departments` as a .csv file to merge with `france_data`"
   ],
   "metadata": {
    "collapsed": false
   }
  },
  {
   "cell_type": "code",
   "execution_count": 11,
   "outputs": [],
   "source": [
    "# Export the data to a csv file\n",
    "departments.to_csv('../../data/France/departments.csv', index=False)"
   ],
   "metadata": {
    "collapsed": false,
    "ExecuteTime": {
     "end_time": "2023-08-06T00:00:52.198248Z",
     "start_time": "2023-08-06T00:00:52.149653Z"
    }
   }
  },
  {
   "cell_type": "code",
   "execution_count": 12,
   "outputs": [
    {
     "data": {
      "text/plain": "   department_num         department         region\n94             93  Seine-Saint-Denis  Île-de-France\n95             94       Val-de-Marne  Île-de-France\n96             95         Val-d'Oise  Île-de-France",
      "text/html": "<div>\n<style scoped>\n    .dataframe tbody tr th:only-of-type {\n        vertical-align: middle;\n    }\n\n    .dataframe tbody tr th {\n        vertical-align: top;\n    }\n\n    .dataframe thead th {\n        text-align: right;\n    }\n</style>\n<table border=\"1\" class=\"dataframe\">\n  <thead>\n    <tr style=\"text-align: right;\">\n      <th></th>\n      <th>department_num</th>\n      <th>department</th>\n      <th>region</th>\n    </tr>\n  </thead>\n  <tbody>\n    <tr>\n      <th>94</th>\n      <td>93</td>\n      <td>Seine-Saint-Denis</td>\n      <td>Île-de-France</td>\n    </tr>\n    <tr>\n      <th>95</th>\n      <td>94</td>\n      <td>Val-de-Marne</td>\n      <td>Île-de-France</td>\n    </tr>\n    <tr>\n      <th>96</th>\n      <td>95</td>\n      <td>Val-d'Oise</td>\n      <td>Île-de-France</td>\n    </tr>\n  </tbody>\n</table>\n</div>"
     },
     "execution_count": 12,
     "metadata": {},
     "output_type": "execute_result"
    }
   ],
   "source": [
    "departments.tail(3)"
   ],
   "metadata": {
    "collapsed": false,
    "ExecuteTime": {
     "end_time": "2023-08-06T00:00:52.198674Z",
     "start_time": "2023-08-06T00:00:52.161404Z"
    }
   }
  },
  {
   "cell_type": "markdown",
   "source": [
    "----\n",
    "&nbsp;\n",
    "## Total population data by department. [INSEE](https://www.insee.fr/fr/statistiques/6013867) 2019 Census"
   ],
   "metadata": {
    "collapsed": false
   }
  },
  {
   "cell_type": "code",
   "execution_count": 13,
   "outputs": [],
   "source": [
    "url = 'https://www.insee.fr/fr/statistiques/6013867'\n",
    "tables = pd.read_html(url)"
   ],
   "metadata": {
    "collapsed": false,
    "ExecuteTime": {
     "end_time": "2023-08-06T00:00:52.413959Z",
     "start_time": "2023-08-06T00:00:52.163438Z"
    }
   }
  },
  {
   "cell_type": "code",
   "execution_count": 14,
   "outputs": [
    {
     "data": {
      "text/plain": "  Code département       Nom du département Population municipale\n0               01                      Ain               652 432\n1               02                    Aisne               531 345\n2               03                   Allier               335 975\n3               04  Alpes-de-Haute-Provence               164 308\n4               05             Hautes-Alpes               141 220",
      "text/html": "<div>\n<style scoped>\n    .dataframe tbody tr th:only-of-type {\n        vertical-align: middle;\n    }\n\n    .dataframe tbody tr th {\n        vertical-align: top;\n    }\n\n    .dataframe thead th {\n        text-align: right;\n    }\n</style>\n<table border=\"1\" class=\"dataframe\">\n  <thead>\n    <tr style=\"text-align: right;\">\n      <th></th>\n      <th>Code département</th>\n      <th>Nom du département</th>\n      <th>Population municipale</th>\n    </tr>\n  </thead>\n  <tbody>\n    <tr>\n      <th>0</th>\n      <td>01</td>\n      <td>Ain</td>\n      <td>652 432</td>\n    </tr>\n    <tr>\n      <th>1</th>\n      <td>02</td>\n      <td>Aisne</td>\n      <td>531 345</td>\n    </tr>\n    <tr>\n      <th>2</th>\n      <td>03</td>\n      <td>Allier</td>\n      <td>335 975</td>\n    </tr>\n    <tr>\n      <th>3</th>\n      <td>04</td>\n      <td>Alpes-de-Haute-Provence</td>\n      <td>164 308</td>\n    </tr>\n    <tr>\n      <th>4</th>\n      <td>05</td>\n      <td>Hautes-Alpes</td>\n      <td>141 220</td>\n    </tr>\n  </tbody>\n</table>\n</div>"
     },
     "execution_count": 14,
     "metadata": {},
     "output_type": "execute_result"
    }
   ],
   "source": [
    "pop_total = tables[0]\n",
    "pop_total.head()"
   ],
   "metadata": {
    "collapsed": false,
    "ExecuteTime": {
     "end_time": "2023-08-06T00:00:52.421416Z",
     "start_time": "2023-08-06T00:00:52.417678Z"
    }
   }
  },
  {
   "cell_type": "code",
   "execution_count": 15,
   "outputs": [],
   "source": [
    "pop_total = pop_total.rename(columns={'Code département': 'department_num',\n",
    "                                      'Nom du département': 'department',\n",
    "                                      'Population municipale': 'population'})"
   ],
   "metadata": {
    "collapsed": false,
    "ExecuteTime": {
     "end_time": "2023-08-06T00:00:52.423792Z",
     "start_time": "2023-08-06T00:00:52.422271Z"
    }
   }
  },
  {
   "cell_type": "code",
   "execution_count": 16,
   "outputs": [],
   "source": [
    "# Remove whitespace from 'population' column and format as type integer\n",
    "pop_total['population'] = pop_total['population'].replace(' ', '', regex=True).astype(int)"
   ],
   "metadata": {
    "collapsed": false,
    "ExecuteTime": {
     "end_time": "2023-08-06T00:00:52.428343Z",
     "start_time": "2023-08-06T00:00:52.426562Z"
    }
   }
  },
  {
   "cell_type": "code",
   "execution_count": 17,
   "outputs": [
    {
     "data": {
      "text/plain": "   department_num             department  population\n90             90  Territoire de Belfort      141318\n91             91                Essonne     1301659\n92             92         Hauts-de-Seine     1624357\n93             93      Seine-Saint-Denis     1644903\n94             94           Val-de-Marne     1407124\n95             95             Val-d'Oise     1249674\n96            971             Guadeloupe      384239\n97            972             Martinique      364508\n98            973                 Guyane      281678\n99            974             La Réunion      861210",
      "text/html": "<div>\n<style scoped>\n    .dataframe tbody tr th:only-of-type {\n        vertical-align: middle;\n    }\n\n    .dataframe tbody tr th {\n        vertical-align: top;\n    }\n\n    .dataframe thead th {\n        text-align: right;\n    }\n</style>\n<table border=\"1\" class=\"dataframe\">\n  <thead>\n    <tr style=\"text-align: right;\">\n      <th></th>\n      <th>department_num</th>\n      <th>department</th>\n      <th>population</th>\n    </tr>\n  </thead>\n  <tbody>\n    <tr>\n      <th>90</th>\n      <td>90</td>\n      <td>Territoire de Belfort</td>\n      <td>141318</td>\n    </tr>\n    <tr>\n      <th>91</th>\n      <td>91</td>\n      <td>Essonne</td>\n      <td>1301659</td>\n    </tr>\n    <tr>\n      <th>92</th>\n      <td>92</td>\n      <td>Hauts-de-Seine</td>\n      <td>1624357</td>\n    </tr>\n    <tr>\n      <th>93</th>\n      <td>93</td>\n      <td>Seine-Saint-Denis</td>\n      <td>1644903</td>\n    </tr>\n    <tr>\n      <th>94</th>\n      <td>94</td>\n      <td>Val-de-Marne</td>\n      <td>1407124</td>\n    </tr>\n    <tr>\n      <th>95</th>\n      <td>95</td>\n      <td>Val-d'Oise</td>\n      <td>1249674</td>\n    </tr>\n    <tr>\n      <th>96</th>\n      <td>971</td>\n      <td>Guadeloupe</td>\n      <td>384239</td>\n    </tr>\n    <tr>\n      <th>97</th>\n      <td>972</td>\n      <td>Martinique</td>\n      <td>364508</td>\n    </tr>\n    <tr>\n      <th>98</th>\n      <td>973</td>\n      <td>Guyane</td>\n      <td>281678</td>\n    </tr>\n    <tr>\n      <th>99</th>\n      <td>974</td>\n      <td>La Réunion</td>\n      <td>861210</td>\n    </tr>\n  </tbody>\n</table>\n</div>"
     },
     "execution_count": 17,
     "metadata": {},
     "output_type": "execute_result"
    }
   ],
   "source": [
    "pop_total.tail(10)"
   ],
   "metadata": {
    "collapsed": false,
    "ExecuteTime": {
     "end_time": "2023-08-06T00:00:52.434419Z",
     "start_time": "2023-08-06T00:00:52.429378Z"
    }
   }
  },
  {
   "cell_type": "markdown",
   "source": [
    "We remove the overseas departments"
   ],
   "metadata": {
    "collapsed": false
   }
  },
  {
   "cell_type": "code",
   "execution_count": 18,
   "outputs": [],
   "source": [
    "# Remove the last 4 entries from the DataFrame\n",
    "pop_total = pop_total.iloc[:-4]"
   ],
   "metadata": {
    "collapsed": false,
    "ExecuteTime": {
     "end_time": "2023-08-06T00:00:52.443340Z",
     "start_time": "2023-08-06T00:00:52.435674Z"
    }
   }
  },
  {
   "cell_type": "markdown",
   "source": [
    "----\n",
    "&nbsp;\n",
    "## Population density by department. [INSEE](https://statistiques-locales.insee.fr/#c=indicator&i=pop_depuis_1876.dens&s=2020&t=A01&view=map2) 2020"
   ],
   "metadata": {
    "collapsed": false
   }
  },
  {
   "cell_type": "code",
   "execution_count": 19,
   "outputs": [
    {
     "data": {
      "text/plain": "  Code                  Libellé Densité de population 2020\n0   01                      Ain                      114.2\n1   02                    Aisne                       71.9\n2   03                   Allier                       45.7\n3   04  Alpes-de-Haute-Provence                       23.9\n4   05             Hautes-Alpes                       25.3",
      "text/html": "<div>\n<style scoped>\n    .dataframe tbody tr th:only-of-type {\n        vertical-align: middle;\n    }\n\n    .dataframe tbody tr th {\n        vertical-align: top;\n    }\n\n    .dataframe thead th {\n        text-align: right;\n    }\n</style>\n<table border=\"1\" class=\"dataframe\">\n  <thead>\n    <tr style=\"text-align: right;\">\n      <th></th>\n      <th>Code</th>\n      <th>Libellé</th>\n      <th>Densité de population 2020</th>\n    </tr>\n  </thead>\n  <tbody>\n    <tr>\n      <th>0</th>\n      <td>01</td>\n      <td>Ain</td>\n      <td>114.2</td>\n    </tr>\n    <tr>\n      <th>1</th>\n      <td>02</td>\n      <td>Aisne</td>\n      <td>71.9</td>\n    </tr>\n    <tr>\n      <th>2</th>\n      <td>03</td>\n      <td>Allier</td>\n      <td>45.7</td>\n    </tr>\n    <tr>\n      <th>3</th>\n      <td>04</td>\n      <td>Alpes-de-Haute-Provence</td>\n      <td>23.9</td>\n    </tr>\n    <tr>\n      <th>4</th>\n      <td>05</td>\n      <td>Hautes-Alpes</td>\n      <td>25.3</td>\n    </tr>\n  </tbody>\n</table>\n</div>"
     },
     "execution_count": 19,
     "metadata": {},
     "output_type": "execute_result"
    }
   ],
   "source": [
    "pop_density = pd.read_csv(\"../../data/France/france_pop_den.csv\", sep=';')\n",
    "pop_density.head()"
   ],
   "metadata": {
    "collapsed": false,
    "ExecuteTime": {
     "end_time": "2023-08-06T00:00:52.461987Z",
     "start_time": "2023-08-06T00:00:52.439947Z"
    }
   }
  },
  {
   "cell_type": "code",
   "execution_count": 20,
   "outputs": [
    {
     "data": {
      "text/plain": "['Code', 'Libellé', 'Densité de population 2020']"
     },
     "execution_count": 20,
     "metadata": {},
     "output_type": "execute_result"
    }
   ],
   "source": [
    "pop_density.columns.tolist()"
   ],
   "metadata": {
    "collapsed": false,
    "ExecuteTime": {
     "end_time": "2023-08-06T00:00:52.480803Z",
     "start_time": "2023-08-06T00:00:52.446977Z"
    }
   }
  },
  {
   "cell_type": "code",
   "execution_count": 21,
   "outputs": [
    {
     "data": {
      "text/plain": "    Code            Libellé     Densité de population 2020\n91    91            Essonne                          723.9\n92    92     Hauts-de-Seine                         9260.4\n93    93  Seine-Saint-Denis                         7008.6\n94    94       Val-de-Marne                         5746.1\n95    95         Val-d'Oise                         1004.7\n96   971         Guadeloupe                          235.5\n97   972         Martinique                          320.2\n98   973             Guyane                            3.4\n99   974         La Réunion                          344.7\n100  976            Mayotte  N/A - résultat non disponible",
      "text/html": "<div>\n<style scoped>\n    .dataframe tbody tr th:only-of-type {\n        vertical-align: middle;\n    }\n\n    .dataframe tbody tr th {\n        vertical-align: top;\n    }\n\n    .dataframe thead th {\n        text-align: right;\n    }\n</style>\n<table border=\"1\" class=\"dataframe\">\n  <thead>\n    <tr style=\"text-align: right;\">\n      <th></th>\n      <th>Code</th>\n      <th>Libellé</th>\n      <th>Densité de population 2020</th>\n    </tr>\n  </thead>\n  <tbody>\n    <tr>\n      <th>91</th>\n      <td>91</td>\n      <td>Essonne</td>\n      <td>723.9</td>\n    </tr>\n    <tr>\n      <th>92</th>\n      <td>92</td>\n      <td>Hauts-de-Seine</td>\n      <td>9260.4</td>\n    </tr>\n    <tr>\n      <th>93</th>\n      <td>93</td>\n      <td>Seine-Saint-Denis</td>\n      <td>7008.6</td>\n    </tr>\n    <tr>\n      <th>94</th>\n      <td>94</td>\n      <td>Val-de-Marne</td>\n      <td>5746.1</td>\n    </tr>\n    <tr>\n      <th>95</th>\n      <td>95</td>\n      <td>Val-d'Oise</td>\n      <td>1004.7</td>\n    </tr>\n    <tr>\n      <th>96</th>\n      <td>971</td>\n      <td>Guadeloupe</td>\n      <td>235.5</td>\n    </tr>\n    <tr>\n      <th>97</th>\n      <td>972</td>\n      <td>Martinique</td>\n      <td>320.2</td>\n    </tr>\n    <tr>\n      <th>98</th>\n      <td>973</td>\n      <td>Guyane</td>\n      <td>3.4</td>\n    </tr>\n    <tr>\n      <th>99</th>\n      <td>974</td>\n      <td>La Réunion</td>\n      <td>344.7</td>\n    </tr>\n    <tr>\n      <th>100</th>\n      <td>976</td>\n      <td>Mayotte</td>\n      <td>N/A - résultat non disponible</td>\n    </tr>\n  </tbody>\n</table>\n</div>"
     },
     "execution_count": 21,
     "metadata": {},
     "output_type": "execute_result"
    }
   ],
   "source": [
    "pop_density.tail(10)"
   ],
   "metadata": {
    "collapsed": false,
    "ExecuteTime": {
     "end_time": "2023-08-06T00:00:52.495482Z",
     "start_time": "2023-08-06T00:00:52.453269Z"
    }
   }
  },
  {
   "cell_type": "code",
   "execution_count": 22,
   "outputs": [
    {
     "data": {
      "text/plain": "  department_num               department  population_density(pop/area)\n0             01                      Ain                         114.2\n1             02                    Aisne                          71.9\n2             03                   Allier                          45.7\n3             04  Alpes-de-Haute-Provence                          23.9\n4             05             Hautes-Alpes                          25.3",
      "text/html": "<div>\n<style scoped>\n    .dataframe tbody tr th:only-of-type {\n        vertical-align: middle;\n    }\n\n    .dataframe tbody tr th {\n        vertical-align: top;\n    }\n\n    .dataframe thead th {\n        text-align: right;\n    }\n</style>\n<table border=\"1\" class=\"dataframe\">\n  <thead>\n    <tr style=\"text-align: right;\">\n      <th></th>\n      <th>department_num</th>\n      <th>department</th>\n      <th>population_density(pop/area)</th>\n    </tr>\n  </thead>\n  <tbody>\n    <tr>\n      <th>0</th>\n      <td>01</td>\n      <td>Ain</td>\n      <td>114.2</td>\n    </tr>\n    <tr>\n      <th>1</th>\n      <td>02</td>\n      <td>Aisne</td>\n      <td>71.9</td>\n    </tr>\n    <tr>\n      <th>2</th>\n      <td>03</td>\n      <td>Allier</td>\n      <td>45.7</td>\n    </tr>\n    <tr>\n      <th>3</th>\n      <td>04</td>\n      <td>Alpes-de-Haute-Provence</td>\n      <td>23.9</td>\n    </tr>\n    <tr>\n      <th>4</th>\n      <td>05</td>\n      <td>Hautes-Alpes</td>\n      <td>25.3</td>\n    </tr>\n  </tbody>\n</table>\n</div>"
     },
     "execution_count": 22,
     "metadata": {},
     "output_type": "execute_result"
    }
   ],
   "source": [
    "pop_density = pop_density.rename(columns={'Code': 'department_num',\n",
    "                                      'Libellé': 'department',\n",
    "                                      'Densité de population 2020': 'population_density(pop/area)'})\n",
    "\n",
    "# Removing the overseas departments\n",
    "pop_density = pop_density.iloc[:-5]\n",
    "\n",
    "# Convert the density column as type 'float'\n",
    "pop_density['population_density(pop/area)'] = pop_density['population_density(pop/area)'].astype(float)\n",
    "pop_density.head()"
   ],
   "metadata": {
    "collapsed": false,
    "ExecuteTime": {
     "end_time": "2023-08-06T00:00:52.495645Z",
     "start_time": "2023-08-06T00:00:52.461863Z"
    }
   }
  },
  {
   "cell_type": "code",
   "execution_count": 23,
   "outputs": [
    {
     "name": "stdout",
     "output_type": "stream",
     "text": [
      "<class 'pandas.core.frame.DataFrame'>\n",
      "RangeIndex: 96 entries, 0 to 95\n",
      "Data columns (total 3 columns):\n",
      " #   Column                        Non-Null Count  Dtype  \n",
      "---  ------                        --------------  -----  \n",
      " 0   department_num                96 non-null     object \n",
      " 1   department                    96 non-null     object \n",
      " 2   population_density(pop/area)  96 non-null     float64\n",
      "dtypes: float64(1), object(2)\n",
      "memory usage: 2.4+ KB\n"
     ]
    }
   ],
   "source": [
    "pop_density.info()"
   ],
   "metadata": {
    "collapsed": false,
    "ExecuteTime": {
     "end_time": "2023-08-06T00:00:52.513093Z",
     "start_time": "2023-08-06T00:00:52.468469Z"
    }
   }
  },
  {
   "cell_type": "markdown",
   "source": [
    "----\n",
    "&nbsp;\n",
    "### Merging `departments`, `pop_total` & `pop_density`"
   ],
   "metadata": {
    "collapsed": false
   }
  },
  {
   "cell_type": "code",
   "execution_count": 24,
   "outputs": [],
   "source": [
    "# We sort all dfs in the same manner\n",
    "\n",
    "departments = departments.sort_values('department_num')\n",
    "pop_total = pop_total.sort_values('department_num')\n",
    "pop_density = pop_density.sort_values('department_num')"
   ],
   "metadata": {
    "collapsed": false,
    "ExecuteTime": {
     "end_time": "2023-08-06T00:00:52.513203Z",
     "start_time": "2023-08-06T00:00:52.473491Z"
    }
   }
  },
  {
   "cell_type": "markdown",
   "source": [
    "We check if the name `department` is equal in the three dataframes"
   ],
   "metadata": {
    "collapsed": false
   }
  },
  {
   "cell_type": "code",
   "execution_count": 25,
   "outputs": [
    {
     "name": "stdout",
     "output_type": "stream",
     "text": [
      "True\n"
     ]
    }
   ],
   "source": [
    "set1 = set(departments['department'].unique())\n",
    "set2 = set(pop_total['department'].unique())\n",
    "set3 = set(pop_density['department'].unique())\n",
    "\n",
    "print(set1 == set2 == set3)  # This should print True if all sets are equal"
   ],
   "metadata": {
    "collapsed": false,
    "ExecuteTime": {
     "end_time": "2023-08-06T00:00:52.513255Z",
     "start_time": "2023-08-06T00:00:52.476918Z"
    }
   }
  },
  {
   "cell_type": "code",
   "execution_count": 26,
   "outputs": [],
   "source": [
    "from functools import reduce\n",
    "\n",
    "# List of dataframes to merge\n",
    "dfs = [departments, pop_total, pop_density]\n",
    "\n",
    "# Use reduce and merge to merge all dataframes\n",
    "demographics = reduce(lambda left,right: pd.merge(left,right,on=['department', 'department_num']), dfs)"
   ],
   "metadata": {
    "collapsed": false,
    "ExecuteTime": {
     "end_time": "2023-08-06T00:00:52.513304Z",
     "start_time": "2023-08-06T00:00:52.485587Z"
    }
   }
  },
  {
   "cell_type": "code",
   "execution_count": 27,
   "outputs": [
    {
     "name": "stdout",
     "output_type": "stream",
     "text": [
      "<class 'pandas.core.frame.DataFrame'>\n",
      "Int64Index: 96 entries, 0 to 95\n",
      "Data columns (total 5 columns):\n",
      " #   Column                        Non-Null Count  Dtype  \n",
      "---  ------                        --------------  -----  \n",
      " 0   department_num                96 non-null     object \n",
      " 1   department                    96 non-null     object \n",
      " 2   region                        96 non-null     object \n",
      " 3   population                    96 non-null     int64  \n",
      " 4   population_density(pop/area)  96 non-null     float64\n",
      "dtypes: float64(1), int64(1), object(3)\n",
      "memory usage: 4.5+ KB\n"
     ]
    }
   ],
   "source": [
    "demographics.info()"
   ],
   "metadata": {
    "collapsed": false,
    "ExecuteTime": {
     "end_time": "2023-08-06T00:00:52.513527Z",
     "start_time": "2023-08-06T00:00:52.491376Z"
    }
   }
  },
  {
   "cell_type": "markdown",
   "source": [
    "By inspection, the population density of [Paris](https://en.wikipedia.org/wiki/Paris) is incorrect"
   ],
   "metadata": {
    "collapsed": false
   }
  },
  {
   "cell_type": "code",
   "execution_count": 28,
   "outputs": [],
   "source": [
    "demographics.loc[demographics['department'] == 'Paris', 'population_density(pop/area)'] = 20545.0"
   ],
   "metadata": {
    "collapsed": false,
    "ExecuteTime": {
     "end_time": "2023-08-06T00:00:57.054310Z",
     "start_time": "2023-08-06T00:00:57.049697Z"
    }
   }
  },
  {
   "cell_type": "markdown",
   "source": [
    "We will calculate the area of each department from `population` and `population_density`"
   ],
   "metadata": {
    "collapsed": false
   }
  },
  {
   "cell_type": "code",
   "execution_count": 29,
   "outputs": [
    {
     "name": "stdout",
     "output_type": "stream",
     "text": [
      "<class 'pandas.core.frame.DataFrame'>\n",
      "Int64Index: 96 entries, 0 to 95\n",
      "Data columns (total 6 columns):\n",
      " #   Column                        Non-Null Count  Dtype  \n",
      "---  ------                        --------------  -----  \n",
      " 0   department_num                96 non-null     object \n",
      " 1   department                    96 non-null     object \n",
      " 2   region                        96 non-null     object \n",
      " 3   population                    96 non-null     int64  \n",
      " 4   population_density(pop/area)  96 non-null     float64\n",
      " 5   area(sq_km)                   96 non-null     float64\n",
      "dtypes: float64(2), int64(1), object(3)\n",
      "memory usage: 5.2+ KB\n"
     ]
    }
   ],
   "source": [
    "demographics['area(sq_km)'] = round(demographics['population'] / demographics['population_density(pop/area)'], 2)\n",
    "demographics.info()"
   ],
   "metadata": {
    "collapsed": false,
    "ExecuteTime": {
     "end_time": "2023-08-06T00:01:00.625419Z",
     "start_time": "2023-08-06T00:01:00.613123Z"
    }
   }
  },
  {
   "cell_type": "markdown",
   "source": [
    "The `demographics` data can now be exported"
   ],
   "metadata": {
    "collapsed": false
   }
  },
  {
   "cell_type": "code",
   "execution_count": 30,
   "outputs": [],
   "source": [
    "# Export the data to a csv file\n",
    "demographics.to_csv('../../data/France/demographics.csv', index=False)"
   ],
   "metadata": {
    "collapsed": false,
    "ExecuteTime": {
     "end_time": "2023-08-06T00:01:05.681113Z",
     "start_time": "2023-08-06T00:01:05.672221Z"
    }
   }
  }
 ],
 "metadata": {
  "kernelspec": {
   "display_name": "Python 3",
   "language": "python",
   "name": "python3"
  },
  "language_info": {
   "codemirror_mode": {
    "name": "ipython",
    "version": 2
   },
   "file_extension": ".py",
   "mimetype": "text/x-python",
   "name": "python",
   "nbconvert_exporter": "python",
   "pygments_lexer": "ipython2",
   "version": "2.7.6"
  }
 },
 "nbformat": 4,
 "nbformat_minor": 0
}
