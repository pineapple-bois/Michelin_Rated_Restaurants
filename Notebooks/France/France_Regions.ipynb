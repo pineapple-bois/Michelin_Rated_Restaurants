{
 "cells": [
  {
   "cell_type": "markdown",
   "source": [
    "# French Departmental/Regional Data from [INSEE](https://statistiques-locales.insee.fr/#c=indicator&view=map2)"
   ],
   "metadata": {
    "collapsed": false
   }
  },
  {
   "cell_type": "code",
   "execution_count": 1,
   "metadata": {
    "collapsed": true,
    "ExecuteTime": {
     "end_time": "2023-08-08T18:30:59.437498Z",
     "start_time": "2023-08-08T18:30:59.436030Z"
    }
   },
   "outputs": [],
   "source": [
    "import pandas as pd"
   ]
  },
  {
   "cell_type": "markdown",
   "source": [
    "----\n",
    "&nbsp;\n",
    "## Creating new columns `department` & `region`\n",
    "\n",
    "Compared to the UK France is considerably more ordered in terms of how she defines regions.\n",
    "\n",
    "1. We extract the first two digits of the code postal from `address`. ie, 06, 78 etc\n",
    "2. These digits represent a particular department\n",
    "3. We arrogate these into regions"
   ],
   "metadata": {
    "collapsed": false
   }
  },
  {
   "cell_type": "markdown",
   "source": [
    "We search for the departments and regions of france on [Wikipedia](https://en.wikipedia.org/wiki/Departments_of_France) and scrape the data using pandas"
   ],
   "metadata": {
    "collapsed": false
   }
  },
  {
   "cell_type": "code",
   "execution_count": 2,
   "outputs": [],
   "source": [
    "url = 'https://en.wikipedia.org/wiki/Departments_of_France'\n",
    "tables = pd.read_html(url)"
   ],
   "metadata": {
    "collapsed": false,
    "ExecuteTime": {
     "end_time": "2023-08-08T18:30:59.890771Z",
     "start_time": "2023-08-08T18:30:59.438616Z"
    }
   }
  },
  {
   "cell_type": "code",
   "execution_count": 3,
   "outputs": [
    {
     "data": {
      "text/plain": "  INSEE code  Arms 1 Date of establishment                 Department  \\\n0         01     NaN      26 February 1790                        Ain   \n1         02     NaN      26 February 1790                      Aisne   \n2         03     NaN      26 February 1790                     Allier   \n3         04     NaN      26 February 1790  Alpes-de-Haute-Provence 2   \n4         05     NaN      26 February 1790               Hautes-Alpes   \n\n           Capital                      Region  \\\n0  Bourg-en-Bresse        Auvergne-Rhône-Alpes   \n1             Laon             Hauts-de-France   \n2          Moulins        Auvergne-Rhône-Alpes   \n3  Digne-les-Bains  Provence-Alpes-Côte d'Azur   \n4              Gap  Provence-Alpes-Côte d'Azur   \n\n                          Named after  \n0                         Ain (river)  \n1                       Aisne (river)  \n2                      Allier (river)  \n3  Alps mountains and Provence region  \n4                      Alps mountains  ",
      "text/html": "<div>\n<style scoped>\n    .dataframe tbody tr th:only-of-type {\n        vertical-align: middle;\n    }\n\n    .dataframe tbody tr th {\n        vertical-align: top;\n    }\n\n    .dataframe thead th {\n        text-align: right;\n    }\n</style>\n<table border=\"1\" class=\"dataframe\">\n  <thead>\n    <tr style=\"text-align: right;\">\n      <th></th>\n      <th>INSEE code</th>\n      <th>Arms 1</th>\n      <th>Date of establishment</th>\n      <th>Department</th>\n      <th>Capital</th>\n      <th>Region</th>\n      <th>Named after</th>\n    </tr>\n  </thead>\n  <tbody>\n    <tr>\n      <th>0</th>\n      <td>01</td>\n      <td>NaN</td>\n      <td>26 February 1790</td>\n      <td>Ain</td>\n      <td>Bourg-en-Bresse</td>\n      <td>Auvergne-Rhône-Alpes</td>\n      <td>Ain (river)</td>\n    </tr>\n    <tr>\n      <th>1</th>\n      <td>02</td>\n      <td>NaN</td>\n      <td>26 February 1790</td>\n      <td>Aisne</td>\n      <td>Laon</td>\n      <td>Hauts-de-France</td>\n      <td>Aisne (river)</td>\n    </tr>\n    <tr>\n      <th>2</th>\n      <td>03</td>\n      <td>NaN</td>\n      <td>26 February 1790</td>\n      <td>Allier</td>\n      <td>Moulins</td>\n      <td>Auvergne-Rhône-Alpes</td>\n      <td>Allier (river)</td>\n    </tr>\n    <tr>\n      <th>3</th>\n      <td>04</td>\n      <td>NaN</td>\n      <td>26 February 1790</td>\n      <td>Alpes-de-Haute-Provence 2</td>\n      <td>Digne-les-Bains</td>\n      <td>Provence-Alpes-Côte d'Azur</td>\n      <td>Alps mountains and Provence region</td>\n    </tr>\n    <tr>\n      <th>4</th>\n      <td>05</td>\n      <td>NaN</td>\n      <td>26 February 1790</td>\n      <td>Hautes-Alpes</td>\n      <td>Gap</td>\n      <td>Provence-Alpes-Côte d'Azur</td>\n      <td>Alps mountains</td>\n    </tr>\n  </tbody>\n</table>\n</div>"
     },
     "execution_count": 3,
     "metadata": {},
     "output_type": "execute_result"
    }
   ],
   "source": [
    "# The table of interest is found by inspection\n",
    "departments = tables[4]\n",
    "departments.head()"
   ],
   "metadata": {
    "collapsed": false,
    "ExecuteTime": {
     "end_time": "2023-08-08T18:30:59.903096Z",
     "start_time": "2023-08-08T18:30:59.895906Z"
    }
   }
  },
  {
   "cell_type": "code",
   "execution_count": 4,
   "outputs": [
    {
     "name": "stdout",
     "output_type": "stream",
     "text": [
      "['INSEE code', 'Arms 1', 'Date of establishment', 'Department', 'Capital', 'Region', 'Named after']\n"
     ]
    }
   ],
   "source": [
    "print(departments.columns.tolist())"
   ],
   "metadata": {
    "collapsed": false,
    "ExecuteTime": {
     "end_time": "2023-08-08T18:30:59.906503Z",
     "start_time": "2023-08-08T18:30:59.904061Z"
    }
   }
  },
  {
   "cell_type": "code",
   "execution_count": 5,
   "outputs": [],
   "source": [
    "# Drop specified columns from the DataFrame\n",
    "departments = departments.drop(columns=['Arms 1', 'Date of establishment', 'Capital', 'Named after'])\n",
    "\n",
    "# Rename the column 'INSEE code' to 'department_num'\n",
    "departments = departments.rename(columns={'INSEE code': 'department_num'})\n",
    "\n",
    "# Convert all column names in the DataFrame to lowercase\n",
    "departments.columns = departments.columns.str.lower()\n",
    "\n",
    "# Replace the trailing numbers in the 'department' column with an empty string (if it exists)\n",
    "departments['department'] = departments['department'].str.replace(r'\\d+$', '', regex=True)"
   ],
   "metadata": {
    "collapsed": false,
    "ExecuteTime": {
     "end_time": "2023-08-08T18:30:59.911921Z",
     "start_time": "2023-08-08T18:30:59.910366Z"
    }
   }
  },
  {
   "cell_type": "code",
   "execution_count": 6,
   "outputs": [],
   "source": [
    "# Remove trailing whitespace\n",
    "departments['department'] = departments['department'].str.strip()"
   ],
   "metadata": {
    "collapsed": false,
    "ExecuteTime": {
     "end_time": "2023-08-08T18:30:59.914983Z",
     "start_time": "2023-08-08T18:30:59.913223Z"
    }
   }
  },
  {
   "cell_type": "code",
   "execution_count": 7,
   "outputs": [
    {
     "data": {
      "text/plain": "    department_num         department         region\n92              91            Essonne  Île-de-France\n93              92     Hauts-de-Seine  Île-de-France\n94              93  Seine-Saint-Denis  Île-de-France\n95              94       Val-de-Marne  Île-de-France\n96              95         Val-d'Oise  Île-de-France\n97             971         Guadeloupe     Guadeloupe\n98             972         Martinique     Martinique\n99             973             Guyane  French Guiana\n100            974         La Réunion        Réunion\n101            976            Mayotte        Mayotte",
      "text/html": "<div>\n<style scoped>\n    .dataframe tbody tr th:only-of-type {\n        vertical-align: middle;\n    }\n\n    .dataframe tbody tr th {\n        vertical-align: top;\n    }\n\n    .dataframe thead th {\n        text-align: right;\n    }\n</style>\n<table border=\"1\" class=\"dataframe\">\n  <thead>\n    <tr style=\"text-align: right;\">\n      <th></th>\n      <th>department_num</th>\n      <th>department</th>\n      <th>region</th>\n    </tr>\n  </thead>\n  <tbody>\n    <tr>\n      <th>92</th>\n      <td>91</td>\n      <td>Essonne</td>\n      <td>Île-de-France</td>\n    </tr>\n    <tr>\n      <th>93</th>\n      <td>92</td>\n      <td>Hauts-de-Seine</td>\n      <td>Île-de-France</td>\n    </tr>\n    <tr>\n      <th>94</th>\n      <td>93</td>\n      <td>Seine-Saint-Denis</td>\n      <td>Île-de-France</td>\n    </tr>\n    <tr>\n      <th>95</th>\n      <td>94</td>\n      <td>Val-de-Marne</td>\n      <td>Île-de-France</td>\n    </tr>\n    <tr>\n      <th>96</th>\n      <td>95</td>\n      <td>Val-d'Oise</td>\n      <td>Île-de-France</td>\n    </tr>\n    <tr>\n      <th>97</th>\n      <td>971</td>\n      <td>Guadeloupe</td>\n      <td>Guadeloupe</td>\n    </tr>\n    <tr>\n      <th>98</th>\n      <td>972</td>\n      <td>Martinique</td>\n      <td>Martinique</td>\n    </tr>\n    <tr>\n      <th>99</th>\n      <td>973</td>\n      <td>Guyane</td>\n      <td>French Guiana</td>\n    </tr>\n    <tr>\n      <th>100</th>\n      <td>974</td>\n      <td>La Réunion</td>\n      <td>Réunion</td>\n    </tr>\n    <tr>\n      <th>101</th>\n      <td>976</td>\n      <td>Mayotte</td>\n      <td>Mayotte</td>\n    </tr>\n  </tbody>\n</table>\n</div>"
     },
     "execution_count": 7,
     "metadata": {},
     "output_type": "execute_result"
    }
   ],
   "source": [
    "# Display the last 10 rows of the DataFrame\n",
    "departments.tail(10)"
   ],
   "metadata": {
    "collapsed": false,
    "ExecuteTime": {
     "end_time": "2023-08-08T18:30:59.936036Z",
     "start_time": "2023-08-08T18:30:59.915421Z"
    }
   }
  },
  {
   "cell_type": "markdown",
   "source": [
    "The last five entries are overseas departments"
   ],
   "metadata": {
    "collapsed": false
   }
  },
  {
   "cell_type": "code",
   "execution_count": 8,
   "outputs": [],
   "source": [
    "departments = departments.copy()\n",
    "\n",
    "# Remove the last 5 entries from the DataFrame\n",
    "departments = departments.iloc[:-5]"
   ],
   "metadata": {
    "collapsed": false,
    "ExecuteTime": {
     "end_time": "2023-08-08T18:30:59.936109Z",
     "start_time": "2023-08-08T18:30:59.922257Z"
    }
   }
  },
  {
   "cell_type": "markdown",
   "source": [
    "In `departments` there is some ambiguity with the naming of department 69. We search `france_data` for department 69"
   ],
   "metadata": {
    "collapsed": false
   }
  },
  {
   "cell_type": "code",
   "execution_count": 9,
   "outputs": [
    {
     "data": {
      "text/plain": "   department_num       department                region\n69            69D            Rhône  Auvergne-Rhône-Alpes\n70            69M  Lyon Metropolis  Auvergne-Rhône-Alpes",
      "text/html": "<div>\n<style scoped>\n    .dataframe tbody tr th:only-of-type {\n        vertical-align: middle;\n    }\n\n    .dataframe tbody tr th {\n        vertical-align: top;\n    }\n\n    .dataframe thead th {\n        text-align: right;\n    }\n</style>\n<table border=\"1\" class=\"dataframe\">\n  <thead>\n    <tr style=\"text-align: right;\">\n      <th></th>\n      <th>department_num</th>\n      <th>department</th>\n      <th>region</th>\n    </tr>\n  </thead>\n  <tbody>\n    <tr>\n      <th>69</th>\n      <td>69D</td>\n      <td>Rhône</td>\n      <td>Auvergne-Rhône-Alpes</td>\n    </tr>\n    <tr>\n      <th>70</th>\n      <td>69M</td>\n      <td>Lyon Metropolis</td>\n      <td>Auvergne-Rhône-Alpes</td>\n    </tr>\n  </tbody>\n</table>\n</div>"
     },
     "execution_count": 9,
     "metadata": {},
     "output_type": "execute_result"
    }
   ],
   "source": [
    "rhone = departments[departments['department_num'].str.startswith('69')]\n",
    "rhone"
   ],
   "metadata": {
    "collapsed": false,
    "ExecuteTime": {
     "end_time": "2023-08-08T18:30:59.938995Z",
     "start_time": "2023-08-08T18:30:59.927869Z"
    }
   }
  },
  {
   "cell_type": "markdown",
   "source": [
    "We will change department 69_ to 69 Rhône"
   ],
   "metadata": {
    "collapsed": false
   }
  },
  {
   "cell_type": "code",
   "execution_count": 10,
   "outputs": [],
   "source": [
    "# Identify rows with department number '69D' or '69M'\n",
    "rows_to_update = departments['department_num'].isin(['69D', '69M'])\n",
    "\n",
    "# Update department name and department number for these rows\n",
    "departments.loc[rows_to_update, 'department'] = 'Rhône'\n",
    "departments.loc[rows_to_update, 'department_num'] = '69'\n",
    "\n",
    "# Drop the specified index\n",
    "departments = departments.drop(departments.index[69])"
   ],
   "metadata": {
    "collapsed": false,
    "ExecuteTime": {
     "end_time": "2023-08-08T18:30:59.957881Z",
     "start_time": "2023-08-08T18:30:59.932831Z"
    }
   }
  },
  {
   "cell_type": "markdown",
   "source": [
    "We export `departments` as a .csv file to merge with `france_data`"
   ],
   "metadata": {
    "collapsed": false
   }
  },
  {
   "cell_type": "code",
   "execution_count": 11,
   "outputs": [],
   "source": [
    "# Export the data to a csv file\n",
    "departments.to_csv('../../data/France/Demographics/departments.csv', index=False)"
   ],
   "metadata": {
    "collapsed": false,
    "ExecuteTime": {
     "end_time": "2023-08-08T18:30:59.958036Z",
     "start_time": "2023-08-08T18:30:59.935936Z"
    }
   }
  },
  {
   "cell_type": "code",
   "execution_count": 12,
   "outputs": [
    {
     "data": {
      "text/plain": "   department_num         department         region\n94             93  Seine-Saint-Denis  Île-de-France\n95             94       Val-de-Marne  Île-de-France\n96             95         Val-d'Oise  Île-de-France",
      "text/html": "<div>\n<style scoped>\n    .dataframe tbody tr th:only-of-type {\n        vertical-align: middle;\n    }\n\n    .dataframe tbody tr th {\n        vertical-align: top;\n    }\n\n    .dataframe thead th {\n        text-align: right;\n    }\n</style>\n<table border=\"1\" class=\"dataframe\">\n  <thead>\n    <tr style=\"text-align: right;\">\n      <th></th>\n      <th>department_num</th>\n      <th>department</th>\n      <th>region</th>\n    </tr>\n  </thead>\n  <tbody>\n    <tr>\n      <th>94</th>\n      <td>93</td>\n      <td>Seine-Saint-Denis</td>\n      <td>Île-de-France</td>\n    </tr>\n    <tr>\n      <th>95</th>\n      <td>94</td>\n      <td>Val-de-Marne</td>\n      <td>Île-de-France</td>\n    </tr>\n    <tr>\n      <th>96</th>\n      <td>95</td>\n      <td>Val-d'Oise</td>\n      <td>Île-de-France</td>\n    </tr>\n  </tbody>\n</table>\n</div>"
     },
     "execution_count": 12,
     "metadata": {},
     "output_type": "execute_result"
    }
   ],
   "source": [
    "departments.tail(3)"
   ],
   "metadata": {
    "collapsed": false,
    "ExecuteTime": {
     "end_time": "2023-08-08T18:30:59.958160Z",
     "start_time": "2023-08-08T18:30:59.945246Z"
    }
   }
  },
  {
   "cell_type": "markdown",
   "source": [
    "----\n",
    "&nbsp;\n",
    "## *Statistiques locales* by department. [INSEE](https://www.insee.fr/fr/statistiques/6013867) 2020"
   ],
   "metadata": {
    "collapsed": false
   }
  },
  {
   "cell_type": "code",
   "execution_count": 13,
   "outputs": [
    {
     "data": {
      "text/plain": "  Code                  Libellé  Taux de pauvreté 2020  \\\n0   01                      Ain                   10.5   \n1   02                    Aisne                   18.0   \n2   03                   Allier                   15.3   \n3   04  Alpes-de-Haute-Provence                   16.6   \n4   05             Hautes-Alpes                   13.9   \n\n  Taux de chômage annuel moyen 2022 Salaire net horaire moyen 2021  \\\n0                               5.5                          15.34   \n1                              10.5                          13.92   \n2                               7.7                          13.63   \n3                               8.2                          14.15   \n4                               6.9                          13.54   \n\n  Population municipale 2020  \\\n0                     657856   \n1                     529374   \n2                     335628   \n3                     165451   \n4                     140605   \n\n  Densité de population (historique depuis 1876) 2020  \\\n0                                              114.2    \n1                                               71.9    \n2                                               45.7    \n3                                               23.9    \n4                                               25.3    \n\n  Nb de pers. non scolarisées de 15 ans ou + 2020  \n0                                          480283  \n1                                          394221  \n2                                          263472  \n3                                          129106  \n4                                          109699  ",
      "text/html": "<div>\n<style scoped>\n    .dataframe tbody tr th:only-of-type {\n        vertical-align: middle;\n    }\n\n    .dataframe tbody tr th {\n        vertical-align: top;\n    }\n\n    .dataframe thead th {\n        text-align: right;\n    }\n</style>\n<table border=\"1\" class=\"dataframe\">\n  <thead>\n    <tr style=\"text-align: right;\">\n      <th></th>\n      <th>Code</th>\n      <th>Libellé</th>\n      <th>Taux de pauvreté 2020</th>\n      <th>Taux de chômage annuel moyen 2022</th>\n      <th>Salaire net horaire moyen 2021</th>\n      <th>Population municipale 2020</th>\n      <th>Densité de population (historique depuis 1876) 2020</th>\n      <th>Nb de pers. non scolarisées de 15 ans ou + 2020</th>\n    </tr>\n  </thead>\n  <tbody>\n    <tr>\n      <th>0</th>\n      <td>01</td>\n      <td>Ain</td>\n      <td>10.5</td>\n      <td>5.5</td>\n      <td>15.34</td>\n      <td>657856</td>\n      <td>114.2</td>\n      <td>480283</td>\n    </tr>\n    <tr>\n      <th>1</th>\n      <td>02</td>\n      <td>Aisne</td>\n      <td>18.0</td>\n      <td>10.5</td>\n      <td>13.92</td>\n      <td>529374</td>\n      <td>71.9</td>\n      <td>394221</td>\n    </tr>\n    <tr>\n      <th>2</th>\n      <td>03</td>\n      <td>Allier</td>\n      <td>15.3</td>\n      <td>7.7</td>\n      <td>13.63</td>\n      <td>335628</td>\n      <td>45.7</td>\n      <td>263472</td>\n    </tr>\n    <tr>\n      <th>3</th>\n      <td>04</td>\n      <td>Alpes-de-Haute-Provence</td>\n      <td>16.6</td>\n      <td>8.2</td>\n      <td>14.15</td>\n      <td>165451</td>\n      <td>23.9</td>\n      <td>129106</td>\n    </tr>\n    <tr>\n      <th>4</th>\n      <td>05</td>\n      <td>Hautes-Alpes</td>\n      <td>13.9</td>\n      <td>6.9</td>\n      <td>13.54</td>\n      <td>140605</td>\n      <td>25.3</td>\n      <td>109699</td>\n    </tr>\n  </tbody>\n</table>\n</div>"
     },
     "execution_count": 13,
     "metadata": {},
     "output_type": "execute_result"
    }
   ],
   "source": [
    "stats_locale = pd.read_csv(\"../../data/France/Demographics/stats_locales.csv\", sep=';')\n",
    "stats_locale.head()"
   ],
   "metadata": {
    "collapsed": false,
    "ExecuteTime": {
     "end_time": "2023-08-08T18:30:59.989692Z",
     "start_time": "2023-08-08T18:30:59.950141Z"
    }
   }
  },
  {
   "cell_type": "code",
   "execution_count": 14,
   "outputs": [
    {
     "data": {
      "text/plain": "['Code',\n 'Libellé',\n 'Taux de pauvreté 2020',\n 'Taux de chômage annuel moyen 2022',\n 'Salaire net horaire moyen 2021',\n 'Population municipale 2020',\n 'Densité de population (historique depuis 1876) 2020',\n 'Nb de pers. non scolarisées de 15 ans ou + 2020']"
     },
     "execution_count": 14,
     "metadata": {},
     "output_type": "execute_result"
    }
   ],
   "source": [
    "stats_locale.columns.tolist()"
   ],
   "metadata": {
    "collapsed": false,
    "ExecuteTime": {
     "end_time": "2023-08-08T18:30:59.989893Z",
     "start_time": "2023-08-08T18:30:59.960301Z"
    }
   }
  },
  {
   "cell_type": "code",
   "execution_count": 15,
   "outputs": [],
   "source": [
    "stats_locale = stats_locale.rename(columns={\n",
    "    'Code': 'department_num',\n",
    "    'Libellé': 'department',\n",
    "    'Taux de pauvreté 2020': 'poverty_rate(%)',\n",
    "    'Taux de chômage annuel moyen 2022': 'average_annual_unemployment_rate(%)',\n",
    "    'Salaire net horaire moyen 2021': 'average_net_hourly_wage(€)',\n",
    "    'Population municipale 2020': 'municipal_population',\n",
    "    'Densité de population (historique depuis 1876) 2020': 'population_density(inhabitants/sq_km)',\n",
    "    'Nb de pers. non scolarisées de 15 ans ou + 2020': 'non_schooled_persons_15_and_over'\n",
    "})"
   ],
   "metadata": {
    "collapsed": false,
    "ExecuteTime": {
     "end_time": "2023-08-08T18:30:59.990098Z",
     "start_time": "2023-08-08T18:30:59.964299Z"
    }
   }
  },
  {
   "cell_type": "code",
   "execution_count": 16,
   "outputs": [
    {
     "name": "stdout",
     "output_type": "stream",
     "text": [
      "<class 'pandas.core.frame.DataFrame'>\n",
      "RangeIndex: 101 entries, 0 to 100\n",
      "Data columns (total 8 columns):\n",
      " #   Column                                 Non-Null Count  Dtype  \n",
      "---  ------                                 --------------  -----  \n",
      " 0   department_num                         101 non-null    object \n",
      " 1   department                             101 non-null    object \n",
      " 2   poverty_rate(%)                        101 non-null    float64\n",
      " 3   average_annual_unemployment_rate(%)    101 non-null    object \n",
      " 4   average_net_hourly_wage(€)             101 non-null    object \n",
      " 5   municipal_population                   101 non-null    object \n",
      " 6   population_density(inhabitants/sq_km)  101 non-null    object \n",
      " 7   non_schooled_persons_15_and_over       101 non-null    object \n",
      "dtypes: float64(1), object(7)\n",
      "memory usage: 6.4+ KB\n"
     ]
    }
   ],
   "source": [
    "stats_locale.info()"
   ],
   "metadata": {
    "collapsed": false,
    "ExecuteTime": {
     "end_time": "2023-08-08T18:30:59.999535Z",
     "start_time": "2023-08-08T18:30:59.972238Z"
    }
   }
  },
  {
   "cell_type": "code",
   "execution_count": 17,
   "outputs": [],
   "source": [
    "# Remove leading and trailing whitespace for all string columns\n",
    "stats_locale = stats_locale.apply(lambda col: col.str.strip() if col.dtype == \"object\" else col)"
   ],
   "metadata": {
    "collapsed": false,
    "ExecuteTime": {
     "end_time": "2023-08-08T18:31:00.012303Z",
     "start_time": "2023-08-08T18:30:59.977273Z"
    }
   }
  },
  {
   "cell_type": "code",
   "execution_count": 18,
   "outputs": [],
   "source": [
    "# Define columns to be converted to numeric type\n",
    "numeric_cols = ['average_annual_unemployment_rate(%)',\n",
    "                'average_net_hourly_wage(€)',\n",
    "                'municipal_population',\n",
    "                'population_density(inhabitants/sq_km)',\n",
    "                'non_schooled_persons_15_and_over']\n",
    "\n",
    "# Convert the columns to numeric, setting any errors to NaN\n",
    "for col in numeric_cols:\n",
    "    stats_locale[col] = pd.to_numeric(stats_locale[col], errors='coerce')"
   ],
   "metadata": {
    "collapsed": false,
    "ExecuteTime": {
     "end_time": "2023-08-08T18:31:00.045590Z",
     "start_time": "2023-08-08T18:30:59.981577Z"
    }
   }
  },
  {
   "cell_type": "code",
   "execution_count": 19,
   "outputs": [
    {
     "name": "stdout",
     "output_type": "stream",
     "text": [
      "average_annual_unemployment_rate(%)      1\n",
      "average_net_hourly_wage(€)               1\n",
      "municipal_population                     1\n",
      "population_density(inhabitants/sq_km)    1\n",
      "non_schooled_persons_15_and_over         1\n",
      "dtype: int64\n"
     ]
    }
   ],
   "source": [
    "# Check if there are any NaN values in the DataFrame\n",
    "nan_values = stats_locale.isnull().sum()\n",
    "print(nan_values[nan_values > 0])"
   ],
   "metadata": {
    "collapsed": false,
    "ExecuteTime": {
     "end_time": "2023-08-08T18:31:00.047612Z",
     "start_time": "2023-08-08T18:30:59.985026Z"
    }
   }
  },
  {
   "cell_type": "code",
   "execution_count": 20,
   "outputs": [
    {
     "data": {
      "text/plain": "    department_num department  poverty_rate(%)  \\\n100            976    Mayotte             77.3   \n\n     average_annual_unemployment_rate(%)  average_net_hourly_wage(€)  \\\n100                                  NaN                         NaN   \n\n     municipal_population  population_density(inhabitants/sq_km)  \\\n100                   NaN                                    NaN   \n\n     non_schooled_persons_15_and_over  \n100                               NaN  ",
      "text/html": "<div>\n<style scoped>\n    .dataframe tbody tr th:only-of-type {\n        vertical-align: middle;\n    }\n\n    .dataframe tbody tr th {\n        vertical-align: top;\n    }\n\n    .dataframe thead th {\n        text-align: right;\n    }\n</style>\n<table border=\"1\" class=\"dataframe\">\n  <thead>\n    <tr style=\"text-align: right;\">\n      <th></th>\n      <th>department_num</th>\n      <th>department</th>\n      <th>poverty_rate(%)</th>\n      <th>average_annual_unemployment_rate(%)</th>\n      <th>average_net_hourly_wage(€)</th>\n      <th>municipal_population</th>\n      <th>population_density(inhabitants/sq_km)</th>\n      <th>non_schooled_persons_15_and_over</th>\n    </tr>\n  </thead>\n  <tbody>\n    <tr>\n      <th>100</th>\n      <td>976</td>\n      <td>Mayotte</td>\n      <td>77.3</td>\n      <td>NaN</td>\n      <td>NaN</td>\n      <td>NaN</td>\n      <td>NaN</td>\n      <td>NaN</td>\n    </tr>\n  </tbody>\n</table>\n</div>"
     },
     "execution_count": 20,
     "metadata": {},
     "output_type": "execute_result"
    }
   ],
   "source": [
    "# Return that row of data\n",
    "nan_rows = stats_locale[stats_locale.isna().any(axis=1)]\n",
    "nan_rows"
   ],
   "metadata": {
    "collapsed": false,
    "ExecuteTime": {
     "end_time": "2023-08-08T18:31:00.052958Z",
     "start_time": "2023-08-08T18:30:59.990533Z"
    }
   }
  },
  {
   "cell_type": "markdown",
   "source": [
    "*`Mayotte`* is an overseas department which will be removed from the dataset as we are focusing analysis on mainland France"
   ],
   "metadata": {
    "collapsed": false
   }
  },
  {
   "cell_type": "code",
   "execution_count": 21,
   "outputs": [
    {
     "data": {
      "text/plain": "    department_num         department  poverty_rate(%)  \\\n91              91            Essonne             13.2   \n92              92     Hauts-de-Seine             11.9   \n93              93  Seine-Saint-Denis             27.6   \n94              94       Val-de-Marne             16.6   \n95              95         Val-d'Oise             17.0   \n96             971         Guadeloupe             34.5   \n97             972         Martinique             26.7   \n98             973             Guyane             52.9   \n99             974         La Réunion             35.6   \n100            976            Mayotte             77.3   \n\n     average_annual_unemployment_rate(%)  average_net_hourly_wage(€)  \\\n91                                   6.4                       17.85   \n92                                   5.9                       26.02   \n93                                  10.2                       14.98   \n94                                   7.1                       18.86   \n95                                   8.0                       17.03   \n96                                  18.6                       14.93   \n97                                  12.5                       14.69   \n98                                  13.1                       15.10   \n99                                  18.1                       13.79   \n100                                  NaN                         NaN   \n\n     municipal_population  population_density(inhabitants/sq_km)  \\\n91              1306118.0                                  723.9   \n92              1626213.0                                 9260.4   \n93              1655422.0                                 7008.6   \n94              1407972.0                                 5746.1   \n95              1251804.0                                 1004.7   \n96               383559.0                                  235.5   \n97               361225.0                                  320.2   \n98               285133.0                                    3.4   \n99               863083.0                                  344.7   \n100                   NaN                                    NaN   \n\n     non_schooled_persons_15_and_over  \n91                           906036.0  \n92                          1141945.0  \n93                          1112210.0  \n94                           978399.0  \n95                           852868.0  \n96                           283923.0  \n97                           275923.0  \n98                           164254.0  \n99                           594394.0  \n100                               NaN  ",
      "text/html": "<div>\n<style scoped>\n    .dataframe tbody tr th:only-of-type {\n        vertical-align: middle;\n    }\n\n    .dataframe tbody tr th {\n        vertical-align: top;\n    }\n\n    .dataframe thead th {\n        text-align: right;\n    }\n</style>\n<table border=\"1\" class=\"dataframe\">\n  <thead>\n    <tr style=\"text-align: right;\">\n      <th></th>\n      <th>department_num</th>\n      <th>department</th>\n      <th>poverty_rate(%)</th>\n      <th>average_annual_unemployment_rate(%)</th>\n      <th>average_net_hourly_wage(€)</th>\n      <th>municipal_population</th>\n      <th>population_density(inhabitants/sq_km)</th>\n      <th>non_schooled_persons_15_and_over</th>\n    </tr>\n  </thead>\n  <tbody>\n    <tr>\n      <th>91</th>\n      <td>91</td>\n      <td>Essonne</td>\n      <td>13.2</td>\n      <td>6.4</td>\n      <td>17.85</td>\n      <td>1306118.0</td>\n      <td>723.9</td>\n      <td>906036.0</td>\n    </tr>\n    <tr>\n      <th>92</th>\n      <td>92</td>\n      <td>Hauts-de-Seine</td>\n      <td>11.9</td>\n      <td>5.9</td>\n      <td>26.02</td>\n      <td>1626213.0</td>\n      <td>9260.4</td>\n      <td>1141945.0</td>\n    </tr>\n    <tr>\n      <th>93</th>\n      <td>93</td>\n      <td>Seine-Saint-Denis</td>\n      <td>27.6</td>\n      <td>10.2</td>\n      <td>14.98</td>\n      <td>1655422.0</td>\n      <td>7008.6</td>\n      <td>1112210.0</td>\n    </tr>\n    <tr>\n      <th>94</th>\n      <td>94</td>\n      <td>Val-de-Marne</td>\n      <td>16.6</td>\n      <td>7.1</td>\n      <td>18.86</td>\n      <td>1407972.0</td>\n      <td>5746.1</td>\n      <td>978399.0</td>\n    </tr>\n    <tr>\n      <th>95</th>\n      <td>95</td>\n      <td>Val-d'Oise</td>\n      <td>17.0</td>\n      <td>8.0</td>\n      <td>17.03</td>\n      <td>1251804.0</td>\n      <td>1004.7</td>\n      <td>852868.0</td>\n    </tr>\n    <tr>\n      <th>96</th>\n      <td>971</td>\n      <td>Guadeloupe</td>\n      <td>34.5</td>\n      <td>18.6</td>\n      <td>14.93</td>\n      <td>383559.0</td>\n      <td>235.5</td>\n      <td>283923.0</td>\n    </tr>\n    <tr>\n      <th>97</th>\n      <td>972</td>\n      <td>Martinique</td>\n      <td>26.7</td>\n      <td>12.5</td>\n      <td>14.69</td>\n      <td>361225.0</td>\n      <td>320.2</td>\n      <td>275923.0</td>\n    </tr>\n    <tr>\n      <th>98</th>\n      <td>973</td>\n      <td>Guyane</td>\n      <td>52.9</td>\n      <td>13.1</td>\n      <td>15.10</td>\n      <td>285133.0</td>\n      <td>3.4</td>\n      <td>164254.0</td>\n    </tr>\n    <tr>\n      <th>99</th>\n      <td>974</td>\n      <td>La Réunion</td>\n      <td>35.6</td>\n      <td>18.1</td>\n      <td>13.79</td>\n      <td>863083.0</td>\n      <td>344.7</td>\n      <td>594394.0</td>\n    </tr>\n    <tr>\n      <th>100</th>\n      <td>976</td>\n      <td>Mayotte</td>\n      <td>77.3</td>\n      <td>NaN</td>\n      <td>NaN</td>\n      <td>NaN</td>\n      <td>NaN</td>\n      <td>NaN</td>\n    </tr>\n  </tbody>\n</table>\n</div>"
     },
     "execution_count": 21,
     "metadata": {},
     "output_type": "execute_result"
    }
   ],
   "source": [
    "stats_locale.tail(10)"
   ],
   "metadata": {
    "collapsed": false,
    "ExecuteTime": {
     "end_time": "2023-08-08T18:31:00.064916Z",
     "start_time": "2023-08-08T18:31:00.003797Z"
    }
   }
  },
  {
   "cell_type": "markdown",
   "source": [
    "We remove the overseas departments"
   ],
   "metadata": {
    "collapsed": false
   }
  },
  {
   "cell_type": "code",
   "execution_count": 22,
   "outputs": [
    {
     "name": "stdout",
     "output_type": "stream",
     "text": [
      "Shape of stats_locale: (96, 8)\n"
     ]
    }
   ],
   "source": [
    "# Remove the last 5 entries from the DataFrame (Overseas territories)\n",
    "stats_locale = stats_locale.iloc[:-5]\n",
    "print(f\"Shape of stats_locale: {stats_locale.shape}\")"
   ],
   "metadata": {
    "collapsed": false,
    "ExecuteTime": {
     "end_time": "2023-08-08T18:31:00.098206Z",
     "start_time": "2023-08-08T18:31:00.012428Z"
    }
   }
  },
  {
   "cell_type": "markdown",
   "source": [
    "There's a discrepancy in the population density data sourced from INSEE. The population density of [Paris](https://en.wikipedia.org/wiki/List_of_French_departments_by_population) is 20,454 inhabitants/sq_km"
   ],
   "metadata": {
    "collapsed": false
   }
  },
  {
   "cell_type": "code",
   "execution_count": 23,
   "outputs": [
    {
     "data": {
      "text/plain": "   department_num department  poverty_rate(%)  \\\n75             75      Paris             15.4   \n\n    average_annual_unemployment_rate(%)  average_net_hourly_wage(€)  \\\n75                                  5.7                       27.14   \n\n    municipal_population  population_density(inhabitants/sq_km)  \\\n75             2145906.0                                10179.8   \n\n    non_schooled_persons_15_and_over  \n75                         1563175.0  ",
      "text/html": "<div>\n<style scoped>\n    .dataframe tbody tr th:only-of-type {\n        vertical-align: middle;\n    }\n\n    .dataframe tbody tr th {\n        vertical-align: top;\n    }\n\n    .dataframe thead th {\n        text-align: right;\n    }\n</style>\n<table border=\"1\" class=\"dataframe\">\n  <thead>\n    <tr style=\"text-align: right;\">\n      <th></th>\n      <th>department_num</th>\n      <th>department</th>\n      <th>poverty_rate(%)</th>\n      <th>average_annual_unemployment_rate(%)</th>\n      <th>average_net_hourly_wage(€)</th>\n      <th>municipal_population</th>\n      <th>population_density(inhabitants/sq_km)</th>\n      <th>non_schooled_persons_15_and_over</th>\n    </tr>\n  </thead>\n  <tbody>\n    <tr>\n      <th>75</th>\n      <td>75</td>\n      <td>Paris</td>\n      <td>15.4</td>\n      <td>5.7</td>\n      <td>27.14</td>\n      <td>2145906.0</td>\n      <td>10179.8</td>\n      <td>1563175.0</td>\n    </tr>\n  </tbody>\n</table>\n</div>"
     },
     "execution_count": 23,
     "metadata": {},
     "output_type": "execute_result"
    }
   ],
   "source": [
    "paris = stats_locale[stats_locale['department'] == 'Paris']\n",
    "paris"
   ],
   "metadata": {
    "collapsed": false,
    "ExecuteTime": {
     "end_time": "2023-08-08T18:31:00.098346Z",
     "start_time": "2023-08-08T18:31:00.014020Z"
    }
   }
  },
  {
   "cell_type": "code",
   "execution_count": 24,
   "outputs": [],
   "source": [
    "stats_locale.loc[stats_locale['department'] == 'Paris', 'population_density(inhabitants/sq_km)'] = 20454"
   ],
   "metadata": {
    "collapsed": false,
    "ExecuteTime": {
     "end_time": "2023-08-08T18:31:00.098602Z",
     "start_time": "2023-08-08T18:31:00.018682Z"
    }
   }
  },
  {
   "cell_type": "markdown",
   "source": [
    "We need to extrapolate `area(sq_km)` from population density and population"
   ],
   "metadata": {
    "collapsed": false
   }
  },
  {
   "cell_type": "code",
   "execution_count": 25,
   "outputs": [],
   "source": [
    "stats_locale['area(sq_km)'] = round(stats_locale['municipal_population'] /\n",
    "                                                           stats_locale['population_density(inhabitants/sq_km)'], 2)"
   ],
   "metadata": {
    "collapsed": false,
    "ExecuteTime": {
     "end_time": "2023-08-08T18:31:00.098632Z",
     "start_time": "2023-08-08T18:31:00.021614Z"
    }
   }
  },
  {
   "cell_type": "code",
   "execution_count": 26,
   "outputs": [
    {
     "name": "stdout",
     "output_type": "stream",
     "text": [
      "<class 'pandas.core.frame.DataFrame'>\n",
      "RangeIndex: 96 entries, 0 to 95\n",
      "Data columns (total 9 columns):\n",
      " #   Column                                 Non-Null Count  Dtype  \n",
      "---  ------                                 --------------  -----  \n",
      " 0   department_num                         96 non-null     object \n",
      " 1   department                             96 non-null     object \n",
      " 2   poverty_rate(%)                        96 non-null     float64\n",
      " 3   average_annual_unemployment_rate(%)    96 non-null     float64\n",
      " 4   average_net_hourly_wage(€)             96 non-null     float64\n",
      " 5   municipal_population                   96 non-null     float64\n",
      " 6   population_density(inhabitants/sq_km)  96 non-null     float64\n",
      " 7   non_schooled_persons_15_and_over       96 non-null     float64\n",
      " 8   area(sq_km)                            96 non-null     float64\n",
      "dtypes: float64(7), object(2)\n",
      "memory usage: 6.9+ KB\n"
     ]
    }
   ],
   "source": [
    "stats_locale.info()"
   ],
   "metadata": {
    "collapsed": false,
    "ExecuteTime": {
     "end_time": "2023-08-08T18:31:00.103136Z",
     "start_time": "2023-08-08T18:31:00.030989Z"
    }
   }
  },
  {
   "cell_type": "markdown",
   "source": [
    "----\n",
    "&nbsp;\n",
    "### Merging `departments` & `stats_locale`"
   ],
   "metadata": {
    "collapsed": false
   }
  },
  {
   "cell_type": "code",
   "execution_count": 27,
   "outputs": [],
   "source": [
    "# We sort all dfs in the same manner\n",
    "\n",
    "departments = departments.sort_values('department_num')\n",
    "stats_locale = stats_locale.sort_values('department_num')"
   ],
   "metadata": {
    "collapsed": false,
    "ExecuteTime": {
     "end_time": "2023-08-08T18:31:00.111583Z",
     "start_time": "2023-08-08T18:31:00.045714Z"
    }
   }
  },
  {
   "cell_type": "markdown",
   "source": [
    "We check if the name `department` is equal in the two dataframes"
   ],
   "metadata": {
    "collapsed": false
   }
  },
  {
   "cell_type": "code",
   "execution_count": 28,
   "outputs": [
    {
     "name": "stdout",
     "output_type": "stream",
     "text": [
      "True\n"
     ]
    }
   ],
   "source": [
    "set1 = set(departments['department'].unique())\n",
    "set2 = set(stats_locale['department'].unique())\n",
    "\n",
    "print(set1 == set2)  # This should print True if all sets are equal"
   ],
   "metadata": {
    "collapsed": false,
    "ExecuteTime": {
     "end_time": "2023-08-08T18:31:00.111741Z",
     "start_time": "2023-08-08T18:31:00.045847Z"
    }
   }
  },
  {
   "cell_type": "code",
   "execution_count": 29,
   "outputs": [],
   "source": [
    "from functools import reduce\n",
    "\n",
    "# List of dataframes to merge\n",
    "dfs = [departments, stats_locale]\n",
    "\n",
    "# Use reduce and merge to merge all dataframes\n",
    "demographics = reduce(lambda left,right: pd.merge(left,right,on=['department', 'department_num']), dfs)"
   ],
   "metadata": {
    "collapsed": false,
    "ExecuteTime": {
     "end_time": "2023-08-08T18:31:00.111767Z",
     "start_time": "2023-08-08T18:31:00.045869Z"
    }
   }
  },
  {
   "cell_type": "markdown",
   "source": [
    "Will drop `non_schooled_persons_15_and_over` as I feel it's the weakest statistic"
   ],
   "metadata": {
    "collapsed": false
   }
  },
  {
   "cell_type": "code",
   "execution_count": 30,
   "outputs": [
    {
     "name": "stdout",
     "output_type": "stream",
     "text": [
      "<class 'pandas.core.frame.DataFrame'>\n",
      "Int64Index: 96 entries, 0 to 95\n",
      "Data columns (total 9 columns):\n",
      " #   Column                                 Non-Null Count  Dtype  \n",
      "---  ------                                 --------------  -----  \n",
      " 0   department_num                         96 non-null     object \n",
      " 1   department                             96 non-null     object \n",
      " 2   region                                 96 non-null     object \n",
      " 3   poverty_rate(%)                        96 non-null     float64\n",
      " 4   average_annual_unemployment_rate(%)    96 non-null     float64\n",
      " 5   average_net_hourly_wage(€)             96 non-null     float64\n",
      " 6   municipal_population                   96 non-null     float64\n",
      " 7   population_density(inhabitants/sq_km)  96 non-null     float64\n",
      " 8   area(sq_km)                            96 non-null     float64\n",
      "dtypes: float64(6), object(3)\n",
      "memory usage: 7.5+ KB\n"
     ]
    }
   ],
   "source": [
    "demographics = demographics.drop(columns=\"non_schooled_persons_15_and_over\")\n",
    "demographics.info()"
   ],
   "metadata": {
    "collapsed": false,
    "ExecuteTime": {
     "end_time": "2023-08-08T18:31:03.768052Z",
     "start_time": "2023-08-08T18:31:03.759723Z"
    }
   }
  },
  {
   "cell_type": "markdown",
   "source": [
    "The `demographics` data can now be exported"
   ],
   "metadata": {
    "collapsed": false
   }
  },
  {
   "cell_type": "code",
   "execution_count": 31,
   "outputs": [],
   "source": [
    "# Export the data to a csv file\n",
    "demographics.to_csv('../../data/France/Demographics/demographics.csv', index=False)"
   ],
   "metadata": {
    "collapsed": false,
    "ExecuteTime": {
     "end_time": "2023-08-08T18:31:10.830493Z",
     "start_time": "2023-08-08T18:31:10.821991Z"
    }
   }
  }
 ],
 "metadata": {
  "kernelspec": {
   "display_name": "Python 3",
   "language": "python",
   "name": "python3"
  },
  "language_info": {
   "codemirror_mode": {
    "name": "ipython",
    "version": 2
   },
   "file_extension": ".py",
   "mimetype": "text/x-python",
   "name": "python",
   "nbconvert_exporter": "python",
   "pygments_lexer": "ipython2",
   "version": "2.7.6"
  }
 },
 "nbformat": 4,
 "nbformat_minor": 0
}
