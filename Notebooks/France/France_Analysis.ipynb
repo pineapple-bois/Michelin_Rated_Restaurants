{
 "cells": [
  {
   "cell_type": "markdown",
   "source": [
    "# Michelin Rated Restaurants in France - Analysis"
   ],
   "metadata": {
    "collapsed": false
   }
  },
  {
   "cell_type": "code",
   "execution_count": 17,
   "outputs": [],
   "source": [
    "# Module import (comprehensive for entire notebook)\n",
    "import pandas as pd\n",
    "import numpy as np\n",
    "import matplotlib as mpl\n",
    "import matplotlib.pyplot as plt\n",
    "import matplotlib.patches as mpatches\n",
    "import seaborn as sns\n",
    "import geopandas as gpd\n",
    "import mapclassify\n",
    "import folium\n",
    "import branca"
   ],
   "metadata": {
    "collapsed": false,
    "ExecuteTime": {
     "end_time": "2023-08-07T16:39:12.389464Z",
     "start_time": "2023-08-07T16:39:12.380797Z"
    }
   }
  },
  {
   "cell_type": "markdown",
   "source": [
    "Importing the processed data"
   ],
   "metadata": {
    "collapsed": false
   }
  },
  {
   "cell_type": "code",
   "execution_count": 18,
   "outputs": [],
   "source": [
    "# All restaurants\n",
    "all_france = pd.read_csv(\"../../data/France/all_restaurants.csv\")"
   ],
   "metadata": {
    "collapsed": false,
    "ExecuteTime": {
     "end_time": "2023-08-07T16:39:14.640658Z",
     "start_time": "2023-08-07T16:39:14.622415Z"
    }
   }
  },
  {
   "cell_type": "code",
   "execution_count": 19,
   "outputs": [],
   "source": [
    "# We define Paris, 75\n",
    "paris = all_france[all_france['city'] == 'Paris']\n",
    "\n",
    "# Everything but Paris\n",
    "rest_of_france = all_france[all_france['city'] != 'Paris']"
   ],
   "metadata": {
    "collapsed": false,
    "ExecuteTime": {
     "end_time": "2023-08-07T16:39:16.445873Z",
     "start_time": "2023-08-07T16:39:16.442542Z"
    }
   }
  },
  {
   "cell_type": "markdown",
   "source": [
    "----\n",
    "&nbsp;\n",
    "#### Michelin Rated Restaurants Information"
   ],
   "metadata": {
    "collapsed": false
   }
  },
  {
   "cell_type": "code",
   "execution_count": 20,
   "outputs": [],
   "source": [
    "def dataframe_info(data):\n",
    "    print(f\"Unique Departments: {data['department'].nunique()}\")\n",
    "    print(f\"Unique Cities: {data['city'].nunique()}\")\n",
    "    print(f\"Shape: {data.shape}\")\n",
    "    display(data.head(3))"
   ],
   "metadata": {
    "collapsed": false,
    "ExecuteTime": {
     "end_time": "2023-08-07T16:39:19.980129Z",
     "start_time": "2023-08-07T16:39:19.973899Z"
    }
   }
  },
  {
   "cell_type": "code",
   "execution_count": 21,
   "outputs": [
    {
     "name": "stdout",
     "output_type": "stream",
     "text": [
      "Unique Departments: 92\n",
      "Unique Cities: 617\n",
      "Shape: (1033, 15)\n"
     ]
    },
    {
     "data": {
      "text/plain": "                                     name  \\\n0  La Vague d'Or - Cheval Blanc St-Tropez   \n1                 René et Maxime Meilleur   \n2                                     Kei   \n\n                                             address  \\\n0  Plage de la Bouillabaisse, Saint-Tropez, 83990...   \n1  Hameau de  Saint-Marcel, Saint-Martin-de-Belle...   \n2           5 rue du Coq-Héron, Paris, 75001, France   \n\n                         city department_num department  \\\n0                Saint-Tropez             83        Var   \n1  Saint-Martin-de-Belleville             73     Savoie   \n2                       Paris             75      Paris   \n\n                       region country price  price_num  \\\n0  Provence-Alpes-Côte d'Azur  France  €€€€          4   \n1        Auvergne-Rhône-Alpes  France  €€€€          4   \n2               Île-de-France  France  €€€€          4   \n\n                      cuisine  \\\n0    Creative, Modern Cuisine   \n1  Creative, Regional Cuisine   \n2    Modern Cuisine, Creative   \n\n                                                url             award  stars  \\\n0  https://www.chevalblanc.com/fr/maison/st-tropez/  3 MICHELIN Stars    3.0   \n1                    https://www.la-bouitte.com/fr/  3 MICHELIN Stars    3.0   \n2                    https://www.restaurant-kei.fr/  3 MICHELIN Stars    3.0   \n\n   longitude   latitude  \n0   6.626154  43.266585  \n1   6.513306  45.369046  \n2   2.342285  48.864395  ",
      "text/html": "<div>\n<style scoped>\n    .dataframe tbody tr th:only-of-type {\n        vertical-align: middle;\n    }\n\n    .dataframe tbody tr th {\n        vertical-align: top;\n    }\n\n    .dataframe thead th {\n        text-align: right;\n    }\n</style>\n<table border=\"1\" class=\"dataframe\">\n  <thead>\n    <tr style=\"text-align: right;\">\n      <th></th>\n      <th>name</th>\n      <th>address</th>\n      <th>city</th>\n      <th>department_num</th>\n      <th>department</th>\n      <th>region</th>\n      <th>country</th>\n      <th>price</th>\n      <th>price_num</th>\n      <th>cuisine</th>\n      <th>url</th>\n      <th>award</th>\n      <th>stars</th>\n      <th>longitude</th>\n      <th>latitude</th>\n    </tr>\n  </thead>\n  <tbody>\n    <tr>\n      <th>0</th>\n      <td>La Vague d'Or - Cheval Blanc St-Tropez</td>\n      <td>Plage de la Bouillabaisse, Saint-Tropez, 83990...</td>\n      <td>Saint-Tropez</td>\n      <td>83</td>\n      <td>Var</td>\n      <td>Provence-Alpes-Côte d'Azur</td>\n      <td>France</td>\n      <td>€€€€</td>\n      <td>4</td>\n      <td>Creative, Modern Cuisine</td>\n      <td>https://www.chevalblanc.com/fr/maison/st-tropez/</td>\n      <td>3 MICHELIN Stars</td>\n      <td>3.0</td>\n      <td>6.626154</td>\n      <td>43.266585</td>\n    </tr>\n    <tr>\n      <th>1</th>\n      <td>René et Maxime Meilleur</td>\n      <td>Hameau de  Saint-Marcel, Saint-Martin-de-Belle...</td>\n      <td>Saint-Martin-de-Belleville</td>\n      <td>73</td>\n      <td>Savoie</td>\n      <td>Auvergne-Rhône-Alpes</td>\n      <td>France</td>\n      <td>€€€€</td>\n      <td>4</td>\n      <td>Creative, Regional Cuisine</td>\n      <td>https://www.la-bouitte.com/fr/</td>\n      <td>3 MICHELIN Stars</td>\n      <td>3.0</td>\n      <td>6.513306</td>\n      <td>45.369046</td>\n    </tr>\n    <tr>\n      <th>2</th>\n      <td>Kei</td>\n      <td>5 rue du Coq-Héron, Paris, 75001, France</td>\n      <td>Paris</td>\n      <td>75</td>\n      <td>Paris</td>\n      <td>Île-de-France</td>\n      <td>France</td>\n      <td>€€€€</td>\n      <td>4</td>\n      <td>Modern Cuisine, Creative</td>\n      <td>https://www.restaurant-kei.fr/</td>\n      <td>3 MICHELIN Stars</td>\n      <td>3.0</td>\n      <td>2.342285</td>\n      <td>48.864395</td>\n    </tr>\n  </tbody>\n</table>\n</div>"
     },
     "metadata": {},
     "output_type": "display_data"
    }
   ],
   "source": [
    "dataframe_info(all_france)"
   ],
   "metadata": {
    "collapsed": false,
    "ExecuteTime": {
     "end_time": "2023-08-07T16:39:22.358807Z",
     "start_time": "2023-08-07T16:39:22.336353Z"
    }
   }
  },
  {
   "cell_type": "code",
   "execution_count": 22,
   "outputs": [
    {
     "name": "stdout",
     "output_type": "stream",
     "text": [
      "Unique Departments: 1\n",
      "Unique Cities: 1\n",
      "Shape: (159, 15)\n"
     ]
    },
    {
     "data": {
      "text/plain": "              name                                            address   city  \\\n2              Kei           5 rue du Coq-Héron, Paris, 75001, France  Paris   \n11  Le Pré Catelan  Route de Suresnes - bois de Boulogne, Paris, 7...  Paris   \n13         Épicure  Le Bristol, 112 rue du Faubourg-Saint-Honoré, ...  Paris   \n\n   department_num department         region country price  price_num  \\\n2              75      Paris  Île-de-France  France  €€€€          4   \n11             75      Paris  Île-de-France  France  €€€€          4   \n13             75      Paris  Île-de-France  France  €€€€          4   \n\n                            cuisine  \\\n2          Modern Cuisine, Creative   \n11  Modern Cuisine, Classic Cuisine   \n13                   Modern Cuisine   \n\n                                                  url             award  \\\n2                      https://www.restaurant-kei.fr/  3 MICHELIN Stars   \n11                      https://www.leprecatelan.com/  3 MICHELIN Stars   \n13  https://www.oetkercollection.com/fr/hotels/le-...  3 MICHELIN Stars   \n\n    stars  longitude   latitude  \n2     3.0   2.342285  48.864395  \n11    3.0   2.250718  48.863937  \n13    3.0   2.314625  48.871762  ",
      "text/html": "<div>\n<style scoped>\n    .dataframe tbody tr th:only-of-type {\n        vertical-align: middle;\n    }\n\n    .dataframe tbody tr th {\n        vertical-align: top;\n    }\n\n    .dataframe thead th {\n        text-align: right;\n    }\n</style>\n<table border=\"1\" class=\"dataframe\">\n  <thead>\n    <tr style=\"text-align: right;\">\n      <th></th>\n      <th>name</th>\n      <th>address</th>\n      <th>city</th>\n      <th>department_num</th>\n      <th>department</th>\n      <th>region</th>\n      <th>country</th>\n      <th>price</th>\n      <th>price_num</th>\n      <th>cuisine</th>\n      <th>url</th>\n      <th>award</th>\n      <th>stars</th>\n      <th>longitude</th>\n      <th>latitude</th>\n    </tr>\n  </thead>\n  <tbody>\n    <tr>\n      <th>2</th>\n      <td>Kei</td>\n      <td>5 rue du Coq-Héron, Paris, 75001, France</td>\n      <td>Paris</td>\n      <td>75</td>\n      <td>Paris</td>\n      <td>Île-de-France</td>\n      <td>France</td>\n      <td>€€€€</td>\n      <td>4</td>\n      <td>Modern Cuisine, Creative</td>\n      <td>https://www.restaurant-kei.fr/</td>\n      <td>3 MICHELIN Stars</td>\n      <td>3.0</td>\n      <td>2.342285</td>\n      <td>48.864395</td>\n    </tr>\n    <tr>\n      <th>11</th>\n      <td>Le Pré Catelan</td>\n      <td>Route de Suresnes - bois de Boulogne, Paris, 7...</td>\n      <td>Paris</td>\n      <td>75</td>\n      <td>Paris</td>\n      <td>Île-de-France</td>\n      <td>France</td>\n      <td>€€€€</td>\n      <td>4</td>\n      <td>Modern Cuisine, Classic Cuisine</td>\n      <td>https://www.leprecatelan.com/</td>\n      <td>3 MICHELIN Stars</td>\n      <td>3.0</td>\n      <td>2.250718</td>\n      <td>48.863937</td>\n    </tr>\n    <tr>\n      <th>13</th>\n      <td>Épicure</td>\n      <td>Le Bristol, 112 rue du Faubourg-Saint-Honoré, ...</td>\n      <td>Paris</td>\n      <td>75</td>\n      <td>Paris</td>\n      <td>Île-de-France</td>\n      <td>France</td>\n      <td>€€€€</td>\n      <td>4</td>\n      <td>Modern Cuisine</td>\n      <td>https://www.oetkercollection.com/fr/hotels/le-...</td>\n      <td>3 MICHELIN Stars</td>\n      <td>3.0</td>\n      <td>2.314625</td>\n      <td>48.871762</td>\n    </tr>\n  </tbody>\n</table>\n</div>"
     },
     "metadata": {},
     "output_type": "display_data"
    }
   ],
   "source": [
    "dataframe_info(paris)"
   ],
   "metadata": {
    "collapsed": false,
    "ExecuteTime": {
     "end_time": "2023-08-07T16:39:24.518492Z",
     "start_time": "2023-08-07T16:39:24.510852Z"
    }
   }
  },
  {
   "cell_type": "markdown",
   "source": [
    "----\n",
    "&nbsp;\n",
    "## Analysis of Michelin Stars by department and region"
   ],
   "metadata": {
    "collapsed": false
   }
  },
  {
   "cell_type": "markdown",
   "source": [
    "### `top_restaurants_by_department` function\n",
    "\n",
    "Imported below and defined in `functions.py`, this function analyses a dataset of restaurants and outputs the top $n$ departments with the highest count of restaurants with a specified Michelin star rating.\n",
    "\n",
    "Usage:\n",
    "```python\n",
    "top_restaurants_by_department(data, star_rating, top_n, display_restaurants=True)\n",
    "```\n",
    "----\n",
    "&nbsp;\n",
    "`data` is a pandas DataFrame that contains restaurant information. It expects the following columns: 'department', 'stars', 'name', 'city', and 'department_num'.\n",
    "\n",
    "`star_rating` is an integer (1, 2, or 3) specifying the Michelin star rating of interest.\n",
    "\n",
    "`top_n` is an integer specifying the number of departments to consider.\n",
    "\n",
    "`display_restaurants` is an optional boolean flag (default: True), Prints the name and city.\n",
    "\n",
    "`display_info` is an optional boolean flag (default: False). Prints style of cuisine and url"
   ],
   "metadata": {
    "collapsed": false
   }
  },
  {
   "cell_type": "code",
   "execution_count": 31,
   "outputs": [],
   "source": [
    "from functions import top_restaurants_by_department"
   ],
   "metadata": {
    "collapsed": false,
    "ExecuteTime": {
     "end_time": "2023-08-07T16:41:25.113337Z",
     "start_time": "2023-08-07T16:41:25.109648Z"
    }
   }
  },
  {
   "cell_type": "markdown",
   "source": [
    "Top 3 departments by three star restaurants"
   ],
   "metadata": {
    "collapsed": false
   }
  },
  {
   "cell_type": "code",
   "execution_count": 42,
   "metadata": {
    "collapsed": true,
    "ExecuteTime": {
     "end_time": "2023-08-07T16:55:24.784670Z",
     "start_time": "2023-08-07T16:55:24.773870Z"
    }
   },
   "outputs": [
    {
     "name": "stdout",
     "output_type": "stream",
     "text": [
      "Top 3 departments with most ⭐⭐⭐ restaurants:\n",
      "\n",
      "\n",
      "Department: Bouches-du-Rhône (13)\n",
      "4 ⭐⭐⭐ Restaurants\n",
      "\n",
      "Restaurant: AM par Alexandre Mazzia\n",
      "Location: Marseille\n",
      "Style of Cuisine: Creative\n",
      "URL: https://www.alexandre-mazzia.com/\n",
      "\n",
      "Restaurant: Le Petit Nice\n",
      "Location: Marseille\n",
      "Style of Cuisine: Seafood\n",
      "URL: https://www.passedat.fr\n",
      "\n",
      "Restaurant: La Villa Madie\n",
      "Location: Cassis\n",
      "Style of Cuisine: Creative, Mediterranean Cuisine\n",
      "URL: https://lavillamadie.com/\n",
      "\n",
      "Restaurant: L'Oustau de Baumanière\n",
      "Location: Les Baux-de-Provence\n",
      "Style of Cuisine: Creative\n",
      "URL: https://www.baumaniere.com/\n",
      "\n",
      "\n",
      "\n",
      "Department: Haute-Savoie (74)\n",
      "2 ⭐⭐⭐ Restaurants\n",
      "\n",
      "Restaurant: Flocons de Sel\n",
      "Location: Megève\n",
      "Style of Cuisine: Modern Cuisine\n",
      "URL: https://www.floconsdesel.com/fr/\n",
      "\n",
      "Restaurant: Le Clos des Sens\n",
      "Location: Annecy\n",
      "Style of Cuisine: Creative\n",
      "URL: https://www.closdessens.com/\n",
      "\n",
      "\n",
      "\n",
      "Department: Savoie (73)\n",
      "2 ⭐⭐⭐ Restaurants\n",
      "\n",
      "Restaurant: Le 1947 à Cheval Blanc\n",
      "Location: Courchevel\n",
      "Style of Cuisine: Creative\n",
      "URL: https://www.chevalblanc.com/fr/maison/courchevel/\n",
      "\n",
      "Restaurant: René et Maxime Meilleur\n",
      "Location: Saint-Martin-de-Belleville\n",
      "Style of Cuisine: Creative, Regional Cuisine\n",
      "URL: https://www.la-bouitte.com/fr/\n",
      "\n",
      "\n",
      "\n"
     ]
    }
   ],
   "source": [
    "# excludes Paris\n",
    "top_restaurants_by_department(rest_of_france, 3, 3, display_info=True)"
   ]
  },
  {
   "cell_type": "code",
   "execution_count": 33,
   "outputs": [
    {
     "name": "stdout",
     "output_type": "stream",
     "text": [
      "⭐⭐⭐ Restaurants in Paris\n",
      "\n",
      "Department: Paris (75)\n",
      "9 ⭐⭐⭐ Restaurants\n",
      "\n",
      "Restaurant: Kei\n",
      "Location: Paris\n",
      "Style of Cuisine: Modern Cuisine, Creative\n",
      "URL: https://www.restaurant-kei.fr/\n",
      "\n",
      "Restaurant: Le Pré Catelan\n",
      "Location: Paris\n",
      "Style of Cuisine: Modern Cuisine, Classic Cuisine\n",
      "URL: https://www.leprecatelan.com/\n",
      "\n",
      "Restaurant: Épicure\n",
      "Location: Paris\n",
      "Style of Cuisine: Modern Cuisine\n",
      "URL: https://www.oetkercollection.com/fr/hotels/le-bristol-paris/restaurants-et-bar/epicure/\n",
      "\n",
      "Restaurant: Arpège\n",
      "Location: Paris\n",
      "Style of Cuisine: Creative\n",
      "URL: https://www.alain-passard.com/\n",
      "\n",
      "Restaurant: L'Ambroisie\n",
      "Location: Paris\n",
      "Style of Cuisine: Classic Cuisine\n",
      "URL: https://www.ambroisie-paris.com/\n",
      "\n",
      "Restaurant: Le Cinq\n",
      "Location: Paris\n",
      "Style of Cuisine: Modern Cuisine\n",
      "URL: https://www.fourseasons.com\n",
      "\n",
      "Restaurant: Plénitude - Cheval Blanc Paris\n",
      "Location: Paris\n",
      "Style of Cuisine: Creative\n",
      "URL: https://www.chevalblanc.com/fr/maison/paris/\n",
      "\n",
      "Restaurant: Pierre Gagnaire\n",
      "Location: Paris\n",
      "Style of Cuisine: Creative\n",
      "URL: http://www.pierregagnaire.com/restaurants/pierre_gagnaire\n",
      "\n",
      "Restaurant: Alléno Paris au Pavillon Ledoyen\n",
      "Location: Paris\n",
      "Style of Cuisine: Creative\n",
      "URL: https://www.yannick-alleno.com\n",
      "\n",
      "\n",
      "\n"
     ]
    }
   ],
   "source": [
    "# We specify 'top5' however, the paris dataset has 1 department; 75\n",
    "top_restaurants_by_department(paris, 3, 5, display_info=True)"
   ],
   "metadata": {
    "collapsed": false,
    "ExecuteTime": {
     "end_time": "2023-08-07T16:41:32.432438Z",
     "start_time": "2023-08-07T16:41:32.427140Z"
    }
   }
  },
  {
   "cell_type": "markdown",
   "source": [
    "### `top_restaurants_by_region` function\n",
    "\n",
    "Again, defined in `functions.py`, it analyses a dataset of restaurants and outputs the top $n$ departments with the highest count of restaurants with a specified Michelin star rating. This iteration allows the argument 'all' for `star_rating` and `top_n`"
   ],
   "metadata": {
    "collapsed": false
   }
  },
  {
   "cell_type": "code",
   "execution_count": 34,
   "outputs": [],
   "source": [
    "from functions import top_restaurants_by_region"
   ],
   "metadata": {
    "collapsed": false,
    "ExecuteTime": {
     "end_time": "2023-08-07T16:41:37.908850Z",
     "start_time": "2023-08-07T16:41:37.904316Z"
    }
   }
  },
  {
   "cell_type": "code",
   "execution_count": 35,
   "outputs": [
    {
     "name": "stdout",
     "output_type": "stream",
     "text": [
      "Top 5 regions with most starred restaurants:\n",
      "\n",
      "\n",
      "Region: Auvergne-Rhône-Alpes\n",
      "95 Starred Restaurants\n",
      "\n",
      "8 ⭐⭐⭐ Restaurants\n",
      "\n",
      "15 ⭐⭐ Restaurants\n",
      "\n",
      "72 ⭐ Restaurants\n",
      "\n",
      "\n",
      "\n",
      "Region: Provence-Alpes-Côte d'Azur\n",
      "77 Starred Restaurants\n",
      "\n",
      "6 ⭐⭐⭐ Restaurants\n",
      "\n",
      "5 ⭐⭐ Restaurants\n",
      "\n",
      "66 ⭐ Restaurants\n",
      "\n",
      "\n",
      "\n",
      "Region: Nouvelle-Aquitaine\n",
      "57 Starred Restaurants\n",
      "\n",
      "1 ⭐⭐⭐ Restaurant\n",
      "\n",
      "7 ⭐⭐ Restaurants\n",
      "\n",
      "49 ⭐ Restaurants\n",
      "\n",
      "\n",
      "\n",
      "Region: Grand Est\n",
      "51 Starred Restaurants\n",
      "\n",
      "1 ⭐⭐⭐ Restaurant\n",
      "\n",
      "9 ⭐⭐ Restaurants\n",
      "\n",
      "41 ⭐ Restaurants\n",
      "\n",
      "\n",
      "\n",
      "Region: Occitanie\n",
      "49 Starred Restaurants\n",
      "\n",
      "1 ⭐⭐⭐ Restaurant\n",
      "\n",
      "8 ⭐⭐ Restaurants\n",
      "\n",
      "40 ⭐ Restaurants\n",
      "\n",
      "\n",
      "\n"
     ]
    }
   ],
   "source": [
    "# For brevity, the display_restaurants flag is set False\n",
    "# Using 'all' parameter for star_rating\n",
    "top_restaurants_by_region(rest_of_france, 'all', 5, display_restaurants=False)"
   ],
   "metadata": {
    "collapsed": false,
    "ExecuteTime": {
     "end_time": "2023-08-07T16:41:39.702089Z",
     "start_time": "2023-08-07T16:41:39.672603Z"
    }
   }
  },
  {
   "cell_type": "markdown",
   "source": [
    "----\n",
    "&nbsp;\n",
    "## Geographical Data Analysis"
   ],
   "metadata": {
    "collapsed": false
   }
  },
  {
   "cell_type": "markdown",
   "source": [
    "Importing data"
   ],
   "metadata": {
    "collapsed": false
   }
  },
  {
   "cell_type": "code",
   "execution_count": 38,
   "outputs": [
    {
     "name": "stdout",
     "output_type": "stream",
     "text": [
      "Departments: 96\n"
     ]
    },
    {
     "data": {
      "text/plain": "  code                                           geometry  \\\n0   01  POLYGON ((4.78021 46.17668, 4.78024 46.18905, ...   \n1   02  POLYGON ((3.17296 50.01131, 3.17382 50.01186, ...   \n2   03  POLYGON ((3.03207 46.79491, 3.03424 46.7908, 3...   \n3   04  POLYGON ((5.67604 44.19143, 5.67817 44.19051, ...   \n4   05  POLYGON ((6.26057 45.12685, 6.26417 45.12641, ...   \n\n                department                      region  bib_gourmand  1_star  \\\n0                      Ain        Auvergne-Rhône-Alpes             6       4   \n1                    Aisne             Hauts-de-France             0       0   \n2                   Allier        Auvergne-Rhône-Alpes             4       2   \n3  Alpes-de-Haute-Provence  Provence-Alpes-Côte d'Azur             1       3   \n4             Hautes-Alpes  Provence-Alpes-Côte d'Azur             2       1   \n\n   2_star  3_star  total_stars  total_restaurants  population  \\\n0       0       1            7                 11      652432   \n1       0       0            0                  0      531345   \n2       0       0            2                  6      335975   \n3       0       0            3                  4      164308   \n4       0       0            1                  3      141220   \n\n   population_density(pop/area)  area(sq_km)  \\\n0                         114.2      5713.06   \n1                          71.9      7390.06   \n2                          45.7      7351.75   \n3                          23.9      6874.81   \n4                          25.3      5581.82   \n\n                                           locations  \n0  {1: [(46.3626315, 6.0258533), (46.0070045, 5.3...  \n1                        {1: None, 2: None, 3: None}  \n2  {1: [(46.1246273, 3.4192286), (46.3233297, 2.6...  \n3  {1: [(43.8303211, 5.7973728), (44.0930379, 6.0...  \n4   {1: [(44.7067072, 6.6078486)], 2: None, 3: None}  ",
      "text/html": "<div>\n<style scoped>\n    .dataframe tbody tr th:only-of-type {\n        vertical-align: middle;\n    }\n\n    .dataframe tbody tr th {\n        vertical-align: top;\n    }\n\n    .dataframe thead th {\n        text-align: right;\n    }\n</style>\n<table border=\"1\" class=\"dataframe\">\n  <thead>\n    <tr style=\"text-align: right;\">\n      <th></th>\n      <th>code</th>\n      <th>geometry</th>\n      <th>department</th>\n      <th>region</th>\n      <th>bib_gourmand</th>\n      <th>1_star</th>\n      <th>2_star</th>\n      <th>3_star</th>\n      <th>total_stars</th>\n      <th>total_restaurants</th>\n      <th>population</th>\n      <th>population_density(pop/area)</th>\n      <th>area(sq_km)</th>\n      <th>locations</th>\n    </tr>\n  </thead>\n  <tbody>\n    <tr>\n      <th>0</th>\n      <td>01</td>\n      <td>POLYGON ((4.78021 46.17668, 4.78024 46.18905, ...</td>\n      <td>Ain</td>\n      <td>Auvergne-Rhône-Alpes</td>\n      <td>6</td>\n      <td>4</td>\n      <td>0</td>\n      <td>1</td>\n      <td>7</td>\n      <td>11</td>\n      <td>652432</td>\n      <td>114.2</td>\n      <td>5713.06</td>\n      <td>{1: [(46.3626315, 6.0258533), (46.0070045, 5.3...</td>\n    </tr>\n    <tr>\n      <th>1</th>\n      <td>02</td>\n      <td>POLYGON ((3.17296 50.01131, 3.17382 50.01186, ...</td>\n      <td>Aisne</td>\n      <td>Hauts-de-France</td>\n      <td>0</td>\n      <td>0</td>\n      <td>0</td>\n      <td>0</td>\n      <td>0</td>\n      <td>0</td>\n      <td>531345</td>\n      <td>71.9</td>\n      <td>7390.06</td>\n      <td>{1: None, 2: None, 3: None}</td>\n    </tr>\n    <tr>\n      <th>2</th>\n      <td>03</td>\n      <td>POLYGON ((3.03207 46.79491, 3.03424 46.7908, 3...</td>\n      <td>Allier</td>\n      <td>Auvergne-Rhône-Alpes</td>\n      <td>4</td>\n      <td>2</td>\n      <td>0</td>\n      <td>0</td>\n      <td>2</td>\n      <td>6</td>\n      <td>335975</td>\n      <td>45.7</td>\n      <td>7351.75</td>\n      <td>{1: [(46.1246273, 3.4192286), (46.3233297, 2.6...</td>\n    </tr>\n    <tr>\n      <th>3</th>\n      <td>04</td>\n      <td>POLYGON ((5.67604 44.19143, 5.67817 44.19051, ...</td>\n      <td>Alpes-de-Haute-Provence</td>\n      <td>Provence-Alpes-Côte d'Azur</td>\n      <td>1</td>\n      <td>3</td>\n      <td>0</td>\n      <td>0</td>\n      <td>3</td>\n      <td>4</td>\n      <td>164308</td>\n      <td>23.9</td>\n      <td>6874.81</td>\n      <td>{1: [(43.8303211, 5.7973728), (44.0930379, 6.0...</td>\n    </tr>\n    <tr>\n      <th>4</th>\n      <td>05</td>\n      <td>POLYGON ((6.26057 45.12685, 6.26417 45.12641, ...</td>\n      <td>Hautes-Alpes</td>\n      <td>Provence-Alpes-Côte d'Azur</td>\n      <td>2</td>\n      <td>1</td>\n      <td>0</td>\n      <td>0</td>\n      <td>1</td>\n      <td>3</td>\n      <td>141220</td>\n      <td>25.3</td>\n      <td>5581.82</td>\n      <td>{1: [(44.7067072, 6.6078486)], 2: None, 3: None}</td>\n    </tr>\n  </tbody>\n</table>\n</div>"
     },
     "execution_count": 38,
     "metadata": {},
     "output_type": "execute_result"
    }
   ],
   "source": [
    "departments = pd.read_csv(\"../../data/France/department_restaurants.csv\")\n",
    "print(f\"Departments: {departments.shape[0]}\")\n",
    "departments.head()"
   ],
   "metadata": {
    "collapsed": false,
    "ExecuteTime": {
     "end_time": "2023-08-07T16:49:00.545466Z",
     "start_time": "2023-08-07T16:49:00.491538Z"
    }
   }
  },
  {
   "cell_type": "code",
   "execution_count": 39,
   "outputs": [
    {
     "name": "stdout",
     "output_type": "stream",
     "text": [
      "Regions: 13\n"
     ]
    },
    {
     "data": {
      "text/plain": "                                            geometry                   region  \\\n0  POLYGON ((2.5905242793946224 49.07965484673242...            Île-de-France   \n1  POLYGON ((2.8746252064056805 47.52042311253978...      Centre-Val de Loire   \n2  POLYGON ((3.629423683496518 46.74945902193754,...  Bourgogne-Franche-Comté   \n3  POLYGON ((-1.1196225402660513 49.3555679898469...                Normandie   \n4  POLYGON ((4.047972977986833 49.40564229475753,...          Hauts-de-France   \n\n   bib_gourmand  1_star  2_star  3_star  total_stars  total_restaurants  \\\n0            46     110      15       9          167                180   \n1            23      20       1       0           22                 44   \n2            20      28       6       1           43                 55   \n3            26      20       0       0           20                 46   \n4             9      15       2       0           19                 26   \n\n   population  area(sq_km)  population_density(pop/area)  \\\n0    12262544     11969.29                       1024.50   \n1     2573180     39169.91                         65.69   \n2     2805580     47874.19                         58.60   \n3     3325032     29892.65                        111.23   \n4     6004947     31864.47                        188.45   \n\n                                           locations  \n0  {1: [(48.8652933, 2.3421907), (48.8583566, 2.2...  \n1  {1: [(47.3602993, 1.7438252), (47.641088, 1.44...  \n2  {1: [(46.7127086, 4.6941996), (46.3034378, 4.8...  \n3  {1: [(49.4410412, 1.094415), (48.6468685, -0.5...  \n4  {1: [(50.5221852, 1.5914671), (50.6752627, 3.0...  ",
      "text/html": "<div>\n<style scoped>\n    .dataframe tbody tr th:only-of-type {\n        vertical-align: middle;\n    }\n\n    .dataframe tbody tr th {\n        vertical-align: top;\n    }\n\n    .dataframe thead th {\n        text-align: right;\n    }\n</style>\n<table border=\"1\" class=\"dataframe\">\n  <thead>\n    <tr style=\"text-align: right;\">\n      <th></th>\n      <th>geometry</th>\n      <th>region</th>\n      <th>bib_gourmand</th>\n      <th>1_star</th>\n      <th>2_star</th>\n      <th>3_star</th>\n      <th>total_stars</th>\n      <th>total_restaurants</th>\n      <th>population</th>\n      <th>area(sq_km)</th>\n      <th>population_density(pop/area)</th>\n      <th>locations</th>\n    </tr>\n  </thead>\n  <tbody>\n    <tr>\n      <th>0</th>\n      <td>POLYGON ((2.5905242793946224 49.07965484673242...</td>\n      <td>Île-de-France</td>\n      <td>46</td>\n      <td>110</td>\n      <td>15</td>\n      <td>9</td>\n      <td>167</td>\n      <td>180</td>\n      <td>12262544</td>\n      <td>11969.29</td>\n      <td>1024.50</td>\n      <td>{1: [(48.8652933, 2.3421907), (48.8583566, 2.2...</td>\n    </tr>\n    <tr>\n      <th>1</th>\n      <td>POLYGON ((2.8746252064056805 47.52042311253978...</td>\n      <td>Centre-Val de Loire</td>\n      <td>23</td>\n      <td>20</td>\n      <td>1</td>\n      <td>0</td>\n      <td>22</td>\n      <td>44</td>\n      <td>2573180</td>\n      <td>39169.91</td>\n      <td>65.69</td>\n      <td>{1: [(47.3602993, 1.7438252), (47.641088, 1.44...</td>\n    </tr>\n    <tr>\n      <th>2</th>\n      <td>POLYGON ((3.629423683496518 46.74945902193754,...</td>\n      <td>Bourgogne-Franche-Comté</td>\n      <td>20</td>\n      <td>28</td>\n      <td>6</td>\n      <td>1</td>\n      <td>43</td>\n      <td>55</td>\n      <td>2805580</td>\n      <td>47874.19</td>\n      <td>58.60</td>\n      <td>{1: [(46.7127086, 4.6941996), (46.3034378, 4.8...</td>\n    </tr>\n    <tr>\n      <th>3</th>\n      <td>POLYGON ((-1.1196225402660513 49.3555679898469...</td>\n      <td>Normandie</td>\n      <td>26</td>\n      <td>20</td>\n      <td>0</td>\n      <td>0</td>\n      <td>20</td>\n      <td>46</td>\n      <td>3325032</td>\n      <td>29892.65</td>\n      <td>111.23</td>\n      <td>{1: [(49.4410412, 1.094415), (48.6468685, -0.5...</td>\n    </tr>\n    <tr>\n      <th>4</th>\n      <td>POLYGON ((4.047972977986833 49.40564229475753,...</td>\n      <td>Hauts-de-France</td>\n      <td>9</td>\n      <td>15</td>\n      <td>2</td>\n      <td>0</td>\n      <td>19</td>\n      <td>26</td>\n      <td>6004947</td>\n      <td>31864.47</td>\n      <td>188.45</td>\n      <td>{1: [(50.5221852, 1.5914671), (50.6752627, 3.0...</td>\n    </tr>\n  </tbody>\n</table>\n</div>"
     },
     "execution_count": 39,
     "metadata": {},
     "output_type": "execute_result"
    }
   ],
   "source": [
    "regions = pd.read_csv(\"../../data/France/region_restaurants.csv\")\n",
    "print(f\"Regions: {regions.shape[0]}\")\n",
    "regions.head()"
   ],
   "metadata": {
    "collapsed": false,
    "ExecuteTime": {
     "end_time": "2023-08-07T16:49:10.173939Z",
     "start_time": "2023-08-07T16:49:10.149803Z"
    }
   }
  },
  {
   "cell_type": "code",
   "execution_count": null,
   "outputs": [],
   "source": [],
   "metadata": {
    "collapsed": false
   }
  }
 ],
 "metadata": {
  "kernelspec": {
   "display_name": "Python 3",
   "language": "python",
   "name": "python3"
  },
  "language_info": {
   "codemirror_mode": {
    "name": "ipython",
    "version": 2
   },
   "file_extension": ".py",
   "mimetype": "text/x-python",
   "name": "python",
   "nbconvert_exporter": "python",
   "pygments_lexer": "ipython2",
   "version": "2.7.6"
  }
 },
 "nbformat": 4,
 "nbformat_minor": 0
}
