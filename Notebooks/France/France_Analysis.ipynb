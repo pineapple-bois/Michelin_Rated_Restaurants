{
 "cells": [
  {
   "cell_type": "markdown",
   "source": [
    "# Michelin Rated Restaurants in France - Analysis"
   ],
   "metadata": {
    "collapsed": false
   }
  },
  {
   "cell_type": "code",
   "execution_count": 1,
   "outputs": [],
   "source": [
    "# Module import (comprehensive for entire notebook)\n",
    "import pandas as pd\n",
    "import numpy as np\n",
    "import matplotlib as mpl\n",
    "import matplotlib.pyplot as plt\n",
    "import matplotlib.patches as mpatches\n",
    "import seaborn as sns\n",
    "import geopandas as gpd\n",
    "import mapclassify\n",
    "import folium\n",
    "import branca"
   ],
   "metadata": {
    "collapsed": false,
    "ExecuteTime": {
     "end_time": "2023-08-07T16:23:07.457580Z",
     "start_time": "2023-08-07T16:23:06.739379Z"
    }
   }
  },
  {
   "cell_type": "markdown",
   "source": [
    "Importing the processed data"
   ],
   "metadata": {
    "collapsed": false
   }
  },
  {
   "cell_type": "code",
   "execution_count": 2,
   "outputs": [],
   "source": [
    "# All restaurants\n",
    "all_france = pd.read_csv(\"../../data/France/all_restaurants.csv\")"
   ],
   "metadata": {
    "collapsed": false,
    "ExecuteTime": {
     "end_time": "2023-08-07T16:23:10.388124Z",
     "start_time": "2023-08-07T16:23:10.370784Z"
    }
   }
  },
  {
   "cell_type": "code",
   "execution_count": 3,
   "outputs": [],
   "source": [
    "# We define Paris, 75\n",
    "paris = all_france[all_france['city'] == 'Paris']\n",
    "\n",
    "# Everything but Paris\n",
    "rest_of_france = all_france[all_france['city'] != 'Paris']"
   ],
   "metadata": {
    "collapsed": false,
    "ExecuteTime": {
     "end_time": "2023-08-07T16:23:12.355730Z",
     "start_time": "2023-08-07T16:23:12.348473Z"
    }
   }
  },
  {
   "cell_type": "markdown",
   "source": [
    "----\n",
    "&nbsp;\n",
    "#### Michelin Rated Restaurants Information"
   ],
   "metadata": {
    "collapsed": false
   }
  },
  {
   "cell_type": "code",
   "execution_count": 4,
   "outputs": [],
   "source": [
    "def dataframe_info(data):\n",
    "    print(f\"Unique Departments: {data['department'].nunique()}\")\n",
    "    print(f\"Unique Cities: {data['city'].nunique()}\")\n",
    "    print(f\"Shape: {data.shape}\")\n",
    "    display(data.head(3))"
   ],
   "metadata": {
    "collapsed": false,
    "ExecuteTime": {
     "end_time": "2023-08-07T16:23:15.157296Z",
     "start_time": "2023-08-07T16:23:15.147711Z"
    }
   }
  },
  {
   "cell_type": "code",
   "execution_count": 5,
   "outputs": [
    {
     "name": "stdout",
     "output_type": "stream",
     "text": [
      "Unique Departments: 92\n",
      "Unique Cities: 617\n",
      "Shape: (1033, 15)\n"
     ]
    },
    {
     "data": {
      "text/plain": "                                     name  \\\n0  La Vague d'Or - Cheval Blanc St-Tropez   \n1                 René et Maxime Meilleur   \n2                                     Kei   \n\n                                             address  \\\n0  Plage de la Bouillabaisse, Saint-Tropez, 83990...   \n1  Hameau de  Saint-Marcel, Saint-Martin-de-Belle...   \n2           5 rue du Coq-Héron, Paris, 75001, France   \n\n                         city department_num department  \\\n0                Saint-Tropez             83        Var   \n1  Saint-Martin-de-Belleville             73     Savoie   \n2                       Paris             75      Paris   \n\n                       region country price  price_num  \\\n0  Provence-Alpes-Côte d'Azur  France  €€€€          4   \n1        Auvergne-Rhône-Alpes  France  €€€€          4   \n2               Île-de-France  France  €€€€          4   \n\n                      cuisine  \\\n0    Creative, Modern Cuisine   \n1  Creative, Regional Cuisine   \n2    Modern Cuisine, Creative   \n\n                                                url             award  stars  \\\n0  https://www.chevalblanc.com/fr/maison/st-tropez/  3 MICHELIN Stars    3.0   \n1                    https://www.la-bouitte.com/fr/  3 MICHELIN Stars    3.0   \n2                    https://www.restaurant-kei.fr/  3 MICHELIN Stars    3.0   \n\n   longitude   latitude  \n0   6.626154  43.266585  \n1   6.513306  45.369046  \n2   2.342285  48.864395  ",
      "text/html": "<div>\n<style scoped>\n    .dataframe tbody tr th:only-of-type {\n        vertical-align: middle;\n    }\n\n    .dataframe tbody tr th {\n        vertical-align: top;\n    }\n\n    .dataframe thead th {\n        text-align: right;\n    }\n</style>\n<table border=\"1\" class=\"dataframe\">\n  <thead>\n    <tr style=\"text-align: right;\">\n      <th></th>\n      <th>name</th>\n      <th>address</th>\n      <th>city</th>\n      <th>department_num</th>\n      <th>department</th>\n      <th>region</th>\n      <th>country</th>\n      <th>price</th>\n      <th>price_num</th>\n      <th>cuisine</th>\n      <th>url</th>\n      <th>award</th>\n      <th>stars</th>\n      <th>longitude</th>\n      <th>latitude</th>\n    </tr>\n  </thead>\n  <tbody>\n    <tr>\n      <th>0</th>\n      <td>La Vague d'Or - Cheval Blanc St-Tropez</td>\n      <td>Plage de la Bouillabaisse, Saint-Tropez, 83990...</td>\n      <td>Saint-Tropez</td>\n      <td>83</td>\n      <td>Var</td>\n      <td>Provence-Alpes-Côte d'Azur</td>\n      <td>France</td>\n      <td>€€€€</td>\n      <td>4</td>\n      <td>Creative, Modern Cuisine</td>\n      <td>https://www.chevalblanc.com/fr/maison/st-tropez/</td>\n      <td>3 MICHELIN Stars</td>\n      <td>3.0</td>\n      <td>6.626154</td>\n      <td>43.266585</td>\n    </tr>\n    <tr>\n      <th>1</th>\n      <td>René et Maxime Meilleur</td>\n      <td>Hameau de  Saint-Marcel, Saint-Martin-de-Belle...</td>\n      <td>Saint-Martin-de-Belleville</td>\n      <td>73</td>\n      <td>Savoie</td>\n      <td>Auvergne-Rhône-Alpes</td>\n      <td>France</td>\n      <td>€€€€</td>\n      <td>4</td>\n      <td>Creative, Regional Cuisine</td>\n      <td>https://www.la-bouitte.com/fr/</td>\n      <td>3 MICHELIN Stars</td>\n      <td>3.0</td>\n      <td>6.513306</td>\n      <td>45.369046</td>\n    </tr>\n    <tr>\n      <th>2</th>\n      <td>Kei</td>\n      <td>5 rue du Coq-Héron, Paris, 75001, France</td>\n      <td>Paris</td>\n      <td>75</td>\n      <td>Paris</td>\n      <td>Île-de-France</td>\n      <td>France</td>\n      <td>€€€€</td>\n      <td>4</td>\n      <td>Modern Cuisine, Creative</td>\n      <td>https://www.restaurant-kei.fr/</td>\n      <td>3 MICHELIN Stars</td>\n      <td>3.0</td>\n      <td>2.342285</td>\n      <td>48.864395</td>\n    </tr>\n  </tbody>\n</table>\n</div>"
     },
     "metadata": {},
     "output_type": "display_data"
    }
   ],
   "source": [
    "dataframe_info(all_france)"
   ],
   "metadata": {
    "collapsed": false,
    "ExecuteTime": {
     "end_time": "2023-08-07T16:23:21.231944Z",
     "start_time": "2023-08-07T16:23:21.193029Z"
    }
   }
  },
  {
   "cell_type": "code",
   "execution_count": 6,
   "outputs": [
    {
     "name": "stdout",
     "output_type": "stream",
     "text": [
      "Unique Departments: 1\n",
      "Unique Cities: 1\n",
      "Shape: (159, 15)\n"
     ]
    },
    {
     "data": {
      "text/plain": "              name                                            address   city  \\\n2              Kei           5 rue du Coq-Héron, Paris, 75001, France  Paris   \n11  Le Pré Catelan  Route de Suresnes - bois de Boulogne, Paris, 7...  Paris   \n13         Épicure  Le Bristol, 112 rue du Faubourg-Saint-Honoré, ...  Paris   \n\n   department_num department         region country price  price_num  \\\n2              75      Paris  Île-de-France  France  €€€€          4   \n11             75      Paris  Île-de-France  France  €€€€          4   \n13             75      Paris  Île-de-France  France  €€€€          4   \n\n                            cuisine  \\\n2          Modern Cuisine, Creative   \n11  Modern Cuisine, Classic Cuisine   \n13                   Modern Cuisine   \n\n                                                  url             award  \\\n2                      https://www.restaurant-kei.fr/  3 MICHELIN Stars   \n11                      https://www.leprecatelan.com/  3 MICHELIN Stars   \n13  https://www.oetkercollection.com/fr/hotels/le-...  3 MICHELIN Stars   \n\n    stars  longitude   latitude  \n2     3.0   2.342285  48.864395  \n11    3.0   2.250718  48.863937  \n13    3.0   2.314625  48.871762  ",
      "text/html": "<div>\n<style scoped>\n    .dataframe tbody tr th:only-of-type {\n        vertical-align: middle;\n    }\n\n    .dataframe tbody tr th {\n        vertical-align: top;\n    }\n\n    .dataframe thead th {\n        text-align: right;\n    }\n</style>\n<table border=\"1\" class=\"dataframe\">\n  <thead>\n    <tr style=\"text-align: right;\">\n      <th></th>\n      <th>name</th>\n      <th>address</th>\n      <th>city</th>\n      <th>department_num</th>\n      <th>department</th>\n      <th>region</th>\n      <th>country</th>\n      <th>price</th>\n      <th>price_num</th>\n      <th>cuisine</th>\n      <th>url</th>\n      <th>award</th>\n      <th>stars</th>\n      <th>longitude</th>\n      <th>latitude</th>\n    </tr>\n  </thead>\n  <tbody>\n    <tr>\n      <th>2</th>\n      <td>Kei</td>\n      <td>5 rue du Coq-Héron, Paris, 75001, France</td>\n      <td>Paris</td>\n      <td>75</td>\n      <td>Paris</td>\n      <td>Île-de-France</td>\n      <td>France</td>\n      <td>€€€€</td>\n      <td>4</td>\n      <td>Modern Cuisine, Creative</td>\n      <td>https://www.restaurant-kei.fr/</td>\n      <td>3 MICHELIN Stars</td>\n      <td>3.0</td>\n      <td>2.342285</td>\n      <td>48.864395</td>\n    </tr>\n    <tr>\n      <th>11</th>\n      <td>Le Pré Catelan</td>\n      <td>Route de Suresnes - bois de Boulogne, Paris, 7...</td>\n      <td>Paris</td>\n      <td>75</td>\n      <td>Paris</td>\n      <td>Île-de-France</td>\n      <td>France</td>\n      <td>€€€€</td>\n      <td>4</td>\n      <td>Modern Cuisine, Classic Cuisine</td>\n      <td>https://www.leprecatelan.com/</td>\n      <td>3 MICHELIN Stars</td>\n      <td>3.0</td>\n      <td>2.250718</td>\n      <td>48.863937</td>\n    </tr>\n    <tr>\n      <th>13</th>\n      <td>Épicure</td>\n      <td>Le Bristol, 112 rue du Faubourg-Saint-Honoré, ...</td>\n      <td>Paris</td>\n      <td>75</td>\n      <td>Paris</td>\n      <td>Île-de-France</td>\n      <td>France</td>\n      <td>€€€€</td>\n      <td>4</td>\n      <td>Modern Cuisine</td>\n      <td>https://www.oetkercollection.com/fr/hotels/le-...</td>\n      <td>3 MICHELIN Stars</td>\n      <td>3.0</td>\n      <td>2.314625</td>\n      <td>48.871762</td>\n    </tr>\n  </tbody>\n</table>\n</div>"
     },
     "metadata": {},
     "output_type": "display_data"
    }
   ],
   "source": [
    "dataframe_info(paris)"
   ],
   "metadata": {
    "collapsed": false,
    "ExecuteTime": {
     "end_time": "2023-08-07T16:23:24.096054Z",
     "start_time": "2023-08-07T16:23:24.064876Z"
    }
   }
  },
  {
   "cell_type": "markdown",
   "source": [
    "----\n",
    "&nbsp;\n",
    "## Analysis of Michelin Stars by department and region"
   ],
   "metadata": {
    "collapsed": false
   }
  },
  {
   "cell_type": "markdown",
   "source": [
    "### `top_restaurants_by_department` function\n",
    "\n",
    "Imported below and defined in `functions.py`, this function analyses a dataset of restaurants and outputs the top $n$ departments with the highest count of restaurants with a specified Michelin star rating.\n",
    "\n",
    "Usage:\n",
    "```python\n",
    "top_restaurants_by_department(data, star_rating, top_n, display_restaurants=True)\n",
    "```\n",
    "----\n",
    "&nbsp;\n",
    "`data` is a pandas DataFrame that contains restaurant information. It expects the following columns: 'department', 'stars', 'name', 'city', and 'department_num'.\n",
    "\n",
    "`star_rating` is an integer (1, 2, or 3) specifying the Michelin star rating of interest.\n",
    "\n",
    "`top_n` is an integer specifying the number of departments to consider.\n",
    "\n",
    "`display_restaurants` is an optional boolean flag (default: True), Prints the name and city.\n",
    "\n",
    "`display_info` is an optional boolean flag (default: False). Prints style of cuisine and url"
   ],
   "metadata": {
    "collapsed": false
   }
  },
  {
   "cell_type": "code",
   "execution_count": 7,
   "outputs": [],
   "source": [
    "from functions import top_restaurants_by_department"
   ],
   "metadata": {
    "collapsed": false,
    "ExecuteTime": {
     "end_time": "2023-08-07T16:23:29.044679Z",
     "start_time": "2023-08-07T16:23:29.040259Z"
    }
   }
  },
  {
   "cell_type": "markdown",
   "source": [
    "Top 3 departments by three star restaurants"
   ],
   "metadata": {
    "collapsed": false
   }
  },
  {
   "cell_type": "code",
   "execution_count": 10,
   "metadata": {
    "collapsed": true,
    "ExecuteTime": {
     "end_time": "2023-08-07T16:23:47.475719Z",
     "start_time": "2023-08-07T16:23:47.463941Z"
    }
   },
   "outputs": [
    {
     "name": "stdout",
     "output_type": "stream",
     "text": [
      "Top 2 departments with most ⭐⭐⭐ restaurants:\n",
      "\n",
      "\n",
      "Department: Bouches-du-Rhône (13)\n",
      "4 ⭐⭐⭐ Restaurants\n",
      "\n",
      "Restaurant: AM par Alexandre Mazzia\n",
      "Location: Marseille\n",
      "Style of Cuisine: Creative\n",
      "URL: https://www.alexandre-mazzia.com/\n",
      "\n",
      "Restaurant: Le Petit Nice\n",
      "Location: Marseille\n",
      "Style of Cuisine: Seafood\n",
      "URL: https://www.passedat.fr\n",
      "\n",
      "Restaurant: La Villa Madie\n",
      "Location: Cassis\n",
      "Style of Cuisine: Creative, Mediterranean Cuisine\n",
      "URL: https://lavillamadie.com/\n",
      "\n",
      "Restaurant: L'Oustau de Baumanière\n",
      "Location: Les Baux-de-Provence\n",
      "Style of Cuisine: Creative\n",
      "URL: https://www.baumaniere.com/\n",
      "\n",
      "\n",
      "\n",
      "Department: Haute-Savoie (74)\n",
      "2 ⭐⭐⭐ Restaurants\n",
      "\n",
      "Restaurant: Flocons de Sel\n",
      "Location: Megève\n",
      "Style of Cuisine: Modern Cuisine\n",
      "URL: https://www.floconsdesel.com/fr/\n",
      "\n",
      "Restaurant: Le Clos des Sens\n",
      "Location: Annecy\n",
      "Style of Cuisine: Creative\n",
      "URL: https://www.closdessens.com/\n",
      "\n",
      "\n",
      "\n"
     ]
    }
   ],
   "source": [
    "# excludes Paris\n",
    "top_restaurants_by_department(rest_of_france, 3, 2, display_info=True)"
   ]
  },
  {
   "cell_type": "code",
   "execution_count": 11,
   "outputs": [
    {
     "name": "stdout",
     "output_type": "stream",
     "text": [
      "⭐⭐⭐ Restaurants in Paris\n",
      "\n",
      "Department: Paris (75)\n",
      "9 ⭐⭐⭐ Restaurants\n",
      "\n",
      "Restaurant: Kei\n",
      "Location: Paris\n",
      "Style of Cuisine: Modern Cuisine, Creative\n",
      "URL: https://www.restaurant-kei.fr/\n",
      "\n",
      "Restaurant: Le Pré Catelan\n",
      "Location: Paris\n",
      "Style of Cuisine: Modern Cuisine, Classic Cuisine\n",
      "URL: https://www.leprecatelan.com/\n",
      "\n",
      "Restaurant: Épicure\n",
      "Location: Paris\n",
      "Style of Cuisine: Modern Cuisine\n",
      "URL: https://www.oetkercollection.com/fr/hotels/le-bristol-paris/restaurants-et-bar/epicure/\n",
      "\n",
      "Restaurant: Arpège\n",
      "Location: Paris\n",
      "Style of Cuisine: Creative\n",
      "URL: https://www.alain-passard.com/\n",
      "\n",
      "Restaurant: L'Ambroisie\n",
      "Location: Paris\n",
      "Style of Cuisine: Classic Cuisine\n",
      "URL: https://www.ambroisie-paris.com/\n",
      "\n",
      "Restaurant: Le Cinq\n",
      "Location: Paris\n",
      "Style of Cuisine: Modern Cuisine\n",
      "URL: https://www.fourseasons.com\n",
      "\n",
      "Restaurant: Plénitude - Cheval Blanc Paris\n",
      "Location: Paris\n",
      "Style of Cuisine: Creative\n",
      "URL: https://www.chevalblanc.com/fr/maison/paris/\n",
      "\n",
      "Restaurant: Pierre Gagnaire\n",
      "Location: Paris\n",
      "Style of Cuisine: Creative\n",
      "URL: http://www.pierregagnaire.com/restaurants/pierre_gagnaire\n",
      "\n",
      "Restaurant: Alléno Paris au Pavillon Ledoyen\n",
      "Location: Paris\n",
      "Style of Cuisine: Creative\n",
      "URL: https://www.yannick-alleno.com\n",
      "\n",
      "\n",
      "\n"
     ]
    }
   ],
   "source": [
    "# We specify 'top5' however, the paris dataset has 1 department; 75\n",
    "top_restaurants_by_department(paris, 3, 5, display_info=True)"
   ],
   "metadata": {
    "collapsed": false,
    "ExecuteTime": {
     "end_time": "2023-08-07T16:24:55.437503Z",
     "start_time": "2023-08-07T16:24:55.418532Z"
    }
   }
  },
  {
   "cell_type": "markdown",
   "source": [
    "### `top_restaurants_by_region` function\n",
    "\n",
    "Again, defined in `functions.py`, it analyses a dataset of restaurants and outputs the top $n$ departments with the highest count of restaurants with a specified Michelin star rating. This iteration allows the argument 'all' for `star_rating`"
   ],
   "metadata": {
    "collapsed": false
   }
  },
  {
   "cell_type": "code",
   "execution_count": 12,
   "outputs": [],
   "source": [
    "from functions import top_restaurants_by_region"
   ],
   "metadata": {
    "collapsed": false,
    "ExecuteTime": {
     "end_time": "2023-08-07T16:25:02.106599Z",
     "start_time": "2023-08-07T16:25:02.102114Z"
    }
   }
  },
  {
   "cell_type": "code",
   "execution_count": 13,
   "outputs": [
    {
     "name": "stdout",
     "output_type": "stream",
     "text": [
      "Top 5 regions with most starred restaurants:\n",
      "\n",
      "\n",
      "Region: Auvergne-Rhône-Alpes\n",
      "95 Starred Restaurants\n",
      "\n",
      "8 ⭐⭐⭐ Restaurants\n",
      "\n",
      "15 ⭐⭐ Restaurants\n",
      "\n",
      "72 ⭐ Restaurants\n",
      "\n",
      "\n",
      "\n",
      "Region: Provence-Alpes-Côte d'Azur\n",
      "77 Starred Restaurants\n",
      "\n",
      "6 ⭐⭐⭐ Restaurants\n",
      "\n",
      "5 ⭐⭐ Restaurants\n",
      "\n",
      "66 ⭐ Restaurants\n",
      "\n",
      "\n",
      "\n",
      "Region: Nouvelle-Aquitaine\n",
      "57 Starred Restaurants\n",
      "\n",
      "1 ⭐⭐⭐ Restaurant\n",
      "\n",
      "7 ⭐⭐ Restaurants\n",
      "\n",
      "49 ⭐ Restaurants\n",
      "\n",
      "\n",
      "\n",
      "Region: Grand Est\n",
      "51 Starred Restaurants\n",
      "\n",
      "1 ⭐⭐⭐ Restaurant\n",
      "\n",
      "9 ⭐⭐ Restaurants\n",
      "\n",
      "41 ⭐ Restaurants\n",
      "\n",
      "\n",
      "\n",
      "Region: Occitanie\n",
      "49 Starred Restaurants\n",
      "\n",
      "1 ⭐⭐⭐ Restaurant\n",
      "\n",
      "8 ⭐⭐ Restaurants\n",
      "\n",
      "40 ⭐ Restaurants\n",
      "\n",
      "\n",
      "\n"
     ]
    }
   ],
   "source": [
    "# For brevity, the display_restaurants flag is set False\n",
    "# Using 'all' parameter\n",
    "top_restaurants_by_region(rest_of_france, 'all', 5, display_restaurants=False)"
   ],
   "metadata": {
    "collapsed": false,
    "ExecuteTime": {
     "end_time": "2023-08-07T16:25:09.651165Z",
     "start_time": "2023-08-07T16:25:09.623425Z"
    }
   }
  },
  {
   "cell_type": "code",
   "execution_count": 14,
   "outputs": [
    {
     "name": "stdout",
     "output_type": "stream",
     "text": [
      "Regions with starred restaurants:\n",
      "\n",
      "\n",
      "Region: Île-de-France\n",
      "134 Starred Restaurants\n",
      "\n",
      "9 ⭐⭐⭐ Restaurants\n",
      "\n",
      "15 ⭐⭐ Restaurants\n",
      "\n",
      "110 ⭐ Restaurants\n",
      "\n",
      "\n",
      "\n",
      "Region: Auvergne-Rhône-Alpes\n",
      "95 Starred Restaurants\n",
      "\n",
      "8 ⭐⭐⭐ Restaurants\n",
      "\n",
      "15 ⭐⭐ Restaurants\n",
      "\n",
      "72 ⭐ Restaurants\n",
      "\n",
      "\n",
      "\n",
      "Region: Provence-Alpes-Côte d'Azur\n",
      "77 Starred Restaurants\n",
      "\n",
      "6 ⭐⭐⭐ Restaurants\n",
      "\n",
      "5 ⭐⭐ Restaurants\n",
      "\n",
      "66 ⭐ Restaurants\n",
      "\n",
      "\n",
      "\n",
      "Region: Nouvelle-Aquitaine\n",
      "57 Starred Restaurants\n",
      "\n",
      "1 ⭐⭐⭐ Restaurant\n",
      "\n",
      "7 ⭐⭐ Restaurants\n",
      "\n",
      "49 ⭐ Restaurants\n",
      "\n",
      "\n",
      "\n",
      "Region: Grand Est\n",
      "51 Starred Restaurants\n",
      "\n",
      "1 ⭐⭐⭐ Restaurant\n",
      "\n",
      "9 ⭐⭐ Restaurants\n",
      "\n",
      "41 ⭐ Restaurants\n",
      "\n",
      "\n",
      "\n",
      "Region: Occitanie\n",
      "49 Starred Restaurants\n",
      "\n",
      "1 ⭐⭐⭐ Restaurant\n",
      "\n",
      "8 ⭐⭐ Restaurants\n",
      "\n",
      "40 ⭐ Restaurants\n",
      "\n",
      "\n",
      "\n",
      "Region: Brittany\n",
      "37 Starred Restaurants\n",
      "\n",
      "2 ⭐⭐ Restaurants\n",
      "\n",
      "35 ⭐ Restaurants\n",
      "\n",
      "\n",
      "\n",
      "Region: Bourgogne-Franche-Comté\n",
      "35 Starred Restaurants\n",
      "\n",
      "1 ⭐⭐⭐ Restaurant\n",
      "\n",
      "6 ⭐⭐ Restaurants\n",
      "\n",
      "28 ⭐ Restaurants\n",
      "\n",
      "\n",
      "\n",
      "Region: Pays de la Loire\n",
      "23 Starred Restaurants\n",
      "\n",
      "1 ⭐⭐⭐ Restaurant\n",
      "\n",
      "1 ⭐⭐ Restaurant\n",
      "\n",
      "21 ⭐ Restaurants\n",
      "\n",
      "\n",
      "\n",
      "Region: Centre-Val de Loire\n",
      "21 Starred Restaurants\n",
      "\n",
      "1 ⭐⭐ Restaurant\n",
      "\n",
      "20 ⭐ Restaurants\n",
      "\n",
      "\n",
      "\n",
      "Region: Normandy\n",
      "20 Starred Restaurants\n",
      "\n",
      "20 ⭐ Restaurants\n",
      "\n",
      "\n",
      "\n",
      "Region: Hauts-de-France\n",
      "17 Starred Restaurants\n",
      "\n",
      "2 ⭐⭐ Restaurants\n",
      "\n",
      "15 ⭐ Restaurants\n",
      "\n",
      "\n",
      "\n",
      "Region: Corse\n",
      "4 Starred Restaurants\n",
      "\n",
      "1 ⭐⭐ Restaurant\n",
      "\n",
      "3 ⭐ Restaurants\n",
      "\n",
      "\n",
      "\n"
     ]
    }
   ],
   "source": [
    "top_restaurants_by_region(all_france, 'all', 'all', display_restaurants=False)"
   ],
   "metadata": {
    "collapsed": false,
    "ExecuteTime": {
     "end_time": "2023-08-07T16:25:56.646997Z",
     "start_time": "2023-08-07T16:25:56.612950Z"
    }
   }
  }
 ],
 "metadata": {
  "kernelspec": {
   "display_name": "Python 3",
   "language": "python",
   "name": "python3"
  },
  "language_info": {
   "codemirror_mode": {
    "name": "ipython",
    "version": 2
   },
   "file_extension": ".py",
   "mimetype": "text/x-python",
   "name": "python",
   "nbconvert_exporter": "python",
   "pygments_lexer": "ipython2",
   "version": "2.7.6"
  }
 },
 "nbformat": 4,
 "nbformat_minor": 0
}
