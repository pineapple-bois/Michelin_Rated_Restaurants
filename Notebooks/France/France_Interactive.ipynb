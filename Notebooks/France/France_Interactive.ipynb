{
 "cells": [
  {
   "cell_type": "markdown",
   "source": [
    "# Michelin Rated Restaurants in France - Interactivity"
   ],
   "metadata": {
    "collapsed": false
   },
   "id": "702042ed5df43201"
  },
  {
   "cell_type": "code",
   "execution_count": 1,
   "outputs": [],
   "source": [
    "# Module import\n",
    "import pandas as pd\n",
    "import geopandas as gpd"
   ],
   "metadata": {
    "collapsed": false,
    "ExecuteTime": {
     "end_time": "2023-08-15T14:00:57.061243Z",
     "start_time": "2023-08-15T14:00:56.037153Z"
    }
   },
   "id": "46c3544a2f6c2c94"
  },
  {
   "cell_type": "code",
   "execution_count": 2,
   "outputs": [],
   "source": [
    "from Functions.functions_visualisation import dataframe_info, filter_dataframe\n",
    "from Functions.plotly_visual import plot_interactive_department"
   ],
   "metadata": {
    "collapsed": false,
    "ExecuteTime": {
     "end_time": "2023-08-15T14:01:01.828219Z",
     "start_time": "2023-08-15T14:00:59.856467Z"
    }
   },
   "id": "a7c376ed6d83ad41"
  },
  {
   "cell_type": "markdown",
   "source": [
    "----\n",
    "&nbsp;\n",
    "## All restaurants"
   ],
   "metadata": {
    "collapsed": false
   },
   "id": "8169d84f36760055"
  },
  {
   "cell_type": "code",
   "execution_count": 3,
   "id": "initial_id",
   "metadata": {
    "collapsed": true,
    "ExecuteTime": {
     "end_time": "2023-08-15T14:01:04.129298Z",
     "start_time": "2023-08-15T14:01:04.086425Z"
    }
   },
   "outputs": [
    {
     "name": "stdout",
     "output_type": "stream",
     "text": [
      "Unique Regions: 13\n",
      "Unique Departments: 92\n",
      "Unique Arrondissements: 242\n",
      "Unique Locations: 658\n",
      "\n",
      "Shape: (1033, 15)\n"
     ]
    },
    {
     "data": {
      "text/plain": "                                     name                    address  \\\n0  La Vague d'Or - Cheval Blanc St-Tropez  Plage de la Bouillabaisse   \n1                 René et Maxime Meilleur    Hameau de  Saint-Marcel   \n2                                     Kei         5 rue du Coq-Héron   \n\n                            location arrondissement department_num department  \\\n0                Saint-Tropez, 83990     Draguignan             83        Var   \n1  Saint-Martin-de-Belleville, 73440    Albertville             73     Savoie   \n2                       Paris, 75001   1st (Louvre)             75      Paris   \n\n    capital                      region price                     cuisine  \\\n0    Toulon  Provence-Alpes-Côte d'Azur  €€€€    Creative, Modern Cuisine   \n1  Chambéry        Auvergne-Rhône-Alpes  €€€€  Creative, Regional Cuisine   \n2     Paris               Île-de-France  €€€€    Modern Cuisine, Creative   \n\n                                                url             award  stars  \\\n0  https://www.chevalblanc.com/fr/maison/st-tropez/  3 MICHELIN Stars    3.0   \n1                    https://www.la-bouitte.com/fr/  3 MICHELIN Stars    3.0   \n2                    https://www.restaurant-kei.fr/  3 MICHELIN Stars    3.0   \n\n   longitude   latitude  \n0   6.626154  43.266585  \n1   6.513306  45.369046  \n2   2.342285  48.864395  ",
      "text/html": "<div>\n<style scoped>\n    .dataframe tbody tr th:only-of-type {\n        vertical-align: middle;\n    }\n\n    .dataframe tbody tr th {\n        vertical-align: top;\n    }\n\n    .dataframe thead th {\n        text-align: right;\n    }\n</style>\n<table border=\"1\" class=\"dataframe\">\n  <thead>\n    <tr style=\"text-align: right;\">\n      <th></th>\n      <th>name</th>\n      <th>address</th>\n      <th>location</th>\n      <th>arrondissement</th>\n      <th>department_num</th>\n      <th>department</th>\n      <th>capital</th>\n      <th>region</th>\n      <th>price</th>\n      <th>cuisine</th>\n      <th>url</th>\n      <th>award</th>\n      <th>stars</th>\n      <th>longitude</th>\n      <th>latitude</th>\n    </tr>\n  </thead>\n  <tbody>\n    <tr>\n      <th>0</th>\n      <td>La Vague d'Or - Cheval Blanc St-Tropez</td>\n      <td>Plage de la Bouillabaisse</td>\n      <td>Saint-Tropez, 83990</td>\n      <td>Draguignan</td>\n      <td>83</td>\n      <td>Var</td>\n      <td>Toulon</td>\n      <td>Provence-Alpes-Côte d'Azur</td>\n      <td>€€€€</td>\n      <td>Creative, Modern Cuisine</td>\n      <td>https://www.chevalblanc.com/fr/maison/st-tropez/</td>\n      <td>3 MICHELIN Stars</td>\n      <td>3.0</td>\n      <td>6.626154</td>\n      <td>43.266585</td>\n    </tr>\n    <tr>\n      <th>1</th>\n      <td>René et Maxime Meilleur</td>\n      <td>Hameau de  Saint-Marcel</td>\n      <td>Saint-Martin-de-Belleville, 73440</td>\n      <td>Albertville</td>\n      <td>73</td>\n      <td>Savoie</td>\n      <td>Chambéry</td>\n      <td>Auvergne-Rhône-Alpes</td>\n      <td>€€€€</td>\n      <td>Creative, Regional Cuisine</td>\n      <td>https://www.la-bouitte.com/fr/</td>\n      <td>3 MICHELIN Stars</td>\n      <td>3.0</td>\n      <td>6.513306</td>\n      <td>45.369046</td>\n    </tr>\n    <tr>\n      <th>2</th>\n      <td>Kei</td>\n      <td>5 rue du Coq-Héron</td>\n      <td>Paris, 75001</td>\n      <td>1st (Louvre)</td>\n      <td>75</td>\n      <td>Paris</td>\n      <td>Paris</td>\n      <td>Île-de-France</td>\n      <td>€€€€</td>\n      <td>Modern Cuisine, Creative</td>\n      <td>https://www.restaurant-kei.fr/</td>\n      <td>3 MICHELIN Stars</td>\n      <td>3.0</td>\n      <td>2.342285</td>\n      <td>48.864395</td>\n    </tr>\n  </tbody>\n</table>\n</div>"
     },
     "metadata": {},
     "output_type": "display_data"
    }
   ],
   "source": [
    "# All restaurants\n",
    "all_france = pd.read_csv(\"../../data/France/all_restaurants(arrondissements).csv\")\n",
    "dataframe_info(all_france)"
   ]
  },
  {
   "cell_type": "markdown",
   "source": [
    "----\n",
    "&nbsp;\n",
    "## GeoDataFrame (departmental level)"
   ],
   "metadata": {
    "collapsed": false
   },
   "id": "37713ad6a6a7ac8b"
  },
  {
   "cell_type": "code",
   "execution_count": 4,
   "outputs": [
    {
     "name": "stdout",
     "output_type": "stream",
     "text": [
      "GeoDataFrame.\n",
      "Unique Regions: 13\n",
      "Unique Departments: 96\n",
      "\n",
      "Shape: (96, 20)\n"
     ]
    },
    {
     "data": {
      "text/plain": "  code department          capital                region  bib_gourmand  \\\n0   01        Ain  Bourg-en-Bresse  Auvergne-Rhône-Alpes             6   \n1   02      Aisne             Laon       Hauts-de-France             0   \n2   03     Allier          Moulins  Auvergne-Rhône-Alpes             4   \n\n   1_star  2_star  3_star  total_stars  starred_restaurants  GDP_millions(€)  \\\n0       4       0       1            7                    5         16726.40   \n1       0       0       0            0                    0         12016.40   \n2       2       0       0            2                    2          8278.98   \n\n   GDP_per_capita(€)  poverty_rate(%)  average_annual_unemployment_rate(%)  \\\n0           25425.63             10.5                                  5.5   \n1           22699.26             18.0                                 10.5   \n2           24667.13             15.3                                  7.7   \n\n   average_net_hourly_wage(€)  municipal_population  \\\n0                       15.34              657856.0   \n1                       13.92              529374.0   \n2                       13.63              335628.0   \n\n   population_density(inhabitants/sq_km)  area(sq_km)  \\\n0                                  114.2      5760.56   \n1                                   71.9      7362.64   \n2                                   45.7      7344.16   \n\n                                           locations  \\\n0  {'1': [[46.3626315, 6.0258533], [46.0070045, 5...   \n1                  {'1': None, '2': None, '3': None}   \n2  {'1': [[46.1246273, 3.4192286], [46.3233297, 2...   \n\n                                            geometry  \n0  POLYGON ((4.78021 46.17668, 4.78024 46.18905, ...  \n1  POLYGON ((3.17296 50.01131, 3.17382 50.01186, ...  \n2  POLYGON ((3.03207 46.79491, 3.03424 46.79080, ...  ",
      "text/html": "<div>\n<style scoped>\n    .dataframe tbody tr th:only-of-type {\n        vertical-align: middle;\n    }\n\n    .dataframe tbody tr th {\n        vertical-align: top;\n    }\n\n    .dataframe thead th {\n        text-align: right;\n    }\n</style>\n<table border=\"1\" class=\"dataframe\">\n  <thead>\n    <tr style=\"text-align: right;\">\n      <th></th>\n      <th>code</th>\n      <th>department</th>\n      <th>capital</th>\n      <th>region</th>\n      <th>bib_gourmand</th>\n      <th>1_star</th>\n      <th>2_star</th>\n      <th>3_star</th>\n      <th>total_stars</th>\n      <th>starred_restaurants</th>\n      <th>GDP_millions(€)</th>\n      <th>GDP_per_capita(€)</th>\n      <th>poverty_rate(%)</th>\n      <th>average_annual_unemployment_rate(%)</th>\n      <th>average_net_hourly_wage(€)</th>\n      <th>municipal_population</th>\n      <th>population_density(inhabitants/sq_km)</th>\n      <th>area(sq_km)</th>\n      <th>locations</th>\n      <th>geometry</th>\n    </tr>\n  </thead>\n  <tbody>\n    <tr>\n      <th>0</th>\n      <td>01</td>\n      <td>Ain</td>\n      <td>Bourg-en-Bresse</td>\n      <td>Auvergne-Rhône-Alpes</td>\n      <td>6</td>\n      <td>4</td>\n      <td>0</td>\n      <td>1</td>\n      <td>7</td>\n      <td>5</td>\n      <td>16726.40</td>\n      <td>25425.63</td>\n      <td>10.5</td>\n      <td>5.5</td>\n      <td>15.34</td>\n      <td>657856.0</td>\n      <td>114.2</td>\n      <td>5760.56</td>\n      <td>{'1': [[46.3626315, 6.0258533], [46.0070045, 5...</td>\n      <td>POLYGON ((4.78021 46.17668, 4.78024 46.18905, ...</td>\n    </tr>\n    <tr>\n      <th>1</th>\n      <td>02</td>\n      <td>Aisne</td>\n      <td>Laon</td>\n      <td>Hauts-de-France</td>\n      <td>0</td>\n      <td>0</td>\n      <td>0</td>\n      <td>0</td>\n      <td>0</td>\n      <td>0</td>\n      <td>12016.40</td>\n      <td>22699.26</td>\n      <td>18.0</td>\n      <td>10.5</td>\n      <td>13.92</td>\n      <td>529374.0</td>\n      <td>71.9</td>\n      <td>7362.64</td>\n      <td>{'1': None, '2': None, '3': None}</td>\n      <td>POLYGON ((3.17296 50.01131, 3.17382 50.01186, ...</td>\n    </tr>\n    <tr>\n      <th>2</th>\n      <td>03</td>\n      <td>Allier</td>\n      <td>Moulins</td>\n      <td>Auvergne-Rhône-Alpes</td>\n      <td>4</td>\n      <td>2</td>\n      <td>0</td>\n      <td>0</td>\n      <td>2</td>\n      <td>2</td>\n      <td>8278.98</td>\n      <td>24667.13</td>\n      <td>15.3</td>\n      <td>7.7</td>\n      <td>13.63</td>\n      <td>335628.0</td>\n      <td>45.7</td>\n      <td>7344.16</td>\n      <td>{'1': [[46.1246273, 3.4192286], [46.3233297, 2...</td>\n      <td>POLYGON ((3.03207 46.79491, 3.03424 46.79080, ...</td>\n    </tr>\n  </tbody>\n</table>\n</div>"
     },
     "metadata": {},
     "output_type": "display_data"
    }
   ],
   "source": [
    "# Load GeoJSON departmental data\n",
    "geo_df = gpd.read_file(\"../../data/France/department_restaurants.geojson\")\n",
    "dataframe_info(geo_df)"
   ],
   "metadata": {
    "collapsed": false,
    "ExecuteTime": {
     "end_time": "2023-08-15T14:01:07.880833Z",
     "start_time": "2023-08-15T14:01:07.198332Z"
    }
   },
   "id": "43bce451ff068b19"
  },
  {
   "cell_type": "markdown",
   "source": [
    "----\n",
    "&nbsp;\n",
    "## Building interactive function"
   ],
   "metadata": {
    "collapsed": false
   },
   "id": "f83368a707952952"
  },
  {
   "cell_type": "code",
   "execution_count": 5,
   "outputs": [
    {
     "data": {
      "text/plain": "<IPython.lib.display.IFrame at 0x7fb90af76df0>",
      "text/html": "\n        <iframe\n            width=\"100%\"\n            height=\"650\"\n            src=\"http://127.0.0.1:8050/\"\n            frameborder=\"0\"\n            allowfullscreen\n            \n        ></iframe>\n        "
     },
     "metadata": {},
     "output_type": "display_data"
    }
   ],
   "source": [
    "import dash\n",
    "from dash import dcc, html\n",
    "from dash.dependencies import Input, Output\n",
    "\n",
    "# Initialize the Dash app\n",
    "app = dash.Dash(__name__)\n",
    "\n",
    "# Use geo_df to get unique regions and departments for the initial dropdowns\n",
    "unique_regions = geo_df['region'].unique()\n",
    "initial_departments = geo_df[geo_df['region'] == unique_regions[0]][['department', 'code']].drop_duplicates().to_dict('records')\n",
    "initial_options = [{'label': f\"{dept['department']} ({dept['code']})\", 'value': dept['department']} for dept in initial_departments]\n",
    "dept_to_code = geo_df.drop_duplicates(subset='department').set_index('department')['code'].to_dict()\n",
    "\n",
    "app.layout = html.Div([\n",
    "    dcc.Dropdown(\n",
    "        id='region-dropdown',\n",
    "        options=[{'label': region, 'value': region} for region in unique_regions],\n",
    "        value=unique_regions[0]  # default value\n",
    "    ),\n",
    "    dcc.Dropdown(\n",
    "        id='department-dropdown',\n",
    "        options=initial_options,\n",
    "        value=initial_departments[0]['department']  # default value\n",
    "    ),\n",
    "    dcc.Graph(id='map-display')\n",
    "])\n",
    "\n",
    "@app.callback(\n",
    "    Output('department-dropdown', 'options'),\n",
    "    Input('region-dropdown', 'value')\n",
    ")\n",
    "def update_department_dropdown(selected_region):\n",
    "    departments = geo_df[geo_df['region'] == selected_region][['department', 'code']].drop_duplicates().to_dict('records')\n",
    "    return [{'label': f\"{dept['department']} ({dept['code']})\", 'value': dept['department']} for dept in departments]\n",
    "\n",
    "@app.callback(\n",
    "    Output('map-display', 'figure'),\n",
    "    Input('department-dropdown', 'value')\n",
    ")\n",
    "def update_map(selected_department):\n",
    "    department_code = dept_to_code[selected_department]\n",
    "    return plot_interactive_department(all_france, geo_df, department_code)\n",
    "\n",
    "\n",
    "if __name__ == '__main__':\n",
    "    app.run_server(debug=True)\n"
   ],
   "metadata": {
    "collapsed": false,
    "ExecuteTime": {
     "end_time": "2023-08-15T14:01:13.056154Z",
     "start_time": "2023-08-15T14:01:12.843031Z"
    }
   },
   "id": "dd92498228db8a9b"
  }
 ],
 "metadata": {
  "kernelspec": {
   "display_name": "Python 3",
   "language": "python",
   "name": "python3"
  },
  "language_info": {
   "codemirror_mode": {
    "name": "ipython",
    "version": 2
   },
   "file_extension": ".py",
   "mimetype": "text/x-python",
   "name": "python",
   "nbconvert_exporter": "python",
   "pygments_lexer": "ipython2",
   "version": "2.7.6"
  }
 },
 "nbformat": 4,
 "nbformat_minor": 5
}
